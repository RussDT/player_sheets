{
 "cells": [
  {
   "cell_type": "code",
   "execution_count": 1,
   "id": "8ee786e2-1f68-4ead-90a6-337a25a94c51",
   "metadata": {},
   "outputs": [
    {
     "name": "stdout",
     "output_type": "stream",
     "text": [
      "2000\n",
      "2001\n",
      "2002\n",
      "2003\n",
      "2004\n",
      "2005\n",
      "2006\n",
      "2007\n",
      "2008\n",
      "2009\n",
      "2010\n",
      "2011\n",
      "2012\n",
      "2013\n",
      "2014\n",
      "2015\n",
      "2016\n",
      "2017\n",
      "2018\n",
      "2019\n",
      "2020\n",
      "2021\n",
      "2022\n",
      "2023\n",
      "2024\n",
      "2025\n"
     ]
    }
   ],
   "source": [
    "import requests\n",
    "import pandas as pd\n",
    "import time\n",
    "\n",
    "# Define the base URL for the SWAR API\n",
    "def scrape_teams(ps=False):\n",
    "    base_url = \"https://api.pbpstats.com/get-totals/nba\"\n",
    "    stype=\"Regular Season\"\n",
    "    carry=\"\"\n",
    "    if ps == True:\n",
    "        stype=\"Playoffs\"\n",
    "        carry=\"ps\"\n",
    "    \n",
    "    # Set up parameters\n",
    "    params = {\n",
    "        \"SeasonType\": stype,\n",
    "        \"Season\": \"\",  # This will be dynamically filled for each season\n",
    "        \"Type\": \"Team\",\n",
    "    }\n",
    "    \n",
    "    # Define the range of seasons you want data for\n",
    "    start_season = 2000  # Example start season\n",
    "    end_season = 2025  # Example end season\n",
    "    \n",
    "    # Empty list to collect all data\n",
    "    all_data = []\n",
    "    \n",
    "    # Loop through each season to fetch possessions data\n",
    "    for season in range(start_season, end_season + 1):\n",
    "        params[\"Season\"] = f\"{season}-{str(season + 1)[-2:]}\"\n",
    "        \n",
    "        \n",
    "        # Make a request to the API\n",
    "        response = requests.get(base_url, params=params)\n",
    "        data = response.json()\n",
    "        \n",
    "        # Process each team in the season\n",
    "        df=pd.DataFrame(data['multi_row_table_data'])\n",
    "        df['season']=season\n",
    "        df['year']=season+1\n",
    "        print(season)\n",
    "        time.sleep(2)\n",
    "        all_data.append(df)\n",
    "    \n",
    "    # Convert collected data into a DataFrame\n",
    "    df = pd.concat(all_data)\n",
    "\n",
    "    for team_id in df['TeamId'].unique().tolist():\n",
    "        teamdf=df[df['TeamId']==team_id]\n",
    "        teamdf.to_csv(team_id+carry+\".csv\",index=False)\n",
    "\n",
    "# Display a sample of the data\n",
    "scrape_teams(ps=True)\n"
   ]
  },
  {
   "cell_type": "code",
   "execution_count": null,
   "id": "b8248317-01d2-4115-b4d0-eb11e0b62ac9",
   "metadata": {},
   "outputs": [],
   "source": []
  }
 ],
 "metadata": {
  "kernelspec": {
   "display_name": "Python 3 (ipykernel)",
   "language": "python",
   "name": "python3"
  },
  "language_info": {
   "codemirror_mode": {
    "name": "ipython",
    "version": 3
   },
   "file_extension": ".py",
   "mimetype": "text/x-python",
   "name": "python",
   "nbconvert_exporter": "python",
   "pygments_lexer": "ipython3",
   "version": "3.10.12"
  }
 },
 "nbformat": 4,
 "nbformat_minor": 5
}
