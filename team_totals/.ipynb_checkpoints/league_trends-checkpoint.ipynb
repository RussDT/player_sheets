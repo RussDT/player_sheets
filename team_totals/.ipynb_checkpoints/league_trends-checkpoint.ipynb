{
 "cells": [
  {
   "cell_type": "code",
   "execution_count": 27,
   "id": "5b31acca-e204-4c14-8c7f-3d17b14c57a8",
   "metadata": {},
   "outputs": [
    {
     "data": {
      "application/vnd.plotly.v1+json": {
       "config": {
        "plotlyServerURL": "https://plot.ly"
       },
       "data": [
        {
         "hovertemplate": "Team: SEA<br>Year: %{x}<br>FG3A: %{y:.2f}<extra></extra>",
         "marker": {
          "color": "#1D428A",
          "line": {
           "color": "white",
           "width": 1.5
          },
          "size": 27
         },
         "mode": "markers+text",
         "name": "SEA",
         "text": [
          "SEA",
          "SEA",
          "SEA",
          "SEA",
          "SEA",
          "SEA",
          "SEA",
          "SEA"
         ],
         "textfont": {
          "size": 7
         },
         "type": "scatter",
         "x": [
          2001,
          2002,
          2003,
          2004,
          2005,
          2006,
          2007,
          2008
         ],
         "y": [
          null,
          null,
          null,
          null,
          null,
          null,
          null,
          null
         ]
        },
        {
         "hovertemplate": "Team: DET<br>Year: %{x}<br>FG3A: %{y:.2f}<extra></extra>",
         "marker": {
          "color": "#1D42BA",
          "line": {
           "color": "white",
           "width": 1.5
          },
          "size": 27
         },
         "mode": "markers+text",
         "name": "DET",
         "text": [
          "DET",
          "DET",
          "DET",
          "DET",
          "DET",
          "DET",
          "DET",
          "DET",
          "DET",
          "DET",
          "DET",
          "DET",
          "DET",
          "DET",
          "DET",
          "DET",
          "DET",
          "DET",
          "DET",
          "DET",
          "DET",
          "DET",
          "DET",
          "DET",
          "DET"
         ],
         "textfont": {
          "size": 7
         },
         "type": "scatter",
         "x": [
          2001,
          2002,
          2003,
          2004,
          2005,
          2006,
          2007,
          2008,
          2009,
          2010,
          2011,
          2012,
          2013,
          2014,
          2015,
          2016,
          2017,
          2018,
          2019,
          2020,
          2021,
          2022,
          2023,
          2024,
          2025
         ],
         "y": [
          null,
          null,
          null,
          null,
          null,
          null,
          null,
          null,
          null,
          null,
          null,
          null,
          null,
          20.066040132080264,
          26.391939025965637,
          27.04608410979602,
          24.271229404309253,
          29.73311615085829,
          35.23021849154426,
          33.14891655140618,
          33.230510375771175,
          34.86058223805429,
          32.30470173733447,
          31.466924658362558,
          36.652739090065
         ]
        },
        {
         "hovertemplate": "Team: CHH<br>Year: %{x}<br>FG3A: %{y:.2f}<extra></extra>",
         "marker": {
          "color": "#1D428A",
          "line": {
           "color": "white",
           "width": 1.5
          },
          "size": 27
         },
         "mode": "markers+text",
         "name": "CHH",
         "text": [
          "CHH",
          "CHH"
         ],
         "textfont": {
          "size": 7
         },
         "type": "scatter",
         "x": [
          2001,
          2002
         ],
         "y": [
          null,
          null
         ]
        },
        {
         "hovertemplate": "Team: UTA<br>Year: %{x}<br>FG3A: %{y:.2f}<extra></extra>",
         "marker": {
          "color": "#00471B",
          "line": {
           "color": "white",
           "width": 1.5
          },
          "size": 27
         },
         "mode": "markers+text",
         "name": "UTA",
         "text": [
          "UTA",
          "UTA",
          "UTA",
          "UTA",
          "UTA",
          "UTA",
          "UTA",
          "UTA",
          "UTA",
          "UTA",
          "UTA",
          "UTA",
          "UTA",
          "UTA",
          "UTA",
          "UTA",
          "UTA",
          "UTA",
          "UTA",
          "UTA",
          "UTA",
          "UTA",
          "UTA",
          "UTA",
          "UTA"
         ],
         "textfont": {
          "size": 7
         },
         "type": "scatter",
         "x": [
          2001,
          2002,
          2003,
          2004,
          2005,
          2006,
          2007,
          2008,
          2009,
          2010,
          2011,
          2012,
          2013,
          2014,
          2015,
          2016,
          2017,
          2018,
          2019,
          2020,
          2021,
          2022,
          2023,
          2024,
          2025
         ],
         "y": [
          null,
          null,
          null,
          null,
          null,
          null,
          null,
          null,
          null,
          null,
          null,
          null,
          null,
          20.73635765943458,
          23.79107667646273,
          25.652459016393443,
          28.077582794563927,
          30.49930826311156,
          33.570052961001444,
          35.38847816989817,
          43.06965104963159,
          41.277763913151986,
          37.20734782086685,
          36.14297790121966,
          38.654033041788146
         ]
        },
        {
         "hovertemplate": "Team: VAN<br>Year: %{x}<br>FG3A: %{y:.2f}<extra></extra>",
         "marker": {
          "color": "#1D428A",
          "line": {
           "color": "white",
           "width": 1.5
          },
          "size": 27
         },
         "mode": "markers+text",
         "name": "VAN",
         "text": [
          "VAN"
         ],
         "textfont": {
          "size": 7
         },
         "type": "scatter",
         "x": [
          2001
         ],
         "y": [
          null
         ]
        },
        {
         "hovertemplate": "Team: TOR<br>Year: %{x}<br>FG3A: %{y:.2f}<extra></extra>",
         "marker": {
          "color": "#000000",
          "line": {
           "color": "white",
           "width": 1.5
          },
          "size": 27
         },
         "mode": "markers+text",
         "name": "TOR",
         "text": [
          "TOR",
          "TOR",
          "TOR",
          "TOR",
          "TOR",
          "TOR",
          "TOR",
          "TOR",
          "TOR",
          "TOR",
          "TOR",
          "TOR",
          "TOR",
          "TOR",
          "TOR",
          "TOR",
          "TOR",
          "TOR",
          "TOR",
          "TOR",
          "TOR",
          "TOR",
          "TOR",
          "TOR",
          "TOR"
         ],
         "textfont": {
          "size": 7
         },
         "type": "scatter",
         "x": [
          2001,
          2002,
          2003,
          2004,
          2005,
          2006,
          2007,
          2008,
          2009,
          2010,
          2011,
          2012,
          2013,
          2014,
          2015,
          2016,
          2017,
          2018,
          2019,
          2020,
          2021,
          2022,
          2023,
          2024,
          2025
         ],
         "y": [
          null,
          null,
          null,
          null,
          null,
          null,
          null,
          null,
          null,
          null,
          null,
          null,
          null,
          24.909043659043657,
          26.628748707342297,
          24.84754119631504,
          25.371806279394942,
          33.37857847976308,
          33.24934005279577,
          36.34006550218341,
          39.445450745436816,
          35.1,
          32.516097077761266,
          32.90862759373862,
          32.72475155997227
         ]
        },
        {
         "hovertemplate": "Team: WAS<br>Year: %{x}<br>FG3A: %{y:.2f}<extra></extra>",
         "marker": {
          "color": "#E31837",
          "line": {
           "color": "white",
           "width": 1.5
          },
          "size": 27
         },
         "mode": "markers+text",
         "name": "WAS",
         "text": [
          "WAS",
          "WAS",
          "WAS",
          "WAS",
          "WAS",
          "WAS",
          "WAS",
          "WAS",
          "WAS",
          "WAS",
          "WAS",
          "WAS",
          "WAS",
          "WAS",
          "WAS",
          "WAS",
          "WAS",
          "WAS",
          "WAS",
          "WAS",
          "WAS",
          "WAS",
          "WAS",
          "WAS",
          "WAS"
         ],
         "textfont": {
          "size": 7
         },
         "type": "scatter",
         "x": [
          2001,
          2002,
          2003,
          2004,
          2005,
          2006,
          2007,
          2008,
          2009,
          2010,
          2011,
          2012,
          2013,
          2014,
          2015,
          2016,
          2017,
          2018,
          2019,
          2020,
          2021,
          2022,
          2023,
          2024,
          2025
         ],
         "y": [
          null,
          null,
          null,
          null,
          null,
          null,
          null,
          null,
          null,
          null,
          null,
          null,
          null,
          21.646341463414632,
          17.60581336053034,
          24.292539507533995,
          25.03391293624368,
          26.87028564362557,
          32.18241810040066,
          31.37123745819398,
          27.528015820698748,
          31.092957049139745,
          31.87109422864845,
          34.452192412244415,
          36.94547134935305
         ]
        },
        {
         "hovertemplate": "Team: CLE<br>Year: %{x}<br>FG3A: %{y:.2f}<extra></extra>",
         "marker": {
          "color": "#041E42",
          "line": {
           "color": "white",
           "width": 1.5
          },
          "size": 27
         },
         "mode": "markers+text",
         "name": "CLE",
         "text": [
          "CLE",
          "CLE",
          "CLE",
          "CLE",
          "CLE",
          "CLE",
          "CLE",
          "CLE",
          "CLE",
          "CLE",
          "CLE",
          "CLE",
          "CLE",
          "CLE",
          "CLE",
          "CLE",
          "CLE",
          "CLE",
          "CLE",
          "CLE",
          "CLE",
          "CLE",
          "CLE",
          "CLE",
          "CLE"
         ],
         "textfont": {
          "size": 7
         },
         "type": "scatter",
         "x": [
          2001,
          2002,
          2003,
          2004,
          2005,
          2006,
          2007,
          2008,
          2009,
          2010,
          2011,
          2012,
          2013,
          2014,
          2015,
          2016,
          2017,
          2018,
          2019,
          2020,
          2021,
          2022,
          2023,
          2024,
          2025
         ],
         "y": [
          null,
          null,
          null,
          null,
          null,
          null,
          null,
          null,
          null,
          null,
          null,
          null,
          null,
          21.0688591983556,
          29.32829992189534,
          31.27253992787223,
          34.65519391445317,
          32.487059403500126,
          29.771848896646304,
          31.86085885793443,
          30.125228647812015,
          33.72677046710196,
          32.476166583040644,
          37.45188128647709,
          40.50094517958412
         ]
        },
        {
         "hovertemplate": "Team: CHI<br>Year: %{x}<br>FG3A: %{y:.2f}<extra></extra>",
         "marker": {
          "color": "#000000",
          "line": {
           "color": "white",
           "width": 1.5
          },
          "size": 27
         },
         "mode": "markers+text",
         "name": "CHI",
         "text": [
          "CHI",
          "CHI",
          "CHI",
          "CHI",
          "CHI",
          "CHI",
          "CHI",
          "CHI",
          "CHI",
          "CHI",
          "CHI",
          "CHI",
          "CHI",
          "CHI",
          "CHI",
          "CHI",
          "CHI",
          "CHI",
          "CHI",
          "CHI",
          "CHI",
          "CHI",
          "CHI",
          "CHI",
          "CHI"
         ],
         "textfont": {
          "size": 7
         },
         "type": "scatter",
         "x": [
          2001,
          2002,
          2003,
          2004,
          2005,
          2006,
          2007,
          2008,
          2009,
          2010,
          2011,
          2012,
          2013,
          2014,
          2015,
          2016,
          2017,
          2018,
          2019,
          2020,
          2021,
          2022,
          2023,
          2024,
          2025
         ],
         "y": [
          null,
          null,
          null,
          null,
          null,
          null,
          null,
          null,
          null,
          null,
          null,
          null,
          null,
          19.32706318717711,
          23.472668810289388,
          21.89060939060939,
          23.1216062634171,
          31.237745098039216,
          25.789601554907676,
          34.77068413835136,
          33.878116343490305,
          29.098966026587888,
          28.778115501519757,
          32.55756375340431,
          41.13289760348584
         ]
        },
        {
         "hovertemplate": "Team: DAL<br>Year: %{x}<br>FG3A: %{y:.2f}<extra></extra>",
         "marker": {
          "color": "#002B5E",
          "line": {
           "color": "white",
           "width": 1.5
          },
          "size": 27
         },
         "mode": "markers+text",
         "name": "DAL",
         "text": [
          "DAL",
          "DAL",
          "DAL",
          "DAL",
          "DAL",
          "DAL",
          "DAL",
          "DAL",
          "DAL",
          "DAL",
          "DAL",
          "DAL",
          "DAL",
          "DAL",
          "DAL",
          "DAL",
          "DAL",
          "DAL",
          "DAL",
          "DAL",
          "DAL",
          "DAL",
          "DAL",
          "DAL",
          "DAL"
         ],
         "textfont": {
          "size": 7
         },
         "type": "scatter",
         "x": [
          2001,
          2002,
          2003,
          2004,
          2005,
          2006,
          2007,
          2008,
          2009,
          2010,
          2011,
          2012,
          2013,
          2014,
          2015,
          2016,
          2017,
          2018,
          2019,
          2020,
          2021,
          2022,
          2023,
          2024,
          2025
         ],
         "y": [
          null,
          null,
          null,
          null,
          null,
          null,
          null,
          null,
          null,
          null,
          null,
          null,
          null,
          23.904737646459502,
          26.10330992978937,
          29.459119496855347,
          32.2509128847157,
          33.773087071240106,
          36.53846153846154,
          40.89047430307835,
          38.855848201642594,
          38.91500444670309,
          41.59861420440485,
          39.23514462059784,
          35.34043538675313
         ]
        },
        {
         "hovertemplate": "Team: DEN<br>Year: %{x}<br>FG3A: %{y:.2f}<extra></extra>",
         "marker": {
          "color": "#FEC524",
          "line": {
           "color": "white",
           "width": 1.5
          },
          "size": 27
         },
         "mode": "markers+text",
         "name": "DEN",
         "text": [
          "DEN",
          "DEN",
          "DEN",
          "DEN",
          "DEN",
          "DEN",
          "DEN",
          "DEN",
          "DEN",
          "DEN",
          "DEN",
          "DEN",
          "DEN",
          "DEN",
          "DEN",
          "DEN",
          "DEN",
          "DEN",
          "DEN",
          "DEN",
          "DEN",
          "DEN",
          "DEN",
          "DEN",
          "DEN"
         ],
         "textfont": {
          "size": 7
         },
         "type": "scatter",
         "x": [
          2001,
          2002,
          2003,
          2004,
          2005,
          2006,
          2007,
          2008,
          2009,
          2010,
          2011,
          2012,
          2013,
          2014,
          2015,
          2016,
          2017,
          2018,
          2019,
          2020,
          2021,
          2022,
          2023,
          2024,
          2025
         ],
         "y": [
          null,
          null,
          null,
          null,
          null,
          null,
          null,
          null,
          null,
          null,
          null,
          null,
          null,
          24.048612816106065,
          25.36512295593559,
          24.400351626271505,
          28.958001714215747,
          31.327980234712786,
          31.756422924901187,
          30.954690314535124,
          34.56408816509897,
          36.24276745044934,
          31.47988682494772,
          32.016008004002,
          30.323757409940722
         ]
        },
        {
         "hovertemplate": "Team: BOS<br>Year: %{x}<br>FG3A: %{y:.2f}<extra></extra>",
         "marker": {
          "color": "#BA9653",
          "line": {
           "color": "white",
           "width": 1.5
          },
          "size": 27
         },
         "mode": "markers+text",
         "name": "BOS",
         "text": [
          "BOS",
          "BOS",
          "BOS",
          "BOS",
          "BOS",
          "BOS",
          "BOS",
          "BOS",
          "BOS",
          "BOS",
          "BOS",
          "BOS",
          "BOS",
          "BOS",
          "BOS",
          "BOS",
          "BOS",
          "BOS",
          "BOS",
          "BOS",
          "BOS",
          "BOS",
          "BOS",
          "BOS",
          "BOS"
         ],
         "textfont": {
          "size": 7
         },
         "type": "scatter",
         "x": [
          2001,
          2002,
          2003,
          2004,
          2005,
          2006,
          2007,
          2008,
          2009,
          2010,
          2011,
          2012,
          2013,
          2014,
          2015,
          2016,
          2017,
          2018,
          2019,
          2020,
          2021,
          2022,
          2023,
          2024,
          2025
         ],
         "y": [
          null,
          null,
          null,
          null,
          null,
          null,
          null,
          null,
          null,
          null,
          null,
          null,
          null,
          22.324080051646224,
          25.24041463719246,
          26.15065315590282,
          34.24109931292942,
          31.200701139351445,
          34.15841584158416,
          34.27980702963473,
          36.50306748466258,
          37.72930094199306,
          42.34267006184067,
          43.040791100123606,
          49.62352941176471
         ]
        },
        {
         "hovertemplate": "Team: GSW<br>Year: %{x}<br>FG3A: %{y:.2f}<extra></extra>",
         "marker": {
          "color": "#FFC72C",
          "line": {
           "color": "white",
           "width": 1.5
          },
          "size": 27
         },
         "mode": "markers+text",
         "name": "GSW",
         "text": [
          "GSW",
          "GSW",
          "GSW",
          "GSW",
          "GSW",
          "GSW",
          "GSW",
          "GSW",
          "GSW",
          "GSW",
          "GSW",
          "GSW",
          "GSW",
          "GSW",
          "GSW",
          "GSW",
          "GSW",
          "GSW",
          "GSW",
          "GSW",
          "GSW",
          "GSW",
          "GSW",
          "GSW",
          "GSW"
         ],
         "textfont": {
          "size": 7
         },
         "type": "scatter",
         "x": [
          2001,
          2002,
          2003,
          2004,
          2005,
          2006,
          2007,
          2008,
          2009,
          2010,
          2011,
          2012,
          2013,
          2014,
          2015,
          2016,
          2017,
          2018,
          2019,
          2020,
          2021,
          2022,
          2023,
          2024,
          2025
         ],
         "y": [
          null,
          null,
          null,
          null,
          null,
          null,
          null,
          null,
          null,
          null,
          null,
          null,
          null,
          25.320074580484775,
          27.135862913096695,
          31.217632181139347,
          30.94576639690784,
          28.711671312568175,
          33.65911799761621,
          30.680960289898838,
          37.628170534268754,
          39.785740672330995,
          41.78470254957507,
          38.62728483234475,
          41.74826844996417
         ]
        },
        {
         "hovertemplate": "Team: HOU<br>Year: %{x}<br>FG3A: %{y:.2f}<extra></extra>",
         "marker": {
          "color": "#000000",
          "line": {
           "color": "white",
           "width": 1.5
          },
          "size": 27
         },
         "mode": "markers+text",
         "name": "HOU",
         "text": [
          "HOU",
          "HOU",
          "HOU",
          "HOU",
          "HOU",
          "HOU",
          "HOU",
          "HOU",
          "HOU",
          "HOU",
          "HOU",
          "HOU",
          "HOU",
          "HOU",
          "HOU",
          "HOU",
          "HOU",
          "HOU",
          "HOU",
          "HOU",
          "HOU",
          "HOU",
          "HOU",
          "HOU",
          "HOU"
         ],
         "textfont": {
          "size": 7
         },
         "type": "scatter",
         "x": [
          2001,
          2002,
          2003,
          2004,
          2005,
          2006,
          2007,
          2008,
          2009,
          2010,
          2011,
          2012,
          2013,
          2014,
          2015,
          2016,
          2017,
          2018,
          2019,
          2020,
          2021,
          2022,
          2023,
          2024,
          2025
         ],
         "y": [
          null,
          null,
          null,
          null,
          null,
          null,
          null,
          null,
          null,
          null,
          null,
          null,
          null,
          27.101990049751244,
          33.34577578698519,
          31.121759429905392,
          39.884183858125226,
          42.95617727160188,
          45.76875768757687,
          43.25507361719061,
          39.931693989071036,
          38.087228162922024,
          31.861313868613138,
          35.93598448108632,
          36.064792758456406
         ]
        },
        {
         "hovertemplate": "Team: LAC<br>Year: %{x}<br>FG3A: %{y:.2f}<extra></extra>",
         "marker": {
          "color": "#1D428A",
          "line": {
           "color": "white",
           "width": 1.5
          },
          "size": 27
         },
         "mode": "markers+text",
         "name": "LAC",
         "text": [
          "LAC",
          "LAC",
          "LAC",
          "LAC",
          "LAC",
          "LAC",
          "LAC",
          "LAC",
          "LAC",
          "LAC",
          "LAC",
          "LAC",
          "LAC",
          "LAC",
          "LAC",
          "LAC",
          "LAC",
          "LAC",
          "LAC",
          "LAC",
          "LAC",
          "LAC",
          "LAC",
          "LAC",
          "LAC"
         ],
         "textfont": {
          "size": 7
         },
         "type": "scatter",
         "x": [
          2001,
          2002,
          2003,
          2004,
          2005,
          2006,
          2007,
          2008,
          2009,
          2010,
          2011,
          2012,
          2013,
          2014,
          2015,
          2016,
          2017,
          2018,
          2019,
          2020,
          2021,
          2022,
          2023,
          2024,
          2025
         ],
         "y": [
          null,
          null,
          null,
          null,
          null,
          null,
          null,
          null,
          null,
          null,
          null,
          null,
          null,
          24.717123459894392,
          28.072412034676187,
          27.392120075046904,
          28.175200803212853,
          26.888698420472632,
          24.991150442477878,
          32.585181179015684,
          35.5031267765776,
          34.503140007388254,
          33.4720861900098,
          33.818407960199,
          34.52008660091412
         ]
        },
        {
         "hovertemplate": "Team: LAL<br>Year: %{x}<br>FG3A: %{y:.2f}<extra></extra>",
         "marker": {
          "color": "#FDB927",
          "line": {
           "color": "white",
           "width": 1.5
          },
          "size": 27
         },
         "mode": "markers+text",
         "name": "LAL",
         "text": [
          "LAL",
          "LAL",
          "LAL",
          "LAL",
          "LAL",
          "LAL",
          "LAL",
          "LAL",
          "LAL",
          "LAL",
          "LAL",
          "LAL",
          "LAL",
          "LAL",
          "LAL",
          "LAL",
          "LAL",
          "LAL",
          "LAL",
          "LAL",
          "LAL",
          "LAL",
          "LAL",
          "LAL",
          "LAL"
         ],
         "textfont": {
          "size": 7
         },
         "type": "scatter",
         "x": [
          2001,
          2002,
          2003,
          2004,
          2005,
          2006,
          2007,
          2008,
          2009,
          2010,
          2011,
          2012,
          2013,
          2014,
          2015,
          2016,
          2017,
          2018,
          2019,
          2020,
          2021,
          2022,
          2023,
          2024,
          2025
         ],
         "y": [
          null,
          null,
          null,
          null,
          null,
          null,
          null,
          null,
          null,
          null,
          null,
          null,
          null,
          24.85018955607191,
          19.589457678661937,
          25.422446406052963,
          25.91182610831389,
          28.5133357253917,
          29.775017576751818,
          31.091388156982386,
          31.29175946547884,
          33.803827751196174,
          30.322427690848745,
          30.666507690473352,
          34.28147415285679
         ]
        },
        {
         "hovertemplate": "Team: ATL<br>Year: %{x}<br>FG3A: %{y:.2f}<extra></extra>",
         "marker": {
          "color": "#C1D32F",
          "line": {
           "color": "white",
           "width": 1.5
          },
          "size": 27
         },
         "mode": "markers+text",
         "name": "ATL",
         "text": [
          "ATL",
          "ATL",
          "ATL",
          "ATL",
          "ATL",
          "ATL",
          "ATL",
          "ATL",
          "ATL",
          "ATL",
          "ATL",
          "ATL",
          "ATL",
          "ATL",
          "ATL",
          "ATL",
          "ATL",
          "ATL",
          "ATL",
          "ATL",
          "ATL",
          "ATL",
          "ATL",
          "ATL",
          "ATL"
         ],
         "textfont": {
          "size": 7
         },
         "type": "scatter",
         "x": [
          2001,
          2002,
          2003,
          2004,
          2005,
          2006,
          2007,
          2008,
          2009,
          2010,
          2011,
          2012,
          2013,
          2014,
          2015,
          2016,
          2017,
          2018,
          2019,
          2020,
          2021,
          2022,
          2023,
          2024,
          2025
         ],
         "y": [
          null,
          null,
          null,
          null,
          null,
          null,
          null,
          null,
          null,
          null,
          null,
          null,
          null,
          26.811961479979725,
          27.678456591639872,
          28.86214170492617,
          26.412062785811397,
          31.35321666255854,
          35.10761397824577,
          34.51921703100443,
          33.547486033519554,
          34.831460674157306,
          29.796598073034374,
          37.078786425230845,
          35.225982284805816
         ]
        },
        {
         "hovertemplate": "Team: MIA<br>Year: %{x}<br>FG3A: %{y:.2f}<extra></extra>",
         "marker": {
          "color": "#F9A01B",
          "line": {
           "color": "white",
           "width": 1.5
          },
          "size": 27
         },
         "mode": "markers+text",
         "name": "MIA",
         "text": [
          "MIA",
          "MIA",
          "MIA",
          "MIA",
          "MIA",
          "MIA",
          "MIA",
          "MIA",
          "MIA",
          "MIA",
          "MIA",
          "MIA",
          "MIA",
          "MIA",
          "MIA",
          "MIA",
          "MIA",
          "MIA",
          "MIA",
          "MIA",
          "MIA",
          "MIA",
          "MIA",
          "MIA",
          "MIA"
         ],
         "textfont": {
          "size": 7
         },
         "type": "scatter",
         "x": [
          2001,
          2002,
          2003,
          2004,
          2005,
          2006,
          2007,
          2008,
          2009,
          2010,
          2011,
          2012,
          2013,
          2014,
          2015,
          2016,
          2017,
          2018,
          2019,
          2020,
          2021,
          2022,
          2023,
          2024,
          2025
         ],
         "y": [
          null,
          null,
          null,
          null,
          null,
          null,
          null,
          null,
          null,
          null,
          null,
          null,
          null,
          24.01838476690742,
          22.043582248206217,
          19.02558169430518,
          28.1015873015873,
          31.383844708829056,
          32.72592957399655,
          35.368190528332875,
          37.0380898237635,
          36.7597345686741,
          35.69015142034789,
          34.67084639498432,
          39.032025042138216
         ]
        },
        {
         "hovertemplate": "Team: MIL<br>Year: %{x}<br>FG3A: %{y:.2f}<extra></extra>",
         "marker": {
          "color": "#EEE1C6",
          "line": {
           "color": "white",
           "width": 1.5
          },
          "size": 27
         },
         "mode": "markers+text",
         "name": "MIL",
         "text": [
          "MIL",
          "MIL",
          "MIL",
          "MIL",
          "MIL",
          "MIL",
          "MIL",
          "MIL",
          "MIL",
          "MIL",
          "MIL",
          "MIL",
          "MIL",
          "MIL",
          "MIL",
          "MIL",
          "MIL",
          "MIL",
          "MIL",
          "MIL",
          "MIL",
          "MIL",
          "MIL",
          "MIL",
          "MIL"
         ],
         "textfont": {
          "size": 7
         },
         "type": "scatter",
         "x": [
          2001,
          2002,
          2003,
          2004,
          2005,
          2006,
          2007,
          2008,
          2009,
          2010,
          2011,
          2012,
          2013,
          2014,
          2015,
          2016,
          2017,
          2018,
          2019,
          2020,
          2021,
          2022,
          2023,
          2024,
          2025
         ],
         "y": [
          null,
          null,
          null,
          null,
          null,
          null,
          null,
          null,
          null,
          null,
          null,
          null,
          null,
          20.208197787898502,
          19.066988686920045,
          16.250954441333672,
          24.85947879407256,
          25.258954199425933,
          36.72799718739013,
          36.69724770642202,
          35.95581301360636,
          38.037180106228874,
          39.40874955298605,
          37.63713080168776,
          36.51603498542274
         ]
        },
        {
         "hovertemplate": "Team: MIN<br>Year: %{x}<br>FG3A: %{y:.2f}<extra></extra>",
         "marker": {
          "color": "#236192",
          "line": {
           "color": "white",
           "width": 1.5
          },
          "size": 27
         },
         "mode": "markers+text",
         "name": "MIN",
         "text": [
          "MIN",
          "MIN",
          "MIN",
          "MIN",
          "MIN",
          "MIN",
          "MIN",
          "MIN",
          "MIN",
          "MIN",
          "MIN",
          "MIN",
          "MIN",
          "MIN",
          "MIN",
          "MIN",
          "MIN",
          "MIN",
          "MIN",
          "MIN",
          "MIN",
          "MIN",
          "MIN",
          "MIN",
          "MIN"
         ],
         "textfont": {
          "size": 7
         },
         "type": "scatter",
         "x": [
          2001,
          2002,
          2003,
          2004,
          2005,
          2006,
          2007,
          2008,
          2009,
          2010,
          2011,
          2012,
          2013,
          2014,
          2015,
          2016,
          2017,
          2018,
          2019,
          2020,
          2021,
          2022,
          2023,
          2024,
          2025
         ],
         "y": [
          null,
          null,
          null,
          null,
          null,
          null,
          null,
          null,
          null,
          null,
          null,
          null,
          null,
          21.587418601793832,
          15.534103899403023,
          16.911487758945388,
          21.893265565438373,
          23.105823418910457,
          28.258002637573433,
          37.70783847980998,
          36.62200568412505,
          40.516931913366044,
          32.5778360968627,
          33.17658705605742,
          40.65464895635674
         ]
        },
        {
         "hovertemplate": "Team: NJN<br>Year: %{x}<br>FG3A: %{y:.2f}<extra></extra>",
         "marker": {
          "color": "#1D428A",
          "line": {
           "color": "white",
           "width": 1.5
          },
          "size": 27
         },
         "mode": "markers+text",
         "name": "NJN",
         "text": [
          "NJN",
          "NJN",
          "NJN",
          "NJN",
          "NJN",
          "NJN",
          "NJN",
          "NJN",
          "NJN",
          "NJN",
          "NJN",
          "NJN"
         ],
         "textfont": {
          "size": 7
         },
         "type": "scatter",
         "x": [
          2001,
          2002,
          2003,
          2004,
          2005,
          2006,
          2007,
          2008,
          2009,
          2010,
          2011,
          2012
         ],
         "y": [
          null,
          null,
          null,
          null,
          null,
          null,
          null,
          null,
          null,
          null,
          null,
          null
         ]
        },
        {
         "hovertemplate": "Team: NYK<br>Year: %{x}<br>FG3A: %{y:.2f}<extra></extra>",
         "marker": {
          "color": "#F58426",
          "line": {
           "color": "white",
           "width": 1.5
          },
          "size": 27
         },
         "mode": "markers+text",
         "name": "NYK",
         "text": [
          "NYK",
          "NYK",
          "NYK",
          "NYK",
          "NYK",
          "NYK",
          "NYK",
          "NYK",
          "NYK",
          "NYK",
          "NYK",
          "NYK",
          "NYK",
          "NYK",
          "NYK",
          "NYK",
          "NYK",
          "NYK",
          "NYK",
          "NYK",
          "NYK",
          "NYK",
          "NYK",
          "NYK",
          "NYK"
         ],
         "textfont": {
          "size": 7
         },
         "type": "scatter",
         "x": [
          2001,
          2002,
          2003,
          2004,
          2005,
          2006,
          2007,
          2008,
          2009,
          2010,
          2011,
          2012,
          2013,
          2014,
          2015,
          2016,
          2017,
          2018,
          2019,
          2020,
          2021,
          2022,
          2023,
          2024,
          2025
         ],
         "y": [
          null,
          null,
          null,
          null,
          null,
          null,
          null,
          null,
          null,
          null,
          null,
          null,
          null,
          26.971942826892537,
          21.18666316618535,
          22.697410794795825,
          25.306633291614517,
          23.749844893907433,
          29.366812227074234,
          28.389444949954505,
          30.926508435802116,
          38.062327217893944,
          36.02163757069093,
          37.24470379297222,
          35.46195652173913
         ]
        },
        {
         "hovertemplate": "Team: ORL<br>Year: %{x}<br>FG3A: %{y:.2f}<extra></extra>",
         "marker": {
          "color": "#C4CED4",
          "line": {
           "color": "white",
           "width": 1.5
          },
          "size": 27
         },
         "mode": "markers+text",
         "name": "ORL",
         "text": [
          "ORL",
          "ORL",
          "ORL",
          "ORL",
          "ORL",
          "ORL",
          "ORL",
          "ORL",
          "ORL",
          "ORL",
          "ORL",
          "ORL",
          "ORL",
          "ORL",
          "ORL",
          "ORL",
          "ORL",
          "ORL",
          "ORL",
          "ORL",
          "ORL",
          "ORL",
          "ORL",
          "ORL",
          "ORL"
         ],
         "textfont": {
          "size": 7
         },
         "type": "scatter",
         "x": [
          2001,
          2002,
          2003,
          2004,
          2005,
          2006,
          2007,
          2008,
          2009,
          2010,
          2011,
          2012,
          2013,
          2014,
          2015,
          2016,
          2017,
          2018,
          2019,
          2020,
          2021,
          2022,
          2023,
          2024,
          2025
         ],
         "y": [
          null,
          null,
          null,
          null,
          null,
          null,
          null,
          null,
          null,
          null,
          null,
          null,
          null,
          20.364935562077324,
          20.558342982117587,
          22.673983537041657,
          26.774314682688697,
          29.70602766798419,
          32.374277634329275,
          32.44658855961406,
          31.964235820061468,
          36.75057764806032,
          31.09079829372334,
          32.01196709050112,
          38.26166934927569
         ]
        },
        {
         "hovertemplate": "Team: IND<br>Year: %{x}<br>FG3A: %{y:.2f}<extra></extra>",
         "marker": {
          "color": "#FDBB30",
          "line": {
           "color": "white",
           "width": 1.5
          },
          "size": 27
         },
         "mode": "markers+text",
         "name": "IND",
         "text": [
          "IND",
          "IND",
          "IND",
          "IND",
          "IND",
          "IND",
          "IND",
          "IND",
          "IND",
          "IND",
          "IND",
          "IND",
          "IND",
          "IND",
          "IND",
          "IND",
          "IND",
          "IND",
          "IND",
          "IND",
          "IND",
          "IND",
          "IND",
          "IND",
          "IND"
         ],
         "textfont": {
          "size": 7
         },
         "type": "scatter",
         "x": [
          2001,
          2002,
          2003,
          2004,
          2005,
          2006,
          2007,
          2008,
          2009,
          2010,
          2011,
          2012,
          2013,
          2014,
          2015,
          2016,
          2017,
          2018,
          2019,
          2020,
          2021,
          2022,
          2023,
          2024,
          2025
         ],
         "y": [
          null,
          null,
          null,
          null,
          null,
          null,
          null,
          null,
          null,
          null,
          null,
          null,
          null,
          20.141065830721004,
          22.442925319231264,
          23.413485374318295,
          23.5949430466892,
          25.197442647611883,
          25.700876867975794,
          28.031237155774765,
          32.955923978972905,
          35.5008572128337,
          36.17046675420795,
          34.46179520801049,
          33.40239410681399
         ]
        },
        {
         "hovertemplate": "Team: PHI<br>Year: %{x}<br>FG3A: %{y:.2f}<extra></extra>",
         "marker": {
          "color": "#ED174C",
          "line": {
           "color": "white",
           "width": 1.5
          },
          "size": 27
         },
         "mode": "markers+text",
         "name": "PHI",
         "text": [
          "PHI",
          "PHI",
          "PHI",
          "PHI",
          "PHI",
          "PHI",
          "PHI",
          "PHI",
          "PHI",
          "PHI",
          "PHI",
          "PHI",
          "PHI",
          "PHI",
          "PHI",
          "PHI",
          "PHI",
          "PHI",
          "PHI",
          "PHI",
          "PHI",
          "PHI",
          "PHI",
          "PHI",
          "PHI"
         ],
         "textfont": {
          "size": 7
         },
         "type": "scatter",
         "x": [
          2001,
          2002,
          2003,
          2004,
          2005,
          2006,
          2007,
          2008,
          2009,
          2010,
          2011,
          2012,
          2013,
          2014,
          2015,
          2016,
          2017,
          2018,
          2019,
          2020,
          2021,
          2022,
          2023,
          2024,
          2025
         ],
         "y": [
          null,
          null,
          null,
          null,
          null,
          null,
          null,
          null,
          null,
          null,
          null,
          null,
          null,
          22.425934919864012,
          27.169811320754718,
          27.774356447838404,
          29.86917716102213,
          29.461380889263765,
          29.219322073934098,
          31.585432639649508,
          29.826732673267326,
          32.70219435736677,
          33.1392467789891,
          33.78244746600742,
          37.01724556716055
         ]
        },
        {
         "hovertemplate": "Team: PHX<br>Year: %{x}<br>FG3A: %{y:.2f}<extra></extra>",
         "marker": {
          "color": "#E56020",
          "line": {
           "color": "white",
           "width": 1.5
          },
          "size": 27
         },
         "mode": "markers+text",
         "name": "PHX",
         "text": [
          "PHX",
          "PHX",
          "PHX",
          "PHX",
          "PHX",
          "PHX",
          "PHX",
          "PHX",
          "PHX",
          "PHX",
          "PHX",
          "PHX",
          "PHX",
          "PHX",
          "PHX",
          "PHX",
          "PHX",
          "PHX",
          "PHX",
          "PHX",
          "PHX",
          "PHX",
          "PHX",
          "PHX",
          "PHX"
         ],
         "textfont": {
          "size": 7
         },
         "type": "scatter",
         "x": [
          2001,
          2002,
          2003,
          2004,
          2005,
          2006,
          2007,
          2008,
          2009,
          2010,
          2011,
          2012,
          2013,
          2014,
          2015,
          2016,
          2017,
          2018,
          2019,
          2020,
          2021,
          2022,
          2023,
          2024,
          2025
         ],
         "y": [
          null,
          null,
          null,
          null,
          null,
          null,
          null,
          null,
          null,
          null,
          null,
          null,
          null,
          25.77448890003763,
          25.415735914619013,
          25.98135426889107,
          22.283653846153847,
          27.56541661642349,
          28.670409747939313,
          31.14512015035575,
          34.88860865910046,
          31.739868963843726,
          32.84608770421324,
          32.74086785976955,
          37.08243210766643
         ]
        },
        {
         "hovertemplate": "Team: POR<br>Year: %{x}<br>FG3A: %{y:.2f}<extra></extra>",
         "marker": {
          "color": "#000000",
          "line": {
           "color": "white",
           "width": 1.5
          },
          "size": 27
         },
         "mode": "markers+text",
         "name": "POR",
         "text": [
          "POR",
          "POR",
          "POR",
          "POR",
          "POR",
          "POR",
          "POR",
          "POR",
          "POR",
          "POR",
          "POR",
          "POR",
          "POR",
          "POR",
          "POR",
          "POR",
          "POR",
          "POR",
          "POR",
          "POR",
          "POR",
          "POR",
          "POR",
          "POR",
          "POR"
         ],
         "textfont": {
          "size": 7
         },
         "type": "scatter",
         "x": [
          2001,
          2002,
          2003,
          2004,
          2005,
          2006,
          2007,
          2008,
          2009,
          2010,
          2011,
          2012,
          2013,
          2014,
          2015,
          2016,
          2017,
          2018,
          2019,
          2020,
          2021,
          2022,
          2023,
          2024,
          2025
         ],
         "y": [
          null,
          null,
          null,
          null,
          null,
          null,
          null,
          null,
          null,
          null,
          null,
          null,
          null,
          26.116015132408574,
          28.35536349771225,
          29.156265601597603,
          28.090999010880317,
          28.87887887887888,
          30.475269077276575,
          33.581593296980984,
          41.179767409275605,
          37.1551724137931,
          35.46647051612112,
          33.60483771442676,
          36.34660421545667
         ]
        },
        {
         "hovertemplate": "Team: SAC<br>Year: %{x}<br>FG3A: %{y:.2f}<extra></extra>",
         "marker": {
          "color": "#63727A",
          "line": {
           "color": "white",
           "width": 1.5
          },
          "size": 27
         },
         "mode": "markers+text",
         "name": "SAC",
         "text": [
          "SAC",
          "SAC",
          "SAC",
          "SAC",
          "SAC",
          "SAC",
          "SAC",
          "SAC",
          "SAC",
          "SAC",
          "SAC",
          "SAC",
          "SAC",
          "SAC",
          "SAC",
          "SAC",
          "SAC",
          "SAC",
          "SAC",
          "SAC",
          "SAC",
          "SAC",
          "SAC",
          "SAC",
          "SAC"
         ],
         "textfont": {
          "size": 7
         },
         "type": "scatter",
         "x": [
          2001,
          2002,
          2003,
          2004,
          2005,
          2006,
          2007,
          2008,
          2009,
          2010,
          2011,
          2012,
          2013,
          2014,
          2015,
          2016,
          2017,
          2018,
          2019,
          2020,
          2021,
          2022,
          2023,
          2024,
          2025
         ],
         "y": [
          null,
          null,
          null,
          null,
          null,
          null,
          null,
          null,
          null,
          null,
          null,
          null,
          null,
          18.81377551020408,
          16.976861167002014,
          22.15128884606119,
          24.775628871192012,
          25.025445292620866,
          28.730251609128146,
          34.68711147948612,
          33.03055326176713,
          32.98594280174503,
          36.67745415318231,
          39.13202042304887,
          35.714285714285715
         ]
        },
        {
         "hovertemplate": "Team: SAS<br>Year: %{x}<br>FG3A: %{y:.2f}<extra></extra>",
         "marker": {
          "color": "#000000",
          "line": {
           "color": "white",
           "width": 1.5
          },
          "size": 27
         },
         "mode": "markers+text",
         "name": "SAS",
         "text": [
          "SAS",
          "SAS",
          "SAS",
          "SAS",
          "SAS",
          "SAS",
          "SAS",
          "SAS",
          "SAS",
          "SAS",
          "SAS",
          "SAS",
          "SAS",
          "SAS",
          "SAS",
          "SAS",
          "SAS",
          "SAS",
          "SAS",
          "SAS",
          "SAS",
          "SAS",
          "SAS",
          "SAS",
          "SAS"
         ],
         "textfont": {
          "size": 7
         },
         "type": "scatter",
         "x": [
          2001,
          2002,
          2003,
          2004,
          2005,
          2006,
          2007,
          2008,
          2009,
          2010,
          2011,
          2012,
          2013,
          2014,
          2015,
          2016,
          2017,
          2018,
          2019,
          2020,
          2021,
          2022,
          2023,
          2024,
          2025
         ],
         "y": [
          null,
          null,
          null,
          null,
          null,
          null,
          null,
          null,
          null,
          null,
          null,
          null,
          null,
          22.27716495498922,
          23.498727735368956,
          19.544225569718037,
          24.604187946884576,
          25.13029108936062,
          25.373682920852733,
          27.879707545868396,
          28.275290215588722,
          31.676718938480096,
          31.23890663826766,
          35.457030785688815,
          39.922008286619544
         ]
        },
        {
         "hovertemplate": "Team: MEM<br>Year: %{x}<br>FG3A: %{y:.2f}<extra></extra>",
         "marker": {
          "color": "#12173F",
          "line": {
           "color": "white",
           "width": 1.5
          },
          "size": 27
         },
         "mode": "markers+text",
         "name": "MEM",
         "text": [
          "MEM",
          "MEM",
          "MEM",
          "MEM",
          "MEM",
          "MEM",
          "MEM",
          "MEM",
          "MEM",
          "MEM",
          "MEM",
          "MEM",
          "MEM",
          "MEM",
          "MEM",
          "MEM",
          "MEM",
          "MEM",
          "MEM",
          "MEM",
          "MEM",
          "MEM",
          "MEM",
          "MEM"
         ],
         "textfont": {
          "size": 7
         },
         "type": "scatter",
         "x": [
          2002,
          2003,
          2004,
          2005,
          2006,
          2007,
          2008,
          2009,
          2010,
          2011,
          2012,
          2013,
          2014,
          2015,
          2016,
          2017,
          2018,
          2019,
          2020,
          2021,
          2022,
          2023,
          2024,
          2025
         ],
         "y": [
          null,
          null,
          null,
          null,
          null,
          null,
          null,
          null,
          null,
          null,
          null,
          null,
          15.34242910647405,
          16.19022869022869,
          19.592940873373696,
          28.16151648922358,
          27.361729179911,
          29.46006469270963,
          30.375562020629463,
          30.923034784990413,
          32.29656419529837,
          33.57655502392345,
          38.10285433070866,
          36.03982300884956
         ]
        },
        {
         "hovertemplate": "Team: NOH<br>Year: %{x}<br>FG3A: %{y:.2f}<extra></extra>",
         "marker": {
          "color": "#1D428A",
          "line": {
           "color": "white",
           "width": 1.5
          },
          "size": 27
         },
         "mode": "markers+text",
         "name": "NOH",
         "text": [
          "NOH",
          "NOH",
          "NOH",
          "NOH",
          "NOH",
          "NOH",
          "NOH",
          "NOH",
          "NOH"
         ],
         "textfont": {
          "size": 7
         },
         "type": "scatter",
         "x": [
          2003,
          2004,
          2005,
          2008,
          2009,
          2010,
          2011,
          2012,
          2013
         ],
         "y": [
          null,
          null,
          null,
          null,
          null,
          null,
          null,
          null,
          null
         ]
        },
        {
         "hovertemplate": "Team: CHA<br>Year: %{x}<br>FG3A: %{y:.2f}<extra></extra>",
         "marker": {
          "color": "#00788C",
          "line": {
           "color": "white",
           "width": 1.5
          },
          "size": 27
         },
         "mode": "markers+text",
         "name": "CHA",
         "text": [
          "CHA",
          "CHA",
          "CHA",
          "CHA",
          "CHA",
          "CHA",
          "CHA",
          "CHA",
          "CHA",
          "CHA",
          "CHA",
          "CHA",
          "CHA",
          "CHA",
          "CHA",
          "CHA",
          "CHA",
          "CHA",
          "CHA",
          "CHA",
          "CHA"
         ],
         "textfont": {
          "size": 7
         },
         "type": "scatter",
         "x": [
          2005,
          2006,
          2007,
          2008,
          2009,
          2010,
          2011,
          2012,
          2013,
          2014,
          2015,
          2016,
          2017,
          2018,
          2019,
          2020,
          2021,
          2022,
          2023,
          2024,
          2025
         ],
         "y": [
          null,
          null,
          null,
          null,
          null,
          null,
          null,
          null,
          null,
          19.074170124481327,
          20.19863278730814,
          30.253577705247302,
          29.581547769095035,
          27.422325924106595,
          33.93074859790295,
          35.317397498812724,
          37.2398379661964,
          37.6111511655852,
          31.811680572109655,
          34.64645209394806,
          41.856256463288524
         ]
        },
        {
         "hovertemplate": "Team: NOK<br>Year: %{x}<br>FG3A: %{y:.2f}<extra></extra>",
         "marker": {
          "color": "#1D428A",
          "line": {
           "color": "white",
           "width": 1.5
          },
          "size": 27
         },
         "mode": "markers+text",
         "name": "NOK",
         "text": [
          "NOK",
          "NOK"
         ],
         "textfont": {
          "size": 7
         },
         "type": "scatter",
         "x": [
          2006,
          2007
         ],
         "y": [
          null,
          null
         ]
        },
        {
         "hovertemplate": "Team: OKC<br>Year: %{x}<br>FG3A: %{y:.2f}<extra></extra>",
         "marker": {
          "color": "#EF3B24",
          "line": {
           "color": "white",
           "width": 1.5
          },
          "size": 27
         },
         "mode": "markers+text",
         "name": "OKC",
         "text": [
          "OKC",
          "OKC",
          "OKC",
          "OKC",
          "OKC",
          "OKC",
          "OKC",
          "OKC",
          "OKC",
          "OKC",
          "OKC",
          "OKC",
          "OKC",
          "OKC",
          "OKC",
          "OKC",
          "OKC"
         ],
         "textfont": {
          "size": 7
         },
         "type": "scatter",
         "x": [
          2009,
          2010,
          2011,
          2012,
          2013,
          2014,
          2015,
          2016,
          2017,
          2018,
          2019,
          2020,
          2021,
          2022,
          2023,
          2024,
          2025
         ],
         "y": [
          null,
          null,
          null,
          null,
          null,
          23.120442544631633,
          23.335002503755632,
          24.128520034735146,
          26.12668230645759,
          30.998008959681435,
          31.313603930284245,
          30.077583818232196,
          34.39412484700122,
          37.399365698950966,
          33.15945465323059,
          33.6977414704469,
          38.481613285883746
         ]
        },
        {
         "hovertemplate": "Team: BKN<br>Year: %{x}<br>FG3A: %{y:.2f}<extra></extra>",
         "marker": {
          "color": "#FFFFFF",
          "line": {
           "color": "white",
           "width": 1.5
          },
          "size": 27
         },
         "mode": "markers+text",
         "name": "BKN",
         "text": [
          "BKN",
          "BKN",
          "BKN",
          "BKN",
          "BKN",
          "BKN",
          "BKN",
          "BKN",
          "BKN",
          "BKN",
          "BKN",
          "BKN",
          "BKN"
         ],
         "textfont": {
          "size": 7
         },
         "type": "scatter",
         "x": [
          2013,
          2014,
          2015,
          2016,
          2017,
          2018,
          2019,
          2020,
          2021,
          2022,
          2023,
          2024,
          2025
         ],
         "y": [
          null,
          25.08156074644395,
          20.997814067121,
          19.08136150828799,
          30.952096523712818,
          35.49405195435785,
          35.08045433033602,
          37.0880605078336,
          35.714285714285715,
          31.82096123272594,
          34.16348169153002,
          37.391304347826086,
          40.242763772175536
         ]
        },
        {
         "hovertemplate": "Team: NOP<br>Year: %{x}<br>FG3A: %{y:.2f}<extra></extra>",
         "marker": {
          "color": "#C8102E",
          "line": {
           "color": "white",
           "width": 1.5
          },
          "size": 27
         },
         "mode": "markers+text",
         "name": "NOP",
         "text": [
          "NOP",
          "NOP",
          "NOP",
          "NOP",
          "NOP",
          "NOP",
          "NOP",
          "NOP",
          "NOP",
          "NOP",
          "NOP",
          "NOP"
         ],
         "textfont": {
          "size": 7
         },
         "type": "scatter",
         "x": [
          2014,
          2015,
          2016,
          2017,
          2018,
          2019,
          2020,
          2021,
          2022,
          2023,
          2024,
          2025
         ],
         "y": [
          16.915487472413346,
          20.807045215562567,
          24.26315134933466,
          26.868958766670744,
          27.38363141063603,
          28.633228107096926,
          35.188129305776364,
          29.987676297412023,
          32.61786600496278,
          29.95509163733463,
          32.99592642883594,
          35.712661968629234
         ]
        }
       ],
       "layout": {
        "font": {
         "color": "white",
         "family": "Arial"
        },
        "height": 800,
        "legend": {
         "bgcolor": "rgba(0, 0, 0, 0.5)",
         "bordercolor": "white",
         "borderwidth": 1,
         "font": {
          "size": 10
         }
        },
        "paper_bgcolor": "#121212",
        "plot_bgcolor": "#1E1E1E",
        "template": {
         "data": {
          "bar": [
           {
            "error_x": {
             "color": "#2a3f5f"
            },
            "error_y": {
             "color": "#2a3f5f"
            },
            "marker": {
             "line": {
              "color": "#E5ECF6",
              "width": 0.5
             },
             "pattern": {
              "fillmode": "overlay",
              "size": 10,
              "solidity": 0.2
             }
            },
            "type": "bar"
           }
          ],
          "barpolar": [
           {
            "marker": {
             "line": {
              "color": "#E5ECF6",
              "width": 0.5
             },
             "pattern": {
              "fillmode": "overlay",
              "size": 10,
              "solidity": 0.2
             }
            },
            "type": "barpolar"
           }
          ],
          "carpet": [
           {
            "aaxis": {
             "endlinecolor": "#2a3f5f",
             "gridcolor": "white",
             "linecolor": "white",
             "minorgridcolor": "white",
             "startlinecolor": "#2a3f5f"
            },
            "baxis": {
             "endlinecolor": "#2a3f5f",
             "gridcolor": "white",
             "linecolor": "white",
             "minorgridcolor": "white",
             "startlinecolor": "#2a3f5f"
            },
            "type": "carpet"
           }
          ],
          "choropleth": [
           {
            "colorbar": {
             "outlinewidth": 0,
             "ticks": ""
            },
            "type": "choropleth"
           }
          ],
          "contour": [
           {
            "colorbar": {
             "outlinewidth": 0,
             "ticks": ""
            },
            "colorscale": [
             [
              0,
              "#0d0887"
             ],
             [
              0.1111111111111111,
              "#46039f"
             ],
             [
              0.2222222222222222,
              "#7201a8"
             ],
             [
              0.3333333333333333,
              "#9c179e"
             ],
             [
              0.4444444444444444,
              "#bd3786"
             ],
             [
              0.5555555555555556,
              "#d8576b"
             ],
             [
              0.6666666666666666,
              "#ed7953"
             ],
             [
              0.7777777777777778,
              "#fb9f3a"
             ],
             [
              0.8888888888888888,
              "#fdca26"
             ],
             [
              1,
              "#f0f921"
             ]
            ],
            "type": "contour"
           }
          ],
          "contourcarpet": [
           {
            "colorbar": {
             "outlinewidth": 0,
             "ticks": ""
            },
            "type": "contourcarpet"
           }
          ],
          "heatmap": [
           {
            "colorbar": {
             "outlinewidth": 0,
             "ticks": ""
            },
            "colorscale": [
             [
              0,
              "#0d0887"
             ],
             [
              0.1111111111111111,
              "#46039f"
             ],
             [
              0.2222222222222222,
              "#7201a8"
             ],
             [
              0.3333333333333333,
              "#9c179e"
             ],
             [
              0.4444444444444444,
              "#bd3786"
             ],
             [
              0.5555555555555556,
              "#d8576b"
             ],
             [
              0.6666666666666666,
              "#ed7953"
             ],
             [
              0.7777777777777778,
              "#fb9f3a"
             ],
             [
              0.8888888888888888,
              "#fdca26"
             ],
             [
              1,
              "#f0f921"
             ]
            ],
            "type": "heatmap"
           }
          ],
          "heatmapgl": [
           {
            "colorbar": {
             "outlinewidth": 0,
             "ticks": ""
            },
            "colorscale": [
             [
              0,
              "#0d0887"
             ],
             [
              0.1111111111111111,
              "#46039f"
             ],
             [
              0.2222222222222222,
              "#7201a8"
             ],
             [
              0.3333333333333333,
              "#9c179e"
             ],
             [
              0.4444444444444444,
              "#bd3786"
             ],
             [
              0.5555555555555556,
              "#d8576b"
             ],
             [
              0.6666666666666666,
              "#ed7953"
             ],
             [
              0.7777777777777778,
              "#fb9f3a"
             ],
             [
              0.8888888888888888,
              "#fdca26"
             ],
             [
              1,
              "#f0f921"
             ]
            ],
            "type": "heatmapgl"
           }
          ],
          "histogram": [
           {
            "marker": {
             "pattern": {
              "fillmode": "overlay",
              "size": 10,
              "solidity": 0.2
             }
            },
            "type": "histogram"
           }
          ],
          "histogram2d": [
           {
            "colorbar": {
             "outlinewidth": 0,
             "ticks": ""
            },
            "colorscale": [
             [
              0,
              "#0d0887"
             ],
             [
              0.1111111111111111,
              "#46039f"
             ],
             [
              0.2222222222222222,
              "#7201a8"
             ],
             [
              0.3333333333333333,
              "#9c179e"
             ],
             [
              0.4444444444444444,
              "#bd3786"
             ],
             [
              0.5555555555555556,
              "#d8576b"
             ],
             [
              0.6666666666666666,
              "#ed7953"
             ],
             [
              0.7777777777777778,
              "#fb9f3a"
             ],
             [
              0.8888888888888888,
              "#fdca26"
             ],
             [
              1,
              "#f0f921"
             ]
            ],
            "type": "histogram2d"
           }
          ],
          "histogram2dcontour": [
           {
            "colorbar": {
             "outlinewidth": 0,
             "ticks": ""
            },
            "colorscale": [
             [
              0,
              "#0d0887"
             ],
             [
              0.1111111111111111,
              "#46039f"
             ],
             [
              0.2222222222222222,
              "#7201a8"
             ],
             [
              0.3333333333333333,
              "#9c179e"
             ],
             [
              0.4444444444444444,
              "#bd3786"
             ],
             [
              0.5555555555555556,
              "#d8576b"
             ],
             [
              0.6666666666666666,
              "#ed7953"
             ],
             [
              0.7777777777777778,
              "#fb9f3a"
             ],
             [
              0.8888888888888888,
              "#fdca26"
             ],
             [
              1,
              "#f0f921"
             ]
            ],
            "type": "histogram2dcontour"
           }
          ],
          "mesh3d": [
           {
            "colorbar": {
             "outlinewidth": 0,
             "ticks": ""
            },
            "type": "mesh3d"
           }
          ],
          "parcoords": [
           {
            "line": {
             "colorbar": {
              "outlinewidth": 0,
              "ticks": ""
             }
            },
            "type": "parcoords"
           }
          ],
          "pie": [
           {
            "automargin": true,
            "type": "pie"
           }
          ],
          "scatter": [
           {
            "fillpattern": {
             "fillmode": "overlay",
             "size": 10,
             "solidity": 0.2
            },
            "type": "scatter"
           }
          ],
          "scatter3d": [
           {
            "line": {
             "colorbar": {
              "outlinewidth": 0,
              "ticks": ""
             }
            },
            "marker": {
             "colorbar": {
              "outlinewidth": 0,
              "ticks": ""
             }
            },
            "type": "scatter3d"
           }
          ],
          "scattercarpet": [
           {
            "marker": {
             "colorbar": {
              "outlinewidth": 0,
              "ticks": ""
             }
            },
            "type": "scattercarpet"
           }
          ],
          "scattergeo": [
           {
            "marker": {
             "colorbar": {
              "outlinewidth": 0,
              "ticks": ""
             }
            },
            "type": "scattergeo"
           }
          ],
          "scattergl": [
           {
            "marker": {
             "colorbar": {
              "outlinewidth": 0,
              "ticks": ""
             }
            },
            "type": "scattergl"
           }
          ],
          "scattermapbox": [
           {
            "marker": {
             "colorbar": {
              "outlinewidth": 0,
              "ticks": ""
             }
            },
            "type": "scattermapbox"
           }
          ],
          "scatterpolar": [
           {
            "marker": {
             "colorbar": {
              "outlinewidth": 0,
              "ticks": ""
             }
            },
            "type": "scatterpolar"
           }
          ],
          "scatterpolargl": [
           {
            "marker": {
             "colorbar": {
              "outlinewidth": 0,
              "ticks": ""
             }
            },
            "type": "scatterpolargl"
           }
          ],
          "scatterternary": [
           {
            "marker": {
             "colorbar": {
              "outlinewidth": 0,
              "ticks": ""
             }
            },
            "type": "scatterternary"
           }
          ],
          "surface": [
           {
            "colorbar": {
             "outlinewidth": 0,
             "ticks": ""
            },
            "colorscale": [
             [
              0,
              "#0d0887"
             ],
             [
              0.1111111111111111,
              "#46039f"
             ],
             [
              0.2222222222222222,
              "#7201a8"
             ],
             [
              0.3333333333333333,
              "#9c179e"
             ],
             [
              0.4444444444444444,
              "#bd3786"
             ],
             [
              0.5555555555555556,
              "#d8576b"
             ],
             [
              0.6666666666666666,
              "#ed7953"
             ],
             [
              0.7777777777777778,
              "#fb9f3a"
             ],
             [
              0.8888888888888888,
              "#fdca26"
             ],
             [
              1,
              "#f0f921"
             ]
            ],
            "type": "surface"
           }
          ],
          "table": [
           {
            "cells": {
             "fill": {
              "color": "#EBF0F8"
             },
             "line": {
              "color": "white"
             }
            },
            "header": {
             "fill": {
              "color": "#C8D4E3"
             },
             "line": {
              "color": "white"
             }
            },
            "type": "table"
           }
          ]
         },
         "layout": {
          "annotationdefaults": {
           "arrowcolor": "#2a3f5f",
           "arrowhead": 0,
           "arrowwidth": 1
          },
          "autotypenumbers": "strict",
          "coloraxis": {
           "colorbar": {
            "outlinewidth": 0,
            "ticks": ""
           }
          },
          "colorscale": {
           "diverging": [
            [
             0,
             "#8e0152"
            ],
            [
             0.1,
             "#c51b7d"
            ],
            [
             0.2,
             "#de77ae"
            ],
            [
             0.3,
             "#f1b6da"
            ],
            [
             0.4,
             "#fde0ef"
            ],
            [
             0.5,
             "#f7f7f7"
            ],
            [
             0.6,
             "#e6f5d0"
            ],
            [
             0.7,
             "#b8e186"
            ],
            [
             0.8,
             "#7fbc41"
            ],
            [
             0.9,
             "#4d9221"
            ],
            [
             1,
             "#276419"
            ]
           ],
           "sequential": [
            [
             0,
             "#0d0887"
            ],
            [
             0.1111111111111111,
             "#46039f"
            ],
            [
             0.2222222222222222,
             "#7201a8"
            ],
            [
             0.3333333333333333,
             "#9c179e"
            ],
            [
             0.4444444444444444,
             "#bd3786"
            ],
            [
             0.5555555555555556,
             "#d8576b"
            ],
            [
             0.6666666666666666,
             "#ed7953"
            ],
            [
             0.7777777777777778,
             "#fb9f3a"
            ],
            [
             0.8888888888888888,
             "#fdca26"
            ],
            [
             1,
             "#f0f921"
            ]
           ],
           "sequentialminus": [
            [
             0,
             "#0d0887"
            ],
            [
             0.1111111111111111,
             "#46039f"
            ],
            [
             0.2222222222222222,
             "#7201a8"
            ],
            [
             0.3333333333333333,
             "#9c179e"
            ],
            [
             0.4444444444444444,
             "#bd3786"
            ],
            [
             0.5555555555555556,
             "#d8576b"
            ],
            [
             0.6666666666666666,
             "#ed7953"
            ],
            [
             0.7777777777777778,
             "#fb9f3a"
            ],
            [
             0.8888888888888888,
             "#fdca26"
            ],
            [
             1,
             "#f0f921"
            ]
           ]
          },
          "colorway": [
           "#636efa",
           "#EF553B",
           "#00cc96",
           "#ab63fa",
           "#FFA15A",
           "#19d3f3",
           "#FF6692",
           "#B6E880",
           "#FF97FF",
           "#FECB52"
          ],
          "font": {
           "color": "#2a3f5f"
          },
          "geo": {
           "bgcolor": "white",
           "lakecolor": "white",
           "landcolor": "#E5ECF6",
           "showlakes": true,
           "showland": true,
           "subunitcolor": "white"
          },
          "hoverlabel": {
           "align": "left"
          },
          "hovermode": "closest",
          "mapbox": {
           "style": "light"
          },
          "paper_bgcolor": "white",
          "plot_bgcolor": "#E5ECF6",
          "polar": {
           "angularaxis": {
            "gridcolor": "white",
            "linecolor": "white",
            "ticks": ""
           },
           "bgcolor": "#E5ECF6",
           "radialaxis": {
            "gridcolor": "white",
            "linecolor": "white",
            "ticks": ""
           }
          },
          "scene": {
           "xaxis": {
            "backgroundcolor": "#E5ECF6",
            "gridcolor": "white",
            "gridwidth": 2,
            "linecolor": "white",
            "showbackground": true,
            "ticks": "",
            "zerolinecolor": "white"
           },
           "yaxis": {
            "backgroundcolor": "#E5ECF6",
            "gridcolor": "white",
            "gridwidth": 2,
            "linecolor": "white",
            "showbackground": true,
            "ticks": "",
            "zerolinecolor": "white"
           },
           "zaxis": {
            "backgroundcolor": "#E5ECF6",
            "gridcolor": "white",
            "gridwidth": 2,
            "linecolor": "white",
            "showbackground": true,
            "ticks": "",
            "zerolinecolor": "white"
           }
          },
          "shapedefaults": {
           "line": {
            "color": "#2a3f5f"
           }
          },
          "ternary": {
           "aaxis": {
            "gridcolor": "white",
            "linecolor": "white",
            "ticks": ""
           },
           "baxis": {
            "gridcolor": "white",
            "linecolor": "white",
            "ticks": ""
           },
           "bgcolor": "#E5ECF6",
           "caxis": {
            "gridcolor": "white",
            "linecolor": "white",
            "ticks": ""
           }
          },
          "title": {
           "x": 0.05
          },
          "xaxis": {
           "automargin": true,
           "gridcolor": "white",
           "linecolor": "white",
           "ticks": "",
           "title": {
            "standoff": 15
           },
           "zerolinecolor": "white",
           "zerolinewidth": 2
          },
          "yaxis": {
           "automargin": true,
           "gridcolor": "white",
           "linecolor": "white",
           "ticks": "",
           "title": {
            "standoff": 15
           },
           "zerolinecolor": "white",
           "zerolinewidth": 2
          }
         }
        },
        "title": {
         "font": {
          "color": "white",
          "family": "Arial Black",
          "size": 24
         },
         "text": "NBA Team FG3A Across Years<br><span style=\"font-size: 20px; color: #CCCCCC\">2014 to 2025</span>",
         "x": 0.5,
         "xanchor": "center",
         "y": 0.95,
         "yanchor": "top"
        },
        "width": 1200,
        "xaxis": {
         "autorange": true,
         "dtick": 1,
         "gridcolor": "rgba(255,255,255,0.1)",
         "range": [
          1999.1556804632942,
          2026.8443195367058
         ],
         "tick0": 2014,
         "tickmode": "linear",
         "title": {
          "text": "Year"
         },
         "type": "linear"
        },
        "yaxis": {
         "autorange": true,
         "gridcolor": "rgba(255,255,255,0.1)",
         "range": [
          12.211846985127764,
          52.75411153311099
         ],
         "title": {
          "text": "FG3A"
         }
        }
       }
      },
      "image/png": "[encoded data removed]",
      "text/html": [
       "<div>                            <div id=\"c154447a-7519-40de-adb3-9cfead5c302d\" class=\"plotly-graph-div\" style=\"height:800px; width:1200px;\"></div>            <script type=\"text/javascript\">                require([\"plotly\"], function(Plotly) {                    window.PLOTLYENV=window.PLOTLYENV || {};                                    if (document.getElementById(\"c154447a-7519-40de-adb3-9cfead5c302d\")) {                    Plotly.newPlot(                        \"c154447a-7519-40de-adb3-9cfead5c302d\",                        [{\"hovertemplate\":\"Team: SEA\\u003cbr\\u003eYear: %{x}\\u003cbr\\u003eFG3A: %{y:.2f}\\u003cextra\\u003e\\u003c\\u002fextra\\u003e\",\"marker\":{\"color\":\"#1D428A\",\"line\":{\"color\":\"white\",\"width\":1.5},\"size\":27},\"mode\":\"markers+text\",\"name\":\"SEA\",\"text\":[\"SEA\",\"SEA\",\"SEA\",\"SEA\",\"SEA\",\"SEA\",\"SEA\",\"SEA\"],\"textfont\":{\"size\":7},\"x\":[2001,2002,2003,2004,2005,2006,2007,2008],\"y\":[null,null,null,null,null,null,null,null],\"type\":\"scatter\"},{\"hovertemplate\":\"Team: DET\\u003cbr\\u003eYear: %{x}\\u003cbr\\u003eFG3A: %{y:.2f}\\u003cextra\\u003e\\u003c\\u002fextra\\u003e\",\"marker\":{\"color\":\"#1D42BA\",\"line\":{\"color\":\"white\",\"width\":1.5},\"size\":27},\"mode\":\"markers+text\",\"name\":\"DET\",\"text\":[\"DET\",\"DET\",\"DET\",\"DET\",\"DET\",\"DET\",\"DET\",\"DET\",\"DET\",\"DET\",\"DET\",\"DET\",\"DET\",\"DET\",\"DET\",\"DET\",\"DET\",\"DET\",\"DET\",\"DET\",\"DET\",\"DET\",\"DET\",\"DET\",\"DET\"],\"textfont\":{\"size\":7},\"x\":[2001,2002,2003,2004,2005,2006,2007,2008,2009,2010,2011,2012,2013,2014,2015,2016,2017,2018,2019,2020,2021,2022,2023,2024,2025],\"y\":[null,null,null,null,null,null,null,null,null,null,null,null,null,20.066040132080264,26.391939025965637,27.04608410979602,24.271229404309253,29.73311615085829,35.23021849154426,33.14891655140618,33.230510375771175,34.86058223805429,32.30470173733447,31.466924658362558,36.652739090065],\"type\":\"scatter\"},{\"hovertemplate\":\"Team: CHH\\u003cbr\\u003eYear: %{x}\\u003cbr\\u003eFG3A: %{y:.2f}\\u003cextra\\u003e\\u003c\\u002fextra\\u003e\",\"marker\":{\"color\":\"#1D428A\",\"line\":{\"color\":\"white\",\"width\":1.5},\"size\":27},\"mode\":\"markers+text\",\"name\":\"CHH\",\"text\":[\"CHH\",\"CHH\"],\"textfont\":{\"size\":7},\"x\":[2001,2002],\"y\":[null,null],\"type\":\"scatter\"},{\"hovertemplate\":\"Team: UTA\\u003cbr\\u003eYear: %{x}\\u003cbr\\u003eFG3A: %{y:.2f}\\u003cextra\\u003e\\u003c\\u002fextra\\u003e\",\"marker\":{\"color\":\"#00471B\",\"line\":{\"color\":\"white\",\"width\":1.5},\"size\":27},\"mode\":\"markers+text\",\"name\":\"UTA\",\"text\":[\"UTA\",\"UTA\",\"UTA\",\"UTA\",\"UTA\",\"UTA\",\"UTA\",\"UTA\",\"UTA\",\"UTA\",\"UTA\",\"UTA\",\"UTA\",\"UTA\",\"UTA\",\"UTA\",\"UTA\",\"UTA\",\"UTA\",\"UTA\",\"UTA\",\"UTA\",\"UTA\",\"UTA\",\"UTA\"],\"textfont\":{\"size\":7},\"x\":[2001,2002,2003,2004,2005,2006,2007,2008,2009,2010,2011,2012,2013,2014,2015,2016,2017,2018,2019,2020,2021,2022,2023,2024,2025],\"y\":[null,null,null,null,null,null,null,null,null,null,null,null,null,20.73635765943458,23.79107667646273,25.652459016393443,28.077582794563927,30.49930826311156,33.570052961001444,35.38847816989817,43.06965104963159,41.277763913151986,37.20734782086685,36.14297790121966,38.654033041788146],\"type\":\"scatter\"},{\"hovertemplate\":\"Team: VAN\\u003cbr\\u003eYear: %{x}\\u003cbr\\u003eFG3A: %{y:.2f}\\u003cextra\\u003e\\u003c\\u002fextra\\u003e\",\"marker\":{\"color\":\"#1D428A\",\"line\":{\"color\":\"white\",\"width\":1.5},\"size\":27},\"mode\":\"markers+text\",\"name\":\"VAN\",\"text\":[\"VAN\"],\"textfont\":{\"size\":7},\"x\":[2001],\"y\":[null],\"type\":\"scatter\"},{\"hovertemplate\":\"Team: TOR\\u003cbr\\u003eYear: %{x}\\u003cbr\\u003eFG3A: %{y:.2f}\\u003cextra\\u003e\\u003c\\u002fextra\\u003e\",\"marker\":{\"color\":\"#000000\",\"line\":{\"color\":\"white\",\"width\":1.5},\"size\":27},\"mode\":\"markers+text\",\"name\":\"TOR\",\"text\":[\"TOR\",\"TOR\",\"TOR\",\"TOR\",\"TOR\",\"TOR\",\"TOR\",\"TOR\",\"TOR\",\"TOR\",\"TOR\",\"TOR\",\"TOR\",\"TOR\",\"TOR\",\"TOR\",\"TOR\",\"TOR\",\"TOR\",\"TOR\",\"TOR\",\"TOR\",\"TOR\",\"TOR\",\"TOR\"],\"textfont\":{\"size\":7},\"x\":[2001,2002,2003,2004,2005,2006,2007,2008,2009,2010,2011,2012,2013,2014,2015,2016,2017,2018,2019,2020,2021,2022,2023,2024,2025],\"y\":[null,null,null,null,null,null,null,null,null,null,null,null,null,24.909043659043657,26.628748707342297,24.84754119631504,25.371806279394942,33.37857847976308,33.24934005279577,36.34006550218341,39.445450745436816,35.1,32.516097077761266,32.90862759373862,32.72475155997227],\"type\":\"scatter\"},{\"hovertemplate\":\"Team: WAS\\u003cbr\\u003eYear: %{x}\\u003cbr\\u003eFG3A: %{y:.2f}\\u003cextra\\u003e\\u003c\\u002fextra\\u003e\",\"marker\":{\"color\":\"#E31837\",\"line\":{\"color\":\"white\",\"width\":1.5},\"size\":27},\"mode\":\"markers+text\",\"name\":\"WAS\",\"text\":[\"WAS\",\"WAS\",\"WAS\",\"WAS\",\"WAS\",\"WAS\",\"WAS\",\"WAS\",\"WAS\",\"WAS\",\"WAS\",\"WAS\",\"WAS\",\"WAS\",\"WAS\",\"WAS\",\"WAS\",\"WAS\",\"WAS\",\"WAS\",\"WAS\",\"WAS\",\"WAS\",\"WAS\",\"WAS\"],\"textfont\":{\"size\":7},\"x\":[2001,2002,2003,2004,2005,2006,2007,2008,2009,2010,2011,2012,2013,2014,2015,2016,2017,2018,2019,2020,2021,2022,2023,2024,2025],\"y\":[null,null,null,null,null,null,null,null,null,null,null,null,null,21.646341463414632,17.60581336053034,24.292539507533995,25.03391293624368,26.87028564362557,32.18241810040066,31.37123745819398,27.528015820698748,31.092957049139745,31.87109422864845,34.452192412244415,36.94547134935305],\"type\":\"scatter\"},{\"hovertemplate\":\"Team: CLE\\u003cbr\\u003eYear: %{x}\\u003cbr\\u003eFG3A: %{y:.2f}\\u003cextra\\u003e\\u003c\\u002fextra\\u003e\",\"marker\":{\"color\":\"#041E42\",\"line\":{\"color\":\"white\",\"width\":1.5},\"size\":27},\"mode\":\"markers+text\",\"name\":\"CLE\",\"text\":[\"CLE\",\"CLE\",\"CLE\",\"CLE\",\"CLE\",\"CLE\",\"CLE\",\"CLE\",\"CLE\",\"CLE\",\"CLE\",\"CLE\",\"CLE\",\"CLE\",\"CLE\",\"CLE\",\"CLE\",\"CLE\",\"CLE\",\"CLE\",\"CLE\",\"CLE\",\"CLE\",\"CLE\",\"CLE\"],\"textfont\":{\"size\":7},\"x\":[2001,2002,2003,2004,2005,2006,2007,2008,2009,2010,2011,2012,2013,2014,2015,2016,2017,2018,2019,2020,2021,2022,2023,2024,2025],\"y\":[null,null,null,null,null,null,null,null,null,null,null,null,null,21.0688591983556,29.32829992189534,31.27253992787223,34.65519391445317,32.487059403500126,29.771848896646304,31.86085885793443,30.125228647812015,33.72677046710196,32.476166583040644,37.45188128647709,40.50094517958412],\"type\":\"scatter\"},{\"hovertemplate\":\"Team: CHI\\u003cbr\\u003eYear: %{x}\\u003cbr\\u003eFG3A: %{y:.2f}\\u003cextra\\u003e\\u003c\\u002fextra\\u003e\",\"marker\":{\"color\":\"#000000\",\"line\":{\"color\":\"white\",\"width\":1.5},\"size\":27},\"mode\":\"markers+text\",\"name\":\"CHI\",\"text\":[\"CHI\",\"CHI\",\"CHI\",\"CHI\",\"CHI\",\"CHI\",\"CHI\",\"CHI\",\"CHI\",\"CHI\",\"CHI\",\"CHI\",\"CHI\",\"CHI\",\"CHI\",\"CHI\",\"CHI\",\"CHI\",\"CHI\",\"CHI\",\"CHI\",\"CHI\",\"CHI\",\"CHI\",\"CHI\"],\"textfont\":{\"size\":7},\"x\":[2001,2002,2003,2004,2005,2006,2007,2008,2009,2010,2011,2012,2013,2014,2015,2016,2017,2018,2019,2020,2021,2022,2023,2024,2025],\"y\":[null,null,null,null,null,null,null,null,null,null,null,null,null,19.32706318717711,23.472668810289388,21.89060939060939,23.1216062634171,31.237745098039216,25.789601554907676,34.77068413835136,33.878116343490305,29.098966026587888,28.778115501519757,32.55756375340431,41.13289760348584],\"type\":\"scatter\"},{\"hovertemplate\":\"Team: DAL\\u003cbr\\u003eYear: %{x}\\u003cbr\\u003eFG3A: %{y:.2f}\\u003cextra\\u003e\\u003c\\u002fextra\\u003e\",\"marker\":{\"color\":\"#002B5E\",\"line\":{\"color\":\"white\",\"width\":1.5},\"size\":27},\"mode\":\"markers+text\",\"name\":\"DAL\",\"text\":[\"DAL\",\"DAL\",\"DAL\",\"DAL\",\"DAL\",\"DAL\",\"DAL\",\"DAL\",\"DAL\",\"DAL\",\"DAL\",\"DAL\",\"DAL\",\"DAL\",\"DAL\",\"DAL\",\"DAL\",\"DAL\",\"DAL\",\"DAL\",\"DAL\",\"DAL\",\"DAL\",\"DAL\",\"DAL\"],\"textfont\":{\"size\":7},\"x\":[2001,2002,2003,2004,2005,2006,2007,2008,2009,2010,2011,2012,2013,2014,2015,2016,2017,2018,2019,2020,2021,2022,2023,2024,2025],\"y\":[null,null,null,null,null,null,null,null,null,null,null,null,null,23.904737646459502,26.10330992978937,29.459119496855347,32.2509128847157,33.773087071240106,36.53846153846154,40.89047430307835,38.855848201642594,38.91500444670309,41.59861420440485,39.23514462059784,35.34043538675313],\"type\":\"scatter\"},{\"hovertemplate\":\"Team: DEN\\u003cbr\\u003eYear: %{x}\\u003cbr\\u003eFG3A: %{y:.2f}\\u003cextra\\u003e\\u003c\\u002fextra\\u003e\",\"marker\":{\"color\":\"#FEC524\",\"line\":{\"color\":\"white\",\"width\":1.5},\"size\":27},\"mode\":\"markers+text\",\"name\":\"DEN\",\"text\":[\"DEN\",\"DEN\",\"DEN\",\"DEN\",\"DEN\",\"DEN\",\"DEN\",\"DEN\",\"DEN\",\"DEN\",\"DEN\",\"DEN\",\"DEN\",\"DEN\",\"DEN\",\"DEN\",\"DEN\",\"DEN\",\"DEN\",\"DEN\",\"DEN\",\"DEN\",\"DEN\",\"DEN\",\"DEN\"],\"textfont\":{\"size\":7},\"x\":[2001,2002,2003,2004,2005,2006,2007,2008,2009,2010,2011,2012,2013,2014,2015,2016,2017,2018,2019,2020,2021,2022,2023,2024,2025],\"y\":[null,null,null,null,null,null,null,null,null,null,null,null,null,24.048612816106065,25.36512295593559,24.400351626271505,28.958001714215747,31.327980234712786,31.756422924901187,30.954690314535124,34.56408816509897,36.24276745044934,31.47988682494772,32.016008004002,30.323757409940722],\"type\":\"scatter\"},{\"hovertemplate\":\"Team: BOS\\u003cbr\\u003eYear: %{x}\\u003cbr\\u003eFG3A: %{y:.2f}\\u003cextra\\u003e\\u003c\\u002fextra\\u003e\",\"marker\":{\"color\":\"#BA9653\",\"line\":{\"color\":\"white\",\"width\":1.5},\"size\":27},\"mode\":\"markers+text\",\"name\":\"BOS\",\"text\":[\"BOS\",\"BOS\",\"BOS\",\"BOS\",\"BOS\",\"BOS\",\"BOS\",\"BOS\",\"BOS\",\"BOS\",\"BOS\",\"BOS\",\"BOS\",\"BOS\",\"BOS\",\"BOS\",\"BOS\",\"BOS\",\"BOS\",\"BOS\",\"BOS\",\"BOS\",\"BOS\",\"BOS\",\"BOS\"],\"textfont\":{\"size\":7},\"x\":[2001,2002,2003,2004,2005,2006,2007,2008,2009,2010,2011,2012,2013,2014,2015,2016,2017,2018,2019,2020,2021,2022,2023,2024,2025],\"y\":[null,null,null,null,null,null,null,null,null,null,null,null,null,22.324080051646224,25.24041463719246,26.15065315590282,34.24109931292942,31.200701139351445,34.15841584158416,34.27980702963473,36.50306748466258,37.72930094199306,42.34267006184067,43.040791100123606,49.62352941176471],\"type\":\"scatter\"},{\"hovertemplate\":\"Team: GSW\\u003cbr\\u003eYear: %{x}\\u003cbr\\u003eFG3A: %{y:.2f}\\u003cextra\\u003e\\u003c\\u002fextra\\u003e\",\"marker\":{\"color\":\"#FFC72C\",\"line\":{\"color\":\"white\",\"width\":1.5},\"size\":27},\"mode\":\"markers+text\",\"name\":\"GSW\",\"text\":[\"GSW\",\"GSW\",\"GSW\",\"GSW\",\"GSW\",\"GSW\",\"GSW\",\"GSW\",\"GSW\",\"GSW\",\"GSW\",\"GSW\",\"GSW\",\"GSW\",\"GSW\",\"GSW\",\"GSW\",\"GSW\",\"GSW\",\"GSW\",\"GSW\",\"GSW\",\"GSW\",\"GSW\",\"GSW\"],\"textfont\":{\"size\":7},\"x\":[2001,2002,2003,2004,2005,2006,2007,2008,2009,2010,2011,2012,2013,2014,2015,2016,2017,2018,2019,2020,2021,2022,2023,2024,2025],\"y\":[null,null,null,null,null,null,null,null,null,null,null,null,null,25.320074580484775,27.135862913096695,31.217632181139347,30.94576639690784,28.711671312568175,33.65911799761621,30.680960289898838,37.628170534268754,39.785740672330995,41.78470254957507,38.62728483234475,41.74826844996417],\"type\":\"scatter\"},{\"hovertemplate\":\"Team: HOU\\u003cbr\\u003eYear: %{x}\\u003cbr\\u003eFG3A: %{y:.2f}\\u003cextra\\u003e\\u003c\\u002fextra\\u003e\",\"marker\":{\"color\":\"#000000\",\"line\":{\"color\":\"white\",\"width\":1.5},\"size\":27},\"mode\":\"markers+text\",\"name\":\"HOU\",\"text\":[\"HOU\",\"HOU\",\"HOU\",\"HOU\",\"HOU\",\"HOU\",\"HOU\",\"HOU\",\"HOU\",\"HOU\",\"HOU\",\"HOU\",\"HOU\",\"HOU\",\"HOU\",\"HOU\",\"HOU\",\"HOU\",\"HOU\",\"HOU\",\"HOU\",\"HOU\",\"HOU\",\"HOU\",\"HOU\"],\"textfont\":{\"size\":7},\"x\":[2001,2002,2003,2004,2005,2006,2007,2008,2009,2010,2011,2012,2013,2014,2015,2016,2017,2018,2019,2020,2021,2022,2023,2024,2025],\"y\":[null,null,null,null,null,null,null,null,null,null,null,null,null,27.101990049751244,33.34577578698519,31.121759429905392,39.884183858125226,42.95617727160188,45.76875768757687,43.25507361719061,39.931693989071036,38.087228162922024,31.861313868613138,35.93598448108632,36.064792758456406],\"type\":\"scatter\"},{\"hovertemplate\":\"Team: LAC\\u003cbr\\u003eYear: %{x}\\u003cbr\\u003eFG3A: %{y:.2f}\\u003cextra\\u003e\\u003c\\u002fextra\\u003e\",\"marker\":{\"color\":\"#1D428A\",\"line\":{\"color\":\"white\",\"width\":1.5},\"size\":27},\"mode\":\"markers+text\",\"name\":\"LAC\",\"text\":[\"LAC\",\"LAC\",\"LAC\",\"LAC\",\"LAC\",\"LAC\",\"LAC\",\"LAC\",\"LAC\",\"LAC\",\"LAC\",\"LAC\",\"LAC\",\"LAC\",\"LAC\",\"LAC\",\"LAC\",\"LAC\",\"LAC\",\"LAC\",\"LAC\",\"LAC\",\"LAC\",\"LAC\",\"LAC\"],\"textfont\":{\"size\":7},\"x\":[2001,2002,2003,2004,2005,2006,2007,2008,2009,2010,2011,2012,2013,2014,2015,2016,2017,2018,2019,2020,2021,2022,2023,2024,2025],\"y\":[null,null,null,null,null,null,null,null,null,null,null,null,null,24.717123459894392,28.072412034676187,27.392120075046904,28.175200803212853,26.888698420472632,24.991150442477878,32.585181179015684,35.5031267765776,34.503140007388254,33.4720861900098,33.818407960199,34.52008660091412],\"type\":\"scatter\"},{\"hovertemplate\":\"Team: LAL\\u003cbr\\u003eYear: %{x}\\u003cbr\\u003eFG3A: %{y:.2f}\\u003cextra\\u003e\\u003c\\u002fextra\\u003e\",\"marker\":{\"color\":\"#FDB927\",\"line\":{\"color\":\"white\",\"width\":1.5},\"size\":27},\"mode\":\"markers+text\",\"name\":\"LAL\",\"text\":[\"LAL\",\"LAL\",\"LAL\",\"LAL\",\"LAL\",\"LAL\",\"LAL\",\"LAL\",\"LAL\",\"LAL\",\"LAL\",\"LAL\",\"LAL\",\"LAL\",\"LAL\",\"LAL\",\"LAL\",\"LAL\",\"LAL\",\"LAL\",\"LAL\",\"LAL\",\"LAL\",\"LAL\",\"LAL\"],\"textfont\":{\"size\":7},\"x\":[2001,2002,2003,2004,2005,2006,2007,2008,2009,2010,2011,2012,2013,2014,2015,2016,2017,2018,2019,2020,2021,2022,2023,2024,2025],\"y\":[null,null,null,null,null,null,null,null,null,null,null,null,null,24.85018955607191,19.589457678661937,25.422446406052963,25.91182610831389,28.5133357253917,29.775017576751818,31.091388156982386,31.29175946547884,33.803827751196174,30.322427690848745,30.666507690473352,34.28147415285679],\"type\":\"scatter\"},{\"hovertemplate\":\"Team: ATL\\u003cbr\\u003eYear: %{x}\\u003cbr\\u003eFG3A: %{y:.2f}\\u003cextra\\u003e\\u003c\\u002fextra\\u003e\",\"marker\":{\"color\":\"#C1D32F\",\"line\":{\"color\":\"white\",\"width\":1.5},\"size\":27},\"mode\":\"markers+text\",\"name\":\"ATL\",\"text\":[\"ATL\",\"ATL\",\"ATL\",\"ATL\",\"ATL\",\"ATL\",\"ATL\",\"ATL\",\"ATL\",\"ATL\",\"ATL\",\"ATL\",\"ATL\",\"ATL\",\"ATL\",\"ATL\",\"ATL\",\"ATL\",\"ATL\",\"ATL\",\"ATL\",\"ATL\",\"ATL\",\"ATL\",\"ATL\"],\"textfont\":{\"size\":7},\"x\":[2001,2002,2003,2004,2005,2006,2007,2008,2009,2010,2011,2012,2013,2014,2015,2016,2017,2018,2019,2020,2021,2022,2023,2024,2025],\"y\":[null,null,null,null,null,null,null,null,null,null,null,null,null,26.811961479979725,27.678456591639872,28.86214170492617,26.412062785811397,31.35321666255854,35.10761397824577,34.51921703100443,33.547486033519554,34.831460674157306,29.796598073034374,37.078786425230845,35.225982284805816],\"type\":\"scatter\"},{\"hovertemplate\":\"Team: MIA\\u003cbr\\u003eYear: %{x}\\u003cbr\\u003eFG3A: %{y:.2f}\\u003cextra\\u003e\\u003c\\u002fextra\\u003e\",\"marker\":{\"color\":\"#F9A01B\",\"line\":{\"color\":\"white\",\"width\":1.5},\"size\":27},\"mode\":\"markers+text\",\"name\":\"MIA\",\"text\":[\"MIA\",\"MIA\",\"MIA\",\"MIA\",\"MIA\",\"MIA\",\"MIA\",\"MIA\",\"MIA\",\"MIA\",\"MIA\",\"MIA\",\"MIA\",\"MIA\",\"MIA\",\"MIA\",\"MIA\",\"MIA\",\"MIA\",\"MIA\",\"MIA\",\"MIA\",\"MIA\",\"MIA\",\"MIA\"],\"textfont\":{\"size\":7},\"x\":[2001,2002,2003,2004,2005,2006,2007,2008,2009,2010,2011,2012,2013,2014,2015,2016,2017,2018,2019,2020,2021,2022,2023,2024,2025],\"y\":[null,null,null,null,null,null,null,null,null,null,null,null,null,24.01838476690742,22.043582248206217,19.02558169430518,28.1015873015873,31.383844708829056,32.72592957399655,35.368190528332875,37.0380898237635,36.7597345686741,35.69015142034789,34.67084639498432,39.032025042138216],\"type\":\"scatter\"},{\"hovertemplate\":\"Team: MIL\\u003cbr\\u003eYear: %{x}\\u003cbr\\u003eFG3A: %{y:.2f}\\u003cextra\\u003e\\u003c\\u002fextra\\u003e\",\"marker\":{\"color\":\"#EEE1C6\",\"line\":{\"color\":\"white\",\"width\":1.5},\"size\":27},\"mode\":\"markers+text\",\"name\":\"MIL\",\"text\":[\"MIL\",\"MIL\",\"MIL\",\"MIL\",\"MIL\",\"MIL\",\"MIL\",\"MIL\",\"MIL\",\"MIL\",\"MIL\",\"MIL\",\"MIL\",\"MIL\",\"MIL\",\"MIL\",\"MIL\",\"MIL\",\"MIL\",\"MIL\",\"MIL\",\"MIL\",\"MIL\",\"MIL\",\"MIL\"],\"textfont\":{\"size\":7},\"x\":[2001,2002,2003,2004,2005,2006,2007,2008,2009,2010,2011,2012,2013,2014,2015,2016,2017,2018,2019,2020,2021,2022,2023,2024,2025],\"y\":[null,null,null,null,null,null,null,null,null,null,null,null,null,20.208197787898502,19.066988686920045,16.250954441333672,24.85947879407256,25.258954199425933,36.72799718739013,36.69724770642202,35.95581301360636,38.037180106228874,39.40874955298605,37.63713080168776,36.51603498542274],\"type\":\"scatter\"},{\"hovertemplate\":\"Team: MIN\\u003cbr\\u003eYear: %{x}\\u003cbr\\u003eFG3A: %{y:.2f}\\u003cextra\\u003e\\u003c\\u002fextra\\u003e\",\"marker\":{\"color\":\"#236192\",\"line\":{\"color\":\"white\",\"width\":1.5},\"size\":27},\"mode\":\"markers+text\",\"name\":\"MIN\",\"text\":[\"MIN\",\"MIN\",\"MIN\",\"MIN\",\"MIN\",\"MIN\",\"MIN\",\"MIN\",\"MIN\",\"MIN\",\"MIN\",\"MIN\",\"MIN\",\"MIN\",\"MIN\",\"MIN\",\"MIN\",\"MIN\",\"MIN\",\"MIN\",\"MIN\",\"MIN\",\"MIN\",\"MIN\",\"MIN\"],\"textfont\":{\"size\":7},\"x\":[2001,2002,2003,2004,2005,2006,2007,2008,2009,2010,2011,2012,2013,2014,2015,2016,2017,2018,2019,2020,2021,2022,2023,2024,2025],\"y\":[null,null,null,null,null,null,null,null,null,null,null,null,null,21.587418601793832,15.534103899403023,16.911487758945388,21.893265565438373,23.105823418910457,28.258002637573433,37.70783847980998,36.62200568412505,40.516931913366044,32.5778360968627,33.17658705605742,40.65464895635674],\"type\":\"scatter\"},{\"hovertemplate\":\"Team: NJN\\u003cbr\\u003eYear: %{x}\\u003cbr\\u003eFG3A: %{y:.2f}\\u003cextra\\u003e\\u003c\\u002fextra\\u003e\",\"marker\":{\"color\":\"#1D428A\",\"line\":{\"color\":\"white\",\"width\":1.5},\"size\":27},\"mode\":\"markers+text\",\"name\":\"NJN\",\"text\":[\"NJN\",\"NJN\",\"NJN\",\"NJN\",\"NJN\",\"NJN\",\"NJN\",\"NJN\",\"NJN\",\"NJN\",\"NJN\",\"NJN\"],\"textfont\":{\"size\":7},\"x\":[2001,2002,2003,2004,2005,2006,2007,2008,2009,2010,2011,2012],\"y\":[null,null,null,null,null,null,null,null,null,null,null,null],\"type\":\"scatter\"},{\"hovertemplate\":\"Team: NYK\\u003cbr\\u003eYear: %{x}\\u003cbr\\u003eFG3A: %{y:.2f}\\u003cextra\\u003e\\u003c\\u002fextra\\u003e\",\"marker\":{\"color\":\"#F58426\",\"line\":{\"color\":\"white\",\"width\":1.5},\"size\":27},\"mode\":\"markers+text\",\"name\":\"NYK\",\"text\":[\"NYK\",\"NYK\",\"NYK\",\"NYK\",\"NYK\",\"NYK\",\"NYK\",\"NYK\",\"NYK\",\"NYK\",\"NYK\",\"NYK\",\"NYK\",\"NYK\",\"NYK\",\"NYK\",\"NYK\",\"NYK\",\"NYK\",\"NYK\",\"NYK\",\"NYK\",\"NYK\",\"NYK\",\"NYK\"],\"textfont\":{\"size\":7},\"x\":[2001,2002,2003,2004,2005,2006,2007,2008,2009,2010,2011,2012,2013,2014,2015,2016,2017,2018,2019,2020,2021,2022,2023,2024,2025],\"y\":[null,null,null,null,null,null,null,null,null,null,null,null,null,26.971942826892537,21.18666316618535,22.697410794795825,25.306633291614517,23.749844893907433,29.366812227074234,28.389444949954505,30.926508435802116,38.062327217893944,36.02163757069093,37.24470379297222,35.46195652173913],\"type\":\"scatter\"},{\"hovertemplate\":\"Team: ORL\\u003cbr\\u003eYear: %{x}\\u003cbr\\u003eFG3A: %{y:.2f}\\u003cextra\\u003e\\u003c\\u002fextra\\u003e\",\"marker\":{\"color\":\"#C4CED4\",\"line\":{\"color\":\"white\",\"width\":1.5},\"size\":27},\"mode\":\"markers+text\",\"name\":\"ORL\",\"text\":[\"ORL\",\"ORL\",\"ORL\",\"ORL\",\"ORL\",\"ORL\",\"ORL\",\"ORL\",\"ORL\",\"ORL\",\"ORL\",\"ORL\",\"ORL\",\"ORL\",\"ORL\",\"ORL\",\"ORL\",\"ORL\",\"ORL\",\"ORL\",\"ORL\",\"ORL\",\"ORL\",\"ORL\",\"ORL\"],\"textfont\":{\"size\":7},\"x\":[2001,2002,2003,2004,2005,2006,2007,2008,2009,2010,2011,2012,2013,2014,2015,2016,2017,2018,2019,2020,2021,2022,2023,2024,2025],\"y\":[null,null,null,null,null,null,null,null,null,null,null,null,null,20.364935562077324,20.558342982117587,22.673983537041657,26.774314682688697,29.70602766798419,32.374277634329275,32.44658855961406,31.964235820061468,36.75057764806032,31.09079829372334,32.01196709050112,38.26166934927569],\"type\":\"scatter\"},{\"hovertemplate\":\"Team: IND\\u003cbr\\u003eYear: %{x}\\u003cbr\\u003eFG3A: %{y:.2f}\\u003cextra\\u003e\\u003c\\u002fextra\\u003e\",\"marker\":{\"color\":\"#FDBB30\",\"line\":{\"color\":\"white\",\"width\":1.5},\"size\":27},\"mode\":\"markers+text\",\"name\":\"IND\",\"text\":[\"IND\",\"IND\",\"IND\",\"IND\",\"IND\",\"IND\",\"IND\",\"IND\",\"IND\",\"IND\",\"IND\",\"IND\",\"IND\",\"IND\",\"IND\",\"IND\",\"IND\",\"IND\",\"IND\",\"IND\",\"IND\",\"IND\",\"IND\",\"IND\",\"IND\"],\"textfont\":{\"size\":7},\"x\":[2001,2002,2003,2004,2005,2006,2007,2008,2009,2010,2011,2012,2013,2014,2015,2016,2017,2018,2019,2020,2021,2022,2023,2024,2025],\"y\":[null,null,null,null,null,null,null,null,null,null,null,null,null,20.141065830721004,22.442925319231264,23.413485374318295,23.5949430466892,25.197442647611883,25.700876867975794,28.031237155774765,32.955923978972905,35.5008572128337,36.17046675420795,34.46179520801049,33.40239410681399],\"type\":\"scatter\"},{\"hovertemplate\":\"Team: PHI\\u003cbr\\u003eYear: %{x}\\u003cbr\\u003eFG3A: %{y:.2f}\\u003cextra\\u003e\\u003c\\u002fextra\\u003e\",\"marker\":{\"color\":\"#ED174C\",\"line\":{\"color\":\"white\",\"width\":1.5},\"size\":27},\"mode\":\"markers+text\",\"name\":\"PHI\",\"text\":[\"PHI\",\"PHI\",\"PHI\",\"PHI\",\"PHI\",\"PHI\",\"PHI\",\"PHI\",\"PHI\",\"PHI\",\"PHI\",\"PHI\",\"PHI\",\"PHI\",\"PHI\",\"PHI\",\"PHI\",\"PHI\",\"PHI\",\"PHI\",\"PHI\",\"PHI\",\"PHI\",\"PHI\",\"PHI\"],\"textfont\":{\"size\":7},\"x\":[2001,2002,2003,2004,2005,2006,2007,2008,2009,2010,2011,2012,2013,2014,2015,2016,2017,2018,2019,2020,2021,2022,2023,2024,2025],\"y\":[null,null,null,null,null,null,null,null,null,null,null,null,null,22.425934919864012,27.169811320754718,27.774356447838404,29.86917716102213,29.461380889263765,29.219322073934098,31.585432639649508,29.826732673267326,32.70219435736677,33.1392467789891,33.78244746600742,37.01724556716055],\"type\":\"scatter\"},{\"hovertemplate\":\"Team: PHX\\u003cbr\\u003eYear: %{x}\\u003cbr\\u003eFG3A: %{y:.2f}\\u003cextra\\u003e\\u003c\\u002fextra\\u003e\",\"marker\":{\"color\":\"#E56020\",\"line\":{\"color\":\"white\",\"width\":1.5},\"size\":27},\"mode\":\"markers+text\",\"name\":\"PHX\",\"text\":[\"PHX\",\"PHX\",\"PHX\",\"PHX\",\"PHX\",\"PHX\",\"PHX\",\"PHX\",\"PHX\",\"PHX\",\"PHX\",\"PHX\",\"PHX\",\"PHX\",\"PHX\",\"PHX\",\"PHX\",\"PHX\",\"PHX\",\"PHX\",\"PHX\",\"PHX\",\"PHX\",\"PHX\",\"PHX\"],\"textfont\":{\"size\":7},\"x\":[2001,2002,2003,2004,2005,2006,2007,2008,2009,2010,2011,2012,2013,2014,2015,2016,2017,2018,2019,2020,2021,2022,2023,2024,2025],\"y\":[null,null,null,null,null,null,null,null,null,null,null,null,null,25.77448890003763,25.415735914619013,25.98135426889107,22.283653846153847,27.56541661642349,28.670409747939313,31.14512015035575,34.88860865910046,31.739868963843726,32.84608770421324,32.74086785976955,37.08243210766643],\"type\":\"scatter\"},{\"hovertemplate\":\"Team: POR\\u003cbr\\u003eYear: %{x}\\u003cbr\\u003eFG3A: %{y:.2f}\\u003cextra\\u003e\\u003c\\u002fextra\\u003e\",\"marker\":{\"color\":\"#000000\",\"line\":{\"color\":\"white\",\"width\":1.5},\"size\":27},\"mode\":\"markers+text\",\"name\":\"POR\",\"text\":[\"POR\",\"POR\",\"POR\",\"POR\",\"POR\",\"POR\",\"POR\",\"POR\",\"POR\",\"POR\",\"POR\",\"POR\",\"POR\",\"POR\",\"POR\",\"POR\",\"POR\",\"POR\",\"POR\",\"POR\",\"POR\",\"POR\",\"POR\",\"POR\",\"POR\"],\"textfont\":{\"size\":7},\"x\":[2001,2002,2003,2004,2005,2006,2007,2008,2009,2010,2011,2012,2013,2014,2015,2016,2017,2018,2019,2020,2021,2022,2023,2024,2025],\"y\":[null,null,null,null,null,null,null,null,null,null,null,null,null,26.116015132408574,28.35536349771225,29.156265601597603,28.090999010880317,28.87887887887888,30.475269077276575,33.581593296980984,41.179767409275605,37.1551724137931,35.46647051612112,33.60483771442676,36.34660421545667],\"type\":\"scatter\"},{\"hovertemplate\":\"Team: SAC\\u003cbr\\u003eYear: %{x}\\u003cbr\\u003eFG3A: %{y:.2f}\\u003cextra\\u003e\\u003c\\u002fextra\\u003e\",\"marker\":{\"color\":\"#63727A\",\"line\":{\"color\":\"white\",\"width\":1.5},\"size\":27},\"mode\":\"markers+text\",\"name\":\"SAC\",\"text\":[\"SAC\",\"SAC\",\"SAC\",\"SAC\",\"SAC\",\"SAC\",\"SAC\",\"SAC\",\"SAC\",\"SAC\",\"SAC\",\"SAC\",\"SAC\",\"SAC\",\"SAC\",\"SAC\",\"SAC\",\"SAC\",\"SAC\",\"SAC\",\"SAC\",\"SAC\",\"SAC\",\"SAC\",\"SAC\"],\"textfont\":{\"size\":7},\"x\":[2001,2002,2003,2004,2005,2006,2007,2008,2009,2010,2011,2012,2013,2014,2015,2016,2017,2018,2019,2020,2021,2022,2023,2024,2025],\"y\":[null,null,null,null,null,null,null,null,null,null,null,null,null,18.81377551020408,16.976861167002014,22.15128884606119,24.775628871192012,25.025445292620866,28.730251609128146,34.68711147948612,33.03055326176713,32.98594280174503,36.67745415318231,39.13202042304887,35.714285714285715],\"type\":\"scatter\"},{\"hovertemplate\":\"Team: SAS\\u003cbr\\u003eYear: %{x}\\u003cbr\\u003eFG3A: %{y:.2f}\\u003cextra\\u003e\\u003c\\u002fextra\\u003e\",\"marker\":{\"color\":\"#000000\",\"line\":{\"color\":\"white\",\"width\":1.5},\"size\":27},\"mode\":\"markers+text\",\"name\":\"SAS\",\"text\":[\"SAS\",\"SAS\",\"SAS\",\"SAS\",\"SAS\",\"SAS\",\"SAS\",\"SAS\",\"SAS\",\"SAS\",\"SAS\",\"SAS\",\"SAS\",\"SAS\",\"SAS\",\"SAS\",\"SAS\",\"SAS\",\"SAS\",\"SAS\",\"SAS\",\"SAS\",\"SAS\",\"SAS\",\"SAS\"],\"textfont\":{\"size\":7},\"x\":[2001,2002,2003,2004,2005,2006,2007,2008,2009,2010,2011,2012,2013,2014,2015,2016,2017,2018,2019,2020,2021,2022,2023,2024,2025],\"y\":[null,null,null,null,null,null,null,null,null,null,null,null,null,22.27716495498922,23.498727735368956,19.544225569718037,24.604187946884576,25.13029108936062,25.373682920852733,27.879707545868396,28.275290215588722,31.676718938480096,31.23890663826766,35.457030785688815,39.922008286619544],\"type\":\"scatter\"},{\"hovertemplate\":\"Team: MEM\\u003cbr\\u003eYear: %{x}\\u003cbr\\u003eFG3A: %{y:.2f}\\u003cextra\\u003e\\u003c\\u002fextra\\u003e\",\"marker\":{\"color\":\"#12173F\",\"line\":{\"color\":\"white\",\"width\":1.5},\"size\":27},\"mode\":\"markers+text\",\"name\":\"MEM\",\"text\":[\"MEM\",\"MEM\",\"MEM\",\"MEM\",\"MEM\",\"MEM\",\"MEM\",\"MEM\",\"MEM\",\"MEM\",\"MEM\",\"MEM\",\"MEM\",\"MEM\",\"MEM\",\"MEM\",\"MEM\",\"MEM\",\"MEM\",\"MEM\",\"MEM\",\"MEM\",\"MEM\",\"MEM\"],\"textfont\":{\"size\":7},\"x\":[2002,2003,2004,2005,2006,2007,2008,2009,2010,2011,2012,2013,2014,2015,2016,2017,2018,2019,2020,2021,2022,2023,2024,2025],\"y\":[null,null,null,null,null,null,null,null,null,null,null,null,15.34242910647405,16.19022869022869,19.592940873373696,28.16151648922358,27.361729179911,29.46006469270963,30.375562020629463,30.923034784990413,32.29656419529837,33.57655502392345,38.10285433070866,36.03982300884956],\"type\":\"scatter\"},{\"hovertemplate\":\"Team: NOH\\u003cbr\\u003eYear: %{x}\\u003cbr\\u003eFG3A: %{y:.2f}\\u003cextra\\u003e\\u003c\\u002fextra\\u003e\",\"marker\":{\"color\":\"#1D428A\",\"line\":{\"color\":\"white\",\"width\":1.5},\"size\":27},\"mode\":\"markers+text\",\"name\":\"NOH\",\"text\":[\"NOH\",\"NOH\",\"NOH\",\"NOH\",\"NOH\",\"NOH\",\"NOH\",\"NOH\",\"NOH\"],\"textfont\":{\"size\":7},\"x\":[2003,2004,2005,2008,2009,2010,2011,2012,2013],\"y\":[null,null,null,null,null,null,null,null,null],\"type\":\"scatter\"},{\"hovertemplate\":\"Team: CHA\\u003cbr\\u003eYear: %{x}\\u003cbr\\u003eFG3A: %{y:.2f}\\u003cextra\\u003e\\u003c\\u002fextra\\u003e\",\"marker\":{\"color\":\"#00788C\",\"line\":{\"color\":\"white\",\"width\":1.5},\"size\":27},\"mode\":\"markers+text\",\"name\":\"CHA\",\"text\":[\"CHA\",\"CHA\",\"CHA\",\"CHA\",\"CHA\",\"CHA\",\"CHA\",\"CHA\",\"CHA\",\"CHA\",\"CHA\",\"CHA\",\"CHA\",\"CHA\",\"CHA\",\"CHA\",\"CHA\",\"CHA\",\"CHA\",\"CHA\",\"CHA\"],\"textfont\":{\"size\":7},\"x\":[2005,2006,2007,2008,2009,2010,2011,2012,2013,2014,2015,2016,2017,2018,2019,2020,2021,2022,2023,2024,2025],\"y\":[null,null,null,null,null,null,null,null,null,19.074170124481327,20.19863278730814,30.253577705247302,29.581547769095035,27.422325924106595,33.93074859790295,35.317397498812724,37.2398379661964,37.6111511655852,31.811680572109655,34.64645209394806,41.856256463288524],\"type\":\"scatter\"},{\"hovertemplate\":\"Team: NOK\\u003cbr\\u003eYear: %{x}\\u003cbr\\u003eFG3A: %{y:.2f}\\u003cextra\\u003e\\u003c\\u002fextra\\u003e\",\"marker\":{\"color\":\"#1D428A\",\"line\":{\"color\":\"white\",\"width\":1.5},\"size\":27},\"mode\":\"markers+text\",\"name\":\"NOK\",\"text\":[\"NOK\",\"NOK\"],\"textfont\":{\"size\":7},\"x\":[2006,2007],\"y\":[null,null],\"type\":\"scatter\"},{\"hovertemplate\":\"Team: OKC\\u003cbr\\u003eYear: %{x}\\u003cbr\\u003eFG3A: %{y:.2f}\\u003cextra\\u003e\\u003c\\u002fextra\\u003e\",\"marker\":{\"color\":\"#EF3B24\",\"line\":{\"color\":\"white\",\"width\":1.5},\"size\":27},\"mode\":\"markers+text\",\"name\":\"OKC\",\"text\":[\"OKC\",\"OKC\",\"OKC\",\"OKC\",\"OKC\",\"OKC\",\"OKC\",\"OKC\",\"OKC\",\"OKC\",\"OKC\",\"OKC\",\"OKC\",\"OKC\",\"OKC\",\"OKC\",\"OKC\"],\"textfont\":{\"size\":7},\"x\":[2009,2010,2011,2012,2013,2014,2015,2016,2017,2018,2019,2020,2021,2022,2023,2024,2025],\"y\":[null,null,null,null,null,23.120442544631633,23.335002503755632,24.128520034735146,26.12668230645759,30.998008959681435,31.313603930284245,30.077583818232196,34.39412484700122,37.399365698950966,33.15945465323059,33.6977414704469,38.481613285883746],\"type\":\"scatter\"},{\"hovertemplate\":\"Team: BKN\\u003cbr\\u003eYear: %{x}\\u003cbr\\u003eFG3A: %{y:.2f}\\u003cextra\\u003e\\u003c\\u002fextra\\u003e\",\"marker\":{\"color\":\"#FFFFFF\",\"line\":{\"color\":\"white\",\"width\":1.5},\"size\":27},\"mode\":\"markers+text\",\"name\":\"BKN\",\"text\":[\"BKN\",\"BKN\",\"BKN\",\"BKN\",\"BKN\",\"BKN\",\"BKN\",\"BKN\",\"BKN\",\"BKN\",\"BKN\",\"BKN\",\"BKN\"],\"textfont\":{\"size\":7},\"x\":[2013,2014,2015,2016,2017,2018,2019,2020,2021,2022,2023,2024,2025],\"y\":[null,25.08156074644395,20.997814067121,19.08136150828799,30.952096523712818,35.49405195435785,35.08045433033602,37.0880605078336,35.714285714285715,31.82096123272594,34.16348169153002,37.391304347826086,40.242763772175536],\"type\":\"scatter\"},{\"hovertemplate\":\"Team: NOP\\u003cbr\\u003eYear: %{x}\\u003cbr\\u003eFG3A: %{y:.2f}\\u003cextra\\u003e\\u003c\\u002fextra\\u003e\",\"marker\":{\"color\":\"#C8102E\",\"line\":{\"color\":\"white\",\"width\":1.5},\"size\":27},\"mode\":\"markers+text\",\"name\":\"NOP\",\"text\":[\"NOP\",\"NOP\",\"NOP\",\"NOP\",\"NOP\",\"NOP\",\"NOP\",\"NOP\",\"NOP\",\"NOP\",\"NOP\",\"NOP\"],\"textfont\":{\"size\":7},\"x\":[2014,2015,2016,2017,2018,2019,2020,2021,2022,2023,2024,2025],\"y\":[16.915487472413346,20.807045215562567,24.26315134933466,26.868958766670744,27.38363141063603,28.633228107096926,35.188129305776364,29.987676297412023,32.61786600496278,29.95509163733463,32.99592642883594,35.712661968629234],\"type\":\"scatter\"}],                        {\"template\":{\"data\":{\"histogram2dcontour\":[{\"type\":\"histogram2dcontour\",\"colorbar\":{\"outlinewidth\":0,\"ticks\":\"\"},\"colorscale\":[[0.0,\"#0d0887\"],[0.1111111111111111,\"#46039f\"],[0.2222222222222222,\"#7201a8\"],[0.3333333333333333,\"#9c179e\"],[0.4444444444444444,\"#bd3786\"],[0.5555555555555556,\"#d8576b\"],[0.6666666666666666,\"#ed7953\"],[0.7777777777777778,\"#fb9f3a\"],[0.8888888888888888,\"#fdca26\"],[1.0,\"#f0f921\"]]}],\"choropleth\":[{\"type\":\"choropleth\",\"colorbar\":{\"outlinewidth\":0,\"ticks\":\"\"}}],\"histogram2d\":[{\"type\":\"histogram2d\",\"colorbar\":{\"outlinewidth\":0,\"ticks\":\"\"},\"colorscale\":[[0.0,\"#0d0887\"],[0.1111111111111111,\"#46039f\"],[0.2222222222222222,\"#7201a8\"],[0.3333333333333333,\"#9c179e\"],[0.4444444444444444,\"#bd3786\"],[0.5555555555555556,\"#d8576b\"],[0.6666666666666666,\"#ed7953\"],[0.7777777777777778,\"#fb9f3a\"],[0.8888888888888888,\"#fdca26\"],[1.0,\"#f0f921\"]]}],\"heatmap\":[{\"type\":\"heatmap\",\"colorbar\":{\"outlinewidth\":0,\"ticks\":\"\"},\"colorscale\":[[0.0,\"#0d0887\"],[0.1111111111111111,\"#46039f\"],[0.2222222222222222,\"#7201a8\"],[0.3333333333333333,\"#9c179e\"],[0.4444444444444444,\"#bd3786\"],[0.5555555555555556,\"#d8576b\"],[0.6666666666666666,\"#ed7953\"],[0.7777777777777778,\"#fb9f3a\"],[0.8888888888888888,\"#fdca26\"],[1.0,\"#f0f921\"]]}],\"heatmapgl\":[{\"type\":\"heatmapgl\",\"colorbar\":{\"outlinewidth\":0,\"ticks\":\"\"},\"colorscale\":[[0.0,\"#0d0887\"],[0.1111111111111111,\"#46039f\"],[0.2222222222222222,\"#7201a8\"],[0.3333333333333333,\"#9c179e\"],[0.4444444444444444,\"#bd3786\"],[0.5555555555555556,\"#d8576b\"],[0.6666666666666666,\"#ed7953\"],[0.7777777777777778,\"#fb9f3a\"],[0.8888888888888888,\"#fdca26\"],[1.0,\"#f0f921\"]]}],\"contourcarpet\":[{\"type\":\"contourcarpet\",\"colorbar\":{\"outlinewidth\":0,\"ticks\":\"\"}}],\"contour\":[{\"type\":\"contour\",\"colorbar\":{\"outlinewidth\":0,\"ticks\":\"\"},\"colorscale\":[[0.0,\"#0d0887\"],[0.1111111111111111,\"#46039f\"],[0.2222222222222222,\"#7201a8\"],[0.3333333333333333,\"#9c179e\"],[0.4444444444444444,\"#bd3786\"],[0.5555555555555556,\"#d8576b\"],[0.6666666666666666,\"#ed7953\"],[0.7777777777777778,\"#fb9f3a\"],[0.8888888888888888,\"#fdca26\"],[1.0,\"#f0f921\"]]}],\"surface\":[{\"type\":\"surface\",\"colorbar\":{\"outlinewidth\":0,\"ticks\":\"\"},\"colorscale\":[[0.0,\"#0d0887\"],[0.1111111111111111,\"#46039f\"],[0.2222222222222222,\"#7201a8\"],[0.3333333333333333,\"#9c179e\"],[0.4444444444444444,\"#bd3786\"],[0.5555555555555556,\"#d8576b\"],[0.6666666666666666,\"#ed7953\"],[0.7777777777777778,\"#fb9f3a\"],[0.8888888888888888,\"#fdca26\"],[1.0,\"#f0f921\"]]}],\"mesh3d\":[{\"type\":\"mesh3d\",\"colorbar\":{\"outlinewidth\":0,\"ticks\":\"\"}}],\"scatter\":[{\"fillpattern\":{\"fillmode\":\"overlay\",\"size\":10,\"solidity\":0.2},\"type\":\"scatter\"}],\"parcoords\":[{\"type\":\"parcoords\",\"line\":{\"colorbar\":{\"outlinewidth\":0,\"ticks\":\"\"}}}],\"scatterpolargl\":[{\"type\":\"scatterpolargl\",\"marker\":{\"colorbar\":{\"outlinewidth\":0,\"ticks\":\"\"}}}],\"bar\":[{\"error_x\":{\"color\":\"#2a3f5f\"},\"error_y\":{\"color\":\"#2a3f5f\"},\"marker\":{\"line\":{\"color\":\"#E5ECF6\",\"width\":0.5},\"pattern\":{\"fillmode\":\"overlay\",\"size\":10,\"solidity\":0.2}},\"type\":\"bar\"}],\"scattergeo\":[{\"type\":\"scattergeo\",\"marker\":{\"colorbar\":{\"outlinewidth\":0,\"ticks\":\"\"}}}],\"scatterpolar\":[{\"type\":\"scatterpolar\",\"marker\":{\"colorbar\":{\"outlinewidth\":0,\"ticks\":\"\"}}}],\"histogram\":[{\"marker\":{\"pattern\":{\"fillmode\":\"overlay\",\"size\":10,\"solidity\":0.2}},\"type\":\"histogram\"}],\"scattergl\":[{\"type\":\"scattergl\",\"marker\":{\"colorbar\":{\"outlinewidth\":0,\"ticks\":\"\"}}}],\"scatter3d\":[{\"type\":\"scatter3d\",\"line\":{\"colorbar\":{\"outlinewidth\":0,\"ticks\":\"\"}},\"marker\":{\"colorbar\":{\"outlinewidth\":0,\"ticks\":\"\"}}}],\"scattermapbox\":[{\"type\":\"scattermapbox\",\"marker\":{\"colorbar\":{\"outlinewidth\":0,\"ticks\":\"\"}}}],\"scatterternary\":[{\"type\":\"scatterternary\",\"marker\":{\"colorbar\":{\"outlinewidth\":0,\"ticks\":\"\"}}}],\"scattercarpet\":[{\"type\":\"scattercarpet\",\"marker\":{\"colorbar\":{\"outlinewidth\":0,\"ticks\":\"\"}}}],\"carpet\":[{\"aaxis\":{\"endlinecolor\":\"#2a3f5f\",\"gridcolor\":\"white\",\"linecolor\":\"white\",\"minorgridcolor\":\"white\",\"startlinecolor\":\"#2a3f5f\"},\"baxis\":{\"endlinecolor\":\"#2a3f5f\",\"gridcolor\":\"white\",\"linecolor\":\"white\",\"minorgridcolor\":\"white\",\"startlinecolor\":\"#2a3f5f\"},\"type\":\"carpet\"}],\"table\":[{\"cells\":{\"fill\":{\"color\":\"#EBF0F8\"},\"line\":{\"color\":\"white\"}},\"header\":{\"fill\":{\"color\":\"#C8D4E3\"},\"line\":{\"color\":\"white\"}},\"type\":\"table\"}],\"barpolar\":[{\"marker\":{\"line\":{\"color\":\"#E5ECF6\",\"width\":0.5},\"pattern\":{\"fillmode\":\"overlay\",\"size\":10,\"solidity\":0.2}},\"type\":\"barpolar\"}],\"pie\":[{\"automargin\":true,\"type\":\"pie\"}]},\"layout\":{\"autotypenumbers\":\"strict\",\"colorway\":[\"#636efa\",\"#EF553B\",\"#00cc96\",\"#ab63fa\",\"#FFA15A\",\"#19d3f3\",\"#FF6692\",\"#B6E880\",\"#FF97FF\",\"#FECB52\"],\"font\":{\"color\":\"#2a3f5f\"},\"hovermode\":\"closest\",\"hoverlabel\":{\"align\":\"left\"},\"paper_bgcolor\":\"white\",\"plot_bgcolor\":\"#E5ECF6\",\"polar\":{\"bgcolor\":\"#E5ECF6\",\"angularaxis\":{\"gridcolor\":\"white\",\"linecolor\":\"white\",\"ticks\":\"\"},\"radialaxis\":{\"gridcolor\":\"white\",\"linecolor\":\"white\",\"ticks\":\"\"}},\"ternary\":{\"bgcolor\":\"#E5ECF6\",\"aaxis\":{\"gridcolor\":\"white\",\"linecolor\":\"white\",\"ticks\":\"\"},\"baxis\":{\"gridcolor\":\"white\",\"linecolor\":\"white\",\"ticks\":\"\"},\"caxis\":{\"gridcolor\":\"white\",\"linecolor\":\"white\",\"ticks\":\"\"}},\"coloraxis\":{\"colorbar\":{\"outlinewidth\":0,\"ticks\":\"\"}},\"colorscale\":{\"sequential\":[[0.0,\"#0d0887\"],[0.1111111111111111,\"#46039f\"],[0.2222222222222222,\"#7201a8\"],[0.3333333333333333,\"#9c179e\"],[0.4444444444444444,\"#bd3786\"],[0.5555555555555556,\"#d8576b\"],[0.6666666666666666,\"#ed7953\"],[0.7777777777777778,\"#fb9f3a\"],[0.8888888888888888,\"#fdca26\"],[1.0,\"#f0f921\"]],\"sequentialminus\":[[0.0,\"#0d0887\"],[0.1111111111111111,\"#46039f\"],[0.2222222222222222,\"#7201a8\"],[0.3333333333333333,\"#9c179e\"],[0.4444444444444444,\"#bd3786\"],[0.5555555555555556,\"#d8576b\"],[0.6666666666666666,\"#ed7953\"],[0.7777777777777778,\"#fb9f3a\"],[0.8888888888888888,\"#fdca26\"],[1.0,\"#f0f921\"]],\"diverging\":[[0,\"#8e0152\"],[0.1,\"#c51b7d\"],[0.2,\"#de77ae\"],[0.3,\"#f1b6da\"],[0.4,\"#fde0ef\"],[0.5,\"#f7f7f7\"],[0.6,\"#e6f5d0\"],[0.7,\"#b8e186\"],[0.8,\"#7fbc41\"],[0.9,\"#4d9221\"],[1,\"#276419\"]]},\"xaxis\":{\"gridcolor\":\"white\",\"linecolor\":\"white\",\"ticks\":\"\",\"title\":{\"standoff\":15},\"zerolinecolor\":\"white\",\"automargin\":true,\"zerolinewidth\":2},\"yaxis\":{\"gridcolor\":\"white\",\"linecolor\":\"white\",\"ticks\":\"\",\"title\":{\"standoff\":15},\"zerolinecolor\":\"white\",\"automargin\":true,\"zerolinewidth\":2},\"scene\":{\"xaxis\":{\"backgroundcolor\":\"#E5ECF6\",\"gridcolor\":\"white\",\"linecolor\":\"white\",\"showbackground\":true,\"ticks\":\"\",\"zerolinecolor\":\"white\",\"gridwidth\":2},\"yaxis\":{\"backgroundcolor\":\"#E5ECF6\",\"gridcolor\":\"white\",\"linecolor\":\"white\",\"showbackground\":true,\"ticks\":\"\",\"zerolinecolor\":\"white\",\"gridwidth\":2},\"zaxis\":{\"backgroundcolor\":\"#E5ECF6\",\"gridcolor\":\"white\",\"linecolor\":\"white\",\"showbackground\":true,\"ticks\":\"\",\"zerolinecolor\":\"white\",\"gridwidth\":2}},\"shapedefaults\":{\"line\":{\"color\":\"#2a3f5f\"}},\"annotationdefaults\":{\"arrowcolor\":\"#2a3f5f\",\"arrowhead\":0,\"arrowwidth\":1},\"geo\":{\"bgcolor\":\"white\",\"landcolor\":\"#E5ECF6\",\"subunitcolor\":\"white\",\"showland\":true,\"showlakes\":true,\"lakecolor\":\"white\"},\"title\":{\"x\":0.05},\"mapbox\":{\"style\":\"light\"}}},\"title\":{\"font\":{\"size\":24,\"color\":\"white\",\"family\":\"Arial Black\"},\"text\":\"NBA Team FG3A Across Years\\u003cbr\\u003e\\u003cspan style=\\\"font-size: 20px; color: #CCCCCC\\\"\\u003e2014 to 2025\\u003c\\u002fspan\\u003e\",\"y\":0.95,\"x\":0.5,\"xanchor\":\"center\",\"yanchor\":\"top\"},\"font\":{\"color\":\"white\",\"family\":\"Arial\"},\"xaxis\":{\"title\":{\"text\":\"Year\"},\"tickmode\":\"linear\",\"tick0\":2014,\"dtick\":1,\"gridcolor\":\"rgba(255,255,255,0.1)\"},\"yaxis\":{\"title\":{\"text\":\"FG3A\"},\"gridcolor\":\"rgba(255,255,255,0.1)\"},\"legend\":{\"font\":{\"size\":10},\"bgcolor\":\"rgba(0,0,0,0.5)\",\"bordercolor\":\"white\",\"borderwidth\":1},\"height\":800,\"width\":1200,\"plot_bgcolor\":\"#1E1E1E\",\"paper_bgcolor\":\"#121212\"},                        {\"responsive\": true}                    ).then(function(){\n",
       "                            \n",
       "var gd = document.getElementById('c154447a-7519-40de-adb3-9cfead5c302d');\n",
       "var x = new MutationObserver(function (mutations, observer) {{\n",
       "        var display = window.getComputedStyle(gd).display;\n",
       "        if (!display || display === 'none') {{\n",
       "            console.log([gd, 'removed!']);\n",
       "            Plotly.purge(gd);\n",
       "            observer.disconnect();\n",
       "        }}\n",
       "}});\n",
       "\n",
       "// Listen for the removal of the full notebook cells\n",
       "var notebookContainer = gd.closest('#notebook-container');\n",
       "if (notebookContainer) {{\n",
       "    x.observe(notebookContainer, {childList: true});\n",
       "}}\n",
       "\n",
       "// Listen for the clearing of the current output cell\n",
       "var outputEl = gd.closest('.output');\n",
       "if (outputEl) {{\n",
       "    x.observe(outputEl, {childList: true});\n",
       "}}\n",
       "\n",
       "                        })                };                });            </script>        </div>"
      ]
     },
     "metadata": {},
     "output_type": "display_data"
    }
   ],
   "source": [
    "import pandas as pd\n",
    "import plotly.graph_objects as go\n",
    "import plotly.express as px\n",
    "\n",
    "def get_multi_year_data(start_year, end_year):\n",
    "    \"\"\"\n",
    "    Retrieve team performance data across multiple years\n",
    "    \"\"\"\n",
    "    url='https://raw.githubusercontent.com/gabriel1200/player_sheets/refs/heads/master/team_totals/all_teamyears.csv'\n",
    "    \n",
    "    df =pd.read_csv(url)\n",
    "    return df\n",
    "\n",
    "def create_multi_year_dot_plot(metric_column, start_year=2014, end_year=2025):\n",
    "    \"\"\"\n",
    "    Create a dot plot showing team performance across multiple years\n",
    "    \"\"\"\n",
    "    # NBA team colors dictionary\n",
    "    team_colors = {\n",
    "        'ATL': '#C1D32F', 'BOS': '#BA9653', 'BKN': '#FFFFFF', 'CHA': '#00788C',\n",
    "        'CHI': '#000000', 'CLE': '#041E42', 'DAL': '#002B5E', 'DEN': '#FEC524',\n",
    "        'DET': '#1D42BA', 'GSW': '#FFC72C', 'HOU': '#000000', 'IND': '#FDBB30',\n",
    "        'LAC': '#1D428A', 'LAL': '#FDB927', 'MEM': '#12173F', 'MIA': '#F9A01B',\n",
    "        'MIL': '#EEE1C6', 'MIN': '#236192', 'NOP': '#C8102E', 'NYK': '#F58426',\n",
    "        'OKC': '#EF3B24', 'ORL': '#C4CED4', 'PHI': '#ED174C', 'PHX': '#E56020',\n",
    "        'POR': '#000000', 'SAC': '#63727A', 'SAS': '#000000', 'TOR': '#000000',\n",
    "        'UTA': '#00471B', 'WAS': '#E31837'\n",
    "    }\n",
    "    \n",
    "    # Get data\n",
    "    df = get_multi_year_data(start_year, end_year)\n",
    "\n",
    "    ymin=df[metric_column].min()\n",
    "    ymax= df[metric_column].max()\n",
    "    df.dropna(subset=metric_column,inplace=True)\n",
    "    \n",
    "    # Normalize the metric if it's a percentage or needs per-possession normalization\n",
    "    if any(keyword in metric_column.lower() for keyword in ['freq', 'accur', 'pct', '%']):\n",
    "        df[metric_column] = df[metric_column] * 100\n",
    "    else:\n",
    "        # Assume per-possession normalization if not a percentage\n",
    "        df[metric_column] = 100 * df[metric_column] / df['POSS']\n",
    "    \n",
    "    # Prepare the data for plotting\n",
    "    if 'TeamAbbreviation' in df.columns:\n",
    "        df['Team'] = df['TeamAbbreviation']\n",
    "    \n",
    "    # Create the dot plot\n",
    "    fig = go.Figure()\n",
    "    \n",
    "    # Get unique teams\n",
    "    teams = df['Team'].unique()\n",
    "    \n",
    "    for team in teams:\n",
    "        team_data = df[df['Team'] == team]\n",
    "        \n",
    "        # Get team-specific color or default to a neutral color\n",
    "        color = team_colors.get(team, '#1D428A')\n",
    "        \n",
    "        fig.add_trace(go.Scatter(\n",
    "            x=team_data['year'],\n",
    "            y=team_data[metric_column],\n",
    "            mode='markers+text',\n",
    "            text=team_data['Team'],\n",
    "            name=team,\n",
    "            marker=dict(\n",
    "                color=color,\n",
    "                size=27,\n",
    "                line=dict(color='white', width=1.5)\n",
    "            ),\n",
    "            textfont=dict(\n",
    "                size=7  # Adjust the size to your preference\n",
    "                \n",
    "            ),\n",
    "            hovertemplate=(\n",
    "                f\"Team: {team}<br>\"\n",
    "                f\"Year: %{{x}}<br>\"\n",
    "                f\"{metric_column}: %{{y:.2f}}<extra></extra>\"\n",
    "            )\n",
    "        ))\n",
    "\n",
    "    \n",
    "    # Update layout for a stylish, dark theme visualization\n",
    "    fig.update_layout(\n",
    "        title={\n",
    "            'text': f'NBA Team {metric_column} Across Years<br>'\n",
    "                    f'<span style=\"font-size: 20px; color: #CCCCCC\">{start_year} to {end_year}</span>',\n",
    "            'font': {'size': 24, 'color': 'white', 'family': 'Arial Black'},\n",
    "            'y': 0.95,\n",
    "            'x': 0.5,\n",
    "            'xanchor': 'center',\n",
    "            'yanchor': 'top'\n",
    "        },\n",
    "        height=800,\n",
    "        width=1200,\n",
    "        plot_bgcolor='#1E1E1E',\n",
    "        paper_bgcolor='#121212',\n",
    "        font=dict(color='white', family='Arial'),\n",
    "        xaxis=dict(\n",
    "            title='Year',\n",
    "            tickmode='linear',\n",
    "            tick0=start_year,\n",
    "            dtick=1,\n",
    "            gridcolor='rgba(255,255,255,0.1)'\n",
    "        ),\n",
    "        yaxis=dict(\n",
    "            title=metric_column,\n",
    "            range=[ymin,ymax],\n",
    "            gridcolor='rgba(255,255,255,0.1)'\n",
    "        ),\n",
    "        legend=dict(\n",
    "            bgcolor='rgba(0,0,0,0.5)',\n",
    "            bordercolor='white',\n",
    "            borderwidth=1,\n",
    "            font=dict(size=10)\n",
    "        )\n",
    "    )\n",
    "    \n",
    "    return fig\n",
    "\n",
    "# Example usage\n",
    "fig = create_multi_year_dot_plot('FG3A', 2014, 2025)\n",
    "fig.show()"
   ]
  },
  {
   "cell_type": "code",
   "execution_count": null,
   "id": "d2a3fb23-d8d9-486c-a68b-a771ee4b1310",
   "metadata": {},
   "outputs": [],
   "source": []
  }
 ],
 "metadata": {
  "kernelspec": {
   "display_name": "Python 3 (ipykernel)",
   "language": "python",
   "name": "python3"
  },
  "language_info": {
   "codemirror_mode": {
    "name": "ipython",
    "version": 3
   },
   "file_extension": ".py",
   "mimetype": "text/x-python",
   "name": "python",
   "nbconvert_exporter": "python",
   "pygments_lexer": "ipython3",
   "version": "3.10.12"
  }
 },
 "nbformat": 4,
 "nbformat_minor": 5
}
