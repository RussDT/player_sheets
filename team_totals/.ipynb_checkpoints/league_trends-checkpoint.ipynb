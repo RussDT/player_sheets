{
 "cells": [
  {
   "cell_type": "code",
   "execution_count": 30,
   "id": "5b31acca-e204-4c14-8c7f-3d17b14c57a8",
   "metadata": {},
   "outputs": [
    {
     "name": "stdout",
     "output_type": "stream",
     "text": [
      "Total rows after year filtering: 416\n",
      "       min   max\n",
      "Team            \n",
      "ATL   2001  2014\n",
      "BKN   2013  2014\n",
      "BOS   2001  2014\n",
      "CHA   2005  2014\n",
      "CHH   2001  2002\n",
      "CHI   2001  2014\n",
      "CLE   2001  2014\n",
      "DAL   2001  2014\n",
      "DEN   2001  2014\n",
      "DET   2001  2014\n",
      "GSW   2001  2014\n",
      "HOU   2001  2014\n",
      "IND   2001  2014\n",
      "LAC   2001  2014\n",
      "LAL   2001  2014\n",
      "MEM   2002  2014\n",
      "MIA   2001  2014\n",
      "MIL   2001  2014\n",
      "MIN   2001  2014\n",
      "NJN   2001  2012\n",
      "NOH   2003  2013\n",
      "NOK   2006  2007\n",
      "NOP   2014  2014\n",
      "NYK   2001  2014\n",
      "OKC   2009  2014\n",
      "ORL   2001  2014\n",
      "PHI   2001  2014\n",
      "PHX   2001  2014\n",
      "POR   2001  2014\n",
      "SAC   2001  2014\n",
      "SAS   2001  2014\n",
      "SEA   2001  2008\n",
      "TOR   2001  2014\n",
      "UTA   2001  2014\n",
      "VAN   2001  2001\n",
      "WAS   2001  2014\n",
      "       min   max\n",
      "Team            \n",
      "ATL   2001  2014\n",
      "BKN   2013  2014\n",
      "BOS   2001  2014\n",
      "CHA   2005  2014\n",
      "CHH   2001  2002\n",
      "CHI   2001  2014\n",
      "CLE   2001  2014\n",
      "DAL   2001  2014\n",
      "DEN   2001  2014\n",
      "DET   2001  2014\n",
      "GSW   2001  2014\n",
      "HOU   2001  2014\n",
      "IND   2001  2014\n",
      "LAC   2001  2014\n",
      "LAL   2001  2014\n",
      "MEM   2002  2014\n",
      "MIA   2001  2014\n",
      "MIL   2001  2014\n",
      "MIN   2001  2014\n",
      "NJN   2001  2012\n",
      "NOH   2003  2013\n",
      "NOK   2006  2007\n",
      "NOP   2014  2014\n",
      "NYK   2001  2014\n",
      "OKC   2009  2014\n",
      "ORL   2001  2014\n",
      "PHI   2001  2014\n",
      "PHX   2001  2014\n",
      "POR   2001  2014\n",
      "SAC   2001  2014\n",
      "SAS   2001  2014\n",
      "SEA   2001  2008\n",
      "TOR   2001  2014\n",
      "UTA   2001  2014\n",
      "VAN   2001  2001\n",
      "WAS   2001  2014\n",
      "       min   max\n",
      "Team            \n",
      "ATL   2001  2014\n",
      "BKN   2013  2014\n",
      "BOS   2001  2014\n",
      "CHA   2005  2014\n",
      "CHH   2001  2002\n",
      "CHI   2001  2014\n",
      "CLE   2001  2014\n",
      "DAL   2001  2014\n",
      "DEN   2001  2014\n",
      "DET   2001  2014\n",
      "GSW   2001  2014\n",
      "HOU   2001  2014\n",
      "IND   2001  2014\n",
      "LAC   2001  2014\n",
      "LAL   2001  2014\n",
      "MEM   2002  2014\n",
      "MIA   2001  2014\n",
      "MIL   2001  2014\n",
      "MIN   2001  2014\n",
      "NJN   2001  2012\n",
      "NOH   2003  2013\n",
      "NOK   2006  2007\n",
      "NOP   2014  2014\n",
      "NYK   2001  2014\n",
      "OKC   2009  2014\n",
      "ORL   2001  2014\n",
      "PHI   2001  2014\n",
      "PHX   2001  2014\n",
      "POR   2001  2014\n",
      "SAC   2001  2014\n",
      "SAS   2001  2014\n",
      "SEA   2001  2008\n",
      "TOR   2001  2014\n",
      "UTA   2001  2014\n",
      "VAN   2001  2001\n",
      "WAS   2001  2014\n",
      "    index Team  year  FG3A  POSS    color\n",
      "0       0  SEA  2001   NaN   NaN      NaN\n",
      "1       1  DET  2001   NaN   NaN  #1D42BA\n",
      "2       2  CHH  2001   NaN   NaN      NaN\n",
      "3       3  UTA  2001   NaN   NaN  #00471B\n",
      "4       4  VAN  2001   NaN   NaN      NaN\n",
      "5       5  TOR  2001   NaN   NaN  #000000\n",
      "6       6  WAS  2001   NaN   NaN  #E31837\n",
      "7       7  CLE  2001   NaN   NaN  #041E42\n",
      "8       8  CHI  2001   NaN   NaN  #000000\n",
      "9       9  DAL  2001   NaN   NaN  #002B5E\n",
      "10     10  DEN  2001   NaN   NaN  #FEC524\n",
      "11     11  BOS  2001   NaN   NaN  #BA9653\n",
      "12     12  GSW  2001   NaN   NaN  #FFC72C\n",
      "13     13  HOU  2001   NaN   NaN  #000000\n",
      "14     14  LAC  2001   NaN   NaN  #1D428A\n",
      "15     15  LAL  2001   NaN   NaN  #FDB927\n",
      "16     16  ATL  2001   NaN   NaN  #C1D32F\n",
      "17     17  MIA  2001   NaN   NaN  #F9A01B\n",
      "18     18  MIL  2001   NaN   NaN  #EEE1C6\n",
      "19     19  MIN  2001   NaN   NaN  #236192\n",
      "20     20  NJN  2001   NaN   NaN      NaN\n",
      "21     21  NYK  2001   NaN   NaN  #F58426\n",
      "22     22  ORL  2001   NaN   NaN  #C4CED4\n",
      "23     23  IND  2001   NaN   NaN  #FDBB30\n",
      "24     24  PHI  2001   NaN   NaN  #ED174C\n",
      "25     25  PHX  2001   NaN   NaN  #E56020\n",
      "26     26  POR  2001   NaN   NaN  #000000\n",
      "27     27  SAC  2001   NaN   NaN  #63727A\n",
      "28     28  SAS  2001   NaN   NaN  #000000\n",
      "[2001, 2002, 2003, 2004, 2005, 2006, 2007, 2008, 2009, 2010, 2011, 2012, 2013, 2014]\n"
     ]
    },
    {
     "data": {
      "application/vnd.plotly.v1+json": {
       "config": {
        "plotlyServerURL": "https://plot.ly"
       },
       "data": [
        {
         "hovertemplate": "Team: 0     SEA\n1     DET\n2     CHH\n3     UTA\n4     VAN\n5     TOR\n6     WAS\n7     CLE\n8     CHI\n9     DAL\n10    DEN\n11    BOS\n12    GSW\n13    HOU\n14    LAC\n15    LAL\n16    ATL\n17    MIA\n18    MIL\n19    MIN\n20    NJN\n21    NYK\n22    ORL\n23    IND\n24    PHI\n25    PHX\n26    POR\n27    SAC\n28    SAS\nName: Team, dtype: object<br>Year: %{x}<br>FG3A: %{y:.2f}<extra></extra>",
         "marker": {
          "color": [
           null,
           "#1D42BA",
           null,
           "#00471B",
           null,
           "#000000",
           "#E31837",
           "#041E42",
           "#000000",
           "#002B5E",
           "#FEC524",
           "#BA9653",
           "#FFC72C",
           "#000000",
           "#1D428A",
           "#FDB927",
           "#C1D32F",
           "#F9A01B",
           "#EEE1C6",
           "#236192",
           null,
           "#F58426",
           "#C4CED4",
           "#FDBB30",
           "#ED174C",
           "#E56020",
           "#000000",
           "#63727A",
           "#000000"
          ],
          "line": {
           "color": "white",
           "width": 1.5
          },
          "size": 27
         },
         "mode": "markers+text",
         "text": [
          "SEA",
          "DET",
          "CHH",
          "UTA",
          "VAN",
          "TOR",
          "WAS",
          "CLE",
          "CHI",
          "DAL",
          "DEN",
          "BOS",
          "GSW",
          "HOU",
          "LAC",
          "LAL",
          "ATL",
          "MIA",
          "MIL",
          "MIN",
          "NJN",
          "NYK",
          "ORL",
          "IND",
          "PHI",
          "PHX",
          "POR",
          "SAC",
          "SAS"
         ],
         "textfont": {
          "size": 7
         },
         "type": "scatter",
         "x": [
          2001,
          2001,
          2001,
          2001,
          2001,
          2001,
          2001,
          2001,
          2001,
          2001,
          2001,
          2001,
          2001,
          2001,
          2001,
          2001,
          2001,
          2001,
          2001,
          2001,
          2001,
          2001,
          2001,
          2001,
          2001,
          2001,
          2001,
          2001,
          2001
         ],
         "y": [
          null,
          null,
          null,
          null,
          null,
          null,
          null,
          null,
          null,
          null,
          null,
          null,
          null,
          null,
          null,
          null,
          null,
          null,
          null,
          null,
          null,
          null,
          null,
          null,
          null,
          null,
          null,
          null,
          null
         ]
        },
        {
         "hovertemplate": "Team: 29    ATL\n30    BOS\n31    CLE\n32    CHI\n33    DAL\n34    DEN\n35    GSW\n36    HOU\n37    LAC\n38    LAL\n39    MIA\n40    MIL\n41    MIN\n42    NJN\n43    NYK\n44    ORL\n45    IND\n46    PHI\n47    PHX\n48    POR\n49    SAC\n50    SAS\n51    SEA\n52    TOR\n53    UTA\n54    MEM\n55    WAS\n56    DET\n57    CHH\nName: Team, dtype: object<br>Year: %{x}<br>FG3A: %{y:.2f}<extra></extra>",
         "marker": {
          "color": [
           "#C1D32F",
           "#BA9653",
           "#041E42",
           "#000000",
           "#002B5E",
           "#FEC524",
           "#FFC72C",
           "#000000",
           "#1D428A",
           "#FDB927",
           "#F9A01B",
           "#EEE1C6",
           "#236192",
           null,
           "#F58426",
           "#C4CED4",
           "#FDBB30",
           "#ED174C",
           "#E56020",
           "#000000",
           "#63727A",
           "#000000",
           null,
           "#000000",
           "#00471B",
           "#12173F",
           "#E31837",
           "#1D42BA",
           null
          ],
          "line": {
           "color": "white",
           "width": 1.5
          },
          "size": 27
         },
         "mode": "markers+text",
         "text": [
          "ATL",
          "BOS",
          "CLE",
          "CHI",
          "DAL",
          "DEN",
          "GSW",
          "HOU",
          "LAC",
          "LAL",
          "MIA",
          "MIL",
          "MIN",
          "NJN",
          "NYK",
          "ORL",
          "IND",
          "PHI",
          "PHX",
          "POR",
          "SAC",
          "SAS",
          "SEA",
          "TOR",
          "UTA",
          "MEM",
          "WAS",
          "DET",
          "CHH"
         ],
         "textfont": {
          "size": 7
         },
         "type": "scatter",
         "x": [
          2002,
          2002,
          2002,
          2002,
          2002,
          2002,
          2002,
          2002,
          2002,
          2002,
          2002,
          2002,
          2002,
          2002,
          2002,
          2002,
          2002,
          2002,
          2002,
          2002,
          2002,
          2002,
          2002,
          2002,
          2002,
          2002,
          2002,
          2002,
          2002
         ],
         "y": [
          null,
          null,
          null,
          null,
          null,
          null,
          null,
          null,
          null,
          null,
          null,
          null,
          null,
          null,
          null,
          null,
          null,
          null,
          null,
          null,
          null,
          null,
          null,
          null,
          null,
          null,
          null,
          null,
          null
         ]
        },
        {
         "hovertemplate": "Team: 58    DET\n59    ATL\n60    BOS\n61    CLE\n62    NOH\n63    CHI\n64    DAL\n65    DEN\n66    GSW\n67    HOU\n68    LAC\n69    LAL\n70    MIA\n71    MIL\n72    MIN\n73    NJN\n74    NYK\n75    ORL\n76    IND\n77    PHI\n78    PHX\n79    POR\n80    SAC\n81    SAS\n82    SEA\n83    TOR\n84    UTA\n85    MEM\n86    WAS\nName: Team, dtype: object<br>Year: %{x}<br>FG3A: %{y:.2f}<extra></extra>",
         "marker": {
          "color": [
           "#1D42BA",
           "#C1D32F",
           "#BA9653",
           "#041E42",
           null,
           "#000000",
           "#002B5E",
           "#FEC524",
           "#FFC72C",
           "#000000",
           "#1D428A",
           "#FDB927",
           "#F9A01B",
           "#EEE1C6",
           "#236192",
           null,
           "#F58426",
           "#C4CED4",
           "#FDBB30",
           "#ED174C",
           "#E56020",
           "#000000",
           "#63727A",
           "#000000",
           null,
           "#000000",
           "#00471B",
           "#12173F",
           "#E31837"
          ],
          "line": {
           "color": "white",
           "width": 1.5
          },
          "size": 27
         },
         "mode": "markers+text",
         "text": [
          "DET",
          "ATL",
          "BOS",
          "CLE",
          "NOH",
          "CHI",
          "DAL",
          "DEN",
          "GSW",
          "HOU",
          "LAC",
          "LAL",
          "MIA",
          "MIL",
          "MIN",
          "NJN",
          "NYK",
          "ORL",
          "IND",
          "PHI",
          "PHX",
          "POR",
          "SAC",
          "SAS",
          "SEA",
          "TOR",
          "UTA",
          "MEM",
          "WAS"
         ],
         "textfont": {
          "size": 7
         },
         "type": "scatter",
         "x": [
          2003,
          2003,
          2003,
          2003,
          2003,
          2003,
          2003,
          2003,
          2003,
          2003,
          2003,
          2003,
          2003,
          2003,
          2003,
          2003,
          2003,
          2003,
          2003,
          2003,
          2003,
          2003,
          2003,
          2003,
          2003,
          2003,
          2003,
          2003,
          2003
         ],
         "y": [
          null,
          null,
          null,
          null,
          null,
          null,
          null,
          null,
          null,
          null,
          null,
          null,
          null,
          null,
          null,
          null,
          null,
          null,
          null,
          null,
          null,
          null,
          null,
          null,
          null,
          null,
          null,
          null,
          null
         ]
        },
        {
         "hovertemplate": "Team: 87     SEA\n88     TOR\n89     UTA\n90     MEM\n91     WAS\n92     DET\n93     ATL\n94     BOS\n95     CLE\n96     NOH\n97     CHI\n98     DAL\n99     DEN\n100    GSW\n101    HOU\n102    LAC\n103    LAL\n104    MIA\n105    MIL\n106    MIN\n107    NJN\n108    NYK\n109    ORL\n110    IND\n111    PHI\n112    PHX\n113    POR\n114    SAC\n115    SAS\nName: Team, dtype: object<br>Year: %{x}<br>FG3A: %{y:.2f}<extra></extra>",
         "marker": {
          "color": [
           null,
           "#000000",
           "#00471B",
           "#12173F",
           "#E31837",
           "#1D42BA",
           "#C1D32F",
           "#BA9653",
           "#041E42",
           null,
           "#000000",
           "#002B5E",
           "#FEC524",
           "#FFC72C",
           "#000000",
           "#1D428A",
           "#FDB927",
           "#F9A01B",
           "#EEE1C6",
           "#236192",
           null,
           "#F58426",
           "#C4CED4",
           "#FDBB30",
           "#ED174C",
           "#E56020",
           "#000000",
           "#63727A",
           "#000000"
          ],
          "line": {
           "color": "white",
           "width": 1.5
          },
          "size": 27
         },
         "mode": "markers+text",
         "text": [
          "SEA",
          "TOR",
          "UTA",
          "MEM",
          "WAS",
          "DET",
          "ATL",
          "BOS",
          "CLE",
          "NOH",
          "CHI",
          "DAL",
          "DEN",
          "GSW",
          "HOU",
          "LAC",
          "LAL",
          "MIA",
          "MIL",
          "MIN",
          "NJN",
          "NYK",
          "ORL",
          "IND",
          "PHI",
          "PHX",
          "POR",
          "SAC",
          "SAS"
         ],
         "textfont": {
          "size": 7
         },
         "type": "scatter",
         "x": [
          2004,
          2004,
          2004,
          2004,
          2004,
          2004,
          2004,
          2004,
          2004,
          2004,
          2004,
          2004,
          2004,
          2004,
          2004,
          2004,
          2004,
          2004,
          2004,
          2004,
          2004,
          2004,
          2004,
          2004,
          2004,
          2004,
          2004,
          2004,
          2004
         ],
         "y": [
          null,
          null,
          null,
          null,
          null,
          null,
          null,
          null,
          null,
          null,
          null,
          null,
          null,
          null,
          null,
          null,
          null,
          null,
          null,
          null,
          null,
          null,
          null,
          null,
          null,
          null,
          null,
          null,
          null
         ]
        },
        {
         "hovertemplate": "Team: 116    ATL\n117    BOS\n118    CLE\n119    PHI\n120    NOH\n121    CHI\n122    DAL\n123    DEN\n124    GSW\n125    HOU\n126    LAC\n127    LAL\n128    MIA\n129    MIL\n130    MIN\n131    NJN\n132    NYK\n133    ORL\n134    IND\n135    PHX\n136    SAC\n137    SAS\n138    SEA\n139    TOR\n140    UTA\n141    MEM\n142    WAS\n143    DET\n144    CHA\n145    POR\nName: Team, dtype: object<br>Year: %{x}<br>FG3A: %{y:.2f}<extra></extra>",
         "marker": {
          "color": [
           "#C1D32F",
           "#BA9653",
           "#041E42",
           "#ED174C",
           null,
           "#000000",
           "#002B5E",
           "#FEC524",
           "#FFC72C",
           "#000000",
           "#1D428A",
           "#FDB927",
           "#F9A01B",
           "#EEE1C6",
           "#236192",
           null,
           "#F58426",
           "#C4CED4",
           "#FDBB30",
           "#E56020",
           "#63727A",
           "#000000",
           null,
           "#000000",
           "#00471B",
           "#12173F",
           "#E31837",
           "#1D42BA",
           "#00788C",
           "#000000"
          ],
          "line": {
           "color": "white",
           "width": 1.5
          },
          "size": 27
         },
         "mode": "markers+text",
         "text": [
          "ATL",
          "BOS",
          "CLE",
          "PHI",
          "NOH",
          "CHI",
          "DAL",
          "DEN",
          "GSW",
          "HOU",
          "LAC",
          "LAL",
          "MIA",
          "MIL",
          "MIN",
          "NJN",
          "NYK",
          "ORL",
          "IND",
          "PHX",
          "SAC",
          "SAS",
          "SEA",
          "TOR",
          "UTA",
          "MEM",
          "WAS",
          "DET",
          "CHA",
          "POR"
         ],
         "textfont": {
          "size": 7
         },
         "type": "scatter",
         "x": [
          2005,
          2005,
          2005,
          2005,
          2005,
          2005,
          2005,
          2005,
          2005,
          2005,
          2005,
          2005,
          2005,
          2005,
          2005,
          2005,
          2005,
          2005,
          2005,
          2005,
          2005,
          2005,
          2005,
          2005,
          2005,
          2005,
          2005,
          2005,
          2005,
          2005
         ],
         "y": [
          null,
          null,
          null,
          null,
          null,
          null,
          null,
          null,
          null,
          null,
          null,
          null,
          null,
          null,
          null,
          null,
          null,
          null,
          null,
          null,
          null,
          null,
          null,
          null,
          null,
          null,
          null,
          null,
          null,
          null
         ]
        },
        {
         "hovertemplate": "Team: 146    MIL\n147    MIN\n148    NJN\n149    NYK\n150    ORL\n151    IND\n152    PHI\n153    PHX\n154    POR\n155    SAC\n156    ATL\n157    BOS\n158    CLE\n159    NOK\n160    SAS\n161    SEA\n162    GSW\n163    TOR\n164    UTA\n165    MEM\n166    WAS\n167    DET\n168    CHA\n169    CHI\n170    DAL\n171    DEN\n172    HOU\n173    LAC\n174    LAL\n175    MIA\nName: Team, dtype: object<br>Year: %{x}<br>FG3A: %{y:.2f}<extra></extra>",
         "marker": {
          "color": [
           "#EEE1C6",
           "#236192",
           null,
           "#F58426",
           "#C4CED4",
           "#FDBB30",
           "#ED174C",
           "#E56020",
           "#000000",
           "#63727A",
           "#C1D32F",
           "#BA9653",
           "#041E42",
           null,
           "#000000",
           null,
           "#FFC72C",
           "#000000",
           "#00471B",
           "#12173F",
           "#E31837",
           "#1D42BA",
           "#00788C",
           "#000000",
           "#002B5E",
           "#FEC524",
           "#000000",
           "#1D428A",
           "#FDB927",
           "#F9A01B"
          ],
          "line": {
           "color": "white",
           "width": 1.5
          },
          "size": 27
         },
         "mode": "markers+text",
         "text": [
          "MIL",
          "MIN",
          "NJN",
          "NYK",
          "ORL",
          "IND",
          "PHI",
          "PHX",
          "POR",
          "SAC",
          "ATL",
          "BOS",
          "CLE",
          "NOK",
          "SAS",
          "SEA",
          "GSW",
          "TOR",
          "UTA",
          "MEM",
          "WAS",
          "DET",
          "CHA",
          "CHI",
          "DAL",
          "DEN",
          "HOU",
          "LAC",
          "LAL",
          "MIA"
         ],
         "textfont": {
          "size": 7
         },
         "type": "scatter",
         "x": [
          2006,
          2006,
          2006,
          2006,
          2006,
          2006,
          2006,
          2006,
          2006,
          2006,
          2006,
          2006,
          2006,
          2006,
          2006,
          2006,
          2006,
          2006,
          2006,
          2006,
          2006,
          2006,
          2006,
          2006,
          2006,
          2006,
          2006,
          2006,
          2006,
          2006
         ],
         "y": [
          null,
          null,
          null,
          null,
          null,
          null,
          null,
          null,
          null,
          null,
          null,
          null,
          null,
          null,
          null,
          null,
          null,
          null,
          null,
          null,
          null,
          null,
          null,
          null,
          null,
          null,
          null,
          null,
          null,
          null
         ]
        },
        {
         "hovertemplate": "Team: 176    LAL\n177    MIL\n178    NJN\n179    NYK\n180    ORL\n181    IND\n182    SAC\n183    SEA\n184    TOR\n185    UTA\n186    WAS\n187    DET\n188    CHA\n189    BOS\n190    CLE\n191    NOK\n192    CHI\n193    DAL\n194    DEN\n195    GSW\n196    HOU\n197    PHI\n198    MIA\n199    MIN\n200    PHX\n201    POR\n202    SAS\n203    MEM\n204    ATL\n205    LAC\nName: Team, dtype: object<br>Year: %{x}<br>FG3A: %{y:.2f}<extra></extra>",
         "marker": {
          "color": [
           "#FDB927",
           "#EEE1C6",
           null,
           "#F58426",
           "#C4CED4",
           "#FDBB30",
           "#63727A",
           null,
           "#000000",
           "#00471B",
           "#E31837",
           "#1D42BA",
           "#00788C",
           "#BA9653",
           "#041E42",
           null,
           "#000000",
           "#002B5E",
           "#FEC524",
           "#FFC72C",
           "#000000",
           "#ED174C",
           "#F9A01B",
           "#236192",
           "#E56020",
           "#000000",
           "#000000",
           "#12173F",
           "#C1D32F",
           "#1D428A"
          ],
          "line": {
           "color": "white",
           "width": 1.5
          },
          "size": 27
         },
         "mode": "markers+text",
         "text": [
          "LAL",
          "MIL",
          "NJN",
          "NYK",
          "ORL",
          "IND",
          "SAC",
          "SEA",
          "TOR",
          "UTA",
          "WAS",
          "DET",
          "CHA",
          "BOS",
          "CLE",
          "NOK",
          "CHI",
          "DAL",
          "DEN",
          "GSW",
          "HOU",
          "PHI",
          "MIA",
          "MIN",
          "PHX",
          "POR",
          "SAS",
          "MEM",
          "ATL",
          "LAC"
         ],
         "textfont": {
          "size": 7
         },
         "type": "scatter",
         "x": [
          2007,
          2007,
          2007,
          2007,
          2007,
          2007,
          2007,
          2007,
          2007,
          2007,
          2007,
          2007,
          2007,
          2007,
          2007,
          2007,
          2007,
          2007,
          2007,
          2007,
          2007,
          2007,
          2007,
          2007,
          2007,
          2007,
          2007,
          2007,
          2007,
          2007
         ],
         "y": [
          null,
          null,
          null,
          null,
          null,
          null,
          null,
          null,
          null,
          null,
          null,
          null,
          null,
          null,
          null,
          null,
          null,
          null,
          null,
          null,
          null,
          null,
          null,
          null,
          null,
          null,
          null,
          null,
          null,
          null
         ]
        },
        {
         "hovertemplate": "Team: 206    MEM\n207    WAS\n208    DET\n209    PHI\n210    PHX\n211    POR\n212    SAC\n213    SAS\n214    SEA\n215    CHA\n216    IND\n217    TOR\n218    UTA\n219    BOS\n220    CLE\n221    NOH\n222    CHI\n223    DAL\n224    DEN\n225    GSW\n226    HOU\n227    LAL\n228    MIA\n229    MIL\n230    MIN\n231    NJN\n232    NYK\n233    ORL\n234    ATL\n235    LAC\nName: Team, dtype: object<br>Year: %{x}<br>FG3A: %{y:.2f}<extra></extra>",
         "marker": {
          "color": [
           "#12173F",
           "#E31837",
           "#1D42BA",
           "#ED174C",
           "#E56020",
           "#000000",
           "#63727A",
           "#000000",
           null,
           "#00788C",
           "#FDBB30",
           "#000000",
           "#00471B",
           "#BA9653",
           "#041E42",
           null,
           "#000000",
           "#002B5E",
           "#FEC524",
           "#FFC72C",
           "#000000",
           "#FDB927",
           "#F9A01B",
           "#EEE1C6",
           "#236192",
           null,
           "#F58426",
           "#C4CED4",
           "#C1D32F",
           "#1D428A"
          ],
          "line": {
           "color": "white",
           "width": 1.5
          },
          "size": 27
         },
         "mode": "markers+text",
         "text": [
          "MEM",
          "WAS",
          "DET",
          "PHI",
          "PHX",
          "POR",
          "SAC",
          "SAS",
          "SEA",
          "CHA",
          "IND",
          "TOR",
          "UTA",
          "BOS",
          "CLE",
          "NOH",
          "CHI",
          "DAL",
          "DEN",
          "GSW",
          "HOU",
          "LAL",
          "MIA",
          "MIL",
          "MIN",
          "NJN",
          "NYK",
          "ORL",
          "ATL",
          "LAC"
         ],
         "textfont": {
          "size": 7
         },
         "type": "scatter",
         "x": [
          2008,
          2008,
          2008,
          2008,
          2008,
          2008,
          2008,
          2008,
          2008,
          2008,
          2008,
          2008,
          2008,
          2008,
          2008,
          2008,
          2008,
          2008,
          2008,
          2008,
          2008,
          2008,
          2008,
          2008,
          2008,
          2008,
          2008,
          2008,
          2008,
          2008
         ],
         "y": [
          null,
          null,
          null,
          null,
          null,
          null,
          null,
          null,
          null,
          null,
          null,
          null,
          null,
          null,
          null,
          null,
          null,
          null,
          null,
          null,
          null,
          null,
          null,
          null,
          null,
          null,
          null,
          null,
          null,
          null
         ]
        },
        {
         "hovertemplate": "Team: 236    NJN\n237    ATL\n238    NYK\n239    ORL\n240    IND\n241    PHI\n242    PHX\n243    POR\n244    SAC\n245    SAS\n246    OKC\n247    TOR\n248    DET\n249    CHA\n250    BOS\n251    CLE\n252    NOH\n253    CHI\n254    DAL\n255    DEN\n256    GSW\n257    HOU\n258    LAC\n259    LAL\n260    MIA\n261    MIL\n262    MIN\n263    UTA\n264    MEM\n265    WAS\nName: Team, dtype: object<br>Year: %{x}<br>FG3A: %{y:.2f}<extra></extra>",
         "marker": {
          "color": [
           null,
           "#C1D32F",
           "#F58426",
           "#C4CED4",
           "#FDBB30",
           "#ED174C",
           "#E56020",
           "#000000",
           "#63727A",
           "#000000",
           "#EF3B24",
           "#000000",
           "#1D42BA",
           "#00788C",
           "#BA9653",
           "#041E42",
           null,
           "#000000",
           "#002B5E",
           "#FEC524",
           "#FFC72C",
           "#000000",
           "#1D428A",
           "#FDB927",
           "#F9A01B",
           "#EEE1C6",
           "#236192",
           "#00471B",
           "#12173F",
           "#E31837"
          ],
          "line": {
           "color": "white",
           "width": 1.5
          },
          "size": 27
         },
         "mode": "markers+text",
         "text": [
          "NJN",
          "ATL",
          "NYK",
          "ORL",
          "IND",
          "PHI",
          "PHX",
          "POR",
          "SAC",
          "SAS",
          "OKC",
          "TOR",
          "DET",
          "CHA",
          "BOS",
          "CLE",
          "NOH",
          "CHI",
          "DAL",
          "DEN",
          "GSW",
          "HOU",
          "LAC",
          "LAL",
          "MIA",
          "MIL",
          "MIN",
          "UTA",
          "MEM",
          "WAS"
         ],
         "textfont": {
          "size": 7
         },
         "type": "scatter",
         "x": [
          2009,
          2009,
          2009,
          2009,
          2009,
          2009,
          2009,
          2009,
          2009,
          2009,
          2009,
          2009,
          2009,
          2009,
          2009,
          2009,
          2009,
          2009,
          2009,
          2009,
          2009,
          2009,
          2009,
          2009,
          2009,
          2009,
          2009,
          2009,
          2009,
          2009
         ],
         "y": [
          null,
          null,
          null,
          null,
          null,
          null,
          null,
          null,
          null,
          null,
          null,
          null,
          null,
          null,
          null,
          null,
          null,
          null,
          null,
          null,
          null,
          null,
          null,
          null,
          null,
          null,
          null,
          null,
          null,
          null
         ]
        },
        {
         "hovertemplate": "Team: 266    IND\n267    WAS\n268    DET\n269    CHA\n270    ATL\n271    BOS\n272    CLE\n273    NOH\n274    CHI\n275    DAL\n276    DEN\n277    GSW\n278    HOU\n279    LAC\n280    LAL\n281    MIA\n282    MIL\n283    MIN\n284    NJN\n285    NYK\n286    ORL\n287    PHI\n288    PHX\n289    POR\n290    SAC\n291    SAS\n292    OKC\n293    TOR\n294    UTA\n295    MEM\nName: Team, dtype: object<br>Year: %{x}<br>FG3A: %{y:.2f}<extra></extra>",
         "marker": {
          "color": [
           "#FDBB30",
           "#E31837",
           "#1D42BA",
           "#00788C",
           "#C1D32F",
           "#BA9653",
           "#041E42",
           null,
           "#000000",
           "#002B5E",
           "#FEC524",
           "#FFC72C",
           "#000000",
           "#1D428A",
           "#FDB927",
           "#F9A01B",
           "#EEE1C6",
           "#236192",
           null,
           "#F58426",
           "#C4CED4",
           "#ED174C",
           "#E56020",
           "#000000",
           "#63727A",
           "#000000",
           "#EF3B24",
           "#000000",
           "#00471B",
           "#12173F"
          ],
          "line": {
           "color": "white",
           "width": 1.5
          },
          "size": 27
         },
         "mode": "markers+text",
         "text": [
          "IND",
          "WAS",
          "DET",
          "CHA",
          "ATL",
          "BOS",
          "CLE",
          "NOH",
          "CHI",
          "DAL",
          "DEN",
          "GSW",
          "HOU",
          "LAC",
          "LAL",
          "MIA",
          "MIL",
          "MIN",
          "NJN",
          "NYK",
          "ORL",
          "PHI",
          "PHX",
          "POR",
          "SAC",
          "SAS",
          "OKC",
          "TOR",
          "UTA",
          "MEM"
         ],
         "textfont": {
          "size": 7
         },
         "type": "scatter",
         "x": [
          2010,
          2010,
          2010,
          2010,
          2010,
          2010,
          2010,
          2010,
          2010,
          2010,
          2010,
          2010,
          2010,
          2010,
          2010,
          2010,
          2010,
          2010,
          2010,
          2010,
          2010,
          2010,
          2010,
          2010,
          2010,
          2010,
          2010,
          2010,
          2010,
          2010
         ],
         "y": [
          null,
          null,
          null,
          null,
          null,
          null,
          null,
          null,
          null,
          null,
          null,
          null,
          null,
          null,
          null,
          null,
          null,
          null,
          null,
          null,
          null,
          null,
          null,
          null,
          null,
          null,
          null,
          null,
          null,
          null
         ]
        },
        {
         "hovertemplate": "Team: 296    DEN\n297    GSW\n298    LAC\n299    ORL\n300    SAC\n301    OKC\n302    TOR\n303    UTA\n304    MEM\n305    HOU\n306    LAL\n307    MIA\n308    MIL\n309    MIN\n310    NJN\n311    NYK\n312    IND\n313    PHI\n314    PHX\n315    POR\n316    SAS\n317    ATL\n318    WAS\n319    DET\n320    CHA\n321    BOS\n322    CLE\n323    NOH\n324    CHI\n325    DAL\nName: Team, dtype: object<br>Year: %{x}<br>FG3A: %{y:.2f}<extra></extra>",
         "marker": {
          "color": [
           "#FEC524",
           "#FFC72C",
           "#1D428A",
           "#C4CED4",
           "#63727A",
           "#EF3B24",
           "#000000",
           "#00471B",
           "#12173F",
           "#000000",
           "#FDB927",
           "#F9A01B",
           "#EEE1C6",
           "#236192",
           null,
           "#F58426",
           "#FDBB30",
           "#ED174C",
           "#E56020",
           "#000000",
           "#000000",
           "#C1D32F",
           "#E31837",
           "#1D42BA",
           "#00788C",
           "#BA9653",
           "#041E42",
           null,
           "#000000",
           "#002B5E"
          ],
          "line": {
           "color": "white",
           "width": 1.5
          },
          "size": 27
         },
         "mode": "markers+text",
         "text": [
          "DEN",
          "GSW",
          "LAC",
          "ORL",
          "SAC",
          "OKC",
          "TOR",
          "UTA",
          "MEM",
          "HOU",
          "LAL",
          "MIA",
          "MIL",
          "MIN",
          "NJN",
          "NYK",
          "IND",
          "PHI",
          "PHX",
          "POR",
          "SAS",
          "ATL",
          "WAS",
          "DET",
          "CHA",
          "BOS",
          "CLE",
          "NOH",
          "CHI",
          "DAL"
         ],
         "textfont": {
          "size": 7
         },
         "type": "scatter",
         "x": [
          2011,
          2011,
          2011,
          2011,
          2011,
          2011,
          2011,
          2011,
          2011,
          2011,
          2011,
          2011,
          2011,
          2011,
          2011,
          2011,
          2011,
          2011,
          2011,
          2011,
          2011,
          2011,
          2011,
          2011,
          2011,
          2011,
          2011,
          2011,
          2011,
          2011
         ],
         "y": [
          null,
          null,
          null,
          null,
          null,
          null,
          null,
          null,
          null,
          null,
          null,
          null,
          null,
          null,
          null,
          null,
          null,
          null,
          null,
          null,
          null,
          null,
          null,
          null,
          null,
          null,
          null,
          null,
          null,
          null
         ]
        },
        {
         "hovertemplate": "Team: 326    BOS\n327    CLE\n328    MIL\n329    IND\n330    PHI\n331    PHX\n332    WAS\n333    DET\n334    ATL\n335    NOH\n336    CHI\n337    DAL\n338    DEN\n339    MIN\n340    NJN\n341    NYK\n342    ORL\n343    POR\n344    SAC\n345    SAS\n346    OKC\n347    TOR\n348    UTA\n349    MEM\n350    CHA\n351    GSW\n352    HOU\n353    LAC\n354    LAL\n355    MIA\nName: Team, dtype: object<br>Year: %{x}<br>FG3A: %{y:.2f}<extra></extra>",
         "marker": {
          "color": [
           "#BA9653",
           "#041E42",
           "#EEE1C6",
           "#FDBB30",
           "#ED174C",
           "#E56020",
           "#E31837",
           "#1D42BA",
           "#C1D32F",
           null,
           "#000000",
           "#002B5E",
           "#FEC524",
           "#236192",
           null,
           "#F58426",
           "#C4CED4",
           "#000000",
           "#63727A",
           "#000000",
           "#EF3B24",
           "#000000",
           "#00471B",
           "#12173F",
           "#00788C",
           "#FFC72C",
           "#000000",
           "#1D428A",
           "#FDB927",
           "#F9A01B"
          ],
          "line": {
           "color": "white",
           "width": 1.5
          },
          "size": 27
         },
         "mode": "markers+text",
         "text": [
          "BOS",
          "CLE",
          "MIL",
          "IND",
          "PHI",
          "PHX",
          "WAS",
          "DET",
          "ATL",
          "NOH",
          "CHI",
          "DAL",
          "DEN",
          "MIN",
          "NJN",
          "NYK",
          "ORL",
          "POR",
          "SAC",
          "SAS",
          "OKC",
          "TOR",
          "UTA",
          "MEM",
          "CHA",
          "GSW",
          "HOU",
          "LAC",
          "LAL",
          "MIA"
         ],
         "textfont": {
          "size": 7
         },
         "type": "scatter",
         "x": [
          2012,
          2012,
          2012,
          2012,
          2012,
          2012,
          2012,
          2012,
          2012,
          2012,
          2012,
          2012,
          2012,
          2012,
          2012,
          2012,
          2012,
          2012,
          2012,
          2012,
          2012,
          2012,
          2012,
          2012,
          2012,
          2012,
          2012,
          2012,
          2012,
          2012
         ],
         "y": [
          null,
          null,
          null,
          null,
          null,
          null,
          null,
          null,
          null,
          null,
          null,
          null,
          null,
          null,
          null,
          null,
          null,
          null,
          null,
          null,
          null,
          null,
          null,
          null,
          null,
          null,
          null,
          null,
          null,
          null
         ]
        },
        {
         "hovertemplate": "Team: 356    BOS\n357    HOU\n358    LAC\n359    LAL\n360    MIA\n361    MIL\n362    MIN\n363    DET\n364    CHA\n365    PHI\n366    PHX\n367    POR\n368    SAC\n369    SAS\n370    OKC\n371    TOR\n372    UTA\n373    MEM\n374    WAS\n375    BKN\n376    NYK\n377    ORL\n378    IND\n379    CLE\n380    NOH\n381    CHI\n382    DAL\n383    DEN\n384    GSW\n385    ATL\nName: Team, dtype: object<br>Year: %{x}<br>FG3A: %{y:.2f}<extra></extra>",
         "marker": {
          "color": [
           "#BA9653",
           "#000000",
           "#1D428A",
           "#FDB927",
           "#F9A01B",
           "#EEE1C6",
           "#236192",
           "#1D42BA",
           "#00788C",
           "#ED174C",
           "#E56020",
           "#000000",
           "#63727A",
           "#000000",
           "#EF3B24",
           "#000000",
           "#00471B",
           "#12173F",
           "#E31837",
           "#FFFFFF",
           "#F58426",
           "#C4CED4",
           "#FDBB30",
           "#041E42",
           null,
           "#000000",
           "#002B5E",
           "#FEC524",
           "#FFC72C",
           "#C1D32F"
          ],
          "line": {
           "color": "white",
           "width": 1.5
          },
          "size": 27
         },
         "mode": "markers+text",
         "text": [
          "BOS",
          "HOU",
          "LAC",
          "LAL",
          "MIA",
          "MIL",
          "MIN",
          "DET",
          "CHA",
          "PHI",
          "PHX",
          "POR",
          "SAC",
          "SAS",
          "OKC",
          "TOR",
          "UTA",
          "MEM",
          "WAS",
          "BKN",
          "NYK",
          "ORL",
          "IND",
          "CLE",
          "NOH",
          "CHI",
          "DAL",
          "DEN",
          "GSW",
          "ATL"
         ],
         "textfont": {
          "size": 7
         },
         "type": "scatter",
         "x": [
          2013,
          2013,
          2013,
          2013,
          2013,
          2013,
          2013,
          2013,
          2013,
          2013,
          2013,
          2013,
          2013,
          2013,
          2013,
          2013,
          2013,
          2013,
          2013,
          2013,
          2013,
          2013,
          2013,
          2013,
          2013,
          2013,
          2013,
          2013,
          2013,
          2013
         ],
         "y": [
          null,
          null,
          null,
          null,
          null,
          null,
          null,
          null,
          null,
          null,
          null,
          null,
          null,
          null,
          null,
          null,
          null,
          null,
          null,
          null,
          null,
          null,
          null,
          null,
          null,
          null,
          null,
          null,
          null,
          null
         ]
        },
        {
         "hovertemplate": "Team: 386    ATL\n387    BOS\n388    BKN\n389    CHA\n390    CHI\n391    CLE\n392    DAL\n393    DEN\n394    DET\n395    GSW\n396    HOU\n397    IND\n398    LAC\n399    LAL\n400    MEM\n401    MIA\n402    MIL\n403    MIN\n404    NOP\n405    NYK\n406    OKC\n407    ORL\n408    PHI\n409    PHX\n410    POR\n411    SAC\n412    SAS\n413    TOR\n414    UTA\n415    WAS\nName: Team, dtype: object<br>Year: %{x}<br>FG3A: %{y:.2f}<extra></extra>",
         "marker": {
          "color": [
           "#C1D32F",
           "#BA9653",
           "#FFFFFF",
           "#00788C",
           "#000000",
           "#041E42",
           "#002B5E",
           "#FEC524",
           "#1D42BA",
           "#FFC72C",
           "#000000",
           "#FDBB30",
           "#1D428A",
           "#FDB927",
           "#12173F",
           "#F9A01B",
           "#EEE1C6",
           "#236192",
           "#C8102E",
           "#F58426",
           "#EF3B24",
           "#C4CED4",
           "#ED174C",
           "#E56020",
           "#000000",
           "#63727A",
           "#000000",
           "#000000",
           "#00471B",
           "#E31837"
          ],
          "line": {
           "color": "white",
           "width": 1.5
          },
          "size": 27
         },
         "mode": "markers+text",
         "text": [
          "ATL",
          "BOS",
          "BKN",
          "CHA",
          "CHI",
          "CLE",
          "DAL",
          "DEN",
          "DET",
          "GSW",
          "HOU",
          "IND",
          "LAC",
          "LAL",
          "MEM",
          "MIA",
          "MIL",
          "MIN",
          "NOP",
          "NYK",
          "OKC",
          "ORL",
          "PHI",
          "PHX",
          "POR",
          "SAC",
          "SAS",
          "TOR",
          "UTA",
          "WAS"
         ],
         "textfont": {
          "size": 7
         },
         "type": "scatter",
         "x": [
          2014,
          2014,
          2014,
          2014,
          2014,
          2014,
          2014,
          2014,
          2014,
          2014,
          2014,
          2014,
          2014,
          2014,
          2014,
          2014,
          2014,
          2014,
          2014,
          2014,
          2014,
          2014,
          2014,
          2014,
          2014,
          2014,
          2014,
          2014,
          2014,
          2014
         ],
         "y": [
          26.811961479979725,
          22.324080051646224,
          25.08156074644395,
          19.074170124481327,
          19.32706318717711,
          21.0688591983556,
          23.904737646459502,
          24.048612816106065,
          20.066040132080264,
          25.320074580484775,
          27.101990049751244,
          20.141065830721004,
          24.717123459894392,
          24.85018955607191,
          15.34242910647405,
          24.01838476690742,
          20.208197787898502,
          21.587418601793832,
          16.915487472413346,
          26.971942826892537,
          23.120442544631633,
          20.364935562077324,
          22.425934919864012,
          25.77448890003763,
          26.116015132408574,
          18.81377551020408,
          22.27716495498922,
          24.909043659043657,
          20.73635765943458,
          21.646341463414632
         ]
        }
       ],
       "layout": {
        "font": {
         "color": "white",
         "family": "Arial"
        },
        "height": 800,
        "legend": {
         "bgcolor": "rgba(0, 0, 0, 0.5)",
         "bordercolor": "white",
         "borderwidth": 1,
         "font": {
          "size": 10
         }
        },
        "paper_bgcolor": "#121212",
        "plot_bgcolor": "#1E1E1E",
        "template": {
         "data": {
          "bar": [
           {
            "error_x": {
             "color": "#2a3f5f"
            },
            "error_y": {
             "color": "#2a3f5f"
            },
            "marker": {
             "line": {
              "color": "#E5ECF6",
              "width": 0.5
             },
             "pattern": {
              "fillmode": "overlay",
              "size": 10,
              "solidity": 0.2
             }
            },
            "type": "bar"
           }
          ],
          "barpolar": [
           {
            "marker": {
             "line": {
              "color": "#E5ECF6",
              "width": 0.5
             },
             "pattern": {
              "fillmode": "overlay",
              "size": 10,
              "solidity": 0.2
             }
            },
            "type": "barpolar"
           }
          ],
          "carpet": [
           {
            "aaxis": {
             "endlinecolor": "#2a3f5f",
             "gridcolor": "white",
             "linecolor": "white",
             "minorgridcolor": "white",
             "startlinecolor": "#2a3f5f"
            },
            "baxis": {
             "endlinecolor": "#2a3f5f",
             "gridcolor": "white",
             "linecolor": "white",
             "minorgridcolor": "white",
             "startlinecolor": "#2a3f5f"
            },
            "type": "carpet"
           }
          ],
          "choropleth": [
           {
            "colorbar": {
             "outlinewidth": 0,
             "ticks": ""
            },
            "type": "choropleth"
           }
          ],
          "contour": [
           {
            "colorbar": {
             "outlinewidth": 0,
             "ticks": ""
            },
            "colorscale": [
             [
              0,
              "#0d0887"
             ],
             [
              0.1111111111111111,
              "#46039f"
             ],
             [
              0.2222222222222222,
              "#7201a8"
             ],
             [
              0.3333333333333333,
              "#9c179e"
             ],
             [
              0.4444444444444444,
              "#bd3786"
             ],
             [
              0.5555555555555556,
              "#d8576b"
             ],
             [
              0.6666666666666666,
              "#ed7953"
             ],
             [
              0.7777777777777778,
              "#fb9f3a"
             ],
             [
              0.8888888888888888,
              "#fdca26"
             ],
             [
              1,
              "#f0f921"
             ]
            ],
            "type": "contour"
           }
          ],
          "contourcarpet": [
           {
            "colorbar": {
             "outlinewidth": 0,
             "ticks": ""
            },
            "type": "contourcarpet"
           }
          ],
          "heatmap": [
           {
            "colorbar": {
             "outlinewidth": 0,
             "ticks": ""
            },
            "colorscale": [
             [
              0,
              "#0d0887"
             ],
             [
              0.1111111111111111,
              "#46039f"
             ],
             [
              0.2222222222222222,
              "#7201a8"
             ],
             [
              0.3333333333333333,
              "#9c179e"
             ],
             [
              0.4444444444444444,
              "#bd3786"
             ],
             [
              0.5555555555555556,
              "#d8576b"
             ],
             [
              0.6666666666666666,
              "#ed7953"
             ],
             [
              0.7777777777777778,
              "#fb9f3a"
             ],
             [
              0.8888888888888888,
              "#fdca26"
             ],
             [
              1,
              "#f0f921"
             ]
            ],
            "type": "heatmap"
           }
          ],
          "heatmapgl": [
           {
            "colorbar": {
             "outlinewidth": 0,
             "ticks": ""
            },
            "colorscale": [
             [
              0,
              "#0d0887"
             ],
             [
              0.1111111111111111,
              "#46039f"
             ],
             [
              0.2222222222222222,
              "#7201a8"
             ],
             [
              0.3333333333333333,
              "#9c179e"
             ],
             [
              0.4444444444444444,
              "#bd3786"
             ],
             [
              0.5555555555555556,
              "#d8576b"
             ],
             [
              0.6666666666666666,
              "#ed7953"
             ],
             [
              0.7777777777777778,
              "#fb9f3a"
             ],
             [
              0.8888888888888888,
              "#fdca26"
             ],
             [
              1,
              "#f0f921"
             ]
            ],
            "type": "heatmapgl"
           }
          ],
          "histogram": [
           {
            "marker": {
             "pattern": {
              "fillmode": "overlay",
              "size": 10,
              "solidity": 0.2
             }
            },
            "type": "histogram"
           }
          ],
          "histogram2d": [
           {
            "colorbar": {
             "outlinewidth": 0,
             "ticks": ""
            },
            "colorscale": [
             [
              0,
              "#0d0887"
             ],
             [
              0.1111111111111111,
              "#46039f"
             ],
             [
              0.2222222222222222,
              "#7201a8"
             ],
             [
              0.3333333333333333,
              "#9c179e"
             ],
             [
              0.4444444444444444,
              "#bd3786"
             ],
             [
              0.5555555555555556,
              "#d8576b"
             ],
             [
              0.6666666666666666,
              "#ed7953"
             ],
             [
              0.7777777777777778,
              "#fb9f3a"
             ],
             [
              0.8888888888888888,
              "#fdca26"
             ],
             [
              1,
              "#f0f921"
             ]
            ],
            "type": "histogram2d"
           }
          ],
          "histogram2dcontour": [
           {
            "colorbar": {
             "outlinewidth": 0,
             "ticks": ""
            },
            "colorscale": [
             [
              0,
              "#0d0887"
             ],
             [
              0.1111111111111111,
              "#46039f"
             ],
             [
              0.2222222222222222,
              "#7201a8"
             ],
             [
              0.3333333333333333,
              "#9c179e"
             ],
             [
              0.4444444444444444,
              "#bd3786"
             ],
             [
              0.5555555555555556,
              "#d8576b"
             ],
             [
              0.6666666666666666,
              "#ed7953"
             ],
             [
              0.7777777777777778,
              "#fb9f3a"
             ],
             [
              0.8888888888888888,
              "#fdca26"
             ],
             [
              1,
              "#f0f921"
             ]
            ],
            "type": "histogram2dcontour"
           }
          ],
          "mesh3d": [
           {
            "colorbar": {
             "outlinewidth": 0,
             "ticks": ""
            },
            "type": "mesh3d"
           }
          ],
          "parcoords": [
           {
            "line": {
             "colorbar": {
              "outlinewidth": 0,
              "ticks": ""
             }
            },
            "type": "parcoords"
           }
          ],
          "pie": [
           {
            "automargin": true,
            "type": "pie"
           }
          ],
          "scatter": [
           {
            "fillpattern": {
             "fillmode": "overlay",
             "size": 10,
             "solidity": 0.2
            },
            "type": "scatter"
           }
          ],
          "scatter3d": [
           {
            "line": {
             "colorbar": {
              "outlinewidth": 0,
              "ticks": ""
             }
            },
            "marker": {
             "colorbar": {
              "outlinewidth": 0,
              "ticks": ""
             }
            },
            "type": "scatter3d"
           }
          ],
          "scattercarpet": [
           {
            "marker": {
             "colorbar": {
              "outlinewidth": 0,
              "ticks": ""
             }
            },
            "type": "scattercarpet"
           }
          ],
          "scattergeo": [
           {
            "marker": {
             "colorbar": {
              "outlinewidth": 0,
              "ticks": ""
             }
            },
            "type": "scattergeo"
           }
          ],
          "scattergl": [
           {
            "marker": {
             "colorbar": {
              "outlinewidth": 0,
              "ticks": ""
             }
            },
            "type": "scattergl"
           }
          ],
          "scattermapbox": [
           {
            "marker": {
             "colorbar": {
              "outlinewidth": 0,
              "ticks": ""
             }
            },
            "type": "scattermapbox"
           }
          ],
          "scatterpolar": [
           {
            "marker": {
             "colorbar": {
              "outlinewidth": 0,
              "ticks": ""
             }
            },
            "type": "scatterpolar"
           }
          ],
          "scatterpolargl": [
           {
            "marker": {
             "colorbar": {
              "outlinewidth": 0,
              "ticks": ""
             }
            },
            "type": "scatterpolargl"
           }
          ],
          "scatterternary": [
           {
            "marker": {
             "colorbar": {
              "outlinewidth": 0,
              "ticks": ""
             }
            },
            "type": "scatterternary"
           }
          ],
          "surface": [
           {
            "colorbar": {
             "outlinewidth": 0,
             "ticks": ""
            },
            "colorscale": [
             [
              0,
              "#0d0887"
             ],
             [
              0.1111111111111111,
              "#46039f"
             ],
             [
              0.2222222222222222,
              "#7201a8"
             ],
             [
              0.3333333333333333,
              "#9c179e"
             ],
             [
              0.4444444444444444,
              "#bd3786"
             ],
             [
              0.5555555555555556,
              "#d8576b"
             ],
             [
              0.6666666666666666,
              "#ed7953"
             ],
             [
              0.7777777777777778,
              "#fb9f3a"
             ],
             [
              0.8888888888888888,
              "#fdca26"
             ],
             [
              1,
              "#f0f921"
             ]
            ],
            "type": "surface"
           }
          ],
          "table": [
           {
            "cells": {
             "fill": {
              "color": "#EBF0F8"
             },
             "line": {
              "color": "white"
             }
            },
            "header": {
             "fill": {
              "color": "#C8D4E3"
             },
             "line": {
              "color": "white"
             }
            },
            "type": "table"
           }
          ]
         },
         "layout": {
          "annotationdefaults": {
           "arrowcolor": "#2a3f5f",
           "arrowhead": 0,
           "arrowwidth": 1
          },
          "autotypenumbers": "strict",
          "coloraxis": {
           "colorbar": {
            "outlinewidth": 0,
            "ticks": ""
           }
          },
          "colorscale": {
           "diverging": [
            [
             0,
             "#8e0152"
            ],
            [
             0.1,
             "#c51b7d"
            ],
            [
             0.2,
             "#de77ae"
            ],
            [
             0.3,
             "#f1b6da"
            ],
            [
             0.4,
             "#fde0ef"
            ],
            [
             0.5,
             "#f7f7f7"
            ],
            [
             0.6,
             "#e6f5d0"
            ],
            [
             0.7,
             "#b8e186"
            ],
            [
             0.8,
             "#7fbc41"
            ],
            [
             0.9,
             "#4d9221"
            ],
            [
             1,
             "#276419"
            ]
           ],
           "sequential": [
            [
             0,
             "#0d0887"
            ],
            [
             0.1111111111111111,
             "#46039f"
            ],
            [
             0.2222222222222222,
             "#7201a8"
            ],
            [
             0.3333333333333333,
             "#9c179e"
            ],
            [
             0.4444444444444444,
             "#bd3786"
            ],
            [
             0.5555555555555556,
             "#d8576b"
            ],
            [
             0.6666666666666666,
             "#ed7953"
            ],
            [
             0.7777777777777778,
             "#fb9f3a"
            ],
            [
             0.8888888888888888,
             "#fdca26"
            ],
            [
             1,
             "#f0f921"
            ]
           ],
           "sequentialminus": [
            [
             0,
             "#0d0887"
            ],
            [
             0.1111111111111111,
             "#46039f"
            ],
            [
             0.2222222222222222,
             "#7201a8"
            ],
            [
             0.3333333333333333,
             "#9c179e"
            ],
            [
             0.4444444444444444,
             "#bd3786"
            ],
            [
             0.5555555555555556,
             "#d8576b"
            ],
            [
             0.6666666666666666,
             "#ed7953"
            ],
            [
             0.7777777777777778,
             "#fb9f3a"
            ],
            [
             0.8888888888888888,
             "#fdca26"
            ],
            [
             1,
             "#f0f921"
            ]
           ]
          },
          "colorway": [
           "#636efa",
           "#EF553B",
           "#00cc96",
           "#ab63fa",
           "#FFA15A",
           "#19d3f3",
           "#FF6692",
           "#B6E880",
           "#FF97FF",
           "#FECB52"
          ],
          "font": {
           "color": "#2a3f5f"
          },
          "geo": {
           "bgcolor": "white",
           "lakecolor": "white",
           "landcolor": "#E5ECF6",
           "showlakes": true,
           "showland": true,
           "subunitcolor": "white"
          },
          "hoverlabel": {
           "align": "left"
          },
          "hovermode": "closest",
          "mapbox": {
           "style": "light"
          },
          "paper_bgcolor": "white",
          "plot_bgcolor": "#E5ECF6",
          "polar": {
           "angularaxis": {
            "gridcolor": "white",
            "linecolor": "white",
            "ticks": ""
           },
           "bgcolor": "#E5ECF6",
           "radialaxis": {
            "gridcolor": "white",
            "linecolor": "white",
            "ticks": ""
           }
          },
          "scene": {
           "xaxis": {
            "backgroundcolor": "#E5ECF6",
            "gridcolor": "white",
            "gridwidth": 2,
            "linecolor": "white",
            "showbackground": true,
            "ticks": "",
            "zerolinecolor": "white"
           },
           "yaxis": {
            "backgroundcolor": "#E5ECF6",
            "gridcolor": "white",
            "gridwidth": 2,
            "linecolor": "white",
            "showbackground": true,
            "ticks": "",
            "zerolinecolor": "white"
           },
           "zaxis": {
            "backgroundcolor": "#E5ECF6",
            "gridcolor": "white",
            "gridwidth": 2,
            "linecolor": "white",
            "showbackground": true,
            "ticks": "",
            "zerolinecolor": "white"
           }
          },
          "shapedefaults": {
           "line": {
            "color": "#2a3f5f"
           }
          },
          "ternary": {
           "aaxis": {
            "gridcolor": "white",
            "linecolor": "white",
            "ticks": ""
           },
           "baxis": {
            "gridcolor": "white",
            "linecolor": "white",
            "ticks": ""
           },
           "bgcolor": "#E5ECF6",
           "caxis": {
            "gridcolor": "white",
            "linecolor": "white",
            "ticks": ""
           }
          },
          "title": {
           "x": 0.05
          },
          "xaxis": {
           "automargin": true,
           "gridcolor": "white",
           "linecolor": "white",
           "ticks": "",
           "title": {
            "standoff": 15
           },
           "zerolinecolor": "white",
           "zerolinewidth": 2
          },
          "yaxis": {
           "automargin": true,
           "gridcolor": "white",
           "linecolor": "white",
           "ticks": "",
           "title": {
            "standoff": 15
           },
           "zerolinecolor": "white",
           "zerolinewidth": 2
          }
         }
        },
        "title": {
         "font": {
          "color": "white",
          "family": "Arial Black",
          "size": 24
         },
         "text": "NBA Team FG3A Across Years<br><span style=\"font-size: 20px; color: #CCCCCC\">2001 to 2014</span>",
         "x": 0.5,
         "xanchor": "center",
         "y": 0.95,
         "yanchor": "top"
        },
        "width": 1200,
        "xaxis": {
         "autorange": true,
         "dtick": 1,
         "gridcolor": "rgba(255,255,255,0.1)",
         "range": [
          1999.9972668162725,
          2015.0027331837275
         ],
         "tickmode": "linear",
         "title": {
          "text": "Year"
         },
         "type": "linear"
        },
        "yaxis": {
         "autorange": true,
         "gridcolor": "rgba(255,255,255,0.1)",
         "range": [
          14.268535009841917,
          28.17588414638338
         ],
         "title": {
          "text": "FG3A"
         }
        }
       }
      },
      "image/png": "[encoded data removed]",
      "text/html": [
       "<div>                            <div id=\"d23e6b3f-72ad-432d-a18c-1e40fed7fffb\" class=\"plotly-graph-div\" style=\"height:800px; width:1200px;\"></div>            <script type=\"text/javascript\">                require([\"plotly\"], function(Plotly) {                    window.PLOTLYENV=window.PLOTLYENV || {};                                    if (document.getElementById(\"d23e6b3f-72ad-432d-a18c-1e40fed7fffb\")) {                    Plotly.newPlot(                        \"d23e6b3f-72ad-432d-a18c-1e40fed7fffb\",                        [{\"hovertemplate\":\"Team: 0     SEA\\n1     DET\\n2     CHH\\n3     UTA\\n4     VAN\\n5     TOR\\n6     WAS\\n7     CLE\\n8     CHI\\n9     DAL\\n10    DEN\\n11    BOS\\n12    GSW\\n13    HOU\\n14    LAC\\n15    LAL\\n16    ATL\\n17    MIA\\n18    MIL\\n19    MIN\\n20    NJN\\n21    NYK\\n22    ORL\\n23    IND\\n24    PHI\\n25    PHX\\n26    POR\\n27    SAC\\n28    SAS\\nName: Team, dtype: object\\u003cbr\\u003eYear: %{x}\\u003cbr\\u003eFG3A: %{y:.2f}\\u003cextra\\u003e\\u003c\\u002fextra\\u003e\",\"marker\":{\"color\":[null,\"#1D42BA\",null,\"#00471B\",null,\"#000000\",\"#E31837\",\"#041E42\",\"#000000\",\"#002B5E\",\"#FEC524\",\"#BA9653\",\"#FFC72C\",\"#000000\",\"#1D428A\",\"#FDB927\",\"#C1D32F\",\"#F9A01B\",\"#EEE1C6\",\"#236192\",null,\"#F58426\",\"#C4CED4\",\"#FDBB30\",\"#ED174C\",\"#E56020\",\"#000000\",\"#63727A\",\"#000000\"],\"line\":{\"color\":\"white\",\"width\":1.5},\"size\":27},\"mode\":\"markers+text\",\"text\":[\"SEA\",\"DET\",\"CHH\",\"UTA\",\"VAN\",\"TOR\",\"WAS\",\"CLE\",\"CHI\",\"DAL\",\"DEN\",\"BOS\",\"GSW\",\"HOU\",\"LAC\",\"LAL\",\"ATL\",\"MIA\",\"MIL\",\"MIN\",\"NJN\",\"NYK\",\"ORL\",\"IND\",\"PHI\",\"PHX\",\"POR\",\"SAC\",\"SAS\"],\"textfont\":{\"size\":7},\"x\":[2001,2001,2001,2001,2001,2001,2001,2001,2001,2001,2001,2001,2001,2001,2001,2001,2001,2001,2001,2001,2001,2001,2001,2001,2001,2001,2001,2001,2001],\"y\":[null,null,null,null,null,null,null,null,null,null,null,null,null,null,null,null,null,null,null,null,null,null,null,null,null,null,null,null,null],\"type\":\"scatter\"},{\"hovertemplate\":\"Team: 29    ATL\\n30    BOS\\n31    CLE\\n32    CHI\\n33    DAL\\n34    DEN\\n35    GSW\\n36    HOU\\n37    LAC\\n38    LAL\\n39    MIA\\n40    MIL\\n41    MIN\\n42    NJN\\n43    NYK\\n44    ORL\\n45    IND\\n46    PHI\\n47    PHX\\n48    POR\\n49    SAC\\n50    SAS\\n51    SEA\\n52    TOR\\n53    UTA\\n54    MEM\\n55    WAS\\n56    DET\\n57    CHH\\nName: Team, dtype: object\\u003cbr\\u003eYear: %{x}\\u003cbr\\u003eFG3A: %{y:.2f}\\u003cextra\\u003e\\u003c\\u002fextra\\u003e\",\"marker\":{\"color\":[\"#C1D32F\",\"#BA9653\",\"#041E42\",\"#000000\",\"#002B5E\",\"#FEC524\",\"#FFC72C\",\"#000000\",\"#1D428A\",\"#FDB927\",\"#F9A01B\",\"#EEE1C6\",\"#236192\",null,\"#F58426\",\"#C4CED4\",\"#FDBB30\",\"#ED174C\",\"#E56020\",\"#000000\",\"#63727A\",\"#000000\",null,\"#000000\",\"#00471B\",\"#12173F\",\"#E31837\",\"#1D42BA\",null],\"line\":{\"color\":\"white\",\"width\":1.5},\"size\":27},\"mode\":\"markers+text\",\"text\":[\"ATL\",\"BOS\",\"CLE\",\"CHI\",\"DAL\",\"DEN\",\"GSW\",\"HOU\",\"LAC\",\"LAL\",\"MIA\",\"MIL\",\"MIN\",\"NJN\",\"NYK\",\"ORL\",\"IND\",\"PHI\",\"PHX\",\"POR\",\"SAC\",\"SAS\",\"SEA\",\"TOR\",\"UTA\",\"MEM\",\"WAS\",\"DET\",\"CHH\"],\"textfont\":{\"size\":7},\"x\":[2002,2002,2002,2002,2002,2002,2002,2002,2002,2002,2002,2002,2002,2002,2002,2002,2002,2002,2002,2002,2002,2002,2002,2002,2002,2002,2002,2002,2002],\"y\":[null,null,null,null,null,null,null,null,null,null,null,null,null,null,null,null,null,null,null,null,null,null,null,null,null,null,null,null,null],\"type\":\"scatter\"},{\"hovertemplate\":\"Team: 58    DET\\n59    ATL\\n60    BOS\\n61    CLE\\n62    NOH\\n63    CHI\\n64    DAL\\n65    DEN\\n66    GSW\\n67    HOU\\n68    LAC\\n69    LAL\\n70    MIA\\n71    MIL\\n72    MIN\\n73    NJN\\n74    NYK\\n75    ORL\\n76    IND\\n77    PHI\\n78    PHX\\n79    POR\\n80    SAC\\n81    SAS\\n82    SEA\\n83    TOR\\n84    UTA\\n85    MEM\\n86    WAS\\nName: Team, dtype: object\\u003cbr\\u003eYear: %{x}\\u003cbr\\u003eFG3A: %{y:.2f}\\u003cextra\\u003e\\u003c\\u002fextra\\u003e\",\"marker\":{\"color\":[\"#1D42BA\",\"#C1D32F\",\"#BA9653\",\"#041E42\",null,\"#000000\",\"#002B5E\",\"#FEC524\",\"#FFC72C\",\"#000000\",\"#1D428A\",\"#FDB927\",\"#F9A01B\",\"#EEE1C6\",\"#236192\",null,\"#F58426\",\"#C4CED4\",\"#FDBB30\",\"#ED174C\",\"#E56020\",\"#000000\",\"#63727A\",\"#000000\",null,\"#000000\",\"#00471B\",\"#12173F\",\"#E31837\"],\"line\":{\"color\":\"white\",\"width\":1.5},\"size\":27},\"mode\":\"markers+text\",\"text\":[\"DET\",\"ATL\",\"BOS\",\"CLE\",\"NOH\",\"CHI\",\"DAL\",\"DEN\",\"GSW\",\"HOU\",\"LAC\",\"LAL\",\"MIA\",\"MIL\",\"MIN\",\"NJN\",\"NYK\",\"ORL\",\"IND\",\"PHI\",\"PHX\",\"POR\",\"SAC\",\"SAS\",\"SEA\",\"TOR\",\"UTA\",\"MEM\",\"WAS\"],\"textfont\":{\"size\":7},\"x\":[2003,2003,2003,2003,2003,2003,2003,2003,2003,2003,2003,2003,2003,2003,2003,2003,2003,2003,2003,2003,2003,2003,2003,2003,2003,2003,2003,2003,2003],\"y\":[null,null,null,null,null,null,null,null,null,null,null,null,null,null,null,null,null,null,null,null,null,null,null,null,null,null,null,null,null],\"type\":\"scatter\"},{\"hovertemplate\":\"Team: 87     SEA\\n88     TOR\\n89     UTA\\n90     MEM\\n91     WAS\\n92     DET\\n93     ATL\\n94     BOS\\n95     CLE\\n96     NOH\\n97     CHI\\n98     DAL\\n99     DEN\\n100    GSW\\n101    HOU\\n102    LAC\\n103    LAL\\n104    MIA\\n105    MIL\\n106    MIN\\n107    NJN\\n108    NYK\\n109    ORL\\n110    IND\\n111    PHI\\n112    PHX\\n113    POR\\n114    SAC\\n115    SAS\\nName: Team, dtype: object\\u003cbr\\u003eYear: %{x}\\u003cbr\\u003eFG3A: %{y:.2f}\\u003cextra\\u003e\\u003c\\u002fextra\\u003e\",\"marker\":{\"color\":[null,\"#000000\",\"#00471B\",\"#12173F\",\"#E31837\",\"#1D42BA\",\"#C1D32F\",\"#BA9653\",\"#041E42\",null,\"#000000\",\"#002B5E\",\"#FEC524\",\"#FFC72C\",\"#000000\",\"#1D428A\",\"#FDB927\",\"#F9A01B\",\"#EEE1C6\",\"#236192\",null,\"#F58426\",\"#C4CED4\",\"#FDBB30\",\"#ED174C\",\"#E56020\",\"#000000\",\"#63727A\",\"#000000\"],\"line\":{\"color\":\"white\",\"width\":1.5},\"size\":27},\"mode\":\"markers+text\",\"text\":[\"SEA\",\"TOR\",\"UTA\",\"MEM\",\"WAS\",\"DET\",\"ATL\",\"BOS\",\"CLE\",\"NOH\",\"CHI\",\"DAL\",\"DEN\",\"GSW\",\"HOU\",\"LAC\",\"LAL\",\"MIA\",\"MIL\",\"MIN\",\"NJN\",\"NYK\",\"ORL\",\"IND\",\"PHI\",\"PHX\",\"POR\",\"SAC\",\"SAS\"],\"textfont\":{\"size\":7},\"x\":[2004,2004,2004,2004,2004,2004,2004,2004,2004,2004,2004,2004,2004,2004,2004,2004,2004,2004,2004,2004,2004,2004,2004,2004,2004,2004,2004,2004,2004],\"y\":[null,null,null,null,null,null,null,null,null,null,null,null,null,null,null,null,null,null,null,null,null,null,null,null,null,null,null,null,null],\"type\":\"scatter\"},{\"hovertemplate\":\"Team: 116    ATL\\n117    BOS\\n118    CLE\\n119    PHI\\n120    NOH\\n121    CHI\\n122    DAL\\n123    DEN\\n124    GSW\\n125    HOU\\n126    LAC\\n127    LAL\\n128    MIA\\n129    MIL\\n130    MIN\\n131    NJN\\n132    NYK\\n133    ORL\\n134    IND\\n135    PHX\\n136    SAC\\n137    SAS\\n138    SEA\\n139    TOR\\n140    UTA\\n141    MEM\\n142    WAS\\n143    DET\\n144    CHA\\n145    POR\\nName: Team, dtype: object\\u003cbr\\u003eYear: %{x}\\u003cbr\\u003eFG3A: %{y:.2f}\\u003cextra\\u003e\\u003c\\u002fextra\\u003e\",\"marker\":{\"color\":[\"#C1D32F\",\"#BA9653\",\"#041E42\",\"#ED174C\",null,\"#000000\",\"#002B5E\",\"#FEC524\",\"#FFC72C\",\"#000000\",\"#1D428A\",\"#FDB927\",\"#F9A01B\",\"#EEE1C6\",\"#236192\",null,\"#F58426\",\"#C4CED4\",\"#FDBB30\",\"#E56020\",\"#63727A\",\"#000000\",null,\"#000000\",\"#00471B\",\"#12173F\",\"#E31837\",\"#1D42BA\",\"#00788C\",\"#000000\"],\"line\":{\"color\":\"white\",\"width\":1.5},\"size\":27},\"mode\":\"markers+text\",\"text\":[\"ATL\",\"BOS\",\"CLE\",\"PHI\",\"NOH\",\"CHI\",\"DAL\",\"DEN\",\"GSW\",\"HOU\",\"LAC\",\"LAL\",\"MIA\",\"MIL\",\"MIN\",\"NJN\",\"NYK\",\"ORL\",\"IND\",\"PHX\",\"SAC\",\"SAS\",\"SEA\",\"TOR\",\"UTA\",\"MEM\",\"WAS\",\"DET\",\"CHA\",\"POR\"],\"textfont\":{\"size\":7},\"x\":[2005,2005,2005,2005,2005,2005,2005,2005,2005,2005,2005,2005,2005,2005,2005,2005,2005,2005,2005,2005,2005,2005,2005,2005,2005,2005,2005,2005,2005,2005],\"y\":[null,null,null,null,null,null,null,null,null,null,null,null,null,null,null,null,null,null,null,null,null,null,null,null,null,null,null,null,null,null],\"type\":\"scatter\"},{\"hovertemplate\":\"Team: 146    MIL\\n147    MIN\\n148    NJN\\n149    NYK\\n150    ORL\\n151    IND\\n152    PHI\\n153    PHX\\n154    POR\\n155    SAC\\n156    ATL\\n157    BOS\\n158    CLE\\n159    NOK\\n160    SAS\\n161    SEA\\n162    GSW\\n163    TOR\\n164    UTA\\n165    MEM\\n166    WAS\\n167    DET\\n168    CHA\\n169    CHI\\n170    DAL\\n171    DEN\\n172    HOU\\n173    LAC\\n174    LAL\\n175    MIA\\nName: Team, dtype: object\\u003cbr\\u003eYear: %{x}\\u003cbr\\u003eFG3A: %{y:.2f}\\u003cextra\\u003e\\u003c\\u002fextra\\u003e\",\"marker\":{\"color\":[\"#EEE1C6\",\"#236192\",null,\"#F58426\",\"#C4CED4\",\"#FDBB30\",\"#ED174C\",\"#E56020\",\"#000000\",\"#63727A\",\"#C1D32F\",\"#BA9653\",\"#041E42\",null,\"#000000\",null,\"#FFC72C\",\"#000000\",\"#00471B\",\"#12173F\",\"#E31837\",\"#1D42BA\",\"#00788C\",\"#000000\",\"#002B5E\",\"#FEC524\",\"#000000\",\"#1D428A\",\"#FDB927\",\"#F9A01B\"],\"line\":{\"color\":\"white\",\"width\":1.5},\"size\":27},\"mode\":\"markers+text\",\"text\":[\"MIL\",\"MIN\",\"NJN\",\"NYK\",\"ORL\",\"IND\",\"PHI\",\"PHX\",\"POR\",\"SAC\",\"ATL\",\"BOS\",\"CLE\",\"NOK\",\"SAS\",\"SEA\",\"GSW\",\"TOR\",\"UTA\",\"MEM\",\"WAS\",\"DET\",\"CHA\",\"CHI\",\"DAL\",\"DEN\",\"HOU\",\"LAC\",\"LAL\",\"MIA\"],\"textfont\":{\"size\":7},\"x\":[2006,2006,2006,2006,2006,2006,2006,2006,2006,2006,2006,2006,2006,2006,2006,2006,2006,2006,2006,2006,2006,2006,2006,2006,2006,2006,2006,2006,2006,2006],\"y\":[null,null,null,null,null,null,null,null,null,null,null,null,null,null,null,null,null,null,null,null,null,null,null,null,null,null,null,null,null,null],\"type\":\"scatter\"},{\"hovertemplate\":\"Team: 176    LAL\\n177    MIL\\n178    NJN\\n179    NYK\\n180    ORL\\n181    IND\\n182    SAC\\n183    SEA\\n184    TOR\\n185    UTA\\n186    WAS\\n187    DET\\n188    CHA\\n189    BOS\\n190    CLE\\n191    NOK\\n192    CHI\\n193    DAL\\n194    DEN\\n195    GSW\\n196    HOU\\n197    PHI\\n198    MIA\\n199    MIN\\n200    PHX\\n201    POR\\n202    SAS\\n203    MEM\\n204    ATL\\n205    LAC\\nName: Team, dtype: object\\u003cbr\\u003eYear: %{x}\\u003cbr\\u003eFG3A: %{y:.2f}\\u003cextra\\u003e\\u003c\\u002fextra\\u003e\",\"marker\":{\"color\":[\"#FDB927\",\"#EEE1C6\",null,\"#F58426\",\"#C4CED4\",\"#FDBB30\",\"#63727A\",null,\"#000000\",\"#00471B\",\"#E31837\",\"#1D42BA\",\"#00788C\",\"#BA9653\",\"#041E42\",null,\"#000000\",\"#002B5E\",\"#FEC524\",\"#FFC72C\",\"#000000\",\"#ED174C\",\"#F9A01B\",\"#236192\",\"#E56020\",\"#000000\",\"#000000\",\"#12173F\",\"#C1D32F\",\"#1D428A\"],\"line\":{\"color\":\"white\",\"width\":1.5},\"size\":27},\"mode\":\"markers+text\",\"text\":[\"LAL\",\"MIL\",\"NJN\",\"NYK\",\"ORL\",\"IND\",\"SAC\",\"SEA\",\"TOR\",\"UTA\",\"WAS\",\"DET\",\"CHA\",\"BOS\",\"CLE\",\"NOK\",\"CHI\",\"DAL\",\"DEN\",\"GSW\",\"HOU\",\"PHI\",\"MIA\",\"MIN\",\"PHX\",\"POR\",\"SAS\",\"MEM\",\"ATL\",\"LAC\"],\"textfont\":{\"size\":7},\"x\":[2007,2007,2007,2007,2007,2007,2007,2007,2007,2007,2007,2007,2007,2007,2007,2007,2007,2007,2007,2007,2007,2007,2007,2007,2007,2007,2007,2007,2007,2007],\"y\":[null,null,null,null,null,null,null,null,null,null,null,null,null,null,null,null,null,null,null,null,null,null,null,null,null,null,null,null,null,null],\"type\":\"scatter\"},{\"hovertemplate\":\"Team: 206    MEM\\n207    WAS\\n208    DET\\n209    PHI\\n210    PHX\\n211    POR\\n212    SAC\\n213    SAS\\n214    SEA\\n215    CHA\\n216    IND\\n217    TOR\\n218    UTA\\n219    BOS\\n220    CLE\\n221    NOH\\n222    CHI\\n223    DAL\\n224    DEN\\n225    GSW\\n226    HOU\\n227    LAL\\n228    MIA\\n229    MIL\\n230    MIN\\n231    NJN\\n232    NYK\\n233    ORL\\n234    ATL\\n235    LAC\\nName: Team, dtype: object\\u003cbr\\u003eYear: %{x}\\u003cbr\\u003eFG3A: %{y:.2f}\\u003cextra\\u003e\\u003c\\u002fextra\\u003e\",\"marker\":{\"color\":[\"#12173F\",\"#E31837\",\"#1D42BA\",\"#ED174C\",\"#E56020\",\"#000000\",\"#63727A\",\"#000000\",null,\"#00788C\",\"#FDBB30\",\"#000000\",\"#00471B\",\"#BA9653\",\"#041E42\",null,\"#000000\",\"#002B5E\",\"#FEC524\",\"#FFC72C\",\"#000000\",\"#FDB927\",\"#F9A01B\",\"#EEE1C6\",\"#236192\",null,\"#F58426\",\"#C4CED4\",\"#C1D32F\",\"#1D428A\"],\"line\":{\"color\":\"white\",\"width\":1.5},\"size\":27},\"mode\":\"markers+text\",\"text\":[\"MEM\",\"WAS\",\"DET\",\"PHI\",\"PHX\",\"POR\",\"SAC\",\"SAS\",\"SEA\",\"CHA\",\"IND\",\"TOR\",\"UTA\",\"BOS\",\"CLE\",\"NOH\",\"CHI\",\"DAL\",\"DEN\",\"GSW\",\"HOU\",\"LAL\",\"MIA\",\"MIL\",\"MIN\",\"NJN\",\"NYK\",\"ORL\",\"ATL\",\"LAC\"],\"textfont\":{\"size\":7},\"x\":[2008,2008,2008,2008,2008,2008,2008,2008,2008,2008,2008,2008,2008,2008,2008,2008,2008,2008,2008,2008,2008,2008,2008,2008,2008,2008,2008,2008,2008,2008],\"y\":[null,null,null,null,null,null,null,null,null,null,null,null,null,null,null,null,null,null,null,null,null,null,null,null,null,null,null,null,null,null],\"type\":\"scatter\"},{\"hovertemplate\":\"Team: 236    NJN\\n237    ATL\\n238    NYK\\n239    ORL\\n240    IND\\n241    PHI\\n242    PHX\\n243    POR\\n244    SAC\\n245    SAS\\n246    OKC\\n247    TOR\\n248    DET\\n249    CHA\\n250    BOS\\n251    CLE\\n252    NOH\\n253    CHI\\n254    DAL\\n255    DEN\\n256    GSW\\n257    HOU\\n258    LAC\\n259    LAL\\n260    MIA\\n261    MIL\\n262    MIN\\n263    UTA\\n264    MEM\\n265    WAS\\nName: Team, dtype: object\\u003cbr\\u003eYear: %{x}\\u003cbr\\u003eFG3A: %{y:.2f}\\u003cextra\\u003e\\u003c\\u002fextra\\u003e\",\"marker\":{\"color\":[null,\"#C1D32F\",\"#F58426\",\"#C4CED4\",\"#FDBB30\",\"#ED174C\",\"#E56020\",\"#000000\",\"#63727A\",\"#000000\",\"#EF3B24\",\"#000000\",\"#1D42BA\",\"#00788C\",\"#BA9653\",\"#041E42\",null,\"#000000\",\"#002B5E\",\"#FEC524\",\"#FFC72C\",\"#000000\",\"#1D428A\",\"#FDB927\",\"#F9A01B\",\"#EEE1C6\",\"#236192\",\"#00471B\",\"#12173F\",\"#E31837\"],\"line\":{\"color\":\"white\",\"width\":1.5},\"size\":27},\"mode\":\"markers+text\",\"text\":[\"NJN\",\"ATL\",\"NYK\",\"ORL\",\"IND\",\"PHI\",\"PHX\",\"POR\",\"SAC\",\"SAS\",\"OKC\",\"TOR\",\"DET\",\"CHA\",\"BOS\",\"CLE\",\"NOH\",\"CHI\",\"DAL\",\"DEN\",\"GSW\",\"HOU\",\"LAC\",\"LAL\",\"MIA\",\"MIL\",\"MIN\",\"UTA\",\"MEM\",\"WAS\"],\"textfont\":{\"size\":7},\"x\":[2009,2009,2009,2009,2009,2009,2009,2009,2009,2009,2009,2009,2009,2009,2009,2009,2009,2009,2009,2009,2009,2009,2009,2009,2009,2009,2009,2009,2009,2009],\"y\":[null,null,null,null,null,null,null,null,null,null,null,null,null,null,null,null,null,null,null,null,null,null,null,null,null,null,null,null,null,null],\"type\":\"scatter\"},{\"hovertemplate\":\"Team: 266    IND\\n267    WAS\\n268    DET\\n269    CHA\\n270    ATL\\n271    BOS\\n272    CLE\\n273    NOH\\n274    CHI\\n275    DAL\\n276    DEN\\n277    GSW\\n278    HOU\\n279    LAC\\n280    LAL\\n281    MIA\\n282    MIL\\n283    MIN\\n284    NJN\\n285    NYK\\n286    ORL\\n287    PHI\\n288    PHX\\n289    POR\\n290    SAC\\n291    SAS\\n292    OKC\\n293    TOR\\n294    UTA\\n295    MEM\\nName: Team, dtype: object\\u003cbr\\u003eYear: %{x}\\u003cbr\\u003eFG3A: %{y:.2f}\\u003cextra\\u003e\\u003c\\u002fextra\\u003e\",\"marker\":{\"color\":[\"#FDBB30\",\"#E31837\",\"#1D42BA\",\"#00788C\",\"#C1D32F\",\"#BA9653\",\"#041E42\",null,\"#000000\",\"#002B5E\",\"#FEC524\",\"#FFC72C\",\"#000000\",\"#1D428A\",\"#FDB927\",\"#F9A01B\",\"#EEE1C6\",\"#236192\",null,\"#F58426\",\"#C4CED4\",\"#ED174C\",\"#E56020\",\"#000000\",\"#63727A\",\"#000000\",\"#EF3B24\",\"#000000\",\"#00471B\",\"#12173F\"],\"line\":{\"color\":\"white\",\"width\":1.5},\"size\":27},\"mode\":\"markers+text\",\"text\":[\"IND\",\"WAS\",\"DET\",\"CHA\",\"ATL\",\"BOS\",\"CLE\",\"NOH\",\"CHI\",\"DAL\",\"DEN\",\"GSW\",\"HOU\",\"LAC\",\"LAL\",\"MIA\",\"MIL\",\"MIN\",\"NJN\",\"NYK\",\"ORL\",\"PHI\",\"PHX\",\"POR\",\"SAC\",\"SAS\",\"OKC\",\"TOR\",\"UTA\",\"MEM\"],\"textfont\":{\"size\":7},\"x\":[2010,2010,2010,2010,2010,2010,2010,2010,2010,2010,2010,2010,2010,2010,2010,2010,2010,2010,2010,2010,2010,2010,2010,2010,2010,2010,2010,2010,2010,2010],\"y\":[null,null,null,null,null,null,null,null,null,null,null,null,null,null,null,null,null,null,null,null,null,null,null,null,null,null,null,null,null,null],\"type\":\"scatter\"},{\"hovertemplate\":\"Team: 296    DEN\\n297    GSW\\n298    LAC\\n299    ORL\\n300    SAC\\n301    OKC\\n302    TOR\\n303    UTA\\n304    MEM\\n305    HOU\\n306    LAL\\n307    MIA\\n308    MIL\\n309    MIN\\n310    NJN\\n311    NYK\\n312    IND\\n313    PHI\\n314    PHX\\n315    POR\\n316    SAS\\n317    ATL\\n318    WAS\\n319    DET\\n320    CHA\\n321    BOS\\n322    CLE\\n323    NOH\\n324    CHI\\n325    DAL\\nName: Team, dtype: object\\u003cbr\\u003eYear: %{x}\\u003cbr\\u003eFG3A: %{y:.2f}\\u003cextra\\u003e\\u003c\\u002fextra\\u003e\",\"marker\":{\"color\":[\"#FEC524\",\"#FFC72C\",\"#1D428A\",\"#C4CED4\",\"#63727A\",\"#EF3B24\",\"#000000\",\"#00471B\",\"#12173F\",\"#000000\",\"#FDB927\",\"#F9A01B\",\"#EEE1C6\",\"#236192\",null,\"#F58426\",\"#FDBB30\",\"#ED174C\",\"#E56020\",\"#000000\",\"#000000\",\"#C1D32F\",\"#E31837\",\"#1D42BA\",\"#00788C\",\"#BA9653\",\"#041E42\",null,\"#000000\",\"#002B5E\"],\"line\":{\"color\":\"white\",\"width\":1.5},\"size\":27},\"mode\":\"markers+text\",\"text\":[\"DEN\",\"GSW\",\"LAC\",\"ORL\",\"SAC\",\"OKC\",\"TOR\",\"UTA\",\"MEM\",\"HOU\",\"LAL\",\"MIA\",\"MIL\",\"MIN\",\"NJN\",\"NYK\",\"IND\",\"PHI\",\"PHX\",\"POR\",\"SAS\",\"ATL\",\"WAS\",\"DET\",\"CHA\",\"BOS\",\"CLE\",\"NOH\",\"CHI\",\"DAL\"],\"textfont\":{\"size\":7},\"x\":[2011,2011,2011,2011,2011,2011,2011,2011,2011,2011,2011,2011,2011,2011,2011,2011,2011,2011,2011,2011,2011,2011,2011,2011,2011,2011,2011,2011,2011,2011],\"y\":[null,null,null,null,null,null,null,null,null,null,null,null,null,null,null,null,null,null,null,null,null,null,null,null,null,null,null,null,null,null],\"type\":\"scatter\"},{\"hovertemplate\":\"Team: 326    BOS\\n327    CLE\\n328    MIL\\n329    IND\\n330    PHI\\n331    PHX\\n332    WAS\\n333    DET\\n334    ATL\\n335    NOH\\n336    CHI\\n337    DAL\\n338    DEN\\n339    MIN\\n340    NJN\\n341    NYK\\n342    ORL\\n343    POR\\n344    SAC\\n345    SAS\\n346    OKC\\n347    TOR\\n348    UTA\\n349    MEM\\n350    CHA\\n351    GSW\\n352    HOU\\n353    LAC\\n354    LAL\\n355    MIA\\nName: Team, dtype: object\\u003cbr\\u003eYear: %{x}\\u003cbr\\u003eFG3A: %{y:.2f}\\u003cextra\\u003e\\u003c\\u002fextra\\u003e\",\"marker\":{\"color\":[\"#BA9653\",\"#041E42\",\"#EEE1C6\",\"#FDBB30\",\"#ED174C\",\"#E56020\",\"#E31837\",\"#1D42BA\",\"#C1D32F\",null,\"#000000\",\"#002B5E\",\"#FEC524\",\"#236192\",null,\"#F58426\",\"#C4CED4\",\"#000000\",\"#63727A\",\"#000000\",\"#EF3B24\",\"#000000\",\"#00471B\",\"#12173F\",\"#00788C\",\"#FFC72C\",\"#000000\",\"#1D428A\",\"#FDB927\",\"#F9A01B\"],\"line\":{\"color\":\"white\",\"width\":1.5},\"size\":27},\"mode\":\"markers+text\",\"text\":[\"BOS\",\"CLE\",\"MIL\",\"IND\",\"PHI\",\"PHX\",\"WAS\",\"DET\",\"ATL\",\"NOH\",\"CHI\",\"DAL\",\"DEN\",\"MIN\",\"NJN\",\"NYK\",\"ORL\",\"POR\",\"SAC\",\"SAS\",\"OKC\",\"TOR\",\"UTA\",\"MEM\",\"CHA\",\"GSW\",\"HOU\",\"LAC\",\"LAL\",\"MIA\"],\"textfont\":{\"size\":7},\"x\":[2012,2012,2012,2012,2012,2012,2012,2012,2012,2012,2012,2012,2012,2012,2012,2012,2012,2012,2012,2012,2012,2012,2012,2012,2012,2012,2012,2012,2012,2012],\"y\":[null,null,null,null,null,null,null,null,null,null,null,null,null,null,null,null,null,null,null,null,null,null,null,null,null,null,null,null,null,null],\"type\":\"scatter\"},{\"hovertemplate\":\"Team: 356    BOS\\n357    HOU\\n358    LAC\\n359    LAL\\n360    MIA\\n361    MIL\\n362    MIN\\n363    DET\\n364    CHA\\n365    PHI\\n366    PHX\\n367    POR\\n368    SAC\\n369    SAS\\n370    OKC\\n371    TOR\\n372    UTA\\n373    MEM\\n374    WAS\\n375    BKN\\n376    NYK\\n377    ORL\\n378    IND\\n379    CLE\\n380    NOH\\n381    CHI\\n382    DAL\\n383    DEN\\n384    GSW\\n385    ATL\\nName: Team, dtype: object\\u003cbr\\u003eYear: %{x}\\u003cbr\\u003eFG3A: %{y:.2f}\\u003cextra\\u003e\\u003c\\u002fextra\\u003e\",\"marker\":{\"color\":[\"#BA9653\",\"#000000\",\"#1D428A\",\"#FDB927\",\"#F9A01B\",\"#EEE1C6\",\"#236192\",\"#1D42BA\",\"#00788C\",\"#ED174C\",\"#E56020\",\"#000000\",\"#63727A\",\"#000000\",\"#EF3B24\",\"#000000\",\"#00471B\",\"#12173F\",\"#E31837\",\"#FFFFFF\",\"#F58426\",\"#C4CED4\",\"#FDBB30\",\"#041E42\",null,\"#000000\",\"#002B5E\",\"#FEC524\",\"#FFC72C\",\"#C1D32F\"],\"line\":{\"color\":\"white\",\"width\":1.5},\"size\":27},\"mode\":\"markers+text\",\"text\":[\"BOS\",\"HOU\",\"LAC\",\"LAL\",\"MIA\",\"MIL\",\"MIN\",\"DET\",\"CHA\",\"PHI\",\"PHX\",\"POR\",\"SAC\",\"SAS\",\"OKC\",\"TOR\",\"UTA\",\"MEM\",\"WAS\",\"BKN\",\"NYK\",\"ORL\",\"IND\",\"CLE\",\"NOH\",\"CHI\",\"DAL\",\"DEN\",\"GSW\",\"ATL\"],\"textfont\":{\"size\":7},\"x\":[2013,2013,2013,2013,2013,2013,2013,2013,2013,2013,2013,2013,2013,2013,2013,2013,2013,2013,2013,2013,2013,2013,2013,2013,2013,2013,2013,2013,2013,2013],\"y\":[null,null,null,null,null,null,null,null,null,null,null,null,null,null,null,null,null,null,null,null,null,null,null,null,null,null,null,null,null,null],\"type\":\"scatter\"},{\"hovertemplate\":\"Team: 386    ATL\\n387    BOS\\n388    BKN\\n389    CHA\\n390    CHI\\n391    CLE\\n392    DAL\\n393    DEN\\n394    DET\\n395    GSW\\n396    HOU\\n397    IND\\n398    LAC\\n399    LAL\\n400    MEM\\n401    MIA\\n402    MIL\\n403    MIN\\n404    NOP\\n405    NYK\\n406    OKC\\n407    ORL\\n408    PHI\\n409    PHX\\n410    POR\\n411    SAC\\n412    SAS\\n413    TOR\\n414    UTA\\n415    WAS\\nName: Team, dtype: object\\u003cbr\\u003eYear: %{x}\\u003cbr\\u003eFG3A: %{y:.2f}\\u003cextra\\u003e\\u003c\\u002fextra\\u003e\",\"marker\":{\"color\":[\"#C1D32F\",\"#BA9653\",\"#FFFFFF\",\"#00788C\",\"#000000\",\"#041E42\",\"#002B5E\",\"#FEC524\",\"#1D42BA\",\"#FFC72C\",\"#000000\",\"#FDBB30\",\"#1D428A\",\"#FDB927\",\"#12173F\",\"#F9A01B\",\"#EEE1C6\",\"#236192\",\"#C8102E\",\"#F58426\",\"#EF3B24\",\"#C4CED4\",\"#ED174C\",\"#E56020\",\"#000000\",\"#63727A\",\"#000000\",\"#000000\",\"#00471B\",\"#E31837\"],\"line\":{\"color\":\"white\",\"width\":1.5},\"size\":27},\"mode\":\"markers+text\",\"text\":[\"ATL\",\"BOS\",\"BKN\",\"CHA\",\"CHI\",\"CLE\",\"DAL\",\"DEN\",\"DET\",\"GSW\",\"HOU\",\"IND\",\"LAC\",\"LAL\",\"MEM\",\"MIA\",\"MIL\",\"MIN\",\"NOP\",\"NYK\",\"OKC\",\"ORL\",\"PHI\",\"PHX\",\"POR\",\"SAC\",\"SAS\",\"TOR\",\"UTA\",\"WAS\"],\"textfont\":{\"size\":7},\"x\":[2014,2014,2014,2014,2014,2014,2014,2014,2014,2014,2014,2014,2014,2014,2014,2014,2014,2014,2014,2014,2014,2014,2014,2014,2014,2014,2014,2014,2014,2014],\"y\":[26.811961479979725,22.324080051646224,25.08156074644395,19.074170124481327,19.32706318717711,21.0688591983556,23.904737646459502,24.048612816106065,20.066040132080264,25.320074580484775,27.101990049751244,20.141065830721004,24.717123459894392,24.85018955607191,15.34242910647405,24.01838476690742,20.208197787898502,21.587418601793832,16.915487472413346,26.971942826892537,23.120442544631633,20.364935562077324,22.425934919864012,25.77448890003763,26.116015132408574,18.81377551020408,22.27716495498922,24.909043659043657,20.73635765943458,21.646341463414632],\"type\":\"scatter\"}],                        {\"template\":{\"data\":{\"histogram2dcontour\":[{\"type\":\"histogram2dcontour\",\"colorbar\":{\"outlinewidth\":0,\"ticks\":\"\"},\"colorscale\":[[0.0,\"#0d0887\"],[0.1111111111111111,\"#46039f\"],[0.2222222222222222,\"#7201a8\"],[0.3333333333333333,\"#9c179e\"],[0.4444444444444444,\"#bd3786\"],[0.5555555555555556,\"#d8576b\"],[0.6666666666666666,\"#ed7953\"],[0.7777777777777778,\"#fb9f3a\"],[0.8888888888888888,\"#fdca26\"],[1.0,\"#f0f921\"]]}],\"choropleth\":[{\"type\":\"choropleth\",\"colorbar\":{\"outlinewidth\":0,\"ticks\":\"\"}}],\"histogram2d\":[{\"type\":\"histogram2d\",\"colorbar\":{\"outlinewidth\":0,\"ticks\":\"\"},\"colorscale\":[[0.0,\"#0d0887\"],[0.1111111111111111,\"#46039f\"],[0.2222222222222222,\"#7201a8\"],[0.3333333333333333,\"#9c179e\"],[0.4444444444444444,\"#bd3786\"],[0.5555555555555556,\"#d8576b\"],[0.6666666666666666,\"#ed7953\"],[0.7777777777777778,\"#fb9f3a\"],[0.8888888888888888,\"#fdca26\"],[1.0,\"#f0f921\"]]}],\"heatmap\":[{\"type\":\"heatmap\",\"colorbar\":{\"outlinewidth\":0,\"ticks\":\"\"},\"colorscale\":[[0.0,\"#0d0887\"],[0.1111111111111111,\"#46039f\"],[0.2222222222222222,\"#7201a8\"],[0.3333333333333333,\"#9c179e\"],[0.4444444444444444,\"#bd3786\"],[0.5555555555555556,\"#d8576b\"],[0.6666666666666666,\"#ed7953\"],[0.7777777777777778,\"#fb9f3a\"],[0.8888888888888888,\"#fdca26\"],[1.0,\"#f0f921\"]]}],\"heatmapgl\":[{\"type\":\"heatmapgl\",\"colorbar\":{\"outlinewidth\":0,\"ticks\":\"\"},\"colorscale\":[[0.0,\"#0d0887\"],[0.1111111111111111,\"#46039f\"],[0.2222222222222222,\"#7201a8\"],[0.3333333333333333,\"#9c179e\"],[0.4444444444444444,\"#bd3786\"],[0.5555555555555556,\"#d8576b\"],[0.6666666666666666,\"#ed7953\"],[0.7777777777777778,\"#fb9f3a\"],[0.8888888888888888,\"#fdca26\"],[1.0,\"#f0f921\"]]}],\"contourcarpet\":[{\"type\":\"contourcarpet\",\"colorbar\":{\"outlinewidth\":0,\"ticks\":\"\"}}],\"contour\":[{\"type\":\"contour\",\"colorbar\":{\"outlinewidth\":0,\"ticks\":\"\"},\"colorscale\":[[0.0,\"#0d0887\"],[0.1111111111111111,\"#46039f\"],[0.2222222222222222,\"#7201a8\"],[0.3333333333333333,\"#9c179e\"],[0.4444444444444444,\"#bd3786\"],[0.5555555555555556,\"#d8576b\"],[0.6666666666666666,\"#ed7953\"],[0.7777777777777778,\"#fb9f3a\"],[0.8888888888888888,\"#fdca26\"],[1.0,\"#f0f921\"]]}],\"surface\":[{\"type\":\"surface\",\"colorbar\":{\"outlinewidth\":0,\"ticks\":\"\"},\"colorscale\":[[0.0,\"#0d0887\"],[0.1111111111111111,\"#46039f\"],[0.2222222222222222,\"#7201a8\"],[0.3333333333333333,\"#9c179e\"],[0.4444444444444444,\"#bd3786\"],[0.5555555555555556,\"#d8576b\"],[0.6666666666666666,\"#ed7953\"],[0.7777777777777778,\"#fb9f3a\"],[0.8888888888888888,\"#fdca26\"],[1.0,\"#f0f921\"]]}],\"mesh3d\":[{\"type\":\"mesh3d\",\"colorbar\":{\"outlinewidth\":0,\"ticks\":\"\"}}],\"scatter\":[{\"fillpattern\":{\"fillmode\":\"overlay\",\"size\":10,\"solidity\":0.2},\"type\":\"scatter\"}],\"parcoords\":[{\"type\":\"parcoords\",\"line\":{\"colorbar\":{\"outlinewidth\":0,\"ticks\":\"\"}}}],\"scatterpolargl\":[{\"type\":\"scatterpolargl\",\"marker\":{\"colorbar\":{\"outlinewidth\":0,\"ticks\":\"\"}}}],\"bar\":[{\"error_x\":{\"color\":\"#2a3f5f\"},\"error_y\":{\"color\":\"#2a3f5f\"},\"marker\":{\"line\":{\"color\":\"#E5ECF6\",\"width\":0.5},\"pattern\":{\"fillmode\":\"overlay\",\"size\":10,\"solidity\":0.2}},\"type\":\"bar\"}],\"scattergeo\":[{\"type\":\"scattergeo\",\"marker\":{\"colorbar\":{\"outlinewidth\":0,\"ticks\":\"\"}}}],\"scatterpolar\":[{\"type\":\"scatterpolar\",\"marker\":{\"colorbar\":{\"outlinewidth\":0,\"ticks\":\"\"}}}],\"histogram\":[{\"marker\":{\"pattern\":{\"fillmode\":\"overlay\",\"size\":10,\"solidity\":0.2}},\"type\":\"histogram\"}],\"scattergl\":[{\"type\":\"scattergl\",\"marker\":{\"colorbar\":{\"outlinewidth\":0,\"ticks\":\"\"}}}],\"scatter3d\":[{\"type\":\"scatter3d\",\"line\":{\"colorbar\":{\"outlinewidth\":0,\"ticks\":\"\"}},\"marker\":{\"colorbar\":{\"outlinewidth\":0,\"ticks\":\"\"}}}],\"scattermapbox\":[{\"type\":\"scattermapbox\",\"marker\":{\"colorbar\":{\"outlinewidth\":0,\"ticks\":\"\"}}}],\"scatterternary\":[{\"type\":\"scatterternary\",\"marker\":{\"colorbar\":{\"outlinewidth\":0,\"ticks\":\"\"}}}],\"scattercarpet\":[{\"type\":\"scattercarpet\",\"marker\":{\"colorbar\":{\"outlinewidth\":0,\"ticks\":\"\"}}}],\"carpet\":[{\"aaxis\":{\"endlinecolor\":\"#2a3f5f\",\"gridcolor\":\"white\",\"linecolor\":\"white\",\"minorgridcolor\":\"white\",\"startlinecolor\":\"#2a3f5f\"},\"baxis\":{\"endlinecolor\":\"#2a3f5f\",\"gridcolor\":\"white\",\"linecolor\":\"white\",\"minorgridcolor\":\"white\",\"startlinecolor\":\"#2a3f5f\"},\"type\":\"carpet\"}],\"table\":[{\"cells\":{\"fill\":{\"color\":\"#EBF0F8\"},\"line\":{\"color\":\"white\"}},\"header\":{\"fill\":{\"color\":\"#C8D4E3\"},\"line\":{\"color\":\"white\"}},\"type\":\"table\"}],\"barpolar\":[{\"marker\":{\"line\":{\"color\":\"#E5ECF6\",\"width\":0.5},\"pattern\":{\"fillmode\":\"overlay\",\"size\":10,\"solidity\":0.2}},\"type\":\"barpolar\"}],\"pie\":[{\"automargin\":true,\"type\":\"pie\"}]},\"layout\":{\"autotypenumbers\":\"strict\",\"colorway\":[\"#636efa\",\"#EF553B\",\"#00cc96\",\"#ab63fa\",\"#FFA15A\",\"#19d3f3\",\"#FF6692\",\"#B6E880\",\"#FF97FF\",\"#FECB52\"],\"font\":{\"color\":\"#2a3f5f\"},\"hovermode\":\"closest\",\"hoverlabel\":{\"align\":\"left\"},\"paper_bgcolor\":\"white\",\"plot_bgcolor\":\"#E5ECF6\",\"polar\":{\"bgcolor\":\"#E5ECF6\",\"angularaxis\":{\"gridcolor\":\"white\",\"linecolor\":\"white\",\"ticks\":\"\"},\"radialaxis\":{\"gridcolor\":\"white\",\"linecolor\":\"white\",\"ticks\":\"\"}},\"ternary\":{\"bgcolor\":\"#E5ECF6\",\"aaxis\":{\"gridcolor\":\"white\",\"linecolor\":\"white\",\"ticks\":\"\"},\"baxis\":{\"gridcolor\":\"white\",\"linecolor\":\"white\",\"ticks\":\"\"},\"caxis\":{\"gridcolor\":\"white\",\"linecolor\":\"white\",\"ticks\":\"\"}},\"coloraxis\":{\"colorbar\":{\"outlinewidth\":0,\"ticks\":\"\"}},\"colorscale\":{\"sequential\":[[0.0,\"#0d0887\"],[0.1111111111111111,\"#46039f\"],[0.2222222222222222,\"#7201a8\"],[0.3333333333333333,\"#9c179e\"],[0.4444444444444444,\"#bd3786\"],[0.5555555555555556,\"#d8576b\"],[0.6666666666666666,\"#ed7953\"],[0.7777777777777778,\"#fb9f3a\"],[0.8888888888888888,\"#fdca26\"],[1.0,\"#f0f921\"]],\"sequentialminus\":[[0.0,\"#0d0887\"],[0.1111111111111111,\"#46039f\"],[0.2222222222222222,\"#7201a8\"],[0.3333333333333333,\"#9c179e\"],[0.4444444444444444,\"#bd3786\"],[0.5555555555555556,\"#d8576b\"],[0.6666666666666666,\"#ed7953\"],[0.7777777777777778,\"#fb9f3a\"],[0.8888888888888888,\"#fdca26\"],[1.0,\"#f0f921\"]],\"diverging\":[[0,\"#8e0152\"],[0.1,\"#c51b7d\"],[0.2,\"#de77ae\"],[0.3,\"#f1b6da\"],[0.4,\"#fde0ef\"],[0.5,\"#f7f7f7\"],[0.6,\"#e6f5d0\"],[0.7,\"#b8e186\"],[0.8,\"#7fbc41\"],[0.9,\"#4d9221\"],[1,\"#276419\"]]},\"xaxis\":{\"gridcolor\":\"white\",\"linecolor\":\"white\",\"ticks\":\"\",\"title\":{\"standoff\":15},\"zerolinecolor\":\"white\",\"automargin\":true,\"zerolinewidth\":2},\"yaxis\":{\"gridcolor\":\"white\",\"linecolor\":\"white\",\"ticks\":\"\",\"title\":{\"standoff\":15},\"zerolinecolor\":\"white\",\"automargin\":true,\"zerolinewidth\":2},\"scene\":{\"xaxis\":{\"backgroundcolor\":\"#E5ECF6\",\"gridcolor\":\"white\",\"linecolor\":\"white\",\"showbackground\":true,\"ticks\":\"\",\"zerolinecolor\":\"white\",\"gridwidth\":2},\"yaxis\":{\"backgroundcolor\":\"#E5ECF6\",\"gridcolor\":\"white\",\"linecolor\":\"white\",\"showbackground\":true,\"ticks\":\"\",\"zerolinecolor\":\"white\",\"gridwidth\":2},\"zaxis\":{\"backgroundcolor\":\"#E5ECF6\",\"gridcolor\":\"white\",\"linecolor\":\"white\",\"showbackground\":true,\"ticks\":\"\",\"zerolinecolor\":\"white\",\"gridwidth\":2}},\"shapedefaults\":{\"line\":{\"color\":\"#2a3f5f\"}},\"annotationdefaults\":{\"arrowcolor\":\"#2a3f5f\",\"arrowhead\":0,\"arrowwidth\":1},\"geo\":{\"bgcolor\":\"white\",\"landcolor\":\"#E5ECF6\",\"subunitcolor\":\"white\",\"showland\":true,\"showlakes\":true,\"lakecolor\":\"white\"},\"title\":{\"x\":0.05},\"mapbox\":{\"style\":\"light\"}}},\"title\":{\"font\":{\"size\":24,\"color\":\"white\",\"family\":\"Arial Black\"},\"text\":\"NBA Team FG3A Across Years\\u003cbr\\u003e\\u003cspan style=\\\"font-size: 20px; color: #CCCCCC\\\"\\u003e2001 to 2014\\u003c\\u002fspan\\u003e\",\"y\":0.95,\"x\":0.5,\"xanchor\":\"center\",\"yanchor\":\"top\"},\"font\":{\"color\":\"white\",\"family\":\"Arial\"},\"xaxis\":{\"title\":{\"text\":\"Year\"},\"tickmode\":\"linear\",\"dtick\":1,\"gridcolor\":\"rgba(255,255,255,0.1)\"},\"yaxis\":{\"title\":{\"text\":\"FG3A\"},\"gridcolor\":\"rgba(255,255,255,0.1)\"},\"legend\":{\"font\":{\"size\":10},\"bgcolor\":\"rgba(0,0,0,0.5)\",\"bordercolor\":\"white\",\"borderwidth\":1},\"height\":800,\"width\":1200,\"plot_bgcolor\":\"#1E1E1E\",\"paper_bgcolor\":\"#121212\"},                        {\"responsive\": true}                    ).then(function(){\n",
       "                            \n",
       "var gd = document.getElementById('d23e6b3f-72ad-432d-a18c-1e40fed7fffb');\n",
       "var x = new MutationObserver(function (mutations, observer) {{\n",
       "        var display = window.getComputedStyle(gd).display;\n",
       "        if (!display || display === 'none') {{\n",
       "            console.log([gd, 'removed!']);\n",
       "            Plotly.purge(gd);\n",
       "            observer.disconnect();\n",
       "        }}\n",
       "}});\n",
       "\n",
       "// Listen for the removal of the full notebook cells\n",
       "var notebookContainer = gd.closest('#notebook-container');\n",
       "if (notebookContainer) {{\n",
       "    x.observe(notebookContainer, {childList: true});\n",
       "}}\n",
       "\n",
       "// Listen for the clearing of the current output cell\n",
       "var outputEl = gd.closest('.output');\n",
       "if (outputEl) {{\n",
       "    x.observe(outputEl, {childList: true});\n",
       "}}\n",
       "\n",
       "                        })                };                });            </script>        </div>"
      ]
     },
     "metadata": {},
     "output_type": "display_data"
    }
   ],
   "source": [
    "import pandas as pd\n",
    "import plotly.graph_objects as go\n",
    "import plotly.express as px\n",
    "\n",
    "def get_multi_year_data(start_year, end_year):\n",
    "    \"\"\"\n",
    "    Retrieve team performance data across multiple years\n",
    "    \"\"\"\n",
    "    url='https://raw.githubusercontent.com/gabriel1200/player_sheets/refs/heads/master/team_totals/all_teamyears.csv'\n",
    "    \n",
    "    df =pd.read_csv(url)\n",
    "   \n",
    "    return df\n",
    "\n",
    "def create_multi_year_dot_plot(metric_column, start_year=2014, end_year=2025):\n",
    "    \"\"\"\n",
    "    Create a dot plot showing team performance across multiple years\n",
    "    \"\"\"\n",
    "    # NBA team colors dictionary\n",
    "    team_colors = {\n",
    "        'ATL': '#C1D32F', 'BOS': '#BA9653', 'BKN': '#FFFFFF', 'CHA': '#00788C',\n",
    "        'CHI': '#000000', 'CLE': '#041E42', 'DAL': '#002B5E', 'DEN': '#FEC524',\n",
    "        'DET': '#1D42BA', 'GSW': '#FFC72C', 'HOU': '#000000', 'IND': '#FDBB30',\n",
    "        'LAC': '#1D428A', 'LAL': '#FDB927', 'MEM': '#12173F', 'MIA': '#F9A01B',\n",
    "        'MIL': '#EEE1C6', 'MIN': '#236192', 'NOP': '#C8102E', 'NYK': '#F58426',\n",
    "        'OKC': '#EF3B24', 'ORL': '#C4CED4', 'PHI': '#ED174C', 'PHX': '#E56020',\n",
    "        'POR': '#000000', 'SAC': '#63727A', 'SAS': '#000000', 'TOR': '#000000',\n",
    "        'UTA': '#00471B', 'WAS': '#E31837'\n",
    "    }\n",
    "    \n",
    "    # Get data\n",
    "    df = get_multi_year_data(start_year, end_year)\n",
    "    print(df[['year','FG3A']])\n",
    "\n",
    "    df.dropna(subset=metric_column,inplace=True)\n",
    "    \n",
    "    # Normalize the metric if it's a percentage or needs per-possession normalization\n",
    "    if any(keyword in metric_column.lower() for keyword in ['freq', 'accur', 'pct', '%']):\n",
    "        df[metric_column] = df[metric_column] * 100\n",
    "    else:\n",
    "        # Assume per-possession normalization if not a percentage\n",
    "        df[metric_column] = 100 * df[metric_column] / df['POSS']\n",
    "    \n",
    "    # Prepare the data for plotting\n",
    "    if 'TeamAbbreviation' in df.columns:\n",
    "        df['Team'] = df['TeamAbbreviation']\n",
    "    \n",
    "    # Create the dot plot\n",
    "    ymin=df[metric_column].min()\n",
    "    ymax= df[metric_column].max()\n",
    "    xmin=df['year'].min()\n",
    "    xmax=df['year'].max()\n",
    "    fig = go.Figure()\n",
    "    \n",
    "    # Get unique teams\n",
    "    teams = df['Team'].unique()\n",
    "    \n",
    "    for team in teams:\n",
    "        team_data = df[df['Team'] == team]\n",
    "        \n",
    "        # Get team-specific color or default to a neutral color\n",
    "        color = team_colors.get(team, '#1D428A')\n",
    "        print(team_data['year'])\n",
    "        \n",
    "        fig.add_trace(go.Scatter(\n",
    "            x=team_data['year'],\n",
    "            y=team_data[metric_column],\n",
    "            mode='markers+text',\n",
    "            text=team_data['Team'],\n",
    "            name=team,\n",
    "            marker=dict(\n",
    "                color=color,\n",
    "                size=27,\n",
    "                line=dict(color='white', width=1.5)\n",
    "            ),\n",
    "            textfont=dict(\n",
    "                size=7  # Adjust the size to your preference\n",
    "                \n",
    "            ),\n",
    "            hovertemplate=(\n",
    "                f\"Team: {team}<br>\"\n",
    "                f\"Year: %{{x}}<br>\"\n",
    "                f\"{metric_column}: %{{y:.2f}}<extra></extra>\"\n",
    "            )\n",
    "        ))\n",
    "\n",
    "    \n",
    "    # Update layout for a stylish, dark theme visualization\n",
    "    fig.update_layout(\n",
    "        title={\n",
    "            'text': f'NBA Team {metric_column} Across Years<br>'\n",
    "                    f'<span style=\"font-size: 20px; color: #CCCCCC\">{start_year} to {end_year}</span>',\n",
    "            'font': {'size': 24, 'color': 'white', 'family': 'Arial Black'},\n",
    "            'y': 0.95,\n",
    "            'x': 0.5,\n",
    "            'xanchor': 'center',\n",
    "            'yanchor': 'top'\n",
    "        },\n",
    "        height=800,\n",
    "        width=1200,\n",
    "        plot_bgcolor='#1E1E1E',\n",
    "        paper_bgcolor='#121212',\n",
    "        font=dict(color='white', family='Arial'),\n",
    "        xaxis=dict(\n",
    "            title='Year',\n",
    "            tickmode='linear',\n",
    "            range=[xmin,xmax],\n",
    "            dtick=1,\n",
    "            gridcolor='rgba(255,255,255,0.1)'\n",
    "        ),\n",
    "        yaxis=dict(\n",
    "            title=metric_column,\n",
    "            range=[ymin,ymax],\n",
    "            gridcolor='rgba(255,255,255,0.1)'\n",
    "        ),\n",
    "        legend=dict(\n",
    "            bgcolor='rgba(0,0,0,0.5)',\n",
    "            bordercolor='white',\n",
    "            borderwidth=1,\n",
    "            font=dict(size=10)\n",
    "        )\n",
    "    )\n",
    "    \n",
    "    return fig\n",
    "\n",
    "# Example usage\n",
    "fig = create_multi_year_dot_plot('FG3A', 2001, 2025)\n",
    "fig.show()"
   ]
  },
  {
   "cell_type": "code",
   "execution_count": null,
   "id": "d2a3fb23-d8d9-486c-a68b-a771ee4b1310",
   "metadata": {},
   "outputs": [],
   "source": []
  }
 ],
 "metadata": {
  "kernelspec": {
   "display_name": "Python 3 (ipykernel)",
   "language": "python",
   "name": "python3"
  },
  "language_info": {
   "codemirror_mode": {
    "name": "ipython",
    "version": 3
   },
   "file_extension": ".py",
   "mimetype": "text/x-python",
   "name": "python",
   "nbconvert_exporter": "python",
   "pygments_lexer": "ipython3",
   "version": "3.10.12"
  }
 },
 "nbformat": 4,
 "nbformat_minor": 5
}
