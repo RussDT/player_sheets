{
 "cells": [
  {
   "cell_type": "code",
   "execution_count": 1,
   "id": "b3956e75-46ab-4325-8ced-5e9e251a2539",
   "metadata": {},
   "outputs": [],
   "source": [
    "import pandas as pd\n",
    "import requests\n",
    "import plotly.graph_objects as go\n",
    "import math\n",
    "from scipy import stats\n",
    "import string\n",
    "import numpy as np\n",
    "import time\n",
    "from scipy.stats import zscore\n",
    "import sys\n",
    "import os\n",
    "import glob\n",
    "start_time = time.time()\n",
    "directory = \"totals\"\n",
    "\n",
    "# Use glob to find all CSV files in the directory\n",
    "csv_files = glob.glob(os.path.join(directory, \"*.csv\"))\n",
    "\n",
    "\n",
    "frames=[]\n",
    "\n",
    "for file in csv_files:\n",
    "    df=pd.read_csv(file)\n",
    "    frames.append(df)\n",
    "totals=pd.concat(frames)\n",
    "\n",
    "for year in totals.year.unique():\n",
    "    yearframe=totals[totals.year==year].reset_index(drop=True)\n",
    "    yearframe.to_csv('year_totals/'+str(year)+'.csv',index=False)"
   ]
  },
  {
   "cell_type": "code",
   "execution_count": null,
   "id": "e26f0d7f-0fd8-452a-a618-2a3eb359ec76",
   "metadata": {},
   "outputs": [],
   "source": []
  }
 ],
 "metadata": {
  "kernelspec": {
   "display_name": "Python 3 (ipykernel)",
   "language": "python",
   "name": "python3"
  },
  "language_info": {
   "codemirror_mode": {
    "name": "ipython",
    "version": 3
   },
   "file_extension": ".py",
   "mimetype": "text/x-python",
   "name": "python",
   "nbconvert_exporter": "python",
   "pygments_lexer": "ipython3",
   "version": "3.10.12"
  }
 },
 "nbformat": 4,
 "nbformat_minor": 5
}
