{
 "cells": [
  {
   "cell_type": "code",
   "execution_count": 4,
   "id": "e59ca8bf-d8fd-43a0-afe9-aa795a9340fb",
   "metadata": {},
   "outputs": [
    {
     "data": {
      "text/plain": [
       "['BadPassSteals',\n",
       " 'DRIVE_PASSES_PCT',\n",
       " 'PASSES_MADE',\n",
       " 'BadPassTurnovers',\n",
       " 'BadPassOutOfBoundsTurnovers',\n",
       " 'AST_TO_PASS_PCT_ADJ',\n",
       " 'AST_TO_PASS_PCT',\n",
       " 'PASSES_RECEIVED',\n",
       " 'DRIVE_PASSES',\n",
       " 'LostBallOutOfBoundsTurnovers',\n",
       " 'DRIVE_TOV',\n",
       " 'E_TOV_PCT',\n",
       " 'LiveBallTurnovers',\n",
       " 'Turnovers',\n",
       " 'StepOutOfBoundsTurnovers',\n",
       " 'BadPassTurnovers',\n",
       " 'BadPassOutOfBoundsTurnovers',\n",
       " 'LiveBallTurnoverPct',\n",
       " 'TOV',\n",
       " 'DRIVE_TOV_PCT',\n",
       " 'TM_TOV_PCT',\n",
       " 'PenaltyTurnovers',\n",
       " 'DeadBallTurnovers',\n",
       " 'SecondChanceTurnovers',\n",
       " 'LostBallTurnovers',\n",
       " 'PTS_PER_ELBOW_TOUCH',\n",
       " 'PTS_PER_TOUCH',\n",
       " 'POST_TOUCHES',\n",
       " 'ELBOW_TOUCH_PTS',\n",
       " 'POST_TOUCH_FG_PCT',\n",
       " 'PAINT_TOUCH_FG_PCT',\n",
       " 'POST_TOUCH_PTS',\n",
       " 'ELBOW_TOUCH_FG_PCT',\n",
       " 'TOUCHES',\n",
       " 'PAINT_TOUCHES',\n",
       " 'PAINT_TOUCH_PTS',\n",
       " 'AVG_DRIB_PER_TOUCH',\n",
       " 'PTS_PER_POST_TOUCH',\n",
       " 'PTS_PER_PAINT_TOUCH',\n",
       " 'FRONT_CT_TOUCHES',\n",
       " 'AVG_SEC_PER_TOUCH',\n",
       " 'ELBOW_TOUCHES',\n",
       " 'POSS',\n",
       " 'SecondChanceOffPoss',\n",
       " 'LostBallOutOfBoundsTurnovers',\n",
       " 'LostBallSteals',\n",
       " 'LiveBallTurnovers',\n",
       " 'TotalPoss',\n",
       " 'LiveBallTurnoverPct',\n",
       " 'PenaltyOffPossExcludingTakeFouls',\n",
       " 'OffPoss',\n",
       " 'DefPoss',\n",
       " 'PenaltyOffPoss',\n",
       " 'DeadBallTurnovers',\n",
       " 'Loose Ball Fouls',\n",
       " 'PenaltyDefPoss',\n",
       " 'PenaltyOffPossPct',\n",
       " 'TIME_OF_POSS',\n",
       " 'LostBallTurnovers',\n",
       " 'Loose Ball Fouls Drawn']"
      ]
     },
     "execution_count": 4,
     "metadata": {},
     "output_type": "execute_result"
    }
   ],
   "source": [
    "import pandas as pd\n",
    "\n",
    "def year_data(year,ps=False):\n",
    "    trail = '_ps' if ps else ''\n",
    "    url= f'https://raw.githubusercontent.com/gabriel1200/player_sheets/refs/heads/master/year_totals/{year}{trail}.csv'\n",
    "    return pd.read_csv(url)\n",
    "\n",
    "df=year_data(2025,ps=False)\n",
    "pass_columns=[col for col in df.columns if 'pass' in col.lower()]\n",
    "\n",
    "turnover_columns=[col for col in df.columns if 'tov' in col.lower() or 'turn' in col.lower()]\n",
    "\n",
    "touches_columns=[col for col in df.columns if 'touch' in col.lower()]\n",
    "\n",
    "poss_columns=[col for col in df.columns if 'poss' in col.lower() or 'ball' in col.lower()]\n",
    "\n",
    "\n",
    "all_columns=pass_columns+turnover_columns +touches_columns+poss_columns\n",
    "\n",
    "all_columns"
   ]
  },
  {
   "cell_type": "code",
   "execution_count": null,
   "id": "5aa00d9c-2f95-4fa5-ac96-28032ad22a58",
   "metadata": {},
   "outputs": [],
   "source": []
  }
 ],
 "metadata": {
  "kernelspec": {
   "display_name": "Python 3 (ipykernel)",
   "language": "python",
   "name": "python3"
  },
  "language_info": {
   "codemirror_mode": {
    "name": "ipython",
    "version": 3
   },
   "file_extension": ".py",
   "mimetype": "text/x-python",
   "name": "python",
   "nbconvert_exporter": "python",
   "pygments_lexer": "ipython3",
   "version": "3.10.12"
  }
 },
 "nbformat": 4,
 "nbformat_minor": 5
}
