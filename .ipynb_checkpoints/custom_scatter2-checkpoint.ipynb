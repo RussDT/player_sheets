{
 "cells": [
  {
   "cell_type": "code",
   "execution_count": 16,
   "id": "0e6a2198-e65c-4607-a8b8-54d03e1bff3d",
   "metadata": {},
   "outputs": [
    {
     "name": "stdout",
     "output_type": "stream",
     "text": [
      "https://raw.githubusercontent.com/gabriel1200/player_sheets/refs/heads/master/game_report/2025_all_team_logs.csv\n",
      "  Minutes  OffPoss  DefPoss  PenaltyOffPoss  PenaltyDefPoss  \\\n",
      "0   48:00       97       97               8              11   \n",
      "1   53:00      101      102              28              28   \n",
      "2   48:00      102      101              34              31   \n",
      "3   48:00       90       91              36              17   \n",
      "4   48:00       96       95              24              12   \n",
      "5   48:00       92       93              38              35   \n",
      "6   48:00       95       96              44              18   \n",
      "7   48:00       94       94              10              28   \n",
      "8   48:00       95       95               4               9   \n",
      "9   48:00      100       99              24              26   \n",
      "\n",
      "   SecondChanceOffPoss  TotalPoss  AtRimFGM  AtRimFGA  SecondChanceAtRimFGM  \\\n",
      "0                   16        194        17        32                   2.0   \n",
      "1                   13        203        15        23                   3.0   \n",
      "2                   10        203        26        36                   4.0   \n",
      "3                   14        181        18        28                   4.0   \n",
      "4                   13        191        19        31                   4.0   \n",
      "5                   10        185         7        13                   1.0   \n",
      "6                   14        191        14        28                   3.0   \n",
      "7                   10        188        23        36                   3.0   \n",
      "8                   10        190        13        18                   5.0   \n",
      "9                   15        199        25        38                   6.0   \n",
      "\n",
      "   ...  opp_BlockedLongMidRange  opp_Transition Take Fouls Drawn  opp_Season  \\\n",
      "0  ...                      NaN                              NaN     2024-25   \n",
      "1  ...                      NaN                              NaN     2024-25   \n",
      "2  ...                      NaN                              NaN     2024-25   \n",
      "3  ...                      NaN                              NaN     2024-25   \n",
      "4  ...                      NaN                              NaN     2024-25   \n",
      "5  ...                      NaN                              NaN     2024-25   \n",
      "6  ...                      1.0                              NaN     2024-25   \n",
      "7  ...                      NaN                              NaN     2024-25   \n",
      "8  ...                      NaN                              NaN     2024-25   \n",
      "9  ...                      NaN                              1.0     2024-25   \n",
      "\n",
      "   opp_year  opp_SeasonType  opp_team_id  opp_team    opp_ortg  \\\n",
      "0      2025  Regular Season   1610612757       POR   91.752577   \n",
      "1      2025  Regular Season   1610612757       POR  116.666667   \n",
      "2      2025  Regular Season   1610612757       POR  106.930693   \n",
      "3      2025  Regular Season   1610612757       POR   98.901099   \n",
      "4      2025  Regular Season   1610612757       POR  117.894737   \n",
      "5      2025  Regular Season   1610612757       POR  126.881720   \n",
      "6      2025  Regular Season   1610612757       POR  101.041667   \n",
      "7      2025  Regular Season   1610612757       POR   84.042553   \n",
      "8      2025  Regular Season   1610612757       POR  112.631579   \n",
      "9      2025  Regular Season   1610612757       POR  103.030303   \n",
      "\n",
      "   TEAM_ABBREVIATION  TEAM_NAME  \n",
      "0                POR        POR  \n",
      "1                POR        POR  \n",
      "2                POR        POR  \n",
      "3                POR        POR  \n",
      "4                POR        POR  \n",
      "5                POR        POR  \n",
      "6                POR        POR  \n",
      "7                POR        POR  \n",
      "8                POR        POR  \n",
      "9                POR        POR  \n",
      "\n",
      "[10 rows x 469 columns]\n",
      "  TEAM_ABBREVIATION  AtRimAssists  AtRimFrequency  OffPoss TEAM_NAME  size  \\\n",
      "0               POR           9.1        33.09806     96.2       POR    10   \n",
      "\n",
      "     color  \n",
      "0  #3e8989  \n"
     ]
    },
    {
     "name": "stderr",
     "output_type": "stream",
     "text": [
      "/tmp/ipykernel_566973/3665238111.py:138: PerformanceWarning:\n",
      "\n",
      "DataFrame is highly fragmented.  This is usually the result of calling `frame.insert` many times, which has poor performance.  Consider joining all columns at once using pd.concat(axis=1) instead. To get a de-fragmented frame, use `newframe = frame.copy()`\n",
      "\n",
      "/tmp/ipykernel_566973/3665238111.py:139: PerformanceWarning:\n",
      "\n",
      "DataFrame is highly fragmented.  This is usually the result of calling `frame.insert` many times, which has poor performance.  Consider joining all columns at once using pd.concat(axis=1) instead. To get a de-fragmented frame, use `newframe = frame.copy()`\n",
      "\n"
     ]
    },
    {
     "data": {
      "application/vnd.plotly.v1+json": {
       "config": {
        "plotlyServerURL": "https://plot.ly"
       },
       "data": [
        {
         "hovertext": [
          "Team: POR<br>AtRimAssists: 9.1<br>AtRimFrequency: 33.1"
         ],
         "marker": {
          "color": "#FAFAFA",
          "line": {
           "color": "black",
           "width": 2
          },
          "opacity": [
           0.6
          ],
          "size": [
           10
          ]
         },
         "mode": "markers",
         "showlegend": false,
         "textposition": "bottom center",
         "type": "scatter",
         "x": [
          9.1
         ],
         "y": [
          33.09805962528415
         ]
        },
        {
         "line": {
          "color": "purple"
         },
         "mode": "lines",
         "name": "Trendline",
         "showlegend": false,
         "type": "scatter",
         "x": [
          9.1
         ],
         "y": [
          33.09805962528415
         ]
        }
       ],
       "layout": {
        "annotations": [
         {
          "showarrow": false,
          "text": "@GabeLeftBrain",
          "x": 8.6,
          "y": 33.09805962528415
         }
        ],
        "autosize": true,
        "font": {
         "color": "white",
         "family": "Malgun Gothic",
         "size": 20
        },
        "height": 875,
        "images": [
         {
          "layer": "above",
          "opacity": 0.9,
          "sizex": 0.05460000000000001,
          "sizey": 0.19858835775170489,
          "source": "data:image/png;base64,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",
          "x": 9.1,
          "xref": "x",
          "y": 33.09805962528415,
          "yref": "y"
         }
        ],
        "paper_bgcolor": "#1a1a1a",
        "plot_bgcolor": "#FAFAFA",
        "template": {
         "data": {
          "bar": [
           {
            "error_x": {
             "color": "#2a3f5f"
            },
            "error_y": {
             "color": "#2a3f5f"
            },
            "marker": {
             "line": {
              "color": "#E5ECF6",
              "width": 0.5
             },
             "pattern": {
              "fillmode": "overlay",
              "size": 10,
              "solidity": 0.2
             }
            },
            "type": "bar"
           }
          ],
          "barpolar": [
           {
            "marker": {
             "line": {
              "color": "#E5ECF6",
              "width": 0.5
             },
             "pattern": {
              "fillmode": "overlay",
              "size": 10,
              "solidity": 0.2
             }
            },
            "type": "barpolar"
           }
          ],
          "carpet": [
           {
            "aaxis": {
             "endlinecolor": "#2a3f5f",
             "gridcolor": "white",
             "linecolor": "white",
             "minorgridcolor": "white",
             "startlinecolor": "#2a3f5f"
            },
            "baxis": {
             "endlinecolor": "#2a3f5f",
             "gridcolor": "white",
             "linecolor": "white",
             "minorgridcolor": "white",
             "startlinecolor": "#2a3f5f"
            },
            "type": "carpet"
           }
          ],
          "choropleth": [
           {
            "colorbar": {
             "outlinewidth": 0,
             "ticks": ""
            },
            "type": "choropleth"
           }
          ],
          "contour": [
           {
            "colorbar": {
             "outlinewidth": 0,
             "ticks": ""
            },
            "colorscale": [
             [
              0,
              "#0d0887"
             ],
             [
              0.1111111111111111,
              "#46039f"
             ],
             [
              0.2222222222222222,
              "#7201a8"
             ],
             [
              0.3333333333333333,
              "#9c179e"
             ],
             [
              0.4444444444444444,
              "#bd3786"
             ],
             [
              0.5555555555555556,
              "#d8576b"
             ],
             [
              0.6666666666666666,
              "#ed7953"
             ],
             [
              0.7777777777777778,
              "#fb9f3a"
             ],
             [
              0.8888888888888888,
              "#fdca26"
             ],
             [
              1,
              "#f0f921"
             ]
            ],
            "type": "contour"
           }
          ],
          "contourcarpet": [
           {
            "colorbar": {
             "outlinewidth": 0,
             "ticks": ""
            },
            "type": "contourcarpet"
           }
          ],
          "heatmap": [
           {
            "colorbar": {
             "outlinewidth": 0,
             "ticks": ""
            },
            "colorscale": [
             [
              0,
              "#0d0887"
             ],
             [
              0.1111111111111111,
              "#46039f"
             ],
             [
              0.2222222222222222,
              "#7201a8"
             ],
             [
              0.3333333333333333,
              "#9c179e"
             ],
             [
              0.4444444444444444,
              "#bd3786"
             ],
             [
              0.5555555555555556,
              "#d8576b"
             ],
             [
              0.6666666666666666,
              "#ed7953"
             ],
             [
              0.7777777777777778,
              "#fb9f3a"
             ],
             [
              0.8888888888888888,
              "#fdca26"
             ],
             [
              1,
              "#f0f921"
             ]
            ],
            "type": "heatmap"
           }
          ],
          "heatmapgl": [
           {
            "colorbar": {
             "outlinewidth": 0,
             "ticks": ""
            },
            "colorscale": [
             [
              0,
              "#0d0887"
             ],
             [
              0.1111111111111111,
              "#46039f"
             ],
             [
              0.2222222222222222,
              "#7201a8"
             ],
             [
              0.3333333333333333,
              "#9c179e"
             ],
             [
              0.4444444444444444,
              "#bd3786"
             ],
             [
              0.5555555555555556,
              "#d8576b"
             ],
             [
              0.6666666666666666,
              "#ed7953"
             ],
             [
              0.7777777777777778,
              "#fb9f3a"
             ],
             [
              0.8888888888888888,
              "#fdca26"
             ],
             [
              1,
              "#f0f921"
             ]
            ],
            "type": "heatmapgl"
           }
          ],
          "histogram": [
           {
            "marker": {
             "pattern": {
              "fillmode": "overlay",
              "size": 10,
              "solidity": 0.2
             }
            },
            "type": "histogram"
           }
          ],
          "histogram2d": [
           {
            "colorbar": {
             "outlinewidth": 0,
             "ticks": ""
            },
            "colorscale": [
             [
              0,
              "#0d0887"
             ],
             [
              0.1111111111111111,
              "#46039f"
             ],
             [
              0.2222222222222222,
              "#7201a8"
             ],
             [
              0.3333333333333333,
              "#9c179e"
             ],
             [
              0.4444444444444444,
              "#bd3786"
             ],
             [
              0.5555555555555556,
              "#d8576b"
             ],
             [
              0.6666666666666666,
              "#ed7953"
             ],
             [
              0.7777777777777778,
              "#fb9f3a"
             ],
             [
              0.8888888888888888,
              "#fdca26"
             ],
             [
              1,
              "#f0f921"
             ]
            ],
            "type": "histogram2d"
           }
          ],
          "histogram2dcontour": [
           {
            "colorbar": {
             "outlinewidth": 0,
             "ticks": ""
            },
            "colorscale": [
             [
              0,
              "#0d0887"
             ],
             [
              0.1111111111111111,
              "#46039f"
             ],
             [
              0.2222222222222222,
              "#7201a8"
             ],
             [
              0.3333333333333333,
              "#9c179e"
             ],
             [
              0.4444444444444444,
              "#bd3786"
             ],
             [
              0.5555555555555556,
              "#d8576b"
             ],
             [
              0.6666666666666666,
              "#ed7953"
             ],
             [
              0.7777777777777778,
              "#fb9f3a"
             ],
             [
              0.8888888888888888,
              "#fdca26"
             ],
             [
              1,
              "#f0f921"
             ]
            ],
            "type": "histogram2dcontour"
           }
          ],
          "mesh3d": [
           {
            "colorbar": {
             "outlinewidth": 0,
             "ticks": ""
            },
            "type": "mesh3d"
           }
          ],
          "parcoords": [
           {
            "line": {
             "colorbar": {
              "outlinewidth": 0,
              "ticks": ""
             }
            },
            "type": "parcoords"
           }
          ],
          "pie": [
           {
            "automargin": true,
            "type": "pie"
           }
          ],
          "scatter": [
           {
            "fillpattern": {
             "fillmode": "overlay",
             "size": 10,
             "solidity": 0.2
            },
            "type": "scatter"
           }
          ],
          "scatter3d": [
           {
            "line": {
             "colorbar": {
              "outlinewidth": 0,
              "ticks": ""
             }
            },
            "marker": {
             "colorbar": {
              "outlinewidth": 0,
              "ticks": ""
             }
            },
            "type": "scatter3d"
           }
          ],
          "scattercarpet": [
           {
            "marker": {
             "colorbar": {
              "outlinewidth": 0,
              "ticks": ""
             }
            },
            "type": "scattercarpet"
           }
          ],
          "scattergeo": [
           {
            "marker": {
             "colorbar": {
              "outlinewidth": 0,
              "ticks": ""
             }
            },
            "type": "scattergeo"
           }
          ],
          "scattergl": [
           {
            "marker": {
             "colorbar": {
              "outlinewidth": 0,
              "ticks": ""
             }
            },
            "type": "scattergl"
           }
          ],
          "scattermapbox": [
           {
            "marker": {
             "colorbar": {
              "outlinewidth": 0,
              "ticks": ""
             }
            },
            "type": "scattermapbox"
           }
          ],
          "scatterpolar": [
           {
            "marker": {
             "colorbar": {
              "outlinewidth": 0,
              "ticks": ""
             }
            },
            "type": "scatterpolar"
           }
          ],
          "scatterpolargl": [
           {
            "marker": {
             "colorbar": {
              "outlinewidth": 0,
              "ticks": ""
             }
            },
            "type": "scatterpolargl"
           }
          ],
          "scatterternary": [
           {
            "marker": {
             "colorbar": {
              "outlinewidth": 0,
              "ticks": ""
             }
            },
            "type": "scatterternary"
           }
          ],
          "surface": [
           {
            "colorbar": {
             "outlinewidth": 0,
             "ticks": ""
            },
            "colorscale": [
             [
              0,
              "#0d0887"
             ],
             [
              0.1111111111111111,
              "#46039f"
             ],
             [
              0.2222222222222222,
              "#7201a8"
             ],
             [
              0.3333333333333333,
              "#9c179e"
             ],
             [
              0.4444444444444444,
              "#bd3786"
             ],
             [
              0.5555555555555556,
              "#d8576b"
             ],
             [
              0.6666666666666666,
              "#ed7953"
             ],
             [
              0.7777777777777778,
              "#fb9f3a"
             ],
             [
              0.8888888888888888,
              "#fdca26"
             ],
             [
              1,
              "#f0f921"
             ]
            ],
            "type": "surface"
           }
          ],
          "table": [
           {
            "cells": {
             "fill": {
              "color": "#EBF0F8"
             },
             "line": {
              "color": "white"
             }
            },
            "header": {
             "fill": {
              "color": "#C8D4E3"
             },
             "line": {
              "color": "white"
             }
            },
            "type": "table"
           }
          ]
         },
         "layout": {
          "annotationdefaults": {
           "arrowcolor": "#2a3f5f",
           "arrowhead": 0,
           "arrowwidth": 1
          },
          "autotypenumbers": "strict",
          "coloraxis": {
           "colorbar": {
            "outlinewidth": 0,
            "ticks": ""
           }
          },
          "colorscale": {
           "diverging": [
            [
             0,
             "#8e0152"
            ],
            [
             0.1,
             "#c51b7d"
            ],
            [
             0.2,
             "#de77ae"
            ],
            [
             0.3,
             "#f1b6da"
            ],
            [
             0.4,
             "#fde0ef"
            ],
            [
             0.5,
             "#f7f7f7"
            ],
            [
             0.6,
             "#e6f5d0"
            ],
            [
             0.7,
             "#b8e186"
            ],
            [
             0.8,
             "#7fbc41"
            ],
            [
             0.9,
             "#4d9221"
            ],
            [
             1,
             "#276419"
            ]
           ],
           "sequential": [
            [
             0,
             "#0d0887"
            ],
            [
             0.1111111111111111,
             "#46039f"
            ],
            [
             0.2222222222222222,
             "#7201a8"
            ],
            [
             0.3333333333333333,
             "#9c179e"
            ],
            [
             0.4444444444444444,
             "#bd3786"
            ],
            [
             0.5555555555555556,
             "#d8576b"
            ],
            [
             0.6666666666666666,
             "#ed7953"
            ],
            [
             0.7777777777777778,
             "#fb9f3a"
            ],
            [
             0.8888888888888888,
             "#fdca26"
            ],
            [
             1,
             "#f0f921"
            ]
           ],
           "sequentialminus": [
            [
             0,
             "#0d0887"
            ],
            [
             0.1111111111111111,
             "#46039f"
            ],
            [
             0.2222222222222222,
             "#7201a8"
            ],
            [
             0.3333333333333333,
             "#9c179e"
            ],
            [
             0.4444444444444444,
             "#bd3786"
            ],
            [
             0.5555555555555556,
             "#d8576b"
            ],
            [
             0.6666666666666666,
             "#ed7953"
            ],
            [
             0.7777777777777778,
             "#fb9f3a"
            ],
            [
             0.8888888888888888,
             "#fdca26"
            ],
            [
             1,
             "#f0f921"
            ]
           ]
          },
          "colorway": [
           "#636efa",
           "#EF553B",
           "#00cc96",
           "#ab63fa",
           "#FFA15A",
           "#19d3f3",
           "#FF6692",
           "#B6E880",
           "#FF97FF",
           "#FECB52"
          ],
          "font": {
           "color": "#2a3f5f"
          },
          "geo": {
           "bgcolor": "white",
           "lakecolor": "white",
           "landcolor": "#E5ECF6",
           "showlakes": true,
           "showland": true,
           "subunitcolor": "white"
          },
          "hoverlabel": {
           "align": "left"
          },
          "hovermode": "closest",
          "mapbox": {
           "style": "light"
          },
          "paper_bgcolor": "white",
          "plot_bgcolor": "#E5ECF6",
          "polar": {
           "angularaxis": {
            "gridcolor": "white",
            "linecolor": "white",
            "ticks": ""
           },
           "bgcolor": "#E5ECF6",
           "radialaxis": {
            "gridcolor": "white",
            "linecolor": "white",
            "ticks": ""
           }
          },
          "scene": {
           "xaxis": {
            "backgroundcolor": "#E5ECF6",
            "gridcolor": "white",
            "gridwidth": 2,
            "linecolor": "white",
            "showbackground": true,
            "ticks": "",
            "zerolinecolor": "white"
           },
           "yaxis": {
            "backgroundcolor": "#E5ECF6",
            "gridcolor": "white",
            "gridwidth": 2,
            "linecolor": "white",
            "showbackground": true,
            "ticks": "",
            "zerolinecolor": "white"
           },
           "zaxis": {
            "backgroundcolor": "#E5ECF6",
            "gridcolor": "white",
            "gridwidth": 2,
            "linecolor": "white",
            "showbackground": true,
            "ticks": "",
            "zerolinecolor": "white"
           }
          },
          "shapedefaults": {
           "line": {
            "color": "#2a3f5f"
           }
          },
          "ternary": {
           "aaxis": {
            "gridcolor": "white",
            "linecolor": "white",
            "ticks": ""
           },
           "baxis": {
            "gridcolor": "white",
            "linecolor": "white",
            "ticks": ""
           },
           "bgcolor": "#E5ECF6",
           "caxis": {
            "gridcolor": "white",
            "linecolor": "white",
            "ticks": ""
           }
          },
          "title": {
           "x": 0.05
          },
          "xaxis": {
           "automargin": true,
           "gridcolor": "white",
           "linecolor": "white",
           "ticks": "",
           "title": {
            "standoff": 15
           },
           "zerolinecolor": "white",
           "zerolinewidth": 2
          },
          "yaxis": {
           "automargin": true,
           "gridcolor": "white",
           "linecolor": "white",
           "ticks": "",
           "title": {
            "standoff": 15
           },
           "zerolinecolor": "white",
           "zerolinewidth": 2
          }
         }
        },
        "title": {
         "text": "2025 RS - Last 10 Games<br>AtRimFrequency vs AtRimAssists Per 100",
         "x": 0.5
        },
        "width": 1225,
        "xaxis": {
         "gridcolor": "#f2f5fa",
         "range": [
          9.009,
          9.373
         ],
         "showgrid": false,
         "showline": false,
         "title": {
          "text": "AtRimAssists"
         },
         "type": "linear"
        },
        "yaxis": {
         "gridcolor": "#f2f5fa",
         "range": [
          32.27060813465204,
          33.59453051966341
         ],
         "showgrid": false,
         "showline": false,
         "title": {
          "text": "AtRimFrequency"
         },
         "type": "linear"
        }
       }
      },
      "image/png": "[encoded data removed]",
      "text/html": [
       "<div>                            <div id=\"d3402147-2931-403e-9eec-3fed7e9c4466\" class=\"plotly-graph-div\" style=\"height:875px; width:1225px;\"></div>            <script type=\"text/javascript\">                require([\"plotly\"], function(Plotly) {                    window.PLOTLYENV=window.PLOTLYENV || {};                                    if (document.getElementById(\"d3402147-2931-403e-9eec-3fed7e9c4466\")) {                    Plotly.newPlot(                        \"d3402147-2931-403e-9eec-3fed7e9c4466\",                        [{\"hovertext\":[\"Team: POR\\u003cbr\\u003eAtRimAssists: 9.1\\u003cbr\\u003eAtRimFrequency: 33.1\"],\"marker\":{\"color\":\"#FAFAFA\",\"line\":{\"color\":\"black\",\"width\":2},\"opacity\":[0.6],\"size\":[10]},\"mode\":\"markers\",\"showlegend\":false,\"textposition\":\"bottom center\",\"x\":[9.1],\"y\":[33.09805962528415],\"type\":\"scatter\"},{\"line\":{\"color\":\"purple\"},\"mode\":\"lines\",\"name\":\"Trendline\",\"showlegend\":false,\"x\":[9.1],\"y\":[33.09805962528415],\"type\":\"scatter\"}],                        {\"template\":{\"data\":{\"histogram2dcontour\":[{\"type\":\"histogram2dcontour\",\"colorbar\":{\"outlinewidth\":0,\"ticks\":\"\"},\"colorscale\":[[0.0,\"#0d0887\"],[0.1111111111111111,\"#46039f\"],[0.2222222222222222,\"#7201a8\"],[0.3333333333333333,\"#9c179e\"],[0.4444444444444444,\"#bd3786\"],[0.5555555555555556,\"#d8576b\"],[0.6666666666666666,\"#ed7953\"],[0.7777777777777778,\"#fb9f3a\"],[0.8888888888888888,\"#fdca26\"],[1.0,\"#f0f921\"]]}],\"choropleth\":[{\"type\":\"choropleth\",\"colorbar\":{\"outlinewidth\":0,\"ticks\":\"\"}}],\"histogram2d\":[{\"type\":\"histogram2d\",\"colorbar\":{\"outlinewidth\":0,\"ticks\":\"\"},\"colorscale\":[[0.0,\"#0d0887\"],[0.1111111111111111,\"#46039f\"],[0.2222222222222222,\"#7201a8\"],[0.3333333333333333,\"#9c179e\"],[0.4444444444444444,\"#bd3786\"],[0.5555555555555556,\"#d8576b\"],[0.6666666666666666,\"#ed7953\"],[0.7777777777777778,\"#fb9f3a\"],[0.8888888888888888,\"#fdca26\"],[1.0,\"#f0f921\"]]}],\"heatmap\":[{\"type\":\"heatmap\",\"colorbar\":{\"outlinewidth\":0,\"ticks\":\"\"},\"colorscale\":[[0.0,\"#0d0887\"],[0.1111111111111111,\"#46039f\"],[0.2222222222222222,\"#7201a8\"],[0.3333333333333333,\"#9c179e\"],[0.4444444444444444,\"#bd3786\"],[0.5555555555555556,\"#d8576b\"],[0.6666666666666666,\"#ed7953\"],[0.7777777777777778,\"#fb9f3a\"],[0.8888888888888888,\"#fdca26\"],[1.0,\"#f0f921\"]]}],\"heatmapgl\":[{\"type\":\"heatmapgl\",\"colorbar\":{\"outlinewidth\":0,\"ticks\":\"\"},\"colorscale\":[[0.0,\"#0d0887\"],[0.1111111111111111,\"#46039f\"],[0.2222222222222222,\"#7201a8\"],[0.3333333333333333,\"#9c179e\"],[0.4444444444444444,\"#bd3786\"],[0.5555555555555556,\"#d8576b\"],[0.6666666666666666,\"#ed7953\"],[0.7777777777777778,\"#fb9f3a\"],[0.8888888888888888,\"#fdca26\"],[1.0,\"#f0f921\"]]}],\"contourcarpet\":[{\"type\":\"contourcarpet\",\"colorbar\":{\"outlinewidth\":0,\"ticks\":\"\"}}],\"contour\":[{\"type\":\"contour\",\"colorbar\":{\"outlinewidth\":0,\"ticks\":\"\"},\"colorscale\":[[0.0,\"#0d0887\"],[0.1111111111111111,\"#46039f\"],[0.2222222222222222,\"#7201a8\"],[0.3333333333333333,\"#9c179e\"],[0.4444444444444444,\"#bd3786\"],[0.5555555555555556,\"#d8576b\"],[0.6666666666666666,\"#ed7953\"],[0.7777777777777778,\"#fb9f3a\"],[0.8888888888888888,\"#fdca26\"],[1.0,\"#f0f921\"]]}],\"surface\":[{\"type\":\"surface\",\"colorbar\":{\"outlinewidth\":0,\"ticks\":\"\"},\"colorscale\":[[0.0,\"#0d0887\"],[0.1111111111111111,\"#46039f\"],[0.2222222222222222,\"#7201a8\"],[0.3333333333333333,\"#9c179e\"],[0.4444444444444444,\"#bd3786\"],[0.5555555555555556,\"#d8576b\"],[0.6666666666666666,\"#ed7953\"],[0.7777777777777778,\"#fb9f3a\"],[0.8888888888888888,\"#fdca26\"],[1.0,\"#f0f921\"]]}],\"mesh3d\":[{\"type\":\"mesh3d\",\"colorbar\":{\"outlinewidth\":0,\"ticks\":\"\"}}],\"scatter\":[{\"fillpattern\":{\"fillmode\":\"overlay\",\"size\":10,\"solidity\":0.2},\"type\":\"scatter\"}],\"parcoords\":[{\"type\":\"parcoords\",\"line\":{\"colorbar\":{\"outlinewidth\":0,\"ticks\":\"\"}}}],\"scatterpolargl\":[{\"type\":\"scatterpolargl\",\"marker\":{\"colorbar\":{\"outlinewidth\":0,\"ticks\":\"\"}}}],\"bar\":[{\"error_x\":{\"color\":\"#2a3f5f\"},\"error_y\":{\"color\":\"#2a3f5f\"},\"marker\":{\"line\":{\"color\":\"#E5ECF6\",\"width\":0.5},\"pattern\":{\"fillmode\":\"overlay\",\"size\":10,\"solidity\":0.2}},\"type\":\"bar\"}],\"scattergeo\":[{\"type\":\"scattergeo\",\"marker\":{\"colorbar\":{\"outlinewidth\":0,\"ticks\":\"\"}}}],\"scatterpolar\":[{\"type\":\"scatterpolar\",\"marker\":{\"colorbar\":{\"outlinewidth\":0,\"ticks\":\"\"}}}],\"histogram\":[{\"marker\":{\"pattern\":{\"fillmode\":\"overlay\",\"size\":10,\"solidity\":0.2}},\"type\":\"histogram\"}],\"scattergl\":[{\"type\":\"scattergl\",\"marker\":{\"colorbar\":{\"outlinewidth\":0,\"ticks\":\"\"}}}],\"scatter3d\":[{\"type\":\"scatter3d\",\"line\":{\"colorbar\":{\"outlinewidth\":0,\"ticks\":\"\"}},\"marker\":{\"colorbar\":{\"outlinewidth\":0,\"ticks\":\"\"}}}],\"scattermapbox\":[{\"type\":\"scattermapbox\",\"marker\":{\"colorbar\":{\"outlinewidth\":0,\"ticks\":\"\"}}}],\"scatterternary\":[{\"type\":\"scatterternary\",\"marker\":{\"colorbar\":{\"outlinewidth\":0,\"ticks\":\"\"}}}],\"scattercarpet\":[{\"type\":\"scattercarpet\",\"marker\":{\"colorbar\":{\"outlinewidth\":0,\"ticks\":\"\"}}}],\"carpet\":[{\"aaxis\":{\"endlinecolor\":\"#2a3f5f\",\"gridcolor\":\"white\",\"linecolor\":\"white\",\"minorgridcolor\":\"white\",\"startlinecolor\":\"#2a3f5f\"},\"baxis\":{\"endlinecolor\":\"#2a3f5f\",\"gridcolor\":\"white\",\"linecolor\":\"white\",\"minorgridcolor\":\"white\",\"startlinecolor\":\"#2a3f5f\"},\"type\":\"carpet\"}],\"table\":[{\"cells\":{\"fill\":{\"color\":\"#EBF0F8\"},\"line\":{\"color\":\"white\"}},\"header\":{\"fill\":{\"color\":\"#C8D4E3\"},\"line\":{\"color\":\"white\"}},\"type\":\"table\"}],\"barpolar\":[{\"marker\":{\"line\":{\"color\":\"#E5ECF6\",\"width\":0.5},\"pattern\":{\"fillmode\":\"overlay\",\"size\":10,\"solidity\":0.2}},\"type\":\"barpolar\"}],\"pie\":[{\"automargin\":true,\"type\":\"pie\"}]},\"layout\":{\"autotypenumbers\":\"strict\",\"colorway\":[\"#636efa\",\"#EF553B\",\"#00cc96\",\"#ab63fa\",\"#FFA15A\",\"#19d3f3\",\"#FF6692\",\"#B6E880\",\"#FF97FF\",\"#FECB52\"],\"font\":{\"color\":\"#2a3f5f\"},\"hovermode\":\"closest\",\"hoverlabel\":{\"align\":\"left\"},\"paper_bgcolor\":\"white\",\"plot_bgcolor\":\"#E5ECF6\",\"polar\":{\"bgcolor\":\"#E5ECF6\",\"angularaxis\":{\"gridcolor\":\"white\",\"linecolor\":\"white\",\"ticks\":\"\"},\"radialaxis\":{\"gridcolor\":\"white\",\"linecolor\":\"white\",\"ticks\":\"\"}},\"ternary\":{\"bgcolor\":\"#E5ECF6\",\"aaxis\":{\"gridcolor\":\"white\",\"linecolor\":\"white\",\"ticks\":\"\"},\"baxis\":{\"gridcolor\":\"white\",\"linecolor\":\"white\",\"ticks\":\"\"},\"caxis\":{\"gridcolor\":\"white\",\"linecolor\":\"white\",\"ticks\":\"\"}},\"coloraxis\":{\"colorbar\":{\"outlinewidth\":0,\"ticks\":\"\"}},\"colorscale\":{\"sequential\":[[0.0,\"#0d0887\"],[0.1111111111111111,\"#46039f\"],[0.2222222222222222,\"#7201a8\"],[0.3333333333333333,\"#9c179e\"],[0.4444444444444444,\"#bd3786\"],[0.5555555555555556,\"#d8576b\"],[0.6666666666666666,\"#ed7953\"],[0.7777777777777778,\"#fb9f3a\"],[0.8888888888888888,\"#fdca26\"],[1.0,\"#f0f921\"]],\"sequentialminus\":[[0.0,\"#0d0887\"],[0.1111111111111111,\"#46039f\"],[0.2222222222222222,\"#7201a8\"],[0.3333333333333333,\"#9c179e\"],[0.4444444444444444,\"#bd3786\"],[0.5555555555555556,\"#d8576b\"],[0.6666666666666666,\"#ed7953\"],[0.7777777777777778,\"#fb9f3a\"],[0.8888888888888888,\"#fdca26\"],[1.0,\"#f0f921\"]],\"diverging\":[[0,\"#8e0152\"],[0.1,\"#c51b7d\"],[0.2,\"#de77ae\"],[0.3,\"#f1b6da\"],[0.4,\"#fde0ef\"],[0.5,\"#f7f7f7\"],[0.6,\"#e6f5d0\"],[0.7,\"#b8e186\"],[0.8,\"#7fbc41\"],[0.9,\"#4d9221\"],[1,\"#276419\"]]},\"xaxis\":{\"gridcolor\":\"white\",\"linecolor\":\"white\",\"ticks\":\"\",\"title\":{\"standoff\":15},\"zerolinecolor\":\"white\",\"automargin\":true,\"zerolinewidth\":2},\"yaxis\":{\"gridcolor\":\"white\",\"linecolor\":\"white\",\"ticks\":\"\",\"title\":{\"standoff\":15},\"zerolinecolor\":\"white\",\"automargin\":true,\"zerolinewidth\":2},\"scene\":{\"xaxis\":{\"backgroundcolor\":\"#E5ECF6\",\"gridcolor\":\"white\",\"linecolor\":\"white\",\"showbackground\":true,\"ticks\":\"\",\"zerolinecolor\":\"white\",\"gridwidth\":2},\"yaxis\":{\"backgroundcolor\":\"#E5ECF6\",\"gridcolor\":\"white\",\"linecolor\":\"white\",\"showbackground\":true,\"ticks\":\"\",\"zerolinecolor\":\"white\",\"gridwidth\":2},\"zaxis\":{\"backgroundcolor\":\"#E5ECF6\",\"gridcolor\":\"white\",\"linecolor\":\"white\",\"showbackground\":true,\"ticks\":\"\",\"zerolinecolor\":\"white\",\"gridwidth\":2}},\"shapedefaults\":{\"line\":{\"color\":\"#2a3f5f\"}},\"annotationdefaults\":{\"arrowcolor\":\"#2a3f5f\",\"arrowhead\":0,\"arrowwidth\":1},\"geo\":{\"bgcolor\":\"white\",\"landcolor\":\"#E5ECF6\",\"subunitcolor\":\"white\",\"showland\":true,\"showlakes\":true,\"lakecolor\":\"white\"},\"title\":{\"x\":0.05},\"mapbox\":{\"style\":\"light\"}}},\"images\":[{\"layer\":\"above\",\"opacity\":0.9,\"sizex\":0.05460000000000001,\"sizey\":0.19858835775170489,\"source\":\"data:image\\u002fpng;base64,iVBORw0KGgoAAAANSUhEUgAAAZAAAAGQCAYAAACAvzbMAAAABmJLR0QA\\u002fwD\\u002fAP+gvaeTAAAgAElEQVR4nO2dd5RUVfq1963UidDS5IyACKgISDBgQjIYEBAMiCJiTqOD2XEMmBnFOGZwBkTAEZQoophFwCEoEpucoZumQ1VX1f3+KPv36aj0Prequ6qo\\u002fazFmrXG995zu7vq7PueNwFCCCGEEEIIIYQQQgghhBBCCCGEEEIIIYQQQgghhBBCCCGEEEIIIYQQQgghhBBCCCGEEEIIIYQQQgghhBBCCCGEEEIIIYQQQgghhBBCCCGEEEIIIYQQQgghhBBCCCGEEEIIIYQQQgghhBBCCCGEEEIIIYQQQgghhBBCCCGEEEIIIYQQQgghhBBCCCGEEEIIIYQQQgghhBBCCCGEEEIIIYQQQgghhBBCCCGEEEIIIYQQQgghhBBCCCGEEEIIIYQQQgghhBBCCBE3rHg\\u002fgBAOyALQN94PIVKSQgCz4v0QiYIn3g8ghCGZAGYCOCveDyJSjiIA\\u002feP9EImEPBCRTGQC+BASD1H5lInHwng\\u002fSCIhARHJgsRDxAuJx58gARHJgMRDxAuJx2GQgIhER+Ih4oXEoxwkICKRkXiIeCHxIJCAiERF4iHihcSDRAIiEhGJh4gXEg8DJCAi0ZB4iHgh8TBEAiISCUfi4YGFfp5seBx8nH8MF+OncLHxdR5YGOypgXTLZXztinARvg8VJsWaFoDenmxkwnzNjWE\\u002fload\\u002fZyV\\u002ffeExMMRqkQXiYJj8Xg8rRHOdlczXnBZuAhz\\u002fHnG10W75pTgvqRY0wIwxlcfF3lqGF+7MezHKP9G4+vi8feExMMx8kBEIhAX8bjRn4tCO2x0XaqsGQvx2GcHja6L9ue8oSQXRTD7OSHxiAoJiIg3Eo8EW9MCcKevPoZIPEQ5SEBEPJF4JNiaEg9hggRExAuJR4KtKfEQpkhARDyQeCTYmskmHkvDhbixZJPEI85IQERlI\\u002fFIsDUlHsIpEhBRmUg8EmxNiYeIBgmIqCwkHgm2psRDRIsERFQGEo8EW1PiIWKBBERUNBKPBFtT4iFihQREVCQSjwRbU+IhYokERFQUEo8EW1PiIWKNBERUBBKPBFtT4iEqAgmIiDUSjwRb0wJwl68+Bks8RIyRgIhYIvFIsDUlHqIikYCIWCHxSLA1k1E8bijZhGKJR9IgARGxQOKRYGtKPERlIAER0SLxSLA1JR6isjAfdCzE\\u002f0fikWBrJpt4fBM6hOskHkmLPBDhFIlHgq2ZjOJxi38z\\u002fBKPpEUCIpwg8UiwNSUeIh5IQIQpEo8EW9MCcLevPgZJPEQlIwERJkg8EmxNiYeIJwqiCxaJR4KtmWzi8bXE44hDHohgkHgk2JrJKB63SjyOOCQgojwkHgm2psRDJAoSEHE4JB4JtqbEQyQSEhDxZ0g8EmxNiYdINCQg4o+QeCTYmhIPkYhIQMT\\u002fIvFIsDWTUTxu8W9CALbppRKPJENpvOLXSDwSbM1kE4+vJB4phTwQUYbEI8HWTEbxuFXikVJIQAQg8Ui4NV0A\\u002fuZriAGebOM1JR6ispCACIlHgq0p8RDJggQktZF4JNiaEg+RTEhAUheJR4KtKfEQyYYEJDWReCTYmhIPkYxIQFIPiUeCrSnxEMmKBCS1kHgk2JoSD5HMSEBSB4lHgq0p8RDJjgQkNZB4JNiaEg9xJCABOfKReCTYmhIPcaQgATmykXgk2JrJJh5fhgpwm3+zxEP8IZ54P4CoMLIAzAJwuslFqbKRx0c8LPzN1yAVxAMAPgHwuZMLRfKgbrxHJpkAZkLikTBrumDhwdQRDyDifcwCYL64SBp0hHXkoWOrBFuzTDz6p454\\u002fJrlAPoC2BaLm4nEQgJyZKFjqwRbM8XFo4yNAPoA+DmWNxXxRwJy5CDPI8HWlHj8ht0AeiDikYgjBMVAjgwkHgm2psTjd9QG8CmALhW1gKh8JCDJj8QjwdZMNvH4ouLFo4yjAMwFcGpFLyQqBwlIcpMB4CNIPBJmzWQUj784EA\\u002fLstC9e3fj9QBUBzAHEpEjAglI8uIFMAXAmSYXpcpGLvEon2jEY\\u002fz48fj444\\u002fx7LPPwuUy3kaqIJLscZLphSKxUBA9OXEDeAfAUJOLUmUjj5d4\\u002fN3XAP1SRDyuv\\u002f76\\u002f\\u002fv\\u002fpk2bhksvvRQlJSWmj7EXkRegVaYXisRAApJ8WABeATDK5KJU2cglHuUTjXi8+OKLuOaaa3733z799FNccMEFyMvLM32c3QDOALDa9EIRfyQgycfTAG4zuSBVNnKJR\\u002fl8HirA7THyPP6XZcuWoVevXtizZ4\\u002fpY20GcApUbJh0SECSi6sR8T5oUmUjl3iUT0WKRxk\\u002f\\u002ffQTzjnnHGzfvt308VYCOA1AvumFIn5IQJKHvgA+gEEDzFTZyCUe5VMZ4lHGxo0b0b17d2zcuNH0MecAGADA7Bcj4oYEJDnoAOAzRLJXKFy\\u002fbDbnONhsloYLcUPJJhTDfCN\\u002fLK0Ruh\\u002fha7pg4SFfA\\u002fR1IB5rwyUY7c\\u002fFAQfi4fTn\\u002fCR0EGP8WxCMYcyjPDZu3IgzzjgDW7ZsMb30NRjG90T8UBpv4tMYkUJBWjwsAPf56jsSj2XhItzkd7aRP+5wg0umNcs8DyfisTHsx7UOxcPpz\\u002fl5qAB3ORSP8ePHOxIPAGjWrBkWLFiAunXrml56FYC\\u002fOFpUVDryQBKbdABfAOjIXmABuMtXH4M9NYwXS6YjJB1blc+C0EHcGYV4mBxb\\u002fRkrVqzAmWeeif3795tcFkakHfzsqB9AVCjyQBKbF2EgHgBwo7eOxKMC1pR4OOP444\\u002fH7NmzUbVqVZPLXAD+BeDomDyEqDAkIInLjQCuMLlgpLcWrvDWMl5oabgQ15c428gfc7jBJdOaLlh42KF4rA2XYKRD8XD6c0YjHi+++GLMxKOMzp07Y8aMGUhLSzO57CgA0xHp9SYSFHe8H0D8IScD+DcM\\u002fj493NVxt6++8ZlkWSygKA7xh2RYM9qYx2h\\u002fLvZXYswjWs\\u002fjuuuuM16ToWnTpmjZsiWmTZtmclldAE0AvF8hDyWiRgKSeNRFZJ40vWO1dWVgXHpjeA3lI5mOkHRsVT6Jcmz1Zxx33HGwbRufffaZyWUnANgJYEnFPJWIBglIYmEBmIxI2i5FQ8uHV9Oboapl9qdcFi7C9SW5jryAaNNmk2FNFyw8ktbQcaruKIeeh9OfM9pjKyeeR3FxMbxer9E1Z5xxBtavX4\\u002fly43mSp0DYAYibU9EAqEYSGJxE4B+rHFVy43xaU1wlEXXFgIAfgwX40Z\\u002fblLUXMSrzuORtIbo7a5uvGY86jw+jlI8nKTqLlq0CM2bN8fixYuN13zttdfQrVs3k8vSETnSTTdaTFQ4SuNNHNoCWIzIjI9ysQA8ldbY+Kgj8na8Efl2yOg6HVuVT6ocW33xxRfo27cvCgoKkJ2djU8++QTt27c3usfu3bvRsWNHbN261eSypwDcYbSQqFDkgSQGaYi8YVHiAUQyrkw3nC12ANf5cyUef4LEo3x+LR4AkJeXh969e2P1arNmurVr18Z7770Hn89nctltiBxniQRBApIYjEUkWEjR2Z2Fa721jRbYawdxdclG7K3EdNJkS9V9NK1h0qTqfhxlexIn4rFo0SL07t37\\u002f8SjjN27d6NXr16m3gS6du2KJ554wuQSF4C3YJBgIioWBdHjTycAr4IU85qWBy+lNUOWQdDcjzBu8Odig+03erBUS9XtkySpuh+HDuIu\\u002fxaEKjFV94svvkC\\u002ffv1w6NChP\\u002fzv+fn5mDdvHi655BKkp\\u002fOhiq5du2LDhg0mQfVqAGog0t5HxBnFQOKLB8B3AKgDZBcsvJreFB1cWfQCYdj4i38LPg0dNHyw1AiYu38JmPdKkoD5\\u002fFA+7vJvdSQe0QTM+\\u002fbti8LCwnJt+\\u002fbtixkzZsDt5l9wDh06hA4dOmDt2rXsJTaAHgAW0IuICkFHWPHldpDiAQCXe2saiQcAPBPYaSwebolHuSSbeDhtjPjFF1+gf\\u002f\\u002f+lHgAwKxZs3DttdcarVGlShVMmjTJJCXYAvASlJUVd3SEFT+aIVLzQUURW7nS8WhaI7gNnMb3gwfwfOkuo4dyAXjY1xA9PeabqsTj8ETzc84L5ePuKDwPpxXmM2bMwH\\u002f+8x+ja5YuXYqcnBx06dKFvqZ+\\u002ffooLS3FokWL2EtyEBGST4weTsQUCUj8mALgWMbQBwvPpzVFLYsv2loTLsHthufkFoC7ffVxnuco+poyki3m8VDSxTycex7RtCfp3LkzPB4PFi5caHTd\\u002fPnzceaZZ6JJkyb0Nd26dcO8efOwbRs92fZkRPplGc\\u002fQFbFBR1jx4TxEznApbvDWQUsX763n2yHc5t8Mv+HGeruvHgY56OSbTNlW7l+yrZxWmFd2ttXcUD7ujCJgHov2JPfeey\\u002fuvPNOo2uCwSCGDBliNNrW4\\u002fHgrbfeQmYm3T\\u002fRC+BZowcTMUUeSOXjQ6Q5XA5jfJwrA\\u002fenNYBFHl2FAfw1sAWrwsVGDzXSWwsjHXby1bHVnxPNzzk3lI974nBs9Ud0794dO3fuxJIlfEuqwsJCLF26FJdeeilcLu5dtWbNmvD5fJg\\u002ffz67zNGI9MlaQz+YiBkSkMrnNgBDGUM3LDyb1sTo6Oqt0j14L2g0vAe93NVxl4NOvhKPwxNP8XA6SfBw9+3duze+\\u002f\\u002f57rFu3jr4uNzcXgUAA55zD1\\u002f916dIFM2bMwK5ddPyuM4BXAJhVyIqoURpv5VIbkTclahcb7q2JW738SNDV4RIML1mPUoNNp60rA6+lN0O64WlmslWYO51hHo8K82izrSqyq25BQQG6deuG\\u002f\\u002f73v\\u002fQ1LpcL8+fPx9lnn01fs3jxYpx88skIhWhNuBXAP+gFRExQDKRy+TtI8ahreTHaoNo8ABv3BrYYiUcDy4fxaU2MxSPZYh5jkyzmkajiAQBVq1bFrFmz0LBhQ\\u002fqacDiM4cOH48CBA\\u002fQ1nTp1wujRo00e7X5ECgxFJSIBqTyawmDC4J2++sg0+PM8F9iJ9WG+0twHC0+mNTLu5LsiXIyb\\u002fMlzbPVoWkP0TJFjK6ftSb766iuja+rXr4+pU6ca9bHatm0bbrrpJqN1Hn30UdSrV481PwqR42FRiSgGUnk8B3LOR2d3FdzgrUPf+PtQIcaWbjfadu71NUA3t9GcavwcLsG1\\u002flwccuh5SDz+nDm\\u002fiEc4DhXmkydPRu\\u002fevVG3Ln9c2rBhQ+Tk5GDWrFn0NcuXL0fbtm3Rtm1byj49PR1HHXUUZsyYwS7RAcDrALiqRxE1ioFUDscAWIVI65LD4gLwr\\u002fQWOJZM2w3AxpDiddhk0OfqfM9ReMDXgLYHgNywHyP9Gyt1SJLE4\\u002fDEsqturVq18Omnn6JNmzZG9xkxYgTefvtt2r5mzZr46aefULNmTco+HA6jU6dOWLp0KbvE4wDMco6FY3SEVTk8DEI8AKCfJ5sWDwB4rXSPkXi0cKXjLl992h4A9tlBXO\\u002fflDTiMTZFxCOWXXX37NnjqKPuCy+8gOOOO46237t3L+666y7a3uVy4bHHHjN5pBsA8O67iAoJSMXTDsCFjGEaXLjO4OgqN+zH26V8Ea4PFh7xNYTPwPH0I4xb\\u002fZux3Q7Q1wCxqTB3MknwIV8D9HAgHhvDflzrUDyc\\u002fpzzQvm4NwrPI9a9rbZu3Yo+ffogPz+fvl9WVhbeffddow68r7\\u002f+Oj799FPavkePHujTpw\\u002f9SAD+St9cRIUEpOK5C+Tv+RJvDuqSNR82gIcC2xEw2Hyu9dbBMQbeTRjAPf6tWBEuoq8B4pdt9VhaQ0ftSeKRbTU7mBdVV91YzvP4NStXrsSll15qkj6LNm3a4KGHHqLtbdvGjTfeiNLSUvqaJ554gi5GBHANyEJdER0KolcsTRHpGlruJz8DLjye1ggZFvclmRvKxzvBvfSDtHdl4r60+nRFOwC8XLobUw2LEuPV2+phXwP0SpLeVvNC+bg3sC0uAXOmq+6aNWtQUFCAXr160ffv2rUrPvvsM2zatImy3717N6pXr45TTjmFsq9duzZ++uknrFq1ijH3AjgI4HPq5sIxCqJXLM8BuJExvMJbCzeRx1cB2BhYvBbbyGOlNLgwNaMFGlp82uWXoQLc5N9ktJW7fvECnBwhRRvzcLJmPGIes4J5uK+SxaOwsBDNmjXDnj1mPQffffddDBkyhLbPzc3FCSeccFgP59dkZ2dj3bp1yMnhnIWVK1eiXbt2CIepz8huAE0AlFA3F46QB1Jx1ADwNoh27Rlw4TED72Ni6T7MD\\u002fHn1Nd7a+MMg81up12K6\\u002f25KDbs5Hufw3ni0XgeTtuTxMPzmBvKdywe0XTV9fl8OPHEEzFlyhSjo6k5c+bg\\u002fPPPR61aXI+07OxsZGRkYO7cuZR9SUkJ\\u002fH4\\u002fevfuTdnXrl0bK1euxI8\\u002f\\u002fsiYZwHIBbCMurlwhDyQiuNeANTBsEnLkjw7hHNL1qDA5jaClq50\\u002fDu9OTzknzoIG1eUbMBKw2aMd\\u002fvqY7DDTr5OPY\\u002fH0hrhHAcbeap4Hv\\u002fLtGnTcNFFFxmJSNu2bfHtt98iK4sbZBYKhdC5c2c67dbn82HlypVo2bIlZb98+XKceOKJsG3q9\\u002fgzgDaA4YdL0MgDqRg8AP4NoNxKPR8sPJHWGJmk9\\u002fFi6W4sDnN1Ui4Az6Q1Rj2Do6tXSvdgtoF3AwBXemvhijh08k0W8fgomIf74yweQCTYXbduXXz4IT9OfM+ePdi\\u002ffz\\u002f69+9P2btcLnTo0AFvvPEGtcmHQiFs376dPiqrU6cOli1bhp9\\u002f\\u002fpkxrwngawDrqZsLYyQgFcN5AK5iDPt7jqL7NOXZIdwb2Er3uxrgOQpDPXwyyo\\u002fhYjwQ2Ga0nfdwV8fdDjr5RhUwd1jnkWzHVhXRVbdjx44oKioyal+yZMkSdOrUifYSGjRogF27dmHx4sWU\\u002ferVq3H++efTlfD16tXDW2+9RdkiMvb2PdZYmKEjrIphFgAqcf3f6c3R2pVB3XRc6U5MKOUyr9Lhwn8yWqIOmRZcgjAuKl6HzQb1Hse7MvBa+tFGdSVAdJ7HWHkeURMOhzF48GBMnz6dvqZevXpYvnw5XUG+d+9etGjRgq4pufDCCzF16lT6edq3b48ffviBMS0F0BjATvrmgkZ1ILGnEYCejGEHVxYtHnl2CFNL+ZTay7w1afEAgH+W7jESjxqWB0+mNTYWj6iKBNMaOhKPeBQJzg3l\\u002f+LNJZZ4AJFjpgkTJtA9qQBgx44dRs0Qa9asibvvvpu2f\\u002f\\u002f997FixQra3uBZvAAuo28sjJCAxJ6rQB4NDvXyQecJwb30cU+O5cHlHu5NEYi8nU8kPRsgspmP9TU0EigA+CFc5LgN\\u002fBNpjdDbYapuZRcJfhTMw92VPAxq9+7dRvZZWVmYNm0aqlblG2pOmjQJ8+bNo+1vuukmNG3alLINh8N4+OGH6XsPGzYMtWvT4w5GQ6ctFYIEJLa4QbZsr2N56c2pGGFMMyjou9JbC1lkUD6MSEV70GCzu8ZbC53dVWh7IBJfubGS28DH49jqwzgcWy1atAgtWrTAO++8Y3Rdq1at8MYbbxhdc\\u002f3116OkhCutSE9PNxKFqVOn0tMO09PTMWrUKPbWzQGcQT+IoFEQPbacDbJwcKg3B13JTfg\\u002fwQP4OHSQss2xPHg4rSGdtvtB8ACmGIhTO1cmHjSY0Q4A68N+jPZvpFOPy0hG8ajsY6uyCvNDhw5h5syZOOGEE3DsscfS17dp0wbbtm2j0273798Pl8uFs846i7Jv27Yt3n33Xezbt69cW9u2YVkW3feqadOmGD9+PGWLyLsS3RdecMgDiS2DWcP+bi7zygYwKVj+l6+My701kUb+WUsQxsul\\u002fNFHBlz4e1pDuAzEI88O4Rb\\u002fJuQbikdZtpWTjTzZYh6xaowYDAYxbNgw4wFR\\u002f\\u002fjHP+gMKwB48skn6ZYlbrfbKBby5ptv0oH3o48+Gqeffjp764EginqFGRKQ2OEGcAFjeKIrE01dadRNvw4dwkZy0mANy2NUzPd26V7ssvmGdrf56qKxQU1JCcK40Z+LrQ46+T6R1shRhXk8Yh4zg3m4278l7i3ZgUh19\\u002fnnn48NGzbQ98rKysKbb74Jt5s7kCgpKcF9991H3\\u002f\\u002fiiy9GixYtKNuCggKTFF2MGDGCNc0GcA59Y0EhAYkdZwOgonrneo6ibzrFwPsY6qlBzzffawfxtkHg\\u002fERXJgYaVpo\\u002fFNhuXNGebMdWM4N5+Ftgq3Gpc0U2RtyzZw\\u002f69+9P96QCgFNPPRXXXnstbf+vf\\u002f0LS5YsoWw9Ho\\u002fRDJDnn3+e7XeFQYMGoUoVOh5HnxAIDglI7KA+nGlw0UVwe+0gvggdomx9sHChwQb\\u002fVukeOqDthYV7fQ2MPixTgvsxK5hncIXEg4HtqvvTTz\\u002fhyiuvZFt+AAAefvhhegZ5OBw2Opq6+OKL6aypdevW0fNCqlSpggsvpMbtAMD5ADjXX1BIQGKDB+Tx1SnuKnSG1IfBPDoVtLcnGzUsaugh9tlBTAseoGwB4FJvTTQnj9yASMbVU4EdtD3w\\u002f3tbJYt4zAgeqHTxKBtDy7RkByJZTf\\u002f4xz\\u002fo+1evXt3Ift68efjmm28o2\\u002fT0dIwePZq+t8mYXIOOwdkAetA3FuUiAYkNXRDpu1MuJpvVjBC\\u002fyV9s0LLk7eBelJBb31GWB1ca1JQEYON+g3YrQCRB\\u002f15f\\u002faQJmM8IHsCDhi1fgOgC5kCkGtzguAYAMGbMGHz\\u002f\\u002ffe0\\u002fZAhQ9CtWzfa3iRN99prr4XPx8XQpk2bRh\\u002fB9ejRA9nZdBfofqyhKB8JSGygJu94YKGbmyvcWh4uooPnJ7gy0YqcNHjQsKL9Wm9tVLH4bO9xgZ1YTz53Gdd76+B8g7hQGfEImEcjHk4D5mU0b94cM2fONBKR0tJSjBgxgq7dAICnn34alsVl2s2aNYuOhdSrVw+DBg2ibAsLC+nWJl6vF3379qVsIQGJKRKQ2EANNOjszkI1cjOeE+Q74p5nsPlODx6gYx9NXWkYaHDvpeFCvGsQ9AeAoZ4cjHTQyTcex1YfRCkesWhP0qlTJ0ydOhVeL98FYNWqVbj\\u002f\\u002fvuN1hg2bBhla9s2nnnmGfreI0eOpG0nTpxI2w4cOJA1bQSgNX1jcVhU3h89NQHsAiHG9\\u002fjqYxAR6LYB9C3+GTuJFNt0uPBxxrFUXCUEGwOK12AHmbr7sK8hPSAqABsXlaxDroH30d1dDU+kNTZ+i4mXePw9zuLxa9555x0MHz6cDpJ7PB4sWbIEJ5xwAmW\\u002fbt06tG7dGsFg+b9jr9eL3Nxc1K9fv1zbcDiMo48+mqojcbvd2L59OxV8LywsRO3atVFUVFSuLYDbAIxjDMXhkQcSPb1A\\u002fh5PI4+vVoaLKfEAgO6eanRQfmGogBaPxpYPfTx8HcbbpXuMxKOB5cMDhpldQHzE4z8JJh4AcOmll+KGG26g7YPBIK655ho6PbZFixa0F1JaWoqXXnqJsnW5XBg+fDhlGwqFMGMGVzyelZWFM888k7IFeeQsykcCEj1U592mrjTUJZsPfmIw0ImtaAdg3E+LrTjfYwfxpkFNSVlb9qoGsRUgfuLxUIKJRxlPPvkk2rdvT9t\\u002f\\u002ffXXRv2y7rnnHrq48J\\u002f\\u002f\\u002fCcCAa5gdPjw4XSMZdq0aZQdEAmmk5wBgGuDLQ6LBCR6qJSVri4+8PlJkOt7Vd1y4yQ3N2p0p12K78iakhzLgz4Gs81fLN1l1CTxem8dHE+2sS9D4vF70tLSMHnyZKOg+j333IPiYq64s1WrVjj\\u002f\\u002fPMp2927d+Ojjz6ibFu0aIGOHTtStp988gny8rh6IgMBSQfQiTUWf44EJDrqAGjGGLKNE7fYAXouxxnuanTTxJnBA\\u002fRGOMhTg57zkRv2Y4ZBwWAXdxUM9\\u002fJpwQCw1Q44TtVNJvGYPn06xo0zO5o\\u002f5phj8MILL9D2W7duNar1MJkBYtKChA16BwIBzJ07l7Jt06YNFYf5hVNYQ\\u002fHnSECi4zTGyAMLJ7k4T+Eb0ksAQKeh2gC9yXthGfXTmhDcS\\u002feA8sHC3b76Rh+6fXYQ15XkOk7VrWzxcFrnMX36dAwdOhR\\u002f+ctfjIrogMiRENvBFoik6bLFiKeffjpOOukkynbWrFnYuZMb\\u002fMem8wLAggULKDvLsnDOOXS7KwlIDJCARMfJjNGxrnQ60M0KSCZcOJn0alaHi+mGhme4qyKHrGjfawfxkYH3cam3plEzxkI7jBv9m7DFQTPGeHkeTuo8ysSjtLQUtm3j6quvxvz5843uMW7cOLpIb9++fUbeAltBHgwG8d573Pjxli1b0hMRTX4XbJt5RAREWahRIgGJDuot5nhXJnWzEGx8F+beDE9yZ9HHTOwsEQBGBX3\\u002fCu5FgPQ+6lhe43qPhwLb8JODZoxOK8zjdWxVJh5lBAIBXHjhhVizZg19n1atWuHmm2+m7Z955hmEQlyL\\u002fSFDhiAzk\\u002fsMm8xZHzBgAGWXm5tLD5rq2rUru3wOgGNYY\\u002fHHSECc4wPQgTE8jgwY\\u002fxguxiFybgYbUwGAT0gBqW15aa+m0A5jqkE\\u002frdt8dZFp8HF7L7gfcw2y0YDoKszfTxDxKKOgoABDhw6F38+nRt933310M8QNGzbQ3kK1atVwwQVUqzd8\\u002fvnn2LNnD2VrcNyEjz\\u002f+mLJr1aoVjjqKfgmiThDEnyMBcU4rkJ09j3dzb2\\u002f\\u002fDVNFUAD4rK7csJ+uz+jlqU6n7k4L7qfF7lhXOt2BGIhkXJk2Y4zm2Or94AE8nEDiUcayZcvw17\\u002f+lb5n1apV8eCDD9L2Tz75JG1rUrvxwQcfULannnoqMjK4l6vPP\\u002f+csrMsC507d6ZsAXBVleJPkYA453jGKNtyoyF57r8ixB3X1LW8aMYOpArzQXmTzXdmiI99jDA4ugrCxl2BLfTRGBCdeExPUPEoY\\u002fz48Zg1axZ97+HDh9OZSEuXLsXXX39N2Z599tnIyeEadrLpvOnp6TjtNCoPhe76CxgdY1HfYfHnSECcQ3342rgy6EjdCtIDOZGMqQB8UL6W5aFjNWvDJVgX5przNbR86GGwsU8q3WfUjNEFOEDy\\u002fGUAACAASURBVB59Gw\\u002fxCIVCeOCBByjxACK9pm666Sa6GWJaWppRLGTy5MmUncfjoWMWCxcupFqgABFhYtiwYQN27+bGLxt4IMexhuKPkYA4hxKQFmSX3L12kG4zcgJ5JBaEjSVkUP4MdzX6wzDbIDZxqbcmfSy21w7ilSA\\u002fox0A7vDVczT6dlpwPx4ObDMcQht9kaDb7cbMmTPpWAUArF+\\u002fHk8\\u002f\\u002fTRtP3r0aFSvzv1OpkyZQgfT2dqN\\u002fPx8uoX8ySfzYQjWCzn+eNqxqAvAvJOn+D8kIM6hPqXNLe6oaZVBthHrKawKF6PQ5t6vTyGD5zaAOWTqbnXLjfMMKtqfLd1JPy8AXOatiaEGc1DKmBbcj0cC243FA4jEGTZv3ozly5c7uDpC06ZNMWvWLGRlcbVBADB27Fhs3bqVsq1evTqdertz5056+l\\u002f37t2RlsZ9ntmg90knnQSPh0sb\\u002f\\u002fbbbym7hg0bolo12iOVFxIFEhBnVEWkLXS5sB7IWvJIyAeLnv2xPMQdiblhoRNZ6LgsXEh7Sj3c1ekZ7VvtAGYZtLBv68rAjd46tH0Z7wcP4FGH4gEABw8exNixY9GuXTuccsopdJX0\\u002f3LiiSfi+eefp+0LCwuNhjeZtE2fNGkSZZeZmUl7DF988QVll5WVheOO4\\u002fZwVrQty6JrTCABiQoJiDOagShCcgF0sHs9KSAtXenwkkdCK0mv5jhXBj00aiHZpwsAeht0832rlK9or2q58URaI\\u002fr3UMbU4H5Hqbp\\u002fxtdff43evXvjrLPOwoYNG4yvHzFiBC6++GLa\\u002fu2338auXbso22OOOYbuNzV9+nQ6JsOm3n733Xd0q\\u002fkuXbpQdqtWraLsgEhbExKqFZH4YyQgzmjCGNWzfMggf8XrbS5wzHo0QGSqIUN7MqYCAN+TMZW6lhftSa9mnx3ETIOakhu9dVDfoKIdiIhHNJ7H4fj000\\u002fRrl07\\u002fPOf\\u002fzS+9sUXX0SdOpwnVVJSgueee46+N9uO\\u002fcCBA3TMgm2ZfuDAAfz888+Ubbt27Si7TZs20S1YDDwQ6rss\\u002fhgJiDOaMkYNXNwmF4SNTWTmUXPSo8mzQ\\u002fRMETamUmCHsIZ8zt6e6vSH693gPjptt7UrAxcajr+tSPEo49ChQxg9ejRuueUWeuYGEIlXPProo7T9Sy+9hEOHuMy6IUOGwOXi\\u002fgqLFi2i7Dp06EBPQ2RjFqy3EA6HsXr1asq2RYsWlB3I77L4YyQgziA9EO6Ltt0upTfQFhbngbBptgAvIMvCRfQxk0mjR5PYx1999eisLiDSnqSixePXPPvssxg2bBid2QREjrLYhoUHDhyghyw1atSIjlmwhXoZGRm0x8DGLAyOm\\u002fDjjz9Sdo0bN2Zv2ZReXPwOCYgzYiogO8J8s8Cj2ZgKeSRW0\\u002fKgFtk8kU0JzoQLbcj2LcvDRdhGNks8yZ1lVAPzaeggHqpE8ShjypQpuOaaa+gYgMvlwn333Uffnw16A3xzwS+\\u002f\\u002fJIWPTZmwW72tWrVosbWAsDGjRspuyZN6JOpGogkxQgHSECcQb3esBMI2awmLyzUIu\\u002fJeiAtDWIq34c4ATnRnQk36SXMNujme4WHT9nfYgdwb2Ar7THFmtdeew3PPvssbT9gwAC0bt2asp03bx727+emS55++umUXV5eHu0xsFlTJkHvY47h+hpu3ryZssvOzjZJ5VUcxCESEGdQr0usB8LGKupYXvoPxrZAZ+tUwrDpVOMOZPAc4Bs9NrHS6EaPIdgY499iVFNSEYwZMwZLly6lbC3Lwq233krZBgIB+hjr5JNPpussvvrqK8qOPXLaunUrCgoKKFvWY9i0aRNlZ3JPqJjQMRIQZ1DVa6y3wHog9V3c\\u002fQD+WKw56YFst0tRSr7NdyTH7G62A9hDDorq66lORz7eDe43bgNfEQQCAYwePZoOqg8ePJgu1Fu4cCFlV6VKFXToQDWNprOm2Awn27aRm5tL2bIxC9YDAYAGDRqwpubVqAKABMQJXgDUq3A1srZiLykg9cjUVRu8V1OfFLnNpCC5ALQmRWkpeSQGgJ7RfsgO4eVSs3YoFcn3339PTxjMzs5G7969KVs26A3wzQXXrl1L2eXk5NAt09kNnxWQLVu2UHYA6OaPkIA4RgJiTg6IIkILkVYeDPlkW\\u002fQaZLB7vx2ks7rqkqnGm8mgfG3LizTyY8UG5Zu70tCIFM\\u002f3gvtRQP4+K4uxY8fGvN\\u002fUxo0b6dYmbHyBHdoE8Bs+e+TE3q+4uJiuBalRgx7NLAFxiATEHOrDlmm54CEPXVgByQYnSOz8cAt8oH8T6YE0JrPEAGA1GVPpSMZUwgCmBLngcmWydu1ausU5G\\u002fQG+OaCbE3Epk2b6Ip0Nr7Aegw1a9ak7ADQCQQSkIpHAmIO9amsDs5bAIB8cALCHomxglTVctNjcVkPpAnpKYQBbCaLEtmYyrJwIX10V9n861\\u002f\\u002fouyaNm2KRo2oNmv0kRMrIKWlpbTH0LBhQ8pu3759lJ3BZk\\u002ffU0dYFY8ExByqEKGaxf1qw7DpyX7skdhBUpCqkx4NABwgn7ExeSS2y6B4sjVZU\\u002fJZiMv4iQcfffQRAgHOi2PnWbBHTk2aNKGrx1kBYT2GCvAW6HsajLblPmDid0hAzKF2SDbhtti26UqFquSGn0ceYbGCBABFZEpsDul5sd6HFxYd6F9iEJSvbAoLC7F48WLKlvUYWAHxeDz0\\u002fJGDB7m0anbDZ72F7OxsuN3k5zuPqx1ix+WC\\u002fE6L3yMBMYcUEO5oKGhQ6OazuHuWGHS1ZSkivZpM8p5snKaBy0cVJYZhG7VviQffffcdZccKCBtEByJzTBjYPlusgLCbvcvlojd8v597+fD5aF3gA3fiN0hAzKE+lR5ys2drKwBelErJFhps\\u002fAMAisgm6JnkR4q9Xw3So9lhcCQWL9iYBRtfYIv0gEg9CAMrIJmZXEsZdrMH+A2fPQo0EBB5IA6RgJgTUw8kYDCdghYQ8p5slpgNoJg8wsokYz\\u002fskVgWeb\\u002f9pEcTT7Zt20bZxXqzB2LvgcR6s6+Ie0pAKh4JiDnUgTybg2XigbAbPpuHxAqSH2Fa5lgPpJi8IztPhRW4eMJ6DKyAFBcXIxjkhJMdnxtrAWHTgk3uWQECoiMsh0hA4oxlOFWPgf2jstLFNkYEIn2oGNhnZJshVsTvMdawxYRsMBkA3SaF7YfFbvjsM7ICB\\u002fDPyN6TnYUC\\u002fqsg\\u002fgcJiDnU6w\\u002frWZiMZY31PdkAvhcWfU\\u002fas2CPusj7sUdd8YTtDst6KmlpafRbdqy9nwrwAuh7sv3CDOIv\\u002fDmb+A2J\\u002f61LPOImIOyGzx51mWSAsbENOlZCpiSXkAkBtclU33jCjq5lN3s2rgHwR1OsgLCbM7vZA7EXJQlIxSMBMYcTEHLjYzd7wECUYpzuC\\u002fCxCDpbixSkXWRleY7lSXgvhE3P3bVrF2VnIiCxFqWSEi5l2kRAYi1KBgF8PlVM\\u002fIbE\\u002fsYlJnHzQNi38Srkn\\u002fWgQdNB+siJ9EBqk40hd5Bt5C0AbcmK9XjRvn17ym7NmjWUXd26dem1Yy0g+fncGGI23ReIfX2HPJCKRwJiDvVh85MCkmG56D8C3aKE3JzZnlkAL0qsx9DEYJDVNrKRI9t0MR54vV6ceuqplC0rIC1btqTsbNvG7t1ci3v2CCvW7UT8fj\\u002ft1bCixN4PEhDHSEDMoQ6T2bd7F\\u002fiK8PwYtyjJB58hw84i2UxOQjQ5clpFDoc6202PMK10zjzzTHpzZqcYsgKydetWFBUVUbbsbHJWQNiGhuz9AL4K\\u002fsCBA+wtuV+O+B0SEHOo5j4mb\\u002fdsU0NWlNi274V2mB772ohskriF9BYAoDHphSwl54a0cKWjlcGM98pk2LBhlN3WrVuxfv16ypad88FWwAO8KLFxGnazrwgBMbjnXnpx8RskIOZQAuJHGH4yoMx6DHnkEVZtk9G3pMfADnRi274DwPFkzGJJiH9BvNTDz5WoLGrXro2LLrqIsv3ss8\\u002fo+3bs2JGyYwWkXr16dAyEHVUba48GqBCvhuv4KH6HBMScAwCnDHl0m3YuZrE7zMUXMuGiRYmdn8F6IHvtIJ2J1YGc87HJ9mMt2Sixt6c6GpJiV1ncfPPN9Ln9jBkzKLuGDRuiefPmlG2sYypA7CcNsjEay7LouIoEpOKRgJgTAkCloLBHTnXIGgaTYUn1yHtuJT0Q9rjJBrCC9Bjau\\u002fgMnbkhLuvHAwu3+7jW5ZVBkyZNcMstt1C2BQUFmDlzJmV75pln0s+wZMkSyo4VkEAggO3bt1O27ORCkzkkbBU820oeEhDHSECcQX3gdpMbfsUICPcWvp6cy5FjeVCF9GqWhsmAreWls7FmB\\u002fPptiZnuKuie4IE1MePH097H++\\u002f\\u002fz6Ki7mEgTPOOIOyKykpwbfffkvZsjGVNWvW0G1ZWAFhj8TY+wHAjh07WFMJiEMkIM6gIog7yA2f9RZ220G611Qzcjb5BlJALADtSI+BDXoDQA8Pt9FvtwNYEOKGHQHA\\u002fb4G9O+1orj++usxYMAA2v7ZZ5+l7DweD33fb7\\u002f9lk5n7dChA2W3atUqyi49PZ1uTc96ICYCwt4TwB76puI3SECcsZkxYgWkLrnRhWFjG3nP5uSb\\u002fTqbr0fvSArIilAxXUjZ251Nrg5MKOWTZapZbjyX1oSeIx9rzjjjDDz99NO0\\u002fbx58+j03bPPPptui8IG5b1eL04++WTKlhWQVq1a0cdNsfZADh48aJLGS32fxe+RgDiDerWhPRCDrKn1ZDC5OZnOetAOYQsZB2GD3n6EsZw8xmruSkNL8llXhovxpcHc8xaudDyb1oQ+eosV7dq1wwcffGDUxuORRx6hbdmUYIAXkE6dOtEt31mha9u2LWUXCoXoQH+sYyqIpPDyg1XEb5CAOIP6dO4kayLqWT6kk38KNmbRzJVG99lig95tXBlII59zXpALegPAAA\\u002fvhTxVutNohsqJrky8kdaMjjNFywknnID58+ejevXq9DVTpkzBokWLKNusrCwMHDiQst2zZw8+\\u002f\\u002fxzyvb000+n7GzbxjfffEPZsgKyfv16+piNDfQbCEguayh+jwTEGdSnk63KdoGPWbAeiA+W0Zs9gxcWTnBztRvzQwfpeM1Adw26Gj837Me\\u002fS81ini1d6ZiQfjQ6kx6UU0444QQsWLAAtWrVoq8pKirC7bffTtuPGjWKbgs\\u002fdepUer4HG5Rfs2YNnd3E9v5ij8QAXpQ2btzI3jKXXlz8DgmIM3IZo312kK5Ib04KyLqKKNQzCHp3dXHtOA7YQXwT4k4GsiwXBnm46mIAeKl0N9aRQlpGbcuLl9OaYYyvXoV07S0Tj5o1zQoZx4wZgy1btlC2Xq8Xt912G33vSZMm0fdl+3R9+eWXlJ1lWejSpQtlywpItWrV0KhRo5jeE+TLoPhjJCDOyAW4svD1NhmzsDhvYUPYT7cfOZ4Meq8Ll2Av2Werp6c63T94Dlm7AQDDPDnwGYzYvTOwBSUG8+SBSCbZUE8OPkpvhSu9tWImJO3atXMkHh999BFeeOEF2v6SSy6hN9AtW7bQm33Pnj3pCvSPP\\u002f6YsmvVqhXdcoSNqbRp0wYWOarAQEA2sIbi90hAnFEM8oPHxixakh5IGDZ+JI+cTnRzAmID+Jb0FhpaPhxHCtMnwYO0B1bL8mCYl2tRAUR+rw8HtjuaRVrdcuNGbx3MyzgWj\\u002foaRtXFt127dvj444+NxWPjxo0YPnw4bLJFf1paGu6++276\\u002fhMnTqTH3Q4dOpSys20bCxYsoGxZ7wNAzGMqAPDjjz+ypivpm4rfIQFxzgrGiI1ZtHVl0m\\u002f2K8kMp4aWDw3IgsIvw3wiSh8PFyAuQhjvBfkeR6M8tVGTbOsCAB8F8\\u002fBCKdfU74\\u002fIhAtd3VXoNvn\\u002fi1Px2LNnD3r16mXU\\u002f+nWW2+lA8h+vx\\u002fPP\\u002f88ZZuZmYnzzjuPsv3hhx\\u002foliNspfymTZvogj+2TmX79u0mv1s+ACN+hwTEOZSArCU9kGzLTfdwWk56IADQ1c3FLD4PFSBAvs\\u002f3dFeHi5S7ycF99H2zLBdu8vJDkgDg9dI9mG9wVPZrDthBjPbn0n22fo1T8Th06BD69etn1CG3QYMGuOeee2j7t99+m96U+\\u002ffvTx9fffDBB\\u002fQznHPOOZTd119\\u002fTd8z1nUqALZDVehRIQFxDiUgP4WL6Wyk48kjp2XhQrqtRxcy8+iQHcJ35DFWjuVBJ\\u002fK+++wgZgTpgi7092Sjg8GRUgdXFk5z86Ndy4hGPE488URHMY\\u002fCwkL069cPixcvNrru6aefpmeJhEIhPPXUU\\u002fS9TWpKpk+fTtm1bt2arkBn4zRZWVk4\\u002fvjjKdvvvvuOsgP5HRZ\\u002fjgTEOdSHrxhhrCO9EDZrKt8O4Udy4+vqqkKPzf3YoFXIEIOsqQmle2kRtQA8ktaQqiDv4MrC8+lN6HntZUQrHh9\\u002f\\u002fDHdUryMwsJC9O3bl673KOOyyy6jW8EDkU2e9W5q166NPn36ULZr167FihXcftuzZ0\\u002fKDuCD8p06dYLHwx1vsjEVSECiRgLinPUgK1hXkDELttcUADpFtqrlpr2Fj0P5dGbTme5qaEoG\\u002frfYAUwxiIXUtby439fgsDapIB4tW7Y0ytIqLS3FAw88QNvfdNNNdLU8mxIMgI6pbNmyBatXr6Zs2eMr27bp5pEAlrOG4o+RgDgnBID6pK4gYxatXBnIJgvqvjUIerOjXgvtMBYEOS\\u002fEBeAyg+FNL5Xuxn4yVRgAurur\\u002fWltSLzEY\\u002f78+cbiUVRUhAEDBhiLR1paGiZPnkzHJwDgueeew08\\u002f\\u002fUTZVq1aFddffz1la9s2JkyYQNnWrFkT3bp1o2xZ7wOI9P9iWLduHfbsoXsjfkU\\u002fgPhDJCDRQX0A2b5QLgBdyEK9\\u002f4aKUECmyJ7prkYHvWeEzOIVOWTWVIEdwnjDjKkxvno4+X+SAOIhHu3bt3cUMC8sLESfPn2wcOFCo+tcLhfeeOMNOusIAHbu3Im\\u002f\\u002f\\u002f3vtP3o0aORnc21kFm0aBE9Zve8886jj5rmzZtH2aWnp9OFjgbHV7sROUUQUSABiQ5KQDaF\\u002fXShXhcya6oUNhaRjQVzLA8dTF8cKsRGMmbjg4WLPfwb+YzgAdobAyLDoZ70NUbrX2JD7V2ZeC6t8sXDiefh9NgKAJ566ilcfPHFRteMGTMGBw9y3qPP56OHXAHAq6++StsOHjyYsgsEApg9ezZle9pppyEjg4sPGvy+uei9OCwSkOj4BsR4Wxt8zIJNuwVgNB\\u002fjXA83BtRGJPWWZbCnBj0+NwzgocA2elY8EEntHZ\\u002fWBP092Xghvalx9XgsPI\\u002fKFI877rgDt956q9E1CxcuxMSJE2n7yy67DA0aHD7GVMb27dvx3nvvUbYNGjSg03cXLFiA\\u002fHwu\\u002fbpHjx6UHQDMnz+fNdXxVQyQgERHHgCq5PUbMmZRz\\u002fKiBdkE8avQIRSTm\\u002fFZ7qp0w8IPg3k4RB6PVbXcuMrLNw9cGy7BU4GdtD0Q8aAe8jWMy7EV246jjGjE45prrsHjjz9udM2ePXtw2WWX0RXtGRkZuP\\u002f+++n7v\\u002fjiiwgEuKagl112GT3\\u002fY9q0afQzsFlda9euNenCKwGJARKQ6KF2im9Dh+i2G2zQ248wfYyVBhd6ufkKcpOsqYs8OXQRJABMDe43Shl2QjTi0aFDh0oXj9GjR+PFF1+kez0BkeD2FVdcgW3bttHX3HzzzWjcuDFlW1RUhFdeeYW+9+WXX07ZBYNBzJgxg7Jt1qwZTjzxRMrWwPsoAsANiheHRQISPXMZo712kG5rYjLPe2Ywj7Yd6smh26VMCO6lmzZ6YeFOXz36OQDg74Ft2Ea2uzclWvGYP39+pYvHSy+9ZCQeADBu3Dh89NFHtH3dunVx11130fYvv\\u002fwy9u7lpkB269YNxx57LGU7f\\u002f58OlOKnX1Sdl+STwHwba3FnyIBiZ4FID+Mn5PewjGudDQi3+i\\u002fDh3CbnbMrSuNrgnJt0OYauCFnOquaiR8BXYId\\u002fi30CLFkiri8dVXXxmJARARHHaWSHFxMZ588kn63jfffDNt+9Zbb9G2rID4\\u002fX588skn7G2plz5RPhKQ6CkEmdHxicGxTXcP90UPw8ZHBl7IMIOsqbcNvBAA+KuvntH42J\\u002fCxbgjsNlowuDhSBXxWL16Nc4991w6NgEAvXv3prvuAsArr7yCnTu5WFWTJk1w\\u002fvnnU7b79++ne2rVr18fXbt2pWwXLFhAZ6EBmMMaisMjAYkN1BvNqnAxdpLeQl83P+Z1RiiP3oJPd1dFY9K7OWAH8UaQLspCbcuLO71mR1lfhw7hgcC2qCUkGvHo2LFjXGIeTsRj27Zt6N27Nz0VEACqV6+Ol19+mbbPy8szmtF+ww030MHzSZMmwe\\u002fnTo8GDRoEl4vbotg+XQA2AuAGsItykYDEBuqNxgbvhbR0pf9f\\u002fUN55Ib9dJqwCxZGGmRNvVO6FztI0QOAfp5sOlhfxuxgHh4PbDe65tdEKx7z58\\u002fHUUdxac5lRCMeV199tSPxyMvLQ58+fUwyjQAA48ePR5MmTWj7Rx55hI591KhRA1dffTV9b5OakhEjRlB2wWDQpFMwV3wiKCQgsWEFIm825cK2CgGAcz28FzLJoHajnyebzpoKwMazhmm3d\\u002fnqo75BVhYQSTJgOwz\\u002fmmQUj5dfftlYPAoLCzFgwAC6oWEZQ4YMwWWXXUbbb9iwAePHj6ftb7nlFjqusnDhQvz3v\\u002f+lbNu1a0fPVF+0aBEteAD4rANRLhKQ2GADoKqtfggXYQ9Zld7HnU2Pef0yVIDNZFaT29ALmRvKx1ekhwNEJv49mdaIfvbu7mp4LK0R3W6ljFQSj759++KLL74wuq5Vq1Z47bXXjK658cYb6SOm7Oxs3HTTTfS9\\u002f\\u002fGPf9C2rPcBAFOnTmVNDwDgG3CJcpGAxI4pjFEYNj4k52NUt9w4k8xsCgOYVMp7IQM82XQ3XQAYG9huVEHexpWBvxKpvWXi4alE8TjppJOSTjxM18zKysK0adOMmjG+9957mDVrFm1\\u002f2223oXp17rhy3bp1+PDDDylbn8+HSy65hLL1+\\u002f149913KVsA0wFUTO54iiIBiR1LAKxjDGeE+Kypi7x8YPc\\u002fwQPYR3o3bli4xWD631Y7gJdKuXGmZVzoqYFLD5P1FS\\u002fxmDdv3hEtHi6XCxMmTDCaIZ6fn2+Uilu\\u002ffn3cdttttP24cePoGe2DBg1CrVqch\\u002fzBBx+YjK\\u002flerIIGglIbKE+oLlhP92ht4MrC23IYHoJwpgYpM+CcYa7Kjob9N6aWLoX34cKaXsAuNVXD2f9gRcVD\\u002fFo37495s6dayweTluyA8DIkSMdBcyjWfPxxx83KsADIplU7BhcIBJoz8riaop27NiBN998k753BdWU7AVAF4oIDglIbKGOsQDgA4MxrxcZTP+bUrofBwzmbtzirUPHHsIAHghsM6oNcQF4NK3hb8bUxsvz+OSTTxyl6jppyQ4Ao0aNwquvvkqnosZizeuvvx6333670TXvvfce3nnnHdq+Xbt2GD58OG0\\u002fduxYFBdzXZhPOeUUdO7cmbLdvn073RIewH8A8OmEgkICElt++OVfucwN5aOIjCn09mSjBjl3oxhhTDTIyGrtyjAaT7vdDuCRUrOU23S48GxapC17PMSjU6dOmD9\\u002fPj3\\u002fooxojq1GjRqFV155pdKOrQBg+PDheO6554yu2bZtG6655hra3rIsPP\\u002f887Qo7tixwyh118T7mDhxIkIhruknAG4iljBCAhJ7XmeMCu0wZpBeiA+WUQX5pNJ92GVQu3GDtw5qW17afnYwz6jZIgBUsdx4Oa1pXMRj3rx5lS4elRnzAIALL7wQr7\\u002f+upG3U1paiiFDhpjEEDBy5EicdtpptP2jjz6KkhLu79a0aVP66C0YDOKll15iH+NnAGYpbIJCAhJ7JiLS7bNcJpfup\\u002fOahnlyUI1sE1KCMJ43mP6XZbmojKlf83RgB1YaDIcCgGqWu1LFo0OHDpgzZ46xeEQTf7jyyivx8ssvGx9bRbPmwIEDMWnSJHoSYBm33347vvqK72pes2ZNjB07lrb\\u002f+eefjbr53nnnnfTP8P7775sUVL4GxKhfjvgNEpDYkw+ASkzfZPvxFdlgMctyGU3\\u002fmxXMw2qDTbe7uxp6GlSQB2Djdv9muqbFCdGIR+fOnbFgwYJKjXlcddVVlR7zGDhwICZPngyvl\\u002fcggUhLEdPjrueee85orO+YMWNQWsp5wo0aNcIVV1xh9CwkAej4qsKQgFQM9KHvvw3iFRd7cuhmhWEA40r5rBoAuNtXH7XIWAsA7LJLcbN\\u002fEz3UyoRoPY\\u002fZs2dXuufxyiuvVLrn4UQ8Fi9ejKuuusp4rWHDhtH2n332mUl7Edx5553w+bjuBUuXLjUpqvwAkfnnogKQgFQMXwBYxRh+EzqEdeQmWdVy4xIDL+S7UCFmG3TqrW658TdfQ6NDpp\\u002fCxbjLv8VRG5I\\u002fQ55H+TgVj\\u002fXr16Nfv34oKuLSyIHIqFqTQHgwGDQay9ugQQOMHDmSth83bhxti8jxlaggJCAVB9W3wQbwWinf8fYyT03kGHgJT5fuxEFyPC0AnOKuYhSwB4DPQgV4OLA9JhISrXhUdsD8qquucuR5RLOmU\\u002fHYvXs3+vXrRw9zAiJFiW+++aaRID\\u002f33HNYtmwZbf\\u002fAAw8gLY3rirB+\\u002fXpMnjyZvfUKAPSUKWEOP7xBmLIKwFUAyq3U22j70d1djUrV9VkWsiwXPcq2GGEcQhinu\\u002fmWFl3cVfB9qJBuPQ8Aq8MlyLdDOM1gnf8l2t5W0RQJfvbZZ8ZrXnnllfjnP\\u002f\\u002fp+NjKyZpOxSM\\u002fPx89e\\u002fbEypUrja679957jY67tmzZgsGDB9OzSlq3bm30O7zjjjuwZAk9jfYOAFz3RuEICUjFEQKQCeCs8gxtAIUI0xP9jnWl45NQAfaTAezV4WJ0dldBPTJV1wULXd1V8FEoHyUG8Y2V4WI0daWhhSudvqaMWDRGND22KioqQv\\u002f+\\u002fR0dummYlgAAD5RJREFUIV155ZWOjq2iWdOpeBQVFaFv37749ttvja47++yzjVODL7\\u002f8cqOOwe+88w6OOeYYynbTpk0YNWoUW\\u002fuxFcDViHwPRQWhI6yK5QVEJhaWy5xgPjbZXBdUFyzcatDHKgzgfv9WunARAOpYXoz1NYTbICLS3V0N5xiMtS0jGvHo0qULFixY4Ki3ldP4w8iRI5Mm5lG2pmkn30aNGmHy5Mn0oCgAmDx5slHgvGfPnujVqxdt\\u002f8gjj5hMYRwHNU6scOSBVCzFAOoDKLc3gw2gAGGcTW7AjVw+rA4XYxPZwv0gQjhgB3GGwQbf0OVDDctDzXKPR4V5165dMXfuXLojbBnRxB9Gjhzp6NgqHjGPaDr5zpkzBy1atKCv2bp1K\\u002fr3708XDXq9XkyfPh21a9em7HNzc3HVVVex3sdBAMMBcG9kwjHyQCqeJ0G+Cc0K5uFHg+K8O331kWnwJ3w\\u002feAALDOayA8CgcjrqAvERj44dO2LWrFnG4hFtqm40MY\\u002fKFA+na7pcLrzzzjvo2LEjfY1t2xg1ahQOHOD7u91222047rjjaPu7777bxPv4ByL1WKKCkQdS8eQj4oV0Yow32wGc6+GOY6pYbvgsC18bDHv6PlyIvp5sZFn8JtjVXQVrwn7k\\u002fsERW7w8j2h6WzkNmDs9tnK6ZrSeh5M1n3nmGaNhTkAk6+r555+n7Zs1a4Z3332X\\u002frm+++473HLLLezt8wAMA2D+wRLGyAOpHB5C5DirXL4PFeJTAy\\u002fhEk8OPTsdAPbbQdzu34xSg6RbFyw8ltYQndy\\u002fbd+dKsdW0YpHMhxbAcCtt95qslEDiBQljhkzxuiaF154AZmZmbT9X\\u002f7yF9g2\\u002fXl9EpHJg6ISkIBUDjsA\\u002fJM1frZ0F4LkBu+Chft89Y028eXhIowP8L2yACANLozzNcHxv4hVPMTj5JNPxty5c+kZ3GVIPMpn1KhRePrpp42u2bdvHwYPHkyPwAUiM9r79OlD20+fPt0kAWAvAH6gu4gaHWFVHksAXAug3H4NeXYI1S0PTnBxb2m1LC8sWFgc5oc9rQgXobkrHUcbjLX1WRa6u6sDVqTtSWWLx5w5cyQeFbDmsGHD8MYbbxj9nOFwGIMGDTKpyUDdunXx4Ycf0t5HSUkJBg4caNIt+H4An9IPJKJGHkjlsQcA3QHupdJdRoV8V3pr0oIDRLK+\\u002fhbYijWGm3k1y42bvXUlHhWwZjzEY+DAgXj77beNf84HH3wQc+bMoe0ty8Lrr79u1Ixx7NixWLeOmhINAFsAvEjfXMQEs11AREsVRGYT1GeMz3JXwzNpjembb7UDGFqyzmhiYC3Lg4npzVHHYB6IKfEQj2gK9q644gq89tprSVMkWNlrTpkyBUOHDjWJS+C6667DCy+8QNuvWbMG7dq1o9OCAVwMYBK9gIgJOsKqXAIA9gE4nzHOtf041pWOpuQxUzXLjRqWB5+RbU4AoAhhLAkXoa8nG94KeJ+IRjxOOeWUqDwPJ1lITsUj2bKtnK75xRdf4IILLkAwyLfxP+aYYzB16lS6265t2xgyZIiJ9\\u002fE1gNvoBxIxQ0dYlc8EAN+xxo8Hdhh5FOd7jsIAj1l6a0V01AWiF4\\u002fZs2c78jyc1lxE43kkS51HNGtu2LABAwcONAqap6enY9KkScjKyirf+BcmTJhg4lHZAG6BBkbFBXkg8WEVgCtBHCEeQhgHETJqhniquyq+DB3CXoNhT5vsALbZpTjTXS0mfog8j\\u002fJJJs9jx44d6N69O7Zu3Wp03auvvmqUdbVz505ccMEFJu3mJyLSMkjEAQlIfNgKoAWAExjjH8PFaOPKQBPyKMsNC53dVfBhKA8BgxezteES5NlBdIuioy4QX8+jMsUjHl1147Hm3r170b17d\\u002fz8889G11199dW47777aHvbtnHxxRfjhx9+YC8pADDwl\\u002f8VcUACEj8+BzACAOXbLw4XYoAnGxlkBXl1y41mrjTMD+Ub+farwsUIwEYXd7ld6P+QeHge0QSSR4wYYdxxNto1kylgfvDgQfTs2RP\\u002f\\u002fa9ZV\\u002fR27dph6tSpRuu9\\u002fPLLpsOibgewwOjBREyRgMSPIgC7AFzAGBcjjM12AL08fAV2U1ca0uDCt2G+1QkA5FgenOOpBqsSU3VPPfVUzJkzB1Wrmnk\\u002f0RznOBWPVDm2Klvzm2++MbquXr16WLBggVHK7tq1a3HhhRfSM9QBLAZwDRT7iCsSkPiyHEBHAK0Y41zbj7qWF8catC450Z2JPXYpfiI39bIKc5M27kD04jF79mzH4uEkkByteCRTnUc0a37++edG12VlZWHevHlo3bo1fU0wGMSAAQOwceNG+hIA5wHYbvRwIuYoCyv+3ACAdhHGBrbjJ4OOvQBwl68+uhJHUvFoT1IW8zAVj2iykKI5tkqFbKvK7OQLAHfddZfpsKsnAfAzc4U4wrkBEVec+tfI8tmLMlrbyzKPo\\u002f99ntHabulK\\u002f9N7dndXsxdntjW657LM4+xPMo497H0P9+\\u002fUU0+1Dx48aJtSWFhon3XWWY7WHDFihB0KhSp1zYEDB9qBQOCIX3PcuHHG633wwQe2ZVkm66wGwLvgokLREVZisBiRoyxqtudBhLDe9qO3J5v2FXyWC93d1bAoXIA8+7dDeeLheTg9tlLAPDHXvOWWW\\u002fC3v\\u002f3N6Jq1a9eib9++JtXmpQAGANhk9nSiopCAJA4LAFyGSLuTctlkB5AGC+3dfIFWhuXCme5qWBgqQMEvo6JTRTyGDh2Kt956y2hEa7Rrpop4XHfddXjuObrNGwCguLgYffr0QW5ursllYwBMNVpIVCgSkMShEJECw0tA9ihbHC7Cca4MNDboqFvFcuM0TxXMDx3EKe4qlS4e3bp1iypg7iQL6fLLL8eECROMxSPVsq2c\\u002fm5feeUVWBb\\u002fGbJtGyNGjMD8+fNNlpqP\\u002f3\\u002fUKxIECUhisQ5AbZDTC20An4ULcJq7KnIsD71ItuXB2Z5qON9zVKWLx6xZs1ClilmNSTRZSJdffrlxq\\u002fJo10zGbCsnaw4aNAgTJ040FuYHH3zQaIIhIp2se0EFgwmHuvEmHhmINIdrx15QGR11geQ8tnrnnXd0bJVAa7777rsYNmyYSSffMIC+AOYaPqIQKUsTRKar0dkpx7rS7S8z2xhnUR2p2VZDhw61g8Fgpa6ZKtlWTtdctGiRnZaWZrrePfS3Rgjxf\\u002fRApGCK\\u002frKd7q5qf+8gFbcixeP000+3CwoKjDebQ4cO2aeffrqjNYcPH+4oVTeaNZ1uqqmy5s8\\u002f\\u002f2zn5OSYrvcBdEoihGMegOEX\\u002fBx3NXtJDEUkGvE47bTT5HloTXvLli1206ZNTddbA4Dv2yOE+B0uAB\\u002fC8It+rucoe6nEo1LWTKaNPB5r7t69227durXpegUA2pLfESHEYagK4AeYbqaenLiKh5Njq2jFo7S0tFLXTKaNPB5r5uXl2R06dDBdr6zPlRAiRtQHsAWGX\\u002fxR3loSjwpaM5k28nitedpppzlZ8wbyOyGEMKA9Iq690RdyhLemxCPGaybbRp5Eaz5JfheEEA7og0g\\u002fIKMv5iBPDXvJESgeF110kcTjyFlzJlTYLESFMxqR4iqjL2g\\u002fT\\u002fZhU3yjEY9u3bpJPLRmNGt+BnXYFaLSuBkONoYe7ur2t38gIhKPhNxUU2XNZQCyuY+9ECJW\\u002fA0ONogTXJn2wl\\u002fNEpF4JOSmmiprLgeQQ33ahRAx5zE42CgaWT57RsYxEo\\u002fE3FRTZc21AOpxH3MhREVgAXgBDjaMmpbHbu4y7ksk8dCasVhzI4DG1CdcCFGhWACegoONw8k\\u002fiYfWjHLNTQCaUZ9sIUSlMQYSj5ismSIbucRDCPEb\\u002fooKEg+nXXUlHloTEg8hkoZrYNgGvrx\\u002f8RCPIUOGSDyOnDU3IjLjRgiRBPQEcBASj0TeVFNlTXkeQiQhnQDsQpTicejQoUrd4CQeR9SaEg8hkphzIPFItE01VdbcCB1bCZG0NAawARKPRNpUU2VNeR5CJDESj8TbVFNlTYmHEEmMY\\u002fHo0aOHXVRUVKkbnMTjiFpT4iFEEiPxSLxNNVXWlHgIkcRIPBJvU02VNSUeQiQxEo\\u002fE21RTZU2JhxBJjMQj8TbVVFlT4iFEEuNYPHr27Cnx0JoSDyFSlKQSj8GDB0s8jpw1JR5CJDESj8TbVFNlTYmHEElMVOJRXFxcqRucxOOIWlPiIUQSI\\u002fFIvE01VdaUeAiRxEg8Em9TTZU1JR5CJDESj8TbVFNlTYmHEEmMY\\u002fHo1auXxENrSjyESFEkHom3qabKmhIPIZIYiUfibaqpsqbEQ4gkJqnEY9CgQRKPI2dNiYcQSYzEI\\u002fE21VRZU+IhRBLjWDx69+4t8dCaEg8hUhSJR+JtqqmypsRDiCRG4pF4m2qqrCnxECKJkXgk3qaaKmtKPIRIYiQeibeppsqaEg8hkhiJR+JtqqmypsRDiCRG4pF4m2qqrCnxECKJcSweffr0iYt4pMCmmiprSjyESGIkHom3qabKmhIPIZIYiUfibaqpsqbEQ4gkJirxKCkpqdQN7sILL0yFTTVV1pR4CJHESDwSb1NNlTUlHkIkMRKPxNtUU2VNiYcQSYzEI\\u002fE21VRZU+IhRBLjWDz69u0r8dCaEg8hUhSJR+JtqqmypsRDiCRG4pF4m2qqrCnxECKJkXgk3qaaKmtKPIRIYiQeibeppsqaEg8hkhjH4tGvX79KF48U2VRTZU2JhxBJjMRDa0o8hBDGSDy0psRDCGGMxENrSjyEEMZIPLSmxEMIYYxj8UiRDU5rVtyaEg+RcFjxfoAkojGAT+HgS+xyuXDuuefC6\\u002fUaL7p69WqsWLHC+Lp4rOn1enHppZc6WnPJkiVYsmSJ8XXVqlXDHXfc4WjNmTNn4ssvvzS+Lg4\\u002f52YAZwLYaLygEBWIBITDsXgIESUSD5GwSEDKR+Ih4oXEQyQ0EpDDI\\u002fEQ8ULiIRIeCcifI\\u002fEQ8ULiIZICCcgfI\\u002fEQ8ULiIZIGCcjvkXiIeCHxEEmFBOS3SDxEvJB4iKRDAvL\\u002fkXiIeCHxEEmJBCSCxEPEC4mHSFokIBEyAKTH+yFESlIMoCTeDyGEEEIIIYQQQgghhBBCCCGEEEIIIYQQQgghhBBCCCGEEEIIIYQQQgghhBBCCCGEEEIIIYQQQgghhBBCCCGEEEIIIYQQQgghhBBCCCGEEEIIIYQQQgghhBBCCCGEEEIIIYQQQgghhBBCCCGEEEIIIYQQQgghhBBCCCGEEEIIIYQQQgghhBBCCCGEEEIIIYQQQgghhBBCCCGEEEIIIYQQQgghhBBCCCGEEEIIIYQQQgghhBBCCCGEEEIIIYQQQgghhBBCCCGEEEIkGf8Pb7x5OtT4kw4AAAAASUVORK5CYII=\",\"x\":9.1,\"xref\":\"x\",\"y\":33.09805962528415,\"yref\":\"y\"}],\"xaxis\":{\"title\":{\"text\":\"AtRimAssists\"},\"showline\":false,\"gridcolor\":\"#f2f5fa\",\"showgrid\":false,\"range\":[9.009,9.373]},\"yaxis\":{\"title\":{\"text\":\"AtRimFrequency\"},\"showline\":false,\"gridcolor\":\"#f2f5fa\",\"showgrid\":false,\"range\":[32.27060813465204,33.59453051966341]},\"title\":{\"text\":\"2025 RS - Last 10 Games\\u003cbr\\u003eAtRimFrequency vs AtRimAssists Per 100\",\"x\":0.5},\"font\":{\"family\":\"Malgun Gothic\",\"size\":20,\"color\":\"white\"},\"width\":1225,\"height\":875,\"autosize\":true,\"paper_bgcolor\":\"#1a1a1a\",\"plot_bgcolor\":\"#FAFAFA\",\"annotations\":[{\"showarrow\":false,\"text\":\"@GabeLeftBrain\",\"x\":8.6,\"y\":33.09805962528415}]},                        {\"responsive\": true}                    ).then(function(){\n",
       "                            \n",
       "var gd = document.getElementById('d3402147-2931-403e-9eec-3fed7e9c4466');\n",
       "var x = new MutationObserver(function (mutations, observer) {{\n",
       "        var display = window.getComputedStyle(gd).display;\n",
       "        if (!display || display === 'none') {{\n",
       "            console.log([gd, 'removed!']);\n",
       "            Plotly.purge(gd);\n",
       "            observer.disconnect();\n",
       "        }}\n",
       "}});\n",
       "\n",
       "// Listen for the removal of the full notebook cells\n",
       "var notebookContainer = gd.closest('#notebook-container');\n",
       "if (notebookContainer) {{\n",
       "    x.observe(notebookContainer, {childList: true});\n",
       "}}\n",
       "\n",
       "// Listen for the clearing of the current output cell\n",
       "var outputEl = gd.closest('.output');\n",
       "if (outputEl) {{\n",
       "    x.observe(outputEl, {childList: true});\n",
       "}}\n",
       "\n",
       "                        })                };                });            </script>        </div>"
      ]
     },
     "metadata": {},
     "output_type": "display_data"
    }
   ],
   "source": [
    "\n",
    "import pandas as pd\n",
    "import requests\n",
    "import plotly.graph_objects as go\n",
    "import math\n",
    "from scipy import stats\n",
    "import string\n",
    "import numpy as np\n",
    "import time\n",
    "from scipy.stats import zscore\n",
    "import sys\n",
    "import os\n",
    "import glob\n",
    "import statsmodels.api as sm\n",
    "\n",
    "from nba_api.stats.static import players,teams\n",
    "\n",
    "start_time = time.time()\n",
    "directory = \"data/2025\"\n",
    "\n",
    "# Use glob to find all CSV files in the directory\n",
    "csv_files = glob.glob(os.path.join(directory, \"*.csv\"))\n",
    "import pandas as pd\n",
    "import plotly.graph_objects as go\n",
    "import statsmodels.api as sm\n",
    "from nba_api.stats.static import teams\n",
    "\n",
    "def column_map2():\n",
    "    column_mapping = {\n",
    "    \"POINTS\": \"POINTS\",\n",
    "    \"True Shooting\":\"TS_PCT\",\n",
    "    \"FGA\": \"FGA\",\n",
    "    \"3PT Attempt\": \"FG3A\",\n",
    "    \"AST\": \"AST\",\n",
    "    \"FTA\": \"FTA\",\n",
    "    \"OREB\": \"OREB\",\n",
    "    \"DREB\": \"DREB\",\n",
    "    \"REB\": \"REB\",\n",
    "    \"TOV\": \"TOV\",\n",
    "    \"STL\": \"STL\",\n",
    "    \"BLK\": \"BLK\",\n",
    "    \"Net Rating\": \"NET_RATING\",\n",
    "    \"Offensive Rating\":\"OFF_RATING\",\n",
    "    \"Defensive Rating\":\"DEF_RATING\",\n",
    "    \"Usage\":\"Usage\",\n",
    "    \"DRIVES\": \"DRIVES\",\n",
    "    \"Drive Points\": \"DRIVE_PTS\",\n",
    "    \"Pull Up Points\": \"PULL_UP_PTS\",\n",
    "    \"Catch and Shoot Points\": \"CATCH_SHOOT_PTS\",\n",
    "    \"3PT%\": \"FG3_PCT\",\n",
    "\n",
    "    \"Catch and Shoot FGA\": \"CATCH_SHOOT_FGA\",\n",
    "    \"Pull Up FGA\": \"PULL_UP_FGA\",\n",
    "    \"Pull Up eFG%\": \"PULL_UP_EFG_PCT\",\n",
    "\n",
    "    \"Pull Up FG3A\":\"PULL_UP_FG3A\",\n",
    "    \"Catch and Shoot FG3A\"   :\"CATCH_SHOOT_FG3A\",\n",
    "\n",
    "    \"Very Tight 3PT Attempt\": \"very_tight_FG3A\",\n",
    "    \"Tight 3PT Attempt\": \"tight_FG3A\",\n",
    "    \"Open 3PT Attempt\": \"open_FG3A\",\n",
    "    \"Wide Open 3PT Attempt\": \"wide_open_FG3A\",\n",
    "    \"Very Tight 3PT Attempt %\": \"very_tight_FG3_PCT\",\n",
    "    \"Tight 3PT Attempt %\": \"tight_FG3_PCT\",\n",
    "    \"Catch and Shoot EFG%\": \"CATCH_SHOOT_EFG_PCT\",\n",
    "    \"Open 3PT%\": \"open_FG3_PCT\",\n",
    "    \"Wide open 3PT%\": \"wide_open_FG3_PCT\",\n",
    "\n",
    "    \"Opponent Very Tight 3PT Attempt\": \"opp_very_tight_FG3A\",\n",
    "    \"Opponent Tight 3PT Attempt\": \"opp_tight_FG3A\",\n",
    "    \"Opponent Open 3PT Attempt\": \"opp_open_FG3A\",\n",
    "    \"Opponent Wide Open 3PT Attempt\": \"opp_wide_open_FG3A\",\n",
    "    \"Opponent Very Tight 3PT Attempt %\": \"opp_very_tight_FG3_PCT\",\n",
    "    \"Opponent Tight 3PT Attempt %\": \"opp_tight_FG3_PCT\",\n",
    "    \"Opponent Catch and Shoot EFG%\": \"opp_CATCH_SHOOT_EFG_PCT\",\n",
    "    \"Opponent Open 3PT%\": \"opp_open_FG3_PCT\",\n",
    "    \"Opponent Wide open 3PT%\": \"opp_wide_open_FG3_PCT\",\n",
    "        \n",
    "    \"Contested Rebounds\":\"REB_CONTEST\",\n",
    "    \"Adjusted OREB Chance %\": \"OREB_CHANCE_PCT_ADJ\",\n",
    "    \"Adjusted DREB Chance %\": \"DREB_CHANCE_PCT_ADJ\",\n",
    "    \"Potential Assist\": \"POTENTIAL_AST\",\n",
    "    \"Freethrow Assist\": \"FT_AST\",\n",
    "    \"Made Passes\": \"PASSES_MADE\",\n",
    "    \"Passes Received\": \"PASSES_RECEIVED\",\n",
    "    \"Touches\": \"TOUCHES\",\n",
    "    \"Average Seconds Per Touch\": \"AVG_SEC_PER_TOUCH\",\n",
    "    \"Average Dribble Per Touch\": \"AVG_DRIB_PER_TOUCH\",\n",
    "    \"Time Of Possession\": \"TIME_OF_POSS\",\n",
    "    \"AtRimFG3AFrequency\": \"AtRimFG3AFrequency\",\n",
    "    \"LiveBallTurnovers\": \"LiveBallTurnovers\",\n",
    "    \"BadPassTurnovers\": \"BadPassTurnovers\",\n",
    "    \"Travels\": \"Travels\",\n",
    "    \"BadPassSteals\": \"BadPassSteals\",\n",
    "     \"Offensive Fouls Drawn\":\"Offensive Fouls Drawn\",\n",
    "    \"LiveBallTurnoverPct\": \"LiveBallTurnoverPct\",\n",
    "    \"Charge Fouls Drawn\": \"Charge Fouls Drawn\",\n",
    "    \"AtRimPctAssisted\": \"AtRimPctAssisted\",\n",
    "    \"BlockedAtRim\": \"BlockedAtRim\",\n",
    "    \"AtRimAssists\": \"AtRimAssists\",\n",
    "    \"SecondChanceAtRimFGA\": \"SecondChanceAtRimFGA\",\n",
    "    \"AtRimFGA\": \"AtRimFGA\",\n",
    "    \"AtRimAccuracy\": \"AtRimAccuracy\",\n",
    "    \"SecondChanceFG2A\": \"SecondChanceFG2A\",\n",
    "    \"PtsUnassisted2s\": \"PtsUnassisted2s\",\n",
    "    \"PtsUnassisted3s\": \"PtsUnassisted3s\",\n",
    "    \"ABOVE_BREAK_3_FGA\": \"ABOVE_BREAK_3_FGA\",\n",
    "    \"ABOVE_BREAK_3_FG_PCT\": \"ABOVE_BREAK_3_FG_PCT\",\n",
    "    \"AtRimFrequency\": \"AtRimFrequency\"\n",
    "    \n",
    "    }\n",
    "\n",
    "    return column_mapping\n",
    "import plotly.graph_objects as go\n",
    "import pandas as pd\n",
    "import base64\n",
    "import cairosvg\n",
    "import io\n",
    "import statsmodels.api as sm\n",
    "def team_graph_scatter_games_back(column1, column2, year, games_back=10, ps=False, mpg=10, gp=1, selected_rate='Per 100', team=None, team_list=[], remap={}):\n",
    "\n",
    "    nba_team_logos ={'ATL': 'nba_team_logos/atl.svg', 'BOS': 'nba_team_logos/bos.svg', 'BKN': 'nba_team_logos/bkn.svg', 'CHA': 'nba_team_logos/cha.svg', 'CHI': 'nba_team_logos/chi.svg', 'CLE': 'nba_team_logos/cle.svg', 'DAL': 'nba_team_logos/dal.svg', 'DEN': 'nba_team_logos/den.svg', 'DET': 'nba_team_logos/det.svg', 'GSW': 'nba_team_logos/gsw.svg', 'HOU': 'nba_team_logos/hou.svg', 'IND': 'nba_team_logos/ind.svg', 'LAC': 'nba_team_logos/lac.svg', 'LAL': 'nba_team_logos/lal.svg', 'MEM': 'nba_team_logos/mem.svg', 'MIA': 'nba_team_logos/mia.svg', 'MIL': 'nba_team_logos/mil.svg', 'MIN': 'nba_team_logos/min.svg', 'NOP': 'nba_team_logos/nop.svg', 'NYK': 'nba_team_logos/nyk.svg', 'OKC': 'nba_team_logos/okc.svg', 'ORL': 'nba_team_logos/orl.svg', 'PHI': 'nba_team_logos/phi.svg', 'PHX': 'nba_team_logos/phx.svg', 'POR': 'nba_team_logos/por.svg', 'SAC': 'nba_team_logos/sac.svg', 'SAS': 'nba_team_logos/sas.svg', 'TOR': 'nba_team_logos/tor.svg', 'UTA': 'nba_team_logos/uta.svg', 'WAS': 'nba_team_logos/was.svg'}\n",
    "\n",
    "    # File path adjusted for game logs\n",
    "    trail = 'ps' if ps else ''\n",
    "    file_path = 'https://raw.githubusercontent.com/gabriel1200/player_sheets/refs/heads/master/game_report/'\n",
    "    url='https://raw.githubusercontent.com/gabriel1200/player_sheets/refs/heads/master/game_report/'+str(year)+'_all_team_logs.csv'\n",
    "    url2='https://raw.githubusercontent.com/gabriel1200/player_sheets/refs/heads/master/game_report/'+str(year)+'_all_team_logs_vs.csv'\n",
    "\n",
    "    print(url)\n",
    "    df =pd.read_csv(url)\n",
    "    df['ortg']=100* df['Points']/df['OffPoss']\n",
    "    df2 =pd.read_csv(url2)\n",
    "    df2['ortg']=100* df2['Points']/df2['OffPoss']\n",
    "    df2.columns=['opp_'+col for col in df2.columns]\n",
    "    df['GAME_DATE']=df['Date']\n",
    "    df2.rename(columns={'opp_GameId':'GameId'},inplace=True)\n",
    "    df=df.merge(df2,on='GameId')\n",
    "    print(df)\n",
    "    df['TEAM_ABBREVIATION']=df['team']\n",
    "    df['TEAM_NAME']=df['team']\n",
    "    # Group by team and sort by game date\n",
    "    df_grouped = df.groupby('TEAM_ABBREVIATION').apply(\n",
    "        lambda x: x.sort_values('GAME_DATE', ascending=False).head(games_back)\n",
    "    ).reset_index(drop=True)\n",
    "    print(df_grouped)\n",
    "    # Calculate means for the specified columns\n",
    "    df = df_grouped.groupby('TEAM_ABBREVIATION').agg({\n",
    "        column1: 'mean', \n",
    "        column2: 'mean',\n",
    "        'OffPoss': 'mean'\n",
    "    }).reset_index()\n",
    "    df['TEAM_NAME']=df['TEAM_ABBREVIATION']\n",
    "    bg_color = '#1a1a1a'\n",
    "    # Drop missing data and calculate MPG\n",
    "    df.dropna(subset=[column1, column2], inplace=True)\n",
    "\n",
    "\n",
    "    # Set default dot size and color\n",
    "    df['size'] = 10\n",
    "    dot_color = '#3e8989'\n",
    "    dot_color_highlight = '#ffdb58'\n",
    "    df['color'] = dot_color\n",
    "\n",
    "    # Adjust percentages if applicable\n",
    "    if any(keyword in column1.lower() for keyword in ['freq', 'accur', 'pct', '%']):\n",
    "        df[column1] *= 100\n",
    "    if any(keyword in column2.lower() for keyword in ['freq', 'accur', 'pct', '%']):\n",
    "        df[column2] *= 100\n",
    "\n",
    "    print(df)\n",
    "\n",
    "\n",
    "    # Highlight specific team\n",
    "    df['opa'] = 0.6  # Default opacity\n",
    "    if team:\n",
    "        df.loc[df['TEAM_ABBREVIATION'] == team, 'color'] = dot_color_highlight\n",
    "        df.loc[df['TEAM_ABBREVIATION'] == team, 'size'] = 25\n",
    "        df.loc[df['TEAM_ABBREVIATION'] == team, 'opa'] = 1\n",
    "\n",
    "    # Highlight specific teams in team_list\n",
    "    if team_list:\n",
    "        dot_color_team = '#ff7f7f'\n",
    "        df.loc[df['TEAM_ABBREVIATION'].isin(team_list), 'color'] = dot_color_team\n",
    "        df.loc[df['TEAM_ABBREVIATION'].isin(team_list), 'size'] = 30\n",
    "        df.loc[df['TEAM_ABBREVIATION'].isin(team_list), 'opa'] = 1\n",
    "\n",
    "    # Title setup\n",
    "    pstring = 'Playoffs' if ps else 'RS'\n",
    "    title_text = f\"{year} {pstring} - Last {games_back} Games<br>{remap.get(column2, column2)} vs {remap.get(column1, column1)} {selected_rate}\"\n",
    "\n",
    "    # Hover text for teams\n",
    "    hover_text = (\n",
    "        \"Team: \" + df[\"TEAM_NAME\"] +\n",
    "        f\"<br>{column1}: \" + df[column1].round(1).astype(str) +\n",
    "        f\"<br>{column2}: \" + df[column2].round(1).astype(str)\n",
    "    )\n",
    "    # Set axis ranges\n",
    "    x_min, x_max = df[column1].min(), df[column1].max()\n",
    "    y_min, y_max = df[column2].min(), df[column2].max()\n",
    "    x_min_adjusted = x_min * 0.95\n",
    "    x_max_adjusted = x_max * 1.05\n",
    "    \n",
    "    y_min_adjusted = y_min * 0.95\n",
    "    y_max_adjusted = y_max * 1.05\n",
    "    \n",
    "    # Calculate the axis ranges\n",
    "    x_range = abs(x_max_adjusted) - abs(x_min_adjusted)\n",
    "    y_range = abs(y_max_adjusted) - abs(y_min_adjusted)\n",
    "    \n",
    "    # Set logo size relative to axis range (e.g., 2% of the x and y axis range)\n",
    "    logo_size_x = x_range * 0.06  # Adjust this percentage as needed (e.g., 2%)\n",
    "    logo_size_y = y_range * 0.06  # Adjust this percentage as needed (e.g., 2%)\n",
    "    \n",
    "\n",
    "    # Scatter Plot\n",
    "    fig = go.Figure()\n",
    "    fig.add_trace(go.Scatter(\n",
    "        x=df[column1],\n",
    "        y=df[column2],\n",
    "        mode='markers',\n",
    "        hovertext=hover_text,\n",
    "        textposition=\"bottom center\",\n",
    "        showlegend=False,\n",
    "        marker=dict(\n",
    "            color='#FAFAFA',\n",
    "            opacity=df['opa'],\n",
    "            line=dict(color='black', width=2),\n",
    "            size=df['size']\n",
    "        ),\n",
    "\n",
    "    ))\n",
    "\n",
    "    # Add team logos as images (SVG converted to PNG for markers)\n",
    "    for i, row in df.iterrows():\n",
    "        team_abbr = row['TEAM_ABBREVIATION']\n",
    "        logo_url = nba_team_logos.get(team_abbr)\n",
    "        if logo_url:\n",
    "            logo_svg = cairosvg.svg2png(url=logo_url)\n",
    "            encoded_image = base64.b64encode(logo_svg).decode()\n",
    "\n",
    "            fig.add_layout_image(\n",
    "                dict(\n",
    "                    source=\"data:image/png;base64,\" + encoded_image,\n",
    "                    x=row[column1],\n",
    "                    y=row[column2],\n",
    "                    xref=\"x\",\n",
    "                    yref=\"y\",\n",
    "                    sizex=logo_size_x,\n",
    "                    sizey=logo_size_y,\n",
    "                    opacity=0.9,\n",
    "                    layer=\"above\"\n",
    "                )\n",
    "            )\n",
    "\n",
    "    fig.update_xaxes(title_text = remap[column1],showline=False,  gridcolor='#f2f5fa' ,showgrid=False)\n",
    "    fig.update_yaxes(title_text = remap[column2],showline=False,gridcolor='#f2f5fa',showgrid=False)\n",
    "    y=df[column2]\n",
    "    x=df[column1]\n",
    "    X = sm.add_constant(x)  # Adds a constant term to the predictor\n",
    "    model = sm.OLS(y, X).fit()\n",
    "    trendline = model.predict(X)\n",
    "\n",
    "    trendline_plot = go.Scatter(\n",
    "        x=x,\n",
    "        y=trendline,\n",
    "        mode='lines',\n",
    "        name='Trendline',\n",
    "        line=dict(color='purple'),\n",
    "        showlegend=False\n",
    "    )\n",
    "\n",
    "    fig.add_trace(trendline_plot)\n",
    "    # Adjust x-axis range\n",
    "    if x_min < 0 and x_max > 0:  # Range crosses zero\n",
    "        x_start = x_min * 1.02  # Expand negative side slightly\n",
    "        x_end = x_max * 1.03    # Expand positive side slightly\n",
    "    elif x_min >= 0:  # Entirely non-negative range\n",
    "        x_start = x_min * 0.99  # Shrink towards zero\n",
    "        x_end = x_max * 1.03    # Expand further positive\n",
    "    else:  # Entirely negative range\n",
    "        x_start = x_min * 1.01  # Expand further negative\n",
    "        x_end = x_max * 0.97    # Shrink towards zero (less negative)\n",
    "\n",
    "    # Adjust y-axis range\n",
    "    if y_min < 0 and y_max > 0:  # Range crosses zero\n",
    "        y_start = y_min * 1.02  # Expand negative side slightly\n",
    "        y_end = y_max * 1.01    # Expand positive side slightly\n",
    "    elif y_min >= 0:  # Entirely non-negative range\n",
    "        y_start = y_min * 0.975  # Shrink towards zero\n",
    "        if y_start<1:\n",
    "            y_start=-.5\n",
    "        y_end = y_max * 1.015    # Expand further positive\n",
    "    else:  # Entirely negative range\n",
    "        y_start = y_min * 1.02  # Expand further negative\n",
    "        y_end = y_max * 0.98    # Shrink towards zero (less negative)\n",
    "\n",
    "\n",
    "    fig.update_layout(\n",
    "        width = 1225,\n",
    "        height = 875,\n",
    "        xaxis=dict(range=[x_start,x_end]),\n",
    "        yaxis=dict(range=[y_start, y_end]),\n",
    "        title = title_text,\n",
    "        title_x=.5,\n",
    "        autosize=True,\n",
    "        paper_bgcolor=bg_color,\n",
    "        plot_bgcolor='#FAFAFA',\n",
    "                        \n",
    "        font=dict(\n",
    "            family=\"Malgun Gothic\",\n",
    "            size=20,\n",
    "            color='white'\n",
    "        ),\n",
    "                       \n",
    "        \n",
    "        annotations=[\n",
    "        go.layout.Annotation(\n",
    "            showarrow=False,\n",
    "            text='@GabeLeftBrain',\n",
    "            y=y_max,\n",
    "            x=x_max- .5\n",
    "            \n",
    "        )\n",
    "        ]\n",
    "    )  \n",
    "    return fig\n",
    "column1='AtRimAssists'\n",
    "column2='AtRimFrequency'\n",
    "year=2025\n",
    "games_back=20\n",
    "\n",
    "remap = column_map2()\n",
    "fig = team_graph_scatter_games_back(column1, column2, year, games_back=10, ps=False, mpg=10, gp=1, selected_rate='Per 100',  remap=remap)\n",
    "fig.show()"
   ]
  },
  {
   "cell_type": "code",
   "execution_count": null,
   "id": "71695db8-5144-48f3-8968-9851a5f12fed",
   "metadata": {},
   "outputs": [],
   "source": []
  }
 ],
 "metadata": {
  "kernelspec": {
   "display_name": "Python 3 (ipykernel)",
   "language": "python",
   "name": "python3"
  },
  "language_info": {
   "codemirror_mode": {
    "name": "ipython",
    "version": 3
   },
   "file_extension": ".py",
   "mimetype": "text/x-python",
   "name": "python",
   "nbconvert_exporter": "python",
   "pygments_lexer": "ipython3",
   "version": "3.10.12"
  }
 },
 "nbformat": 4,
 "nbformat_minor": 5
}
