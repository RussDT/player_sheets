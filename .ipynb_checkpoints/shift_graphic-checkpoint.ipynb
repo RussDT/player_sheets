{
 "cells": [
  {
   "cell_type": "code",
   "execution_count": 80,
   "id": "7e11378e-9949-40a1-bed5-a7a5e554e48e",
   "metadata": {},
   "outputs": [
    {
     "name": "stdout",
     "output_type": "stream",
     "text": [
      "EntityId\n",
      "TeamId\n",
      "Name\n",
      "ShortName\n",
      "RowId\n",
      "TeamAbbreviation\n",
      "SecondsPlayed\n",
      "Minutes\n",
      "PlusMinus\n",
      "OffPoss\n",
      "DefPoss\n",
      "PenaltyOffPoss\n",
      "PenaltyDefPoss\n",
      "SecondChanceOffPoss\n",
      "TotalPoss\n",
      "AtRimFGM\n",
      "AtRimFGA\n",
      "SecondChanceAtRimFGM\n",
      "SecondChanceAtRimFGA\n",
      "PenaltyAtRimFGM\n",
      "PenaltyAtRimFGA\n",
      "ShortMidRangeFGM\n",
      "ShortMidRangeFGA\n",
      "LongMidRangeFGM\n",
      "LongMidRangeFGA\n",
      "Arc3FGA\n",
      "PenaltyArc3FGA\n",
      "FG2M\n",
      "FG2A\n",
      "FG3A\n",
      "FtPoints\n",
      "Points\n",
      "OpponentPoints\n",
      "SecondChanceFG2M\n",
      "SecondChanceFG2A\n",
      "SecondChanceFtPoints\n",
      "SecondChancePoints\n",
      "PenaltyFG2M\n",
      "PenaltyFG2A\n",
      "PenaltyFG3A\n",
      "PenaltyFtPoints\n",
      "PenaltyPoints\n",
      "PtsAssisted2s\n",
      "PtsUnassisted2s\n",
      "PtsPutbacks\n",
      "NonHeaveArc3FGA\n",
      "Fg2aBlocked\n",
      "TwoPtAssists\n",
      "ThreePtAssists\n",
      "Assists\n",
      "Arc3Assists\n",
      "Corner3Assists\n",
      "AtRimAssists\n",
      "ShortMidRangeAssists\n",
      "LongMidRangeAssists\n",
      "AssistPoints\n",
      "OffThreePtRebounds\n",
      "OffTwoPtRebounds\n",
      "FTOffRebounds\n",
      "DefThreePtRebounds\n",
      "DefTwoPtRebounds\n",
      "FTDefRebounds\n",
      "DefRebounds\n",
      "OffRebounds\n",
      "Rebounds\n",
      "SelfOReb\n",
      "Steals\n",
      "BadPassSteals\n",
      "LostBallSteals\n",
      "LiveBallTurnovers\n",
      "DeadBallTurnovers\n",
      "LostBallTurnovers\n",
      "Travels\n",
      "Turnovers\n",
      "SecondChanceTurnovers\n",
      "PenaltyTurnovers\n",
      "ShootingFouls\n",
      "Fouls\n",
      "Loose Ball Fouls\n",
      "Offensive Fouls\n",
      "FoulsDrawn\n",
      "Loose Ball Fouls Drawn\n",
      "Offensive Fouls Drawn\n",
      "FTA\n",
      "2pt And 1 Free Throw Trips\n",
      "TwoPtShootingFoulsDrawn\n",
      "NonShootingFoulsDrawn\n",
      "Blocked2s\n",
      "BlockedAtRim\n",
      "BlockedShortMidRange\n",
      "Blocks\n",
      "RecoveredBlocks\n",
      "PenaltyPointsExcludingTakeFouls\n",
      "PenaltyOffPossExcludingTakeFouls\n",
      "NonShootingPenaltyNonTakeFouls\n",
      "NonShootingPenaltyNonTakeFoulsDrawn\n",
      "Assisted2sPct\n",
      "NonPutbacksAssisted2sPct\n",
      "Fg2Pct\n",
      "SecondChanceFg2Pct\n",
      "PenaltyFg2Pct\n",
      "EfgPct\n",
      "SecondChanceEfgPct\n",
      "PenaltyEfgPct\n",
      "TsPct\n",
      "SecondChanceTsPct\n",
      "PenaltyTsPct\n",
      "FG3APct\n",
      "FG2APctBlocked\n",
      "AtRimPctBlocked\n",
      "ShortMidRangePctBlocked\n",
      "Usage\n",
      "LiveBallTurnoverPct\n",
      "DefFTReboundPct\n",
      "OffFTReboundPct\n",
      "DefTwoPtReboundPct\n",
      "OffTwoPtReboundPct\n",
      "DefThreePtReboundPct\n",
      "OffThreePtReboundPct\n",
      "DefFGReboundPct\n",
      "OffFGReboundPct\n",
      "OffAtRimReboundPct\n",
      "OffShortMidRangeReboundPct\n",
      "OffLongMidRangeReboundPct\n",
      "OffArc3ReboundPct\n",
      "OffCorner3ReboundPct\n",
      "DefAtRimReboundPct\n",
      "DefShortMidRangeReboundPct\n",
      "DefLongMidRangeReboundPct\n",
      "DefArc3ReboundPct\n",
      "DefCorner3ReboundPct\n",
      "SelfORebPct\n",
      "BlocksRecoveredPct\n",
      "AtRimFrequency\n",
      "AtRimAccuracy\n",
      "UnblockedAtRimAccuracy\n",
      "AtRimPctAssisted\n",
      "ShortMidRangeFrequency\n",
      "ShortMidRangeAccuracy\n",
      "UnblockedShortMidRangeAccuracy\n",
      "ShortMidRangePctAssisted\n",
      "LongMidRangeFrequency\n",
      "LongMidRangeAccuracy\n",
      "UnblockedLongMidRangeAccuracy\n",
      "LongMidRangePctAssisted\n",
      "Arc3Frequency\n",
      "SecondChanceAtRimFrequency\n",
      "SecondChanceAtRimAccuracy\n",
      "SecondChanceAtRimPctAssisted\n",
      "PenaltyAtRimFrequency\n",
      "PenaltyAtRimAccuracy\n",
      "PenaltyArc3Frequency\n",
      "AtRimFG3AFrequency\n",
      "ShotQualityAvg\n",
      "SecondChanceShotQualityAvg\n",
      "PenaltyShotQualityAvg\n",
      "ShootingFoulsDrawnPct\n",
      "TwoPtShootingFoulsDrawnPct\n",
      "SecondChancePointsPct\n",
      "PenaltyPointsPct\n",
      "Avg2ptShotDistance\n",
      "Avg3ptShotDistance\n",
      "PenaltyOffPossPct\n",
      "Corner3FGM\n",
      "Corner3FGA\n",
      "SecondChanceCorner3FGA\n",
      "PenaltyCorner3FGM\n",
      "PenaltyCorner3FGA\n",
      "Arc3FGM\n",
      "SecondChanceArc3FGM\n",
      "SecondChanceArc3FGA\n",
      "PenaltyArc3FGM\n",
      "FG3M\n",
      "SecondChanceFG3M\n",
      "SecondChanceFG3A\n",
      "PenaltyFG3M\n",
      "PtsAssisted3s\n",
      "PtsUnassisted3s\n",
      "NonHeaveArc3FGM\n",
      "Fg3aBlocked\n",
      "BadPassOutOfBoundsTurnovers\n",
      "BadPassTurnovers\n",
      "LostBallOutOfBoundsTurnovers\n",
      "StepOutOfBoundsTurnovers\n",
      "Charge Fouls\n",
      "3pt And 1 Free Throw Trips\n",
      "ThreePtShootingFoulsDrawn\n",
      "Assisted3sPct\n",
      "Fg3Pct\n",
      "SecondChanceFg3Pct\n",
      "PenaltyFg3Pct\n",
      "NonHeaveFg3Pct\n",
      "FG3APctBlocked\n",
      "LongMidRangePctBlocked\n",
      "Corner3PctBlocked\n",
      "Arc3PctBlocked\n",
      "Corner3Frequency\n",
      "Corner3Accuracy\n",
      "UnblockedCorner3Accuracy\n",
      "Corner3PctAssisted\n",
      "Arc3Accuracy\n",
      "UnblockedArc3Accuracy\n",
      "Arc3PctAssisted\n",
      "SecondChanceCorner3Frequency\n",
      "SecondChanceArc3Frequency\n",
      "SecondChanceArc3Accuracy\n",
      "SecondChanceArc3PctAssisted\n",
      "PenaltyCorner3Frequency\n",
      "PenaltyCorner3Accuracy\n",
      "PenaltyArc3Accuracy\n",
      "NonHeaveArc3Accuracy\n",
      "ThreePtShootingFoulsDrawnPct\n",
      "Blocked3s\n",
      "BlockedArc3\n",
      "SecondChanceCorner3FGM\n",
      "HeaveAttempts\n",
      "Charge Fouls Drawn\n",
      "Transition Take Fouls Drawn\n",
      "Technical Free Throw Trips\n",
      "BlockedLongMidRange\n",
      "SecondChanceCorner3Accuracy\n",
      "SecondChanceCorner3PctAssisted\n",
      "Transition Take Fouls\n",
      "BlockedCorner3\n",
      "Defensive 3 Seconds Violations\n",
      "DefensiveGoaltends\n",
      "3SecondViolations\n",
      "on\n"
     ]
    },
    {
     "data": {
      "application/vnd.plotly.v1+json": {
       "config": {
        "plotlyServerURL": "https://plot.ly"
       },
       "data": [
        {
         "customdata": [
          [
           2025,
           "GSW",
           623,
           "1627741",
           "Buddy Hield",
           58.333333333333336
          ],
          [
           2025,
           "GSW",
           369,
           "1630228",
           "Jonathan Kuminga",
           54.6242774566474
          ],
          [
           2025,
           "GSW",
           301,
           "1630541",
           "Moses Moody",
           66.17647058823529
          ],
          [
           2025,
           "GSW",
           304,
           "1641764",
           "Brandin Podziemski",
           58.235294117647065
          ],
          [
           2025,
           "GSW",
           845,
           "203110",
           "Draymond Green",
           47.48743718592965
          ],
          [
           2025,
           "GSW",
           883,
           "203952",
           "Andrew Wiggins",
           55.51282051282052
          ],
          [
           2025,
           "GSW",
           477,
           "1631218",
           "Trayce Jackson-Davis",
           57.961783439490446
          ]
         ],
         "hovertemplate": "<b>Stephen Curry On Court</b><br>Player: %{customdata[4]}<br>Minutes: %{customdata[2]:.1f}<br>Year: %{customdata[0]}<br>Team: %{customdata[1]}<br><extra></extra>",
         "marker": {
          "color": "#3e8989"
         },
         "name": "Stephen Curry On Court",
         "offset": -0.15,
         "opacity": 0.8,
         "orientation": "h",
         "type": "bar",
         "width": 0.2,
         "x": [
          58.333333333333336,
          54.6242774566474,
          66.17647058823529,
          58.235294117647065,
          47.48743718592965,
          55.51282051282052,
          57.961783439490446
         ],
         "y": [
          "Buddy Hield",
          "Jonathan Kuminga",
          "Moses Moody",
          "Brandin Podziemski",
          "Draymond Green",
          "Andrew Wiggins",
          "Trayce Jackson-Davis"
         ]
        },
        {
         "customdata": [
          [
           2025,
           "GSW",
           631,
           "1627741",
           "Buddy Hield",
           50.5
          ],
          [
           2025,
           "GSW",
           696,
           "1641764",
           "Brandin Podziemski",
           48.559670781893
          ],
          [
           2025,
           "GSW",
           464,
           "1630228",
           "Jonathan Kuminga",
           47.8
          ],
          [
           2025,
           "GSW",
           551,
           "1630541",
           "Moses Moody",
           50
          ],
          [
           2025,
           "GSW",
           261,
           "203110",
           "Draymond Green",
           60.14492753623188
          ],
          [
           2025,
           "GSW",
           413,
           "203952",
           "Andrew Wiggins",
           46.21212121212121
          ],
          [
           2025,
           "GSW",
           429,
           "1631218",
           "Trayce Jackson-Davis",
           55.73770491803278
          ]
         ],
         "hovertemplate": "<b>Stephen Curry Off Court</b><br>Player: %{customdata[4]}<br>Minutes: %{customdata[2]:.1f}<br>Year: %{customdata[0]}<br>Team: %{customdata[1]}<br><extra></extra>",
         "marker": {
          "color": "#ffdb58"
         },
         "name": "Stephen Curry Off Court",
         "offset": 0.15,
         "opacity": 0.8,
         "orientation": "h",
         "type": "bar",
         "width": 0.2,
         "x": [
          50.5,
          48.559670781893,
          47.8,
          50,
          60.14492753623188,
          46.21212121212121,
          55.73770491803278
         ],
         "y": [
          "Buddy Hield",
          "Brandin Podziemski",
          "Jonathan Kuminga",
          "Moses Moody",
          "Draymond Green",
          "Andrew Wiggins",
          "Trayce Jackson-Davis"
         ]
        }
       ],
       "layout": {
        "bargap": 0.3,
        "barmode": "overlay",
        "height": 900,
        "legend": {
         "bgcolor": "rgba(0, 0, 0, 0)",
         "bordercolor": "rgba(255, 255, 255, 0.3)",
         "borderwidth": 1,
         "font": {
          "color": "white"
         },
         "orientation": "v",
         "x": 1,
         "xanchor": "right",
         "y": 1.1,
         "yanchor": "top"
        },
        "paper_bgcolor": "#211a1d",
        "plot_bgcolor": "#211a1d",
        "showlegend": true,
        "template": {
         "data": {
          "bar": [
           {
            "error_x": {
             "color": "#2a3f5f"
            },
            "error_y": {
             "color": "#2a3f5f"
            },
            "marker": {
             "line": {
              "color": "#E5ECF6",
              "width": 0.5
             },
             "pattern": {
              "fillmode": "overlay",
              "size": 10,
              "solidity": 0.2
             }
            },
            "type": "bar"
           }
          ],
          "barpolar": [
           {
            "marker": {
             "line": {
              "color": "#E5ECF6",
              "width": 0.5
             },
             "pattern": {
              "fillmode": "overlay",
              "size": 10,
              "solidity": 0.2
             }
            },
            "type": "barpolar"
           }
          ],
          "carpet": [
           {
            "aaxis": {
             "endlinecolor": "#2a3f5f",
             "gridcolor": "white",
             "linecolor": "white",
             "minorgridcolor": "white",
             "startlinecolor": "#2a3f5f"
            },
            "baxis": {
             "endlinecolor": "#2a3f5f",
             "gridcolor": "white",
             "linecolor": "white",
             "minorgridcolor": "white",
             "startlinecolor": "#2a3f5f"
            },
            "type": "carpet"
           }
          ],
          "choropleth": [
           {
            "colorbar": {
             "outlinewidth": 0,
             "ticks": ""
            },
            "type": "choropleth"
           }
          ],
          "contour": [
           {
            "colorbar": {
             "outlinewidth": 0,
             "ticks": ""
            },
            "colorscale": [
             [
              0,
              "#0d0887"
             ],
             [
              0.1111111111111111,
              "#46039f"
             ],
             [
              0.2222222222222222,
              "#7201a8"
             ],
             [
              0.3333333333333333,
              "#9c179e"
             ],
             [
              0.4444444444444444,
              "#bd3786"
             ],
             [
              0.5555555555555556,
              "#d8576b"
             ],
             [
              0.6666666666666666,
              "#ed7953"
             ],
             [
              0.7777777777777778,
              "#fb9f3a"
             ],
             [
              0.8888888888888888,
              "#fdca26"
             ],
             [
              1,
              "#f0f921"
             ]
            ],
            "type": "contour"
           }
          ],
          "contourcarpet": [
           {
            "colorbar": {
             "outlinewidth": 0,
             "ticks": ""
            },
            "type": "contourcarpet"
           }
          ],
          "heatmap": [
           {
            "colorbar": {
             "outlinewidth": 0,
             "ticks": ""
            },
            "colorscale": [
             [
              0,
              "#0d0887"
             ],
             [
              0.1111111111111111,
              "#46039f"
             ],
             [
              0.2222222222222222,
              "#7201a8"
             ],
             [
              0.3333333333333333,
              "#9c179e"
             ],
             [
              0.4444444444444444,
              "#bd3786"
             ],
             [
              0.5555555555555556,
              "#d8576b"
             ],
             [
              0.6666666666666666,
              "#ed7953"
             ],
             [
              0.7777777777777778,
              "#fb9f3a"
             ],
             [
              0.8888888888888888,
              "#fdca26"
             ],
             [
              1,
              "#f0f921"
             ]
            ],
            "type": "heatmap"
           }
          ],
          "heatmapgl": [
           {
            "colorbar": {
             "outlinewidth": 0,
             "ticks": ""
            },
            "colorscale": [
             [
              0,
              "#0d0887"
             ],
             [
              0.1111111111111111,
              "#46039f"
             ],
             [
              0.2222222222222222,
              "#7201a8"
             ],
             [
              0.3333333333333333,
              "#9c179e"
             ],
             [
              0.4444444444444444,
              "#bd3786"
             ],
             [
              0.5555555555555556,
              "#d8576b"
             ],
             [
              0.6666666666666666,
              "#ed7953"
             ],
             [
              0.7777777777777778,
              "#fb9f3a"
             ],
             [
              0.8888888888888888,
              "#fdca26"
             ],
             [
              1,
              "#f0f921"
             ]
            ],
            "type": "heatmapgl"
           }
          ],
          "histogram": [
           {
            "marker": {
             "pattern": {
              "fillmode": "overlay",
              "size": 10,
              "solidity": 0.2
             }
            },
            "type": "histogram"
           }
          ],
          "histogram2d": [
           {
            "colorbar": {
             "outlinewidth": 0,
             "ticks": ""
            },
            "colorscale": [
             [
              0,
              "#0d0887"
             ],
             [
              0.1111111111111111,
              "#46039f"
             ],
             [
              0.2222222222222222,
              "#7201a8"
             ],
             [
              0.3333333333333333,
              "#9c179e"
             ],
             [
              0.4444444444444444,
              "#bd3786"
             ],
             [
              0.5555555555555556,
              "#d8576b"
             ],
             [
              0.6666666666666666,
              "#ed7953"
             ],
             [
              0.7777777777777778,
              "#fb9f3a"
             ],
             [
              0.8888888888888888,
              "#fdca26"
             ],
             [
              1,
              "#f0f921"
             ]
            ],
            "type": "histogram2d"
           }
          ],
          "histogram2dcontour": [
           {
            "colorbar": {
             "outlinewidth": 0,
             "ticks": ""
            },
            "colorscale": [
             [
              0,
              "#0d0887"
             ],
             [
              0.1111111111111111,
              "#46039f"
             ],
             [
              0.2222222222222222,
              "#7201a8"
             ],
             [
              0.3333333333333333,
              "#9c179e"
             ],
             [
              0.4444444444444444,
              "#bd3786"
             ],
             [
              0.5555555555555556,
              "#d8576b"
             ],
             [
              0.6666666666666666,
              "#ed7953"
             ],
             [
              0.7777777777777778,
              "#fb9f3a"
             ],
             [
              0.8888888888888888,
              "#fdca26"
             ],
             [
              1,
              "#f0f921"
             ]
            ],
            "type": "histogram2dcontour"
           }
          ],
          "mesh3d": [
           {
            "colorbar": {
             "outlinewidth": 0,
             "ticks": ""
            },
            "type": "mesh3d"
           }
          ],
          "parcoords": [
           {
            "line": {
             "colorbar": {
              "outlinewidth": 0,
              "ticks": ""
             }
            },
            "type": "parcoords"
           }
          ],
          "pie": [
           {
            "automargin": true,
            "type": "pie"
           }
          ],
          "scatter": [
           {
            "fillpattern": {
             "fillmode": "overlay",
             "size": 10,
             "solidity": 0.2
            },
            "type": "scatter"
           }
          ],
          "scatter3d": [
           {
            "line": {
             "colorbar": {
              "outlinewidth": 0,
              "ticks": ""
             }
            },
            "marker": {
             "colorbar": {
              "outlinewidth": 0,
              "ticks": ""
             }
            },
            "type": "scatter3d"
           }
          ],
          "scattercarpet": [
           {
            "marker": {
             "colorbar": {
              "outlinewidth": 0,
              "ticks": ""
             }
            },
            "type": "scattercarpet"
           }
          ],
          "scattergeo": [
           {
            "marker": {
             "colorbar": {
              "outlinewidth": 0,
              "ticks": ""
             }
            },
            "type": "scattergeo"
           }
          ],
          "scattergl": [
           {
            "marker": {
             "colorbar": {
              "outlinewidth": 0,
              "ticks": ""
             }
            },
            "type": "scattergl"
           }
          ],
          "scattermapbox": [
           {
            "marker": {
             "colorbar": {
              "outlinewidth": 0,
              "ticks": ""
             }
            },
            "type": "scattermapbox"
           }
          ],
          "scatterpolar": [
           {
            "marker": {
             "colorbar": {
              "outlinewidth": 0,
              "ticks": ""
             }
            },
            "type": "scatterpolar"
           }
          ],
          "scatterpolargl": [
           {
            "marker": {
             "colorbar": {
              "outlinewidth": 0,
              "ticks": ""
             }
            },
            "type": "scatterpolargl"
           }
          ],
          "scatterternary": [
           {
            "marker": {
             "colorbar": {
              "outlinewidth": 0,
              "ticks": ""
             }
            },
            "type": "scatterternary"
           }
          ],
          "surface": [
           {
            "colorbar": {
             "outlinewidth": 0,
             "ticks": ""
            },
            "colorscale": [
             [
              0,
              "#0d0887"
             ],
             [
              0.1111111111111111,
              "#46039f"
             ],
             [
              0.2222222222222222,
              "#7201a8"
             ],
             [
              0.3333333333333333,
              "#9c179e"
             ],
             [
              0.4444444444444444,
              "#bd3786"
             ],
             [
              0.5555555555555556,
              "#d8576b"
             ],
             [
              0.6666666666666666,
              "#ed7953"
             ],
             [
              0.7777777777777778,
              "#fb9f3a"
             ],
             [
              0.8888888888888888,
              "#fdca26"
             ],
             [
              1,
              "#f0f921"
             ]
            ],
            "type": "surface"
           }
          ],
          "table": [
           {
            "cells": {
             "fill": {
              "color": "#EBF0F8"
             },
             "line": {
              "color": "white"
             }
            },
            "header": {
             "fill": {
              "color": "#C8D4E3"
             },
             "line": {
              "color": "white"
             }
            },
            "type": "table"
           }
          ]
         },
         "layout": {
          "annotationdefaults": {
           "arrowcolor": "#2a3f5f",
           "arrowhead": 0,
           "arrowwidth": 1
          },
          "autotypenumbers": "strict",
          "coloraxis": {
           "colorbar": {
            "outlinewidth": 0,
            "ticks": ""
           }
          },
          "colorscale": {
           "diverging": [
            [
             0,
             "#8e0152"
            ],
            [
             0.1,
             "#c51b7d"
            ],
            [
             0.2,
             "#de77ae"
            ],
            [
             0.3,
             "#f1b6da"
            ],
            [
             0.4,
             "#fde0ef"
            ],
            [
             0.5,
             "#f7f7f7"
            ],
            [
             0.6,
             "#e6f5d0"
            ],
            [
             0.7,
             "#b8e186"
            ],
            [
             0.8,
             "#7fbc41"
            ],
            [
             0.9,
             "#4d9221"
            ],
            [
             1,
             "#276419"
            ]
           ],
           "sequential": [
            [
             0,
             "#0d0887"
            ],
            [
             0.1111111111111111,
             "#46039f"
            ],
            [
             0.2222222222222222,
             "#7201a8"
            ],
            [
             0.3333333333333333,
             "#9c179e"
            ],
            [
             0.4444444444444444,
             "#bd3786"
            ],
            [
             0.5555555555555556,
             "#d8576b"
            ],
            [
             0.6666666666666666,
             "#ed7953"
            ],
            [
             0.7777777777777778,
             "#fb9f3a"
            ],
            [
             0.8888888888888888,
             "#fdca26"
            ],
            [
             1,
             "#f0f921"
            ]
           ],
           "sequentialminus": [
            [
             0,
             "#0d0887"
            ],
            [
             0.1111111111111111,
             "#46039f"
            ],
            [
             0.2222222222222222,
             "#7201a8"
            ],
            [
             0.3333333333333333,
             "#9c179e"
            ],
            [
             0.4444444444444444,
             "#bd3786"
            ],
            [
             0.5555555555555556,
             "#d8576b"
            ],
            [
             0.6666666666666666,
             "#ed7953"
            ],
            [
             0.7777777777777778,
             "#fb9f3a"
            ],
            [
             0.8888888888888888,
             "#fdca26"
            ],
            [
             1,
             "#f0f921"
            ]
           ]
          },
          "colorway": [
           "#636efa",
           "#EF553B",
           "#00cc96",
           "#ab63fa",
           "#FFA15A",
           "#19d3f3",
           "#FF6692",
           "#B6E880",
           "#FF97FF",
           "#FECB52"
          ],
          "font": {
           "color": "#2a3f5f"
          },
          "geo": {
           "bgcolor": "white",
           "lakecolor": "white",
           "landcolor": "#E5ECF6",
           "showlakes": true,
           "showland": true,
           "subunitcolor": "white"
          },
          "hoverlabel": {
           "align": "left"
          },
          "hovermode": "closest",
          "mapbox": {
           "style": "light"
          },
          "paper_bgcolor": "white",
          "plot_bgcolor": "#E5ECF6",
          "polar": {
           "angularaxis": {
            "gridcolor": "white",
            "linecolor": "white",
            "ticks": ""
           },
           "bgcolor": "#E5ECF6",
           "radialaxis": {
            "gridcolor": "white",
            "linecolor": "white",
            "ticks": ""
           }
          },
          "scene": {
           "xaxis": {
            "backgroundcolor": "#E5ECF6",
            "gridcolor": "white",
            "gridwidth": 2,
            "linecolor": "white",
            "showbackground": true,
            "ticks": "",
            "zerolinecolor": "white"
           },
           "yaxis": {
            "backgroundcolor": "#E5ECF6",
            "gridcolor": "white",
            "gridwidth": 2,
            "linecolor": "white",
            "showbackground": true,
            "ticks": "",
            "zerolinecolor": "white"
           },
           "zaxis": {
            "backgroundcolor": "#E5ECF6",
            "gridcolor": "white",
            "gridwidth": 2,
            "linecolor": "white",
            "showbackground": true,
            "ticks": "",
            "zerolinecolor": "white"
           }
          },
          "shapedefaults": {
           "line": {
            "color": "#2a3f5f"
           }
          },
          "ternary": {
           "aaxis": {
            "gridcolor": "white",
            "linecolor": "white",
            "ticks": ""
           },
           "baxis": {
            "gridcolor": "white",
            "linecolor": "white",
            "ticks": ""
           },
           "bgcolor": "#E5ECF6",
           "caxis": {
            "gridcolor": "white",
            "linecolor": "white",
            "ticks": ""
           }
          },
          "title": {
           "x": 0.05
          },
          "xaxis": {
           "automargin": true,
           "gridcolor": "white",
           "linecolor": "white",
           "ticks": "",
           "title": {
            "standoff": 15
           },
           "zerolinecolor": "white",
           "zerolinewidth": 2
          },
          "yaxis": {
           "automargin": true,
           "gridcolor": "white",
           "linecolor": "white",
           "ticks": "",
           "title": {
            "standoff": 15
           },
           "zerolinecolor": "white",
           "zerolinewidth": 2
          }
         }
        },
        "title": {
         "font": {
          "color": "white",
          "size": 24
         },
         "text": "Stephen Curry<br>Impact on Teammates (2025-2025)",
         "x": 0.5
        },
        "width": 1200,
        "xaxis": {
         "gridcolor": "rgba(255, 255, 255, 0.1)",
         "range": [
          43.90151515151515,
          69.48529411764706
         ],
         "tickfont": {
          "color": "white"
         },
         "title": {
          "font": {
           "color": "white"
          },
          "text": "EfgPct"
         },
         "type": "linear",
         "zerolinecolor": "rgba(255, 255, 255, 0.1)"
        },
        "yaxis": {
         "autorange": true,
         "gridcolor": "rgba(255, 255, 255, 0.1)",
         "range": [
          -0.5,
          6.5
         ],
         "tickfont": {
          "color": "white",
          "size": 14
         },
         "title": {
          "font": {
           "color": "white"
          }
         },
         "type": "category",
         "zerolinecolor": "rgba(255, 255, 255, 0.1)"
        }
       }
      },
      "image/png": "[encoded data removed]",
      "text/html": [
       "<div>                            <div id=\"800c1e5d-0122-4748-a287-7cc4bb8e16c8\" class=\"plotly-graph-div\" style=\"height:900px; width:1200px;\"></div>            <script type=\"text/javascript\">                require([\"plotly\"], function(Plotly) {                    window.PLOTLYENV=window.PLOTLYENV || {};                                    if (document.getElementById(\"800c1e5d-0122-4748-a287-7cc4bb8e16c8\")) {                    Plotly.newPlot(                        \"800c1e5d-0122-4748-a287-7cc4bb8e16c8\",                        [{\"customdata\":[[2025,\"GSW\",623,\"1627741\",\"Buddy Hield\",58.333333333333336],[2025,\"GSW\",369,\"1630228\",\"Jonathan Kuminga\",54.6242774566474],[2025,\"GSW\",301,\"1630541\",\"Moses Moody\",66.17647058823529],[2025,\"GSW\",304,\"1641764\",\"Brandin Podziemski\",58.235294117647065],[2025,\"GSW\",845,\"203110\",\"Draymond Green\",47.48743718592965],[2025,\"GSW\",883,\"203952\",\"Andrew Wiggins\",55.51282051282052],[2025,\"GSW\",477,\"1631218\",\"Trayce Jackson-Davis\",57.961783439490446]],\"hovertemplate\":\"\\u003cb\\u003eStephen Curry On Court\\u003c\\u002fb\\u003e\\u003cbr\\u003ePlayer: %{customdata[4]}\\u003cbr\\u003eMinutes: %{customdata[2]:.1f}\\u003cbr\\u003eYear: %{customdata[0]}\\u003cbr\\u003eTeam: %{customdata[1]}\\u003cbr\\u003e\\u003cextra\\u003e\\u003c\\u002fextra\\u003e\",\"marker\":{\"color\":\"#3e8989\"},\"name\":\"Stephen Curry On Court\",\"offset\":-0.15,\"opacity\":0.8,\"orientation\":\"h\",\"width\":0.2,\"x\":[58.333333333333336,54.6242774566474,66.17647058823529,58.235294117647065,47.48743718592965,55.51282051282052,57.961783439490446],\"y\":[\"Buddy Hield\",\"Jonathan Kuminga\",\"Moses Moody\",\"Brandin Podziemski\",\"Draymond Green\",\"Andrew Wiggins\",\"Trayce Jackson-Davis\"],\"type\":\"bar\"},{\"customdata\":[[2025,\"GSW\",631,\"1627741\",\"Buddy Hield\",50.5],[2025,\"GSW\",696,\"1641764\",\"Brandin Podziemski\",48.559670781893],[2025,\"GSW\",464,\"1630228\",\"Jonathan Kuminga\",47.8],[2025,\"GSW\",551,\"1630541\",\"Moses Moody\",50.0],[2025,\"GSW\",261,\"203110\",\"Draymond Green\",60.14492753623188],[2025,\"GSW\",413,\"203952\",\"Andrew Wiggins\",46.21212121212121],[2025,\"GSW\",429,\"1631218\",\"Trayce Jackson-Davis\",55.73770491803278]],\"hovertemplate\":\"\\u003cb\\u003eStephen Curry Off Court\\u003c\\u002fb\\u003e\\u003cbr\\u003ePlayer: %{customdata[4]}\\u003cbr\\u003eMinutes: %{customdata[2]:.1f}\\u003cbr\\u003eYear: %{customdata[0]}\\u003cbr\\u003eTeam: %{customdata[1]}\\u003cbr\\u003e\\u003cextra\\u003e\\u003c\\u002fextra\\u003e\",\"marker\":{\"color\":\"#ffdb58\"},\"name\":\"Stephen Curry Off Court\",\"offset\":0.15,\"opacity\":0.8,\"orientation\":\"h\",\"width\":0.2,\"x\":[50.5,48.559670781893,47.8,50.0,60.14492753623188,46.21212121212121,55.73770491803278],\"y\":[\"Buddy Hield\",\"Brandin Podziemski\",\"Jonathan Kuminga\",\"Moses Moody\",\"Draymond Green\",\"Andrew Wiggins\",\"Trayce Jackson-Davis\"],\"type\":\"bar\"}],                        {\"template\":{\"data\":{\"histogram2dcontour\":[{\"type\":\"histogram2dcontour\",\"colorbar\":{\"outlinewidth\":0,\"ticks\":\"\"},\"colorscale\":[[0.0,\"#0d0887\"],[0.1111111111111111,\"#46039f\"],[0.2222222222222222,\"#7201a8\"],[0.3333333333333333,\"#9c179e\"],[0.4444444444444444,\"#bd3786\"],[0.5555555555555556,\"#d8576b\"],[0.6666666666666666,\"#ed7953\"],[0.7777777777777778,\"#fb9f3a\"],[0.8888888888888888,\"#fdca26\"],[1.0,\"#f0f921\"]]}],\"choropleth\":[{\"type\":\"choropleth\",\"colorbar\":{\"outlinewidth\":0,\"ticks\":\"\"}}],\"histogram2d\":[{\"type\":\"histogram2d\",\"colorbar\":{\"outlinewidth\":0,\"ticks\":\"\"},\"colorscale\":[[0.0,\"#0d0887\"],[0.1111111111111111,\"#46039f\"],[0.2222222222222222,\"#7201a8\"],[0.3333333333333333,\"#9c179e\"],[0.4444444444444444,\"#bd3786\"],[0.5555555555555556,\"#d8576b\"],[0.6666666666666666,\"#ed7953\"],[0.7777777777777778,\"#fb9f3a\"],[0.8888888888888888,\"#fdca26\"],[1.0,\"#f0f921\"]]}],\"heatmap\":[{\"type\":\"heatmap\",\"colorbar\":{\"outlinewidth\":0,\"ticks\":\"\"},\"colorscale\":[[0.0,\"#0d0887\"],[0.1111111111111111,\"#46039f\"],[0.2222222222222222,\"#7201a8\"],[0.3333333333333333,\"#9c179e\"],[0.4444444444444444,\"#bd3786\"],[0.5555555555555556,\"#d8576b\"],[0.6666666666666666,\"#ed7953\"],[0.7777777777777778,\"#fb9f3a\"],[0.8888888888888888,\"#fdca26\"],[1.0,\"#f0f921\"]]}],\"heatmapgl\":[{\"type\":\"heatmapgl\",\"colorbar\":{\"outlinewidth\":0,\"ticks\":\"\"},\"colorscale\":[[0.0,\"#0d0887\"],[0.1111111111111111,\"#46039f\"],[0.2222222222222222,\"#7201a8\"],[0.3333333333333333,\"#9c179e\"],[0.4444444444444444,\"#bd3786\"],[0.5555555555555556,\"#d8576b\"],[0.6666666666666666,\"#ed7953\"],[0.7777777777777778,\"#fb9f3a\"],[0.8888888888888888,\"#fdca26\"],[1.0,\"#f0f921\"]]}],\"contourcarpet\":[{\"type\":\"contourcarpet\",\"colorbar\":{\"outlinewidth\":0,\"ticks\":\"\"}}],\"contour\":[{\"type\":\"contour\",\"colorbar\":{\"outlinewidth\":0,\"ticks\":\"\"},\"colorscale\":[[0.0,\"#0d0887\"],[0.1111111111111111,\"#46039f\"],[0.2222222222222222,\"#7201a8\"],[0.3333333333333333,\"#9c179e\"],[0.4444444444444444,\"#bd3786\"],[0.5555555555555556,\"#d8576b\"],[0.6666666666666666,\"#ed7953\"],[0.7777777777777778,\"#fb9f3a\"],[0.8888888888888888,\"#fdca26\"],[1.0,\"#f0f921\"]]}],\"surface\":[{\"type\":\"surface\",\"colorbar\":{\"outlinewidth\":0,\"ticks\":\"\"},\"colorscale\":[[0.0,\"#0d0887\"],[0.1111111111111111,\"#46039f\"],[0.2222222222222222,\"#7201a8\"],[0.3333333333333333,\"#9c179e\"],[0.4444444444444444,\"#bd3786\"],[0.5555555555555556,\"#d8576b\"],[0.6666666666666666,\"#ed7953\"],[0.7777777777777778,\"#fb9f3a\"],[0.8888888888888888,\"#fdca26\"],[1.0,\"#f0f921\"]]}],\"mesh3d\":[{\"type\":\"mesh3d\",\"colorbar\":{\"outlinewidth\":0,\"ticks\":\"\"}}],\"scatter\":[{\"fillpattern\":{\"fillmode\":\"overlay\",\"size\":10,\"solidity\":0.2},\"type\":\"scatter\"}],\"parcoords\":[{\"type\":\"parcoords\",\"line\":{\"colorbar\":{\"outlinewidth\":0,\"ticks\":\"\"}}}],\"scatterpolargl\":[{\"type\":\"scatterpolargl\",\"marker\":{\"colorbar\":{\"outlinewidth\":0,\"ticks\":\"\"}}}],\"bar\":[{\"error_x\":{\"color\":\"#2a3f5f\"},\"error_y\":{\"color\":\"#2a3f5f\"},\"marker\":{\"line\":{\"color\":\"#E5ECF6\",\"width\":0.5},\"pattern\":{\"fillmode\":\"overlay\",\"size\":10,\"solidity\":0.2}},\"type\":\"bar\"}],\"scattergeo\":[{\"type\":\"scattergeo\",\"marker\":{\"colorbar\":{\"outlinewidth\":0,\"ticks\":\"\"}}}],\"scatterpolar\":[{\"type\":\"scatterpolar\",\"marker\":{\"colorbar\":{\"outlinewidth\":0,\"ticks\":\"\"}}}],\"histogram\":[{\"marker\":{\"pattern\":{\"fillmode\":\"overlay\",\"size\":10,\"solidity\":0.2}},\"type\":\"histogram\"}],\"scattergl\":[{\"type\":\"scattergl\",\"marker\":{\"colorbar\":{\"outlinewidth\":0,\"ticks\":\"\"}}}],\"scatter3d\":[{\"type\":\"scatter3d\",\"line\":{\"colorbar\":{\"outlinewidth\":0,\"ticks\":\"\"}},\"marker\":{\"colorbar\":{\"outlinewidth\":0,\"ticks\":\"\"}}}],\"scattermapbox\":[{\"type\":\"scattermapbox\",\"marker\":{\"colorbar\":{\"outlinewidth\":0,\"ticks\":\"\"}}}],\"scatterternary\":[{\"type\":\"scatterternary\",\"marker\":{\"colorbar\":{\"outlinewidth\":0,\"ticks\":\"\"}}}],\"scattercarpet\":[{\"type\":\"scattercarpet\",\"marker\":{\"colorbar\":{\"outlinewidth\":0,\"ticks\":\"\"}}}],\"carpet\":[{\"aaxis\":{\"endlinecolor\":\"#2a3f5f\",\"gridcolor\":\"white\",\"linecolor\":\"white\",\"minorgridcolor\":\"white\",\"startlinecolor\":\"#2a3f5f\"},\"baxis\":{\"endlinecolor\":\"#2a3f5f\",\"gridcolor\":\"white\",\"linecolor\":\"white\",\"minorgridcolor\":\"white\",\"startlinecolor\":\"#2a3f5f\"},\"type\":\"carpet\"}],\"table\":[{\"cells\":{\"fill\":{\"color\":\"#EBF0F8\"},\"line\":{\"color\":\"white\"}},\"header\":{\"fill\":{\"color\":\"#C8D4E3\"},\"line\":{\"color\":\"white\"}},\"type\":\"table\"}],\"barpolar\":[{\"marker\":{\"line\":{\"color\":\"#E5ECF6\",\"width\":0.5},\"pattern\":{\"fillmode\":\"overlay\",\"size\":10,\"solidity\":0.2}},\"type\":\"barpolar\"}],\"pie\":[{\"automargin\":true,\"type\":\"pie\"}]},\"layout\":{\"autotypenumbers\":\"strict\",\"colorway\":[\"#636efa\",\"#EF553B\",\"#00cc96\",\"#ab63fa\",\"#FFA15A\",\"#19d3f3\",\"#FF6692\",\"#B6E880\",\"#FF97FF\",\"#FECB52\"],\"font\":{\"color\":\"#2a3f5f\"},\"hovermode\":\"closest\",\"hoverlabel\":{\"align\":\"left\"},\"paper_bgcolor\":\"white\",\"plot_bgcolor\":\"#E5ECF6\",\"polar\":{\"bgcolor\":\"#E5ECF6\",\"angularaxis\":{\"gridcolor\":\"white\",\"linecolor\":\"white\",\"ticks\":\"\"},\"radialaxis\":{\"gridcolor\":\"white\",\"linecolor\":\"white\",\"ticks\":\"\"}},\"ternary\":{\"bgcolor\":\"#E5ECF6\",\"aaxis\":{\"gridcolor\":\"white\",\"linecolor\":\"white\",\"ticks\":\"\"},\"baxis\":{\"gridcolor\":\"white\",\"linecolor\":\"white\",\"ticks\":\"\"},\"caxis\":{\"gridcolor\":\"white\",\"linecolor\":\"white\",\"ticks\":\"\"}},\"coloraxis\":{\"colorbar\":{\"outlinewidth\":0,\"ticks\":\"\"}},\"colorscale\":{\"sequential\":[[0.0,\"#0d0887\"],[0.1111111111111111,\"#46039f\"],[0.2222222222222222,\"#7201a8\"],[0.3333333333333333,\"#9c179e\"],[0.4444444444444444,\"#bd3786\"],[0.5555555555555556,\"#d8576b\"],[0.6666666666666666,\"#ed7953\"],[0.7777777777777778,\"#fb9f3a\"],[0.8888888888888888,\"#fdca26\"],[1.0,\"#f0f921\"]],\"sequentialminus\":[[0.0,\"#0d0887\"],[0.1111111111111111,\"#46039f\"],[0.2222222222222222,\"#7201a8\"],[0.3333333333333333,\"#9c179e\"],[0.4444444444444444,\"#bd3786\"],[0.5555555555555556,\"#d8576b\"],[0.6666666666666666,\"#ed7953\"],[0.7777777777777778,\"#fb9f3a\"],[0.8888888888888888,\"#fdca26\"],[1.0,\"#f0f921\"]],\"diverging\":[[0,\"#8e0152\"],[0.1,\"#c51b7d\"],[0.2,\"#de77ae\"],[0.3,\"#f1b6da\"],[0.4,\"#fde0ef\"],[0.5,\"#f7f7f7\"],[0.6,\"#e6f5d0\"],[0.7,\"#b8e186\"],[0.8,\"#7fbc41\"],[0.9,\"#4d9221\"],[1,\"#276419\"]]},\"xaxis\":{\"gridcolor\":\"white\",\"linecolor\":\"white\",\"ticks\":\"\",\"title\":{\"standoff\":15},\"zerolinecolor\":\"white\",\"automargin\":true,\"zerolinewidth\":2},\"yaxis\":{\"gridcolor\":\"white\",\"linecolor\":\"white\",\"ticks\":\"\",\"title\":{\"standoff\":15},\"zerolinecolor\":\"white\",\"automargin\":true,\"zerolinewidth\":2},\"scene\":{\"xaxis\":{\"backgroundcolor\":\"#E5ECF6\",\"gridcolor\":\"white\",\"linecolor\":\"white\",\"showbackground\":true,\"ticks\":\"\",\"zerolinecolor\":\"white\",\"gridwidth\":2},\"yaxis\":{\"backgroundcolor\":\"#E5ECF6\",\"gridcolor\":\"white\",\"linecolor\":\"white\",\"showbackground\":true,\"ticks\":\"\",\"zerolinecolor\":\"white\",\"gridwidth\":2},\"zaxis\":{\"backgroundcolor\":\"#E5ECF6\",\"gridcolor\":\"white\",\"linecolor\":\"white\",\"showbackground\":true,\"ticks\":\"\",\"zerolinecolor\":\"white\",\"gridwidth\":2}},\"shapedefaults\":{\"line\":{\"color\":\"#2a3f5f\"}},\"annotationdefaults\":{\"arrowcolor\":\"#2a3f5f\",\"arrowhead\":0,\"arrowwidth\":1},\"geo\":{\"bgcolor\":\"white\",\"landcolor\":\"#E5ECF6\",\"subunitcolor\":\"white\",\"showland\":true,\"showlakes\":true,\"lakecolor\":\"white\"},\"title\":{\"x\":0.05},\"mapbox\":{\"style\":\"light\"}}},\"title\":{\"font\":{\"color\":\"white\",\"size\":24},\"text\":\"Stephen Curry\\u003cbr\\u003eImpact on Teammates (2025-2025)\",\"x\":0.5},\"xaxis\":{\"tickfont\":{\"color\":\"white\"},\"title\":{\"text\":\"EfgPct\",\"font\":{\"color\":\"white\"}},\"gridcolor\":\"rgba(255, 255, 255, 0.1)\",\"zerolinecolor\":\"rgba(255, 255, 255, 0.1)\",\"range\":[43.90151515151515,69.48529411764706]},\"yaxis\":{\"tickfont\":{\"color\":\"white\",\"size\":14},\"title\":{\"font\":{\"color\":\"white\"}},\"gridcolor\":\"rgba(255, 255, 255, 0.1)\",\"zerolinecolor\":\"rgba(255, 255, 255, 0.1)\"},\"legend\":{\"font\":{\"color\":\"white\"},\"bgcolor\":\"rgba(0,0,0,0)\",\"x\":1,\"y\":1.1,\"xanchor\":\"right\",\"yanchor\":\"top\",\"orientation\":\"v\",\"bordercolor\":\"rgba(255, 255, 255, 0.3)\",\"borderwidth\":1},\"paper_bgcolor\":\"#211a1d\",\"plot_bgcolor\":\"#211a1d\",\"width\":1200,\"height\":900,\"barmode\":\"overlay\",\"bargap\":0.3,\"showlegend\":true},                        {\"responsive\": true}                    ).then(function(){\n",
       "                            \n",
       "var gd = document.getElementById('800c1e5d-0122-4748-a287-7cc4bb8e16c8');\n",
       "var x = new MutationObserver(function (mutations, observer) {{\n",
       "        var display = window.getComputedStyle(gd).display;\n",
       "        if (!display || display === 'none') {{\n",
       "            console.log([gd, 'removed!']);\n",
       "            Plotly.purge(gd);\n",
       "            observer.disconnect();\n",
       "        }}\n",
       "}});\n",
       "\n",
       "// Listen for the removal of the full notebook cells\n",
       "var notebookContainer = gd.closest('#notebook-container');\n",
       "if (notebookContainer) {{\n",
       "    x.observe(notebookContainer, {childList: true});\n",
       "}}\n",
       "\n",
       "// Listen for the clearing of the current output cell\n",
       "var outputEl = gd.closest('.output');\n",
       "if (outputEl) {{\n",
       "    x.observe(outputEl, {childList: true});\n",
       "}}\n",
       "\n",
       "                        })                };                });            </script>        </div>"
      ]
     },
     "metadata": {},
     "output_type": "display_data"
    }
   ],
   "source": [
    "import plotly\n",
    "import plotly.graph_objects as go\n",
    "import numpy as np\n",
    "\n",
    "import pandas as pd\n",
    "\n",
    "import requests\n",
    "\n",
    "from plotly.subplots import make_subplots\n",
    "\n",
    "import plotly.graph_objects as go\n",
    "import pandas as pd\n",
    "import numpy as np\n",
    "\n",
    "import plotly.graph_objects as go\n",
    "import pandas as pd\n",
    "import numpy as np\n",
    "\n",
    "import plotly.graph_objects as go\n",
    "import pandas as pd\n",
    "import numpy as np\n",
    "\n",
    "import plotly.graph_objects as go\n",
    "import pandas as pd\n",
    "import numpy as np\n",
    "def shift_graphic_horizontal(start_year, end_year, team, player_id, metric_column, ps=False, n=5):\n",
    "    player_id = str(player_id)\n",
    "    trail = 'ps' if ps else ''\n",
    "    frames = []\n",
    "    columns = ['EntityId', 'TeamId', 'TeamAbbreviation', 'Name', 'ShortName', \n",
    "               'OffPoss', 'DefPoss', 'Minutes', 'on', metric_column]\n",
    "    \n",
    "    # Load data\n",
    "    for year in range(start_year, end_year + 1):\n",
    "        url_base = f'https://raw.githubusercontent.com/gabriel1200/playershift/refs/heads/main/data/{year}{trail}/{player_id}.csv'\n",
    "        df = pd.read_csv(url_base,usecols=columns)\n",
    "        for col in df.columns:\n",
    "            print(col)\n",
    "        df['Year'] = year\n",
    "        frames.append(df)\n",
    "    \n",
    "    data = pd.concat(frames)\n",
    "\n",
    "     \n",
    "    # Filter by team\n",
    "    data = data[data.TeamAbbreviation == team]\n",
    "    data.dropna(subset=[metric_column], inplace=True)\n",
    "    data['EntityId'] = data['EntityId'].astype(str)\n",
    "\n",
    "    # Get player's short name\n",
    "    name = data[data.EntityId == player_id]['ShortName'].iloc[0]\n",
    "\n",
    "    # Find entities with both on/off data\n",
    "    off_entities = set(data[data['on'] == False]['EntityId'])\n",
    "    on_entities = set(data[data['on'] == True]['EntityId'])\n",
    "    entities = list(off_entities.intersection(on_entities))\n",
    "\n",
    "    # Filter to include only entities with both on/off data\n",
    "    data = data[data.EntityId.isin(entities)]\n",
    "\n",
    "    # Keep only the top n entities by Minutes\n",
    "    total_minutes = data.groupby('EntityId')['Minutes'].sum()\n",
    "    top_entities = total_minutes.nlargest(n).index.tolist()\n",
    "    data = data[data.EntityId.isin(top_entities)]\n",
    "\n",
    "    # Calculate per-possession stats if needed\n",
    "    if any(keyword in metric_column.lower() for keyword in ['freq', 'accur', 'pct', '%']):\n",
    "        data[metric_column] = data[metric_column] * 100\n",
    "    elif 'rating' in metric_column.lower():\n",
    "        pass\n",
    "    else:\n",
    "        data[metric_column] = 100 * data[metric_column] / data['OffPoss']\n",
    "    xmin=data[metric_column].min() *.95\n",
    "    xmax=data[metric_column].max() *1.05\n",
    "    # Create figure\n",
    "    fig = go.Figure()\n",
    "    \n",
    "    # Colors\n",
    "    on_color = '#3e8989'  # Teal\n",
    "    off_color = '#ffdb58'  # Yellow\n",
    "\n",
    "    # Get unique players and sort by minutes\n",
    "    players = data.groupby('EntityId').agg({\n",
    "        'ShortName': 'first',\n",
    "        'Minutes': 'sum',\n",
    "        'Name': 'first'\n",
    "    }).sort_values('Minutes', ascending=True)  # Ascending for bottom-to-top display\n",
    "\n",
    "    # Add bars for each player\n",
    "    for status, color in zip([True, False], [on_color, off_color]):\n",
    "        status_label = f\"{name} On Court\" if status else f\"{name} Off Court\"\n",
    "        \n",
    "        # Filter data for current status\n",
    "        status_data = data[data['on'] == status]\n",
    "        \n",
    "        fig.add_trace(go.Bar(\n",
    "            x=status_data[metric_column],\n",
    "            y=status_data['ShortName'],\n",
    "            name=status_label,\n",
    "            orientation='h',\n",
    "            marker_color=color,\n",
    "            opacity=0.8,\n",
    "            width=0.2,  # Adjust bar width\n",
    "            offset=-0.15 if status else 0.15,  # Offset bars for on/off comparison\n",
    "            customdata=np.stack((\n",
    "                status_data['Year'],\n",
    "                status_data['TeamAbbreviation'],\n",
    "                status_data['Minutes'],\n",
    "                status_data['EntityId'],\n",
    "                status_data['Name'],\n",
    "                status_data[metric_column]\n",
    "            ), axis=-1),\n",
    "            hovertemplate=(\n",
    "                f\"<b>{status_label}</b><br>\" +\n",
    "                \"Player: %{customdata[4]}<br>\" +\n",
    "                \"Minutes: %{customdata[2]:.1f}<br>\" +\n",
    "                \"Year: %{customdata[0]}<br>\" +\n",
    "                \"Team: %{customdata[1]}<br>\" +\n",
    "                \"<extra></extra>\"\n",
    "            ),\n",
    "        ))\n",
    "\n",
    "    # Update layout with dark theme\n",
    "    fig.update_layout(\n",
    "        title=dict(\n",
    "            text=f\"{name}<br>Impact on Teammates ({start_year}-{end_year})\",\n",
    "            x=0.5,\n",
    "            font=dict(color='white', size=24)\n",
    "        ),\n",
    "        paper_bgcolor='#211a1d',\n",
    "        plot_bgcolor='#211a1d',\n",
    "        width=1200,\n",
    "        height=max(600, 100 * len(players) + 200),  # Dynamic height based on number of players\n",
    "        xaxis=dict(\n",
    "            title=metric_column,\n",
    "            gridcolor='rgba(255, 255, 255, 0.1)',\n",
    "            zerolinecolor='rgba(255, 255, 255, 0.1)',\n",
    "            tickfont=dict(color='white'),\n",
    "            titlefont=dict(color='white'),\n",
    "            range=[xmin,xmax]\n",
    "        ),\n",
    "        yaxis=dict(\n",
    "            title=None,\n",
    "            gridcolor='rgba(255, 255, 255, 0.1)',\n",
    "            zerolinecolor='rgba(255, 255, 255, 0.1)',\n",
    "            tickfont=dict(color='white', size=14),\n",
    "            titlefont=dict(color='white')\n",
    "        ),\n",
    "        barmode='overlay',\n",
    "        bargap=0.3,\n",
    "        showlegend=True,\n",
    "        legend=dict(\n",
    "            font=dict(color='white'),\n",
    "            bgcolor='rgba(0,0,0,0)',\n",
    "            x=1,\n",
    "            y=1.1,\n",
    "            xanchor='right',\n",
    "            yanchor='top',\n",
    "            orientation='v',\n",
    "            bordercolor='rgba(255, 255, 255, 0.3)',\n",
    "            borderwidth=1\n",
    "        )\n",
    "    )\n",
    "    \n",
    "    return fig\n",
    "def shift_graphic(start_year, end_year, team, player_id, x_column, y_column, ps=False, n=5):\n",
    "    player_id = str(player_id)\n",
    "    trail = 'ps' if ps else ''\n",
    "    frames = []\n",
    "    columns = ['EntityId', 'TeamId', 'TeamAbbreviation', 'Name', 'ShortName', \n",
    "               'OffPoss', 'DefPoss', 'Minutes', 'on', x_column, y_column]\n",
    "    \n",
    "    # Load data\n",
    "    for year in range(start_year, end_year + 1):\n",
    "        url_base = f'https://raw.githubusercontent.com/gabriel1200/playershift/refs/heads/main/data/{year}{trail}/{player_id}.csv'\n",
    "        df = pd.read_csv(url_base, usecols=columns)\n",
    "        df['Year'] = year\n",
    "        frames.append(df)\n",
    "    \n",
    "    data = pd.concat(frames)\n",
    "    \n",
    "    # Filter by team\n",
    "    data = data[data.TeamAbbreviation == team]\n",
    "    data.dropna(subset=[x_column, y_column], inplace=True)\n",
    "    data['EntityId'] = data['EntityId'].astype(str)\n",
    "\n",
    "    # Get player's short name\n",
    "    name = data[data.EntityId == player_id]['ShortName'].iloc[0]\n",
    "\n",
    "    # Find entities with both on/off data\n",
    "    off_entities = set(data[data['on'] == False]['EntityId'])\n",
    "    on_entities = set(data[data['on'] == True]['EntityId'])\n",
    "    entities = list(off_entities.intersection(on_entities))\n",
    "    print(\"Entities with both on/off data:\", entities)\n",
    "\n",
    "    # Filter to include only entities with both on/off data\n",
    "    data = data[data.EntityId.isin(entities)]\n",
    "\n",
    "    # Keep only the top n entities by Minutes\n",
    "    total_minutes = data.groupby('EntityId')['Minutes'].sum()\n",
    "    top_entities = total_minutes.nlargest(n).index.tolist()\n",
    "    \n",
    "    data = data[data.EntityId.isin(top_entities)]\n",
    "\n",
    "\n",
    "    # Calculate per-possession stats\n",
    "    if any(keyword in x_column.lower() for keyword in ['freq', 'accur', 'pct', '%']):\n",
    "        data[x_column] = data[x_column] * 100\n",
    "    elif 'rating' in x_column:\n",
    "        pass\n",
    "    else:\n",
    "        data[x_column] = 100 * data[x_column] / data['OffPoss']\n",
    "        \n",
    "    if any(keyword in y_column.lower() for keyword in ['freq', 'accur', 'pct', '%']):\n",
    "        data[y_column] = data[y_column] * 100\n",
    "    elif 'rating' in y_column:\n",
    "        pass\n",
    "    else:\n",
    "        data[y_column] = 100 * data[y_column] / data['OffPoss']\n",
    "        \n",
    "\n",
    "    # Create figure\n",
    "    fig = go.Figure()\n",
    "    \n",
    "    # Add scatter plots for on and off court\n",
    "    on_color='#3e8989'\n",
    "    off_color='#ffdb58'\n",
    "    for status, color in zip([True, False], [on_color,off_color ]):  # Cyan and Pink\n",
    "        mask = data['on'] == status\n",
    "        status_label = name+ ' On Court' if status else name+ ' Off Court'\n",
    "        \n",
    "        fig.add_trace(go.Scatter(\n",
    "            x=data[mask][x_column],\n",
    "            y=data[mask][y_column],\n",
    "            mode='markers+text',\n",
    "            text=data[mask]['ShortName'],\n",
    "            name=status_label,\n",
    "            textposition=\"top center\",\n",
    "            textfont_color=color,\n",
    "\n",
    "            marker=dict(\n",
    "                size=20,\n",
    "                color=color,\n",
    "                symbol='circle',\n",
    "                line=dict(color='white', width=1)\n",
    "            ),\n",
    "            customdata=np.stack((\n",
    "                data[mask]['Year'],\n",
    "                data[mask]['TeamAbbreviation'],\n",
    "                data[mask]['Minutes'],\n",
    "                data[mask]['EntityId'],\n",
    "                data[mask]['Name']\n",
    "            ), axis=-1),\n",
    "            hovertemplate=(\n",
    "                f\"<b>{status_label}</b><br>\" +\n",
    "                \"Year: %{customdata[0]}<br>\" +\n",
    "                \"Team: %{customdata[1]}<br>\" +\n",
    "                \"Player: %{customdata[4]}<br>\" +\n",
    "                \"Minutes: %{customdata[2]:.1f}<br>\" +\n",
    "                \"Entity ID: %{customdata[3]}<br>\" +\n",
    "                \"<extra></extra>\"\n",
    "            ),\n",
    "        ))\n",
    "    \n",
    "    for entity_id in data['EntityId'].unique():\n",
    "        entity_data = data[data['EntityId'] == entity_id]\n",
    "        \n",
    "        off_data = entity_data[~entity_data['on']].iloc[0]\n",
    "        on_data = entity_data[entity_data['on']].iloc[0]\n",
    "        \n",
    "        # Calculate differences for hover info\n",
    "        x_diff = on_data[x_column] - off_data[x_column]\n",
    "        y_diff = on_data[y_column] - off_data[y_column]\n",
    "        \n",
    "        # Add an annotation for the arrow\n",
    "        fig.add_annotation(\n",
    "            x=on_data[x_column],  # Arrowhead position (end)\n",
    "            y=on_data[y_column],\n",
    "            ax=off_data[x_column],  # Arrow tail position (start)\n",
    "            ay=off_data[y_column],\n",
    "            xref=\"x\",\n",
    "            yref=\"y\",\n",
    "            axref=\"x\",\n",
    "            ayref=\"y\",\n",
    "            showarrow=True,\n",
    "            arrowhead=3,  # Style of arrowhead\n",
    "            arrowsize=1.5,  # Size of the arrowhead\n",
    "            arrowwidth=2,  # Thickness of the arrow line\n",
    "            arrowcolor=off_color,  # Color of the arrow\n",
    "            opacity=0.8  # Slight transparency for better visibility\n",
    "        )\n",
    "        \n",
    "    # Update layout with dark theme\n",
    "    fig.update_layout(\n",
    "        title=dict(\n",
    "            text=f\"{name} <br> Impact on Teammates ({start_year}-{end_year})\",\n",
    "            x=.5,\n",
    "            font=dict(color='white', size=24)\n",
    "        ),\n",
    "        paper_bgcolor='#211a1d',\n",
    "        plot_bgcolor='#211a1d',\n",
    "        width=1200,\n",
    "        height=900,\n",
    "        xaxis=dict(\n",
    "            title=x_column,\n",
    "            gridcolor='rgba(255, 255, 255, 0.1)',\n",
    "            zerolinecolor='rgba(255, 255, 255, 0.1)',\n",
    "            tickfont=dict(color='white'),\n",
    "            titlefont=dict(color='white'),\n",
    "            range=[xmin,xmax]\n",
    "        ),\n",
    "        yaxis=dict(\n",
    "            title=y_column,\n",
    "            gridcolor='rgba(255, 255, 255, 0.1)',\n",
    "            zerolinecolor='rgba(255, 255, 255, 0.1)',\n",
    "            tickfont=dict(color='white'),\n",
    "            titlefont=dict(color='white')\n",
    "        ),\n",
    "        hovermode='closest',\n",
    "        showlegend=True,\n",
    "        legend=dict(\n",
    "            font=dict(color='white'),\n",
    "            bgcolor='rgba(0,0,0,0)',\n",
    "            x=1,  # Position the legend on the right side\n",
    "            y=1,  # Position the legend at the top\n",
    "            xanchor='right',  # Anchor point for x\n",
    "            yanchor='top',  # Anchor point for y\n",
    "            orientation='v',  # Vertical orientation\n",
    "            bordercolor='rgba(255, 255, 255, 0.3)',\n",
    "            borderwidth=1,  # Border width\n",
    "            itemsizing='constant'  # Keep legend item sizes constant\n",
    "        )\n",
    "    )\n",
    "    \n",
    "    return fig\n",
    "\n",
    "\n",
    "x_column,y_column='AtRimFG3AFrequency','EfgPct'\n",
    "\n",
    "fig = shift_graphic_horizontal(2025,2025,'ATL',201939,y_column,n=7)\n",
    "\n",
    "fig2 = shift_graphic_horizontal(2025,2025,'ATL',201939,x_column,y_column,n=7)\n",
    "\n",
    "fig.show()\n",
    "fig2.show"
   ]
  },
  {
   "cell_type": "code",
   "execution_count": null,
   "id": "8bbbc9a4-7fce-4328-8bdd-0727bd2a350e",
   "metadata": {},
   "outputs": [],
   "source": []
  },
  {
   "cell_type": "code",
   "execution_count": null,
   "id": "244d72b5-4e6c-4117-a701-a73ad93cdd65",
   "metadata": {},
   "outputs": [],
   "source": []
  }
 ],
 "metadata": {
  "kernelspec": {
   "display_name": "Python 3 (ipykernel)",
   "language": "python",
   "name": "python3"
  },
  "language_info": {
   "codemirror_mode": {
    "name": "ipython",
    "version": 3
   },
   "file_extension": ".py",
   "mimetype": "text/x-python",
   "name": "python",
   "nbconvert_exporter": "python",
   "pygments_lexer": "ipython3",
   "version": "3.10.12"
  }
 },
 "nbformat": 4,
 "nbformat_minor": 5
}
