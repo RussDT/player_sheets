{
 "cells": [
  {
   "cell_type": "code",
   "execution_count": 16,
   "id": "4e2b5abd-c4d1-4b9f-a68f-7bbb4b58ba12",
   "metadata": {},
   "outputs": [
    {
     "data": {
      "application/vnd.plotly.v1+json": {
       "config": {
        "plotlyServerURL": "https://plot.ly"
       },
       "data": [
        {
         "marker": {
          "color": "#552583",
          "line": {
           "color": "#FDB927",
           "width": 5
          }
         },
         "name": "LAL",
         "text": [
          "21",
          "3",
          "9",
          "18"
         ],
         "type": "bar",
         "x": [
          "Pullup",
          "Tight 3",
          "Open 3",
          "Wide Open3"
         ],
         "xaxis": "x5",
         "y": [
          21,
          3,
          9,
          18
         ],
         "yaxis": "y5"
        },
        {
         "marker": {
          "color": "#0C2340",
          "line": {
           "color": "#236192",
           "width": 5
          }
         },
         "name": "MIN",
         "text": [
          "28",
          "4",
          "21",
          "16"
         ],
         "type": "bar",
         "x": [
          "Pullup",
          "Tight 3",
          "Open 3",
          "Wide Open3"
         ],
         "xaxis": "x5",
         "y": [
          28,
          4,
          21,
          16
         ],
         "yaxis": "y5"
        },
        {
         "marker": {
          "color": "#552583",
          "line": {
           "color": "#FDB927",
           "width": 5
          }
         },
         "name": "LAL",
         "showlegend": false,
         "text": [
          "36",
          "50",
          "17",
          "25"
         ],
         "type": "bar",
         "x": [
          "Pull Up",
          "Tight 3",
          "Open 3",
          "Wide Open 3"
         ],
         "xaxis": "x6",
         "y": [
          36,
          50,
          17,
          25
         ],
         "yaxis": "y6"
        },
        {
         "marker": {
          "color": "#0C2340",
          "line": {
           "color": "#236192",
           "width": 5
          }
         },
         "name": "MIN",
         "showlegend": false,
         "text": [
          "39",
          "0",
          "64",
          "38"
         ],
         "type": "bar",
         "x": [
          "Pull Up",
          "Tight 3",
          "Open 3",
          "Wide Open 3"
         ],
         "xaxis": "x6",
         "y": [
          39,
          0,
          64,
          38
         ],
         "yaxis": "y6"
        },
        {
         "marker": {
          "color": "#552583",
          "line": {
           "color": "#FDB927",
           "width": 5
          }
         },
         "name": "LAL",
         "showlegend": false,
         "text": [
          "7",
          "15",
          "31"
         ],
         "type": "bar",
         "x": [
          "Turnovers",
          "OREB",
          "DREB"
         ],
         "xaxis": "x3",
         "y": [
          7,
          15,
          31
         ],
         "yaxis": "y3"
        },
        {
         "marker": {
          "color": "#0C2340",
          "line": {
           "color": "#236192",
           "width": 5
          }
         },
         "name": "MIN",
         "showlegend": false,
         "text": [
          "15",
          "12",
          "35"
         ],
         "type": "bar",
         "x": [
          "Turnovers",
          "OREB",
          "DREB"
         ],
         "xaxis": "x3",
         "y": [
          15,
          12,
          35
         ],
         "yaxis": "y3"
        },
        {
         "marker": {
          "color": "#552583",
          "line": {
           "color": "#FDB927",
           "width": 5
          }
         },
         "name": "LAL",
         "showlegend": false,
         "text": [
          "54",
          "34"
         ],
         "type": "bar",
         "x": [
          "Potential Assists",
          "Drives"
         ],
         "xaxis": "x4",
         "y": [
          54,
          34
         ],
         "yaxis": "y4"
        },
        {
         "marker": {
          "color": "#0C2340",
          "line": {
           "color": "#236192",
           "width": 5
          }
         },
         "name": "MIN",
         "showlegend": false,
         "text": [
          "42",
          "42"
         ],
         "type": "bar",
         "x": [
          "Potential Assists",
          "Drives"
         ],
         "xaxis": "x4",
         "y": [
          42,
          42
         ],
         "yaxis": "y4"
        },
        {
         "marker": {
          "color": "#552583",
          "line": {
           "color": "#FDB927",
           "width": 5
          }
         },
         "name": "LAL",
         "showlegend": false,
         "text": [
          "40",
          "24",
          "31",
          "25"
         ],
         "type": "bar",
         "x": [
          "Rim",
          "Midrange",
          "Threes",
          "Free Throw"
         ],
         "xaxis": "x",
         "y": [
          40,
          24,
          31,
          25
         ],
         "yaxis": "y"
        },
        {
         "marker": {
          "color": "#0C2340",
          "line": {
           "color": "#236192",
           "width": 5
          }
         },
         "name": "MIN",
         "showlegend": false,
         "text": [
          "28",
          "14",
          "43",
          "27"
         ],
         "type": "bar",
         "x": [
          "Rim",
          "Midrange",
          "Threes",
          "Free Throw"
         ],
         "xaxis": "x",
         "y": [
          28,
          14,
          43,
          27
         ],
         "yaxis": "y"
        },
        {
         "marker": {
          "color": "#552583",
          "line": {
           "color": "#FDB927",
           "width": 5
          }
         },
         "name": "LAL",
         "showlegend": false,
         "text": [
          "68",
          "42",
          "24",
          "84"
         ],
         "type": "bar",
         "x": [
          "Rim",
          "Midrange",
          "Threes",
          "Free Throw"
         ],
         "xaxis": "x2",
         "y": [
          68,
          42,
          24,
          84
         ],
         "yaxis": "y2"
        },
        {
         "marker": {
          "color": "#0C2340",
          "line": {
           "color": "#236192",
           "width": 5
          }
         },
         "name": "MIN",
         "showlegend": false,
         "text": [
          "57",
          "36",
          "49",
          "74"
         ],
         "type": "bar",
         "x": [
          "Rim",
          "Midrange",
          "Threes",
          "Free Throw"
         ],
         "xaxis": "x2",
         "y": [
          57,
          36,
          49,
          74
         ],
         "yaxis": "y2"
        }
       ],
       "layout": {
        "annotations": [
         {
          "font": {
           "size": 16
          },
          "showarrow": false,
          "text": "<b>Shot Zone Volume<b>",
          "x": 0.225,
          "xanchor": "center",
          "xref": "paper",
          "y": 0.9999999999999999,
          "yanchor": "bottom",
          "yref": "paper"
         },
         {
          "font": {
           "size": 16
          },
          "showarrow": false,
          "text": "<b>Shot Zone EFG%<b>",
          "x": 0.775,
          "xanchor": "center",
          "xref": "paper",
          "y": 0.9999999999999999,
          "yanchor": "bottom",
          "yref": "paper"
         },
         {
          "font": {
           "size": 16
          },
          "showarrow": false,
          "text": "<b>Possesions<b>",
          "x": 0.225,
          "xanchor": "center",
          "xref": "paper",
          "y": 0.6166666666666666,
          "yanchor": "bottom",
          "yref": "paper"
         },
         {
          "font": {
           "size": 16
          },
          "showarrow": false,
          "text": "<b>Creation<b>",
          "x": 0.775,
          "xanchor": "center",
          "xref": "paper",
          "y": 0.6166666666666666,
          "yanchor": "bottom",
          "yref": "paper"
         },
         {
          "font": {
           "size": 16
          },
          "showarrow": false,
          "text": "<b>Ranged Shots by Type<b>",
          "x": 0.225,
          "xanchor": "center",
          "xref": "paper",
          "y": 0.2333333333333333,
          "yanchor": "bottom",
          "yref": "paper"
         },
         {
          "font": {
           "size": 16
          },
          "showarrow": false,
          "text": "<b>Ranged Shots by EFG%<b>",
          "x": 0.775,
          "xanchor": "center",
          "xref": "paper",
          "y": 0.2333333333333333,
          "yanchor": "bottom",
          "yref": "paper"
         }
        ],
        "bargap": 0.25,
        "barmode": "group",
        "height": 900,
        "legend": {
         "orientation": "h",
         "x": 1,
         "xanchor": "right",
         "y": 1.02,
         "yanchor": "bottom"
        },
        "paper_bgcolor": "#F5F5DC",
        "plot_bgcolor": "#F5F5DC",
        "showlegend": true,
        "template": {
         "data": {
          "bar": [
           {
            "error_x": {
             "color": "#2a3f5f"
            },
            "error_y": {
             "color": "#2a3f5f"
            },
            "marker": {
             "line": {
              "color": "#E5ECF6",
              "width": 0.5
             },
             "pattern": {
              "fillmode": "overlay",
              "size": 10,
              "solidity": 0.2
             }
            },
            "type": "bar"
           }
          ],
          "barpolar": [
           {
            "marker": {
             "line": {
              "color": "#E5ECF6",
              "width": 0.5
             },
             "pattern": {
              "fillmode": "overlay",
              "size": 10,
              "solidity": 0.2
             }
            },
            "type": "barpolar"
           }
          ],
          "carpet": [
           {
            "aaxis": {
             "endlinecolor": "#2a3f5f",
             "gridcolor": "white",
             "linecolor": "white",
             "minorgridcolor": "white",
             "startlinecolor": "#2a3f5f"
            },
            "baxis": {
             "endlinecolor": "#2a3f5f",
             "gridcolor": "white",
             "linecolor": "white",
             "minorgridcolor": "white",
             "startlinecolor": "#2a3f5f"
            },
            "type": "carpet"
           }
          ],
          "choropleth": [
           {
            "colorbar": {
             "outlinewidth": 0,
             "ticks": ""
            },
            "type": "choropleth"
           }
          ],
          "contour": [
           {
            "colorbar": {
             "outlinewidth": 0,
             "ticks": ""
            },
            "colorscale": [
             [
              0,
              "#0d0887"
             ],
             [
              0.1111111111111111,
              "#46039f"
             ],
             [
              0.2222222222222222,
              "#7201a8"
             ],
             [
              0.3333333333333333,
              "#9c179e"
             ],
             [
              0.4444444444444444,
              "#bd3786"
             ],
             [
              0.5555555555555556,
              "#d8576b"
             ],
             [
              0.6666666666666666,
              "#ed7953"
             ],
             [
              0.7777777777777778,
              "#fb9f3a"
             ],
             [
              0.8888888888888888,
              "#fdca26"
             ],
             [
              1,
              "#f0f921"
             ]
            ],
            "type": "contour"
           }
          ],
          "contourcarpet": [
           {
            "colorbar": {
             "outlinewidth": 0,
             "ticks": ""
            },
            "type": "contourcarpet"
           }
          ],
          "heatmap": [
           {
            "colorbar": {
             "outlinewidth": 0,
             "ticks": ""
            },
            "colorscale": [
             [
              0,
              "#0d0887"
             ],
             [
              0.1111111111111111,
              "#46039f"
             ],
             [
              0.2222222222222222,
              "#7201a8"
             ],
             [
              0.3333333333333333,
              "#9c179e"
             ],
             [
              0.4444444444444444,
              "#bd3786"
             ],
             [
              0.5555555555555556,
              "#d8576b"
             ],
             [
              0.6666666666666666,
              "#ed7953"
             ],
             [
              0.7777777777777778,
              "#fb9f3a"
             ],
             [
              0.8888888888888888,
              "#fdca26"
             ],
             [
              1,
              "#f0f921"
             ]
            ],
            "type": "heatmap"
           }
          ],
          "heatmapgl": [
           {
            "colorbar": {
             "outlinewidth": 0,
             "ticks": ""
            },
            "colorscale": [
             [
              0,
              "#0d0887"
             ],
             [
              0.1111111111111111,
              "#46039f"
             ],
             [
              0.2222222222222222,
              "#7201a8"
             ],
             [
              0.3333333333333333,
              "#9c179e"
             ],
             [
              0.4444444444444444,
              "#bd3786"
             ],
             [
              0.5555555555555556,
              "#d8576b"
             ],
             [
              0.6666666666666666,
              "#ed7953"
             ],
             [
              0.7777777777777778,
              "#fb9f3a"
             ],
             [
              0.8888888888888888,
              "#fdca26"
             ],
             [
              1,
              "#f0f921"
             ]
            ],
            "type": "heatmapgl"
           }
          ],
          "histogram": [
           {
            "marker": {
             "pattern": {
              "fillmode": "overlay",
              "size": 10,
              "solidity": 0.2
             }
            },
            "type": "histogram"
           }
          ],
          "histogram2d": [
           {
            "colorbar": {
             "outlinewidth": 0,
             "ticks": ""
            },
            "colorscale": [
             [
              0,
              "#0d0887"
             ],
             [
              0.1111111111111111,
              "#46039f"
             ],
             [
              0.2222222222222222,
              "#7201a8"
             ],
             [
              0.3333333333333333,
              "#9c179e"
             ],
             [
              0.4444444444444444,
              "#bd3786"
             ],
             [
              0.5555555555555556,
              "#d8576b"
             ],
             [
              0.6666666666666666,
              "#ed7953"
             ],
             [
              0.7777777777777778,
              "#fb9f3a"
             ],
             [
              0.8888888888888888,
              "#fdca26"
             ],
             [
              1,
              "#f0f921"
             ]
            ],
            "type": "histogram2d"
           }
          ],
          "histogram2dcontour": [
           {
            "colorbar": {
             "outlinewidth": 0,
             "ticks": ""
            },
            "colorscale": [
             [
              0,
              "#0d0887"
             ],
             [
              0.1111111111111111,
              "#46039f"
             ],
             [
              0.2222222222222222,
              "#7201a8"
             ],
             [
              0.3333333333333333,
              "#9c179e"
             ],
             [
              0.4444444444444444,
              "#bd3786"
             ],
             [
              0.5555555555555556,
              "#d8576b"
             ],
             [
              0.6666666666666666,
              "#ed7953"
             ],
             [
              0.7777777777777778,
              "#fb9f3a"
             ],
             [
              0.8888888888888888,
              "#fdca26"
             ],
             [
              1,
              "#f0f921"
             ]
            ],
            "type": "histogram2dcontour"
           }
          ],
          "mesh3d": [
           {
            "colorbar": {
             "outlinewidth": 0,
             "ticks": ""
            },
            "type": "mesh3d"
           }
          ],
          "parcoords": [
           {
            "line": {
             "colorbar": {
              "outlinewidth": 0,
              "ticks": ""
             }
            },
            "type": "parcoords"
           }
          ],
          "pie": [
           {
            "automargin": true,
            "type": "pie"
           }
          ],
          "scatter": [
           {
            "fillpattern": {
             "fillmode": "overlay",
             "size": 10,
             "solidity": 0.2
            },
            "type": "scatter"
           }
          ],
          "scatter3d": [
           {
            "line": {
             "colorbar": {
              "outlinewidth": 0,
              "ticks": ""
             }
            },
            "marker": {
             "colorbar": {
              "outlinewidth": 0,
              "ticks": ""
             }
            },
            "type": "scatter3d"
           }
          ],
          "scattercarpet": [
           {
            "marker": {
             "colorbar": {
              "outlinewidth": 0,
              "ticks": ""
             }
            },
            "type": "scattercarpet"
           }
          ],
          "scattergeo": [
           {
            "marker": {
             "colorbar": {
              "outlinewidth": 0,
              "ticks": ""
             }
            },
            "type": "scattergeo"
           }
          ],
          "scattergl": [
           {
            "marker": {
             "colorbar": {
              "outlinewidth": 0,
              "ticks": ""
             }
            },
            "type": "scattergl"
           }
          ],
          "scattermapbox": [
           {
            "marker": {
             "colorbar": {
              "outlinewidth": 0,
              "ticks": ""
             }
            },
            "type": "scattermapbox"
           }
          ],
          "scatterpolar": [
           {
            "marker": {
             "colorbar": {
              "outlinewidth": 0,
              "ticks": ""
             }
            },
            "type": "scatterpolar"
           }
          ],
          "scatterpolargl": [
           {
            "marker": {
             "colorbar": {
              "outlinewidth": 0,
              "ticks": ""
             }
            },
            "type": "scatterpolargl"
           }
          ],
          "scatterternary": [
           {
            "marker": {
             "colorbar": {
              "outlinewidth": 0,
              "ticks": ""
             }
            },
            "type": "scatterternary"
           }
          ],
          "surface": [
           {
            "colorbar": {
             "outlinewidth": 0,
             "ticks": ""
            },
            "colorscale": [
             [
              0,
              "#0d0887"
             ],
             [
              0.1111111111111111,
              "#46039f"
             ],
             [
              0.2222222222222222,
              "#7201a8"
             ],
             [
              0.3333333333333333,
              "#9c179e"
             ],
             [
              0.4444444444444444,
              "#bd3786"
             ],
             [
              0.5555555555555556,
              "#d8576b"
             ],
             [
              0.6666666666666666,
              "#ed7953"
             ],
             [
              0.7777777777777778,
              "#fb9f3a"
             ],
             [
              0.8888888888888888,
              "#fdca26"
             ],
             [
              1,
              "#f0f921"
             ]
            ],
            "type": "surface"
           }
          ],
          "table": [
           {
            "cells": {
             "fill": {
              "color": "#EBF0F8"
             },
             "line": {
              "color": "white"
             }
            },
            "header": {
             "fill": {
              "color": "#C8D4E3"
             },
             "line": {
              "color": "white"
             }
            },
            "type": "table"
           }
          ]
         },
         "layout": {
          "annotationdefaults": {
           "arrowcolor": "#2a3f5f",
           "arrowhead": 0,
           "arrowwidth": 1
          },
          "autotypenumbers": "strict",
          "coloraxis": {
           "colorbar": {
            "outlinewidth": 0,
            "ticks": ""
           }
          },
          "colorscale": {
           "diverging": [
            [
             0,
             "#8e0152"
            ],
            [
             0.1,
             "#c51b7d"
            ],
            [
             0.2,
             "#de77ae"
            ],
            [
             0.3,
             "#f1b6da"
            ],
            [
             0.4,
             "#fde0ef"
            ],
            [
             0.5,
             "#f7f7f7"
            ],
            [
             0.6,
             "#e6f5d0"
            ],
            [
             0.7,
             "#b8e186"
            ],
            [
             0.8,
             "#7fbc41"
            ],
            [
             0.9,
             "#4d9221"
            ],
            [
             1,
             "#276419"
            ]
           ],
           "sequential": [
            [
             0,
             "#0d0887"
            ],
            [
             0.1111111111111111,
             "#46039f"
            ],
            [
             0.2222222222222222,
             "#7201a8"
            ],
            [
             0.3333333333333333,
             "#9c179e"
            ],
            [
             0.4444444444444444,
             "#bd3786"
            ],
            [
             0.5555555555555556,
             "#d8576b"
            ],
            [
             0.6666666666666666,
             "#ed7953"
            ],
            [
             0.7777777777777778,
             "#fb9f3a"
            ],
            [
             0.8888888888888888,
             "#fdca26"
            ],
            [
             1,
             "#f0f921"
            ]
           ],
           "sequentialminus": [
            [
             0,
             "#0d0887"
            ],
            [
             0.1111111111111111,
             "#46039f"
            ],
            [
             0.2222222222222222,
             "#7201a8"
            ],
            [
             0.3333333333333333,
             "#9c179e"
            ],
            [
             0.4444444444444444,
             "#bd3786"
            ],
            [
             0.5555555555555556,
             "#d8576b"
            ],
            [
             0.6666666666666666,
             "#ed7953"
            ],
            [
             0.7777777777777778,
             "#fb9f3a"
            ],
            [
             0.8888888888888888,
             "#fdca26"
            ],
            [
             1,
             "#f0f921"
            ]
           ]
          },
          "colorway": [
           "#636efa",
           "#EF553B",
           "#00cc96",
           "#ab63fa",
           "#FFA15A",
           "#19d3f3",
           "#FF6692",
           "#B6E880",
           "#FF97FF",
           "#FECB52"
          ],
          "font": {
           "color": "#2a3f5f"
          },
          "geo": {
           "bgcolor": "white",
           "lakecolor": "white",
           "landcolor": "#E5ECF6",
           "showlakes": true,
           "showland": true,
           "subunitcolor": "white"
          },
          "hoverlabel": {
           "align": "left"
          },
          "hovermode": "closest",
          "mapbox": {
           "style": "light"
          },
          "paper_bgcolor": "white",
          "plot_bgcolor": "#E5ECF6",
          "polar": {
           "angularaxis": {
            "gridcolor": "white",
            "linecolor": "white",
            "ticks": ""
           },
           "bgcolor": "#E5ECF6",
           "radialaxis": {
            "gridcolor": "white",
            "linecolor": "white",
            "ticks": ""
           }
          },
          "scene": {
           "xaxis": {
            "backgroundcolor": "#E5ECF6",
            "gridcolor": "white",
            "gridwidth": 2,
            "linecolor": "white",
            "showbackground": true,
            "ticks": "",
            "zerolinecolor": "white"
           },
           "yaxis": {
            "backgroundcolor": "#E5ECF6",
            "gridcolor": "white",
            "gridwidth": 2,
            "linecolor": "white",
            "showbackground": true,
            "ticks": "",
            "zerolinecolor": "white"
           },
           "zaxis": {
            "backgroundcolor": "#E5ECF6",
            "gridcolor": "white",
            "gridwidth": 2,
            "linecolor": "white",
            "showbackground": true,
            "ticks": "",
            "zerolinecolor": "white"
           }
          },
          "shapedefaults": {
           "line": {
            "color": "#2a3f5f"
           }
          },
          "ternary": {
           "aaxis": {
            "gridcolor": "white",
            "linecolor": "white",
            "ticks": ""
           },
           "baxis": {
            "gridcolor": "white",
            "linecolor": "white",
            "ticks": ""
           },
           "bgcolor": "#E5ECF6",
           "caxis": {
            "gridcolor": "white",
            "linecolor": "white",
            "ticks": ""
           }
          },
          "title": {
           "x": 0.05
          },
          "xaxis": {
           "automargin": true,
           "gridcolor": "white",
           "linecolor": "white",
           "ticks": "",
           "title": {
            "standoff": 15
           },
           "zerolinecolor": "white",
           "zerolinewidth": 2
          },
          "yaxis": {
           "automargin": true,
           "gridcolor": "white",
           "linecolor": "white",
           "ticks": "",
           "title": {
            "standoff": 15
           },
           "zerolinecolor": "white",
           "zerolinewidth": 2
          }
         }
        },
        "title": {
         "font": {
          "size": 30
         },
         "text": "Los Angeles Lakers(110) vs Minnesota Timberwolves(103)<br>2024/10/22",
         "x": 0.5
        },
        "width": 1350,
        "xaxis": {
         "anchor": "y",
         "autorange": true,
         "domain": [
          0,
          0.45
         ],
         "range": [
          -0.5,
          3.5
         ],
         "tickfont": {
          "size": 15
         },
         "type": "category"
        },
        "xaxis2": {
         "anchor": "y2",
         "autorange": true,
         "domain": [
          0.55,
          1
         ],
         "range": [
          -0.5,
          3.5
         ],
         "tickfont": {
          "size": 15
         },
         "type": "category"
        },
        "xaxis3": {
         "anchor": "y3",
         "autorange": true,
         "domain": [
          0,
          0.45
         ],
         "range": [
          -0.5,
          2.5
         ],
         "tickfont": {
          "size": 15
         },
         "type": "category"
        },
        "xaxis4": {
         "anchor": "y4",
         "autorange": true,
         "domain": [
          0.55,
          1
         ],
         "range": [
          -0.5,
          1.5
         ],
         "tickfont": {
          "size": 15
         },
         "type": "category"
        },
        "xaxis5": {
         "anchor": "y5",
         "autorange": true,
         "domain": [
          0,
          0.45
         ],
         "range": [
          -0.5,
          3.5
         ],
         "tickfont": {
          "size": 15
         },
         "type": "category"
        },
        "xaxis6": {
         "anchor": "y6",
         "autorange": true,
         "domain": [
          0.55,
          1
         ],
         "range": [
          -0.5,
          3.5
         ],
         "tickfont": {
          "size": 15
         },
         "type": "category"
        },
        "yaxis": {
         "anchor": "x",
         "autorange": true,
         "domain": [
          0.7666666666666666,
          0.9999999999999999
         ],
         "range": [
          0,
          45.26315789473684
         ],
         "title": {
          "text": "Shot Attempts"
         },
         "type": "linear",
         "visible": false
        },
        "yaxis2": {
         "anchor": "x2",
         "autorange": true,
         "domain": [
          0.7666666666666666,
          0.9999999999999999
         ],
         "range": [
          0,
          88.42105263157895
         ],
         "title": {
          "text": "eFG%"
         },
         "type": "linear",
         "visible": false
        },
        "yaxis3": {
         "anchor": "x3",
         "autorange": true,
         "domain": [
          0.3833333333333333,
          0.6166666666666666
         ],
         "range": [
          0,
          36.8421052631579
         ],
         "title": {
          "text": "Total"
         },
         "type": "linear",
         "visible": false
        },
        "yaxis4": {
         "anchor": "x4",
         "autorange": true,
         "domain": [
          0.3833333333333333,
          0.6166666666666666
         ],
         "range": [
          0,
          56.8421052631579
         ],
         "title": {
          "text": "Total"
         },
         "type": "linear",
         "visible": false
        },
        "yaxis5": {
         "anchor": "x5",
         "autorange": true,
         "domain": [
          0,
          0.2333333333333333
         ],
         "range": [
          0,
          29.473684210526315
         ],
         "title": {
          "text": "Shot Attempts"
         },
         "type": "linear",
         "visible": false
        },
        "yaxis6": {
         "anchor": "x6",
         "autorange": true,
         "domain": [
          0,
          0.2333333333333333
         ],
         "range": [
          0,
          67.36842105263158
         ],
         "title": {
          "text": "eFG%"
         },
         "type": "linear",
         "visible": false
        }
       }
      },
      "image/png": "[encoded data removed]",
      "text/html": [
       "<div>                            <div id=\"8deecaf8-4a50-4d8c-81ad-b72219544626\" class=\"plotly-graph-div\" style=\"height:900px; width:1350px;\"></div>            <script type=\"text/javascript\">                require([\"plotly\"], function(Plotly) {                    window.PLOTLYENV=window.PLOTLYENV || {};                                    if (document.getElementById(\"8deecaf8-4a50-4d8c-81ad-b72219544626\")) {                    Plotly.newPlot(                        \"8deecaf8-4a50-4d8c-81ad-b72219544626\",                        [{\"marker\":{\"color\":\"#552583\",\"line\":{\"color\":\"#FDB927\",\"width\":5}},\"name\":\"LAL\",\"text\":[\"21\",\"3\",\"9\",\"18\"],\"x\":[\"Pullup\",\"Tight 3\",\"Open 3\",\"Wide Open3\"],\"y\":[21,3,9,18],\"type\":\"bar\",\"xaxis\":\"x5\",\"yaxis\":\"y5\"},{\"marker\":{\"color\":\"#0C2340\",\"line\":{\"color\":\"#236192\",\"width\":5}},\"name\":\"MIN\",\"text\":[\"28\",\"4\",\"21\",\"16\"],\"x\":[\"Pullup\",\"Tight 3\",\"Open 3\",\"Wide Open3\"],\"y\":[28,4,21,16],\"type\":\"bar\",\"xaxis\":\"x5\",\"yaxis\":\"y5\"},{\"marker\":{\"color\":\"#552583\",\"line\":{\"color\":\"#FDB927\",\"width\":5}},\"name\":\"LAL\",\"showlegend\":false,\"text\":[\"36\",\"50\",\"17\",\"25\"],\"x\":[\"Pull Up\",\"Tight 3\",\"Open 3\",\"Wide Open 3\"],\"y\":[36,50,17,25],\"type\":\"bar\",\"xaxis\":\"x6\",\"yaxis\":\"y6\"},{\"marker\":{\"color\":\"#0C2340\",\"line\":{\"color\":\"#236192\",\"width\":5}},\"name\":\"MIN\",\"showlegend\":false,\"text\":[\"39\",\"0\",\"64\",\"38\"],\"x\":[\"Pull Up\",\"Tight 3\",\"Open 3\",\"Wide Open 3\"],\"y\":[39,0,64,38],\"type\":\"bar\",\"xaxis\":\"x6\",\"yaxis\":\"y6\"},{\"marker\":{\"color\":\"#552583\",\"line\":{\"color\":\"#FDB927\",\"width\":5}},\"name\":\"LAL\",\"showlegend\":false,\"text\":[\"7\",\"15\",\"31\"],\"x\":[\"Turnovers\",\"OREB\",\"DREB\"],\"y\":[7,15,31],\"type\":\"bar\",\"xaxis\":\"x3\",\"yaxis\":\"y3\"},{\"marker\":{\"color\":\"#0C2340\",\"line\":{\"color\":\"#236192\",\"width\":5}},\"name\":\"MIN\",\"showlegend\":false,\"text\":[\"15\",\"12\",\"35\"],\"x\":[\"Turnovers\",\"OREB\",\"DREB\"],\"y\":[15,12,35],\"type\":\"bar\",\"xaxis\":\"x3\",\"yaxis\":\"y3\"},{\"marker\":{\"color\":\"#552583\",\"line\":{\"color\":\"#FDB927\",\"width\":5}},\"name\":\"LAL\",\"showlegend\":false,\"text\":[\"54\",\"34\"],\"x\":[\"Potential Assists\",\"Drives\"],\"y\":[54,34],\"type\":\"bar\",\"xaxis\":\"x4\",\"yaxis\":\"y4\"},{\"marker\":{\"color\":\"#0C2340\",\"line\":{\"color\":\"#236192\",\"width\":5}},\"name\":\"MIN\",\"showlegend\":false,\"text\":[\"42\",\"42\"],\"x\":[\"Potential Assists\",\"Drives\"],\"y\":[42,42],\"type\":\"bar\",\"xaxis\":\"x4\",\"yaxis\":\"y4\"},{\"marker\":{\"color\":\"#552583\",\"line\":{\"color\":\"#FDB927\",\"width\":5}},\"name\":\"LAL\",\"showlegend\":false,\"text\":[\"40\",\"24\",\"31\",\"25\"],\"x\":[\"Rim\",\"Midrange\",\"Threes\",\"Free Throw\"],\"y\":[40,24,31,25],\"type\":\"bar\",\"xaxis\":\"x\",\"yaxis\":\"y\"},{\"marker\":{\"color\":\"#0C2340\",\"line\":{\"color\":\"#236192\",\"width\":5}},\"name\":\"MIN\",\"showlegend\":false,\"text\":[\"28\",\"14\",\"43\",\"27\"],\"x\":[\"Rim\",\"Midrange\",\"Threes\",\"Free Throw\"],\"y\":[28,14,43,27],\"type\":\"bar\",\"xaxis\":\"x\",\"yaxis\":\"y\"},{\"marker\":{\"color\":\"#552583\",\"line\":{\"color\":\"#FDB927\",\"width\":5}},\"name\":\"LAL\",\"showlegend\":false,\"text\":[\"68\",\"42\",\"24\",\"84\"],\"x\":[\"Rim\",\"Midrange\",\"Threes\",\"Free Throw\"],\"y\":[68,42,24,84],\"type\":\"bar\",\"xaxis\":\"x2\",\"yaxis\":\"y2\"},{\"marker\":{\"color\":\"#0C2340\",\"line\":{\"color\":\"#236192\",\"width\":5}},\"name\":\"MIN\",\"showlegend\":false,\"text\":[\"57\",\"36\",\"49\",\"74\"],\"x\":[\"Rim\",\"Midrange\",\"Threes\",\"Free Throw\"],\"y\":[57,36,49,74],\"type\":\"bar\",\"xaxis\":\"x2\",\"yaxis\":\"y2\"}],                        {\"template\":{\"data\":{\"histogram2dcontour\":[{\"type\":\"histogram2dcontour\",\"colorbar\":{\"outlinewidth\":0,\"ticks\":\"\"},\"colorscale\":[[0.0,\"#0d0887\"],[0.1111111111111111,\"#46039f\"],[0.2222222222222222,\"#7201a8\"],[0.3333333333333333,\"#9c179e\"],[0.4444444444444444,\"#bd3786\"],[0.5555555555555556,\"#d8576b\"],[0.6666666666666666,\"#ed7953\"],[0.7777777777777778,\"#fb9f3a\"],[0.8888888888888888,\"#fdca26\"],[1.0,\"#f0f921\"]]}],\"choropleth\":[{\"type\":\"choropleth\",\"colorbar\":{\"outlinewidth\":0,\"ticks\":\"\"}}],\"histogram2d\":[{\"type\":\"histogram2d\",\"colorbar\":{\"outlinewidth\":0,\"ticks\":\"\"},\"colorscale\":[[0.0,\"#0d0887\"],[0.1111111111111111,\"#46039f\"],[0.2222222222222222,\"#7201a8\"],[0.3333333333333333,\"#9c179e\"],[0.4444444444444444,\"#bd3786\"],[0.5555555555555556,\"#d8576b\"],[0.6666666666666666,\"#ed7953\"],[0.7777777777777778,\"#fb9f3a\"],[0.8888888888888888,\"#fdca26\"],[1.0,\"#f0f921\"]]}],\"heatmap\":[{\"type\":\"heatmap\",\"colorbar\":{\"outlinewidth\":0,\"ticks\":\"\"},\"colorscale\":[[0.0,\"#0d0887\"],[0.1111111111111111,\"#46039f\"],[0.2222222222222222,\"#7201a8\"],[0.3333333333333333,\"#9c179e\"],[0.4444444444444444,\"#bd3786\"],[0.5555555555555556,\"#d8576b\"],[0.6666666666666666,\"#ed7953\"],[0.7777777777777778,\"#fb9f3a\"],[0.8888888888888888,\"#fdca26\"],[1.0,\"#f0f921\"]]}],\"heatmapgl\":[{\"type\":\"heatmapgl\",\"colorbar\":{\"outlinewidth\":0,\"ticks\":\"\"},\"colorscale\":[[0.0,\"#0d0887\"],[0.1111111111111111,\"#46039f\"],[0.2222222222222222,\"#7201a8\"],[0.3333333333333333,\"#9c179e\"],[0.4444444444444444,\"#bd3786\"],[0.5555555555555556,\"#d8576b\"],[0.6666666666666666,\"#ed7953\"],[0.7777777777777778,\"#fb9f3a\"],[0.8888888888888888,\"#fdca26\"],[1.0,\"#f0f921\"]]}],\"contourcarpet\":[{\"type\":\"contourcarpet\",\"colorbar\":{\"outlinewidth\":0,\"ticks\":\"\"}}],\"contour\":[{\"type\":\"contour\",\"colorbar\":{\"outlinewidth\":0,\"ticks\":\"\"},\"colorscale\":[[0.0,\"#0d0887\"],[0.1111111111111111,\"#46039f\"],[0.2222222222222222,\"#7201a8\"],[0.3333333333333333,\"#9c179e\"],[0.4444444444444444,\"#bd3786\"],[0.5555555555555556,\"#d8576b\"],[0.6666666666666666,\"#ed7953\"],[0.7777777777777778,\"#fb9f3a\"],[0.8888888888888888,\"#fdca26\"],[1.0,\"#f0f921\"]]}],\"surface\":[{\"type\":\"surface\",\"colorbar\":{\"outlinewidth\":0,\"ticks\":\"\"},\"colorscale\":[[0.0,\"#0d0887\"],[0.1111111111111111,\"#46039f\"],[0.2222222222222222,\"#7201a8\"],[0.3333333333333333,\"#9c179e\"],[0.4444444444444444,\"#bd3786\"],[0.5555555555555556,\"#d8576b\"],[0.6666666666666666,\"#ed7953\"],[0.7777777777777778,\"#fb9f3a\"],[0.8888888888888888,\"#fdca26\"],[1.0,\"#f0f921\"]]}],\"mesh3d\":[{\"type\":\"mesh3d\",\"colorbar\":{\"outlinewidth\":0,\"ticks\":\"\"}}],\"scatter\":[{\"fillpattern\":{\"fillmode\":\"overlay\",\"size\":10,\"solidity\":0.2},\"type\":\"scatter\"}],\"parcoords\":[{\"type\":\"parcoords\",\"line\":{\"colorbar\":{\"outlinewidth\":0,\"ticks\":\"\"}}}],\"scatterpolargl\":[{\"type\":\"scatterpolargl\",\"marker\":{\"colorbar\":{\"outlinewidth\":0,\"ticks\":\"\"}}}],\"bar\":[{\"error_x\":{\"color\":\"#2a3f5f\"},\"error_y\":{\"color\":\"#2a3f5f\"},\"marker\":{\"line\":{\"color\":\"#E5ECF6\",\"width\":0.5},\"pattern\":{\"fillmode\":\"overlay\",\"size\":10,\"solidity\":0.2}},\"type\":\"bar\"}],\"scattergeo\":[{\"type\":\"scattergeo\",\"marker\":{\"colorbar\":{\"outlinewidth\":0,\"ticks\":\"\"}}}],\"scatterpolar\":[{\"type\":\"scatterpolar\",\"marker\":{\"colorbar\":{\"outlinewidth\":0,\"ticks\":\"\"}}}],\"histogram\":[{\"marker\":{\"pattern\":{\"fillmode\":\"overlay\",\"size\":10,\"solidity\":0.2}},\"type\":\"histogram\"}],\"scattergl\":[{\"type\":\"scattergl\",\"marker\":{\"colorbar\":{\"outlinewidth\":0,\"ticks\":\"\"}}}],\"scatter3d\":[{\"type\":\"scatter3d\",\"line\":{\"colorbar\":{\"outlinewidth\":0,\"ticks\":\"\"}},\"marker\":{\"colorbar\":{\"outlinewidth\":0,\"ticks\":\"\"}}}],\"scattermapbox\":[{\"type\":\"scattermapbox\",\"marker\":{\"colorbar\":{\"outlinewidth\":0,\"ticks\":\"\"}}}],\"scatterternary\":[{\"type\":\"scatterternary\",\"marker\":{\"colorbar\":{\"outlinewidth\":0,\"ticks\":\"\"}}}],\"scattercarpet\":[{\"type\":\"scattercarpet\",\"marker\":{\"colorbar\":{\"outlinewidth\":0,\"ticks\":\"\"}}}],\"carpet\":[{\"aaxis\":{\"endlinecolor\":\"#2a3f5f\",\"gridcolor\":\"white\",\"linecolor\":\"white\",\"minorgridcolor\":\"white\",\"startlinecolor\":\"#2a3f5f\"},\"baxis\":{\"endlinecolor\":\"#2a3f5f\",\"gridcolor\":\"white\",\"linecolor\":\"white\",\"minorgridcolor\":\"white\",\"startlinecolor\":\"#2a3f5f\"},\"type\":\"carpet\"}],\"table\":[{\"cells\":{\"fill\":{\"color\":\"#EBF0F8\"},\"line\":{\"color\":\"white\"}},\"header\":{\"fill\":{\"color\":\"#C8D4E3\"},\"line\":{\"color\":\"white\"}},\"type\":\"table\"}],\"barpolar\":[{\"marker\":{\"line\":{\"color\":\"#E5ECF6\",\"width\":0.5},\"pattern\":{\"fillmode\":\"overlay\",\"size\":10,\"solidity\":0.2}},\"type\":\"barpolar\"}],\"pie\":[{\"automargin\":true,\"type\":\"pie\"}]},\"layout\":{\"autotypenumbers\":\"strict\",\"colorway\":[\"#636efa\",\"#EF553B\",\"#00cc96\",\"#ab63fa\",\"#FFA15A\",\"#19d3f3\",\"#FF6692\",\"#B6E880\",\"#FF97FF\",\"#FECB52\"],\"font\":{\"color\":\"#2a3f5f\"},\"hovermode\":\"closest\",\"hoverlabel\":{\"align\":\"left\"},\"paper_bgcolor\":\"white\",\"plot_bgcolor\":\"#E5ECF6\",\"polar\":{\"bgcolor\":\"#E5ECF6\",\"angularaxis\":{\"gridcolor\":\"white\",\"linecolor\":\"white\",\"ticks\":\"\"},\"radialaxis\":{\"gridcolor\":\"white\",\"linecolor\":\"white\",\"ticks\":\"\"}},\"ternary\":{\"bgcolor\":\"#E5ECF6\",\"aaxis\":{\"gridcolor\":\"white\",\"linecolor\":\"white\",\"ticks\":\"\"},\"baxis\":{\"gridcolor\":\"white\",\"linecolor\":\"white\",\"ticks\":\"\"},\"caxis\":{\"gridcolor\":\"white\",\"linecolor\":\"white\",\"ticks\":\"\"}},\"coloraxis\":{\"colorbar\":{\"outlinewidth\":0,\"ticks\":\"\"}},\"colorscale\":{\"sequential\":[[0.0,\"#0d0887\"],[0.1111111111111111,\"#46039f\"],[0.2222222222222222,\"#7201a8\"],[0.3333333333333333,\"#9c179e\"],[0.4444444444444444,\"#bd3786\"],[0.5555555555555556,\"#d8576b\"],[0.6666666666666666,\"#ed7953\"],[0.7777777777777778,\"#fb9f3a\"],[0.8888888888888888,\"#fdca26\"],[1.0,\"#f0f921\"]],\"sequentialminus\":[[0.0,\"#0d0887\"],[0.1111111111111111,\"#46039f\"],[0.2222222222222222,\"#7201a8\"],[0.3333333333333333,\"#9c179e\"],[0.4444444444444444,\"#bd3786\"],[0.5555555555555556,\"#d8576b\"],[0.6666666666666666,\"#ed7953\"],[0.7777777777777778,\"#fb9f3a\"],[0.8888888888888888,\"#fdca26\"],[1.0,\"#f0f921\"]],\"diverging\":[[0,\"#8e0152\"],[0.1,\"#c51b7d\"],[0.2,\"#de77ae\"],[0.3,\"#f1b6da\"],[0.4,\"#fde0ef\"],[0.5,\"#f7f7f7\"],[0.6,\"#e6f5d0\"],[0.7,\"#b8e186\"],[0.8,\"#7fbc41\"],[0.9,\"#4d9221\"],[1,\"#276419\"]]},\"xaxis\":{\"gridcolor\":\"white\",\"linecolor\":\"white\",\"ticks\":\"\",\"title\":{\"standoff\":15},\"zerolinecolor\":\"white\",\"automargin\":true,\"zerolinewidth\":2},\"yaxis\":{\"gridcolor\":\"white\",\"linecolor\":\"white\",\"ticks\":\"\",\"title\":{\"standoff\":15},\"zerolinecolor\":\"white\",\"automargin\":true,\"zerolinewidth\":2},\"scene\":{\"xaxis\":{\"backgroundcolor\":\"#E5ECF6\",\"gridcolor\":\"white\",\"linecolor\":\"white\",\"showbackground\":true,\"ticks\":\"\",\"zerolinecolor\":\"white\",\"gridwidth\":2},\"yaxis\":{\"backgroundcolor\":\"#E5ECF6\",\"gridcolor\":\"white\",\"linecolor\":\"white\",\"showbackground\":true,\"ticks\":\"\",\"zerolinecolor\":\"white\",\"gridwidth\":2},\"zaxis\":{\"backgroundcolor\":\"#E5ECF6\",\"gridcolor\":\"white\",\"linecolor\":\"white\",\"showbackground\":true,\"ticks\":\"\",\"zerolinecolor\":\"white\",\"gridwidth\":2}},\"shapedefaults\":{\"line\":{\"color\":\"#2a3f5f\"}},\"annotationdefaults\":{\"arrowcolor\":\"#2a3f5f\",\"arrowhead\":0,\"arrowwidth\":1},\"geo\":{\"bgcolor\":\"white\",\"landcolor\":\"#E5ECF6\",\"subunitcolor\":\"white\",\"showland\":true,\"showlakes\":true,\"lakecolor\":\"white\"},\"title\":{\"x\":0.05},\"mapbox\":{\"style\":\"light\"}}},\"xaxis\":{\"anchor\":\"y\",\"domain\":[0.0,0.45],\"tickfont\":{\"size\":15}},\"yaxis\":{\"anchor\":\"x\",\"domain\":[0.7666666666666666,0.9999999999999999],\"title\":{\"text\":\"Shot Attempts\"},\"visible\":false},\"xaxis2\":{\"anchor\":\"y2\",\"domain\":[0.55,1.0],\"tickfont\":{\"size\":15}},\"yaxis2\":{\"anchor\":\"x2\",\"domain\":[0.7666666666666666,0.9999999999999999],\"title\":{\"text\":\"eFG%\"},\"visible\":false},\"xaxis3\":{\"anchor\":\"y3\",\"domain\":[0.0,0.45],\"tickfont\":{\"size\":15}},\"yaxis3\":{\"anchor\":\"x3\",\"domain\":[0.3833333333333333,0.6166666666666666],\"title\":{\"text\":\"Total\"},\"visible\":false},\"xaxis4\":{\"anchor\":\"y4\",\"domain\":[0.55,1.0],\"tickfont\":{\"size\":15}},\"yaxis4\":{\"anchor\":\"x4\",\"domain\":[0.3833333333333333,0.6166666666666666],\"title\":{\"text\":\"Total\"},\"visible\":false},\"xaxis5\":{\"anchor\":\"y5\",\"domain\":[0.0,0.45],\"tickfont\":{\"size\":15}},\"yaxis5\":{\"anchor\":\"x5\",\"domain\":[0.0,0.2333333333333333],\"title\":{\"text\":\"Shot Attempts\"},\"visible\":false},\"xaxis6\":{\"anchor\":\"y6\",\"domain\":[0.55,1.0],\"tickfont\":{\"size\":15}},\"yaxis6\":{\"anchor\":\"x6\",\"domain\":[0.0,0.2333333333333333],\"title\":{\"text\":\"eFG%\"},\"visible\":false},\"annotations\":[{\"font\":{\"size\":16},\"showarrow\":false,\"text\":\"\\u003cb\\u003eShot Zone Volume\\u003cb\\u003e\",\"x\":0.225,\"xanchor\":\"center\",\"xref\":\"paper\",\"y\":0.9999999999999999,\"yanchor\":\"bottom\",\"yref\":\"paper\"},{\"font\":{\"size\":16},\"showarrow\":false,\"text\":\"\\u003cb\\u003eShot Zone EFG%\\u003cb\\u003e\",\"x\":0.775,\"xanchor\":\"center\",\"xref\":\"paper\",\"y\":0.9999999999999999,\"yanchor\":\"bottom\",\"yref\":\"paper\"},{\"font\":{\"size\":16},\"showarrow\":false,\"text\":\"\\u003cb\\u003ePossesions\\u003cb\\u003e\",\"x\":0.225,\"xanchor\":\"center\",\"xref\":\"paper\",\"y\":0.6166666666666666,\"yanchor\":\"bottom\",\"yref\":\"paper\"},{\"font\":{\"size\":16},\"showarrow\":false,\"text\":\"\\u003cb\\u003eCreation\\u003cb\\u003e\",\"x\":0.775,\"xanchor\":\"center\",\"xref\":\"paper\",\"y\":0.6166666666666666,\"yanchor\":\"bottom\",\"yref\":\"paper\"},{\"font\":{\"size\":16},\"showarrow\":false,\"text\":\"\\u003cb\\u003eRanged Shots by Type\\u003cb\\u003e\",\"x\":0.225,\"xanchor\":\"center\",\"xref\":\"paper\",\"y\":0.2333333333333333,\"yanchor\":\"bottom\",\"yref\":\"paper\"},{\"font\":{\"size\":16},\"showarrow\":false,\"text\":\"\\u003cb\\u003eRanged Shots by EFG%\\u003cb\\u003e\",\"x\":0.775,\"xanchor\":\"center\",\"xref\":\"paper\",\"y\":0.2333333333333333,\"yanchor\":\"bottom\",\"yref\":\"paper\"}],\"title\":{\"font\":{\"size\":30},\"text\":\"Los Angeles Lakers(110) vs Minnesota Timberwolves(103)\\u003cbr\\u003e2024\\u002f10\\u002f22\",\"x\":0.5},\"legend\":{\"orientation\":\"h\",\"yanchor\":\"bottom\",\"y\":1.02,\"xanchor\":\"right\",\"x\":1},\"height\":900,\"width\":1350,\"barmode\":\"group\",\"bargap\":0.25,\"paper_bgcolor\":\"#F5F5DC\",\"plot_bgcolor\":\"#F5F5DC\",\"showlegend\":true},                        {\"responsive\": true}                    ).then(function(){\n",
       "                            \n",
       "var gd = document.getElementById('8deecaf8-4a50-4d8c-81ad-b72219544626');\n",
       "var x = new MutationObserver(function (mutations, observer) {{\n",
       "        var display = window.getComputedStyle(gd).display;\n",
       "        if (!display || display === 'none') {{\n",
       "            console.log([gd, 'removed!']);\n",
       "            Plotly.purge(gd);\n",
       "            observer.disconnect();\n",
       "        }}\n",
       "}});\n",
       "\n",
       "// Listen for the removal of the full notebook cells\n",
       "var notebookContainer = gd.closest('#notebook-container');\n",
       "if (notebookContainer) {{\n",
       "    x.observe(notebookContainer, {childList: true});\n",
       "}}\n",
       "\n",
       "// Listen for the clearing of the current output cell\n",
       "var outputEl = gd.closest('.output');\n",
       "if (outputEl) {{\n",
       "    x.observe(outputEl, {childList: true});\n",
       "}}\n",
       "\n",
       "                        })                };                });            </script>        </div>"
      ]
     },
     "metadata": {},
     "output_type": "display_data"
    }
   ],
   "source": [
    "import plotly.graph_objects as go\n",
    "from plotly.subplots import make_subplots\n",
    "import pandas as pd\n",
    "\n",
    "def get_colors():\n",
    "    NBA_TEAM_COLORS = {\n",
    "    # Eastern Conference\n",
    "    ## Atlantic Division\n",
    "        'BOS': '#007A33',  # Boston Celtics - Green\n",
    "        'BKN': '#000000',  # Brooklyn Nets - Black\n",
    "        'NYK': '#006BB6',  # New York Knicks - Blue\n",
    "        'PHI': '#006BB6',  # Philadelphia 76ers - Blue\n",
    "        'TOR': '#CE1141',  # Toronto Raptors - Red\n",
    "    \n",
    "        ## Central Division\n",
    "        'CHI': '#CE1141',  # Chicago Bulls - Red\n",
    "        'CLE': '#860038',  # Cleveland Cavaliers - Wine\n",
    "        'DET': '#C8102E',  # Detroit Pistons - Red\n",
    "        'IND': '#002D62',  # Indiana Pacers - Navy\n",
    "        'MIL': '#00471B',  # Milwaukee Bucks - Green\n",
    "    \n",
    "        ## Southeast Division\n",
    "        'ATL': '#E03A3E',  # Atlanta Hawks - Red\n",
    "        'CHA': '#1D1160',  # Charlotte Hornets - Purple\n",
    "        'MIA': '#98002E',  # Miami Heat - Red\n",
    "        'ORL': '#0077C0',  # Orlando Magic - Blue\n",
    "        'WAS': '#002B5C',  # Washington Wizards - Navy\n",
    "    \n",
    "        # Western Conference\n",
    "        ## Northwest Division\n",
    "        'DEN': '#0E2240',  # Denver Nuggets - Navy\n",
    "        'MIN': '#0C2340',  # Minnesota Timberwolves - Navy\n",
    "        'OKC': '#007AC1',  # Oklahoma City Thunder - Blue\n",
    "        'POR': '#E03A3E',  # Portland Trail Blazers - Red\n",
    "        'UTA': '#002B5C',  # Utah Jazz - Navy\n",
    "    \n",
    "        ## Pacific Division\n",
    "        'GSW': '#1D428A',  # Golden State Warriors - Blue\n",
    "        'LAC': '#C8102E',  # LA Clippers - Red\n",
    "        'LAL': '#552583',  # Los Angeles Lakers - Purple\n",
    "        'PHX': '#1D1160',  # Phoenix Suns - Purple\n",
    "        'SAC': '#5A2D81',  # Sacramento Kings - Purple\n",
    "    \n",
    "        ## Southwest Division\n",
    "        'DAL': '#00538C',  # Dallas Mavericks - Blue\n",
    "        'HOU': '#CE1141',  # Houston Rockets - Red\n",
    "        'MEM': '#5D76A9',  # Memphis Grizzlies - Blue\n",
    "        'NOP': '#0C2340',  # New Orleans Pelicans - Navy\n",
    "        'SAS': '#C4CED4'   # San Antonio Spurs - Silver\n",
    "    }\n",
    "    NBA_TEAM_SECONDARY_COLORS = {\n",
    "        # Eastern Conference\n",
    "        ## Atlantic Division\n",
    "        'BOS': '#BA9653',  # Boston Celtics - Gold\n",
    "        'BKN': '#FFFFFF',  # Brooklyn Nets - White\n",
    "        'NYK': '#F58426',  # New York Knicks - Orange\n",
    "        'PHI': '#ED174C',  # Philadelphia 76ers - Red\n",
    "        'TOR': '#000000',  # Toronto Raptors - Black\n",
    "    \n",
    "        ## Central Division\n",
    "        'CHI': '#000000',  # Chicago Bulls - Black\n",
    "        'CLE': '#FDBB30',  # Cleveland Cavaliers - Gold\n",
    "        'DET': '#1D42BA',  # Detroit Pistons - Blue\n",
    "        'IND': '#FDBB30',  # Indiana Pacers - Gold\n",
    "        'MIL': '#EEE1C6',  # Milwaukee Bucks - Cream\n",
    "    \n",
    "        ## Southeast Division\n",
    "        'ATL': '#C1D32F',  # Atlanta Hawks - Volt Green\n",
    "        'CHA': '#00788C',  # Charlotte Hornets - Teal\n",
    "        'MIA': '#F9A01B',  # Miami Heat - Yellow\n",
    "        'ORL': '#C4CED4',  # Orlando Magic - Silver\n",
    "        'WAS': '#E31837',  # Washington Wizards - Red\n",
    "    \n",
    "        # Western Conference\n",
    "        ## Northwest Division\n",
    "        'DEN': '#FEC524',  # Denver Nuggets - Gold\n",
    "        'MIN': '#236192',  # Minnesota Timberwolves - Blue\n",
    "        'OKC': '#EF3B24',  # Oklahoma City Thunder - Orange\n",
    "        'POR': '#000000',  # Portland Trail Blazers - Black\n",
    "        'UTA': '#00A9E0',  # Utah Jazz - Light Blue\n",
    "    \n",
    "        ## Pacific Division\n",
    "        'GSW': '#FFC72C',  # Golden State Warriors - Gold\n",
    "        'LAC': '#1D428A',  # LA Clippers - Blue\n",
    "        'LAL': '#FDB927',  # Los Angeles Lakers - Gold\n",
    "        'PHX': '#E56020',  # Phoenix Suns - Orange\n",
    "        'SAC': '#63727A',  # Sacramento Kings - Silver\n",
    "    \n",
    "        ## Southwest Division\n",
    "        'DAL': '#002B5E',  # Dallas Mavericks - Navy\n",
    "        'HOU': '#000000',  # Houston Rockets - Black\n",
    "        'MEM': '#12173F',  # Memphis Grizzlies - Navy\n",
    "        'NOP': '#C8102E',  # New Orleans Pelicans - Red\n",
    "        'SAS': '#000000'   # San Antonio Spurs - Black\n",
    "    }\n",
    "    return NBA_TEAM_COLORS,NBA_TEAM_SECONDARY_COLORS\n",
    "\n",
    "\n",
    "\n",
    "\n",
    "def full_names(team):\n",
    "    # Dictionary mapping abbreviations to full NBA team names\n",
    "    team_map = {\n",
    "        'ATL': 'Atlanta Hawks',\n",
    "        'BOS': 'Boston Celtics',\n",
    "        'BKN': 'Brooklyn Nets',\n",
    "        'CHA': 'Charlotte Hornets',\n",
    "        'CHI': 'Chicago Bulls',\n",
    "        'CLE': 'Cleveland Cavaliers',\n",
    "        'DAL': 'Dallas Mavericks',\n",
    "        'DEN': 'Denver Nuggets',\n",
    "        'DET': 'Detroit Pistons',\n",
    "        'GSW': 'Golden State Warriors',\n",
    "        'HOU': 'Houston Rockets',\n",
    "        'IND': 'Indiana Pacers',\n",
    "        'LAC': 'Los Angeles Clippers',\n",
    "        'LAL': 'Los Angeles Lakers',\n",
    "        'MEM': 'Memphis Grizzlies',\n",
    "        'MIA': 'Miami Heat',\n",
    "        'MIL': 'Milwaukee Bucks',\n",
    "        'MIN': 'Minnesota Timberwolves',\n",
    "        'NOP': 'New Orleans Pelicans',\n",
    "        'NYK': 'New York Knicks',\n",
    "        'OKC': 'Oklahoma City Thunder',\n",
    "        'ORL': 'Orlando Magic',\n",
    "        'PHI': 'Philadelphia 76ers',\n",
    "        'PHX': 'Phoenix Suns',\n",
    "        'POR': 'Portland Trail Blazers',\n",
    "        'SAC': 'Sacramento Kings',\n",
    "        'SAS': 'San Antonio Spurs',\n",
    "        'TOR': 'Toronto Raptors',\n",
    "        'UTA': 'Utah Jazz',\n",
    "        'WAS': 'Washington Wizards'\n",
    "    }\n",
    "    return team_map[team]\n",
    "\n",
    "\n",
    "def create_team_comparison(game_id,year):\n",
    "    \n",
    "\n",
    "    df =pd.read_csv('https://raw.githubusercontent.com/gabriel1200/player_sheets/refs/heads/master/game_report/'+str(year)+'/'+str(game_id)+'.csv')\n",
    "\n",
    "    names=df['TEAM_ABBREVIATION'].unique().tolist()\n",
    "    team1=names[0]\n",
    "    team2=names[1]\n",
    "    sumframe = df.groupby(['TEAM_ID', 'TEAM_ABBREVIATION', 'date']).sum(numeric_only=True)[\n",
    "        ['very_tight_FG3A', 'wide_open_FG3A', 'open_FG3A', 'tight_FG3A', 'very_tight_FG3M', 'wide_open_FG3M', 'AST',\n",
    "         'open_FG3M', 'tight_FG3M', 'CATCH_SHOOT_FGA', 'FGA', 'FTA', 'PULL_UP_FGA', 'PULL_UP_FGM', 'PULL_UP_FG3M','POINTS', 'FGA_15_19','FGA_20_24','FGA_5_9','FGA_10_14', 'FGA_LT_5',\n",
    "         'FGA_25_29','FGA_30_34','FGA_35_39','FGA_40_PLUS','FGM_15_19', 'FGM_20_24', 'FGM_5_9', 'FGM_10_14', 'FGM_LT_5',\n",
    "        'FGM_25_29', 'FGM_30_34', 'FGM_35_39', 'FGM_40_PLUS','FTM',\n",
    "         'DRIVES', 'OREB', 'DREB', 'POTENTIAL_AST', 'TOV', 'RA_FGA', 'FRONT_CT_TOUCHES']].reset_index()\n",
    "\n",
    "    main_colors, secondary_colors = get_colors()\n",
    "\n",
    "\n",
    "# Grouping columns into rim, midrange, and threes for attempts\n",
    "    sumframe['Rim_Attempts'] = sumframe['FGA_LT_5']\n",
    "    \n",
    "    sumframe['Midrange_Attempts'] = sumframe[['FGA_5_9', 'FGA_10_14', 'FGA_15_19']].sum(axis=1)\n",
    "    \n",
    "    sumframe['Threes_Attempts'] = sumframe[['FGA_20_24', 'FGA_25_29', 'FGA_30_34', 'FGA_35_39', 'FGA_40_PLUS']].sum(axis=1)\n",
    "    sumframe['Rim'] = sumframe['FGM_LT_5']\n",
    "    \n",
    "    sumframe['Midrange'] = sumframe[['FGM_5_9', 'FGM_10_14', 'FGM_15_19']].sum(axis=1)\n",
    "    \n",
    "    sumframe['Threes'] = sumframe[['FGM_20_24', 'FGM_25_29', 'FGM_30_34', 'FGM_35_39', 'FGM_40_PLUS']].sum(axis=1)\n",
    "    sumframe['PullUp_eFG%'] = ((sumframe['PULL_UP_FGM'] + 0.5 * sumframe['PULL_UP_FG3M']) / sumframe['PULL_UP_FGA']) * 100  # Convert to percentage if desired\n",
    "    sumframe['rim%']=100* sumframe['Rim']/sumframe['Rim_Attempts']\n",
    "    sumframe['mid%']=100*sumframe['Midrange']/sumframe['Midrange_Attempts']\n",
    "    sumframe['three%']=100* 1.5*sumframe['Threes']/sumframe['Threes_Attempts']\n",
    "    sumframe['ft%']=100*sumframe['FTM']/sumframe['FTA']\n",
    "\n",
    "    # Calculate FG3% for each category\n",
    "    sumframe[\"very_tight_fg3%\"] = 1.5*100 * sumframe['very_tight_FG3M'] / sumframe['very_tight_FG3A']\n",
    "    sumframe[\"wide_open_fg3%\"] = 1.5*100 * sumframe['wide_open_FG3M'] / sumframe['wide_open_FG3A']\n",
    "    sumframe[\"open_fg3%\"] = 1.5*100 * sumframe['open_FG3M'] / sumframe['open_FG3A']\n",
    "    sumframe[\"pullup_fg%\"]= 100* sumframe[\"PULL_UP_FGM\"]/sumframe[\"PULL_UP_FGA\"]\n",
    "    sumframe[\"tight_fg3%\"] = 1.5*100 * sumframe['tight_FG3M'] / sumframe['tight_FG3A']\n",
    "\n",
    "    team1color = main_colors[team1]\n",
    "    team2color = main_colors[team2]\n",
    "    team1second_color = secondary_colors[team1]\n",
    "    team2second_color = secondary_colors[team2]\n",
    "\n",
    "    selected_teams = [team1, team2]\n",
    "    sumframe = sumframe[sumframe.TEAM_ABBREVIATION.isin(selected_teams)]\n",
    "\n",
    "\n",
    "    df1 = sumframe[sumframe.TEAM_ABBREVIATION == team1]\n",
    "    df2 = sumframe[sumframe.TEAM_ABBREVIATION == team2]\n",
    "    team1_points= int(df1['POINTS'].sum())\n",
    "    team2_points= int(df2['POINTS'].sum())\n",
    "    team1_name = df1['TEAM_ABBREVIATION'].iloc[0]\n",
    "    team2_name = df2['TEAM_ABBREVIATION'].iloc[0]\n",
    "    date = df2['date'].iloc[0]\n",
    "\n",
    "    # Create figure with secondary y-axis\n",
    "    fig = make_subplots(\n",
    "        rows=3, cols=2,\n",
    "        subplot_titles=(\"<b>Shot Zone Volume<b>\", \"<b>Shot Zone EFG%<b>\", \"<b>Possesions<b>\",\"<b>Creation<b>\",\"<b>Ranged Shots by Type<b>\", \"<b>Ranged Shots by EFG%<b>\"),\n",
    "        vertical_spacing=0.15,\n",
    "        horizontal_spacing=0.1\n",
    "    )\n",
    "\n",
    "    # 1. 3PT Shot Distribution (top left)\n",
    "    shot_types = ['PULL_UP_FGA', 'tight_FG3A', 'open_FG3A', 'wide_open_FG3A']\n",
    "    team1_shots = [int(round(df1[col].iloc[0],0)) for col in shot_types]\n",
    "    team2_shots = [int(round(df2[col].iloc[0],0))  for col in shot_types]\n",
    "\n",
    "    fig.add_trace(\n",
    "        go.Bar(\n",
    "            name=team1_name, \n",
    "            x=['Pullup', 'Tight 3', 'Open 3', 'Wide Open3'], \n",
    "            y=team1_shots, \n",
    "            text=team1_shots,\n",
    "            marker=dict(\n",
    "                color=team1color, \n",
    "                line=dict(\n",
    "                    color=team1second_color,  # Outline color\n",
    "                    width=5                  # Outline width\n",
    "                )\n",
    "            )\n",
    "        ),\n",
    "        row=3, col=1\n",
    "    )\n",
    "\n",
    "    fig.add_trace(\n",
    "        go.Bar(\n",
    "            name=team2_name, \n",
    "            x=['Pullup', 'Tight 3', 'Open 3', 'Wide Open3'], \n",
    "            y=team2_shots, \n",
    "            text=team2_shots,\n",
    "            marker=dict(\n",
    "                color=team2color, \n",
    "                line=dict(\n",
    "                    color=team2second_color,  # Outline color\n",
    "                    width=5                  # Outline width\n",
    "                )\n",
    "            )\n",
    "        ),\n",
    "        row=3, col=1\n",
    "    )\n",
    "\n",
    "    # 2. Shot Making (top right)\n",
    "    make_types = ['PullUp_eFG%', 'tight_fg3%', 'open_fg3%', 'wide_open_fg3%']\n",
    "    team1_makes = [int(round(df1[col].iloc[0],0)) for col in make_types]\n",
    "    team2_makes = [int(round(df2[col].iloc[0],0))  for col in make_types]\n",
    "\n",
    "    fig.add_trace(\n",
    "        go.Bar(\n",
    "            name=team1_name, \n",
    "            x=['Pull Up', 'Tight 3', 'Open 3', 'Wide Open 3'], \n",
    "            y=team1_makes, \n",
    "            text=team1_makes,\n",
    "            marker=dict(\n",
    "                color=team1color, \n",
    "                line=dict(\n",
    "                    color=team1second_color,  # Outline color\n",
    "                    width=5                  # Outline width\n",
    "                )\n",
    "            ), \n",
    "            showlegend=False\n",
    "        ),\n",
    "        row=3, col=2\n",
    "    )\n",
    "\n",
    "    fig.add_trace(\n",
    "        go.Bar(\n",
    "            name=team2_name, \n",
    "            x=['Pull Up', 'Tight 3', 'Open 3', 'Wide Open 3'], \n",
    "            y=team2_makes, \n",
    "            text=team2_makes,\n",
    "            marker=dict(\n",
    "                color=team2color, \n",
    "                line=dict(\n",
    "                    color=team2second_color,  # Outline color\n",
    "                    width=5                  # Outline width\n",
    "                )\n",
    "            ), \n",
    "            showlegend=False\n",
    "        ),\n",
    "        row=3, col=2\n",
    "    )\n",
    "\n",
    "    # 3. Offensive Creation (bottom left)\n",
    "    creation_metrics = ['TOV', 'OREB','DREB']\n",
    "    team1_creation = [int(round(df1[col].iloc[0],0)) for col in creation_metrics]\n",
    "    team2_creation = [int(round(df2[col].iloc[0],0))  for col in creation_metrics]\n",
    "\n",
    "    fig.add_trace(\n",
    "        go.Bar(\n",
    "            name=team1_name, \n",
    "            x=['Turnovers', 'OREB','DREB'], \n",
    "            y=team1_creation, \n",
    "            text=team1_creation,\n",
    "            marker=dict(\n",
    "                color=team1color, \n",
    "                line=dict(\n",
    "                    color=team1second_color,  # Outline color\n",
    "                    width=5                  # Outline width\n",
    "                )\n",
    "            ), \n",
    "            showlegend=False\n",
    "        ),\n",
    "        row=2, col=1\n",
    "    )\n",
    "\n",
    "    fig.add_trace(\n",
    "        go.Bar(\n",
    "            name=team2_name, \n",
    "            x=['Turnovers', 'OREB','DREB'], \n",
    "            y=team2_creation, \n",
    "            text=team2_creation,\n",
    "            marker=dict(\n",
    "                color=team2color, \n",
    "                line=dict(\n",
    "                    color=team2second_color,  # Outline color\n",
    "                    width=5                  # Outline width\n",
    "                )\n",
    "            ), \n",
    "            showlegend=False\n",
    "        ),\n",
    "        row=2, col=1\n",
    "    )\n",
    "\n",
    "    # 4. Shot Selection (bottom right)\n",
    "    # 5. Additional shot selection (bottom left)\n",
    "    selection_metrics = ['AST','POTENTIAL_AST', 'DRIVES']\n",
    "    team1_selection = [int(round(df1[col].iloc[0],0)) for col in selection_metrics]\n",
    "    team2_selection = [int(round(df2[col].iloc[0],0))  for col in selection_metrics]\n",
    "\n",
    "    fig.add_trace(\n",
    "        go.Bar(\n",
    "            name=team1_name, \n",
    "            x=['Assists','Potential Assists', 'Drives'], \n",
    "            y=team1_selection, \n",
    "            text=team1_selection,\n",
    "            marker=dict(\n",
    "                color=team1color, \n",
    "                line=dict(\n",
    "                    color=team1second_color,  # Outline color\n",
    "                    width=5                  # Outline width\n",
    "                )\n",
    "            ), \n",
    "            showlegend=False\n",
    "        ),\n",
    "        row=2, col=2\n",
    "    )\n",
    "\n",
    "    fig.add_trace(\n",
    "        go.Bar(\n",
    "            name=team2_name, \n",
    "            x=['Assists','Potential Assists','Drives'], \n",
    "            y=team2_selection, \n",
    "            text=team2_selection,\n",
    "            marker=dict(\n",
    "                color=team2color, \n",
    "                line=dict(\n",
    "                    color=team2second_color,  # Outline color\n",
    "                    width=5                  # Outline width\n",
    "                )\n",
    "            ), \n",
    "            showlegend=False\n",
    "        ),\n",
    "        row=2, col=2\n",
    "    )\n",
    "    selection_metrics = ['Rim_Attempts','Midrange_Attempts','Threes_Attempts','FTA']\n",
    "    team1_selection = [int(round(round(df1[col].iloc[0],0),0)) for col in selection_metrics]\n",
    "    team2_selection = [int(round(round(df2[col].iloc[0],0) ,0))  for col in selection_metrics]\n",
    "\n",
    "    fig.add_trace(\n",
    "        go.Bar(\n",
    "            name=team1_name, \n",
    "            x=['Rim','Midrange','Threes','Free Throw'], \n",
    "            y=team1_selection, \n",
    "            text=team1_selection,\n",
    "            marker=dict(\n",
    "                color=team1color, \n",
    "                line=dict(\n",
    "                    color=team1second_color,  # Outline color\n",
    "                    width=5                  # Outline width\n",
    "                )\n",
    "            ), \n",
    "            showlegend=False\n",
    "        ),\n",
    "        row=1, col=1\n",
    "    )\n",
    "\n",
    "    fig.add_trace(\n",
    "        go.Bar(\n",
    "            name=team2_name, \n",
    "            x=['Rim','Midrange','Threes','Free Throw'], \n",
    "            y=team2_selection, \n",
    "            text=team2_selection,\n",
    "            marker=dict(\n",
    "                color=team2color, \n",
    "                line=dict(\n",
    "                    color=team2second_color,  # Outline color\n",
    "                    width=5                  # Outline width\n",
    "                )\n",
    "            ), \n",
    "            showlegend=False\n",
    "        ),\n",
    "        row=1, col=1\n",
    "    )\n",
    "\n",
    "    selection_metrics = ['rim%','mid%','three%','ft%']\n",
    "    team1_selection = [int(round(df1[col].iloc[0],0)) for col in selection_metrics]\n",
    "    team2_selection = [int(round(df2[col].iloc[0],0) ) for col in selection_metrics]\n",
    "\n",
    "    fig.add_trace(\n",
    "        go.Bar(\n",
    "            name=team1_name, \n",
    "            x=['Rim','Midrange','Threes','Free Throw'], \n",
    "            y=team1_selection, \n",
    "            text=team1_selection,\n",
    "            marker=dict(\n",
    "                color=team1color, \n",
    "                line=dict(\n",
    "                    color=team1second_color,  # Outline color\n",
    "                    width=5                  # Outline width\n",
    "                )\n",
    "            ), \n",
    "            showlegend=False\n",
    "        ),\n",
    "        row=1, col=2\n",
    "    )\n",
    "\n",
    "    fig.add_trace(\n",
    "        go.Bar(\n",
    "            name=team2_name, \n",
    "            x=['Rim','Midrange','Threes','Free Throw'], \n",
    "            y=team2_selection, \n",
    "            text=team2_selection, \n",
    "            marker=dict(\n",
    "                color=team2color, \n",
    "                line=dict(\n",
    "                    color=team2second_color,  # Outline color\n",
    "                    width=5                  # Outline width\n",
    "                )\n",
    "            ), \n",
    "            showlegend=False\n",
    "        ),\n",
    "        row=1, col=2\n",
    "    )\n",
    "\n",
    "    # Update\n",
    "\n",
    "    # Update layout\n",
    "    fig.update_layout(\n",
    "        height=900,\n",
    "        width=1350,\n",
    "        title_text=full_names(team1)+\"(\"+str(team1_points)+\") vs \"+full_names(team2) +\"(\"+str(team2_points)+\")<br>\"+str(date)[0:4]+ \"/\"+str(date)[4:6] + \"/\"+str(date)[6:],\n",
    "        title_x=.5,\n",
    "        title_font_size=30,\n",
    "        barmode='group',\n",
    "          bargap=0.25, \n",
    "\n",
    "        paper_bgcolor='#F5F5DC',\n",
    "        plot_bgcolor='#F5F5DC',\n",
    "    \n",
    "        showlegend=True,\n",
    "        legend=dict(\n",
    "            orientation=\"h\",\n",
    "            yanchor=\"bottom\",\n",
    "            y=1.02,\n",
    "            xanchor=\"right\",\n",
    "            x=1\n",
    "        )\n",
    "    )\n",
    "    \n",
    "\n",
    "    fig.update_yaxes(title_text=\"Shot Attempts\", row=1, col=1)\n",
    "    fig.update_yaxes(title_text=\"eFG%\", row=1, col=2)\n",
    "    fig.update_yaxes(title_text=\"Total\", row=2, col=1)\n",
    "    fig.update_yaxes(title_text=\"Total\", row=2, col=2)\n",
    "    fig.update_yaxes(title_text=\"Shot Attempts\", row=3, col=1)\n",
    "    fig.update_yaxes(title_text=\"eFG%\", row=3, col=2)\n",
    "    fig.update_xaxes(tickfont=dict(size=15))\n",
    "    fig.update_yaxes(visible=False)\n",
    "\n",
    "\n",
    "    return fig\n",
    "\n",
    "team1='CLE'\n",
    "team2='TOR'\n",
    "\n",
    "year=2025\n",
    "game_id=22400062\n",
    "fig = create_team_comparison(game_id,year)\n",
    "fig.show()"
   ]
  },
  {
   "cell_type": "code",
   "execution_count": null,
   "id": "03ed9bcd-749b-4b52-ad52-533f6c0c0c18",
   "metadata": {},
   "outputs": [],
   "source": []
  }
 ],
 "metadata": {
  "kernelspec": {
   "display_name": "Python 3 (ipykernel)",
   "language": "python",
   "name": "python3"
  },
  "language_info": {
   "codemirror_mode": {
    "name": "ipython",
    "version": 3
   },
   "file_extension": ".py",
   "mimetype": "text/x-python",
   "name": "python",
   "nbconvert_exporter": "python",
   "pygments_lexer": "ipython3",
   "version": "3.10.12"
  }
 },
 "nbformat": 4,
 "nbformat_minor": 5
}
