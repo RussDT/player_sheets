{
 "cells": [
  {
   "cell_type": "code",
   "execution_count": 5,
   "id": "e59ca8bf-d8fd-43a0-afe9-aa795a9340fb",
   "metadata": {},
   "outputs": [
    {
     "data": {
      "text/plain": [
       "['PASSES_RECEIVED',\n",
       " 'BadPassOutOfBoundsTurnovers',\n",
       " 'DRIVE_PASSES',\n",
       " 'BadPassTurnovers',\n",
       " 'PASSES_MADE',\n",
       " 'AST_TO_PASS_PCT',\n",
       " 'DRIVE_PASSES_PCT',\n",
       " 'BadPassSteals',\n",
       " 'AST_TO_PASS_PCT_ADJ',\n",
       " 'PenaltyTurnovers',\n",
       " 'E_TOV_PCT',\n",
       " 'BadPassOutOfBoundsTurnovers',\n",
       " 'LiveBallTurnovers',\n",
       " 'SecondChanceTurnovers',\n",
       " 'LostBallTurnovers',\n",
       " 'BadPassTurnovers',\n",
       " 'LostBallOutOfBoundsTurnovers',\n",
       " 'TM_TOV_PCT',\n",
       " 'TOV',\n",
       " 'DRIVE_TOV_PCT',\n",
       " 'LiveBallTurnoverPct',\n",
       " 'DeadBallTurnovers',\n",
       " 'StepOutOfBoundsTurnovers',\n",
       " 'Turnovers',\n",
       " 'DRIVE_TOV',\n",
       " 'ELBOW_TOUCH_PTS',\n",
       " 'TOUCHES',\n",
       " 'FRONT_CT_TOUCHES',\n",
       " 'PTS_PER_PAINT_TOUCH',\n",
       " 'AVG_SEC_PER_TOUCH',\n",
       " 'ELBOW_TOUCH_FG_PCT',\n",
       " 'PAINT_TOUCH_PTS',\n",
       " 'PAINT_TOUCHES',\n",
       " 'ELBOW_TOUCHES',\n",
       " 'POST_TOUCH_FG_PCT',\n",
       " 'PAINT_TOUCH_FG_PCT',\n",
       " 'PTS_PER_ELBOW_TOUCH',\n",
       " 'PTS_PER_TOUCH',\n",
       " 'PTS_PER_POST_TOUCH',\n",
       " 'AVG_DRIB_PER_TOUCH',\n",
       " 'POST_TOUCHES',\n",
       " 'POST_TOUCH_PTS',\n",
       " 'POSS',\n",
       " 'SecondChanceOffPoss',\n",
       " 'LiveBallTurnovers',\n",
       " 'PenaltyOffPossExcludingTakeFouls',\n",
       " 'PenaltyDefPoss',\n",
       " 'DefPoss',\n",
       " 'LostBallTurnovers',\n",
       " 'Loose_Ball_Fouls',\n",
       " 'PenaltyOffPoss',\n",
       " 'TotalPoss',\n",
       " 'LostBallOutOfBoundsTurnovers',\n",
       " 'OffPoss',\n",
       " 'TIME_OF_POSS',\n",
       " 'LiveBallTurnoverPct',\n",
       " 'DeadBallTurnovers',\n",
       " 'LostBallSteals',\n",
       " 'Loose_Ball_Fouls_Drawn',\n",
       " 'PenaltyOffPossPct',\n",
       " 'on-ball-time%',\n",
       " 'ON_BALL_TIME_PCT']"
      ]
     },
     "execution_count": 5,
     "metadata": {},
     "output_type": "execute_result"
    }
   ],
   "source": [
    "import pandas as pd\n",
    "\n",
    "def year_data(year,ps=False):\n",
    "    trail = '_ps' if ps else ''\n",
    "    url= f'https://raw.githubusercontent.com/gabriel1200/player_sheets/refs/heads/master/year_totals/{year}{trail}.csv'\n",
    "    return pd.read_csv(url)\n",
    "\n",
    "df=year_data(2025,ps=False)\n",
    "pass_columns=[col for col in df.columns if 'pass' in col.lower()]\n",
    "\n",
    "turnover_columns=[col for col in df.columns if 'tov' in col.lower() or 'turn' in col.lower()]\n",
    "\n",
    "touches_columns=[col for col in df.columns if 'touch' in col.lower()]\n",
    "\n",
    "poss_columns=[col for col in df.columns if 'poss' in col.lower() or 'ball' in col.lower()]\n",
    "\n",
    "\n",
    "all_columns=pass_columns+turnover_columns +touches_columns+poss_columns\n",
    "\n",
    "all_columns"
   ]
  },
  {
   "cell_type": "code",
   "execution_count": null,
   "id": "5aa00d9c-2f95-4fa5-ac96-28032ad22a58",
   "metadata": {},
   "outputs": [],
   "source": []
  }
 ],
 "metadata": {
  "kernelspec": {
   "display_name": "Python 3 (ipykernel)",
   "language": "python",
   "name": "python3"
  },
  "language_info": {
   "codemirror_mode": {
    "name": "ipython",
    "version": 3
   },
   "file_extension": ".py",
   "mimetype": "text/x-python",
   "name": "python",
   "nbconvert_exporter": "python",
   "pygments_lexer": "ipython3",
   "version": "3.10.12"
  }
 },
 "nbformat": 4,
 "nbformat_minor": 5
}
