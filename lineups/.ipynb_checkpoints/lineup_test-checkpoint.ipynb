{
 "cells": [
  {
   "cell_type": "code",
   "execution_count": 8,
   "id": "94633910-59cd-4c3f-87b3-bd51a375513e",
   "metadata": {},
   "outputs": [
    {
     "name": "stdout",
     "output_type": "stream",
     "text": [
      "1004.0\n",
      "1008.0\n"
     ]
    },
    {
     "data": {
      "text/plain": [
       "20    209.0\n",
       "Name: PlusMinus, dtype: float64"
      ]
     },
     "execution_count": 8,
     "metadata": {},
     "output_type": "execute_result"
    }
   ],
   "source": [
    "import pandas as pd\n",
    "import pandas as pd\n",
    "import numpy as np\n",
    "\n",
    "def calculate_basketball_percentages(df):\n",
    "    \"\"\"\n",
    "    Calculate basketball percentage statistics from raw totals.\n",
    "    \n",
    "    Args:\n",
    "        df (pandas.DataFrame): DataFrame containing the raw totals columns\n",
    "        \n",
    "    Returns:\n",
    "        pandas.DataFrame: DataFrame with added percentage columns\n",
    "    \"\"\"\n",
    "    # Make a copy to avoid modifying the original\n",
    "    result = df.copy()\n",
    "    \n",
    "    # Basic shooting percentages\n",
    "    result['Fg3Pct'] = (result['FG3M'] / result['FG3A'] * 100).fillna(0)\n",
    "    result['Fg2Pct'] = (result['FG2M'] / result['FG2A'] * 100).fillna(0)\n",
    "    result['NonHeaveFg3Pct'] = (result['FG3M'] / (result['FG3A']-result['HeaveAttempts']) * 100).fillna(0)\n",
    "    \n",
    "    # Advanced shooting percentages\n",
    "    result['EfgPct'] = ((result['FG2M'] + 1.5 * result['FG3M']) / (result['FG2A'] + result['FG3A']) * 100).fillna(0)\n",
    "    result['TsPct'] = (result['Points'] / (2 * (result['FG2A'] + result['FG3A'] + 0.44 * result['FTA'])) * 100).fillna(0)\n",
    "    \n",
    "    # Second chance percentages\n",
    "    result['SecondChanceFg3Pct'] = (result['SecondChanceFG3M'] / result['SecondChanceFG3A'] * 100).fillna(0)\n",
    "    result['SecondChanceFg2Pct'] = (result['SecondChanceFG2M'] / result['SecondChanceFG2A'] * 100).fillna(0)\n",
    "    result['SecondChanceEfgPct'] = ((result['SecondChanceFG2M'] + 1.5 * result['SecondChanceFG3M']) / \n",
    "                                   (result['SecondChanceFG2A'] + result['SecondChanceFG3A']) * 100).fillna(0)\n",
    "    result['SecondChanceTsPct'] = (result['SecondChancePoints'] / \n",
    "                                  (2 * (result['SecondChanceFG2A'] + result['SecondChanceFG3A'])) * 100).fillna(0)\n",
    "    result['SecondChancePointsPct'] = (result['SecondChancePoints'] / result['Points'] * 100).fillna(0)\n",
    "    \n",
    "    # Shot distribution\n",
    "    result['FG3APct'] = (result['FG3A'] / (result['FG2A'] + result['FG3A']) * 100).fillna(0)\n",
    "    \n",
    "    # Blocked shot percentages\n",
    "    result['FG2APctBlocked'] = (result['Fg2aBlocked'] / result['FG2A'] * 100).fillna(0)\n",
    "    result['AtRimPctBlocked'] = (result['BlockedAtRim'] / result['AtRimFGA'] * 100).fillna(0)\n",
    "    result['LongMidRangePctBlocked'] = (result['BlockedLongMidRange'] / result['LongMidRangeFGA'] * 100).fillna(0)\n",
    "    result['ShortMidRangePctBlocked'] = (result['BlockedShortMidRange'] / result['ShortMidRangeFGA'] * 100).fillna(0)\n",
    "    result['FG3APctBlocked'] = (result['Fg3aBlocked'] / result['FG3A'] * 100).fillna(0)\n",
    "    result['Corner3PctBlocked'] = (result['Blocked3s'] / result['Corner3FGA'] * 100).fillna(0)\n",
    "    result['Arc3PctBlocked'] = (result['BlockedArc3'] / result['Arc3FGA'] * 100).fillna(0)\n",
    "    \n",
    "    # Rebound percentages - Field Goals\n",
    "    result['DefFGReboundPct'] = (result['DefRebounds'] / (result['DefRebounds'] + result['OffRebounds']) * 100).fillna(0)\n",
    "    result['OffFGReboundPct'] = (result['OffRebounds'] / (result['DefRebounds'] + result['OffRebounds']) * 100).fillna(0)\n",
    "    \n",
    "    # Rebound percentages by shot location\n",
    "    result['OffLongMidRangeReboundPct'] = (result['OffRebounds'] / result['LongMidRangeFGA'] * 100).fillna(0)\n",
    "    result['DefLongMidRangeReboundPct'] = (result['DefRebounds'] / result['LongMidRangeFGA'] * 100).fillna(0)\n",
    "    result['DefArc3ReboundPct'] = (result['DefThreePtRebounds'] / result['Arc3FGA'] * 100).fillna(0)\n",
    "    result['OffArc3ReboundPct'] = (result['OffThreePtRebounds'] / result['Arc3FGA'] * 100).fillna(0)\n",
    "    result['DefAtRimReboundPct'] = (result['DefRebounds'] / result['AtRimFGA'] * 100).fillna(0)\n",
    "    result['OffAtRimReboundPct'] = (result['OffRebounds'] / result['AtRimFGA'] * 100).fillna(0)\n",
    "    result['DefShortMidRangeReboundPct'] = (result['DefRebounds'] / result['ShortMidRangeFGA'] * 100).fillna(0)\n",
    "    result['OffShortMidRangeReboundPct'] = (result['OffRebounds'] / result['ShortMidRangeFGA'] * 100).fillna(0)\n",
    "    result['DefCorner3ReboundPct'] = (result['DefThreePtRebounds'] / result['Corner3FGA'] * 100).fillna(0)\n",
    "    result['OffCorner3ReboundPct'] = (result['OffThreePtRebounds'] / result['Corner3FGA'] * 100).fillna(0)\n",
    "    \n",
    "    # Free throw rebound percentages\n",
    "    result['DefFTReboundPct'] = (result['FTDefRebounds'] / (result['FTDefRebounds'] + result['FTOffRebounds']) * 100).fillna(0)\n",
    "    result['OffFTReboundPct'] = (result['FTOffRebounds'] / (result['FTDefRebounds'] + result['FTOffRebounds']) * 100).fillna(0)\n",
    "    \n",
    "    # Assist percentages\n",
    "    result['Assisted2sPct'] = (result['PtsAssisted2s'] / (2 * result['FG2M']) * 100).fillna(0)\n",
    "    result['Assisted3sPct'] = (result['PtsAssisted3s'] / (3 * result['FG3M']) * 100).fillna(0)\n",
    "    result['NonPutbacksAssisted2sPct'] = (result['PtsAssisted2s'] / (2 * (result['FG2M'] - result['PtsPutbacks']/2)) * 100).fillna(0)\n",
    "    result['Corner3PctAssisted'] = (result['Corner3Assists'] / result['Corner3FGM'] * 100).fillna(0)\n",
    "    result['Arc3PctAssisted'] = (result['Arc3Assists'] / result['Arc3FGM'] * 100).fillna(0)\n",
    "    result['SecondChanceCorner3PctAssisted'] = (result['Corner3Assists'] / result['SecondChanceCorner3FGM'] * 100).fillna(0)\n",
    "    result['SecondChanceArc3PctAssisted'] = (result['Arc3Assists'] / result['SecondChanceArc3FGM'] * 100).fillna(0)\n",
    "    result['SecondChanceAtRimPctAssisted'] = (result['AtRimAssists'] / result['SecondChanceAtRimFGM'] * 100).fillna(0)\n",
    "    result['AtRimPctAssisted'] = (result['AtRimAssists'] / result['AtRimFGM'] * 100).fillna(0)\n",
    "    result['ShortMidRangePctAssisted'] = (result['ShortMidRangeAssists'] / result['ShortMidRangeFGM'] * 100).fillna(0)\n",
    "    result['LongMidRangePctAssisted'] = (result['LongMidRangeAssists'] / result['LongMidRangeFGM'] * 100).fillna(0)\n",
    "    \n",
    "    # Penalty percentages\n",
    "    result['PenaltyPointsPct'] = (result['PenaltyPoints'] / result['Points'] * 100).fillna(0)\n",
    "    result['PenaltyOffPossPct'] = (result['PenaltyOffPoss'] / result['OffPoss'] * 100).fillna(0)\n",
    "    result['PenaltyFg2Pct'] = (result['PenaltyFG2M'] / result['PenaltyFG2A'] * 100).fillna(0)\n",
    "    result['PenaltyFg3Pct'] = (result['PenaltyFG3M'] / result['PenaltyFG3A'] * 100).fillna(0)\n",
    "    result['PenaltyEfgPct'] = ((result['PenaltyFG2M'] + 1.5 * result['PenaltyFG3M']) / \n",
    "                              (result['PenaltyFG2A'] + result['PenaltyFG3A']) * 100).fillna(0)\n",
    "    result['PenaltyTsPct'] = (result['PenaltyPoints'] / \n",
    "                             (2 * (result['PenaltyFG2A'] + result['PenaltyFG3A'] + 0.44 * result['FTA'])) * 100).fillna(0)\n",
    "    \n",
    "    # Miscellaneous percentages\n",
    "    result['BlocksRecoveredPct'] = (result['RecoveredBlocks'] / result['Blocks'] * 100).fillna(0)\n",
    "    result['LiveBallTurnoverPct'] = (result['LiveBallTurnovers'] / result['Turnovers'] * 100).fillna(0)\n",
    "    result['SelfORebPct'] = (result['SelfOReb'] / result['OffRebounds'] * 100).fillna(0)\n",
    "    \n",
    "    # Fouls percentages\n",
    "    total_shooting_fouls = result['TwoPtShootingFoulsDrawn'] + result['ThreePtShootingFoulsDrawn']\n",
    "    result['ShootingFoulsDrawnPct'] = (result['ShootingFouls'] / total_shooting_fouls * 100).fillna(0)\n",
    "    result['TwoPtShootingFoulsDrawnPct'] = (result['TwoPtShootingFoulsDrawn'] / total_shooting_fouls * 100).fillna(0)\n",
    "    result['ThreePtShootingFoulsDrawnPct'] = (result['ThreePtShootingFoulsDrawn'] / total_shooting_fouls * 100).fillna(0)\n",
    "    total_def_rebounds = result['DefTwoPtRebounds'] + result['DefThreePtRebounds']\n",
    "    total_off_rebounds = result['OffTwoPtRebounds'] + result['OffThreePtRebounds']\n",
    "    \n",
    "    result['DefTwoPtReboundPct'] = (result['DefTwoPtRebounds'] / total_def_rebounds * 100).fillna(0)\n",
    "    result['DefThreePtReboundPct'] = (result['DefThreePtRebounds'] / total_def_rebounds * 100).fillna(0)\n",
    "    result['OffTwoPtReboundPct'] = (result['OffTwoPtRebounds'] / total_off_rebounds * 100).fillna(0)\n",
    "    result['OffThreePtReboundPct'] = (result['OffThreePtRebounds'] / total_off_rebounds * 100).fillna(0)\n",
    "    return result\n",
    "df = pd.read_csv('data/2016/1610612739_ps.csv')\n",
    "print(df.Minutes.sum())\n",
    "df=df[df.EntityId.str.contains('2544')]\n",
    "df.fillna(0,inplace=True)\n",
    "comp = pd.read_csv('../../contract/nba_rapm/on-off/players_ps/2544.csv')\n",
    "comp=comp[comp.year==2016]\n",
    "print(comp.Minutes.sum())\n",
    "\n",
    "comp=comp[comp.player_on==True]\n",
    "\n",
    "comp['PlusMinus']"
   ]
  },
  {
   "cell_type": "code",
   "execution_count": 9,
   "id": "59cb697c-b3d8-4d8e-a7c8-03dc38eccad2",
   "metadata": {},
   "outputs": [
    {
     "data": {
      "text/plain": [
       "TeamId\n",
       "1610612739    209.0\n",
       "Name: PlusMinus, dtype: float64"
      ]
     },
     "execution_count": 9,
     "metadata": {},
     "output_type": "execute_result"
    }
   ],
   "source": [
    "df.groupby('TeamId').sum(numeric_only=True)['PlusMinus']"
   ]
  },
  {
   "cell_type": "code",
   "execution_count": 10,
   "id": "ce974f36-02f1-4381-b2d3-6b48b6dc4a99",
   "metadata": {},
   "outputs": [],
   "source": [
    "id_col=['EntityId',\n",
    " 'TeamId',\n",
    " 'Name',\n",
    " 'ShortName',\n",
    " 'RowId',\n",
    " 'TeamAbbreviation',\n",
    "'team_id',\n",
    " 'year',\n",
    " 'season',\n",
    " 'team_vs']"
   ]
  },
  {
   "cell_type": "code",
   "execution_count": 11,
   "id": "fded77a0-fc82-48e6-b6f3-b9d67de59693",
   "metadata": {},
   "outputs": [],
   "source": [
    "pct= [col for col in df.columns if 'pct' in col.lower()]\n",
    "sum = [col for col in df.columns if col not in id_col and col not in pct]\n",
    "sum\n",
    "sums= df.groupby('TeamId').sum(numeric_only=True)[sum].reset_index(drop=True)\n"
   ]
  },
  {
   "cell_type": "code",
   "execution_count": 12,
   "id": "521330ab-9f3d-4450-bbc6-8484b1f0d6c3",
   "metadata": {},
   "outputs": [
    {
     "data": {
      "text/plain": [
       "59"
      ]
     },
     "execution_count": 12,
     "metadata": {},
     "output_type": "execute_result"
    }
   ],
   "source": [
    "len(pct)"
   ]
  },
  {
   "cell_type": "code",
   "execution_count": 13,
   "id": "57e8a887-59ff-46a9-9fd7-774968660d01",
   "metadata": {},
   "outputs": [],
   "source": [
    "newframe=calculate_basketball_percentages(sums)"
   ]
  },
  {
   "cell_type": "code",
   "execution_count": 14,
   "id": "e9bf129e-fb53-44a9-89d2-035f085be405",
   "metadata": {},
   "outputs": [
    {
     "data": {
      "text/html": [
       "<div>\n",
       "<style scoped>\n",
       "    .dataframe tbody tr th:only-of-type {\n",
       "        vertical-align: middle;\n",
       "    }\n",
       "\n",
       "    .dataframe tbody tr th {\n",
       "        vertical-align: top;\n",
       "    }\n",
       "\n",
       "    .dataframe thead th {\n",
       "        text-align: right;\n",
       "    }\n",
       "</style>\n",
       "<table border=\"1\" class=\"dataframe\">\n",
       "  <thead>\n",
       "    <tr style=\"text-align: right;\">\n",
       "      <th></th>\n",
       "      <th>Assisted3sPct</th>\n",
       "      <th>Fg3Pct</th>\n",
       "      <th>SecondChanceFg3Pct</th>\n",
       "      <th>NonHeaveFg3Pct</th>\n",
       "      <th>Fg2Pct</th>\n",
       "      <th>EfgPct</th>\n",
       "      <th>SecondChanceEfgPct</th>\n",
       "      <th>TsPct</th>\n",
       "      <th>SecondChanceTsPct</th>\n",
       "      <th>FG3APct</th>\n",
       "      <th>...</th>\n",
       "      <th>DefFTReboundPct</th>\n",
       "      <th>SecondChanceArc3PctAssisted</th>\n",
       "      <th>LongMidRangePctAssisted</th>\n",
       "      <th>OffCorner3ReboundPct</th>\n",
       "      <th>FG3APctBlocked</th>\n",
       "      <th>Corner3PctBlocked</th>\n",
       "      <th>SecondChanceAtRimPctAssisted</th>\n",
       "      <th>Arc3PctBlocked</th>\n",
       "      <th>ThreePtShootingFoulsDrawnPct</th>\n",
       "      <th>OffFTReboundPct</th>\n",
       "    </tr>\n",
       "  </thead>\n",
       "  <tbody>\n",
       "    <tr>\n",
       "      <th>0</th>\n",
       "      <td>83.098592</td>\n",
       "      <td>40.961538</td>\n",
       "      <td>47.058824</td>\n",
       "      <td>26.305609</td>\n",
       "      <td>51.438053</td>\n",
       "      <td>55.091292</td>\n",
       "      <td>61.081081</td>\n",
       "      <td>57.601505</td>\n",
       "      <td>70.0</td>\n",
       "      <td>36.516854</td>\n",
       "      <td>...</td>\n",
       "      <td>91.666667</td>\n",
       "      <td>850.0</td>\n",
       "      <td>29.67033</td>\n",
       "      <td>49.079755</td>\n",
       "      <td>0.961538</td>\n",
       "      <td>1.840491</td>\n",
       "      <td>263.636364</td>\n",
       "      <td>0.840336</td>\n",
       "      <td>5.035971</td>\n",
       "      <td>8.333333</td>\n",
       "    </tr>\n",
       "  </tbody>\n",
       "</table>\n",
       "<p>1 rows × 59 columns</p>\n",
       "</div>"
      ],
      "text/plain": [
       "   Assisted3sPct     Fg3Pct  SecondChanceFg3Pct  NonHeaveFg3Pct     Fg2Pct  \\\n",
       "0      83.098592  40.961538           47.058824       26.305609  51.438053   \n",
       "\n",
       "      EfgPct  SecondChanceEfgPct      TsPct  SecondChanceTsPct    FG3APct  \\\n",
       "0  55.091292           61.081081  57.601505               70.0  36.516854   \n",
       "\n",
       "   ...  DefFTReboundPct  SecondChanceArc3PctAssisted  LongMidRangePctAssisted  \\\n",
       "0  ...        91.666667                        850.0                 29.67033   \n",
       "\n",
       "   OffCorner3ReboundPct  FG3APctBlocked  Corner3PctBlocked  \\\n",
       "0             49.079755        0.961538           1.840491   \n",
       "\n",
       "   SecondChanceAtRimPctAssisted  Arc3PctBlocked  ThreePtShootingFoulsDrawnPct  \\\n",
       "0                    263.636364        0.840336                      5.035971   \n",
       "\n",
       "   OffFTReboundPct  \n",
       "0         8.333333  \n",
       "\n",
       "[1 rows x 59 columns]"
      ]
     },
     "execution_count": 14,
     "metadata": {},
     "output_type": "execute_result"
    }
   ],
   "source": [
    "newframe[pct]"
   ]
  },
  {
   "cell_type": "code",
   "execution_count": null,
   "id": "27c55b8d-bd17-4244-b447-d5fc71462644",
   "metadata": {},
   "outputs": [],
   "source": [
    "comp[pct]"
   ]
  },
  {
   "cell_type": "code",
   "execution_count": null,
   "id": "5d458aaf-38c0-4828-9b62-cdef1365c2d3",
   "metadata": {},
   "outputs": [],
   "source": [
    "for col in sum:\n",
    "    if 'heave' in col.lower():\n",
    "        print(col)"
   ]
  },
  {
   "cell_type": "code",
   "execution_count": null,
   "id": "6e8c1ffc-2d47-40d9-a370-8124ecec84e4",
   "metadata": {},
   "outputs": [],
   "source": []
  }
 ],
 "metadata": {
  "kernelspec": {
   "display_name": "Python 3 (ipykernel)",
   "language": "python",
   "name": "python3"
  },
  "language_info": {
   "codemirror_mode": {
    "name": "ipython",
    "version": 3
   },
   "file_extension": ".py",
   "mimetype": "text/x-python",
   "name": "python",
   "nbconvert_exporter": "python",
   "pygments_lexer": "ipython3",
   "version": "3.10.12"
  }
 },
 "nbformat": 4,
 "nbformat_minor": 5
}
