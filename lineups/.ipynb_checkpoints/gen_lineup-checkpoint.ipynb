{
 "cells": [
  {
   "cell_type": "code",
   "execution_count": 1,
   "id": "5d184551-ddf0-4254-be51-8f0cb191e984",
   "metadata": {},
   "outputs": [],
   "source": [
    "import pandas as pd\n",
    "import pandas as pd\n",
    "import numpy as np\n",
    "from nba_api.stats.static import players\n",
    "\n",
    "import time \n",
    "import plotly.graph_objects as go\n",
    "import pandas as pd\n",
    "import numpy as np\n",
    "from sklearn.preprocessing import MinMaxScaler\n",
    "import json\n",
    "def get_colors():\n",
    "    path = 'colors.json'\n",
    "    f = open(path)\n",
    "\n",
    "    # returns JSON object as \n",
    "    # a dictionary\n",
    "    data = json.load(f)\n",
    "    team_colors = {}\n",
    "    for team in data:\n",
    "        obj = data[team]\n",
    "        color = obj['mainColor']\n",
    "        color_hex = obj['colors'][color]['hex']\n",
    "        team_colors[team]=color_hex\n",
    "    team_colors['PHX']= '#e56020',\n",
    "    second_colors = {}\n",
    "    for team in data:\n",
    "        obj = data[team]\n",
    "        color = obj['secondaryColor']\n",
    "        color_hex = obj['colors'][color]['hex']\n",
    "        second_colors[team]=color_hex\n",
    "    second_colors['PHX']= '#1d1160',\n",
    "\n",
    "    temp = team_colors['BKN']\n",
    "\n",
    "    team_colors['BKN'] = second_colors['BKN']\n",
    "    second_colors['BKN'] = temp\n",
    "    return team_colors,second_colors\n",
    "\n",
    "def team_dict(team):\n",
    "\n",
    "    map={'SYR': '1610612755',\n",
    "     'PHW': '1610612744',\n",
    "     'NYK': '1610612752',\n",
    "     'STL': '1610612737',\n",
    "     'ROC': '1610612758',\n",
    "     'BOS': '1610612738',\n",
    "     'FTW': '1610612765',\n",
    "     'MNL': '1610612747',\n",
    "     'TOT': 'TOT',\n",
    "     'DET': '1610612765',\n",
    "     'CIN': '1610612758',\n",
    "     'LAL': '1610612747',\n",
    "     'CHP': '1610612741',\n",
    "     'SFW': '1610612744',\n",
    "     'CHZ': '1610612741',\n",
    "     'BAL': '1610612764',\n",
    "     'PHI': '1610612755',\n",
    "     'CHI': '1610612741',\n",
    "     'SDR': '1610612745',\n",
    "     'SEA': '1610612760',\n",
    "     'MIL': '1610612749',\n",
    "     'ATL': '1610612737',\n",
    "     'PHO': '1610612756',\n",
    "     'POR': '1610612757',\n",
    "     'CLE': '1610612739',\n",
    "     'BUF': '1610612761',\n",
    "     'HOU': '1610612745',\n",
    "     'GSW': '1610612744',\n",
    "     'KCO': '1610612758',\n",
    "     'CAP': '1610612764',\n",
    "     'NOJ': '1610612762',\n",
    "     'WSB': '1610612764',\n",
    "     'KCK': '1610612758',\n",
    "     'IND': '1610612754',\n",
    "     'NYN': '1610612751',\n",
    "     'DEN': '1610612743',\n",
    "     'SAS': '1610612759',\n",
    "     'NJN': '1610612751',\n",
    "     'SDC': '1610612746',\n",
    "     'UTA': '1610612762',\n",
    "     'DAL': '1610612742',\n",
    "     'LAC': '1610612746',\n",
    "     'SAC': '1610612758',\n",
    "     'CHH': '1610612766',\n",
    "     'MIA': '1610612748',\n",
    "     'ORL': '1610612753',\n",
    "     'MIN': '1610612750',\n",
    "     'VAN': '1610612763',\n",
    "     'TOR': '1610612761',\n",
    "     'WAS': '1610612764',\n",
    "     'MEM': '1610612763',\n",
    "     'NOH': '1610612740',\n",
    "     'CHA': '1610612766',\n",
    "     'NOK': '1610612740',\n",
    "     'OKC': '1610612760',\n",
    "     'BRK': '1610612751',\n",
    "     'NOP': '1610612740',\n",
    "     'CHO': '1610612766',\n",
    "     'PHX': '1610612756'}\n",
    "    return map[team]\n",
    "\n",
    "def calculate_basketball_percentages(df):\n",
    "    \"\"\"\n",
    "    Calculate basketball percentage statistics from raw totals.\n",
    "    \n",
    "    Args:\n",
    "        df (pandas.DataFrame): DataFrame containing the raw totals columns\n",
    "        \n",
    "    Returns:\n",
    "        pandas.DataFrame: DataFrame with added percentage columns\n",
    "    \"\"\"\n",
    "    # Make a copy to avoid modifying the original\n",
    "    result = df.copy()\n",
    "    \n",
    "    # Basic shooting percentages\n",
    "    result['Fg3Pct'] = (result['FG3M'] / result['FG3A'] * 1).fillna(0)\n",
    "    result['Fg2Pct'] = (result['FG2M'] / result['FG2A'] * 1).fillna(0)\n",
    "    result['FGA'] = (result['FG2A'] + result['FG3A'])\n",
    "    result['PenaltyFGA'] = (result['PenaltyFG2A'] + result['PenaltyFG3A'])\n",
    "    result['SecondChanceFGA'] = (result['SecondChanceFG2A'] + result['SecondChanceFG3A'])\n",
    "\n",
    "    result['FGA']= result['FG2A']+result['FG3A']\n",
    "    result['FGM']= result['FG2M']+result['FG3M']\n",
    "    result['NonHeaveFg3Pct'] = (result['FG3M'] / (result['FG3A']-result['HeaveAttempts']) * 1).fillna(0)\n",
    "    \n",
    "    # Advanced shooting percentages\n",
    "    result['EfgPct'] = ((result['FG2M'] + 1.5 * result['FG3M']) / (result['FG2A'] + result['FG3A']) * 1).fillna(0)\n",
    "    # Assuming you have a DataFrame named result with the necessary columns\n",
    "    \n",
    "    # Step 1: Extract relevant columns for easier calculations\n",
    "    points = result['Points']\n",
    "    fga = result['FGA']\n",
    "    fta = result['FTA']\n",
    "    and1_2pt = result['2pt And 1 Free Throw Trips']\n",
    "    and1_3pt = result['3pt And 1 Free Throw Trips']\n",
    "    \n",
    "    # Step 2: Calculate the adjusted free throw weighting factor\n",
    "    w = (and1_2pt + 1.5 * and1_3pt + 0.44 * (fta - and1_2pt - and1_3pt)) / fta\n",
    "    \n",
    "    # Step 3: Calculate True Shooting Percentage (TS%) and add to result DataFrame\n",
    "    result['TsPct'] = points / (2 * (fga + w * fta))\n",
    "    \n",
    "    # The 'TS%' column in the result DataFrame now contains the calculated TS% values\n",
    "\n",
    "    #result['TsPct'] = (result['Points'] / (2 * (result['FG2A'] + result['FG3A'] + 0.44 * result['FTA'])) * 1).fillna(0)\n",
    "    \n",
    "    # Second chance percentages\n",
    "    result['SecondChanceFg3Pct'] = (result['SecondChanceFG3M'] / result['SecondChanceFG3A'] * 1).fillna(0)\n",
    "    result['SecondChanceFg2Pct'] = (result['SecondChanceFG2M'] / result['SecondChanceFG2A'] * 1).fillna(0)\n",
    "    result['SecondChanceEfgPct'] = ((result['SecondChanceFG2M'] + 1.5 * result['SecondChanceFG3M']) / \n",
    "                                   (result['SecondChanceFG2A'] + result['SecondChanceFG3A']) * 1).fillna(0)\n",
    "    result['SecondChanceTsPct'] = (result['SecondChancePoints'] / \n",
    "                                  (2 * (result['SecondChanceFG2A'] + result['SecondChanceFG3A'])) * 1).fillna(0)\n",
    "\n",
    "    \n",
    "    result['SecondChancePointsPct'] = (result['SecondChancePoints'] / result['Points'] * 1).fillna(0)\n",
    "    \n",
    "    # Shot distribution\n",
    "    result['FG3APct'] = (result['FG3A'] / (result['FG2A'] + result['FG3A']) * 1).fillna(0)\n",
    "    \n",
    "    result['FG2APctBlocked'] = (result['Fg2aBlocked'] / result['FG2A'] * 1).fillna(0)\n",
    "    result['AtRimPctBlocked'] = (result['opp_BlockedAtRim'] / result['AtRimFGA'] * 1).fillna(0)\n",
    "    result['LongMidRangePctBlocked'] = (result['opp_BlockedLongMidRange'] / result['LongMidRangeFGA'] * 1).fillna(0)\n",
    "    result['ShortMidRangePctBlocked'] = (result['opp_BlockedShortMidRange'] / result['ShortMidRangeFGA'] * 1).fillna(0)\n",
    "    result['FG3APctBlocked'] = (result['Fg3aBlocked'] / result['FG3A'] * 1).fillna(0)\n",
    "    result['Corner3PctBlocked'] = (result['Blocked3s'] / result['Corner3FGA'] * 1).fillna(0)\n",
    "    result['Arc3PctBlocked'] = (result['Blocked3s'] / result['Arc3FGA'] * 1).fillna(0)\n",
    "    \n",
    "    # Rebound percentages - Field Goals (corrected to be relative to missed shots)\n",
    "    result['DefFGReboundPct'] = (result['DefRebounds'] / (result['opp_FG2A'] - result['opp_FG2M'] + result['opp_FG3A'] - result['opp_FG3M']) * 1).fillna(0)\n",
    "    result['OffFGReboundPct'] = (result['OffRebounds'] / (result['FG2A'] - result['FG2M'] + result['FG3A'] - result['FG3M']) * 1).fillna(0)\n",
    "    \n",
    "    # Rebound percentages by shot location (corrected to be relative to missed shots of that type)\n",
    "    result['OffLongMidRangeReboundPct'] = (result['OffTwoPtRebounds'] / (result['LongMidRangeFGA'] - result['LongMidRangeFGM']) * 1).fillna(0)\n",
    "    result['DefLongMidRangeReboundPct'] = (result['DefTwoPtRebounds'] / (result['LongMidRangeFGA'] - result['LongMidRangeFGM']) * 1).fillna(0)\n",
    "    result['DefArc3ReboundPct'] = (result['DefThreePtRebounds'] / (result['Arc3FGA'] - result['Arc3FGM']) * 1).fillna(0)\n",
    "    result['OffArc3ReboundPct'] = (result['OffThreePtRebounds'] / (result['Arc3FGA'] - result['Arc3FGM']) * 1).fillna(0)\n",
    "    result['DefAtRimReboundPct'] = (result['DefTwoPtRebounds'] / (result['AtRimFGA'] - result['AtRimFGM']) * 1).fillna(0)\n",
    "    result['OffAtRimReboundPct'] = (result['OffTwoPtRebounds'] / (result['AtRimFGA'] - result['AtRimFGM']) * 1).fillna(0)\n",
    "    result['DefShortMidRangeReboundPct'] = (result['DefTwoPtRebounds'] / (result['ShortMidRangeFGA'] - result['ShortMidRangeFGM']) * 1).fillna(0)\n",
    "    result['OffShortMidRangeReboundPct'] = (result['OffTwoPtRebounds'] / (result['ShortMidRangeFGA'] - result['ShortMidRangeFGM']) * 1).fillna(0)\n",
    "    result['DefCorner3ReboundPct'] = (result['DefThreePtRebounds'] / (result['Corner3FGA'] - result['Corner3FGM']) * 1).fillna(0)\n",
    "    result['OffCorner3ReboundPct'] = (result['OffThreePtRebounds'] / (result['Corner3FGA'] - result['Corner3FGM']) * 1).fillna(0)\n",
    "    \n",
    "    # Free throw rebound percentages (corrected to be relative to FT misses)\n",
    "\n",
    "    # Assist percentages\n",
    "    result['Assisted2sPct'] = (result['PtsAssisted2s'] / (2 * result['FG2M']) * 1).fillna(0)\n",
    "    result['Assisted3sPct'] = (result['PtsAssisted3s'] / (3 * result['FG3M']) * 1).fillna(0)\n",
    "    result['NonPutbacksAssisted2sPct'] = (result['PtsAssisted2s'] / (2 * (result['FG2M'] - result['PtsPutbacks']/2)) * 1).fillna(0)\n",
    "    result['Corner3PctAssisted'] = (result['Corner3Assists'] / result['Corner3FGM'] * 1).fillna(0)\n",
    "    result['Arc3PctAssisted'] = (result['Arc3Assists'] / result['Arc3FGM'] * 1).fillna(0)\n",
    "    result['SecondChanceCorner3PctAssisted'] = (result['Corner3Assists'] / result['SecondChanceCorner3FGM'] * 1).fillna(0)\n",
    "    result['SecondChanceArc3PctAssisted'] = (result['Arc3Assists'] / result['SecondChanceArc3FGM'] * 1).fillna(0)\n",
    "    result['SecondChanceAtRimPctAssisted'] = (result['AtRimAssists'] / result['SecondChanceAtRimFGM'] * 1).fillna(0)\n",
    "    result['AtRimPctAssisted'] = (result['AtRimAssists'] / result['AtRimFGM'] * 1).fillna(0)\n",
    "    result['ShortMidRangePctAssisted'] = (result['ShortMidRangeAssists'] / result['ShortMidRangeFGM'] * 1).fillna(0)\n",
    "    result['LongMidRangePctAssisted'] = (result['LongMidRangeAssists'] / result['LongMidRangeFGM'] * 1).fillna(0)\n",
    "    \n",
    "    # Penalty percentages\n",
    "    result['PenaltyPointsPct'] = (result['PenaltyPoints'] / result['Points'] * 1).fillna(0)\n",
    "    result['PenaltyOffPossPct'] = (result['PenaltyOffPoss'] / result['OffPoss'] * 1).fillna(0)\n",
    "    result['PenaltyFg2Pct'] = (result['PenaltyFG2M'] / result['PenaltyFG2A'] * 1).fillna(0)\n",
    "    result['PenaltyFg3Pct'] = (result['PenaltyFG3M'] / result['PenaltyFG3A'] * 1).fillna(0)\n",
    "    result['PenaltyEfgPct'] = ((result['PenaltyFG2M'] + 1.5 * result['PenaltyFG3M']) / \n",
    "                              (result['PenaltyFG2A'] + result['PenaltyFG3A']) * 1).fillna(0)\n",
    "    result['PenaltyTsPct'] = (result['PenaltyPoints'] / \n",
    "                             (2 * (result['PenaltyFG2A'] + result['PenaltyFG3A'] + 0.44 * result['FTA'])) * 1).fillna(0)\n",
    "    \n",
    "    # Miscellaneous percentages\n",
    "    result['BlocksRecoveredPct'] = (result['RecoveredBlocks'] / result['Blocks'] * 1).fillna(0)\n",
    "    result['LiveBallTurnoverPct'] = (result['LiveBallTurnovers'] / result['Turnovers'] * 1).fillna(0)\n",
    "    result['SelfORebPct'] = (result['SelfOReb'] /(result['FGA']- result['FGM']) * 1).fillna(0)\n",
    "    \n",
    "    # Fouls percentages\n",
    "    total_shooting_fouls = result['TwoPtShootingFoulsDrawn'] + result['ThreePtShootingFoulsDrawn']\n",
    "    result['ShootingFoulsDrawnPct'] = (result['ShootingFouls'] / (result['FG2A']+result['FG3A']) * 1).fillna(0)\n",
    "    result['TwoPtShootingFoulsDrawnPct'] = ((result['TwoPtShootingFoulsDrawn'])/ (result['FG2A']+result['2pt And 1 Free Throw Trips'])* 1).fillna(0)\n",
    "    result['ThreePtShootingFoulsDrawnPct'] = (result['ThreePtShootingFoulsDrawn'] / result['FG3A'] * 1).fillna(0)\n",
    "    total_def_rebounds = result['DefTwoPtRebounds'] + result['DefThreePtRebounds']\n",
    "    total_off_rebounds = result['OffTwoPtRebounds'] + result['OffThreePtRebounds']\n",
    "    result['ThreePtShootingFoulsDrawnPct'] = result['ThreePtShootingFoulsDrawn'] / result['FG3A'] * 1\n",
    "    \n",
    "    result['DefTwoPtReboundPct'] = (result['DefTwoPtRebounds'] / total_def_rebounds * 1).fillna(0)\n",
    "    result['DefThreePtReboundPct'] = (result['DefThreePtRebounds'] / total_def_rebounds * 1).fillna(0)\n",
    "    result['OffTwoPtReboundPct'] = (result['OffTwoPtRebounds'] /(result['FG2A']-result['FG2M']) * 1).fillna(0)\n",
    "    result['OffThreePtReboundPct'] = (result['OffThreePtRebounds'] / total_off_rebounds * 1).fillna(0)\n",
    "    \n",
    "    result['OffFTReboundPct']=(result['FTOffRebounds']/(result['opp_FTDefRebounds']+result['FTOffRebounds']))\n",
    "\n",
    "    result['DefFTReboundPct']=(result['FTDefRebounds']/(result['opp_FTOffRebounds']+result['FTDefRebounds']))\n",
    "    result['AtRimFrequency'] = result['AtRimFGA'] / result['FGA']\n",
    "    result['ShortMidRangeFrequency'] = result['ShortMidRangeFGA'] / result['FGA']\n",
    "    result['LongMidRangeFrequency'] = result['LongMidRangeFGA'] / result['FGA']\n",
    "    result['Corner3Frequency'] = result['Corner3FGA'] / result['FGA']\n",
    "    result['Arc3Frequency'] = result['Arc3FGA'] / result['FGA']\n",
    "    result['SecondChanceArc3Frequency'] = result['SecondChanceArc3FGA'] / result['SecondChanceFGA']\n",
    "    result['AtRimFG3AFrequency'] = (result['AtRimFGA'] + result['FG3A']) / result['FGA']\n",
    "    result['SecondChanceAtRimFrequency'] = result['SecondChanceAtRimFGA'] / result['SecondChanceFGA']\n",
    "    result['SecondChanceCorner3Frequency'] = result['SecondChanceCorner3FGA'] / result['SecondChanceFGA']\n",
    "    result['PenaltyAtRimFrequency'] = result['PenaltyAtRimFGA'] / result['PenaltyFGA']\n",
    "    result['PenaltyArc3Frequency'] = result['PenaltyArc3FGA'] / result['PenaltyFGA']\n",
    "    result['PenaltyCorner3Frequency'] = result['PenaltyCorner3FGA'] / result['PenaltyFGA']\n",
    "    # Calculating accuracy metrics\n",
    "    result['AtRimAccuracy'] = result['AtRimFGM'] / result['AtRimFGA']\n",
    "    result['UnblockedAtRimAccuracy'] = (result['AtRimFGM'] - result['Fg2aBlocked']) / result['AtRimFGA']\n",
    "    \n",
    "    result['ShortMidRangeAccuracy'] = result['ShortMidRangeFGM'] / result['ShortMidRangeFGA']\n",
    "    result['UnblockedShortMidRangeAccuracy'] = (result['ShortMidRangeFGM'] - result['Fg2aBlocked']) / result['ShortMidRangeFGA']\n",
    "    \n",
    "    result['LongMidRangeAccuracy'] = result['LongMidRangeFGM'] / result['LongMidRangeFGA']\n",
    "    result['UnblockedLongMidRangeAccuracy'] = (result['LongMidRangeFGM'] - result['Fg2aBlocked']) / result['LongMidRangeFGA']\n",
    "    \n",
    "    result['Corner3Accuracy'] = result['Corner3FGM'] / result['Corner3FGA']\n",
    "    result['UnblockedCorner3Accuracy'] = (result['Corner3FGM'] - result['Fg3aBlocked']) / result['Corner3FGA']\n",
    "    \n",
    "    result['Arc3Accuracy'] = result['Arc3FGM'] / result['Arc3FGA']\n",
    "    result['UnblockedArc3Accuracy'] = (result['Arc3FGM'] - result['Fg3aBlocked']) / result['Arc3FGA']\n",
    "    \n",
    "    # Second-chance accuracy metrics\n",
    "    result['SecondChanceAtRimAccuracy'] = result['SecondChanceAtRimFGM'] / result['SecondChanceAtRimFGA']\n",
    "    result['SecondChanceCorner3Accuracy'] = result['SecondChanceCorner3FGM'] / result['SecondChanceCorner3FGA']\n",
    "    result['SecondChanceArc3Accuracy'] = result['SecondChanceArc3FGM'] / result['SecondChanceArc3FGA']\n",
    "    \n",
    "    # Penalty accuracy metrics\n",
    "    result['PenaltyAtRimAccuracy'] = result['PenaltyAtRimFGM'] / result['PenaltyAtRimFGA']\n",
    "    result['PenaltyCorner3Accuracy'] = result['PenaltyCorner3FGM'] / result['PenaltyCorner3FGA']\n",
    "    result['PenaltyArc3Accuracy'] = result['PenaltyArc3FGM'] / result['PenaltyArc3FGA']\n",
    "    \n",
    "    # Non-heave accuracy metric\n",
    "    result['NonHeaveArc3Accuracy'] = result['NonHeaveArc3FGM'] / result['NonHeaveArc3FGA']\n",
    "\n",
    "\n",
    "    return result\n",
    "\n",
    "def calculate_weighted_average(df, value_col, weight_col, group_by=None):\n",
    "    \"\"\"\n",
    "    Calculate weighted average of a value column based on a weight column.\n",
    "    \n",
    "    Parameters:\n",
    "    -----------\n",
    "    df : pandas.DataFrame\n",
    "        Input dataframe\n",
    "    value_col : str\n",
    "        Name of the column containing the values to average\n",
    "    weight_col : str\n",
    "        Name of the column containing the weights\n",
    "    group_by : str or list, optional\n",
    "        Column(s) to group by before calculating weighted average\n",
    "        \n",
    "    Returns:\n",
    "    --------\n",
    "    If group_by is None: returns a float (weighted average)\n",
    "    If group_by is specified: returns a Series with weighted averages per group\n",
    "    \n",
    "    Examples:\n",
    "    --------\n",
    "    # Single weighted average\n",
    "    df = pd.DataFrame({\n",
    "        'value': [10, 20, 30],\n",
    "        'weight': [1, 2, 3]\n",
    "    })\n",
    "    result = calculate_weighted_average(df, 'value', 'weight')\n",
    "    \n",
    "    # Grouped weighted averages\n",
    "    df = pd.DataFrame({\n",
    "        'category': ['A', 'A', 'B', 'B'],\n",
    "        'value': [10, 20, 30, 40],\n",
    "        'weight': [1, 2, 3, 4]\n",
    "    })\n",
    "    result = calculate_weighted_average(df, 'value', 'weight', 'category')\n",
    "    \"\"\"\n",
    "    \n",
    "    # Input validation\n",
    "    if value_col not in df.columns:\n",
    "        raise ValueError(f\"Value column '{value_col}' not found in dataframe\")\n",
    "    if weight_col not in df.columns:\n",
    "        raise ValueError(f\"Weight column '{weight_col}' not found in dataframe\")\n",
    "    \n",
    "    # Handle negative weights\n",
    "    if (df[weight_col] < 0).any():\n",
    "        raise ValueError(\"Negative weights found. Please ensure all weights are non-negative\")\n",
    "    \n",
    "    # Remove rows where either value or weight is null\n",
    "    df = df.dropna(subset=[value_col, weight_col])\n",
    "    \n",
    "    # If all weights are zero, return nan\n",
    "    if (df[weight_col] == 0).all():\n",
    "        print('hit zero condition')\n",
    "        return np.nan\n",
    "    \n",
    "    if group_by is None:\n",
    "        # Calculate single weighted average\n",
    "        weighted_sum = (df[value_col] * df[weight_col]).sum()\n",
    "        weight_sum = df[weight_col].sum()\n",
    "        return weighted_sum / weight_sum if weight_sum != 0 else np.nan\n",
    "    else:\n",
    "        # Calculate grouped weighted averages\n",
    "        grouped = df.groupby(group_by)\n",
    "        weighted_sums = grouped.apply(lambda x: (x[value_col] * x[weight_col]).sum())\n",
    "        weight_sums = grouped[weight_col].sum()\n",
    "        weight_sum = df[weight_col].sum()\n",
    "        return weighted_sums / weight_sum\n",
    "\n",
    "\n",
    "def transform_data(df):\n",
    "    df.fillna(0, inplace=True)\n",
    "    \n",
    "    id_col=['EntityId',\n",
    "     'TeamId',\n",
    "     'Name',\n",
    "     'ShortName',\n",
    "     'RowId',\n",
    "     'TeamAbbreviation',\n",
    "    'team_id',\n",
    "     'year',\n",
    "     'season',\n",
    "     'team_vs']\n",
    "    df['FGA']= df['FG2A']+df['FG3A']\n",
    "    df['FGM']= df['FG2M']+df['FG3M']\n",
    "    df['opp_FGA']= df['opp_FG2A']+df['opp_FG3A']\n",
    "    df['opp_FGM']= df['opp_FG2M']+df['opp_FG3M']\n",
    "\n",
    "    missing=['3pt And 1 Free Throw Trips','opp_BlockedLongMidRange','opp_FTOffRebounds']\n",
    "    for col in missing:\n",
    "        if col not in df.columns:\n",
    "            df[col]=0\n",
    "    \n",
    "    df.drop(columns=['opp_Name', 'opp_ShortName', 'opp_RowId', 'opp_TeamAbbreviation', 'opp_season'],inplace=True)\n",
    "    df['two_point_misses']= df['FG2A'] - df['FG2M']\n",
    "    df['opp_two_point_misses']= df['opp_FG2A'] - df['opp_FG2M']\n",
    "    \n",
    "    # Specific location misses\n",
    "    df['at_rim_misses']= df['AtRimFGA'] - df['AtRimFGM']\n",
    "    df['opp_at_rim_misses']= df['opp_AtRimFGA'] - df['opp_AtRimFGM']\n",
    "    \n",
    "    df['short_midrange_misses']= df['ShortMidRangeFGA'] - df['ShortMidRangeFGM']\n",
    "    \n",
    "    df['opp_short_midrange_misses']= df['opp_ShortMidRangeFGA'] - df['opp_ShortMidRangeFGM']\n",
    "    \n",
    "    df['long_midrange_misses']= df['LongMidRangeFGA'] - df['LongMidRangeFGM']\n",
    "    df['opp_long_midrange_misses']= df['opp_LongMidRangeFGA'] - df['opp_LongMidRangeFGM']\n",
    "    \n",
    "    # Three point misses by location\n",
    "    df['corner3_misses']= df['Corner3FGA'] - df['Corner3FGM']\n",
    "    df['opp_corner3_misses']= df['opp_Corner3FGA'] - df['opp_Corner3FGM']\n",
    "    \n",
    "    df['arc3_misses']= df['Arc3FGA'] - df['Arc3FGM']\n",
    "    df['opp_arc3_misses']= df['opp_Arc3FGA'] - df['opp_Arc3FGM']\n",
    "    \n",
    "    # Free throw misses\n",
    "    df['ft_misses']= df['FTA'] - df['FtPoints']\n",
    "    \n",
    "    df['opp_ft_misses']= df['opp_FTA'] - df['opp_FtPoints']\n",
    "    \n",
    "    # Total misses\n",
    "    df['fg_misses']= (df['FGA'] - df['FGM'])\n",
    "    df['opp_fg_misses']= (df['opp_FGA'] - df['opp_FGM'])\n",
    "    \n",
    "    weight_mapping = {\n",
    "        'DefTwoPtReboundPct': 'opp_two_point_misses',\n",
    "        'OffTwoPtReboundPct': 'two_point_misses',\n",
    "        'DefThreePtReboundPct':'opp_FG3A',\n",
    "        'DefFGReboundPct': 'opp_fg_misses',\n",
    "        'OffFGReboundPct': 'fg_misses',\n",
    "        'OffLongMidRangeReboundPct': 'long_midrange_misses',\n",
    "        'DefLongMidRangeReboundPct': 'opp_long_midrange_misses',\n",
    "        'OffThreePtReboundPct': 'opp_FG3A',\n",
    "        'OffArc3ReboundPct': 'arc3_misses',\n",
    "        'DefArc3ReboundPct': 'opp_arc3_misses',\n",
    "        'DefAtRimReboundPct': 'opp_at_rim_misses',\n",
    "        'DefShortMidRangeReboundPct': 'opp_short_midrange_misses',\n",
    "        'DefCorner3ReboundPct': 'opp_corner3_misses',\n",
    "        'OffAtRimReboundPct': 'at_rim_misses',\n",
    "        'SelfORebPct': 'fg_misses',\n",
    "        'OffShortMidRangeReboundPct': 'short_midrange_misses',\n",
    "        'DefFTReboundPct': 'FTDefRebounds',\n",
    "        'OffFTReboundPct':'opp_FTDefRebounds',\n",
    "        'OffCorner3ReboundPct': 'corner3_misses',\n",
    "        'SecondChanceTsPct':'SecondChanceOffPoss',\n",
    "        'SecondChanceCorner3PctAssisted':'SecondChanceCorner3FGM',\n",
    "        'SecondChanceArc3PctAssisted':'SecondChanceArc3FGM',\n",
    "        'SecondChanceAtRimPctAssisted':'SecondChanceAtRimFGM'\n",
    "    }\n",
    "    \n",
    "    # Create a DataFrame to store weighted averages for each team\n",
    "    team_weighted_avgs = pd.DataFrame()\n",
    "    \n",
    "    # Calculate weighted averages for each team\n",
    "    for team_id in df['TeamId'].unique():\n",
    "        team_data = df[df['TeamId'] == team_id]\n",
    "        team_values = {}\n",
    "        \n",
    "        for key in weight_mapping.keys():\n",
    "            if team_data[weight_mapping[key]].sum() == 0:\n",
    "                val = 0\n",
    "            else:\n",
    "                val = calculate_weighted_average(team_data, key, weight_mapping[key])\n",
    "            team_values[key] = val\n",
    "            \n",
    "        # Add team values to the DataFrame\n",
    "        team_weighted_avgs = pd.concat([\n",
    "            team_weighted_avgs, \n",
    "            pd.DataFrame([team_values], index=[team_id])\n",
    "        ])\n",
    "    \n",
    "    weight_list = list(weight_mapping.keys())\n",
    "    pct = [col for col in df.columns if 'pct' in col.lower()]\n",
    "    sum_cols = [col for col in df.columns if col not in id_col and col not in pct]\n",
    "    \n",
    "    sums = df.groupby('TeamId').sum(numeric_only=True)[sum_cols].reset_index()\n",
    "    \n",
    "    exclude = [\"PenaltyTsPct\"]\n",
    "    pct = [col for col in pct if col not in exclude]\n",
    "    pct = [col for col in pct if 'opp_' not in col.lower()]\n",
    "    \n",
    "    newframe = calculate_basketball_percentages(sums)\n",
    "    \n",
    "    # Add the weighted averages to newframe\n",
    "    for col in weight_list:\n",
    "        newframe[col] = newframe['TeamId'].map(team_weighted_avgs[col])\n",
    "    \n",
    "    to_drop = [col for col in newframe if 'opp_' in col.lower()]\n",
    "    newframe.drop(columns=to_drop, inplace=True)\n",
    "    \n",
    "    return newframe\n",
    "\n",
    "def player_rows(start_year, end_year, player_ids, off_player_ids, team_id, vs=False, on=True, ps=False):\n",
    "    pstring = \"_ps\" if ps else \"\"\n",
    "    all_df1 = []  # List to collect `df1` dataframes for each year\n",
    "    all_df2 = []  # List to collect `df2` dataframes for each year\n",
    "\n",
    "    # Loop through each year in the specified range\n",
    "    for year in range(start_year, end_year + 1):\n",
    "        # Load the appropriate dataframes based on the `vs` flag\n",
    "        if not vs:\n",
    "            tempdf1 = pd.read_csv(f\"data/{year}/{team_id}{pstring}.csv\")\n",
    "            tempdf2 = pd.read_csv(f\"data/{year}/{team_id}_vs{pstring}.csv\")\n",
    "        else:\n",
    "            tempdf2 = pd.read_csv(f\"data/{year}/{team_id}{pstring}.csv\")\n",
    "            tempdf1 = pd.read_csv(f\"data/{year}/{team_id}_vs{pstring}.csv\")\n",
    "\n",
    "        \n",
    "        # Append the dataframes to the lists\n",
    "        all_df1.append(tempdf1)\n",
    "        all_df2.append(tempdf2)\n",
    "\n",
    "\n",
    "    # Concatenate all yearly dataframes into one for each category\n",
    "    df1 = pd.concat(all_df1).reset_index()\n",
    "    \n",
    "    df2 = pd.concat(all_df2).reset_index()\n",
    "    # Get columns not present in df1 for default zero assignment\n",
    "    notfound = set(df2.columns) - set(df1.columns)\n",
    "    \n",
    "    # Drop the 'team_vs' column from df2 if it exists\n",
    "    if 'team_vs' in df2.columns:\n",
    "        df2.drop(columns='team_vs', inplace=True)\n",
    "    \n",
    "    # Rename columns in df2 to distinguish them in the merged dataframe\n",
    "    id_col = ['EntityId','year']\n",
    "    oppnames = [f'opp_{col}' if col not in id_col else col for col in df2.columns]\n",
    "    df2.columns = oppnames\n",
    "    \n",
    "    # Merge df1 and df2 on the 'EntityId' column\n",
    "    df = df1.merge(df2, on=id_col)\n",
    "\n",
    "    \n",
    "    # Assign 0 to missing columns from df2 in df1\n",
    "    for col in notfound:\n",
    "        df[col] = 0\n",
    "\n",
    "    # Filter rows based on the presence of any player_id in the list of player_ids\n",
    "# For players that must be in the lineup\n",
    "    if len(player_ids) > 0:\n",
    "        df = df[df['EntityId'].apply(lambda x: all(pid in x.split('-') for pid in player_ids))]\n",
    "    \n",
    "    # For players that must NOT be in the lineup\n",
    "    if len(off_player_ids) > 0:\n",
    "        df = df[df['EntityId'].apply(lambda x: not any(pid in x.split('-') for pid in off_player_ids))]\n",
    "    newframe=transform_data(df)\n",
    "\n",
    "    newframe['team_id']=team_id\n",
    "    if ps == False:\n",
    "        index=pd.read_csv('index_master.csv')\n",
    "    else:\n",
    "        index=pd.read_csv('index_master_ps.csv')    \n",
    "    index=index[index.year==year]\n",
    "    name_map=dict(zip(index['nba_id'],index['player']))\n",
    "    name=''\n",
    "    names=[]\n",
    "    names2=[]\n",
    "    if player_ids:\n",
    "        for id in player_ids:\n",
    "            names.append(name_map[int(id)].split(' ')[0])\n",
    "\n",
    "    if off_player_ids:\n",
    "        for id in off_player_ids:\n",
    "            names2.append(name_map[int(id)].split(' ')[0])\n",
    "    if len(names)>0:\n",
    "                \n",
    "        name= (', ').join(names)\n",
    "        name += ' On'\n",
    "    if len(names2)>0:\n",
    "                \n",
    "        name2= (', ').join(names2)\n",
    "        name2 += ' Off'\n",
    "\n",
    "        if name =='':\n",
    "            name=name2\n",
    "        else:\n",
    "            name= name +' | ' +name2\n",
    "    \n",
    "    \n",
    "\n",
    "    newframe.drop(columns='GamesPlayed')\n",
    "    #newframe['GamesPlayed']=newframe['OffPoss']/75\n",
    "    #newframe['GamesPlayed']=newframe['GamesPlayed'].round(0)\n",
    "    newframe['Name']=name\n",
    "    \n",
    "    return newframe\n",
    "\n",
    "\n",
    "def team_averages(start_year,end_year,ps=False,vs=False):\n",
    "    carry=''\n",
    "    if ps == True:\n",
    "        carry='ps'\n",
    "    framelist=[]\n",
    "    \n",
    "    for year in range(start_year,end_year+1):\n",
    "        if vs == False:\n",
    "            df1= pd.read_csv(f\"https://raw.githubusercontent.com/gabriel1200/player_sheets/refs/heads/master/team_totals/{str(year)}{carry}.csv\")\n",
    "            df2= pd.read_csv(f\"https://raw.githubusercontent.com/gabriel1200/player_sheets/refs/heads/master/team_totals/{str(year)}vs{carry}.csv\")\n",
    "        else:\n",
    "            df2= pd.read_csv(f\"https://raw.githubusercontent.com/gabriel1200/player_sheets/refs/heads/master/team_totals/{str(year)}{carry}.csv\")\n",
    "            df1= pd.read_csv(f\"https://raw.githubusercontent.com/gabriel1200/player_sheets/refs/heads/master/team_totals/{str(year)}vs{carry}.csv\")\n",
    "        id_col = ['EntityId']\n",
    "        oppnames = [f'opp_{col}' if col not in id_col else col for col in df2.columns]\n",
    "        df2.columns = oppnames\n",
    "        \n",
    "        # Merge df1 and df2 on the 'EntityId' column\n",
    "        df = df1.merge(df2, on=id_col)\n",
    "        del df1\n",
    "        del df2\n",
    "        framelist.append(df)\n",
    "    namemap=dict(zip(df['TeamId'],df['Name']))\n",
    "        \n",
    "    teams=pd.concat(framelist)\n",
    "    teams['team_id']=teams['TeamId']\n",
    "    teams= transform_data(teams)\n",
    "    teams.drop(columns='GamesPlayed')\n",
    "    \n",
    "    teams['team_id']=teams['TeamId']\n",
    "\n",
    "\n",
    "    teams['Name']=teams['TeamId'].map(namemap)\n",
    "    return teams\n",
    "def trim_frame(frame1):\n",
    "    frame1['FGA']=frame1['FG2A']+frame1['FG3A']\n",
    "    columns = ['AtRimFGM','AtRimFGA','AtRimAssists','Turnovers','FTA','FGA',\n",
    "    'OffPoss','DefPoss','TwoPtAssists','Steals','BadPassSteals',\n",
    "    'ThreePtAssists','FG3A','OpponentPoints','Points','SecondChancePoints','FG2A','LiveBallTurnovers']\n",
    "    other_col = ['team_id','TsPct','Fg3Pct','AtRimFG3AFrequency','Pace','AtRimFrequency','SecondsPerPossOff','SecondsPerPossDef',\n",
    "                'DefAtRimReboundPct','DefFGReboundPct','AtRimAccuracy','EfgPct',\n",
    "'OffFGReboundPct','Name']\n",
    "    new_df = pd.DataFrame()\n",
    "\n",
    "    \n",
    "    new_df[other_col] =frame1[other_col]\n",
    "    \n",
    "\n",
    "    for col in columns:\n",
    "        if col in['OpponentPoints','DefRebounds']:\n",
    "            new_df[col]= 100* frame1[col]/frame1['DefPoss']\n",
    "\n",
    "        else:  \n",
    "            new_df[col]= 100* frame1[col]/frame1['OffPoss']\n",
    "    new_df['TOV%'] = (new_df['Turnovers'] / (new_df['Turnovers'] + new_df['FGA'] + 0.44 * new_df['FTA']))\n",
    "  \n",
    "    new_df = new_df.rename(columns={\n",
    "            'AtRimFrequency': 'Rim Freq',\n",
    "            'DefFGReboundPct': 'DREB%', 'OffFGReboundPct': 'OREB%', 'OpponentPoints': 'Opp Points', 'AtRimAssists': 'Rim Assists','AtRimAccuracy': 'Rim%',\n",
    "            'ThreePtAssists': '3P Assists', 'TsPct': 'TS%', 'Fg3Pct': '3P%','EfgPct':'EFG%'})\n",
    "\n",
    "    columns = [\n",
    "            'Points', 'Opp Points', 'FTA','EFG%',\n",
    "            '3P%',\n",
    "            'Rim Freq', 'TS%',\n",
    "            'Rim%',  'TOV%',\n",
    "            '3P Assists','Rim Assists',\n",
    "            'DREB%', 'OREB%','Name']\n",
    "    return new_df[columns]\n",
    "def create_nba_beeswarm(team,start_year,end_year,data, categories=None,vs=False,ps=False):\n",
    "    team_names = {\n",
    "        \"PHX\": \"Phoenix Suns\",\n",
    "        \"DET\": \"Detroit Pistons\",\n",
    "        \"POR\": \"Portland Trail Blazers\",\n",
    "        \"MIL\": \"Milwaukee Bucks\",\n",
    "        \"BOS\": \"Boston Celtics\",\n",
    "        \"LAL\": \"Los Angeles Lakers\",\n",
    "        \"ORL\": \"Orlando Magic\",\n",
    "        \"NOP\": \"New Orleans Pelicans\",\n",
    "        \"NOH\": \"New Orleans Pelicans\",\n",
    "        \"DAL\": \"Dallas Mavericks\",\n",
    "        \"DEN\": \"Denver Nuggets\",\n",
    "        \"IND\": \"Indiana Pacers\",\n",
    "        \"CHA\": \"Charlotte Hornets\",\n",
    "        \"SAS\": \"San Antonio Spurs\",\n",
    "        \"LAC\": \"Los Angeles Clippers\",\n",
    "        \"MEM\": \"Memphis Grizzlies\",\n",
    "        \"WAS\": \"Washington Wizards\",\n",
    "        \"MIA\": \"Miami Heat\",\n",
    "        \"ATL\": \"Atlanta Hawks\",\n",
    "        \"OKC\": \"Oklahoma City Thunder\",\n",
    "        \"SEA\": \"Seattle Supersonics\",\n",
    "\n",
    "        \"UTA\": \"Utah Jazz\",\n",
    "        \"NYK\": \"New York Knicks\",\n",
    "        \"CHI\": \"Chicago Bulls\",\n",
    "        \"MIN\": \"Minnesota Timberwolves\",\n",
    "        \"NJN\": \"New Jersey Nets\",\n",
    "\n",
    "        \"BKN\": \"Brooklyn Nets\",\n",
    "        \"BRK\": \"Brooklyn Nets\",\n",
    "        \"CLE\": \"Cleveland Cavaliers\",\n",
    "        \"HOU\": \"Houston Rockets\",\n",
    "        \"GSW\": \"Golden State Warriors\",\n",
    "        \"SAC\": \"Sacramento Kings\",\n",
    "        \"TOR\": \"Toronto Raptors\",\n",
    "        \"PHI\": \"Philadelphia 76ers\"\n",
    "    }\n",
    "    addon=''\n",
    "    if ps == True:\n",
    "        addon+= ' PS '\n",
    "    else:\n",
    "        addon+= ' RS '\n",
    "    if vs == False:\n",
    "        addon+=''\n",
    "    else:\n",
    "        addon=' (Defense)'\n",
    "    team_name=team_names[team]\n",
    "    combo_name=data[data.lineup_row==1]['Name'].iloc[0]\n",
    "    if len(combo_name)==0:\n",
    "        combo_name=team_name\n",
    "    else:\n",
    "        combo_name= team_name.split(' ')[-1] +' with '+combo_name\n",
    "    team_name+= (' '+str(start_year-1)+'-'+str(end_year))\n",
    "    \n",
    "    # Normalize the data to a 0-1 range\n",
    "    scaler = MinMaxScaler()\n",
    "    normalized_data = pd.DataFrame(\n",
    "        scaler.fit_transform(data[categories]),\n",
    "        columns=categories,\n",
    "        index=data.index\n",
    "    )\n",
    "    \n",
    "    # Separate team and lineup data\n",
    "    team_data = normalized_data[data['lineup_row'] == 0]\n",
    "    lineup_data = normalized_data[data['lineup_row'] == 1]\n",
    "    \n",
    "    # Store original values for hover text and labels\n",
    "    original_team_data = data[data['lineup_row'] == 0]\n",
    "    original_lineup_data = data[data['lineup_row'] == 1]\n",
    "    \n",
    "    # Create the figure\n",
    "    fig = go.Figure()\n",
    "    \n",
    "    # Define custom colors\n",
    "    team_color = '#00ffff'\n",
    "    lineup_color = '#ff4d4d'\n",
    "    grid_color = 'rgba(255, 255, 255, 0.1)'\n",
    "    bg_color = '#1a1a1a'\n",
    "    text_color = '#ffffff'\n",
    "    \n",
    "    # Plot the actual data points\n",
    "    for i, category in enumerate(categories):\n",
    "        # Plot team data points with enhanced hover info\n",
    "        hover_texts = []\n",
    "\n",
    "        for idx in team_data.index:\n",
    "            team_abbrev = original_team_data.loc[idx, 'team']\n",
    "            team_full_name = team_names[team_abbrev]\n",
    "            value = original_team_data.loc[idx, category]\n",
    "            hover_texts.append(f\"{team_full_name}<br>{category}: {value:.1f}\")\n",
    "            \n",
    "        fig.add_trace(go.Scatter(\n",
    "            x=[category] * len(team_data),\n",
    "            y=team_data[category],\n",
    "            mode='markers',\n",
    "            name='Team Season Averages per NBA Team',\n",
    "            marker=dict(\n",
    "                size=18,\n",
    "                color='#89CFF0',\n",
    "                opacity=0.7,\n",
    "                line=dict(color='white', width=3),\n",
    "                symbol='circle'\n",
    "            ),\n",
    "            text=hover_texts,\n",
    "            hovertemplate=\"<b>%{text}</b><br>Normalized: %{y:.2f}<br><extra></extra>\",\n",
    "            showlegend=False\n",
    "        ))\n",
    "        \n",
    "        # Plot lineup data points\n",
    "        fig.add_trace(go.Scatter(\n",
    "            x=[category] * len(lineup_data),\n",
    "            y=lineup_data[category],\n",
    "            mode='markers+text',\n",
    "            name=combo_name,\n",
    "            marker=dict(\n",
    "                size=21,\n",
    "                color='#8B0000',\n",
    "                opacity=1,\n",
    "                line=dict(color='#0A0A0A', width=3),\n",
    "                symbol='diamond'\n",
    "            ),\n",
    "            text=[f\"{original_lineup_data.loc[lineup, category]:.1f}\" \n",
    "                  for lineup in lineup_data.index],\n",
    "            textposition='top right',\n",
    "            textfont=dict(\n",
    "                color=text_color,\n",
    "                size=20\n",
    "            ),\n",
    "            hovertemplate=\"<b>%{text}</b><br>Normalized: %{y:.2f}<br><extra></extra>\",\n",
    "            showlegend=(i == 0)\n",
    "        ))\n",
    "    \n",
    "    # Update layout\n",
    "    fig.update_layout(\n",
    "        title=dict(\n",
    "            text=team_name+ addon,\n",
    "            font=dict(size=24, color=text_color),\n",
    "            x=0.5,\n",
    "            y=.99\n",
    "        ),\n",
    "        width=1600,\n",
    "        height=1000,\n",
    "        showlegend=True,\n",
    "        plot_bgcolor=bg_color,\n",
    "        paper_bgcolor=bg_color,\n",
    "        yaxis=dict(\n",
    "            title=dict(text='Normalized Value', font=dict(size=16, color=text_color)),\n",
    "            gridcolor=grid_color,\n",
    "            showgrid=False,\n",
    "            zeroline=True,\n",
    "            zerolinecolor=grid_color,\n",
    "            range=[-0.1, 1.1],\n",
    "            tickformat='.2f',\n",
    "            tickfont=dict(color=text_color),\n",
    "            tickmode='linear',\n",
    "            tick0=0,\n",
    "            dtick=0.2,\n",
    "            showticklabels=False\n",
    "        ),\n",
    "        xaxis=dict(\n",
    "            gridcolor=grid_color,\n",
    "            categoryorder='array',\n",
    "            categoryarray=categories,\n",
    "            tickfont=dict(color=text_color, size=20),\n",
    "            tickangle=-45\n",
    "        ),\n",
    "        hovermode='closest',\n",
    "        legend=dict(\n",
    "            font=dict(color=text_color,size=20),\n",
    "            bgcolor=bg_color,\n",
    "            bordercolor=bg_color,\n",
    "            borderwidth=1,\n",
    "            orientation=\"h\",\n",
    "            yanchor=\"bottom\",\n",
    "            y=1.025,\n",
    "            xanchor=\"center\",\n",
    "            x=0.5\n",
    "        ),\n",
    "        margin=dict(t=80, b=80)\n",
    "    )\n",
    "\n",
    "    return fig\n",
    "\n"
   ]
  },
  {
   "cell_type": "code",
   "execution_count": 4,
   "id": "b507188d-e09a-4ca7-a896-dbf16110a27b",
   "metadata": {},
   "outputs": [
    {
     "name": "stdout",
     "output_type": "stream",
     "text": [
      "1610612750\n",
      "    Points Name\n",
      "0   9711.0  ATL\n",
      "1   9671.0  BOS\n",
      "2   8764.0  CLE\n",
      "3   9378.0  NOP\n",
      "4   9170.0  CHI\n",
      "5   9366.0  DAL\n",
      "6   9495.0  DEN\n",
      "7   9605.0  GSW\n",
      "8   9725.0  HOU\n",
      "9   9314.0  LAC\n",
      "10  9608.0  LAL\n",
      "11  8977.0  MIA\n",
      "12  9589.0  MIL\n",
      "13  9497.0  MIN\n",
      "14  9225.0  BKN\n",
      "15  9274.0  NYK\n",
      "16  9136.0  ORL\n",
      "17  9535.0  IND\n",
      "18  9094.0  PHI\n",
      "19  9319.0  PHX\n",
      "20  9299.0  POR\n",
      "21  9681.0  SAC\n",
      "22  9269.0  SAS\n",
      "23  9633.0  OKC\n",
      "24  9133.0  TOR\n",
      "25  9600.0  UTA\n",
      "26  9587.0  MEM\n",
      "27  9279.0  WAS\n",
      "28  9045.0  DET\n",
      "29  9098.0  CHA\n",
      "        Points Name\n",
      "0   116.859206  ATL\n",
      "1   118.357606  BOS\n",
      "2   111.035094  CLE\n",
      "3   115.194694  NOP\n",
      "4   112.556769  CHI\n",
      "5   117.397844  DAL\n",
      "6   118.023617  DEN\n",
      "7   114.755078  GSW\n",
      "8   119.751262  HOU\n",
      "9   115.172499  LAC\n",
      "10  115.052090  LAL\n",
      "11  113.719280  MIA\n",
      "12  115.781212  MIL\n",
      "13  114.518268  MIN\n",
      "14  114.881694  BKN\n",
      "15  115.376959  NYK\n",
      "16  112.526173  ORL\n",
      "17  115.310195  IND\n",
      "18  114.289305  PHI\n",
      "19  115.477076  PHX\n",
      "20  115.229244  POR\n",
      "21  117.260174  SAC\n",
      "22  110.886470  SAS\n",
      "23  115.323836  OKC\n",
      "24  114.563472  TOR\n",
      "25  116.250908  UTA\n",
      "26  115.911014  MEM\n",
      "27  115.038433  WAS\n",
      "28  111.158904  DET\n",
      "29  109.667310  CHA\n"
     ]
    },
    {
     "data": {
      "application/vnd.plotly.v1+json": {
       "config": {
        "plotlyServerURL": "https://plot.ly"
       },
       "data": [
        {
         "hovertemplate": "<b>%{text}</b><br>Normalized: %{y:.2f}<br><extra></extra>",
         "marker": {
          "color": "#89CFF0",
          "line": {
           "color": "white",
           "width": 3
          },
          "opacity": 0.7,
          "size": 18,
          "symbol": "circle"
         },
         "mode": "markers",
         "name": "Team Season Averages per NBA Team",
         "showlegend": false,
         "text": [
          "Atlanta Hawks<br>Points: 116.9",
          "Boston Celtics<br>Points: 118.4",
          "Cleveland Cavaliers<br>Points: 111.0",
          "New Orleans Pelicans<br>Points: 115.2",
          "Chicago Bulls<br>Points: 112.6",
          "Dallas Mavericks<br>Points: 117.4",
          "Denver Nuggets<br>Points: 118.0",
          "Golden State Warriors<br>Points: 114.8",
          "Houston Rockets<br>Points: 119.8",
          "Los Angeles Clippers<br>Points: 115.2",
          "Los Angeles Lakers<br>Points: 115.1",
          "Miami Heat<br>Points: 113.7",
          "Milwaukee Bucks<br>Points: 115.8",
          "Minnesota Timberwolves<br>Points: 114.5",
          "Brooklyn Nets<br>Points: 114.9",
          "New York Knicks<br>Points: 115.4",
          "Orlando Magic<br>Points: 112.5",
          "Indiana Pacers<br>Points: 115.3",
          "Philadelphia 76ers<br>Points: 114.3",
          "Phoenix Suns<br>Points: 115.5",
          "Portland Trail Blazers<br>Points: 115.2",
          "Sacramento Kings<br>Points: 117.3",
          "San Antonio Spurs<br>Points: 110.9",
          "Oklahoma City Thunder<br>Points: 115.3",
          "Toronto Raptors<br>Points: 114.6",
          "Utah Jazz<br>Points: 116.3",
          "Memphis Grizzlies<br>Points: 115.9",
          "Washington Wizards<br>Points: 115.0",
          "Detroit Pistons<br>Points: 111.2",
          "Charlotte Hornets<br>Points: 109.7"
         ],
         "type": "scatter",
         "x": [
          "Points",
          "Points",
          "Points",
          "Points",
          "Points",
          "Points",
          "Points",
          "Points",
          "Points",
          "Points",
          "Points",
          "Points",
          "Points",
          "Points",
          "Points",
          "Points",
          "Points",
          "Points",
          "Points",
          "Points",
          "Points",
          "Points",
          "Points",
          "Points",
          "Points",
          "Points",
          "Points",
          "Points",
          "Points",
          "Points"
         ],
         "y": [
          0.7132021049054895,
          0.8617946706858284,
          0.13563975289714314,
          0.5481366475943101,
          0.2865404000850891,
          0.7666174982230611,
          0.8286738273558516,
          0.5045410571389546,
          1,
          0.5459356798924802,
          0.5339949749829493,
          0.401823677171814,
          0.6063002232754027,
          0.4810572856218194,
          0.5170972437229189,
          0.5662114961232021,
          0.28350625364534565,
          0.5595906062696603,
          0.4583515656049091,
          0.576139760345967,
          0.5515629417008441,
          0.7529651480114179,
          0.1209010170334448,
          0.5609433540513109,
          0.4855400251902928,
          0.6528787783990868,
          0.6191723702431524,
          0.5326406804623183,
          0.1479176155773967,
          0
         ]
        },
        {
         "hovertemplate": "<b>%{text}</b><br>Normalized: %{y:.2f}<br><extra></extra>",
         "marker": {
          "color": "#8B0000",
          "line": {
           "color": "#0A0A0A",
           "width": 3
          },
          "opacity": 1,
          "size": 21,
          "symbol": "diamond"
         },
         "mode": "markers+text",
         "name": "Minnesota Timberwolves",
         "showlegend": true,
         "text": [
          "114.9"
         ],
         "textfont": {
          "color": "#ffffff",
          "size": 20
         },
         "textposition": "top right",
         "type": "scatter",
         "x": [
          "Points"
         ],
         "y": [
          0.5184879669011053
         ]
        },
        {
         "hovertemplate": "<b>%{text}</b><br>Normalized: %{y:.2f}<br><extra></extra>",
         "marker": {
          "color": "#89CFF0",
          "line": {
           "color": "white",
           "width": 3
          },
          "opacity": 0.7,
          "size": 18,
          "symbol": "circle"
         },
         "mode": "markers",
         "name": "Team Season Averages per NBA Team",
         "showlegend": false,
         "text": [
          "Atlanta Hawks<br>Opp Points: 116.6",
          "Boston Celtics<br>Opp Points: 111.9",
          "Cleveland Cavaliers<br>Opp Points: 116.7",
          "New Orleans Pelicans<br>Opp Points: 113.2",
          "Chicago Bulls<br>Opp Points: 114.1",
          "Dallas Mavericks<br>Opp Points: 117.2",
          "Denver Nuggets<br>Opp Points: 114.7",
          "Golden State Warriors<br>Opp Points: 116.4",
          "Houston Rockets<br>Opp Points: 111.6",
          "Los Angeles Clippers<br>Opp Points: 114.8",
          "Los Angeles Lakers<br>Opp Points: 114.5",
          "Miami Heat<br>Opp Points: 114.1",
          "Milwaukee Bucks<br>Opp Points: 112.3",
          "Minnesota Timberwolves<br>Opp Points: 114.6",
          "Brooklyn Nets<br>Opp Points: 115.8",
          "New York Knicks<br>Opp Points: 118.3",
          "Orlando Magic<br>Opp Points: 115.0",
          "Indiana Pacers<br>Opp Points: 118.3",
          "Philadelphia 76ers<br>Opp Points: 118.7",
          "Phoenix Suns<br>Opp Points: 113.6",
          "Portland Trail Blazers<br>Opp Points: 119.1",
          "Sacramento Kings<br>Opp Points: 119.8",
          "San Antonio Spurs<br>Opp Points: 120.6",
          "Oklahoma City Thunder<br>Opp Points: 114.5",
          "Toronto Raptors<br>Opp Points: 115.9",
          "Utah Jazz<br>Opp Points: 117.1",
          "Memphis Grizzlies<br>Opp Points: 112.0",
          "Washington Wizards<br>Opp Points: 116.1",
          "Detroit Pistons<br>Opp Points: 119.2",
          "Charlotte Hornets<br>Opp Points: 115.8"
         ],
         "type": "scatter",
         "x": [
          "Opp Points",
          "Opp Points",
          "Opp Points",
          "Opp Points",
          "Opp Points",
          "Opp Points",
          "Opp Points",
          "Opp Points",
          "Opp Points",
          "Opp Points",
          "Opp Points",
          "Opp Points",
          "Opp Points",
          "Opp Points",
          "Opp Points",
          "Opp Points",
          "Opp Points",
          "Opp Points",
          "Opp Points",
          "Opp Points",
          "Opp Points",
          "Opp Points",
          "Opp Points",
          "Opp Points",
          "Opp Points",
          "Opp Points",
          "Opp Points",
          "Opp Points",
          "Opp Points",
          "Opp Points"
         ],
         "y": [
          0.5505012630730128,
          0.03841120993346259,
          0.5611124356640769,
          0.17225185003961485,
          0.2740319633715611,
          0.6209451796554486,
          0.3428410106324584,
          0.5375534329275915,
          0,
          0.3530431206232283,
          0.32694490126460884,
          0.2751059482441338,
          0.07366448992963903,
          0.32772378458627216,
          0.46289628862784404,
          0.7462853356966175,
          0.3759494819377842,
          0.7452367435540133,
          0.7879308879544773,
          0.21844319593954253,
          0.8330358605628607,
          0.9094217166953804,
          1,
          0.3241330806569085,
          0.47833596862128935,
          0.6154288315430758,
          0.04945211356684531,
          0.5038231499716854,
          0.848306189808449,
          0.46304547940806273
         ]
        },
        {
         "hovertemplate": "<b>%{text}</b><br>Normalized: %{y:.2f}<br><extra></extra>",
         "marker": {
          "color": "#8B0000",
          "line": {
           "color": "#0A0A0A",
           "width": 3
          },
          "opacity": 1,
          "size": 21,
          "symbol": "diamond"
         },
         "mode": "markers+text",
         "name": "Minnesota Timberwolves",
         "showlegend": false,
         "text": [
          "114.4"
         ],
         "textfont": {
          "color": "#ffffff",
          "size": 20
         },
         "textposition": "top right",
         "type": "scatter",
         "x": [
          "Opp Points"
         ],
         "y": [
          0.3078438293033283
         ]
        },
        {
         "hovertemplate": "<b>%{text}</b><br>Normalized: %{y:.2f}<br><extra></extra>",
         "marker": {
          "color": "#89CFF0",
          "line": {
           "color": "white",
           "width": 3
          },
          "opacity": 0.7,
          "size": 18,
          "symbol": "circle"
         },
         "mode": "markers",
         "name": "Team Season Averages per NBA Team",
         "showlegend": false,
         "text": [
          "Atlanta Hawks<br>FTA: 22.3",
          "Boston Celtics<br>FTA: 21.6",
          "Cleveland Cavaliers<br>FTA: 23.3",
          "New Orleans Pelicans<br>FTA: 24.6",
          "Chicago Bulls<br>FTA: 22.2",
          "Dallas Mavericks<br>FTA: 25.8",
          "Denver Nuggets<br>FTA: 22.8",
          "Golden State Warriors<br>FTA: 24.7",
          "Houston Rockets<br>FTA: 24.5",
          "Los Angeles Clippers<br>FTA: 24.3",
          "Los Angeles Lakers<br>FTA: 26.1",
          "Miami Heat<br>FTA: 23.9",
          "Milwaukee Bucks<br>FTA: 22.2",
          "Minnesota Timberwolves<br>FTA: 25.7",
          "Brooklyn Nets<br>FTA: 24.9",
          "New York Knicks<br>FTA: 24.2",
          "Orlando Magic<br>FTA: 25.2",
          "Indiana Pacers<br>FTA: 23.5",
          "Philadelphia 76ers<br>FTA: 24.4",
          "Phoenix Suns<br>FTA: 22.1",
          "Portland Trail Blazers<br>FTA: 25.0",
          "Sacramento Kings<br>FTA: 22.8",
          "San Antonio Spurs<br>FTA: 20.8",
          "Oklahoma City Thunder<br>FTA: 23.3",
          "Toronto Raptors<br>FTA: 23.7",
          "Utah Jazz<br>FTA: 23.7",
          "Memphis Grizzlies<br>FTA: 23.6",
          "Washington Wizards<br>FTA: 22.8",
          "Detroit Pistons<br>FTA: 25.9",
          "Charlotte Hornets<br>FTA: 23.3"
         ],
         "type": "scatter",
         "x": [
          "FTA",
          "FTA",
          "FTA",
          "FTA",
          "FTA",
          "FTA",
          "FTA",
          "FTA",
          "FTA",
          "FTA",
          "FTA",
          "FTA",
          "FTA",
          "FTA",
          "FTA",
          "FTA",
          "FTA",
          "FTA",
          "FTA",
          "FTA",
          "FTA",
          "FTA",
          "FTA",
          "FTA",
          "FTA",
          "FTA",
          "FTA",
          "FTA",
          "FTA",
          "FTA"
         ],
         "y": [
          0.27389621173194545,
          0.15884755775725434,
          0.4662309916188363,
          0.7067241911525812,
          0.25611760439112796,
          0.9351692932673981,
          0.3742653038115682,
          0.7308259040577765,
          0.6857107080829437,
          0.6492847907493777,
          1,
          0.5774937580774848,
          0.25855223114850734,
          0.9233531534192165,
          0.7775178155186477,
          0.6326678188337818,
          0.8348836301616185,
          0.5081183520690402,
          0.6788810852648481,
          0.23766087003330405,
          0.796187537347401,
          0.3740351411458427,
          0,
          0.4637180136802881,
          0.552462085979136,
          0.5390159240948522,
          0.5297571152536102,
          0.37243214538444747,
          0.9536436775112129,
          0.4688469920801923
         ]
        },
        {
         "hovertemplate": "<b>%{text}</b><br>Normalized: %{y:.2f}<br><extra></extra>",
         "marker": {
          "color": "#8B0000",
          "line": {
           "color": "#0A0A0A",
           "width": 3
          },
          "opacity": 1,
          "size": 21,
          "symbol": "diamond"
         },
         "mode": "markers+text",
         "name": "Minnesota Timberwolves",
         "showlegend": false,
         "text": [
          "23.4"
         ],
         "textfont": {
          "color": "#ffffff",
          "size": 20
         },
         "textposition": "top right",
         "type": "scatter",
         "x": [
          "FTA"
         ],
         "y": [
          0.4803654522698846
         ]
        },
        {
         "hovertemplate": "<b>%{text}</b><br>Normalized: %{y:.2f}<br><extra></extra>",
         "marker": {
          "color": "#89CFF0",
          "line": {
           "color": "white",
           "width": 3
          },
          "opacity": 0.7,
          "size": 18,
          "symbol": "circle"
         },
         "mode": "markers",
         "name": "Team Season Averages per NBA Team",
         "showlegend": false,
         "text": [
          "Atlanta Hawks<br>3P%: 35.2",
          "Boston Celtics<br>3P%: 37.7",
          "Cleveland Cavaliers<br>3P%: 36.8",
          "New Orleans Pelicans<br>3P%: 36.4",
          "Chicago Bulls<br>3P%: 35.7",
          "Dallas Mavericks<br>3P%: 37.1",
          "Denver Nuggets<br>3P%: 37.9",
          "Golden State Warriors<br>3P%: 36.4",
          "Houston Rockets<br>3P%: 37.4",
          "Los Angeles Clippers<br>3P%: 38.1",
          "Los Angeles Lakers<br>3P%: 34.6",
          "Miami Heat<br>3P%: 34.4",
          "Milwaukee Bucks<br>3P%: 36.8",
          "Minnesota Timberwolves<br>3P%: 36.9",
          "Brooklyn Nets<br>3P%: 36.7",
          "New York Knicks<br>3P%: 35.7",
          "Orlando Magic<br>3P%: 34.6",
          "Indiana Pacers<br>3P%: 36.7",
          "Philadelphia 76ers<br>3P%: 34.8",
          "Phoenix Suns<br>3P%: 37.4",
          "Portland Trail Blazers<br>3P%: 36.5",
          "Sacramento Kings<br>3P%: 37.3",
          "San Antonio Spurs<br>3P%: 34.5",
          "Oklahoma City Thunder<br>3P%: 35.6",
          "Toronto Raptors<br>3P%: 37.4",
          "Utah Jazz<br>3P%: 35.3",
          "Memphis Grizzlies<br>3P%: 35.1",
          "Washington Wizards<br>3P%: 35.6",
          "Detroit Pistons<br>3P%: 35.1",
          "Charlotte Hornets<br>3P%: 33.0"
         ],
         "type": "scatter",
         "x": [
          "3P%",
          "3P%",
          "3P%",
          "3P%",
          "3P%",
          "3P%",
          "3P%",
          "3P%",
          "3P%",
          "3P%",
          "3P%",
          "3P%",
          "3P%",
          "3P%",
          "3P%",
          "3P%",
          "3P%",
          "3P%",
          "3P%",
          "3P%",
          "3P%",
          "3P%",
          "3P%",
          "3P%",
          "3P%",
          "3P%",
          "3P%",
          "3P%",
          "3P%",
          "3P%"
         ],
         "y": [
          0.43552905141372555,
          0.9199265511667134,
          0.7585747781490779,
          0.6762860844829959,
          0.5326127637206355,
          0.8019439409421425,
          0.961254252286631,
          0.6638948266488969,
          0.8600069599321829,
          1,
          0.3143784927879816,
          0.26777940543565304,
          0.7525892639737801,
          0.7727004160745086,
          0.7238587959323448,
          0.5316213649942307,
          0.3176505038165969,
          0.7303895252602457,
          0.35607247610424597,
          0.8758093777815024,
          0.6912548126337397,
          0.8490390529766252,
          0.29661551478777426,
          0.5076068981267872,
          0.8702730617387928,
          0.45375971647843816,
          0.4120333382798691,
          0.5055124856349424,
          0.4189874530429343,
          0
         ]
        },
        {
         "hovertemplate": "<b>%{text}</b><br>Normalized: %{y:.2f}<br><extra></extra>",
         "marker": {
          "color": "#8B0000",
          "line": {
           "color": "#0A0A0A",
           "width": 3
          },
          "opacity": 1,
          "size": 21,
          "symbol": "diamond"
         },
         "mode": "markers+text",
         "name": "Minnesota Timberwolves",
         "showlegend": false,
         "text": [
          "36.7"
         ],
         "textfont": {
          "color": "#ffffff",
          "size": 20
         },
         "textposition": "top right",
         "type": "scatter",
         "x": [
          "3P%"
         ],
         "y": [
          0.7211423450587784
         ]
        },
        {
         "hovertemplate": "<b>%{text}</b><br>Normalized: %{y:.2f}<br><extra></extra>",
         "marker": {
          "color": "#89CFF0",
          "line": {
           "color": "white",
           "width": 3
          },
          "opacity": 0.7,
          "size": 18,
          "symbol": "circle"
         },
         "mode": "markers",
         "name": "Team Season Averages per NBA Team",
         "showlegend": false,
         "text": [
          "Atlanta Hawks<br>Rim Freq: 29.2",
          "Boston Celtics<br>Rim Freq: 26.8",
          "Cleveland Cavaliers<br>Rim Freq: 31.2",
          "New Orleans Pelicans<br>Rim Freq: 31.8",
          "Chicago Bulls<br>Rim Freq: 31.2",
          "Dallas Mavericks<br>Rim Freq: 26.0",
          "Denver Nuggets<br>Rim Freq: 33.3",
          "Golden State Warriors<br>Rim Freq: 21.9",
          "Houston Rockets<br>Rim Freq: 27.8",
          "Los Angeles Clippers<br>Rim Freq: 27.7",
          "Los Angeles Lakers<br>Rim Freq: 33.3",
          "Miami Heat<br>Rim Freq: 24.8",
          "Milwaukee Bucks<br>Rim Freq: 27.6",
          "Minnesota Timberwolves<br>Rim Freq: 31.4",
          "Brooklyn Nets<br>Rim Freq: 31.4",
          "New York Knicks<br>Rim Freq: 29.5",
          "Orlando Magic<br>Rim Freq: 31.2",
          "Indiana Pacers<br>Rim Freq: 32.3",
          "Philadelphia 76ers<br>Rim Freq: 30.1",
          "Phoenix Suns<br>Rim Freq: 23.0",
          "Portland Trail Blazers<br>Rim Freq: 33.3",
          "Sacramento Kings<br>Rim Freq: 30.0",
          "San Antonio Spurs<br>Rim Freq: 31.3",
          "Oklahoma City Thunder<br>Rim Freq: 33.3",
          "Toronto Raptors<br>Rim Freq: 30.8",
          "Utah Jazz<br>Rim Freq: 27.7",
          "Memphis Grizzlies<br>Rim Freq: 32.0",
          "Washington Wizards<br>Rim Freq: 27.4",
          "Detroit Pistons<br>Rim Freq: 27.9",
          "Charlotte Hornets<br>Rim Freq: 33.3"
         ],
         "type": "scatter",
         "x": [
          "Rim Freq",
          "Rim Freq",
          "Rim Freq",
          "Rim Freq",
          "Rim Freq",
          "Rim Freq",
          "Rim Freq",
          "Rim Freq",
          "Rim Freq",
          "Rim Freq",
          "Rim Freq",
          "Rim Freq",
          "Rim Freq",
          "Rim Freq",
          "Rim Freq",
          "Rim Freq",
          "Rim Freq",
          "Rim Freq",
          "Rim Freq",
          "Rim Freq",
          "Rim Freq",
          "Rim Freq",
          "Rim Freq",
          "Rim Freq",
          "Rim Freq",
          "Rim Freq",
          "Rim Freq",
          "Rim Freq",
          "Rim Freq",
          "Rim Freq"
         ],
         "y": [
          0.641204029377898,
          0.42499274514493024,
          0.8160127928454122,
          0.8685454343246106,
          0.8134166056722827,
          0.36124300282485233,
          0.9938253303817,
          0,
          0.5195354581426366,
          0.5052508477200686,
          0.9964298094575197,
          0.25294547325994055,
          0.4976353835063003,
          0.8289420776965826,
          0.8328983295518007,
          0.6664908204192024,
          0.8124413038717413,
          0.9097156738756542,
          0.716712598483872,
          0.09217688067005492,
          1,
          0.7105017981348927,
          0.819544897094783,
          0.9962142241873608,
          0.7805160282634089,
          0.5056034829607872,
          0.883560153635643,
          0.4796340133100565,
          0.5231527662400897,
          0.9996521517037045
         ]
        },
        {
         "hovertemplate": "<b>%{text}</b><br>Normalized: %{y:.2f}<br><extra></extra>",
         "marker": {
          "color": "#8B0000",
          "line": {
           "color": "#0A0A0A",
           "width": 3
          },
          "opacity": 1,
          "size": 21,
          "symbol": "diamond"
         },
         "mode": "markers+text",
         "name": "Minnesota Timberwolves",
         "showlegend": false,
         "text": [
          "33.3"
         ],
         "textfont": {
          "color": "#ffffff",
          "size": 20
         },
         "textposition": "top right",
         "type": "scatter",
         "x": [
          "Rim Freq"
         ],
         "y": [
          0.995425801046566
         ]
        },
        {
         "hovertemplate": "<b>%{text}</b><br>Normalized: %{y:.2f}<br><extra></extra>",
         "marker": {
          "color": "#89CFF0",
          "line": {
           "color": "white",
           "width": 3
          },
          "opacity": 0.7,
          "size": 18,
          "symbol": "circle"
         },
         "mode": "markers",
         "name": "Team Season Averages per NBA Team",
         "showlegend": false,
         "text": [
          "Atlanta Hawks<br>EFG%: 54.1",
          "Boston Celtics<br>EFG%: 56.6",
          "Cleveland Cavaliers<br>EFG%: 53.5",
          "New Orleans Pelicans<br>EFG%: 54.3",
          "Chicago Bulls<br>EFG%: 54.4",
          "Dallas Mavericks<br>EFG%: 56.5",
          "Denver Nuggets<br>EFG%: 57.3",
          "Golden State Warriors<br>EFG%: 54.0",
          "Houston Rockets<br>EFG%: 56.4",
          "Los Angeles Clippers<br>EFG%: 55.1",
          "Los Angeles Lakers<br>EFG%: 54.2",
          "Miami Heat<br>EFG%: 53.0",
          "Milwaukee Bucks<br>EFG%: 55.5",
          "Minnesota Timberwolves<br>EFG%: 54.0",
          "Brooklyn Nets<br>EFG%: 53.0",
          "New York Knicks<br>EFG%: 53.6",
          "Orlando Magic<br>EFG%: 53.2",
          "Indiana Pacers<br>EFG%: 54.5",
          "Philadelphia 76ers<br>EFG%: 54.1",
          "Phoenix Suns<br>EFG%: 53.5",
          "Portland Trail Blazers<br>EFG%: 54.9",
          "Sacramento Kings<br>EFG%: 56.3",
          "San Antonio Spurs<br>EFG%: 52.5",
          "Oklahoma City Thunder<br>EFG%: 53.1",
          "Toronto Raptors<br>EFG%: 56.5",
          "Utah Jazz<br>EFG%: 54.7",
          "Memphis Grizzlies<br>EFG%: 54.0",
          "Washington Wizards<br>EFG%: 55.0",
          "Detroit Pistons<br>EFG%: 52.0",
          "Charlotte Hornets<br>EFG%: 51.6"
         ],
         "type": "scatter",
         "x": [
          "EFG%",
          "EFG%",
          "EFG%",
          "EFG%",
          "EFG%",
          "EFG%",
          "EFG%",
          "EFG%",
          "EFG%",
          "EFG%",
          "EFG%",
          "EFG%",
          "EFG%",
          "EFG%",
          "EFG%",
          "EFG%",
          "EFG%",
          "EFG%",
          "EFG%",
          "EFG%",
          "EFG%",
          "EFG%",
          "EFG%",
          "EFG%",
          "EFG%",
          "EFG%",
          "EFG%",
          "EFG%",
          "EFG%",
          "EFG%"
         ],
         "y": [
          0.44469546998093,
          0.878987581096796,
          0.33476747942945373,
          0.4711300003061165,
          0.4862924542486464,
          0.8719734680713227,
          1,
          0.4225826755899167,
          0.8457426035858351,
          0.6206378612018568,
          0.46619243675928246,
          0.24611870470816832,
          0.6874637871011586,
          0.4282504601904584,
          0.2413139629834138,
          0.35835044831124385,
          0.2849077362362227,
          0.5047400939868858,
          0.43696649440748203,
          0.3373447230651845,
          0.586444069537361,
          0.822783440136357,
          0.16332598661789177,
          0.2648783241604864,
          0.8595557216367844,
          0.555435073088189,
          0.4234897942945519,
          0.597115825748288,
          0.06535855256940515,
          0
         ]
        },
        {
         "hovertemplate": "<b>%{text}</b><br>Normalized: %{y:.2f}<br><extra></extra>",
         "marker": {
          "color": "#8B0000",
          "line": {
           "color": "#0A0A0A",
           "width": 3
          },
          "opacity": 1,
          "size": 21,
          "symbol": "diamond"
         },
         "mode": "markers+text",
         "name": "Minnesota Timberwolves",
         "showlegend": false,
         "text": [
          "56.1"
         ],
         "textfont": {
          "color": "#ffffff",
          "size": 20
         },
         "textposition": "top right",
         "type": "scatter",
         "x": [
          "EFG%"
         ],
         "y": [
          0.7951281481180423
         ]
        },
        {
         "hovertemplate": "<b>%{text}</b><br>Normalized: %{y:.2f}<br><extra></extra>",
         "marker": {
          "color": "#89CFF0",
          "line": {
           "color": "white",
           "width": 3
          },
          "opacity": 0.7,
          "size": 18,
          "symbol": "circle"
         },
         "mode": "markers",
         "name": "Team Season Averages per NBA Team",
         "showlegend": false,
         "text": [
          "Atlanta Hawks<br>Rim%: 66.6",
          "Boston Celtics<br>Rim%: 69.0",
          "Cleveland Cavaliers<br>Rim%: 62.8",
          "New Orleans Pelicans<br>Rim%: 66.8",
          "Chicago Bulls<br>Rim%: 66.4",
          "Dallas Mavericks<br>Rim%: 67.7",
          "Denver Nuggets<br>Rim%: 70.9",
          "Golden State Warriors<br>Rim%: 68.3",
          "Houston Rockets<br>Rim%: 70.1",
          "Los Angeles Clippers<br>Rim%: 65.6",
          "Los Angeles Lakers<br>Rim%: 68.8",
          "Miami Heat<br>Rim%: 65.8",
          "Milwaukee Bucks<br>Rim%: 69.0",
          "Minnesota Timberwolves<br>Rim%: 65.8",
          "Brooklyn Nets<br>Rim%: 64.6",
          "New York Knicks<br>Rim%: 63.6",
          "Orlando Magic<br>Rim%: 67.0",
          "Indiana Pacers<br>Rim%: 64.1",
          "Philadelphia 76ers<br>Rim%: 68.4",
          "Phoenix Suns<br>Rim%: 65.6",
          "Portland Trail Blazers<br>Rim%: 64.9",
          "Sacramento Kings<br>Rim%: 68.8",
          "San Antonio Spurs<br>Rim%: 64.7",
          "Oklahoma City Thunder<br>Rim%: 62.7",
          "Toronto Raptors<br>Rim%: 67.7",
          "Utah Jazz<br>Rim%: 67.3",
          "Memphis Grizzlies<br>Rim%: 65.1",
          "Washington Wizards<br>Rim%: 72.1",
          "Detroit Pistons<br>Rim%: 64.4",
          "Charlotte Hornets<br>Rim%: 64.7"
         ],
         "type": "scatter",
         "x": [
          "Rim%",
          "Rim%",
          "Rim%",
          "Rim%",
          "Rim%",
          "Rim%",
          "Rim%",
          "Rim%",
          "Rim%",
          "Rim%",
          "Rim%",
          "Rim%",
          "Rim%",
          "Rim%",
          "Rim%",
          "Rim%",
          "Rim%",
          "Rim%",
          "Rim%",
          "Rim%",
          "Rim%",
          "Rim%",
          "Rim%",
          "Rim%",
          "Rim%",
          "Rim%",
          "Rim%",
          "Rim%",
          "Rim%",
          "Rim%"
         ],
         "y": [
          0.40803704184769884,
          0.6656648488333428,
          0.0072773755745974,
          0.43010050451264537,
          0.39215385595349517,
          0.5282396514712335,
          0.8682887310902618,
          0.5901455115885597,
          0.786660010887025,
          0.29949775750342766,
          0.6443409454840161,
          0.3254772892017055,
          0.6660607660375479,
          0.3289741558418058,
          0.19331103191965582,
          0.08973801952883154,
          0.4579204386781086,
          0.14210968340205277,
          0.6030278902866479,
          0.3088145567396525,
          0.228859989196879,
          0.6433323475456589,
          0.20369073101159962,
          0,
          0.5286182451172889,
          0.4838655756967629,
          0.25593044777445506,
          1,
          0.17501875529584954,
          0.2076926156970993
         ]
        },
        {
         "hovertemplate": "<b>%{text}</b><br>Normalized: %{y:.2f}<br><extra></extra>",
         "marker": {
          "color": "#8B0000",
          "line": {
           "color": "#0A0A0A",
           "width": 3
          },
          "opacity": 1,
          "size": 21,
          "symbol": "diamond"
         },
         "mode": "markers+text",
         "name": "Minnesota Timberwolves",
         "showlegend": false,
         "text": [
          "68.8"
         ],
         "textfont": {
          "color": "#ffffff",
          "size": 20
         },
         "textposition": "top right",
         "type": "scatter",
         "x": [
          "Rim%"
         ],
         "y": [
          0.6456644572706631
         ]
        },
        {
         "hovertemplate": "<b>%{text}</b><br>Normalized: %{y:.2f}<br><extra></extra>",
         "marker": {
          "color": "#89CFF0",
          "line": {
           "color": "white",
           "width": 3
          },
          "opacity": 0.7,
          "size": 18,
          "symbol": "circle"
         },
         "mode": "markers",
         "name": "Team Season Averages per NBA Team",
         "showlegend": false,
         "text": [
          "Atlanta Hawks<br>TOV%: 11.2",
          "Boston Celtics<br>TOV%: 12.0",
          "Cleveland Cavaliers<br>TOV%: 14.4",
          "New Orleans Pelicans<br>TOV%: 12.9",
          "Chicago Bulls<br>TOV%: 13.5",
          "Dallas Mavericks<br>TOV%: 11.4",
          "Denver Nuggets<br>TOV%: 13.1",
          "Golden State Warriors<br>TOV%: 12.3",
          "Houston Rockets<br>TOV%: 11.8",
          "Los Angeles Clippers<br>TOV%: 12.8",
          "Los Angeles Lakers<br>TOV%: 12.3",
          "Miami Heat<br>TOV%: 12.4",
          "Milwaukee Bucks<br>TOV%: 12.7",
          "Minnesota Timberwolves<br>TOV%: 13.3",
          "Brooklyn Nets<br>TOV%: 12.2",
          "New York Knicks<br>TOV%: 11.4",
          "Orlando Magic<br>TOV%: 13.4",
          "Indiana Pacers<br>TOV%: 13.0",
          "Philadelphia 76ers<br>TOV%: 13.0",
          "Phoenix Suns<br>TOV%: 12.0",
          "Portland Trail Blazers<br>TOV%: 13.0",
          "Sacramento Kings<br>TOV%: 12.6",
          "San Antonio Spurs<br>TOV%: 13.0",
          "Oklahoma City Thunder<br>TOV%: 11.2",
          "Toronto Raptors<br>TOV%: 15.3",
          "Utah Jazz<br>TOV%: 13.3",
          "Memphis Grizzlies<br>TOV%: 11.7",
          "Washington Wizards<br>TOV%: 12.7",
          "Detroit Pistons<br>TOV%: 13.3",
          "Charlotte Hornets<br>TOV%: 12.3"
         ],
         "type": "scatter",
         "x": [
          "TOV%",
          "TOV%",
          "TOV%",
          "TOV%",
          "TOV%",
          "TOV%",
          "TOV%",
          "TOV%",
          "TOV%",
          "TOV%",
          "TOV%",
          "TOV%",
          "TOV%",
          "TOV%",
          "TOV%",
          "TOV%",
          "TOV%",
          "TOV%",
          "TOV%",
          "TOV%",
          "TOV%",
          "TOV%",
          "TOV%",
          "TOV%",
          "TOV%",
          "TOV%",
          "TOV%",
          "TOV%",
          "TOV%",
          "TOV%"
         ],
         "y": [
          0,
          0.1846079165107093,
          0.777782574627023,
          0.4211209554648172,
          0.5534014101043145,
          0.033707403650702794,
          0.4697020563707732,
          0.2727806843847711,
          0.13261572801117083,
          0.39844780654859857,
          0.257697198267552,
          0.2897070417132155,
          0.37391649644233294,
          0.514169763005794,
          0.23130178085459985,
          0.05396998400907416,
          0.5414995376967786,
          0.43751778817466613,
          0.4323082027759879,
          0.18303896857426727,
          0.4524385948686236,
          0.3298399937006766,
          0.44971776391338736,
          0.004043435997985512,
          1,
          0.5085499090656365,
          0.12248949066959725,
          0.374782558624839,
          0.5137857752680022,
          0.2789734532007446
         ]
        },
        {
         "hovertemplate": "<b>%{text}</b><br>Normalized: %{y:.2f}<br><extra></extra>",
         "marker": {
          "color": "#8B0000",
          "line": {
           "color": "#0A0A0A",
           "width": 3
          },
          "opacity": 1,
          "size": 21,
          "symbol": "diamond"
         },
         "mode": "markers+text",
         "name": "Minnesota Timberwolves",
         "showlegend": false,
         "text": [
          "13.4"
         ],
         "textfont": {
          "color": "#ffffff",
          "size": 20
         },
         "textposition": "top right",
         "type": "scatter",
         "x": [
          "TOV%"
         ],
         "y": [
          0.5378113246879166
         ]
        },
        {
         "hovertemplate": "<b>%{text}</b><br>Normalized: %{y:.2f}<br><extra></extra>",
         "marker": {
          "color": "#89CFF0",
          "line": {
           "color": "white",
           "width": 3
          },
          "opacity": 0.7,
          "size": 18,
          "symbol": "circle"
         },
         "mode": "markers",
         "name": "Team Season Averages per NBA Team",
         "showlegend": false,
         "text": [
          "Atlanta Hawks<br>DREB%: 72.5",
          "Boston Celtics<br>DREB%: 75.4",
          "Cleveland Cavaliers<br>DREB%: 73.3",
          "New Orleans Pelicans<br>DREB%: 73.9",
          "Chicago Bulls<br>DREB%: 76.8",
          "Dallas Mavericks<br>DREB%: 72.1",
          "Denver Nuggets<br>DREB%: 73.1",
          "Golden State Warriors<br>DREB%: 73.5",
          "Houston Rockets<br>DREB%: 66.0",
          "Los Angeles Clippers<br>DREB%: 73.6",
          "Los Angeles Lakers<br>DREB%: 73.5",
          "Miami Heat<br>DREB%: 74.2",
          "Milwaukee Bucks<br>DREB%: 75.0",
          "Minnesota Timberwolves<br>DREB%: 75.0",
          "Brooklyn Nets<br>DREB%: 77.4",
          "New York Knicks<br>DREB%: 68.8",
          "Orlando Magic<br>DREB%: 74.1",
          "Indiana Pacers<br>DREB%: 68.9",
          "Philadelphia 76ers<br>DREB%: 74.9",
          "Phoenix Suns<br>DREB%: 72.2",
          "Portland Trail Blazers<br>DREB%: 71.7",
          "Sacramento Kings<br>DREB%: 73.8",
          "San Antonio Spurs<br>DREB%: 71.2",
          "Oklahoma City Thunder<br>DREB%: 69.7",
          "Toronto Raptors<br>DREB%: 68.9",
          "Utah Jazz<br>DREB%: 71.5",
          "Memphis Grizzlies<br>DREB%: 71.8",
          "Washington Wizards<br>DREB%: 73.0",
          "Detroit Pistons<br>DREB%: 70.5",
          "Charlotte Hornets<br>DREB%: 72.1"
         ],
         "type": "scatter",
         "x": [
          "DREB%",
          "DREB%",
          "DREB%",
          "DREB%",
          "DREB%",
          "DREB%",
          "DREB%",
          "DREB%",
          "DREB%",
          "DREB%",
          "DREB%",
          "DREB%",
          "DREB%",
          "DREB%",
          "DREB%",
          "DREB%",
          "DREB%",
          "DREB%",
          "DREB%",
          "DREB%",
          "DREB%",
          "DREB%",
          "DREB%",
          "DREB%",
          "DREB%",
          "DREB%",
          "DREB%",
          "DREB%",
          "DREB%",
          "DREB%"
         ],
         "y": [
          0.5742285583489979,
          0.8297043620496716,
          0.6400771906591789,
          0.692944589042809,
          0.9500168266423552,
          0.5389562486271338,
          0.6287369778912151,
          0.6610003083844935,
          0,
          0.6729524298961591,
          0.6615957842375693,
          0.7263156220559956,
          0.7929948429266052,
          0.7967727376567426,
          0.9999999999999991,
          0.24698132500210335,
          0.7112400735691873,
          0.26141565409615897,
          0.7860885074516242,
          0.5436295101643367,
          0.503478767845305,
          0.6880926241141285,
          0.4618523435700803,
          0.3312861077098592,
          0.2541956979729134,
          0.4837081401439125,
          0.5125706626489501,
          0.6175776919296512,
          0.3971732539244064,
          0.5378976551252519
         ]
        },
        {
         "hovertemplate": "<b>%{text}</b><br>Normalized: %{y:.2f}<br><extra></extra>",
         "marker": {
          "color": "#8B0000",
          "line": {
           "color": "#0A0A0A",
           "width": 3
          },
          "opacity": 1,
          "size": 21,
          "symbol": "diamond"
         },
         "mode": "markers+text",
         "name": "Minnesota Timberwolves",
         "showlegend": false,
         "text": [
          "70.8"
         ],
         "textfont": {
          "color": "#ffffff",
          "size": 20
         },
         "textposition": "top right",
         "type": "scatter",
         "x": [
          "DREB%"
         ],
         "y": [
          0.42815170890821364
         ]
        },
        {
         "hovertemplate": "<b>%{text}</b><br>Normalized: %{y:.2f}<br><extra></extra>",
         "marker": {
          "color": "#89CFF0",
          "line": {
           "color": "white",
           "width": 3
          },
          "opacity": 0.7,
          "size": 18,
          "symbol": "circle"
         },
         "mode": "markers",
         "name": "Team Season Averages per NBA Team",
         "showlegend": false,
         "text": [
          "Atlanta Hawks<br>OREB%: 28.5",
          "Boston Celtics<br>OREB%: 24.6",
          "Cleveland Cavaliers<br>OREB%: 27.7",
          "New Orleans Pelicans<br>OREB%: 28.5",
          "Chicago Bulls<br>OREB%: 25.5",
          "Dallas Mavericks<br>OREB%: 21.5",
          "Denver Nuggets<br>OREB%: 28.2",
          "Golden State Warriors<br>OREB%: 27.4",
          "Houston Rockets<br>OREB%: 26.5",
          "Los Angeles Clippers<br>OREB%: 26.4",
          "Los Angeles Lakers<br>OREB%: 26.5",
          "Miami Heat<br>OREB%: 26.4",
          "Milwaukee Bucks<br>OREB%: 27.3",
          "Minnesota Timberwolves<br>OREB%: 29.1",
          "Brooklyn Nets<br>OREB%: 30.4",
          "New York Knicks<br>OREB%: 26.4",
          "Orlando Magic<br>OREB%: 28.0",
          "Indiana Pacers<br>OREB%: 27.6",
          "Philadelphia 76ers<br>OREB%: 27.1",
          "Phoenix Suns<br>OREB%: 29.7",
          "Portland Trail Blazers<br>OREB%: 25.9",
          "Sacramento Kings<br>OREB%: 26.1",
          "San Antonio Spurs<br>OREB%: 29.3",
          "Oklahoma City Thunder<br>OREB%: 28.0",
          "Toronto Raptors<br>OREB%: 27.1",
          "Utah Jazz<br>OREB%: 30.4",
          "Memphis Grizzlies<br>OREB%: 29.7",
          "Washington Wizards<br>OREB%: 26.5",
          "Detroit Pistons<br>OREB%: 28.7",
          "Charlotte Hornets<br>OREB%: 27.5"
         ],
         "type": "scatter",
         "x": [
          "OREB%",
          "OREB%",
          "OREB%",
          "OREB%",
          "OREB%",
          "OREB%",
          "OREB%",
          "OREB%",
          "OREB%",
          "OREB%",
          "OREB%",
          "OREB%",
          "OREB%",
          "OREB%",
          "OREB%",
          "OREB%",
          "OREB%",
          "OREB%",
          "OREB%",
          "OREB%",
          "OREB%",
          "OREB%",
          "OREB%",
          "OREB%",
          "OREB%",
          "OREB%",
          "OREB%",
          "OREB%",
          "OREB%",
          "OREB%"
         ],
         "y": [
          0.7869474836303088,
          0.3529870680527627,
          0.6893742188129961,
          0.7809603845064248,
          0.4507833710371254,
          0,
          0.7526257770272484,
          0.6667966578205737,
          0.5650186447577905,
          0.550391855648634,
          0.5584888844405294,
          0.5453608764616242,
          0.654463935074586,
          0.8564993050042964,
          0.99462621474279,
          0.554380652626548,
          0.7234337489067602,
          0.6849371609312636,
          0.6320398086608967,
          0.9234085443728164,
          0.4972097588931774,
          0.5148515453375873,
          0.8717961357273349,
          0.7242340869322268,
          0.6291531315736223,
          1,
          0.9188831758090261,
          0.5611004804564845,
          0.8099303691143351,
          0.6701878172318607
         ]
        },
        {
         "hovertemplate": "<b>%{text}</b><br>Normalized: %{y:.2f}<br><extra></extra>",
         "marker": {
          "color": "#8B0000",
          "line": {
           "color": "#0A0A0A",
           "width": 3
          },
          "opacity": 1,
          "size": 21,
          "symbol": "diamond"
         },
         "mode": "markers+text",
         "name": "Minnesota Timberwolves",
         "showlegend": false,
         "text": [
          "24.8"
         ],
         "textfont": {
          "color": "#ffffff",
          "size": 20
         },
         "textposition": "top right",
         "type": "scatter",
         "x": [
          "OREB%"
         ],
         "y": [
          0.37013971211344554
         ]
        }
       ],
       "layout": {
        "height": 1000,
        "hovermode": "closest",
        "legend": {
         "bgcolor": "#1a1a1a",
         "bordercolor": "#1a1a1a",
         "borderwidth": 1,
         "font": {
          "color": "#ffffff",
          "size": 20
         },
         "orientation": "h",
         "x": 0.5,
         "xanchor": "center",
         "y": 1.025,
         "yanchor": "bottom"
        },
        "margin": {
         "b": 80,
         "t": 80
        },
        "paper_bgcolor": "#1a1a1a",
        "plot_bgcolor": "#1a1a1a",
        "showlegend": true,
        "template": {
         "data": {
          "bar": [
           {
            "error_x": {
             "color": "#2a3f5f"
            },
            "error_y": {
             "color": "#2a3f5f"
            },
            "marker": {
             "line": {
              "color": "#E5ECF6",
              "width": 0.5
             },
             "pattern": {
              "fillmode": "overlay",
              "size": 10,
              "solidity": 0.2
             }
            },
            "type": "bar"
           }
          ],
          "barpolar": [
           {
            "marker": {
             "line": {
              "color": "#E5ECF6",
              "width": 0.5
             },
             "pattern": {
              "fillmode": "overlay",
              "size": 10,
              "solidity": 0.2
             }
            },
            "type": "barpolar"
           }
          ],
          "carpet": [
           {
            "aaxis": {
             "endlinecolor": "#2a3f5f",
             "gridcolor": "white",
             "linecolor": "white",
             "minorgridcolor": "white",
             "startlinecolor": "#2a3f5f"
            },
            "baxis": {
             "endlinecolor": "#2a3f5f",
             "gridcolor": "white",
             "linecolor": "white",
             "minorgridcolor": "white",
             "startlinecolor": "#2a3f5f"
            },
            "type": "carpet"
           }
          ],
          "choropleth": [
           {
            "colorbar": {
             "outlinewidth": 0,
             "ticks": ""
            },
            "type": "choropleth"
           }
          ],
          "contour": [
           {
            "colorbar": {
             "outlinewidth": 0,
             "ticks": ""
            },
            "colorscale": [
             [
              0,
              "#0d0887"
             ],
             [
              0.1111111111111111,
              "#46039f"
             ],
             [
              0.2222222222222222,
              "#7201a8"
             ],
             [
              0.3333333333333333,
              "#9c179e"
             ],
             [
              0.4444444444444444,
              "#bd3786"
             ],
             [
              0.5555555555555556,
              "#d8576b"
             ],
             [
              0.6666666666666666,
              "#ed7953"
             ],
             [
              0.7777777777777778,
              "#fb9f3a"
             ],
             [
              0.8888888888888888,
              "#fdca26"
             ],
             [
              1,
              "#f0f921"
             ]
            ],
            "type": "contour"
           }
          ],
          "contourcarpet": [
           {
            "colorbar": {
             "outlinewidth": 0,
             "ticks": ""
            },
            "type": "contourcarpet"
           }
          ],
          "heatmap": [
           {
            "colorbar": {
             "outlinewidth": 0,
             "ticks": ""
            },
            "colorscale": [
             [
              0,
              "#0d0887"
             ],
             [
              0.1111111111111111,
              "#46039f"
             ],
             [
              0.2222222222222222,
              "#7201a8"
             ],
             [
              0.3333333333333333,
              "#9c179e"
             ],
             [
              0.4444444444444444,
              "#bd3786"
             ],
             [
              0.5555555555555556,
              "#d8576b"
             ],
             [
              0.6666666666666666,
              "#ed7953"
             ],
             [
              0.7777777777777778,
              "#fb9f3a"
             ],
             [
              0.8888888888888888,
              "#fdca26"
             ],
             [
              1,
              "#f0f921"
             ]
            ],
            "type": "heatmap"
           }
          ],
          "heatmapgl": [
           {
            "colorbar": {
             "outlinewidth": 0,
             "ticks": ""
            },
            "colorscale": [
             [
              0,
              "#0d0887"
             ],
             [
              0.1111111111111111,
              "#46039f"
             ],
             [
              0.2222222222222222,
              "#7201a8"
             ],
             [
              0.3333333333333333,
              "#9c179e"
             ],
             [
              0.4444444444444444,
              "#bd3786"
             ],
             [
              0.5555555555555556,
              "#d8576b"
             ],
             [
              0.6666666666666666,
              "#ed7953"
             ],
             [
              0.7777777777777778,
              "#fb9f3a"
             ],
             [
              0.8888888888888888,
              "#fdca26"
             ],
             [
              1,
              "#f0f921"
             ]
            ],
            "type": "heatmapgl"
           }
          ],
          "histogram": [
           {
            "marker": {
             "pattern": {
              "fillmode": "overlay",
              "size": 10,
              "solidity": 0.2
             }
            },
            "type": "histogram"
           }
          ],
          "histogram2d": [
           {
            "colorbar": {
             "outlinewidth": 0,
             "ticks": ""
            },
            "colorscale": [
             [
              0,
              "#0d0887"
             ],
             [
              0.1111111111111111,
              "#46039f"
             ],
             [
              0.2222222222222222,
              "#7201a8"
             ],
             [
              0.3333333333333333,
              "#9c179e"
             ],
             [
              0.4444444444444444,
              "#bd3786"
             ],
             [
              0.5555555555555556,
              "#d8576b"
             ],
             [
              0.6666666666666666,
              "#ed7953"
             ],
             [
              0.7777777777777778,
              "#fb9f3a"
             ],
             [
              0.8888888888888888,
              "#fdca26"
             ],
             [
              1,
              "#f0f921"
             ]
            ],
            "type": "histogram2d"
           }
          ],
          "histogram2dcontour": [
           {
            "colorbar": {
             "outlinewidth": 0,
             "ticks": ""
            },
            "colorscale": [
             [
              0,
              "#0d0887"
             ],
             [
              0.1111111111111111,
              "#46039f"
             ],
             [
              0.2222222222222222,
              "#7201a8"
             ],
             [
              0.3333333333333333,
              "#9c179e"
             ],
             [
              0.4444444444444444,
              "#bd3786"
             ],
             [
              0.5555555555555556,
              "#d8576b"
             ],
             [
              0.6666666666666666,
              "#ed7953"
             ],
             [
              0.7777777777777778,
              "#fb9f3a"
             ],
             [
              0.8888888888888888,
              "#fdca26"
             ],
             [
              1,
              "#f0f921"
             ]
            ],
            "type": "histogram2dcontour"
           }
          ],
          "mesh3d": [
           {
            "colorbar": {
             "outlinewidth": 0,
             "ticks": ""
            },
            "type": "mesh3d"
           }
          ],
          "parcoords": [
           {
            "line": {
             "colorbar": {
              "outlinewidth": 0,
              "ticks": ""
             }
            },
            "type": "parcoords"
           }
          ],
          "pie": [
           {
            "automargin": true,
            "type": "pie"
           }
          ],
          "scatter": [
           {
            "fillpattern": {
             "fillmode": "overlay",
             "size": 10,
             "solidity": 0.2
            },
            "type": "scatter"
           }
          ],
          "scatter3d": [
           {
            "line": {
             "colorbar": {
              "outlinewidth": 0,
              "ticks": ""
             }
            },
            "marker": {
             "colorbar": {
              "outlinewidth": 0,
              "ticks": ""
             }
            },
            "type": "scatter3d"
           }
          ],
          "scattercarpet": [
           {
            "marker": {
             "colorbar": {
              "outlinewidth": 0,
              "ticks": ""
             }
            },
            "type": "scattercarpet"
           }
          ],
          "scattergeo": [
           {
            "marker": {
             "colorbar": {
              "outlinewidth": 0,
              "ticks": ""
             }
            },
            "type": "scattergeo"
           }
          ],
          "scattergl": [
           {
            "marker": {
             "colorbar": {
              "outlinewidth": 0,
              "ticks": ""
             }
            },
            "type": "scattergl"
           }
          ],
          "scattermapbox": [
           {
            "marker": {
             "colorbar": {
              "outlinewidth": 0,
              "ticks": ""
             }
            },
            "type": "scattermapbox"
           }
          ],
          "scatterpolar": [
           {
            "marker": {
             "colorbar": {
              "outlinewidth": 0,
              "ticks": ""
             }
            },
            "type": "scatterpolar"
           }
          ],
          "scatterpolargl": [
           {
            "marker": {
             "colorbar": {
              "outlinewidth": 0,
              "ticks": ""
             }
            },
            "type": "scatterpolargl"
           }
          ],
          "scatterternary": [
           {
            "marker": {
             "colorbar": {
              "outlinewidth": 0,
              "ticks": ""
             }
            },
            "type": "scatterternary"
           }
          ],
          "surface": [
           {
            "colorbar": {
             "outlinewidth": 0,
             "ticks": ""
            },
            "colorscale": [
             [
              0,
              "#0d0887"
             ],
             [
              0.1111111111111111,
              "#46039f"
             ],
             [
              0.2222222222222222,
              "#7201a8"
             ],
             [
              0.3333333333333333,
              "#9c179e"
             ],
             [
              0.4444444444444444,
              "#bd3786"
             ],
             [
              0.5555555555555556,
              "#d8576b"
             ],
             [
              0.6666666666666666,
              "#ed7953"
             ],
             [
              0.7777777777777778,
              "#fb9f3a"
             ],
             [
              0.8888888888888888,
              "#fdca26"
             ],
             [
              1,
              "#f0f921"
             ]
            ],
            "type": "surface"
           }
          ],
          "table": [
           {
            "cells": {
             "fill": {
              "color": "#EBF0F8"
             },
             "line": {
              "color": "white"
             }
            },
            "header": {
             "fill": {
              "color": "#C8D4E3"
             },
             "line": {
              "color": "white"
             }
            },
            "type": "table"
           }
          ]
         },
         "layout": {
          "annotationdefaults": {
           "arrowcolor": "#2a3f5f",
           "arrowhead": 0,
           "arrowwidth": 1
          },
          "autotypenumbers": "strict",
          "coloraxis": {
           "colorbar": {
            "outlinewidth": 0,
            "ticks": ""
           }
          },
          "colorscale": {
           "diverging": [
            [
             0,
             "#8e0152"
            ],
            [
             0.1,
             "#c51b7d"
            ],
            [
             0.2,
             "#de77ae"
            ],
            [
             0.3,
             "#f1b6da"
            ],
            [
             0.4,
             "#fde0ef"
            ],
            [
             0.5,
             "#f7f7f7"
            ],
            [
             0.6,
             "#e6f5d0"
            ],
            [
             0.7,
             "#b8e186"
            ],
            [
             0.8,
             "#7fbc41"
            ],
            [
             0.9,
             "#4d9221"
            ],
            [
             1,
             "#276419"
            ]
           ],
           "sequential": [
            [
             0,
             "#0d0887"
            ],
            [
             0.1111111111111111,
             "#46039f"
            ],
            [
             0.2222222222222222,
             "#7201a8"
            ],
            [
             0.3333333333333333,
             "#9c179e"
            ],
            [
             0.4444444444444444,
             "#bd3786"
            ],
            [
             0.5555555555555556,
             "#d8576b"
            ],
            [
             0.6666666666666666,
             "#ed7953"
            ],
            [
             0.7777777777777778,
             "#fb9f3a"
            ],
            [
             0.8888888888888888,
             "#fdca26"
            ],
            [
             1,
             "#f0f921"
            ]
           ],
           "sequentialminus": [
            [
             0,
             "#0d0887"
            ],
            [
             0.1111111111111111,
             "#46039f"
            ],
            [
             0.2222222222222222,
             "#7201a8"
            ],
            [
             0.3333333333333333,
             "#9c179e"
            ],
            [
             0.4444444444444444,
             "#bd3786"
            ],
            [
             0.5555555555555556,
             "#d8576b"
            ],
            [
             0.6666666666666666,
             "#ed7953"
            ],
            [
             0.7777777777777778,
             "#fb9f3a"
            ],
            [
             0.8888888888888888,
             "#fdca26"
            ],
            [
             1,
             "#f0f921"
            ]
           ]
          },
          "colorway": [
           "#636efa",
           "#EF553B",
           "#00cc96",
           "#ab63fa",
           "#FFA15A",
           "#19d3f3",
           "#FF6692",
           "#B6E880",
           "#FF97FF",
           "#FECB52"
          ],
          "font": {
           "color": "#2a3f5f"
          },
          "geo": {
           "bgcolor": "white",
           "lakecolor": "white",
           "landcolor": "#E5ECF6",
           "showlakes": true,
           "showland": true,
           "subunitcolor": "white"
          },
          "hoverlabel": {
           "align": "left"
          },
          "hovermode": "closest",
          "mapbox": {
           "style": "light"
          },
          "paper_bgcolor": "white",
          "plot_bgcolor": "#E5ECF6",
          "polar": {
           "angularaxis": {
            "gridcolor": "white",
            "linecolor": "white",
            "ticks": ""
           },
           "bgcolor": "#E5ECF6",
           "radialaxis": {
            "gridcolor": "white",
            "linecolor": "white",
            "ticks": ""
           }
          },
          "scene": {
           "xaxis": {
            "backgroundcolor": "#E5ECF6",
            "gridcolor": "white",
            "gridwidth": 2,
            "linecolor": "white",
            "showbackground": true,
            "ticks": "",
            "zerolinecolor": "white"
           },
           "yaxis": {
            "backgroundcolor": "#E5ECF6",
            "gridcolor": "white",
            "gridwidth": 2,
            "linecolor": "white",
            "showbackground": true,
            "ticks": "",
            "zerolinecolor": "white"
           },
           "zaxis": {
            "backgroundcolor": "#E5ECF6",
            "gridcolor": "white",
            "gridwidth": 2,
            "linecolor": "white",
            "showbackground": true,
            "ticks": "",
            "zerolinecolor": "white"
           }
          },
          "shapedefaults": {
           "line": {
            "color": "#2a3f5f"
           }
          },
          "ternary": {
           "aaxis": {
            "gridcolor": "white",
            "linecolor": "white",
            "ticks": ""
           },
           "baxis": {
            "gridcolor": "white",
            "linecolor": "white",
            "ticks": ""
           },
           "bgcolor": "#E5ECF6",
           "caxis": {
            "gridcolor": "white",
            "linecolor": "white",
            "ticks": ""
           }
          },
          "title": {
           "x": 0.05
          },
          "xaxis": {
           "automargin": true,
           "gridcolor": "white",
           "linecolor": "white",
           "ticks": "",
           "title": {
            "standoff": 15
           },
           "zerolinecolor": "white",
           "zerolinewidth": 2
          },
          "yaxis": {
           "automargin": true,
           "gridcolor": "white",
           "linecolor": "white",
           "ticks": "",
           "title": {
            "standoff": 15
           },
           "zerolinecolor": "white",
           "zerolinewidth": 2
          }
         }
        },
        "title": {
         "font": {
          "color": "#ffffff",
          "size": 24
         },
         "text": "Minnesota Timberwolves 2022-2023 RS ",
         "x": 0.5,
         "y": 0.99
        },
        "width": 1600,
        "xaxis": {
         "autorange": true,
         "categoryarray": [
          "Points",
          "Opp Points",
          "FTA",
          "3P%",
          "Rim Freq",
          "EFG%",
          "Rim%",
          "TOV%",
          "DREB%",
          "OREB%"
         ],
         "categoryorder": "array",
         "gridcolor": "rgba(255, 255, 255, 0.1)",
         "range": [
          -0.6033668044890727,
          9.603366804489072
         ],
         "tickangle": -45,
         "tickfont": {
          "color": "#ffffff",
          "size": 20
         },
         "type": "category"
        },
        "yaxis": {
         "dtick": 0.2,
         "gridcolor": "rgba(255, 255, 255, 0.1)",
         "range": [
          -0.1,
          1.1
         ],
         "showgrid": false,
         "showticklabels": false,
         "tick0": 0,
         "tickfont": {
          "color": "#ffffff"
         },
         "tickformat": ".2f",
         "tickmode": "linear",
         "title": {
          "font": {
           "color": "#ffffff",
           "size": 16
          },
          "text": "Normalized Value"
         },
         "type": "linear",
         "zeroline": true,
         "zerolinecolor": "rgba(255, 255, 255, 0.1)"
        }
       }
      },
      "image/png": "[encoded data removed]",
      "text/html": [
       "<div>                            <div id=\"c605fbb8-56ef-4763-a78f-f08a13015770\" class=\"plotly-graph-div\" style=\"height:1000px; width:1600px;\"></div>            <script type=\"text/javascript\">                require([\"plotly\"], function(Plotly) {                    window.PLOTLYENV=window.PLOTLYENV || {};                                    if (document.getElementById(\"c605fbb8-56ef-4763-a78f-f08a13015770\")) {                    Plotly.newPlot(                        \"c605fbb8-56ef-4763-a78f-f08a13015770\",                        [{\"hovertemplate\":\"\\u003cb\\u003e%{text}\\u003c\\u002fb\\u003e\\u003cbr\\u003eNormalized: %{y:.2f}\\u003cbr\\u003e\\u003cextra\\u003e\\u003c\\u002fextra\\u003e\",\"marker\":{\"color\":\"#89CFF0\",\"line\":{\"color\":\"white\",\"width\":3},\"opacity\":0.7,\"size\":18,\"symbol\":\"circle\"},\"mode\":\"markers\",\"name\":\"Team Season Averages per NBA Team\",\"showlegend\":false,\"text\":[\"Atlanta Hawks\\u003cbr\\u003ePoints: 116.9\",\"Boston Celtics\\u003cbr\\u003ePoints: 118.4\",\"Cleveland Cavaliers\\u003cbr\\u003ePoints: 111.0\",\"New Orleans Pelicans\\u003cbr\\u003ePoints: 115.2\",\"Chicago Bulls\\u003cbr\\u003ePoints: 112.6\",\"Dallas Mavericks\\u003cbr\\u003ePoints: 117.4\",\"Denver Nuggets\\u003cbr\\u003ePoints: 118.0\",\"Golden State Warriors\\u003cbr\\u003ePoints: 114.8\",\"Houston Rockets\\u003cbr\\u003ePoints: 119.8\",\"Los Angeles Clippers\\u003cbr\\u003ePoints: 115.2\",\"Los Angeles Lakers\\u003cbr\\u003ePoints: 115.1\",\"Miami Heat\\u003cbr\\u003ePoints: 113.7\",\"Milwaukee Bucks\\u003cbr\\u003ePoints: 115.8\",\"Minnesota Timberwolves\\u003cbr\\u003ePoints: 114.5\",\"Brooklyn Nets\\u003cbr\\u003ePoints: 114.9\",\"New York Knicks\\u003cbr\\u003ePoints: 115.4\",\"Orlando Magic\\u003cbr\\u003ePoints: 112.5\",\"Indiana Pacers\\u003cbr\\u003ePoints: 115.3\",\"Philadelphia 76ers\\u003cbr\\u003ePoints: 114.3\",\"Phoenix Suns\\u003cbr\\u003ePoints: 115.5\",\"Portland Trail Blazers\\u003cbr\\u003ePoints: 115.2\",\"Sacramento Kings\\u003cbr\\u003ePoints: 117.3\",\"San Antonio Spurs\\u003cbr\\u003ePoints: 110.9\",\"Oklahoma City Thunder\\u003cbr\\u003ePoints: 115.3\",\"Toronto Raptors\\u003cbr\\u003ePoints: 114.6\",\"Utah Jazz\\u003cbr\\u003ePoints: 116.3\",\"Memphis Grizzlies\\u003cbr\\u003ePoints: 115.9\",\"Washington Wizards\\u003cbr\\u003ePoints: 115.0\",\"Detroit Pistons\\u003cbr\\u003ePoints: 111.2\",\"Charlotte Hornets\\u003cbr\\u003ePoints: 109.7\"],\"x\":[\"Points\",\"Points\",\"Points\",\"Points\",\"Points\",\"Points\",\"Points\",\"Points\",\"Points\",\"Points\",\"Points\",\"Points\",\"Points\",\"Points\",\"Points\",\"Points\",\"Points\",\"Points\",\"Points\",\"Points\",\"Points\",\"Points\",\"Points\",\"Points\",\"Points\",\"Points\",\"Points\",\"Points\",\"Points\",\"Points\"],\"y\":[0.7132021049054895,0.8617946706858284,0.13563975289714314,0.5481366475943101,0.2865404000850891,0.7666174982230611,0.8286738273558516,0.5045410571389546,1.0,0.5459356798924802,0.5339949749829493,0.401823677171814,0.6063002232754027,0.4810572856218194,0.5170972437229189,0.5662114961232021,0.28350625364534565,0.5595906062696603,0.4583515656049091,0.576139760345967,0.5515629417008441,0.7529651480114179,0.1209010170334448,0.5609433540513109,0.4855400251902928,0.6528787783990868,0.6191723702431524,0.5326406804623183,0.1479176155773967,0.0],\"type\":\"scatter\"},{\"hovertemplate\":\"\\u003cb\\u003e%{text}\\u003c\\u002fb\\u003e\\u003cbr\\u003eNormalized: %{y:.2f}\\u003cbr\\u003e\\u003cextra\\u003e\\u003c\\u002fextra\\u003e\",\"marker\":{\"color\":\"#8B0000\",\"line\":{\"color\":\"#0A0A0A\",\"width\":3},\"opacity\":1,\"size\":21,\"symbol\":\"diamond\"},\"mode\":\"markers+text\",\"name\":\"Minnesota Timberwolves\",\"showlegend\":true,\"text\":[\"114.9\"],\"textfont\":{\"color\":\"#ffffff\",\"size\":20},\"textposition\":\"top right\",\"x\":[\"Points\"],\"y\":[0.5184879669011053],\"type\":\"scatter\"},{\"hovertemplate\":\"\\u003cb\\u003e%{text}\\u003c\\u002fb\\u003e\\u003cbr\\u003eNormalized: %{y:.2f}\\u003cbr\\u003e\\u003cextra\\u003e\\u003c\\u002fextra\\u003e\",\"marker\":{\"color\":\"#89CFF0\",\"line\":{\"color\":\"white\",\"width\":3},\"opacity\":0.7,\"size\":18,\"symbol\":\"circle\"},\"mode\":\"markers\",\"name\":\"Team Season Averages per NBA Team\",\"showlegend\":false,\"text\":[\"Atlanta Hawks\\u003cbr\\u003eOpp Points: 116.6\",\"Boston Celtics\\u003cbr\\u003eOpp Points: 111.9\",\"Cleveland Cavaliers\\u003cbr\\u003eOpp Points: 116.7\",\"New Orleans Pelicans\\u003cbr\\u003eOpp Points: 113.2\",\"Chicago Bulls\\u003cbr\\u003eOpp Points: 114.1\",\"Dallas Mavericks\\u003cbr\\u003eOpp Points: 117.2\",\"Denver Nuggets\\u003cbr\\u003eOpp Points: 114.7\",\"Golden State Warriors\\u003cbr\\u003eOpp Points: 116.4\",\"Houston Rockets\\u003cbr\\u003eOpp Points: 111.6\",\"Los Angeles Clippers\\u003cbr\\u003eOpp Points: 114.8\",\"Los Angeles Lakers\\u003cbr\\u003eOpp Points: 114.5\",\"Miami Heat\\u003cbr\\u003eOpp Points: 114.1\",\"Milwaukee Bucks\\u003cbr\\u003eOpp Points: 112.3\",\"Minnesota Timberwolves\\u003cbr\\u003eOpp Points: 114.6\",\"Brooklyn Nets\\u003cbr\\u003eOpp Points: 115.8\",\"New York Knicks\\u003cbr\\u003eOpp Points: 118.3\",\"Orlando Magic\\u003cbr\\u003eOpp Points: 115.0\",\"Indiana Pacers\\u003cbr\\u003eOpp Points: 118.3\",\"Philadelphia 76ers\\u003cbr\\u003eOpp Points: 118.7\",\"Phoenix Suns\\u003cbr\\u003eOpp Points: 113.6\",\"Portland Trail Blazers\\u003cbr\\u003eOpp Points: 119.1\",\"Sacramento Kings\\u003cbr\\u003eOpp Points: 119.8\",\"San Antonio Spurs\\u003cbr\\u003eOpp Points: 120.6\",\"Oklahoma City Thunder\\u003cbr\\u003eOpp Points: 114.5\",\"Toronto Raptors\\u003cbr\\u003eOpp Points: 115.9\",\"Utah Jazz\\u003cbr\\u003eOpp Points: 117.1\",\"Memphis Grizzlies\\u003cbr\\u003eOpp Points: 112.0\",\"Washington Wizards\\u003cbr\\u003eOpp Points: 116.1\",\"Detroit Pistons\\u003cbr\\u003eOpp Points: 119.2\",\"Charlotte Hornets\\u003cbr\\u003eOpp Points: 115.8\"],\"x\":[\"Opp Points\",\"Opp Points\",\"Opp Points\",\"Opp Points\",\"Opp Points\",\"Opp Points\",\"Opp Points\",\"Opp Points\",\"Opp Points\",\"Opp Points\",\"Opp Points\",\"Opp Points\",\"Opp Points\",\"Opp Points\",\"Opp Points\",\"Opp Points\",\"Opp Points\",\"Opp Points\",\"Opp Points\",\"Opp Points\",\"Opp Points\",\"Opp Points\",\"Opp Points\",\"Opp Points\",\"Opp Points\",\"Opp Points\",\"Opp Points\",\"Opp Points\",\"Opp Points\",\"Opp Points\"],\"y\":[0.5505012630730128,0.03841120993346259,0.5611124356640769,0.17225185003961485,0.2740319633715611,0.6209451796554486,0.3428410106324584,0.5375534329275915,0.0,0.3530431206232283,0.32694490126460884,0.2751059482441338,0.07366448992963903,0.32772378458627216,0.46289628862784404,0.7462853356966175,0.3759494819377842,0.7452367435540133,0.7879308879544773,0.21844319593954253,0.8330358605628607,0.9094217166953804,1.0,0.3241330806569085,0.47833596862128935,0.6154288315430758,0.04945211356684531,0.5038231499716854,0.848306189808449,0.46304547940806273],\"type\":\"scatter\"},{\"hovertemplate\":\"\\u003cb\\u003e%{text}\\u003c\\u002fb\\u003e\\u003cbr\\u003eNormalized: %{y:.2f}\\u003cbr\\u003e\\u003cextra\\u003e\\u003c\\u002fextra\\u003e\",\"marker\":{\"color\":\"#8B0000\",\"line\":{\"color\":\"#0A0A0A\",\"width\":3},\"opacity\":1,\"size\":21,\"symbol\":\"diamond\"},\"mode\":\"markers+text\",\"name\":\"Minnesota Timberwolves\",\"showlegend\":false,\"text\":[\"114.4\"],\"textfont\":{\"color\":\"#ffffff\",\"size\":20},\"textposition\":\"top right\",\"x\":[\"Opp Points\"],\"y\":[0.3078438293033283],\"type\":\"scatter\"},{\"hovertemplate\":\"\\u003cb\\u003e%{text}\\u003c\\u002fb\\u003e\\u003cbr\\u003eNormalized: %{y:.2f}\\u003cbr\\u003e\\u003cextra\\u003e\\u003c\\u002fextra\\u003e\",\"marker\":{\"color\":\"#89CFF0\",\"line\":{\"color\":\"white\",\"width\":3},\"opacity\":0.7,\"size\":18,\"symbol\":\"circle\"},\"mode\":\"markers\",\"name\":\"Team Season Averages per NBA Team\",\"showlegend\":false,\"text\":[\"Atlanta Hawks\\u003cbr\\u003eFTA: 22.3\",\"Boston Celtics\\u003cbr\\u003eFTA: 21.6\",\"Cleveland Cavaliers\\u003cbr\\u003eFTA: 23.3\",\"New Orleans Pelicans\\u003cbr\\u003eFTA: 24.6\",\"Chicago Bulls\\u003cbr\\u003eFTA: 22.2\",\"Dallas Mavericks\\u003cbr\\u003eFTA: 25.8\",\"Denver Nuggets\\u003cbr\\u003eFTA: 22.8\",\"Golden State Warriors\\u003cbr\\u003eFTA: 24.7\",\"Houston Rockets\\u003cbr\\u003eFTA: 24.5\",\"Los Angeles Clippers\\u003cbr\\u003eFTA: 24.3\",\"Los Angeles Lakers\\u003cbr\\u003eFTA: 26.1\",\"Miami Heat\\u003cbr\\u003eFTA: 23.9\",\"Milwaukee Bucks\\u003cbr\\u003eFTA: 22.2\",\"Minnesota Timberwolves\\u003cbr\\u003eFTA: 25.7\",\"Brooklyn Nets\\u003cbr\\u003eFTA: 24.9\",\"New York Knicks\\u003cbr\\u003eFTA: 24.2\",\"Orlando Magic\\u003cbr\\u003eFTA: 25.2\",\"Indiana Pacers\\u003cbr\\u003eFTA: 23.5\",\"Philadelphia 76ers\\u003cbr\\u003eFTA: 24.4\",\"Phoenix Suns\\u003cbr\\u003eFTA: 22.1\",\"Portland Trail Blazers\\u003cbr\\u003eFTA: 25.0\",\"Sacramento Kings\\u003cbr\\u003eFTA: 22.8\",\"San Antonio Spurs\\u003cbr\\u003eFTA: 20.8\",\"Oklahoma City Thunder\\u003cbr\\u003eFTA: 23.3\",\"Toronto Raptors\\u003cbr\\u003eFTA: 23.7\",\"Utah Jazz\\u003cbr\\u003eFTA: 23.7\",\"Memphis Grizzlies\\u003cbr\\u003eFTA: 23.6\",\"Washington Wizards\\u003cbr\\u003eFTA: 22.8\",\"Detroit Pistons\\u003cbr\\u003eFTA: 25.9\",\"Charlotte Hornets\\u003cbr\\u003eFTA: 23.3\"],\"x\":[\"FTA\",\"FTA\",\"FTA\",\"FTA\",\"FTA\",\"FTA\",\"FTA\",\"FTA\",\"FTA\",\"FTA\",\"FTA\",\"FTA\",\"FTA\",\"FTA\",\"FTA\",\"FTA\",\"FTA\",\"FTA\",\"FTA\",\"FTA\",\"FTA\",\"FTA\",\"FTA\",\"FTA\",\"FTA\",\"FTA\",\"FTA\",\"FTA\",\"FTA\",\"FTA\"],\"y\":[0.27389621173194545,0.15884755775725434,0.4662309916188363,0.7067241911525812,0.25611760439112796,0.9351692932673981,0.3742653038115682,0.7308259040577765,0.6857107080829437,0.6492847907493777,1.0,0.5774937580774848,0.25855223114850734,0.9233531534192165,0.7775178155186477,0.6326678188337818,0.8348836301616185,0.5081183520690402,0.6788810852648481,0.23766087003330405,0.796187537347401,0.3740351411458427,0.0,0.4637180136802881,0.552462085979136,0.5390159240948522,0.5297571152536102,0.37243214538444747,0.9536436775112129,0.4688469920801923],\"type\":\"scatter\"},{\"hovertemplate\":\"\\u003cb\\u003e%{text}\\u003c\\u002fb\\u003e\\u003cbr\\u003eNormalized: %{y:.2f}\\u003cbr\\u003e\\u003cextra\\u003e\\u003c\\u002fextra\\u003e\",\"marker\":{\"color\":\"#8B0000\",\"line\":{\"color\":\"#0A0A0A\",\"width\":3},\"opacity\":1,\"size\":21,\"symbol\":\"diamond\"},\"mode\":\"markers+text\",\"name\":\"Minnesota Timberwolves\",\"showlegend\":false,\"text\":[\"23.4\"],\"textfont\":{\"color\":\"#ffffff\",\"size\":20},\"textposition\":\"top right\",\"x\":[\"FTA\"],\"y\":[0.4803654522698846],\"type\":\"scatter\"},{\"hovertemplate\":\"\\u003cb\\u003e%{text}\\u003c\\u002fb\\u003e\\u003cbr\\u003eNormalized: %{y:.2f}\\u003cbr\\u003e\\u003cextra\\u003e\\u003c\\u002fextra\\u003e\",\"marker\":{\"color\":\"#89CFF0\",\"line\":{\"color\":\"white\",\"width\":3},\"opacity\":0.7,\"size\":18,\"symbol\":\"circle\"},\"mode\":\"markers\",\"name\":\"Team Season Averages per NBA Team\",\"showlegend\":false,\"text\":[\"Atlanta Hawks\\u003cbr\\u003e3P%: 35.2\",\"Boston Celtics\\u003cbr\\u003e3P%: 37.7\",\"Cleveland Cavaliers\\u003cbr\\u003e3P%: 36.8\",\"New Orleans Pelicans\\u003cbr\\u003e3P%: 36.4\",\"Chicago Bulls\\u003cbr\\u003e3P%: 35.7\",\"Dallas Mavericks\\u003cbr\\u003e3P%: 37.1\",\"Denver Nuggets\\u003cbr\\u003e3P%: 37.9\",\"Golden State Warriors\\u003cbr\\u003e3P%: 36.4\",\"Houston Rockets\\u003cbr\\u003e3P%: 37.4\",\"Los Angeles Clippers\\u003cbr\\u003e3P%: 38.1\",\"Los Angeles Lakers\\u003cbr\\u003e3P%: 34.6\",\"Miami Heat\\u003cbr\\u003e3P%: 34.4\",\"Milwaukee Bucks\\u003cbr\\u003e3P%: 36.8\",\"Minnesota Timberwolves\\u003cbr\\u003e3P%: 36.9\",\"Brooklyn Nets\\u003cbr\\u003e3P%: 36.7\",\"New York Knicks\\u003cbr\\u003e3P%: 35.7\",\"Orlando Magic\\u003cbr\\u003e3P%: 34.6\",\"Indiana Pacers\\u003cbr\\u003e3P%: 36.7\",\"Philadelphia 76ers\\u003cbr\\u003e3P%: 34.8\",\"Phoenix Suns\\u003cbr\\u003e3P%: 37.4\",\"Portland Trail Blazers\\u003cbr\\u003e3P%: 36.5\",\"Sacramento Kings\\u003cbr\\u003e3P%: 37.3\",\"San Antonio Spurs\\u003cbr\\u003e3P%: 34.5\",\"Oklahoma City Thunder\\u003cbr\\u003e3P%: 35.6\",\"Toronto Raptors\\u003cbr\\u003e3P%: 37.4\",\"Utah Jazz\\u003cbr\\u003e3P%: 35.3\",\"Memphis Grizzlies\\u003cbr\\u003e3P%: 35.1\",\"Washington Wizards\\u003cbr\\u003e3P%: 35.6\",\"Detroit Pistons\\u003cbr\\u003e3P%: 35.1\",\"Charlotte Hornets\\u003cbr\\u003e3P%: 33.0\"],\"x\":[\"3P%\",\"3P%\",\"3P%\",\"3P%\",\"3P%\",\"3P%\",\"3P%\",\"3P%\",\"3P%\",\"3P%\",\"3P%\",\"3P%\",\"3P%\",\"3P%\",\"3P%\",\"3P%\",\"3P%\",\"3P%\",\"3P%\",\"3P%\",\"3P%\",\"3P%\",\"3P%\",\"3P%\",\"3P%\",\"3P%\",\"3P%\",\"3P%\",\"3P%\",\"3P%\"],\"y\":[0.43552905141372555,0.9199265511667134,0.7585747781490779,0.6762860844829959,0.5326127637206355,0.8019439409421425,0.961254252286631,0.6638948266488969,0.8600069599321829,1.0,0.3143784927879816,0.26777940543565304,0.7525892639737801,0.7727004160745086,0.7238587959323448,0.5316213649942307,0.3176505038165969,0.7303895252602457,0.35607247610424597,0.8758093777815024,0.6912548126337397,0.8490390529766252,0.29661551478777426,0.5076068981267872,0.8702730617387928,0.45375971647843816,0.4120333382798691,0.5055124856349424,0.4189874530429343,0.0],\"type\":\"scatter\"},{\"hovertemplate\":\"\\u003cb\\u003e%{text}\\u003c\\u002fb\\u003e\\u003cbr\\u003eNormalized: %{y:.2f}\\u003cbr\\u003e\\u003cextra\\u003e\\u003c\\u002fextra\\u003e\",\"marker\":{\"color\":\"#8B0000\",\"line\":{\"color\":\"#0A0A0A\",\"width\":3},\"opacity\":1,\"size\":21,\"symbol\":\"diamond\"},\"mode\":\"markers+text\",\"name\":\"Minnesota Timberwolves\",\"showlegend\":false,\"text\":[\"36.7\"],\"textfont\":{\"color\":\"#ffffff\",\"size\":20},\"textposition\":\"top right\",\"x\":[\"3P%\"],\"y\":[0.7211423450587784],\"type\":\"scatter\"},{\"hovertemplate\":\"\\u003cb\\u003e%{text}\\u003c\\u002fb\\u003e\\u003cbr\\u003eNormalized: %{y:.2f}\\u003cbr\\u003e\\u003cextra\\u003e\\u003c\\u002fextra\\u003e\",\"marker\":{\"color\":\"#89CFF0\",\"line\":{\"color\":\"white\",\"width\":3},\"opacity\":0.7,\"size\":18,\"symbol\":\"circle\"},\"mode\":\"markers\",\"name\":\"Team Season Averages per NBA Team\",\"showlegend\":false,\"text\":[\"Atlanta Hawks\\u003cbr\\u003eRim Freq: 29.2\",\"Boston Celtics\\u003cbr\\u003eRim Freq: 26.8\",\"Cleveland Cavaliers\\u003cbr\\u003eRim Freq: 31.2\",\"New Orleans Pelicans\\u003cbr\\u003eRim Freq: 31.8\",\"Chicago Bulls\\u003cbr\\u003eRim Freq: 31.2\",\"Dallas Mavericks\\u003cbr\\u003eRim Freq: 26.0\",\"Denver Nuggets\\u003cbr\\u003eRim Freq: 33.3\",\"Golden State Warriors\\u003cbr\\u003eRim Freq: 21.9\",\"Houston Rockets\\u003cbr\\u003eRim Freq: 27.8\",\"Los Angeles Clippers\\u003cbr\\u003eRim Freq: 27.7\",\"Los Angeles Lakers\\u003cbr\\u003eRim Freq: 33.3\",\"Miami Heat\\u003cbr\\u003eRim Freq: 24.8\",\"Milwaukee Bucks\\u003cbr\\u003eRim Freq: 27.6\",\"Minnesota Timberwolves\\u003cbr\\u003eRim Freq: 31.4\",\"Brooklyn Nets\\u003cbr\\u003eRim Freq: 31.4\",\"New York Knicks\\u003cbr\\u003eRim Freq: 29.5\",\"Orlando Magic\\u003cbr\\u003eRim Freq: 31.2\",\"Indiana Pacers\\u003cbr\\u003eRim Freq: 32.3\",\"Philadelphia 76ers\\u003cbr\\u003eRim Freq: 30.1\",\"Phoenix Suns\\u003cbr\\u003eRim Freq: 23.0\",\"Portland Trail Blazers\\u003cbr\\u003eRim Freq: 33.3\",\"Sacramento Kings\\u003cbr\\u003eRim Freq: 30.0\",\"San Antonio Spurs\\u003cbr\\u003eRim Freq: 31.3\",\"Oklahoma City Thunder\\u003cbr\\u003eRim Freq: 33.3\",\"Toronto Raptors\\u003cbr\\u003eRim Freq: 30.8\",\"Utah Jazz\\u003cbr\\u003eRim Freq: 27.7\",\"Memphis Grizzlies\\u003cbr\\u003eRim Freq: 32.0\",\"Washington Wizards\\u003cbr\\u003eRim Freq: 27.4\",\"Detroit Pistons\\u003cbr\\u003eRim Freq: 27.9\",\"Charlotte Hornets\\u003cbr\\u003eRim Freq: 33.3\"],\"x\":[\"Rim Freq\",\"Rim Freq\",\"Rim Freq\",\"Rim Freq\",\"Rim Freq\",\"Rim Freq\",\"Rim Freq\",\"Rim Freq\",\"Rim Freq\",\"Rim Freq\",\"Rim Freq\",\"Rim Freq\",\"Rim Freq\",\"Rim Freq\",\"Rim Freq\",\"Rim Freq\",\"Rim Freq\",\"Rim Freq\",\"Rim Freq\",\"Rim Freq\",\"Rim Freq\",\"Rim Freq\",\"Rim Freq\",\"Rim Freq\",\"Rim Freq\",\"Rim Freq\",\"Rim Freq\",\"Rim Freq\",\"Rim Freq\",\"Rim Freq\"],\"y\":[0.641204029377898,0.42499274514493024,0.8160127928454122,0.8685454343246106,0.8134166056722827,0.36124300282485233,0.9938253303817,0.0,0.5195354581426366,0.5052508477200686,0.9964298094575197,0.25294547325994055,0.4976353835063003,0.8289420776965826,0.8328983295518007,0.6664908204192024,0.8124413038717413,0.9097156738756542,0.716712598483872,0.09217688067005492,1.0,0.7105017981348927,0.819544897094783,0.9962142241873608,0.7805160282634089,0.5056034829607872,0.883560153635643,0.4796340133100565,0.5231527662400897,0.9996521517037045],\"type\":\"scatter\"},{\"hovertemplate\":\"\\u003cb\\u003e%{text}\\u003c\\u002fb\\u003e\\u003cbr\\u003eNormalized: %{y:.2f}\\u003cbr\\u003e\\u003cextra\\u003e\\u003c\\u002fextra\\u003e\",\"marker\":{\"color\":\"#8B0000\",\"line\":{\"color\":\"#0A0A0A\",\"width\":3},\"opacity\":1,\"size\":21,\"symbol\":\"diamond\"},\"mode\":\"markers+text\",\"name\":\"Minnesota Timberwolves\",\"showlegend\":false,\"text\":[\"33.3\"],\"textfont\":{\"color\":\"#ffffff\",\"size\":20},\"textposition\":\"top right\",\"x\":[\"Rim Freq\"],\"y\":[0.995425801046566],\"type\":\"scatter\"},{\"hovertemplate\":\"\\u003cb\\u003e%{text}\\u003c\\u002fb\\u003e\\u003cbr\\u003eNormalized: %{y:.2f}\\u003cbr\\u003e\\u003cextra\\u003e\\u003c\\u002fextra\\u003e\",\"marker\":{\"color\":\"#89CFF0\",\"line\":{\"color\":\"white\",\"width\":3},\"opacity\":0.7,\"size\":18,\"symbol\":\"circle\"},\"mode\":\"markers\",\"name\":\"Team Season Averages per NBA Team\",\"showlegend\":false,\"text\":[\"Atlanta Hawks\\u003cbr\\u003eEFG%: 54.1\",\"Boston Celtics\\u003cbr\\u003eEFG%: 56.6\",\"Cleveland Cavaliers\\u003cbr\\u003eEFG%: 53.5\",\"New Orleans Pelicans\\u003cbr\\u003eEFG%: 54.3\",\"Chicago Bulls\\u003cbr\\u003eEFG%: 54.4\",\"Dallas Mavericks\\u003cbr\\u003eEFG%: 56.5\",\"Denver Nuggets\\u003cbr\\u003eEFG%: 57.3\",\"Golden State Warriors\\u003cbr\\u003eEFG%: 54.0\",\"Houston Rockets\\u003cbr\\u003eEFG%: 56.4\",\"Los Angeles Clippers\\u003cbr\\u003eEFG%: 55.1\",\"Los Angeles Lakers\\u003cbr\\u003eEFG%: 54.2\",\"Miami Heat\\u003cbr\\u003eEFG%: 53.0\",\"Milwaukee Bucks\\u003cbr\\u003eEFG%: 55.5\",\"Minnesota Timberwolves\\u003cbr\\u003eEFG%: 54.0\",\"Brooklyn Nets\\u003cbr\\u003eEFG%: 53.0\",\"New York Knicks\\u003cbr\\u003eEFG%: 53.6\",\"Orlando Magic\\u003cbr\\u003eEFG%: 53.2\",\"Indiana Pacers\\u003cbr\\u003eEFG%: 54.5\",\"Philadelphia 76ers\\u003cbr\\u003eEFG%: 54.1\",\"Phoenix Suns\\u003cbr\\u003eEFG%: 53.5\",\"Portland Trail Blazers\\u003cbr\\u003eEFG%: 54.9\",\"Sacramento Kings\\u003cbr\\u003eEFG%: 56.3\",\"San Antonio Spurs\\u003cbr\\u003eEFG%: 52.5\",\"Oklahoma City Thunder\\u003cbr\\u003eEFG%: 53.1\",\"Toronto Raptors\\u003cbr\\u003eEFG%: 56.5\",\"Utah Jazz\\u003cbr\\u003eEFG%: 54.7\",\"Memphis Grizzlies\\u003cbr\\u003eEFG%: 54.0\",\"Washington Wizards\\u003cbr\\u003eEFG%: 55.0\",\"Detroit Pistons\\u003cbr\\u003eEFG%: 52.0\",\"Charlotte Hornets\\u003cbr\\u003eEFG%: 51.6\"],\"x\":[\"EFG%\",\"EFG%\",\"EFG%\",\"EFG%\",\"EFG%\",\"EFG%\",\"EFG%\",\"EFG%\",\"EFG%\",\"EFG%\",\"EFG%\",\"EFG%\",\"EFG%\",\"EFG%\",\"EFG%\",\"EFG%\",\"EFG%\",\"EFG%\",\"EFG%\",\"EFG%\",\"EFG%\",\"EFG%\",\"EFG%\",\"EFG%\",\"EFG%\",\"EFG%\",\"EFG%\",\"EFG%\",\"EFG%\",\"EFG%\"],\"y\":[0.44469546998093,0.878987581096796,0.33476747942945373,0.4711300003061165,0.4862924542486464,0.8719734680713227,1.0,0.4225826755899167,0.8457426035858351,0.6206378612018568,0.46619243675928246,0.24611870470816832,0.6874637871011586,0.4282504601904584,0.2413139629834138,0.35835044831124385,0.2849077362362227,0.5047400939868858,0.43696649440748203,0.3373447230651845,0.586444069537361,0.822783440136357,0.16332598661789177,0.2648783241604864,0.8595557216367844,0.555435073088189,0.4234897942945519,0.597115825748288,0.06535855256940515,0.0],\"type\":\"scatter\"},{\"hovertemplate\":\"\\u003cb\\u003e%{text}\\u003c\\u002fb\\u003e\\u003cbr\\u003eNormalized: %{y:.2f}\\u003cbr\\u003e\\u003cextra\\u003e\\u003c\\u002fextra\\u003e\",\"marker\":{\"color\":\"#8B0000\",\"line\":{\"color\":\"#0A0A0A\",\"width\":3},\"opacity\":1,\"size\":21,\"symbol\":\"diamond\"},\"mode\":\"markers+text\",\"name\":\"Minnesota Timberwolves\",\"showlegend\":false,\"text\":[\"56.1\"],\"textfont\":{\"color\":\"#ffffff\",\"size\":20},\"textposition\":\"top right\",\"x\":[\"EFG%\"],\"y\":[0.7951281481180423],\"type\":\"scatter\"},{\"hovertemplate\":\"\\u003cb\\u003e%{text}\\u003c\\u002fb\\u003e\\u003cbr\\u003eNormalized: %{y:.2f}\\u003cbr\\u003e\\u003cextra\\u003e\\u003c\\u002fextra\\u003e\",\"marker\":{\"color\":\"#89CFF0\",\"line\":{\"color\":\"white\",\"width\":3},\"opacity\":0.7,\"size\":18,\"symbol\":\"circle\"},\"mode\":\"markers\",\"name\":\"Team Season Averages per NBA Team\",\"showlegend\":false,\"text\":[\"Atlanta Hawks\\u003cbr\\u003eRim%: 66.6\",\"Boston Celtics\\u003cbr\\u003eRim%: 69.0\",\"Cleveland Cavaliers\\u003cbr\\u003eRim%: 62.8\",\"New Orleans Pelicans\\u003cbr\\u003eRim%: 66.8\",\"Chicago Bulls\\u003cbr\\u003eRim%: 66.4\",\"Dallas Mavericks\\u003cbr\\u003eRim%: 67.7\",\"Denver Nuggets\\u003cbr\\u003eRim%: 70.9\",\"Golden State Warriors\\u003cbr\\u003eRim%: 68.3\",\"Houston Rockets\\u003cbr\\u003eRim%: 70.1\",\"Los Angeles Clippers\\u003cbr\\u003eRim%: 65.6\",\"Los Angeles Lakers\\u003cbr\\u003eRim%: 68.8\",\"Miami Heat\\u003cbr\\u003eRim%: 65.8\",\"Milwaukee Bucks\\u003cbr\\u003eRim%: 69.0\",\"Minnesota Timberwolves\\u003cbr\\u003eRim%: 65.8\",\"Brooklyn Nets\\u003cbr\\u003eRim%: 64.6\",\"New York Knicks\\u003cbr\\u003eRim%: 63.6\",\"Orlando Magic\\u003cbr\\u003eRim%: 67.0\",\"Indiana Pacers\\u003cbr\\u003eRim%: 64.1\",\"Philadelphia 76ers\\u003cbr\\u003eRim%: 68.4\",\"Phoenix Suns\\u003cbr\\u003eRim%: 65.6\",\"Portland Trail Blazers\\u003cbr\\u003eRim%: 64.9\",\"Sacramento Kings\\u003cbr\\u003eRim%: 68.8\",\"San Antonio Spurs\\u003cbr\\u003eRim%: 64.7\",\"Oklahoma City Thunder\\u003cbr\\u003eRim%: 62.7\",\"Toronto Raptors\\u003cbr\\u003eRim%: 67.7\",\"Utah Jazz\\u003cbr\\u003eRim%: 67.3\",\"Memphis Grizzlies\\u003cbr\\u003eRim%: 65.1\",\"Washington Wizards\\u003cbr\\u003eRim%: 72.1\",\"Detroit Pistons\\u003cbr\\u003eRim%: 64.4\",\"Charlotte Hornets\\u003cbr\\u003eRim%: 64.7\"],\"x\":[\"Rim%\",\"Rim%\",\"Rim%\",\"Rim%\",\"Rim%\",\"Rim%\",\"Rim%\",\"Rim%\",\"Rim%\",\"Rim%\",\"Rim%\",\"Rim%\",\"Rim%\",\"Rim%\",\"Rim%\",\"Rim%\",\"Rim%\",\"Rim%\",\"Rim%\",\"Rim%\",\"Rim%\",\"Rim%\",\"Rim%\",\"Rim%\",\"Rim%\",\"Rim%\",\"Rim%\",\"Rim%\",\"Rim%\",\"Rim%\"],\"y\":[0.40803704184769884,0.6656648488333428,0.0072773755745974,0.43010050451264537,0.39215385595349517,0.5282396514712335,0.8682887310902618,0.5901455115885597,0.786660010887025,0.29949775750342766,0.6443409454840161,0.3254772892017055,0.6660607660375479,0.3289741558418058,0.19331103191965582,0.08973801952883154,0.4579204386781086,0.14210968340205277,0.6030278902866479,0.3088145567396525,0.228859989196879,0.6433323475456589,0.20369073101159962,0.0,0.5286182451172889,0.4838655756967629,0.25593044777445506,1.0,0.17501875529584954,0.2076926156970993],\"type\":\"scatter\"},{\"hovertemplate\":\"\\u003cb\\u003e%{text}\\u003c\\u002fb\\u003e\\u003cbr\\u003eNormalized: %{y:.2f}\\u003cbr\\u003e\\u003cextra\\u003e\\u003c\\u002fextra\\u003e\",\"marker\":{\"color\":\"#8B0000\",\"line\":{\"color\":\"#0A0A0A\",\"width\":3},\"opacity\":1,\"size\":21,\"symbol\":\"diamond\"},\"mode\":\"markers+text\",\"name\":\"Minnesota Timberwolves\",\"showlegend\":false,\"text\":[\"68.8\"],\"textfont\":{\"color\":\"#ffffff\",\"size\":20},\"textposition\":\"top right\",\"x\":[\"Rim%\"],\"y\":[0.6456644572706631],\"type\":\"scatter\"},{\"hovertemplate\":\"\\u003cb\\u003e%{text}\\u003c\\u002fb\\u003e\\u003cbr\\u003eNormalized: %{y:.2f}\\u003cbr\\u003e\\u003cextra\\u003e\\u003c\\u002fextra\\u003e\",\"marker\":{\"color\":\"#89CFF0\",\"line\":{\"color\":\"white\",\"width\":3},\"opacity\":0.7,\"size\":18,\"symbol\":\"circle\"},\"mode\":\"markers\",\"name\":\"Team Season Averages per NBA Team\",\"showlegend\":false,\"text\":[\"Atlanta Hawks\\u003cbr\\u003eTOV%: 11.2\",\"Boston Celtics\\u003cbr\\u003eTOV%: 12.0\",\"Cleveland Cavaliers\\u003cbr\\u003eTOV%: 14.4\",\"New Orleans Pelicans\\u003cbr\\u003eTOV%: 12.9\",\"Chicago Bulls\\u003cbr\\u003eTOV%: 13.5\",\"Dallas Mavericks\\u003cbr\\u003eTOV%: 11.4\",\"Denver Nuggets\\u003cbr\\u003eTOV%: 13.1\",\"Golden State Warriors\\u003cbr\\u003eTOV%: 12.3\",\"Houston Rockets\\u003cbr\\u003eTOV%: 11.8\",\"Los Angeles Clippers\\u003cbr\\u003eTOV%: 12.8\",\"Los Angeles Lakers\\u003cbr\\u003eTOV%: 12.3\",\"Miami Heat\\u003cbr\\u003eTOV%: 12.4\",\"Milwaukee Bucks\\u003cbr\\u003eTOV%: 12.7\",\"Minnesota Timberwolves\\u003cbr\\u003eTOV%: 13.3\",\"Brooklyn Nets\\u003cbr\\u003eTOV%: 12.2\",\"New York Knicks\\u003cbr\\u003eTOV%: 11.4\",\"Orlando Magic\\u003cbr\\u003eTOV%: 13.4\",\"Indiana Pacers\\u003cbr\\u003eTOV%: 13.0\",\"Philadelphia 76ers\\u003cbr\\u003eTOV%: 13.0\",\"Phoenix Suns\\u003cbr\\u003eTOV%: 12.0\",\"Portland Trail Blazers\\u003cbr\\u003eTOV%: 13.0\",\"Sacramento Kings\\u003cbr\\u003eTOV%: 12.6\",\"San Antonio Spurs\\u003cbr\\u003eTOV%: 13.0\",\"Oklahoma City Thunder\\u003cbr\\u003eTOV%: 11.2\",\"Toronto Raptors\\u003cbr\\u003eTOV%: 15.3\",\"Utah Jazz\\u003cbr\\u003eTOV%: 13.3\",\"Memphis Grizzlies\\u003cbr\\u003eTOV%: 11.7\",\"Washington Wizards\\u003cbr\\u003eTOV%: 12.7\",\"Detroit Pistons\\u003cbr\\u003eTOV%: 13.3\",\"Charlotte Hornets\\u003cbr\\u003eTOV%: 12.3\"],\"x\":[\"TOV%\",\"TOV%\",\"TOV%\",\"TOV%\",\"TOV%\",\"TOV%\",\"TOV%\",\"TOV%\",\"TOV%\",\"TOV%\",\"TOV%\",\"TOV%\",\"TOV%\",\"TOV%\",\"TOV%\",\"TOV%\",\"TOV%\",\"TOV%\",\"TOV%\",\"TOV%\",\"TOV%\",\"TOV%\",\"TOV%\",\"TOV%\",\"TOV%\",\"TOV%\",\"TOV%\",\"TOV%\",\"TOV%\",\"TOV%\"],\"y\":[0.0,0.1846079165107093,0.777782574627023,0.4211209554648172,0.5534014101043145,0.033707403650702794,0.4697020563707732,0.2727806843847711,0.13261572801117083,0.39844780654859857,0.257697198267552,0.2897070417132155,0.37391649644233294,0.514169763005794,0.23130178085459985,0.05396998400907416,0.5414995376967786,0.43751778817466613,0.4323082027759879,0.18303896857426727,0.4524385948686236,0.3298399937006766,0.44971776391338736,0.004043435997985512,1.0,0.5085499090656365,0.12248949066959725,0.374782558624839,0.5137857752680022,0.2789734532007446],\"type\":\"scatter\"},{\"hovertemplate\":\"\\u003cb\\u003e%{text}\\u003c\\u002fb\\u003e\\u003cbr\\u003eNormalized: %{y:.2f}\\u003cbr\\u003e\\u003cextra\\u003e\\u003c\\u002fextra\\u003e\",\"marker\":{\"color\":\"#8B0000\",\"line\":{\"color\":\"#0A0A0A\",\"width\":3},\"opacity\":1,\"size\":21,\"symbol\":\"diamond\"},\"mode\":\"markers+text\",\"name\":\"Minnesota Timberwolves\",\"showlegend\":false,\"text\":[\"13.4\"],\"textfont\":{\"color\":\"#ffffff\",\"size\":20},\"textposition\":\"top right\",\"x\":[\"TOV%\"],\"y\":[0.5378113246879166],\"type\":\"scatter\"},{\"hovertemplate\":\"\\u003cb\\u003e%{text}\\u003c\\u002fb\\u003e\\u003cbr\\u003eNormalized: %{y:.2f}\\u003cbr\\u003e\\u003cextra\\u003e\\u003c\\u002fextra\\u003e\",\"marker\":{\"color\":\"#89CFF0\",\"line\":{\"color\":\"white\",\"width\":3},\"opacity\":0.7,\"size\":18,\"symbol\":\"circle\"},\"mode\":\"markers\",\"name\":\"Team Season Averages per NBA Team\",\"showlegend\":false,\"text\":[\"Atlanta Hawks\\u003cbr\\u003eDREB%: 72.5\",\"Boston Celtics\\u003cbr\\u003eDREB%: 75.4\",\"Cleveland Cavaliers\\u003cbr\\u003eDREB%: 73.3\",\"New Orleans Pelicans\\u003cbr\\u003eDREB%: 73.9\",\"Chicago Bulls\\u003cbr\\u003eDREB%: 76.8\",\"Dallas Mavericks\\u003cbr\\u003eDREB%: 72.1\",\"Denver Nuggets\\u003cbr\\u003eDREB%: 73.1\",\"Golden State Warriors\\u003cbr\\u003eDREB%: 73.5\",\"Houston Rockets\\u003cbr\\u003eDREB%: 66.0\",\"Los Angeles Clippers\\u003cbr\\u003eDREB%: 73.6\",\"Los Angeles Lakers\\u003cbr\\u003eDREB%: 73.5\",\"Miami Heat\\u003cbr\\u003eDREB%: 74.2\",\"Milwaukee Bucks\\u003cbr\\u003eDREB%: 75.0\",\"Minnesota Timberwolves\\u003cbr\\u003eDREB%: 75.0\",\"Brooklyn Nets\\u003cbr\\u003eDREB%: 77.4\",\"New York Knicks\\u003cbr\\u003eDREB%: 68.8\",\"Orlando Magic\\u003cbr\\u003eDREB%: 74.1\",\"Indiana Pacers\\u003cbr\\u003eDREB%: 68.9\",\"Philadelphia 76ers\\u003cbr\\u003eDREB%: 74.9\",\"Phoenix Suns\\u003cbr\\u003eDREB%: 72.2\",\"Portland Trail Blazers\\u003cbr\\u003eDREB%: 71.7\",\"Sacramento Kings\\u003cbr\\u003eDREB%: 73.8\",\"San Antonio Spurs\\u003cbr\\u003eDREB%: 71.2\",\"Oklahoma City Thunder\\u003cbr\\u003eDREB%: 69.7\",\"Toronto Raptors\\u003cbr\\u003eDREB%: 68.9\",\"Utah Jazz\\u003cbr\\u003eDREB%: 71.5\",\"Memphis Grizzlies\\u003cbr\\u003eDREB%: 71.8\",\"Washington Wizards\\u003cbr\\u003eDREB%: 73.0\",\"Detroit Pistons\\u003cbr\\u003eDREB%: 70.5\",\"Charlotte Hornets\\u003cbr\\u003eDREB%: 72.1\"],\"x\":[\"DREB%\",\"DREB%\",\"DREB%\",\"DREB%\",\"DREB%\",\"DREB%\",\"DREB%\",\"DREB%\",\"DREB%\",\"DREB%\",\"DREB%\",\"DREB%\",\"DREB%\",\"DREB%\",\"DREB%\",\"DREB%\",\"DREB%\",\"DREB%\",\"DREB%\",\"DREB%\",\"DREB%\",\"DREB%\",\"DREB%\",\"DREB%\",\"DREB%\",\"DREB%\",\"DREB%\",\"DREB%\",\"DREB%\",\"DREB%\"],\"y\":[0.5742285583489979,0.8297043620496716,0.6400771906591789,0.692944589042809,0.9500168266423552,0.5389562486271338,0.6287369778912151,0.6610003083844935,0.0,0.6729524298961591,0.6615957842375693,0.7263156220559956,0.7929948429266052,0.7967727376567426,0.9999999999999991,0.24698132500210335,0.7112400735691873,0.26141565409615897,0.7860885074516242,0.5436295101643367,0.503478767845305,0.6880926241141285,0.4618523435700803,0.3312861077098592,0.2541956979729134,0.4837081401439125,0.5125706626489501,0.6175776919296512,0.3971732539244064,0.5378976551252519],\"type\":\"scatter\"},{\"hovertemplate\":\"\\u003cb\\u003e%{text}\\u003c\\u002fb\\u003e\\u003cbr\\u003eNormalized: %{y:.2f}\\u003cbr\\u003e\\u003cextra\\u003e\\u003c\\u002fextra\\u003e\",\"marker\":{\"color\":\"#8B0000\",\"line\":{\"color\":\"#0A0A0A\",\"width\":3},\"opacity\":1,\"size\":21,\"symbol\":\"diamond\"},\"mode\":\"markers+text\",\"name\":\"Minnesota Timberwolves\",\"showlegend\":false,\"text\":[\"70.8\"],\"textfont\":{\"color\":\"#ffffff\",\"size\":20},\"textposition\":\"top right\",\"x\":[\"DREB%\"],\"y\":[0.42815170890821364],\"type\":\"scatter\"},{\"hovertemplate\":\"\\u003cb\\u003e%{text}\\u003c\\u002fb\\u003e\\u003cbr\\u003eNormalized: %{y:.2f}\\u003cbr\\u003e\\u003cextra\\u003e\\u003c\\u002fextra\\u003e\",\"marker\":{\"color\":\"#89CFF0\",\"line\":{\"color\":\"white\",\"width\":3},\"opacity\":0.7,\"size\":18,\"symbol\":\"circle\"},\"mode\":\"markers\",\"name\":\"Team Season Averages per NBA Team\",\"showlegend\":false,\"text\":[\"Atlanta Hawks\\u003cbr\\u003eOREB%: 28.5\",\"Boston Celtics\\u003cbr\\u003eOREB%: 24.6\",\"Cleveland Cavaliers\\u003cbr\\u003eOREB%: 27.7\",\"New Orleans Pelicans\\u003cbr\\u003eOREB%: 28.5\",\"Chicago Bulls\\u003cbr\\u003eOREB%: 25.5\",\"Dallas Mavericks\\u003cbr\\u003eOREB%: 21.5\",\"Denver Nuggets\\u003cbr\\u003eOREB%: 28.2\",\"Golden State Warriors\\u003cbr\\u003eOREB%: 27.4\",\"Houston Rockets\\u003cbr\\u003eOREB%: 26.5\",\"Los Angeles Clippers\\u003cbr\\u003eOREB%: 26.4\",\"Los Angeles Lakers\\u003cbr\\u003eOREB%: 26.5\",\"Miami Heat\\u003cbr\\u003eOREB%: 26.4\",\"Milwaukee Bucks\\u003cbr\\u003eOREB%: 27.3\",\"Minnesota Timberwolves\\u003cbr\\u003eOREB%: 29.1\",\"Brooklyn Nets\\u003cbr\\u003eOREB%: 30.4\",\"New York Knicks\\u003cbr\\u003eOREB%: 26.4\",\"Orlando Magic\\u003cbr\\u003eOREB%: 28.0\",\"Indiana Pacers\\u003cbr\\u003eOREB%: 27.6\",\"Philadelphia 76ers\\u003cbr\\u003eOREB%: 27.1\",\"Phoenix Suns\\u003cbr\\u003eOREB%: 29.7\",\"Portland Trail Blazers\\u003cbr\\u003eOREB%: 25.9\",\"Sacramento Kings\\u003cbr\\u003eOREB%: 26.1\",\"San Antonio Spurs\\u003cbr\\u003eOREB%: 29.3\",\"Oklahoma City Thunder\\u003cbr\\u003eOREB%: 28.0\",\"Toronto Raptors\\u003cbr\\u003eOREB%: 27.1\",\"Utah Jazz\\u003cbr\\u003eOREB%: 30.4\",\"Memphis Grizzlies\\u003cbr\\u003eOREB%: 29.7\",\"Washington Wizards\\u003cbr\\u003eOREB%: 26.5\",\"Detroit Pistons\\u003cbr\\u003eOREB%: 28.7\",\"Charlotte Hornets\\u003cbr\\u003eOREB%: 27.5\"],\"x\":[\"OREB%\",\"OREB%\",\"OREB%\",\"OREB%\",\"OREB%\",\"OREB%\",\"OREB%\",\"OREB%\",\"OREB%\",\"OREB%\",\"OREB%\",\"OREB%\",\"OREB%\",\"OREB%\",\"OREB%\",\"OREB%\",\"OREB%\",\"OREB%\",\"OREB%\",\"OREB%\",\"OREB%\",\"OREB%\",\"OREB%\",\"OREB%\",\"OREB%\",\"OREB%\",\"OREB%\",\"OREB%\",\"OREB%\",\"OREB%\"],\"y\":[0.7869474836303088,0.3529870680527627,0.6893742188129961,0.7809603845064248,0.4507833710371254,0.0,0.7526257770272484,0.6667966578205737,0.5650186447577905,0.550391855648634,0.5584888844405294,0.5453608764616242,0.654463935074586,0.8564993050042964,0.99462621474279,0.554380652626548,0.7234337489067602,0.6849371609312636,0.6320398086608967,0.9234085443728164,0.4972097588931774,0.5148515453375873,0.8717961357273349,0.7242340869322268,0.6291531315736223,1.0,0.9188831758090261,0.5611004804564845,0.8099303691143351,0.6701878172318607],\"type\":\"scatter\"},{\"hovertemplate\":\"\\u003cb\\u003e%{text}\\u003c\\u002fb\\u003e\\u003cbr\\u003eNormalized: %{y:.2f}\\u003cbr\\u003e\\u003cextra\\u003e\\u003c\\u002fextra\\u003e\",\"marker\":{\"color\":\"#8B0000\",\"line\":{\"color\":\"#0A0A0A\",\"width\":3},\"opacity\":1,\"size\":21,\"symbol\":\"diamond\"},\"mode\":\"markers+text\",\"name\":\"Minnesota Timberwolves\",\"showlegend\":false,\"text\":[\"24.8\"],\"textfont\":{\"color\":\"#ffffff\",\"size\":20},\"textposition\":\"top right\",\"x\":[\"OREB%\"],\"y\":[0.37013971211344554],\"type\":\"scatter\"}],                        {\"template\":{\"data\":{\"histogram2dcontour\":[{\"type\":\"histogram2dcontour\",\"colorbar\":{\"outlinewidth\":0,\"ticks\":\"\"},\"colorscale\":[[0.0,\"#0d0887\"],[0.1111111111111111,\"#46039f\"],[0.2222222222222222,\"#7201a8\"],[0.3333333333333333,\"#9c179e\"],[0.4444444444444444,\"#bd3786\"],[0.5555555555555556,\"#d8576b\"],[0.6666666666666666,\"#ed7953\"],[0.7777777777777778,\"#fb9f3a\"],[0.8888888888888888,\"#fdca26\"],[1.0,\"#f0f921\"]]}],\"choropleth\":[{\"type\":\"choropleth\",\"colorbar\":{\"outlinewidth\":0,\"ticks\":\"\"}}],\"histogram2d\":[{\"type\":\"histogram2d\",\"colorbar\":{\"outlinewidth\":0,\"ticks\":\"\"},\"colorscale\":[[0.0,\"#0d0887\"],[0.1111111111111111,\"#46039f\"],[0.2222222222222222,\"#7201a8\"],[0.3333333333333333,\"#9c179e\"],[0.4444444444444444,\"#bd3786\"],[0.5555555555555556,\"#d8576b\"],[0.6666666666666666,\"#ed7953\"],[0.7777777777777778,\"#fb9f3a\"],[0.8888888888888888,\"#fdca26\"],[1.0,\"#f0f921\"]]}],\"heatmap\":[{\"type\":\"heatmap\",\"colorbar\":{\"outlinewidth\":0,\"ticks\":\"\"},\"colorscale\":[[0.0,\"#0d0887\"],[0.1111111111111111,\"#46039f\"],[0.2222222222222222,\"#7201a8\"],[0.3333333333333333,\"#9c179e\"],[0.4444444444444444,\"#bd3786\"],[0.5555555555555556,\"#d8576b\"],[0.6666666666666666,\"#ed7953\"],[0.7777777777777778,\"#fb9f3a\"],[0.8888888888888888,\"#fdca26\"],[1.0,\"#f0f921\"]]}],\"heatmapgl\":[{\"type\":\"heatmapgl\",\"colorbar\":{\"outlinewidth\":0,\"ticks\":\"\"},\"colorscale\":[[0.0,\"#0d0887\"],[0.1111111111111111,\"#46039f\"],[0.2222222222222222,\"#7201a8\"],[0.3333333333333333,\"#9c179e\"],[0.4444444444444444,\"#bd3786\"],[0.5555555555555556,\"#d8576b\"],[0.6666666666666666,\"#ed7953\"],[0.7777777777777778,\"#fb9f3a\"],[0.8888888888888888,\"#fdca26\"],[1.0,\"#f0f921\"]]}],\"contourcarpet\":[{\"type\":\"contourcarpet\",\"colorbar\":{\"outlinewidth\":0,\"ticks\":\"\"}}],\"contour\":[{\"type\":\"contour\",\"colorbar\":{\"outlinewidth\":0,\"ticks\":\"\"},\"colorscale\":[[0.0,\"#0d0887\"],[0.1111111111111111,\"#46039f\"],[0.2222222222222222,\"#7201a8\"],[0.3333333333333333,\"#9c179e\"],[0.4444444444444444,\"#bd3786\"],[0.5555555555555556,\"#d8576b\"],[0.6666666666666666,\"#ed7953\"],[0.7777777777777778,\"#fb9f3a\"],[0.8888888888888888,\"#fdca26\"],[1.0,\"#f0f921\"]]}],\"surface\":[{\"type\":\"surface\",\"colorbar\":{\"outlinewidth\":0,\"ticks\":\"\"},\"colorscale\":[[0.0,\"#0d0887\"],[0.1111111111111111,\"#46039f\"],[0.2222222222222222,\"#7201a8\"],[0.3333333333333333,\"#9c179e\"],[0.4444444444444444,\"#bd3786\"],[0.5555555555555556,\"#d8576b\"],[0.6666666666666666,\"#ed7953\"],[0.7777777777777778,\"#fb9f3a\"],[0.8888888888888888,\"#fdca26\"],[1.0,\"#f0f921\"]]}],\"mesh3d\":[{\"type\":\"mesh3d\",\"colorbar\":{\"outlinewidth\":0,\"ticks\":\"\"}}],\"scatter\":[{\"fillpattern\":{\"fillmode\":\"overlay\",\"size\":10,\"solidity\":0.2},\"type\":\"scatter\"}],\"parcoords\":[{\"type\":\"parcoords\",\"line\":{\"colorbar\":{\"outlinewidth\":0,\"ticks\":\"\"}}}],\"scatterpolargl\":[{\"type\":\"scatterpolargl\",\"marker\":{\"colorbar\":{\"outlinewidth\":0,\"ticks\":\"\"}}}],\"bar\":[{\"error_x\":{\"color\":\"#2a3f5f\"},\"error_y\":{\"color\":\"#2a3f5f\"},\"marker\":{\"line\":{\"color\":\"#E5ECF6\",\"width\":0.5},\"pattern\":{\"fillmode\":\"overlay\",\"size\":10,\"solidity\":0.2}},\"type\":\"bar\"}],\"scattergeo\":[{\"type\":\"scattergeo\",\"marker\":{\"colorbar\":{\"outlinewidth\":0,\"ticks\":\"\"}}}],\"scatterpolar\":[{\"type\":\"scatterpolar\",\"marker\":{\"colorbar\":{\"outlinewidth\":0,\"ticks\":\"\"}}}],\"histogram\":[{\"marker\":{\"pattern\":{\"fillmode\":\"overlay\",\"size\":10,\"solidity\":0.2}},\"type\":\"histogram\"}],\"scattergl\":[{\"type\":\"scattergl\",\"marker\":{\"colorbar\":{\"outlinewidth\":0,\"ticks\":\"\"}}}],\"scatter3d\":[{\"type\":\"scatter3d\",\"line\":{\"colorbar\":{\"outlinewidth\":0,\"ticks\":\"\"}},\"marker\":{\"colorbar\":{\"outlinewidth\":0,\"ticks\":\"\"}}}],\"scattermapbox\":[{\"type\":\"scattermapbox\",\"marker\":{\"colorbar\":{\"outlinewidth\":0,\"ticks\":\"\"}}}],\"scatterternary\":[{\"type\":\"scatterternary\",\"marker\":{\"colorbar\":{\"outlinewidth\":0,\"ticks\":\"\"}}}],\"scattercarpet\":[{\"type\":\"scattercarpet\",\"marker\":{\"colorbar\":{\"outlinewidth\":0,\"ticks\":\"\"}}}],\"carpet\":[{\"aaxis\":{\"endlinecolor\":\"#2a3f5f\",\"gridcolor\":\"white\",\"linecolor\":\"white\",\"minorgridcolor\":\"white\",\"startlinecolor\":\"#2a3f5f\"},\"baxis\":{\"endlinecolor\":\"#2a3f5f\",\"gridcolor\":\"white\",\"linecolor\":\"white\",\"minorgridcolor\":\"white\",\"startlinecolor\":\"#2a3f5f\"},\"type\":\"carpet\"}],\"table\":[{\"cells\":{\"fill\":{\"color\":\"#EBF0F8\"},\"line\":{\"color\":\"white\"}},\"header\":{\"fill\":{\"color\":\"#C8D4E3\"},\"line\":{\"color\":\"white\"}},\"type\":\"table\"}],\"barpolar\":[{\"marker\":{\"line\":{\"color\":\"#E5ECF6\",\"width\":0.5},\"pattern\":{\"fillmode\":\"overlay\",\"size\":10,\"solidity\":0.2}},\"type\":\"barpolar\"}],\"pie\":[{\"automargin\":true,\"type\":\"pie\"}]},\"layout\":{\"autotypenumbers\":\"strict\",\"colorway\":[\"#636efa\",\"#EF553B\",\"#00cc96\",\"#ab63fa\",\"#FFA15A\",\"#19d3f3\",\"#FF6692\",\"#B6E880\",\"#FF97FF\",\"#FECB52\"],\"font\":{\"color\":\"#2a3f5f\"},\"hovermode\":\"closest\",\"hoverlabel\":{\"align\":\"left\"},\"paper_bgcolor\":\"white\",\"plot_bgcolor\":\"#E5ECF6\",\"polar\":{\"bgcolor\":\"#E5ECF6\",\"angularaxis\":{\"gridcolor\":\"white\",\"linecolor\":\"white\",\"ticks\":\"\"},\"radialaxis\":{\"gridcolor\":\"white\",\"linecolor\":\"white\",\"ticks\":\"\"}},\"ternary\":{\"bgcolor\":\"#E5ECF6\",\"aaxis\":{\"gridcolor\":\"white\",\"linecolor\":\"white\",\"ticks\":\"\"},\"baxis\":{\"gridcolor\":\"white\",\"linecolor\":\"white\",\"ticks\":\"\"},\"caxis\":{\"gridcolor\":\"white\",\"linecolor\":\"white\",\"ticks\":\"\"}},\"coloraxis\":{\"colorbar\":{\"outlinewidth\":0,\"ticks\":\"\"}},\"colorscale\":{\"sequential\":[[0.0,\"#0d0887\"],[0.1111111111111111,\"#46039f\"],[0.2222222222222222,\"#7201a8\"],[0.3333333333333333,\"#9c179e\"],[0.4444444444444444,\"#bd3786\"],[0.5555555555555556,\"#d8576b\"],[0.6666666666666666,\"#ed7953\"],[0.7777777777777778,\"#fb9f3a\"],[0.8888888888888888,\"#fdca26\"],[1.0,\"#f0f921\"]],\"sequentialminus\":[[0.0,\"#0d0887\"],[0.1111111111111111,\"#46039f\"],[0.2222222222222222,\"#7201a8\"],[0.3333333333333333,\"#9c179e\"],[0.4444444444444444,\"#bd3786\"],[0.5555555555555556,\"#d8576b\"],[0.6666666666666666,\"#ed7953\"],[0.7777777777777778,\"#fb9f3a\"],[0.8888888888888888,\"#fdca26\"],[1.0,\"#f0f921\"]],\"diverging\":[[0,\"#8e0152\"],[0.1,\"#c51b7d\"],[0.2,\"#de77ae\"],[0.3,\"#f1b6da\"],[0.4,\"#fde0ef\"],[0.5,\"#f7f7f7\"],[0.6,\"#e6f5d0\"],[0.7,\"#b8e186\"],[0.8,\"#7fbc41\"],[0.9,\"#4d9221\"],[1,\"#276419\"]]},\"xaxis\":{\"gridcolor\":\"white\",\"linecolor\":\"white\",\"ticks\":\"\",\"title\":{\"standoff\":15},\"zerolinecolor\":\"white\",\"automargin\":true,\"zerolinewidth\":2},\"yaxis\":{\"gridcolor\":\"white\",\"linecolor\":\"white\",\"ticks\":\"\",\"title\":{\"standoff\":15},\"zerolinecolor\":\"white\",\"automargin\":true,\"zerolinewidth\":2},\"scene\":{\"xaxis\":{\"backgroundcolor\":\"#E5ECF6\",\"gridcolor\":\"white\",\"linecolor\":\"white\",\"showbackground\":true,\"ticks\":\"\",\"zerolinecolor\":\"white\",\"gridwidth\":2},\"yaxis\":{\"backgroundcolor\":\"#E5ECF6\",\"gridcolor\":\"white\",\"linecolor\":\"white\",\"showbackground\":true,\"ticks\":\"\",\"zerolinecolor\":\"white\",\"gridwidth\":2},\"zaxis\":{\"backgroundcolor\":\"#E5ECF6\",\"gridcolor\":\"white\",\"linecolor\":\"white\",\"showbackground\":true,\"ticks\":\"\",\"zerolinecolor\":\"white\",\"gridwidth\":2}},\"shapedefaults\":{\"line\":{\"color\":\"#2a3f5f\"}},\"annotationdefaults\":{\"arrowcolor\":\"#2a3f5f\",\"arrowhead\":0,\"arrowwidth\":1},\"geo\":{\"bgcolor\":\"white\",\"landcolor\":\"#E5ECF6\",\"subunitcolor\":\"white\",\"showland\":true,\"showlakes\":true,\"lakecolor\":\"white\"},\"title\":{\"x\":0.05},\"mapbox\":{\"style\":\"light\"}}},\"title\":{\"font\":{\"size\":24,\"color\":\"#ffffff\"},\"text\":\"Minnesota Timberwolves 2022-2023 RS \",\"x\":0.5,\"y\":0.99},\"yaxis\":{\"title\":{\"font\":{\"size\":16,\"color\":\"#ffffff\"},\"text\":\"Normalized Value\"},\"tickfont\":{\"color\":\"#ffffff\"},\"gridcolor\":\"rgba(255, 255, 255, 0.1)\",\"showgrid\":false,\"zeroline\":true,\"zerolinecolor\":\"rgba(255, 255, 255, 0.1)\",\"range\":[-0.1,1.1],\"tickformat\":\".2f\",\"tickmode\":\"linear\",\"tick0\":0,\"dtick\":0.2,\"showticklabels\":false},\"xaxis\":{\"tickfont\":{\"color\":\"#ffffff\",\"size\":20},\"gridcolor\":\"rgba(255, 255, 255, 0.1)\",\"categoryorder\":\"array\",\"categoryarray\":[\"Points\",\"Opp Points\",\"FTA\",\"3P%\",\"Rim Freq\",\"EFG%\",\"Rim%\",\"TOV%\",\"DREB%\",\"OREB%\"],\"tickangle\":-45},\"legend\":{\"font\":{\"color\":\"#ffffff\",\"size\":20},\"bgcolor\":\"#1a1a1a\",\"bordercolor\":\"#1a1a1a\",\"borderwidth\":1,\"orientation\":\"h\",\"yanchor\":\"bottom\",\"y\":1.025,\"xanchor\":\"center\",\"x\":0.5},\"margin\":{\"t\":80,\"b\":80},\"width\":1600,\"height\":1000,\"showlegend\":true,\"plot_bgcolor\":\"#1a1a1a\",\"paper_bgcolor\":\"#1a1a1a\",\"hovermode\":\"closest\"},                        {\"responsive\": true}                    ).then(function(){\n",
       "                            \n",
       "var gd = document.getElementById('c605fbb8-56ef-4763-a78f-f08a13015770');\n",
       "var x = new MutationObserver(function (mutations, observer) {{\n",
       "        var display = window.getComputedStyle(gd).display;\n",
       "        if (!display || display === 'none') {{\n",
       "            console.log([gd, 'removed!']);\n",
       "            Plotly.purge(gd);\n",
       "            observer.disconnect();\n",
       "        }}\n",
       "}});\n",
       "\n",
       "// Listen for the removal of the full notebook cells\n",
       "var notebookContainer = gd.closest('#notebook-container');\n",
       "if (notebookContainer) {{\n",
       "    x.observe(notebookContainer, {childList: true});\n",
       "}}\n",
       "\n",
       "// Listen for the clearing of the current output cell\n",
       "var outputEl = gd.closest('.output');\n",
       "if (outputEl) {{\n",
       "    x.observe(outputEl, {childList: true});\n",
       "}}\n",
       "\n",
       "                        })                };                });            </script>        </div>"
      ]
     },
     "metadata": {},
     "output_type": "display_data"
    }
   ],
   "source": [
    "\n",
    "vs=False\n",
    "ps=False\n",
    "start_year=2024\n",
    "end_year=2024\n",
    "#players_on=['2544','951','2547']\n",
    "players_on=[]\n",
    "#players_on=['203076','2544']\n",
    "players_off=[]\n",
    "\n",
    "#players_off=['2548']\n",
    "\n",
    "team='MIN'\n",
    "def graph_lineupsplits(start_year,end_year,players_on,players_off,team,vs,ps):\n",
    "    team_id=team_dict(team)\n",
    "    print(team_id)\n",
    "    row=player_rows(start_year,end_year,players_on,players_off,team_id ,vs=vs)\n",
    "    teams = team_averages(start_year,end_year,vs=vs,ps=ps)\n",
    "    print(teams[['Points','Name']])\n",
    "    row = trim_frame(row)\n",
    "    \n",
    "    teams=trim_frame(teams)\n",
    "    row['team']=team\n",
    "    teams['team']=teams['Name']\n",
    "    \n",
    "    row['lineup_row']=1\n",
    "\n",
    "    teams['lineup_row']=0\n",
    "    print(teams[['Points','Name']])\n",
    "    \n",
    "    data=pd.concat([teams,row])\n",
    "    columns = [\n",
    "                'Points', 'Opp Points', 'FTA',\n",
    "                '3P%',\n",
    "                'Rim Freq', 'EFG%',\n",
    "                'Rim%',  'TOV%',\n",
    "              \n",
    "                'DREB%', 'OREB%']\n",
    "    exclude=['Points', 'Opp Points',  '3P Assists','Rim Assists','FTA']\n",
    "    for col in columns:\n",
    "        if col not in exclude:\n",
    "            data[col]*=100\n",
    "    fig = create_nba_beeswarm(team,start_year,end_year,data,categories=columns,vs=vs,ps=ps)\n",
    "   \n",
    "    return fig\n",
    "fig= graph_lineupsplits(start_year,end_year,players_on,players_off,team,vs,ps)\n",
    "\n",
    "fig.show()\n"
   ]
  },
  {
   "cell_type": "code",
   "execution_count": 3,
   "id": "715b21f8-9d09-4d10-91ac-f47dee186366",
   "metadata": {},
   "outputs": [
    {
     "data": {
      "text/plain": [
       "{'SYR': '1610612755',\n",
       " 'PHW': '1610612744',\n",
       " 'NYK': '1610612752',\n",
       " 'STL': '1610612737',\n",
       " 'ROC': '1610612758',\n",
       " 'BOS': '1610612738',\n",
       " 'FTW': '1610612765',\n",
       " 'MNL': '1610612747',\n",
       " 'TOT': 'TOT',\n",
       " 'DET': '1610612765',\n",
       " 'CIN': '1610612758',\n",
       " 'LAL': '1610612747',\n",
       " 'CHP': '1610612741',\n",
       " 'SFW': '1610612744',\n",
       " 'CHZ': '1610612741',\n",
       " 'BAL': '1610612764',\n",
       " 'PHI': '1610612755',\n",
       " 'CHI': '1610612741',\n",
       " 'SDR': '1610612745',\n",
       " 'SEA': '1610612760',\n",
       " 'MIL': '1610612749',\n",
       " 'ATL': '1610612737',\n",
       " 'PHO': '1610612756',\n",
       " 'POR': '1610612757',\n",
       " 'CLE': '1610612739',\n",
       " 'BUF': '1610612761',\n",
       " 'HOU': '1610612745',\n",
       " 'GSW': '1610612744',\n",
       " 'KCO': '1610612758',\n",
       " 'CAP': '1610612764',\n",
       " 'NOJ': '1610612762',\n",
       " 'WSB': '1610612764',\n",
       " 'KCK': '1610612758',\n",
       " 'IND': '1610612754',\n",
       " 'NYN': '1610612751',\n",
       " 'DEN': '1610612743',\n",
       " 'SAS': '1610612759',\n",
       " 'NJN': '1610612751',\n",
       " 'SDC': '1610612746',\n",
       " 'UTA': '1610612762',\n",
       " 'DAL': '1610612742',\n",
       " 'LAC': '1610612746',\n",
       " 'SAC': '1610612758',\n",
       " 'CHH': '1610612766',\n",
       " 'MIA': '1610612748',\n",
       " 'ORL': '1610612753',\n",
       " 'MIN': '1610612750',\n",
       " 'VAN': '1610612763',\n",
       " 'TOR': '1610612761',\n",
       " 'WAS': '1610612764',\n",
       " 'MEM': '1610612763',\n",
       " 'NOH': '1610612740',\n",
       " 'CHA': '1610612766',\n",
       " 'NOK': '1610612740',\n",
       " 'OKC': '1610612760',\n",
       " 'BRK': '1610612751',\n",
       " 'NOP': '1610612740',\n",
       " 'CHO': '1610612766',\n",
       " 'PHX': '1610612756'}"
      ]
     },
     "execution_count": 3,
     "metadata": {},
     "output_type": "execute_result"
    }
   ],
   "source": [
    "\n",
    "\n",
    "df = pd.read_csv('index_master.csv')\n",
    "\n",
    "teammap=dict(zip(df['team'],df['team_id']))\n",
    "teammap\n",
    "teammap['CHA']=teammap['CHO']\n",
    "teammap['PHX']=teammap['PHO']\n",
    "teammap"
   ]
  },
  {
   "cell_type": "code",
   "execution_count": null,
   "id": "90e64111-bfa0-457c-aee0-73e7cbe5ec45",
   "metadata": {},
   "outputs": [],
   "source": []
  }
 ],
 "metadata": {
  "kernelspec": {
   "display_name": "Python 3 (ipykernel)",
   "language": "python",
   "name": "python3"
  },
  "language_info": {
   "codemirror_mode": {
    "name": "ipython",
    "version": 3
   },
   "file_extension": ".py",
   "mimetype": "text/x-python",
   "name": "python",
   "nbconvert_exporter": "python",
   "pygments_lexer": "ipython3",
   "version": "3.10.12"
  }
 },
 "nbformat": 4,
 "nbformat_minor": 5
}
