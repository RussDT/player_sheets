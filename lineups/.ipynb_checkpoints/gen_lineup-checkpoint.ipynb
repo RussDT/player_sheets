{
 "cells": [
  {
   "cell_type": "code",
   "execution_count": 3,
   "id": "5d184551-ddf0-4254-be51-8f0cb191e984",
   "metadata": {},
   "outputs": [],
   "source": [
    "import pandas as pd\n",
    "import pandas as pd\n",
    "import numpy as np\n",
    "from nba_api.stats.static import players\n",
    "from plotly.colors import qualitative\n",
    "\n",
    "import time \n",
    "import plotly.graph_objects as go\n",
    "import pandas as pd\n",
    "import numpy as np\n",
    "from sklearn.preprocessing import MinMaxScaler\n",
    "import json\n",
    "def get_colors():\n",
    "    path = 'colors.json'\n",
    "    f = open(path)\n",
    "\n",
    "    # returns JSON object as \n",
    "    # a dictionary\n",
    "    data = json.load(f)\n",
    "    team_colors = {}\n",
    "    for team in data:\n",
    "        obj = data[team]\n",
    "        color = obj['mainColor']\n",
    "        color_hex = obj['colors'][color]['hex']\n",
    "        team_colors[team]=color_hex\n",
    "    team_colors['PHX']= '#e56020',\n",
    "    second_colors = {}\n",
    "    for team in data:\n",
    "        obj = data[team]\n",
    "        color = obj['secondaryColor']\n",
    "        color_hex = obj['colors'][color]['hex']\n",
    "        second_colors[team]=color_hex\n",
    "    second_colors['PHX']= '#1d1160',\n",
    "\n",
    "    temp = team_colors['BKN']\n",
    "\n",
    "    team_colors['BKN'] = second_colors['BKN']\n",
    "    second_colors['BKN'] = temp\n",
    "    return team_colors,second_colors\n",
    "\n",
    "def team_dict(team):\n",
    "\n",
    "    map={'SYR': '1610612755',\n",
    "     'PHW': '1610612744',\n",
    "     'NYK': '1610612752',\n",
    "     'STL': '1610612737',\n",
    "     'ROC': '1610612758',\n",
    "     'BOS': '1610612738',\n",
    "     'FTW': '1610612765',\n",
    "     'MNL': '1610612747',\n",
    "     'TOT': 'TOT',\n",
    "     'DET': '1610612765',\n",
    "     'CIN': '1610612758',\n",
    "     'LAL': '1610612747',\n",
    "     'CHP': '1610612741',\n",
    "     'SFW': '1610612744',\n",
    "     'CHZ': '1610612741',\n",
    "     'BAL': '1610612764',\n",
    "     'PHI': '1610612755',\n",
    "     'CHI': '1610612741',\n",
    "     'SDR': '1610612745',\n",
    "     'SEA': '1610612760',\n",
    "     'MIL': '1610612749',\n",
    "     'ATL': '1610612737',\n",
    "     'PHO': '1610612756',\n",
    "     'POR': '1610612757',\n",
    "     'CLE': '1610612739',\n",
    "     'BUF': '1610612761',\n",
    "     'HOU': '1610612745',\n",
    "     'GSW': '1610612744',\n",
    "     'KCO': '1610612758',\n",
    "     'CAP': '1610612764',\n",
    "     'NOJ': '1610612762',\n",
    "     'WSB': '1610612764',\n",
    "     'KCK': '1610612758',\n",
    "     'IND': '1610612754',\n",
    "     'NYN': '1610612751',\n",
    "     'DEN': '1610612743',\n",
    "     'SAS': '1610612759',\n",
    "     'NJN': '1610612751',\n",
    "     'SDC': '1610612746',\n",
    "     'UTA': '1610612762',\n",
    "     'DAL': '1610612742',\n",
    "     'LAC': '1610612746',\n",
    "     'SAC': '1610612758',\n",
    "     'CHH': '1610612766',\n",
    "     'MIA': '1610612748',\n",
    "     'ORL': '1610612753',\n",
    "     'MIN': '1610612750',\n",
    "     'VAN': '1610612763',\n",
    "     'TOR': '1610612761',\n",
    "     'WAS': '1610612764',\n",
    "     'MEM': '1610612763',\n",
    "     'NOH': '1610612740',\n",
    "     'CHA': '1610612766',\n",
    "     'NOK': '1610612740',\n",
    "     'OKC': '1610612760',\n",
    "     'BRK': '1610612751',\n",
    "     'NOP': '1610612740',\n",
    "     'CHO': '1610612766',\n",
    "     'PHX': '1610612756'}\n",
    "    return map[team]\n",
    "\n",
    "def calculate_basketball_percentages(df):\n",
    "    \"\"\"\n",
    "    Calculate basketball percentage statistics from raw totals.\n",
    "    \n",
    "    Args:\n",
    "        df (pandas.DataFrame): DataFrame containing the raw totals columns\n",
    "        \n",
    "    Returns:\n",
    "        pandas.DataFrame: DataFrame with added percentage columns\n",
    "    \"\"\"\n",
    "    # Make a copy to avoid modifying the original\n",
    "    result = df.copy()\n",
    "    \n",
    "    # Basic shooting percentages\n",
    "    result['Fg3Pct'] = (result['FG3M'] / result['FG3A'] * 1).fillna(0)\n",
    "    result['Fg2Pct'] = (result['FG2M'] / result['FG2A'] * 1).fillna(0)\n",
    "    result['FGA'] = (result['FG2A'] + result['FG3A'])\n",
    "    result['PenaltyFGA'] = (result['PenaltyFG2A'] + result['PenaltyFG3A'])\n",
    "    result['SecondChanceFGA'] = (result['SecondChanceFG2A'] + result['SecondChanceFG3A'])\n",
    "\n",
    "    result['FGA']= result['FG2A']+result['FG3A']\n",
    "    result['FGM']= result['FG2M']+result['FG3M']\n",
    "    result['NonHeaveFg3Pct'] = (result['FG3M'] / (result['FG3A']-result['HeaveAttempts']) * 1).fillna(0)\n",
    "    \n",
    "    # Advanced shooting percentages\n",
    "    result['EfgPct'] = ((result['FG2M'] + 1.5 * result['FG3M']) / (result['FG2A'] + result['FG3A']) * 1).fillna(0)\n",
    "    # Assuming you have a DataFrame named result with the necessary columns\n",
    "    \n",
    "    # Step 1: Extract relevant columns for easier calculations\n",
    "    points = result['Points']\n",
    "    fga = result['FGA']\n",
    "    fta = result['FTA']\n",
    "    and1_2pt = result['2pt And 1 Free Throw Trips']\n",
    "    and1_3pt = result['3pt And 1 Free Throw Trips']\n",
    "    \n",
    "    # Step 2: Calculate the adjusted free throw weighting factor\n",
    "    w = (and1_2pt + 1.5 * and1_3pt + 0.44 * (fta - and1_2pt - and1_3pt)) / fta\n",
    "    \n",
    "    # Step 3: Calculate True Shooting Percentage (TS%) and add to result DataFrame\n",
    "    result['TsPct'] = points / (2 * (fga + w * fta))\n",
    "    \n",
    "    # The 'TS%' column in the result DataFrame now contains the calculated TS% values\n",
    "\n",
    "    #result['TsPct'] = (result['Points'] / (2 * (result['FG2A'] + result['FG3A'] + 0.44 * result['FTA'])) * 1).fillna(0)\n",
    "    \n",
    "    # Second chance percentages\n",
    "    result['SecondChanceFg3Pct'] = (result['SecondChanceFG3M'] / result['SecondChanceFG3A'] * 1).fillna(0)\n",
    "    result['SecondChanceFg2Pct'] = (result['SecondChanceFG2M'] / result['SecondChanceFG2A'] * 1).fillna(0)\n",
    "    result['SecondChanceEfgPct'] = ((result['SecondChanceFG2M'] + 1.5 * result['SecondChanceFG3M']) / \n",
    "                                   (result['SecondChanceFG2A'] + result['SecondChanceFG3A']) * 1).fillna(0)\n",
    "    result['SecondChanceTsPct'] = (result['SecondChancePoints'] / \n",
    "                                  (2 * (result['SecondChanceFG2A'] + result['SecondChanceFG3A'])) * 1).fillna(0)\n",
    "\n",
    "    \n",
    "    result['SecondChancePointsPct'] = (result['SecondChancePoints'] / result['Points'] * 1).fillna(0)\n",
    "    \n",
    "    # Shot distribution\n",
    "    result['FG3APct'] = (result['FG3A'] / (result['FG2A'] + result['FG3A']) * 1).fillna(0)\n",
    "    \n",
    "    result['FG2APctBlocked'] = (result['Fg2aBlocked'] / result['FG2A'] * 1).fillna(0)\n",
    "    result['AtRimPctBlocked'] = (result['opp_BlockedAtRim'] / result['AtRimFGA'] * 1).fillna(0)\n",
    "    result['LongMidRangePctBlocked'] = (result['opp_BlockedLongMidRange'] / result['LongMidRangeFGA'] * 1).fillna(0)\n",
    "    result['ShortMidRangePctBlocked'] = (result['opp_BlockedShortMidRange'] / result['ShortMidRangeFGA'] * 1).fillna(0)\n",
    "    result['FG3APctBlocked'] = (result['Fg3aBlocked'] / result['FG3A'] * 1).fillna(0)\n",
    "    result['Corner3PctBlocked'] = (result['Blocked3s'] / result['Corner3FGA'] * 1).fillna(0)\n",
    "    result['Arc3PctBlocked'] = (result['Blocked3s'] / result['Arc3FGA'] * 1).fillna(0)\n",
    "    \n",
    "    # Rebound percentages - Field Goals (corrected to be relative to missed shots)\n",
    "    result['DefFGReboundPct'] = (result['DefRebounds'] / (result['opp_FG2A'] - result['opp_FG2M'] + result['opp_FG3A'] - result['opp_FG3M']) * 1).fillna(0)\n",
    "    result['OffFGReboundPct'] = (result['OffRebounds'] / (result['FG2A'] - result['FG2M'] + result['FG3A'] - result['FG3M']) * 1).fillna(0)\n",
    "    \n",
    "    # Rebound percentages by shot location (corrected to be relative to missed shots of that type)\n",
    "    result['OffLongMidRangeReboundPct'] = (result['OffTwoPtRebounds'] / (result['LongMidRangeFGA'] - result['LongMidRangeFGM']) * 1).fillna(0)\n",
    "    result['DefLongMidRangeReboundPct'] = (result['DefTwoPtRebounds'] / (result['LongMidRangeFGA'] - result['LongMidRangeFGM']) * 1).fillna(0)\n",
    "    result['DefArc3ReboundPct'] = (result['DefThreePtRebounds'] / (result['Arc3FGA'] - result['Arc3FGM']) * 1).fillna(0)\n",
    "    result['OffArc3ReboundPct'] = (result['OffThreePtRebounds'] / (result['Arc3FGA'] - result['Arc3FGM']) * 1).fillna(0)\n",
    "    result['DefAtRimReboundPct'] = (result['DefTwoPtRebounds'] / (result['AtRimFGA'] - result['AtRimFGM']) * 1).fillna(0)\n",
    "    result['OffAtRimReboundPct'] = (result['OffTwoPtRebounds'] / (result['AtRimFGA'] - result['AtRimFGM']) * 1).fillna(0)\n",
    "    result['DefShortMidRangeReboundPct'] = (result['DefTwoPtRebounds'] / (result['ShortMidRangeFGA'] - result['ShortMidRangeFGM']) * 1).fillna(0)\n",
    "    result['OffShortMidRangeReboundPct'] = (result['OffTwoPtRebounds'] / (result['ShortMidRangeFGA'] - result['ShortMidRangeFGM']) * 1).fillna(0)\n",
    "    result['DefCorner3ReboundPct'] = (result['DefThreePtRebounds'] / (result['Corner3FGA'] - result['Corner3FGM']) * 1).fillna(0)\n",
    "    result['OffCorner3ReboundPct'] = (result['OffThreePtRebounds'] / (result['Corner3FGA'] - result['Corner3FGM']) * 1).fillna(0)\n",
    "    \n",
    "    # Free throw rebound percentages (corrected to be relative to FT misses)\n",
    "\n",
    "    # Assist percentages\n",
    "    result['Assisted2sPct'] = (result['PtsAssisted2s'] / (2 * result['FG2M']) * 1).fillna(0)\n",
    "    result['Assisted3sPct'] = (result['PtsAssisted3s'] / (3 * result['FG3M']) * 1).fillna(0)\n",
    "    result['NonPutbacksAssisted2sPct'] = (result['PtsAssisted2s'] / (2 * (result['FG2M'] - result['PtsPutbacks']/2)) * 1).fillna(0)\n",
    "    result['Corner3PctAssisted'] = (result['Corner3Assists'] / result['Corner3FGM'] * 1).fillna(0)\n",
    "    result['Arc3PctAssisted'] = (result['Arc3Assists'] / result['Arc3FGM'] * 1).fillna(0)\n",
    "    result['SecondChanceCorner3PctAssisted'] = (result['Corner3Assists'] / result['SecondChanceCorner3FGM'] * 1).fillna(0)\n",
    "    result['SecondChanceArc3PctAssisted'] = (result['Arc3Assists'] / result['SecondChanceArc3FGM'] * 1).fillna(0)\n",
    "    result['SecondChanceAtRimPctAssisted'] = (result['AtRimAssists'] / result['SecondChanceAtRimFGM'] * 1).fillna(0)\n",
    "    result['AtRimPctAssisted'] = (result['AtRimAssists'] / result['AtRimFGM'] * 1).fillna(0)\n",
    "    result['ShortMidRangePctAssisted'] = (result['ShortMidRangeAssists'] / result['ShortMidRangeFGM'] * 1).fillna(0)\n",
    "    result['LongMidRangePctAssisted'] = (result['LongMidRangeAssists'] / result['LongMidRangeFGM'] * 1).fillna(0)\n",
    "    \n",
    "    # Penalty percentages\n",
    "    result['PenaltyPointsPct'] = (result['PenaltyPoints'] / result['Points'] * 1).fillna(0)\n",
    "    result['PenaltyOffPossPct'] = (result['PenaltyOffPoss'] / result['OffPoss'] * 1).fillna(0)\n",
    "    result['PenaltyFg2Pct'] = (result['PenaltyFG2M'] / result['PenaltyFG2A'] * 1).fillna(0)\n",
    "    result['PenaltyFg3Pct'] = (result['PenaltyFG3M'] / result['PenaltyFG3A'] * 1).fillna(0)\n",
    "    result['PenaltyEfgPct'] = ((result['PenaltyFG2M'] + 1.5 * result['PenaltyFG3M']) / \n",
    "                              (result['PenaltyFG2A'] + result['PenaltyFG3A']) * 1).fillna(0)\n",
    "    result['PenaltyTsPct'] = (result['PenaltyPoints'] / \n",
    "                             (2 * (result['PenaltyFG2A'] + result['PenaltyFG3A'] + 0.44 * result['FTA'])) * 1).fillna(0)\n",
    "    \n",
    "    # Miscellaneous percentages\n",
    "    result['BlocksRecoveredPct'] = (result['RecoveredBlocks'] / result['Blocks'] * 1).fillna(0)\n",
    "    result['LiveBallTurnoverPct'] = (result['LiveBallTurnovers'] / result['Turnovers'] * 1).fillna(0)\n",
    "    result['SelfORebPct'] = (result['SelfOReb'] /(result['FGA']- result['FGM']) * 1).fillna(0)\n",
    "    \n",
    "    # Fouls percentages\n",
    "    total_shooting_fouls = result['TwoPtShootingFoulsDrawn'] + result['ThreePtShootingFoulsDrawn']\n",
    "    result['ShootingFoulsDrawnPct'] = (result['ShootingFouls'] / (result['FG2A']+result['FG3A']) * 1).fillna(0)\n",
    "    result['TwoPtShootingFoulsDrawnPct'] = ((result['TwoPtShootingFoulsDrawn'])/ (result['FG2A']+result['2pt And 1 Free Throw Trips'])* 1).fillna(0)\n",
    "    result['ThreePtShootingFoulsDrawnPct'] = (result['ThreePtShootingFoulsDrawn'] / result['FG3A'] * 1).fillna(0)\n",
    "    total_def_rebounds = result['DefTwoPtRebounds'] + result['DefThreePtRebounds']\n",
    "    total_off_rebounds = result['OffTwoPtRebounds'] + result['OffThreePtRebounds']\n",
    "    result['ThreePtShootingFoulsDrawnPct'] = result['ThreePtShootingFoulsDrawn'] / result['FG3A'] * 1\n",
    "    \n",
    "    result['DefTwoPtReboundPct'] = (result['DefTwoPtRebounds'] / total_def_rebounds * 1).fillna(0)\n",
    "    result['DefThreePtReboundPct'] = (result['DefThreePtRebounds'] / total_def_rebounds * 1).fillna(0)\n",
    "    result['OffTwoPtReboundPct'] = (result['OffTwoPtRebounds'] /(result['FG2A']-result['FG2M']) * 1).fillna(0)\n",
    "    result['OffThreePtReboundPct'] = (result['OffThreePtRebounds'] / total_off_rebounds * 1).fillna(0)\n",
    "    \n",
    "    result['OffFTReboundPct']=(result['FTOffRebounds']/(result['opp_FTDefRebounds']+result['FTOffRebounds']))\n",
    "\n",
    "    result['DefFTReboundPct']=(result['FTDefRebounds']/(result['opp_FTOffRebounds']+result['FTDefRebounds']))\n",
    "    result['AtRimFrequency'] = result['AtRimFGA'] / result['FGA']\n",
    "    result['ShortMidRangeFrequency'] = result['ShortMidRangeFGA'] / result['FGA']\n",
    "    result['LongMidRangeFrequency'] = result['LongMidRangeFGA'] / result['FGA']\n",
    "    result['Corner3Frequency'] = result['Corner3FGA'] / result['FGA']\n",
    "    result['Arc3Frequency'] = result['Arc3FGA'] / result['FGA']\n",
    "    result['SecondChanceArc3Frequency'] = result['SecondChanceArc3FGA'] / result['SecondChanceFGA']\n",
    "    result['AtRimFG3AFrequency'] = (result['AtRimFGA'] + result['FG3A']) / result['FGA']\n",
    "    result['SecondChanceAtRimFrequency'] = result['SecondChanceAtRimFGA'] / result['SecondChanceFGA']\n",
    "    result['SecondChanceCorner3Frequency'] = result['SecondChanceCorner3FGA'] / result['SecondChanceFGA']\n",
    "    result['PenaltyAtRimFrequency'] = result['PenaltyAtRimFGA'] / result['PenaltyFGA']\n",
    "    result['PenaltyArc3Frequency'] = result['PenaltyArc3FGA'] / result['PenaltyFGA']\n",
    "    result['PenaltyCorner3Frequency'] = result['PenaltyCorner3FGA'] / result['PenaltyFGA']\n",
    "    # Calculating accuracy metrics\n",
    "    result['AtRimAccuracy'] = result['AtRimFGM'] / result['AtRimFGA']\n",
    "    result['UnblockedAtRimAccuracy'] = (result['AtRimFGM'] - result['Fg2aBlocked']) / result['AtRimFGA']\n",
    "    \n",
    "    result['ShortMidRangeAccuracy'] = result['ShortMidRangeFGM'] / result['ShortMidRangeFGA']\n",
    "    result['UnblockedShortMidRangeAccuracy'] = (result['ShortMidRangeFGM'] - result['Fg2aBlocked']) / result['ShortMidRangeFGA']\n",
    "    \n",
    "    result['LongMidRangeAccuracy'] = result['LongMidRangeFGM'] / result['LongMidRangeFGA']\n",
    "    result['UnblockedLongMidRangeAccuracy'] = (result['LongMidRangeFGM'] - result['Fg2aBlocked']) / result['LongMidRangeFGA']\n",
    "    \n",
    "    result['Corner3Accuracy'] = result['Corner3FGM'] / result['Corner3FGA']\n",
    "    result['UnblockedCorner3Accuracy'] = (result['Corner3FGM'] - result['Fg3aBlocked']) / result['Corner3FGA']\n",
    "    \n",
    "    result['Arc3Accuracy'] = result['Arc3FGM'] / result['Arc3FGA']\n",
    "    result['UnblockedArc3Accuracy'] = (result['Arc3FGM'] - result['Fg3aBlocked']) / result['Arc3FGA']\n",
    "    \n",
    "    # Second-chance accuracy metrics\n",
    "    result['SecondChanceAtRimAccuracy'] = result['SecondChanceAtRimFGM'] / result['SecondChanceAtRimFGA']\n",
    "    result['SecondChanceCorner3Accuracy'] = result['SecondChanceCorner3FGM'] / result['SecondChanceCorner3FGA']\n",
    "    result['SecondChanceArc3Accuracy'] = result['SecondChanceArc3FGM'] / result['SecondChanceArc3FGA']\n",
    "    \n",
    "    # Penalty accuracy metrics\n",
    "    result['PenaltyAtRimAccuracy'] = result['PenaltyAtRimFGM'] / result['PenaltyAtRimFGA']\n",
    "    result['PenaltyCorner3Accuracy'] = result['PenaltyCorner3FGM'] / result['PenaltyCorner3FGA']\n",
    "    result['PenaltyArc3Accuracy'] = result['PenaltyArc3FGM'] / result['PenaltyArc3FGA']\n",
    "    \n",
    "    # Non-heave accuracy metric\n",
    "    result['NonHeaveArc3Accuracy'] = result['NonHeaveArc3FGM'] / result['NonHeaveArc3FGA']\n",
    "\n",
    "\n",
    "    return result\n",
    "\n",
    "def calculate_weighted_average(df, value_col, weight_col, group_by=None):\n",
    "    \"\"\"\n",
    "    Calculate weighted average of a value column based on a weight column.\n",
    "    \n",
    "    Parameters:\n",
    "    -----------\n",
    "    df : pandas.DataFrame\n",
    "        Input dataframe\n",
    "    value_col : str\n",
    "        Name of the column containing the values to average\n",
    "    weight_col : str\n",
    "        Name of the column containing the weights\n",
    "    group_by : str or list, optional\n",
    "        Column(s) to group by before calculating weighted average\n",
    "        \n",
    "    Returns:\n",
    "    --------\n",
    "    If group_by is None: returns a float (weighted average)\n",
    "    If group_by is specified: returns a Series with weighted averages per group\n",
    "    \n",
    "    Examples:\n",
    "    --------\n",
    "    # Single weighted average\n",
    "    df = pd.DataFrame({\n",
    "        'value': [10, 20, 30],\n",
    "        'weight': [1, 2, 3]\n",
    "    })\n",
    "    result = calculate_weighted_average(df, 'value', 'weight')\n",
    "    \n",
    "    # Grouped weighted averages\n",
    "    df = pd.DataFrame({\n",
    "        'category': ['A', 'A', 'B', 'B'],\n",
    "        'value': [10, 20, 30, 40],\n",
    "        'weight': [1, 2, 3, 4]\n",
    "    })\n",
    "    result = calculate_weighted_average(df, 'value', 'weight', 'category')\n",
    "    \"\"\"\n",
    "    \n",
    "    # Input validation\n",
    "    if value_col not in df.columns:\n",
    "        raise ValueError(f\"Value column '{value_col}' not found in dataframe\")\n",
    "    if weight_col not in df.columns:\n",
    "        raise ValueError(f\"Weight column '{weight_col}' not found in dataframe\")\n",
    "    \n",
    "    # Handle negative weights\n",
    "    if (df[weight_col] < 0).any():\n",
    "        raise ValueError(\"Negative weights found. Please ensure all weights are non-negative\")\n",
    "    \n",
    "    # Remove rows where either value or weight is null\n",
    "    df = df.dropna(subset=[value_col, weight_col])\n",
    "    \n",
    "    # If all weights are zero, return nan\n",
    "    if (df[weight_col] == 0).all():\n",
    "        print('hit zero condition')\n",
    "        return np.nan\n",
    "    \n",
    "    if group_by is None:\n",
    "        # Calculate single weighted average\n",
    "        weighted_sum = (df[value_col] * df[weight_col]).sum()\n",
    "        weight_sum = df[weight_col].sum()\n",
    "        return weighted_sum / weight_sum if weight_sum != 0 else np.nan\n",
    "    else:\n",
    "        # Calculate grouped weighted averages\n",
    "        grouped = df.groupby(group_by)\n",
    "        weighted_sums = grouped.apply(lambda x: (x[value_col] * x[weight_col]).sum())\n",
    "        weight_sums = grouped[weight_col].sum()\n",
    "        weight_sum = df[weight_col].sum()\n",
    "        return weighted_sums / weight_sum\n",
    "\n",
    "\n",
    "def transform_data(df):\n",
    "    df.fillna(0, inplace=True)\n",
    "    \n",
    "    id_col=['EntityId',\n",
    "     'TeamId',\n",
    "     'Name',\n",
    "     'ShortName',\n",
    "     'RowId',\n",
    "     'TeamAbbreviation',\n",
    "    'team_id',\n",
    "     'year',\n",
    "     'season',\n",
    "     'team_vs']\n",
    "    df['FGA']= df['FG2A']+df['FG3A']\n",
    "    df['FGM']= df['FG2M']+df['FG3M']\n",
    "    df['opp_FGA']= df['opp_FG2A']+df['opp_FG3A']\n",
    "    df['opp_FGM']= df['opp_FG2M']+df['opp_FG3M']\n",
    "\n",
    "    missing=['3pt And 1 Free Throw Trips','opp_BlockedLongMidRange','opp_FTOffRebounds']\n",
    "    for col in missing:\n",
    "        if col not in df.columns:\n",
    "            df[col]=0\n",
    "    \n",
    "    df.drop(columns=['opp_Name', 'opp_ShortName', 'opp_RowId', 'opp_TeamAbbreviation', 'opp_season'],inplace=True)\n",
    "    df['two_point_misses']= df['FG2A'] - df['FG2M']\n",
    "    df['opp_two_point_misses']= df['opp_FG2A'] - df['opp_FG2M']\n",
    "    \n",
    "    # Specific location misses\n",
    "    df['at_rim_misses']= df['AtRimFGA'] - df['AtRimFGM']\n",
    "    df['opp_at_rim_misses']= df['opp_AtRimFGA'] - df['opp_AtRimFGM']\n",
    "    \n",
    "    df['short_midrange_misses']= df['ShortMidRangeFGA'] - df['ShortMidRangeFGM']\n",
    "    \n",
    "    df['opp_short_midrange_misses']= df['opp_ShortMidRangeFGA'] - df['opp_ShortMidRangeFGM']\n",
    "    \n",
    "    df['long_midrange_misses']= df['LongMidRangeFGA'] - df['LongMidRangeFGM']\n",
    "    df['opp_long_midrange_misses']= df['opp_LongMidRangeFGA'] - df['opp_LongMidRangeFGM']\n",
    "    \n",
    "    # Three point misses by location\n",
    "    df['corner3_misses']= df['Corner3FGA'] - df['Corner3FGM']\n",
    "    df['opp_corner3_misses']= df['opp_Corner3FGA'] - df['opp_Corner3FGM']\n",
    "    \n",
    "    df['arc3_misses']= df['Arc3FGA'] - df['Arc3FGM']\n",
    "    df['opp_arc3_misses']= df['opp_Arc3FGA'] - df['opp_Arc3FGM']\n",
    "    \n",
    "    # Free throw misses\n",
    "    df['ft_misses']= df['FTA'] - df['FtPoints']\n",
    "    \n",
    "    df['opp_ft_misses']= df['opp_FTA'] - df['opp_FtPoints']\n",
    "    \n",
    "    # Total misses\n",
    "    df['fg_misses']= (df['FGA'] - df['FGM'])\n",
    "    df['opp_fg_misses']= (df['opp_FGA'] - df['opp_FGM'])\n",
    "    \n",
    "    weight_mapping = {\n",
    "        'DefTwoPtReboundPct': 'opp_two_point_misses',\n",
    "        'OffTwoPtReboundPct': 'two_point_misses',\n",
    "        'DefThreePtReboundPct':'opp_FG3A',\n",
    "        'DefFGReboundPct': 'opp_fg_misses',\n",
    "        'OffFGReboundPct': 'fg_misses',\n",
    "        'OffLongMidRangeReboundPct': 'long_midrange_misses',\n",
    "        'DefLongMidRangeReboundPct': 'opp_long_midrange_misses',\n",
    "        'OffThreePtReboundPct': 'opp_FG3A',\n",
    "        'OffArc3ReboundPct': 'arc3_misses',\n",
    "        'DefArc3ReboundPct': 'opp_arc3_misses',\n",
    "        'DefAtRimReboundPct': 'opp_at_rim_misses',\n",
    "        'DefShortMidRangeReboundPct': 'opp_short_midrange_misses',\n",
    "        'DefCorner3ReboundPct': 'opp_corner3_misses',\n",
    "        'OffAtRimReboundPct': 'at_rim_misses',\n",
    "        'SelfORebPct': 'fg_misses',\n",
    "        'OffShortMidRangeReboundPct': 'short_midrange_misses',\n",
    "        'DefFTReboundPct': 'FTDefRebounds',\n",
    "        'OffFTReboundPct':'opp_FTDefRebounds',\n",
    "        'OffCorner3ReboundPct': 'corner3_misses',\n",
    "        'SecondChanceTsPct':'SecondChanceOffPoss',\n",
    "        'SecondChanceCorner3PctAssisted':'SecondChanceCorner3FGM',\n",
    "        'SecondChanceArc3PctAssisted':'SecondChanceArc3FGM',\n",
    "        'SecondChanceAtRimPctAssisted':'SecondChanceAtRimFGM'\n",
    "    }\n",
    "    \n",
    "    # Create a DataFrame to store weighted averages for each team\n",
    "    team_weighted_avgs = pd.DataFrame()\n",
    "    \n",
    "    # Calculate weighted averages for each team\n",
    "    for team_id in df['TeamId'].unique():\n",
    "        team_data = df[df['TeamId'] == team_id]\n",
    "        team_values = {}\n",
    "        \n",
    "        for key in weight_mapping.keys():\n",
    "            if team_data[weight_mapping[key]].sum() == 0:\n",
    "                val = 0\n",
    "            else:\n",
    "                val = calculate_weighted_average(team_data, key, weight_mapping[key])\n",
    "            team_values[key] = val\n",
    "            \n",
    "        # Add team values to the DataFrame\n",
    "        team_weighted_avgs = pd.concat([\n",
    "            team_weighted_avgs, \n",
    "            pd.DataFrame([team_values], index=[team_id])\n",
    "        ])\n",
    "    \n",
    "    weight_list = list(weight_mapping.keys())\n",
    "    pct = [col for col in df.columns if 'pct' in col.lower()]\n",
    "    sum_cols = [col for col in df.columns if col not in id_col and col not in pct]\n",
    "    \n",
    "    sums = df.groupby('TeamId').sum(numeric_only=True)[sum_cols].reset_index()\n",
    "    \n",
    "    exclude = [\"PenaltyTsPct\"]\n",
    "    pct = [col for col in pct if col not in exclude]\n",
    "    pct = [col for col in pct if 'opp_' not in col.lower()]\n",
    "    \n",
    "    newframe = calculate_basketball_percentages(sums)\n",
    "    \n",
    "    # Add the weighted averages to newframe\n",
    "    for col in weight_list:\n",
    "        newframe[col] = newframe['TeamId'].map(team_weighted_avgs[col])\n",
    "    \n",
    "    to_drop = [col for col in newframe if 'opp_' in col.lower()]\n",
    "    newframe.drop(columns=to_drop, inplace=True)\n",
    "    \n",
    "    return newframe\n",
    "\n",
    "def player_rows(start_year, end_year, player_ids, off_player_ids, team_id, vs=False, on=True, ps=False):\n",
    "    pstring = \"_ps\" if ps else \"\"\n",
    "    all_df1 = []  # List to collect `df1` dataframes for each year\n",
    "    all_df2 = []  # List to collect `df2` dataframes for each year\n",
    "\n",
    "    # Loop through each year in the specified range\n",
    "    for year in range(start_year, end_year + 1):\n",
    "        # Load the appropriate dataframes based on the `vs` flag\n",
    "        if not vs:\n",
    "            tempdf1 = pd.read_csv(f\"data/{year}/{team_id}{pstring}.csv\")\n",
    "            tempdf2 = pd.read_csv(f\"data/{year}/{team_id}_vs{pstring}.csv\")\n",
    "        else:\n",
    "            tempdf2 = pd.read_csv(f\"data/{year}/{team_id}{pstring}.csv\")\n",
    "            tempdf1 = pd.read_csv(f\"data/{year}/{team_id}_vs{pstring}.csv\")\n",
    "\n",
    "        \n",
    "        # Append the dataframes to the lists\n",
    "        all_df1.append(tempdf1)\n",
    "        all_df2.append(tempdf2)\n",
    "\n",
    "\n",
    "    # Concatenate all yearly dataframes into one for each category\n",
    "    df1 = pd.concat(all_df1).reset_index()\n",
    "    \n",
    "    df2 = pd.concat(all_df2).reset_index()\n",
    "    # Get columns not present in df1 for default zero assignment\n",
    "    notfound = set(df2.columns) - set(df1.columns)\n",
    "    \n",
    "    # Drop the 'team_vs' column from df2 if it exists\n",
    "    if 'team_vs' in df2.columns:\n",
    "        df2.drop(columns='team_vs', inplace=True)\n",
    "    \n",
    "    # Rename columns in df2 to distinguish them in the merged dataframe\n",
    "    id_col = ['EntityId','year']\n",
    "    oppnames = [f'opp_{col}' if col not in id_col else col for col in df2.columns]\n",
    "    df2.columns = oppnames\n",
    "    \n",
    "    # Merge df1 and df2 on the 'EntityId' column\n",
    "    df = df1.merge(df2, on=id_col)\n",
    "\n",
    "    \n",
    "    # Assign 0 to missing columns from df2 in df1\n",
    "    for col in notfound:\n",
    "        df[col] = 0\n",
    "\n",
    "    # Filter rows based on the presence of any player_id in the list of player_ids\n",
    "# For players that must be in the lineup\n",
    "    if len(player_ids) > 0:\n",
    "        df = df[df['EntityId'].apply(lambda x: all(pid in x.split('-') for pid in player_ids))]\n",
    "    \n",
    "    # For players that must NOT be in the lineup\n",
    "    if len(off_player_ids) > 0:\n",
    "        df = df[df['EntityId'].apply(lambda x: not any(pid in x.split('-') for pid in off_player_ids))]\n",
    "    newframe=transform_data(df)\n",
    "\n",
    "    newframe['team_id']=team_id\n",
    "    if ps == False:\n",
    "        index=pd.read_csv('index_master.csv')\n",
    "    else:\n",
    "        index=pd.read_csv('index_master_ps.csv')    \n",
    "    index=index[index.year==year]\n",
    "    name_map=dict(zip(index['nba_id'],index['player']))\n",
    "    name=''\n",
    "    names=[]\n",
    "    names2=[]\n",
    "    if player_ids:\n",
    "        for id in player_ids:\n",
    "            names.append(name_map[int(id)].split(' ')[0])\n",
    "\n",
    "    if off_player_ids:\n",
    "        for id in off_player_ids:\n",
    "            names2.append(name_map[int(id)].split(' ')[0])\n",
    "    if len(names)>0:\n",
    "                \n",
    "        name= (', ').join(names)\n",
    "        name += ' On'\n",
    "    if len(names2)>0:\n",
    "                \n",
    "        name2= (', ').join(names2)\n",
    "        name2 += ' Off'\n",
    "\n",
    "        if name =='':\n",
    "            name=name2\n",
    "        else:\n",
    "            name= name +' | ' +name2\n",
    "    \n",
    "    \n",
    "\n",
    "    newframe.drop(columns='GamesPlayed')\n",
    "    #newframe['GamesPlayed']=newframe['OffPoss']/75\n",
    "    #newframe['GamesPlayed']=newframe['GamesPlayed'].round(0)\n",
    "    newframe['Name']=name\n",
    "    \n",
    "    return newframe\n",
    "\n",
    "\n",
    "def team_averages(start_year,end_year,ps=False,vs=False):\n",
    "    carry=''\n",
    "    if ps == True:\n",
    "        carry='ps'\n",
    "    framelist=[]\n",
    "    \n",
    "    for year in range(start_year,end_year+1):\n",
    "        if vs == False:\n",
    "            df1= pd.read_csv(f\"https://raw.githubusercontent.com/gabriel1200/player_sheets/refs/heads/master/team_totals/{str(year)}{carry}.csv\")\n",
    "            df2= pd.read_csv(f\"https://raw.githubusercontent.com/gabriel1200/player_sheets/refs/heads/master/team_totals/{str(year)}vs{carry}.csv\")\n",
    "        else:\n",
    "            df2= pd.read_csv(f\"https://raw.githubusercontent.com/gabriel1200/player_sheets/refs/heads/master/team_totals/{str(year)}{carry}.csv\")\n",
    "            df1= pd.read_csv(f\"https://raw.githubusercontent.com/gabriel1200/player_sheets/refs/heads/master/team_totals/{str(year)}vs{carry}.csv\")\n",
    "        id_col = ['EntityId']\n",
    "        oppnames = [f'opp_{col}' if col not in id_col else col for col in df2.columns]\n",
    "        df2.columns = oppnames\n",
    "        \n",
    "        # Merge df1 and df2 on the 'EntityId' column\n",
    "        df = df1.merge(df2, on=id_col)\n",
    "        del df1\n",
    "        del df2\n",
    "        framelist.append(df)\n",
    "    namemap=dict(zip(df['TeamId'],df['Name']))\n",
    "        \n",
    "    teams=pd.concat(framelist)\n",
    "    teams['team_id']=teams['TeamId']\n",
    "    teams= transform_data(teams)\n",
    "    teams.drop(columns='GamesPlayed')\n",
    "    \n",
    "    teams['team_id']=teams['TeamId']\n",
    "\n",
    "\n",
    "    teams['Name']=teams['TeamId'].map(namemap)\n",
    "    return teams\n",
    "def trim_frame(frame1):\n",
    "    frame1['FGA']=frame1['FG2A']+frame1['FG3A']\n",
    "    columns = ['AtRimFGM','AtRimFGA','AtRimAssists','Turnovers','FTA','FGA',\n",
    "    'OffPoss','DefPoss','TwoPtAssists','Steals','BadPassSteals',\n",
    "    'ThreePtAssists','FG3A','OpponentPoints','Points','SecondChancePoints','FG2A','LiveBallTurnovers','FTA','FtPoints']\n",
    "    other_col = ['team_id','TsPct','Fg3Pct','AtRimFG3AFrequency','Pace','AtRimFrequency','SecondsPerPossOff','SecondsPerPossDef',\n",
    "                'DefAtRimReboundPct','DefFGReboundPct','AtRimAccuracy','EfgPct',\n",
    "'OffFGReboundPct','Name']\n",
    "    new_df = pd.DataFrame()\n",
    "\n",
    "    \n",
    "    new_df[other_col] =frame1[other_col]\n",
    "    \n",
    "\n",
    "    for col in columns:\n",
    "        if col in['OpponentPoints','DefRebounds']:\n",
    "            new_df[col]= 100* frame1[col]/frame1['DefPoss']\n",
    "\n",
    "        else:  \n",
    "            new_df[col]= 100* frame1[col]/frame1['OffPoss']\n",
    "    new_df['TOV%'] = (new_df['Turnovers'] / (new_df['Turnovers'] + new_df['FGA'] + 0.44 * new_df['FTA']))\n",
    "  \n",
    "    new_df = new_df.rename(columns={\n",
    "            'AtRimFrequency': 'Rim Freq',\n",
    "            'DefFGReboundPct': 'DREB%', 'OffFGReboundPct': 'OREB%', 'OpponentPoints': 'Opp Points', 'AtRimAssists': 'Rim Assists','AtRimAccuracy': 'Rim%',\n",
    "            'ThreePtAssists': '3P Assists', 'TsPct': 'TS%', 'Fg3Pct': '3P%','EfgPct':'EFG%'})\n",
    "\n",
    "    columns = [\n",
    "            'Points', 'Opp Points', 'FTA','FtPoints','EFG%',\n",
    "            '3P%',\n",
    "            'Rim Freq', 'TS%',\n",
    "            'Rim%',  'TOV%',\n",
    "            '3P Assists','Rim Assists',\n",
    "            'DREB%', 'OREB%','Name']\n",
    "    return new_df[columns]\n",
    "def create_nba_beeswarm(team_list, start_year, end_year, data, categories=None, vs=False, ps=False):\n",
    "    from sklearn.preprocessing import MinMaxScaler\n",
    "    import pandas as pd\n",
    "    import plotly.graph_objects as go\n",
    "    \n",
    "    team_names = {\n",
    "        \"PHX\": \"Phoenix Suns\",\n",
    "        \"DET\": \"Detroit Pistons\",\n",
    "        # ... (rest of the team mappings)\n",
    "    }\n",
    "    \n",
    "    addon = ' PS ' if ps else ' RS '\n",
    "    addon += ' (Defense)' if vs else ''\n",
    "    \n",
    "    # Normalize the data to a 0-1 range\n",
    "    scaler = MinMaxScaler()\n",
    "    normalized_data = pd.DataFrame(\n",
    "        scaler.fit_transform(data[categories]),\n",
    "        columns=categories,\n",
    "        index=data.index\n",
    "    )\n",
    "    \n",
    "    colors = [\n",
    "        '#ff4d4d',  # Red\n",
    "        \"#ff7f0e\",  # Orange\n",
    "        \"#2ca02c\",  # Green\n",
    "        \"#e377c2\",  # Pink\n",
    "    ]\n",
    "    \n",
    "    # Assign colors for lineup data\n",
    "    data['color'] = [colors[i % len(colors)] for i in range(len(data))]\n",
    "    \n",
    "    # Store original values for hover text and labels\n",
    "    original_data = data.copy()\n",
    "    \n",
    "    # Create the figure\n",
    "    fig = go.Figure()\n",
    "    \n",
    "    # Define custom colors\n",
    "    team_color = '#00ffff'\n",
    "    grid_color = 'rgba(255, 255, 255, 0.1)'\n",
    "    bg_color = '#1a1a1a'\n",
    "    text_color = '#ffffff'\n",
    "    \n",
    "    # Draw one trace for all `team_data` combined\n",
    "    team_data = normalized_data[data['lineup_row'] == 0]\n",
    "    original_team_data = original_data[data['lineup_row'] == 0]\n",
    "    \n",
    "    for i, category in enumerate(categories):\n",
    "        hover_texts = [\n",
    "            f\"{team_names.get(original_team_data.loc[idx, 'team'], 'Unknown')}<br>{category}: {original_team_data.loc[idx, category]:.1f}\"\n",
    "            for idx in team_data.index\n",
    "        ]\n",
    "        \n",
    "        fig.add_trace(go.Scatter(\n",
    "            x=[category] * len(team_data),\n",
    "            y=team_data[category],\n",
    "            mode='markers',\n",
    "            name='Season Avg (All Teams)',  # Combined trace for all teams\n",
    "            marker=dict(\n",
    "                size=18,\n",
    "                color=team_color,\n",
    "                opacity=0.7,\n",
    "                line=dict(color='white', width=3),\n",
    "                symbol='circle'\n",
    "            ),\n",
    "            text=hover_texts,\n",
    "            hovertemplate=\"<b>%{text}</b><br>Normalized: %{y:.2f}<br><extra></extra>\",\n",
    "            showlegend=False  # No legend for combined team data\n",
    "        ))\n",
    "    \n",
    "    # Draw individual traces for each team in `lineup_data`\n",
    "    for team in team_list:\n",
    "        lineup_data = normalized_data[(data['team'] == team) & (data['lineup_row'] == 1)]\n",
    "        \n",
    "        original_lineup_data = original_data[(original_data['team'] == team) & (original_data['lineup_row'] == 1)]\n",
    "        \n",
    "        team_name = team_names.get(team, team)\n",
    "        print(original_lineup_data)\n",
    "        combo_name=team_name + ' : '+str(original_lineup_data['Name'].iloc[0])\n",
    "       \n",
    "        color = colors[team_list.index(team) % len(colors)]  # Unique color for the team's lineups\n",
    "        \n",
    "        for i, category in enumerate(categories):\n",
    "            lineup_hover_texts = [\n",
    "                f\"{original_lineup_data.loc[lineup, category]:.1f}\"\n",
    "                for lineup in lineup_data.index\n",
    "            ]\n",
    "            \n",
    "            fig.add_trace(go.Scatter(\n",
    "                x=[category] * len(lineup_data),\n",
    "                y=lineup_data[category],\n",
    "                mode='markers+text',\n",
    "                name=combo_name,\n",
    "                marker=dict(\n",
    "                    size=21,\n",
    "                    color=color,  # Unique color for each team\n",
    "                    opacity=1,\n",
    "                    line=dict(color='#0A0A0A', width=3),\n",
    "                    symbol='diamond'\n",
    "                ),\n",
    "                text=lineup_hover_texts,\n",
    "                textposition='top right',\n",
    "                textfont=dict(\n",
    "                    color=text_color,\n",
    "                    size=20\n",
    "                ),\n",
    "                hovertemplate=\"<b>%{text}</b><br>Normalized: %{y:.2f}<br><extra></extra>\",\n",
    "                showlegend=(i == 0)  # Show legend once per team/category\n",
    "            ))\n",
    "    \n",
    "    # Update layout\n",
    "    fig.update_layout(\n",
    "        title=dict(\n",
    "            text=f\"NBA Beeswarm Comparison {start_year}-{end_year}\",\n",
    "            font=dict(size=24, color=text_color),\n",
    "            x=0.5,\n",
    "            y=0.99\n",
    "        ),\n",
    "        width=1600,\n",
    "        height=1000,\n",
    "        showlegend=True,\n",
    "        plot_bgcolor=bg_color,\n",
    "        paper_bgcolor=bg_color,\n",
    "        yaxis=dict(\n",
    "            title=dict(text='Normalized Value', font=dict(size=16, color=text_color)),\n",
    "            showticklabels=False,\n",
    "            showgrid=False,\n",
    "            gridcolor=grid_color,\n",
    "            zeroline=True,\n",
    "            zerolinecolor=grid_color,\n",
    "            range=[-0.1, 1.1]\n",
    "        ),\n",
    "        xaxis=dict(\n",
    "            gridcolor=grid_color,\n",
    "            showgrid=False,\n",
    "            categoryorder='array',\n",
    "            categoryarray=categories,\n",
    "            tickfont=dict(color=text_color, size=14),\n",
    "            tickangle=-45\n",
    "        ),\n",
    "        hovermode='closest',\n",
    "        legend=dict(\n",
    "            font=dict(color=text_color, size=16),\n",
    "            bgcolor=bg_color,\n",
    "            orientation=\"h\",\n",
    "            yanchor=\"bottom\",\n",
    "            y=1.02,\n",
    "            xanchor=\"center\",\n",
    "            x=0.5\n",
    "        )\n",
    "    )\n",
    "    \n",
    "    return fig\n",
    "\n"
   ]
  },
  {
   "cell_type": "code",
   "execution_count": 6,
   "id": "715b21f8-9d09-4d10-91ac-f47dee186366",
   "metadata": {},
   "outputs": [
    {
     "name": "stdout",
     "output_type": "stream",
     "text": [
      "        Points  Opp Points        FTA   FtPoints       EFG%        3P%  \\\n",
      "0   106.060606  103.872054  18.518519  14.309764  52.003817  35.384615   \n",
      "1   111.994869  114.162404  23.155869  18.056446  53.100073  35.014006   \n",
      "2   119.937478  110.581274  21.952067  17.575547  55.624764  36.320109   \n",
      "3   121.962617  110.790885  21.194927  16.421896  59.436090  40.572391   \n",
      "4   107.270883  119.146052  21.542103  16.300304  49.907236  33.200000   \n",
      "5   113.496933  116.623877  18.727801  14.982241  55.675182  37.045455   \n",
      "6   118.582244  112.111801  24.225740  18.582244  56.317829  37.669903   \n",
      "7   117.728431  113.516444  24.572261  18.492901  56.299050  38.038278   \n",
      "8   112.826009  110.781864  21.043230  14.790997  53.322969  37.056277   \n",
      "9   113.087017  106.715126  23.860497  18.370166  50.441339  32.414449   \n",
      "10  111.646859  109.494744  21.867572  17.079796  53.993796  37.316357   \n",
      "11  112.885154  115.419580  24.579832  19.117647  53.839968  34.782609   \n",
      "12  114.871017  111.644612  24.127466  18.854325  53.782405  37.428571   \n",
      "13  113.765766  112.667391  22.486486  16.396396  56.598240  39.076035   \n",
      "14  111.236364  109.362477  20.727273  16.327273  54.307116  37.010676   \n",
      "15  112.491078  118.240343  22.091363  17.880086  54.124132  37.271937   \n",
      "16  121.586848  113.694722  20.907791  16.797713  58.197697  39.848197   \n",
      "17  111.125961  107.471648  24.590712  19.478784  51.931087  31.070496   \n",
      "18  114.195688  115.132450  20.630182  16.351575  56.319206  37.573386   \n",
      "19  108.662614  113.302927  24.316109  18.655015  51.100086  33.022774   \n",
      "20  115.161407  116.853933  23.177367  18.462096  55.984880  38.411819   \n",
      "21  108.220132  118.178646  21.107628  16.300940  50.536193  33.049242   \n",
      "22  115.609265  114.290507  22.423632  17.959047  54.231916  34.162679   \n",
      "23  112.556522  113.991626  22.365217  17.808696  53.474676  34.572169   \n",
      "24  115.815960  104.297580  19.590223  15.923796  53.752418  34.858188   \n",
      "25  111.546118  116.594899  22.196417  16.589250  52.707182  34.503511   \n",
      "26  111.359538  120.367039  24.089434  18.968626  53.755770  36.329234   \n",
      "27  117.647059  108.621795  22.921995  17.710997  56.061693  37.023915   \n",
      "28  105.034408  119.521912  20.318725  15.791380  50.657895  32.530120   \n",
      "29  112.353532  115.175879  20.354871  15.634416  54.243335  36.306306   \n",
      "30  109.432624  116.164481  19.751773  15.212766  51.017665  34.580960   \n",
      "\n",
      "     Rim Freq       TS%       Rim%       TOV%  3P Assists  Rim Assists  \\\n",
      "0   30.534351  0.542355  60.000000  12.797075   10.437710     9.932660   \n",
      "1   33.031182  0.562163  63.556531  14.007404    9.942271    12.347659   \n",
      "2   22.574556  0.583731  71.237458  10.680240   14.310524     7.745745   \n",
      "3   32.518797  0.612697  64.624277  11.899053   12.516689    11.882510   \n",
      "4   29.981447  0.526333  61.881188  13.289501    9.401420     9.807237   \n",
      "5   30.912409  0.579941  62.337662  13.162472   13.496933     9.622215   \n",
      "6   26.782946  0.586282  70.911722  12.478193   10.392292    10.495526   \n",
      "7   33.911607  0.587073  65.895250  12.884615   10.120131    13.032399   \n",
      "8   27.011271  0.549994  64.604317  12.456880   13.076099    10.503751   \n",
      "9   30.820154  0.535729  64.558473  11.556331    9.530387     8.701657   \n",
      "10  28.499418  0.566467  63.673469  14.718326    9.745331     8.930390   \n",
      "11  29.634097  0.567146  70.149254  12.598159    9.593838    11.519608   \n",
      "12  26.901827  0.567147  62.401264  12.028709   12.746586     8.497724   \n",
      "13  28.152493  0.585597  66.964286  12.979964   12.432432     7.603604   \n",
      "14  27.382439  0.569506  66.261398  14.415635   11.963636     9.127273   \n",
      "15  29.032258  0.572537  60.759494  13.972485   13.418986     8.493933   \n",
      "16  29.654625  0.602521  67.336011  12.289126   12.437455    11.186562   \n",
      "17  32.222643  0.554208  68.272620  13.758639   10.023388    11.159372   \n",
      "18  28.904162  0.587615  68.295905  13.124384   10.713101    10.679934   \n",
      "19  31.449525  0.542719  61.865569  13.161411    9.536474     9.194529   \n",
      "20  20.243595  0.590645  71.991701  13.005856   13.420384     7.544432   \n",
      "21  33.933359  0.532028  62.302483  14.193533    9.926855     9.160571   \n",
      "22  21.812081  0.570497  71.452991  11.900815   10.406177     8.526351   \n",
      "23  29.996074  0.563347  67.670157  13.323450   11.547826    12.556522   \n",
      "24  26.460348  0.563933  66.374269  10.573636   11.394680     8.734723   \n",
      "25  35.064457  0.551531  61.869748  13.928772   10.318514    11.811546   \n",
      "26  24.884599  0.568810  67.116358  16.344159   11.539849     7.573026   \n",
      "27  28.909613  0.583638  70.595533  14.161329   12.212276    10.997442   \n",
      "28  28.289474  0.536247  67.877907  14.245288    9.272003     9.235784   \n",
      "29  28.539241  0.565783  66.710526  14.124459   11.416137     9.173083   \n",
      "30  27.265745  0.536539  60.985915  13.953151   11.737589     8.368794   \n",
      "\n",
      "        DREB%      OREB%                 Name team  lineup_row  \n",
      "0   68.883120  18.564769  Jalen On | Shai Off  OKC           1  \n",
      "1   72.109320  30.319889                  ATL  ATL           0  \n",
      "2   73.638968  27.072998                  BOS  BOS           0  \n",
      "3   71.811135  25.271318                  CLE  CLE           0  \n",
      "4   68.467802  29.959514                  NOP  NOP           0  \n",
      "5   73.880083  23.627519                  CHI  CHI           0  \n",
      "6   70.862801  28.471683                  DAL  DAL           0  \n",
      "7   71.917808  29.772918                  DEN  DEN           0  \n",
      "8   72.496263  29.811867                  GSW  GSW           0  \n",
      "9   73.196605  33.985165                  HOU  HOU           0  \n",
      "10  74.311243  27.893175                  LAC  LAC           0  \n",
      "11  71.213263  24.980484                  LAL  LAL           0  \n",
      "12  72.938351  26.880000                  MIA  MIA           0  \n",
      "13  74.019245  21.789561                  MIL  MIL           0  \n",
      "14  73.134328  26.117647                  MIN  MIN           0  \n",
      "15  71.000000  25.115562                  BKN  BKN           0  \n",
      "16  72.952667  27.560976                  NYK  NYK           0  \n",
      "17  74.942879  29.474432                  ORL  ORL           0  \n",
      "18  71.146822  22.958398                  IND  IND           0  \n",
      "19  71.515679  26.395534                  PHI  PHI           0  \n",
      "20  73.815074  24.816327                  PHX  PHX           0  \n",
      "21  67.854376  31.145251                  POR  POR           0  \n",
      "22  73.236364  27.068215                  SAC  SAC           0  \n",
      "23  71.612903  27.211896                  SAS  SAS           0  \n",
      "24  68.586387  26.346863                  OKC  OKC           0  \n",
      "25  70.860448  32.462950                  TOR  TOR           0  \n",
      "26  71.747498  32.334385                  UTA  UTA           0  \n",
      "27  71.040424  32.449857                  MEM  MEM           0  \n",
      "28  69.326104  26.512323                  WAS  WAS           0  \n",
      "29  73.265157  28.271873                  DET  DET           0  \n",
      "30  71.752739  32.024793                  CHA  CHA           0  \n",
      "       Points  Opp Points        FTA   FtPoints       EFG%        3P%  \\\n",
      "0  106.060606  103.872054  18.518519  14.309764  52.003817  35.384615   \n",
      "\n",
      "    Rim Freq       TS%  Rim%       TOV%  3P Assists  Rim Assists     DREB%  \\\n",
      "0  30.534351  0.542355  60.0  12.797075    10.43771      9.93266  68.88312   \n",
      "\n",
      "       OREB%                 Name team  lineup_row    color  \n",
      "0  18.564769  Jalen On | Shai Off  OKC           1  #ff4d4d  \n"
     ]
    },
    {
     "data": {
      "application/vnd.plotly.v1+json": {
       "config": {
        "plotlyServerURL": "https://plot.ly"
       },
       "data": [
        {
         "hovertemplate": "<b>%{text}</b><br>Normalized: %{y:.2f}<br><extra></extra>",
         "marker": {
          "color": "#00ffff",
          "line": {
           "color": "white",
           "width": 3
          },
          "opacity": 0.7,
          "size": 18,
          "symbol": "circle"
         },
         "mode": "markers",
         "name": "Season Avg (All Teams)",
         "showlegend": false,
         "text": [
          "Unknown<br>Points: 112.0",
          "Unknown<br>Points: 119.9",
          "Unknown<br>Points: 122.0",
          "Unknown<br>Points: 107.3",
          "Unknown<br>Points: 113.5",
          "Unknown<br>Points: 118.6",
          "Unknown<br>Points: 117.7",
          "Unknown<br>Points: 112.8",
          "Unknown<br>Points: 113.1",
          "Unknown<br>Points: 111.6",
          "Unknown<br>Points: 112.9",
          "Unknown<br>Points: 114.9",
          "Unknown<br>Points: 113.8",
          "Unknown<br>Points: 111.2",
          "Unknown<br>Points: 112.5",
          "Unknown<br>Points: 121.6",
          "Unknown<br>Points: 111.1",
          "Unknown<br>Points: 114.2",
          "Unknown<br>Points: 108.7",
          "Phoenix Suns<br>Points: 115.2",
          "Unknown<br>Points: 108.2",
          "Unknown<br>Points: 115.6",
          "Unknown<br>Points: 112.6",
          "Unknown<br>Points: 115.8",
          "Unknown<br>Points: 111.5",
          "Unknown<br>Points: 111.4",
          "Unknown<br>Points: 117.6",
          "Unknown<br>Points: 105.0",
          "Detroit Pistons<br>Points: 112.4",
          "Unknown<br>Points: 109.4"
         ],
         "type": "scatter",
         "x": [
          "Points",
          "Points",
          "Points",
          "Points",
          "Points",
          "Points",
          "Points",
          "Points",
          "Points",
          "Points",
          "Points",
          "Points",
          "Points",
          "Points",
          "Points",
          "Points",
          "Points",
          "Points",
          "Points",
          "Points",
          "Points",
          "Points",
          "Points",
          "Points",
          "Points",
          "Points",
          "Points",
          "Points",
          "Points",
          "Points"
         ],
         "y": [
          0.4111752567881206,
          0.8803690023288926,
          1,
          0.1321152656014597,
          0.4999066760397488,
          0.8003112326452735,
          0.7498739643997654,
          0.4602732318674665,
          0.4756917138561114,
          0.39061729804143486,
          0.4637670907036684,
          0.5810779432828959,
          0.5157874612097215,
          0.36636810269843245,
          0.4404878258934639,
          0.9778021954917699,
          0.35984626322357993,
          0.5411842683848986,
          0.21432900306740965,
          0.5982321877077554,
          0.18819028846854025,
          0.6246884730238875,
          0.44435379526820995,
          0.6368985589949183,
          0.38466622739151735,
          0.37364440521222875,
          0.7450670653280449,
          0,
          0.43236258182902443,
          0.2598158074747552
         ]
        },
        {
         "hovertemplate": "<b>%{text}</b><br>Normalized: %{y:.2f}<br><extra></extra>",
         "marker": {
          "color": "#00ffff",
          "line": {
           "color": "white",
           "width": 3
          },
          "opacity": 0.7,
          "size": 18,
          "symbol": "circle"
         },
         "mode": "markers",
         "name": "Season Avg (All Teams)",
         "showlegend": false,
         "text": [
          "Unknown<br>Opp Points: 114.2",
          "Unknown<br>Opp Points: 110.6",
          "Unknown<br>Opp Points: 110.8",
          "Unknown<br>Opp Points: 119.1",
          "Unknown<br>Opp Points: 116.6",
          "Unknown<br>Opp Points: 112.1",
          "Unknown<br>Opp Points: 113.5",
          "Unknown<br>Opp Points: 110.8",
          "Unknown<br>Opp Points: 106.7",
          "Unknown<br>Opp Points: 109.5",
          "Unknown<br>Opp Points: 115.4",
          "Unknown<br>Opp Points: 111.6",
          "Unknown<br>Opp Points: 112.7",
          "Unknown<br>Opp Points: 109.4",
          "Unknown<br>Opp Points: 118.2",
          "Unknown<br>Opp Points: 113.7",
          "Unknown<br>Opp Points: 107.5",
          "Unknown<br>Opp Points: 115.1",
          "Unknown<br>Opp Points: 113.3",
          "Phoenix Suns<br>Opp Points: 116.9",
          "Unknown<br>Opp Points: 118.2",
          "Unknown<br>Opp Points: 114.3",
          "Unknown<br>Opp Points: 114.0",
          "Unknown<br>Opp Points: 104.3",
          "Unknown<br>Opp Points: 116.6",
          "Unknown<br>Opp Points: 120.4",
          "Unknown<br>Opp Points: 108.6",
          "Unknown<br>Opp Points: 119.5",
          "Detroit Pistons<br>Opp Points: 115.2",
          "Unknown<br>Opp Points: 116.2"
         ],
         "type": "scatter",
         "x": [
          "Opp Points",
          "Opp Points",
          "Opp Points",
          "Opp Points",
          "Opp Points",
          "Opp Points",
          "Opp Points",
          "Opp Points",
          "Opp Points",
          "Opp Points",
          "Opp Points",
          "Opp Points",
          "Opp Points",
          "Opp Points",
          "Opp Points",
          "Opp Points",
          "Opp Points",
          "Opp Points",
          "Opp Points",
          "Opp Points",
          "Opp Points",
          "Opp Points",
          "Opp Points",
          "Opp Points",
          "Opp Points",
          "Opp Points",
          "Opp Points",
          "Opp Points",
          "Opp Points",
          "Opp Points"
         ],
         "y": [
          0.623847214787669,
          0.4067430317592029,
          0.41945057853766166,
          0.9259783294939323,
          0.7730727356399365,
          0.49953046665435075,
          0.5846862028455382,
          0.4189036790670171,
          0.17235981316992088,
          0.34087270978039985,
          0.7000628861345675,
          0.4712073868627291,
          0.5332127820820984,
          0.3328541057841159,
          0.8710701947898922,
          0.5954942167964123,
          0.21822353725367805,
          0.6826557714947104,
          0.5717418344289369,
          0.7870197519198907,
          0.8673298366004367,
          0.6316133602084211,
          0.6134938779179189,
          0.025797325149650163,
          0.7713159718379838,
          1,
          0.2879506168689101,
          0.9487646596000756,
          0.6852886363824693,
          0.7452220831688683
         ]
        },
        {
         "hovertemplate": "<b>%{text}</b><br>Normalized: %{y:.2f}<br><extra></extra>",
         "marker": {
          "color": "#00ffff",
          "line": {
           "color": "white",
           "width": 3
          },
          "opacity": 0.7,
          "size": 18,
          "symbol": "circle"
         },
         "mode": "markers",
         "name": "Season Avg (All Teams)",
         "showlegend": false,
         "text": [
          "Unknown<br>FTA: 23.2",
          "Unknown<br>FTA: 22.0",
          "Unknown<br>FTA: 21.2",
          "Unknown<br>FTA: 21.5",
          "Unknown<br>FTA: 18.7",
          "Unknown<br>FTA: 24.2",
          "Unknown<br>FTA: 24.6",
          "Unknown<br>FTA: 21.0",
          "Unknown<br>FTA: 23.9",
          "Unknown<br>FTA: 21.9",
          "Unknown<br>FTA: 24.6",
          "Unknown<br>FTA: 24.1",
          "Unknown<br>FTA: 22.5",
          "Unknown<br>FTA: 20.7",
          "Unknown<br>FTA: 22.1",
          "Unknown<br>FTA: 20.9",
          "Unknown<br>FTA: 24.6",
          "Unknown<br>FTA: 20.6",
          "Unknown<br>FTA: 24.3",
          "Phoenix Suns<br>FTA: 23.2",
          "Unknown<br>FTA: 21.1",
          "Unknown<br>FTA: 22.4",
          "Unknown<br>FTA: 22.4",
          "Unknown<br>FTA: 19.6",
          "Unknown<br>FTA: 22.2",
          "Unknown<br>FTA: 24.1",
          "Unknown<br>FTA: 22.9",
          "Unknown<br>FTA: 20.3",
          "Detroit Pistons<br>FTA: 20.4",
          "Unknown<br>FTA: 19.8"
         ],
         "type": "scatter",
         "x": [
          "FTA",
          "FTA",
          "FTA",
          "FTA",
          "FTA",
          "FTA",
          "FTA",
          "FTA",
          "FTA",
          "FTA",
          "FTA",
          "FTA",
          "FTA",
          "FTA",
          "FTA",
          "FTA",
          "FTA",
          "FTA",
          "FTA",
          "FTA",
          "FTA",
          "FTA",
          "FTA",
          "FTA",
          "FTA",
          "FTA",
          "FTA",
          "FTA",
          "FTA",
          "FTA"
         ],
         "y": [
          0.7637027544920509,
          0.5654543738970346,
          0.44076464427945883,
          0.49793952432388133,
          0.03446573164311095,
          0.9398945647123207,
          0.9969613923453857,
          0.4157824277543005,
          0.8797445328412334,
          0.5515393794873265,
          0.998208270469386,
          0.9237102983474412,
          0.6534653748919084,
          0.3637490042054945,
          0.5883944581201783,
          0.39347772791214686,
          0.9999999999999996,
          0.3477596732051986,
          0.9547770909741868,
          0.7672430825985752,
          0.4263878676294435,
          0.6431141897911425,
          0.6334941565288275,
          0.17649378365711454,
          0.6056951940465582,
          0.9174469878286433,
          0.7251871380568602,
          0.29646727944549456,
          0.30241999005404097,
          0.20309869964314942
         ]
        },
        {
         "hovertemplate": "<b>%{text}</b><br>Normalized: %{y:.2f}<br><extra></extra>",
         "marker": {
          "color": "#00ffff",
          "line": {
           "color": "white",
           "width": 3
          },
          "opacity": 0.7,
          "size": 18,
          "symbol": "circle"
         },
         "mode": "markers",
         "name": "Season Avg (All Teams)",
         "showlegend": false,
         "text": [
          "Unknown<br>FtPoints: 18.1",
          "Unknown<br>FtPoints: 17.6",
          "Unknown<br>FtPoints: 16.4",
          "Unknown<br>FtPoints: 16.3",
          "Unknown<br>FtPoints: 15.0",
          "Unknown<br>FtPoints: 18.6",
          "Unknown<br>FtPoints: 18.5",
          "Unknown<br>FtPoints: 14.8",
          "Unknown<br>FtPoints: 18.4",
          "Unknown<br>FtPoints: 17.1",
          "Unknown<br>FtPoints: 19.1",
          "Unknown<br>FtPoints: 18.9",
          "Unknown<br>FtPoints: 16.4",
          "Unknown<br>FtPoints: 16.3",
          "Unknown<br>FtPoints: 17.9",
          "Unknown<br>FtPoints: 16.8",
          "Unknown<br>FtPoints: 19.5",
          "Unknown<br>FtPoints: 16.4",
          "Unknown<br>FtPoints: 18.7",
          "Phoenix Suns<br>FtPoints: 18.5",
          "Unknown<br>FtPoints: 16.3",
          "Unknown<br>FtPoints: 18.0",
          "Unknown<br>FtPoints: 17.8",
          "Unknown<br>FtPoints: 15.9",
          "Unknown<br>FtPoints: 16.6",
          "Unknown<br>FtPoints: 19.0",
          "Unknown<br>FtPoints: 17.7",
          "Unknown<br>FtPoints: 15.8",
          "Detroit Pistons<br>FtPoints: 15.6",
          "Unknown<br>FtPoints: 15.2"
         ],
         "type": "scatter",
         "x": [
          "FtPoints",
          "FtPoints",
          "FtPoints",
          "FtPoints",
          "FtPoints",
          "FtPoints",
          "FtPoints",
          "FtPoints",
          "FtPoints",
          "FtPoints",
          "FtPoints",
          "FtPoints",
          "FtPoints",
          "FtPoints",
          "FtPoints",
          "FtPoints",
          "FtPoints",
          "FtPoints",
          "FtPoints",
          "FtPoints",
          "FtPoints",
          "FtPoints",
          "FtPoints",
          "FtPoints",
          "FtPoints",
          "FtPoints",
          "FtPoints",
          "FtPoints",
          "FtPoints",
          "FtPoints"
         ],
         "y": [
          0.7248342004448558,
          0.6317992692960992,
          0.40861357624029404,
          0.3850904500134207,
          0.1300975099844428,
          0.826555076499849,
          0.8092708920223632,
          0.09309937271795965,
          0.7855264274072877,
          0.5358911771987729,
          0.9301343767862864,
          0.8791919643227937,
          0.4036804424695215,
          0.3903077575981806,
          0.690715391980953,
          0.4813192004601783,
          0.9999999999999996,
          0.3950093704843791,
          0.8406334841045275,
          0.8033113739499922,
          0.385213505525114,
          0.7059912110323694,
          0.6769042619075893,
          0.3122510012948809,
          0.4409899880769399,
          0.9013047270843262,
          0.6580035382101168,
          0.2866337841339517,
          0.256267457905877,
          0.1746949579767727
         ]
        },
        {
         "hovertemplate": "<b>%{text}</b><br>Normalized: %{y:.2f}<br><extra></extra>",
         "marker": {
          "color": "#00ffff",
          "line": {
           "color": "white",
           "width": 3
          },
          "opacity": 0.7,
          "size": 18,
          "symbol": "circle"
         },
         "mode": "markers",
         "name": "Season Avg (All Teams)",
         "showlegend": false,
         "text": [
          "Unknown<br>3P%: 35.0",
          "Unknown<br>3P%: 36.3",
          "Unknown<br>3P%: 40.6",
          "Unknown<br>3P%: 33.2",
          "Unknown<br>3P%: 37.0",
          "Unknown<br>3P%: 37.7",
          "Unknown<br>3P%: 38.0",
          "Unknown<br>3P%: 37.1",
          "Unknown<br>3P%: 32.4",
          "Unknown<br>3P%: 37.3",
          "Unknown<br>3P%: 34.8",
          "Unknown<br>3P%: 37.4",
          "Unknown<br>3P%: 39.1",
          "Unknown<br>3P%: 37.0",
          "Unknown<br>3P%: 37.3",
          "Unknown<br>3P%: 39.8",
          "Unknown<br>3P%: 31.1",
          "Unknown<br>3P%: 37.6",
          "Unknown<br>3P%: 33.0",
          "Phoenix Suns<br>3P%: 38.4",
          "Unknown<br>3P%: 33.0",
          "Unknown<br>3P%: 34.2",
          "Unknown<br>3P%: 34.6",
          "Unknown<br>3P%: 34.9",
          "Unknown<br>3P%: 34.5",
          "Unknown<br>3P%: 36.3",
          "Unknown<br>3P%: 37.0",
          "Unknown<br>3P%: 32.5",
          "Detroit Pistons<br>3P%: 36.3",
          "Unknown<br>3P%: 34.6"
         ],
         "type": "scatter",
         "x": [
          "3P%",
          "3P%",
          "3P%",
          "3P%",
          "3P%",
          "3P%",
          "3P%",
          "3P%",
          "3P%",
          "3P%",
          "3P%",
          "3P%",
          "3P%",
          "3P%",
          "3P%",
          "3P%",
          "3P%",
          "3P%",
          "3P%",
          "3P%",
          "3P%",
          "3P%",
          "3P%",
          "3P%",
          "3P%",
          "3P%",
          "3P%",
          "3P%",
          "3P%",
          "3P%"
         ],
         "y": [
          0.41502350118934483,
          0.5524807038995689,
          1,
          0.2241136142850535,
          0.6288175972614143,
          0.69453589879594,
          0.7333044411927254,
          0.6299565817907857,
          0.14144048718170188,
          0.6573279083457955,
          0.3906707884897349,
          0.6691376496011734,
          0.8425202547294726,
          0.6251574441296608,
          0.6526531492674761,
          0.9237843327151598,
          0,
          0.6843781987558346,
          0.20546199980059354,
          0.7726167604059437,
          0.2082475597909048,
          0.325428086569294,
          0.3685237006359112,
          0.39862496820955284,
          0.36129789191787776,
          0.5534409588374958,
          0.6265507254832938,
          0.15361403982028854,
          0.551028032241891,
          0.3694488557791713
         ]
        },
        {
         "hovertemplate": "<b>%{text}</b><br>Normalized: %{y:.2f}<br><extra></extra>",
         "marker": {
          "color": "#00ffff",
          "line": {
           "color": "white",
           "width": 3
          },
          "opacity": 0.7,
          "size": 18,
          "symbol": "circle"
         },
         "mode": "markers",
         "name": "Season Avg (All Teams)",
         "showlegend": false,
         "text": [
          "Unknown<br>Rim Freq: 33.0",
          "Unknown<br>Rim Freq: 22.6",
          "Unknown<br>Rim Freq: 32.5",
          "Unknown<br>Rim Freq: 30.0",
          "Unknown<br>Rim Freq: 30.9",
          "Unknown<br>Rim Freq: 26.8",
          "Unknown<br>Rim Freq: 33.9",
          "Unknown<br>Rim Freq: 27.0",
          "Unknown<br>Rim Freq: 30.8",
          "Unknown<br>Rim Freq: 28.5",
          "Unknown<br>Rim Freq: 29.6",
          "Unknown<br>Rim Freq: 26.9",
          "Unknown<br>Rim Freq: 28.2",
          "Unknown<br>Rim Freq: 27.4",
          "Unknown<br>Rim Freq: 29.0",
          "Unknown<br>Rim Freq: 29.7",
          "Unknown<br>Rim Freq: 32.2",
          "Unknown<br>Rim Freq: 28.9",
          "Unknown<br>Rim Freq: 31.4",
          "Phoenix Suns<br>Rim Freq: 20.2",
          "Unknown<br>Rim Freq: 33.9",
          "Unknown<br>Rim Freq: 21.8",
          "Unknown<br>Rim Freq: 30.0",
          "Unknown<br>Rim Freq: 26.5",
          "Unknown<br>Rim Freq: 35.1",
          "Unknown<br>Rim Freq: 24.9",
          "Unknown<br>Rim Freq: 28.9",
          "Unknown<br>Rim Freq: 28.3",
          "Detroit Pistons<br>Rim Freq: 28.5",
          "Unknown<br>Rim Freq: 27.3"
         ],
         "type": "scatter",
         "x": [
          "Rim Freq",
          "Rim Freq",
          "Rim Freq",
          "Rim Freq",
          "Rim Freq",
          "Rim Freq",
          "Rim Freq",
          "Rim Freq",
          "Rim Freq",
          "Rim Freq",
          "Rim Freq",
          "Rim Freq",
          "Rim Freq",
          "Rim Freq",
          "Rim Freq",
          "Rim Freq",
          "Rim Freq",
          "Rim Freq",
          "Rim Freq",
          "Rim Freq",
          "Rim Freq",
          "Rim Freq",
          "Rim Freq",
          "Rim Freq",
          "Rim Freq",
          "Rim Freq",
          "Rim Freq",
          "Rim Freq",
          "Rim Freq",
          "Rim Freq"
         ],
         "y": [
          0.862809952505742,
          0.15727569504231487,
          0.8282380741956363,
          0.6570368351775671,
          0.7198511074063927,
          0.441226076293999,
          0.9222143773115146,
          0.4566317362235668,
          0.7136264834204329,
          0.5570407090612752,
          0.6336002882457743,
          0.4492473183201118,
          0.5336327777207814,
          0.4816753361541428,
          0.5929927137356621,
          0.634985332226538,
          0.8082558314410198,
          0.5843497499070982,
          0.7560916923718894,
          0,
          0.9236820445005474,
          0.10582956995358273,
          0.6580237338090245,
          0.4194596241942876,
          1.0000000000000002,
          0.31313996741512273,
          0.5847175241860028,
          0.5428752238985366,
          0.5597276701083467,
          0.47380173110260815
         ]
        },
        {
         "hovertemplate": "<b>%{text}</b><br>Normalized: %{y:.2f}<br><extra></extra>",
         "marker": {
          "color": "#00ffff",
          "line": {
           "color": "white",
           "width": 3
          },
          "opacity": 0.7,
          "size": 18,
          "symbol": "circle"
         },
         "mode": "markers",
         "name": "Season Avg (All Teams)",
         "showlegend": false,
         "text": [
          "Unknown<br>EFG%: 53.1",
          "Unknown<br>EFG%: 55.6",
          "Unknown<br>EFG%: 59.4",
          "Unknown<br>EFG%: 49.9",
          "Unknown<br>EFG%: 55.7",
          "Unknown<br>EFG%: 56.3",
          "Unknown<br>EFG%: 56.3",
          "Unknown<br>EFG%: 53.3",
          "Unknown<br>EFG%: 50.4",
          "Unknown<br>EFG%: 54.0",
          "Unknown<br>EFG%: 53.8",
          "Unknown<br>EFG%: 53.8",
          "Unknown<br>EFG%: 56.6",
          "Unknown<br>EFG%: 54.3",
          "Unknown<br>EFG%: 54.1",
          "Unknown<br>EFG%: 58.2",
          "Unknown<br>EFG%: 51.9",
          "Unknown<br>EFG%: 56.3",
          "Unknown<br>EFG%: 51.1",
          "Phoenix Suns<br>EFG%: 56.0",
          "Unknown<br>EFG%: 50.5",
          "Unknown<br>EFG%: 54.2",
          "Unknown<br>EFG%: 53.5",
          "Unknown<br>EFG%: 53.8",
          "Unknown<br>EFG%: 52.7",
          "Unknown<br>EFG%: 53.8",
          "Unknown<br>EFG%: 56.1",
          "Unknown<br>EFG%: 50.7",
          "Detroit Pistons<br>EFG%: 54.2",
          "Unknown<br>EFG%: 51.0"
         ],
         "type": "scatter",
         "x": [
          "EFG%",
          "EFG%",
          "EFG%",
          "EFG%",
          "EFG%",
          "EFG%",
          "EFG%",
          "EFG%",
          "EFG%",
          "EFG%",
          "EFG%",
          "EFG%",
          "EFG%",
          "EFG%",
          "EFG%",
          "EFG%",
          "EFG%",
          "EFG%",
          "EFG%",
          "EFG%",
          "EFG%",
          "EFG%",
          "EFG%",
          "EFG%",
          "EFG%",
          "EFG%",
          "EFG%",
          "EFG%",
          "EFG%",
          "EFG%"
         ],
         "y": [
          0.33507037597575273,
          0.600022634196054,
          1,
          0,
          0.605313765390382,
          0.6727559714389324,
          0.6707851702464165,
          0.35846214649665864,
          0.056051133965818956,
          0.4288616621061285,
          0.4127182515242094,
          0.40667740031405675,
          0.7021835389164455,
          0.46174285013027117,
          0.44253972304154754,
          0.8700376091339468,
          0.21239185318241294,
          0.6729004112939556,
          0.12518300565207063,
          0.637814819663026,
          0.06600556248412559,
          0.45385107008376124,
          0.3743829259901057,
          0.4035303646902486,
          0.29383874718088254,
          0.40388216382412523,
          0.6458758795352537,
          0.07877747604652363,
          0.45504933632774147,
          0.11653336683046156
         ]
        },
        {
         "hovertemplate": "<b>%{text}</b><br>Normalized: %{y:.2f}<br><extra></extra>",
         "marker": {
          "color": "#00ffff",
          "line": {
           "color": "white",
           "width": 3
          },
          "opacity": 0.7,
          "size": 18,
          "symbol": "circle"
         },
         "mode": "markers",
         "name": "Season Avg (All Teams)",
         "showlegend": false,
         "text": [
          "Unknown<br>Rim%: 63.6",
          "Unknown<br>Rim%: 71.2",
          "Unknown<br>Rim%: 64.6",
          "Unknown<br>Rim%: 61.9",
          "Unknown<br>Rim%: 62.3",
          "Unknown<br>Rim%: 70.9",
          "Unknown<br>Rim%: 65.9",
          "Unknown<br>Rim%: 64.6",
          "Unknown<br>Rim%: 64.6",
          "Unknown<br>Rim%: 63.7",
          "Unknown<br>Rim%: 70.1",
          "Unknown<br>Rim%: 62.4",
          "Unknown<br>Rim%: 67.0",
          "Unknown<br>Rim%: 66.3",
          "Unknown<br>Rim%: 60.8",
          "Unknown<br>Rim%: 67.3",
          "Unknown<br>Rim%: 68.3",
          "Unknown<br>Rim%: 68.3",
          "Unknown<br>Rim%: 61.9",
          "Phoenix Suns<br>Rim%: 72.0",
          "Unknown<br>Rim%: 62.3",
          "Unknown<br>Rim%: 71.5",
          "Unknown<br>Rim%: 67.7",
          "Unknown<br>Rim%: 66.4",
          "Unknown<br>Rim%: 61.9",
          "Unknown<br>Rim%: 67.1",
          "Unknown<br>Rim%: 70.6",
          "Unknown<br>Rim%: 67.9",
          "Detroit Pistons<br>Rim%: 66.7",
          "Unknown<br>Rim%: 61.0"
         ],
         "type": "scatter",
         "x": [
          "Rim%",
          "Rim%",
          "Rim%",
          "Rim%",
          "Rim%",
          "Rim%",
          "Rim%",
          "Rim%",
          "Rim%",
          "Rim%",
          "Rim%",
          "Rim%",
          "Rim%",
          "Rim%",
          "Rim%",
          "Rim%",
          "Rim%",
          "Rim%",
          "Rim%",
          "Rim%",
          "Rim%",
          "Rim%",
          "Rim%",
          "Rim%",
          "Rim%",
          "Rim%",
          "Rim%",
          "Rim%",
          "Rim%",
          "Rim%"
         ],
         "y": [
          0.2965827126356455,
          0.9371029151381194,
          0.38562313738824283,
          0.15687416492514306,
          0.19494000808879708,
          0.9099394588856233,
          0.49161078775566924,
          0.38395857708297054,
          0.38013560049879924,
          0.30633429842525217,
          0.8463564530289744,
          0.2002437997780655,
          0.5807587740978741,
          0.5221442769848865,
          0.06333493933686718,
          0.6117572944604266,
          0.6898621202818589,
          0.6918038331969676,
          0.15557169369805557,
          1,
          0.1920063736555564,
          0.955076449886139,
          0.6396220946031645,
          0.5315566887229606,
          0.15592015352853927,
          0.5934401932581395,
          0.8835721706577822,
          0.6569465679568687,
          0.5595975232198152,
          0.08221648228471157
         ]
        },
        {
         "hovertemplate": "<b>%{text}</b><br>Normalized: %{y:.2f}<br><extra></extra>",
         "marker": {
          "color": "#00ffff",
          "line": {
           "color": "white",
           "width": 3
          },
          "opacity": 0.7,
          "size": 18,
          "symbol": "circle"
         },
         "mode": "markers",
         "name": "Season Avg (All Teams)",
         "showlegend": false,
         "text": [
          "Unknown<br>TOV%: 14.0",
          "Unknown<br>TOV%: 10.7",
          "Unknown<br>TOV%: 11.9",
          "Unknown<br>TOV%: 13.3",
          "Unknown<br>TOV%: 13.2",
          "Unknown<br>TOV%: 12.5",
          "Unknown<br>TOV%: 12.9",
          "Unknown<br>TOV%: 12.5",
          "Unknown<br>TOV%: 11.6",
          "Unknown<br>TOV%: 14.7",
          "Unknown<br>TOV%: 12.6",
          "Unknown<br>TOV%: 12.0",
          "Unknown<br>TOV%: 13.0",
          "Unknown<br>TOV%: 14.4",
          "Unknown<br>TOV%: 14.0",
          "Unknown<br>TOV%: 12.3",
          "Unknown<br>TOV%: 13.8",
          "Unknown<br>TOV%: 13.1",
          "Unknown<br>TOV%: 13.2",
          "Phoenix Suns<br>TOV%: 13.0",
          "Unknown<br>TOV%: 14.2",
          "Unknown<br>TOV%: 11.9",
          "Unknown<br>TOV%: 13.3",
          "Unknown<br>TOV%: 10.6",
          "Unknown<br>TOV%: 13.9",
          "Unknown<br>TOV%: 16.3",
          "Unknown<br>TOV%: 14.2",
          "Unknown<br>TOV%: 14.2",
          "Detroit Pistons<br>TOV%: 14.1",
          "Unknown<br>TOV%: 14.0"
         ],
         "type": "scatter",
         "x": [
          "TOV%",
          "TOV%",
          "TOV%",
          "TOV%",
          "TOV%",
          "TOV%",
          "TOV%",
          "TOV%",
          "TOV%",
          "TOV%",
          "TOV%",
          "TOV%",
          "TOV%",
          "TOV%",
          "TOV%",
          "TOV%",
          "TOV%",
          "TOV%",
          "TOV%",
          "TOV%",
          "TOV%",
          "TOV%",
          "TOV%",
          "TOV%",
          "TOV%",
          "TOV%",
          "TOV%",
          "TOV%",
          "TOV%",
          "TOV%"
         ],
         "y": [
          0.5950531569841715,
          0.01847391769340434,
          0.2296875522287305,
          0.4706446390468977,
          0.4486312382545887,
          0.33004943837870604,
          0.4004801312330133,
          0.32635593997152057,
          0.17029564962130994,
          0.718252091600128,
          0.3508388722778881,
          0.2521561647386692,
          0.4170035975334616,
          0.6657973785710127,
          0.5890019618177416,
          0.2972851170089008,
          0.5519436560995259,
          0.4420307738155227,
          0.44844729527092264,
          0.4214904482136643,
          0.6273083757261011,
          0.22999286791093088,
          0.4765278499399268,
          0,
          0.5814266838800433,
          1,
          0.6217275146682781,
          0.6362772080925714,
          0.6153382904146238,
          0.5856515350208595
         ]
        },
        {
         "hovertemplate": "<b>%{text}</b><br>Normalized: %{y:.2f}<br><extra></extra>",
         "marker": {
          "color": "#00ffff",
          "line": {
           "color": "white",
           "width": 3
          },
          "opacity": 0.7,
          "size": 18,
          "symbol": "circle"
         },
         "mode": "markers",
         "name": "Season Avg (All Teams)",
         "showlegend": false,
         "text": [
          "Unknown<br>DREB%: 72.1",
          "Unknown<br>DREB%: 73.6",
          "Unknown<br>DREB%: 71.8",
          "Unknown<br>DREB%: 68.5",
          "Unknown<br>DREB%: 73.9",
          "Unknown<br>DREB%: 70.9",
          "Unknown<br>DREB%: 71.9",
          "Unknown<br>DREB%: 72.5",
          "Unknown<br>DREB%: 73.2",
          "Unknown<br>DREB%: 74.3",
          "Unknown<br>DREB%: 71.2",
          "Unknown<br>DREB%: 72.9",
          "Unknown<br>DREB%: 74.0",
          "Unknown<br>DREB%: 73.1",
          "Unknown<br>DREB%: 71.0",
          "Unknown<br>DREB%: 73.0",
          "Unknown<br>DREB%: 74.9",
          "Unknown<br>DREB%: 71.1",
          "Unknown<br>DREB%: 71.5",
          "Phoenix Suns<br>DREB%: 73.8",
          "Unknown<br>DREB%: 67.9",
          "Unknown<br>DREB%: 73.2",
          "Unknown<br>DREB%: 71.6",
          "Unknown<br>DREB%: 68.6",
          "Unknown<br>DREB%: 70.9",
          "Unknown<br>DREB%: 71.7",
          "Unknown<br>DREB%: 71.0",
          "Unknown<br>DREB%: 69.3",
          "Detroit Pistons<br>DREB%: 73.3",
          "Unknown<br>DREB%: 71.8"
         ],
         "type": "scatter",
         "x": [
          "DREB%",
          "DREB%",
          "DREB%",
          "DREB%",
          "DREB%",
          "DREB%",
          "DREB%",
          "DREB%",
          "DREB%",
          "DREB%",
          "DREB%",
          "DREB%",
          "DREB%",
          "DREB%",
          "DREB%",
          "DREB%",
          "DREB%",
          "DREB%",
          "DREB%",
          "DREB%",
          "DREB%",
          "DREB%",
          "DREB%",
          "DREB%",
          "DREB%",
          "DREB%",
          "DREB%",
          "DREB%",
          "DREB%",
          "DREB%"
         ],
         "y": [
          0.6002599038908869,
          0.8160527655976555,
          0.5581938042442882,
          0.0865380495117023,
          0.8500675976273335,
          0.42440898260832505,
          0.5732426270505879,
          0.6548472909482754,
          0.753647044556363,
          0.910892967461983,
          0.4738499521082282,
          0.7172141454966319,
          0.8696997135897035,
          0.744861406539659,
          0.4437641898864815,
          0.7192338227271762,
          1,
          0.46447695667898614,
          0.5165129045945278,
          0.8408965651050941,
          0,
          0.7592558825042595,
          0.5302286060379586,
          0.1032673667338937,
          0.42407714030569643,
          0.5492163753966146,
          0.4494669631048005,
          0.20762175838077113,
          0.7633178706007016,
          0.5499556822869973
         ]
        },
        {
         "hovertemplate": "<b>%{text}</b><br>Normalized: %{y:.2f}<br><extra></extra>",
         "marker": {
          "color": "#00ffff",
          "line": {
           "color": "white",
           "width": 3
          },
          "opacity": 0.7,
          "size": 18,
          "symbol": "circle"
         },
         "mode": "markers",
         "name": "Season Avg (All Teams)",
         "showlegend": false,
         "text": [
          "Unknown<br>OREB%: 30.3",
          "Unknown<br>OREB%: 27.1",
          "Unknown<br>OREB%: 25.3",
          "Unknown<br>OREB%: 30.0",
          "Unknown<br>OREB%: 23.6",
          "Unknown<br>OREB%: 28.5",
          "Unknown<br>OREB%: 29.8",
          "Unknown<br>OREB%: 29.8",
          "Unknown<br>OREB%: 34.0",
          "Unknown<br>OREB%: 27.9",
          "Unknown<br>OREB%: 25.0",
          "Unknown<br>OREB%: 26.9",
          "Unknown<br>OREB%: 21.8",
          "Unknown<br>OREB%: 26.1",
          "Unknown<br>OREB%: 25.1",
          "Unknown<br>OREB%: 27.6",
          "Unknown<br>OREB%: 29.5",
          "Unknown<br>OREB%: 23.0",
          "Unknown<br>OREB%: 26.4",
          "Phoenix Suns<br>OREB%: 24.8",
          "Unknown<br>OREB%: 31.1",
          "Unknown<br>OREB%: 27.1",
          "Unknown<br>OREB%: 27.2",
          "Unknown<br>OREB%: 26.3",
          "Unknown<br>OREB%: 32.5",
          "Unknown<br>OREB%: 32.3",
          "Unknown<br>OREB%: 32.4",
          "Unknown<br>OREB%: 26.5",
          "Detroit Pistons<br>OREB%: 28.3",
          "Unknown<br>OREB%: 32.0"
         ],
         "type": "scatter",
         "x": [
          "OREB%",
          "OREB%",
          "OREB%",
          "OREB%",
          "OREB%",
          "OREB%",
          "OREB%",
          "OREB%",
          "OREB%",
          "OREB%",
          "OREB%",
          "OREB%",
          "OREB%",
          "OREB%",
          "OREB%",
          "OREB%",
          "OREB%",
          "OREB%",
          "OREB%",
          "OREB%",
          "OREB%",
          "OREB%",
          "OREB%",
          "OREB%",
          "OREB%",
          "OREB%",
          "OREB%",
          "OREB%",
          "OREB%",
          "OREB%"
         ],
         "y": [
          0.7623098447681667,
          0.5517516512198872,
          0.4349141867662931,
          0.7389398515893233,
          0.3283151960111177,
          0.642455258545054,
          0.7268392710694775,
          0.7293650453210345,
          0.9999999999999998,
          0.6049394659976539,
          0.41605385266771244,
          0.5392358983282599,
          0.20912512207757206,
          0.4897979390506968,
          0.42481357590740676,
          0.5833966048012775,
          0.7074826612747629,
          0.28492321385871766,
          0.5078186967470735,
          0.4054083764138885,
          0.8158339324758634,
          0.5514414730905008,
          0.5607590743210529,
          0.5046624341184345,
          0.9012855929085088,
          0.8929482563864746,
          0.9004365122445599,
          0.5153923241495371,
          0.6294976972192214,
          0.8728715050016651
         ]
        },
        {
         "hovertemplate": "<b>%{text}</b><br>Normalized: %{y:.2f}<br><extra></extra>",
         "marker": {
          "color": "#ff4d4d",
          "line": {
           "color": "#0A0A0A",
           "width": 3
          },
          "opacity": 1,
          "size": 21,
          "symbol": "diamond"
         },
         "mode": "markers+text",
         "name": "OKC : Jalen On | Shai Off",
         "showlegend": true,
         "text": [
          "106.1"
         ],
         "textfont": {
          "color": "#ffffff",
          "size": 20
         },
         "textposition": "top right",
         "type": "scatter",
         "x": [
          "Points"
         ],
         "y": [
          0.06062060300670158
         ]
        },
        {
         "hovertemplate": "<b>%{text}</b><br>Normalized: %{y:.2f}<br><extra></extra>",
         "marker": {
          "color": "#ff4d4d",
          "line": {
           "color": "#0A0A0A",
           "width": 3
          },
          "opacity": 1,
          "size": 21,
          "symbol": "diamond"
         },
         "mode": "markers+text",
         "name": "OKC : Jalen On | Shai Off",
         "showlegend": false,
         "text": [
          "103.9"
         ],
         "textfont": {
          "color": "#ffffff",
          "size": 20
         },
         "textposition": "top right",
         "type": "scatter",
         "x": [
          "Opp Points"
         ],
         "y": [
          0
         ]
        },
        {
         "hovertemplate": "<b>%{text}</b><br>Normalized: %{y:.2f}<br><extra></extra>",
         "marker": {
          "color": "#ff4d4d",
          "line": {
           "color": "#0A0A0A",
           "width": 3
          },
          "opacity": 1,
          "size": 21,
          "symbol": "diamond"
         },
         "mode": "markers+text",
         "name": "OKC : Jalen On | Shai Off",
         "showlegend": false,
         "text": [
          "18.5"
         ],
         "textfont": {
          "color": "#ffffff",
          "size": 20
         },
         "textposition": "top right",
         "type": "scatter",
         "x": [
          "FTA"
         ],
         "y": [
          0
         ]
        },
        {
         "hovertemplate": "<b>%{text}</b><br>Normalized: %{y:.2f}<br><extra></extra>",
         "marker": {
          "color": "#ff4d4d",
          "line": {
           "color": "#0A0A0A",
           "width": 3
          },
          "opacity": 1,
          "size": 21,
          "symbol": "diamond"
         },
         "mode": "markers+text",
         "name": "OKC : Jalen On | Shai Off",
         "showlegend": false,
         "text": [
          "14.3"
         ],
         "textfont": {
          "color": "#ffffff",
          "size": 20
         },
         "textposition": "top right",
         "type": "scatter",
         "x": [
          "FtPoints"
         ],
         "y": [
          0
         ]
        },
        {
         "hovertemplate": "<b>%{text}</b><br>Normalized: %{y:.2f}<br><extra></extra>",
         "marker": {
          "color": "#ff4d4d",
          "line": {
           "color": "#0A0A0A",
           "width": 3
          },
          "opacity": 1,
          "size": 21,
          "symbol": "diamond"
         },
         "mode": "markers+text",
         "name": "OKC : Jalen On | Shai Off",
         "showlegend": false,
         "text": [
          "35.4"
         ],
         "textfont": {
          "color": "#ffffff",
          "size": 20
         },
         "textposition": "top right",
         "type": "scatter",
         "x": [
          "3P%"
         ],
         "y": [
          0.4540272791001385
         ]
        },
        {
         "hovertemplate": "<b>%{text}</b><br>Normalized: %{y:.2f}<br><extra></extra>",
         "marker": {
          "color": "#ff4d4d",
          "line": {
           "color": "#0A0A0A",
           "width": 3
          },
          "opacity": 1,
          "size": 21,
          "symbol": "diamond"
         },
         "mode": "markers+text",
         "name": "OKC : Jalen On | Shai Off",
         "showlegend": false,
         "text": [
          "30.5"
         ],
         "textfont": {
          "color": "#ffffff",
          "size": 20
         },
         "textposition": "top right",
         "type": "scatter",
         "x": [
          "Rim Freq"
         ],
         "y": [
          0.6943426299340969
         ]
        },
        {
         "hovertemplate": "<b>%{text}</b><br>Normalized: %{y:.2f}<br><extra></extra>",
         "marker": {
          "color": "#ff4d4d",
          "line": {
           "color": "#0A0A0A",
           "width": 3
          },
          "opacity": 1,
          "size": 21,
          "symbol": "diamond"
         },
         "mode": "markers+text",
         "name": "OKC : Jalen On | Shai Off",
         "showlegend": false,
         "text": [
          "52.0"
         ],
         "textfont": {
          "color": "#ffffff",
          "size": 20
         },
         "textposition": "top right",
         "type": "scatter",
         "x": [
          "EFG%"
         ],
         "y": [
          0.2200244687837225
         ]
        },
        {
         "hovertemplate": "<b>%{text}</b><br>Normalized: %{y:.2f}<br><extra></extra>",
         "marker": {
          "color": "#ff4d4d",
          "line": {
           "color": "#0A0A0A",
           "width": 3
          },
          "opacity": 1,
          "size": 21,
          "symbol": "diamond"
         },
         "mode": "markers+text",
         "name": "OKC : Jalen On | Shai Off",
         "showlegend": false,
         "text": [
          "60.0"
         ],
         "textfont": {
          "color": "#ffffff",
          "size": 20
         },
         "textposition": "top right",
         "type": "scatter",
         "x": [
          "Rim%"
         ],
         "y": [
          0
         ]
        },
        {
         "hovertemplate": "<b>%{text}</b><br>Normalized: %{y:.2f}<br><extra></extra>",
         "marker": {
          "color": "#ff4d4d",
          "line": {
           "color": "#0A0A0A",
           "width": 3
          },
          "opacity": 1,
          "size": 21,
          "symbol": "diamond"
         },
         "mode": "markers+text",
         "name": "OKC : Jalen On | Shai Off",
         "showlegend": false,
         "text": [
          "12.8"
         ],
         "textfont": {
          "color": "#ffffff",
          "size": 20
         },
         "textposition": "top right",
         "type": "scatter",
         "x": [
          "TOV%"
         ],
         "y": [
          0.3853098547053939
         ]
        },
        {
         "hovertemplate": "<b>%{text}</b><br>Normalized: %{y:.2f}<br><extra></extra>",
         "marker": {
          "color": "#ff4d4d",
          "line": {
           "color": "#0A0A0A",
           "width": 3
          },
          "opacity": 1,
          "size": 21,
          "symbol": "diamond"
         },
         "mode": "markers+text",
         "name": "OKC : Jalen On | Shai Off",
         "showlegend": false,
         "text": [
          "68.9"
         ],
         "textfont": {
          "color": "#ffffff",
          "size": 20
         },
         "textposition": "top right",
         "type": "scatter",
         "x": [
          "DREB%"
         ],
         "y": [
          0.1451285226392418
         ]
        },
        {
         "hovertemplate": "<b>%{text}</b><br>Normalized: %{y:.2f}<br><extra></extra>",
         "marker": {
          "color": "#ff4d4d",
          "line": {
           "color": "#0A0A0A",
           "width": 3
          },
          "opacity": 1,
          "size": 21,
          "symbol": "diamond"
         },
         "mode": "markers+text",
         "name": "OKC : Jalen On | Shai Off",
         "showlegend": false,
         "text": [
          "18.6"
         ],
         "textfont": {
          "color": "#ffffff",
          "size": 20
         },
         "textposition": "top right",
         "type": "scatter",
         "x": [
          "OREB%"
         ],
         "y": [
          0
         ]
        }
       ],
       "layout": {
        "height": 1000,
        "hovermode": "closest",
        "legend": {
         "bgcolor": "#1a1a1a",
         "font": {
          "color": "#ffffff",
          "size": 16
         },
         "orientation": "h",
         "x": 0.5,
         "xanchor": "center",
         "y": 1.02,
         "yanchor": "bottom"
        },
        "paper_bgcolor": "#1a1a1a",
        "plot_bgcolor": "#1a1a1a",
        "showlegend": true,
        "template": {
         "data": {
          "bar": [
           {
            "error_x": {
             "color": "#2a3f5f"
            },
            "error_y": {
             "color": "#2a3f5f"
            },
            "marker": {
             "line": {
              "color": "#E5ECF6",
              "width": 0.5
             },
             "pattern": {
              "fillmode": "overlay",
              "size": 10,
              "solidity": 0.2
             }
            },
            "type": "bar"
           }
          ],
          "barpolar": [
           {
            "marker": {
             "line": {
              "color": "#E5ECF6",
              "width": 0.5
             },
             "pattern": {
              "fillmode": "overlay",
              "size": 10,
              "solidity": 0.2
             }
            },
            "type": "barpolar"
           }
          ],
          "carpet": [
           {
            "aaxis": {
             "endlinecolor": "#2a3f5f",
             "gridcolor": "white",
             "linecolor": "white",
             "minorgridcolor": "white",
             "startlinecolor": "#2a3f5f"
            },
            "baxis": {
             "endlinecolor": "#2a3f5f",
             "gridcolor": "white",
             "linecolor": "white",
             "minorgridcolor": "white",
             "startlinecolor": "#2a3f5f"
            },
            "type": "carpet"
           }
          ],
          "choropleth": [
           {
            "colorbar": {
             "outlinewidth": 0,
             "ticks": ""
            },
            "type": "choropleth"
           }
          ],
          "contour": [
           {
            "colorbar": {
             "outlinewidth": 0,
             "ticks": ""
            },
            "colorscale": [
             [
              0,
              "#0d0887"
             ],
             [
              0.1111111111111111,
              "#46039f"
             ],
             [
              0.2222222222222222,
              "#7201a8"
             ],
             [
              0.3333333333333333,
              "#9c179e"
             ],
             [
              0.4444444444444444,
              "#bd3786"
             ],
             [
              0.5555555555555556,
              "#d8576b"
             ],
             [
              0.6666666666666666,
              "#ed7953"
             ],
             [
              0.7777777777777778,
              "#fb9f3a"
             ],
             [
              0.8888888888888888,
              "#fdca26"
             ],
             [
              1,
              "#f0f921"
             ]
            ],
            "type": "contour"
           }
          ],
          "contourcarpet": [
           {
            "colorbar": {
             "outlinewidth": 0,
             "ticks": ""
            },
            "type": "contourcarpet"
           }
          ],
          "heatmap": [
           {
            "colorbar": {
             "outlinewidth": 0,
             "ticks": ""
            },
            "colorscale": [
             [
              0,
              "#0d0887"
             ],
             [
              0.1111111111111111,
              "#46039f"
             ],
             [
              0.2222222222222222,
              "#7201a8"
             ],
             [
              0.3333333333333333,
              "#9c179e"
             ],
             [
              0.4444444444444444,
              "#bd3786"
             ],
             [
              0.5555555555555556,
              "#d8576b"
             ],
             [
              0.6666666666666666,
              "#ed7953"
             ],
             [
              0.7777777777777778,
              "#fb9f3a"
             ],
             [
              0.8888888888888888,
              "#fdca26"
             ],
             [
              1,
              "#f0f921"
             ]
            ],
            "type": "heatmap"
           }
          ],
          "heatmapgl": [
           {
            "colorbar": {
             "outlinewidth": 0,
             "ticks": ""
            },
            "colorscale": [
             [
              0,
              "#0d0887"
             ],
             [
              0.1111111111111111,
              "#46039f"
             ],
             [
              0.2222222222222222,
              "#7201a8"
             ],
             [
              0.3333333333333333,
              "#9c179e"
             ],
             [
              0.4444444444444444,
              "#bd3786"
             ],
             [
              0.5555555555555556,
              "#d8576b"
             ],
             [
              0.6666666666666666,
              "#ed7953"
             ],
             [
              0.7777777777777778,
              "#fb9f3a"
             ],
             [
              0.8888888888888888,
              "#fdca26"
             ],
             [
              1,
              "#f0f921"
             ]
            ],
            "type": "heatmapgl"
           }
          ],
          "histogram": [
           {
            "marker": {
             "pattern": {
              "fillmode": "overlay",
              "size": 10,
              "solidity": 0.2
             }
            },
            "type": "histogram"
           }
          ],
          "histogram2d": [
           {
            "colorbar": {
             "outlinewidth": 0,
             "ticks": ""
            },
            "colorscale": [
             [
              0,
              "#0d0887"
             ],
             [
              0.1111111111111111,
              "#46039f"
             ],
             [
              0.2222222222222222,
              "#7201a8"
             ],
             [
              0.3333333333333333,
              "#9c179e"
             ],
             [
              0.4444444444444444,
              "#bd3786"
             ],
             [
              0.5555555555555556,
              "#d8576b"
             ],
             [
              0.6666666666666666,
              "#ed7953"
             ],
             [
              0.7777777777777778,
              "#fb9f3a"
             ],
             [
              0.8888888888888888,
              "#fdca26"
             ],
             [
              1,
              "#f0f921"
             ]
            ],
            "type": "histogram2d"
           }
          ],
          "histogram2dcontour": [
           {
            "colorbar": {
             "outlinewidth": 0,
             "ticks": ""
            },
            "colorscale": [
             [
              0,
              "#0d0887"
             ],
             [
              0.1111111111111111,
              "#46039f"
             ],
             [
              0.2222222222222222,
              "#7201a8"
             ],
             [
              0.3333333333333333,
              "#9c179e"
             ],
             [
              0.4444444444444444,
              "#bd3786"
             ],
             [
              0.5555555555555556,
              "#d8576b"
             ],
             [
              0.6666666666666666,
              "#ed7953"
             ],
             [
              0.7777777777777778,
              "#fb9f3a"
             ],
             [
              0.8888888888888888,
              "#fdca26"
             ],
             [
              1,
              "#f0f921"
             ]
            ],
            "type": "histogram2dcontour"
           }
          ],
          "mesh3d": [
           {
            "colorbar": {
             "outlinewidth": 0,
             "ticks": ""
            },
            "type": "mesh3d"
           }
          ],
          "parcoords": [
           {
            "line": {
             "colorbar": {
              "outlinewidth": 0,
              "ticks": ""
             }
            },
            "type": "parcoords"
           }
          ],
          "pie": [
           {
            "automargin": true,
            "type": "pie"
           }
          ],
          "scatter": [
           {
            "fillpattern": {
             "fillmode": "overlay",
             "size": 10,
             "solidity": 0.2
            },
            "type": "scatter"
           }
          ],
          "scatter3d": [
           {
            "line": {
             "colorbar": {
              "outlinewidth": 0,
              "ticks": ""
             }
            },
            "marker": {
             "colorbar": {
              "outlinewidth": 0,
              "ticks": ""
             }
            },
            "type": "scatter3d"
           }
          ],
          "scattercarpet": [
           {
            "marker": {
             "colorbar": {
              "outlinewidth": 0,
              "ticks": ""
             }
            },
            "type": "scattercarpet"
           }
          ],
          "scattergeo": [
           {
            "marker": {
             "colorbar": {
              "outlinewidth": 0,
              "ticks": ""
             }
            },
            "type": "scattergeo"
           }
          ],
          "scattergl": [
           {
            "marker": {
             "colorbar": {
              "outlinewidth": 0,
              "ticks": ""
             }
            },
            "type": "scattergl"
           }
          ],
          "scattermapbox": [
           {
            "marker": {
             "colorbar": {
              "outlinewidth": 0,
              "ticks": ""
             }
            },
            "type": "scattermapbox"
           }
          ],
          "scatterpolar": [
           {
            "marker": {
             "colorbar": {
              "outlinewidth": 0,
              "ticks": ""
             }
            },
            "type": "scatterpolar"
           }
          ],
          "scatterpolargl": [
           {
            "marker": {
             "colorbar": {
              "outlinewidth": 0,
              "ticks": ""
             }
            },
            "type": "scatterpolargl"
           }
          ],
          "scatterternary": [
           {
            "marker": {
             "colorbar": {
              "outlinewidth": 0,
              "ticks": ""
             }
            },
            "type": "scatterternary"
           }
          ],
          "surface": [
           {
            "colorbar": {
             "outlinewidth": 0,
             "ticks": ""
            },
            "colorscale": [
             [
              0,
              "#0d0887"
             ],
             [
              0.1111111111111111,
              "#46039f"
             ],
             [
              0.2222222222222222,
              "#7201a8"
             ],
             [
              0.3333333333333333,
              "#9c179e"
             ],
             [
              0.4444444444444444,
              "#bd3786"
             ],
             [
              0.5555555555555556,
              "#d8576b"
             ],
             [
              0.6666666666666666,
              "#ed7953"
             ],
             [
              0.7777777777777778,
              "#fb9f3a"
             ],
             [
              0.8888888888888888,
              "#fdca26"
             ],
             [
              1,
              "#f0f921"
             ]
            ],
            "type": "surface"
           }
          ],
          "table": [
           {
            "cells": {
             "fill": {
              "color": "#EBF0F8"
             },
             "line": {
              "color": "white"
             }
            },
            "header": {
             "fill": {
              "color": "#C8D4E3"
             },
             "line": {
              "color": "white"
             }
            },
            "type": "table"
           }
          ]
         },
         "layout": {
          "annotationdefaults": {
           "arrowcolor": "#2a3f5f",
           "arrowhead": 0,
           "arrowwidth": 1
          },
          "autotypenumbers": "strict",
          "coloraxis": {
           "colorbar": {
            "outlinewidth": 0,
            "ticks": ""
           }
          },
          "colorscale": {
           "diverging": [
            [
             0,
             "#8e0152"
            ],
            [
             0.1,
             "#c51b7d"
            ],
            [
             0.2,
             "#de77ae"
            ],
            [
             0.3,
             "#f1b6da"
            ],
            [
             0.4,
             "#fde0ef"
            ],
            [
             0.5,
             "#f7f7f7"
            ],
            [
             0.6,
             "#e6f5d0"
            ],
            [
             0.7,
             "#b8e186"
            ],
            [
             0.8,
             "#7fbc41"
            ],
            [
             0.9,
             "#4d9221"
            ],
            [
             1,
             "#276419"
            ]
           ],
           "sequential": [
            [
             0,
             "#0d0887"
            ],
            [
             0.1111111111111111,
             "#46039f"
            ],
            [
             0.2222222222222222,
             "#7201a8"
            ],
            [
             0.3333333333333333,
             "#9c179e"
            ],
            [
             0.4444444444444444,
             "#bd3786"
            ],
            [
             0.5555555555555556,
             "#d8576b"
            ],
            [
             0.6666666666666666,
             "#ed7953"
            ],
            [
             0.7777777777777778,
             "#fb9f3a"
            ],
            [
             0.8888888888888888,
             "#fdca26"
            ],
            [
             1,
             "#f0f921"
            ]
           ],
           "sequentialminus": [
            [
             0,
             "#0d0887"
            ],
            [
             0.1111111111111111,
             "#46039f"
            ],
            [
             0.2222222222222222,
             "#7201a8"
            ],
            [
             0.3333333333333333,
             "#9c179e"
            ],
            [
             0.4444444444444444,
             "#bd3786"
            ],
            [
             0.5555555555555556,
             "#d8576b"
            ],
            [
             0.6666666666666666,
             "#ed7953"
            ],
            [
             0.7777777777777778,
             "#fb9f3a"
            ],
            [
             0.8888888888888888,
             "#fdca26"
            ],
            [
             1,
             "#f0f921"
            ]
           ]
          },
          "colorway": [
           "#636efa",
           "#EF553B",
           "#00cc96",
           "#ab63fa",
           "#FFA15A",
           "#19d3f3",
           "#FF6692",
           "#B6E880",
           "#FF97FF",
           "#FECB52"
          ],
          "font": {
           "color": "#2a3f5f"
          },
          "geo": {
           "bgcolor": "white",
           "lakecolor": "white",
           "landcolor": "#E5ECF6",
           "showlakes": true,
           "showland": true,
           "subunitcolor": "white"
          },
          "hoverlabel": {
           "align": "left"
          },
          "hovermode": "closest",
          "mapbox": {
           "style": "light"
          },
          "paper_bgcolor": "white",
          "plot_bgcolor": "#E5ECF6",
          "polar": {
           "angularaxis": {
            "gridcolor": "white",
            "linecolor": "white",
            "ticks": ""
           },
           "bgcolor": "#E5ECF6",
           "radialaxis": {
            "gridcolor": "white",
            "linecolor": "white",
            "ticks": ""
           }
          },
          "scene": {
           "xaxis": {
            "backgroundcolor": "#E5ECF6",
            "gridcolor": "white",
            "gridwidth": 2,
            "linecolor": "white",
            "showbackground": true,
            "ticks": "",
            "zerolinecolor": "white"
           },
           "yaxis": {
            "backgroundcolor": "#E5ECF6",
            "gridcolor": "white",
            "gridwidth": 2,
            "linecolor": "white",
            "showbackground": true,
            "ticks": "",
            "zerolinecolor": "white"
           },
           "zaxis": {
            "backgroundcolor": "#E5ECF6",
            "gridcolor": "white",
            "gridwidth": 2,
            "linecolor": "white",
            "showbackground": true,
            "ticks": "",
            "zerolinecolor": "white"
           }
          },
          "shapedefaults": {
           "line": {
            "color": "#2a3f5f"
           }
          },
          "ternary": {
           "aaxis": {
            "gridcolor": "white",
            "linecolor": "white",
            "ticks": ""
           },
           "baxis": {
            "gridcolor": "white",
            "linecolor": "white",
            "ticks": ""
           },
           "bgcolor": "#E5ECF6",
           "caxis": {
            "gridcolor": "white",
            "linecolor": "white",
            "ticks": ""
           }
          },
          "title": {
           "x": 0.05
          },
          "xaxis": {
           "automargin": true,
           "gridcolor": "white",
           "linecolor": "white",
           "ticks": "",
           "title": {
            "standoff": 15
           },
           "zerolinecolor": "white",
           "zerolinewidth": 2
          },
          "yaxis": {
           "automargin": true,
           "gridcolor": "white",
           "linecolor": "white",
           "ticks": "",
           "title": {
            "standoff": 15
           },
           "zerolinecolor": "white",
           "zerolinewidth": 2
          }
         }
        },
        "title": {
         "font": {
          "color": "#ffffff",
          "size": 24
         },
         "text": "NBA Beeswarm Comparison 2025-2025",
         "x": 0.5,
         "y": 0.99
        },
        "width": 1600,
        "xaxis": {
         "autorange": true,
         "categoryarray": [
          "Points",
          "Opp Points",
          "FTA",
          "FtPoints",
          "3P%",
          "Rim Freq",
          "EFG%",
          "Rim%",
          "TOV%",
          "DREB%",
          "OREB%"
         ],
         "categoryorder": "array",
         "gridcolor": "rgba(255, 255, 255, 0.1)",
         "range": [
          -0.6704075605434141,
          10.670407560543413
         ],
         "showgrid": false,
         "tickangle": -45,
         "tickfont": {
          "color": "#ffffff",
          "size": 14
         },
         "type": "category"
        },
        "yaxis": {
         "gridcolor": "rgba(255, 255, 255, 0.1)",
         "range": [
          -0.1,
          1.1
         ],
         "showgrid": false,
         "showticklabels": false,
         "title": {
          "font": {
           "color": "#ffffff",
           "size": 16
          },
          "text": "Normalized Value"
         },
         "type": "linear",
         "zeroline": true,
         "zerolinecolor": "rgba(255, 255, 255, 0.1)"
        }
       }
      },
      "image/png": "[encoded data removed]",
      "text/html": [
       "<div>                            <div id=\"b949f937-af15-4250-b6df-20c4198c39a6\" class=\"plotly-graph-div\" style=\"height:1000px; width:1600px;\"></div>            <script type=\"text/javascript\">                require([\"plotly\"], function(Plotly) {                    window.PLOTLYENV=window.PLOTLYENV || {};                                    if (document.getElementById(\"b949f937-af15-4250-b6df-20c4198c39a6\")) {                    Plotly.newPlot(                        \"b949f937-af15-4250-b6df-20c4198c39a6\",                        [{\"hovertemplate\":\"\\u003cb\\u003e%{text}\\u003c\\u002fb\\u003e\\u003cbr\\u003eNormalized: %{y:.2f}\\u003cbr\\u003e\\u003cextra\\u003e\\u003c\\u002fextra\\u003e\",\"marker\":{\"color\":\"#00ffff\",\"line\":{\"color\":\"white\",\"width\":3},\"opacity\":0.7,\"size\":18,\"symbol\":\"circle\"},\"mode\":\"markers\",\"name\":\"Season Avg (All Teams)\",\"showlegend\":false,\"text\":[\"Unknown\\u003cbr\\u003ePoints: 112.0\",\"Unknown\\u003cbr\\u003ePoints: 119.9\",\"Unknown\\u003cbr\\u003ePoints: 122.0\",\"Unknown\\u003cbr\\u003ePoints: 107.3\",\"Unknown\\u003cbr\\u003ePoints: 113.5\",\"Unknown\\u003cbr\\u003ePoints: 118.6\",\"Unknown\\u003cbr\\u003ePoints: 117.7\",\"Unknown\\u003cbr\\u003ePoints: 112.8\",\"Unknown\\u003cbr\\u003ePoints: 113.1\",\"Unknown\\u003cbr\\u003ePoints: 111.6\",\"Unknown\\u003cbr\\u003ePoints: 112.9\",\"Unknown\\u003cbr\\u003ePoints: 114.9\",\"Unknown\\u003cbr\\u003ePoints: 113.8\",\"Unknown\\u003cbr\\u003ePoints: 111.2\",\"Unknown\\u003cbr\\u003ePoints: 112.5\",\"Unknown\\u003cbr\\u003ePoints: 121.6\",\"Unknown\\u003cbr\\u003ePoints: 111.1\",\"Unknown\\u003cbr\\u003ePoints: 114.2\",\"Unknown\\u003cbr\\u003ePoints: 108.7\",\"Phoenix Suns\\u003cbr\\u003ePoints: 115.2\",\"Unknown\\u003cbr\\u003ePoints: 108.2\",\"Unknown\\u003cbr\\u003ePoints: 115.6\",\"Unknown\\u003cbr\\u003ePoints: 112.6\",\"Unknown\\u003cbr\\u003ePoints: 115.8\",\"Unknown\\u003cbr\\u003ePoints: 111.5\",\"Unknown\\u003cbr\\u003ePoints: 111.4\",\"Unknown\\u003cbr\\u003ePoints: 117.6\",\"Unknown\\u003cbr\\u003ePoints: 105.0\",\"Detroit Pistons\\u003cbr\\u003ePoints: 112.4\",\"Unknown\\u003cbr\\u003ePoints: 109.4\"],\"x\":[\"Points\",\"Points\",\"Points\",\"Points\",\"Points\",\"Points\",\"Points\",\"Points\",\"Points\",\"Points\",\"Points\",\"Points\",\"Points\",\"Points\",\"Points\",\"Points\",\"Points\",\"Points\",\"Points\",\"Points\",\"Points\",\"Points\",\"Points\",\"Points\",\"Points\",\"Points\",\"Points\",\"Points\",\"Points\",\"Points\"],\"y\":[0.4111752567881206,0.8803690023288926,1.0,0.1321152656014597,0.4999066760397488,0.8003112326452735,0.7498739643997654,0.4602732318674665,0.4756917138561114,0.39061729804143486,0.4637670907036684,0.5810779432828959,0.5157874612097215,0.36636810269843245,0.4404878258934639,0.9778021954917699,0.35984626322357993,0.5411842683848986,0.21432900306740965,0.5982321877077554,0.18819028846854025,0.6246884730238875,0.44435379526820995,0.6368985589949183,0.38466622739151735,0.37364440521222875,0.7450670653280449,0.0,0.43236258182902443,0.2598158074747552],\"type\":\"scatter\"},{\"hovertemplate\":\"\\u003cb\\u003e%{text}\\u003c\\u002fb\\u003e\\u003cbr\\u003eNormalized: %{y:.2f}\\u003cbr\\u003e\\u003cextra\\u003e\\u003c\\u002fextra\\u003e\",\"marker\":{\"color\":\"#00ffff\",\"line\":{\"color\":\"white\",\"width\":3},\"opacity\":0.7,\"size\":18,\"symbol\":\"circle\"},\"mode\":\"markers\",\"name\":\"Season Avg (All Teams)\",\"showlegend\":false,\"text\":[\"Unknown\\u003cbr\\u003eOpp Points: 114.2\",\"Unknown\\u003cbr\\u003eOpp Points: 110.6\",\"Unknown\\u003cbr\\u003eOpp Points: 110.8\",\"Unknown\\u003cbr\\u003eOpp Points: 119.1\",\"Unknown\\u003cbr\\u003eOpp Points: 116.6\",\"Unknown\\u003cbr\\u003eOpp Points: 112.1\",\"Unknown\\u003cbr\\u003eOpp Points: 113.5\",\"Unknown\\u003cbr\\u003eOpp Points: 110.8\",\"Unknown\\u003cbr\\u003eOpp Points: 106.7\",\"Unknown\\u003cbr\\u003eOpp Points: 109.5\",\"Unknown\\u003cbr\\u003eOpp Points: 115.4\",\"Unknown\\u003cbr\\u003eOpp Points: 111.6\",\"Unknown\\u003cbr\\u003eOpp Points: 112.7\",\"Unknown\\u003cbr\\u003eOpp Points: 109.4\",\"Unknown\\u003cbr\\u003eOpp Points: 118.2\",\"Unknown\\u003cbr\\u003eOpp Points: 113.7\",\"Unknown\\u003cbr\\u003eOpp Points: 107.5\",\"Unknown\\u003cbr\\u003eOpp Points: 115.1\",\"Unknown\\u003cbr\\u003eOpp Points: 113.3\",\"Phoenix Suns\\u003cbr\\u003eOpp Points: 116.9\",\"Unknown\\u003cbr\\u003eOpp Points: 118.2\",\"Unknown\\u003cbr\\u003eOpp Points: 114.3\",\"Unknown\\u003cbr\\u003eOpp Points: 114.0\",\"Unknown\\u003cbr\\u003eOpp Points: 104.3\",\"Unknown\\u003cbr\\u003eOpp Points: 116.6\",\"Unknown\\u003cbr\\u003eOpp Points: 120.4\",\"Unknown\\u003cbr\\u003eOpp Points: 108.6\",\"Unknown\\u003cbr\\u003eOpp Points: 119.5\",\"Detroit Pistons\\u003cbr\\u003eOpp Points: 115.2\",\"Unknown\\u003cbr\\u003eOpp Points: 116.2\"],\"x\":[\"Opp Points\",\"Opp Points\",\"Opp Points\",\"Opp Points\",\"Opp Points\",\"Opp Points\",\"Opp Points\",\"Opp Points\",\"Opp Points\",\"Opp Points\",\"Opp Points\",\"Opp Points\",\"Opp Points\",\"Opp Points\",\"Opp Points\",\"Opp Points\",\"Opp Points\",\"Opp Points\",\"Opp Points\",\"Opp Points\",\"Opp Points\",\"Opp Points\",\"Opp Points\",\"Opp Points\",\"Opp Points\",\"Opp Points\",\"Opp Points\",\"Opp Points\",\"Opp Points\",\"Opp Points\"],\"y\":[0.623847214787669,0.4067430317592029,0.41945057853766166,0.9259783294939323,0.7730727356399365,0.49953046665435075,0.5846862028455382,0.4189036790670171,0.17235981316992088,0.34087270978039985,0.7000628861345675,0.4712073868627291,0.5332127820820984,0.3328541057841159,0.8710701947898922,0.5954942167964123,0.21822353725367805,0.6826557714947104,0.5717418344289369,0.7870197519198907,0.8673298366004367,0.6316133602084211,0.6134938779179189,0.025797325149650163,0.7713159718379838,1.0,0.2879506168689101,0.9487646596000756,0.6852886363824693,0.7452220831688683],\"type\":\"scatter\"},{\"hovertemplate\":\"\\u003cb\\u003e%{text}\\u003c\\u002fb\\u003e\\u003cbr\\u003eNormalized: %{y:.2f}\\u003cbr\\u003e\\u003cextra\\u003e\\u003c\\u002fextra\\u003e\",\"marker\":{\"color\":\"#00ffff\",\"line\":{\"color\":\"white\",\"width\":3},\"opacity\":0.7,\"size\":18,\"symbol\":\"circle\"},\"mode\":\"markers\",\"name\":\"Season Avg (All Teams)\",\"showlegend\":false,\"text\":[\"Unknown\\u003cbr\\u003eFTA: 23.2\",\"Unknown\\u003cbr\\u003eFTA: 22.0\",\"Unknown\\u003cbr\\u003eFTA: 21.2\",\"Unknown\\u003cbr\\u003eFTA: 21.5\",\"Unknown\\u003cbr\\u003eFTA: 18.7\",\"Unknown\\u003cbr\\u003eFTA: 24.2\",\"Unknown\\u003cbr\\u003eFTA: 24.6\",\"Unknown\\u003cbr\\u003eFTA: 21.0\",\"Unknown\\u003cbr\\u003eFTA: 23.9\",\"Unknown\\u003cbr\\u003eFTA: 21.9\",\"Unknown\\u003cbr\\u003eFTA: 24.6\",\"Unknown\\u003cbr\\u003eFTA: 24.1\",\"Unknown\\u003cbr\\u003eFTA: 22.5\",\"Unknown\\u003cbr\\u003eFTA: 20.7\",\"Unknown\\u003cbr\\u003eFTA: 22.1\",\"Unknown\\u003cbr\\u003eFTA: 20.9\",\"Unknown\\u003cbr\\u003eFTA: 24.6\",\"Unknown\\u003cbr\\u003eFTA: 20.6\",\"Unknown\\u003cbr\\u003eFTA: 24.3\",\"Phoenix Suns\\u003cbr\\u003eFTA: 23.2\",\"Unknown\\u003cbr\\u003eFTA: 21.1\",\"Unknown\\u003cbr\\u003eFTA: 22.4\",\"Unknown\\u003cbr\\u003eFTA: 22.4\",\"Unknown\\u003cbr\\u003eFTA: 19.6\",\"Unknown\\u003cbr\\u003eFTA: 22.2\",\"Unknown\\u003cbr\\u003eFTA: 24.1\",\"Unknown\\u003cbr\\u003eFTA: 22.9\",\"Unknown\\u003cbr\\u003eFTA: 20.3\",\"Detroit Pistons\\u003cbr\\u003eFTA: 20.4\",\"Unknown\\u003cbr\\u003eFTA: 19.8\"],\"x\":[\"FTA\",\"FTA\",\"FTA\",\"FTA\",\"FTA\",\"FTA\",\"FTA\",\"FTA\",\"FTA\",\"FTA\",\"FTA\",\"FTA\",\"FTA\",\"FTA\",\"FTA\",\"FTA\",\"FTA\",\"FTA\",\"FTA\",\"FTA\",\"FTA\",\"FTA\",\"FTA\",\"FTA\",\"FTA\",\"FTA\",\"FTA\",\"FTA\",\"FTA\",\"FTA\"],\"y\":[0.7637027544920509,0.5654543738970346,0.44076464427945883,0.49793952432388133,0.03446573164311095,0.9398945647123207,0.9969613923453857,0.4157824277543005,0.8797445328412334,0.5515393794873265,0.998208270469386,0.9237102983474412,0.6534653748919084,0.3637490042054945,0.5883944581201783,0.39347772791214686,0.9999999999999996,0.3477596732051986,0.9547770909741868,0.7672430825985752,0.4263878676294435,0.6431141897911425,0.6334941565288275,0.17649378365711454,0.6056951940465582,0.9174469878286433,0.7251871380568602,0.29646727944549456,0.30241999005404097,0.20309869964314942],\"type\":\"scatter\"},{\"hovertemplate\":\"\\u003cb\\u003e%{text}\\u003c\\u002fb\\u003e\\u003cbr\\u003eNormalized: %{y:.2f}\\u003cbr\\u003e\\u003cextra\\u003e\\u003c\\u002fextra\\u003e\",\"marker\":{\"color\":\"#00ffff\",\"line\":{\"color\":\"white\",\"width\":3},\"opacity\":0.7,\"size\":18,\"symbol\":\"circle\"},\"mode\":\"markers\",\"name\":\"Season Avg (All Teams)\",\"showlegend\":false,\"text\":[\"Unknown\\u003cbr\\u003eFtPoints: 18.1\",\"Unknown\\u003cbr\\u003eFtPoints: 17.6\",\"Unknown\\u003cbr\\u003eFtPoints: 16.4\",\"Unknown\\u003cbr\\u003eFtPoints: 16.3\",\"Unknown\\u003cbr\\u003eFtPoints: 15.0\",\"Unknown\\u003cbr\\u003eFtPoints: 18.6\",\"Unknown\\u003cbr\\u003eFtPoints: 18.5\",\"Unknown\\u003cbr\\u003eFtPoints: 14.8\",\"Unknown\\u003cbr\\u003eFtPoints: 18.4\",\"Unknown\\u003cbr\\u003eFtPoints: 17.1\",\"Unknown\\u003cbr\\u003eFtPoints: 19.1\",\"Unknown\\u003cbr\\u003eFtPoints: 18.9\",\"Unknown\\u003cbr\\u003eFtPoints: 16.4\",\"Unknown\\u003cbr\\u003eFtPoints: 16.3\",\"Unknown\\u003cbr\\u003eFtPoints: 17.9\",\"Unknown\\u003cbr\\u003eFtPoints: 16.8\",\"Unknown\\u003cbr\\u003eFtPoints: 19.5\",\"Unknown\\u003cbr\\u003eFtPoints: 16.4\",\"Unknown\\u003cbr\\u003eFtPoints: 18.7\",\"Phoenix Suns\\u003cbr\\u003eFtPoints: 18.5\",\"Unknown\\u003cbr\\u003eFtPoints: 16.3\",\"Unknown\\u003cbr\\u003eFtPoints: 18.0\",\"Unknown\\u003cbr\\u003eFtPoints: 17.8\",\"Unknown\\u003cbr\\u003eFtPoints: 15.9\",\"Unknown\\u003cbr\\u003eFtPoints: 16.6\",\"Unknown\\u003cbr\\u003eFtPoints: 19.0\",\"Unknown\\u003cbr\\u003eFtPoints: 17.7\",\"Unknown\\u003cbr\\u003eFtPoints: 15.8\",\"Detroit Pistons\\u003cbr\\u003eFtPoints: 15.6\",\"Unknown\\u003cbr\\u003eFtPoints: 15.2\"],\"x\":[\"FtPoints\",\"FtPoints\",\"FtPoints\",\"FtPoints\",\"FtPoints\",\"FtPoints\",\"FtPoints\",\"FtPoints\",\"FtPoints\",\"FtPoints\",\"FtPoints\",\"FtPoints\",\"FtPoints\",\"FtPoints\",\"FtPoints\",\"FtPoints\",\"FtPoints\",\"FtPoints\",\"FtPoints\",\"FtPoints\",\"FtPoints\",\"FtPoints\",\"FtPoints\",\"FtPoints\",\"FtPoints\",\"FtPoints\",\"FtPoints\",\"FtPoints\",\"FtPoints\",\"FtPoints\"],\"y\":[0.7248342004448558,0.6317992692960992,0.40861357624029404,0.3850904500134207,0.1300975099844428,0.826555076499849,0.8092708920223632,0.09309937271795965,0.7855264274072877,0.5358911771987729,0.9301343767862864,0.8791919643227937,0.4036804424695215,0.3903077575981806,0.690715391980953,0.4813192004601783,0.9999999999999996,0.3950093704843791,0.8406334841045275,0.8033113739499922,0.385213505525114,0.7059912110323694,0.6769042619075893,0.3122510012948809,0.4409899880769399,0.9013047270843262,0.6580035382101168,0.2866337841339517,0.256267457905877,0.1746949579767727],\"type\":\"scatter\"},{\"hovertemplate\":\"\\u003cb\\u003e%{text}\\u003c\\u002fb\\u003e\\u003cbr\\u003eNormalized: %{y:.2f}\\u003cbr\\u003e\\u003cextra\\u003e\\u003c\\u002fextra\\u003e\",\"marker\":{\"color\":\"#00ffff\",\"line\":{\"color\":\"white\",\"width\":3},\"opacity\":0.7,\"size\":18,\"symbol\":\"circle\"},\"mode\":\"markers\",\"name\":\"Season Avg (All Teams)\",\"showlegend\":false,\"text\":[\"Unknown\\u003cbr\\u003e3P%: 35.0\",\"Unknown\\u003cbr\\u003e3P%: 36.3\",\"Unknown\\u003cbr\\u003e3P%: 40.6\",\"Unknown\\u003cbr\\u003e3P%: 33.2\",\"Unknown\\u003cbr\\u003e3P%: 37.0\",\"Unknown\\u003cbr\\u003e3P%: 37.7\",\"Unknown\\u003cbr\\u003e3P%: 38.0\",\"Unknown\\u003cbr\\u003e3P%: 37.1\",\"Unknown\\u003cbr\\u003e3P%: 32.4\",\"Unknown\\u003cbr\\u003e3P%: 37.3\",\"Unknown\\u003cbr\\u003e3P%: 34.8\",\"Unknown\\u003cbr\\u003e3P%: 37.4\",\"Unknown\\u003cbr\\u003e3P%: 39.1\",\"Unknown\\u003cbr\\u003e3P%: 37.0\",\"Unknown\\u003cbr\\u003e3P%: 37.3\",\"Unknown\\u003cbr\\u003e3P%: 39.8\",\"Unknown\\u003cbr\\u003e3P%: 31.1\",\"Unknown\\u003cbr\\u003e3P%: 37.6\",\"Unknown\\u003cbr\\u003e3P%: 33.0\",\"Phoenix Suns\\u003cbr\\u003e3P%: 38.4\",\"Unknown\\u003cbr\\u003e3P%: 33.0\",\"Unknown\\u003cbr\\u003e3P%: 34.2\",\"Unknown\\u003cbr\\u003e3P%: 34.6\",\"Unknown\\u003cbr\\u003e3P%: 34.9\",\"Unknown\\u003cbr\\u003e3P%: 34.5\",\"Unknown\\u003cbr\\u003e3P%: 36.3\",\"Unknown\\u003cbr\\u003e3P%: 37.0\",\"Unknown\\u003cbr\\u003e3P%: 32.5\",\"Detroit Pistons\\u003cbr\\u003e3P%: 36.3\",\"Unknown\\u003cbr\\u003e3P%: 34.6\"],\"x\":[\"3P%\",\"3P%\",\"3P%\",\"3P%\",\"3P%\",\"3P%\",\"3P%\",\"3P%\",\"3P%\",\"3P%\",\"3P%\",\"3P%\",\"3P%\",\"3P%\",\"3P%\",\"3P%\",\"3P%\",\"3P%\",\"3P%\",\"3P%\",\"3P%\",\"3P%\",\"3P%\",\"3P%\",\"3P%\",\"3P%\",\"3P%\",\"3P%\",\"3P%\",\"3P%\"],\"y\":[0.41502350118934483,0.5524807038995689,1.0,0.2241136142850535,0.6288175972614143,0.69453589879594,0.7333044411927254,0.6299565817907857,0.14144048718170188,0.6573279083457955,0.3906707884897349,0.6691376496011734,0.8425202547294726,0.6251574441296608,0.6526531492674761,0.9237843327151598,0.0,0.6843781987558346,0.20546199980059354,0.7726167604059437,0.2082475597909048,0.325428086569294,0.3685237006359112,0.39862496820955284,0.36129789191787776,0.5534409588374958,0.6265507254832938,0.15361403982028854,0.551028032241891,0.3694488557791713],\"type\":\"scatter\"},{\"hovertemplate\":\"\\u003cb\\u003e%{text}\\u003c\\u002fb\\u003e\\u003cbr\\u003eNormalized: %{y:.2f}\\u003cbr\\u003e\\u003cextra\\u003e\\u003c\\u002fextra\\u003e\",\"marker\":{\"color\":\"#00ffff\",\"line\":{\"color\":\"white\",\"width\":3},\"opacity\":0.7,\"size\":18,\"symbol\":\"circle\"},\"mode\":\"markers\",\"name\":\"Season Avg (All Teams)\",\"showlegend\":false,\"text\":[\"Unknown\\u003cbr\\u003eRim Freq: 33.0\",\"Unknown\\u003cbr\\u003eRim Freq: 22.6\",\"Unknown\\u003cbr\\u003eRim Freq: 32.5\",\"Unknown\\u003cbr\\u003eRim Freq: 30.0\",\"Unknown\\u003cbr\\u003eRim Freq: 30.9\",\"Unknown\\u003cbr\\u003eRim Freq: 26.8\",\"Unknown\\u003cbr\\u003eRim Freq: 33.9\",\"Unknown\\u003cbr\\u003eRim Freq: 27.0\",\"Unknown\\u003cbr\\u003eRim Freq: 30.8\",\"Unknown\\u003cbr\\u003eRim Freq: 28.5\",\"Unknown\\u003cbr\\u003eRim Freq: 29.6\",\"Unknown\\u003cbr\\u003eRim Freq: 26.9\",\"Unknown\\u003cbr\\u003eRim Freq: 28.2\",\"Unknown\\u003cbr\\u003eRim Freq: 27.4\",\"Unknown\\u003cbr\\u003eRim Freq: 29.0\",\"Unknown\\u003cbr\\u003eRim Freq: 29.7\",\"Unknown\\u003cbr\\u003eRim Freq: 32.2\",\"Unknown\\u003cbr\\u003eRim Freq: 28.9\",\"Unknown\\u003cbr\\u003eRim Freq: 31.4\",\"Phoenix Suns\\u003cbr\\u003eRim Freq: 20.2\",\"Unknown\\u003cbr\\u003eRim Freq: 33.9\",\"Unknown\\u003cbr\\u003eRim Freq: 21.8\",\"Unknown\\u003cbr\\u003eRim Freq: 30.0\",\"Unknown\\u003cbr\\u003eRim Freq: 26.5\",\"Unknown\\u003cbr\\u003eRim Freq: 35.1\",\"Unknown\\u003cbr\\u003eRim Freq: 24.9\",\"Unknown\\u003cbr\\u003eRim Freq: 28.9\",\"Unknown\\u003cbr\\u003eRim Freq: 28.3\",\"Detroit Pistons\\u003cbr\\u003eRim Freq: 28.5\",\"Unknown\\u003cbr\\u003eRim Freq: 27.3\"],\"x\":[\"Rim Freq\",\"Rim Freq\",\"Rim Freq\",\"Rim Freq\",\"Rim Freq\",\"Rim Freq\",\"Rim Freq\",\"Rim Freq\",\"Rim Freq\",\"Rim Freq\",\"Rim Freq\",\"Rim Freq\",\"Rim Freq\",\"Rim Freq\",\"Rim Freq\",\"Rim Freq\",\"Rim Freq\",\"Rim Freq\",\"Rim Freq\",\"Rim Freq\",\"Rim Freq\",\"Rim Freq\",\"Rim Freq\",\"Rim Freq\",\"Rim Freq\",\"Rim Freq\",\"Rim Freq\",\"Rim Freq\",\"Rim Freq\",\"Rim Freq\"],\"y\":[0.862809952505742,0.15727569504231487,0.8282380741956363,0.6570368351775671,0.7198511074063927,0.441226076293999,0.9222143773115146,0.4566317362235668,0.7136264834204329,0.5570407090612752,0.6336002882457743,0.4492473183201118,0.5336327777207814,0.4816753361541428,0.5929927137356621,0.634985332226538,0.8082558314410198,0.5843497499070982,0.7560916923718894,0.0,0.9236820445005474,0.10582956995358273,0.6580237338090245,0.4194596241942876,1.0000000000000002,0.31313996741512273,0.5847175241860028,0.5428752238985366,0.5597276701083467,0.47380173110260815],\"type\":\"scatter\"},{\"hovertemplate\":\"\\u003cb\\u003e%{text}\\u003c\\u002fb\\u003e\\u003cbr\\u003eNormalized: %{y:.2f}\\u003cbr\\u003e\\u003cextra\\u003e\\u003c\\u002fextra\\u003e\",\"marker\":{\"color\":\"#00ffff\",\"line\":{\"color\":\"white\",\"width\":3},\"opacity\":0.7,\"size\":18,\"symbol\":\"circle\"},\"mode\":\"markers\",\"name\":\"Season Avg (All Teams)\",\"showlegend\":false,\"text\":[\"Unknown\\u003cbr\\u003eEFG%: 53.1\",\"Unknown\\u003cbr\\u003eEFG%: 55.6\",\"Unknown\\u003cbr\\u003eEFG%: 59.4\",\"Unknown\\u003cbr\\u003eEFG%: 49.9\",\"Unknown\\u003cbr\\u003eEFG%: 55.7\",\"Unknown\\u003cbr\\u003eEFG%: 56.3\",\"Unknown\\u003cbr\\u003eEFG%: 56.3\",\"Unknown\\u003cbr\\u003eEFG%: 53.3\",\"Unknown\\u003cbr\\u003eEFG%: 50.4\",\"Unknown\\u003cbr\\u003eEFG%: 54.0\",\"Unknown\\u003cbr\\u003eEFG%: 53.8\",\"Unknown\\u003cbr\\u003eEFG%: 53.8\",\"Unknown\\u003cbr\\u003eEFG%: 56.6\",\"Unknown\\u003cbr\\u003eEFG%: 54.3\",\"Unknown\\u003cbr\\u003eEFG%: 54.1\",\"Unknown\\u003cbr\\u003eEFG%: 58.2\",\"Unknown\\u003cbr\\u003eEFG%: 51.9\",\"Unknown\\u003cbr\\u003eEFG%: 56.3\",\"Unknown\\u003cbr\\u003eEFG%: 51.1\",\"Phoenix Suns\\u003cbr\\u003eEFG%: 56.0\",\"Unknown\\u003cbr\\u003eEFG%: 50.5\",\"Unknown\\u003cbr\\u003eEFG%: 54.2\",\"Unknown\\u003cbr\\u003eEFG%: 53.5\",\"Unknown\\u003cbr\\u003eEFG%: 53.8\",\"Unknown\\u003cbr\\u003eEFG%: 52.7\",\"Unknown\\u003cbr\\u003eEFG%: 53.8\",\"Unknown\\u003cbr\\u003eEFG%: 56.1\",\"Unknown\\u003cbr\\u003eEFG%: 50.7\",\"Detroit Pistons\\u003cbr\\u003eEFG%: 54.2\",\"Unknown\\u003cbr\\u003eEFG%: 51.0\"],\"x\":[\"EFG%\",\"EFG%\",\"EFG%\",\"EFG%\",\"EFG%\",\"EFG%\",\"EFG%\",\"EFG%\",\"EFG%\",\"EFG%\",\"EFG%\",\"EFG%\",\"EFG%\",\"EFG%\",\"EFG%\",\"EFG%\",\"EFG%\",\"EFG%\",\"EFG%\",\"EFG%\",\"EFG%\",\"EFG%\",\"EFG%\",\"EFG%\",\"EFG%\",\"EFG%\",\"EFG%\",\"EFG%\",\"EFG%\",\"EFG%\"],\"y\":[0.33507037597575273,0.600022634196054,1.0,0.0,0.605313765390382,0.6727559714389324,0.6707851702464165,0.35846214649665864,0.056051133965818956,0.4288616621061285,0.4127182515242094,0.40667740031405675,0.7021835389164455,0.46174285013027117,0.44253972304154754,0.8700376091339468,0.21239185318241294,0.6729004112939556,0.12518300565207063,0.637814819663026,0.06600556248412559,0.45385107008376124,0.3743829259901057,0.4035303646902486,0.29383874718088254,0.40388216382412523,0.6458758795352537,0.07877747604652363,0.45504933632774147,0.11653336683046156],\"type\":\"scatter\"},{\"hovertemplate\":\"\\u003cb\\u003e%{text}\\u003c\\u002fb\\u003e\\u003cbr\\u003eNormalized: %{y:.2f}\\u003cbr\\u003e\\u003cextra\\u003e\\u003c\\u002fextra\\u003e\",\"marker\":{\"color\":\"#00ffff\",\"line\":{\"color\":\"white\",\"width\":3},\"opacity\":0.7,\"size\":18,\"symbol\":\"circle\"},\"mode\":\"markers\",\"name\":\"Season Avg (All Teams)\",\"showlegend\":false,\"text\":[\"Unknown\\u003cbr\\u003eRim%: 63.6\",\"Unknown\\u003cbr\\u003eRim%: 71.2\",\"Unknown\\u003cbr\\u003eRim%: 64.6\",\"Unknown\\u003cbr\\u003eRim%: 61.9\",\"Unknown\\u003cbr\\u003eRim%: 62.3\",\"Unknown\\u003cbr\\u003eRim%: 70.9\",\"Unknown\\u003cbr\\u003eRim%: 65.9\",\"Unknown\\u003cbr\\u003eRim%: 64.6\",\"Unknown\\u003cbr\\u003eRim%: 64.6\",\"Unknown\\u003cbr\\u003eRim%: 63.7\",\"Unknown\\u003cbr\\u003eRim%: 70.1\",\"Unknown\\u003cbr\\u003eRim%: 62.4\",\"Unknown\\u003cbr\\u003eRim%: 67.0\",\"Unknown\\u003cbr\\u003eRim%: 66.3\",\"Unknown\\u003cbr\\u003eRim%: 60.8\",\"Unknown\\u003cbr\\u003eRim%: 67.3\",\"Unknown\\u003cbr\\u003eRim%: 68.3\",\"Unknown\\u003cbr\\u003eRim%: 68.3\",\"Unknown\\u003cbr\\u003eRim%: 61.9\",\"Phoenix Suns\\u003cbr\\u003eRim%: 72.0\",\"Unknown\\u003cbr\\u003eRim%: 62.3\",\"Unknown\\u003cbr\\u003eRim%: 71.5\",\"Unknown\\u003cbr\\u003eRim%: 67.7\",\"Unknown\\u003cbr\\u003eRim%: 66.4\",\"Unknown\\u003cbr\\u003eRim%: 61.9\",\"Unknown\\u003cbr\\u003eRim%: 67.1\",\"Unknown\\u003cbr\\u003eRim%: 70.6\",\"Unknown\\u003cbr\\u003eRim%: 67.9\",\"Detroit Pistons\\u003cbr\\u003eRim%: 66.7\",\"Unknown\\u003cbr\\u003eRim%: 61.0\"],\"x\":[\"Rim%\",\"Rim%\",\"Rim%\",\"Rim%\",\"Rim%\",\"Rim%\",\"Rim%\",\"Rim%\",\"Rim%\",\"Rim%\",\"Rim%\",\"Rim%\",\"Rim%\",\"Rim%\",\"Rim%\",\"Rim%\",\"Rim%\",\"Rim%\",\"Rim%\",\"Rim%\",\"Rim%\",\"Rim%\",\"Rim%\",\"Rim%\",\"Rim%\",\"Rim%\",\"Rim%\",\"Rim%\",\"Rim%\",\"Rim%\"],\"y\":[0.2965827126356455,0.9371029151381194,0.38562313738824283,0.15687416492514306,0.19494000808879708,0.9099394588856233,0.49161078775566924,0.38395857708297054,0.38013560049879924,0.30633429842525217,0.8463564530289744,0.2002437997780655,0.5807587740978741,0.5221442769848865,0.06333493933686718,0.6117572944604266,0.6898621202818589,0.6918038331969676,0.15557169369805557,1.0,0.1920063736555564,0.955076449886139,0.6396220946031645,0.5315566887229606,0.15592015352853927,0.5934401932581395,0.8835721706577822,0.6569465679568687,0.5595975232198152,0.08221648228471157],\"type\":\"scatter\"},{\"hovertemplate\":\"\\u003cb\\u003e%{text}\\u003c\\u002fb\\u003e\\u003cbr\\u003eNormalized: %{y:.2f}\\u003cbr\\u003e\\u003cextra\\u003e\\u003c\\u002fextra\\u003e\",\"marker\":{\"color\":\"#00ffff\",\"line\":{\"color\":\"white\",\"width\":3},\"opacity\":0.7,\"size\":18,\"symbol\":\"circle\"},\"mode\":\"markers\",\"name\":\"Season Avg (All Teams)\",\"showlegend\":false,\"text\":[\"Unknown\\u003cbr\\u003eTOV%: 14.0\",\"Unknown\\u003cbr\\u003eTOV%: 10.7\",\"Unknown\\u003cbr\\u003eTOV%: 11.9\",\"Unknown\\u003cbr\\u003eTOV%: 13.3\",\"Unknown\\u003cbr\\u003eTOV%: 13.2\",\"Unknown\\u003cbr\\u003eTOV%: 12.5\",\"Unknown\\u003cbr\\u003eTOV%: 12.9\",\"Unknown\\u003cbr\\u003eTOV%: 12.5\",\"Unknown\\u003cbr\\u003eTOV%: 11.6\",\"Unknown\\u003cbr\\u003eTOV%: 14.7\",\"Unknown\\u003cbr\\u003eTOV%: 12.6\",\"Unknown\\u003cbr\\u003eTOV%: 12.0\",\"Unknown\\u003cbr\\u003eTOV%: 13.0\",\"Unknown\\u003cbr\\u003eTOV%: 14.4\",\"Unknown\\u003cbr\\u003eTOV%: 14.0\",\"Unknown\\u003cbr\\u003eTOV%: 12.3\",\"Unknown\\u003cbr\\u003eTOV%: 13.8\",\"Unknown\\u003cbr\\u003eTOV%: 13.1\",\"Unknown\\u003cbr\\u003eTOV%: 13.2\",\"Phoenix Suns\\u003cbr\\u003eTOV%: 13.0\",\"Unknown\\u003cbr\\u003eTOV%: 14.2\",\"Unknown\\u003cbr\\u003eTOV%: 11.9\",\"Unknown\\u003cbr\\u003eTOV%: 13.3\",\"Unknown\\u003cbr\\u003eTOV%: 10.6\",\"Unknown\\u003cbr\\u003eTOV%: 13.9\",\"Unknown\\u003cbr\\u003eTOV%: 16.3\",\"Unknown\\u003cbr\\u003eTOV%: 14.2\",\"Unknown\\u003cbr\\u003eTOV%: 14.2\",\"Detroit Pistons\\u003cbr\\u003eTOV%: 14.1\",\"Unknown\\u003cbr\\u003eTOV%: 14.0\"],\"x\":[\"TOV%\",\"TOV%\",\"TOV%\",\"TOV%\",\"TOV%\",\"TOV%\",\"TOV%\",\"TOV%\",\"TOV%\",\"TOV%\",\"TOV%\",\"TOV%\",\"TOV%\",\"TOV%\",\"TOV%\",\"TOV%\",\"TOV%\",\"TOV%\",\"TOV%\",\"TOV%\",\"TOV%\",\"TOV%\",\"TOV%\",\"TOV%\",\"TOV%\",\"TOV%\",\"TOV%\",\"TOV%\",\"TOV%\",\"TOV%\"],\"y\":[0.5950531569841715,0.01847391769340434,0.2296875522287305,0.4706446390468977,0.4486312382545887,0.33004943837870604,0.4004801312330133,0.32635593997152057,0.17029564962130994,0.718252091600128,0.3508388722778881,0.2521561647386692,0.4170035975334616,0.6657973785710127,0.5890019618177416,0.2972851170089008,0.5519436560995259,0.4420307738155227,0.44844729527092264,0.4214904482136643,0.6273083757261011,0.22999286791093088,0.4765278499399268,0.0,0.5814266838800433,1.0,0.6217275146682781,0.6362772080925714,0.6153382904146238,0.5856515350208595],\"type\":\"scatter\"},{\"hovertemplate\":\"\\u003cb\\u003e%{text}\\u003c\\u002fb\\u003e\\u003cbr\\u003eNormalized: %{y:.2f}\\u003cbr\\u003e\\u003cextra\\u003e\\u003c\\u002fextra\\u003e\",\"marker\":{\"color\":\"#00ffff\",\"line\":{\"color\":\"white\",\"width\":3},\"opacity\":0.7,\"size\":18,\"symbol\":\"circle\"},\"mode\":\"markers\",\"name\":\"Season Avg (All Teams)\",\"showlegend\":false,\"text\":[\"Unknown\\u003cbr\\u003eDREB%: 72.1\",\"Unknown\\u003cbr\\u003eDREB%: 73.6\",\"Unknown\\u003cbr\\u003eDREB%: 71.8\",\"Unknown\\u003cbr\\u003eDREB%: 68.5\",\"Unknown\\u003cbr\\u003eDREB%: 73.9\",\"Unknown\\u003cbr\\u003eDREB%: 70.9\",\"Unknown\\u003cbr\\u003eDREB%: 71.9\",\"Unknown\\u003cbr\\u003eDREB%: 72.5\",\"Unknown\\u003cbr\\u003eDREB%: 73.2\",\"Unknown\\u003cbr\\u003eDREB%: 74.3\",\"Unknown\\u003cbr\\u003eDREB%: 71.2\",\"Unknown\\u003cbr\\u003eDREB%: 72.9\",\"Unknown\\u003cbr\\u003eDREB%: 74.0\",\"Unknown\\u003cbr\\u003eDREB%: 73.1\",\"Unknown\\u003cbr\\u003eDREB%: 71.0\",\"Unknown\\u003cbr\\u003eDREB%: 73.0\",\"Unknown\\u003cbr\\u003eDREB%: 74.9\",\"Unknown\\u003cbr\\u003eDREB%: 71.1\",\"Unknown\\u003cbr\\u003eDREB%: 71.5\",\"Phoenix Suns\\u003cbr\\u003eDREB%: 73.8\",\"Unknown\\u003cbr\\u003eDREB%: 67.9\",\"Unknown\\u003cbr\\u003eDREB%: 73.2\",\"Unknown\\u003cbr\\u003eDREB%: 71.6\",\"Unknown\\u003cbr\\u003eDREB%: 68.6\",\"Unknown\\u003cbr\\u003eDREB%: 70.9\",\"Unknown\\u003cbr\\u003eDREB%: 71.7\",\"Unknown\\u003cbr\\u003eDREB%: 71.0\",\"Unknown\\u003cbr\\u003eDREB%: 69.3\",\"Detroit Pistons\\u003cbr\\u003eDREB%: 73.3\",\"Unknown\\u003cbr\\u003eDREB%: 71.8\"],\"x\":[\"DREB%\",\"DREB%\",\"DREB%\",\"DREB%\",\"DREB%\",\"DREB%\",\"DREB%\",\"DREB%\",\"DREB%\",\"DREB%\",\"DREB%\",\"DREB%\",\"DREB%\",\"DREB%\",\"DREB%\",\"DREB%\",\"DREB%\",\"DREB%\",\"DREB%\",\"DREB%\",\"DREB%\",\"DREB%\",\"DREB%\",\"DREB%\",\"DREB%\",\"DREB%\",\"DREB%\",\"DREB%\",\"DREB%\",\"DREB%\"],\"y\":[0.6002599038908869,0.8160527655976555,0.5581938042442882,0.0865380495117023,0.8500675976273335,0.42440898260832505,0.5732426270505879,0.6548472909482754,0.753647044556363,0.910892967461983,0.4738499521082282,0.7172141454966319,0.8696997135897035,0.744861406539659,0.4437641898864815,0.7192338227271762,1.0,0.46447695667898614,0.5165129045945278,0.8408965651050941,0.0,0.7592558825042595,0.5302286060379586,0.1032673667338937,0.42407714030569643,0.5492163753966146,0.4494669631048005,0.20762175838077113,0.7633178706007016,0.5499556822869973],\"type\":\"scatter\"},{\"hovertemplate\":\"\\u003cb\\u003e%{text}\\u003c\\u002fb\\u003e\\u003cbr\\u003eNormalized: %{y:.2f}\\u003cbr\\u003e\\u003cextra\\u003e\\u003c\\u002fextra\\u003e\",\"marker\":{\"color\":\"#00ffff\",\"line\":{\"color\":\"white\",\"width\":3},\"opacity\":0.7,\"size\":18,\"symbol\":\"circle\"},\"mode\":\"markers\",\"name\":\"Season Avg (All Teams)\",\"showlegend\":false,\"text\":[\"Unknown\\u003cbr\\u003eOREB%: 30.3\",\"Unknown\\u003cbr\\u003eOREB%: 27.1\",\"Unknown\\u003cbr\\u003eOREB%: 25.3\",\"Unknown\\u003cbr\\u003eOREB%: 30.0\",\"Unknown\\u003cbr\\u003eOREB%: 23.6\",\"Unknown\\u003cbr\\u003eOREB%: 28.5\",\"Unknown\\u003cbr\\u003eOREB%: 29.8\",\"Unknown\\u003cbr\\u003eOREB%: 29.8\",\"Unknown\\u003cbr\\u003eOREB%: 34.0\",\"Unknown\\u003cbr\\u003eOREB%: 27.9\",\"Unknown\\u003cbr\\u003eOREB%: 25.0\",\"Unknown\\u003cbr\\u003eOREB%: 26.9\",\"Unknown\\u003cbr\\u003eOREB%: 21.8\",\"Unknown\\u003cbr\\u003eOREB%: 26.1\",\"Unknown\\u003cbr\\u003eOREB%: 25.1\",\"Unknown\\u003cbr\\u003eOREB%: 27.6\",\"Unknown\\u003cbr\\u003eOREB%: 29.5\",\"Unknown\\u003cbr\\u003eOREB%: 23.0\",\"Unknown\\u003cbr\\u003eOREB%: 26.4\",\"Phoenix Suns\\u003cbr\\u003eOREB%: 24.8\",\"Unknown\\u003cbr\\u003eOREB%: 31.1\",\"Unknown\\u003cbr\\u003eOREB%: 27.1\",\"Unknown\\u003cbr\\u003eOREB%: 27.2\",\"Unknown\\u003cbr\\u003eOREB%: 26.3\",\"Unknown\\u003cbr\\u003eOREB%: 32.5\",\"Unknown\\u003cbr\\u003eOREB%: 32.3\",\"Unknown\\u003cbr\\u003eOREB%: 32.4\",\"Unknown\\u003cbr\\u003eOREB%: 26.5\",\"Detroit Pistons\\u003cbr\\u003eOREB%: 28.3\",\"Unknown\\u003cbr\\u003eOREB%: 32.0\"],\"x\":[\"OREB%\",\"OREB%\",\"OREB%\",\"OREB%\",\"OREB%\",\"OREB%\",\"OREB%\",\"OREB%\",\"OREB%\",\"OREB%\",\"OREB%\",\"OREB%\",\"OREB%\",\"OREB%\",\"OREB%\",\"OREB%\",\"OREB%\",\"OREB%\",\"OREB%\",\"OREB%\",\"OREB%\",\"OREB%\",\"OREB%\",\"OREB%\",\"OREB%\",\"OREB%\",\"OREB%\",\"OREB%\",\"OREB%\",\"OREB%\"],\"y\":[0.7623098447681667,0.5517516512198872,0.4349141867662931,0.7389398515893233,0.3283151960111177,0.642455258545054,0.7268392710694775,0.7293650453210345,0.9999999999999998,0.6049394659976539,0.41605385266771244,0.5392358983282599,0.20912512207757206,0.4897979390506968,0.42481357590740676,0.5833966048012775,0.7074826612747629,0.28492321385871766,0.5078186967470735,0.4054083764138885,0.8158339324758634,0.5514414730905008,0.5607590743210529,0.5046624341184345,0.9012855929085088,0.8929482563864746,0.9004365122445599,0.5153923241495371,0.6294976972192214,0.8728715050016651],\"type\":\"scatter\"},{\"hovertemplate\":\"\\u003cb\\u003e%{text}\\u003c\\u002fb\\u003e\\u003cbr\\u003eNormalized: %{y:.2f}\\u003cbr\\u003e\\u003cextra\\u003e\\u003c\\u002fextra\\u003e\",\"marker\":{\"color\":\"#ff4d4d\",\"line\":{\"color\":\"#0A0A0A\",\"width\":3},\"opacity\":1,\"size\":21,\"symbol\":\"diamond\"},\"mode\":\"markers+text\",\"name\":\"OKC : Jalen On | Shai Off\",\"showlegend\":true,\"text\":[\"106.1\"],\"textfont\":{\"color\":\"#ffffff\",\"size\":20},\"textposition\":\"top right\",\"x\":[\"Points\"],\"y\":[0.06062060300670158],\"type\":\"scatter\"},{\"hovertemplate\":\"\\u003cb\\u003e%{text}\\u003c\\u002fb\\u003e\\u003cbr\\u003eNormalized: %{y:.2f}\\u003cbr\\u003e\\u003cextra\\u003e\\u003c\\u002fextra\\u003e\",\"marker\":{\"color\":\"#ff4d4d\",\"line\":{\"color\":\"#0A0A0A\",\"width\":3},\"opacity\":1,\"size\":21,\"symbol\":\"diamond\"},\"mode\":\"markers+text\",\"name\":\"OKC : Jalen On | Shai Off\",\"showlegend\":false,\"text\":[\"103.9\"],\"textfont\":{\"color\":\"#ffffff\",\"size\":20},\"textposition\":\"top right\",\"x\":[\"Opp Points\"],\"y\":[0.0],\"type\":\"scatter\"},{\"hovertemplate\":\"\\u003cb\\u003e%{text}\\u003c\\u002fb\\u003e\\u003cbr\\u003eNormalized: %{y:.2f}\\u003cbr\\u003e\\u003cextra\\u003e\\u003c\\u002fextra\\u003e\",\"marker\":{\"color\":\"#ff4d4d\",\"line\":{\"color\":\"#0A0A0A\",\"width\":3},\"opacity\":1,\"size\":21,\"symbol\":\"diamond\"},\"mode\":\"markers+text\",\"name\":\"OKC : Jalen On | Shai Off\",\"showlegend\":false,\"text\":[\"18.5\"],\"textfont\":{\"color\":\"#ffffff\",\"size\":20},\"textposition\":\"top right\",\"x\":[\"FTA\"],\"y\":[0.0],\"type\":\"scatter\"},{\"hovertemplate\":\"\\u003cb\\u003e%{text}\\u003c\\u002fb\\u003e\\u003cbr\\u003eNormalized: %{y:.2f}\\u003cbr\\u003e\\u003cextra\\u003e\\u003c\\u002fextra\\u003e\",\"marker\":{\"color\":\"#ff4d4d\",\"line\":{\"color\":\"#0A0A0A\",\"width\":3},\"opacity\":1,\"size\":21,\"symbol\":\"diamond\"},\"mode\":\"markers+text\",\"name\":\"OKC : Jalen On | Shai Off\",\"showlegend\":false,\"text\":[\"14.3\"],\"textfont\":{\"color\":\"#ffffff\",\"size\":20},\"textposition\":\"top right\",\"x\":[\"FtPoints\"],\"y\":[0.0],\"type\":\"scatter\"},{\"hovertemplate\":\"\\u003cb\\u003e%{text}\\u003c\\u002fb\\u003e\\u003cbr\\u003eNormalized: %{y:.2f}\\u003cbr\\u003e\\u003cextra\\u003e\\u003c\\u002fextra\\u003e\",\"marker\":{\"color\":\"#ff4d4d\",\"line\":{\"color\":\"#0A0A0A\",\"width\":3},\"opacity\":1,\"size\":21,\"symbol\":\"diamond\"},\"mode\":\"markers+text\",\"name\":\"OKC : Jalen On | Shai Off\",\"showlegend\":false,\"text\":[\"35.4\"],\"textfont\":{\"color\":\"#ffffff\",\"size\":20},\"textposition\":\"top right\",\"x\":[\"3P%\"],\"y\":[0.4540272791001385],\"type\":\"scatter\"},{\"hovertemplate\":\"\\u003cb\\u003e%{text}\\u003c\\u002fb\\u003e\\u003cbr\\u003eNormalized: %{y:.2f}\\u003cbr\\u003e\\u003cextra\\u003e\\u003c\\u002fextra\\u003e\",\"marker\":{\"color\":\"#ff4d4d\",\"line\":{\"color\":\"#0A0A0A\",\"width\":3},\"opacity\":1,\"size\":21,\"symbol\":\"diamond\"},\"mode\":\"markers+text\",\"name\":\"OKC : Jalen On | Shai Off\",\"showlegend\":false,\"text\":[\"30.5\"],\"textfont\":{\"color\":\"#ffffff\",\"size\":20},\"textposition\":\"top right\",\"x\":[\"Rim Freq\"],\"y\":[0.6943426299340969],\"type\":\"scatter\"},{\"hovertemplate\":\"\\u003cb\\u003e%{text}\\u003c\\u002fb\\u003e\\u003cbr\\u003eNormalized: %{y:.2f}\\u003cbr\\u003e\\u003cextra\\u003e\\u003c\\u002fextra\\u003e\",\"marker\":{\"color\":\"#ff4d4d\",\"line\":{\"color\":\"#0A0A0A\",\"width\":3},\"opacity\":1,\"size\":21,\"symbol\":\"diamond\"},\"mode\":\"markers+text\",\"name\":\"OKC : Jalen On | Shai Off\",\"showlegend\":false,\"text\":[\"52.0\"],\"textfont\":{\"color\":\"#ffffff\",\"size\":20},\"textposition\":\"top right\",\"x\":[\"EFG%\"],\"y\":[0.2200244687837225],\"type\":\"scatter\"},{\"hovertemplate\":\"\\u003cb\\u003e%{text}\\u003c\\u002fb\\u003e\\u003cbr\\u003eNormalized: %{y:.2f}\\u003cbr\\u003e\\u003cextra\\u003e\\u003c\\u002fextra\\u003e\",\"marker\":{\"color\":\"#ff4d4d\",\"line\":{\"color\":\"#0A0A0A\",\"width\":3},\"opacity\":1,\"size\":21,\"symbol\":\"diamond\"},\"mode\":\"markers+text\",\"name\":\"OKC : Jalen On | Shai Off\",\"showlegend\":false,\"text\":[\"60.0\"],\"textfont\":{\"color\":\"#ffffff\",\"size\":20},\"textposition\":\"top right\",\"x\":[\"Rim%\"],\"y\":[0.0],\"type\":\"scatter\"},{\"hovertemplate\":\"\\u003cb\\u003e%{text}\\u003c\\u002fb\\u003e\\u003cbr\\u003eNormalized: %{y:.2f}\\u003cbr\\u003e\\u003cextra\\u003e\\u003c\\u002fextra\\u003e\",\"marker\":{\"color\":\"#ff4d4d\",\"line\":{\"color\":\"#0A0A0A\",\"width\":3},\"opacity\":1,\"size\":21,\"symbol\":\"diamond\"},\"mode\":\"markers+text\",\"name\":\"OKC : Jalen On | Shai Off\",\"showlegend\":false,\"text\":[\"12.8\"],\"textfont\":{\"color\":\"#ffffff\",\"size\":20},\"textposition\":\"top right\",\"x\":[\"TOV%\"],\"y\":[0.3853098547053939],\"type\":\"scatter\"},{\"hovertemplate\":\"\\u003cb\\u003e%{text}\\u003c\\u002fb\\u003e\\u003cbr\\u003eNormalized: %{y:.2f}\\u003cbr\\u003e\\u003cextra\\u003e\\u003c\\u002fextra\\u003e\",\"marker\":{\"color\":\"#ff4d4d\",\"line\":{\"color\":\"#0A0A0A\",\"width\":3},\"opacity\":1,\"size\":21,\"symbol\":\"diamond\"},\"mode\":\"markers+text\",\"name\":\"OKC : Jalen On | Shai Off\",\"showlegend\":false,\"text\":[\"68.9\"],\"textfont\":{\"color\":\"#ffffff\",\"size\":20},\"textposition\":\"top right\",\"x\":[\"DREB%\"],\"y\":[0.1451285226392418],\"type\":\"scatter\"},{\"hovertemplate\":\"\\u003cb\\u003e%{text}\\u003c\\u002fb\\u003e\\u003cbr\\u003eNormalized: %{y:.2f}\\u003cbr\\u003e\\u003cextra\\u003e\\u003c\\u002fextra\\u003e\",\"marker\":{\"color\":\"#ff4d4d\",\"line\":{\"color\":\"#0A0A0A\",\"width\":3},\"opacity\":1,\"size\":21,\"symbol\":\"diamond\"},\"mode\":\"markers+text\",\"name\":\"OKC : Jalen On | Shai Off\",\"showlegend\":false,\"text\":[\"18.6\"],\"textfont\":{\"color\":\"#ffffff\",\"size\":20},\"textposition\":\"top right\",\"x\":[\"OREB%\"],\"y\":[0.0],\"type\":\"scatter\"}],                        {\"template\":{\"data\":{\"histogram2dcontour\":[{\"type\":\"histogram2dcontour\",\"colorbar\":{\"outlinewidth\":0,\"ticks\":\"\"},\"colorscale\":[[0.0,\"#0d0887\"],[0.1111111111111111,\"#46039f\"],[0.2222222222222222,\"#7201a8\"],[0.3333333333333333,\"#9c179e\"],[0.4444444444444444,\"#bd3786\"],[0.5555555555555556,\"#d8576b\"],[0.6666666666666666,\"#ed7953\"],[0.7777777777777778,\"#fb9f3a\"],[0.8888888888888888,\"#fdca26\"],[1.0,\"#f0f921\"]]}],\"choropleth\":[{\"type\":\"choropleth\",\"colorbar\":{\"outlinewidth\":0,\"ticks\":\"\"}}],\"histogram2d\":[{\"type\":\"histogram2d\",\"colorbar\":{\"outlinewidth\":0,\"ticks\":\"\"},\"colorscale\":[[0.0,\"#0d0887\"],[0.1111111111111111,\"#46039f\"],[0.2222222222222222,\"#7201a8\"],[0.3333333333333333,\"#9c179e\"],[0.4444444444444444,\"#bd3786\"],[0.5555555555555556,\"#d8576b\"],[0.6666666666666666,\"#ed7953\"],[0.7777777777777778,\"#fb9f3a\"],[0.8888888888888888,\"#fdca26\"],[1.0,\"#f0f921\"]]}],\"heatmap\":[{\"type\":\"heatmap\",\"colorbar\":{\"outlinewidth\":0,\"ticks\":\"\"},\"colorscale\":[[0.0,\"#0d0887\"],[0.1111111111111111,\"#46039f\"],[0.2222222222222222,\"#7201a8\"],[0.3333333333333333,\"#9c179e\"],[0.4444444444444444,\"#bd3786\"],[0.5555555555555556,\"#d8576b\"],[0.6666666666666666,\"#ed7953\"],[0.7777777777777778,\"#fb9f3a\"],[0.8888888888888888,\"#fdca26\"],[1.0,\"#f0f921\"]]}],\"heatmapgl\":[{\"type\":\"heatmapgl\",\"colorbar\":{\"outlinewidth\":0,\"ticks\":\"\"},\"colorscale\":[[0.0,\"#0d0887\"],[0.1111111111111111,\"#46039f\"],[0.2222222222222222,\"#7201a8\"],[0.3333333333333333,\"#9c179e\"],[0.4444444444444444,\"#bd3786\"],[0.5555555555555556,\"#d8576b\"],[0.6666666666666666,\"#ed7953\"],[0.7777777777777778,\"#fb9f3a\"],[0.8888888888888888,\"#fdca26\"],[1.0,\"#f0f921\"]]}],\"contourcarpet\":[{\"type\":\"contourcarpet\",\"colorbar\":{\"outlinewidth\":0,\"ticks\":\"\"}}],\"contour\":[{\"type\":\"contour\",\"colorbar\":{\"outlinewidth\":0,\"ticks\":\"\"},\"colorscale\":[[0.0,\"#0d0887\"],[0.1111111111111111,\"#46039f\"],[0.2222222222222222,\"#7201a8\"],[0.3333333333333333,\"#9c179e\"],[0.4444444444444444,\"#bd3786\"],[0.5555555555555556,\"#d8576b\"],[0.6666666666666666,\"#ed7953\"],[0.7777777777777778,\"#fb9f3a\"],[0.8888888888888888,\"#fdca26\"],[1.0,\"#f0f921\"]]}],\"surface\":[{\"type\":\"surface\",\"colorbar\":{\"outlinewidth\":0,\"ticks\":\"\"},\"colorscale\":[[0.0,\"#0d0887\"],[0.1111111111111111,\"#46039f\"],[0.2222222222222222,\"#7201a8\"],[0.3333333333333333,\"#9c179e\"],[0.4444444444444444,\"#bd3786\"],[0.5555555555555556,\"#d8576b\"],[0.6666666666666666,\"#ed7953\"],[0.7777777777777778,\"#fb9f3a\"],[0.8888888888888888,\"#fdca26\"],[1.0,\"#f0f921\"]]}],\"mesh3d\":[{\"type\":\"mesh3d\",\"colorbar\":{\"outlinewidth\":0,\"ticks\":\"\"}}],\"scatter\":[{\"fillpattern\":{\"fillmode\":\"overlay\",\"size\":10,\"solidity\":0.2},\"type\":\"scatter\"}],\"parcoords\":[{\"type\":\"parcoords\",\"line\":{\"colorbar\":{\"outlinewidth\":0,\"ticks\":\"\"}}}],\"scatterpolargl\":[{\"type\":\"scatterpolargl\",\"marker\":{\"colorbar\":{\"outlinewidth\":0,\"ticks\":\"\"}}}],\"bar\":[{\"error_x\":{\"color\":\"#2a3f5f\"},\"error_y\":{\"color\":\"#2a3f5f\"},\"marker\":{\"line\":{\"color\":\"#E5ECF6\",\"width\":0.5},\"pattern\":{\"fillmode\":\"overlay\",\"size\":10,\"solidity\":0.2}},\"type\":\"bar\"}],\"scattergeo\":[{\"type\":\"scattergeo\",\"marker\":{\"colorbar\":{\"outlinewidth\":0,\"ticks\":\"\"}}}],\"scatterpolar\":[{\"type\":\"scatterpolar\",\"marker\":{\"colorbar\":{\"outlinewidth\":0,\"ticks\":\"\"}}}],\"histogram\":[{\"marker\":{\"pattern\":{\"fillmode\":\"overlay\",\"size\":10,\"solidity\":0.2}},\"type\":\"histogram\"}],\"scattergl\":[{\"type\":\"scattergl\",\"marker\":{\"colorbar\":{\"outlinewidth\":0,\"ticks\":\"\"}}}],\"scatter3d\":[{\"type\":\"scatter3d\",\"line\":{\"colorbar\":{\"outlinewidth\":0,\"ticks\":\"\"}},\"marker\":{\"colorbar\":{\"outlinewidth\":0,\"ticks\":\"\"}}}],\"scattermapbox\":[{\"type\":\"scattermapbox\",\"marker\":{\"colorbar\":{\"outlinewidth\":0,\"ticks\":\"\"}}}],\"scatterternary\":[{\"type\":\"scatterternary\",\"marker\":{\"colorbar\":{\"outlinewidth\":0,\"ticks\":\"\"}}}],\"scattercarpet\":[{\"type\":\"scattercarpet\",\"marker\":{\"colorbar\":{\"outlinewidth\":0,\"ticks\":\"\"}}}],\"carpet\":[{\"aaxis\":{\"endlinecolor\":\"#2a3f5f\",\"gridcolor\":\"white\",\"linecolor\":\"white\",\"minorgridcolor\":\"white\",\"startlinecolor\":\"#2a3f5f\"},\"baxis\":{\"endlinecolor\":\"#2a3f5f\",\"gridcolor\":\"white\",\"linecolor\":\"white\",\"minorgridcolor\":\"white\",\"startlinecolor\":\"#2a3f5f\"},\"type\":\"carpet\"}],\"table\":[{\"cells\":{\"fill\":{\"color\":\"#EBF0F8\"},\"line\":{\"color\":\"white\"}},\"header\":{\"fill\":{\"color\":\"#C8D4E3\"},\"line\":{\"color\":\"white\"}},\"type\":\"table\"}],\"barpolar\":[{\"marker\":{\"line\":{\"color\":\"#E5ECF6\",\"width\":0.5},\"pattern\":{\"fillmode\":\"overlay\",\"size\":10,\"solidity\":0.2}},\"type\":\"barpolar\"}],\"pie\":[{\"automargin\":true,\"type\":\"pie\"}]},\"layout\":{\"autotypenumbers\":\"strict\",\"colorway\":[\"#636efa\",\"#EF553B\",\"#00cc96\",\"#ab63fa\",\"#FFA15A\",\"#19d3f3\",\"#FF6692\",\"#B6E880\",\"#FF97FF\",\"#FECB52\"],\"font\":{\"color\":\"#2a3f5f\"},\"hovermode\":\"closest\",\"hoverlabel\":{\"align\":\"left\"},\"paper_bgcolor\":\"white\",\"plot_bgcolor\":\"#E5ECF6\",\"polar\":{\"bgcolor\":\"#E5ECF6\",\"angularaxis\":{\"gridcolor\":\"white\",\"linecolor\":\"white\",\"ticks\":\"\"},\"radialaxis\":{\"gridcolor\":\"white\",\"linecolor\":\"white\",\"ticks\":\"\"}},\"ternary\":{\"bgcolor\":\"#E5ECF6\",\"aaxis\":{\"gridcolor\":\"white\",\"linecolor\":\"white\",\"ticks\":\"\"},\"baxis\":{\"gridcolor\":\"white\",\"linecolor\":\"white\",\"ticks\":\"\"},\"caxis\":{\"gridcolor\":\"white\",\"linecolor\":\"white\",\"ticks\":\"\"}},\"coloraxis\":{\"colorbar\":{\"outlinewidth\":0,\"ticks\":\"\"}},\"colorscale\":{\"sequential\":[[0.0,\"#0d0887\"],[0.1111111111111111,\"#46039f\"],[0.2222222222222222,\"#7201a8\"],[0.3333333333333333,\"#9c179e\"],[0.4444444444444444,\"#bd3786\"],[0.5555555555555556,\"#d8576b\"],[0.6666666666666666,\"#ed7953\"],[0.7777777777777778,\"#fb9f3a\"],[0.8888888888888888,\"#fdca26\"],[1.0,\"#f0f921\"]],\"sequentialminus\":[[0.0,\"#0d0887\"],[0.1111111111111111,\"#46039f\"],[0.2222222222222222,\"#7201a8\"],[0.3333333333333333,\"#9c179e\"],[0.4444444444444444,\"#bd3786\"],[0.5555555555555556,\"#d8576b\"],[0.6666666666666666,\"#ed7953\"],[0.7777777777777778,\"#fb9f3a\"],[0.8888888888888888,\"#fdca26\"],[1.0,\"#f0f921\"]],\"diverging\":[[0,\"#8e0152\"],[0.1,\"#c51b7d\"],[0.2,\"#de77ae\"],[0.3,\"#f1b6da\"],[0.4,\"#fde0ef\"],[0.5,\"#f7f7f7\"],[0.6,\"#e6f5d0\"],[0.7,\"#b8e186\"],[0.8,\"#7fbc41\"],[0.9,\"#4d9221\"],[1,\"#276419\"]]},\"xaxis\":{\"gridcolor\":\"white\",\"linecolor\":\"white\",\"ticks\":\"\",\"title\":{\"standoff\":15},\"zerolinecolor\":\"white\",\"automargin\":true,\"zerolinewidth\":2},\"yaxis\":{\"gridcolor\":\"white\",\"linecolor\":\"white\",\"ticks\":\"\",\"title\":{\"standoff\":15},\"zerolinecolor\":\"white\",\"automargin\":true,\"zerolinewidth\":2},\"scene\":{\"xaxis\":{\"backgroundcolor\":\"#E5ECF6\",\"gridcolor\":\"white\",\"linecolor\":\"white\",\"showbackground\":true,\"ticks\":\"\",\"zerolinecolor\":\"white\",\"gridwidth\":2},\"yaxis\":{\"backgroundcolor\":\"#E5ECF6\",\"gridcolor\":\"white\",\"linecolor\":\"white\",\"showbackground\":true,\"ticks\":\"\",\"zerolinecolor\":\"white\",\"gridwidth\":2},\"zaxis\":{\"backgroundcolor\":\"#E5ECF6\",\"gridcolor\":\"white\",\"linecolor\":\"white\",\"showbackground\":true,\"ticks\":\"\",\"zerolinecolor\":\"white\",\"gridwidth\":2}},\"shapedefaults\":{\"line\":{\"color\":\"#2a3f5f\"}},\"annotationdefaults\":{\"arrowcolor\":\"#2a3f5f\",\"arrowhead\":0,\"arrowwidth\":1},\"geo\":{\"bgcolor\":\"white\",\"landcolor\":\"#E5ECF6\",\"subunitcolor\":\"white\",\"showland\":true,\"showlakes\":true,\"lakecolor\":\"white\"},\"title\":{\"x\":0.05},\"mapbox\":{\"style\":\"light\"}}},\"title\":{\"font\":{\"size\":24,\"color\":\"#ffffff\"},\"text\":\"NBA Beeswarm Comparison 2025-2025\",\"x\":0.5,\"y\":0.99},\"yaxis\":{\"title\":{\"font\":{\"size\":16,\"color\":\"#ffffff\"},\"text\":\"Normalized Value\"},\"showticklabels\":false,\"showgrid\":false,\"gridcolor\":\"rgba(255, 255, 255, 0.1)\",\"zeroline\":true,\"zerolinecolor\":\"rgba(255, 255, 255, 0.1)\",\"range\":[-0.1,1.1]},\"xaxis\":{\"tickfont\":{\"color\":\"#ffffff\",\"size\":14},\"gridcolor\":\"rgba(255, 255, 255, 0.1)\",\"showgrid\":false,\"categoryorder\":\"array\",\"categoryarray\":[\"Points\",\"Opp Points\",\"FTA\",\"FtPoints\",\"3P%\",\"Rim Freq\",\"EFG%\",\"Rim%\",\"TOV%\",\"DREB%\",\"OREB%\"],\"tickangle\":-45},\"legend\":{\"font\":{\"color\":\"#ffffff\",\"size\":16},\"bgcolor\":\"#1a1a1a\",\"orientation\":\"h\",\"yanchor\":\"bottom\",\"y\":1.02,\"xanchor\":\"center\",\"x\":0.5},\"width\":1600,\"height\":1000,\"showlegend\":true,\"plot_bgcolor\":\"#1a1a1a\",\"paper_bgcolor\":\"#1a1a1a\",\"hovermode\":\"closest\"},                        {\"responsive\": true}                    ).then(function(){\n",
       "                            \n",
       "var gd = document.getElementById('b949f937-af15-4250-b6df-20c4198c39a6');\n",
       "var x = new MutationObserver(function (mutations, observer) {{\n",
       "        var display = window.getComputedStyle(gd).display;\n",
       "        if (!display || display === 'none') {{\n",
       "            console.log([gd, 'removed!']);\n",
       "            Plotly.purge(gd);\n",
       "            observer.disconnect();\n",
       "        }}\n",
       "}});\n",
       "\n",
       "// Listen for the removal of the full notebook cells\n",
       "var notebookContainer = gd.closest('#notebook-container');\n",
       "if (notebookContainer) {{\n",
       "    x.observe(notebookContainer, {childList: true});\n",
       "}}\n",
       "\n",
       "// Listen for the clearing of the current output cell\n",
       "var outputEl = gd.closest('.output');\n",
       "if (outputEl) {{\n",
       "    x.observe(outputEl, {childList: true});\n",
       "}}\n",
       "\n",
       "                        })                };                });            </script>        </div>"
      ]
     },
     "metadata": {},
     "output_type": "display_data"
    }
   ],
   "source": [
    "\n",
    "def graph_lineupsplits(start_year, end_year, players_on_list, players_off_list, team_list, vs, ps):\n",
    "    # Ensure inputs are lists\n",
    "    if not isinstance(players_on_list, list):\n",
    "        players_on_list = [players_on_list]\n",
    "    if not isinstance(players_off_list, list):\n",
    "        players_off_list = [players_off_list]\n",
    "    if not isinstance(team_list, list):\n",
    "        team_list = [team_list]\n",
    "    \n",
    "    # Make all lists the same length by filling missing elements with defaults\n",
    "    max_length = max(len(players_on_list), len(players_off_list), len(team_list))\n",
    "    players_on_list += [[]] * (max_length - len(players_on_list))  # Fill with empty lists\n",
    "    players_off_list += [[]] * (max_length - len(players_off_list))  # Fill with empty lists\n",
    "    team_list += [team_list[-1]] * (max_length - len(team_list))  # Repeat the last team if needed\n",
    "    \n",
    "    # Initialize an empty DataFrame to hold all data\n",
    "    frames = []\n",
    "    \n",
    "    # Iterate through all combinations of inputs\n",
    "    for players_on, players_off, team in zip(players_on_list, players_off_list, team_list):\n",
    "        team_id = team_dict(team)\n",
    "\n",
    "        # Get player and team data\n",
    "        row = player_rows(start_year, end_year, players_on, players_off, team_id, vs=vs)\n",
    "        if row.empty:\n",
    "            continue  # Skip if no data returned\n",
    "\n",
    "        # Trim and annotate data\n",
    "        row = trim_frame(row)\n",
    "        row['team'] = team\n",
    "        row['lineup_row'] = 1\n",
    "\n",
    "        # Add to frames\n",
    "        frames.append(row)\n",
    "    \n",
    "    # Get team averages and process\n",
    "    teams = team_averages(start_year, end_year, vs=vs, ps=ps)\n",
    "    teams = trim_frame(teams)\n",
    "    teams['team'] = teams['Name']\n",
    "    teams['lineup_row'] = 0\n",
    "    frames.append(teams)\n",
    "\n",
    "    # Combine all data\n",
    "    all_data = pd.concat(frames, ignore_index=True)\n",
    "\n",
    "    # Process columns\n",
    "    columns = [\n",
    "        'Points', 'Opp Points', 'FTA','FtPoints',\n",
    "        '3P%',\n",
    "        'Rim Freq', 'EFG%',\n",
    "        'Rim%', 'TOV%',\n",
    "        'DREB%', 'OREB%'\n",
    "    ]\n",
    "    exclude = ['Points', 'Opp Points', '3P Assists', 'Rim Assists', 'FTA','FtPoints']\n",
    "    for col in columns:\n",
    "        if col not in exclude:\n",
    "            all_data[col] *= 100\n",
    "\n",
    "    # Create visualization for all data\n",
    "    print(all_data)\n",
    "    fig = create_nba_beeswarm(team_list, start_year, end_year, all_data, categories=columns, vs=vs, ps=ps)\n",
    "    return fig\n",
    "\n",
    "# Example Input\n",
    "players_on_list = [['1631114']]\n",
    "players_off_list = [['1628983']]\n",
    "team_list = ['OKC']\n",
    "vs = False\n",
    "ps = False\n",
    "start_year = 2024\n",
    "end_year = 2024\n",
    "\n",
    "# Generate figure\n",
    "fig = graph_lineupsplits(start_year, end_year, players_on_list, players_off_list, team_list, vs, ps)\n",
    "fig.show()"
   ]
  },
  {
   "cell_type": "code",
   "execution_count": null,
   "id": "90e64111-bfa0-457c-aee0-73e7cbe5ec45",
   "metadata": {},
   "outputs": [],
   "source": []
  },
  {
   "cell_type": "code",
   "execution_count": null,
   "id": "56f56601-0cd8-44c5-8b78-174aa753186d",
   "metadata": {},
   "outputs": [],
   "source": []
  },
  {
   "cell_type": "code",
   "execution_count": null,
   "id": "8f82ea78-b6a4-4880-9c45-8291da7baa43",
   "metadata": {},
   "outputs": [],
   "source": []
  },
  {
   "cell_type": "code",
   "execution_count": null,
   "id": "da418550-a74b-4fef-9526-923195a4a445",
   "metadata": {},
   "outputs": [],
   "source": []
  },
  {
   "cell_type": "code",
   "execution_count": null,
   "id": "5ca85d0a-7d1d-4634-aaa3-4723fc6bac49",
   "metadata": {},
   "outputs": [],
   "source": []
  }
 ],
 "metadata": {
  "kernelspec": {
   "display_name": "Python 3 (ipykernel)",
   "language": "python",
   "name": "python3"
  },
  "language_info": {
   "codemirror_mode": {
    "name": "ipython",
    "version": 3
   },
   "file_extension": ".py",
   "mimetype": "text/x-python",
   "name": "python",
   "nbconvert_exporter": "python",
   "pygments_lexer": "ipython3",
   "version": "3.10.12"
  }
 },
 "nbformat": 4,
 "nbformat_minor": 5
}
