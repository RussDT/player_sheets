{
 "cells": [
  {
   "cell_type": "code",
   "execution_count": 64,
   "id": "5d184551-ddf0-4254-be51-8f0cb191e984",
   "metadata": {},
   "outputs": [],
   "source": [
    "import pandas as pd\n",
    "import pandas as pd\n",
    "import numpy as np\n",
    "from nba_api.stats.static import players\n",
    "from plotly.colors import qualitative\n",
    "\n",
    "import time \n",
    "import plotly.graph_objects as go\n",
    "import pandas as pd\n",
    "import numpy as np\n",
    "from sklearn.preprocessing import MinMaxScaler\n",
    "import json\n",
    "def get_colors():\n",
    "    path = 'colors.json'\n",
    "    f = open(path)\n",
    "\n",
    "    # returns JSON object as \n",
    "    # a dictionary\n",
    "    data = json.load(f)\n",
    "    team_colors = {}\n",
    "    for team in data:\n",
    "        obj = data[team]\n",
    "        color = obj['mainColor']\n",
    "        color_hex = obj['colors'][color]['hex']\n",
    "        team_colors[team]=color_hex\n",
    "    team_colors['PHX']= '#e56020',\n",
    "    second_colors = {}\n",
    "    for team in data:\n",
    "        obj = data[team]\n",
    "        color = obj['secondaryColor']\n",
    "        color_hex = obj['colors'][color]['hex']\n",
    "        second_colors[team]=color_hex\n",
    "    second_colors['PHX']= '#1d1160',\n",
    "\n",
    "    temp = team_colors['BKN']\n",
    "\n",
    "    team_colors['BKN'] = second_colors['BKN']\n",
    "    second_colors['BKN'] = temp\n",
    "    return team_colors,second_colors\n",
    "\n",
    "def team_dict(team):\n",
    "\n",
    "    map={'SYR': '1610612755',\n",
    "     'PHW': '1610612744',\n",
    "     'NYK': '1610612752',\n",
    "     'STL': '1610612737',\n",
    "     'ROC': '1610612758',\n",
    "     'BOS': '1610612738',\n",
    "     'FTW': '1610612765',\n",
    "     'MNL': '1610612747',\n",
    "     'TOT': 'TOT',\n",
    "     'DET': '1610612765',\n",
    "     'CIN': '1610612758',\n",
    "     'LAL': '1610612747',\n",
    "     'CHP': '1610612741',\n",
    "     'SFW': '1610612744',\n",
    "     'CHZ': '1610612741',\n",
    "     'BAL': '1610612764',\n",
    "     'PHI': '1610612755',\n",
    "     'CHI': '1610612741',\n",
    "     'SDR': '1610612745',\n",
    "     'SEA': '1610612760',\n",
    "     'MIL': '1610612749',\n",
    "     'ATL': '1610612737',\n",
    "     'PHO': '1610612756',\n",
    "     'POR': '1610612757',\n",
    "     'CLE': '1610612739',\n",
    "     'BUF': '1610612761',\n",
    "     'HOU': '1610612745',\n",
    "     'GSW': '1610612744',\n",
    "     'KCO': '1610612758',\n",
    "     'CAP': '1610612764',\n",
    "     'NOJ': '1610612762',\n",
    "     'WSB': '1610612764',\n",
    "     'KCK': '1610612758',\n",
    "     'IND': '1610612754',\n",
    "     'NYN': '1610612751',\n",
    "     'DEN': '1610612743',\n",
    "     'SAS': '1610612759',\n",
    "     'NJN': '1610612751',\n",
    "     'SDC': '1610612746',\n",
    "     'UTA': '1610612762',\n",
    "     'DAL': '1610612742',\n",
    "     'LAC': '1610612746',\n",
    "     'SAC': '1610612758',\n",
    "     'CHH': '1610612766',\n",
    "     'MIA': '1610612748',\n",
    "     'ORL': '1610612753',\n",
    "     'MIN': '1610612750',\n",
    "     'VAN': '1610612763',\n",
    "     'TOR': '1610612761',\n",
    "     'WAS': '1610612764',\n",
    "     'MEM': '1610612763',\n",
    "     'NOH': '1610612740',\n",
    "     'CHA': '1610612766',\n",
    "     'NOK': '1610612740',\n",
    "     'OKC': '1610612760',\n",
    "     'BRK': '1610612751',\n",
    "     'NOP': '1610612740',\n",
    "     'CHO': '1610612766',\n",
    "     'PHX': '1610612756'}\n",
    "    return map[team]\n",
    "\n",
    "def calculate_basketball_percentages(df):\n",
    "    \"\"\"\n",
    "    Calculate basketball percentage statistics from raw totals.\n",
    "    \n",
    "    Args:\n",
    "        df (pandas.DataFrame): DataFrame containing the raw totals columns\n",
    "        \n",
    "    Returns:\n",
    "        pandas.DataFrame: DataFrame with added percentage columns\n",
    "    \"\"\"\n",
    "    # Make a copy to avoid modifying the original\n",
    "    result = df.copy()\n",
    "    \n",
    "    # Basic shooting percentages\n",
    "    result['Fg3Pct'] = (result['FG3M'] / result['FG3A'] * 1).fillna(0)\n",
    "    result['Fg2Pct'] = (result['FG2M'] / result['FG2A'] * 1).fillna(0)\n",
    "    result['FGA'] = (result['FG2A'] + result['FG3A'])\n",
    "    result['PenaltyFGA'] = (result['PenaltyFG2A'] + result['PenaltyFG3A'])\n",
    "    result['SecondChanceFGA'] = (result['SecondChanceFG2A'] + result['SecondChanceFG3A'])\n",
    "\n",
    "    result['FGA']= result['FG2A']+result['FG3A']\n",
    "    result['FGM']= result['FG2M']+result['FG3M']\n",
    "    result['NonHeaveFg3Pct'] = (result['FG3M'] / (result['FG3A']-result['HeaveAttempts']) * 1).fillna(0)\n",
    "    \n",
    "    # Advanced shooting percentages\n",
    "    result['EfgPct'] = ((result['FG2M'] + 1.5 * result['FG3M']) / (result['FG2A'] + result['FG3A']) * 1).fillna(0)\n",
    "    # Assuming you have a DataFrame named result with the necessary columns\n",
    "    \n",
    "    # Step 1: Extract relevant columns for easier calculations\n",
    "    points = result['Points']\n",
    "    fga = result['FGA']\n",
    "    fta = result['FTA']\n",
    "    and1_2pt = result['2pt And 1 Free Throw Trips']\n",
    "    and1_3pt = result['3pt And 1 Free Throw Trips']\n",
    "    \n",
    "    # Step 2: Calculate the adjusted free throw weighting factor\n",
    "    w = (and1_2pt + 1.5 * and1_3pt + 0.44 * (fta - and1_2pt - and1_3pt)) / fta\n",
    "    \n",
    "    # Step 3: Calculate True Shooting Percentage (TS%) and add to result DataFrame\n",
    "    result['TsPct'] = points / (2 * (fga + w * fta))\n",
    "    \n",
    "    # The 'TS%' column in the result DataFrame now contains the calculated TS% values\n",
    "\n",
    "    #result['TsPct'] = (result['Points'] / (2 * (result['FG2A'] + result['FG3A'] + 0.44 * result['FTA'])) * 1).fillna(0)\n",
    "    \n",
    "    # Second chance percentages\n",
    "    result['SecondChanceFg3Pct'] = (result['SecondChanceFG3M'] / result['SecondChanceFG3A'] * 1).fillna(0)\n",
    "    result['SecondChanceFg2Pct'] = (result['SecondChanceFG2M'] / result['SecondChanceFG2A'] * 1).fillna(0)\n",
    "    result['SecondChanceEfgPct'] = ((result['SecondChanceFG2M'] + 1.5 * result['SecondChanceFG3M']) / \n",
    "                                   (result['SecondChanceFG2A'] + result['SecondChanceFG3A']) * 1).fillna(0)\n",
    "    result['SecondChanceTsPct'] = (result['SecondChancePoints'] / \n",
    "                                  (2 * (result['SecondChanceFG2A'] + result['SecondChanceFG3A'])) * 1).fillna(0)\n",
    "\n",
    "    \n",
    "    result['SecondChancePointsPct'] = (result['SecondChancePoints'] / result['Points'] * 1).fillna(0)\n",
    "    \n",
    "    # Shot distribution\n",
    "    result['FG3APct'] = (result['FG3A'] / (result['FG2A'] + result['FG3A']) * 1).fillna(0)\n",
    "    \n",
    "    result['FG2APctBlocked'] = (result['Fg2aBlocked'] / result['FG2A'] * 1).fillna(0)\n",
    "    result['AtRimPctBlocked'] = (result['opp_BlockedAtRim'] / result['AtRimFGA'] * 1).fillna(0)\n",
    "    result['LongMidRangePctBlocked'] = (result['opp_BlockedLongMidRange'] / result['LongMidRangeFGA'] * 1).fillna(0)\n",
    "    result['ShortMidRangePctBlocked'] = (result['opp_BlockedShortMidRange'] / result['ShortMidRangeFGA'] * 1).fillna(0)\n",
    "    result['FG3APctBlocked'] = (result['Fg3aBlocked'] / result['FG3A'] * 1).fillna(0)\n",
    "    result['Corner3PctBlocked'] = (result['Blocked3s'] / result['Corner3FGA'] * 1).fillna(0)\n",
    "    result['Arc3PctBlocked'] = (result['Blocked3s'] / result['Arc3FGA'] * 1).fillna(0)\n",
    "    \n",
    "    # Rebound percentages - Field Goals (corrected to be relative to missed shots)\n",
    "    result['DefFGReboundPct'] = (result['DefRebounds'] / (result['opp_FG2A'] - result['opp_FG2M'] + result['opp_FG3A'] - result['opp_FG3M']) * 1).fillna(0)\n",
    "    result['OffFGReboundPct'] = (result['OffRebounds'] / (result['FG2A'] - result['FG2M'] + result['FG3A'] - result['FG3M']) * 1).fillna(0)\n",
    "    \n",
    "    # Rebound percentages by shot location (corrected to be relative to missed shots of that type)\n",
    "    result['OffLongMidRangeReboundPct'] = (result['OffTwoPtRebounds'] / (result['LongMidRangeFGA'] - result['LongMidRangeFGM']) * 1).fillna(0)\n",
    "    result['DefLongMidRangeReboundPct'] = (result['DefTwoPtRebounds'] / (result['LongMidRangeFGA'] - result['LongMidRangeFGM']) * 1).fillna(0)\n",
    "    result['DefArc3ReboundPct'] = (result['DefThreePtRebounds'] / (result['Arc3FGA'] - result['Arc3FGM']) * 1).fillna(0)\n",
    "    result['OffArc3ReboundPct'] = (result['OffThreePtRebounds'] / (result['Arc3FGA'] - result['Arc3FGM']) * 1).fillna(0)\n",
    "    result['DefAtRimReboundPct'] = (result['DefTwoPtRebounds'] / (result['AtRimFGA'] - result['AtRimFGM']) * 1).fillna(0)\n",
    "    result['OffAtRimReboundPct'] = (result['OffTwoPtRebounds'] / (result['AtRimFGA'] - result['AtRimFGM']) * 1).fillna(0)\n",
    "    result['DefShortMidRangeReboundPct'] = (result['DefTwoPtRebounds'] / (result['ShortMidRangeFGA'] - result['ShortMidRangeFGM']) * 1).fillna(0)\n",
    "    result['OffShortMidRangeReboundPct'] = (result['OffTwoPtRebounds'] / (result['ShortMidRangeFGA'] - result['ShortMidRangeFGM']) * 1).fillna(0)\n",
    "    result['DefCorner3ReboundPct'] = (result['DefThreePtRebounds'] / (result['Corner3FGA'] - result['Corner3FGM']) * 1).fillna(0)\n",
    "    result['OffCorner3ReboundPct'] = (result['OffThreePtRebounds'] / (result['Corner3FGA'] - result['Corner3FGM']) * 1).fillna(0)\n",
    "    \n",
    "    # Free throw rebound percentages (corrected to be relative to FT misses)\n",
    "\n",
    "    # Assist percentages\n",
    "    result['Assisted2sPct'] = (result['PtsAssisted2s'] / (2 * result['FG2M']) * 1).fillna(0)\n",
    "    result['Assisted3sPct'] = (result['PtsAssisted3s'] / (3 * result['FG3M']) * 1).fillna(0)\n",
    "    result['NonPutbacksAssisted2sPct'] = (result['PtsAssisted2s'] / (2 * (result['FG2M'] - result['PtsPutbacks']/2)) * 1).fillna(0)\n",
    "    result['Corner3PctAssisted'] = (result['Corner3Assists'] / result['Corner3FGM'] * 1).fillna(0)\n",
    "    result['Arc3PctAssisted'] = (result['Arc3Assists'] / result['Arc3FGM'] * 1).fillna(0)\n",
    "    result['SecondChanceCorner3PctAssisted'] = (result['Corner3Assists'] / result['SecondChanceCorner3FGM'] * 1).fillna(0)\n",
    "    result['SecondChanceArc3PctAssisted'] = (result['Arc3Assists'] / result['SecondChanceArc3FGM'] * 1).fillna(0)\n",
    "    result['SecondChanceAtRimPctAssisted'] = (result['AtRimAssists'] / result['SecondChanceAtRimFGM'] * 1).fillna(0)\n",
    "    result['AtRimPctAssisted'] = (result['AtRimAssists'] / result['AtRimFGM'] * 1).fillna(0)\n",
    "    result['ShortMidRangePctAssisted'] = (result['ShortMidRangeAssists'] / result['ShortMidRangeFGM'] * 1).fillna(0)\n",
    "    result['LongMidRangePctAssisted'] = (result['LongMidRangeAssists'] / result['LongMidRangeFGM'] * 1).fillna(0)\n",
    "    \n",
    "    # Penalty percentages\n",
    "    result['PenaltyPointsPct'] = (result['PenaltyPoints'] / result['Points'] * 1).fillna(0)\n",
    "    result['PenaltyOffPossPct'] = (result['PenaltyOffPoss'] / result['OffPoss'] * 1).fillna(0)\n",
    "    result['PenaltyFg2Pct'] = (result['PenaltyFG2M'] / result['PenaltyFG2A'] * 1).fillna(0)\n",
    "    result['PenaltyFg3Pct'] = (result['PenaltyFG3M'] / result['PenaltyFG3A'] * 1).fillna(0)\n",
    "    result['PenaltyEfgPct'] = ((result['PenaltyFG2M'] + 1.5 * result['PenaltyFG3M']) / \n",
    "                              (result['PenaltyFG2A'] + result['PenaltyFG3A']) * 1).fillna(0)\n",
    "    result['PenaltyTsPct'] = (result['PenaltyPoints'] / \n",
    "                             (2 * (result['PenaltyFG2A'] + result['PenaltyFG3A'] + 0.44 * result['FTA'])) * 1).fillna(0)\n",
    "    \n",
    "    # Miscellaneous percentages\n",
    "    result['BlocksRecoveredPct'] = (result['RecoveredBlocks'] / result['Blocks'] * 1).fillna(0)\n",
    "    result['LiveBallTurnoverPct'] = (result['LiveBallTurnovers'] / result['Turnovers'] * 1).fillna(0)\n",
    "    result['SelfORebPct'] = (result['SelfOReb'] /(result['FGA']- result['FGM']) * 1).fillna(0)\n",
    "    \n",
    "    # Fouls percentages\n",
    "    total_shooting_fouls = result['TwoPtShootingFoulsDrawn'] + result['ThreePtShootingFoulsDrawn']\n",
    "    result['ShootingFoulsDrawnPct'] = (result['ShootingFouls'] / (result['FG2A']+result['FG3A']) * 1).fillna(0)\n",
    "    result['TwoPtShootingFoulsDrawnPct'] = ((result['TwoPtShootingFoulsDrawn'])/ (result['FG2A']+result['2pt And 1 Free Throw Trips'])* 1).fillna(0)\n",
    "    result['ThreePtShootingFoulsDrawnPct'] = (result['ThreePtShootingFoulsDrawn'] / result['FG3A'] * 1).fillna(0)\n",
    "    total_def_rebounds = result['DefTwoPtRebounds'] + result['DefThreePtRebounds']\n",
    "    total_off_rebounds = result['OffTwoPtRebounds'] + result['OffThreePtRebounds']\n",
    "    result['ThreePtShootingFoulsDrawnPct'] = result['ThreePtShootingFoulsDrawn'] / result['FG3A'] * 1\n",
    "    \n",
    "    result['DefTwoPtReboundPct'] = (result['DefTwoPtRebounds'] / total_def_rebounds * 1).fillna(0)\n",
    "    result['DefThreePtReboundPct'] = (result['DefThreePtRebounds'] / total_def_rebounds * 1).fillna(0)\n",
    "    result['OffTwoPtReboundPct'] = (result['OffTwoPtRebounds'] /(result['FG2A']-result['FG2M']) * 1).fillna(0)\n",
    "    result['OffThreePtReboundPct'] = (result['OffThreePtRebounds'] / total_off_rebounds * 1).fillna(0)\n",
    "    \n",
    "    result['OffFTReboundPct']=(result['FTOffRebounds']/(result['opp_FTDefRebounds']+result['FTOffRebounds']))\n",
    "\n",
    "    result['DefFTReboundPct']=(result['FTDefRebounds']/(result['opp_FTOffRebounds']+result['FTDefRebounds']))\n",
    "    result['AtRimFrequency'] = result['AtRimFGA'] / result['FGA']\n",
    "    result['ShortMidRangeFrequency'] = result['ShortMidRangeFGA'] / result['FGA']\n",
    "    result['LongMidRangeFrequency'] = result['LongMidRangeFGA'] / result['FGA']\n",
    "    result['Corner3Frequency'] = result['Corner3FGA'] / result['FGA']\n",
    "    result['Arc3Frequency'] = result['Arc3FGA'] / result['FGA']\n",
    "    result['SecondChanceArc3Frequency'] = result['SecondChanceArc3FGA'] / result['SecondChanceFGA']\n",
    "    result['AtRimFG3AFrequency'] = (result['AtRimFGA'] + result['FG3A']) / result['FGA']\n",
    "    result['SecondChanceAtRimFrequency'] = result['SecondChanceAtRimFGA'] / result['SecondChanceFGA']\n",
    "    result['SecondChanceCorner3Frequency'] = result['SecondChanceCorner3FGA'] / result['SecondChanceFGA']\n",
    "    result['PenaltyAtRimFrequency'] = result['PenaltyAtRimFGA'] / result['PenaltyFGA']\n",
    "    result['PenaltyArc3Frequency'] = result['PenaltyArc3FGA'] / result['PenaltyFGA']\n",
    "    result['PenaltyCorner3Frequency'] = result['PenaltyCorner3FGA'] / result['PenaltyFGA']\n",
    "    # Calculating accuracy metrics\n",
    "    result['AtRimAccuracy'] = result['AtRimFGM'] / result['AtRimFGA']\n",
    "    result['UnblockedAtRimAccuracy'] = (result['AtRimFGM'] - result['Fg2aBlocked']) / result['AtRimFGA']\n",
    "    \n",
    "    result['ShortMidRangeAccuracy'] = result['ShortMidRangeFGM'] / result['ShortMidRangeFGA']\n",
    "    result['UnblockedShortMidRangeAccuracy'] = (result['ShortMidRangeFGM'] - result['Fg2aBlocked']) / result['ShortMidRangeFGA']\n",
    "    \n",
    "    result['LongMidRangeAccuracy'] = result['LongMidRangeFGM'] / result['LongMidRangeFGA']\n",
    "    result['UnblockedLongMidRangeAccuracy'] = (result['LongMidRangeFGM'] - result['Fg2aBlocked']) / result['LongMidRangeFGA']\n",
    "    \n",
    "    result['Corner3Accuracy'] = result['Corner3FGM'] / result['Corner3FGA']\n",
    "    result['UnblockedCorner3Accuracy'] = (result['Corner3FGM'] - result['Fg3aBlocked']) / result['Corner3FGA']\n",
    "    \n",
    "    result['Arc3Accuracy'] = result['Arc3FGM'] / result['Arc3FGA']\n",
    "    result['UnblockedArc3Accuracy'] = (result['Arc3FGM'] - result['Fg3aBlocked']) / result['Arc3FGA']\n",
    "    \n",
    "    # Second-chance accuracy metrics\n",
    "    result['SecondChanceAtRimAccuracy'] = result['SecondChanceAtRimFGM'] / result['SecondChanceAtRimFGA']\n",
    "    result['SecondChanceCorner3Accuracy'] = result['SecondChanceCorner3FGM'] / result['SecondChanceCorner3FGA']\n",
    "    result['SecondChanceArc3Accuracy'] = result['SecondChanceArc3FGM'] / result['SecondChanceArc3FGA']\n",
    "    \n",
    "    # Penalty accuracy metrics\n",
    "    result['PenaltyAtRimAccuracy'] = result['PenaltyAtRimFGM'] / result['PenaltyAtRimFGA']\n",
    "    result['PenaltyCorner3Accuracy'] = result['PenaltyCorner3FGM'] / result['PenaltyCorner3FGA']\n",
    "    result['PenaltyArc3Accuracy'] = result['PenaltyArc3FGM'] / result['PenaltyArc3FGA']\n",
    "    \n",
    "    # Non-heave accuracy metric\n",
    "    result['NonHeaveArc3Accuracy'] = result['NonHeaveArc3FGM'] / result['NonHeaveArc3FGA']\n",
    "\n",
    "\n",
    "    return result\n",
    "\n",
    "def calculate_weighted_average(df, value_col, weight_col, group_by=None):\n",
    "    \"\"\"\n",
    "    Calculate weighted average of a value column based on a weight column.\n",
    "    \n",
    "    Parameters:\n",
    "    -----------\n",
    "    df : pandas.DataFrame\n",
    "        Input dataframe\n",
    "    value_col : str\n",
    "        Name of the column containing the values to average\n",
    "    weight_col : str\n",
    "        Name of the column containing the weights\n",
    "    group_by : str or list, optional\n",
    "        Column(s) to group by before calculating weighted average\n",
    "        \n",
    "    Returns:\n",
    "    --------\n",
    "    If group_by is None: returns a float (weighted average)\n",
    "    If group_by is specified: returns a Series with weighted averages per group\n",
    "    \n",
    "    Examples:\n",
    "    --------\n",
    "    # Single weighted average\n",
    "    df = pd.DataFrame({\n",
    "        'value': [10, 20, 30],\n",
    "        'weight': [1, 2, 3]\n",
    "    })\n",
    "    result = calculate_weighted_average(df, 'value', 'weight')\n",
    "    \n",
    "    # Grouped weighted averages\n",
    "    df = pd.DataFrame({\n",
    "        'category': ['A', 'A', 'B', 'B'],\n",
    "        'value': [10, 20, 30, 40],\n",
    "        'weight': [1, 2, 3, 4]\n",
    "    })\n",
    "    result = calculate_weighted_average(df, 'value', 'weight', 'category')\n",
    "    \"\"\"\n",
    "    \n",
    "    # Input validation\n",
    "    if value_col not in df.columns:\n",
    "        raise ValueError(f\"Value column '{value_col}' not found in dataframe\")\n",
    "    if weight_col not in df.columns:\n",
    "        raise ValueError(f\"Weight column '{weight_col}' not found in dataframe\")\n",
    "    \n",
    "    # Handle negative weights\n",
    "    if (df[weight_col] < 0).any():\n",
    "        raise ValueError(\"Negative weights found. Please ensure all weights are non-negative\")\n",
    "    \n",
    "    # Remove rows where either value or weight is null\n",
    "    df = df.dropna(subset=[value_col, weight_col])\n",
    "    \n",
    "    # If all weights are zero, return nan\n",
    "    if (df[weight_col] == 0).all():\n",
    "        print('hit zero condition')\n",
    "        return np.nan\n",
    "    \n",
    "    if group_by is None:\n",
    "        # Calculate single weighted average\n",
    "        weighted_sum = (df[value_col] * df[weight_col]).sum()\n",
    "        weight_sum = df[weight_col].sum()\n",
    "        return weighted_sum / weight_sum if weight_sum != 0 else np.nan\n",
    "    else:\n",
    "        # Calculate grouped weighted averages\n",
    "        grouped = df.groupby(group_by)\n",
    "        weighted_sums = grouped.apply(lambda x: (x[value_col] * x[weight_col]).sum())\n",
    "        weight_sums = grouped[weight_col].sum()\n",
    "        weight_sum = df[weight_col].sum()\n",
    "        return weighted_sums / weight_sum\n",
    "\n",
    "\n",
    "def transform_data(df):\n",
    "    df.fillna(0, inplace=True)\n",
    "    \n",
    "    id_col=['EntityId',\n",
    "     'TeamId',\n",
    "     'Name',\n",
    "     'ShortName',\n",
    "     'RowId',\n",
    "     'TeamAbbreviation',\n",
    "    'team_id',\n",
    "     'year',\n",
    "     'season',\n",
    "     'team_vs']\n",
    "    df['FGA']= df['FG2A']+df['FG3A']\n",
    "    df['FGM']= df['FG2M']+df['FG3M']\n",
    "    df['opp_FGA']= df['opp_FG2A']+df['opp_FG3A']\n",
    "    df['opp_FGM']= df['opp_FG2M']+df['opp_FG3M']\n",
    "\n",
    "    missing=['3pt And 1 Free Throw Trips','opp_BlockedLongMidRange','opp_FTOffRebounds']\n",
    "    for col in missing:\n",
    "        if col not in df.columns:\n",
    "            df[col]=0\n",
    "    \n",
    "    df.drop(columns=['opp_Name', 'opp_ShortName', 'opp_RowId', 'opp_TeamAbbreviation', 'opp_season'],inplace=True)\n",
    "    df['two_point_misses']= df['FG2A'] - df['FG2M']\n",
    "    df['opp_two_point_misses']= df['opp_FG2A'] - df['opp_FG2M']\n",
    "    \n",
    "    # Specific location misses\n",
    "    df['at_rim_misses']= df['AtRimFGA'] - df['AtRimFGM']\n",
    "    df['opp_at_rim_misses']= df['opp_AtRimFGA'] - df['opp_AtRimFGM']\n",
    "    \n",
    "    df['short_midrange_misses']= df['ShortMidRangeFGA'] - df['ShortMidRangeFGM']\n",
    "    \n",
    "    df['opp_short_midrange_misses']= df['opp_ShortMidRangeFGA'] - df['opp_ShortMidRangeFGM']\n",
    "    \n",
    "    df['long_midrange_misses']= df['LongMidRangeFGA'] - df['LongMidRangeFGM']\n",
    "    df['opp_long_midrange_misses']= df['opp_LongMidRangeFGA'] - df['opp_LongMidRangeFGM']\n",
    "    \n",
    "    # Three point misses by location\n",
    "    df['corner3_misses']= df['Corner3FGA'] - df['Corner3FGM']\n",
    "    df['opp_corner3_misses']= df['opp_Corner3FGA'] - df['opp_Corner3FGM']\n",
    "    \n",
    "    df['arc3_misses']= df['Arc3FGA'] - df['Arc3FGM']\n",
    "    df['opp_arc3_misses']= df['opp_Arc3FGA'] - df['opp_Arc3FGM']\n",
    "    \n",
    "    # Free throw misses\n",
    "    df['ft_misses']= df['FTA'] - df['FtPoints']\n",
    "    \n",
    "    df['opp_ft_misses']= df['opp_FTA'] - df['opp_FtPoints']\n",
    "    \n",
    "    # Total misses\n",
    "    df['fg_misses']= (df['FGA'] - df['FGM'])\n",
    "    df['opp_fg_misses']= (df['opp_FGA'] - df['opp_FGM'])\n",
    "    \n",
    "    weight_mapping = {\n",
    "        'DefTwoPtReboundPct': 'opp_two_point_misses',\n",
    "        'OffTwoPtReboundPct': 'two_point_misses',\n",
    "        'DefThreePtReboundPct':'opp_FG3A',\n",
    "        'DefFGReboundPct': 'opp_fg_misses',\n",
    "        'OffFGReboundPct': 'fg_misses',\n",
    "        'OffLongMidRangeReboundPct': 'long_midrange_misses',\n",
    "        'DefLongMidRangeReboundPct': 'opp_long_midrange_misses',\n",
    "        'OffThreePtReboundPct': 'opp_FG3A',\n",
    "        'OffArc3ReboundPct': 'arc3_misses',\n",
    "        'DefArc3ReboundPct': 'opp_arc3_misses',\n",
    "        'DefAtRimReboundPct': 'opp_at_rim_misses',\n",
    "        'DefShortMidRangeReboundPct': 'opp_short_midrange_misses',\n",
    "        'DefCorner3ReboundPct': 'opp_corner3_misses',\n",
    "        'OffAtRimReboundPct': 'at_rim_misses',\n",
    "        'SelfORebPct': 'fg_misses',\n",
    "        'OffShortMidRangeReboundPct': 'short_midrange_misses',\n",
    "        'DefFTReboundPct': 'FTDefRebounds',\n",
    "        'OffFTReboundPct':'opp_FTDefRebounds',\n",
    "        'OffCorner3ReboundPct': 'corner3_misses',\n",
    "        'SecondChanceTsPct':'SecondChanceOffPoss',\n",
    "        'SecondChanceCorner3PctAssisted':'SecondChanceCorner3FGM',\n",
    "        'SecondChanceArc3PctAssisted':'SecondChanceArc3FGM',\n",
    "        'SecondChanceAtRimPctAssisted':'SecondChanceAtRimFGM'\n",
    "    }\n",
    "    \n",
    "    # Create a DataFrame to store weighted averages for each team\n",
    "    team_weighted_avgs = pd.DataFrame()\n",
    "    \n",
    "    # Calculate weighted averages for each team\n",
    "    for team_id in df['TeamId'].unique():\n",
    "        team_data = df[df['TeamId'] == team_id]\n",
    "        team_values = {}\n",
    "        \n",
    "        for key in weight_mapping.keys():\n",
    "            if team_data[weight_mapping[key]].sum() == 0:\n",
    "                val = 0\n",
    "            else:\n",
    "                val = calculate_weighted_average(team_data, key, weight_mapping[key])\n",
    "            team_values[key] = val\n",
    "            \n",
    "        # Add team values to the DataFrame\n",
    "        team_weighted_avgs = pd.concat([\n",
    "            team_weighted_avgs, \n",
    "            pd.DataFrame([team_values], index=[team_id])\n",
    "        ])\n",
    "    \n",
    "    weight_list = list(weight_mapping.keys())\n",
    "    pct = [col for col in df.columns if 'pct' in col.lower()]\n",
    "    sum_cols = [col for col in df.columns if col not in id_col and col not in pct]\n",
    "    \n",
    "    sums = df.groupby('TeamId').sum(numeric_only=True)[sum_cols].reset_index()\n",
    "    \n",
    "    exclude = [\"PenaltyTsPct\"]\n",
    "    pct = [col for col in pct if col not in exclude]\n",
    "    pct = [col for col in pct if 'opp_' not in col.lower()]\n",
    "    \n",
    "    newframe = calculate_basketball_percentages(sums)\n",
    "    \n",
    "    # Add the weighted averages to newframe\n",
    "    for col in weight_list:\n",
    "        newframe[col] = newframe['TeamId'].map(team_weighted_avgs[col])\n",
    "    \n",
    "    to_drop = [col for col in newframe if 'opp_' in col.lower()]\n",
    "    newframe.drop(columns=to_drop, inplace=True)\n",
    "    \n",
    "    return newframe\n",
    "\n",
    "def player_rows(start_year, end_year, player_ids, off_player_ids, team_id, vs=False, on=True, ps=False):\n",
    "    pstring = \"_ps\" if ps else \"\"\n",
    "    all_df1 = []  # List to collect `df1` dataframes for each year\n",
    "    all_df2 = []  # List to collect `df2` dataframes for each year\n",
    "\n",
    "    # Loop through each year in the specified range\n",
    "    for year in range(start_year, end_year + 1):\n",
    "        # Load the appropriate dataframes based on the `vs` flag\n",
    "        if not vs:\n",
    "            tempdf1 = pd.read_csv(f\"data/{year}/{team_id}{pstring}.csv\")\n",
    "            tempdf2 = pd.read_csv(f\"data/{year}/{team_id}_vs{pstring}.csv\")\n",
    "        else:\n",
    "            tempdf2 = pd.read_csv(f\"data/{year}/{team_id}{pstring}.csv\")\n",
    "            tempdf1 = pd.read_csv(f\"data/{year}/{team_id}_vs{pstring}.csv\")\n",
    "\n",
    "        \n",
    "        # Append the dataframes to the lists\n",
    "        all_df1.append(tempdf1)\n",
    "        all_df2.append(tempdf2)\n",
    "\n",
    "\n",
    "    # Concatenate all yearly dataframes into one for each category\n",
    "    df1 = pd.concat(all_df1).reset_index()\n",
    "    \n",
    "    df2 = pd.concat(all_df2).reset_index()\n",
    "    # Get columns not present in df1 for default zero assignment\n",
    "    notfound = set(df2.columns) - set(df1.columns)\n",
    "    \n",
    "    # Drop the 'team_vs' column from df2 if it exists\n",
    "    if 'team_vs' in df2.columns:\n",
    "        df2.drop(columns='team_vs', inplace=True)\n",
    "    \n",
    "    # Rename columns in df2 to distinguish them in the merged dataframe\n",
    "    id_col = ['EntityId','year']\n",
    "    oppnames = [f'opp_{col}' if col not in id_col else col for col in df2.columns]\n",
    "    df2.columns = oppnames\n",
    "    \n",
    "    # Merge df1 and df2 on the 'EntityId' column\n",
    "    df = df1.merge(df2, on=id_col)\n",
    "\n",
    "    \n",
    "    # Assign 0 to missing columns from df2 in df1\n",
    "    for col in notfound:\n",
    "        df[col] = 0\n",
    "\n",
    "    # Filter rows based on the presence of any player_id in the list of player_ids\n",
    "# For players that must be in the lineup\n",
    "    if len(player_ids) > 0:\n",
    "        df = df[df['EntityId'].apply(lambda x: all(pid in x.split('-') for pid in player_ids))]\n",
    "    \n",
    "    # For players that must NOT be in the lineup\n",
    "    if len(off_player_ids) > 0:\n",
    "        df = df[df['EntityId'].apply(lambda x: not any(pid in x.split('-') for pid in off_player_ids))]\n",
    "    newframe=transform_data(df)\n",
    "\n",
    "    newframe['team_id']=team_id\n",
    "    if ps == False:\n",
    "        index=pd.read_csv('index_master.csv')\n",
    "    else:\n",
    "        index=pd.read_csv('index_master_ps.csv')    \n",
    "    index=index[index.year==year]\n",
    "    name_map=dict(zip(index['nba_id'],index['player']))\n",
    "    name=''\n",
    "    names=[]\n",
    "    names2=[]\n",
    "    if player_ids:\n",
    "        for id in player_ids:\n",
    "            names.append(name_map[int(id)].split(' ')[0])\n",
    "\n",
    "    if off_player_ids:\n",
    "        for id in off_player_ids:\n",
    "            names2.append(name_map[int(id)].split(' ')[0])\n",
    "    if len(names)>0:\n",
    "                \n",
    "        name= (', ').join(names)\n",
    "        name += ' On'\n",
    "    if len(names2)>0:\n",
    "                \n",
    "        name2= (', ').join(names2)\n",
    "        name2 += ' Off'\n",
    "\n",
    "        if name =='':\n",
    "            name=name2\n",
    "        else:\n",
    "            name= name +' | ' +name2\n",
    "    \n",
    "    \n",
    "\n",
    "    newframe.drop(columns='GamesPlayed')\n",
    "    #newframe['GamesPlayed']=newframe['OffPoss']/75\n",
    "    #newframe['GamesPlayed']=newframe['GamesPlayed'].round(0)\n",
    "    newframe['Name']=name\n",
    "    \n",
    "    return newframe\n",
    "\n",
    "\n",
    "def team_averages(start_year,end_year,ps=False,vs=False):\n",
    "    carry=''\n",
    "    if ps == True:\n",
    "        carry='ps'\n",
    "    framelist=[]\n",
    "    \n",
    "    for year in range(start_year,end_year+1):\n",
    "        if vs == False:\n",
    "            df1= pd.read_csv(f\"https://raw.githubusercontent.com/gabriel1200/player_sheets/refs/heads/master/team_totals/{str(year)}{carry}.csv\")\n",
    "            df2= pd.read_csv(f\"https://raw.githubusercontent.com/gabriel1200/player_sheets/refs/heads/master/team_totals/{str(year)}vs{carry}.csv\")\n",
    "        else:\n",
    "            df2= pd.read_csv(f\"https://raw.githubusercontent.com/gabriel1200/player_sheets/refs/heads/master/team_totals/{str(year)}{carry}.csv\")\n",
    "            df1= pd.read_csv(f\"https://raw.githubusercontent.com/gabriel1200/player_sheets/refs/heads/master/team_totals/{str(year)}vs{carry}.csv\")\n",
    "        id_col = ['EntityId']\n",
    "        oppnames = [f'opp_{col}' if col not in id_col else col for col in df2.columns]\n",
    "        df2.columns = oppnames\n",
    "        \n",
    "        # Merge df1 and df2 on the 'EntityId' column\n",
    "        df = df1.merge(df2, on=id_col)\n",
    "        del df1\n",
    "        del df2\n",
    "        framelist.append(df)\n",
    "    namemap=dict(zip(df['TeamId'],df['Name']))\n",
    "        \n",
    "    teams=pd.concat(framelist)\n",
    "    teams['team_id']=teams['TeamId']\n",
    "    teams= transform_data(teams)\n",
    "    teams.drop(columns='GamesPlayed')\n",
    "    \n",
    "    teams['team_id']=teams['TeamId']\n",
    "\n",
    "\n",
    "    teams['Name']=teams['TeamId'].map(namemap)\n",
    "    return teams\n",
    "def trim_frame(frame1):\n",
    "    frame1['FGA']=frame1['FG2A']+frame1['FG3A']\n",
    "    columns = ['AtRimFGM','AtRimFGA','AtRimAssists','Turnovers','FTA','FGA',\n",
    "    'OffPoss','DefPoss','TwoPtAssists','Steals','BadPassSteals',\n",
    "    'ThreePtAssists','FG3A','OpponentPoints','Points','SecondChancePoints','FG2A','LiveBallTurnovers']\n",
    "    other_col = ['team_id','TsPct','Fg3Pct','AtRimFG3AFrequency','Pace','AtRimFrequency','SecondsPerPossOff','SecondsPerPossDef',\n",
    "                'DefAtRimReboundPct','DefFGReboundPct','AtRimAccuracy','EfgPct',\n",
    "'OffFGReboundPct','Name']\n",
    "    new_df = pd.DataFrame()\n",
    "\n",
    "    \n",
    "    new_df[other_col] =frame1[other_col]\n",
    "    \n",
    "\n",
    "    for col in columns:\n",
    "        if col in['OpponentPoints','DefRebounds']:\n",
    "            new_df[col]= 100* frame1[col]/frame1['DefPoss']\n",
    "\n",
    "        else:  \n",
    "            new_df[col]= 100* frame1[col]/frame1['OffPoss']\n",
    "    new_df['TOV%'] = (new_df['Turnovers'] / (new_df['Turnovers'] + new_df['FGA'] + 0.44 * new_df['FTA']))\n",
    "  \n",
    "    new_df = new_df.rename(columns={\n",
    "            'AtRimFrequency': 'Rim Freq',\n",
    "            'DefFGReboundPct': 'DREB%', 'OffFGReboundPct': 'OREB%', 'OpponentPoints': 'Opp Points', 'AtRimAssists': 'Rim Assists','AtRimAccuracy': 'Rim%',\n",
    "            'ThreePtAssists': '3P Assists', 'TsPct': 'TS%', 'Fg3Pct': '3P%','EfgPct':'EFG%'})\n",
    "\n",
    "    columns = [\n",
    "            'Points', 'Opp Points', 'FTA','EFG%',\n",
    "            '3P%',\n",
    "            'Rim Freq', 'TS%',\n",
    "            'Rim%',  'TOV%',\n",
    "            '3P Assists','Rim Assists',\n",
    "            'DREB%', 'OREB%','Name']\n",
    "    return new_df[columns]\n",
    "def create_nba_beeswarm(team_list, start_year, end_year, data, categories=None, vs=False, ps=False):\n",
    "    from sklearn.preprocessing import MinMaxScaler\n",
    "    import pandas as pd\n",
    "    import plotly.graph_objects as go\n",
    "    \n",
    "    team_names = {\n",
    "        \"PHX\": \"Phoenix Suns\",\n",
    "        \"DET\": \"Detroit Pistons\",\n",
    "        # ... (rest of the team mappings)\n",
    "    }\n",
    "    \n",
    "    addon = ' PS ' if ps else ' RS '\n",
    "    addon += ' (Defense)' if vs else ''\n",
    "    \n",
    "    # Normalize the data to a 0-1 range\n",
    "    scaler = MinMaxScaler()\n",
    "    normalized_data = pd.DataFrame(\n",
    "        scaler.fit_transform(data[categories]),\n",
    "        columns=categories,\n",
    "        index=data.index\n",
    "    )\n",
    "    \n",
    "    colors = [\n",
    "        '#ff4d4d',  # Red\n",
    "        \"#ff7f0e\",  # Orange\n",
    "        \"#2ca02c\",  # Green\n",
    "        \"#e377c2\",  # Pink\n",
    "    ]\n",
    "    \n",
    "    # Assign colors for lineup data\n",
    "    data['color'] = [colors[i % len(colors)] for i in range(len(data))]\n",
    "    \n",
    "    # Store original values for hover text and labels\n",
    "    original_data = data.copy()\n",
    "    \n",
    "    # Create the figure\n",
    "    fig = go.Figure()\n",
    "    \n",
    "    # Define custom colors\n",
    "    team_color = '#00ffff'\n",
    "    grid_color = 'rgba(255, 255, 255, 0.1)'\n",
    "    bg_color = '#1a1a1a'\n",
    "    text_color = '#ffffff'\n",
    "    \n",
    "    # Draw one trace for all `team_data` combined\n",
    "    team_data = normalized_data[data['lineup_row'] == 0]\n",
    "    original_team_data = original_data[data['lineup_row'] == 0]\n",
    "    \n",
    "    for i, category in enumerate(categories):\n",
    "        hover_texts = [\n",
    "            f\"{team_names.get(original_team_data.loc[idx, 'team'], 'Unknown')}<br>{category}: {original_team_data.loc[idx, category]:.1f}\"\n",
    "            for idx in team_data.index\n",
    "        ]\n",
    "        \n",
    "        fig.add_trace(go.Scatter(\n",
    "            x=[category] * len(team_data),\n",
    "            y=team_data[category],\n",
    "            mode='markers',\n",
    "            name='Season Avg (All Teams)',  # Combined trace for all teams\n",
    "            marker=dict(\n",
    "                size=18,\n",
    "                color=team_color,\n",
    "                opacity=0.7,\n",
    "                line=dict(color='white', width=3),\n",
    "                symbol='circle'\n",
    "            ),\n",
    "            text=hover_texts,\n",
    "            hovertemplate=\"<b>%{text}</b><br>Normalized: %{y:.2f}<br><extra></extra>\",\n",
    "            showlegend=False  # No legend for combined team data\n",
    "        ))\n",
    "    \n",
    "    # Draw individual traces for each team in `lineup_data`\n",
    "    for team in team_list:\n",
    "        lineup_data = normalized_data[(data['team'] == team) & (data['lineup_row'] == 1)]\n",
    "        \n",
    "        original_lineup_data = original_data[(original_data['team'] == team) & (original_data['lineup_row'] == 1)]\n",
    "        \n",
    "        team_name = team_names.get(team, team)\n",
    "        print(original_lineup_data)\n",
    "        combo_name=team_name + ' : '+str(original_lineup_data['Name'].iloc[0])\n",
    "       \n",
    "        color = colors[team_list.index(team) % len(colors)]  # Unique color for the team's lineups\n",
    "        \n",
    "        for i, category in enumerate(categories):\n",
    "            lineup_hover_texts = [\n",
    "                f\"{original_lineup_data.loc[lineup, category]:.1f}\"\n",
    "                for lineup in lineup_data.index\n",
    "            ]\n",
    "            \n",
    "            fig.add_trace(go.Scatter(\n",
    "                x=[category] * len(lineup_data),\n",
    "                y=lineup_data[category],\n",
    "                mode='markers+text',\n",
    "                name=combo_name,\n",
    "                marker=dict(\n",
    "                    size=21,\n",
    "                    color=color,  # Unique color for each team\n",
    "                    opacity=1,\n",
    "                    line=dict(color='#0A0A0A', width=3),\n",
    "                    symbol='diamond'\n",
    "                ),\n",
    "                text=lineup_hover_texts,\n",
    "                textposition='top right',\n",
    "                textfont=dict(\n",
    "                    color=text_color,\n",
    "                    size=20\n",
    "                ),\n",
    "                hovertemplate=\"<b>%{text}</b><br>Normalized: %{y:.2f}<br><extra></extra>\",\n",
    "                showlegend=(i == 0)  # Show legend once per team/category\n",
    "            ))\n",
    "    \n",
    "    # Update layout\n",
    "    fig.update_layout(\n",
    "        title=dict(\n",
    "            text=f\"NBA Beeswarm Comparison {start_year}-{end_year}\",\n",
    "            font=dict(size=24, color=text_color),\n",
    "            x=0.5,\n",
    "            y=0.99\n",
    "        ),\n",
    "        width=1600,\n",
    "        height=1000,\n",
    "        showlegend=True,\n",
    "        plot_bgcolor=bg_color,\n",
    "        paper_bgcolor=bg_color,\n",
    "        yaxis=dict(\n",
    "            title=dict(text='Normalized Value', font=dict(size=16, color=text_color)),\n",
    "            showticklabels=False,\n",
    "            showgrid=False,\n",
    "            gridcolor=grid_color,\n",
    "            zeroline=True,\n",
    "            zerolinecolor=grid_color,\n",
    "            range=[-0.1, 1.1]\n",
    "        ),\n",
    "        xaxis=dict(\n",
    "            gridcolor=grid_color,\n",
    "            showgrid=False,\n",
    "            categoryorder='array',\n",
    "            categoryarray=categories,\n",
    "            tickfont=dict(color=text_color, size=14),\n",
    "            tickangle=-45\n",
    "        ),\n",
    "        hovermode='closest',\n",
    "        legend=dict(\n",
    "            font=dict(color=text_color, size=16),\n",
    "            bgcolor=bg_color,\n",
    "            orientation=\"h\",\n",
    "            yanchor=\"bottom\",\n",
    "            y=1.02,\n",
    "            xanchor=\"center\",\n",
    "            x=0.5\n",
    "        )\n",
    "    )\n",
    "    \n",
    "    return fig\n",
    "\n"
   ]
  },
  {
   "cell_type": "code",
   "execution_count": 68,
   "id": "715b21f8-9d09-4d10-91ac-f47dee186366",
   "metadata": {},
   "outputs": [
    {
     "name": "stdout",
     "output_type": "stream",
     "text": [
      "        Points  Opp Points        FTA       EFG%        3P%   Rim Freq  \\\n",
      "0   119.794559  116.007795  23.375902  57.853736  37.744641  36.120827   \n",
      "1   124.036199  112.363438  20.977376  58.411950  38.926941  32.547170   \n",
      "2   117.498184  119.723770  23.080649  53.949103  36.384217  29.127110   \n",
      "3   123.263932  111.920530  20.620870  57.821796  38.799540  26.581936   \n",
      "4   115.753854  113.343366  20.942474  55.665921  36.737401  31.351427   \n",
      "5   117.641192  113.128039  23.351203  55.764131  38.271605  30.453594   \n",
      "6   115.204605  116.871396  21.661870  53.392833  35.779468  30.371985   \n",
      "7   118.199609  116.113628  22.529354  56.222797  36.921653  26.210555   \n",
      "8   119.019335  113.486551  20.573739  56.175299  37.421875  32.078582   \n",
      "9   118.142892  115.751410  20.112552  55.721890  37.950486  24.644045   \n",
      "10  115.157843  113.720446  23.535192  52.909237  35.188934  30.701166   \n",
      "11  119.048217  115.786828  22.815168  56.148002  38.102243  28.306134   \n",
      "12  116.600410  115.912374  23.888688  56.632298  37.674961  32.311551   \n",
      "13  114.459511  112.706061  22.886833  53.788095  36.962025  24.765024   \n",
      "14  118.585146  116.211937  23.823994  56.758060  37.251762  28.534031   \n",
      "15  116.032064  109.488594  23.559619  55.943504  38.679597  30.312590   \n",
      "16  113.750628  116.495233  21.505782  53.079239  36.179402  29.136445   \n",
      "17  118.576923  113.785586  22.935897  53.994774  36.886921  28.836634   \n",
      "18  114.080605  111.891280  25.214106  54.128374  35.163551  34.060885   \n",
      "19  121.631376  118.780870  20.271896  57.849717  37.426496  32.043690   \n",
      "20  117.271933  114.294640  24.135779  53.198745  36.297109  31.141727   \n",
      "21  118.028727  114.821230  23.712234  56.519892  38.187945  26.674218   \n",
      "22  108.631212  117.891851  20.924150  50.251495  34.484025  30.274606   \n",
      "23  117.161069  115.791416  20.961020  55.560027  36.595216  25.606975   \n",
      "24  110.560500  116.664667  19.689680  53.200646  34.730137  30.513717   \n",
      "25  119.545951  112.246386  21.354862  57.318405  38.859180  29.860732   \n",
      "26  112.959784  119.316512  21.726336  53.520935  34.734513  31.579663   \n",
      "27  115.729103  120.475320  22.611348  53.900421  35.415971  26.862027   \n",
      "28  107.882631  114.904981  21.409922  50.905947  34.581853  28.699862   \n",
      "29  111.181309  120.278970  19.752056  53.790204  34.819897  31.028960   \n",
      "30  110.295018  119.045876  21.789693  52.598121  34.819370  29.574350   \n",
      "31  109.923280  120.155525  19.016476  52.930043  35.473458  30.183653   \n",
      "\n",
      "         TS%       Rim%       TOV%  3P Assists  Rim Assists      DREB%  \\\n",
      "0   0.602297  73.679577  12.233240    9.578012    15.074958  73.863243   \n",
      "1   0.603525  67.391304  10.987508   10.932127    12.995475  75.134345   \n",
      "2   0.567548  62.471707  11.644203   10.777428    10.026641  72.567827   \n",
      "3   0.601137  70.447609  10.754980   13.414786     9.462661  73.191278   \n",
      "4   0.578578  65.908077  12.362094   11.718260    11.530267  72.990953   \n",
      "5   0.582616  65.902841  11.782088   11.257948     9.724473  73.367102   \n",
      "6   0.560991  62.314939  11.027344   10.311601     8.259292  72.408163   \n",
      "7   0.582556  70.731707  11.175823   10.763209    10.506360  71.766562   \n",
      "8   0.581319  65.224839  11.471191   10.463794    12.207759  72.626289   \n",
      "9   0.578180  70.410367  12.472961   12.001468    10.227551  72.991761   \n",
      "10  0.556413  64.017467  11.180010   10.011055     9.126643  72.509855   \n",
      "11  0.591176  67.345924  11.997133    9.681065    10.057760  71.115801   \n",
      "12  0.591117  72.488141  12.462590    9.601253    12.902060  73.466296   \n",
      "13  0.570425  63.484761  11.722667   11.557471     8.439995  74.381289   \n",
      "14  0.592092  70.980203  11.536702   11.887687     9.298651  73.996420   \n",
      "15  0.584463  67.596973  12.963484   11.285070    10.358216  73.317684   \n",
      "16  0.553678  65.007046  11.777789   11.551031     9.979889  72.620634   \n",
      "17  0.564714  63.137816  11.865497   11.615385     9.064103  73.349767   \n",
      "18  0.568730  67.369309  13.324671   10.000000    11.586902  74.581560   \n",
      "19  0.596168  68.624230  11.266677   11.128489    12.415784  70.270270   \n",
      "20  0.565101  63.162505  10.735373   10.121053     9.721702  70.707893   \n",
      "21  0.594381  67.515924  13.378476   10.908866     9.546805  72.446617   \n",
      "22  0.532185  60.395150  13.366580    9.801968     7.834101  70.579875   \n",
      "23  0.574952  68.779466  11.609624   12.686933     9.536651  75.172414   \n",
      "24  0.556042  66.240635  13.215184   11.390426    11.643012  72.954486   \n",
      "25  0.599707  67.672611  11.371397   11.836834    10.185747  70.739220   \n",
      "26  0.557881  67.541972  12.356345   10.434036    12.089259  70.415318   \n",
      "27  0.571054  68.989899  13.567275   11.409396     9.725442  72.123777   \n",
      "28  0.536623  60.578313  13.400291   11.625016     8.703220  71.377705   \n",
      "29  0.558106  69.806452  12.242397   10.203838    11.825009  68.615466   \n",
      "30  0.554365  64.579439  13.466851    9.364671     9.854327  74.018127   \n",
      "31  0.553015  65.397120  12.646629   10.438938     9.885549  71.436604   \n",
      "\n",
      "        OREB%                Name team  lineup_row  \n",
      "0   23.640284  LeBron, Anthony On  LAL           1  \n",
      "1   28.874686           Nikola On  DEN           1  \n",
      "2   30.509329                 ATL  ATL           0  \n",
      "3   27.755322                 BOS  BOS           0  \n",
      "4   26.754386                 CLE  CLE           0  \n",
      "5   27.610080                 NOP  NOP           0  \n",
      "6   28.750982                 CHI  CHI           0  \n",
      "7   25.100241                 DAL  DAL           0  \n",
      "8   29.164330                 DEN  DEN           0  \n",
      "9   30.815316                 GSW  GSW           0  \n",
      "10  28.582317                 HOU  HOU           0  \n",
      "11  27.369902                 LAC  LAC           0  \n",
      "12  23.263098                 LAL  LAL           0  \n",
      "13  25.360544                 MIA  MIA           0  \n",
      "14  24.245749                 MIL  MIL           0  \n",
      "15  26.431844                 MIN  MIN           0  \n",
      "16  28.321318                 BKN  BKN           0  \n",
      "17  32.842493                 NYK  NYK           0  \n",
      "18  28.977753                 ORL  ORL           0  \n",
      "19  27.686852                 IND  IND           0  \n",
      "20  28.426264                 PHI  PHI           0  \n",
      "21  28.489866                 PHX  PHX           0  \n",
      "22  30.998510                 POR  POR           0  \n",
      "23  27.843446                 SAC  SAC           0  \n",
      "24  26.023541                 SAS  SAS           0  \n",
      "25  24.271036                 OKC  OKC           0  \n",
      "26  27.704832                 TOR  TOR           0  \n",
      "27  31.584443                 UTA  UTA           0  \n",
      "28  27.632899                 MEM  MEM           0  \n",
      "29  23.514344                 WAS  WAS           0  \n",
      "30  26.647338                 DET  DET           0  \n",
      "31  24.121406                 CHA  CHA           0  \n",
      "       Points  Opp Points        FTA       EFG%        3P%   Rim Freq  \\\n",
      "0  119.794559  116.007795  23.375902  57.853736  37.744641  36.120827   \n",
      "\n",
      "        TS%       Rim%      TOV%  3P Assists  Rim Assists      DREB%  \\\n",
      "0  0.602297  73.679577  12.23324    9.578012    15.074958  73.863243   \n",
      "\n",
      "       OREB%                Name team  lineup_row    color  \n",
      "0  23.640284  LeBron, Anthony On  LAL           1  #ff4d4d  \n",
      "       Points  Opp Points        FTA      EFG%        3P%  Rim Freq       TS%  \\\n",
      "1  124.036199  112.363438  20.977376  58.41195  38.926941  32.54717  0.603525   \n",
      "\n",
      "        Rim%       TOV%  3P Assists  Rim Assists      DREB%      OREB%  \\\n",
      "1  67.391304  10.987508   10.932127    12.995475  75.134345  28.874686   \n",
      "\n",
      "        Name team  lineup_row    color  \n",
      "1  Nikola On  DEN           1  #ff7f0e  \n"
     ]
    },
    {
     "data": {
      "application/vnd.plotly.v1+json": {
       "config": {
        "plotlyServerURL": "https://plot.ly"
       },
       "data": [
        {
         "hovertemplate": "<b>%{text}</b><br>Normalized: %{y:.2f}<br><extra></extra>",
         "marker": {
          "color": "#00ffff",
          "line": {
           "color": "white",
           "width": 3
          },
          "opacity": 0.7,
          "size": 18,
          "symbol": "circle"
         },
         "mode": "markers",
         "name": "Season Avg (All Teams)",
         "showlegend": false,
         "text": [
          "Unknown<br>Points: 117.5",
          "Unknown<br>Points: 123.3",
          "Unknown<br>Points: 115.8",
          "Unknown<br>Points: 117.6",
          "Unknown<br>Points: 115.2",
          "Unknown<br>Points: 118.2",
          "Unknown<br>Points: 119.0",
          "Unknown<br>Points: 118.1",
          "Unknown<br>Points: 115.2",
          "Unknown<br>Points: 119.0",
          "Unknown<br>Points: 116.6",
          "Unknown<br>Points: 114.5",
          "Unknown<br>Points: 118.6",
          "Unknown<br>Points: 116.0",
          "Unknown<br>Points: 113.8",
          "Unknown<br>Points: 118.6",
          "Unknown<br>Points: 114.1",
          "Unknown<br>Points: 121.6",
          "Unknown<br>Points: 117.3",
          "Phoenix Suns<br>Points: 118.0",
          "Unknown<br>Points: 108.6",
          "Unknown<br>Points: 117.2",
          "Unknown<br>Points: 110.6",
          "Unknown<br>Points: 119.5",
          "Unknown<br>Points: 113.0",
          "Unknown<br>Points: 115.7",
          "Unknown<br>Points: 107.9",
          "Unknown<br>Points: 111.2",
          "Detroit Pistons<br>Points: 110.3",
          "Unknown<br>Points: 109.9"
         ],
         "type": "scatter",
         "x": [
          "Points",
          "Points",
          "Points",
          "Points",
          "Points",
          "Points",
          "Points",
          "Points",
          "Points",
          "Points",
          "Points",
          "Points",
          "Points",
          "Points",
          "Points",
          "Points",
          "Points",
          "Points",
          "Points",
          "Points",
          "Points",
          "Points",
          "Points",
          "Points",
          "Points",
          "Points",
          "Points",
          "Points",
          "Points",
          "Points"
         ],
         "y": [
          0.5952587428369505,
          0.9521921778697715,
          0.4872745694526257,
          0.6041117894016583,
          0.45327287536558636,
          0.6386810394320674,
          0.6894268962319368,
          0.6351699567507243,
          0.45037802493271784,
          0.6912148420838431,
          0.5396813015408295,
          0.40714719373170816,
          0.6625480793792917,
          0.504497405781696,
          0.36326324386589537,
          0.6620390034958366,
          0.38369068582024113,
          0.8511274576293522,
          0.5812525203381869,
          0.6281024777513284,
          0.04634152572079664,
          0.5743893791643151,
          0.16577572599440948,
          0.7220274905440185,
          0.3143053766617552,
          0.48574235351219563,
          0,
          0.20420738932312688,
          0.14934080542889205,
          0.12632807820680192
         ]
        },
        {
         "hovertemplate": "<b>%{text}</b><br>Normalized: %{y:.2f}<br><extra></extra>",
         "marker": {
          "color": "#00ffff",
          "line": {
           "color": "white",
           "width": 3
          },
          "opacity": 0.7,
          "size": 18,
          "symbol": "circle"
         },
         "mode": "markers",
         "name": "Season Avg (All Teams)",
         "showlegend": false,
         "text": [
          "Unknown<br>Opp Points: 119.7",
          "Unknown<br>Opp Points: 111.9",
          "Unknown<br>Opp Points: 113.3",
          "Unknown<br>Opp Points: 113.1",
          "Unknown<br>Opp Points: 116.9",
          "Unknown<br>Opp Points: 116.1",
          "Unknown<br>Opp Points: 113.5",
          "Unknown<br>Opp Points: 115.8",
          "Unknown<br>Opp Points: 113.7",
          "Unknown<br>Opp Points: 115.8",
          "Unknown<br>Opp Points: 115.9",
          "Unknown<br>Opp Points: 112.7",
          "Unknown<br>Opp Points: 116.2",
          "Unknown<br>Opp Points: 109.5",
          "Unknown<br>Opp Points: 116.5",
          "Unknown<br>Opp Points: 113.8",
          "Unknown<br>Opp Points: 111.9",
          "Unknown<br>Opp Points: 118.8",
          "Unknown<br>Opp Points: 114.3",
          "Phoenix Suns<br>Opp Points: 114.8",
          "Unknown<br>Opp Points: 117.9",
          "Unknown<br>Opp Points: 115.8",
          "Unknown<br>Opp Points: 116.7",
          "Unknown<br>Opp Points: 112.2",
          "Unknown<br>Opp Points: 119.3",
          "Unknown<br>Opp Points: 120.5",
          "Unknown<br>Opp Points: 114.9",
          "Unknown<br>Opp Points: 120.3",
          "Detroit Pistons<br>Opp Points: 119.0",
          "Unknown<br>Opp Points: 120.2"
         ],
         "type": "scatter",
         "x": [
          "Opp Points",
          "Opp Points",
          "Opp Points",
          "Opp Points",
          "Opp Points",
          "Opp Points",
          "Opp Points",
          "Opp Points",
          "Opp Points",
          "Opp Points",
          "Opp Points",
          "Opp Points",
          "Opp Points",
          "Opp Points",
          "Opp Points",
          "Opp Points",
          "Opp Points",
          "Opp Points",
          "Opp Points",
          "Opp Points",
          "Opp Points",
          "Opp Points",
          "Opp Points",
          "Opp Points",
          "Opp Points",
          "Opp Points",
          "Opp Points",
          "Opp Points",
          "Opp Points",
          "Opp Points"
         ],
         "y": [
          0.9315947613924997,
          0.2213522120850655,
          0.3508572256672693,
          0.3312583901597588,
          0.6719747547746735,
          0.6030034976005432,
          0.36388980599189047,
          0.5700347727732051,
          0.38517863907885364,
          0.5732584712029478,
          0.5846855388202368,
          0.29285045025132206,
          0.6119514448588426,
          0,
          0.6377368013345333,
          0.3911076238798685,
          0.21868990191719284,
          0.8457729712431288,
          0.43744112203384944,
          0.4853707980027586,
          0.7648554833378345,
          0.5736760677084245,
          0.6531584788605453,
          0.2510112574913954,
          0.8945265057251515,
          1,
          0.49299372443748446,
          0.9821284371221068,
          0.8698935559618697,
          0.9708926006000969
         ]
        },
        {
         "hovertemplate": "<b>%{text}</b><br>Normalized: %{y:.2f}<br><extra></extra>",
         "marker": {
          "color": "#00ffff",
          "line": {
           "color": "white",
           "width": 3
          },
          "opacity": 0.7,
          "size": 18,
          "symbol": "circle"
         },
         "mode": "markers",
         "name": "Season Avg (All Teams)",
         "showlegend": false,
         "text": [
          "Unknown<br>FTA: 23.1",
          "Unknown<br>FTA: 20.6",
          "Unknown<br>FTA: 20.9",
          "Unknown<br>FTA: 23.4",
          "Unknown<br>FTA: 21.7",
          "Unknown<br>FTA: 22.5",
          "Unknown<br>FTA: 20.6",
          "Unknown<br>FTA: 20.1",
          "Unknown<br>FTA: 23.5",
          "Unknown<br>FTA: 22.8",
          "Unknown<br>FTA: 23.9",
          "Unknown<br>FTA: 22.9",
          "Unknown<br>FTA: 23.8",
          "Unknown<br>FTA: 23.6",
          "Unknown<br>FTA: 21.5",
          "Unknown<br>FTA: 22.9",
          "Unknown<br>FTA: 25.2",
          "Unknown<br>FTA: 20.3",
          "Unknown<br>FTA: 24.1",
          "Phoenix Suns<br>FTA: 23.7",
          "Unknown<br>FTA: 20.9",
          "Unknown<br>FTA: 21.0",
          "Unknown<br>FTA: 19.7",
          "Unknown<br>FTA: 21.4",
          "Unknown<br>FTA: 21.7",
          "Unknown<br>FTA: 22.6",
          "Unknown<br>FTA: 21.4",
          "Unknown<br>FTA: 19.8",
          "Detroit Pistons<br>FTA: 21.8",
          "Unknown<br>FTA: 19.0"
         ],
         "type": "scatter",
         "x": [
          "FTA",
          "FTA",
          "FTA",
          "FTA",
          "FTA",
          "FTA",
          "FTA",
          "FTA",
          "FTA",
          "FTA",
          "FTA",
          "FTA",
          "FTA",
          "FTA",
          "FTA",
          "FTA",
          "FTA",
          "FTA",
          "FTA",
          "FTA",
          "FTA",
          "FTA",
          "FTA",
          "FTA",
          "FTA",
          "FTA",
          "FTA",
          "FTA",
          "FTA",
          "FTA"
         ],
         "y": [
          0.6557624821561361,
          0.2588722353810895,
          0.31076364949540647,
          0.6994169161281896,
          0.42683957257816063,
          0.5668099517623086,
          0.2512675864334475,
          0.17685407174052958,
          0.7291039333508946,
          0.61292662141269,
          0.7861412008179722,
          0.6244898875723672,
          0.7757027032661008,
          0.7330452790152853,
          0.40165449272263976,
          0.6324065163253563,
          1,
          0.20256455508574556,
          0.826009868925178,
          0.7576699409609331,
          0.3078070292734574,
          0.3137560617460706,
          0.1086228374322844,
          0.37730331400681383,
          0.4372414257690571,
          0.5800398763192569,
          0.3861872688385297,
          0.1186873633308334,
          0.44746409195932735,
          0
         ]
        },
        {
         "hovertemplate": "<b>%{text}</b><br>Normalized: %{y:.2f}<br><extra></extra>",
         "marker": {
          "color": "#00ffff",
          "line": {
           "color": "white",
           "width": 3
          },
          "opacity": 0.7,
          "size": 18,
          "symbol": "circle"
         },
         "mode": "markers",
         "name": "Season Avg (All Teams)",
         "showlegend": false,
         "text": [
          "Unknown<br>3P%: 36.4",
          "Unknown<br>3P%: 38.8",
          "Unknown<br>3P%: 36.7",
          "Unknown<br>3P%: 38.3",
          "Unknown<br>3P%: 35.8",
          "Unknown<br>3P%: 36.9",
          "Unknown<br>3P%: 37.4",
          "Unknown<br>3P%: 38.0",
          "Unknown<br>3P%: 35.2",
          "Unknown<br>3P%: 38.1",
          "Unknown<br>3P%: 37.7",
          "Unknown<br>3P%: 37.0",
          "Unknown<br>3P%: 37.3",
          "Unknown<br>3P%: 38.7",
          "Unknown<br>3P%: 36.2",
          "Unknown<br>3P%: 36.9",
          "Unknown<br>3P%: 35.2",
          "Unknown<br>3P%: 37.4",
          "Unknown<br>3P%: 36.3",
          "Phoenix Suns<br>3P%: 38.2",
          "Unknown<br>3P%: 34.5",
          "Unknown<br>3P%: 36.6",
          "Unknown<br>3P%: 34.7",
          "Unknown<br>3P%: 38.9",
          "Unknown<br>3P%: 34.7",
          "Unknown<br>3P%: 35.4",
          "Unknown<br>3P%: 34.6",
          "Unknown<br>3P%: 34.8",
          "Detroit Pistons<br>3P%: 34.8",
          "Unknown<br>3P%: 35.5"
         ],
         "type": "scatter",
         "x": [
          "3P%",
          "3P%",
          "3P%",
          "3P%",
          "3P%",
          "3P%",
          "3P%",
          "3P%",
          "3P%",
          "3P%",
          "3P%",
          "3P%",
          "3P%",
          "3P%",
          "3P%",
          "3P%",
          "3P%",
          "3P%",
          "3P%",
          "3P%",
          "3P%",
          "3P%",
          "3P%",
          "3P%",
          "3P%",
          "3P%",
          "3P%",
          "3P%",
          "3P%",
          "3P%"
         ],
         "y": [
          0.427690396375362,
          0.9713251038609458,
          0.5071839591463023,
          0.8524987305311695,
          0.2915749038020552,
          0.5486550974134952,
          0.661243707479783,
          0.7802220498092494,
          0.1586590774056411,
          0.8143792884557692,
          0.7182076786038936,
          0.5577419266606567,
          0.6229550426628636,
          0.9443285687639422,
          0.38159108748398385,
          0.5408376365139231,
          0.15294605623244095,
          0.6622837952249077,
          0.4080843678110364,
          0.8336686751116309,
          0,
          0.47518141045843887,
          0.05539436071366133,
          0.9847486180921825,
          0.05637926097731594,
          0.2097599179220735,
          0.02201897163980515,
          0.07559722866226348,
          0.07547852993282511,
          0.22269896110952292
         ]
        },
        {
         "hovertemplate": "<b>%{text}</b><br>Normalized: %{y:.2f}<br><extra></extra>",
         "marker": {
          "color": "#00ffff",
          "line": {
           "color": "white",
           "width": 3
          },
          "opacity": 0.7,
          "size": 18,
          "symbol": "circle"
         },
         "mode": "markers",
         "name": "Season Avg (All Teams)",
         "showlegend": false,
         "text": [
          "Unknown<br>Rim Freq: 29.1",
          "Unknown<br>Rim Freq: 26.6",
          "Unknown<br>Rim Freq: 31.4",
          "Unknown<br>Rim Freq: 30.5",
          "Unknown<br>Rim Freq: 30.4",
          "Unknown<br>Rim Freq: 26.2",
          "Unknown<br>Rim Freq: 32.1",
          "Unknown<br>Rim Freq: 24.6",
          "Unknown<br>Rim Freq: 30.7",
          "Unknown<br>Rim Freq: 28.3",
          "Unknown<br>Rim Freq: 32.3",
          "Unknown<br>Rim Freq: 24.8",
          "Unknown<br>Rim Freq: 28.5",
          "Unknown<br>Rim Freq: 30.3",
          "Unknown<br>Rim Freq: 29.1",
          "Unknown<br>Rim Freq: 28.8",
          "Unknown<br>Rim Freq: 34.1",
          "Unknown<br>Rim Freq: 32.0",
          "Unknown<br>Rim Freq: 31.1",
          "Phoenix Suns<br>Rim Freq: 26.7",
          "Unknown<br>Rim Freq: 30.3",
          "Unknown<br>Rim Freq: 25.6",
          "Unknown<br>Rim Freq: 30.5",
          "Unknown<br>Rim Freq: 29.9",
          "Unknown<br>Rim Freq: 31.6",
          "Unknown<br>Rim Freq: 26.9",
          "Unknown<br>Rim Freq: 28.7",
          "Unknown<br>Rim Freq: 31.0",
          "Detroit Pistons<br>Rim Freq: 29.6",
          "Unknown<br>Rim Freq: 30.2"
         ],
         "type": "scatter",
         "x": [
          "Rim Freq",
          "Rim Freq",
          "Rim Freq",
          "Rim Freq",
          "Rim Freq",
          "Rim Freq",
          "Rim Freq",
          "Rim Freq",
          "Rim Freq",
          "Rim Freq",
          "Rim Freq",
          "Rim Freq",
          "Rim Freq",
          "Rim Freq",
          "Rim Freq",
          "Rim Freq",
          "Rim Freq",
          "Rim Freq",
          "Rim Freq",
          "Rim Freq",
          "Rim Freq",
          "Rim Freq",
          "Rim Freq",
          "Rim Freq",
          "Rim Freq",
          "Rim Freq",
          "Rim Freq",
          "Rim Freq",
          "Rim Freq",
          "Rim Freq"
         ],
         "y": [
          0.3906203559762007,
          0.1688531706016212,
          0.5844305521959678,
          0.5062001601487007,
          0.4990894056938413,
          0.13649381691179086,
          0.6477893651518194,
          0,
          0.5277717582384316,
          0.31908673189681824,
          0.6680884851699207,
          0.010541192854058856,
          0.33894399594663094,
          0.4939141162897345,
          0.39143371995416354,
          0.36531046904229614,
          0.820512208408219,
          0.6447491170012065,
          0.5661588738436047,
          0.17689388942571505,
          0.49060449026845454,
          0.08390243766748018,
          0.511438840811794,
          0.45454264447168224,
          0.6043173025311797,
          0.1932581556692159,
          0.35339319272616043,
          0.556333248912503,
          0.42958953619001816,
          0.4826795922889717
         ]
        },
        {
         "hovertemplate": "<b>%{text}</b><br>Normalized: %{y:.2f}<br><extra></extra>",
         "marker": {
          "color": "#00ffff",
          "line": {
           "color": "white",
           "width": 3
          },
          "opacity": 0.7,
          "size": 18,
          "symbol": "circle"
         },
         "mode": "markers",
         "name": "Season Avg (All Teams)",
         "showlegend": false,
         "text": [
          "Unknown<br>EFG%: 53.9",
          "Unknown<br>EFG%: 57.8",
          "Unknown<br>EFG%: 55.7",
          "Unknown<br>EFG%: 55.8",
          "Unknown<br>EFG%: 53.4",
          "Unknown<br>EFG%: 56.2",
          "Unknown<br>EFG%: 56.2",
          "Unknown<br>EFG%: 55.7",
          "Unknown<br>EFG%: 52.9",
          "Unknown<br>EFG%: 56.1",
          "Unknown<br>EFG%: 56.6",
          "Unknown<br>EFG%: 53.8",
          "Unknown<br>EFG%: 56.8",
          "Unknown<br>EFG%: 55.9",
          "Unknown<br>EFG%: 53.1",
          "Unknown<br>EFG%: 54.0",
          "Unknown<br>EFG%: 54.1",
          "Unknown<br>EFG%: 57.8",
          "Unknown<br>EFG%: 53.2",
          "Phoenix Suns<br>EFG%: 56.5",
          "Unknown<br>EFG%: 50.3",
          "Unknown<br>EFG%: 55.6",
          "Unknown<br>EFG%: 53.2",
          "Unknown<br>EFG%: 57.3",
          "Unknown<br>EFG%: 53.5",
          "Unknown<br>EFG%: 53.9",
          "Unknown<br>EFG%: 50.9",
          "Unknown<br>EFG%: 53.8",
          "Detroit Pistons<br>EFG%: 52.6",
          "Unknown<br>EFG%: 52.9"
         ],
         "type": "scatter",
         "x": [
          "EFG%",
          "EFG%",
          "EFG%",
          "EFG%",
          "EFG%",
          "EFG%",
          "EFG%",
          "EFG%",
          "EFG%",
          "EFG%",
          "EFG%",
          "EFG%",
          "EFG%",
          "EFG%",
          "EFG%",
          "EFG%",
          "EFG%",
          "EFG%",
          "EFG%",
          "EFG%",
          "EFG%",
          "EFG%",
          "EFG%",
          "EFG%",
          "EFG%",
          "EFG%",
          "EFG%",
          "EFG%",
          "EFG%",
          "EFG%"
         ],
         "y": [
          0.4531130079554071,
          0.9276812174766116,
          0.6634955549276249,
          0.6755305045009541,
          0.38494639081022086,
          0.7317363611069645,
          0.7259158869785667,
          0.6703541212404671,
          0.3256855176257467,
          0.72257090730377,
          0.7819175255370645,
          0.43338263394634957,
          0.797328732991395,
          0.6975112968710127,
          0.34651792673451,
          0.45870964512764356,
          0.4750812851039763,
          0.9311027797833642,
          0.36116245079308573,
          0.768143142867511,
          0,
          0.6505191070989813,
          0.36139533649053934,
          0.8659946614151153,
          0.40064435014930044,
          0.4471473096492744,
          0.08019799371756964,
          0.43364115271796777,
          0.2875605992250492,
          0.32823516695063315
         ]
        },
        {
         "hovertemplate": "<b>%{text}</b><br>Normalized: %{y:.2f}<br><extra></extra>",
         "marker": {
          "color": "#00ffff",
          "line": {
           "color": "white",
           "width": 3
          },
          "opacity": 0.7,
          "size": 18,
          "symbol": "circle"
         },
         "mode": "markers",
         "name": "Season Avg (All Teams)",
         "showlegend": false,
         "text": [
          "Unknown<br>Rim%: 62.5",
          "Unknown<br>Rim%: 70.4",
          "Unknown<br>Rim%: 65.9",
          "Unknown<br>Rim%: 65.9",
          "Unknown<br>Rim%: 62.3",
          "Unknown<br>Rim%: 70.7",
          "Unknown<br>Rim%: 65.2",
          "Unknown<br>Rim%: 70.4",
          "Unknown<br>Rim%: 64.0",
          "Unknown<br>Rim%: 67.3",
          "Unknown<br>Rim%: 72.5",
          "Unknown<br>Rim%: 63.5",
          "Unknown<br>Rim%: 71.0",
          "Unknown<br>Rim%: 67.6",
          "Unknown<br>Rim%: 65.0",
          "Unknown<br>Rim%: 63.1",
          "Unknown<br>Rim%: 67.4",
          "Unknown<br>Rim%: 68.6",
          "Unknown<br>Rim%: 63.2",
          "Phoenix Suns<br>Rim%: 67.5",
          "Unknown<br>Rim%: 60.4",
          "Unknown<br>Rim%: 68.8",
          "Unknown<br>Rim%: 66.2",
          "Unknown<br>Rim%: 67.7",
          "Unknown<br>Rim%: 67.5",
          "Unknown<br>Rim%: 69.0",
          "Unknown<br>Rim%: 60.6",
          "Unknown<br>Rim%: 69.8",
          "Detroit Pistons<br>Rim%: 64.6",
          "Unknown<br>Rim%: 65.4"
         ],
         "type": "scatter",
         "x": [
          "Rim%",
          "Rim%",
          "Rim%",
          "Rim%",
          "Rim%",
          "Rim%",
          "Rim%",
          "Rim%",
          "Rim%",
          "Rim%",
          "Rim%",
          "Rim%",
          "Rim%",
          "Rim%",
          "Rim%",
          "Rim%",
          "Rim%",
          "Rim%",
          "Rim%",
          "Rim%",
          "Rim%",
          "Rim%",
          "Rim%",
          "Rim%",
          "Rim%",
          "Rim%",
          "Rim%",
          "Rim%",
          "Rim%",
          "Rim%"
         ],
         "y": [
          0.15631507644551323,
          0.7567100111740723,
          0.41499165218133083,
          0.414597557535445,
          0.14451424985209815,
          0.7780958005010294,
          0.3635602017275774,
          0.7539065640723415,
          0.2726739220222072,
          0.5232272349200393,
          0.9103133299549766,
          0.23257389435263143,
          0.796801574020022,
          0.5421251602771244,
          0.34716552858845695,
          0.20645719179643773,
          0.5249875025619701,
          0.6194531031874027,
          0.20831572492438966,
          0.5360241070101752,
          0,
          0.6311386436273283,
          0.44002531666714084,
          0.5478189187214983,
          0.5379849007658475,
          0.646979244087662,
          0.013787785194079305,
          0.7084461497100003,
          0.3149769887492795,
          0.3765288375848783
         ]
        },
        {
         "hovertemplate": "<b>%{text}</b><br>Normalized: %{y:.2f}<br><extra></extra>",
         "marker": {
          "color": "#00ffff",
          "line": {
           "color": "white",
           "width": 3
          },
          "opacity": 0.7,
          "size": 18,
          "symbol": "circle"
         },
         "mode": "markers",
         "name": "Season Avg (All Teams)",
         "showlegend": false,
         "text": [
          "Unknown<br>TOV%: 11.6",
          "Unknown<br>TOV%: 10.8",
          "Unknown<br>TOV%: 12.4",
          "Unknown<br>TOV%: 11.8",
          "Unknown<br>TOV%: 11.0",
          "Unknown<br>TOV%: 11.2",
          "Unknown<br>TOV%: 11.5",
          "Unknown<br>TOV%: 12.5",
          "Unknown<br>TOV%: 11.2",
          "Unknown<br>TOV%: 12.0",
          "Unknown<br>TOV%: 12.5",
          "Unknown<br>TOV%: 11.7",
          "Unknown<br>TOV%: 11.5",
          "Unknown<br>TOV%: 13.0",
          "Unknown<br>TOV%: 11.8",
          "Unknown<br>TOV%: 11.9",
          "Unknown<br>TOV%: 13.3",
          "Unknown<br>TOV%: 11.3",
          "Unknown<br>TOV%: 10.7",
          "Phoenix Suns<br>TOV%: 13.4",
          "Unknown<br>TOV%: 13.4",
          "Unknown<br>TOV%: 11.6",
          "Unknown<br>TOV%: 13.2",
          "Unknown<br>TOV%: 11.4",
          "Unknown<br>TOV%: 12.4",
          "Unknown<br>TOV%: 13.6",
          "Unknown<br>TOV%: 13.4",
          "Unknown<br>TOV%: 12.2",
          "Detroit Pistons<br>TOV%: 13.5",
          "Unknown<br>TOV%: 12.6"
         ],
         "type": "scatter",
         "x": [
          "TOV%",
          "TOV%",
          "TOV%",
          "TOV%",
          "TOV%",
          "TOV%",
          "TOV%",
          "TOV%",
          "TOV%",
          "TOV%",
          "TOV%",
          "TOV%",
          "TOV%",
          "TOV%",
          "TOV%",
          "TOV%",
          "TOV%",
          "TOV%",
          "TOV%",
          "TOV%",
          "TOV%",
          "TOV%",
          "TOV%",
          "TOV%",
          "TOV%",
          "TOV%",
          "TOV%",
          "TOV%",
          "TOV%",
          "TOV%"
         ],
         "y": [
          0.3209258516546618,
          0.006923529386019478,
          0.5744269722830633,
          0.3696154662665809,
          0.10310077247730698,
          0.15553143894794985,
          0.2598318758162397,
          0.6135764097921137,
          0.15701000005863808,
          0.44555223526755894,
          0.6099143453038436,
          0.34863300873517256,
          0.28296487574441587,
          0.7867895240900711,
          0.36809767350739664,
          0.39906881056716914,
          0.9143319515563282,
          0.18761370019575896,
          0,
          0.9333315206732151,
          0.9291308930397979,
          0.3087150517128019,
          0.8756698962319818,
          0.22459254644257287,
          0.5723971122953597,
          1.0000000000000004,
          0.9410349383387708,
          0.5321598270971735,
          0.964538369518992,
          0.6749020299335693
         ]
        },
        {
         "hovertemplate": "<b>%{text}</b><br>Normalized: %{y:.2f}<br><extra></extra>",
         "marker": {
          "color": "#00ffff",
          "line": {
           "color": "white",
           "width": 3
          },
          "opacity": 0.7,
          "size": 18,
          "symbol": "circle"
         },
         "mode": "markers",
         "name": "Season Avg (All Teams)",
         "showlegend": false,
         "text": [
          "Unknown<br>DREB%: 72.6",
          "Unknown<br>DREB%: 73.2",
          "Unknown<br>DREB%: 73.0",
          "Unknown<br>DREB%: 73.4",
          "Unknown<br>DREB%: 72.4",
          "Unknown<br>DREB%: 71.8",
          "Unknown<br>DREB%: 72.6",
          "Unknown<br>DREB%: 73.0",
          "Unknown<br>DREB%: 72.5",
          "Unknown<br>DREB%: 71.1",
          "Unknown<br>DREB%: 73.5",
          "Unknown<br>DREB%: 74.4",
          "Unknown<br>DREB%: 74.0",
          "Unknown<br>DREB%: 73.3",
          "Unknown<br>DREB%: 72.6",
          "Unknown<br>DREB%: 73.3",
          "Unknown<br>DREB%: 74.6",
          "Unknown<br>DREB%: 70.3",
          "Unknown<br>DREB%: 70.7",
          "Phoenix Suns<br>DREB%: 72.4",
          "Unknown<br>DREB%: 70.6",
          "Unknown<br>DREB%: 75.2",
          "Unknown<br>DREB%: 73.0",
          "Unknown<br>DREB%: 70.7",
          "Unknown<br>DREB%: 70.4",
          "Unknown<br>DREB%: 72.1",
          "Unknown<br>DREB%: 71.4",
          "Unknown<br>DREB%: 68.6",
          "Detroit Pistons<br>DREB%: 74.0",
          "Unknown<br>DREB%: 71.4"
         ],
         "type": "scatter",
         "x": [
          "DREB%",
          "DREB%",
          "DREB%",
          "DREB%",
          "DREB%",
          "DREB%",
          "DREB%",
          "DREB%",
          "DREB%",
          "DREB%",
          "DREB%",
          "DREB%",
          "DREB%",
          "DREB%",
          "DREB%",
          "DREB%",
          "DREB%",
          "DREB%",
          "DREB%",
          "DREB%",
          "DREB%",
          "DREB%",
          "DREB%",
          "DREB%",
          "DREB%",
          "DREB%",
          "DREB%",
          "DREB%",
          "DREB%",
          "DREB%"
         ],
         "y": [
          0.602774457622159,
          0.6978570704174487,
          0.6673053751460234,
          0.7246719282401042,
          0.5784241728667325,
          0.4805734946468707,
          0.6116905790923877,
          0.6674286698181042,
          0.5939332476979882,
          0.3813259495329113,
          0.7398000476979156,
          0.8793455781666424,
          0.820649249302015,
          0.7171351551120697,
          0.610828158880171,
          0.7220281798692039,
          0.9098889357380635,
          0.25237412832795414,
          0.31911590586230787,
          0.5842887407078763,
          0.2995919324846916,
          1,
          0.661743797412921,
          0.32389360422728153,
          0.2744953917016648,
          0.5350523919299484,
          0.4212689507091323,
          0,
          0.8239597128469622,
          0.43025165829607204
         ]
        },
        {
         "hovertemplate": "<b>%{text}</b><br>Normalized: %{y:.2f}<br><extra></extra>",
         "marker": {
          "color": "#00ffff",
          "line": {
           "color": "white",
           "width": 3
          },
          "opacity": 0.7,
          "size": 18,
          "symbol": "circle"
         },
         "mode": "markers",
         "name": "Season Avg (All Teams)",
         "showlegend": false,
         "text": [
          "Unknown<br>OREB%: 30.5",
          "Unknown<br>OREB%: 27.8",
          "Unknown<br>OREB%: 26.8",
          "Unknown<br>OREB%: 27.6",
          "Unknown<br>OREB%: 28.8",
          "Unknown<br>OREB%: 25.1",
          "Unknown<br>OREB%: 29.2",
          "Unknown<br>OREB%: 30.8",
          "Unknown<br>OREB%: 28.6",
          "Unknown<br>OREB%: 27.4",
          "Unknown<br>OREB%: 23.3",
          "Unknown<br>OREB%: 25.4",
          "Unknown<br>OREB%: 24.2",
          "Unknown<br>OREB%: 26.4",
          "Unknown<br>OREB%: 28.3",
          "Unknown<br>OREB%: 32.8",
          "Unknown<br>OREB%: 29.0",
          "Unknown<br>OREB%: 27.7",
          "Unknown<br>OREB%: 28.4",
          "Phoenix Suns<br>OREB%: 28.5",
          "Unknown<br>OREB%: 31.0",
          "Unknown<br>OREB%: 27.8",
          "Unknown<br>OREB%: 26.0",
          "Unknown<br>OREB%: 24.3",
          "Unknown<br>OREB%: 27.7",
          "Unknown<br>OREB%: 31.6",
          "Unknown<br>OREB%: 27.6",
          "Unknown<br>OREB%: 23.5",
          "Detroit Pistons<br>OREB%: 26.6",
          "Unknown<br>OREB%: 24.1"
         ],
         "type": "scatter",
         "x": [
          "OREB%",
          "OREB%",
          "OREB%",
          "OREB%",
          "OREB%",
          "OREB%",
          "OREB%",
          "OREB%",
          "OREB%",
          "OREB%",
          "OREB%",
          "OREB%",
          "OREB%",
          "OREB%",
          "OREB%",
          "OREB%",
          "OREB%",
          "OREB%",
          "OREB%",
          "OREB%",
          "OREB%",
          "OREB%",
          "OREB%",
          "OREB%",
          "OREB%",
          "OREB%",
          "OREB%",
          "OREB%",
          "OREB%",
          "OREB%"
         ],
         "y": [
          0.7564393665869256,
          0.4689465410531186,
          0.3644580979279146,
          0.4537846536677024,
          0.5728842047185769,
          0.1917806565253488,
          0.6160338876197846,
          0.7883815921042192,
          0.5552771572526845,
          0.4287122177168676,
          0,
          0.21895394306591243,
          0.1025796341474079,
          0.3307877298453894,
          0.5280312978354154,
          1,
          0.5965569750289799,
          0.4617989224419423,
          0.5389866298112174,
          0.5456261045892772,
          0.8075052634662527,
          0.4781458975050281,
          0.28816470723946264,
          0.10521936850323454,
          0.4636758445414708,
          0.8686712377571886,
          0.45616668158867935,
          0.02622778548715443,
          0.3532832726926358,
          0.08959937627917514
         ]
        },
        {
         "hovertemplate": "<b>%{text}</b><br>Normalized: %{y:.2f}<br><extra></extra>",
         "marker": {
          "color": "#ff4d4d",
          "line": {
           "color": "#0A0A0A",
           "width": 3
          },
          "opacity": 1,
          "size": 21,
          "symbol": "diamond"
         },
         "mode": "markers+text",
         "name": "LAL : LeBron, Anthony On",
         "showlegend": true,
         "text": [
          "119.8"
         ],
         "textfont": {
          "color": "#ffffff",
          "size": 20
         },
         "textposition": "top right",
         "type": "scatter",
         "x": [
          "Points"
         ],
         "y": [
          0.7374177361611682
         ]
        },
        {
         "hovertemplate": "<b>%{text}</b><br>Normalized: %{y:.2f}<br><extra></extra>",
         "marker": {
          "color": "#ff4d4d",
          "line": {
           "color": "#0A0A0A",
           "width": 3
          },
          "opacity": 1,
          "size": 21,
          "symbol": "diamond"
         },
         "mode": "markers+text",
         "name": "LAL : LeBron, Anthony On",
         "showlegend": false,
         "text": [
          "116.0"
         ],
         "textfont": {
          "color": "#ffffff",
          "size": 20
         },
         "textposition": "top right",
         "type": "scatter",
         "x": [
          "Opp Points"
         ],
         "y": [
          0.5933706996109898
         ]
        },
        {
         "hovertemplate": "<b>%{text}</b><br>Normalized: %{y:.2f}<br><extra></extra>",
         "marker": {
          "color": "#ff4d4d",
          "line": {
           "color": "#0A0A0A",
           "width": 3
          },
          "opacity": 1,
          "size": 21,
          "symbol": "diamond"
         },
         "mode": "markers+text",
         "name": "LAL : LeBron, Anthony On",
         "showlegend": false,
         "text": [
          "23.4"
         ],
         "textfont": {
          "color": "#ffffff",
          "size": 20
         },
         "textposition": "top right",
         "type": "scatter",
         "x": [
          "FTA"
         ],
         "y": [
          0.7034021790615315
         ]
        },
        {
         "hovertemplate": "<b>%{text}</b><br>Normalized: %{y:.2f}<br><extra></extra>",
         "marker": {
          "color": "#ff4d4d",
          "line": {
           "color": "#0A0A0A",
           "width": 3
          },
          "opacity": 1,
          "size": 21,
          "symbol": "diamond"
         },
         "mode": "markers+text",
         "name": "LAL : LeBron, Anthony On",
         "showlegend": false,
         "text": [
          "37.7"
         ],
         "textfont": {
          "color": "#ffffff",
          "size": 20
         },
         "textposition": "top right",
         "type": "scatter",
         "x": [
          "3P%"
         ],
         "y": [
          0.7338910897670585
         ]
        },
        {
         "hovertemplate": "<b>%{text}</b><br>Normalized: %{y:.2f}<br><extra></extra>",
         "marker": {
          "color": "#ff4d4d",
          "line": {
           "color": "#0A0A0A",
           "width": 3
          },
          "opacity": 1,
          "size": 21,
          "symbol": "diamond"
         },
         "mode": "markers+text",
         "name": "LAL : LeBron, Anthony On",
         "showlegend": false,
         "text": [
          "36.1"
         ],
         "textfont": {
          "color": "#ffffff",
          "size": 20
         },
         "textposition": "top right",
         "type": "scatter",
         "x": [
          "Rim Freq"
         ],
         "y": [
          1
         ]
        },
        {
         "hovertemplate": "<b>%{text}</b><br>Normalized: %{y:.2f}<br><extra></extra>",
         "marker": {
          "color": "#ff4d4d",
          "line": {
           "color": "#0A0A0A",
           "width": 3
          },
          "opacity": 1,
          "size": 21,
          "symbol": "diamond"
         },
         "mode": "markers+text",
         "name": "LAL : LeBron, Anthony On",
         "showlegend": false,
         "text": [
          "57.9"
         ],
         "textfont": {
          "color": "#ffffff",
          "size": 20
         },
         "textposition": "top right",
         "type": "scatter",
         "x": [
          "EFG%"
         ],
         "y": [
          0.9315952794461824
         ]
        },
        {
         "hovertemplate": "<b>%{text}</b><br>Normalized: %{y:.2f}<br><extra></extra>",
         "marker": {
          "color": "#ff4d4d",
          "line": {
           "color": "#0A0A0A",
           "width": 3
          },
          "opacity": 1,
          "size": 21,
          "symbol": "diamond"
         },
         "mode": "markers+text",
         "name": "LAL : LeBron, Anthony On",
         "showlegend": false,
         "text": [
          "73.7"
         ],
         "textfont": {
          "color": "#ffffff",
          "size": 20
         },
         "textposition": "top right",
         "type": "scatter",
         "x": [
          "Rim%"
         ],
         "y": [
          1
         ]
        },
        {
         "hovertemplate": "<b>%{text}</b><br>Normalized: %{y:.2f}<br><extra></extra>",
         "marker": {
          "color": "#ff4d4d",
          "line": {
           "color": "#0A0A0A",
           "width": 3
          },
          "opacity": 1,
          "size": 21,
          "symbol": "diamond"
         },
         "mode": "markers+text",
         "name": "LAL : LeBron, Anthony On",
         "showlegend": false,
         "text": [
          "12.2"
         ],
         "textfont": {
          "color": "#ffffff",
          "size": 20
         },
         "textposition": "top right",
         "type": "scatter",
         "x": [
          "TOV%"
         ],
         "y": [
          0.5289263560410453
         ]
        },
        {
         "hovertemplate": "<b>%{text}</b><br>Normalized: %{y:.2f}<br><extra></extra>",
         "marker": {
          "color": "#ff4d4d",
          "line": {
           "color": "#0A0A0A",
           "width": 3
          },
          "opacity": 1,
          "size": 21,
          "symbol": "diamond"
         },
         "mode": "markers+text",
         "name": "LAL : LeBron, Anthony On",
         "showlegend": false,
         "text": [
          "73.9"
         ],
         "textfont": {
          "color": "#ffffff",
          "size": 20
         },
         "textposition": "top right",
         "type": "scatter",
         "x": [
          "DREB%"
         ],
         "y": [
          0.8003384363426136
         ]
        },
        {
         "hovertemplate": "<b>%{text}</b><br>Normalized: %{y:.2f}<br><extra></extra>",
         "marker": {
          "color": "#ff4d4d",
          "line": {
           "color": "#0A0A0A",
           "width": 3
          },
          "opacity": 1,
          "size": 21,
          "symbol": "diamond"
         },
         "mode": "markers+text",
         "name": "LAL : LeBron, Anthony On",
         "showlegend": false,
         "text": [
          "23.6"
         ],
         "textfont": {
          "color": "#ffffff",
          "size": 20
         },
         "textposition": "top right",
         "type": "scatter",
         "x": [
          "OREB%"
         ],
         "y": [
          0.039374701934874246
         ]
        },
        {
         "hovertemplate": "<b>%{text}</b><br>Normalized: %{y:.2f}<br><extra></extra>",
         "marker": {
          "color": "#ff7f0e",
          "line": {
           "color": "#0A0A0A",
           "width": 3
          },
          "opacity": 1,
          "size": 21,
          "symbol": "diamond"
         },
         "mode": "markers+text",
         "name": "DEN : Nikola On",
         "showlegend": true,
         "text": [
          "124.0"
         ],
         "textfont": {
          "color": "#ffffff",
          "size": 20
         },
         "textposition": "top right",
         "type": "scatter",
         "x": [
          "Points"
         ],
         "y": [
          1
         ]
        },
        {
         "hovertemplate": "<b>%{text}</b><br>Normalized: %{y:.2f}<br><extra></extra>",
         "marker": {
          "color": "#ff7f0e",
          "line": {
           "color": "#0A0A0A",
           "width": 3
          },
          "opacity": 1,
          "size": 21,
          "symbol": "diamond"
         },
         "mode": "markers+text",
         "name": "DEN : Nikola On",
         "showlegend": false,
         "text": [
          "112.4"
         ],
         "textfont": {
          "color": "#ffffff",
          "size": 20
         },
         "textposition": "top right",
         "type": "scatter",
         "x": [
          "Opp Points"
         ],
         "y": [
          0.2616652147404288
         ]
        },
        {
         "hovertemplate": "<b>%{text}</b><br>Normalized: %{y:.2f}<br><extra></extra>",
         "marker": {
          "color": "#ff7f0e",
          "line": {
           "color": "#0A0A0A",
           "width": 3
          },
          "opacity": 1,
          "size": 21,
          "symbol": "diamond"
         },
         "mode": "markers+text",
         "name": "DEN : Nikola On",
         "showlegend": false,
         "text": [
          "21.0"
         ],
         "textfont": {
          "color": "#ffffff",
          "size": 20
         },
         "textposition": "top right",
         "type": "scatter",
         "x": [
          "FTA"
         ],
         "y": [
          0.3163950879743691
         ]
        },
        {
         "hovertemplate": "<b>%{text}</b><br>Normalized: %{y:.2f}<br><extra></extra>",
         "marker": {
          "color": "#ff7f0e",
          "line": {
           "color": "#0A0A0A",
           "width": 3
          },
          "opacity": 1,
          "size": 21,
          "symbol": "diamond"
         },
         "mode": "markers+text",
         "name": "DEN : Nikola On",
         "showlegend": false,
         "text": [
          "38.9"
         ],
         "textfont": {
          "color": "#ffffff",
          "size": 20
         },
         "textposition": "top right",
         "type": "scatter",
         "x": [
          "3P%"
         ],
         "y": [
          1.0000000000000009
         ]
        },
        {
         "hovertemplate": "<b>%{text}</b><br>Normalized: %{y:.2f}<br><extra></extra>",
         "marker": {
          "color": "#ff7f0e",
          "line": {
           "color": "#0A0A0A",
           "width": 3
          },
          "opacity": 1,
          "size": 21,
          "symbol": "diamond"
         },
         "mode": "markers+text",
         "name": "DEN : Nikola On",
         "showlegend": false,
         "text": [
          "32.5"
         ],
         "textfont": {
          "color": "#ffffff",
          "size": 20
         },
         "textposition": "top right",
         "type": "scatter",
         "x": [
          "Rim Freq"
         ],
         "y": [
          0.6886185462133732
         ]
        },
        {
         "hovertemplate": "<b>%{text}</b><br>Normalized: %{y:.2f}<br><extra></extra>",
         "marker": {
          "color": "#ff7f0e",
          "line": {
           "color": "#0A0A0A",
           "width": 3
          },
          "opacity": 1,
          "size": 21,
          "symbol": "diamond"
         },
         "mode": "markers+text",
         "name": "DEN : Nikola On",
         "showlegend": false,
         "text": [
          "58.4"
         ],
         "textfont": {
          "color": "#ffffff",
          "size": 20
         },
         "textposition": "top right",
         "type": "scatter",
         "x": [
          "EFG%"
         ],
         "y": [
          1
         ]
        },
        {
         "hovertemplate": "<b>%{text}</b><br>Normalized: %{y:.2f}<br><extra></extra>",
         "marker": {
          "color": "#ff7f0e",
          "line": {
           "color": "#0A0A0A",
           "width": 3
          },
          "opacity": 1,
          "size": 21,
          "symbol": "diamond"
         },
         "mode": "markers+text",
         "name": "DEN : Nikola On",
         "showlegend": false,
         "text": [
          "67.4"
         ],
         "textfont": {
          "color": "#ffffff",
          "size": 20
         },
         "textposition": "top right",
         "type": "scatter",
         "x": [
          "Rim%"
         ],
         "y": [
          0.5266432568843484
         ]
        },
        {
         "hovertemplate": "<b>%{text}</b><br>Normalized: %{y:.2f}<br><extra></extra>",
         "marker": {
          "color": "#ff7f0e",
          "line": {
           "color": "#0A0A0A",
           "width": 3
          },
          "opacity": 1,
          "size": 21,
          "symbol": "diamond"
         },
         "mode": "markers+text",
         "name": "DEN : Nikola On",
         "showlegend": false,
         "text": [
          "11.0"
         ],
         "textfont": {
          "color": "#ffffff",
          "size": 20
         },
         "textposition": "top right",
         "type": "scatter",
         "x": [
          "TOV%"
         ],
         "y": [
          0.08903388880345453
         ]
        },
        {
         "hovertemplate": "<b>%{text}</b><br>Normalized: %{y:.2f}<br><extra></extra>",
         "marker": {
          "color": "#ff7f0e",
          "line": {
           "color": "#0A0A0A",
           "width": 3
          },
          "opacity": 1,
          "size": 21,
          "symbol": "diamond"
         },
         "mode": "markers+text",
         "name": "DEN : Nikola On",
         "showlegend": false,
         "text": [
          "75.1"
         ],
         "textfont": {
          "color": "#ffffff",
          "size": 20
         },
         "textposition": "top right",
         "type": "scatter",
         "x": [
          "DREB%"
         ],
         "y": [
          0.9941940694384712
         ]
        },
        {
         "hovertemplate": "<b>%{text}</b><br>Normalized: %{y:.2f}<br><extra></extra>",
         "marker": {
          "color": "#ff7f0e",
          "line": {
           "color": "#0A0A0A",
           "width": 3
          },
          "opacity": 1,
          "size": 21,
          "symbol": "diamond"
         },
         "mode": "markers+text",
         "name": "DEN : Nikola On",
         "showlegend": false,
         "text": [
          "28.9"
         ],
         "textfont": {
          "color": "#ffffff",
          "size": 20
         },
         "textposition": "top right",
         "type": "scatter",
         "x": [
          "OREB%"
         ],
         "y": [
          0.5857977556738359
         ]
        }
       ],
       "layout": {
        "height": 1000,
        "hovermode": "closest",
        "legend": {
         "bgcolor": "#1a1a1a",
         "font": {
          "color": "#ffffff",
          "size": 16
         },
         "orientation": "h",
         "x": 0.5,
         "xanchor": "center",
         "y": 1.02,
         "yanchor": "bottom"
        },
        "paper_bgcolor": "#1a1a1a",
        "plot_bgcolor": "#1a1a1a",
        "showlegend": true,
        "template": {
         "data": {
          "bar": [
           {
            "error_x": {
             "color": "#2a3f5f"
            },
            "error_y": {
             "color": "#2a3f5f"
            },
            "marker": {
             "line": {
              "color": "#E5ECF6",
              "width": 0.5
             },
             "pattern": {
              "fillmode": "overlay",
              "size": 10,
              "solidity": 0.2
             }
            },
            "type": "bar"
           }
          ],
          "barpolar": [
           {
            "marker": {
             "line": {
              "color": "#E5ECF6",
              "width": 0.5
             },
             "pattern": {
              "fillmode": "overlay",
              "size": 10,
              "solidity": 0.2
             }
            },
            "type": "barpolar"
           }
          ],
          "carpet": [
           {
            "aaxis": {
             "endlinecolor": "#2a3f5f",
             "gridcolor": "white",
             "linecolor": "white",
             "minorgridcolor": "white",
             "startlinecolor": "#2a3f5f"
            },
            "baxis": {
             "endlinecolor": "#2a3f5f",
             "gridcolor": "white",
             "linecolor": "white",
             "minorgridcolor": "white",
             "startlinecolor": "#2a3f5f"
            },
            "type": "carpet"
           }
          ],
          "choropleth": [
           {
            "colorbar": {
             "outlinewidth": 0,
             "ticks": ""
            },
            "type": "choropleth"
           }
          ],
          "contour": [
           {
            "colorbar": {
             "outlinewidth": 0,
             "ticks": ""
            },
            "colorscale": [
             [
              0,
              "#0d0887"
             ],
             [
              0.1111111111111111,
              "#46039f"
             ],
             [
              0.2222222222222222,
              "#7201a8"
             ],
             [
              0.3333333333333333,
              "#9c179e"
             ],
             [
              0.4444444444444444,
              "#bd3786"
             ],
             [
              0.5555555555555556,
              "#d8576b"
             ],
             [
              0.6666666666666666,
              "#ed7953"
             ],
             [
              0.7777777777777778,
              "#fb9f3a"
             ],
             [
              0.8888888888888888,
              "#fdca26"
             ],
             [
              1,
              "#f0f921"
             ]
            ],
            "type": "contour"
           }
          ],
          "contourcarpet": [
           {
            "colorbar": {
             "outlinewidth": 0,
             "ticks": ""
            },
            "type": "contourcarpet"
           }
          ],
          "heatmap": [
           {
            "colorbar": {
             "outlinewidth": 0,
             "ticks": ""
            },
            "colorscale": [
             [
              0,
              "#0d0887"
             ],
             [
              0.1111111111111111,
              "#46039f"
             ],
             [
              0.2222222222222222,
              "#7201a8"
             ],
             [
              0.3333333333333333,
              "#9c179e"
             ],
             [
              0.4444444444444444,
              "#bd3786"
             ],
             [
              0.5555555555555556,
              "#d8576b"
             ],
             [
              0.6666666666666666,
              "#ed7953"
             ],
             [
              0.7777777777777778,
              "#fb9f3a"
             ],
             [
              0.8888888888888888,
              "#fdca26"
             ],
             [
              1,
              "#f0f921"
             ]
            ],
            "type": "heatmap"
           }
          ],
          "heatmapgl": [
           {
            "colorbar": {
             "outlinewidth": 0,
             "ticks": ""
            },
            "colorscale": [
             [
              0,
              "#0d0887"
             ],
             [
              0.1111111111111111,
              "#46039f"
             ],
             [
              0.2222222222222222,
              "#7201a8"
             ],
             [
              0.3333333333333333,
              "#9c179e"
             ],
             [
              0.4444444444444444,
              "#bd3786"
             ],
             [
              0.5555555555555556,
              "#d8576b"
             ],
             [
              0.6666666666666666,
              "#ed7953"
             ],
             [
              0.7777777777777778,
              "#fb9f3a"
             ],
             [
              0.8888888888888888,
              "#fdca26"
             ],
             [
              1,
              "#f0f921"
             ]
            ],
            "type": "heatmapgl"
           }
          ],
          "histogram": [
           {
            "marker": {
             "pattern": {
              "fillmode": "overlay",
              "size": 10,
              "solidity": 0.2
             }
            },
            "type": "histogram"
           }
          ],
          "histogram2d": [
           {
            "colorbar": {
             "outlinewidth": 0,
             "ticks": ""
            },
            "colorscale": [
             [
              0,
              "#0d0887"
             ],
             [
              0.1111111111111111,
              "#46039f"
             ],
             [
              0.2222222222222222,
              "#7201a8"
             ],
             [
              0.3333333333333333,
              "#9c179e"
             ],
             [
              0.4444444444444444,
              "#bd3786"
             ],
             [
              0.5555555555555556,
              "#d8576b"
             ],
             [
              0.6666666666666666,
              "#ed7953"
             ],
             [
              0.7777777777777778,
              "#fb9f3a"
             ],
             [
              0.8888888888888888,
              "#fdca26"
             ],
             [
              1,
              "#f0f921"
             ]
            ],
            "type": "histogram2d"
           }
          ],
          "histogram2dcontour": [
           {
            "colorbar": {
             "outlinewidth": 0,
             "ticks": ""
            },
            "colorscale": [
             [
              0,
              "#0d0887"
             ],
             [
              0.1111111111111111,
              "#46039f"
             ],
             [
              0.2222222222222222,
              "#7201a8"
             ],
             [
              0.3333333333333333,
              "#9c179e"
             ],
             [
              0.4444444444444444,
              "#bd3786"
             ],
             [
              0.5555555555555556,
              "#d8576b"
             ],
             [
              0.6666666666666666,
              "#ed7953"
             ],
             [
              0.7777777777777778,
              "#fb9f3a"
             ],
             [
              0.8888888888888888,
              "#fdca26"
             ],
             [
              1,
              "#f0f921"
             ]
            ],
            "type": "histogram2dcontour"
           }
          ],
          "mesh3d": [
           {
            "colorbar": {
             "outlinewidth": 0,
             "ticks": ""
            },
            "type": "mesh3d"
           }
          ],
          "parcoords": [
           {
            "line": {
             "colorbar": {
              "outlinewidth": 0,
              "ticks": ""
             }
            },
            "type": "parcoords"
           }
          ],
          "pie": [
           {
            "automargin": true,
            "type": "pie"
           }
          ],
          "scatter": [
           {
            "fillpattern": {
             "fillmode": "overlay",
             "size": 10,
             "solidity": 0.2
            },
            "type": "scatter"
           }
          ],
          "scatter3d": [
           {
            "line": {
             "colorbar": {
              "outlinewidth": 0,
              "ticks": ""
             }
            },
            "marker": {
             "colorbar": {
              "outlinewidth": 0,
              "ticks": ""
             }
            },
            "type": "scatter3d"
           }
          ],
          "scattercarpet": [
           {
            "marker": {
             "colorbar": {
              "outlinewidth": 0,
              "ticks": ""
             }
            },
            "type": "scattercarpet"
           }
          ],
          "scattergeo": [
           {
            "marker": {
             "colorbar": {
              "outlinewidth": 0,
              "ticks": ""
             }
            },
            "type": "scattergeo"
           }
          ],
          "scattergl": [
           {
            "marker": {
             "colorbar": {
              "outlinewidth": 0,
              "ticks": ""
             }
            },
            "type": "scattergl"
           }
          ],
          "scattermapbox": [
           {
            "marker": {
             "colorbar": {
              "outlinewidth": 0,
              "ticks": ""
             }
            },
            "type": "scattermapbox"
           }
          ],
          "scatterpolar": [
           {
            "marker": {
             "colorbar": {
              "outlinewidth": 0,
              "ticks": ""
             }
            },
            "type": "scatterpolar"
           }
          ],
          "scatterpolargl": [
           {
            "marker": {
             "colorbar": {
              "outlinewidth": 0,
              "ticks": ""
             }
            },
            "type": "scatterpolargl"
           }
          ],
          "scatterternary": [
           {
            "marker": {
             "colorbar": {
              "outlinewidth": 0,
              "ticks": ""
             }
            },
            "type": "scatterternary"
           }
          ],
          "surface": [
           {
            "colorbar": {
             "outlinewidth": 0,
             "ticks": ""
            },
            "colorscale": [
             [
              0,
              "#0d0887"
             ],
             [
              0.1111111111111111,
              "#46039f"
             ],
             [
              0.2222222222222222,
              "#7201a8"
             ],
             [
              0.3333333333333333,
              "#9c179e"
             ],
             [
              0.4444444444444444,
              "#bd3786"
             ],
             [
              0.5555555555555556,
              "#d8576b"
             ],
             [
              0.6666666666666666,
              "#ed7953"
             ],
             [
              0.7777777777777778,
              "#fb9f3a"
             ],
             [
              0.8888888888888888,
              "#fdca26"
             ],
             [
              1,
              "#f0f921"
             ]
            ],
            "type": "surface"
           }
          ],
          "table": [
           {
            "cells": {
             "fill": {
              "color": "#EBF0F8"
             },
             "line": {
              "color": "white"
             }
            },
            "header": {
             "fill": {
              "color": "#C8D4E3"
             },
             "line": {
              "color": "white"
             }
            },
            "type": "table"
           }
          ]
         },
         "layout": {
          "annotationdefaults": {
           "arrowcolor": "#2a3f5f",
           "arrowhead": 0,
           "arrowwidth": 1
          },
          "autotypenumbers": "strict",
          "coloraxis": {
           "colorbar": {
            "outlinewidth": 0,
            "ticks": ""
           }
          },
          "colorscale": {
           "diverging": [
            [
             0,
             "#8e0152"
            ],
            [
             0.1,
             "#c51b7d"
            ],
            [
             0.2,
             "#de77ae"
            ],
            [
             0.3,
             "#f1b6da"
            ],
            [
             0.4,
             "#fde0ef"
            ],
            [
             0.5,
             "#f7f7f7"
            ],
            [
             0.6,
             "#e6f5d0"
            ],
            [
             0.7,
             "#b8e186"
            ],
            [
             0.8,
             "#7fbc41"
            ],
            [
             0.9,
             "#4d9221"
            ],
            [
             1,
             "#276419"
            ]
           ],
           "sequential": [
            [
             0,
             "#0d0887"
            ],
            [
             0.1111111111111111,
             "#46039f"
            ],
            [
             0.2222222222222222,
             "#7201a8"
            ],
            [
             0.3333333333333333,
             "#9c179e"
            ],
            [
             0.4444444444444444,
             "#bd3786"
            ],
            [
             0.5555555555555556,
             "#d8576b"
            ],
            [
             0.6666666666666666,
             "#ed7953"
            ],
            [
             0.7777777777777778,
             "#fb9f3a"
            ],
            [
             0.8888888888888888,
             "#fdca26"
            ],
            [
             1,
             "#f0f921"
            ]
           ],
           "sequentialminus": [
            [
             0,
             "#0d0887"
            ],
            [
             0.1111111111111111,
             "#46039f"
            ],
            [
             0.2222222222222222,
             "#7201a8"
            ],
            [
             0.3333333333333333,
             "#9c179e"
            ],
            [
             0.4444444444444444,
             "#bd3786"
            ],
            [
             0.5555555555555556,
             "#d8576b"
            ],
            [
             0.6666666666666666,
             "#ed7953"
            ],
            [
             0.7777777777777778,
             "#fb9f3a"
            ],
            [
             0.8888888888888888,
             "#fdca26"
            ],
            [
             1,
             "#f0f921"
            ]
           ]
          },
          "colorway": [
           "#636efa",
           "#EF553B",
           "#00cc96",
           "#ab63fa",
           "#FFA15A",
           "#19d3f3",
           "#FF6692",
           "#B6E880",
           "#FF97FF",
           "#FECB52"
          ],
          "font": {
           "color": "#2a3f5f"
          },
          "geo": {
           "bgcolor": "white",
           "lakecolor": "white",
           "landcolor": "#E5ECF6",
           "showlakes": true,
           "showland": true,
           "subunitcolor": "white"
          },
          "hoverlabel": {
           "align": "left"
          },
          "hovermode": "closest",
          "mapbox": {
           "style": "light"
          },
          "paper_bgcolor": "white",
          "plot_bgcolor": "#E5ECF6",
          "polar": {
           "angularaxis": {
            "gridcolor": "white",
            "linecolor": "white",
            "ticks": ""
           },
           "bgcolor": "#E5ECF6",
           "radialaxis": {
            "gridcolor": "white",
            "linecolor": "white",
            "ticks": ""
           }
          },
          "scene": {
           "xaxis": {
            "backgroundcolor": "#E5ECF6",
            "gridcolor": "white",
            "gridwidth": 2,
            "linecolor": "white",
            "showbackground": true,
            "ticks": "",
            "zerolinecolor": "white"
           },
           "yaxis": {
            "backgroundcolor": "#E5ECF6",
            "gridcolor": "white",
            "gridwidth": 2,
            "linecolor": "white",
            "showbackground": true,
            "ticks": "",
            "zerolinecolor": "white"
           },
           "zaxis": {
            "backgroundcolor": "#E5ECF6",
            "gridcolor": "white",
            "gridwidth": 2,
            "linecolor": "white",
            "showbackground": true,
            "ticks": "",
            "zerolinecolor": "white"
           }
          },
          "shapedefaults": {
           "line": {
            "color": "#2a3f5f"
           }
          },
          "ternary": {
           "aaxis": {
            "gridcolor": "white",
            "linecolor": "white",
            "ticks": ""
           },
           "baxis": {
            "gridcolor": "white",
            "linecolor": "white",
            "ticks": ""
           },
           "bgcolor": "#E5ECF6",
           "caxis": {
            "gridcolor": "white",
            "linecolor": "white",
            "ticks": ""
           }
          },
          "title": {
           "x": 0.05
          },
          "xaxis": {
           "automargin": true,
           "gridcolor": "white",
           "linecolor": "white",
           "ticks": "",
           "title": {
            "standoff": 15
           },
           "zerolinecolor": "white",
           "zerolinewidth": 2
          },
          "yaxis": {
           "automargin": true,
           "gridcolor": "white",
           "linecolor": "white",
           "ticks": "",
           "title": {
            "standoff": 15
           },
           "zerolinecolor": "white",
           "zerolinewidth": 2
          }
         }
        },
        "title": {
         "font": {
          "color": "#ffffff",
          "size": 24
         },
         "text": "NBA Beeswarm Comparison 2024-2024",
         "x": 0.5,
         "y": 0.99
        },
        "width": 1600,
        "xaxis": {
         "autorange": true,
         "categoryarray": [
          "Points",
          "Opp Points",
          "FTA",
          "3P%",
          "Rim Freq",
          "EFG%",
          "Rim%",
          "TOV%",
          "DREB%",
          "OREB%"
         ],
         "categoryorder": "array",
         "gridcolor": "rgba(255, 255, 255, 0.1)",
         "range": [
          -0.6033668044890727,
          9.603366804489072
         ],
         "showgrid": false,
         "tickangle": -45,
         "tickfont": {
          "color": "#ffffff",
          "size": 14
         },
         "type": "category"
        },
        "yaxis": {
         "gridcolor": "rgba(255, 255, 255, 0.1)",
         "range": [
          -0.1,
          1.1
         ],
         "showgrid": false,
         "showticklabels": false,
         "title": {
          "font": {
           "color": "#ffffff",
           "size": 16
          },
          "text": "Normalized Value"
         },
         "type": "linear",
         "zeroline": true,
         "zerolinecolor": "rgba(255, 255, 255, 0.1)"
        }
       }
      },
      "image/png": "[encoded data removed]",
      "text/html": [
       "<div>                            <div id=\"6d4e2fb1-87be-419c-b22b-2062a5b53b06\" class=\"plotly-graph-div\" style=\"height:1000px; width:1600px;\"></div>            <script type=\"text/javascript\">                require([\"plotly\"], function(Plotly) {                    window.PLOTLYENV=window.PLOTLYENV || {};                                    if (document.getElementById(\"6d4e2fb1-87be-419c-b22b-2062a5b53b06\")) {                    Plotly.newPlot(                        \"6d4e2fb1-87be-419c-b22b-2062a5b53b06\",                        [{\"hovertemplate\":\"\\u003cb\\u003e%{text}\\u003c\\u002fb\\u003e\\u003cbr\\u003eNormalized: %{y:.2f}\\u003cbr\\u003e\\u003cextra\\u003e\\u003c\\u002fextra\\u003e\",\"marker\":{\"color\":\"#00ffff\",\"line\":{\"color\":\"white\",\"width\":3},\"opacity\":0.7,\"size\":18,\"symbol\":\"circle\"},\"mode\":\"markers\",\"name\":\"Season Avg (All Teams)\",\"showlegend\":false,\"text\":[\"Unknown\\u003cbr\\u003ePoints: 117.5\",\"Unknown\\u003cbr\\u003ePoints: 123.3\",\"Unknown\\u003cbr\\u003ePoints: 115.8\",\"Unknown\\u003cbr\\u003ePoints: 117.6\",\"Unknown\\u003cbr\\u003ePoints: 115.2\",\"Unknown\\u003cbr\\u003ePoints: 118.2\",\"Unknown\\u003cbr\\u003ePoints: 119.0\",\"Unknown\\u003cbr\\u003ePoints: 118.1\",\"Unknown\\u003cbr\\u003ePoints: 115.2\",\"Unknown\\u003cbr\\u003ePoints: 119.0\",\"Unknown\\u003cbr\\u003ePoints: 116.6\",\"Unknown\\u003cbr\\u003ePoints: 114.5\",\"Unknown\\u003cbr\\u003ePoints: 118.6\",\"Unknown\\u003cbr\\u003ePoints: 116.0\",\"Unknown\\u003cbr\\u003ePoints: 113.8\",\"Unknown\\u003cbr\\u003ePoints: 118.6\",\"Unknown\\u003cbr\\u003ePoints: 114.1\",\"Unknown\\u003cbr\\u003ePoints: 121.6\",\"Unknown\\u003cbr\\u003ePoints: 117.3\",\"Phoenix Suns\\u003cbr\\u003ePoints: 118.0\",\"Unknown\\u003cbr\\u003ePoints: 108.6\",\"Unknown\\u003cbr\\u003ePoints: 117.2\",\"Unknown\\u003cbr\\u003ePoints: 110.6\",\"Unknown\\u003cbr\\u003ePoints: 119.5\",\"Unknown\\u003cbr\\u003ePoints: 113.0\",\"Unknown\\u003cbr\\u003ePoints: 115.7\",\"Unknown\\u003cbr\\u003ePoints: 107.9\",\"Unknown\\u003cbr\\u003ePoints: 111.2\",\"Detroit Pistons\\u003cbr\\u003ePoints: 110.3\",\"Unknown\\u003cbr\\u003ePoints: 109.9\"],\"x\":[\"Points\",\"Points\",\"Points\",\"Points\",\"Points\",\"Points\",\"Points\",\"Points\",\"Points\",\"Points\",\"Points\",\"Points\",\"Points\",\"Points\",\"Points\",\"Points\",\"Points\",\"Points\",\"Points\",\"Points\",\"Points\",\"Points\",\"Points\",\"Points\",\"Points\",\"Points\",\"Points\",\"Points\",\"Points\",\"Points\"],\"y\":[0.5952587428369505,0.9521921778697715,0.4872745694526257,0.6041117894016583,0.45327287536558636,0.6386810394320674,0.6894268962319368,0.6351699567507243,0.45037802493271784,0.6912148420838431,0.5396813015408295,0.40714719373170816,0.6625480793792917,0.504497405781696,0.36326324386589537,0.6620390034958366,0.38369068582024113,0.8511274576293522,0.5812525203381869,0.6281024777513284,0.04634152572079664,0.5743893791643151,0.16577572599440948,0.7220274905440185,0.3143053766617552,0.48574235351219563,0.0,0.20420738932312688,0.14934080542889205,0.12632807820680192],\"type\":\"scatter\"},{\"hovertemplate\":\"\\u003cb\\u003e%{text}\\u003c\\u002fb\\u003e\\u003cbr\\u003eNormalized: %{y:.2f}\\u003cbr\\u003e\\u003cextra\\u003e\\u003c\\u002fextra\\u003e\",\"marker\":{\"color\":\"#00ffff\",\"line\":{\"color\":\"white\",\"width\":3},\"opacity\":0.7,\"size\":18,\"symbol\":\"circle\"},\"mode\":\"markers\",\"name\":\"Season Avg (All Teams)\",\"showlegend\":false,\"text\":[\"Unknown\\u003cbr\\u003eOpp Points: 119.7\",\"Unknown\\u003cbr\\u003eOpp Points: 111.9\",\"Unknown\\u003cbr\\u003eOpp Points: 113.3\",\"Unknown\\u003cbr\\u003eOpp Points: 113.1\",\"Unknown\\u003cbr\\u003eOpp Points: 116.9\",\"Unknown\\u003cbr\\u003eOpp Points: 116.1\",\"Unknown\\u003cbr\\u003eOpp Points: 113.5\",\"Unknown\\u003cbr\\u003eOpp Points: 115.8\",\"Unknown\\u003cbr\\u003eOpp Points: 113.7\",\"Unknown\\u003cbr\\u003eOpp Points: 115.8\",\"Unknown\\u003cbr\\u003eOpp Points: 115.9\",\"Unknown\\u003cbr\\u003eOpp Points: 112.7\",\"Unknown\\u003cbr\\u003eOpp Points: 116.2\",\"Unknown\\u003cbr\\u003eOpp Points: 109.5\",\"Unknown\\u003cbr\\u003eOpp Points: 116.5\",\"Unknown\\u003cbr\\u003eOpp Points: 113.8\",\"Unknown\\u003cbr\\u003eOpp Points: 111.9\",\"Unknown\\u003cbr\\u003eOpp Points: 118.8\",\"Unknown\\u003cbr\\u003eOpp Points: 114.3\",\"Phoenix Suns\\u003cbr\\u003eOpp Points: 114.8\",\"Unknown\\u003cbr\\u003eOpp Points: 117.9\",\"Unknown\\u003cbr\\u003eOpp Points: 115.8\",\"Unknown\\u003cbr\\u003eOpp Points: 116.7\",\"Unknown\\u003cbr\\u003eOpp Points: 112.2\",\"Unknown\\u003cbr\\u003eOpp Points: 119.3\",\"Unknown\\u003cbr\\u003eOpp Points: 120.5\",\"Unknown\\u003cbr\\u003eOpp Points: 114.9\",\"Unknown\\u003cbr\\u003eOpp Points: 120.3\",\"Detroit Pistons\\u003cbr\\u003eOpp Points: 119.0\",\"Unknown\\u003cbr\\u003eOpp Points: 120.2\"],\"x\":[\"Opp Points\",\"Opp Points\",\"Opp Points\",\"Opp Points\",\"Opp Points\",\"Opp Points\",\"Opp Points\",\"Opp Points\",\"Opp Points\",\"Opp Points\",\"Opp Points\",\"Opp Points\",\"Opp Points\",\"Opp Points\",\"Opp Points\",\"Opp Points\",\"Opp Points\",\"Opp Points\",\"Opp Points\",\"Opp Points\",\"Opp Points\",\"Opp Points\",\"Opp Points\",\"Opp Points\",\"Opp Points\",\"Opp Points\",\"Opp Points\",\"Opp Points\",\"Opp Points\",\"Opp Points\"],\"y\":[0.9315947613924997,0.2213522120850655,0.3508572256672693,0.3312583901597588,0.6719747547746735,0.6030034976005432,0.36388980599189047,0.5700347727732051,0.38517863907885364,0.5732584712029478,0.5846855388202368,0.29285045025132206,0.6119514448588426,0.0,0.6377368013345333,0.3911076238798685,0.21868990191719284,0.8457729712431288,0.43744112203384944,0.4853707980027586,0.7648554833378345,0.5736760677084245,0.6531584788605453,0.2510112574913954,0.8945265057251515,1.0,0.49299372443748446,0.9821284371221068,0.8698935559618697,0.9708926006000969],\"type\":\"scatter\"},{\"hovertemplate\":\"\\u003cb\\u003e%{text}\\u003c\\u002fb\\u003e\\u003cbr\\u003eNormalized: %{y:.2f}\\u003cbr\\u003e\\u003cextra\\u003e\\u003c\\u002fextra\\u003e\",\"marker\":{\"color\":\"#00ffff\",\"line\":{\"color\":\"white\",\"width\":3},\"opacity\":0.7,\"size\":18,\"symbol\":\"circle\"},\"mode\":\"markers\",\"name\":\"Season Avg (All Teams)\",\"showlegend\":false,\"text\":[\"Unknown\\u003cbr\\u003eFTA: 23.1\",\"Unknown\\u003cbr\\u003eFTA: 20.6\",\"Unknown\\u003cbr\\u003eFTA: 20.9\",\"Unknown\\u003cbr\\u003eFTA: 23.4\",\"Unknown\\u003cbr\\u003eFTA: 21.7\",\"Unknown\\u003cbr\\u003eFTA: 22.5\",\"Unknown\\u003cbr\\u003eFTA: 20.6\",\"Unknown\\u003cbr\\u003eFTA: 20.1\",\"Unknown\\u003cbr\\u003eFTA: 23.5\",\"Unknown\\u003cbr\\u003eFTA: 22.8\",\"Unknown\\u003cbr\\u003eFTA: 23.9\",\"Unknown\\u003cbr\\u003eFTA: 22.9\",\"Unknown\\u003cbr\\u003eFTA: 23.8\",\"Unknown\\u003cbr\\u003eFTA: 23.6\",\"Unknown\\u003cbr\\u003eFTA: 21.5\",\"Unknown\\u003cbr\\u003eFTA: 22.9\",\"Unknown\\u003cbr\\u003eFTA: 25.2\",\"Unknown\\u003cbr\\u003eFTA: 20.3\",\"Unknown\\u003cbr\\u003eFTA: 24.1\",\"Phoenix Suns\\u003cbr\\u003eFTA: 23.7\",\"Unknown\\u003cbr\\u003eFTA: 20.9\",\"Unknown\\u003cbr\\u003eFTA: 21.0\",\"Unknown\\u003cbr\\u003eFTA: 19.7\",\"Unknown\\u003cbr\\u003eFTA: 21.4\",\"Unknown\\u003cbr\\u003eFTA: 21.7\",\"Unknown\\u003cbr\\u003eFTA: 22.6\",\"Unknown\\u003cbr\\u003eFTA: 21.4\",\"Unknown\\u003cbr\\u003eFTA: 19.8\",\"Detroit Pistons\\u003cbr\\u003eFTA: 21.8\",\"Unknown\\u003cbr\\u003eFTA: 19.0\"],\"x\":[\"FTA\",\"FTA\",\"FTA\",\"FTA\",\"FTA\",\"FTA\",\"FTA\",\"FTA\",\"FTA\",\"FTA\",\"FTA\",\"FTA\",\"FTA\",\"FTA\",\"FTA\",\"FTA\",\"FTA\",\"FTA\",\"FTA\",\"FTA\",\"FTA\",\"FTA\",\"FTA\",\"FTA\",\"FTA\",\"FTA\",\"FTA\",\"FTA\",\"FTA\",\"FTA\"],\"y\":[0.6557624821561361,0.2588722353810895,0.31076364949540647,0.6994169161281896,0.42683957257816063,0.5668099517623086,0.2512675864334475,0.17685407174052958,0.7291039333508946,0.61292662141269,0.7861412008179722,0.6244898875723672,0.7757027032661008,0.7330452790152853,0.40165449272263976,0.6324065163253563,1.0,0.20256455508574556,0.826009868925178,0.7576699409609331,0.3078070292734574,0.3137560617460706,0.1086228374322844,0.37730331400681383,0.4372414257690571,0.5800398763192569,0.3861872688385297,0.1186873633308334,0.44746409195932735,0.0],\"type\":\"scatter\"},{\"hovertemplate\":\"\\u003cb\\u003e%{text}\\u003c\\u002fb\\u003e\\u003cbr\\u003eNormalized: %{y:.2f}\\u003cbr\\u003e\\u003cextra\\u003e\\u003c\\u002fextra\\u003e\",\"marker\":{\"color\":\"#00ffff\",\"line\":{\"color\":\"white\",\"width\":3},\"opacity\":0.7,\"size\":18,\"symbol\":\"circle\"},\"mode\":\"markers\",\"name\":\"Season Avg (All Teams)\",\"showlegend\":false,\"text\":[\"Unknown\\u003cbr\\u003e3P%: 36.4\",\"Unknown\\u003cbr\\u003e3P%: 38.8\",\"Unknown\\u003cbr\\u003e3P%: 36.7\",\"Unknown\\u003cbr\\u003e3P%: 38.3\",\"Unknown\\u003cbr\\u003e3P%: 35.8\",\"Unknown\\u003cbr\\u003e3P%: 36.9\",\"Unknown\\u003cbr\\u003e3P%: 37.4\",\"Unknown\\u003cbr\\u003e3P%: 38.0\",\"Unknown\\u003cbr\\u003e3P%: 35.2\",\"Unknown\\u003cbr\\u003e3P%: 38.1\",\"Unknown\\u003cbr\\u003e3P%: 37.7\",\"Unknown\\u003cbr\\u003e3P%: 37.0\",\"Unknown\\u003cbr\\u003e3P%: 37.3\",\"Unknown\\u003cbr\\u003e3P%: 38.7\",\"Unknown\\u003cbr\\u003e3P%: 36.2\",\"Unknown\\u003cbr\\u003e3P%: 36.9\",\"Unknown\\u003cbr\\u003e3P%: 35.2\",\"Unknown\\u003cbr\\u003e3P%: 37.4\",\"Unknown\\u003cbr\\u003e3P%: 36.3\",\"Phoenix Suns\\u003cbr\\u003e3P%: 38.2\",\"Unknown\\u003cbr\\u003e3P%: 34.5\",\"Unknown\\u003cbr\\u003e3P%: 36.6\",\"Unknown\\u003cbr\\u003e3P%: 34.7\",\"Unknown\\u003cbr\\u003e3P%: 38.9\",\"Unknown\\u003cbr\\u003e3P%: 34.7\",\"Unknown\\u003cbr\\u003e3P%: 35.4\",\"Unknown\\u003cbr\\u003e3P%: 34.6\",\"Unknown\\u003cbr\\u003e3P%: 34.8\",\"Detroit Pistons\\u003cbr\\u003e3P%: 34.8\",\"Unknown\\u003cbr\\u003e3P%: 35.5\"],\"x\":[\"3P%\",\"3P%\",\"3P%\",\"3P%\",\"3P%\",\"3P%\",\"3P%\",\"3P%\",\"3P%\",\"3P%\",\"3P%\",\"3P%\",\"3P%\",\"3P%\",\"3P%\",\"3P%\",\"3P%\",\"3P%\",\"3P%\",\"3P%\",\"3P%\",\"3P%\",\"3P%\",\"3P%\",\"3P%\",\"3P%\",\"3P%\",\"3P%\",\"3P%\",\"3P%\"],\"y\":[0.427690396375362,0.9713251038609458,0.5071839591463023,0.8524987305311695,0.2915749038020552,0.5486550974134952,0.661243707479783,0.7802220498092494,0.1586590774056411,0.8143792884557692,0.7182076786038936,0.5577419266606567,0.6229550426628636,0.9443285687639422,0.38159108748398385,0.5408376365139231,0.15294605623244095,0.6622837952249077,0.4080843678110364,0.8336686751116309,0.0,0.47518141045843887,0.05539436071366133,0.9847486180921825,0.05637926097731594,0.2097599179220735,0.02201897163980515,0.07559722866226348,0.07547852993282511,0.22269896110952292],\"type\":\"scatter\"},{\"hovertemplate\":\"\\u003cb\\u003e%{text}\\u003c\\u002fb\\u003e\\u003cbr\\u003eNormalized: %{y:.2f}\\u003cbr\\u003e\\u003cextra\\u003e\\u003c\\u002fextra\\u003e\",\"marker\":{\"color\":\"#00ffff\",\"line\":{\"color\":\"white\",\"width\":3},\"opacity\":0.7,\"size\":18,\"symbol\":\"circle\"},\"mode\":\"markers\",\"name\":\"Season Avg (All Teams)\",\"showlegend\":false,\"text\":[\"Unknown\\u003cbr\\u003eRim Freq: 29.1\",\"Unknown\\u003cbr\\u003eRim Freq: 26.6\",\"Unknown\\u003cbr\\u003eRim Freq: 31.4\",\"Unknown\\u003cbr\\u003eRim Freq: 30.5\",\"Unknown\\u003cbr\\u003eRim Freq: 30.4\",\"Unknown\\u003cbr\\u003eRim Freq: 26.2\",\"Unknown\\u003cbr\\u003eRim Freq: 32.1\",\"Unknown\\u003cbr\\u003eRim Freq: 24.6\",\"Unknown\\u003cbr\\u003eRim Freq: 30.7\",\"Unknown\\u003cbr\\u003eRim Freq: 28.3\",\"Unknown\\u003cbr\\u003eRim Freq: 32.3\",\"Unknown\\u003cbr\\u003eRim Freq: 24.8\",\"Unknown\\u003cbr\\u003eRim Freq: 28.5\",\"Unknown\\u003cbr\\u003eRim Freq: 30.3\",\"Unknown\\u003cbr\\u003eRim Freq: 29.1\",\"Unknown\\u003cbr\\u003eRim Freq: 28.8\",\"Unknown\\u003cbr\\u003eRim Freq: 34.1\",\"Unknown\\u003cbr\\u003eRim Freq: 32.0\",\"Unknown\\u003cbr\\u003eRim Freq: 31.1\",\"Phoenix Suns\\u003cbr\\u003eRim Freq: 26.7\",\"Unknown\\u003cbr\\u003eRim Freq: 30.3\",\"Unknown\\u003cbr\\u003eRim Freq: 25.6\",\"Unknown\\u003cbr\\u003eRim Freq: 30.5\",\"Unknown\\u003cbr\\u003eRim Freq: 29.9\",\"Unknown\\u003cbr\\u003eRim Freq: 31.6\",\"Unknown\\u003cbr\\u003eRim Freq: 26.9\",\"Unknown\\u003cbr\\u003eRim Freq: 28.7\",\"Unknown\\u003cbr\\u003eRim Freq: 31.0\",\"Detroit Pistons\\u003cbr\\u003eRim Freq: 29.6\",\"Unknown\\u003cbr\\u003eRim Freq: 30.2\"],\"x\":[\"Rim Freq\",\"Rim Freq\",\"Rim Freq\",\"Rim Freq\",\"Rim Freq\",\"Rim Freq\",\"Rim Freq\",\"Rim Freq\",\"Rim Freq\",\"Rim Freq\",\"Rim Freq\",\"Rim Freq\",\"Rim Freq\",\"Rim Freq\",\"Rim Freq\",\"Rim Freq\",\"Rim Freq\",\"Rim Freq\",\"Rim Freq\",\"Rim Freq\",\"Rim Freq\",\"Rim Freq\",\"Rim Freq\",\"Rim Freq\",\"Rim Freq\",\"Rim Freq\",\"Rim Freq\",\"Rim Freq\",\"Rim Freq\",\"Rim Freq\"],\"y\":[0.3906203559762007,0.1688531706016212,0.5844305521959678,0.5062001601487007,0.4990894056938413,0.13649381691179086,0.6477893651518194,0.0,0.5277717582384316,0.31908673189681824,0.6680884851699207,0.010541192854058856,0.33894399594663094,0.4939141162897345,0.39143371995416354,0.36531046904229614,0.820512208408219,0.6447491170012065,0.5661588738436047,0.17689388942571505,0.49060449026845454,0.08390243766748018,0.511438840811794,0.45454264447168224,0.6043173025311797,0.1932581556692159,0.35339319272616043,0.556333248912503,0.42958953619001816,0.4826795922889717],\"type\":\"scatter\"},{\"hovertemplate\":\"\\u003cb\\u003e%{text}\\u003c\\u002fb\\u003e\\u003cbr\\u003eNormalized: %{y:.2f}\\u003cbr\\u003e\\u003cextra\\u003e\\u003c\\u002fextra\\u003e\",\"marker\":{\"color\":\"#00ffff\",\"line\":{\"color\":\"white\",\"width\":3},\"opacity\":0.7,\"size\":18,\"symbol\":\"circle\"},\"mode\":\"markers\",\"name\":\"Season Avg (All Teams)\",\"showlegend\":false,\"text\":[\"Unknown\\u003cbr\\u003eEFG%: 53.9\",\"Unknown\\u003cbr\\u003eEFG%: 57.8\",\"Unknown\\u003cbr\\u003eEFG%: 55.7\",\"Unknown\\u003cbr\\u003eEFG%: 55.8\",\"Unknown\\u003cbr\\u003eEFG%: 53.4\",\"Unknown\\u003cbr\\u003eEFG%: 56.2\",\"Unknown\\u003cbr\\u003eEFG%: 56.2\",\"Unknown\\u003cbr\\u003eEFG%: 55.7\",\"Unknown\\u003cbr\\u003eEFG%: 52.9\",\"Unknown\\u003cbr\\u003eEFG%: 56.1\",\"Unknown\\u003cbr\\u003eEFG%: 56.6\",\"Unknown\\u003cbr\\u003eEFG%: 53.8\",\"Unknown\\u003cbr\\u003eEFG%: 56.8\",\"Unknown\\u003cbr\\u003eEFG%: 55.9\",\"Unknown\\u003cbr\\u003eEFG%: 53.1\",\"Unknown\\u003cbr\\u003eEFG%: 54.0\",\"Unknown\\u003cbr\\u003eEFG%: 54.1\",\"Unknown\\u003cbr\\u003eEFG%: 57.8\",\"Unknown\\u003cbr\\u003eEFG%: 53.2\",\"Phoenix Suns\\u003cbr\\u003eEFG%: 56.5\",\"Unknown\\u003cbr\\u003eEFG%: 50.3\",\"Unknown\\u003cbr\\u003eEFG%: 55.6\",\"Unknown\\u003cbr\\u003eEFG%: 53.2\",\"Unknown\\u003cbr\\u003eEFG%: 57.3\",\"Unknown\\u003cbr\\u003eEFG%: 53.5\",\"Unknown\\u003cbr\\u003eEFG%: 53.9\",\"Unknown\\u003cbr\\u003eEFG%: 50.9\",\"Unknown\\u003cbr\\u003eEFG%: 53.8\",\"Detroit Pistons\\u003cbr\\u003eEFG%: 52.6\",\"Unknown\\u003cbr\\u003eEFG%: 52.9\"],\"x\":[\"EFG%\",\"EFG%\",\"EFG%\",\"EFG%\",\"EFG%\",\"EFG%\",\"EFG%\",\"EFG%\",\"EFG%\",\"EFG%\",\"EFG%\",\"EFG%\",\"EFG%\",\"EFG%\",\"EFG%\",\"EFG%\",\"EFG%\",\"EFG%\",\"EFG%\",\"EFG%\",\"EFG%\",\"EFG%\",\"EFG%\",\"EFG%\",\"EFG%\",\"EFG%\",\"EFG%\",\"EFG%\",\"EFG%\",\"EFG%\"],\"y\":[0.4531130079554071,0.9276812174766116,0.6634955549276249,0.6755305045009541,0.38494639081022086,0.7317363611069645,0.7259158869785667,0.6703541212404671,0.3256855176257467,0.72257090730377,0.7819175255370645,0.43338263394634957,0.797328732991395,0.6975112968710127,0.34651792673451,0.45870964512764356,0.4750812851039763,0.9311027797833642,0.36116245079308573,0.768143142867511,0.0,0.6505191070989813,0.36139533649053934,0.8659946614151153,0.40064435014930044,0.4471473096492744,0.08019799371756964,0.43364115271796777,0.2875605992250492,0.32823516695063315],\"type\":\"scatter\"},{\"hovertemplate\":\"\\u003cb\\u003e%{text}\\u003c\\u002fb\\u003e\\u003cbr\\u003eNormalized: %{y:.2f}\\u003cbr\\u003e\\u003cextra\\u003e\\u003c\\u002fextra\\u003e\",\"marker\":{\"color\":\"#00ffff\",\"line\":{\"color\":\"white\",\"width\":3},\"opacity\":0.7,\"size\":18,\"symbol\":\"circle\"},\"mode\":\"markers\",\"name\":\"Season Avg (All Teams)\",\"showlegend\":false,\"text\":[\"Unknown\\u003cbr\\u003eRim%: 62.5\",\"Unknown\\u003cbr\\u003eRim%: 70.4\",\"Unknown\\u003cbr\\u003eRim%: 65.9\",\"Unknown\\u003cbr\\u003eRim%: 65.9\",\"Unknown\\u003cbr\\u003eRim%: 62.3\",\"Unknown\\u003cbr\\u003eRim%: 70.7\",\"Unknown\\u003cbr\\u003eRim%: 65.2\",\"Unknown\\u003cbr\\u003eRim%: 70.4\",\"Unknown\\u003cbr\\u003eRim%: 64.0\",\"Unknown\\u003cbr\\u003eRim%: 67.3\",\"Unknown\\u003cbr\\u003eRim%: 72.5\",\"Unknown\\u003cbr\\u003eRim%: 63.5\",\"Unknown\\u003cbr\\u003eRim%: 71.0\",\"Unknown\\u003cbr\\u003eRim%: 67.6\",\"Unknown\\u003cbr\\u003eRim%: 65.0\",\"Unknown\\u003cbr\\u003eRim%: 63.1\",\"Unknown\\u003cbr\\u003eRim%: 67.4\",\"Unknown\\u003cbr\\u003eRim%: 68.6\",\"Unknown\\u003cbr\\u003eRim%: 63.2\",\"Phoenix Suns\\u003cbr\\u003eRim%: 67.5\",\"Unknown\\u003cbr\\u003eRim%: 60.4\",\"Unknown\\u003cbr\\u003eRim%: 68.8\",\"Unknown\\u003cbr\\u003eRim%: 66.2\",\"Unknown\\u003cbr\\u003eRim%: 67.7\",\"Unknown\\u003cbr\\u003eRim%: 67.5\",\"Unknown\\u003cbr\\u003eRim%: 69.0\",\"Unknown\\u003cbr\\u003eRim%: 60.6\",\"Unknown\\u003cbr\\u003eRim%: 69.8\",\"Detroit Pistons\\u003cbr\\u003eRim%: 64.6\",\"Unknown\\u003cbr\\u003eRim%: 65.4\"],\"x\":[\"Rim%\",\"Rim%\",\"Rim%\",\"Rim%\",\"Rim%\",\"Rim%\",\"Rim%\",\"Rim%\",\"Rim%\",\"Rim%\",\"Rim%\",\"Rim%\",\"Rim%\",\"Rim%\",\"Rim%\",\"Rim%\",\"Rim%\",\"Rim%\",\"Rim%\",\"Rim%\",\"Rim%\",\"Rim%\",\"Rim%\",\"Rim%\",\"Rim%\",\"Rim%\",\"Rim%\",\"Rim%\",\"Rim%\",\"Rim%\"],\"y\":[0.15631507644551323,0.7567100111740723,0.41499165218133083,0.414597557535445,0.14451424985209815,0.7780958005010294,0.3635602017275774,0.7539065640723415,0.2726739220222072,0.5232272349200393,0.9103133299549766,0.23257389435263143,0.796801574020022,0.5421251602771244,0.34716552858845695,0.20645719179643773,0.5249875025619701,0.6194531031874027,0.20831572492438966,0.5360241070101752,0.0,0.6311386436273283,0.44002531666714084,0.5478189187214983,0.5379849007658475,0.646979244087662,0.013787785194079305,0.7084461497100003,0.3149769887492795,0.3765288375848783],\"type\":\"scatter\"},{\"hovertemplate\":\"\\u003cb\\u003e%{text}\\u003c\\u002fb\\u003e\\u003cbr\\u003eNormalized: %{y:.2f}\\u003cbr\\u003e\\u003cextra\\u003e\\u003c\\u002fextra\\u003e\",\"marker\":{\"color\":\"#00ffff\",\"line\":{\"color\":\"white\",\"width\":3},\"opacity\":0.7,\"size\":18,\"symbol\":\"circle\"},\"mode\":\"markers\",\"name\":\"Season Avg (All Teams)\",\"showlegend\":false,\"text\":[\"Unknown\\u003cbr\\u003eTOV%: 11.6\",\"Unknown\\u003cbr\\u003eTOV%: 10.8\",\"Unknown\\u003cbr\\u003eTOV%: 12.4\",\"Unknown\\u003cbr\\u003eTOV%: 11.8\",\"Unknown\\u003cbr\\u003eTOV%: 11.0\",\"Unknown\\u003cbr\\u003eTOV%: 11.2\",\"Unknown\\u003cbr\\u003eTOV%: 11.5\",\"Unknown\\u003cbr\\u003eTOV%: 12.5\",\"Unknown\\u003cbr\\u003eTOV%: 11.2\",\"Unknown\\u003cbr\\u003eTOV%: 12.0\",\"Unknown\\u003cbr\\u003eTOV%: 12.5\",\"Unknown\\u003cbr\\u003eTOV%: 11.7\",\"Unknown\\u003cbr\\u003eTOV%: 11.5\",\"Unknown\\u003cbr\\u003eTOV%: 13.0\",\"Unknown\\u003cbr\\u003eTOV%: 11.8\",\"Unknown\\u003cbr\\u003eTOV%: 11.9\",\"Unknown\\u003cbr\\u003eTOV%: 13.3\",\"Unknown\\u003cbr\\u003eTOV%: 11.3\",\"Unknown\\u003cbr\\u003eTOV%: 10.7\",\"Phoenix Suns\\u003cbr\\u003eTOV%: 13.4\",\"Unknown\\u003cbr\\u003eTOV%: 13.4\",\"Unknown\\u003cbr\\u003eTOV%: 11.6\",\"Unknown\\u003cbr\\u003eTOV%: 13.2\",\"Unknown\\u003cbr\\u003eTOV%: 11.4\",\"Unknown\\u003cbr\\u003eTOV%: 12.4\",\"Unknown\\u003cbr\\u003eTOV%: 13.6\",\"Unknown\\u003cbr\\u003eTOV%: 13.4\",\"Unknown\\u003cbr\\u003eTOV%: 12.2\",\"Detroit Pistons\\u003cbr\\u003eTOV%: 13.5\",\"Unknown\\u003cbr\\u003eTOV%: 12.6\"],\"x\":[\"TOV%\",\"TOV%\",\"TOV%\",\"TOV%\",\"TOV%\",\"TOV%\",\"TOV%\",\"TOV%\",\"TOV%\",\"TOV%\",\"TOV%\",\"TOV%\",\"TOV%\",\"TOV%\",\"TOV%\",\"TOV%\",\"TOV%\",\"TOV%\",\"TOV%\",\"TOV%\",\"TOV%\",\"TOV%\",\"TOV%\",\"TOV%\",\"TOV%\",\"TOV%\",\"TOV%\",\"TOV%\",\"TOV%\",\"TOV%\"],\"y\":[0.3209258516546618,0.006923529386019478,0.5744269722830633,0.3696154662665809,0.10310077247730698,0.15553143894794985,0.2598318758162397,0.6135764097921137,0.15701000005863808,0.44555223526755894,0.6099143453038436,0.34863300873517256,0.28296487574441587,0.7867895240900711,0.36809767350739664,0.39906881056716914,0.9143319515563282,0.18761370019575896,0.0,0.9333315206732151,0.9291308930397979,0.3087150517128019,0.8756698962319818,0.22459254644257287,0.5723971122953597,1.0000000000000004,0.9410349383387708,0.5321598270971735,0.964538369518992,0.6749020299335693],\"type\":\"scatter\"},{\"hovertemplate\":\"\\u003cb\\u003e%{text}\\u003c\\u002fb\\u003e\\u003cbr\\u003eNormalized: %{y:.2f}\\u003cbr\\u003e\\u003cextra\\u003e\\u003c\\u002fextra\\u003e\",\"marker\":{\"color\":\"#00ffff\",\"line\":{\"color\":\"white\",\"width\":3},\"opacity\":0.7,\"size\":18,\"symbol\":\"circle\"},\"mode\":\"markers\",\"name\":\"Season Avg (All Teams)\",\"showlegend\":false,\"text\":[\"Unknown\\u003cbr\\u003eDREB%: 72.6\",\"Unknown\\u003cbr\\u003eDREB%: 73.2\",\"Unknown\\u003cbr\\u003eDREB%: 73.0\",\"Unknown\\u003cbr\\u003eDREB%: 73.4\",\"Unknown\\u003cbr\\u003eDREB%: 72.4\",\"Unknown\\u003cbr\\u003eDREB%: 71.8\",\"Unknown\\u003cbr\\u003eDREB%: 72.6\",\"Unknown\\u003cbr\\u003eDREB%: 73.0\",\"Unknown\\u003cbr\\u003eDREB%: 72.5\",\"Unknown\\u003cbr\\u003eDREB%: 71.1\",\"Unknown\\u003cbr\\u003eDREB%: 73.5\",\"Unknown\\u003cbr\\u003eDREB%: 74.4\",\"Unknown\\u003cbr\\u003eDREB%: 74.0\",\"Unknown\\u003cbr\\u003eDREB%: 73.3\",\"Unknown\\u003cbr\\u003eDREB%: 72.6\",\"Unknown\\u003cbr\\u003eDREB%: 73.3\",\"Unknown\\u003cbr\\u003eDREB%: 74.6\",\"Unknown\\u003cbr\\u003eDREB%: 70.3\",\"Unknown\\u003cbr\\u003eDREB%: 70.7\",\"Phoenix Suns\\u003cbr\\u003eDREB%: 72.4\",\"Unknown\\u003cbr\\u003eDREB%: 70.6\",\"Unknown\\u003cbr\\u003eDREB%: 75.2\",\"Unknown\\u003cbr\\u003eDREB%: 73.0\",\"Unknown\\u003cbr\\u003eDREB%: 70.7\",\"Unknown\\u003cbr\\u003eDREB%: 70.4\",\"Unknown\\u003cbr\\u003eDREB%: 72.1\",\"Unknown\\u003cbr\\u003eDREB%: 71.4\",\"Unknown\\u003cbr\\u003eDREB%: 68.6\",\"Detroit Pistons\\u003cbr\\u003eDREB%: 74.0\",\"Unknown\\u003cbr\\u003eDREB%: 71.4\"],\"x\":[\"DREB%\",\"DREB%\",\"DREB%\",\"DREB%\",\"DREB%\",\"DREB%\",\"DREB%\",\"DREB%\",\"DREB%\",\"DREB%\",\"DREB%\",\"DREB%\",\"DREB%\",\"DREB%\",\"DREB%\",\"DREB%\",\"DREB%\",\"DREB%\",\"DREB%\",\"DREB%\",\"DREB%\",\"DREB%\",\"DREB%\",\"DREB%\",\"DREB%\",\"DREB%\",\"DREB%\",\"DREB%\",\"DREB%\",\"DREB%\"],\"y\":[0.602774457622159,0.6978570704174487,0.6673053751460234,0.7246719282401042,0.5784241728667325,0.4805734946468707,0.6116905790923877,0.6674286698181042,0.5939332476979882,0.3813259495329113,0.7398000476979156,0.8793455781666424,0.820649249302015,0.7171351551120697,0.610828158880171,0.7220281798692039,0.9098889357380635,0.25237412832795414,0.31911590586230787,0.5842887407078763,0.2995919324846916,1.0,0.661743797412921,0.32389360422728153,0.2744953917016648,0.5350523919299484,0.4212689507091323,0.0,0.8239597128469622,0.43025165829607204],\"type\":\"scatter\"},{\"hovertemplate\":\"\\u003cb\\u003e%{text}\\u003c\\u002fb\\u003e\\u003cbr\\u003eNormalized: %{y:.2f}\\u003cbr\\u003e\\u003cextra\\u003e\\u003c\\u002fextra\\u003e\",\"marker\":{\"color\":\"#00ffff\",\"line\":{\"color\":\"white\",\"width\":3},\"opacity\":0.7,\"size\":18,\"symbol\":\"circle\"},\"mode\":\"markers\",\"name\":\"Season Avg (All Teams)\",\"showlegend\":false,\"text\":[\"Unknown\\u003cbr\\u003eOREB%: 30.5\",\"Unknown\\u003cbr\\u003eOREB%: 27.8\",\"Unknown\\u003cbr\\u003eOREB%: 26.8\",\"Unknown\\u003cbr\\u003eOREB%: 27.6\",\"Unknown\\u003cbr\\u003eOREB%: 28.8\",\"Unknown\\u003cbr\\u003eOREB%: 25.1\",\"Unknown\\u003cbr\\u003eOREB%: 29.2\",\"Unknown\\u003cbr\\u003eOREB%: 30.8\",\"Unknown\\u003cbr\\u003eOREB%: 28.6\",\"Unknown\\u003cbr\\u003eOREB%: 27.4\",\"Unknown\\u003cbr\\u003eOREB%: 23.3\",\"Unknown\\u003cbr\\u003eOREB%: 25.4\",\"Unknown\\u003cbr\\u003eOREB%: 24.2\",\"Unknown\\u003cbr\\u003eOREB%: 26.4\",\"Unknown\\u003cbr\\u003eOREB%: 28.3\",\"Unknown\\u003cbr\\u003eOREB%: 32.8\",\"Unknown\\u003cbr\\u003eOREB%: 29.0\",\"Unknown\\u003cbr\\u003eOREB%: 27.7\",\"Unknown\\u003cbr\\u003eOREB%: 28.4\",\"Phoenix Suns\\u003cbr\\u003eOREB%: 28.5\",\"Unknown\\u003cbr\\u003eOREB%: 31.0\",\"Unknown\\u003cbr\\u003eOREB%: 27.8\",\"Unknown\\u003cbr\\u003eOREB%: 26.0\",\"Unknown\\u003cbr\\u003eOREB%: 24.3\",\"Unknown\\u003cbr\\u003eOREB%: 27.7\",\"Unknown\\u003cbr\\u003eOREB%: 31.6\",\"Unknown\\u003cbr\\u003eOREB%: 27.6\",\"Unknown\\u003cbr\\u003eOREB%: 23.5\",\"Detroit Pistons\\u003cbr\\u003eOREB%: 26.6\",\"Unknown\\u003cbr\\u003eOREB%: 24.1\"],\"x\":[\"OREB%\",\"OREB%\",\"OREB%\",\"OREB%\",\"OREB%\",\"OREB%\",\"OREB%\",\"OREB%\",\"OREB%\",\"OREB%\",\"OREB%\",\"OREB%\",\"OREB%\",\"OREB%\",\"OREB%\",\"OREB%\",\"OREB%\",\"OREB%\",\"OREB%\",\"OREB%\",\"OREB%\",\"OREB%\",\"OREB%\",\"OREB%\",\"OREB%\",\"OREB%\",\"OREB%\",\"OREB%\",\"OREB%\",\"OREB%\"],\"y\":[0.7564393665869256,0.4689465410531186,0.3644580979279146,0.4537846536677024,0.5728842047185769,0.1917806565253488,0.6160338876197846,0.7883815921042192,0.5552771572526845,0.4287122177168676,0.0,0.21895394306591243,0.1025796341474079,0.3307877298453894,0.5280312978354154,1.0,0.5965569750289799,0.4617989224419423,0.5389866298112174,0.5456261045892772,0.8075052634662527,0.4781458975050281,0.28816470723946264,0.10521936850323454,0.4636758445414708,0.8686712377571886,0.45616668158867935,0.02622778548715443,0.3532832726926358,0.08959937627917514],\"type\":\"scatter\"},{\"hovertemplate\":\"\\u003cb\\u003e%{text}\\u003c\\u002fb\\u003e\\u003cbr\\u003eNormalized: %{y:.2f}\\u003cbr\\u003e\\u003cextra\\u003e\\u003c\\u002fextra\\u003e\",\"marker\":{\"color\":\"#ff4d4d\",\"line\":{\"color\":\"#0A0A0A\",\"width\":3},\"opacity\":1,\"size\":21,\"symbol\":\"diamond\"},\"mode\":\"markers+text\",\"name\":\"LAL : LeBron, Anthony On\",\"showlegend\":true,\"text\":[\"119.8\"],\"textfont\":{\"color\":\"#ffffff\",\"size\":20},\"textposition\":\"top right\",\"x\":[\"Points\"],\"y\":[0.7374177361611682],\"type\":\"scatter\"},{\"hovertemplate\":\"\\u003cb\\u003e%{text}\\u003c\\u002fb\\u003e\\u003cbr\\u003eNormalized: %{y:.2f}\\u003cbr\\u003e\\u003cextra\\u003e\\u003c\\u002fextra\\u003e\",\"marker\":{\"color\":\"#ff4d4d\",\"line\":{\"color\":\"#0A0A0A\",\"width\":3},\"opacity\":1,\"size\":21,\"symbol\":\"diamond\"},\"mode\":\"markers+text\",\"name\":\"LAL : LeBron, Anthony On\",\"showlegend\":false,\"text\":[\"116.0\"],\"textfont\":{\"color\":\"#ffffff\",\"size\":20},\"textposition\":\"top right\",\"x\":[\"Opp Points\"],\"y\":[0.5933706996109898],\"type\":\"scatter\"},{\"hovertemplate\":\"\\u003cb\\u003e%{text}\\u003c\\u002fb\\u003e\\u003cbr\\u003eNormalized: %{y:.2f}\\u003cbr\\u003e\\u003cextra\\u003e\\u003c\\u002fextra\\u003e\",\"marker\":{\"color\":\"#ff4d4d\",\"line\":{\"color\":\"#0A0A0A\",\"width\":3},\"opacity\":1,\"size\":21,\"symbol\":\"diamond\"},\"mode\":\"markers+text\",\"name\":\"LAL : LeBron, Anthony On\",\"showlegend\":false,\"text\":[\"23.4\"],\"textfont\":{\"color\":\"#ffffff\",\"size\":20},\"textposition\":\"top right\",\"x\":[\"FTA\"],\"y\":[0.7034021790615315],\"type\":\"scatter\"},{\"hovertemplate\":\"\\u003cb\\u003e%{text}\\u003c\\u002fb\\u003e\\u003cbr\\u003eNormalized: %{y:.2f}\\u003cbr\\u003e\\u003cextra\\u003e\\u003c\\u002fextra\\u003e\",\"marker\":{\"color\":\"#ff4d4d\",\"line\":{\"color\":\"#0A0A0A\",\"width\":3},\"opacity\":1,\"size\":21,\"symbol\":\"diamond\"},\"mode\":\"markers+text\",\"name\":\"LAL : LeBron, Anthony On\",\"showlegend\":false,\"text\":[\"37.7\"],\"textfont\":{\"color\":\"#ffffff\",\"size\":20},\"textposition\":\"top right\",\"x\":[\"3P%\"],\"y\":[0.7338910897670585],\"type\":\"scatter\"},{\"hovertemplate\":\"\\u003cb\\u003e%{text}\\u003c\\u002fb\\u003e\\u003cbr\\u003eNormalized: %{y:.2f}\\u003cbr\\u003e\\u003cextra\\u003e\\u003c\\u002fextra\\u003e\",\"marker\":{\"color\":\"#ff4d4d\",\"line\":{\"color\":\"#0A0A0A\",\"width\":3},\"opacity\":1,\"size\":21,\"symbol\":\"diamond\"},\"mode\":\"markers+text\",\"name\":\"LAL : LeBron, Anthony On\",\"showlegend\":false,\"text\":[\"36.1\"],\"textfont\":{\"color\":\"#ffffff\",\"size\":20},\"textposition\":\"top right\",\"x\":[\"Rim Freq\"],\"y\":[1.0],\"type\":\"scatter\"},{\"hovertemplate\":\"\\u003cb\\u003e%{text}\\u003c\\u002fb\\u003e\\u003cbr\\u003eNormalized: %{y:.2f}\\u003cbr\\u003e\\u003cextra\\u003e\\u003c\\u002fextra\\u003e\",\"marker\":{\"color\":\"#ff4d4d\",\"line\":{\"color\":\"#0A0A0A\",\"width\":3},\"opacity\":1,\"size\":21,\"symbol\":\"diamond\"},\"mode\":\"markers+text\",\"name\":\"LAL : LeBron, Anthony On\",\"showlegend\":false,\"text\":[\"57.9\"],\"textfont\":{\"color\":\"#ffffff\",\"size\":20},\"textposition\":\"top right\",\"x\":[\"EFG%\"],\"y\":[0.9315952794461824],\"type\":\"scatter\"},{\"hovertemplate\":\"\\u003cb\\u003e%{text}\\u003c\\u002fb\\u003e\\u003cbr\\u003eNormalized: %{y:.2f}\\u003cbr\\u003e\\u003cextra\\u003e\\u003c\\u002fextra\\u003e\",\"marker\":{\"color\":\"#ff4d4d\",\"line\":{\"color\":\"#0A0A0A\",\"width\":3},\"opacity\":1,\"size\":21,\"symbol\":\"diamond\"},\"mode\":\"markers+text\",\"name\":\"LAL : LeBron, Anthony On\",\"showlegend\":false,\"text\":[\"73.7\"],\"textfont\":{\"color\":\"#ffffff\",\"size\":20},\"textposition\":\"top right\",\"x\":[\"Rim%\"],\"y\":[1.0],\"type\":\"scatter\"},{\"hovertemplate\":\"\\u003cb\\u003e%{text}\\u003c\\u002fb\\u003e\\u003cbr\\u003eNormalized: %{y:.2f}\\u003cbr\\u003e\\u003cextra\\u003e\\u003c\\u002fextra\\u003e\",\"marker\":{\"color\":\"#ff4d4d\",\"line\":{\"color\":\"#0A0A0A\",\"width\":3},\"opacity\":1,\"size\":21,\"symbol\":\"diamond\"},\"mode\":\"markers+text\",\"name\":\"LAL : LeBron, Anthony On\",\"showlegend\":false,\"text\":[\"12.2\"],\"textfont\":{\"color\":\"#ffffff\",\"size\":20},\"textposition\":\"top right\",\"x\":[\"TOV%\"],\"y\":[0.5289263560410453],\"type\":\"scatter\"},{\"hovertemplate\":\"\\u003cb\\u003e%{text}\\u003c\\u002fb\\u003e\\u003cbr\\u003eNormalized: %{y:.2f}\\u003cbr\\u003e\\u003cextra\\u003e\\u003c\\u002fextra\\u003e\",\"marker\":{\"color\":\"#ff4d4d\",\"line\":{\"color\":\"#0A0A0A\",\"width\":3},\"opacity\":1,\"size\":21,\"symbol\":\"diamond\"},\"mode\":\"markers+text\",\"name\":\"LAL : LeBron, Anthony On\",\"showlegend\":false,\"text\":[\"73.9\"],\"textfont\":{\"color\":\"#ffffff\",\"size\":20},\"textposition\":\"top right\",\"x\":[\"DREB%\"],\"y\":[0.8003384363426136],\"type\":\"scatter\"},{\"hovertemplate\":\"\\u003cb\\u003e%{text}\\u003c\\u002fb\\u003e\\u003cbr\\u003eNormalized: %{y:.2f}\\u003cbr\\u003e\\u003cextra\\u003e\\u003c\\u002fextra\\u003e\",\"marker\":{\"color\":\"#ff4d4d\",\"line\":{\"color\":\"#0A0A0A\",\"width\":3},\"opacity\":1,\"size\":21,\"symbol\":\"diamond\"},\"mode\":\"markers+text\",\"name\":\"LAL : LeBron, Anthony On\",\"showlegend\":false,\"text\":[\"23.6\"],\"textfont\":{\"color\":\"#ffffff\",\"size\":20},\"textposition\":\"top right\",\"x\":[\"OREB%\"],\"y\":[0.039374701934874246],\"type\":\"scatter\"},{\"hovertemplate\":\"\\u003cb\\u003e%{text}\\u003c\\u002fb\\u003e\\u003cbr\\u003eNormalized: %{y:.2f}\\u003cbr\\u003e\\u003cextra\\u003e\\u003c\\u002fextra\\u003e\",\"marker\":{\"color\":\"#ff7f0e\",\"line\":{\"color\":\"#0A0A0A\",\"width\":3},\"opacity\":1,\"size\":21,\"symbol\":\"diamond\"},\"mode\":\"markers+text\",\"name\":\"DEN : Nikola On\",\"showlegend\":true,\"text\":[\"124.0\"],\"textfont\":{\"color\":\"#ffffff\",\"size\":20},\"textposition\":\"top right\",\"x\":[\"Points\"],\"y\":[1.0],\"type\":\"scatter\"},{\"hovertemplate\":\"\\u003cb\\u003e%{text}\\u003c\\u002fb\\u003e\\u003cbr\\u003eNormalized: %{y:.2f}\\u003cbr\\u003e\\u003cextra\\u003e\\u003c\\u002fextra\\u003e\",\"marker\":{\"color\":\"#ff7f0e\",\"line\":{\"color\":\"#0A0A0A\",\"width\":3},\"opacity\":1,\"size\":21,\"symbol\":\"diamond\"},\"mode\":\"markers+text\",\"name\":\"DEN : Nikola On\",\"showlegend\":false,\"text\":[\"112.4\"],\"textfont\":{\"color\":\"#ffffff\",\"size\":20},\"textposition\":\"top right\",\"x\":[\"Opp Points\"],\"y\":[0.2616652147404288],\"type\":\"scatter\"},{\"hovertemplate\":\"\\u003cb\\u003e%{text}\\u003c\\u002fb\\u003e\\u003cbr\\u003eNormalized: %{y:.2f}\\u003cbr\\u003e\\u003cextra\\u003e\\u003c\\u002fextra\\u003e\",\"marker\":{\"color\":\"#ff7f0e\",\"line\":{\"color\":\"#0A0A0A\",\"width\":3},\"opacity\":1,\"size\":21,\"symbol\":\"diamond\"},\"mode\":\"markers+text\",\"name\":\"DEN : Nikola On\",\"showlegend\":false,\"text\":[\"21.0\"],\"textfont\":{\"color\":\"#ffffff\",\"size\":20},\"textposition\":\"top right\",\"x\":[\"FTA\"],\"y\":[0.3163950879743691],\"type\":\"scatter\"},{\"hovertemplate\":\"\\u003cb\\u003e%{text}\\u003c\\u002fb\\u003e\\u003cbr\\u003eNormalized: %{y:.2f}\\u003cbr\\u003e\\u003cextra\\u003e\\u003c\\u002fextra\\u003e\",\"marker\":{\"color\":\"#ff7f0e\",\"line\":{\"color\":\"#0A0A0A\",\"width\":3},\"opacity\":1,\"size\":21,\"symbol\":\"diamond\"},\"mode\":\"markers+text\",\"name\":\"DEN : Nikola On\",\"showlegend\":false,\"text\":[\"38.9\"],\"textfont\":{\"color\":\"#ffffff\",\"size\":20},\"textposition\":\"top right\",\"x\":[\"3P%\"],\"y\":[1.0000000000000009],\"type\":\"scatter\"},{\"hovertemplate\":\"\\u003cb\\u003e%{text}\\u003c\\u002fb\\u003e\\u003cbr\\u003eNormalized: %{y:.2f}\\u003cbr\\u003e\\u003cextra\\u003e\\u003c\\u002fextra\\u003e\",\"marker\":{\"color\":\"#ff7f0e\",\"line\":{\"color\":\"#0A0A0A\",\"width\":3},\"opacity\":1,\"size\":21,\"symbol\":\"diamond\"},\"mode\":\"markers+text\",\"name\":\"DEN : Nikola On\",\"showlegend\":false,\"text\":[\"32.5\"],\"textfont\":{\"color\":\"#ffffff\",\"size\":20},\"textposition\":\"top right\",\"x\":[\"Rim Freq\"],\"y\":[0.6886185462133732],\"type\":\"scatter\"},{\"hovertemplate\":\"\\u003cb\\u003e%{text}\\u003c\\u002fb\\u003e\\u003cbr\\u003eNormalized: %{y:.2f}\\u003cbr\\u003e\\u003cextra\\u003e\\u003c\\u002fextra\\u003e\",\"marker\":{\"color\":\"#ff7f0e\",\"line\":{\"color\":\"#0A0A0A\",\"width\":3},\"opacity\":1,\"size\":21,\"symbol\":\"diamond\"},\"mode\":\"markers+text\",\"name\":\"DEN : Nikola On\",\"showlegend\":false,\"text\":[\"58.4\"],\"textfont\":{\"color\":\"#ffffff\",\"size\":20},\"textposition\":\"top right\",\"x\":[\"EFG%\"],\"y\":[1.0],\"type\":\"scatter\"},{\"hovertemplate\":\"\\u003cb\\u003e%{text}\\u003c\\u002fb\\u003e\\u003cbr\\u003eNormalized: %{y:.2f}\\u003cbr\\u003e\\u003cextra\\u003e\\u003c\\u002fextra\\u003e\",\"marker\":{\"color\":\"#ff7f0e\",\"line\":{\"color\":\"#0A0A0A\",\"width\":3},\"opacity\":1,\"size\":21,\"symbol\":\"diamond\"},\"mode\":\"markers+text\",\"name\":\"DEN : Nikola On\",\"showlegend\":false,\"text\":[\"67.4\"],\"textfont\":{\"color\":\"#ffffff\",\"size\":20},\"textposition\":\"top right\",\"x\":[\"Rim%\"],\"y\":[0.5266432568843484],\"type\":\"scatter\"},{\"hovertemplate\":\"\\u003cb\\u003e%{text}\\u003c\\u002fb\\u003e\\u003cbr\\u003eNormalized: %{y:.2f}\\u003cbr\\u003e\\u003cextra\\u003e\\u003c\\u002fextra\\u003e\",\"marker\":{\"color\":\"#ff7f0e\",\"line\":{\"color\":\"#0A0A0A\",\"width\":3},\"opacity\":1,\"size\":21,\"symbol\":\"diamond\"},\"mode\":\"markers+text\",\"name\":\"DEN : Nikola On\",\"showlegend\":false,\"text\":[\"11.0\"],\"textfont\":{\"color\":\"#ffffff\",\"size\":20},\"textposition\":\"top right\",\"x\":[\"TOV%\"],\"y\":[0.08903388880345453],\"type\":\"scatter\"},{\"hovertemplate\":\"\\u003cb\\u003e%{text}\\u003c\\u002fb\\u003e\\u003cbr\\u003eNormalized: %{y:.2f}\\u003cbr\\u003e\\u003cextra\\u003e\\u003c\\u002fextra\\u003e\",\"marker\":{\"color\":\"#ff7f0e\",\"line\":{\"color\":\"#0A0A0A\",\"width\":3},\"opacity\":1,\"size\":21,\"symbol\":\"diamond\"},\"mode\":\"markers+text\",\"name\":\"DEN : Nikola On\",\"showlegend\":false,\"text\":[\"75.1\"],\"textfont\":{\"color\":\"#ffffff\",\"size\":20},\"textposition\":\"top right\",\"x\":[\"DREB%\"],\"y\":[0.9941940694384712],\"type\":\"scatter\"},{\"hovertemplate\":\"\\u003cb\\u003e%{text}\\u003c\\u002fb\\u003e\\u003cbr\\u003eNormalized: %{y:.2f}\\u003cbr\\u003e\\u003cextra\\u003e\\u003c\\u002fextra\\u003e\",\"marker\":{\"color\":\"#ff7f0e\",\"line\":{\"color\":\"#0A0A0A\",\"width\":3},\"opacity\":1,\"size\":21,\"symbol\":\"diamond\"},\"mode\":\"markers+text\",\"name\":\"DEN : Nikola On\",\"showlegend\":false,\"text\":[\"28.9\"],\"textfont\":{\"color\":\"#ffffff\",\"size\":20},\"textposition\":\"top right\",\"x\":[\"OREB%\"],\"y\":[0.5857977556738359],\"type\":\"scatter\"}],                        {\"template\":{\"data\":{\"histogram2dcontour\":[{\"type\":\"histogram2dcontour\",\"colorbar\":{\"outlinewidth\":0,\"ticks\":\"\"},\"colorscale\":[[0.0,\"#0d0887\"],[0.1111111111111111,\"#46039f\"],[0.2222222222222222,\"#7201a8\"],[0.3333333333333333,\"#9c179e\"],[0.4444444444444444,\"#bd3786\"],[0.5555555555555556,\"#d8576b\"],[0.6666666666666666,\"#ed7953\"],[0.7777777777777778,\"#fb9f3a\"],[0.8888888888888888,\"#fdca26\"],[1.0,\"#f0f921\"]]}],\"choropleth\":[{\"type\":\"choropleth\",\"colorbar\":{\"outlinewidth\":0,\"ticks\":\"\"}}],\"histogram2d\":[{\"type\":\"histogram2d\",\"colorbar\":{\"outlinewidth\":0,\"ticks\":\"\"},\"colorscale\":[[0.0,\"#0d0887\"],[0.1111111111111111,\"#46039f\"],[0.2222222222222222,\"#7201a8\"],[0.3333333333333333,\"#9c179e\"],[0.4444444444444444,\"#bd3786\"],[0.5555555555555556,\"#d8576b\"],[0.6666666666666666,\"#ed7953\"],[0.7777777777777778,\"#fb9f3a\"],[0.8888888888888888,\"#fdca26\"],[1.0,\"#f0f921\"]]}],\"heatmap\":[{\"type\":\"heatmap\",\"colorbar\":{\"outlinewidth\":0,\"ticks\":\"\"},\"colorscale\":[[0.0,\"#0d0887\"],[0.1111111111111111,\"#46039f\"],[0.2222222222222222,\"#7201a8\"],[0.3333333333333333,\"#9c179e\"],[0.4444444444444444,\"#bd3786\"],[0.5555555555555556,\"#d8576b\"],[0.6666666666666666,\"#ed7953\"],[0.7777777777777778,\"#fb9f3a\"],[0.8888888888888888,\"#fdca26\"],[1.0,\"#f0f921\"]]}],\"heatmapgl\":[{\"type\":\"heatmapgl\",\"colorbar\":{\"outlinewidth\":0,\"ticks\":\"\"},\"colorscale\":[[0.0,\"#0d0887\"],[0.1111111111111111,\"#46039f\"],[0.2222222222222222,\"#7201a8\"],[0.3333333333333333,\"#9c179e\"],[0.4444444444444444,\"#bd3786\"],[0.5555555555555556,\"#d8576b\"],[0.6666666666666666,\"#ed7953\"],[0.7777777777777778,\"#fb9f3a\"],[0.8888888888888888,\"#fdca26\"],[1.0,\"#f0f921\"]]}],\"contourcarpet\":[{\"type\":\"contourcarpet\",\"colorbar\":{\"outlinewidth\":0,\"ticks\":\"\"}}],\"contour\":[{\"type\":\"contour\",\"colorbar\":{\"outlinewidth\":0,\"ticks\":\"\"},\"colorscale\":[[0.0,\"#0d0887\"],[0.1111111111111111,\"#46039f\"],[0.2222222222222222,\"#7201a8\"],[0.3333333333333333,\"#9c179e\"],[0.4444444444444444,\"#bd3786\"],[0.5555555555555556,\"#d8576b\"],[0.6666666666666666,\"#ed7953\"],[0.7777777777777778,\"#fb9f3a\"],[0.8888888888888888,\"#fdca26\"],[1.0,\"#f0f921\"]]}],\"surface\":[{\"type\":\"surface\",\"colorbar\":{\"outlinewidth\":0,\"ticks\":\"\"},\"colorscale\":[[0.0,\"#0d0887\"],[0.1111111111111111,\"#46039f\"],[0.2222222222222222,\"#7201a8\"],[0.3333333333333333,\"#9c179e\"],[0.4444444444444444,\"#bd3786\"],[0.5555555555555556,\"#d8576b\"],[0.6666666666666666,\"#ed7953\"],[0.7777777777777778,\"#fb9f3a\"],[0.8888888888888888,\"#fdca26\"],[1.0,\"#f0f921\"]]}],\"mesh3d\":[{\"type\":\"mesh3d\",\"colorbar\":{\"outlinewidth\":0,\"ticks\":\"\"}}],\"scatter\":[{\"fillpattern\":{\"fillmode\":\"overlay\",\"size\":10,\"solidity\":0.2},\"type\":\"scatter\"}],\"parcoords\":[{\"type\":\"parcoords\",\"line\":{\"colorbar\":{\"outlinewidth\":0,\"ticks\":\"\"}}}],\"scatterpolargl\":[{\"type\":\"scatterpolargl\",\"marker\":{\"colorbar\":{\"outlinewidth\":0,\"ticks\":\"\"}}}],\"bar\":[{\"error_x\":{\"color\":\"#2a3f5f\"},\"error_y\":{\"color\":\"#2a3f5f\"},\"marker\":{\"line\":{\"color\":\"#E5ECF6\",\"width\":0.5},\"pattern\":{\"fillmode\":\"overlay\",\"size\":10,\"solidity\":0.2}},\"type\":\"bar\"}],\"scattergeo\":[{\"type\":\"scattergeo\",\"marker\":{\"colorbar\":{\"outlinewidth\":0,\"ticks\":\"\"}}}],\"scatterpolar\":[{\"type\":\"scatterpolar\",\"marker\":{\"colorbar\":{\"outlinewidth\":0,\"ticks\":\"\"}}}],\"histogram\":[{\"marker\":{\"pattern\":{\"fillmode\":\"overlay\",\"size\":10,\"solidity\":0.2}},\"type\":\"histogram\"}],\"scattergl\":[{\"type\":\"scattergl\",\"marker\":{\"colorbar\":{\"outlinewidth\":0,\"ticks\":\"\"}}}],\"scatter3d\":[{\"type\":\"scatter3d\",\"line\":{\"colorbar\":{\"outlinewidth\":0,\"ticks\":\"\"}},\"marker\":{\"colorbar\":{\"outlinewidth\":0,\"ticks\":\"\"}}}],\"scattermapbox\":[{\"type\":\"scattermapbox\",\"marker\":{\"colorbar\":{\"outlinewidth\":0,\"ticks\":\"\"}}}],\"scatterternary\":[{\"type\":\"scatterternary\",\"marker\":{\"colorbar\":{\"outlinewidth\":0,\"ticks\":\"\"}}}],\"scattercarpet\":[{\"type\":\"scattercarpet\",\"marker\":{\"colorbar\":{\"outlinewidth\":0,\"ticks\":\"\"}}}],\"carpet\":[{\"aaxis\":{\"endlinecolor\":\"#2a3f5f\",\"gridcolor\":\"white\",\"linecolor\":\"white\",\"minorgridcolor\":\"white\",\"startlinecolor\":\"#2a3f5f\"},\"baxis\":{\"endlinecolor\":\"#2a3f5f\",\"gridcolor\":\"white\",\"linecolor\":\"white\",\"minorgridcolor\":\"white\",\"startlinecolor\":\"#2a3f5f\"},\"type\":\"carpet\"}],\"table\":[{\"cells\":{\"fill\":{\"color\":\"#EBF0F8\"},\"line\":{\"color\":\"white\"}},\"header\":{\"fill\":{\"color\":\"#C8D4E3\"},\"line\":{\"color\":\"white\"}},\"type\":\"table\"}],\"barpolar\":[{\"marker\":{\"line\":{\"color\":\"#E5ECF6\",\"width\":0.5},\"pattern\":{\"fillmode\":\"overlay\",\"size\":10,\"solidity\":0.2}},\"type\":\"barpolar\"}],\"pie\":[{\"automargin\":true,\"type\":\"pie\"}]},\"layout\":{\"autotypenumbers\":\"strict\",\"colorway\":[\"#636efa\",\"#EF553B\",\"#00cc96\",\"#ab63fa\",\"#FFA15A\",\"#19d3f3\",\"#FF6692\",\"#B6E880\",\"#FF97FF\",\"#FECB52\"],\"font\":{\"color\":\"#2a3f5f\"},\"hovermode\":\"closest\",\"hoverlabel\":{\"align\":\"left\"},\"paper_bgcolor\":\"white\",\"plot_bgcolor\":\"#E5ECF6\",\"polar\":{\"bgcolor\":\"#E5ECF6\",\"angularaxis\":{\"gridcolor\":\"white\",\"linecolor\":\"white\",\"ticks\":\"\"},\"radialaxis\":{\"gridcolor\":\"white\",\"linecolor\":\"white\",\"ticks\":\"\"}},\"ternary\":{\"bgcolor\":\"#E5ECF6\",\"aaxis\":{\"gridcolor\":\"white\",\"linecolor\":\"white\",\"ticks\":\"\"},\"baxis\":{\"gridcolor\":\"white\",\"linecolor\":\"white\",\"ticks\":\"\"},\"caxis\":{\"gridcolor\":\"white\",\"linecolor\":\"white\",\"ticks\":\"\"}},\"coloraxis\":{\"colorbar\":{\"outlinewidth\":0,\"ticks\":\"\"}},\"colorscale\":{\"sequential\":[[0.0,\"#0d0887\"],[0.1111111111111111,\"#46039f\"],[0.2222222222222222,\"#7201a8\"],[0.3333333333333333,\"#9c179e\"],[0.4444444444444444,\"#bd3786\"],[0.5555555555555556,\"#d8576b\"],[0.6666666666666666,\"#ed7953\"],[0.7777777777777778,\"#fb9f3a\"],[0.8888888888888888,\"#fdca26\"],[1.0,\"#f0f921\"]],\"sequentialminus\":[[0.0,\"#0d0887\"],[0.1111111111111111,\"#46039f\"],[0.2222222222222222,\"#7201a8\"],[0.3333333333333333,\"#9c179e\"],[0.4444444444444444,\"#bd3786\"],[0.5555555555555556,\"#d8576b\"],[0.6666666666666666,\"#ed7953\"],[0.7777777777777778,\"#fb9f3a\"],[0.8888888888888888,\"#fdca26\"],[1.0,\"#f0f921\"]],\"diverging\":[[0,\"#8e0152\"],[0.1,\"#c51b7d\"],[0.2,\"#de77ae\"],[0.3,\"#f1b6da\"],[0.4,\"#fde0ef\"],[0.5,\"#f7f7f7\"],[0.6,\"#e6f5d0\"],[0.7,\"#b8e186\"],[0.8,\"#7fbc41\"],[0.9,\"#4d9221\"],[1,\"#276419\"]]},\"xaxis\":{\"gridcolor\":\"white\",\"linecolor\":\"white\",\"ticks\":\"\",\"title\":{\"standoff\":15},\"zerolinecolor\":\"white\",\"automargin\":true,\"zerolinewidth\":2},\"yaxis\":{\"gridcolor\":\"white\",\"linecolor\":\"white\",\"ticks\":\"\",\"title\":{\"standoff\":15},\"zerolinecolor\":\"white\",\"automargin\":true,\"zerolinewidth\":2},\"scene\":{\"xaxis\":{\"backgroundcolor\":\"#E5ECF6\",\"gridcolor\":\"white\",\"linecolor\":\"white\",\"showbackground\":true,\"ticks\":\"\",\"zerolinecolor\":\"white\",\"gridwidth\":2},\"yaxis\":{\"backgroundcolor\":\"#E5ECF6\",\"gridcolor\":\"white\",\"linecolor\":\"white\",\"showbackground\":true,\"ticks\":\"\",\"zerolinecolor\":\"white\",\"gridwidth\":2},\"zaxis\":{\"backgroundcolor\":\"#E5ECF6\",\"gridcolor\":\"white\",\"linecolor\":\"white\",\"showbackground\":true,\"ticks\":\"\",\"zerolinecolor\":\"white\",\"gridwidth\":2}},\"shapedefaults\":{\"line\":{\"color\":\"#2a3f5f\"}},\"annotationdefaults\":{\"arrowcolor\":\"#2a3f5f\",\"arrowhead\":0,\"arrowwidth\":1},\"geo\":{\"bgcolor\":\"white\",\"landcolor\":\"#E5ECF6\",\"subunitcolor\":\"white\",\"showland\":true,\"showlakes\":true,\"lakecolor\":\"white\"},\"title\":{\"x\":0.05},\"mapbox\":{\"style\":\"light\"}}},\"title\":{\"font\":{\"size\":24,\"color\":\"#ffffff\"},\"text\":\"NBA Beeswarm Comparison 2024-2024\",\"x\":0.5,\"y\":0.99},\"yaxis\":{\"title\":{\"font\":{\"size\":16,\"color\":\"#ffffff\"},\"text\":\"Normalized Value\"},\"showticklabels\":false,\"showgrid\":false,\"gridcolor\":\"rgba(255, 255, 255, 0.1)\",\"zeroline\":true,\"zerolinecolor\":\"rgba(255, 255, 255, 0.1)\",\"range\":[-0.1,1.1]},\"xaxis\":{\"tickfont\":{\"color\":\"#ffffff\",\"size\":14},\"gridcolor\":\"rgba(255, 255, 255, 0.1)\",\"showgrid\":false,\"categoryorder\":\"array\",\"categoryarray\":[\"Points\",\"Opp Points\",\"FTA\",\"3P%\",\"Rim Freq\",\"EFG%\",\"Rim%\",\"TOV%\",\"DREB%\",\"OREB%\"],\"tickangle\":-45},\"legend\":{\"font\":{\"color\":\"#ffffff\",\"size\":16},\"bgcolor\":\"#1a1a1a\",\"orientation\":\"h\",\"yanchor\":\"bottom\",\"y\":1.02,\"xanchor\":\"center\",\"x\":0.5},\"width\":1600,\"height\":1000,\"showlegend\":true,\"plot_bgcolor\":\"#1a1a1a\",\"paper_bgcolor\":\"#1a1a1a\",\"hovermode\":\"closest\"},                        {\"responsive\": true}                    ).then(function(){\n",
       "                            \n",
       "var gd = document.getElementById('6d4e2fb1-87be-419c-b22b-2062a5b53b06');\n",
       "var x = new MutationObserver(function (mutations, observer) {{\n",
       "        var display = window.getComputedStyle(gd).display;\n",
       "        if (!display || display === 'none') {{\n",
       "            console.log([gd, 'removed!']);\n",
       "            Plotly.purge(gd);\n",
       "            observer.disconnect();\n",
       "        }}\n",
       "}});\n",
       "\n",
       "// Listen for the removal of the full notebook cells\n",
       "var notebookContainer = gd.closest('#notebook-container');\n",
       "if (notebookContainer) {{\n",
       "    x.observe(notebookContainer, {childList: true});\n",
       "}}\n",
       "\n",
       "// Listen for the clearing of the current output cell\n",
       "var outputEl = gd.closest('.output');\n",
       "if (outputEl) {{\n",
       "    x.observe(outputEl, {childList: true});\n",
       "}}\n",
       "\n",
       "                        })                };                });            </script>        </div>"
      ]
     },
     "metadata": {},
     "output_type": "display_data"
    }
   ],
   "source": [
    "\n",
    "def graph_lineupsplits(start_year, end_year, players_on_list, players_off_list, team_list, vs, ps):\n",
    "    # Ensure inputs are lists\n",
    "    if not isinstance(players_on_list, list):\n",
    "        players_on_list = [players_on_list]\n",
    "    if not isinstance(players_off_list, list):\n",
    "        players_off_list = [players_off_list]\n",
    "    if not isinstance(team_list, list):\n",
    "        team_list = [team_list]\n",
    "    \n",
    "    # Make all lists the same length by filling missing elements with defaults\n",
    "    max_length = max(len(players_on_list), len(players_off_list), len(team_list))\n",
    "    players_on_list += [[]] * (max_length - len(players_on_list))  # Fill with empty lists\n",
    "    players_off_list += [[]] * (max_length - len(players_off_list))  # Fill with empty lists\n",
    "    team_list += [team_list[-1]] * (max_length - len(team_list))  # Repeat the last team if needed\n",
    "    \n",
    "    # Initialize an empty DataFrame to hold all data\n",
    "    frames = []\n",
    "    \n",
    "    # Iterate through all combinations of inputs\n",
    "    for players_on, players_off, team in zip(players_on_list, players_off_list, team_list):\n",
    "        team_id = team_dict(team)\n",
    "\n",
    "        # Get player and team data\n",
    "        row = player_rows(start_year, end_year, players_on, players_off, team_id, vs=vs)\n",
    "        if row.empty:\n",
    "            continue  # Skip if no data returned\n",
    "\n",
    "        # Trim and annotate data\n",
    "        row = trim_frame(row)\n",
    "        row['team'] = team\n",
    "        row['lineup_row'] = 1\n",
    "\n",
    "        # Add to frames\n",
    "        frames.append(row)\n",
    "    \n",
    "    # Get team averages and process\n",
    "    teams = team_averages(start_year, end_year, vs=vs, ps=ps)\n",
    "    teams = trim_frame(teams)\n",
    "    teams['team'] = teams['Name']\n",
    "    teams['lineup_row'] = 0\n",
    "    frames.append(teams)\n",
    "\n",
    "    # Combine all data\n",
    "    all_data = pd.concat(frames, ignore_index=True)\n",
    "\n",
    "    # Process columns\n",
    "    columns = [\n",
    "        'Points', 'Opp Points', 'FTA',\n",
    "        '3P%',\n",
    "        'Rim Freq', 'EFG%',\n",
    "        'Rim%', 'TOV%',\n",
    "        'DREB%', 'OREB%'\n",
    "    ]\n",
    "    exclude = ['Points', 'Opp Points', '3P Assists', 'Rim Assists', 'FTA']\n",
    "    for col in columns:\n",
    "        if col not in exclude:\n",
    "            all_data[col] *= 100\n",
    "\n",
    "    # Create visualization for all data\n",
    "    print(all_data)\n",
    "    fig = create_nba_beeswarm(team_list, start_year, end_year, all_data, categories=columns, vs=vs, ps=ps)\n",
    "    return fig\n",
    "\n",
    "# Example Input\n",
    "players_on_list = [['2544','203076'], ['203999']]\n",
    "players_off_list = [[], []]\n",
    "team_list = ['LAL', 'DEN']\n",
    "vs = False\n",
    "ps = False\n",
    "start_year = 2023\n",
    "end_year = 2024\n",
    "\n",
    "# Generate figure\n",
    "fig = graph_lineupsplits(start_year, end_year, players_on_list, players_off_list, team_list, vs, ps)\n",
    "fig.show()"
   ]
  },
  {
   "cell_type": "code",
   "execution_count": null,
   "id": "90e64111-bfa0-457c-aee0-73e7cbe5ec45",
   "metadata": {},
   "outputs": [],
   "source": []
  },
  {
   "cell_type": "code",
   "execution_count": null,
   "id": "56f56601-0cd8-44c5-8b78-174aa753186d",
   "metadata": {},
   "outputs": [],
   "source": []
  },
  {
   "cell_type": "code",
   "execution_count": null,
   "id": "8f82ea78-b6a4-4880-9c45-8291da7baa43",
   "metadata": {},
   "outputs": [],
   "source": []
  },
  {
   "cell_type": "code",
   "execution_count": null,
   "id": "da418550-a74b-4fef-9526-923195a4a445",
   "metadata": {},
   "outputs": [],
   "source": []
  },
  {
   "cell_type": "code",
   "execution_count": null,
   "id": "5ca85d0a-7d1d-4634-aaa3-4723fc6bac49",
   "metadata": {},
   "outputs": [],
   "source": []
  }
 ],
 "metadata": {
  "kernelspec": {
   "display_name": "Python 3 (ipykernel)",
   "language": "python",
   "name": "python3"
  },
  "language_info": {
   "codemirror_mode": {
    "name": "ipython",
    "version": 3
   },
   "file_extension": ".py",
   "mimetype": "text/x-python",
   "name": "python",
   "nbconvert_exporter": "python",
   "pygments_lexer": "ipython3",
   "version": "3.10.12"
  }
 },
 "nbformat": 4,
 "nbformat_minor": 5
}
