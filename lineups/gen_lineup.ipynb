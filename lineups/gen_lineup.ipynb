{
 "cells": [
  {
   "cell_type": "code",
   "execution_count": 1,
   "id": "5d184551-ddf0-4254-be51-8f0cb191e984",
   "metadata": {},
   "outputs": [],
   "source": [
    "import pandas as pd\n",
    "import pandas as pd\n",
    "import numpy as np\n",
    "from nba_api.stats.static import players\n",
    "\n",
    "import time \n",
    "import plotly.graph_objects as go\n",
    "import pandas as pd\n",
    "import numpy as np\n",
    "from sklearn.preprocessing import MinMaxScaler\n",
    "import json\n",
    "def get_colors():\n",
    "    path = 'colors.json'\n",
    "    f = open(path)\n",
    "\n",
    "    # returns JSON object as \n",
    "    # a dictionary\n",
    "    data = json.load(f)\n",
    "    team_colors = {}\n",
    "    for team in data:\n",
    "        obj = data[team]\n",
    "        color = obj['mainColor']\n",
    "        color_hex = obj['colors'][color]['hex']\n",
    "        team_colors[team]=color_hex\n",
    "    team_colors['PHX']= '#e56020',\n",
    "    second_colors = {}\n",
    "    for team in data:\n",
    "        obj = data[team]\n",
    "        color = obj['secondaryColor']\n",
    "        color_hex = obj['colors'][color]['hex']\n",
    "        second_colors[team]=color_hex\n",
    "    second_colors['PHX']= '#1d1160',\n",
    "\n",
    "    temp = team_colors['BKN']\n",
    "\n",
    "    team_colors['BKN'] = second_colors['BKN']\n",
    "    second_colors['BKN'] = temp\n",
    "    return team_colors,second_colors\n",
    "\n",
    "def team_dict(team):\n",
    "\n",
    "    map={'SYR': '1610612755',\n",
    "     'PHW': '1610612744',\n",
    "     'NYK': '1610612752',\n",
    "     'STL': '1610612737',\n",
    "     'ROC': '1610612758',\n",
    "     'BOS': '1610612738',\n",
    "     'FTW': '1610612765',\n",
    "     'MNL': '1610612747',\n",
    "     'TOT': 'TOT',\n",
    "     'DET': '1610612765',\n",
    "     'CIN': '1610612758',\n",
    "     'LAL': '1610612747',\n",
    "     'CHP': '1610612741',\n",
    "     'SFW': '1610612744',\n",
    "     'CHZ': '1610612741',\n",
    "     'BAL': '1610612764',\n",
    "     'PHI': '1610612755',\n",
    "     'CHI': '1610612741',\n",
    "     'SDR': '1610612745',\n",
    "     'SEA': '1610612760',\n",
    "     'MIL': '1610612749',\n",
    "     'ATL': '1610612737',\n",
    "     'PHO': '1610612756',\n",
    "     'POR': '1610612757',\n",
    "     'CLE': '1610612739',\n",
    "     'BUF': '1610612761',\n",
    "     'HOU': '1610612745',\n",
    "     'GSW': '1610612744',\n",
    "     'KCO': '1610612758',\n",
    "     'CAP': '1610612764',\n",
    "     'NOJ': '1610612762',\n",
    "     'WSB': '1610612764',\n",
    "     'KCK': '1610612758',\n",
    "     'IND': '1610612754',\n",
    "     'NYN': '1610612751',\n",
    "     'DEN': '1610612743',\n",
    "     'SAS': '1610612759',\n",
    "     'NJN': '1610612751',\n",
    "     'SDC': '1610612746',\n",
    "     'UTA': '1610612762',\n",
    "     'DAL': '1610612742',\n",
    "     'LAC': '1610612746',\n",
    "     'SAC': '1610612758',\n",
    "     'CHH': '1610612766',\n",
    "     'MIA': '1610612748',\n",
    "     'ORL': '1610612753',\n",
    "     'MIN': '1610612750',\n",
    "     'VAN': '1610612763',\n",
    "     'TOR': '1610612761',\n",
    "     'WAS': '1610612764',\n",
    "     'MEM': '1610612763',\n",
    "     'NOH': '1610612740',\n",
    "     'CHA': '1610612766',\n",
    "     'NOK': '1610612740',\n",
    "     'OKC': '1610612760',\n",
    "     'BRK': '1610612751',\n",
    "     'NOP': '1610612740',\n",
    "     'CHO': '1610612766',\n",
    "     'PHX': '1610612756'}\n",
    "    return map[team]\n",
    "\n",
    "def calculate_basketball_percentages(df):\n",
    "    \"\"\"\n",
    "    Calculate basketball percentage statistics from raw totals.\n",
    "    \n",
    "    Args:\n",
    "        df (pandas.DataFrame): DataFrame containing the raw totals columns\n",
    "        \n",
    "    Returns:\n",
    "        pandas.DataFrame: DataFrame with added percentage columns\n",
    "    \"\"\"\n",
    "    # Make a copy to avoid modifying the original\n",
    "    result = df.copy()\n",
    "    \n",
    "    # Basic shooting percentages\n",
    "    result['Fg3Pct'] = (result['FG3M'] / result['FG3A'] * 1).fillna(0)\n",
    "    result['Fg2Pct'] = (result['FG2M'] / result['FG2A'] * 1).fillna(0)\n",
    "    result['FGA'] = (result['FG2A'] + result['FG3A'])\n",
    "    result['PenaltyFGA'] = (result['PenaltyFG2A'] + result['PenaltyFG3A'])\n",
    "    result['SecondChanceFGA'] = (result['SecondChanceFG2A'] + result['SecondChanceFG3A'])\n",
    "\n",
    "    result['FGA']= result['FG2A']+result['FG3A']\n",
    "    result['FGM']= result['FG2M']+result['FG3M']\n",
    "    result['NonHeaveFg3Pct'] = (result['FG3M'] / (result['FG3A']-result['HeaveAttempts']) * 1).fillna(0)\n",
    "    \n",
    "    # Advanced shooting percentages\n",
    "    result['EfgPct'] = ((result['FG2M'] + 1.5 * result['FG3M']) / (result['FG2A'] + result['FG3A']) * 1).fillna(0)\n",
    "    # Assuming you have a DataFrame named result with the necessary columns\n",
    "    \n",
    "    # Step 1: Extract relevant columns for easier calculations\n",
    "    points = result['Points']\n",
    "    fga = result['FGA']\n",
    "    fta = result['FTA']\n",
    "    and1_2pt = result['2pt And 1 Free Throw Trips']\n",
    "    and1_3pt = result['3pt And 1 Free Throw Trips']\n",
    "    \n",
    "    # Step 2: Calculate the adjusted free throw weighting factor\n",
    "    w = (and1_2pt + 1.5 * and1_3pt + 0.44 * (fta - and1_2pt - and1_3pt)) / fta\n",
    "    \n",
    "    # Step 3: Calculate True Shooting Percentage (TS%) and add to result DataFrame\n",
    "    result['TsPct'] = points / (2 * (fga + w * fta))\n",
    "    \n",
    "    # The 'TS%' column in the result DataFrame now contains the calculated TS% values\n",
    "\n",
    "    #result['TsPct'] = (result['Points'] / (2 * (result['FG2A'] + result['FG3A'] + 0.44 * result['FTA'])) * 1).fillna(0)\n",
    "    \n",
    "    # Second chance percentages\n",
    "    result['SecondChanceFg3Pct'] = (result['SecondChanceFG3M'] / result['SecondChanceFG3A'] * 1).fillna(0)\n",
    "    result['SecondChanceFg2Pct'] = (result['SecondChanceFG2M'] / result['SecondChanceFG2A'] * 1).fillna(0)\n",
    "    result['SecondChanceEfgPct'] = ((result['SecondChanceFG2M'] + 1.5 * result['SecondChanceFG3M']) / \n",
    "                                   (result['SecondChanceFG2A'] + result['SecondChanceFG3A']) * 1).fillna(0)\n",
    "    result['SecondChanceTsPct'] = (result['SecondChancePoints'] / \n",
    "                                  (2 * (result['SecondChanceFG2A'] + result['SecondChanceFG3A'])) * 1).fillna(0)\n",
    "\n",
    "    \n",
    "    result['SecondChancePointsPct'] = (result['SecondChancePoints'] / result['Points'] * 1).fillna(0)\n",
    "    \n",
    "    # Shot distribution\n",
    "    result['FG3APct'] = (result['FG3A'] / (result['FG2A'] + result['FG3A']) * 1).fillna(0)\n",
    "    \n",
    "    result['FG2APctBlocked'] = (result['Fg2aBlocked'] / result['FG2A'] * 1).fillna(0)\n",
    "    result['AtRimPctBlocked'] = (result['opp_BlockedAtRim'] / result['AtRimFGA'] * 1).fillna(0)\n",
    "    result['LongMidRangePctBlocked'] = (result['opp_BlockedLongMidRange'] / result['LongMidRangeFGA'] * 1).fillna(0)\n",
    "    result['ShortMidRangePctBlocked'] = (result['opp_BlockedShortMidRange'] / result['ShortMidRangeFGA'] * 1).fillna(0)\n",
    "    result['FG3APctBlocked'] = (result['Fg3aBlocked'] / result['FG3A'] * 1).fillna(0)\n",
    "    result['Corner3PctBlocked'] = (result['Blocked3s'] / result['Corner3FGA'] * 1).fillna(0)\n",
    "    result['Arc3PctBlocked'] = (result['Blocked3s'] / result['Arc3FGA'] * 1).fillna(0)\n",
    "    \n",
    "    # Rebound percentages - Field Goals (corrected to be relative to missed shots)\n",
    "    result['DefFGReboundPct'] = (result['DefRebounds'] / (result['opp_FG2A'] - result['opp_FG2M'] + result['opp_FG3A'] - result['opp_FG3M']) * 1).fillna(0)\n",
    "    result['OffFGReboundPct'] = (result['OffRebounds'] / (result['FG2A'] - result['FG2M'] + result['FG3A'] - result['FG3M']) * 1).fillna(0)\n",
    "    \n",
    "    # Rebound percentages by shot location (corrected to be relative to missed shots of that type)\n",
    "    result['OffLongMidRangeReboundPct'] = (result['OffTwoPtRebounds'] / (result['LongMidRangeFGA'] - result['LongMidRangeFGM']) * 1).fillna(0)\n",
    "    result['DefLongMidRangeReboundPct'] = (result['DefTwoPtRebounds'] / (result['LongMidRangeFGA'] - result['LongMidRangeFGM']) * 1).fillna(0)\n",
    "    result['DefArc3ReboundPct'] = (result['DefThreePtRebounds'] / (result['Arc3FGA'] - result['Arc3FGM']) * 1).fillna(0)\n",
    "    result['OffArc3ReboundPct'] = (result['OffThreePtRebounds'] / (result['Arc3FGA'] - result['Arc3FGM']) * 1).fillna(0)\n",
    "    result['DefAtRimReboundPct'] = (result['DefTwoPtRebounds'] / (result['AtRimFGA'] - result['AtRimFGM']) * 1).fillna(0)\n",
    "    result['OffAtRimReboundPct'] = (result['OffTwoPtRebounds'] / (result['AtRimFGA'] - result['AtRimFGM']) * 1).fillna(0)\n",
    "    result['DefShortMidRangeReboundPct'] = (result['DefTwoPtRebounds'] / (result['ShortMidRangeFGA'] - result['ShortMidRangeFGM']) * 1).fillna(0)\n",
    "    result['OffShortMidRangeReboundPct'] = (result['OffTwoPtRebounds'] / (result['ShortMidRangeFGA'] - result['ShortMidRangeFGM']) * 1).fillna(0)\n",
    "    result['DefCorner3ReboundPct'] = (result['DefThreePtRebounds'] / (result['Corner3FGA'] - result['Corner3FGM']) * 1).fillna(0)\n",
    "    result['OffCorner3ReboundPct'] = (result['OffThreePtRebounds'] / (result['Corner3FGA'] - result['Corner3FGM']) * 1).fillna(0)\n",
    "    \n",
    "    # Free throw rebound percentages (corrected to be relative to FT misses)\n",
    "\n",
    "    # Assist percentages\n",
    "    result['Assisted2sPct'] = (result['PtsAssisted2s'] / (2 * result['FG2M']) * 1).fillna(0)\n",
    "    result['Assisted3sPct'] = (result['PtsAssisted3s'] / (3 * result['FG3M']) * 1).fillna(0)\n",
    "    result['NonPutbacksAssisted2sPct'] = (result['PtsAssisted2s'] / (2 * (result['FG2M'] - result['PtsPutbacks']/2)) * 1).fillna(0)\n",
    "    result['Corner3PctAssisted'] = (result['Corner3Assists'] / result['Corner3FGM'] * 1).fillna(0)\n",
    "    result['Arc3PctAssisted'] = (result['Arc3Assists'] / result['Arc3FGM'] * 1).fillna(0)\n",
    "    result['SecondChanceCorner3PctAssisted'] = (result['Corner3Assists'] / result['SecondChanceCorner3FGM'] * 1).fillna(0)\n",
    "    result['SecondChanceArc3PctAssisted'] = (result['Arc3Assists'] / result['SecondChanceArc3FGM'] * 1).fillna(0)\n",
    "    result['SecondChanceAtRimPctAssisted'] = (result['AtRimAssists'] / result['SecondChanceAtRimFGM'] * 1).fillna(0)\n",
    "    result['AtRimPctAssisted'] = (result['AtRimAssists'] / result['AtRimFGM'] * 1).fillna(0)\n",
    "    result['ShortMidRangePctAssisted'] = (result['ShortMidRangeAssists'] / result['ShortMidRangeFGM'] * 1).fillna(0)\n",
    "    result['LongMidRangePctAssisted'] = (result['LongMidRangeAssists'] / result['LongMidRangeFGM'] * 1).fillna(0)\n",
    "    \n",
    "    # Penalty percentages\n",
    "    result['PenaltyPointsPct'] = (result['PenaltyPoints'] / result['Points'] * 1).fillna(0)\n",
    "    result['PenaltyOffPossPct'] = (result['PenaltyOffPoss'] / result['OffPoss'] * 1).fillna(0)\n",
    "    result['PenaltyFg2Pct'] = (result['PenaltyFG2M'] / result['PenaltyFG2A'] * 1).fillna(0)\n",
    "    result['PenaltyFg3Pct'] = (result['PenaltyFG3M'] / result['PenaltyFG3A'] * 1).fillna(0)\n",
    "    result['PenaltyEfgPct'] = ((result['PenaltyFG2M'] + 1.5 * result['PenaltyFG3M']) / \n",
    "                              (result['PenaltyFG2A'] + result['PenaltyFG3A']) * 1).fillna(0)\n",
    "    result['PenaltyTsPct'] = (result['PenaltyPoints'] / \n",
    "                             (2 * (result['PenaltyFG2A'] + result['PenaltyFG3A'] + 0.44 * result['FTA'])) * 1).fillna(0)\n",
    "    \n",
    "    # Miscellaneous percentages\n",
    "    result['BlocksRecoveredPct'] = (result['RecoveredBlocks'] / result['Blocks'] * 1).fillna(0)\n",
    "    result['LiveBallTurnoverPct'] = (result['LiveBallTurnovers'] / result['Turnovers'] * 1).fillna(0)\n",
    "    result['SelfORebPct'] = (result['SelfOReb'] /(result['FGA']- result['FGM']) * 1).fillna(0)\n",
    "    \n",
    "    # Fouls percentages\n",
    "    total_shooting_fouls = result['TwoPtShootingFoulsDrawn'] + result['ThreePtShootingFoulsDrawn']\n",
    "    result['ShootingFoulsDrawnPct'] = (result['ShootingFouls'] / (result['FG2A']+result['FG3A']) * 1).fillna(0)\n",
    "    result['TwoPtShootingFoulsDrawnPct'] = ((result['TwoPtShootingFoulsDrawn'])/ (result['FG2A']+result['2pt And 1 Free Throw Trips'])* 1).fillna(0)\n",
    "    result['ThreePtShootingFoulsDrawnPct'] = (result['ThreePtShootingFoulsDrawn'] / result['FG3A'] * 1).fillna(0)\n",
    "    total_def_rebounds = result['DefTwoPtRebounds'] + result['DefThreePtRebounds']\n",
    "    total_off_rebounds = result['OffTwoPtRebounds'] + result['OffThreePtRebounds']\n",
    "    result['ThreePtShootingFoulsDrawnPct'] = result['ThreePtShootingFoulsDrawn'] / result['FG3A'] * 1\n",
    "    \n",
    "    result['DefTwoPtReboundPct'] = (result['DefTwoPtRebounds'] / total_def_rebounds * 1).fillna(0)\n",
    "    result['DefThreePtReboundPct'] = (result['DefThreePtRebounds'] / total_def_rebounds * 1).fillna(0)\n",
    "    result['OffTwoPtReboundPct'] = (result['OffTwoPtRebounds'] /(result['FG2A']-result['FG2M']) * 1).fillna(0)\n",
    "    result['OffThreePtReboundPct'] = (result['OffThreePtRebounds'] / total_off_rebounds * 1).fillna(0)\n",
    "    \n",
    "    result['OffFTReboundPct']=(result['FTOffRebounds']/(result['opp_FTDefRebounds']+result['FTOffRebounds']))\n",
    "\n",
    "    result['DefFTReboundPct']=(result['FTDefRebounds']/(result['opp_FTOffRebounds']+result['FTDefRebounds']))\n",
    "    result['AtRimFrequency'] = result['AtRimFGA'] / result['FGA']\n",
    "    result['ShortMidRangeFrequency'] = result['ShortMidRangeFGA'] / result['FGA']\n",
    "    result['LongMidRangeFrequency'] = result['LongMidRangeFGA'] / result['FGA']\n",
    "    result['Corner3Frequency'] = result['Corner3FGA'] / result['FGA']\n",
    "    result['Arc3Frequency'] = result['Arc3FGA'] / result['FGA']\n",
    "    result['SecondChanceArc3Frequency'] = result['SecondChanceArc3FGA'] / result['SecondChanceFGA']\n",
    "    result['AtRimFG3AFrequency'] = (result['AtRimFGA'] + result['FG3A']) / result['FGA']\n",
    "    result['SecondChanceAtRimFrequency'] = result['SecondChanceAtRimFGA'] / result['SecondChanceFGA']\n",
    "    result['SecondChanceCorner3Frequency'] = result['SecondChanceCorner3FGA'] / result['SecondChanceFGA']\n",
    "    result['PenaltyAtRimFrequency'] = result['PenaltyAtRimFGA'] / result['PenaltyFGA']\n",
    "    result['PenaltyArc3Frequency'] = result['PenaltyArc3FGA'] / result['PenaltyFGA']\n",
    "    result['PenaltyCorner3Frequency'] = result['PenaltyCorner3FGA'] / result['PenaltyFGA']\n",
    "    # Calculating accuracy metrics\n",
    "    result['AtRimAccuracy'] = result['AtRimFGM'] / result['AtRimFGA']\n",
    "    result['UnblockedAtRimAccuracy'] = (result['AtRimFGM'] - result['Fg2aBlocked']) / result['AtRimFGA']\n",
    "    \n",
    "    result['ShortMidRangeAccuracy'] = result['ShortMidRangeFGM'] / result['ShortMidRangeFGA']\n",
    "    result['UnblockedShortMidRangeAccuracy'] = (result['ShortMidRangeFGM'] - result['Fg2aBlocked']) / result['ShortMidRangeFGA']\n",
    "    \n",
    "    result['LongMidRangeAccuracy'] = result['LongMidRangeFGM'] / result['LongMidRangeFGA']\n",
    "    result['UnblockedLongMidRangeAccuracy'] = (result['LongMidRangeFGM'] - result['Fg2aBlocked']) / result['LongMidRangeFGA']\n",
    "    \n",
    "    result['Corner3Accuracy'] = result['Corner3FGM'] / result['Corner3FGA']\n",
    "    result['UnblockedCorner3Accuracy'] = (result['Corner3FGM'] - result['Fg3aBlocked']) / result['Corner3FGA']\n",
    "    \n",
    "    result['Arc3Accuracy'] = result['Arc3FGM'] / result['Arc3FGA']\n",
    "    result['UnblockedArc3Accuracy'] = (result['Arc3FGM'] - result['Fg3aBlocked']) / result['Arc3FGA']\n",
    "    \n",
    "    # Second-chance accuracy metrics\n",
    "    result['SecondChanceAtRimAccuracy'] = result['SecondChanceAtRimFGM'] / result['SecondChanceAtRimFGA']\n",
    "    result['SecondChanceCorner3Accuracy'] = result['SecondChanceCorner3FGM'] / result['SecondChanceCorner3FGA']\n",
    "    result['SecondChanceArc3Accuracy'] = result['SecondChanceArc3FGM'] / result['SecondChanceArc3FGA']\n",
    "    \n",
    "    # Penalty accuracy metrics\n",
    "    result['PenaltyAtRimAccuracy'] = result['PenaltyAtRimFGM'] / result['PenaltyAtRimFGA']\n",
    "    result['PenaltyCorner3Accuracy'] = result['PenaltyCorner3FGM'] / result['PenaltyCorner3FGA']\n",
    "    result['PenaltyArc3Accuracy'] = result['PenaltyArc3FGM'] / result['PenaltyArc3FGA']\n",
    "    \n",
    "    # Non-heave accuracy metric\n",
    "    result['NonHeaveArc3Accuracy'] = result['NonHeaveArc3FGM'] / result['NonHeaveArc3FGA']\n",
    "\n",
    "\n",
    "    return result\n",
    "\n",
    "def calculate_weighted_average(df, value_col, weight_col, group_by=None):\n",
    "    \"\"\"\n",
    "    Calculate weighted average of a value column based on a weight column.\n",
    "    \n",
    "    Parameters:\n",
    "    -----------\n",
    "    df : pandas.DataFrame\n",
    "        Input dataframe\n",
    "    value_col : str\n",
    "        Name of the column containing the values to average\n",
    "    weight_col : str\n",
    "        Name of the column containing the weights\n",
    "    group_by : str or list, optional\n",
    "        Column(s) to group by before calculating weighted average\n",
    "        \n",
    "    Returns:\n",
    "    --------\n",
    "    If group_by is None: returns a float (weighted average)\n",
    "    If group_by is specified: returns a Series with weighted averages per group\n",
    "    \n",
    "    Examples:\n",
    "    --------\n",
    "    # Single weighted average\n",
    "    df = pd.DataFrame({\n",
    "        'value': [10, 20, 30],\n",
    "        'weight': [1, 2, 3]\n",
    "    })\n",
    "    result = calculate_weighted_average(df, 'value', 'weight')\n",
    "    \n",
    "    # Grouped weighted averages\n",
    "    df = pd.DataFrame({\n",
    "        'category': ['A', 'A', 'B', 'B'],\n",
    "        'value': [10, 20, 30, 40],\n",
    "        'weight': [1, 2, 3, 4]\n",
    "    })\n",
    "    result = calculate_weighted_average(df, 'value', 'weight', 'category')\n",
    "    \"\"\"\n",
    "    \n",
    "    # Input validation\n",
    "    if value_col not in df.columns:\n",
    "        raise ValueError(f\"Value column '{value_col}' not found in dataframe\")\n",
    "    if weight_col not in df.columns:\n",
    "        raise ValueError(f\"Weight column '{weight_col}' not found in dataframe\")\n",
    "    \n",
    "    # Handle negative weights\n",
    "    if (df[weight_col] < 0).any():\n",
    "        raise ValueError(\"Negative weights found. Please ensure all weights are non-negative\")\n",
    "    \n",
    "    # Remove rows where either value or weight is null\n",
    "    df = df.dropna(subset=[value_col, weight_col])\n",
    "    \n",
    "    # If all weights are zero, return nan\n",
    "    if (df[weight_col] == 0).all():\n",
    "        print('hit zero condition')\n",
    "        return np.nan\n",
    "    \n",
    "    if group_by is None:\n",
    "        # Calculate single weighted average\n",
    "        weighted_sum = (df[value_col] * df[weight_col]).sum()\n",
    "        weight_sum = df[weight_col].sum()\n",
    "        return weighted_sum / weight_sum if weight_sum != 0 else np.nan\n",
    "    else:\n",
    "        # Calculate grouped weighted averages\n",
    "        grouped = df.groupby(group_by)\n",
    "        weighted_sums = grouped.apply(lambda x: (x[value_col] * x[weight_col]).sum())\n",
    "        weight_sums = grouped[weight_col].sum()\n",
    "        weight_sum = df[weight_col].sum()\n",
    "        return weighted_sums / weight_sum\n",
    "\n",
    "\n",
    "def transform_data(df):\n",
    "    df.fillna(0, inplace=True)\n",
    "    \n",
    "    id_col=['EntityId',\n",
    "     'TeamId',\n",
    "     'Name',\n",
    "     'ShortName',\n",
    "     'RowId',\n",
    "     'TeamAbbreviation',\n",
    "    'team_id',\n",
    "     'year',\n",
    "     'season',\n",
    "     'team_vs']\n",
    "    df['FGA']= df['FG2A']+df['FG3A']\n",
    "    df['FGM']= df['FG2M']+df['FG3M']\n",
    "    df['opp_FGA']= df['opp_FG2A']+df['opp_FG3A']\n",
    "    df['opp_FGM']= df['opp_FG2M']+df['opp_FG3M']\n",
    "\n",
    "    missing=['3pt And 1 Free Throw Trips','opp_BlockedLongMidRange','opp_FTOffRebounds']\n",
    "    for col in missing:\n",
    "        if col not in df.columns:\n",
    "            df[col]=0\n",
    "    \n",
    "    df.drop(columns=['opp_Name', 'opp_ShortName', 'opp_RowId', 'opp_TeamAbbreviation', 'opp_season'],inplace=True)\n",
    "    df['two_point_misses']= df['FG2A'] - df['FG2M']\n",
    "    df['opp_two_point_misses']= df['opp_FG2A'] - df['opp_FG2M']\n",
    "    \n",
    "    # Specific location misses\n",
    "    df['at_rim_misses']= df['AtRimFGA'] - df['AtRimFGM']\n",
    "    df['opp_at_rim_misses']= df['opp_AtRimFGA'] - df['opp_AtRimFGM']\n",
    "    \n",
    "    df['short_midrange_misses']= df['ShortMidRangeFGA'] - df['ShortMidRangeFGM']\n",
    "    \n",
    "    df['opp_short_midrange_misses']= df['opp_ShortMidRangeFGA'] - df['opp_ShortMidRangeFGM']\n",
    "    \n",
    "    df['long_midrange_misses']= df['LongMidRangeFGA'] - df['LongMidRangeFGM']\n",
    "    df['opp_long_midrange_misses']= df['opp_LongMidRangeFGA'] - df['opp_LongMidRangeFGM']\n",
    "    \n",
    "    # Three point misses by location\n",
    "    df['corner3_misses']= df['Corner3FGA'] - df['Corner3FGM']\n",
    "    df['opp_corner3_misses']= df['opp_Corner3FGA'] - df['opp_Corner3FGM']\n",
    "    \n",
    "    df['arc3_misses']= df['Arc3FGA'] - df['Arc3FGM']\n",
    "    df['opp_arc3_misses']= df['opp_Arc3FGA'] - df['opp_Arc3FGM']\n",
    "    \n",
    "    # Free throw misses\n",
    "    df['ft_misses']= df['FTA'] - df['FtPoints']\n",
    "    \n",
    "    df['opp_ft_misses']= df['opp_FTA'] - df['opp_FtPoints']\n",
    "    \n",
    "    # Total misses\n",
    "    df['fg_misses']= (df['FGA'] - df['FGM'])\n",
    "    df['opp_fg_misses']= (df['opp_FGA'] - df['opp_FGM'])\n",
    "    \n",
    "    weight_mapping = {\n",
    "        'DefTwoPtReboundPct': 'opp_two_point_misses',\n",
    "        'OffTwoPtReboundPct': 'two_point_misses',\n",
    "        'DefThreePtReboundPct':'opp_FG3A',\n",
    "        'DefFGReboundPct': 'opp_fg_misses',\n",
    "        'OffFGReboundPct': 'fg_misses',\n",
    "        'OffLongMidRangeReboundPct': 'long_midrange_misses',\n",
    "        'DefLongMidRangeReboundPct': 'opp_long_midrange_misses',\n",
    "        'OffThreePtReboundPct': 'opp_FG3A',\n",
    "        'OffArc3ReboundPct': 'arc3_misses',\n",
    "        'DefArc3ReboundPct': 'opp_arc3_misses',\n",
    "        'DefAtRimReboundPct': 'opp_at_rim_misses',\n",
    "        'DefShortMidRangeReboundPct': 'opp_short_midrange_misses',\n",
    "        'DefCorner3ReboundPct': 'opp_corner3_misses',\n",
    "        'OffAtRimReboundPct': 'at_rim_misses',\n",
    "        'SelfORebPct': 'fg_misses',\n",
    "        'OffShortMidRangeReboundPct': 'short_midrange_misses',\n",
    "        'DefFTReboundPct': 'FTDefRebounds',\n",
    "        'OffFTReboundPct':'opp_FTDefRebounds',\n",
    "        'OffCorner3ReboundPct': 'corner3_misses',\n",
    "        'SecondChanceTsPct':'SecondChanceOffPoss',\n",
    "        'SecondChanceCorner3PctAssisted':'SecondChanceCorner3FGM',\n",
    "        'SecondChanceArc3PctAssisted':'SecondChanceArc3FGM',\n",
    "        'SecondChanceAtRimPctAssisted':'SecondChanceAtRimFGM'\n",
    "    }\n",
    "    \n",
    "    # Create a DataFrame to store weighted averages for each team\n",
    "    team_weighted_avgs = pd.DataFrame()\n",
    "    \n",
    "    # Calculate weighted averages for each team\n",
    "    for team_id in df['TeamId'].unique():\n",
    "        team_data = df[df['TeamId'] == team_id]\n",
    "        team_values = {}\n",
    "        \n",
    "        for key in weight_mapping.keys():\n",
    "            if team_data[weight_mapping[key]].sum() == 0:\n",
    "                val = 0\n",
    "            else:\n",
    "                val = calculate_weighted_average(team_data, key, weight_mapping[key])\n",
    "            team_values[key] = val\n",
    "            \n",
    "        # Add team values to the DataFrame\n",
    "        team_weighted_avgs = pd.concat([\n",
    "            team_weighted_avgs, \n",
    "            pd.DataFrame([team_values], index=[team_id])\n",
    "        ])\n",
    "    \n",
    "    weight_list = list(weight_mapping.keys())\n",
    "    pct = [col for col in df.columns if 'pct' in col.lower()]\n",
    "    sum_cols = [col for col in df.columns if col not in id_col and col not in pct]\n",
    "    \n",
    "    sums = df.groupby('TeamId').sum(numeric_only=True)[sum_cols].reset_index()\n",
    "    \n",
    "    exclude = [\"PenaltyTsPct\"]\n",
    "    pct = [col for col in pct if col not in exclude]\n",
    "    pct = [col for col in pct if 'opp_' not in col.lower()]\n",
    "    \n",
    "    newframe = calculate_basketball_percentages(sums)\n",
    "    \n",
    "    # Add the weighted averages to newframe\n",
    "    for col in weight_list:\n",
    "        newframe[col] = newframe['TeamId'].map(team_weighted_avgs[col])\n",
    "    \n",
    "    to_drop = [col for col in newframe if 'opp_' in col.lower()]\n",
    "    newframe.drop(columns=to_drop, inplace=True)\n",
    "    \n",
    "    return newframe\n",
    "\n",
    "def player_rows(start_year, end_year, player_ids, off_player_ids, team_id, vs=False, on=True, ps=False):\n",
    "    pstring = \"_ps\" if ps else \"\"\n",
    "    all_df1 = []  # List to collect `df1` dataframes for each year\n",
    "    all_df2 = []  # List to collect `df2` dataframes for each year\n",
    "\n",
    "    # Loop through each year in the specified range\n",
    "    for year in range(start_year, end_year + 1):\n",
    "        # Load the appropriate dataframes based on the `vs` flag\n",
    "        if not vs:\n",
    "            tempdf1 = pd.read_csv(f\"data/{year}/{team_id}{pstring}.csv\")\n",
    "            tempdf2 = pd.read_csv(f\"data/{year}/{team_id}_vs{pstring}.csv\")\n",
    "        else:\n",
    "            tempdf2 = pd.read_csv(f\"data/{year}/{team_id}{pstring}.csv\")\n",
    "            tempdf1 = pd.read_csv(f\"data/{year}/{team_id}_vs{pstring}.csv\")\n",
    "\n",
    "        \n",
    "        # Append the dataframes to the lists\n",
    "        all_df1.append(tempdf1)\n",
    "        all_df2.append(tempdf2)\n",
    "\n",
    "\n",
    "    # Concatenate all yearly dataframes into one for each category\n",
    "    df1 = pd.concat(all_df1).reset_index()\n",
    "    \n",
    "    df2 = pd.concat(all_df2).reset_index()\n",
    "    # Get columns not present in df1 for default zero assignment\n",
    "    notfound = set(df2.columns) - set(df1.columns)\n",
    "    \n",
    "    # Drop the 'team_vs' column from df2 if it exists\n",
    "    if 'team_vs' in df2.columns:\n",
    "        df2.drop(columns='team_vs', inplace=True)\n",
    "    \n",
    "    # Rename columns in df2 to distinguish them in the merged dataframe\n",
    "    id_col = ['EntityId','year']\n",
    "    oppnames = [f'opp_{col}' if col not in id_col else col for col in df2.columns]\n",
    "    df2.columns = oppnames\n",
    "    \n",
    "    # Merge df1 and df2 on the 'EntityId' column\n",
    "    df = df1.merge(df2, on=id_col)\n",
    "\n",
    "    \n",
    "    # Assign 0 to missing columns from df2 in df1\n",
    "    for col in notfound:\n",
    "        df[col] = 0\n",
    "\n",
    "    # Filter rows based on the presence of any player_id in the list of player_ids\n",
    "# For players that must be in the lineup\n",
    "    if len(player_ids) > 0:\n",
    "        df = df[df['EntityId'].apply(lambda x: all(pid in x.split('-') for pid in player_ids))]\n",
    "    \n",
    "    # For players that must NOT be in the lineup\n",
    "    if len(off_player_ids) > 0:\n",
    "        df = df[df['EntityId'].apply(lambda x: not any(pid in x.split('-') for pid in off_player_ids))]\n",
    "    newframe=transform_data(df)\n",
    "\n",
    "    newframe['team_id']=team_id\n",
    "    if ps == False:\n",
    "        index=pd.read_csv('index_master.csv')\n",
    "    else:\n",
    "        index=pd.read_csv('index_master_ps.csv')    \n",
    "    index=index[index.year==year]\n",
    "    name_map=dict(zip(index['nba_id'],index['player']))\n",
    "    name=''\n",
    "    names=[]\n",
    "    names2=[]\n",
    "    if player_ids:\n",
    "        for id in player_ids:\n",
    "            names.append(name_map[int(id)].split(' ')[0])\n",
    "\n",
    "    if off_player_ids:\n",
    "        for id in off_player_ids:\n",
    "            names2.append(name_map[int(id)].split(' ')[0])\n",
    "    if len(names)>0:\n",
    "                \n",
    "        name= (', ').join(names)\n",
    "        name += ' On'\n",
    "    if len(names2)>0:\n",
    "                \n",
    "        name2= (', ').join(names2)\n",
    "        name2 += ' Off'\n",
    "\n",
    "        if name =='':\n",
    "            name=name2\n",
    "        else:\n",
    "            name= name +' | ' +name2\n",
    "    \n",
    "    \n",
    "\n",
    "    newframe.drop(columns='GamesPlayed')\n",
    "    #newframe['GamesPlayed']=newframe['OffPoss']/75\n",
    "    #newframe['GamesPlayed']=newframe['GamesPlayed'].round(0)\n",
    "    newframe['Name']=name\n",
    "    \n",
    "    return newframe\n",
    "\n",
    "\n",
    "def team_averages(start_year,end_year,ps=False,vs=False):\n",
    "    carry=''\n",
    "    if ps == True:\n",
    "        carry='ps'\n",
    "    framelist=[]\n",
    "    \n",
    "    for year in range(start_year,end_year+1):\n",
    "        if vs == False:\n",
    "            df1= pd.read_csv(f\"https://raw.githubusercontent.com/gabriel1200/player_sheets/refs/heads/master/team_totals/{str(year)}{carry}.csv\")\n",
    "            df2= pd.read_csv(f\"https://raw.githubusercontent.com/gabriel1200/player_sheets/refs/heads/master/team_totals/{str(year)}vs{carry}.csv\")\n",
    "        else:\n",
    "            df2= pd.read_csv(f\"https://raw.githubusercontent.com/gabriel1200/player_sheets/refs/heads/master/team_totals/{str(year)}{carry}.csv\")\n",
    "            df1= pd.read_csv(f\"https://raw.githubusercontent.com/gabriel1200/player_sheets/refs/heads/master/team_totals/{str(year)}vs{carry}.csv\")\n",
    "        id_col = ['EntityId']\n",
    "        oppnames = [f'opp_{col}' if col not in id_col else col for col in df2.columns]\n",
    "        df2.columns = oppnames\n",
    "        \n",
    "        # Merge df1 and df2 on the 'EntityId' column\n",
    "        df = df1.merge(df2, on=id_col)\n",
    "        del df1\n",
    "        del df2\n",
    "        framelist.append(df)\n",
    "    namemap=dict(zip(df['TeamId'],df['Name']))\n",
    "        \n",
    "    teams=pd.concat(framelist)\n",
    "    teams['team_id']=teams['TeamId']\n",
    "    teams= transform_data(teams)\n",
    "    teams.drop(columns='GamesPlayed')\n",
    "    \n",
    "    teams['team_id']=teams['TeamId']\n",
    "\n",
    "\n",
    "    teams['Name']=teams['TeamId'].map(namemap)\n",
    "    return teams\n",
    "def trim_frame(frame1):\n",
    "    frame1['FGA']=frame1['FG2A']+frame1['FG3A']\n",
    "    columns = ['AtRimFGM','AtRimFGA','AtRimAssists','Turnovers','FTA','FGA',\n",
    "    'OffPoss','DefPoss','TwoPtAssists','Steals','BadPassSteals',\n",
    "    'ThreePtAssists','FG3A','OpponentPoints','Points','SecondChancePoints','FG2A','LiveBallTurnovers']\n",
    "    other_col = ['team_id','TsPct','Fg3Pct','AtRimFG3AFrequency','Pace','AtRimFrequency','SecondsPerPossOff','SecondsPerPossDef',\n",
    "                'DefAtRimReboundPct','DefFGReboundPct','AtRimAccuracy','EfgPct',\n",
    "'OffFGReboundPct','Name']\n",
    "    new_df = pd.DataFrame()\n",
    "\n",
    "    \n",
    "    new_df[other_col] =frame1[other_col]\n",
    "    \n",
    "\n",
    "    for col in columns:\n",
    "        if col in['OpponentPoints','DefRebounds']:\n",
    "            new_df[col]= 100* frame1[col]/frame1['DefPoss']\n",
    "\n",
    "        else:  \n",
    "            new_df[col]= 100* frame1[col]/frame1['OffPoss']\n",
    "    new_df['TOV%'] = (new_df['Turnovers'] / (new_df['Turnovers'] + new_df['FGA'] + 0.44 * new_df['FTA']))\n",
    "  \n",
    "    new_df = new_df.rename(columns={\n",
    "            'AtRimFrequency': 'Rim Freq',\n",
    "            'DefFGReboundPct': 'DREB%', 'OffFGReboundPct': 'OREB%', 'OpponentPoints': 'Opp Points', 'AtRimAssists': 'Rim Assists','AtRimAccuracy': 'Rim%',\n",
    "            'ThreePtAssists': '3P Assists', 'TsPct': 'TS%', 'Fg3Pct': '3P%','EfgPct':'EFG%'})\n",
    "\n",
    "    columns = [\n",
    "            'Points', 'Opp Points', 'FTA','EFG%',\n",
    "            '3P%',\n",
    "            'Rim Freq', 'TS%',\n",
    "            'Rim%',  'TOV%',\n",
    "            '3P Assists','Rim Assists',\n",
    "            'DREB%', 'OREB%','Name']\n",
    "    return new_df[columns]\n",
    "def create_nba_beeswarm(team,start_year,end_year,data, categories=None,vs=False,ps=False):\n",
    "    team_names = {\n",
    "        \"PHX\": \"Phoenix Suns\",\n",
    "        \"DET\": \"Detroit Pistons\",\n",
    "        \"POR\": \"Portland Trail Blazers\",\n",
    "        \"MIL\": \"Milwaukee Bucks\",\n",
    "        \"BOS\": \"Boston Celtics\",\n",
    "        \"LAL\": \"Los Angeles Lakers\",\n",
    "        \"ORL\": \"Orlando Magic\",\n",
    "        \"NOP\": \"New Orleans Pelicans\",\n",
    "        \"NOH\": \"New Orleans Pelicans\",\n",
    "        \"DAL\": \"Dallas Mavericks\",\n",
    "        \"DEN\": \"Denver Nuggets\",\n",
    "        \"IND\": \"Indiana Pacers\",\n",
    "        \"CHA\": \"Charlotte Hornets\",\n",
    "        \"SAS\": \"San Antonio Spurs\",\n",
    "        \"LAC\": \"Los Angeles Clippers\",\n",
    "        \"MEM\": \"Memphis Grizzlies\",\n",
    "        \"WAS\": \"Washington Wizards\",\n",
    "        \"MIA\": \"Miami Heat\",\n",
    "        \"ATL\": \"Atlanta Hawks\",\n",
    "        \"OKC\": \"Oklahoma City Thunder\",\n",
    "        \"SEA\": \"Seattle Supersonics\",\n",
    "\n",
    "        \"UTA\": \"Utah Jazz\",\n",
    "        \"NYK\": \"New York Knicks\",\n",
    "        \"CHI\": \"Chicago Bulls\",\n",
    "        \"MIN\": \"Minnesota Timberwolves\",\n",
    "        \"NJN\": \"New Jersey Nets\",\n",
    "\n",
    "        \"BKN\": \"Brooklyn Nets\",\n",
    "        \"BRK\": \"Brooklyn Nets\",\n",
    "        \"CLE\": \"Cleveland Cavaliers\",\n",
    "        \"HOU\": \"Houston Rockets\",\n",
    "        \"GSW\": \"Golden State Warriors\",\n",
    "        \"SAC\": \"Sacramento Kings\",\n",
    "        \"TOR\": \"Toronto Raptors\",\n",
    "        \"PHI\": \"Philadelphia 76ers\"\n",
    "    }\n",
    "    addon=''\n",
    "    if ps == True:\n",
    "        addon+= ' PS '\n",
    "    else:\n",
    "        addon+= ' RS '\n",
    "    if vs == False:\n",
    "        addon+=''\n",
    "    else:\n",
    "        addon=' (Defense)'\n",
    "    team_name=team_names[team]\n",
    "    combo_name=data[data.lineup_row==1]['Name'].iloc[0]\n",
    "    if len(combo_name)==0:\n",
    "        combo_name=team_name\n",
    "    else:\n",
    "        combo_name= team_name.split(' ')[-1] +' with '+combo_name\n",
    "    team_name+= (' '+str(start_year-1)+'-'+str(end_year))\n",
    "    \n",
    "    # Normalize the data to a 0-1 range\n",
    "    scaler = MinMaxScaler()\n",
    "    normalized_data = pd.DataFrame(\n",
    "        scaler.fit_transform(data[categories]),\n",
    "        columns=categories,\n",
    "        index=data.index\n",
    "    )\n",
    "    \n",
    "    # Separate team and lineup data\n",
    "    team_data = normalized_data[data['lineup_row'] == 0]\n",
    "    lineup_data = normalized_data[data['lineup_row'] == 1]\n",
    "    \n",
    "    # Store original values for hover text and labels\n",
    "    original_team_data = data[data['lineup_row'] == 0]\n",
    "    original_lineup_data = data[data['lineup_row'] == 1]\n",
    "    \n",
    "    # Create the figure\n",
    "    fig = go.Figure()\n",
    "    \n",
    "    # Define custom colors\n",
    "    team_color = '#00ffff'\n",
    "    lineup_color = '#ff4d4d'\n",
    "    grid_color = 'rgba(255, 255, 255, 0.1)'\n",
    "    bg_color = '#1a1a1a'\n",
    "    text_color = '#ffffff'\n",
    "    \n",
    "    # Plot the actual data points\n",
    "    for i, category in enumerate(categories):\n",
    "        # Plot team data points with enhanced hover info\n",
    "        hover_texts = []\n",
    "\n",
    "        for idx in team_data.index:\n",
    "            team_abbrev = original_team_data.loc[idx, 'team']\n",
    "            team_full_name = team_names[team_abbrev]\n",
    "            value = original_team_data.loc[idx, category]\n",
    "            hover_texts.append(f\"{team_full_name}<br>{category}: {value:.1f}\")\n",
    "            \n",
    "        fig.add_trace(go.Scatter(\n",
    "            x=[category] * len(team_data),\n",
    "            y=team_data[category],\n",
    "            mode='markers',\n",
    "            name='Team Season Averages per NBA Team',\n",
    "            marker=dict(\n",
    "                size=18,\n",
    "                color='#89CFF0',\n",
    "                opacity=0.7,\n",
    "                line=dict(color='white', width=3),\n",
    "                symbol='circle'\n",
    "            ),\n",
    "            text=hover_texts,\n",
    "            hovertemplate=\"<b>%{text}</b><br>Normalized: %{y:.2f}<br><extra></extra>\",\n",
    "            showlegend=False\n",
    "        ))\n",
    "        \n",
    "        # Plot lineup data points\n",
    "        fig.add_trace(go.Scatter(\n",
    "            x=[category] * len(lineup_data),\n",
    "            y=lineup_data[category],\n",
    "            mode='markers+text',\n",
    "            name=combo_name,\n",
    "            marker=dict(\n",
    "                size=21,\n",
    "                color='#8B0000',\n",
    "                opacity=1,\n",
    "                line=dict(color='#0A0A0A', width=3),\n",
    "                symbol='diamond'\n",
    "            ),\n",
    "            text=[f\"{original_lineup_data.loc[lineup, category]:.1f}\" \n",
    "                  for lineup in lineup_data.index],\n",
    "            textposition='top right',\n",
    "            textfont=dict(\n",
    "                color=text_color,\n",
    "                size=20\n",
    "            ),\n",
    "            hovertemplate=\"<b>%{text}</b><br>Normalized: %{y:.2f}<br><extra></extra>\",\n",
    "            showlegend=(i == 0)\n",
    "        ))\n",
    "    \n",
    "    # Update layout\n",
    "    fig.update_layout(\n",
    "        title=dict(\n",
    "            text=team_name+ addon,\n",
    "            font=dict(size=24, color=text_color),\n",
    "            x=0.5,\n",
    "            y=.99\n",
    "        ),\n",
    "        width=1600,\n",
    "        height=1000,\n",
    "        showlegend=True,\n",
    "        plot_bgcolor=bg_color,\n",
    "        paper_bgcolor=bg_color,\n",
    "        yaxis=dict(\n",
    "            title=dict(text='Normalized Value', font=dict(size=16, color=text_color)),\n",
    "            gridcolor=grid_color,\n",
    "            showgrid=False,\n",
    "            zeroline=True,\n",
    "            zerolinecolor=grid_color,\n",
    "            range=[-0.1, 1.1],\n",
    "            tickformat='.2f',\n",
    "            tickfont=dict(color=text_color),\n",
    "            tickmode='linear',\n",
    "            tick0=0,\n",
    "            dtick=0.2,\n",
    "            showticklabels=False\n",
    "        ),\n",
    "        xaxis=dict(\n",
    "            gridcolor=grid_color,\n",
    "            categoryorder='array',\n",
    "            categoryarray=categories,\n",
    "            tickfont=dict(color=text_color, size=20),\n",
    "            tickangle=-45\n",
    "        ),\n",
    "        hovermode='closest',\n",
    "        legend=dict(\n",
    "            font=dict(color=text_color,size=20),\n",
    "            bgcolor=bg_color,\n",
    "            bordercolor=bg_color,\n",
    "            borderwidth=1,\n",
    "            orientation=\"h\",\n",
    "            yanchor=\"bottom\",\n",
    "            y=1.025,\n",
    "            xanchor=\"center\",\n",
    "            x=0.5\n",
    "        ),\n",
    "        margin=dict(t=80, b=80)\n",
    "    )\n",
    "\n",
    "    return fig\n",
    "\n"
   ]
  },
  {
   "cell_type": "code",
   "execution_count": 6,
   "id": "b507188d-e09a-4ca7-a896-dbf16110a27b",
   "metadata": {},
   "outputs": [
    {
     "name": "stdout",
     "output_type": "stream",
     "text": [
      "1610612750\n",
      "      Points Name\n",
      "0   194776.0  ATL\n",
      "1   194020.0  BOS\n",
      "2   183928.0  CLE\n",
      "3   187272.0  NOP\n",
      "4   184592.0  CHI\n",
      "5   192556.0  DAL\n",
      "6   186636.0  DEN\n",
      "7   192284.0  GSW\n",
      "8   187132.0  HOU\n",
      "9   188544.0  LAC\n",
      "10  193384.0  LAL\n",
      "11  180064.0  MIA\n",
      "12  194260.0  MIL\n",
      "13  183164.0  MIN\n",
      "14  181948.0  BKN\n",
      "15  183476.0  NYK\n",
      "16  180496.0  ORL\n",
      "17  201200.0  IND\n",
      "18  186940.0  PHI\n",
      "19  189636.0  PHX\n",
      "20  177400.0  POR\n",
      "21  190588.0  SAC\n",
      "22  185968.0  SAS\n",
      "23  194508.0  OKC\n",
      "24  186372.0  TOR\n",
      "25  191284.0  UTA\n",
      "26  175836.0  MEM\n",
      "27  189588.0  WAS\n",
      "28  183188.0  DET\n",
      "29  178160.0  CHA\n",
      "        Points Name\n",
      "0   117.943128  ATL\n",
      "1   120.999326  BOS\n",
      "2   115.271998  CLE\n",
      "3   116.738561  NOP\n",
      "4   115.537529  CHI\n",
      "5   117.782780  DAL\n",
      "6   117.912107  DEN\n",
      "7   117.665345  GSW\n",
      "8   114.869742  HOU\n",
      "9   118.396463  LAC\n",
      "10  116.462710  LAL\n",
      "11  114.108999  MIA\n",
      "12  118.111289  MIL\n",
      "13  114.724157  MIN\n",
      "14  114.300432  BKN\n",
      "15  117.618852  NYK\n",
      "16  113.642431  ORL\n",
      "17  121.061879  IND\n",
      "18  116.677069  PHI\n",
      "19  117.386783  PHX\n",
      "20  110.482786  POR\n",
      "21  116.887864  SAC\n",
      "22  111.783799  SAS\n",
      "23  118.086889  OKC\n",
      "24  114.232127  TOR\n",
      "25  116.679273  UTA\n",
      "26  109.288218  MEM\n",
      "27  113.000668  WAS\n",
      "28  112.049814  DET\n",
      "29  111.974256  CHA\n"
     ]
    },
    {
     "data": {
      "application/vnd.plotly.v1+json": {
       "config": {
        "plotlyServerURL": "https://plot.ly"
       },
       "data": [
        {
         "hovertemplate": "<b>%{text}</b><br>Normalized: %{y:.2f}<br><extra></extra>",
         "marker": {
          "color": "#89CFF0",
          "line": {
           "color": "white",
           "width": 3
          },
          "opacity": 0.7,
          "size": 18,
          "symbol": "circle"
         },
         "mode": "markers",
         "name": "Team Season Averages per NBA Team",
         "showlegend": false,
         "text": [
          "Atlanta Hawks<br>Points: 117.9",
          "Boston Celtics<br>Points: 121.0",
          "Cleveland Cavaliers<br>Points: 115.3",
          "New Orleans Pelicans<br>Points: 116.7",
          "Chicago Bulls<br>Points: 115.5",
          "Dallas Mavericks<br>Points: 117.8",
          "Denver Nuggets<br>Points: 117.9",
          "Golden State Warriors<br>Points: 117.7",
          "Houston Rockets<br>Points: 114.9",
          "Los Angeles Clippers<br>Points: 118.4",
          "Los Angeles Lakers<br>Points: 116.5",
          "Miami Heat<br>Points: 114.1",
          "Milwaukee Bucks<br>Points: 118.1",
          "Minnesota Timberwolves<br>Points: 114.7",
          "Brooklyn Nets<br>Points: 114.3",
          "New York Knicks<br>Points: 117.6",
          "Orlando Magic<br>Points: 113.6",
          "Indiana Pacers<br>Points: 121.1",
          "Philadelphia 76ers<br>Points: 116.7",
          "Phoenix Suns<br>Points: 117.4",
          "Portland Trail Blazers<br>Points: 110.5",
          "Sacramento Kings<br>Points: 116.9",
          "San Antonio Spurs<br>Points: 111.8",
          "Oklahoma City Thunder<br>Points: 118.1",
          "Toronto Raptors<br>Points: 114.2",
          "Utah Jazz<br>Points: 116.7",
          "Memphis Grizzlies<br>Points: 109.3",
          "Washington Wizards<br>Points: 113.0",
          "Detroit Pistons<br>Points: 112.0",
          "Charlotte Hornets<br>Points: 112.0"
         ],
         "type": "scatter",
         "x": [
          "Points",
          "Points",
          "Points",
          "Points",
          "Points",
          "Points",
          "Points",
          "Points",
          "Points",
          "Points",
          "Points",
          "Points",
          "Points",
          "Points",
          "Points",
          "Points",
          "Points",
          "Points",
          "Points",
          "Points",
          "Points",
          "Points",
          "Points",
          "Points",
          "Points",
          "Points",
          "Points",
          "Points",
          "Points",
          "Points"
         ],
         "y": [
          0.7351078445050696,
          0.9946871000476349,
          0.5082344424126042,
          0.6327975104955605,
          0.5307874472129015,
          0.7214885920917986,
          0.7324730590235085,
          0.7115142023132162,
          0.4740687247025246,
          0.7736120084593487,
          0.6093679494644828,
          0.409454691137082,
          0.7493906614304109,
          0.46170336958383196,
          0.4257141603702461,
          0.7075653337695993,
          0.36982658019686454,
          1,
          0.627574644909993,
          0.687854439954176,
          0.1014610468341619,
          0.645478589321824,
          0.21196306644954,
          0.7473181954182166,
          0.4199126419998578,
          0.6277618317773257,
          0,
          0.31531819297674524,
          0.23455711632533216,
          0.22813960722882065
         ]
        },
        {
         "hovertemplate": "<b>%{text}</b><br>Normalized: %{y:.2f}<br><extra></extra>",
         "marker": {
          "color": "#8B0000",
          "line": {
           "color": "#0A0A0A",
           "width": 3
          },
          "opacity": 1,
          "size": 21,
          "symbol": "diamond"
         },
         "mode": "markers+text",
         "name": "Minnesota Timberwolves",
         "showlegend": true,
         "text": [
          "116.0"
         ],
         "textfont": {
          "color": "#ffffff",
          "size": 20
         },
         "textposition": "top right",
         "type": "scatter",
         "x": [
          "Points"
         ],
         "y": [
          0.5727909267593638
         ]
        },
        {
         "hovertemplate": "<b>%{text}</b><br>Normalized: %{y:.2f}<br><extra></extra>",
         "marker": {
          "color": "#89CFF0",
          "line": {
           "color": "white",
           "width": 3
          },
          "opacity": 0.7,
          "size": 18,
          "symbol": "circle"
         },
         "mode": "markers",
         "name": "Team Season Averages per NBA Team",
         "showlegend": false,
         "text": [
          "Atlanta Hawks<br>Opp Points: 119.3",
          "Boston Celtics<br>Opp Points: 114.2",
          "Cleveland Cavaliers<br>Opp Points: 113.8",
          "New Orleans Pelicans<br>Opp Points: 114.0",
          "Chicago Bulls<br>Opp Points: 116.5",
          "Dallas Mavericks<br>Opp Points: 116.5",
          "Denver Nuggets<br>Opp Points: 114.6",
          "Golden State Warriors<br>Opp Points: 116.2",
          "Houston Rockets<br>Opp Points: 114.0",
          "Los Angeles Clippers<br>Opp Points: 116.4",
          "Los Angeles Lakers<br>Opp Points: 116.0",
          "Miami Heat<br>Opp Points: 113.1",
          "Milwaukee Bucks<br>Opp Points: 116.7",
          "Minnesota Timberwolves<br>Opp Points: 110.8",
          "Brooklyn Nets<br>Opp Points: 115.9",
          "New York Knicks<br>Opp Points: 114.7",
          "Orlando Magic<br>Opp Points: 112.3",
          "Indiana Pacers<br>Opp Points: 119.4",
          "Philadelphia 76ers<br>Opp Points: 114.9",
          "Phoenix Suns<br>Opp Points: 115.5",
          "Portland Trail Blazers<br>Opp Points: 116.0",
          "Sacramento Kings<br>Opp Points: 116.1",
          "San Antonio Spurs<br>Opp Points: 115.4",
          "Oklahoma City Thunder<br>Opp Points: 113.7",
          "Toronto Raptors<br>Opp Points: 118.0",
          "Utah Jazz<br>Opp Points: 119.5",
          "Memphis Grizzlies<br>Opp Points: 113.5",
          "Washington Wizards<br>Opp Points: 118.5",
          "Detroit Pistons<br>Opp Points: 117.3",
          "Charlotte Hornets<br>Opp Points: 118.1"
         ],
         "type": "scatter",
         "x": [
          "Opp Points",
          "Opp Points",
          "Opp Points",
          "Opp Points",
          "Opp Points",
          "Opp Points",
          "Opp Points",
          "Opp Points",
          "Opp Points",
          "Opp Points",
          "Opp Points",
          "Opp Points",
          "Opp Points",
          "Opp Points",
          "Opp Points",
          "Opp Points",
          "Opp Points",
          "Opp Points",
          "Opp Points",
          "Opp Points",
          "Opp Points",
          "Opp Points",
          "Opp Points",
          "Opp Points",
          "Opp Points",
          "Opp Points",
          "Opp Points",
          "Opp Points",
          "Opp Points",
          "Opp Points"
         ],
         "y": [
          0.9752428970793368,
          0.46866959206803926,
          0.4320517158950672,
          0.45246970941235,
          0.7022039327684162,
          0.7015652023457655,
          0.5084315474191712,
          0.6716067143070834,
          0.450142217235987,
          0.6924440542035377,
          0.6536189763797751,
          0.35546824240843655,
          0.7171227178453137,
          0.13044710608556365,
          0.643388870468689,
          0.5235348145942975,
          0.28293751951868806,
          0.982524419409355,
          0.5381430318671772,
          0.5950834690849582,
          0.6525512493498749,
          0.6552313242519698,
          0.5934906845392529,
          0.4202415415110785,
          0.8524826524189777,
          1,
          0.3997679258173168,
          0.8936347238504112,
          0.7781837233875759,
          0.8592001484507801
         ]
        },
        {
         "hovertemplate": "<b>%{text}</b><br>Normalized: %{y:.2f}<br><extra></extra>",
         "marker": {
          "color": "#8B0000",
          "line": {
           "color": "#0A0A0A",
           "width": 3
          },
          "opacity": 1,
          "size": 21,
          "symbol": "diamond"
         },
         "mode": "markers+text",
         "name": "Minnesota Timberwolves",
         "showlegend": false,
         "text": [
          "109.5"
         ],
         "textfont": {
          "color": "#ffffff",
          "size": 20
         },
         "textposition": "top right",
         "type": "scatter",
         "x": [
          "Opp Points"
         ],
         "y": [
          0
         ]
        },
        {
         "hovertemplate": "<b>%{text}</b><br>Normalized: %{y:.2f}<br><extra></extra>",
         "marker": {
          "color": "#89CFF0",
          "line": {
           "color": "white",
           "width": 3
          },
          "opacity": 0.7,
          "size": 18,
          "symbol": "circle"
         },
         "mode": "markers",
         "name": "Team Season Averages per NBA Team",
         "showlegend": false,
         "text": [
          "Atlanta Hawks<br>FTA: 22.8",
          "Boston Celtics<br>FTA: 20.1",
          "Cleveland Cavaliers<br>FTA: 21.1",
          "New Orleans Pelicans<br>FTA: 22.9",
          "Chicago Bulls<br>FTA: 21.8",
          "Dallas Mavericks<br>FTA: 22.4",
          "Denver Nuggets<br>FTA: 21.1",
          "Golden State Warriors<br>FTA: 20.6",
          "Houston Rockets<br>FTA: 23.9",
          "Los Angeles Clippers<br>FTA: 22.6",
          "Los Angeles Lakers<br>FTA: 22.7",
          "Miami Heat<br>FTA: 22.3",
          "Milwaukee Bucks<br>FTA: 23.4",
          "Minnesota Timberwolves<br>FTA: 23.3",
          "Brooklyn Nets<br>FTA: 21.6",
          "New York Knicks<br>FTA: 22.5",
          "Orlando Magic<br>FTA: 24.7",
          "Indiana Pacers<br>FTA: 21.3",
          "Philadelphia 76ers<br>FTA: 24.1",
          "Phoenix Suns<br>FTA: 23.2",
          "Portland Trail Blazers<br>FTA: 21.6",
          "Sacramento Kings<br>FTA: 21.4",
          "San Antonio Spurs<br>FTA: 19.8",
          "Oklahoma City Thunder<br>FTA: 21.6",
          "Toronto Raptors<br>FTA: 21.4",
          "Utah Jazz<br>FTA: 22.4",
          "Memphis Grizzlies<br>FTA: 21.6",
          "Washington Wizards<br>FTA: 20.5",
          "Detroit Pistons<br>FTA: 22.3",
          "Charlotte Hornets<br>FTA: 19.5"
         ],
         "type": "scatter",
         "x": [
          "FTA",
          "FTA",
          "FTA",
          "FTA",
          "FTA",
          "FTA",
          "FTA",
          "FTA",
          "FTA",
          "FTA",
          "FTA",
          "FTA",
          "FTA",
          "FTA",
          "FTA",
          "FTA",
          "FTA",
          "FTA",
          "FTA",
          "FTA",
          "FTA",
          "FTA",
          "FTA",
          "FTA",
          "FTA",
          "FTA",
          "FTA",
          "FTA",
          "FTA",
          "FTA"
         ],
         "y": [
          0.6307651837439385,
          0.1091107907908424,
          0.30380706788201195,
          0.6526559657980053,
          0.4434253450814367,
          0.5475301904552454,
          0.2991286736433878,
          0.21319355742143253,
          0.8368095457337956,
          0.586986098892817,
          0.604480375449775,
          0.5373281259734242,
          0.7360714311123555,
          0.7338002984330947,
          0.3952195985738465,
          0.5742097446661516,
          1,
          0.35507546345639973,
          0.8810947541124365,
          0.7040171913057733,
          0.39682717771539977,
          0.36893921427818377,
          0.05777729053012148,
          0.41171970365766075,
          0.35854443031061134,
          0.5542428259467371,
          0.39566234232563424,
          0.1921488969432903,
          0.5441782515213491,
          0
         ]
        },
        {
         "hovertemplate": "<b>%{text}</b><br>Normalized: %{y:.2f}<br><extra></extra>",
         "marker": {
          "color": "#8B0000",
          "line": {
           "color": "#0A0A0A",
           "width": 3
          },
          "opacity": 1,
          "size": 21,
          "symbol": "diamond"
         },
         "mode": "markers+text",
         "name": "Minnesota Timberwolves",
         "showlegend": false,
         "text": [
          "23.6"
         ],
         "textfont": {
          "color": "#ffffff",
          "size": 20
         },
         "textposition": "top right",
         "type": "scatter",
         "x": [
          "FTA"
         ],
         "y": [
          0.7744676686996925
         ]
        },
        {
         "hovertemplate": "<b>%{text}</b><br>Normalized: %{y:.2f}<br><extra></extra>",
         "marker": {
          "color": "#89CFF0",
          "line": {
           "color": "white",
           "width": 3
          },
          "opacity": 0.7,
          "size": 18,
          "symbol": "circle"
         },
         "mode": "markers",
         "name": "Team Season Averages per NBA Team",
         "showlegend": false,
         "text": [
          "Atlanta Hawks<br>3P%: 36.8",
          "Boston Celtics<br>3P%: 38.2",
          "Cleveland Cavaliers<br>3P%: 36.8",
          "New Orleans Pelicans<br>3P%: 37.5",
          "Chicago Bulls<br>3P%: 36.1",
          "Dallas Mavericks<br>3P%: 36.9",
          "Denver Nuggets<br>3P%: 37.0",
          "Golden State Warriors<br>3P%: 37.6",
          "Houston Rockets<br>3P%: 35.1",
          "Los Angeles Clippers<br>3P%: 37.7",
          "Los Angeles Lakers<br>3P%: 37.7",
          "Miami Heat<br>3P%: 36.6",
          "Milwaukee Bucks<br>3P%: 36.9",
          "Minnesota Timberwolves<br>3P%: 38.0",
          "Brooklyn Nets<br>3P%: 36.4",
          "New York Knicks<br>3P%: 36.8",
          "Orlando Magic<br>3P%: 35.3",
          "Indiana Pacers<br>3P%: 37.3",
          "Philadelphia 76ers<br>3P%: 36.1",
          "Phoenix Suns<br>3P%: 37.8",
          "Portland Trail Blazers<br>3P%: 34.6",
          "Sacramento Kings<br>3P%: 37.0",
          "San Antonio Spurs<br>3P%: 35.2",
          "Oklahoma City Thunder<br>3P%: 38.3",
          "Toronto Raptors<br>3P%: 35.4",
          "Utah Jazz<br>3P%: 36.3",
          "Memphis Grizzlies<br>3P%: 35.2",
          "Washington Wizards<br>3P%: 35.1",
          "Detroit Pistons<br>3P%: 35.3",
          "Charlotte Hornets<br>3P%: 35.9"
         ],
         "type": "scatter",
         "x": [
          "3P%",
          "3P%",
          "3P%",
          "3P%",
          "3P%",
          "3P%",
          "3P%",
          "3P%",
          "3P%",
          "3P%",
          "3P%",
          "3P%",
          "3P%",
          "3P%",
          "3P%",
          "3P%",
          "3P%",
          "3P%",
          "3P%",
          "3P%",
          "3P%",
          "3P%",
          "3P%",
          "3P%",
          "3P%",
          "3P%",
          "3P%",
          "3P%",
          "3P%",
          "3P%"
         ],
         "y": [
          0.5336360634299844,
          0.8730055142827187,
          0.5410696730787343,
          0.7118481941498871,
          0.3580289253641844,
          0.5638842748881867,
          0.598020770285526,
          0.7253152499931605,
          0.12827440310209326,
          0.7665399465939711,
          0.7514309965413997,
          0.4894850736896412,
          0.574992510234889,
          0.8422399910506666,
          0.4358108554748661,
          0.5445347332995567,
          0.17280505291582138,
          0.6530756633494441,
          0.3721874923470665,
          0.785778246805366,
          0,
          0.5808260091394715,
          0.14990164414810714,
          0.8981013617072335,
          0.184428476545337,
          0.4051267691772491,
          0.1455784682017498,
          0.1192615197278748,
          0.16110074287857934,
          0.3293277286649712
         ]
        },
        {
         "hovertemplate": "<b>%{text}</b><br>Normalized: %{y:.2f}<br><extra></extra>",
         "marker": {
          "color": "#8B0000",
          "line": {
           "color": "#0A0A0A",
           "width": 3
          },
          "opacity": 1,
          "size": 21,
          "symbol": "diamond"
         },
         "mode": "markers+text",
         "name": "Minnesota Timberwolves",
         "showlegend": false,
         "text": [
          "38.7"
         ],
         "textfont": {
          "color": "#ffffff",
          "size": 20
         },
         "textposition": "top right",
         "type": "scatter",
         "x": [
          "3P%"
         ],
         "y": [
          1
         ]
        },
        {
         "hovertemplate": "<b>%{text}</b><br>Normalized: %{y:.2f}<br><extra></extra>",
         "marker": {
          "color": "#89CFF0",
          "line": {
           "color": "white",
           "width": 3
          },
          "opacity": 0.7,
          "size": 18,
          "symbol": "circle"
         },
         "mode": "markers",
         "name": "Team Season Averages per NBA Team",
         "showlegend": false,
         "text": [
          "Atlanta Hawks<br>Rim Freq: 29.9",
          "Boston Celtics<br>Rim Freq: 26.5",
          "Cleveland Cavaliers<br>Rim Freq: 31.1",
          "New Orleans Pelicans<br>Rim Freq: 30.1",
          "Chicago Bulls<br>Rim Freq: 30.3",
          "Dallas Mavericks<br>Rim Freq: 26.5",
          "Denver Nuggets<br>Rim Freq: 31.9",
          "Golden State Warriors<br>Rim Freq: 24.1",
          "Houston Rockets<br>Rim Freq: 29.9",
          "Los Angeles Clippers<br>Rim Freq: 28.3",
          "Los Angeles Lakers<br>Rim Freq: 31.2",
          "Miami Heat<br>Rim Freq: 24.8",
          "Milwaukee Bucks<br>Rim Freq: 28.3",
          "Minnesota Timberwolves<br>Rim Freq: 29.7",
          "Brooklyn Nets<br>Rim Freq: 29.3",
          "New York Knicks<br>Rim Freq: 29.5",
          "Orlando Magic<br>Rim Freq: 33.2",
          "Indiana Pacers<br>Rim Freq: 32.3",
          "Philadelphia 76ers<br>Rim Freq: 31.3",
          "Phoenix Suns<br>Rim Freq: 27.3",
          "Portland Trail Blazers<br>Rim Freq: 30.5",
          "Sacramento Kings<br>Rim Freq: 25.7",
          "San Antonio Spurs<br>Rim Freq: 30.9",
          "Oklahoma City Thunder<br>Rim Freq: 29.7",
          "Toronto Raptors<br>Rim Freq: 31.4",
          "Utah Jazz<br>Rim Freq: 26.8",
          "Memphis Grizzlies<br>Rim Freq: 29.4",
          "Washington Wizards<br>Rim Freq: 31.1",
          "Detroit Pistons<br>Rim Freq: 29.7",
          "Charlotte Hornets<br>Rim Freq: 30.8"
         ],
         "type": "scatter",
         "x": [
          "Rim Freq",
          "Rim Freq",
          "Rim Freq",
          "Rim Freq",
          "Rim Freq",
          "Rim Freq",
          "Rim Freq",
          "Rim Freq",
          "Rim Freq",
          "Rim Freq",
          "Rim Freq",
          "Rim Freq",
          "Rim Freq",
          "Rim Freq",
          "Rim Freq",
          "Rim Freq",
          "Rim Freq",
          "Rim Freq",
          "Rim Freq",
          "Rim Freq",
          "Rim Freq",
          "Rim Freq",
          "Rim Freq",
          "Rim Freq",
          "Rim Freq",
          "Rim Freq",
          "Rim Freq",
          "Rim Freq",
          "Rim Freq",
          "Rim Freq"
         ],
         "y": [
          0.6376123704162451,
          0.260289129389772,
          0.7735070934893251,
          0.6535020341545872,
          0.6851802748000875,
          0.26794115223973414,
          0.8608054846163933,
          0,
          0.6384377606897691,
          0.4605422332217328,
          0.781287710377168,
          0.07045694573245909,
          0.4559542935613954,
          0.6182776463651654,
          0.5721526672103354,
          0.5947469708977593,
          1,
          0.9045155150737387,
          0.7959606666372077,
          0.3561045973670809,
          0.6998071296315733,
          0.17887064832932342,
          0.7444746697008582,
          0.6182528263071116,
          0.8043583508671741,
          0.29808137085422093,
          0.5811591690826337,
          0.7736786628900569,
          0.6115434658326793,
          0.7325481231952442
         ]
        },
        {
         "hovertemplate": "<b>%{text}</b><br>Normalized: %{y:.2f}<br><extra></extra>",
         "marker": {
          "color": "#8B0000",
          "line": {
           "color": "#0A0A0A",
           "width": 3
          },
          "opacity": 1,
          "size": 21,
          "symbol": "diamond"
         },
         "mode": "markers+text",
         "name": "Minnesota Timberwolves",
         "showlegend": false,
         "text": [
          "30.3"
         ],
         "textfont": {
          "color": "#ffffff",
          "size": 20
         },
         "textposition": "top right",
         "type": "scatter",
         "x": [
          "Rim Freq"
         ],
         "y": [
          0.6822114293827424
         ]
        },
        {
         "hovertemplate": "<b>%{text}</b><br>Normalized: %{y:.2f}<br><extra></extra>",
         "marker": {
          "color": "#89CFF0",
          "line": {
           "color": "white",
           "width": 3
          },
          "opacity": 0.7,
          "size": 18,
          "symbol": "circle"
         },
         "mode": "markers",
         "name": "Team Season Averages per NBA Team",
         "showlegend": false,
         "text": [
          "Atlanta Hawks<br>EFG%: 54.6",
          "Boston Celtics<br>EFG%: 56.7",
          "Cleveland Cavaliers<br>EFG%: 55.2",
          "New Orleans Pelicans<br>EFG%: 55.4",
          "Chicago Bulls<br>EFG%: 53.8",
          "Dallas Mavericks<br>EFG%: 55.9",
          "Denver Nuggets<br>EFG%: 55.5",
          "Golden State Warriors<br>EFG%: 55.4",
          "Houston Rockets<br>EFG%: 53.0",
          "Los Angeles Clippers<br>EFG%: 55.7",
          "Los Angeles Lakers<br>EFG%: 56.3",
          "Miami Heat<br>EFG%: 53.9",
          "Milwaukee Bucks<br>EFG%: 56.2",
          "Minnesota Timberwolves<br>EFG%: 55.0",
          "Brooklyn Nets<br>EFG%: 53.3",
          "New York Knicks<br>EFG%: 54.1",
          "Orlando Magic<br>EFG%: 54.2",
          "Indiana Pacers<br>EFG%: 57.4",
          "Philadelphia 76ers<br>EFG%: 53.3",
          "Phoenix Suns<br>EFG%: 55.9",
          "Portland Trail Blazers<br>EFG%: 51.3",
          "Sacramento Kings<br>EFG%: 55.6",
          "San Antonio Spurs<br>EFG%: 53.7",
          "Oklahoma City Thunder<br>EFG%: 56.4",
          "Toronto Raptors<br>EFG%: 54.1",
          "Utah Jazz<br>EFG%: 54.5",
          "Memphis Grizzlies<br>EFG%: 51.7",
          "Washington Wizards<br>EFG%: 54.3",
          "Detroit Pistons<br>EFG%: 53.2",
          "Charlotte Hornets<br>EFG%: 53.8"
         ],
         "type": "scatter",
         "x": [
          "EFG%",
          "EFG%",
          "EFG%",
          "EFG%",
          "EFG%",
          "EFG%",
          "EFG%",
          "EFG%",
          "EFG%",
          "EFG%",
          "EFG%",
          "EFG%",
          "EFG%",
          "EFG%",
          "EFG%",
          "EFG%",
          "EFG%",
          "EFG%",
          "EFG%",
          "EFG%",
          "EFG%",
          "EFG%",
          "EFG%",
          "EFG%",
          "EFG%",
          "EFG%",
          "EFG%",
          "EFG%",
          "EFG%",
          "EFG%"
         ],
         "y": [
          0.5371751397812847,
          0.8850390865778124,
          0.641184791180974,
          0.6751946734541576,
          0.4118843572418829,
          0.7566591070272146,
          0.6800561160000491,
          0.6634758592862493,
          0.2718264116317073,
          0.7227053282756213,
          0.815761362906601,
          0.42029855318186016,
          0.7946448051757198,
          0.6118727556408619,
          0.3294363643597844,
          0.44959991323930915,
          0.4653752025101845,
          1,
          0.32357927708530454,
          0.7537296440035366,
          0,
          0.6953268035124776,
          0.38578572932950195,
          0.8422572208780288,
          0.46211472846909096,
          0.5177691815521417,
          0.06794195436428474,
          0.4848482219721326,
          0.3146534201236779,
          0.405107150765998
         ]
        },
        {
         "hovertemplate": "<b>%{text}</b><br>Normalized: %{y:.2f}<br><extra></extra>",
         "marker": {
          "color": "#8B0000",
          "line": {
           "color": "#0A0A0A",
           "width": 3
          },
          "opacity": 1,
          "size": 21,
          "symbol": "diamond"
         },
         "mode": "markers+text",
         "name": "Minnesota Timberwolves",
         "showlegend": false,
         "text": [
          "55.9"
         ],
         "textfont": {
          "color": "#ffffff",
          "size": 20
         },
         "textposition": "top right",
         "type": "scatter",
         "x": [
          "EFG%"
         ],
         "y": [
          0.7590974979187397
         ]
        },
        {
         "hovertemplate": "<b>%{text}</b><br>Normalized: %{y:.2f}<br><extra></extra>",
         "marker": {
          "color": "#89CFF0",
          "line": {
           "color": "white",
           "width": 3
          },
          "opacity": 0.7,
          "size": 18,
          "symbol": "circle"
         },
         "mode": "markers",
         "name": "Team Season Averages per NBA Team",
         "showlegend": false,
         "text": [
          "Atlanta Hawks<br>Rim%: 63.5",
          "Boston Celtics<br>Rim%: 69.2",
          "Cleveland Cavaliers<br>Rim%: 65.3",
          "New Orleans Pelicans<br>Rim%: 66.3",
          "Chicago Bulls<br>Rim%: 63.1",
          "Dallas Mavericks<br>Rim%: 70.2",
          "Denver Nuggets<br>Rim%: 65.0",
          "Golden State Warriors<br>Rim%: 69.9",
          "Houston Rockets<br>Rim%: 64.3",
          "Los Angeles Clippers<br>Rim%: 67.4",
          "Los Angeles Lakers<br>Rim%: 71.7",
          "Miami Heat<br>Rim%: 64.3",
          "Milwaukee Bucks<br>Rim%: 70.0",
          "Minnesota Timberwolves<br>Rim%: 66.8",
          "Brooklyn Nets<br>Rim%: 65.2",
          "New York Knicks<br>Rim%: 63.2",
          "Orlando Magic<br>Rim%: 67.1",
          "Indiana Pacers<br>Rim%: 68.0",
          "Philadelphia 76ers<br>Rim%: 63.9",
          "Phoenix Suns<br>Rim%: 67.0",
          "Portland Trail Blazers<br>Rim%: 62.4",
          "Sacramento Kings<br>Rim%: 68.4",
          "San Antonio Spurs<br>Rim%: 66.2",
          "Oklahoma City Thunder<br>Rim%: 66.6",
          "Toronto Raptors<br>Rim%: 67.9",
          "Utah Jazz<br>Rim%: 68.7",
          "Memphis Grizzlies<br>Rim%: 61.2",
          "Washington Wizards<br>Rim%: 70.1",
          "Detroit Pistons<br>Rim%: 65.3",
          "Charlotte Hornets<br>Rim%: 65.9"
         ],
         "type": "scatter",
         "x": [
          "Rim%",
          "Rim%",
          "Rim%",
          "Rim%",
          "Rim%",
          "Rim%",
          "Rim%",
          "Rim%",
          "Rim%",
          "Rim%",
          "Rim%",
          "Rim%",
          "Rim%",
          "Rim%",
          "Rim%",
          "Rim%",
          "Rim%",
          "Rim%",
          "Rim%",
          "Rim%",
          "Rim%",
          "Rim%",
          "Rim%",
          "Rim%",
          "Rim%",
          "Rim%",
          "Rim%",
          "Rim%",
          "Rim%",
          "Rim%"
         ],
         "y": [
          0.21734168482805405,
          0.7588377015521601,
          0.3932185462672537,
          0.48526118993068135,
          0.1749738920353252,
          0.8528531593120787,
          0.3570672869619811,
          0.8237509759355373,
          0.2967014855684402,
          0.5914233041956276,
          1,
          0.29380050115034084,
          0.8413111963768563,
          0.5318261065616445,
          0.3760624020561716,
          0.19070580747124932,
          0.5629032311018216,
          0.6455257737042226,
          0.2554428933620283,
          0.5522419919573966,
          0.11363981869333806,
          0.6817439584775924,
          0.4725789566095351,
          0.5113868539380562,
          0.6370957843558838,
          0.7160109051190684,
          0,
          0.8492110161476392,
          0.3875209457965747,
          0.4480212373747534
         ]
        },
        {
         "hovertemplate": "<b>%{text}</b><br>Normalized: %{y:.2f}<br><extra></extra>",
         "marker": {
          "color": "#8B0000",
          "line": {
           "color": "#0A0A0A",
           "width": 3
          },
          "opacity": 1,
          "size": 21,
          "symbol": "diamond"
         },
         "mode": "markers+text",
         "name": "Minnesota Timberwolves",
         "showlegend": false,
         "text": [
          "67.6"
         ],
         "textfont": {
          "color": "#ffffff",
          "size": 20
         },
         "textposition": "top right",
         "type": "scatter",
         "x": [
          "Rim%"
         ],
         "y": [
          0.6081527289797757
         ]
        },
        {
         "hovertemplate": "<b>%{text}</b><br>Normalized: %{y:.2f}<br><extra></extra>",
         "marker": {
          "color": "#89CFF0",
          "line": {
           "color": "white",
           "width": 3
          },
          "opacity": 0.7,
          "size": 18,
          "symbol": "circle"
         },
         "mode": "markers",
         "name": "Team Season Averages per NBA Team",
         "showlegend": false,
         "text": [
          "Atlanta Hawks<br>TOV%: 11.8",
          "Boston Celtics<br>TOV%: 10.8",
          "Cleveland Cavaliers<br>TOV%: 12.4",
          "New Orleans Pelicans<br>TOV%: 12.0",
          "Chicago Bulls<br>TOV%: 11.4",
          "Dallas Mavericks<br>TOV%: 11.4",
          "Denver Nuggets<br>TOV%: 11.4",
          "Golden State Warriors<br>TOV%: 12.3",
          "Houston Rockets<br>TOV%: 11.4",
          "Los Angeles Clippers<br>TOV%: 11.9",
          "Los Angeles Lakers<br>TOV%: 12.3",
          "Miami Heat<br>TOV%: 11.9",
          "Milwaukee Bucks<br>TOV%: 11.3",
          "Minnesota Timberwolves<br>TOV%: 12.9",
          "Brooklyn Nets<br>TOV%: 11.7",
          "New York Knicks<br>TOV%: 11.9",
          "Orlando Magic<br>TOV%: 13.4",
          "Indiana Pacers<br>TOV%: 11.4",
          "Philadelphia 76ers<br>TOV%: 11.2",
          "Phoenix Suns<br>TOV%: 13.0",
          "Portland Trail Blazers<br>TOV%: 13.3",
          "Sacramento Kings<br>TOV%: 11.8",
          "San Antonio Spurs<br>TOV%: 12.9",
          "Oklahoma City Thunder<br>TOV%: 11.8",
          "Toronto Raptors<br>TOV%: 12.3",
          "Utah Jazz<br>TOV%: 13.0",
          "Memphis Grizzlies<br>TOV%: 13.4",
          "Washington Wizards<br>TOV%: 12.2",
          "Detroit Pistons<br>TOV%: 13.0",
          "Charlotte Hornets<br>TOV%: 12.6"
         ],
         "type": "scatter",
         "x": [
          "TOV%",
          "TOV%",
          "TOV%",
          "TOV%",
          "TOV%",
          "TOV%",
          "TOV%",
          "TOV%",
          "TOV%",
          "TOV%",
          "TOV%",
          "TOV%",
          "TOV%",
          "TOV%",
          "TOV%",
          "TOV%",
          "TOV%",
          "TOV%",
          "TOV%",
          "TOV%",
          "TOV%",
          "TOV%",
          "TOV%",
          "TOV%",
          "TOV%",
          "TOV%",
          "TOV%",
          "TOV%",
          "TOV%",
          "TOV%"
         ],
         "y": [
          0.38604129681507704,
          0,
          0.596782663862454,
          0.46439449168737923,
          0.22029498290723293,
          0.2240332906596958,
          0.24767866378161685,
          0.5679638120281263,
          0.2332314599890548,
          0.4425790929316049,
          0.5758489998826866,
          0.43224946121621866,
          0.2190650991886729,
          0.817612742925931,
          0.35463915063468576,
          0.442647353763582,
          0.9993650265904526,
          0.25110545127143524,
          0.16859318145644675,
          0.8249947075513084,
          0.9388837993059278,
          0.38571012359291323,
          0.804294490988438,
          0.4026665848560427,
          0.5850247303395131,
          0.8517314708548911,
          1,
          0.5329616333850664,
          0.8356346583711236,
          0.6830579555741458
         ]
        },
        {
         "hovertemplate": "<b>%{text}</b><br>Normalized: %{y:.2f}<br><extra></extra>",
         "marker": {
          "color": "#8B0000",
          "line": {
           "color": "#0A0A0A",
           "width": 3
          },
          "opacity": 1,
          "size": 21,
          "symbol": "diamond"
         },
         "mode": "markers+text",
         "name": "Minnesota Timberwolves",
         "showlegend": false,
         "text": [
          "13.0"
         ],
         "textfont": {
          "color": "#ffffff",
          "size": 20
         },
         "textposition": "top right",
         "type": "scatter",
         "x": [
          "TOV%"
         ],
         "y": [
          0.8257255539631592
         ]
        },
        {
         "hovertemplate": "<b>%{text}</b><br>Normalized: %{y:.2f}<br><extra></extra>",
         "marker": {
          "color": "#89CFF0",
          "line": {
           "color": "white",
           "width": 3
          },
          "opacity": 0.7,
          "size": 18,
          "symbol": "circle"
         },
         "mode": "markers",
         "name": "Team Season Averages per NBA Team",
         "showlegend": false,
         "text": [
          "Atlanta Hawks<br>DREB%: 72.0",
          "Boston Celtics<br>DREB%: 73.0",
          "Cleveland Cavaliers<br>DREB%: 73.0",
          "New Orleans Pelicans<br>DREB%: 73.2",
          "Chicago Bulls<br>DREB%: 72.2",
          "Dallas Mavericks<br>DREB%: 72.4",
          "Denver Nuggets<br>DREB%: 72.3",
          "Golden State Warriors<br>DREB%: 72.2",
          "Houston Rockets<br>DREB%: 72.3",
          "Los Angeles Clippers<br>DREB%: 71.4",
          "Los Angeles Lakers<br>DREB%: 74.1",
          "Miami Heat<br>DREB%: 74.4",
          "Milwaukee Bucks<br>DREB%: 74.3",
          "Minnesota Timberwolves<br>DREB%: 73.4",
          "Brooklyn Nets<br>DREB%: 72.4",
          "New York Knicks<br>DREB%: 72.1",
          "Orlando Magic<br>DREB%: 73.9",
          "Indiana Pacers<br>DREB%: 70.7",
          "Philadelphia 76ers<br>DREB%: 70.9",
          "Phoenix Suns<br>DREB%: 72.3",
          "Portland Trail Blazers<br>DREB%: 70.3",
          "Sacramento Kings<br>DREB%: 74.6",
          "San Antonio Spurs<br>DREB%: 73.2",
          "Oklahoma City Thunder<br>DREB%: 71.7",
          "Toronto Raptors<br>DREB%: 70.8",
          "Utah Jazz<br>DREB%: 71.4",
          "Memphis Grizzlies<br>DREB%: 71.6",
          "Washington Wizards<br>DREB%: 70.2",
          "Detroit Pistons<br>DREB%: 73.9",
          "Charlotte Hornets<br>DREB%: 72.3"
         ],
         "type": "scatter",
         "x": [
          "DREB%",
          "DREB%",
          "DREB%",
          "DREB%",
          "DREB%",
          "DREB%",
          "DREB%",
          "DREB%",
          "DREB%",
          "DREB%",
          "DREB%",
          "DREB%",
          "DREB%",
          "DREB%",
          "DREB%",
          "DREB%",
          "DREB%",
          "DREB%",
          "DREB%",
          "DREB%",
          "DREB%",
          "DREB%",
          "DREB%",
          "DREB%",
          "DREB%",
          "DREB%",
          "DREB%",
          "DREB%",
          "DREB%",
          "DREB%"
         ],
         "y": [
          0.4025107253619211,
          0.6421512984208633,
          0.6512674891936037,
          0.6808995636332718,
          0.45364133372822835,
          0.5031572850717225,
          0.47460863842344025,
          0.4659734273903915,
          0.4799184157830929,
          0.28064601909707676,
          0.8975225676073819,
          0.9688749964690189,
          0.9494820756896836,
          0.7256768220572916,
          0.5120717134265682,
          0.438795916732456,
          0.840277163586105,
          0.1117285062108877,
          0.1578992080760031,
          0.4725890790014944,
          0.01705438995665176,
          1,
          0.6779803512070899,
          0.3533692014300591,
          0.137401828479355,
          0.27230595931425583,
          0.31647553989363786,
          0,
          0.843778800908332,
          0.487585771498086
         ]
        },
        {
         "hovertemplate": "<b>%{text}</b><br>Normalized: %{y:.2f}<br><extra></extra>",
         "marker": {
          "color": "#8B0000",
          "line": {
           "color": "#0A0A0A",
           "width": 3
          },
          "opacity": 1,
          "size": 21,
          "symbol": "diamond"
         },
         "mode": "markers+text",
         "name": "Minnesota Timberwolves",
         "showlegend": false,
         "text": [
          "73.3"
         ],
         "textfont": {
          "color": "#ffffff",
          "size": 20
         },
         "textposition": "top right",
         "type": "scatter",
         "x": [
          "DREB%"
         ],
         "y": [
          0.7034960687444247
         ]
        },
        {
         "hovertemplate": "<b>%{text}</b><br>Normalized: %{y:.2f}<br><extra></extra>",
         "marker": {
          "color": "#89CFF0",
          "line": {
           "color": "white",
           "width": 3
          },
          "opacity": 0.7,
          "size": 18,
          "symbol": "circle"
         },
         "mode": "markers",
         "name": "Team Season Averages per NBA Team",
         "showlegend": false,
         "text": [
          "Atlanta Hawks<br>OREB%: 29.9",
          "Boston Celtics<br>OREB%: 27.6",
          "Cleveland Cavaliers<br>OREB%: 26.8",
          "New Orleans Pelicans<br>OREB%: 27.4",
          "Chicago Bulls<br>OREB%: 28.5",
          "Dallas Mavericks<br>OREB%: 25.7",
          "Denver Nuggets<br>OREB%: 28.8",
          "Golden State Warriors<br>OREB%: 30.0",
          "Houston Rockets<br>OREB%: 28.4",
          "Los Angeles Clippers<br>OREB%: 27.7",
          "Los Angeles Lakers<br>OREB%: 24.0",
          "Miami Heat<br>OREB%: 25.4",
          "Milwaukee Bucks<br>OREB%: 24.6",
          "Minnesota Timberwolves<br>OREB%: 26.5",
          "Brooklyn Nets<br>OREB%: 28.1",
          "New York Knicks<br>OREB%: 31.6",
          "Orlando Magic<br>OREB%: 28.3",
          "Indiana Pacers<br>OREB%: 28.1",
          "Philadelphia 76ers<br>OREB%: 28.6",
          "Phoenix Suns<br>OREB%: 28.3",
          "Portland Trail Blazers<br>OREB%: 30.7",
          "Sacramento Kings<br>OREB%: 27.3",
          "San Antonio Spurs<br>OREB%: 26.2",
          "Oklahoma City Thunder<br>OREB%: 25.3",
          "Toronto Raptors<br>OREB%: 28.1",
          "Utah Jazz<br>OREB%: 30.9",
          "Memphis Grizzlies<br>OREB%: 27.8",
          "Washington Wizards<br>OREB%: 25.0",
          "Detroit Pistons<br>OREB%: 26.5",
          "Charlotte Hornets<br>OREB%: 25.0"
         ],
         "type": "scatter",
         "x": [
          "OREB%",
          "OREB%",
          "OREB%",
          "OREB%",
          "OREB%",
          "OREB%",
          "OREB%",
          "OREB%",
          "OREB%",
          "OREB%",
          "OREB%",
          "OREB%",
          "OREB%",
          "OREB%",
          "OREB%",
          "OREB%",
          "OREB%",
          "OREB%",
          "OREB%",
          "OREB%",
          "OREB%",
          "OREB%",
          "OREB%",
          "OREB%",
          "OREB%",
          "OREB%",
          "OREB%",
          "OREB%",
          "OREB%",
          "OREB%"
         ],
         "y": [
          0.7765286571304952,
          0.46608220391601485,
          0.36865874196199755,
          0.44709826420785825,
          0.5928575275009416,
          0.22905535856831172,
          0.6273848100722113,
          0.791666264001889,
          0.5726542523114069,
          0.48369176176062334,
          0,
          0.1867438464361042,
          0.0831040590382166,
          0.3267543566333013,
          0.5422982954283988,
          0.9999999999999996,
          0.5595362266187562,
          0.536358131890581,
          0.6018159367124851,
          0.5616392051318173,
          0.8784675134145501,
          0.42850709264825193,
          0.29255412906894884,
          0.17706507103458247,
          0.5340202222666601,
          0.8966066193780224,
          0.500508000785012,
          0.13912796878674216,
          0.33108106211078203,
          0.12899215196353353
         ]
        },
        {
         "hovertemplate": "<b>%{text}</b><br>Normalized: %{y:.2f}<br><extra></extra>",
         "marker": {
          "color": "#8B0000",
          "line": {
           "color": "#0A0A0A",
           "width": 3
          },
          "opacity": 1,
          "size": 21,
          "symbol": "diamond"
         },
         "mode": "markers+text",
         "name": "Minnesota Timberwolves",
         "showlegend": false,
         "text": [
          "26.4"
         ],
         "textfont": {
          "color": "#ffffff",
          "size": 20
         },
         "textposition": "top right",
         "type": "scatter",
         "x": [
          "OREB%"
         ],
         "y": [
          0.32047617661967553
         ]
        }
       ],
       "layout": {
        "height": 1000,
        "hovermode": "closest",
        "legend": {
         "bgcolor": "#1a1a1a",
         "bordercolor": "#1a1a1a",
         "borderwidth": 1,
         "font": {
          "color": "#ffffff",
          "size": 20
         },
         "orientation": "h",
         "x": 0.5,
         "xanchor": "center",
         "y": 1.025,
         "yanchor": "bottom"
        },
        "margin": {
         "b": 80,
         "t": 80
        },
        "paper_bgcolor": "#1a1a1a",
        "plot_bgcolor": "#1a1a1a",
        "showlegend": true,
        "template": {
         "data": {
          "bar": [
           {
            "error_x": {
             "color": "#2a3f5f"
            },
            "error_y": {
             "color": "#2a3f5f"
            },
            "marker": {
             "line": {
              "color": "#E5ECF6",
              "width": 0.5
             },
             "pattern": {
              "fillmode": "overlay",
              "size": 10,
              "solidity": 0.2
             }
            },
            "type": "bar"
           }
          ],
          "barpolar": [
           {
            "marker": {
             "line": {
              "color": "#E5ECF6",
              "width": 0.5
             },
             "pattern": {
              "fillmode": "overlay",
              "size": 10,
              "solidity": 0.2
             }
            },
            "type": "barpolar"
           }
          ],
          "carpet": [
           {
            "aaxis": {
             "endlinecolor": "#2a3f5f",
             "gridcolor": "white",
             "linecolor": "white",
             "minorgridcolor": "white",
             "startlinecolor": "#2a3f5f"
            },
            "baxis": {
             "endlinecolor": "#2a3f5f",
             "gridcolor": "white",
             "linecolor": "white",
             "minorgridcolor": "white",
             "startlinecolor": "#2a3f5f"
            },
            "type": "carpet"
           }
          ],
          "choropleth": [
           {
            "colorbar": {
             "outlinewidth": 0,
             "ticks": ""
            },
            "type": "choropleth"
           }
          ],
          "contour": [
           {
            "colorbar": {
             "outlinewidth": 0,
             "ticks": ""
            },
            "colorscale": [
             [
              0,
              "#0d0887"
             ],
             [
              0.1111111111111111,
              "#46039f"
             ],
             [
              0.2222222222222222,
              "#7201a8"
             ],
             [
              0.3333333333333333,
              "#9c179e"
             ],
             [
              0.4444444444444444,
              "#bd3786"
             ],
             [
              0.5555555555555556,
              "#d8576b"
             ],
             [
              0.6666666666666666,
              "#ed7953"
             ],
             [
              0.7777777777777778,
              "#fb9f3a"
             ],
             [
              0.8888888888888888,
              "#fdca26"
             ],
             [
              1,
              "#f0f921"
             ]
            ],
            "type": "contour"
           }
          ],
          "contourcarpet": [
           {
            "colorbar": {
             "outlinewidth": 0,
             "ticks": ""
            },
            "type": "contourcarpet"
           }
          ],
          "heatmap": [
           {
            "colorbar": {
             "outlinewidth": 0,
             "ticks": ""
            },
            "colorscale": [
             [
              0,
              "#0d0887"
             ],
             [
              0.1111111111111111,
              "#46039f"
             ],
             [
              0.2222222222222222,
              "#7201a8"
             ],
             [
              0.3333333333333333,
              "#9c179e"
             ],
             [
              0.4444444444444444,
              "#bd3786"
             ],
             [
              0.5555555555555556,
              "#d8576b"
             ],
             [
              0.6666666666666666,
              "#ed7953"
             ],
             [
              0.7777777777777778,
              "#fb9f3a"
             ],
             [
              0.8888888888888888,
              "#fdca26"
             ],
             [
              1,
              "#f0f921"
             ]
            ],
            "type": "heatmap"
           }
          ],
          "heatmapgl": [
           {
            "colorbar": {
             "outlinewidth": 0,
             "ticks": ""
            },
            "colorscale": [
             [
              0,
              "#0d0887"
             ],
             [
              0.1111111111111111,
              "#46039f"
             ],
             [
              0.2222222222222222,
              "#7201a8"
             ],
             [
              0.3333333333333333,
              "#9c179e"
             ],
             [
              0.4444444444444444,
              "#bd3786"
             ],
             [
              0.5555555555555556,
              "#d8576b"
             ],
             [
              0.6666666666666666,
              "#ed7953"
             ],
             [
              0.7777777777777778,
              "#fb9f3a"
             ],
             [
              0.8888888888888888,
              "#fdca26"
             ],
             [
              1,
              "#f0f921"
             ]
            ],
            "type": "heatmapgl"
           }
          ],
          "histogram": [
           {
            "marker": {
             "pattern": {
              "fillmode": "overlay",
              "size": 10,
              "solidity": 0.2
             }
            },
            "type": "histogram"
           }
          ],
          "histogram2d": [
           {
            "colorbar": {
             "outlinewidth": 0,
             "ticks": ""
            },
            "colorscale": [
             [
              0,
              "#0d0887"
             ],
             [
              0.1111111111111111,
              "#46039f"
             ],
             [
              0.2222222222222222,
              "#7201a8"
             ],
             [
              0.3333333333333333,
              "#9c179e"
             ],
             [
              0.4444444444444444,
              "#bd3786"
             ],
             [
              0.5555555555555556,
              "#d8576b"
             ],
             [
              0.6666666666666666,
              "#ed7953"
             ],
             [
              0.7777777777777778,
              "#fb9f3a"
             ],
             [
              0.8888888888888888,
              "#fdca26"
             ],
             [
              1,
              "#f0f921"
             ]
            ],
            "type": "histogram2d"
           }
          ],
          "histogram2dcontour": [
           {
            "colorbar": {
             "outlinewidth": 0,
             "ticks": ""
            },
            "colorscale": [
             [
              0,
              "#0d0887"
             ],
             [
              0.1111111111111111,
              "#46039f"
             ],
             [
              0.2222222222222222,
              "#7201a8"
             ],
             [
              0.3333333333333333,
              "#9c179e"
             ],
             [
              0.4444444444444444,
              "#bd3786"
             ],
             [
              0.5555555555555556,
              "#d8576b"
             ],
             [
              0.6666666666666666,
              "#ed7953"
             ],
             [
              0.7777777777777778,
              "#fb9f3a"
             ],
             [
              0.8888888888888888,
              "#fdca26"
             ],
             [
              1,
              "#f0f921"
             ]
            ],
            "type": "histogram2dcontour"
           }
          ],
          "mesh3d": [
           {
            "colorbar": {
             "outlinewidth": 0,
             "ticks": ""
            },
            "type": "mesh3d"
           }
          ],
          "parcoords": [
           {
            "line": {
             "colorbar": {
              "outlinewidth": 0,
              "ticks": ""
             }
            },
            "type": "parcoords"
           }
          ],
          "pie": [
           {
            "automargin": true,
            "type": "pie"
           }
          ],
          "scatter": [
           {
            "fillpattern": {
             "fillmode": "overlay",
             "size": 10,
             "solidity": 0.2
            },
            "type": "scatter"
           }
          ],
          "scatter3d": [
           {
            "line": {
             "colorbar": {
              "outlinewidth": 0,
              "ticks": ""
             }
            },
            "marker": {
             "colorbar": {
              "outlinewidth": 0,
              "ticks": ""
             }
            },
            "type": "scatter3d"
           }
          ],
          "scattercarpet": [
           {
            "marker": {
             "colorbar": {
              "outlinewidth": 0,
              "ticks": ""
             }
            },
            "type": "scattercarpet"
           }
          ],
          "scattergeo": [
           {
            "marker": {
             "colorbar": {
              "outlinewidth": 0,
              "ticks": ""
             }
            },
            "type": "scattergeo"
           }
          ],
          "scattergl": [
           {
            "marker": {
             "colorbar": {
              "outlinewidth": 0,
              "ticks": ""
             }
            },
            "type": "scattergl"
           }
          ],
          "scattermapbox": [
           {
            "marker": {
             "colorbar": {
              "outlinewidth": 0,
              "ticks": ""
             }
            },
            "type": "scattermapbox"
           }
          ],
          "scatterpolar": [
           {
            "marker": {
             "colorbar": {
              "outlinewidth": 0,
              "ticks": ""
             }
            },
            "type": "scatterpolar"
           }
          ],
          "scatterpolargl": [
           {
            "marker": {
             "colorbar": {
              "outlinewidth": 0,
              "ticks": ""
             }
            },
            "type": "scatterpolargl"
           }
          ],
          "scatterternary": [
           {
            "marker": {
             "colorbar": {
              "outlinewidth": 0,
              "ticks": ""
             }
            },
            "type": "scatterternary"
           }
          ],
          "surface": [
           {
            "colorbar": {
             "outlinewidth": 0,
             "ticks": ""
            },
            "colorscale": [
             [
              0,
              "#0d0887"
             ],
             [
              0.1111111111111111,
              "#46039f"
             ],
             [
              0.2222222222222222,
              "#7201a8"
             ],
             [
              0.3333333333333333,
              "#9c179e"
             ],
             [
              0.4444444444444444,
              "#bd3786"
             ],
             [
              0.5555555555555556,
              "#d8576b"
             ],
             [
              0.6666666666666666,
              "#ed7953"
             ],
             [
              0.7777777777777778,
              "#fb9f3a"
             ],
             [
              0.8888888888888888,
              "#fdca26"
             ],
             [
              1,
              "#f0f921"
             ]
            ],
            "type": "surface"
           }
          ],
          "table": [
           {
            "cells": {
             "fill": {
              "color": "#EBF0F8"
             },
             "line": {
              "color": "white"
             }
            },
            "header": {
             "fill": {
              "color": "#C8D4E3"
             },
             "line": {
              "color": "white"
             }
            },
            "type": "table"
           }
          ]
         },
         "layout": {
          "annotationdefaults": {
           "arrowcolor": "#2a3f5f",
           "arrowhead": 0,
           "arrowwidth": 1
          },
          "autotypenumbers": "strict",
          "coloraxis": {
           "colorbar": {
            "outlinewidth": 0,
            "ticks": ""
           }
          },
          "colorscale": {
           "diverging": [
            [
             0,
             "#8e0152"
            ],
            [
             0.1,
             "#c51b7d"
            ],
            [
             0.2,
             "#de77ae"
            ],
            [
             0.3,
             "#f1b6da"
            ],
            [
             0.4,
             "#fde0ef"
            ],
            [
             0.5,
             "#f7f7f7"
            ],
            [
             0.6,
             "#e6f5d0"
            ],
            [
             0.7,
             "#b8e186"
            ],
            [
             0.8,
             "#7fbc41"
            ],
            [
             0.9,
             "#4d9221"
            ],
            [
             1,
             "#276419"
            ]
           ],
           "sequential": [
            [
             0,
             "#0d0887"
            ],
            [
             0.1111111111111111,
             "#46039f"
            ],
            [
             0.2222222222222222,
             "#7201a8"
            ],
            [
             0.3333333333333333,
             "#9c179e"
            ],
            [
             0.4444444444444444,
             "#bd3786"
            ],
            [
             0.5555555555555556,
             "#d8576b"
            ],
            [
             0.6666666666666666,
             "#ed7953"
            ],
            [
             0.7777777777777778,
             "#fb9f3a"
            ],
            [
             0.8888888888888888,
             "#fdca26"
            ],
            [
             1,
             "#f0f921"
            ]
           ],
           "sequentialminus": [
            [
             0,
             "#0d0887"
            ],
            [
             0.1111111111111111,
             "#46039f"
            ],
            [
             0.2222222222222222,
             "#7201a8"
            ],
            [
             0.3333333333333333,
             "#9c179e"
            ],
            [
             0.4444444444444444,
             "#bd3786"
            ],
            [
             0.5555555555555556,
             "#d8576b"
            ],
            [
             0.6666666666666666,
             "#ed7953"
            ],
            [
             0.7777777777777778,
             "#fb9f3a"
            ],
            [
             0.8888888888888888,
             "#fdca26"
            ],
            [
             1,
             "#f0f921"
            ]
           ]
          },
          "colorway": [
           "#636efa",
           "#EF553B",
           "#00cc96",
           "#ab63fa",
           "#FFA15A",
           "#19d3f3",
           "#FF6692",
           "#B6E880",
           "#FF97FF",
           "#FECB52"
          ],
          "font": {
           "color": "#2a3f5f"
          },
          "geo": {
           "bgcolor": "white",
           "lakecolor": "white",
           "landcolor": "#E5ECF6",
           "showlakes": true,
           "showland": true,
           "subunitcolor": "white"
          },
          "hoverlabel": {
           "align": "left"
          },
          "hovermode": "closest",
          "mapbox": {
           "style": "light"
          },
          "paper_bgcolor": "white",
          "plot_bgcolor": "#E5ECF6",
          "polar": {
           "angularaxis": {
            "gridcolor": "white",
            "linecolor": "white",
            "ticks": ""
           },
           "bgcolor": "#E5ECF6",
           "radialaxis": {
            "gridcolor": "white",
            "linecolor": "white",
            "ticks": ""
           }
          },
          "scene": {
           "xaxis": {
            "backgroundcolor": "#E5ECF6",
            "gridcolor": "white",
            "gridwidth": 2,
            "linecolor": "white",
            "showbackground": true,
            "ticks": "",
            "zerolinecolor": "white"
           },
           "yaxis": {
            "backgroundcolor": "#E5ECF6",
            "gridcolor": "white",
            "gridwidth": 2,
            "linecolor": "white",
            "showbackground": true,
            "ticks": "",
            "zerolinecolor": "white"
           },
           "zaxis": {
            "backgroundcolor": "#E5ECF6",
            "gridcolor": "white",
            "gridwidth": 2,
            "linecolor": "white",
            "showbackground": true,
            "ticks": "",
            "zerolinecolor": "white"
           }
          },
          "shapedefaults": {
           "line": {
            "color": "#2a3f5f"
           }
          },
          "ternary": {
           "aaxis": {
            "gridcolor": "white",
            "linecolor": "white",
            "ticks": ""
           },
           "baxis": {
            "gridcolor": "white",
            "linecolor": "white",
            "ticks": ""
           },
           "bgcolor": "#E5ECF6",
           "caxis": {
            "gridcolor": "white",
            "linecolor": "white",
            "ticks": ""
           }
          },
          "title": {
           "x": 0.05
          },
          "xaxis": {
           "automargin": true,
           "gridcolor": "white",
           "linecolor": "white",
           "ticks": "",
           "title": {
            "standoff": 15
           },
           "zerolinecolor": "white",
           "zerolinewidth": 2
          },
          "yaxis": {
           "automargin": true,
           "gridcolor": "white",
           "linecolor": "white",
           "ticks": "",
           "title": {
            "standoff": 15
           },
           "zerolinecolor": "white",
           "zerolinewidth": 2
          }
         }
        },
        "title": {
         "font": {
          "color": "#ffffff",
          "size": 24
         },
         "text": "Minnesota Timberwolves 2023-2024 RS ",
         "x": 0.5,
         "y": 0.99
        },
        "width": 1600,
        "xaxis": {
         "autorange": true,
         "categoryarray": [
          "Points",
          "Opp Points",
          "FTA",
          "3P%",
          "Rim Freq",
          "EFG%",
          "Rim%",
          "TOV%",
          "DREB%",
          "OREB%"
         ],
         "categoryorder": "array",
         "gridcolor": "rgba(255, 255, 255, 0.1)",
         "range": [
          -0.6033668044890727,
          9.603366804489072
         ],
         "tickangle": -45,
         "tickfont": {
          "color": "#ffffff",
          "size": 20
         },
         "type": "category"
        },
        "yaxis": {
         "dtick": 0.2,
         "gridcolor": "rgba(255, 255, 255, 0.1)",
         "range": [
          -0.1,
          1.1
         ],
         "showgrid": false,
         "showticklabels": false,
         "tick0": 0,
         "tickfont": {
          "color": "#ffffff"
         },
         "tickformat": ".2f",
         "tickmode": "linear",
         "title": {
          "font": {
           "color": "#ffffff",
           "size": 16
          },
          "text": "Normalized Value"
         },
         "type": "linear",
         "zeroline": true,
         "zerolinecolor": "rgba(255, 255, 255, 0.1)"
        }
       }
      },
      "image/png": "[encoded data removed]",
      "text/html": [
       "<div>                            <div id=\"d9d2b93a-f8b6-4469-b511-cc5dc50802ef\" class=\"plotly-graph-div\" style=\"height:1000px; width:1600px;\"></div>            <script type=\"text/javascript\">                require([\"plotly\"], function(Plotly) {                    window.PLOTLYENV=window.PLOTLYENV || {};                                    if (document.getElementById(\"d9d2b93a-f8b6-4469-b511-cc5dc50802ef\")) {                    Plotly.newPlot(                        \"d9d2b93a-f8b6-4469-b511-cc5dc50802ef\",                        [{\"hovertemplate\":\"\\u003cb\\u003e%{text}\\u003c\\u002fb\\u003e\\u003cbr\\u003eNormalized: %{y:.2f}\\u003cbr\\u003e\\u003cextra\\u003e\\u003c\\u002fextra\\u003e\",\"marker\":{\"color\":\"#89CFF0\",\"line\":{\"color\":\"white\",\"width\":3},\"opacity\":0.7,\"size\":18,\"symbol\":\"circle\"},\"mode\":\"markers\",\"name\":\"Team Season Averages per NBA Team\",\"showlegend\":false,\"text\":[\"Atlanta Hawks\\u003cbr\\u003ePoints: 117.9\",\"Boston Celtics\\u003cbr\\u003ePoints: 121.0\",\"Cleveland Cavaliers\\u003cbr\\u003ePoints: 115.3\",\"New Orleans Pelicans\\u003cbr\\u003ePoints: 116.7\",\"Chicago Bulls\\u003cbr\\u003ePoints: 115.5\",\"Dallas Mavericks\\u003cbr\\u003ePoints: 117.8\",\"Denver Nuggets\\u003cbr\\u003ePoints: 117.9\",\"Golden State Warriors\\u003cbr\\u003ePoints: 117.7\",\"Houston Rockets\\u003cbr\\u003ePoints: 114.9\",\"Los Angeles Clippers\\u003cbr\\u003ePoints: 118.4\",\"Los Angeles Lakers\\u003cbr\\u003ePoints: 116.5\",\"Miami Heat\\u003cbr\\u003ePoints: 114.1\",\"Milwaukee Bucks\\u003cbr\\u003ePoints: 118.1\",\"Minnesota Timberwolves\\u003cbr\\u003ePoints: 114.7\",\"Brooklyn Nets\\u003cbr\\u003ePoints: 114.3\",\"New York Knicks\\u003cbr\\u003ePoints: 117.6\",\"Orlando Magic\\u003cbr\\u003ePoints: 113.6\",\"Indiana Pacers\\u003cbr\\u003ePoints: 121.1\",\"Philadelphia 76ers\\u003cbr\\u003ePoints: 116.7\",\"Phoenix Suns\\u003cbr\\u003ePoints: 117.4\",\"Portland Trail Blazers\\u003cbr\\u003ePoints: 110.5\",\"Sacramento Kings\\u003cbr\\u003ePoints: 116.9\",\"San Antonio Spurs\\u003cbr\\u003ePoints: 111.8\",\"Oklahoma City Thunder\\u003cbr\\u003ePoints: 118.1\",\"Toronto Raptors\\u003cbr\\u003ePoints: 114.2\",\"Utah Jazz\\u003cbr\\u003ePoints: 116.7\",\"Memphis Grizzlies\\u003cbr\\u003ePoints: 109.3\",\"Washington Wizards\\u003cbr\\u003ePoints: 113.0\",\"Detroit Pistons\\u003cbr\\u003ePoints: 112.0\",\"Charlotte Hornets\\u003cbr\\u003ePoints: 112.0\"],\"x\":[\"Points\",\"Points\",\"Points\",\"Points\",\"Points\",\"Points\",\"Points\",\"Points\",\"Points\",\"Points\",\"Points\",\"Points\",\"Points\",\"Points\",\"Points\",\"Points\",\"Points\",\"Points\",\"Points\",\"Points\",\"Points\",\"Points\",\"Points\",\"Points\",\"Points\",\"Points\",\"Points\",\"Points\",\"Points\",\"Points\"],\"y\":[0.7351078445050696,0.9946871000476349,0.5082344424126042,0.6327975104955605,0.5307874472129015,0.7214885920917986,0.7324730590235085,0.7115142023132162,0.4740687247025246,0.7736120084593487,0.6093679494644828,0.409454691137082,0.7493906614304109,0.46170336958383196,0.4257141603702461,0.7075653337695993,0.36982658019686454,1.0,0.627574644909993,0.687854439954176,0.1014610468341619,0.645478589321824,0.21196306644954,0.7473181954182166,0.4199126419998578,0.6277618317773257,0.0,0.31531819297674524,0.23455711632533216,0.22813960722882065],\"type\":\"scatter\"},{\"hovertemplate\":\"\\u003cb\\u003e%{text}\\u003c\\u002fb\\u003e\\u003cbr\\u003eNormalized: %{y:.2f}\\u003cbr\\u003e\\u003cextra\\u003e\\u003c\\u002fextra\\u003e\",\"marker\":{\"color\":\"#8B0000\",\"line\":{\"color\":\"#0A0A0A\",\"width\":3},\"opacity\":1,\"size\":21,\"symbol\":\"diamond\"},\"mode\":\"markers+text\",\"name\":\"Minnesota Timberwolves\",\"showlegend\":true,\"text\":[\"116.0\"],\"textfont\":{\"color\":\"#ffffff\",\"size\":20},\"textposition\":\"top right\",\"x\":[\"Points\"],\"y\":[0.5727909267593638],\"type\":\"scatter\"},{\"hovertemplate\":\"\\u003cb\\u003e%{text}\\u003c\\u002fb\\u003e\\u003cbr\\u003eNormalized: %{y:.2f}\\u003cbr\\u003e\\u003cextra\\u003e\\u003c\\u002fextra\\u003e\",\"marker\":{\"color\":\"#89CFF0\",\"line\":{\"color\":\"white\",\"width\":3},\"opacity\":0.7,\"size\":18,\"symbol\":\"circle\"},\"mode\":\"markers\",\"name\":\"Team Season Averages per NBA Team\",\"showlegend\":false,\"text\":[\"Atlanta Hawks\\u003cbr\\u003eOpp Points: 119.3\",\"Boston Celtics\\u003cbr\\u003eOpp Points: 114.2\",\"Cleveland Cavaliers\\u003cbr\\u003eOpp Points: 113.8\",\"New Orleans Pelicans\\u003cbr\\u003eOpp Points: 114.0\",\"Chicago Bulls\\u003cbr\\u003eOpp Points: 116.5\",\"Dallas Mavericks\\u003cbr\\u003eOpp Points: 116.5\",\"Denver Nuggets\\u003cbr\\u003eOpp Points: 114.6\",\"Golden State Warriors\\u003cbr\\u003eOpp Points: 116.2\",\"Houston Rockets\\u003cbr\\u003eOpp Points: 114.0\",\"Los Angeles Clippers\\u003cbr\\u003eOpp Points: 116.4\",\"Los Angeles Lakers\\u003cbr\\u003eOpp Points: 116.0\",\"Miami Heat\\u003cbr\\u003eOpp Points: 113.1\",\"Milwaukee Bucks\\u003cbr\\u003eOpp Points: 116.7\",\"Minnesota Timberwolves\\u003cbr\\u003eOpp Points: 110.8\",\"Brooklyn Nets\\u003cbr\\u003eOpp Points: 115.9\",\"New York Knicks\\u003cbr\\u003eOpp Points: 114.7\",\"Orlando Magic\\u003cbr\\u003eOpp Points: 112.3\",\"Indiana Pacers\\u003cbr\\u003eOpp Points: 119.4\",\"Philadelphia 76ers\\u003cbr\\u003eOpp Points: 114.9\",\"Phoenix Suns\\u003cbr\\u003eOpp Points: 115.5\",\"Portland Trail Blazers\\u003cbr\\u003eOpp Points: 116.0\",\"Sacramento Kings\\u003cbr\\u003eOpp Points: 116.1\",\"San Antonio Spurs\\u003cbr\\u003eOpp Points: 115.4\",\"Oklahoma City Thunder\\u003cbr\\u003eOpp Points: 113.7\",\"Toronto Raptors\\u003cbr\\u003eOpp Points: 118.0\",\"Utah Jazz\\u003cbr\\u003eOpp Points: 119.5\",\"Memphis Grizzlies\\u003cbr\\u003eOpp Points: 113.5\",\"Washington Wizards\\u003cbr\\u003eOpp Points: 118.5\",\"Detroit Pistons\\u003cbr\\u003eOpp Points: 117.3\",\"Charlotte Hornets\\u003cbr\\u003eOpp Points: 118.1\"],\"x\":[\"Opp Points\",\"Opp Points\",\"Opp Points\",\"Opp Points\",\"Opp Points\",\"Opp Points\",\"Opp Points\",\"Opp Points\",\"Opp Points\",\"Opp Points\",\"Opp Points\",\"Opp Points\",\"Opp Points\",\"Opp Points\",\"Opp Points\",\"Opp Points\",\"Opp Points\",\"Opp Points\",\"Opp Points\",\"Opp Points\",\"Opp Points\",\"Opp Points\",\"Opp Points\",\"Opp Points\",\"Opp Points\",\"Opp Points\",\"Opp Points\",\"Opp Points\",\"Opp Points\",\"Opp Points\"],\"y\":[0.9752428970793368,0.46866959206803926,0.4320517158950672,0.45246970941235,0.7022039327684162,0.7015652023457655,0.5084315474191712,0.6716067143070834,0.450142217235987,0.6924440542035377,0.6536189763797751,0.35546824240843655,0.7171227178453137,0.13044710608556365,0.643388870468689,0.5235348145942975,0.28293751951868806,0.982524419409355,0.5381430318671772,0.5950834690849582,0.6525512493498749,0.6552313242519698,0.5934906845392529,0.4202415415110785,0.8524826524189777,1.0,0.3997679258173168,0.8936347238504112,0.7781837233875759,0.8592001484507801],\"type\":\"scatter\"},{\"hovertemplate\":\"\\u003cb\\u003e%{text}\\u003c\\u002fb\\u003e\\u003cbr\\u003eNormalized: %{y:.2f}\\u003cbr\\u003e\\u003cextra\\u003e\\u003c\\u002fextra\\u003e\",\"marker\":{\"color\":\"#8B0000\",\"line\":{\"color\":\"#0A0A0A\",\"width\":3},\"opacity\":1,\"size\":21,\"symbol\":\"diamond\"},\"mode\":\"markers+text\",\"name\":\"Minnesota Timberwolves\",\"showlegend\":false,\"text\":[\"109.5\"],\"textfont\":{\"color\":\"#ffffff\",\"size\":20},\"textposition\":\"top right\",\"x\":[\"Opp Points\"],\"y\":[0.0],\"type\":\"scatter\"},{\"hovertemplate\":\"\\u003cb\\u003e%{text}\\u003c\\u002fb\\u003e\\u003cbr\\u003eNormalized: %{y:.2f}\\u003cbr\\u003e\\u003cextra\\u003e\\u003c\\u002fextra\\u003e\",\"marker\":{\"color\":\"#89CFF0\",\"line\":{\"color\":\"white\",\"width\":3},\"opacity\":0.7,\"size\":18,\"symbol\":\"circle\"},\"mode\":\"markers\",\"name\":\"Team Season Averages per NBA Team\",\"showlegend\":false,\"text\":[\"Atlanta Hawks\\u003cbr\\u003eFTA: 22.8\",\"Boston Celtics\\u003cbr\\u003eFTA: 20.1\",\"Cleveland Cavaliers\\u003cbr\\u003eFTA: 21.1\",\"New Orleans Pelicans\\u003cbr\\u003eFTA: 22.9\",\"Chicago Bulls\\u003cbr\\u003eFTA: 21.8\",\"Dallas Mavericks\\u003cbr\\u003eFTA: 22.4\",\"Denver Nuggets\\u003cbr\\u003eFTA: 21.1\",\"Golden State Warriors\\u003cbr\\u003eFTA: 20.6\",\"Houston Rockets\\u003cbr\\u003eFTA: 23.9\",\"Los Angeles Clippers\\u003cbr\\u003eFTA: 22.6\",\"Los Angeles Lakers\\u003cbr\\u003eFTA: 22.7\",\"Miami Heat\\u003cbr\\u003eFTA: 22.3\",\"Milwaukee Bucks\\u003cbr\\u003eFTA: 23.4\",\"Minnesota Timberwolves\\u003cbr\\u003eFTA: 23.3\",\"Brooklyn Nets\\u003cbr\\u003eFTA: 21.6\",\"New York Knicks\\u003cbr\\u003eFTA: 22.5\",\"Orlando Magic\\u003cbr\\u003eFTA: 24.7\",\"Indiana Pacers\\u003cbr\\u003eFTA: 21.3\",\"Philadelphia 76ers\\u003cbr\\u003eFTA: 24.1\",\"Phoenix Suns\\u003cbr\\u003eFTA: 23.2\",\"Portland Trail Blazers\\u003cbr\\u003eFTA: 21.6\",\"Sacramento Kings\\u003cbr\\u003eFTA: 21.4\",\"San Antonio Spurs\\u003cbr\\u003eFTA: 19.8\",\"Oklahoma City Thunder\\u003cbr\\u003eFTA: 21.6\",\"Toronto Raptors\\u003cbr\\u003eFTA: 21.4\",\"Utah Jazz\\u003cbr\\u003eFTA: 22.4\",\"Memphis Grizzlies\\u003cbr\\u003eFTA: 21.6\",\"Washington Wizards\\u003cbr\\u003eFTA: 20.5\",\"Detroit Pistons\\u003cbr\\u003eFTA: 22.3\",\"Charlotte Hornets\\u003cbr\\u003eFTA: 19.5\"],\"x\":[\"FTA\",\"FTA\",\"FTA\",\"FTA\",\"FTA\",\"FTA\",\"FTA\",\"FTA\",\"FTA\",\"FTA\",\"FTA\",\"FTA\",\"FTA\",\"FTA\",\"FTA\",\"FTA\",\"FTA\",\"FTA\",\"FTA\",\"FTA\",\"FTA\",\"FTA\",\"FTA\",\"FTA\",\"FTA\",\"FTA\",\"FTA\",\"FTA\",\"FTA\",\"FTA\"],\"y\":[0.6307651837439385,0.1091107907908424,0.30380706788201195,0.6526559657980053,0.4434253450814367,0.5475301904552454,0.2991286736433878,0.21319355742143253,0.8368095457337956,0.586986098892817,0.604480375449775,0.5373281259734242,0.7360714311123555,0.7338002984330947,0.3952195985738465,0.5742097446661516,1.0,0.35507546345639973,0.8810947541124365,0.7040171913057733,0.39682717771539977,0.36893921427818377,0.05777729053012148,0.41171970365766075,0.35854443031061134,0.5542428259467371,0.39566234232563424,0.1921488969432903,0.5441782515213491,0.0],\"type\":\"scatter\"},{\"hovertemplate\":\"\\u003cb\\u003e%{text}\\u003c\\u002fb\\u003e\\u003cbr\\u003eNormalized: %{y:.2f}\\u003cbr\\u003e\\u003cextra\\u003e\\u003c\\u002fextra\\u003e\",\"marker\":{\"color\":\"#8B0000\",\"line\":{\"color\":\"#0A0A0A\",\"width\":3},\"opacity\":1,\"size\":21,\"symbol\":\"diamond\"},\"mode\":\"markers+text\",\"name\":\"Minnesota Timberwolves\",\"showlegend\":false,\"text\":[\"23.6\"],\"textfont\":{\"color\":\"#ffffff\",\"size\":20},\"textposition\":\"top right\",\"x\":[\"FTA\"],\"y\":[0.7744676686996925],\"type\":\"scatter\"},{\"hovertemplate\":\"\\u003cb\\u003e%{text}\\u003c\\u002fb\\u003e\\u003cbr\\u003eNormalized: %{y:.2f}\\u003cbr\\u003e\\u003cextra\\u003e\\u003c\\u002fextra\\u003e\",\"marker\":{\"color\":\"#89CFF0\",\"line\":{\"color\":\"white\",\"width\":3},\"opacity\":0.7,\"size\":18,\"symbol\":\"circle\"},\"mode\":\"markers\",\"name\":\"Team Season Averages per NBA Team\",\"showlegend\":false,\"text\":[\"Atlanta Hawks\\u003cbr\\u003e3P%: 36.8\",\"Boston Celtics\\u003cbr\\u003e3P%: 38.2\",\"Cleveland Cavaliers\\u003cbr\\u003e3P%: 36.8\",\"New Orleans Pelicans\\u003cbr\\u003e3P%: 37.5\",\"Chicago Bulls\\u003cbr\\u003e3P%: 36.1\",\"Dallas Mavericks\\u003cbr\\u003e3P%: 36.9\",\"Denver Nuggets\\u003cbr\\u003e3P%: 37.0\",\"Golden State Warriors\\u003cbr\\u003e3P%: 37.6\",\"Houston Rockets\\u003cbr\\u003e3P%: 35.1\",\"Los Angeles Clippers\\u003cbr\\u003e3P%: 37.7\",\"Los Angeles Lakers\\u003cbr\\u003e3P%: 37.7\",\"Miami Heat\\u003cbr\\u003e3P%: 36.6\",\"Milwaukee Bucks\\u003cbr\\u003e3P%: 36.9\",\"Minnesota Timberwolves\\u003cbr\\u003e3P%: 38.0\",\"Brooklyn Nets\\u003cbr\\u003e3P%: 36.4\",\"New York Knicks\\u003cbr\\u003e3P%: 36.8\",\"Orlando Magic\\u003cbr\\u003e3P%: 35.3\",\"Indiana Pacers\\u003cbr\\u003e3P%: 37.3\",\"Philadelphia 76ers\\u003cbr\\u003e3P%: 36.1\",\"Phoenix Suns\\u003cbr\\u003e3P%: 37.8\",\"Portland Trail Blazers\\u003cbr\\u003e3P%: 34.6\",\"Sacramento Kings\\u003cbr\\u003e3P%: 37.0\",\"San Antonio Spurs\\u003cbr\\u003e3P%: 35.2\",\"Oklahoma City Thunder\\u003cbr\\u003e3P%: 38.3\",\"Toronto Raptors\\u003cbr\\u003e3P%: 35.4\",\"Utah Jazz\\u003cbr\\u003e3P%: 36.3\",\"Memphis Grizzlies\\u003cbr\\u003e3P%: 35.2\",\"Washington Wizards\\u003cbr\\u003e3P%: 35.1\",\"Detroit Pistons\\u003cbr\\u003e3P%: 35.3\",\"Charlotte Hornets\\u003cbr\\u003e3P%: 35.9\"],\"x\":[\"3P%\",\"3P%\",\"3P%\",\"3P%\",\"3P%\",\"3P%\",\"3P%\",\"3P%\",\"3P%\",\"3P%\",\"3P%\",\"3P%\",\"3P%\",\"3P%\",\"3P%\",\"3P%\",\"3P%\",\"3P%\",\"3P%\",\"3P%\",\"3P%\",\"3P%\",\"3P%\",\"3P%\",\"3P%\",\"3P%\",\"3P%\",\"3P%\",\"3P%\",\"3P%\"],\"y\":[0.5336360634299844,0.8730055142827187,0.5410696730787343,0.7118481941498871,0.3580289253641844,0.5638842748881867,0.598020770285526,0.7253152499931605,0.12827440310209326,0.7665399465939711,0.7514309965413997,0.4894850736896412,0.574992510234889,0.8422399910506666,0.4358108554748661,0.5445347332995567,0.17280505291582138,0.6530756633494441,0.3721874923470665,0.785778246805366,0.0,0.5808260091394715,0.14990164414810714,0.8981013617072335,0.184428476545337,0.4051267691772491,0.1455784682017498,0.1192615197278748,0.16110074287857934,0.3293277286649712],\"type\":\"scatter\"},{\"hovertemplate\":\"\\u003cb\\u003e%{text}\\u003c\\u002fb\\u003e\\u003cbr\\u003eNormalized: %{y:.2f}\\u003cbr\\u003e\\u003cextra\\u003e\\u003c\\u002fextra\\u003e\",\"marker\":{\"color\":\"#8B0000\",\"line\":{\"color\":\"#0A0A0A\",\"width\":3},\"opacity\":1,\"size\":21,\"symbol\":\"diamond\"},\"mode\":\"markers+text\",\"name\":\"Minnesota Timberwolves\",\"showlegend\":false,\"text\":[\"38.7\"],\"textfont\":{\"color\":\"#ffffff\",\"size\":20},\"textposition\":\"top right\",\"x\":[\"3P%\"],\"y\":[1.0],\"type\":\"scatter\"},{\"hovertemplate\":\"\\u003cb\\u003e%{text}\\u003c\\u002fb\\u003e\\u003cbr\\u003eNormalized: %{y:.2f}\\u003cbr\\u003e\\u003cextra\\u003e\\u003c\\u002fextra\\u003e\",\"marker\":{\"color\":\"#89CFF0\",\"line\":{\"color\":\"white\",\"width\":3},\"opacity\":0.7,\"size\":18,\"symbol\":\"circle\"},\"mode\":\"markers\",\"name\":\"Team Season Averages per NBA Team\",\"showlegend\":false,\"text\":[\"Atlanta Hawks\\u003cbr\\u003eRim Freq: 29.9\",\"Boston Celtics\\u003cbr\\u003eRim Freq: 26.5\",\"Cleveland Cavaliers\\u003cbr\\u003eRim Freq: 31.1\",\"New Orleans Pelicans\\u003cbr\\u003eRim Freq: 30.1\",\"Chicago Bulls\\u003cbr\\u003eRim Freq: 30.3\",\"Dallas Mavericks\\u003cbr\\u003eRim Freq: 26.5\",\"Denver Nuggets\\u003cbr\\u003eRim Freq: 31.9\",\"Golden State Warriors\\u003cbr\\u003eRim Freq: 24.1\",\"Houston Rockets\\u003cbr\\u003eRim Freq: 29.9\",\"Los Angeles Clippers\\u003cbr\\u003eRim Freq: 28.3\",\"Los Angeles Lakers\\u003cbr\\u003eRim Freq: 31.2\",\"Miami Heat\\u003cbr\\u003eRim Freq: 24.8\",\"Milwaukee Bucks\\u003cbr\\u003eRim Freq: 28.3\",\"Minnesota Timberwolves\\u003cbr\\u003eRim Freq: 29.7\",\"Brooklyn Nets\\u003cbr\\u003eRim Freq: 29.3\",\"New York Knicks\\u003cbr\\u003eRim Freq: 29.5\",\"Orlando Magic\\u003cbr\\u003eRim Freq: 33.2\",\"Indiana Pacers\\u003cbr\\u003eRim Freq: 32.3\",\"Philadelphia 76ers\\u003cbr\\u003eRim Freq: 31.3\",\"Phoenix Suns\\u003cbr\\u003eRim Freq: 27.3\",\"Portland Trail Blazers\\u003cbr\\u003eRim Freq: 30.5\",\"Sacramento Kings\\u003cbr\\u003eRim Freq: 25.7\",\"San Antonio Spurs\\u003cbr\\u003eRim Freq: 30.9\",\"Oklahoma City Thunder\\u003cbr\\u003eRim Freq: 29.7\",\"Toronto Raptors\\u003cbr\\u003eRim Freq: 31.4\",\"Utah Jazz\\u003cbr\\u003eRim Freq: 26.8\",\"Memphis Grizzlies\\u003cbr\\u003eRim Freq: 29.4\",\"Washington Wizards\\u003cbr\\u003eRim Freq: 31.1\",\"Detroit Pistons\\u003cbr\\u003eRim Freq: 29.7\",\"Charlotte Hornets\\u003cbr\\u003eRim Freq: 30.8\"],\"x\":[\"Rim Freq\",\"Rim Freq\",\"Rim Freq\",\"Rim Freq\",\"Rim Freq\",\"Rim Freq\",\"Rim Freq\",\"Rim Freq\",\"Rim Freq\",\"Rim Freq\",\"Rim Freq\",\"Rim Freq\",\"Rim Freq\",\"Rim Freq\",\"Rim Freq\",\"Rim Freq\",\"Rim Freq\",\"Rim Freq\",\"Rim Freq\",\"Rim Freq\",\"Rim Freq\",\"Rim Freq\",\"Rim Freq\",\"Rim Freq\",\"Rim Freq\",\"Rim Freq\",\"Rim Freq\",\"Rim Freq\",\"Rim Freq\",\"Rim Freq\"],\"y\":[0.6376123704162451,0.260289129389772,0.7735070934893251,0.6535020341545872,0.6851802748000875,0.26794115223973414,0.8608054846163933,0.0,0.6384377606897691,0.4605422332217328,0.781287710377168,0.07045694573245909,0.4559542935613954,0.6182776463651654,0.5721526672103354,0.5947469708977593,1.0,0.9045155150737387,0.7959606666372077,0.3561045973670809,0.6998071296315733,0.17887064832932342,0.7444746697008582,0.6182528263071116,0.8043583508671741,0.29808137085422093,0.5811591690826337,0.7736786628900569,0.6115434658326793,0.7325481231952442],\"type\":\"scatter\"},{\"hovertemplate\":\"\\u003cb\\u003e%{text}\\u003c\\u002fb\\u003e\\u003cbr\\u003eNormalized: %{y:.2f}\\u003cbr\\u003e\\u003cextra\\u003e\\u003c\\u002fextra\\u003e\",\"marker\":{\"color\":\"#8B0000\",\"line\":{\"color\":\"#0A0A0A\",\"width\":3},\"opacity\":1,\"size\":21,\"symbol\":\"diamond\"},\"mode\":\"markers+text\",\"name\":\"Minnesota Timberwolves\",\"showlegend\":false,\"text\":[\"30.3\"],\"textfont\":{\"color\":\"#ffffff\",\"size\":20},\"textposition\":\"top right\",\"x\":[\"Rim Freq\"],\"y\":[0.6822114293827424],\"type\":\"scatter\"},{\"hovertemplate\":\"\\u003cb\\u003e%{text}\\u003c\\u002fb\\u003e\\u003cbr\\u003eNormalized: %{y:.2f}\\u003cbr\\u003e\\u003cextra\\u003e\\u003c\\u002fextra\\u003e\",\"marker\":{\"color\":\"#89CFF0\",\"line\":{\"color\":\"white\",\"width\":3},\"opacity\":0.7,\"size\":18,\"symbol\":\"circle\"},\"mode\":\"markers\",\"name\":\"Team Season Averages per NBA Team\",\"showlegend\":false,\"text\":[\"Atlanta Hawks\\u003cbr\\u003eEFG%: 54.6\",\"Boston Celtics\\u003cbr\\u003eEFG%: 56.7\",\"Cleveland Cavaliers\\u003cbr\\u003eEFG%: 55.2\",\"New Orleans Pelicans\\u003cbr\\u003eEFG%: 55.4\",\"Chicago Bulls\\u003cbr\\u003eEFG%: 53.8\",\"Dallas Mavericks\\u003cbr\\u003eEFG%: 55.9\",\"Denver Nuggets\\u003cbr\\u003eEFG%: 55.5\",\"Golden State Warriors\\u003cbr\\u003eEFG%: 55.4\",\"Houston Rockets\\u003cbr\\u003eEFG%: 53.0\",\"Los Angeles Clippers\\u003cbr\\u003eEFG%: 55.7\",\"Los Angeles Lakers\\u003cbr\\u003eEFG%: 56.3\",\"Miami Heat\\u003cbr\\u003eEFG%: 53.9\",\"Milwaukee Bucks\\u003cbr\\u003eEFG%: 56.2\",\"Minnesota Timberwolves\\u003cbr\\u003eEFG%: 55.0\",\"Brooklyn Nets\\u003cbr\\u003eEFG%: 53.3\",\"New York Knicks\\u003cbr\\u003eEFG%: 54.1\",\"Orlando Magic\\u003cbr\\u003eEFG%: 54.2\",\"Indiana Pacers\\u003cbr\\u003eEFG%: 57.4\",\"Philadelphia 76ers\\u003cbr\\u003eEFG%: 53.3\",\"Phoenix Suns\\u003cbr\\u003eEFG%: 55.9\",\"Portland Trail Blazers\\u003cbr\\u003eEFG%: 51.3\",\"Sacramento Kings\\u003cbr\\u003eEFG%: 55.6\",\"San Antonio Spurs\\u003cbr\\u003eEFG%: 53.7\",\"Oklahoma City Thunder\\u003cbr\\u003eEFG%: 56.4\",\"Toronto Raptors\\u003cbr\\u003eEFG%: 54.1\",\"Utah Jazz\\u003cbr\\u003eEFG%: 54.5\",\"Memphis Grizzlies\\u003cbr\\u003eEFG%: 51.7\",\"Washington Wizards\\u003cbr\\u003eEFG%: 54.3\",\"Detroit Pistons\\u003cbr\\u003eEFG%: 53.2\",\"Charlotte Hornets\\u003cbr\\u003eEFG%: 53.8\"],\"x\":[\"EFG%\",\"EFG%\",\"EFG%\",\"EFG%\",\"EFG%\",\"EFG%\",\"EFG%\",\"EFG%\",\"EFG%\",\"EFG%\",\"EFG%\",\"EFG%\",\"EFG%\",\"EFG%\",\"EFG%\",\"EFG%\",\"EFG%\",\"EFG%\",\"EFG%\",\"EFG%\",\"EFG%\",\"EFG%\",\"EFG%\",\"EFG%\",\"EFG%\",\"EFG%\",\"EFG%\",\"EFG%\",\"EFG%\",\"EFG%\"],\"y\":[0.5371751397812847,0.8850390865778124,0.641184791180974,0.6751946734541576,0.4118843572418829,0.7566591070272146,0.6800561160000491,0.6634758592862493,0.2718264116317073,0.7227053282756213,0.815761362906601,0.42029855318186016,0.7946448051757198,0.6118727556408619,0.3294363643597844,0.44959991323930915,0.4653752025101845,1.0,0.32357927708530454,0.7537296440035366,0.0,0.6953268035124776,0.38578572932950195,0.8422572208780288,0.46211472846909096,0.5177691815521417,0.06794195436428474,0.4848482219721326,0.3146534201236779,0.405107150765998],\"type\":\"scatter\"},{\"hovertemplate\":\"\\u003cb\\u003e%{text}\\u003c\\u002fb\\u003e\\u003cbr\\u003eNormalized: %{y:.2f}\\u003cbr\\u003e\\u003cextra\\u003e\\u003c\\u002fextra\\u003e\",\"marker\":{\"color\":\"#8B0000\",\"line\":{\"color\":\"#0A0A0A\",\"width\":3},\"opacity\":1,\"size\":21,\"symbol\":\"diamond\"},\"mode\":\"markers+text\",\"name\":\"Minnesota Timberwolves\",\"showlegend\":false,\"text\":[\"55.9\"],\"textfont\":{\"color\":\"#ffffff\",\"size\":20},\"textposition\":\"top right\",\"x\":[\"EFG%\"],\"y\":[0.7590974979187397],\"type\":\"scatter\"},{\"hovertemplate\":\"\\u003cb\\u003e%{text}\\u003c\\u002fb\\u003e\\u003cbr\\u003eNormalized: %{y:.2f}\\u003cbr\\u003e\\u003cextra\\u003e\\u003c\\u002fextra\\u003e\",\"marker\":{\"color\":\"#89CFF0\",\"line\":{\"color\":\"white\",\"width\":3},\"opacity\":0.7,\"size\":18,\"symbol\":\"circle\"},\"mode\":\"markers\",\"name\":\"Team Season Averages per NBA Team\",\"showlegend\":false,\"text\":[\"Atlanta Hawks\\u003cbr\\u003eRim%: 63.5\",\"Boston Celtics\\u003cbr\\u003eRim%: 69.2\",\"Cleveland Cavaliers\\u003cbr\\u003eRim%: 65.3\",\"New Orleans Pelicans\\u003cbr\\u003eRim%: 66.3\",\"Chicago Bulls\\u003cbr\\u003eRim%: 63.1\",\"Dallas Mavericks\\u003cbr\\u003eRim%: 70.2\",\"Denver Nuggets\\u003cbr\\u003eRim%: 65.0\",\"Golden State Warriors\\u003cbr\\u003eRim%: 69.9\",\"Houston Rockets\\u003cbr\\u003eRim%: 64.3\",\"Los Angeles Clippers\\u003cbr\\u003eRim%: 67.4\",\"Los Angeles Lakers\\u003cbr\\u003eRim%: 71.7\",\"Miami Heat\\u003cbr\\u003eRim%: 64.3\",\"Milwaukee Bucks\\u003cbr\\u003eRim%: 70.0\",\"Minnesota Timberwolves\\u003cbr\\u003eRim%: 66.8\",\"Brooklyn Nets\\u003cbr\\u003eRim%: 65.2\",\"New York Knicks\\u003cbr\\u003eRim%: 63.2\",\"Orlando Magic\\u003cbr\\u003eRim%: 67.1\",\"Indiana Pacers\\u003cbr\\u003eRim%: 68.0\",\"Philadelphia 76ers\\u003cbr\\u003eRim%: 63.9\",\"Phoenix Suns\\u003cbr\\u003eRim%: 67.0\",\"Portland Trail Blazers\\u003cbr\\u003eRim%: 62.4\",\"Sacramento Kings\\u003cbr\\u003eRim%: 68.4\",\"San Antonio Spurs\\u003cbr\\u003eRim%: 66.2\",\"Oklahoma City Thunder\\u003cbr\\u003eRim%: 66.6\",\"Toronto Raptors\\u003cbr\\u003eRim%: 67.9\",\"Utah Jazz\\u003cbr\\u003eRim%: 68.7\",\"Memphis Grizzlies\\u003cbr\\u003eRim%: 61.2\",\"Washington Wizards\\u003cbr\\u003eRim%: 70.1\",\"Detroit Pistons\\u003cbr\\u003eRim%: 65.3\",\"Charlotte Hornets\\u003cbr\\u003eRim%: 65.9\"],\"x\":[\"Rim%\",\"Rim%\",\"Rim%\",\"Rim%\",\"Rim%\",\"Rim%\",\"Rim%\",\"Rim%\",\"Rim%\",\"Rim%\",\"Rim%\",\"Rim%\",\"Rim%\",\"Rim%\",\"Rim%\",\"Rim%\",\"Rim%\",\"Rim%\",\"Rim%\",\"Rim%\",\"Rim%\",\"Rim%\",\"Rim%\",\"Rim%\",\"Rim%\",\"Rim%\",\"Rim%\",\"Rim%\",\"Rim%\",\"Rim%\"],\"y\":[0.21734168482805405,0.7588377015521601,0.3932185462672537,0.48526118993068135,0.1749738920353252,0.8528531593120787,0.3570672869619811,0.8237509759355373,0.2967014855684402,0.5914233041956276,1.0,0.29380050115034084,0.8413111963768563,0.5318261065616445,0.3760624020561716,0.19070580747124932,0.5629032311018216,0.6455257737042226,0.2554428933620283,0.5522419919573966,0.11363981869333806,0.6817439584775924,0.4725789566095351,0.5113868539380562,0.6370957843558838,0.7160109051190684,0.0,0.8492110161476392,0.3875209457965747,0.4480212373747534],\"type\":\"scatter\"},{\"hovertemplate\":\"\\u003cb\\u003e%{text}\\u003c\\u002fb\\u003e\\u003cbr\\u003eNormalized: %{y:.2f}\\u003cbr\\u003e\\u003cextra\\u003e\\u003c\\u002fextra\\u003e\",\"marker\":{\"color\":\"#8B0000\",\"line\":{\"color\":\"#0A0A0A\",\"width\":3},\"opacity\":1,\"size\":21,\"symbol\":\"diamond\"},\"mode\":\"markers+text\",\"name\":\"Minnesota Timberwolves\",\"showlegend\":false,\"text\":[\"67.6\"],\"textfont\":{\"color\":\"#ffffff\",\"size\":20},\"textposition\":\"top right\",\"x\":[\"Rim%\"],\"y\":[0.6081527289797757],\"type\":\"scatter\"},{\"hovertemplate\":\"\\u003cb\\u003e%{text}\\u003c\\u002fb\\u003e\\u003cbr\\u003eNormalized: %{y:.2f}\\u003cbr\\u003e\\u003cextra\\u003e\\u003c\\u002fextra\\u003e\",\"marker\":{\"color\":\"#89CFF0\",\"line\":{\"color\":\"white\",\"width\":3},\"opacity\":0.7,\"size\":18,\"symbol\":\"circle\"},\"mode\":\"markers\",\"name\":\"Team Season Averages per NBA Team\",\"showlegend\":false,\"text\":[\"Atlanta Hawks\\u003cbr\\u003eTOV%: 11.8\",\"Boston Celtics\\u003cbr\\u003eTOV%: 10.8\",\"Cleveland Cavaliers\\u003cbr\\u003eTOV%: 12.4\",\"New Orleans Pelicans\\u003cbr\\u003eTOV%: 12.0\",\"Chicago Bulls\\u003cbr\\u003eTOV%: 11.4\",\"Dallas Mavericks\\u003cbr\\u003eTOV%: 11.4\",\"Denver Nuggets\\u003cbr\\u003eTOV%: 11.4\",\"Golden State Warriors\\u003cbr\\u003eTOV%: 12.3\",\"Houston Rockets\\u003cbr\\u003eTOV%: 11.4\",\"Los Angeles Clippers\\u003cbr\\u003eTOV%: 11.9\",\"Los Angeles Lakers\\u003cbr\\u003eTOV%: 12.3\",\"Miami Heat\\u003cbr\\u003eTOV%: 11.9\",\"Milwaukee Bucks\\u003cbr\\u003eTOV%: 11.3\",\"Minnesota Timberwolves\\u003cbr\\u003eTOV%: 12.9\",\"Brooklyn Nets\\u003cbr\\u003eTOV%: 11.7\",\"New York Knicks\\u003cbr\\u003eTOV%: 11.9\",\"Orlando Magic\\u003cbr\\u003eTOV%: 13.4\",\"Indiana Pacers\\u003cbr\\u003eTOV%: 11.4\",\"Philadelphia 76ers\\u003cbr\\u003eTOV%: 11.2\",\"Phoenix Suns\\u003cbr\\u003eTOV%: 13.0\",\"Portland Trail Blazers\\u003cbr\\u003eTOV%: 13.3\",\"Sacramento Kings\\u003cbr\\u003eTOV%: 11.8\",\"San Antonio Spurs\\u003cbr\\u003eTOV%: 12.9\",\"Oklahoma City Thunder\\u003cbr\\u003eTOV%: 11.8\",\"Toronto Raptors\\u003cbr\\u003eTOV%: 12.3\",\"Utah Jazz\\u003cbr\\u003eTOV%: 13.0\",\"Memphis Grizzlies\\u003cbr\\u003eTOV%: 13.4\",\"Washington Wizards\\u003cbr\\u003eTOV%: 12.2\",\"Detroit Pistons\\u003cbr\\u003eTOV%: 13.0\",\"Charlotte Hornets\\u003cbr\\u003eTOV%: 12.6\"],\"x\":[\"TOV%\",\"TOV%\",\"TOV%\",\"TOV%\",\"TOV%\",\"TOV%\",\"TOV%\",\"TOV%\",\"TOV%\",\"TOV%\",\"TOV%\",\"TOV%\",\"TOV%\",\"TOV%\",\"TOV%\",\"TOV%\",\"TOV%\",\"TOV%\",\"TOV%\",\"TOV%\",\"TOV%\",\"TOV%\",\"TOV%\",\"TOV%\",\"TOV%\",\"TOV%\",\"TOV%\",\"TOV%\",\"TOV%\",\"TOV%\"],\"y\":[0.38604129681507704,0.0,0.596782663862454,0.46439449168737923,0.22029498290723293,0.2240332906596958,0.24767866378161685,0.5679638120281263,0.2332314599890548,0.4425790929316049,0.5758489998826866,0.43224946121621866,0.2190650991886729,0.817612742925931,0.35463915063468576,0.442647353763582,0.9993650265904526,0.25110545127143524,0.16859318145644675,0.8249947075513084,0.9388837993059278,0.38571012359291323,0.804294490988438,0.4026665848560427,0.5850247303395131,0.8517314708548911,1.0,0.5329616333850664,0.8356346583711236,0.6830579555741458],\"type\":\"scatter\"},{\"hovertemplate\":\"\\u003cb\\u003e%{text}\\u003c\\u002fb\\u003e\\u003cbr\\u003eNormalized: %{y:.2f}\\u003cbr\\u003e\\u003cextra\\u003e\\u003c\\u002fextra\\u003e\",\"marker\":{\"color\":\"#8B0000\",\"line\":{\"color\":\"#0A0A0A\",\"width\":3},\"opacity\":1,\"size\":21,\"symbol\":\"diamond\"},\"mode\":\"markers+text\",\"name\":\"Minnesota Timberwolves\",\"showlegend\":false,\"text\":[\"13.0\"],\"textfont\":{\"color\":\"#ffffff\",\"size\":20},\"textposition\":\"top right\",\"x\":[\"TOV%\"],\"y\":[0.8257255539631592],\"type\":\"scatter\"},{\"hovertemplate\":\"\\u003cb\\u003e%{text}\\u003c\\u002fb\\u003e\\u003cbr\\u003eNormalized: %{y:.2f}\\u003cbr\\u003e\\u003cextra\\u003e\\u003c\\u002fextra\\u003e\",\"marker\":{\"color\":\"#89CFF0\",\"line\":{\"color\":\"white\",\"width\":3},\"opacity\":0.7,\"size\":18,\"symbol\":\"circle\"},\"mode\":\"markers\",\"name\":\"Team Season Averages per NBA Team\",\"showlegend\":false,\"text\":[\"Atlanta Hawks\\u003cbr\\u003eDREB%: 72.0\",\"Boston Celtics\\u003cbr\\u003eDREB%: 73.0\",\"Cleveland Cavaliers\\u003cbr\\u003eDREB%: 73.0\",\"New Orleans Pelicans\\u003cbr\\u003eDREB%: 73.2\",\"Chicago Bulls\\u003cbr\\u003eDREB%: 72.2\",\"Dallas Mavericks\\u003cbr\\u003eDREB%: 72.4\",\"Denver Nuggets\\u003cbr\\u003eDREB%: 72.3\",\"Golden State Warriors\\u003cbr\\u003eDREB%: 72.2\",\"Houston Rockets\\u003cbr\\u003eDREB%: 72.3\",\"Los Angeles Clippers\\u003cbr\\u003eDREB%: 71.4\",\"Los Angeles Lakers\\u003cbr\\u003eDREB%: 74.1\",\"Miami Heat\\u003cbr\\u003eDREB%: 74.4\",\"Milwaukee Bucks\\u003cbr\\u003eDREB%: 74.3\",\"Minnesota Timberwolves\\u003cbr\\u003eDREB%: 73.4\",\"Brooklyn Nets\\u003cbr\\u003eDREB%: 72.4\",\"New York Knicks\\u003cbr\\u003eDREB%: 72.1\",\"Orlando Magic\\u003cbr\\u003eDREB%: 73.9\",\"Indiana Pacers\\u003cbr\\u003eDREB%: 70.7\",\"Philadelphia 76ers\\u003cbr\\u003eDREB%: 70.9\",\"Phoenix Suns\\u003cbr\\u003eDREB%: 72.3\",\"Portland Trail Blazers\\u003cbr\\u003eDREB%: 70.3\",\"Sacramento Kings\\u003cbr\\u003eDREB%: 74.6\",\"San Antonio Spurs\\u003cbr\\u003eDREB%: 73.2\",\"Oklahoma City Thunder\\u003cbr\\u003eDREB%: 71.7\",\"Toronto Raptors\\u003cbr\\u003eDREB%: 70.8\",\"Utah Jazz\\u003cbr\\u003eDREB%: 71.4\",\"Memphis Grizzlies\\u003cbr\\u003eDREB%: 71.6\",\"Washington Wizards\\u003cbr\\u003eDREB%: 70.2\",\"Detroit Pistons\\u003cbr\\u003eDREB%: 73.9\",\"Charlotte Hornets\\u003cbr\\u003eDREB%: 72.3\"],\"x\":[\"DREB%\",\"DREB%\",\"DREB%\",\"DREB%\",\"DREB%\",\"DREB%\",\"DREB%\",\"DREB%\",\"DREB%\",\"DREB%\",\"DREB%\",\"DREB%\",\"DREB%\",\"DREB%\",\"DREB%\",\"DREB%\",\"DREB%\",\"DREB%\",\"DREB%\",\"DREB%\",\"DREB%\",\"DREB%\",\"DREB%\",\"DREB%\",\"DREB%\",\"DREB%\",\"DREB%\",\"DREB%\",\"DREB%\",\"DREB%\"],\"y\":[0.4025107253619211,0.6421512984208633,0.6512674891936037,0.6808995636332718,0.45364133372822835,0.5031572850717225,0.47460863842344025,0.4659734273903915,0.4799184157830929,0.28064601909707676,0.8975225676073819,0.9688749964690189,0.9494820756896836,0.7256768220572916,0.5120717134265682,0.438795916732456,0.840277163586105,0.1117285062108877,0.1578992080760031,0.4725890790014944,0.01705438995665176,1.0,0.6779803512070899,0.3533692014300591,0.137401828479355,0.27230595931425583,0.31647553989363786,0.0,0.843778800908332,0.487585771498086],\"type\":\"scatter\"},{\"hovertemplate\":\"\\u003cb\\u003e%{text}\\u003c\\u002fb\\u003e\\u003cbr\\u003eNormalized: %{y:.2f}\\u003cbr\\u003e\\u003cextra\\u003e\\u003c\\u002fextra\\u003e\",\"marker\":{\"color\":\"#8B0000\",\"line\":{\"color\":\"#0A0A0A\",\"width\":3},\"opacity\":1,\"size\":21,\"symbol\":\"diamond\"},\"mode\":\"markers+text\",\"name\":\"Minnesota Timberwolves\",\"showlegend\":false,\"text\":[\"73.3\"],\"textfont\":{\"color\":\"#ffffff\",\"size\":20},\"textposition\":\"top right\",\"x\":[\"DREB%\"],\"y\":[0.7034960687444247],\"type\":\"scatter\"},{\"hovertemplate\":\"\\u003cb\\u003e%{text}\\u003c\\u002fb\\u003e\\u003cbr\\u003eNormalized: %{y:.2f}\\u003cbr\\u003e\\u003cextra\\u003e\\u003c\\u002fextra\\u003e\",\"marker\":{\"color\":\"#89CFF0\",\"line\":{\"color\":\"white\",\"width\":3},\"opacity\":0.7,\"size\":18,\"symbol\":\"circle\"},\"mode\":\"markers\",\"name\":\"Team Season Averages per NBA Team\",\"showlegend\":false,\"text\":[\"Atlanta Hawks\\u003cbr\\u003eOREB%: 29.9\",\"Boston Celtics\\u003cbr\\u003eOREB%: 27.6\",\"Cleveland Cavaliers\\u003cbr\\u003eOREB%: 26.8\",\"New Orleans Pelicans\\u003cbr\\u003eOREB%: 27.4\",\"Chicago Bulls\\u003cbr\\u003eOREB%: 28.5\",\"Dallas Mavericks\\u003cbr\\u003eOREB%: 25.7\",\"Denver Nuggets\\u003cbr\\u003eOREB%: 28.8\",\"Golden State Warriors\\u003cbr\\u003eOREB%: 30.0\",\"Houston Rockets\\u003cbr\\u003eOREB%: 28.4\",\"Los Angeles Clippers\\u003cbr\\u003eOREB%: 27.7\",\"Los Angeles Lakers\\u003cbr\\u003eOREB%: 24.0\",\"Miami Heat\\u003cbr\\u003eOREB%: 25.4\",\"Milwaukee Bucks\\u003cbr\\u003eOREB%: 24.6\",\"Minnesota Timberwolves\\u003cbr\\u003eOREB%: 26.5\",\"Brooklyn Nets\\u003cbr\\u003eOREB%: 28.1\",\"New York Knicks\\u003cbr\\u003eOREB%: 31.6\",\"Orlando Magic\\u003cbr\\u003eOREB%: 28.3\",\"Indiana Pacers\\u003cbr\\u003eOREB%: 28.1\",\"Philadelphia 76ers\\u003cbr\\u003eOREB%: 28.6\",\"Phoenix Suns\\u003cbr\\u003eOREB%: 28.3\",\"Portland Trail Blazers\\u003cbr\\u003eOREB%: 30.7\",\"Sacramento Kings\\u003cbr\\u003eOREB%: 27.3\",\"San Antonio Spurs\\u003cbr\\u003eOREB%: 26.2\",\"Oklahoma City Thunder\\u003cbr\\u003eOREB%: 25.3\",\"Toronto Raptors\\u003cbr\\u003eOREB%: 28.1\",\"Utah Jazz\\u003cbr\\u003eOREB%: 30.9\",\"Memphis Grizzlies\\u003cbr\\u003eOREB%: 27.8\",\"Washington Wizards\\u003cbr\\u003eOREB%: 25.0\",\"Detroit Pistons\\u003cbr\\u003eOREB%: 26.5\",\"Charlotte Hornets\\u003cbr\\u003eOREB%: 25.0\"],\"x\":[\"OREB%\",\"OREB%\",\"OREB%\",\"OREB%\",\"OREB%\",\"OREB%\",\"OREB%\",\"OREB%\",\"OREB%\",\"OREB%\",\"OREB%\",\"OREB%\",\"OREB%\",\"OREB%\",\"OREB%\",\"OREB%\",\"OREB%\",\"OREB%\",\"OREB%\",\"OREB%\",\"OREB%\",\"OREB%\",\"OREB%\",\"OREB%\",\"OREB%\",\"OREB%\",\"OREB%\",\"OREB%\",\"OREB%\",\"OREB%\"],\"y\":[0.7765286571304952,0.46608220391601485,0.36865874196199755,0.44709826420785825,0.5928575275009416,0.22905535856831172,0.6273848100722113,0.791666264001889,0.5726542523114069,0.48369176176062334,0.0,0.1867438464361042,0.0831040590382166,0.3267543566333013,0.5422982954283988,0.9999999999999996,0.5595362266187562,0.536358131890581,0.6018159367124851,0.5616392051318173,0.8784675134145501,0.42850709264825193,0.29255412906894884,0.17706507103458247,0.5340202222666601,0.8966066193780224,0.500508000785012,0.13912796878674216,0.33108106211078203,0.12899215196353353],\"type\":\"scatter\"},{\"hovertemplate\":\"\\u003cb\\u003e%{text}\\u003c\\u002fb\\u003e\\u003cbr\\u003eNormalized: %{y:.2f}\\u003cbr\\u003e\\u003cextra\\u003e\\u003c\\u002fextra\\u003e\",\"marker\":{\"color\":\"#8B0000\",\"line\":{\"color\":\"#0A0A0A\",\"width\":3},\"opacity\":1,\"size\":21,\"symbol\":\"diamond\"},\"mode\":\"markers+text\",\"name\":\"Minnesota Timberwolves\",\"showlegend\":false,\"text\":[\"26.4\"],\"textfont\":{\"color\":\"#ffffff\",\"size\":20},\"textposition\":\"top right\",\"x\":[\"OREB%\"],\"y\":[0.32047617661967553],\"type\":\"scatter\"}],                        {\"template\":{\"data\":{\"histogram2dcontour\":[{\"type\":\"histogram2dcontour\",\"colorbar\":{\"outlinewidth\":0,\"ticks\":\"\"},\"colorscale\":[[0.0,\"#0d0887\"],[0.1111111111111111,\"#46039f\"],[0.2222222222222222,\"#7201a8\"],[0.3333333333333333,\"#9c179e\"],[0.4444444444444444,\"#bd3786\"],[0.5555555555555556,\"#d8576b\"],[0.6666666666666666,\"#ed7953\"],[0.7777777777777778,\"#fb9f3a\"],[0.8888888888888888,\"#fdca26\"],[1.0,\"#f0f921\"]]}],\"choropleth\":[{\"type\":\"choropleth\",\"colorbar\":{\"outlinewidth\":0,\"ticks\":\"\"}}],\"histogram2d\":[{\"type\":\"histogram2d\",\"colorbar\":{\"outlinewidth\":0,\"ticks\":\"\"},\"colorscale\":[[0.0,\"#0d0887\"],[0.1111111111111111,\"#46039f\"],[0.2222222222222222,\"#7201a8\"],[0.3333333333333333,\"#9c179e\"],[0.4444444444444444,\"#bd3786\"],[0.5555555555555556,\"#d8576b\"],[0.6666666666666666,\"#ed7953\"],[0.7777777777777778,\"#fb9f3a\"],[0.8888888888888888,\"#fdca26\"],[1.0,\"#f0f921\"]]}],\"heatmap\":[{\"type\":\"heatmap\",\"colorbar\":{\"outlinewidth\":0,\"ticks\":\"\"},\"colorscale\":[[0.0,\"#0d0887\"],[0.1111111111111111,\"#46039f\"],[0.2222222222222222,\"#7201a8\"],[0.3333333333333333,\"#9c179e\"],[0.4444444444444444,\"#bd3786\"],[0.5555555555555556,\"#d8576b\"],[0.6666666666666666,\"#ed7953\"],[0.7777777777777778,\"#fb9f3a\"],[0.8888888888888888,\"#fdca26\"],[1.0,\"#f0f921\"]]}],\"heatmapgl\":[{\"type\":\"heatmapgl\",\"colorbar\":{\"outlinewidth\":0,\"ticks\":\"\"},\"colorscale\":[[0.0,\"#0d0887\"],[0.1111111111111111,\"#46039f\"],[0.2222222222222222,\"#7201a8\"],[0.3333333333333333,\"#9c179e\"],[0.4444444444444444,\"#bd3786\"],[0.5555555555555556,\"#d8576b\"],[0.6666666666666666,\"#ed7953\"],[0.7777777777777778,\"#fb9f3a\"],[0.8888888888888888,\"#fdca26\"],[1.0,\"#f0f921\"]]}],\"contourcarpet\":[{\"type\":\"contourcarpet\",\"colorbar\":{\"outlinewidth\":0,\"ticks\":\"\"}}],\"contour\":[{\"type\":\"contour\",\"colorbar\":{\"outlinewidth\":0,\"ticks\":\"\"},\"colorscale\":[[0.0,\"#0d0887\"],[0.1111111111111111,\"#46039f\"],[0.2222222222222222,\"#7201a8\"],[0.3333333333333333,\"#9c179e\"],[0.4444444444444444,\"#bd3786\"],[0.5555555555555556,\"#d8576b\"],[0.6666666666666666,\"#ed7953\"],[0.7777777777777778,\"#fb9f3a\"],[0.8888888888888888,\"#fdca26\"],[1.0,\"#f0f921\"]]}],\"surface\":[{\"type\":\"surface\",\"colorbar\":{\"outlinewidth\":0,\"ticks\":\"\"},\"colorscale\":[[0.0,\"#0d0887\"],[0.1111111111111111,\"#46039f\"],[0.2222222222222222,\"#7201a8\"],[0.3333333333333333,\"#9c179e\"],[0.4444444444444444,\"#bd3786\"],[0.5555555555555556,\"#d8576b\"],[0.6666666666666666,\"#ed7953\"],[0.7777777777777778,\"#fb9f3a\"],[0.8888888888888888,\"#fdca26\"],[1.0,\"#f0f921\"]]}],\"mesh3d\":[{\"type\":\"mesh3d\",\"colorbar\":{\"outlinewidth\":0,\"ticks\":\"\"}}],\"scatter\":[{\"fillpattern\":{\"fillmode\":\"overlay\",\"size\":10,\"solidity\":0.2},\"type\":\"scatter\"}],\"parcoords\":[{\"type\":\"parcoords\",\"line\":{\"colorbar\":{\"outlinewidth\":0,\"ticks\":\"\"}}}],\"scatterpolargl\":[{\"type\":\"scatterpolargl\",\"marker\":{\"colorbar\":{\"outlinewidth\":0,\"ticks\":\"\"}}}],\"bar\":[{\"error_x\":{\"color\":\"#2a3f5f\"},\"error_y\":{\"color\":\"#2a3f5f\"},\"marker\":{\"line\":{\"color\":\"#E5ECF6\",\"width\":0.5},\"pattern\":{\"fillmode\":\"overlay\",\"size\":10,\"solidity\":0.2}},\"type\":\"bar\"}],\"scattergeo\":[{\"type\":\"scattergeo\",\"marker\":{\"colorbar\":{\"outlinewidth\":0,\"ticks\":\"\"}}}],\"scatterpolar\":[{\"type\":\"scatterpolar\",\"marker\":{\"colorbar\":{\"outlinewidth\":0,\"ticks\":\"\"}}}],\"histogram\":[{\"marker\":{\"pattern\":{\"fillmode\":\"overlay\",\"size\":10,\"solidity\":0.2}},\"type\":\"histogram\"}],\"scattergl\":[{\"type\":\"scattergl\",\"marker\":{\"colorbar\":{\"outlinewidth\":0,\"ticks\":\"\"}}}],\"scatter3d\":[{\"type\":\"scatter3d\",\"line\":{\"colorbar\":{\"outlinewidth\":0,\"ticks\":\"\"}},\"marker\":{\"colorbar\":{\"outlinewidth\":0,\"ticks\":\"\"}}}],\"scattermapbox\":[{\"type\":\"scattermapbox\",\"marker\":{\"colorbar\":{\"outlinewidth\":0,\"ticks\":\"\"}}}],\"scatterternary\":[{\"type\":\"scatterternary\",\"marker\":{\"colorbar\":{\"outlinewidth\":0,\"ticks\":\"\"}}}],\"scattercarpet\":[{\"type\":\"scattercarpet\",\"marker\":{\"colorbar\":{\"outlinewidth\":0,\"ticks\":\"\"}}}],\"carpet\":[{\"aaxis\":{\"endlinecolor\":\"#2a3f5f\",\"gridcolor\":\"white\",\"linecolor\":\"white\",\"minorgridcolor\":\"white\",\"startlinecolor\":\"#2a3f5f\"},\"baxis\":{\"endlinecolor\":\"#2a3f5f\",\"gridcolor\":\"white\",\"linecolor\":\"white\",\"minorgridcolor\":\"white\",\"startlinecolor\":\"#2a3f5f\"},\"type\":\"carpet\"}],\"table\":[{\"cells\":{\"fill\":{\"color\":\"#EBF0F8\"},\"line\":{\"color\":\"white\"}},\"header\":{\"fill\":{\"color\":\"#C8D4E3\"},\"line\":{\"color\":\"white\"}},\"type\":\"table\"}],\"barpolar\":[{\"marker\":{\"line\":{\"color\":\"#E5ECF6\",\"width\":0.5},\"pattern\":{\"fillmode\":\"overlay\",\"size\":10,\"solidity\":0.2}},\"type\":\"barpolar\"}],\"pie\":[{\"automargin\":true,\"type\":\"pie\"}]},\"layout\":{\"autotypenumbers\":\"strict\",\"colorway\":[\"#636efa\",\"#EF553B\",\"#00cc96\",\"#ab63fa\",\"#FFA15A\",\"#19d3f3\",\"#FF6692\",\"#B6E880\",\"#FF97FF\",\"#FECB52\"],\"font\":{\"color\":\"#2a3f5f\"},\"hovermode\":\"closest\",\"hoverlabel\":{\"align\":\"left\"},\"paper_bgcolor\":\"white\",\"plot_bgcolor\":\"#E5ECF6\",\"polar\":{\"bgcolor\":\"#E5ECF6\",\"angularaxis\":{\"gridcolor\":\"white\",\"linecolor\":\"white\",\"ticks\":\"\"},\"radialaxis\":{\"gridcolor\":\"white\",\"linecolor\":\"white\",\"ticks\":\"\"}},\"ternary\":{\"bgcolor\":\"#E5ECF6\",\"aaxis\":{\"gridcolor\":\"white\",\"linecolor\":\"white\",\"ticks\":\"\"},\"baxis\":{\"gridcolor\":\"white\",\"linecolor\":\"white\",\"ticks\":\"\"},\"caxis\":{\"gridcolor\":\"white\",\"linecolor\":\"white\",\"ticks\":\"\"}},\"coloraxis\":{\"colorbar\":{\"outlinewidth\":0,\"ticks\":\"\"}},\"colorscale\":{\"sequential\":[[0.0,\"#0d0887\"],[0.1111111111111111,\"#46039f\"],[0.2222222222222222,\"#7201a8\"],[0.3333333333333333,\"#9c179e\"],[0.4444444444444444,\"#bd3786\"],[0.5555555555555556,\"#d8576b\"],[0.6666666666666666,\"#ed7953\"],[0.7777777777777778,\"#fb9f3a\"],[0.8888888888888888,\"#fdca26\"],[1.0,\"#f0f921\"]],\"sequentialminus\":[[0.0,\"#0d0887\"],[0.1111111111111111,\"#46039f\"],[0.2222222222222222,\"#7201a8\"],[0.3333333333333333,\"#9c179e\"],[0.4444444444444444,\"#bd3786\"],[0.5555555555555556,\"#d8576b\"],[0.6666666666666666,\"#ed7953\"],[0.7777777777777778,\"#fb9f3a\"],[0.8888888888888888,\"#fdca26\"],[1.0,\"#f0f921\"]],\"diverging\":[[0,\"#8e0152\"],[0.1,\"#c51b7d\"],[0.2,\"#de77ae\"],[0.3,\"#f1b6da\"],[0.4,\"#fde0ef\"],[0.5,\"#f7f7f7\"],[0.6,\"#e6f5d0\"],[0.7,\"#b8e186\"],[0.8,\"#7fbc41\"],[0.9,\"#4d9221\"],[1,\"#276419\"]]},\"xaxis\":{\"gridcolor\":\"white\",\"linecolor\":\"white\",\"ticks\":\"\",\"title\":{\"standoff\":15},\"zerolinecolor\":\"white\",\"automargin\":true,\"zerolinewidth\":2},\"yaxis\":{\"gridcolor\":\"white\",\"linecolor\":\"white\",\"ticks\":\"\",\"title\":{\"standoff\":15},\"zerolinecolor\":\"white\",\"automargin\":true,\"zerolinewidth\":2},\"scene\":{\"xaxis\":{\"backgroundcolor\":\"#E5ECF6\",\"gridcolor\":\"white\",\"linecolor\":\"white\",\"showbackground\":true,\"ticks\":\"\",\"zerolinecolor\":\"white\",\"gridwidth\":2},\"yaxis\":{\"backgroundcolor\":\"#E5ECF6\",\"gridcolor\":\"white\",\"linecolor\":\"white\",\"showbackground\":true,\"ticks\":\"\",\"zerolinecolor\":\"white\",\"gridwidth\":2},\"zaxis\":{\"backgroundcolor\":\"#E5ECF6\",\"gridcolor\":\"white\",\"linecolor\":\"white\",\"showbackground\":true,\"ticks\":\"\",\"zerolinecolor\":\"white\",\"gridwidth\":2}},\"shapedefaults\":{\"line\":{\"color\":\"#2a3f5f\"}},\"annotationdefaults\":{\"arrowcolor\":\"#2a3f5f\",\"arrowhead\":0,\"arrowwidth\":1},\"geo\":{\"bgcolor\":\"white\",\"landcolor\":\"#E5ECF6\",\"subunitcolor\":\"white\",\"showland\":true,\"showlakes\":true,\"lakecolor\":\"white\"},\"title\":{\"x\":0.05},\"mapbox\":{\"style\":\"light\"}}},\"title\":{\"font\":{\"size\":24,\"color\":\"#ffffff\"},\"text\":\"Minnesota Timberwolves 2023-2024 RS \",\"x\":0.5,\"y\":0.99},\"yaxis\":{\"title\":{\"font\":{\"size\":16,\"color\":\"#ffffff\"},\"text\":\"Normalized Value\"},\"tickfont\":{\"color\":\"#ffffff\"},\"gridcolor\":\"rgba(255, 255, 255, 0.1)\",\"showgrid\":false,\"zeroline\":true,\"zerolinecolor\":\"rgba(255, 255, 255, 0.1)\",\"range\":[-0.1,1.1],\"tickformat\":\".2f\",\"tickmode\":\"linear\",\"tick0\":0,\"dtick\":0.2,\"showticklabels\":false},\"xaxis\":{\"tickfont\":{\"color\":\"#ffffff\",\"size\":20},\"gridcolor\":\"rgba(255, 255, 255, 0.1)\",\"categoryorder\":\"array\",\"categoryarray\":[\"Points\",\"Opp Points\",\"FTA\",\"3P%\",\"Rim Freq\",\"EFG%\",\"Rim%\",\"TOV%\",\"DREB%\",\"OREB%\"],\"tickangle\":-45},\"legend\":{\"font\":{\"color\":\"#ffffff\",\"size\":20},\"bgcolor\":\"#1a1a1a\",\"bordercolor\":\"#1a1a1a\",\"borderwidth\":1,\"orientation\":\"h\",\"yanchor\":\"bottom\",\"y\":1.025,\"xanchor\":\"center\",\"x\":0.5},\"margin\":{\"t\":80,\"b\":80},\"width\":1600,\"height\":1000,\"showlegend\":true,\"plot_bgcolor\":\"#1a1a1a\",\"paper_bgcolor\":\"#1a1a1a\",\"hovermode\":\"closest\"},                        {\"responsive\": true}                    ).then(function(){\n",
       "                            \n",
       "var gd = document.getElementById('d9d2b93a-f8b6-4469-b511-cc5dc50802ef');\n",
       "var x = new MutationObserver(function (mutations, observer) {{\n",
       "        var display = window.getComputedStyle(gd).display;\n",
       "        if (!display || display === 'none') {{\n",
       "            console.log([gd, 'removed!']);\n",
       "            Plotly.purge(gd);\n",
       "            observer.disconnect();\n",
       "        }}\n",
       "}});\n",
       "\n",
       "// Listen for the removal of the full notebook cells\n",
       "var notebookContainer = gd.closest('#notebook-container');\n",
       "if (notebookContainer) {{\n",
       "    x.observe(notebookContainer, {childList: true});\n",
       "}}\n",
       "\n",
       "// Listen for the clearing of the current output cell\n",
       "var outputEl = gd.closest('.output');\n",
       "if (outputEl) {{\n",
       "    x.observe(outputEl, {childList: true});\n",
       "}}\n",
       "\n",
       "                        })                };                });            </script>        </div>"
      ]
     },
     "metadata": {},
     "output_type": "display_data"
    }
   ],
   "source": [
    "\n",
    "vs=False\n",
    "ps=False\n",
    "start_year=2024\n",
    "end_year=2024\n",
    "#players_on=['2544','951','2547']\n",
    "players_on=[]\n",
    "#players_on=['203076','2544']\n",
    "players_off=[]\n",
    "\n",
    "#players_off=['2548']\n",
    "\n",
    "team='MIN'\n",
    "def graph_lineupsplits(start_year,end_year,players_on,players_off,team,vs,ps):\n",
    "    team_id=team_dict(team)\n",
    "    print(team_id)\n",
    "    row=player_rows(start_year,end_year,players_on,players_off,team_id ,vs=vs)\n",
    "    teams = team_averages(start_year,end_year,vs=vs,ps=ps)\n",
    "    print(teams[['Points','Name']])\n",
    "    row = trim_frame(row)\n",
    "    \n",
    "    teams=trim_frame(teams)\n",
    "    row['team']=team\n",
    "    teams['team']=teams['Name']\n",
    "    \n",
    "    row['lineup_row']=1\n",
    "\n",
    "    teams['lineup_row']=0\n",
    "    print(teams[['Points','Name']])\n",
    "    \n",
    "    data=pd.concat([teams,row])\n",
    "    columns = [\n",
    "                'Points', 'Opp Points', 'FTA',\n",
    "                '3P%',\n",
    "                'Rim Freq', 'EFG%',\n",
    "                'Rim%',  'TOV%',\n",
    "              \n",
    "                'DREB%', 'OREB%']\n",
    "    exclude=['Points', 'Opp Points',  '3P Assists','Rim Assists','FTA']\n",
    "    for col in columns:\n",
    "        if col not in exclude:\n",
    "            data[col]*=100\n",
    "    fig = create_nba_beeswarm(team,start_year,end_year,data,categories=columns,vs=vs,ps=ps)\n",
    "   \n",
    "    return fig\n",
    "fig= graph_lineupsplits(start_year,end_year,players_on,players_off,team,vs,ps)\n",
    "\n",
    "fig.show()\n"
   ]
  },
  {
   "cell_type": "code",
   "execution_count": 3,
   "id": "715b21f8-9d09-4d10-91ac-f47dee186366",
   "metadata": {},
   "outputs": [
    {
     "data": {
      "text/plain": [
       "{'SYR': '1610612755',\n",
       " 'PHW': '1610612744',\n",
       " 'NYK': '1610612752',\n",
       " 'STL': '1610612737',\n",
       " 'ROC': '1610612758',\n",
       " 'BOS': '1610612738',\n",
       " 'FTW': '1610612765',\n",
       " 'MNL': '1610612747',\n",
       " 'TOT': 'TOT',\n",
       " 'DET': '1610612765',\n",
       " 'CIN': '1610612758',\n",
       " 'LAL': '1610612747',\n",
       " 'CHP': '1610612741',\n",
       " 'SFW': '1610612744',\n",
       " 'CHZ': '1610612741',\n",
       " 'BAL': '1610612764',\n",
       " 'PHI': '1610612755',\n",
       " 'CHI': '1610612741',\n",
       " 'SDR': '1610612745',\n",
       " 'SEA': '1610612760',\n",
       " 'MIL': '1610612749',\n",
       " 'ATL': '1610612737',\n",
       " 'PHO': '1610612756',\n",
       " 'POR': '1610612757',\n",
       " 'CLE': '1610612739',\n",
       " 'BUF': '1610612761',\n",
       " 'HOU': '1610612745',\n",
       " 'GSW': '1610612744',\n",
       " 'KCO': '1610612758',\n",
       " 'CAP': '1610612764',\n",
       " 'NOJ': '1610612762',\n",
       " 'WSB': '1610612764',\n",
       " 'KCK': '1610612758',\n",
       " 'IND': '1610612754',\n",
       " 'NYN': '1610612751',\n",
       " 'DEN': '1610612743',\n",
       " 'SAS': '1610612759',\n",
       " 'NJN': '1610612751',\n",
       " 'SDC': '1610612746',\n",
       " 'UTA': '1610612762',\n",
       " 'DAL': '1610612742',\n",
       " 'LAC': '1610612746',\n",
       " 'SAC': '1610612758',\n",
       " 'CHH': '1610612766',\n",
       " 'MIA': '1610612748',\n",
       " 'ORL': '1610612753',\n",
       " 'MIN': '1610612750',\n",
       " 'VAN': '1610612763',\n",
       " 'TOR': '1610612761',\n",
       " 'WAS': '1610612764',\n",
       " 'MEM': '1610612763',\n",
       " 'NOH': '1610612740',\n",
       " 'CHA': '1610612766',\n",
       " 'NOK': '1610612740',\n",
       " 'OKC': '1610612760',\n",
       " 'BRK': '1610612751',\n",
       " 'NOP': '1610612740',\n",
       " 'CHO': '1610612766',\n",
       " 'PHX': '1610612756'}"
      ]
     },
     "execution_count": 3,
     "metadata": {},
     "output_type": "execute_result"
    }
   ],
   "source": [
    "\n",
    "\n",
    "df = pd.read_csv('index_master.csv')\n",
    "\n",
    "teammap=dict(zip(df['team'],df['team_id']))\n",
    "teammap\n",
    "teammap['CHA']=teammap['CHO']\n",
    "teammap['PHX']=teammap['PHO']\n",
    "teammap"
   ]
  },
  {
   "cell_type": "code",
   "execution_count": null,
   "id": "90e64111-bfa0-457c-aee0-73e7cbe5ec45",
   "metadata": {},
   "outputs": [],
   "source": []
  }
 ],
 "metadata": {
  "kernelspec": {
   "display_name": "Python 3 (ipykernel)",
   "language": "python",
   "name": "python3"
  },
  "language_info": {
   "codemirror_mode": {
    "name": "ipython",
    "version": 3
   },
   "file_extension": ".py",
   "mimetype": "text/x-python",
   "name": "python",
   "nbconvert_exporter": "python",
   "pygments_lexer": "ipython3",
   "version": "3.10.12"
  }
 },
 "nbformat": 4,
 "nbformat_minor": 5
}
