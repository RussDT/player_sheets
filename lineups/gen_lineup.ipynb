{
 "cells": [
  {
   "cell_type": "code",
   "execution_count": 1,
   "id": "5d184551-ddf0-4254-be51-8f0cb191e984",
   "metadata": {},
   "outputs": [],
   "source": [
    "import pandas as pd\n",
    "import pandas as pd\n",
    "import numpy as np\n",
    "from nba_api.stats.static import players\n",
    "\n",
    "import time \n",
    "import plotly.graph_objects as go\n",
    "import pandas as pd\n",
    "import numpy as np\n",
    "from sklearn.preprocessing import MinMaxScaler\n",
    "import json\n",
    "def get_colors():\n",
    "    path = 'colors.json'\n",
    "    f = open(path)\n",
    "\n",
    "    # returns JSON object as \n",
    "    # a dictionary\n",
    "    data = json.load(f)\n",
    "    team_colors = {}\n",
    "    for team in data:\n",
    "        obj = data[team]\n",
    "        color = obj['mainColor']\n",
    "        color_hex = obj['colors'][color]['hex']\n",
    "        team_colors[team]=color_hex\n",
    "    team_colors['PHX']= '#e56020',\n",
    "    second_colors = {}\n",
    "    for team in data:\n",
    "        obj = data[team]\n",
    "        color = obj['secondaryColor']\n",
    "        color_hex = obj['colors'][color]['hex']\n",
    "        second_colors[team]=color_hex\n",
    "    second_colors['PHX']= '#1d1160',\n",
    "\n",
    "    temp = team_colors['BKN']\n",
    "\n",
    "    team_colors['BKN'] = second_colors['BKN']\n",
    "    second_colors['BKN'] = temp\n",
    "    return team_colors,second_colors\n",
    "\n",
    "def team_dict(team):\n",
    "\n",
    "    map={'SYR': '1610612755',\n",
    "     'PHW': '1610612744',\n",
    "     'NYK': '1610612752',\n",
    "     'STL': '1610612737',\n",
    "     'ROC': '1610612758',\n",
    "     'BOS': '1610612738',\n",
    "     'FTW': '1610612765',\n",
    "     'MNL': '1610612747',\n",
    "     'TOT': 'TOT',\n",
    "     'DET': '1610612765',\n",
    "     'CIN': '1610612758',\n",
    "     'LAL': '1610612747',\n",
    "     'CHP': '1610612741',\n",
    "     'SFW': '1610612744',\n",
    "     'CHZ': '1610612741',\n",
    "     'BAL': '1610612764',\n",
    "     'PHI': '1610612755',\n",
    "     'CHI': '1610612741',\n",
    "     'SDR': '1610612745',\n",
    "     'SEA': '1610612760',\n",
    "     'MIL': '1610612749',\n",
    "     'ATL': '1610612737',\n",
    "     'PHO': '1610612756',\n",
    "     'POR': '1610612757',\n",
    "     'CLE': '1610612739',\n",
    "     'BUF': '1610612761',\n",
    "     'HOU': '1610612745',\n",
    "     'GSW': '1610612744',\n",
    "     'KCO': '1610612758',\n",
    "     'CAP': '1610612764',\n",
    "     'NOJ': '1610612762',\n",
    "     'WSB': '1610612764',\n",
    "     'KCK': '1610612758',\n",
    "     'IND': '1610612754',\n",
    "     'NYN': '1610612751',\n",
    "     'DEN': '1610612743',\n",
    "     'SAS': '1610612759',\n",
    "     'NJN': '1610612751',\n",
    "     'SDC': '1610612746',\n",
    "     'UTA': '1610612762',\n",
    "     'DAL': '1610612742',\n",
    "     'LAC': '1610612746',\n",
    "     'SAC': '1610612758',\n",
    "     'CHH': '1610612766',\n",
    "     'MIA': '1610612748',\n",
    "     'ORL': '1610612753',\n",
    "     'MIN': '1610612750',\n",
    "     'VAN': '1610612763',\n",
    "     'TOR': '1610612761',\n",
    "     'WAS': '1610612764',\n",
    "     'MEM': '1610612763',\n",
    "     'NOH': '1610612740',\n",
    "     'CHA': '1610612766',\n",
    "     'NOK': '1610612740',\n",
    "     'OKC': '1610612760',\n",
    "     'BRK': '1610612751',\n",
    "     'NOP': '1610612740',\n",
    "     'CHO': '1610612766',\n",
    "     'PHX': '1610612756'}\n",
    "    return map[team]\n",
    "\n",
    "def calculate_basketball_percentages(df):\n",
    "    \"\"\"\n",
    "    Calculate basketball percentage statistics from raw totals.\n",
    "    \n",
    "    Args:\n",
    "        df (pandas.DataFrame): DataFrame containing the raw totals columns\n",
    "        \n",
    "    Returns:\n",
    "        pandas.DataFrame: DataFrame with added percentage columns\n",
    "    \"\"\"\n",
    "    # Make a copy to avoid modifying the original\n",
    "    result = df.copy()\n",
    "    \n",
    "    # Basic shooting percentages\n",
    "    result['Fg3Pct'] = (result['FG3M'] / result['FG3A'] * 1).fillna(0)\n",
    "    result['Fg2Pct'] = (result['FG2M'] / result['FG2A'] * 1).fillna(0)\n",
    "    result['FGA'] = (result['FG2A'] + result['FG3A'])\n",
    "    result['PenaltyFGA'] = (result['PenaltyFG2A'] + result['PenaltyFG3A'])\n",
    "    result['SecondChanceFGA'] = (result['SecondChanceFG2A'] + result['SecondChanceFG3A'])\n",
    "\n",
    "    result['FGA']= result['FG2A']+result['FG3A']\n",
    "    result['FGM']= result['FG2M']+result['FG3M']\n",
    "    result['NonHeaveFg3Pct'] = (result['FG3M'] / (result['FG3A']-result['HeaveAttempts']) * 1).fillna(0)\n",
    "    \n",
    "    # Advanced shooting percentages\n",
    "    result['EfgPct'] = ((result['FG2M'] + 1.5 * result['FG3M']) / (result['FG2A'] + result['FG3A']) * 1).fillna(0)\n",
    "    # Assuming you have a DataFrame named result with the necessary columns\n",
    "    \n",
    "    # Step 1: Extract relevant columns for easier calculations\n",
    "    points = result['Points']\n",
    "    fga = result['FGA']\n",
    "    fta = result['FTA']\n",
    "    and1_2pt = result['2pt And 1 Free Throw Trips']\n",
    "    and1_3pt = result['3pt And 1 Free Throw Trips']\n",
    "    \n",
    "    # Step 2: Calculate the adjusted free throw weighting factor\n",
    "    w = (and1_2pt + 1.5 * and1_3pt + 0.44 * (fta - and1_2pt - and1_3pt)) / fta\n",
    "    \n",
    "    # Step 3: Calculate True Shooting Percentage (TS%) and add to result DataFrame\n",
    "    result['TsPct'] = points / (2 * (fga + w * fta))\n",
    "    \n",
    "    # The 'TS%' column in the result DataFrame now contains the calculated TS% values\n",
    "\n",
    "    #result['TsPct'] = (result['Points'] / (2 * (result['FG2A'] + result['FG3A'] + 0.44 * result['FTA'])) * 1).fillna(0)\n",
    "    \n",
    "    # Second chance percentages\n",
    "    result['SecondChanceFg3Pct'] = (result['SecondChanceFG3M'] / result['SecondChanceFG3A'] * 1).fillna(0)\n",
    "    result['SecondChanceFg2Pct'] = (result['SecondChanceFG2M'] / result['SecondChanceFG2A'] * 1).fillna(0)\n",
    "    result['SecondChanceEfgPct'] = ((result['SecondChanceFG2M'] + 1.5 * result['SecondChanceFG3M']) / \n",
    "                                   (result['SecondChanceFG2A'] + result['SecondChanceFG3A']) * 1).fillna(0)\n",
    "    result['SecondChanceTsPct'] = (result['SecondChancePoints'] / \n",
    "                                  (2 * (result['SecondChanceFG2A'] + result['SecondChanceFG3A'])) * 1).fillna(0)\n",
    "\n",
    "    \n",
    "    result['SecondChancePointsPct'] = (result['SecondChancePoints'] / result['Points'] * 1).fillna(0)\n",
    "    \n",
    "    # Shot distribution\n",
    "    result['FG3APct'] = (result['FG3A'] / (result['FG2A'] + result['FG3A']) * 1).fillna(0)\n",
    "    \n",
    "    result['FG2APctBlocked'] = (result['Fg2aBlocked'] / result['FG2A'] * 1).fillna(0)\n",
    "    result['AtRimPctBlocked'] = (result['opp_BlockedAtRim'] / result['AtRimFGA'] * 1).fillna(0)\n",
    "    result['LongMidRangePctBlocked'] = (result['opp_BlockedLongMidRange'] / result['LongMidRangeFGA'] * 1).fillna(0)\n",
    "    result['ShortMidRangePctBlocked'] = (result['opp_BlockedShortMidRange'] / result['ShortMidRangeFGA'] * 1).fillna(0)\n",
    "    result['FG3APctBlocked'] = (result['Fg3aBlocked'] / result['FG3A'] * 1).fillna(0)\n",
    "    result['Corner3PctBlocked'] = (result['Blocked3s'] / result['Corner3FGA'] * 1).fillna(0)\n",
    "    result['Arc3PctBlocked'] = (result['Blocked3s'] / result['Arc3FGA'] * 1).fillna(0)\n",
    "    \n",
    "    # Rebound percentages - Field Goals (corrected to be relative to missed shots)\n",
    "    result['DefFGReboundPct'] = (result['DefRebounds'] / (result['opp_FG2A'] - result['opp_FG2M'] + result['opp_FG3A'] - result['opp_FG3M']) * 1).fillna(0)\n",
    "    result['OffFGReboundPct'] = (result['OffRebounds'] / (result['FG2A'] - result['FG2M'] + result['FG3A'] - result['FG3M']) * 1).fillna(0)\n",
    "    \n",
    "    # Rebound percentages by shot location (corrected to be relative to missed shots of that type)\n",
    "    result['OffLongMidRangeReboundPct'] = (result['OffTwoPtRebounds'] / (result['LongMidRangeFGA'] - result['LongMidRangeFGM']) * 1).fillna(0)\n",
    "    result['DefLongMidRangeReboundPct'] = (result['DefTwoPtRebounds'] / (result['LongMidRangeFGA'] - result['LongMidRangeFGM']) * 1).fillna(0)\n",
    "    result['DefArc3ReboundPct'] = (result['DefThreePtRebounds'] / (result['Arc3FGA'] - result['Arc3FGM']) * 1).fillna(0)\n",
    "    result['OffArc3ReboundPct'] = (result['OffThreePtRebounds'] / (result['Arc3FGA'] - result['Arc3FGM']) * 1).fillna(0)\n",
    "    result['DefAtRimReboundPct'] = (result['DefTwoPtRebounds'] / (result['AtRimFGA'] - result['AtRimFGM']) * 1).fillna(0)\n",
    "    result['OffAtRimReboundPct'] = (result['OffTwoPtRebounds'] / (result['AtRimFGA'] - result['AtRimFGM']) * 1).fillna(0)\n",
    "    result['DefShortMidRangeReboundPct'] = (result['DefTwoPtRebounds'] / (result['ShortMidRangeFGA'] - result['ShortMidRangeFGM']) * 1).fillna(0)\n",
    "    result['OffShortMidRangeReboundPct'] = (result['OffTwoPtRebounds'] / (result['ShortMidRangeFGA'] - result['ShortMidRangeFGM']) * 1).fillna(0)\n",
    "    result['DefCorner3ReboundPct'] = (result['DefThreePtRebounds'] / (result['Corner3FGA'] - result['Corner3FGM']) * 1).fillna(0)\n",
    "    result['OffCorner3ReboundPct'] = (result['OffThreePtRebounds'] / (result['Corner3FGA'] - result['Corner3FGM']) * 1).fillna(0)\n",
    "    \n",
    "    # Free throw rebound percentages (corrected to be relative to FT misses)\n",
    "\n",
    "    # Assist percentages\n",
    "    result['Assisted2sPct'] = (result['PtsAssisted2s'] / (2 * result['FG2M']) * 1).fillna(0)\n",
    "    result['Assisted3sPct'] = (result['PtsAssisted3s'] / (3 * result['FG3M']) * 1).fillna(0)\n",
    "    result['NonPutbacksAssisted2sPct'] = (result['PtsAssisted2s'] / (2 * (result['FG2M'] - result['PtsPutbacks']/2)) * 1).fillna(0)\n",
    "    result['Corner3PctAssisted'] = (result['Corner3Assists'] / result['Corner3FGM'] * 1).fillna(0)\n",
    "    result['Arc3PctAssisted'] = (result['Arc3Assists'] / result['Arc3FGM'] * 1).fillna(0)\n",
    "    result['SecondChanceCorner3PctAssisted'] = (result['Corner3Assists'] / result['SecondChanceCorner3FGM'] * 1).fillna(0)\n",
    "    result['SecondChanceArc3PctAssisted'] = (result['Arc3Assists'] / result['SecondChanceArc3FGM'] * 1).fillna(0)\n",
    "    result['SecondChanceAtRimPctAssisted'] = (result['AtRimAssists'] / result['SecondChanceAtRimFGM'] * 1).fillna(0)\n",
    "    result['AtRimPctAssisted'] = (result['AtRimAssists'] / result['AtRimFGM'] * 1).fillna(0)\n",
    "    result['ShortMidRangePctAssisted'] = (result['ShortMidRangeAssists'] / result['ShortMidRangeFGM'] * 1).fillna(0)\n",
    "    result['LongMidRangePctAssisted'] = (result['LongMidRangeAssists'] / result['LongMidRangeFGM'] * 1).fillna(0)\n",
    "    \n",
    "    # Penalty percentages\n",
    "    result['PenaltyPointsPct'] = (result['PenaltyPoints'] / result['Points'] * 1).fillna(0)\n",
    "    result['PenaltyOffPossPct'] = (result['PenaltyOffPoss'] / result['OffPoss'] * 1).fillna(0)\n",
    "    result['PenaltyFg2Pct'] = (result['PenaltyFG2M'] / result['PenaltyFG2A'] * 1).fillna(0)\n",
    "    result['PenaltyFg3Pct'] = (result['PenaltyFG3M'] / result['PenaltyFG3A'] * 1).fillna(0)\n",
    "    result['PenaltyEfgPct'] = ((result['PenaltyFG2M'] + 1.5 * result['PenaltyFG3M']) / \n",
    "                              (result['PenaltyFG2A'] + result['PenaltyFG3A']) * 1).fillna(0)\n",
    "    result['PenaltyTsPct'] = (result['PenaltyPoints'] / \n",
    "                             (2 * (result['PenaltyFG2A'] + result['PenaltyFG3A'] + 0.44 * result['FTA'])) * 1).fillna(0)\n",
    "    \n",
    "    # Miscellaneous percentages\n",
    "    result['BlocksRecoveredPct'] = (result['RecoveredBlocks'] / result['Blocks'] * 1).fillna(0)\n",
    "    result['LiveBallTurnoverPct'] = (result['LiveBallTurnovers'] / result['Turnovers'] * 1).fillna(0)\n",
    "    result['SelfORebPct'] = (result['SelfOReb'] /(result['FGA']- result['FGM']) * 1).fillna(0)\n",
    "    \n",
    "    # Fouls percentages\n",
    "    total_shooting_fouls = result['TwoPtShootingFoulsDrawn'] + result['ThreePtShootingFoulsDrawn']\n",
    "    result['ShootingFoulsDrawnPct'] = (result['ShootingFouls'] / (result['FG2A']+result['FG3A']) * 1).fillna(0)\n",
    "    result['TwoPtShootingFoulsDrawnPct'] = ((result['TwoPtShootingFoulsDrawn'])/ (result['FG2A']+result['2pt And 1 Free Throw Trips'])* 1).fillna(0)\n",
    "    result['ThreePtShootingFoulsDrawnPct'] = (result['ThreePtShootingFoulsDrawn'] / result['FG3A'] * 1).fillna(0)\n",
    "    total_def_rebounds = result['DefTwoPtRebounds'] + result['DefThreePtRebounds']\n",
    "    total_off_rebounds = result['OffTwoPtRebounds'] + result['OffThreePtRebounds']\n",
    "    result['ThreePtShootingFoulsDrawnPct'] = result['ThreePtShootingFoulsDrawn'] / result['FG3A'] * 1\n",
    "    \n",
    "    result['DefTwoPtReboundPct'] = (result['DefTwoPtRebounds'] / total_def_rebounds * 1).fillna(0)\n",
    "    result['DefThreePtReboundPct'] = (result['DefThreePtRebounds'] / total_def_rebounds * 1).fillna(0)\n",
    "    result['OffTwoPtReboundPct'] = (result['OffTwoPtRebounds'] /(result['FG2A']-result['FG2M']) * 1).fillna(0)\n",
    "    result['OffThreePtReboundPct'] = (result['OffThreePtRebounds'] / total_off_rebounds * 1).fillna(0)\n",
    "    \n",
    "    result['OffFTReboundPct']=(result['FTOffRebounds']/(result['opp_FTDefRebounds']+result['FTOffRebounds']))\n",
    "\n",
    "    result['DefFTReboundPct']=(result['FTDefRebounds']/(result['opp_FTOffRebounds']+result['FTDefRebounds']))\n",
    "    result['AtRimFrequency'] = result['AtRimFGA'] / result['FGA']\n",
    "    result['ShortMidRangeFrequency'] = result['ShortMidRangeFGA'] / result['FGA']\n",
    "    result['LongMidRangeFrequency'] = result['LongMidRangeFGA'] / result['FGA']\n",
    "    result['Corner3Frequency'] = result['Corner3FGA'] / result['FGA']\n",
    "    result['Arc3Frequency'] = result['Arc3FGA'] / result['FGA']\n",
    "    result['SecondChanceArc3Frequency'] = result['SecondChanceArc3FGA'] / result['SecondChanceFGA']\n",
    "    result['AtRimFG3AFrequency'] = (result['AtRimFGA'] + result['FG3A']) / result['FGA']\n",
    "    result['SecondChanceAtRimFrequency'] = result['SecondChanceAtRimFGA'] / result['SecondChanceFGA']\n",
    "    result['SecondChanceCorner3Frequency'] = result['SecondChanceCorner3FGA'] / result['SecondChanceFGA']\n",
    "    result['PenaltyAtRimFrequency'] = result['PenaltyAtRimFGA'] / result['PenaltyFGA']\n",
    "    result['PenaltyArc3Frequency'] = result['PenaltyArc3FGA'] / result['PenaltyFGA']\n",
    "    result['PenaltyCorner3Frequency'] = result['PenaltyCorner3FGA'] / result['PenaltyFGA']\n",
    "    # Calculating accuracy metrics\n",
    "    result['AtRimAccuracy'] = result['AtRimFGM'] / result['AtRimFGA']\n",
    "    result['UnblockedAtRimAccuracy'] = (result['AtRimFGM'] - result['Fg2aBlocked']) / result['AtRimFGA']\n",
    "    \n",
    "    result['ShortMidRangeAccuracy'] = result['ShortMidRangeFGM'] / result['ShortMidRangeFGA']\n",
    "    result['UnblockedShortMidRangeAccuracy'] = (result['ShortMidRangeFGM'] - result['Fg2aBlocked']) / result['ShortMidRangeFGA']\n",
    "    \n",
    "    result['LongMidRangeAccuracy'] = result['LongMidRangeFGM'] / result['LongMidRangeFGA']\n",
    "    result['UnblockedLongMidRangeAccuracy'] = (result['LongMidRangeFGM'] - result['Fg2aBlocked']) / result['LongMidRangeFGA']\n",
    "    \n",
    "    result['Corner3Accuracy'] = result['Corner3FGM'] / result['Corner3FGA']\n",
    "    result['UnblockedCorner3Accuracy'] = (result['Corner3FGM'] - result['Fg3aBlocked']) / result['Corner3FGA']\n",
    "    \n",
    "    result['Arc3Accuracy'] = result['Arc3FGM'] / result['Arc3FGA']\n",
    "    result['UnblockedArc3Accuracy'] = (result['Arc3FGM'] - result['Fg3aBlocked']) / result['Arc3FGA']\n",
    "    \n",
    "    # Second-chance accuracy metrics\n",
    "    result['SecondChanceAtRimAccuracy'] = result['SecondChanceAtRimFGM'] / result['SecondChanceAtRimFGA']\n",
    "    result['SecondChanceCorner3Accuracy'] = result['SecondChanceCorner3FGM'] / result['SecondChanceCorner3FGA']\n",
    "    result['SecondChanceArc3Accuracy'] = result['SecondChanceArc3FGM'] / result['SecondChanceArc3FGA']\n",
    "    \n",
    "    # Penalty accuracy metrics\n",
    "    result['PenaltyAtRimAccuracy'] = result['PenaltyAtRimFGM'] / result['PenaltyAtRimFGA']\n",
    "    result['PenaltyCorner3Accuracy'] = result['PenaltyCorner3FGM'] / result['PenaltyCorner3FGA']\n",
    "    result['PenaltyArc3Accuracy'] = result['PenaltyArc3FGM'] / result['PenaltyArc3FGA']\n",
    "    \n",
    "    # Non-heave accuracy metric\n",
    "    result['NonHeaveArc3Accuracy'] = result['NonHeaveArc3FGM'] / result['NonHeaveArc3FGA']\n",
    "\n",
    "\n",
    "    return result\n",
    "\n",
    "def calculate_weighted_average(df, value_col, weight_col, group_by=None):\n",
    "    \"\"\"\n",
    "    Calculate weighted average of a value column based on a weight column.\n",
    "    \n",
    "    Parameters:\n",
    "    -----------\n",
    "    df : pandas.DataFrame\n",
    "        Input dataframe\n",
    "    value_col : str\n",
    "        Name of the column containing the values to average\n",
    "    weight_col : str\n",
    "        Name of the column containing the weights\n",
    "    group_by : str or list, optional\n",
    "        Column(s) to group by before calculating weighted average\n",
    "        \n",
    "    Returns:\n",
    "    --------\n",
    "    If group_by is None: returns a float (weighted average)\n",
    "    If group_by is specified: returns a Series with weighted averages per group\n",
    "    \n",
    "    Examples:\n",
    "    --------\n",
    "    # Single weighted average\n",
    "    df = pd.DataFrame({\n",
    "        'value': [10, 20, 30],\n",
    "        'weight': [1, 2, 3]\n",
    "    })\n",
    "    result = calculate_weighted_average(df, 'value', 'weight')\n",
    "    \n",
    "    # Grouped weighted averages\n",
    "    df = pd.DataFrame({\n",
    "        'category': ['A', 'A', 'B', 'B'],\n",
    "        'value': [10, 20, 30, 40],\n",
    "        'weight': [1, 2, 3, 4]\n",
    "    })\n",
    "    result = calculate_weighted_average(df, 'value', 'weight', 'category')\n",
    "    \"\"\"\n",
    "    \n",
    "    # Input validation\n",
    "    if value_col not in df.columns:\n",
    "        raise ValueError(f\"Value column '{value_col}' not found in dataframe\")\n",
    "    if weight_col not in df.columns:\n",
    "        raise ValueError(f\"Weight column '{weight_col}' not found in dataframe\")\n",
    "    \n",
    "    # Handle negative weights\n",
    "    if (df[weight_col] < 0).any():\n",
    "        raise ValueError(\"Negative weights found. Please ensure all weights are non-negative\")\n",
    "    \n",
    "    # Remove rows where either value or weight is null\n",
    "    df = df.dropna(subset=[value_col, weight_col])\n",
    "    \n",
    "    # If all weights are zero, return nan\n",
    "    if (df[weight_col] == 0).all():\n",
    "        print('hit zero condition')\n",
    "        return np.nan\n",
    "    \n",
    "    if group_by is None:\n",
    "        # Calculate single weighted average\n",
    "        weighted_sum = (df[value_col] * df[weight_col]).sum()\n",
    "        weight_sum = df[weight_col].sum()\n",
    "        return weighted_sum / weight_sum if weight_sum != 0 else np.nan\n",
    "    else:\n",
    "        # Calculate grouped weighted averages\n",
    "        grouped = df.groupby(group_by)\n",
    "        weighted_sums = grouped.apply(lambda x: (x[value_col] * x[weight_col]).sum())\n",
    "        weight_sums = grouped[weight_col].sum()\n",
    "        weight_sum = df[weight_col].sum()\n",
    "        return weighted_sums / weight_sum\n",
    "\n",
    "\n",
    "def transform_data(df):\n",
    "    df.fillna(0, inplace=True)\n",
    "    \n",
    "    id_col=['EntityId',\n",
    "     'TeamId',\n",
    "     'Name',\n",
    "     'ShortName',\n",
    "     'RowId',\n",
    "     'TeamAbbreviation',\n",
    "    'team_id',\n",
    "     'year',\n",
    "     'season',\n",
    "     'team_vs']\n",
    "    df['FGA']= df['FG2A']+df['FG3A']\n",
    "    df['FGM']= df['FG2M']+df['FG3M']\n",
    "    df['opp_FGA']= df['opp_FG2A']+df['opp_FG3A']\n",
    "    df['opp_FGM']= df['opp_FG2M']+df['opp_FG3M']\n",
    "\n",
    "    missing=['3pt And 1 Free Throw Trips','opp_BlockedLongMidRange','opp_FTOffRebounds']\n",
    "    for col in missing:\n",
    "        if col not in df.columns:\n",
    "            df[col]=0\n",
    "    \n",
    "    df.drop(columns=['opp_Name', 'opp_ShortName', 'opp_RowId', 'opp_TeamAbbreviation', 'opp_season'],inplace=True)\n",
    "    df['two_point_misses']= df['FG2A'] - df['FG2M']\n",
    "    df['opp_two_point_misses']= df['opp_FG2A'] - df['opp_FG2M']\n",
    "    \n",
    "    # Specific location misses\n",
    "    df['at_rim_misses']= df['AtRimFGA'] - df['AtRimFGM']\n",
    "    df['opp_at_rim_misses']= df['opp_AtRimFGA'] - df['opp_AtRimFGM']\n",
    "    \n",
    "    df['short_midrange_misses']= df['ShortMidRangeFGA'] - df['ShortMidRangeFGM']\n",
    "    \n",
    "    df['opp_short_midrange_misses']= df['opp_ShortMidRangeFGA'] - df['opp_ShortMidRangeFGM']\n",
    "    \n",
    "    df['long_midrange_misses']= df['LongMidRangeFGA'] - df['LongMidRangeFGM']\n",
    "    df['opp_long_midrange_misses']= df['opp_LongMidRangeFGA'] - df['opp_LongMidRangeFGM']\n",
    "    \n",
    "    # Three point misses by location\n",
    "    df['corner3_misses']= df['Corner3FGA'] - df['Corner3FGM']\n",
    "    df['opp_corner3_misses']= df['opp_Corner3FGA'] - df['opp_Corner3FGM']\n",
    "    \n",
    "    df['arc3_misses']= df['Arc3FGA'] - df['Arc3FGM']\n",
    "    df['opp_arc3_misses']= df['opp_Arc3FGA'] - df['opp_Arc3FGM']\n",
    "    \n",
    "    # Free throw misses\n",
    "    df['ft_misses']= df['FTA'] - df['FtPoints']\n",
    "    \n",
    "    df['opp_ft_misses']= df['opp_FTA'] - df['opp_FtPoints']\n",
    "    \n",
    "    # Total misses\n",
    "    df['fg_misses']= (df['FGA'] - df['FGM'])\n",
    "    df['opp_fg_misses']= (df['opp_FGA'] - df['opp_FGM'])\n",
    "    \n",
    "    weight_mapping = {\n",
    "        'DefTwoPtReboundPct': 'opp_two_point_misses',\n",
    "        'OffTwoPtReboundPct': 'two_point_misses',\n",
    "        'DefThreePtReboundPct':'opp_FG3A',\n",
    "        'DefFGReboundPct': 'opp_fg_misses',\n",
    "        'OffFGReboundPct': 'fg_misses',\n",
    "        'OffLongMidRangeReboundPct': 'long_midrange_misses',\n",
    "        'DefLongMidRangeReboundPct': 'opp_long_midrange_misses',\n",
    "        'OffThreePtReboundPct': 'opp_FG3A',\n",
    "        'OffArc3ReboundPct': 'arc3_misses',\n",
    "        'DefArc3ReboundPct': 'opp_arc3_misses',\n",
    "        'DefAtRimReboundPct': 'opp_at_rim_misses',\n",
    "        'DefShortMidRangeReboundPct': 'opp_short_midrange_misses',\n",
    "        'DefCorner3ReboundPct': 'opp_corner3_misses',\n",
    "        'OffAtRimReboundPct': 'at_rim_misses',\n",
    "        'SelfORebPct': 'fg_misses',\n",
    "        'OffShortMidRangeReboundPct': 'short_midrange_misses',\n",
    "        'DefFTReboundPct': 'FTDefRebounds',\n",
    "        'OffFTReboundPct':'opp_FTDefRebounds',\n",
    "        'OffCorner3ReboundPct': 'corner3_misses',\n",
    "        'SecondChanceTsPct':'SecondChanceOffPoss',\n",
    "        'SecondChanceCorner3PctAssisted':'SecondChanceCorner3FGM',\n",
    "        'SecondChanceArc3PctAssisted':'SecondChanceArc3FGM',\n",
    "        'SecondChanceAtRimPctAssisted':'SecondChanceAtRimFGM'\n",
    "    }\n",
    "    \n",
    "    # Create a DataFrame to store weighted averages for each team\n",
    "    team_weighted_avgs = pd.DataFrame()\n",
    "    \n",
    "    # Calculate weighted averages for each team\n",
    "    for team_id in df['TeamId'].unique():\n",
    "        team_data = df[df['TeamId'] == team_id]\n",
    "        team_values = {}\n",
    "        \n",
    "        for key in weight_mapping.keys():\n",
    "            if team_data[weight_mapping[key]].sum() == 0:\n",
    "                val = 0\n",
    "            else:\n",
    "                val = calculate_weighted_average(team_data, key, weight_mapping[key])\n",
    "            team_values[key] = val\n",
    "            \n",
    "        # Add team values to the DataFrame\n",
    "        team_weighted_avgs = pd.concat([\n",
    "            team_weighted_avgs, \n",
    "            pd.DataFrame([team_values], index=[team_id])\n",
    "        ])\n",
    "    \n",
    "    weight_list = list(weight_mapping.keys())\n",
    "    pct = [col for col in df.columns if 'pct' in col.lower()]\n",
    "    sum_cols = [col for col in df.columns if col not in id_col and col not in pct]\n",
    "    \n",
    "    sums = df.groupby('TeamId').sum(numeric_only=True)[sum_cols].reset_index()\n",
    "    \n",
    "    exclude = [\"PenaltyTsPct\"]\n",
    "    pct = [col for col in pct if col not in exclude]\n",
    "    pct = [col for col in pct if 'opp_' not in col.lower()]\n",
    "    \n",
    "    newframe = calculate_basketball_percentages(sums)\n",
    "    \n",
    "    # Add the weighted averages to newframe\n",
    "    for col in weight_list:\n",
    "        newframe[col] = newframe['TeamId'].map(team_weighted_avgs[col])\n",
    "    \n",
    "    to_drop = [col for col in newframe if 'opp_' in col.lower()]\n",
    "    newframe.drop(columns=to_drop, inplace=True)\n",
    "    \n",
    "    return newframe\n",
    "\n",
    "def player_rows(start_year, end_year, player_ids, off_player_ids, team_id, vs=False, on=True, ps=False):\n",
    "    pstring = \"_ps\" if ps else \"\"\n",
    "    all_df1 = []  # List to collect `df1` dataframes for each year\n",
    "    all_df2 = []  # List to collect `df2` dataframes for each year\n",
    "\n",
    "    # Loop through each year in the specified range\n",
    "    for year in range(start_year, end_year + 1):\n",
    "        # Load the appropriate dataframes based on the `vs` flag\n",
    "        if not vs:\n",
    "            tempdf1 = pd.read_csv(f\"data/{year}/{team_id}{pstring}.csv\")\n",
    "            tempdf2 = pd.read_csv(f\"data/{year}/{team_id}_vs{pstring}.csv\")\n",
    "        else:\n",
    "            tempdf2 = pd.read_csv(f\"data/{year}/{team_id}{pstring}.csv\")\n",
    "            tempdf1 = pd.read_csv(f\"data/{year}/{team_id}_vs{pstring}.csv\")\n",
    "\n",
    "        \n",
    "        # Append the dataframes to the lists\n",
    "        all_df1.append(tempdf1)\n",
    "        all_df2.append(tempdf2)\n",
    "\n",
    "\n",
    "    # Concatenate all yearly dataframes into one for each category\n",
    "    df1 = pd.concat(all_df1).reset_index()\n",
    "    \n",
    "    df2 = pd.concat(all_df2).reset_index()\n",
    "    # Get columns not present in df1 for default zero assignment\n",
    "    notfound = set(df2.columns) - set(df1.columns)\n",
    "    \n",
    "    # Drop the 'team_vs' column from df2 if it exists\n",
    "    if 'team_vs' in df2.columns:\n",
    "        df2.drop(columns='team_vs', inplace=True)\n",
    "    \n",
    "    # Rename columns in df2 to distinguish them in the merged dataframe\n",
    "    id_col = ['EntityId','year']\n",
    "    oppnames = [f'opp_{col}' if col not in id_col else col for col in df2.columns]\n",
    "    df2.columns = oppnames\n",
    "    \n",
    "    # Merge df1 and df2 on the 'EntityId' column\n",
    "    df = df1.merge(df2, on=id_col)\n",
    "\n",
    "    \n",
    "    # Assign 0 to missing columns from df2 in df1\n",
    "    for col in notfound:\n",
    "        df[col] = 0\n",
    "\n",
    "    # Filter rows based on the presence of any player_id in the list of player_ids\n",
    "# For players that must be in the lineup\n",
    "    if len(player_ids) > 0:\n",
    "        df = df[df['EntityId'].apply(lambda x: all(pid in x.split('-') for pid in player_ids))]\n",
    "    \n",
    "    # For players that must NOT be in the lineup\n",
    "    if len(off_player_ids) > 0:\n",
    "        df = df[df['EntityId'].apply(lambda x: not any(pid in x.split('-') for pid in off_player_ids))]\n",
    "    newframe=transform_data(df)\n",
    "\n",
    "    newframe['team_id']=team_id\n",
    "    if ps == False:\n",
    "        index=pd.read_csv('index_master.csv')\n",
    "    else:\n",
    "        index=pd.read_csv('index_master_ps.csv')    \n",
    "    index=index[index.year==year]\n",
    "    name_map=dict(zip(index['nba_id'],index['player']))\n",
    "    name=''\n",
    "    names=[]\n",
    "    names2=[]\n",
    "    if player_ids:\n",
    "        for id in player_ids:\n",
    "            names.append(name_map[int(id)].split(' ')[0])\n",
    "\n",
    "    if off_player_ids:\n",
    "        for id in off_player_ids:\n",
    "            names2.append(name_map[int(id)].split(' ')[0])\n",
    "    if len(names)>0:\n",
    "                \n",
    "        name= (', ').join(names)\n",
    "        name += ' On'\n",
    "    if len(names2)>0:\n",
    "                \n",
    "        name2= (', ').join(names2)\n",
    "        name2 += ' Off'\n",
    "\n",
    "        if name =='':\n",
    "            name=name2\n",
    "        else:\n",
    "            name= name +' | ' +name2\n",
    "    \n",
    "    \n",
    "\n",
    "    newframe.drop(columns='GamesPlayed')\n",
    "    #newframe['GamesPlayed']=newframe['OffPoss']/75\n",
    "    #newframe['GamesPlayed']=newframe['GamesPlayed'].round(0)\n",
    "    newframe['Name']=name\n",
    "    \n",
    "    return newframe\n",
    "\n",
    "\n",
    "def team_averages(start_year,end_year,ps=False,vs=False):\n",
    "    carry=''\n",
    "    if ps == True:\n",
    "        carry='ps'\n",
    "    framelist=[]\n",
    "    \n",
    "    for year in range(start_year,end_year+1):\n",
    "        if vs == False:\n",
    "            df1= pd.read_csv(f\"https://raw.githubusercontent.com/gabriel1200/player_sheets/refs/heads/master/team_totals/{str(year)}{carry}.csv\")\n",
    "            df2= pd.read_csv(f\"https://raw.githubusercontent.com/gabriel1200/player_sheets/refs/heads/master/team_totals/{str(year)}vs{carry}.csv\")\n",
    "        else:\n",
    "            df2= pd.read_csv(f\"https://raw.githubusercontent.com/gabriel1200/player_sheets/refs/heads/master/team_totals/{str(year)}{carry}.csv\")\n",
    "            df1= pd.read_csv(f\"https://raw.githubusercontent.com/gabriel1200/player_sheets/refs/heads/master/team_totals/{str(year)}vs{carry}.csv\")\n",
    "        id_col = ['EntityId']\n",
    "        oppnames = [f'opp_{col}' if col not in id_col else col for col in df2.columns]\n",
    "        df2.columns = oppnames\n",
    "        \n",
    "        # Merge df1 and df2 on the 'EntityId' column\n",
    "        df = df1.merge(df2, on=id_col)\n",
    "        del df1\n",
    "        del df2\n",
    "        framelist.append(df)\n",
    "    namemap=dict(zip(df['TeamId'],df['Name']))\n",
    "        \n",
    "    teams=pd.concat(framelist)\n",
    "    teams['team_id']=teams['TeamId']\n",
    "    teams= transform_data(teams)\n",
    "    teams.drop(columns='GamesPlayed')\n",
    "    \n",
    "    teams['team_id']=teams['TeamId']\n",
    "\n",
    "\n",
    "    teams['Name']=teams['TeamId'].map(namemap)\n",
    "    return teams\n",
    "def trim_frame(frame1):\n",
    "    frame1['FGA']=frame1['FG2A']+frame1['FG3A']\n",
    "    columns = ['AtRimFGM','AtRimFGA','AtRimAssists','Turnovers','FTA','FGA',\n",
    "    'OffPoss','DefPoss','TwoPtAssists','Steals','BadPassSteals',\n",
    "    'ThreePtAssists','FG3A','OpponentPoints','Points','SecondChancePoints','FG2A','LiveBallTurnovers']\n",
    "    other_col = ['team_id','TsPct','Fg3Pct','AtRimFG3AFrequency','Pace','AtRimFrequency','SecondsPerPossOff','SecondsPerPossDef',\n",
    "                'DefAtRimReboundPct','DefFGReboundPct','AtRimAccuracy','EfgPct',\n",
    "'OffFGReboundPct','Name']\n",
    "    new_df = pd.DataFrame()\n",
    "\n",
    "    \n",
    "    new_df[other_col] =frame1[other_col]\n",
    "    \n",
    "\n",
    "    for col in columns:\n",
    "        if col in['OpponentPoints','DefRebounds']:\n",
    "            new_df[col]= 100* frame1[col]/frame1['DefPoss']\n",
    "\n",
    "        else:  \n",
    "            new_df[col]= 100* frame1[col]/frame1['OffPoss']\n",
    "    new_df['TOV%'] = (new_df['Turnovers'] / (new_df['Turnovers'] + new_df['FGA'] + 0.44 * new_df['FTA']))\n",
    "  \n",
    "    new_df = new_df.rename(columns={\n",
    "            'AtRimFrequency': 'Rim Freq',\n",
    "            'DefFGReboundPct': 'DREB%', 'OffFGReboundPct': 'OREB%', 'OpponentPoints': 'Opp Points', 'AtRimAssists': 'Rim Assists','AtRimAccuracy': 'Rim%',\n",
    "            'ThreePtAssists': '3P Assists', 'TsPct': 'TS%', 'Fg3Pct': '3P%','EfgPct':'EFG%'})\n",
    "\n",
    "    columns = [\n",
    "            'Points', 'Opp Points', 'FTA','EFG%',\n",
    "            '3P%',\n",
    "            'Rim Freq', 'TS%',\n",
    "            'Rim%',  'TOV%',\n",
    "            '3P Assists','Rim Assists',\n",
    "            'DREB%', 'OREB%','Name']\n",
    "    return new_df[columns]\n",
    "def create_nba_beeswarm(team,start_year,end_year,data, categories=None,vs=False,ps=False):\n",
    "    team_names = {\n",
    "        \"PHX\": \"Phoenix Suns\",\n",
    "        \"DET\": \"Detroit Pistons\",\n",
    "        \"POR\": \"Portland Trail Blazers\",\n",
    "        \"MIL\": \"Milwaukee Bucks\",\n",
    "        \"BOS\": \"Boston Celtics\",\n",
    "        \"LAL\": \"Los Angeles Lakers\",\n",
    "        \"ORL\": \"Orlando Magic\",\n",
    "        \"NOP\": \"New Orleans Pelicans\",\n",
    "        \"NOH\": \"New Orleans Pelicans\",\n",
    "        \"DAL\": \"Dallas Mavericks\",\n",
    "        \"DEN\": \"Denver Nuggets\",\n",
    "        \"IND\": \"Indiana Pacers\",\n",
    "        \"CHA\": \"Charlotte Hornets\",\n",
    "        \"SAS\": \"San Antonio Spurs\",\n",
    "        \"LAC\": \"Los Angeles Clippers\",\n",
    "        \"MEM\": \"Memphis Grizzlies\",\n",
    "        \"WAS\": \"Washington Wizards\",\n",
    "        \"MIA\": \"Miami Heat\",\n",
    "        \"ATL\": \"Atlanta Hawks\",\n",
    "        \"OKC\": \"Oklahoma City Thunder\",\n",
    "        \"SEA\": \"Seattle Supersonics\",\n",
    "\n",
    "        \"UTA\": \"Utah Jazz\",\n",
    "        \"NYK\": \"New York Knicks\",\n",
    "        \"CHI\": \"Chicago Bulls\",\n",
    "        \"MIN\": \"Minnesota Timberwolves\",\n",
    "        \"NJN\": \"New Jersey Nets\",\n",
    "\n",
    "        \"BKN\": \"Brooklyn Nets\",\n",
    "        \"BRK\": \"Brooklyn Nets\",\n",
    "        \"CLE\": \"Cleveland Cavaliers\",\n",
    "        \"HOU\": \"Houston Rockets\",\n",
    "        \"GSW\": \"Golden State Warriors\",\n",
    "        \"SAC\": \"Sacramento Kings\",\n",
    "        \"TOR\": \"Toronto Raptors\",\n",
    "        \"PHI\": \"Philadelphia 76ers\"\n",
    "    }\n",
    "    addon=''\n",
    "    if ps == True:\n",
    "        addon+= ' PS '\n",
    "    else:\n",
    "        addon+= ' RS '\n",
    "    if vs == False:\n",
    "        addon+=''\n",
    "    else:\n",
    "        addon=' (Defense)'\n",
    "    team_name=team_names[team]\n",
    "    combo_name=data[data.lineup_row==1]['Name'].iloc[0]\n",
    "    if len(combo_name)==0:\n",
    "        combo_name=team_name\n",
    "    else:\n",
    "        combo_name= team_name.split(' ')[-1] +' with '+combo_name\n",
    "    team_name+= (' '+str(start_year-1)+'-'+str(end_year))\n",
    "    \n",
    "    # Normalize the data to a 0-1 range\n",
    "    scaler = MinMaxScaler()\n",
    "    normalized_data = pd.DataFrame(\n",
    "        scaler.fit_transform(data[categories]),\n",
    "        columns=categories,\n",
    "        index=data.index\n",
    "    )\n",
    "    \n",
    "    # Separate team and lineup data\n",
    "    team_data = normalized_data[data['lineup_row'] == 0]\n",
    "    lineup_data = normalized_data[data['lineup_row'] == 1]\n",
    "    \n",
    "    # Store original values for hover text and labels\n",
    "    original_team_data = data[data['lineup_row'] == 0]\n",
    "    original_lineup_data = data[data['lineup_row'] == 1]\n",
    "    \n",
    "    # Create the figure\n",
    "    fig = go.Figure()\n",
    "    \n",
    "    # Define custom colors\n",
    "    team_color = '#00ffff'\n",
    "    lineup_color = '#ff4d4d'\n",
    "    grid_color = 'rgba(255, 255, 255, 0.1)'\n",
    "    bg_color = '#1a1a1a'\n",
    "    text_color = '#ffffff'\n",
    "    \n",
    "    # Plot the actual data points\n",
    "    for i, category in enumerate(categories):\n",
    "        # Plot team data points with enhanced hover info\n",
    "        hover_texts = []\n",
    "\n",
    "        for idx in team_data.index:\n",
    "            team_abbrev = original_team_data.loc[idx, 'team']\n",
    "            team_full_name = team_names[team_abbrev]\n",
    "            value = original_team_data.loc[idx, category]\n",
    "            hover_texts.append(f\"{team_full_name}<br>{category}: {value:.1f}\")\n",
    "            \n",
    "        fig.add_trace(go.Scatter(\n",
    "            x=[category] * len(team_data),\n",
    "            y=team_data[category],\n",
    "            mode='markers',\n",
    "            name='Team Season Averages per NBA Team',\n",
    "            marker=dict(\n",
    "                size=18,\n",
    "                color='#89CFF0',\n",
    "                opacity=0.7,\n",
    "                line=dict(color='white', width=3),\n",
    "                symbol='circle'\n",
    "            ),\n",
    "            text=hover_texts,\n",
    "            hovertemplate=\"<b>%{text}</b><br>Normalized: %{y:.2f}<br><extra></extra>\",\n",
    "            showlegend=False\n",
    "        ))\n",
    "        \n",
    "        # Plot lineup data points\n",
    "        fig.add_trace(go.Scatter(\n",
    "            x=[category] * len(lineup_data),\n",
    "            y=lineup_data[category],\n",
    "            mode='markers+text',\n",
    "            name=combo_name,\n",
    "            marker=dict(\n",
    "                size=21,\n",
    "                color='#8B0000',\n",
    "                opacity=1,\n",
    "                line=dict(color='#0A0A0A', width=3),\n",
    "                symbol='diamond'\n",
    "            ),\n",
    "            text=[f\"{original_lineup_data.loc[lineup, category]:.1f}\" \n",
    "                  for lineup in lineup_data.index],\n",
    "            textposition='top right',\n",
    "            textfont=dict(\n",
    "                color=text_color,\n",
    "                size=20\n",
    "            ),\n",
    "            hovertemplate=\"<b>%{text}</b><br>Normalized: %{y:.2f}<br><extra></extra>\",\n",
    "            showlegend=(i == 0)\n",
    "        ))\n",
    "    \n",
    "    # Update layout\n",
    "    fig.update_layout(\n",
    "        title=dict(\n",
    "            text=team_name+ addon,\n",
    "            font=dict(size=24, color=text_color),\n",
    "            x=0.5,\n",
    "            y=.99\n",
    "        ),\n",
    "        width=1600,\n",
    "        height=1000,\n",
    "        showlegend=True,\n",
    "        plot_bgcolor=bg_color,\n",
    "        paper_bgcolor=bg_color,\n",
    "        yaxis=dict(\n",
    "            title=dict(text='Normalized Value', font=dict(size=16, color=text_color)),\n",
    "            gridcolor=grid_color,\n",
    "            showgrid=False,\n",
    "            zeroline=True,\n",
    "            zerolinecolor=grid_color,\n",
    "            range=[-0.1, 1.1],\n",
    "            tickformat='.2f',\n",
    "            tickfont=dict(color=text_color),\n",
    "            tickmode='linear',\n",
    "            tick0=0,\n",
    "            dtick=0.2,\n",
    "            showticklabels=False\n",
    "        ),\n",
    "        xaxis=dict(\n",
    "            gridcolor=grid_color,\n",
    "            categoryorder='array',\n",
    "            categoryarray=categories,\n",
    "            tickfont=dict(color=text_color, size=20),\n",
    "            tickangle=-45\n",
    "        ),\n",
    "        hovermode='closest',\n",
    "        legend=dict(\n",
    "            font=dict(color=text_color,size=20),\n",
    "            bgcolor=bg_color,\n",
    "            bordercolor=bg_color,\n",
    "            borderwidth=1,\n",
    "            orientation=\"h\",\n",
    "            yanchor=\"bottom\",\n",
    "            y=1.025,\n",
    "            xanchor=\"center\",\n",
    "            x=0.5\n",
    "        ),\n",
    "        margin=dict(t=80, b=80)\n",
    "    )\n",
    "\n",
    "    return fig\n",
    "\n"
   ]
  },
  {
   "cell_type": "code",
   "execution_count": 5,
   "id": "b507188d-e09a-4ca7-a896-dbf16110a27b",
   "metadata": {},
   "outputs": [
    {
     "name": "stdout",
     "output_type": "stream",
     "text": [
      "1610612750\n",
      "     Points Name\n",
      "0    9882.0  ATL\n",
      "1    9887.0  BOS\n",
      "2    9038.0  CLE\n",
      "3    9436.0  NOP\n",
      "4    9324.0  CHI\n",
      "5    9483.0  DAL\n",
      "6    8987.0  DEN\n",
      "7    9443.0  GSW\n",
      "8    9283.0  HOU\n",
      "9    9212.0  LAC\n",
      "10   9679.0  LAL\n",
      "11   8888.0  MIA\n",
      "12   9756.0  MIL\n",
      "13   8735.0  MIN\n",
      "14   9287.0  BKN\n",
      "15   8873.0  NYK\n",
      "16   9058.0  ORL\n",
      "17   9860.0  IND\n",
      "18   9147.0  PHI\n",
      "19   9532.0  PHX\n",
      "20   8722.0  POR\n",
      "21   9415.0  SAC\n",
      "22   9724.0  SAS\n",
      "23   9239.0  OKC\n",
      "24   9741.0  TOR\n",
      "25   9885.0  UTA\n",
      "26   9251.0  MEM\n",
      "27  10089.0  WAS\n",
      "28   9010.0  DET\n",
      "29   9580.0  CHA\n",
      "        Points Name\n",
      "0   119.723770  ATL\n",
      "1   123.263932  BOS\n",
      "2   113.343366  CLE\n",
      "3   117.641192  NOP\n",
      "4   116.871396  CHI\n",
      "5   116.113628  DAL\n",
      "6   113.486551  DEN\n",
      "7   115.751410  GSW\n",
      "8   113.720446  HOU\n",
      "9   115.786828  LAC\n",
      "10  116.600410  LAL\n",
      "11  112.706061  MIA\n",
      "12  118.585146  MIL\n",
      "13  109.488594  MIN\n",
      "14  116.495233  BKN\n",
      "15  113.785586  NYK\n",
      "16  114.080605  ORL\n",
      "17  118.780870  IND\n",
      "18  114.294640  PHI\n",
      "19  118.028727  PHX\n",
      "20  108.631212  POR\n",
      "21  115.791416  SAC\n",
      "22  116.664667  SAS\n",
      "23  112.246386  OKC\n",
      "24  119.316512  TOR\n",
      "25  120.475320  UTA\n",
      "26  114.904981  MEM\n",
      "27  120.278970  WAS\n",
      "28  110.295018  DET\n",
      "29  120.155525  CHA\n"
     ]
    },
    {
     "data": {
      "application/vnd.plotly.v1+json": {
       "config": {
        "plotlyServerURL": "https://plot.ly"
       },
       "data": [
        {
         "hovertemplate": "<b>%{text}</b><br>Normalized: %{y:.2f}<br><extra></extra>",
         "marker": {
          "color": "#89CFF0",
          "line": {
           "color": "white",
           "width": 3
          },
          "opacity": 0.7,
          "size": 18,
          "symbol": "circle"
         },
         "mode": "markers",
         "name": "Team Season Averages per NBA Team",
         "showlegend": false,
         "text": [
          "Atlanta Hawks<br>Points: 119.7",
          "Boston Celtics<br>Points: 123.3",
          "Cleveland Cavaliers<br>Points: 113.3",
          "New Orleans Pelicans<br>Points: 117.6",
          "Chicago Bulls<br>Points: 116.9",
          "Dallas Mavericks<br>Points: 116.1",
          "Denver Nuggets<br>Points: 113.5",
          "Golden State Warriors<br>Points: 115.8",
          "Houston Rockets<br>Points: 113.7",
          "Los Angeles Clippers<br>Points: 115.8",
          "Los Angeles Lakers<br>Points: 116.6",
          "Miami Heat<br>Points: 112.7",
          "Milwaukee Bucks<br>Points: 118.6",
          "Minnesota Timberwolves<br>Points: 109.5",
          "Brooklyn Nets<br>Points: 116.5",
          "New York Knicks<br>Points: 113.8",
          "Orlando Magic<br>Points: 114.1",
          "Indiana Pacers<br>Points: 118.8",
          "Philadelphia 76ers<br>Points: 114.3",
          "Phoenix Suns<br>Points: 118.0",
          "Portland Trail Blazers<br>Points: 108.6",
          "Sacramento Kings<br>Points: 115.8",
          "San Antonio Spurs<br>Points: 116.7",
          "Oklahoma City Thunder<br>Points: 112.2",
          "Toronto Raptors<br>Points: 119.3",
          "Utah Jazz<br>Points: 120.5",
          "Memphis Grizzlies<br>Points: 114.9",
          "Washington Wizards<br>Points: 120.3",
          "Detroit Pistons<br>Points: 110.3",
          "Charlotte Hornets<br>Points: 120.2"
         ],
         "type": "scatter",
         "x": [
          "Points",
          "Points",
          "Points",
          "Points",
          "Points",
          "Points",
          "Points",
          "Points",
          "Points",
          "Points",
          "Points",
          "Points",
          "Points",
          "Points",
          "Points",
          "Points",
          "Points",
          "Points",
          "Points",
          "Points",
          "Points",
          "Points",
          "Points",
          "Points",
          "Points",
          "Points",
          "Points",
          "Points",
          "Points",
          "Points"
         ],
         "y": [
          0.758065362613582,
          1,
          0.3220285756105916,
          0.615741968455449,
          0.5631341474546332,
          0.5113482656686257,
          0.331813864319388,
          0.4865942658650031,
          0.3477982183644386,
          0.48901472436665117,
          0.5446149148865427,
          0.27847518630678625,
          0.6802518187701825,
          0.058593464281533336,
          0.5374271691844017,
          0.3522498945930055,
          0.37241145579477397,
          0.6936275480596379,
          0.3870386045055483,
          0.6422261226510173,
          0,
          0.48932826951796216,
          0.5490062704220051,
          0.24706094827401515,
          0.7302333006119213,
          0.8094262590972896,
          0.42874932022755896,
          0.7960077035939541,
          0.11370448259185739,
          0.7875714690560418
         ]
        },
        {
         "hovertemplate": "<b>%{text}</b><br>Normalized: %{y:.2f}<br><extra></extra>",
         "marker": {
          "color": "#8B0000",
          "line": {
           "color": "#0A0A0A",
           "width": 3
          },
          "opacity": 1,
          "size": 21,
          "symbol": "diamond"
         },
         "mode": "markers+text",
         "name": "Minnesota Timberwolves",
         "showlegend": true,
         "text": [
          "116.0"
         ],
         "textfont": {
          "color": "#ffffff",
          "size": 20
         },
         "textposition": "top right",
         "type": "scatter",
         "x": [
          "Points"
         ],
         "y": [
          0.5057741902310315
         ]
        },
        {
         "hovertemplate": "<b>%{text}</b><br>Normalized: %{y:.2f}<br><extra></extra>",
         "marker": {
          "color": "#89CFF0",
          "line": {
           "color": "white",
           "width": 3
          },
          "opacity": 0.7,
          "size": 18,
          "symbol": "circle"
         },
         "mode": "markers",
         "name": "Team Season Averages per NBA Team",
         "showlegend": false,
         "text": [
          "Atlanta Hawks<br>Opp Points: 117.5",
          "Boston Celtics<br>Opp Points: 111.9",
          "Cleveland Cavaliers<br>Opp Points: 115.8",
          "New Orleans Pelicans<br>Opp Points: 113.1",
          "Chicago Bulls<br>Opp Points: 115.2",
          "Dallas Mavericks<br>Opp Points: 118.2",
          "Denver Nuggets<br>Opp Points: 119.0",
          "Golden State Warriors<br>Opp Points: 118.1",
          "Houston Rockets<br>Opp Points: 115.2",
          "Los Angeles Clippers<br>Opp Points: 119.0",
          "Los Angeles Lakers<br>Opp Points: 115.9",
          "Miami Heat<br>Opp Points: 114.5",
          "Milwaukee Bucks<br>Opp Points: 116.2",
          "Minnesota Timberwolves<br>Opp Points: 116.0",
          "Brooklyn Nets<br>Opp Points: 113.8",
          "New York Knicks<br>Opp Points: 118.6",
          "Orlando Magic<br>Opp Points: 111.9",
          "Indiana Pacers<br>Opp Points: 121.6",
          "Philadelphia 76ers<br>Opp Points: 117.3",
          "Phoenix Suns<br>Opp Points: 114.8",
          "Portland Trail Blazers<br>Opp Points: 117.9",
          "Sacramento Kings<br>Opp Points: 117.2",
          "San Antonio Spurs<br>Opp Points: 110.6",
          "Oklahoma City Thunder<br>Opp Points: 119.5",
          "Toronto Raptors<br>Opp Points: 113.0",
          "Utah Jazz<br>Opp Points: 115.7",
          "Memphis Grizzlies<br>Opp Points: 107.9",
          "Washington Wizards<br>Opp Points: 111.2",
          "Detroit Pistons<br>Opp Points: 119.0",
          "Charlotte Hornets<br>Opp Points: 109.9"
         ],
         "type": "scatter",
         "x": [
          "Opp Points",
          "Opp Points",
          "Opp Points",
          "Opp Points",
          "Opp Points",
          "Opp Points",
          "Opp Points",
          "Opp Points",
          "Opp Points",
          "Opp Points",
          "Opp Points",
          "Opp Points",
          "Opp Points",
          "Opp Points",
          "Opp Points",
          "Opp Points",
          "Opp Points",
          "Opp Points",
          "Opp Points",
          "Opp Points",
          "Opp Points",
          "Opp Points",
          "Opp Points",
          "Opp Points",
          "Opp Points",
          "Opp Points",
          "Opp Points",
          "Opp Points",
          "Opp Points",
          "Opp Points"
         ],
         "y": [
          0.6993767355302181,
          0.29369217378343127,
          0.5725048170926526,
          0.38151903040157453,
          0.5325558132363506,
          0.750394119831344,
          0.810016044074291,
          0.7462689060929426,
          0.5291546182602991,
          0.8121167233977937,
          0.5840345781028349,
          0.47836218897900107,
          0.6058229694577681,
          0.5927401369318703,
          0.42680240263625446,
          0.7778376758515302,
          0.2915647016296097,
          1.0000000000000009,
          0.682920654395466,
          0.5046714189552484,
          0.7280097409302781,
          0.6748570663718967,
          0.1947719163662578,
          0.8483188787670928,
          0.3692812091119597,
          0.5707045979519156,
          0,
          0.2399257449547063,
          0.811946457731838,
          0.148424395282305
         ]
        },
        {
         "hovertemplate": "<b>%{text}</b><br>Normalized: %{y:.2f}<br><extra></extra>",
         "marker": {
          "color": "#8B0000",
          "line": {
           "color": "#0A0A0A",
           "width": 3
          },
          "opacity": 1,
          "size": 21,
          "symbol": "diamond"
         },
         "mode": "markers+text",
         "name": "Minnesota Timberwolves",
         "showlegend": false,
         "text": [
          "109.5"
         ],
         "textfont": {
          "color": "#ffffff",
          "size": 20
         },
         "textposition": "top right",
         "type": "scatter",
         "x": [
          "Opp Points"
         ],
         "y": [
          0.11680795004405287
         ]
        },
        {
         "hovertemplate": "<b>%{text}</b><br>Normalized: %{y:.2f}<br><extra></extra>",
         "marker": {
          "color": "#89CFF0",
          "line": {
           "color": "white",
           "width": 3
          },
          "opacity": 0.7,
          "size": 18,
          "symbol": "circle"
         },
         "mode": "markers",
         "name": "Team Season Averages per NBA Team",
         "showlegend": false,
         "text": [
          "Atlanta Hawks<br>FTA: 21.7",
          "Boston Celtics<br>FTA: 20.6",
          "Cleveland Cavaliers<br>FTA: 21.6",
          "New Orleans Pelicans<br>FTA: 23.4",
          "Chicago Bulls<br>FTA: 22.4",
          "Dallas Mavericks<br>FTA: 21.7",
          "Denver Nuggets<br>FTA: 23.0",
          "Golden State Warriors<br>FTA: 22.6",
          "Houston Rockets<br>FTA: 25.3",
          "Los Angeles Clippers<br>FTA: 21.6",
          "Los Angeles Lakers<br>FTA: 23.9",
          "Miami Heat<br>FTA: 20.0",
          "Milwaukee Bucks<br>FTA: 23.8",
          "Minnesota Timberwolves<br>FTA: 22.5",
          "Brooklyn Nets<br>FTA: 21.8",
          "New York Knicks<br>FTA: 20.8",
          "Orlando Magic<br>FTA: 25.2",
          "Indiana Pacers<br>FTA: 25.7",
          "Philadelphia 76ers<br>FTA: 24.1",
          "Phoenix Suns<br>FTA: 23.7",
          "Portland Trail Blazers<br>FTA: 20.9",
          "Sacramento Kings<br>FTA: 23.3",
          "San Antonio Spurs<br>FTA: 20.1",
          "Oklahoma City Thunder<br>FTA: 22.8",
          "Toronto Raptors<br>FTA: 19.9",
          "Utah Jazz<br>FTA: 21.5",
          "Memphis Grizzlies<br>FTA: 22.2",
          "Washington Wizards<br>FTA: 23.4",
          "Detroit Pistons<br>FTA: 21.8",
          "Charlotte Hornets<br>FTA: 21.3"
         ],
         "type": "scatter",
         "x": [
          "FTA",
          "FTA",
          "FTA",
          "FTA",
          "FTA",
          "FTA",
          "FTA",
          "FTA",
          "FTA",
          "FTA",
          "FTA",
          "FTA",
          "FTA",
          "FTA",
          "FTA",
          "FTA",
          "FTA",
          "FTA",
          "FTA",
          "FTA",
          "FTA",
          "FTA",
          "FTA",
          "FTA",
          "FTA",
          "FTA",
          "FTA",
          "FTA",
          "FTA",
          "FTA"
         ],
         "y": [
          0.3066865304761075,
          0.12074014873194994,
          0.29513640362966465,
          0.5971879189497944,
          0.435418436155512,
          0.3085394833506432,
          0.530679885962547,
          0.45817018364672135,
          0.9367454081721682,
          0.29051208153751196,
          0.6909799765320415,
          0.01195467034143105,
          0.6796907722802059,
          0.4463548685504124,
          0.32235010223834193,
          0.14755885722616702,
          0.922267635797267,
          1,
          0.7219168882037579,
          0.6601883931421915,
          0.17366298370194633,
          0.5828382091663613,
          0.03752045347849364,
          0.5038259470109905,
          0,
          0.2824973876377057,
          0.3912681767576025,
          0.6123769007739588,
          0.32470168424649826,
          0.24089314328171518
         ]
        },
        {
         "hovertemplate": "<b>%{text}</b><br>Normalized: %{y:.2f}<br><extra></extra>",
         "marker": {
          "color": "#8B0000",
          "line": {
           "color": "#0A0A0A",
           "width": 3
          },
          "opacity": 1,
          "size": 21,
          "symbol": "diamond"
         },
         "mode": "markers+text",
         "name": "Minnesota Timberwolves",
         "showlegend": false,
         "text": [
          "23.6"
         ],
         "textfont": {
          "color": "#ffffff",
          "size": 20
         },
         "textposition": "top right",
         "type": "scatter",
         "x": [
          "FTA"
         ],
         "y": [
          0.6335568940250633
         ]
        },
        {
         "hovertemplate": "<b>%{text}</b><br>Normalized: %{y:.2f}<br><extra></extra>",
         "marker": {
          "color": "#89CFF0",
          "line": {
           "color": "white",
           "width": 3
          },
          "opacity": 0.7,
          "size": 18,
          "symbol": "circle"
         },
         "mode": "markers",
         "name": "Team Season Averages per NBA Team",
         "showlegend": false,
         "text": [
          "Atlanta Hawks<br>3P%: 38.4",
          "Boston Celtics<br>3P%: 38.8",
          "Cleveland Cavaliers<br>3P%: 37.1",
          "New Orleans Pelicans<br>3P%: 38.3",
          "Chicago Bulls<br>3P%: 37.0",
          "Dallas Mavericks<br>3P%: 36.8",
          "Denver Nuggets<br>3P%: 35.5",
          "Golden State Warriors<br>3P%: 35.9",
          "Houston Rockets<br>3P%: 34.8",
          "Los Angeles Clippers<br>3P%: 36.3",
          "Los Angeles Lakers<br>3P%: 37.7",
          "Miami Heat<br>3P%: 35.3",
          "Milwaukee Bucks<br>3P%: 37.3",
          "Minnesota Timberwolves<br>3P%: 35.4",
          "Brooklyn Nets<br>3P%: 37.2",
          "New York Knicks<br>3P%: 36.5",
          "Orlando Magic<br>3P%: 35.2",
          "Indiana Pacers<br>3P%: 36.5",
          "Philadelphia 76ers<br>3P%: 35.4",
          "Phoenix Suns<br>3P%: 38.2",
          "Portland Trail Blazers<br>3P%: 34.5",
          "Sacramento Kings<br>3P%: 38.7",
          "San Antonio Spurs<br>3P%: 37.3",
          "Oklahoma City Thunder<br>3P%: 36.1",
          "Toronto Raptors<br>3P%: 37.6",
          "Utah Jazz<br>3P%: 39.5",
          "Memphis Grizzlies<br>3P%: 37.8",
          "Washington Wizards<br>3P%: 36.2",
          "Detroit Pistons<br>3P%: 34.8",
          "Charlotte Hornets<br>3P%: 37.7"
         ],
         "type": "scatter",
         "x": [
          "3P%",
          "3P%",
          "3P%",
          "3P%",
          "3P%",
          "3P%",
          "3P%",
          "3P%",
          "3P%",
          "3P%",
          "3P%",
          "3P%",
          "3P%",
          "3P%",
          "3P%",
          "3P%",
          "3P%",
          "3P%",
          "3P%",
          "3P%",
          "3P%",
          "3P%",
          "3P%",
          "3P%",
          "3P%",
          "3P%",
          "3P%",
          "3P%",
          "3P%",
          "3P%"
         ],
         "y": [
          0.7788769828046025,
          0.8584032300452344,
          0.5219026098028188,
          0.753391074717018,
          0.4946136673051482,
          0.4611630570003138,
          0.20681719521913156,
          0.2831628025259665,
          0.07249505493487352,
          0.36515164316201076,
          0.6347120945461846,
          0.1533823864248154,
          0.5505331002660077,
          0.18723602541339357,
          0.541764547651951,
          0.4098737492285647,
          0.13516523784955403,
          0.3971933628326765,
          0.18356428798420854,
          0.7367501165766255,
          0,
          0.8391411343815633,
          0.5526949022146104,
          0.316403674701923,
          0.6191070892397024,
          1,
          0.658967447899907,
          0.34072560445388866,
          0.06670373661286355,
          0.6410007848622863
         ]
        },
        {
         "hovertemplate": "<b>%{text}</b><br>Normalized: %{y:.2f}<br><extra></extra>",
         "marker": {
          "color": "#8B0000",
          "line": {
           "color": "#0A0A0A",
           "width": 3
          },
          "opacity": 1,
          "size": 21,
          "symbol": "diamond"
         },
         "mode": "markers+text",
         "name": "Minnesota Timberwolves",
         "showlegend": false,
         "text": [
          "38.7"
         ],
         "textfont": {
          "color": "#ffffff",
          "size": 20
         },
         "textposition": "top right",
         "type": "scatter",
         "x": [
          "3P%"
         ],
         "y": [
          0.8345451903063426
         ]
        },
        {
         "hovertemplate": "<b>%{text}</b><br>Normalized: %{y:.2f}<br><extra></extra>",
         "marker": {
          "color": "#89CFF0",
          "line": {
           "color": "white",
           "width": 3
          },
          "opacity": 0.7,
          "size": 18,
          "symbol": "circle"
         },
         "mode": "markers",
         "name": "Team Season Averages per NBA Team",
         "showlegend": false,
         "text": [
          "Atlanta Hawks<br>Rim Freq: 33.1",
          "Boston Celtics<br>Rim Freq: 26.6",
          "Cleveland Cavaliers<br>Rim Freq: 30.3",
          "New Orleans Pelicans<br>Rim Freq: 30.5",
          "Chicago Bulls<br>Rim Freq: 30.2",
          "Dallas Mavericks<br>Rim Freq: 27.9",
          "Denver Nuggets<br>Rim Freq: 31.4",
          "Golden State Warriors<br>Rim Freq: 22.0",
          "Houston Rockets<br>Rim Freq: 26.7",
          "Los Angeles Clippers<br>Rim Freq: 28.3",
          "Los Angeles Lakers<br>Rim Freq: 32.3",
          "Miami Heat<br>Rim Freq: 24.7",
          "Milwaukee Bucks<br>Rim Freq: 28.5",
          "Minnesota Timberwolves<br>Rim Freq: 27.5",
          "Brooklyn Nets<br>Rim Freq: 30.0",
          "New York Knicks<br>Rim Freq: 32.3",
          "Orlando Magic<br>Rim Freq: 34.1",
          "Indiana Pacers<br>Rim Freq: 33.5",
          "Philadelphia 76ers<br>Rim Freq: 32.2",
          "Phoenix Suns<br>Rim Freq: 26.7",
          "Portland Trail Blazers<br>Rim Freq: 30.3",
          "Sacramento Kings<br>Rim Freq: 26.3",
          "San Antonio Spurs<br>Rim Freq: 32.3",
          "Oklahoma City Thunder<br>Rim Freq: 29.2",
          "Toronto Raptors<br>Rim Freq: 30.8",
          "Utah Jazz<br>Rim Freq: 26.7",
          "Memphis Grizzlies<br>Rim Freq: 32.2",
          "Washington Wizards<br>Rim Freq: 31.6",
          "Detroit Pistons<br>Rim Freq: 29.6",
          "Charlotte Hornets<br>Rim Freq: 33.1"
         ],
         "type": "scatter",
         "x": [
          "Rim Freq",
          "Rim Freq",
          "Rim Freq",
          "Rim Freq",
          "Rim Freq",
          "Rim Freq",
          "Rim Freq",
          "Rim Freq",
          "Rim Freq",
          "Rim Freq",
          "Rim Freq",
          "Rim Freq",
          "Rim Freq",
          "Rim Freq",
          "Rim Freq",
          "Rim Freq",
          "Rim Freq",
          "Rim Freq",
          "Rim Freq",
          "Rim Freq",
          "Rim Freq",
          "Rim Freq",
          "Rim Freq",
          "Rim Freq",
          "Rim Freq",
          "Rim Freq",
          "Rim Freq",
          "Rim Freq",
          "Rim Freq",
          "Rim Freq"
         ],
         "y": [
          0.9212781010524036,
          0.3821802496946416,
          0.6900950459624255,
          0.7020095173892249,
          0.6815680706600722,
          0.4896953260247805,
          0.7768216070306526,
          0,
          0.3892558653367659,
          0.5212675585951392,
          0.8554913211229846,
          0.22691425701329915,
          0.5434386151085404,
          0.4541294930090143,
          0.6662470594305245,
          0.8575964238245579,
          1.0000000000000002,
          0.9559839590067181,
          0.8456292687465552,
          0.3898034308491576,
          0.6872236979464537,
          0.3577498120938485,
          0.8555083505662313,
          0.5995539767493663,
          0.7310585292489697,
          0.38873960473791613,
          0.8471849453315643,
          0.7963993488559373,
          0.6293771225033915,
          0.9203695279377426
         ]
        },
        {
         "hovertemplate": "<b>%{text}</b><br>Normalized: %{y:.2f}<br><extra></extra>",
         "marker": {
          "color": "#8B0000",
          "line": {
           "color": "#0A0A0A",
           "width": 3
          },
          "opacity": 1,
          "size": 21,
          "symbol": "diamond"
         },
         "mode": "markers+text",
         "name": "Minnesota Timberwolves",
         "showlegend": false,
         "text": [
          "30.3"
         ],
         "textfont": {
          "color": "#ffffff",
          "size": 20
         },
         "textposition": "top right",
         "type": "scatter",
         "x": [
          "Rim Freq"
         ],
         "y": [
          0.6903614620277343
         ]
        },
        {
         "hovertemplate": "<b>%{text}</b><br>Normalized: %{y:.2f}<br><extra></extra>",
         "marker": {
          "color": "#89CFF0",
          "line": {
           "color": "white",
           "width": 3
          },
          "opacity": 0.7,
          "size": 18,
          "symbol": "circle"
         },
         "mode": "markers",
         "name": "Team Season Averages per NBA Team",
         "showlegend": false,
         "text": [
          "Atlanta Hawks<br>EFG%: 57.2",
          "Boston Celtics<br>EFG%: 57.8",
          "Cleveland Cavaliers<br>EFG%: 53.5",
          "New Orleans Pelicans<br>EFG%: 55.8",
          "Chicago Bulls<br>EFG%: 55.6",
          "Dallas Mavericks<br>EFG%: 54.8",
          "Denver Nuggets<br>EFG%: 52.6",
          "Golden State Warriors<br>EFG%: 53.9",
          "Houston Rockets<br>EFG%: 53.3",
          "Los Angeles Clippers<br>EFG%: 54.1",
          "Los Angeles Lakers<br>EFG%: 56.6",
          "Miami Heat<br>EFG%: 54.3",
          "Milwaukee Bucks<br>EFG%: 56.8",
          "Minnesota Timberwolves<br>EFG%: 51.5",
          "Brooklyn Nets<br>EFG%: 54.3",
          "New York Knicks<br>EFG%: 54.3",
          "Orlando Magic<br>EFG%: 54.1",
          "Indiana Pacers<br>EFG%: 55.6",
          "Philadelphia 76ers<br>EFG%: 53.7",
          "Phoenix Suns<br>EFG%: 56.5",
          "Portland Trail Blazers<br>EFG%: 50.3",
          "Sacramento Kings<br>EFG%: 55.5",
          "San Antonio Spurs<br>EFG%: 55.5",
          "Oklahoma City Thunder<br>EFG%: 53.0",
          "Toronto Raptors<br>EFG%: 56.6",
          "Utah Jazz<br>EFG%: 56.7",
          "Memphis Grizzlies<br>EFG%: 55.1",
          "Washington Wizards<br>EFG%: 56.2",
          "Detroit Pistons<br>EFG%: 52.6",
          "Charlotte Hornets<br>EFG%: 57.2"
         ],
         "type": "scatter",
         "x": [
          "EFG%",
          "EFG%",
          "EFG%",
          "EFG%",
          "EFG%",
          "EFG%",
          "EFG%",
          "EFG%",
          "EFG%",
          "EFG%",
          "EFG%",
          "EFG%",
          "EFG%",
          "EFG%",
          "EFG%",
          "EFG%",
          "EFG%",
          "EFG%",
          "EFG%",
          "EFG%",
          "EFG%",
          "EFG%",
          "EFG%",
          "EFG%",
          "EFG%",
          "EFG%",
          "EFG%",
          "EFG%",
          "EFG%",
          "EFG%"
         ],
         "y": [
          0.9234591916242367,
          1,
          0.4260560186336404,
          0.7281924995080384,
          0.7123725799918352,
          0.5958032406138818,
          0.3084672633605221,
          0.48251095430549906,
          0.4000273977333366,
          0.5032793203606332,
          0.8428730805437255,
          0.5302798487056801,
          0.8594856918200975,
          0.17010198178853742,
          0.5412241969226832,
          0.5402062788717901,
          0.5121169601732873,
          0.7043294183267994,
          0.4552962747704976,
          0.8280248951864522,
          0,
          0.6983712041069543,
          0.6979262507974617,
          0.359167327351531,
          0.8343378358751954,
          0.8569125175811827,
          0.64504506241156,
          0.7843537247376418,
          0.30997781760338317,
          0.9192378559905308
         ]
        },
        {
         "hovertemplate": "<b>%{text}</b><br>Normalized: %{y:.2f}<br><extra></extra>",
         "marker": {
          "color": "#8B0000",
          "line": {
           "color": "#0A0A0A",
           "width": 3
          },
          "opacity": 1,
          "size": 21,
          "symbol": "diamond"
         },
         "mode": "markers+text",
         "name": "Minnesota Timberwolves",
         "showlegend": false,
         "text": [
          "55.9"
         ],
         "textfont": {
          "color": "#ffffff",
          "size": 20
         },
         "textposition": "top right",
         "type": "scatter",
         "x": [
          "EFG%"
         ],
         "y": [
          0.7518868375586125
         ]
        },
        {
         "hovertemplate": "<b>%{text}</b><br>Normalized: %{y:.2f}<br><extra></extra>",
         "marker": {
          "color": "#89CFF0",
          "line": {
           "color": "white",
           "width": 3
          },
          "opacity": 0.7,
          "size": 18,
          "symbol": "circle"
         },
         "mode": "markers",
         "name": "Team Season Averages per NBA Team",
         "showlegend": false,
         "text": [
          "Atlanta Hawks<br>Rim%: 67.2",
          "Boston Celtics<br>Rim%: 70.4",
          "Cleveland Cavaliers<br>Rim%: 63.0",
          "New Orleans Pelicans<br>Rim%: 65.9",
          "Chicago Bulls<br>Rim%: 66.2",
          "Dallas Mavericks<br>Rim%: 68.0",
          "Denver Nuggets<br>Rim%: 63.9",
          "Golden State Warriors<br>Rim%: 67.3",
          "Houston Rockets<br>Rim%: 65.9",
          "Los Angeles Clippers<br>Rim%: 67.7",
          "Los Angeles Lakers<br>Rim%: 72.5",
          "Miami Heat<br>Rim%: 67.6",
          "Milwaukee Bucks<br>Rim%: 71.0",
          "Minnesota Timberwolves<br>Rim%: 63.3",
          "Brooklyn Nets<br>Rim%: 65.8",
          "New York Knicks<br>Rim%: 63.6",
          "Orlando Magic<br>Rim%: 67.4",
          "Indiana Pacers<br>Rim%: 65.5",
          "Philadelphia 76ers<br>Rim%: 66.9",
          "Phoenix Suns<br>Rim%: 67.5",
          "Portland Trail Blazers<br>Rim%: 60.4",
          "Sacramento Kings<br>Rim%: 66.7",
          "San Antonio Spurs<br>Rim%: 65.9",
          "Oklahoma City Thunder<br>Rim%: 62.1",
          "Toronto Raptors<br>Rim%: 69.3",
          "Utah Jazz<br>Rim%: 67.7",
          "Memphis Grizzlies<br>Rim%: 63.6",
          "Washington Wizards<br>Rim%: 71.3",
          "Detroit Pistons<br>Rim%: 64.6",
          "Charlotte Hornets<br>Rim%: 67.8"
         ],
         "type": "scatter",
         "x": [
          "Rim%",
          "Rim%",
          "Rim%",
          "Rim%",
          "Rim%",
          "Rim%",
          "Rim%",
          "Rim%",
          "Rim%",
          "Rim%",
          "Rim%",
          "Rim%",
          "Rim%",
          "Rim%",
          "Rim%",
          "Rim%",
          "Rim%",
          "Rim%",
          "Rim%",
          "Rim%",
          "Rim%",
          "Rim%",
          "Rim%",
          "Rim%",
          "Rim%",
          "Rim%",
          "Rim%",
          "Rim%",
          "Rim%",
          "Rim%"
         ],
         "y": [
          0.5658990118467377,
          0.8312632434059806,
          0.218253063204072,
          0.45544489341483185,
          0.4763782942394288,
          0.6306245042267342,
          0.2906331448958914,
          0.5727877319549171,
          0.45137783562575606,
          0.6055818752421622,
          1,
          0.5945157634208611,
          0.8753047415656656,
          0.24338918561327816,
          0.44646988248822783,
          0.26140659477929784,
          0.5767107712109798,
          0.4203235992511516,
          0.5354958687594813,
          0.5888347334611552,
          0,
          0.5200815534308463,
          0.4588813955075164,
          0.1436110287854797,
          0.7400305715398208,
          0.6025942835385756,
          0.2640951063319976,
          0.9045289014366586,
          0.3460094215745011,
          0.6135765432584499
         ]
        },
        {
         "hovertemplate": "<b>%{text}</b><br>Normalized: %{y:.2f}<br><extra></extra>",
         "marker": {
          "color": "#8B0000",
          "line": {
           "color": "#0A0A0A",
           "width": 3
          },
          "opacity": 1,
          "size": 21,
          "symbol": "diamond"
         },
         "mode": "markers+text",
         "name": "Minnesota Timberwolves",
         "showlegend": false,
         "text": [
          "67.6"
         ],
         "textfont": {
          "color": "#ffffff",
          "size": 20
         },
         "textposition": "top right",
         "type": "scatter",
         "x": [
          "Rim%"
         ],
         "y": [
          0.5955368799267582
         ]
        },
        {
         "hovertemplate": "<b>%{text}</b><br>Normalized: %{y:.2f}<br><extra></extra>",
         "marker": {
          "color": "#89CFF0",
          "line": {
           "color": "white",
           "width": 3
          },
          "opacity": 0.7,
          "size": 18,
          "symbol": "circle"
         },
         "mode": "markers",
         "name": "Team Season Averages per NBA Team",
         "showlegend": false,
         "text": [
          "Atlanta Hawks<br>TOV%: 12.4",
          "Boston Celtics<br>TOV%: 10.8",
          "Cleveland Cavaliers<br>TOV%: 12.3",
          "New Orleans Pelicans<br>TOV%: 11.8",
          "Chicago Bulls<br>TOV%: 12.7",
          "Dallas Mavericks<br>TOV%: 12.1",
          "Denver Nuggets<br>TOV%: 11.2",
          "Golden State Warriors<br>TOV%: 11.5",
          "Houston Rockets<br>TOV%: 12.2",
          "Los Angeles Clippers<br>TOV%: 11.7",
          "Los Angeles Lakers<br>TOV%: 12.5",
          "Miami Heat<br>TOV%: 12.7",
          "Milwaukee Bucks<br>TOV%: 11.5",
          "Minnesota Timberwolves<br>TOV%: 12.9",
          "Brooklyn Nets<br>TOV%: 11.4",
          "New York Knicks<br>TOV%: 12.3",
          "Orlando Magic<br>TOV%: 13.3",
          "Indiana Pacers<br>TOV%: 12.1",
          "Philadelphia 76ers<br>TOV%: 13.1",
          "Phoenix Suns<br>TOV%: 13.4",
          "Portland Trail Blazers<br>TOV%: 13.4",
          "Sacramento Kings<br>TOV%: 12.5",
          "San Antonio Spurs<br>TOV%: 11.7",
          "Oklahoma City Thunder<br>TOV%: 13.6",
          "Toronto Raptors<br>TOV%: 12.2",
          "Utah Jazz<br>TOV%: 10.9",
          "Memphis Grizzlies<br>TOV%: 13.5",
          "Washington Wizards<br>TOV%: 12.0",
          "Detroit Pistons<br>TOV%: 13.5",
          "Charlotte Hornets<br>TOV%: 12.3"
         ],
         "type": "scatter",
         "x": [
          "TOV%",
          "TOV%",
          "TOV%",
          "TOV%",
          "TOV%",
          "TOV%",
          "TOV%",
          "TOV%",
          "TOV%",
          "TOV%",
          "TOV%",
          "TOV%",
          "TOV%",
          "TOV%",
          "TOV%",
          "TOV%",
          "TOV%",
          "TOV%",
          "TOV%",
          "TOV%",
          "TOV%",
          "TOV%",
          "TOV%",
          "TOV%",
          "TOV%",
          "TOV%",
          "TOV%",
          "TOV%",
          "TOV%",
          "TOV%"
         ],
         "y": [
          0.5697371421758866,
          0,
          0.5427804755267638,
          0.35598487526646005,
          0.65777781020565,
          0.46363635138177495,
          0.16680456878516736,
          0.2524941915975889,
          0.5063449700094371,
          0.3381390420605288,
          0.591840039890426,
          0.6692943435995393,
          0.27093666624339496,
          0.7283563007815634,
          0.2345141934524122,
          0.523863640962285,
          0.8906282195305812,
          0.4651999738172887,
          0.8234316698672699,
          0.9092764401123881,
          0.9051534923650952,
          0.617451730216509,
          0.3179879616840693,
          0.9999999999999996,
          0.49665537660950543,
          0.034397077078848426,
          0.9643691742426985,
          0.41638559175366874,
          0.9399061979431544,
          0.547605781475696
         ]
        },
        {
         "hovertemplate": "<b>%{text}</b><br>Normalized: %{y:.2f}<br><extra></extra>",
         "marker": {
          "color": "#8B0000",
          "line": {
           "color": "#0A0A0A",
           "width": 3
          },
          "opacity": 1,
          "size": 21,
          "symbol": "diamond"
         },
         "mode": "markers+text",
         "name": "Minnesota Timberwolves",
         "showlegend": false,
         "text": [
          "13.0"
         ],
         "textfont": {
          "color": "#ffffff",
          "size": 20
         },
         "textposition": "top right",
         "type": "scatter",
         "x": [
          "TOV%"
         ],
         "y": [
          0.7654443637127204
         ]
        },
        {
         "hovertemplate": "<b>%{text}</b><br>Normalized: %{y:.2f}<br><extra></extra>",
         "marker": {
          "color": "#89CFF0",
          "line": {
           "color": "white",
           "width": 3
          },
          "opacity": 0.7,
          "size": 18,
          "symbol": "circle"
         },
         "mode": "markers",
         "name": "Team Season Averages per NBA Team",
         "showlegend": false,
         "text": [
          "Atlanta Hawks<br>DREB%: 69.5",
          "Boston Celtics<br>DREB%: 73.2",
          "Cleveland Cavaliers<br>DREB%: 73.2",
          "New Orleans Pelicans<br>DREB%: 73.4",
          "Chicago Bulls<br>DREB%: 71.2",
          "Dallas Mavericks<br>DREB%: 74.9",
          "Denver Nuggets<br>DREB%: 70.8",
          "Golden State Warriors<br>DREB%: 69.2",
          "Houston Rockets<br>DREB%: 71.4",
          "Los Angeles Clippers<br>DREB%: 72.6",
          "Los Angeles Lakers<br>DREB%: 73.5",
          "Miami Heat<br>DREB%: 74.6",
          "Milwaukee Bucks<br>DREB%: 74.0",
          "Minnesota Timberwolves<br>DREB%: 73.6",
          "Brooklyn Nets<br>DREB%: 71.7",
          "New York Knicks<br>DREB%: 67.2",
          "Orlando Magic<br>DREB%: 74.6",
          "Indiana Pacers<br>DREB%: 72.3",
          "Philadelphia 76ers<br>DREB%: 71.6",
          "Phoenix Suns<br>DREB%: 72.4",
          "Portland Trail Blazers<br>DREB%: 70.6",
          "Sacramento Kings<br>DREB%: 72.2",
          "San Antonio Spurs<br>DREB%: 74.0",
          "Oklahoma City Thunder<br>DREB%: 75.7",
          "Toronto Raptors<br>DREB%: 72.3",
          "Utah Jazz<br>DREB%: 68.4",
          "Memphis Grizzlies<br>DREB%: 72.4",
          "Washington Wizards<br>DREB%: 76.5",
          "Detroit Pistons<br>DREB%: 74.0",
          "Charlotte Hornets<br>DREB%: 75.9"
         ],
         "type": "scatter",
         "x": [
          "DREB%",
          "DREB%",
          "DREB%",
          "DREB%",
          "DREB%",
          "DREB%",
          "DREB%",
          "DREB%",
          "DREB%",
          "DREB%",
          "DREB%",
          "DREB%",
          "DREB%",
          "DREB%",
          "DREB%",
          "DREB%",
          "DREB%",
          "DREB%",
          "DREB%",
          "DREB%",
          "DREB%",
          "DREB%",
          "DREB%",
          "DREB%",
          "DREB%",
          "DREB%",
          "DREB%",
          "DREB%",
          "DREB%",
          "DREB%"
         ],
         "y": [
          0.2501207467034998,
          0.6468348202404703,
          0.6526597212367893,
          0.665683535226429,
          0.43861982188010895,
          0.8299880931383763,
          0.39430793635070494,
          0.21731818257070223,
          0.4567011012629889,
          0.5866749674809046,
          0.6763174014889186,
          0.8020829155870137,
          0.7331479678844799,
          0.6872369740898812,
          0.4846808063841692,
          0,
          0.7958763786108713,
          0.5526970984968047,
          0.47343040119440705,
          0.5670053058613753,
          0.36688606483832675,
          0.5359098305716623,
          0.7310080141449218,
          0.9188808410849996,
          0.5507696229829664,
          0.13486599872693095,
          0.5584810393089583,
          1.0000000000000009,
          0.735474960786803,
          0.9349215454625357
         ]
        },
        {
         "hovertemplate": "<b>%{text}</b><br>Normalized: %{y:.2f}<br><extra></extra>",
         "marker": {
          "color": "#8B0000",
          "line": {
           "color": "#0A0A0A",
           "width": 3
          },
          "opacity": 1,
          "size": 21,
          "symbol": "diamond"
         },
         "mode": "markers+text",
         "name": "Minnesota Timberwolves",
         "showlegend": false,
         "text": [
          "73.3"
         ],
         "textfont": {
          "color": "#ffffff",
          "size": 20
         },
         "textposition": "top right",
         "type": "scatter",
         "x": [
          "DREB%"
         ],
         "y": [
          0.6553417485530186
         ]
        },
        {
         "hovertemplate": "<b>%{text}</b><br>Normalized: %{y:.2f}<br><extra></extra>",
         "marker": {
          "color": "#89CFF0",
          "line": {
           "color": "white",
           "width": 3
          },
          "opacity": 0.7,
          "size": 18,
          "symbol": "circle"
         },
         "mode": "markers",
         "name": "Team Season Averages per NBA Team",
         "showlegend": false,
         "text": [
          "Atlanta Hawks<br>OREB%: 27.4",
          "Boston Celtics<br>OREB%: 27.8",
          "Cleveland Cavaliers<br>OREB%: 27.0",
          "New Orleans Pelicans<br>OREB%: 27.6",
          "Chicago Bulls<br>OREB%: 27.6",
          "Dallas Mavericks<br>OREB%: 28.2",
          "Denver Nuggets<br>OREB%: 27.4",
          "Golden State Warriors<br>OREB%: 27.0",
          "Houston Rockets<br>OREB%: 27.5",
          "Los Angeles Clippers<br>OREB%: 28.9",
          "Los Angeles Lakers<br>OREB%: 23.3",
          "Miami Heat<br>OREB%: 25.6",
          "Milwaukee Bucks<br>OREB%: 24.2",
          "Minnesota Timberwolves<br>OREB%: 26.7",
          "Brooklyn Nets<br>OREB%: 27.4",
          "New York Knicks<br>OREB%: 26.7",
          "Orlando Magic<br>OREB%: 29.0",
          "Indiana Pacers<br>OREB%: 29.7",
          "Philadelphia 76ers<br>OREB%: 29.3",
          "Phoenix Suns<br>OREB%: 28.5",
          "Portland Trail Blazers<br>OREB%: 31.0",
          "Sacramento Kings<br>OREB%: 24.8",
          "San Antonio Spurs<br>OREB%: 27.0",
          "Oklahoma City Thunder<br>OREB%: 29.3",
          "Toronto Raptors<br>OREB%: 29.6",
          "Utah Jazz<br>OREB%: 27.9",
          "Memphis Grizzlies<br>OREB%: 28.6",
          "Washington Wizards<br>OREB%: 31.4",
          "Detroit Pistons<br>OREB%: 26.6",
          "Charlotte Hornets<br>OREB%: 28.6"
         ],
         "type": "scatter",
         "x": [
          "OREB%",
          "OREB%",
          "OREB%",
          "OREB%",
          "OREB%",
          "OREB%",
          "OREB%",
          "OREB%",
          "OREB%",
          "OREB%",
          "OREB%",
          "OREB%",
          "OREB%",
          "OREB%",
          "OREB%",
          "OREB%",
          "OREB%",
          "OREB%",
          "OREB%",
          "OREB%",
          "OREB%",
          "OREB%",
          "OREB%",
          "OREB%",
          "OREB%",
          "OREB%",
          "OREB%",
          "OREB%",
          "OREB%",
          "OREB%"
         ],
         "y": [
          0.5133421502355033,
          0.5531317675822747,
          0.4612422691466822,
          0.5352480200008447,
          0.5330016714218799,
          0.6120026975242934,
          0.5061436028384283,
          0.46114272557902636,
          0.5204802168151446,
          0.6921315024011574,
          0,
          0.2900488352498427,
          0.12099471770593873,
          0.42101154392953344,
          0.5068398890873933,
          0.4170610963333523,
          0.7036508112849851,
          0.7962424434625617,
          0.7423575956001298,
          0.6435768371224899,
          0.9524685110375617,
          0.19263690819900203,
          0.4657324817405697,
          0.7385002582764937,
          0.7783825518706173,
          0.568018446575917,
          0.6598829974757119,
          1,
          0.41670464322626,
          0.6526306909055766
         ]
        },
        {
         "hovertemplate": "<b>%{text}</b><br>Normalized: %{y:.2f}<br><extra></extra>",
         "marker": {
          "color": "#8B0000",
          "line": {
           "color": "#0A0A0A",
           "width": 3
          },
          "opacity": 1,
          "size": 21,
          "symbol": "diamond"
         },
         "mode": "markers+text",
         "name": "Minnesota Timberwolves",
         "showlegend": false,
         "text": [
          "26.4"
         ],
         "textfont": {
          "color": "#ffffff",
          "size": 20
         },
         "textposition": "top right",
         "type": "scatter",
         "x": [
          "OREB%"
         ],
         "y": [
          0.3908515814919822
         ]
        }
       ],
       "layout": {
        "height": 1000,
        "hovermode": "closest",
        "legend": {
         "bgcolor": "#1a1a1a",
         "bordercolor": "#1a1a1a",
         "borderwidth": 1,
         "font": {
          "color": "#ffffff",
          "size": 20
         },
         "orientation": "h",
         "x": 0.5,
         "xanchor": "center",
         "y": 1.025,
         "yanchor": "bottom"
        },
        "margin": {
         "b": 80,
         "t": 80
        },
        "paper_bgcolor": "#1a1a1a",
        "plot_bgcolor": "#1a1a1a",
        "showlegend": true,
        "template": {
         "data": {
          "bar": [
           {
            "error_x": {
             "color": "#2a3f5f"
            },
            "error_y": {
             "color": "#2a3f5f"
            },
            "marker": {
             "line": {
              "color": "#E5ECF6",
              "width": 0.5
             },
             "pattern": {
              "fillmode": "overlay",
              "size": 10,
              "solidity": 0.2
             }
            },
            "type": "bar"
           }
          ],
          "barpolar": [
           {
            "marker": {
             "line": {
              "color": "#E5ECF6",
              "width": 0.5
             },
             "pattern": {
              "fillmode": "overlay",
              "size": 10,
              "solidity": 0.2
             }
            },
            "type": "barpolar"
           }
          ],
          "carpet": [
           {
            "aaxis": {
             "endlinecolor": "#2a3f5f",
             "gridcolor": "white",
             "linecolor": "white",
             "minorgridcolor": "white",
             "startlinecolor": "#2a3f5f"
            },
            "baxis": {
             "endlinecolor": "#2a3f5f",
             "gridcolor": "white",
             "linecolor": "white",
             "minorgridcolor": "white",
             "startlinecolor": "#2a3f5f"
            },
            "type": "carpet"
           }
          ],
          "choropleth": [
           {
            "colorbar": {
             "outlinewidth": 0,
             "ticks": ""
            },
            "type": "choropleth"
           }
          ],
          "contour": [
           {
            "colorbar": {
             "outlinewidth": 0,
             "ticks": ""
            },
            "colorscale": [
             [
              0,
              "#0d0887"
             ],
             [
              0.1111111111111111,
              "#46039f"
             ],
             [
              0.2222222222222222,
              "#7201a8"
             ],
             [
              0.3333333333333333,
              "#9c179e"
             ],
             [
              0.4444444444444444,
              "#bd3786"
             ],
             [
              0.5555555555555556,
              "#d8576b"
             ],
             [
              0.6666666666666666,
              "#ed7953"
             ],
             [
              0.7777777777777778,
              "#fb9f3a"
             ],
             [
              0.8888888888888888,
              "#fdca26"
             ],
             [
              1,
              "#f0f921"
             ]
            ],
            "type": "contour"
           }
          ],
          "contourcarpet": [
           {
            "colorbar": {
             "outlinewidth": 0,
             "ticks": ""
            },
            "type": "contourcarpet"
           }
          ],
          "heatmap": [
           {
            "colorbar": {
             "outlinewidth": 0,
             "ticks": ""
            },
            "colorscale": [
             [
              0,
              "#0d0887"
             ],
             [
              0.1111111111111111,
              "#46039f"
             ],
             [
              0.2222222222222222,
              "#7201a8"
             ],
             [
              0.3333333333333333,
              "#9c179e"
             ],
             [
              0.4444444444444444,
              "#bd3786"
             ],
             [
              0.5555555555555556,
              "#d8576b"
             ],
             [
              0.6666666666666666,
              "#ed7953"
             ],
             [
              0.7777777777777778,
              "#fb9f3a"
             ],
             [
              0.8888888888888888,
              "#fdca26"
             ],
             [
              1,
              "#f0f921"
             ]
            ],
            "type": "heatmap"
           }
          ],
          "heatmapgl": [
           {
            "colorbar": {
             "outlinewidth": 0,
             "ticks": ""
            },
            "colorscale": [
             [
              0,
              "#0d0887"
             ],
             [
              0.1111111111111111,
              "#46039f"
             ],
             [
              0.2222222222222222,
              "#7201a8"
             ],
             [
              0.3333333333333333,
              "#9c179e"
             ],
             [
              0.4444444444444444,
              "#bd3786"
             ],
             [
              0.5555555555555556,
              "#d8576b"
             ],
             [
              0.6666666666666666,
              "#ed7953"
             ],
             [
              0.7777777777777778,
              "#fb9f3a"
             ],
             [
              0.8888888888888888,
              "#fdca26"
             ],
             [
              1,
              "#f0f921"
             ]
            ],
            "type": "heatmapgl"
           }
          ],
          "histogram": [
           {
            "marker": {
             "pattern": {
              "fillmode": "overlay",
              "size": 10,
              "solidity": 0.2
             }
            },
            "type": "histogram"
           }
          ],
          "histogram2d": [
           {
            "colorbar": {
             "outlinewidth": 0,
             "ticks": ""
            },
            "colorscale": [
             [
              0,
              "#0d0887"
             ],
             [
              0.1111111111111111,
              "#46039f"
             ],
             [
              0.2222222222222222,
              "#7201a8"
             ],
             [
              0.3333333333333333,
              "#9c179e"
             ],
             [
              0.4444444444444444,
              "#bd3786"
             ],
             [
              0.5555555555555556,
              "#d8576b"
             ],
             [
              0.6666666666666666,
              "#ed7953"
             ],
             [
              0.7777777777777778,
              "#fb9f3a"
             ],
             [
              0.8888888888888888,
              "#fdca26"
             ],
             [
              1,
              "#f0f921"
             ]
            ],
            "type": "histogram2d"
           }
          ],
          "histogram2dcontour": [
           {
            "colorbar": {
             "outlinewidth": 0,
             "ticks": ""
            },
            "colorscale": [
             [
              0,
              "#0d0887"
             ],
             [
              0.1111111111111111,
              "#46039f"
             ],
             [
              0.2222222222222222,
              "#7201a8"
             ],
             [
              0.3333333333333333,
              "#9c179e"
             ],
             [
              0.4444444444444444,
              "#bd3786"
             ],
             [
              0.5555555555555556,
              "#d8576b"
             ],
             [
              0.6666666666666666,
              "#ed7953"
             ],
             [
              0.7777777777777778,
              "#fb9f3a"
             ],
             [
              0.8888888888888888,
              "#fdca26"
             ],
             [
              1,
              "#f0f921"
             ]
            ],
            "type": "histogram2dcontour"
           }
          ],
          "mesh3d": [
           {
            "colorbar": {
             "outlinewidth": 0,
             "ticks": ""
            },
            "type": "mesh3d"
           }
          ],
          "parcoords": [
           {
            "line": {
             "colorbar": {
              "outlinewidth": 0,
              "ticks": ""
             }
            },
            "type": "parcoords"
           }
          ],
          "pie": [
           {
            "automargin": true,
            "type": "pie"
           }
          ],
          "scatter": [
           {
            "fillpattern": {
             "fillmode": "overlay",
             "size": 10,
             "solidity": 0.2
            },
            "type": "scatter"
           }
          ],
          "scatter3d": [
           {
            "line": {
             "colorbar": {
              "outlinewidth": 0,
              "ticks": ""
             }
            },
            "marker": {
             "colorbar": {
              "outlinewidth": 0,
              "ticks": ""
             }
            },
            "type": "scatter3d"
           }
          ],
          "scattercarpet": [
           {
            "marker": {
             "colorbar": {
              "outlinewidth": 0,
              "ticks": ""
             }
            },
            "type": "scattercarpet"
           }
          ],
          "scattergeo": [
           {
            "marker": {
             "colorbar": {
              "outlinewidth": 0,
              "ticks": ""
             }
            },
            "type": "scattergeo"
           }
          ],
          "scattergl": [
           {
            "marker": {
             "colorbar": {
              "outlinewidth": 0,
              "ticks": ""
             }
            },
            "type": "scattergl"
           }
          ],
          "scattermapbox": [
           {
            "marker": {
             "colorbar": {
              "outlinewidth": 0,
              "ticks": ""
             }
            },
            "type": "scattermapbox"
           }
          ],
          "scatterpolar": [
           {
            "marker": {
             "colorbar": {
              "outlinewidth": 0,
              "ticks": ""
             }
            },
            "type": "scatterpolar"
           }
          ],
          "scatterpolargl": [
           {
            "marker": {
             "colorbar": {
              "outlinewidth": 0,
              "ticks": ""
             }
            },
            "type": "scatterpolargl"
           }
          ],
          "scatterternary": [
           {
            "marker": {
             "colorbar": {
              "outlinewidth": 0,
              "ticks": ""
             }
            },
            "type": "scatterternary"
           }
          ],
          "surface": [
           {
            "colorbar": {
             "outlinewidth": 0,
             "ticks": ""
            },
            "colorscale": [
             [
              0,
              "#0d0887"
             ],
             [
              0.1111111111111111,
              "#46039f"
             ],
             [
              0.2222222222222222,
              "#7201a8"
             ],
             [
              0.3333333333333333,
              "#9c179e"
             ],
             [
              0.4444444444444444,
              "#bd3786"
             ],
             [
              0.5555555555555556,
              "#d8576b"
             ],
             [
              0.6666666666666666,
              "#ed7953"
             ],
             [
              0.7777777777777778,
              "#fb9f3a"
             ],
             [
              0.8888888888888888,
              "#fdca26"
             ],
             [
              1,
              "#f0f921"
             ]
            ],
            "type": "surface"
           }
          ],
          "table": [
           {
            "cells": {
             "fill": {
              "color": "#EBF0F8"
             },
             "line": {
              "color": "white"
             }
            },
            "header": {
             "fill": {
              "color": "#C8D4E3"
             },
             "line": {
              "color": "white"
             }
            },
            "type": "table"
           }
          ]
         },
         "layout": {
          "annotationdefaults": {
           "arrowcolor": "#2a3f5f",
           "arrowhead": 0,
           "arrowwidth": 1
          },
          "autotypenumbers": "strict",
          "coloraxis": {
           "colorbar": {
            "outlinewidth": 0,
            "ticks": ""
           }
          },
          "colorscale": {
           "diverging": [
            [
             0,
             "#8e0152"
            ],
            [
             0.1,
             "#c51b7d"
            ],
            [
             0.2,
             "#de77ae"
            ],
            [
             0.3,
             "#f1b6da"
            ],
            [
             0.4,
             "#fde0ef"
            ],
            [
             0.5,
             "#f7f7f7"
            ],
            [
             0.6,
             "#e6f5d0"
            ],
            [
             0.7,
             "#b8e186"
            ],
            [
             0.8,
             "#7fbc41"
            ],
            [
             0.9,
             "#4d9221"
            ],
            [
             1,
             "#276419"
            ]
           ],
           "sequential": [
            [
             0,
             "#0d0887"
            ],
            [
             0.1111111111111111,
             "#46039f"
            ],
            [
             0.2222222222222222,
             "#7201a8"
            ],
            [
             0.3333333333333333,
             "#9c179e"
            ],
            [
             0.4444444444444444,
             "#bd3786"
            ],
            [
             0.5555555555555556,
             "#d8576b"
            ],
            [
             0.6666666666666666,
             "#ed7953"
            ],
            [
             0.7777777777777778,
             "#fb9f3a"
            ],
            [
             0.8888888888888888,
             "#fdca26"
            ],
            [
             1,
             "#f0f921"
            ]
           ],
           "sequentialminus": [
            [
             0,
             "#0d0887"
            ],
            [
             0.1111111111111111,
             "#46039f"
            ],
            [
             0.2222222222222222,
             "#7201a8"
            ],
            [
             0.3333333333333333,
             "#9c179e"
            ],
            [
             0.4444444444444444,
             "#bd3786"
            ],
            [
             0.5555555555555556,
             "#d8576b"
            ],
            [
             0.6666666666666666,
             "#ed7953"
            ],
            [
             0.7777777777777778,
             "#fb9f3a"
            ],
            [
             0.8888888888888888,
             "#fdca26"
            ],
            [
             1,
             "#f0f921"
            ]
           ]
          },
          "colorway": [
           "#636efa",
           "#EF553B",
           "#00cc96",
           "#ab63fa",
           "#FFA15A",
           "#19d3f3",
           "#FF6692",
           "#B6E880",
           "#FF97FF",
           "#FECB52"
          ],
          "font": {
           "color": "#2a3f5f"
          },
          "geo": {
           "bgcolor": "white",
           "lakecolor": "white",
           "landcolor": "#E5ECF6",
           "showlakes": true,
           "showland": true,
           "subunitcolor": "white"
          },
          "hoverlabel": {
           "align": "left"
          },
          "hovermode": "closest",
          "mapbox": {
           "style": "light"
          },
          "paper_bgcolor": "white",
          "plot_bgcolor": "#E5ECF6",
          "polar": {
           "angularaxis": {
            "gridcolor": "white",
            "linecolor": "white",
            "ticks": ""
           },
           "bgcolor": "#E5ECF6",
           "radialaxis": {
            "gridcolor": "white",
            "linecolor": "white",
            "ticks": ""
           }
          },
          "scene": {
           "xaxis": {
            "backgroundcolor": "#E5ECF6",
            "gridcolor": "white",
            "gridwidth": 2,
            "linecolor": "white",
            "showbackground": true,
            "ticks": "",
            "zerolinecolor": "white"
           },
           "yaxis": {
            "backgroundcolor": "#E5ECF6",
            "gridcolor": "white",
            "gridwidth": 2,
            "linecolor": "white",
            "showbackground": true,
            "ticks": "",
            "zerolinecolor": "white"
           },
           "zaxis": {
            "backgroundcolor": "#E5ECF6",
            "gridcolor": "white",
            "gridwidth": 2,
            "linecolor": "white",
            "showbackground": true,
            "ticks": "",
            "zerolinecolor": "white"
           }
          },
          "shapedefaults": {
           "line": {
            "color": "#2a3f5f"
           }
          },
          "ternary": {
           "aaxis": {
            "gridcolor": "white",
            "linecolor": "white",
            "ticks": ""
           },
           "baxis": {
            "gridcolor": "white",
            "linecolor": "white",
            "ticks": ""
           },
           "bgcolor": "#E5ECF6",
           "caxis": {
            "gridcolor": "white",
            "linecolor": "white",
            "ticks": ""
           }
          },
          "title": {
           "x": 0.05
          },
          "xaxis": {
           "automargin": true,
           "gridcolor": "white",
           "linecolor": "white",
           "ticks": "",
           "title": {
            "standoff": 15
           },
           "zerolinecolor": "white",
           "zerolinewidth": 2
          },
          "yaxis": {
           "automargin": true,
           "gridcolor": "white",
           "linecolor": "white",
           "ticks": "",
           "title": {
            "standoff": 15
           },
           "zerolinecolor": "white",
           "zerolinewidth": 2
          }
         }
        },
        "title": {
         "font": {
          "color": "#ffffff",
          "size": 24
         },
         "text": "Minnesota Timberwolves 2023-2024 RS ",
         "x": 0.5,
         "y": 0.99
        },
        "width": 1600,
        "xaxis": {
         "autorange": true,
         "categoryarray": [
          "Points",
          "Opp Points",
          "FTA",
          "3P%",
          "Rim Freq",
          "EFG%",
          "Rim%",
          "TOV%",
          "DREB%",
          "OREB%"
         ],
         "categoryorder": "array",
         "gridcolor": "rgba(255, 255, 255, 0.1)",
         "range": [
          -0.6033668044890727,
          9.603366804489072
         ],
         "tickangle": -45,
         "tickfont": {
          "color": "#ffffff",
          "size": 20
         },
         "type": "category"
        },
        "yaxis": {
         "dtick": 0.2,
         "gridcolor": "rgba(255, 255, 255, 0.1)",
         "range": [
          -0.1,
          1.1
         ],
         "showgrid": false,
         "showticklabels": false,
         "tick0": 0,
         "tickfont": {
          "color": "#ffffff"
         },
         "tickformat": ".2f",
         "tickmode": "linear",
         "title": {
          "font": {
           "color": "#ffffff",
           "size": 16
          },
          "text": "Normalized Value"
         },
         "type": "linear",
         "zeroline": true,
         "zerolinecolor": "rgba(255, 255, 255, 0.1)"
        }
       }
      },
      "image/png": "[encoded data removed]",
      "text/html": [
       "<div>                            <div id=\"8cf825cb-acd9-4ea9-86dd-7debf5ddd4b1\" class=\"plotly-graph-div\" style=\"height:1000px; width:1600px;\"></div>            <script type=\"text/javascript\">                require([\"plotly\"], function(Plotly) {                    window.PLOTLYENV=window.PLOTLYENV || {};                                    if (document.getElementById(\"8cf825cb-acd9-4ea9-86dd-7debf5ddd4b1\")) {                    Plotly.newPlot(                        \"8cf825cb-acd9-4ea9-86dd-7debf5ddd4b1\",                        [{\"hovertemplate\":\"\\u003cb\\u003e%{text}\\u003c\\u002fb\\u003e\\u003cbr\\u003eNormalized: %{y:.2f}\\u003cbr\\u003e\\u003cextra\\u003e\\u003c\\u002fextra\\u003e\",\"marker\":{\"color\":\"#89CFF0\",\"line\":{\"color\":\"white\",\"width\":3},\"opacity\":0.7,\"size\":18,\"symbol\":\"circle\"},\"mode\":\"markers\",\"name\":\"Team Season Averages per NBA Team\",\"showlegend\":false,\"text\":[\"Atlanta Hawks\\u003cbr\\u003ePoints: 119.7\",\"Boston Celtics\\u003cbr\\u003ePoints: 123.3\",\"Cleveland Cavaliers\\u003cbr\\u003ePoints: 113.3\",\"New Orleans Pelicans\\u003cbr\\u003ePoints: 117.6\",\"Chicago Bulls\\u003cbr\\u003ePoints: 116.9\",\"Dallas Mavericks\\u003cbr\\u003ePoints: 116.1\",\"Denver Nuggets\\u003cbr\\u003ePoints: 113.5\",\"Golden State Warriors\\u003cbr\\u003ePoints: 115.8\",\"Houston Rockets\\u003cbr\\u003ePoints: 113.7\",\"Los Angeles Clippers\\u003cbr\\u003ePoints: 115.8\",\"Los Angeles Lakers\\u003cbr\\u003ePoints: 116.6\",\"Miami Heat\\u003cbr\\u003ePoints: 112.7\",\"Milwaukee Bucks\\u003cbr\\u003ePoints: 118.6\",\"Minnesota Timberwolves\\u003cbr\\u003ePoints: 109.5\",\"Brooklyn Nets\\u003cbr\\u003ePoints: 116.5\",\"New York Knicks\\u003cbr\\u003ePoints: 113.8\",\"Orlando Magic\\u003cbr\\u003ePoints: 114.1\",\"Indiana Pacers\\u003cbr\\u003ePoints: 118.8\",\"Philadelphia 76ers\\u003cbr\\u003ePoints: 114.3\",\"Phoenix Suns\\u003cbr\\u003ePoints: 118.0\",\"Portland Trail Blazers\\u003cbr\\u003ePoints: 108.6\",\"Sacramento Kings\\u003cbr\\u003ePoints: 115.8\",\"San Antonio Spurs\\u003cbr\\u003ePoints: 116.7\",\"Oklahoma City Thunder\\u003cbr\\u003ePoints: 112.2\",\"Toronto Raptors\\u003cbr\\u003ePoints: 119.3\",\"Utah Jazz\\u003cbr\\u003ePoints: 120.5\",\"Memphis Grizzlies\\u003cbr\\u003ePoints: 114.9\",\"Washington Wizards\\u003cbr\\u003ePoints: 120.3\",\"Detroit Pistons\\u003cbr\\u003ePoints: 110.3\",\"Charlotte Hornets\\u003cbr\\u003ePoints: 120.2\"],\"x\":[\"Points\",\"Points\",\"Points\",\"Points\",\"Points\",\"Points\",\"Points\",\"Points\",\"Points\",\"Points\",\"Points\",\"Points\",\"Points\",\"Points\",\"Points\",\"Points\",\"Points\",\"Points\",\"Points\",\"Points\",\"Points\",\"Points\",\"Points\",\"Points\",\"Points\",\"Points\",\"Points\",\"Points\",\"Points\",\"Points\"],\"y\":[0.758065362613582,1.0,0.3220285756105916,0.615741968455449,0.5631341474546332,0.5113482656686257,0.331813864319388,0.4865942658650031,0.3477982183644386,0.48901472436665117,0.5446149148865427,0.27847518630678625,0.6802518187701825,0.058593464281533336,0.5374271691844017,0.3522498945930055,0.37241145579477397,0.6936275480596379,0.3870386045055483,0.6422261226510173,0.0,0.48932826951796216,0.5490062704220051,0.24706094827401515,0.7302333006119213,0.8094262590972896,0.42874932022755896,0.7960077035939541,0.11370448259185739,0.7875714690560418],\"type\":\"scatter\"},{\"hovertemplate\":\"\\u003cb\\u003e%{text}\\u003c\\u002fb\\u003e\\u003cbr\\u003eNormalized: %{y:.2f}\\u003cbr\\u003e\\u003cextra\\u003e\\u003c\\u002fextra\\u003e\",\"marker\":{\"color\":\"#8B0000\",\"line\":{\"color\":\"#0A0A0A\",\"width\":3},\"opacity\":1,\"size\":21,\"symbol\":\"diamond\"},\"mode\":\"markers+text\",\"name\":\"Minnesota Timberwolves\",\"showlegend\":true,\"text\":[\"116.0\"],\"textfont\":{\"color\":\"#ffffff\",\"size\":20},\"textposition\":\"top right\",\"x\":[\"Points\"],\"y\":[0.5057741902310315],\"type\":\"scatter\"},{\"hovertemplate\":\"\\u003cb\\u003e%{text}\\u003c\\u002fb\\u003e\\u003cbr\\u003eNormalized: %{y:.2f}\\u003cbr\\u003e\\u003cextra\\u003e\\u003c\\u002fextra\\u003e\",\"marker\":{\"color\":\"#89CFF0\",\"line\":{\"color\":\"white\",\"width\":3},\"opacity\":0.7,\"size\":18,\"symbol\":\"circle\"},\"mode\":\"markers\",\"name\":\"Team Season Averages per NBA Team\",\"showlegend\":false,\"text\":[\"Atlanta Hawks\\u003cbr\\u003eOpp Points: 117.5\",\"Boston Celtics\\u003cbr\\u003eOpp Points: 111.9\",\"Cleveland Cavaliers\\u003cbr\\u003eOpp Points: 115.8\",\"New Orleans Pelicans\\u003cbr\\u003eOpp Points: 113.1\",\"Chicago Bulls\\u003cbr\\u003eOpp Points: 115.2\",\"Dallas Mavericks\\u003cbr\\u003eOpp Points: 118.2\",\"Denver Nuggets\\u003cbr\\u003eOpp Points: 119.0\",\"Golden State Warriors\\u003cbr\\u003eOpp Points: 118.1\",\"Houston Rockets\\u003cbr\\u003eOpp Points: 115.2\",\"Los Angeles Clippers\\u003cbr\\u003eOpp Points: 119.0\",\"Los Angeles Lakers\\u003cbr\\u003eOpp Points: 115.9\",\"Miami Heat\\u003cbr\\u003eOpp Points: 114.5\",\"Milwaukee Bucks\\u003cbr\\u003eOpp Points: 116.2\",\"Minnesota Timberwolves\\u003cbr\\u003eOpp Points: 116.0\",\"Brooklyn Nets\\u003cbr\\u003eOpp Points: 113.8\",\"New York Knicks\\u003cbr\\u003eOpp Points: 118.6\",\"Orlando Magic\\u003cbr\\u003eOpp Points: 111.9\",\"Indiana Pacers\\u003cbr\\u003eOpp Points: 121.6\",\"Philadelphia 76ers\\u003cbr\\u003eOpp Points: 117.3\",\"Phoenix Suns\\u003cbr\\u003eOpp Points: 114.8\",\"Portland Trail Blazers\\u003cbr\\u003eOpp Points: 117.9\",\"Sacramento Kings\\u003cbr\\u003eOpp Points: 117.2\",\"San Antonio Spurs\\u003cbr\\u003eOpp Points: 110.6\",\"Oklahoma City Thunder\\u003cbr\\u003eOpp Points: 119.5\",\"Toronto Raptors\\u003cbr\\u003eOpp Points: 113.0\",\"Utah Jazz\\u003cbr\\u003eOpp Points: 115.7\",\"Memphis Grizzlies\\u003cbr\\u003eOpp Points: 107.9\",\"Washington Wizards\\u003cbr\\u003eOpp Points: 111.2\",\"Detroit Pistons\\u003cbr\\u003eOpp Points: 119.0\",\"Charlotte Hornets\\u003cbr\\u003eOpp Points: 109.9\"],\"x\":[\"Opp Points\",\"Opp Points\",\"Opp Points\",\"Opp Points\",\"Opp Points\",\"Opp Points\",\"Opp Points\",\"Opp Points\",\"Opp Points\",\"Opp Points\",\"Opp Points\",\"Opp Points\",\"Opp Points\",\"Opp Points\",\"Opp Points\",\"Opp Points\",\"Opp Points\",\"Opp Points\",\"Opp Points\",\"Opp Points\",\"Opp Points\",\"Opp Points\",\"Opp Points\",\"Opp Points\",\"Opp Points\",\"Opp Points\",\"Opp Points\",\"Opp Points\",\"Opp Points\",\"Opp Points\"],\"y\":[0.6993767355302181,0.29369217378343127,0.5725048170926526,0.38151903040157453,0.5325558132363506,0.750394119831344,0.810016044074291,0.7462689060929426,0.5291546182602991,0.8121167233977937,0.5840345781028349,0.47836218897900107,0.6058229694577681,0.5927401369318703,0.42680240263625446,0.7778376758515302,0.2915647016296097,1.0000000000000009,0.682920654395466,0.5046714189552484,0.7280097409302781,0.6748570663718967,0.1947719163662578,0.8483188787670928,0.3692812091119597,0.5707045979519156,0.0,0.2399257449547063,0.811946457731838,0.148424395282305],\"type\":\"scatter\"},{\"hovertemplate\":\"\\u003cb\\u003e%{text}\\u003c\\u002fb\\u003e\\u003cbr\\u003eNormalized: %{y:.2f}\\u003cbr\\u003e\\u003cextra\\u003e\\u003c\\u002fextra\\u003e\",\"marker\":{\"color\":\"#8B0000\",\"line\":{\"color\":\"#0A0A0A\",\"width\":3},\"opacity\":1,\"size\":21,\"symbol\":\"diamond\"},\"mode\":\"markers+text\",\"name\":\"Minnesota Timberwolves\",\"showlegend\":false,\"text\":[\"109.5\"],\"textfont\":{\"color\":\"#ffffff\",\"size\":20},\"textposition\":\"top right\",\"x\":[\"Opp Points\"],\"y\":[0.11680795004405287],\"type\":\"scatter\"},{\"hovertemplate\":\"\\u003cb\\u003e%{text}\\u003c\\u002fb\\u003e\\u003cbr\\u003eNormalized: %{y:.2f}\\u003cbr\\u003e\\u003cextra\\u003e\\u003c\\u002fextra\\u003e\",\"marker\":{\"color\":\"#89CFF0\",\"line\":{\"color\":\"white\",\"width\":3},\"opacity\":0.7,\"size\":18,\"symbol\":\"circle\"},\"mode\":\"markers\",\"name\":\"Team Season Averages per NBA Team\",\"showlegend\":false,\"text\":[\"Atlanta Hawks\\u003cbr\\u003eFTA: 21.7\",\"Boston Celtics\\u003cbr\\u003eFTA: 20.6\",\"Cleveland Cavaliers\\u003cbr\\u003eFTA: 21.6\",\"New Orleans Pelicans\\u003cbr\\u003eFTA: 23.4\",\"Chicago Bulls\\u003cbr\\u003eFTA: 22.4\",\"Dallas Mavericks\\u003cbr\\u003eFTA: 21.7\",\"Denver Nuggets\\u003cbr\\u003eFTA: 23.0\",\"Golden State Warriors\\u003cbr\\u003eFTA: 22.6\",\"Houston Rockets\\u003cbr\\u003eFTA: 25.3\",\"Los Angeles Clippers\\u003cbr\\u003eFTA: 21.6\",\"Los Angeles Lakers\\u003cbr\\u003eFTA: 23.9\",\"Miami Heat\\u003cbr\\u003eFTA: 20.0\",\"Milwaukee Bucks\\u003cbr\\u003eFTA: 23.8\",\"Minnesota Timberwolves\\u003cbr\\u003eFTA: 22.5\",\"Brooklyn Nets\\u003cbr\\u003eFTA: 21.8\",\"New York Knicks\\u003cbr\\u003eFTA: 20.8\",\"Orlando Magic\\u003cbr\\u003eFTA: 25.2\",\"Indiana Pacers\\u003cbr\\u003eFTA: 25.7\",\"Philadelphia 76ers\\u003cbr\\u003eFTA: 24.1\",\"Phoenix Suns\\u003cbr\\u003eFTA: 23.7\",\"Portland Trail Blazers\\u003cbr\\u003eFTA: 20.9\",\"Sacramento Kings\\u003cbr\\u003eFTA: 23.3\",\"San Antonio Spurs\\u003cbr\\u003eFTA: 20.1\",\"Oklahoma City Thunder\\u003cbr\\u003eFTA: 22.8\",\"Toronto Raptors\\u003cbr\\u003eFTA: 19.9\",\"Utah Jazz\\u003cbr\\u003eFTA: 21.5\",\"Memphis Grizzlies\\u003cbr\\u003eFTA: 22.2\",\"Washington Wizards\\u003cbr\\u003eFTA: 23.4\",\"Detroit Pistons\\u003cbr\\u003eFTA: 21.8\",\"Charlotte Hornets\\u003cbr\\u003eFTA: 21.3\"],\"x\":[\"FTA\",\"FTA\",\"FTA\",\"FTA\",\"FTA\",\"FTA\",\"FTA\",\"FTA\",\"FTA\",\"FTA\",\"FTA\",\"FTA\",\"FTA\",\"FTA\",\"FTA\",\"FTA\",\"FTA\",\"FTA\",\"FTA\",\"FTA\",\"FTA\",\"FTA\",\"FTA\",\"FTA\",\"FTA\",\"FTA\",\"FTA\",\"FTA\",\"FTA\",\"FTA\"],\"y\":[0.3066865304761075,0.12074014873194994,0.29513640362966465,0.5971879189497944,0.435418436155512,0.3085394833506432,0.530679885962547,0.45817018364672135,0.9367454081721682,0.29051208153751196,0.6909799765320415,0.01195467034143105,0.6796907722802059,0.4463548685504124,0.32235010223834193,0.14755885722616702,0.922267635797267,1.0,0.7219168882037579,0.6601883931421915,0.17366298370194633,0.5828382091663613,0.03752045347849364,0.5038259470109905,0.0,0.2824973876377057,0.3912681767576025,0.6123769007739588,0.32470168424649826,0.24089314328171518],\"type\":\"scatter\"},{\"hovertemplate\":\"\\u003cb\\u003e%{text}\\u003c\\u002fb\\u003e\\u003cbr\\u003eNormalized: %{y:.2f}\\u003cbr\\u003e\\u003cextra\\u003e\\u003c\\u002fextra\\u003e\",\"marker\":{\"color\":\"#8B0000\",\"line\":{\"color\":\"#0A0A0A\",\"width\":3},\"opacity\":1,\"size\":21,\"symbol\":\"diamond\"},\"mode\":\"markers+text\",\"name\":\"Minnesota Timberwolves\",\"showlegend\":false,\"text\":[\"23.6\"],\"textfont\":{\"color\":\"#ffffff\",\"size\":20},\"textposition\":\"top right\",\"x\":[\"FTA\"],\"y\":[0.6335568940250633],\"type\":\"scatter\"},{\"hovertemplate\":\"\\u003cb\\u003e%{text}\\u003c\\u002fb\\u003e\\u003cbr\\u003eNormalized: %{y:.2f}\\u003cbr\\u003e\\u003cextra\\u003e\\u003c\\u002fextra\\u003e\",\"marker\":{\"color\":\"#89CFF0\",\"line\":{\"color\":\"white\",\"width\":3},\"opacity\":0.7,\"size\":18,\"symbol\":\"circle\"},\"mode\":\"markers\",\"name\":\"Team Season Averages per NBA Team\",\"showlegend\":false,\"text\":[\"Atlanta Hawks\\u003cbr\\u003e3P%: 38.4\",\"Boston Celtics\\u003cbr\\u003e3P%: 38.8\",\"Cleveland Cavaliers\\u003cbr\\u003e3P%: 37.1\",\"New Orleans Pelicans\\u003cbr\\u003e3P%: 38.3\",\"Chicago Bulls\\u003cbr\\u003e3P%: 37.0\",\"Dallas Mavericks\\u003cbr\\u003e3P%: 36.8\",\"Denver Nuggets\\u003cbr\\u003e3P%: 35.5\",\"Golden State Warriors\\u003cbr\\u003e3P%: 35.9\",\"Houston Rockets\\u003cbr\\u003e3P%: 34.8\",\"Los Angeles Clippers\\u003cbr\\u003e3P%: 36.3\",\"Los Angeles Lakers\\u003cbr\\u003e3P%: 37.7\",\"Miami Heat\\u003cbr\\u003e3P%: 35.3\",\"Milwaukee Bucks\\u003cbr\\u003e3P%: 37.3\",\"Minnesota Timberwolves\\u003cbr\\u003e3P%: 35.4\",\"Brooklyn Nets\\u003cbr\\u003e3P%: 37.2\",\"New York Knicks\\u003cbr\\u003e3P%: 36.5\",\"Orlando Magic\\u003cbr\\u003e3P%: 35.2\",\"Indiana Pacers\\u003cbr\\u003e3P%: 36.5\",\"Philadelphia 76ers\\u003cbr\\u003e3P%: 35.4\",\"Phoenix Suns\\u003cbr\\u003e3P%: 38.2\",\"Portland Trail Blazers\\u003cbr\\u003e3P%: 34.5\",\"Sacramento Kings\\u003cbr\\u003e3P%: 38.7\",\"San Antonio Spurs\\u003cbr\\u003e3P%: 37.3\",\"Oklahoma City Thunder\\u003cbr\\u003e3P%: 36.1\",\"Toronto Raptors\\u003cbr\\u003e3P%: 37.6\",\"Utah Jazz\\u003cbr\\u003e3P%: 39.5\",\"Memphis Grizzlies\\u003cbr\\u003e3P%: 37.8\",\"Washington Wizards\\u003cbr\\u003e3P%: 36.2\",\"Detroit Pistons\\u003cbr\\u003e3P%: 34.8\",\"Charlotte Hornets\\u003cbr\\u003e3P%: 37.7\"],\"x\":[\"3P%\",\"3P%\",\"3P%\",\"3P%\",\"3P%\",\"3P%\",\"3P%\",\"3P%\",\"3P%\",\"3P%\",\"3P%\",\"3P%\",\"3P%\",\"3P%\",\"3P%\",\"3P%\",\"3P%\",\"3P%\",\"3P%\",\"3P%\",\"3P%\",\"3P%\",\"3P%\",\"3P%\",\"3P%\",\"3P%\",\"3P%\",\"3P%\",\"3P%\",\"3P%\"],\"y\":[0.7788769828046025,0.8584032300452344,0.5219026098028188,0.753391074717018,0.4946136673051482,0.4611630570003138,0.20681719521913156,0.2831628025259665,0.07249505493487352,0.36515164316201076,0.6347120945461846,0.1533823864248154,0.5505331002660077,0.18723602541339357,0.541764547651951,0.4098737492285647,0.13516523784955403,0.3971933628326765,0.18356428798420854,0.7367501165766255,0.0,0.8391411343815633,0.5526949022146104,0.316403674701923,0.6191070892397024,1.0,0.658967447899907,0.34072560445388866,0.06670373661286355,0.6410007848622863],\"type\":\"scatter\"},{\"hovertemplate\":\"\\u003cb\\u003e%{text}\\u003c\\u002fb\\u003e\\u003cbr\\u003eNormalized: %{y:.2f}\\u003cbr\\u003e\\u003cextra\\u003e\\u003c\\u002fextra\\u003e\",\"marker\":{\"color\":\"#8B0000\",\"line\":{\"color\":\"#0A0A0A\",\"width\":3},\"opacity\":1,\"size\":21,\"symbol\":\"diamond\"},\"mode\":\"markers+text\",\"name\":\"Minnesota Timberwolves\",\"showlegend\":false,\"text\":[\"38.7\"],\"textfont\":{\"color\":\"#ffffff\",\"size\":20},\"textposition\":\"top right\",\"x\":[\"3P%\"],\"y\":[0.8345451903063426],\"type\":\"scatter\"},{\"hovertemplate\":\"\\u003cb\\u003e%{text}\\u003c\\u002fb\\u003e\\u003cbr\\u003eNormalized: %{y:.2f}\\u003cbr\\u003e\\u003cextra\\u003e\\u003c\\u002fextra\\u003e\",\"marker\":{\"color\":\"#89CFF0\",\"line\":{\"color\":\"white\",\"width\":3},\"opacity\":0.7,\"size\":18,\"symbol\":\"circle\"},\"mode\":\"markers\",\"name\":\"Team Season Averages per NBA Team\",\"showlegend\":false,\"text\":[\"Atlanta Hawks\\u003cbr\\u003eRim Freq: 33.1\",\"Boston Celtics\\u003cbr\\u003eRim Freq: 26.6\",\"Cleveland Cavaliers\\u003cbr\\u003eRim Freq: 30.3\",\"New Orleans Pelicans\\u003cbr\\u003eRim Freq: 30.5\",\"Chicago Bulls\\u003cbr\\u003eRim Freq: 30.2\",\"Dallas Mavericks\\u003cbr\\u003eRim Freq: 27.9\",\"Denver Nuggets\\u003cbr\\u003eRim Freq: 31.4\",\"Golden State Warriors\\u003cbr\\u003eRim Freq: 22.0\",\"Houston Rockets\\u003cbr\\u003eRim Freq: 26.7\",\"Los Angeles Clippers\\u003cbr\\u003eRim Freq: 28.3\",\"Los Angeles Lakers\\u003cbr\\u003eRim Freq: 32.3\",\"Miami Heat\\u003cbr\\u003eRim Freq: 24.7\",\"Milwaukee Bucks\\u003cbr\\u003eRim Freq: 28.5\",\"Minnesota Timberwolves\\u003cbr\\u003eRim Freq: 27.5\",\"Brooklyn Nets\\u003cbr\\u003eRim Freq: 30.0\",\"New York Knicks\\u003cbr\\u003eRim Freq: 32.3\",\"Orlando Magic\\u003cbr\\u003eRim Freq: 34.1\",\"Indiana Pacers\\u003cbr\\u003eRim Freq: 33.5\",\"Philadelphia 76ers\\u003cbr\\u003eRim Freq: 32.2\",\"Phoenix Suns\\u003cbr\\u003eRim Freq: 26.7\",\"Portland Trail Blazers\\u003cbr\\u003eRim Freq: 30.3\",\"Sacramento Kings\\u003cbr\\u003eRim Freq: 26.3\",\"San Antonio Spurs\\u003cbr\\u003eRim Freq: 32.3\",\"Oklahoma City Thunder\\u003cbr\\u003eRim Freq: 29.2\",\"Toronto Raptors\\u003cbr\\u003eRim Freq: 30.8\",\"Utah Jazz\\u003cbr\\u003eRim Freq: 26.7\",\"Memphis Grizzlies\\u003cbr\\u003eRim Freq: 32.2\",\"Washington Wizards\\u003cbr\\u003eRim Freq: 31.6\",\"Detroit Pistons\\u003cbr\\u003eRim Freq: 29.6\",\"Charlotte Hornets\\u003cbr\\u003eRim Freq: 33.1\"],\"x\":[\"Rim Freq\",\"Rim Freq\",\"Rim Freq\",\"Rim Freq\",\"Rim Freq\",\"Rim Freq\",\"Rim Freq\",\"Rim Freq\",\"Rim Freq\",\"Rim Freq\",\"Rim Freq\",\"Rim Freq\",\"Rim Freq\",\"Rim Freq\",\"Rim Freq\",\"Rim Freq\",\"Rim Freq\",\"Rim Freq\",\"Rim Freq\",\"Rim Freq\",\"Rim Freq\",\"Rim Freq\",\"Rim Freq\",\"Rim Freq\",\"Rim Freq\",\"Rim Freq\",\"Rim Freq\",\"Rim Freq\",\"Rim Freq\",\"Rim Freq\"],\"y\":[0.9212781010524036,0.3821802496946416,0.6900950459624255,0.7020095173892249,0.6815680706600722,0.4896953260247805,0.7768216070306526,0.0,0.3892558653367659,0.5212675585951392,0.8554913211229846,0.22691425701329915,0.5434386151085404,0.4541294930090143,0.6662470594305245,0.8575964238245579,1.0000000000000002,0.9559839590067181,0.8456292687465552,0.3898034308491576,0.6872236979464537,0.3577498120938485,0.8555083505662313,0.5995539767493663,0.7310585292489697,0.38873960473791613,0.8471849453315643,0.7963993488559373,0.6293771225033915,0.9203695279377426],\"type\":\"scatter\"},{\"hovertemplate\":\"\\u003cb\\u003e%{text}\\u003c\\u002fb\\u003e\\u003cbr\\u003eNormalized: %{y:.2f}\\u003cbr\\u003e\\u003cextra\\u003e\\u003c\\u002fextra\\u003e\",\"marker\":{\"color\":\"#8B0000\",\"line\":{\"color\":\"#0A0A0A\",\"width\":3},\"opacity\":1,\"size\":21,\"symbol\":\"diamond\"},\"mode\":\"markers+text\",\"name\":\"Minnesota Timberwolves\",\"showlegend\":false,\"text\":[\"30.3\"],\"textfont\":{\"color\":\"#ffffff\",\"size\":20},\"textposition\":\"top right\",\"x\":[\"Rim Freq\"],\"y\":[0.6903614620277343],\"type\":\"scatter\"},{\"hovertemplate\":\"\\u003cb\\u003e%{text}\\u003c\\u002fb\\u003e\\u003cbr\\u003eNormalized: %{y:.2f}\\u003cbr\\u003e\\u003cextra\\u003e\\u003c\\u002fextra\\u003e\",\"marker\":{\"color\":\"#89CFF0\",\"line\":{\"color\":\"white\",\"width\":3},\"opacity\":0.7,\"size\":18,\"symbol\":\"circle\"},\"mode\":\"markers\",\"name\":\"Team Season Averages per NBA Team\",\"showlegend\":false,\"text\":[\"Atlanta Hawks\\u003cbr\\u003eEFG%: 57.2\",\"Boston Celtics\\u003cbr\\u003eEFG%: 57.8\",\"Cleveland Cavaliers\\u003cbr\\u003eEFG%: 53.5\",\"New Orleans Pelicans\\u003cbr\\u003eEFG%: 55.8\",\"Chicago Bulls\\u003cbr\\u003eEFG%: 55.6\",\"Dallas Mavericks\\u003cbr\\u003eEFG%: 54.8\",\"Denver Nuggets\\u003cbr\\u003eEFG%: 52.6\",\"Golden State Warriors\\u003cbr\\u003eEFG%: 53.9\",\"Houston Rockets\\u003cbr\\u003eEFG%: 53.3\",\"Los Angeles Clippers\\u003cbr\\u003eEFG%: 54.1\",\"Los Angeles Lakers\\u003cbr\\u003eEFG%: 56.6\",\"Miami Heat\\u003cbr\\u003eEFG%: 54.3\",\"Milwaukee Bucks\\u003cbr\\u003eEFG%: 56.8\",\"Minnesota Timberwolves\\u003cbr\\u003eEFG%: 51.5\",\"Brooklyn Nets\\u003cbr\\u003eEFG%: 54.3\",\"New York Knicks\\u003cbr\\u003eEFG%: 54.3\",\"Orlando Magic\\u003cbr\\u003eEFG%: 54.1\",\"Indiana Pacers\\u003cbr\\u003eEFG%: 55.6\",\"Philadelphia 76ers\\u003cbr\\u003eEFG%: 53.7\",\"Phoenix Suns\\u003cbr\\u003eEFG%: 56.5\",\"Portland Trail Blazers\\u003cbr\\u003eEFG%: 50.3\",\"Sacramento Kings\\u003cbr\\u003eEFG%: 55.5\",\"San Antonio Spurs\\u003cbr\\u003eEFG%: 55.5\",\"Oklahoma City Thunder\\u003cbr\\u003eEFG%: 53.0\",\"Toronto Raptors\\u003cbr\\u003eEFG%: 56.6\",\"Utah Jazz\\u003cbr\\u003eEFG%: 56.7\",\"Memphis Grizzlies\\u003cbr\\u003eEFG%: 55.1\",\"Washington Wizards\\u003cbr\\u003eEFG%: 56.2\",\"Detroit Pistons\\u003cbr\\u003eEFG%: 52.6\",\"Charlotte Hornets\\u003cbr\\u003eEFG%: 57.2\"],\"x\":[\"EFG%\",\"EFG%\",\"EFG%\",\"EFG%\",\"EFG%\",\"EFG%\",\"EFG%\",\"EFG%\",\"EFG%\",\"EFG%\",\"EFG%\",\"EFG%\",\"EFG%\",\"EFG%\",\"EFG%\",\"EFG%\",\"EFG%\",\"EFG%\",\"EFG%\",\"EFG%\",\"EFG%\",\"EFG%\",\"EFG%\",\"EFG%\",\"EFG%\",\"EFG%\",\"EFG%\",\"EFG%\",\"EFG%\",\"EFG%\"],\"y\":[0.9234591916242367,1.0,0.4260560186336404,0.7281924995080384,0.7123725799918352,0.5958032406138818,0.3084672633605221,0.48251095430549906,0.4000273977333366,0.5032793203606332,0.8428730805437255,0.5302798487056801,0.8594856918200975,0.17010198178853742,0.5412241969226832,0.5402062788717901,0.5121169601732873,0.7043294183267994,0.4552962747704976,0.8280248951864522,0.0,0.6983712041069543,0.6979262507974617,0.359167327351531,0.8343378358751954,0.8569125175811827,0.64504506241156,0.7843537247376418,0.30997781760338317,0.9192378559905308],\"type\":\"scatter\"},{\"hovertemplate\":\"\\u003cb\\u003e%{text}\\u003c\\u002fb\\u003e\\u003cbr\\u003eNormalized: %{y:.2f}\\u003cbr\\u003e\\u003cextra\\u003e\\u003c\\u002fextra\\u003e\",\"marker\":{\"color\":\"#8B0000\",\"line\":{\"color\":\"#0A0A0A\",\"width\":3},\"opacity\":1,\"size\":21,\"symbol\":\"diamond\"},\"mode\":\"markers+text\",\"name\":\"Minnesota Timberwolves\",\"showlegend\":false,\"text\":[\"55.9\"],\"textfont\":{\"color\":\"#ffffff\",\"size\":20},\"textposition\":\"top right\",\"x\":[\"EFG%\"],\"y\":[0.7518868375586125],\"type\":\"scatter\"},{\"hovertemplate\":\"\\u003cb\\u003e%{text}\\u003c\\u002fb\\u003e\\u003cbr\\u003eNormalized: %{y:.2f}\\u003cbr\\u003e\\u003cextra\\u003e\\u003c\\u002fextra\\u003e\",\"marker\":{\"color\":\"#89CFF0\",\"line\":{\"color\":\"white\",\"width\":3},\"opacity\":0.7,\"size\":18,\"symbol\":\"circle\"},\"mode\":\"markers\",\"name\":\"Team Season Averages per NBA Team\",\"showlegend\":false,\"text\":[\"Atlanta Hawks\\u003cbr\\u003eRim%: 67.2\",\"Boston Celtics\\u003cbr\\u003eRim%: 70.4\",\"Cleveland Cavaliers\\u003cbr\\u003eRim%: 63.0\",\"New Orleans Pelicans\\u003cbr\\u003eRim%: 65.9\",\"Chicago Bulls\\u003cbr\\u003eRim%: 66.2\",\"Dallas Mavericks\\u003cbr\\u003eRim%: 68.0\",\"Denver Nuggets\\u003cbr\\u003eRim%: 63.9\",\"Golden State Warriors\\u003cbr\\u003eRim%: 67.3\",\"Houston Rockets\\u003cbr\\u003eRim%: 65.9\",\"Los Angeles Clippers\\u003cbr\\u003eRim%: 67.7\",\"Los Angeles Lakers\\u003cbr\\u003eRim%: 72.5\",\"Miami Heat\\u003cbr\\u003eRim%: 67.6\",\"Milwaukee Bucks\\u003cbr\\u003eRim%: 71.0\",\"Minnesota Timberwolves\\u003cbr\\u003eRim%: 63.3\",\"Brooklyn Nets\\u003cbr\\u003eRim%: 65.8\",\"New York Knicks\\u003cbr\\u003eRim%: 63.6\",\"Orlando Magic\\u003cbr\\u003eRim%: 67.4\",\"Indiana Pacers\\u003cbr\\u003eRim%: 65.5\",\"Philadelphia 76ers\\u003cbr\\u003eRim%: 66.9\",\"Phoenix Suns\\u003cbr\\u003eRim%: 67.5\",\"Portland Trail Blazers\\u003cbr\\u003eRim%: 60.4\",\"Sacramento Kings\\u003cbr\\u003eRim%: 66.7\",\"San Antonio Spurs\\u003cbr\\u003eRim%: 65.9\",\"Oklahoma City Thunder\\u003cbr\\u003eRim%: 62.1\",\"Toronto Raptors\\u003cbr\\u003eRim%: 69.3\",\"Utah Jazz\\u003cbr\\u003eRim%: 67.7\",\"Memphis Grizzlies\\u003cbr\\u003eRim%: 63.6\",\"Washington Wizards\\u003cbr\\u003eRim%: 71.3\",\"Detroit Pistons\\u003cbr\\u003eRim%: 64.6\",\"Charlotte Hornets\\u003cbr\\u003eRim%: 67.8\"],\"x\":[\"Rim%\",\"Rim%\",\"Rim%\",\"Rim%\",\"Rim%\",\"Rim%\",\"Rim%\",\"Rim%\",\"Rim%\",\"Rim%\",\"Rim%\",\"Rim%\",\"Rim%\",\"Rim%\",\"Rim%\",\"Rim%\",\"Rim%\",\"Rim%\",\"Rim%\",\"Rim%\",\"Rim%\",\"Rim%\",\"Rim%\",\"Rim%\",\"Rim%\",\"Rim%\",\"Rim%\",\"Rim%\",\"Rim%\",\"Rim%\"],\"y\":[0.5658990118467377,0.8312632434059806,0.218253063204072,0.45544489341483185,0.4763782942394288,0.6306245042267342,0.2906331448958914,0.5727877319549171,0.45137783562575606,0.6055818752421622,1.0,0.5945157634208611,0.8753047415656656,0.24338918561327816,0.44646988248822783,0.26140659477929784,0.5767107712109798,0.4203235992511516,0.5354958687594813,0.5888347334611552,0.0,0.5200815534308463,0.4588813955075164,0.1436110287854797,0.7400305715398208,0.6025942835385756,0.2640951063319976,0.9045289014366586,0.3460094215745011,0.6135765432584499],\"type\":\"scatter\"},{\"hovertemplate\":\"\\u003cb\\u003e%{text}\\u003c\\u002fb\\u003e\\u003cbr\\u003eNormalized: %{y:.2f}\\u003cbr\\u003e\\u003cextra\\u003e\\u003c\\u002fextra\\u003e\",\"marker\":{\"color\":\"#8B0000\",\"line\":{\"color\":\"#0A0A0A\",\"width\":3},\"opacity\":1,\"size\":21,\"symbol\":\"diamond\"},\"mode\":\"markers+text\",\"name\":\"Minnesota Timberwolves\",\"showlegend\":false,\"text\":[\"67.6\"],\"textfont\":{\"color\":\"#ffffff\",\"size\":20},\"textposition\":\"top right\",\"x\":[\"Rim%\"],\"y\":[0.5955368799267582],\"type\":\"scatter\"},{\"hovertemplate\":\"\\u003cb\\u003e%{text}\\u003c\\u002fb\\u003e\\u003cbr\\u003eNormalized: %{y:.2f}\\u003cbr\\u003e\\u003cextra\\u003e\\u003c\\u002fextra\\u003e\",\"marker\":{\"color\":\"#89CFF0\",\"line\":{\"color\":\"white\",\"width\":3},\"opacity\":0.7,\"size\":18,\"symbol\":\"circle\"},\"mode\":\"markers\",\"name\":\"Team Season Averages per NBA Team\",\"showlegend\":false,\"text\":[\"Atlanta Hawks\\u003cbr\\u003eTOV%: 12.4\",\"Boston Celtics\\u003cbr\\u003eTOV%: 10.8\",\"Cleveland Cavaliers\\u003cbr\\u003eTOV%: 12.3\",\"New Orleans Pelicans\\u003cbr\\u003eTOV%: 11.8\",\"Chicago Bulls\\u003cbr\\u003eTOV%: 12.7\",\"Dallas Mavericks\\u003cbr\\u003eTOV%: 12.1\",\"Denver Nuggets\\u003cbr\\u003eTOV%: 11.2\",\"Golden State Warriors\\u003cbr\\u003eTOV%: 11.5\",\"Houston Rockets\\u003cbr\\u003eTOV%: 12.2\",\"Los Angeles Clippers\\u003cbr\\u003eTOV%: 11.7\",\"Los Angeles Lakers\\u003cbr\\u003eTOV%: 12.5\",\"Miami Heat\\u003cbr\\u003eTOV%: 12.7\",\"Milwaukee Bucks\\u003cbr\\u003eTOV%: 11.5\",\"Minnesota Timberwolves\\u003cbr\\u003eTOV%: 12.9\",\"Brooklyn Nets\\u003cbr\\u003eTOV%: 11.4\",\"New York Knicks\\u003cbr\\u003eTOV%: 12.3\",\"Orlando Magic\\u003cbr\\u003eTOV%: 13.3\",\"Indiana Pacers\\u003cbr\\u003eTOV%: 12.1\",\"Philadelphia 76ers\\u003cbr\\u003eTOV%: 13.1\",\"Phoenix Suns\\u003cbr\\u003eTOV%: 13.4\",\"Portland Trail Blazers\\u003cbr\\u003eTOV%: 13.4\",\"Sacramento Kings\\u003cbr\\u003eTOV%: 12.5\",\"San Antonio Spurs\\u003cbr\\u003eTOV%: 11.7\",\"Oklahoma City Thunder\\u003cbr\\u003eTOV%: 13.6\",\"Toronto Raptors\\u003cbr\\u003eTOV%: 12.2\",\"Utah Jazz\\u003cbr\\u003eTOV%: 10.9\",\"Memphis Grizzlies\\u003cbr\\u003eTOV%: 13.5\",\"Washington Wizards\\u003cbr\\u003eTOV%: 12.0\",\"Detroit Pistons\\u003cbr\\u003eTOV%: 13.5\",\"Charlotte Hornets\\u003cbr\\u003eTOV%: 12.3\"],\"x\":[\"TOV%\",\"TOV%\",\"TOV%\",\"TOV%\",\"TOV%\",\"TOV%\",\"TOV%\",\"TOV%\",\"TOV%\",\"TOV%\",\"TOV%\",\"TOV%\",\"TOV%\",\"TOV%\",\"TOV%\",\"TOV%\",\"TOV%\",\"TOV%\",\"TOV%\",\"TOV%\",\"TOV%\",\"TOV%\",\"TOV%\",\"TOV%\",\"TOV%\",\"TOV%\",\"TOV%\",\"TOV%\",\"TOV%\",\"TOV%\"],\"y\":[0.5697371421758866,0.0,0.5427804755267638,0.35598487526646005,0.65777781020565,0.46363635138177495,0.16680456878516736,0.2524941915975889,0.5063449700094371,0.3381390420605288,0.591840039890426,0.6692943435995393,0.27093666624339496,0.7283563007815634,0.2345141934524122,0.523863640962285,0.8906282195305812,0.4651999738172887,0.8234316698672699,0.9092764401123881,0.9051534923650952,0.617451730216509,0.3179879616840693,0.9999999999999996,0.49665537660950543,0.034397077078848426,0.9643691742426985,0.41638559175366874,0.9399061979431544,0.547605781475696],\"type\":\"scatter\"},{\"hovertemplate\":\"\\u003cb\\u003e%{text}\\u003c\\u002fb\\u003e\\u003cbr\\u003eNormalized: %{y:.2f}\\u003cbr\\u003e\\u003cextra\\u003e\\u003c\\u002fextra\\u003e\",\"marker\":{\"color\":\"#8B0000\",\"line\":{\"color\":\"#0A0A0A\",\"width\":3},\"opacity\":1,\"size\":21,\"symbol\":\"diamond\"},\"mode\":\"markers+text\",\"name\":\"Minnesota Timberwolves\",\"showlegend\":false,\"text\":[\"13.0\"],\"textfont\":{\"color\":\"#ffffff\",\"size\":20},\"textposition\":\"top right\",\"x\":[\"TOV%\"],\"y\":[0.7654443637127204],\"type\":\"scatter\"},{\"hovertemplate\":\"\\u003cb\\u003e%{text}\\u003c\\u002fb\\u003e\\u003cbr\\u003eNormalized: %{y:.2f}\\u003cbr\\u003e\\u003cextra\\u003e\\u003c\\u002fextra\\u003e\",\"marker\":{\"color\":\"#89CFF0\",\"line\":{\"color\":\"white\",\"width\":3},\"opacity\":0.7,\"size\":18,\"symbol\":\"circle\"},\"mode\":\"markers\",\"name\":\"Team Season Averages per NBA Team\",\"showlegend\":false,\"text\":[\"Atlanta Hawks\\u003cbr\\u003eDREB%: 69.5\",\"Boston Celtics\\u003cbr\\u003eDREB%: 73.2\",\"Cleveland Cavaliers\\u003cbr\\u003eDREB%: 73.2\",\"New Orleans Pelicans\\u003cbr\\u003eDREB%: 73.4\",\"Chicago Bulls\\u003cbr\\u003eDREB%: 71.2\",\"Dallas Mavericks\\u003cbr\\u003eDREB%: 74.9\",\"Denver Nuggets\\u003cbr\\u003eDREB%: 70.8\",\"Golden State Warriors\\u003cbr\\u003eDREB%: 69.2\",\"Houston Rockets\\u003cbr\\u003eDREB%: 71.4\",\"Los Angeles Clippers\\u003cbr\\u003eDREB%: 72.6\",\"Los Angeles Lakers\\u003cbr\\u003eDREB%: 73.5\",\"Miami Heat\\u003cbr\\u003eDREB%: 74.6\",\"Milwaukee Bucks\\u003cbr\\u003eDREB%: 74.0\",\"Minnesota Timberwolves\\u003cbr\\u003eDREB%: 73.6\",\"Brooklyn Nets\\u003cbr\\u003eDREB%: 71.7\",\"New York Knicks\\u003cbr\\u003eDREB%: 67.2\",\"Orlando Magic\\u003cbr\\u003eDREB%: 74.6\",\"Indiana Pacers\\u003cbr\\u003eDREB%: 72.3\",\"Philadelphia 76ers\\u003cbr\\u003eDREB%: 71.6\",\"Phoenix Suns\\u003cbr\\u003eDREB%: 72.4\",\"Portland Trail Blazers\\u003cbr\\u003eDREB%: 70.6\",\"Sacramento Kings\\u003cbr\\u003eDREB%: 72.2\",\"San Antonio Spurs\\u003cbr\\u003eDREB%: 74.0\",\"Oklahoma City Thunder\\u003cbr\\u003eDREB%: 75.7\",\"Toronto Raptors\\u003cbr\\u003eDREB%: 72.3\",\"Utah Jazz\\u003cbr\\u003eDREB%: 68.4\",\"Memphis Grizzlies\\u003cbr\\u003eDREB%: 72.4\",\"Washington Wizards\\u003cbr\\u003eDREB%: 76.5\",\"Detroit Pistons\\u003cbr\\u003eDREB%: 74.0\",\"Charlotte Hornets\\u003cbr\\u003eDREB%: 75.9\"],\"x\":[\"DREB%\",\"DREB%\",\"DREB%\",\"DREB%\",\"DREB%\",\"DREB%\",\"DREB%\",\"DREB%\",\"DREB%\",\"DREB%\",\"DREB%\",\"DREB%\",\"DREB%\",\"DREB%\",\"DREB%\",\"DREB%\",\"DREB%\",\"DREB%\",\"DREB%\",\"DREB%\",\"DREB%\",\"DREB%\",\"DREB%\",\"DREB%\",\"DREB%\",\"DREB%\",\"DREB%\",\"DREB%\",\"DREB%\",\"DREB%\"],\"y\":[0.2501207467034998,0.6468348202404703,0.6526597212367893,0.665683535226429,0.43861982188010895,0.8299880931383763,0.39430793635070494,0.21731818257070223,0.4567011012629889,0.5866749674809046,0.6763174014889186,0.8020829155870137,0.7331479678844799,0.6872369740898812,0.4846808063841692,0.0,0.7958763786108713,0.5526970984968047,0.47343040119440705,0.5670053058613753,0.36688606483832675,0.5359098305716623,0.7310080141449218,0.9188808410849996,0.5507696229829664,0.13486599872693095,0.5584810393089583,1.0000000000000009,0.735474960786803,0.9349215454625357],\"type\":\"scatter\"},{\"hovertemplate\":\"\\u003cb\\u003e%{text}\\u003c\\u002fb\\u003e\\u003cbr\\u003eNormalized: %{y:.2f}\\u003cbr\\u003e\\u003cextra\\u003e\\u003c\\u002fextra\\u003e\",\"marker\":{\"color\":\"#8B0000\",\"line\":{\"color\":\"#0A0A0A\",\"width\":3},\"opacity\":1,\"size\":21,\"symbol\":\"diamond\"},\"mode\":\"markers+text\",\"name\":\"Minnesota Timberwolves\",\"showlegend\":false,\"text\":[\"73.3\"],\"textfont\":{\"color\":\"#ffffff\",\"size\":20},\"textposition\":\"top right\",\"x\":[\"DREB%\"],\"y\":[0.6553417485530186],\"type\":\"scatter\"},{\"hovertemplate\":\"\\u003cb\\u003e%{text}\\u003c\\u002fb\\u003e\\u003cbr\\u003eNormalized: %{y:.2f}\\u003cbr\\u003e\\u003cextra\\u003e\\u003c\\u002fextra\\u003e\",\"marker\":{\"color\":\"#89CFF0\",\"line\":{\"color\":\"white\",\"width\":3},\"opacity\":0.7,\"size\":18,\"symbol\":\"circle\"},\"mode\":\"markers\",\"name\":\"Team Season Averages per NBA Team\",\"showlegend\":false,\"text\":[\"Atlanta Hawks\\u003cbr\\u003eOREB%: 27.4\",\"Boston Celtics\\u003cbr\\u003eOREB%: 27.8\",\"Cleveland Cavaliers\\u003cbr\\u003eOREB%: 27.0\",\"New Orleans Pelicans\\u003cbr\\u003eOREB%: 27.6\",\"Chicago Bulls\\u003cbr\\u003eOREB%: 27.6\",\"Dallas Mavericks\\u003cbr\\u003eOREB%: 28.2\",\"Denver Nuggets\\u003cbr\\u003eOREB%: 27.4\",\"Golden State Warriors\\u003cbr\\u003eOREB%: 27.0\",\"Houston Rockets\\u003cbr\\u003eOREB%: 27.5\",\"Los Angeles Clippers\\u003cbr\\u003eOREB%: 28.9\",\"Los Angeles Lakers\\u003cbr\\u003eOREB%: 23.3\",\"Miami Heat\\u003cbr\\u003eOREB%: 25.6\",\"Milwaukee Bucks\\u003cbr\\u003eOREB%: 24.2\",\"Minnesota Timberwolves\\u003cbr\\u003eOREB%: 26.7\",\"Brooklyn Nets\\u003cbr\\u003eOREB%: 27.4\",\"New York Knicks\\u003cbr\\u003eOREB%: 26.7\",\"Orlando Magic\\u003cbr\\u003eOREB%: 29.0\",\"Indiana Pacers\\u003cbr\\u003eOREB%: 29.7\",\"Philadelphia 76ers\\u003cbr\\u003eOREB%: 29.3\",\"Phoenix Suns\\u003cbr\\u003eOREB%: 28.5\",\"Portland Trail Blazers\\u003cbr\\u003eOREB%: 31.0\",\"Sacramento Kings\\u003cbr\\u003eOREB%: 24.8\",\"San Antonio Spurs\\u003cbr\\u003eOREB%: 27.0\",\"Oklahoma City Thunder\\u003cbr\\u003eOREB%: 29.3\",\"Toronto Raptors\\u003cbr\\u003eOREB%: 29.6\",\"Utah Jazz\\u003cbr\\u003eOREB%: 27.9\",\"Memphis Grizzlies\\u003cbr\\u003eOREB%: 28.6\",\"Washington Wizards\\u003cbr\\u003eOREB%: 31.4\",\"Detroit Pistons\\u003cbr\\u003eOREB%: 26.6\",\"Charlotte Hornets\\u003cbr\\u003eOREB%: 28.6\"],\"x\":[\"OREB%\",\"OREB%\",\"OREB%\",\"OREB%\",\"OREB%\",\"OREB%\",\"OREB%\",\"OREB%\",\"OREB%\",\"OREB%\",\"OREB%\",\"OREB%\",\"OREB%\",\"OREB%\",\"OREB%\",\"OREB%\",\"OREB%\",\"OREB%\",\"OREB%\",\"OREB%\",\"OREB%\",\"OREB%\",\"OREB%\",\"OREB%\",\"OREB%\",\"OREB%\",\"OREB%\",\"OREB%\",\"OREB%\",\"OREB%\"],\"y\":[0.5133421502355033,0.5531317675822747,0.4612422691466822,0.5352480200008447,0.5330016714218799,0.6120026975242934,0.5061436028384283,0.46114272557902636,0.5204802168151446,0.6921315024011574,0.0,0.2900488352498427,0.12099471770593873,0.42101154392953344,0.5068398890873933,0.4170610963333523,0.7036508112849851,0.7962424434625617,0.7423575956001298,0.6435768371224899,0.9524685110375617,0.19263690819900203,0.4657324817405697,0.7385002582764937,0.7783825518706173,0.568018446575917,0.6598829974757119,1.0,0.41670464322626,0.6526306909055766],\"type\":\"scatter\"},{\"hovertemplate\":\"\\u003cb\\u003e%{text}\\u003c\\u002fb\\u003e\\u003cbr\\u003eNormalized: %{y:.2f}\\u003cbr\\u003e\\u003cextra\\u003e\\u003c\\u002fextra\\u003e\",\"marker\":{\"color\":\"#8B0000\",\"line\":{\"color\":\"#0A0A0A\",\"width\":3},\"opacity\":1,\"size\":21,\"symbol\":\"diamond\"},\"mode\":\"markers+text\",\"name\":\"Minnesota Timberwolves\",\"showlegend\":false,\"text\":[\"26.4\"],\"textfont\":{\"color\":\"#ffffff\",\"size\":20},\"textposition\":\"top right\",\"x\":[\"OREB%\"],\"y\":[0.3908515814919822],\"type\":\"scatter\"}],                        {\"template\":{\"data\":{\"histogram2dcontour\":[{\"type\":\"histogram2dcontour\",\"colorbar\":{\"outlinewidth\":0,\"ticks\":\"\"},\"colorscale\":[[0.0,\"#0d0887\"],[0.1111111111111111,\"#46039f\"],[0.2222222222222222,\"#7201a8\"],[0.3333333333333333,\"#9c179e\"],[0.4444444444444444,\"#bd3786\"],[0.5555555555555556,\"#d8576b\"],[0.6666666666666666,\"#ed7953\"],[0.7777777777777778,\"#fb9f3a\"],[0.8888888888888888,\"#fdca26\"],[1.0,\"#f0f921\"]]}],\"choropleth\":[{\"type\":\"choropleth\",\"colorbar\":{\"outlinewidth\":0,\"ticks\":\"\"}}],\"histogram2d\":[{\"type\":\"histogram2d\",\"colorbar\":{\"outlinewidth\":0,\"ticks\":\"\"},\"colorscale\":[[0.0,\"#0d0887\"],[0.1111111111111111,\"#46039f\"],[0.2222222222222222,\"#7201a8\"],[0.3333333333333333,\"#9c179e\"],[0.4444444444444444,\"#bd3786\"],[0.5555555555555556,\"#d8576b\"],[0.6666666666666666,\"#ed7953\"],[0.7777777777777778,\"#fb9f3a\"],[0.8888888888888888,\"#fdca26\"],[1.0,\"#f0f921\"]]}],\"heatmap\":[{\"type\":\"heatmap\",\"colorbar\":{\"outlinewidth\":0,\"ticks\":\"\"},\"colorscale\":[[0.0,\"#0d0887\"],[0.1111111111111111,\"#46039f\"],[0.2222222222222222,\"#7201a8\"],[0.3333333333333333,\"#9c179e\"],[0.4444444444444444,\"#bd3786\"],[0.5555555555555556,\"#d8576b\"],[0.6666666666666666,\"#ed7953\"],[0.7777777777777778,\"#fb9f3a\"],[0.8888888888888888,\"#fdca26\"],[1.0,\"#f0f921\"]]}],\"heatmapgl\":[{\"type\":\"heatmapgl\",\"colorbar\":{\"outlinewidth\":0,\"ticks\":\"\"},\"colorscale\":[[0.0,\"#0d0887\"],[0.1111111111111111,\"#46039f\"],[0.2222222222222222,\"#7201a8\"],[0.3333333333333333,\"#9c179e\"],[0.4444444444444444,\"#bd3786\"],[0.5555555555555556,\"#d8576b\"],[0.6666666666666666,\"#ed7953\"],[0.7777777777777778,\"#fb9f3a\"],[0.8888888888888888,\"#fdca26\"],[1.0,\"#f0f921\"]]}],\"contourcarpet\":[{\"type\":\"contourcarpet\",\"colorbar\":{\"outlinewidth\":0,\"ticks\":\"\"}}],\"contour\":[{\"type\":\"contour\",\"colorbar\":{\"outlinewidth\":0,\"ticks\":\"\"},\"colorscale\":[[0.0,\"#0d0887\"],[0.1111111111111111,\"#46039f\"],[0.2222222222222222,\"#7201a8\"],[0.3333333333333333,\"#9c179e\"],[0.4444444444444444,\"#bd3786\"],[0.5555555555555556,\"#d8576b\"],[0.6666666666666666,\"#ed7953\"],[0.7777777777777778,\"#fb9f3a\"],[0.8888888888888888,\"#fdca26\"],[1.0,\"#f0f921\"]]}],\"surface\":[{\"type\":\"surface\",\"colorbar\":{\"outlinewidth\":0,\"ticks\":\"\"},\"colorscale\":[[0.0,\"#0d0887\"],[0.1111111111111111,\"#46039f\"],[0.2222222222222222,\"#7201a8\"],[0.3333333333333333,\"#9c179e\"],[0.4444444444444444,\"#bd3786\"],[0.5555555555555556,\"#d8576b\"],[0.6666666666666666,\"#ed7953\"],[0.7777777777777778,\"#fb9f3a\"],[0.8888888888888888,\"#fdca26\"],[1.0,\"#f0f921\"]]}],\"mesh3d\":[{\"type\":\"mesh3d\",\"colorbar\":{\"outlinewidth\":0,\"ticks\":\"\"}}],\"scatter\":[{\"fillpattern\":{\"fillmode\":\"overlay\",\"size\":10,\"solidity\":0.2},\"type\":\"scatter\"}],\"parcoords\":[{\"type\":\"parcoords\",\"line\":{\"colorbar\":{\"outlinewidth\":0,\"ticks\":\"\"}}}],\"scatterpolargl\":[{\"type\":\"scatterpolargl\",\"marker\":{\"colorbar\":{\"outlinewidth\":0,\"ticks\":\"\"}}}],\"bar\":[{\"error_x\":{\"color\":\"#2a3f5f\"},\"error_y\":{\"color\":\"#2a3f5f\"},\"marker\":{\"line\":{\"color\":\"#E5ECF6\",\"width\":0.5},\"pattern\":{\"fillmode\":\"overlay\",\"size\":10,\"solidity\":0.2}},\"type\":\"bar\"}],\"scattergeo\":[{\"type\":\"scattergeo\",\"marker\":{\"colorbar\":{\"outlinewidth\":0,\"ticks\":\"\"}}}],\"scatterpolar\":[{\"type\":\"scatterpolar\",\"marker\":{\"colorbar\":{\"outlinewidth\":0,\"ticks\":\"\"}}}],\"histogram\":[{\"marker\":{\"pattern\":{\"fillmode\":\"overlay\",\"size\":10,\"solidity\":0.2}},\"type\":\"histogram\"}],\"scattergl\":[{\"type\":\"scattergl\",\"marker\":{\"colorbar\":{\"outlinewidth\":0,\"ticks\":\"\"}}}],\"scatter3d\":[{\"type\":\"scatter3d\",\"line\":{\"colorbar\":{\"outlinewidth\":0,\"ticks\":\"\"}},\"marker\":{\"colorbar\":{\"outlinewidth\":0,\"ticks\":\"\"}}}],\"scattermapbox\":[{\"type\":\"scattermapbox\",\"marker\":{\"colorbar\":{\"outlinewidth\":0,\"ticks\":\"\"}}}],\"scatterternary\":[{\"type\":\"scatterternary\",\"marker\":{\"colorbar\":{\"outlinewidth\":0,\"ticks\":\"\"}}}],\"scattercarpet\":[{\"type\":\"scattercarpet\",\"marker\":{\"colorbar\":{\"outlinewidth\":0,\"ticks\":\"\"}}}],\"carpet\":[{\"aaxis\":{\"endlinecolor\":\"#2a3f5f\",\"gridcolor\":\"white\",\"linecolor\":\"white\",\"minorgridcolor\":\"white\",\"startlinecolor\":\"#2a3f5f\"},\"baxis\":{\"endlinecolor\":\"#2a3f5f\",\"gridcolor\":\"white\",\"linecolor\":\"white\",\"minorgridcolor\":\"white\",\"startlinecolor\":\"#2a3f5f\"},\"type\":\"carpet\"}],\"table\":[{\"cells\":{\"fill\":{\"color\":\"#EBF0F8\"},\"line\":{\"color\":\"white\"}},\"header\":{\"fill\":{\"color\":\"#C8D4E3\"},\"line\":{\"color\":\"white\"}},\"type\":\"table\"}],\"barpolar\":[{\"marker\":{\"line\":{\"color\":\"#E5ECF6\",\"width\":0.5},\"pattern\":{\"fillmode\":\"overlay\",\"size\":10,\"solidity\":0.2}},\"type\":\"barpolar\"}],\"pie\":[{\"automargin\":true,\"type\":\"pie\"}]},\"layout\":{\"autotypenumbers\":\"strict\",\"colorway\":[\"#636efa\",\"#EF553B\",\"#00cc96\",\"#ab63fa\",\"#FFA15A\",\"#19d3f3\",\"#FF6692\",\"#B6E880\",\"#FF97FF\",\"#FECB52\"],\"font\":{\"color\":\"#2a3f5f\"},\"hovermode\":\"closest\",\"hoverlabel\":{\"align\":\"left\"},\"paper_bgcolor\":\"white\",\"plot_bgcolor\":\"#E5ECF6\",\"polar\":{\"bgcolor\":\"#E5ECF6\",\"angularaxis\":{\"gridcolor\":\"white\",\"linecolor\":\"white\",\"ticks\":\"\"},\"radialaxis\":{\"gridcolor\":\"white\",\"linecolor\":\"white\",\"ticks\":\"\"}},\"ternary\":{\"bgcolor\":\"#E5ECF6\",\"aaxis\":{\"gridcolor\":\"white\",\"linecolor\":\"white\",\"ticks\":\"\"},\"baxis\":{\"gridcolor\":\"white\",\"linecolor\":\"white\",\"ticks\":\"\"},\"caxis\":{\"gridcolor\":\"white\",\"linecolor\":\"white\",\"ticks\":\"\"}},\"coloraxis\":{\"colorbar\":{\"outlinewidth\":0,\"ticks\":\"\"}},\"colorscale\":{\"sequential\":[[0.0,\"#0d0887\"],[0.1111111111111111,\"#46039f\"],[0.2222222222222222,\"#7201a8\"],[0.3333333333333333,\"#9c179e\"],[0.4444444444444444,\"#bd3786\"],[0.5555555555555556,\"#d8576b\"],[0.6666666666666666,\"#ed7953\"],[0.7777777777777778,\"#fb9f3a\"],[0.8888888888888888,\"#fdca26\"],[1.0,\"#f0f921\"]],\"sequentialminus\":[[0.0,\"#0d0887\"],[0.1111111111111111,\"#46039f\"],[0.2222222222222222,\"#7201a8\"],[0.3333333333333333,\"#9c179e\"],[0.4444444444444444,\"#bd3786\"],[0.5555555555555556,\"#d8576b\"],[0.6666666666666666,\"#ed7953\"],[0.7777777777777778,\"#fb9f3a\"],[0.8888888888888888,\"#fdca26\"],[1.0,\"#f0f921\"]],\"diverging\":[[0,\"#8e0152\"],[0.1,\"#c51b7d\"],[0.2,\"#de77ae\"],[0.3,\"#f1b6da\"],[0.4,\"#fde0ef\"],[0.5,\"#f7f7f7\"],[0.6,\"#e6f5d0\"],[0.7,\"#b8e186\"],[0.8,\"#7fbc41\"],[0.9,\"#4d9221\"],[1,\"#276419\"]]},\"xaxis\":{\"gridcolor\":\"white\",\"linecolor\":\"white\",\"ticks\":\"\",\"title\":{\"standoff\":15},\"zerolinecolor\":\"white\",\"automargin\":true,\"zerolinewidth\":2},\"yaxis\":{\"gridcolor\":\"white\",\"linecolor\":\"white\",\"ticks\":\"\",\"title\":{\"standoff\":15},\"zerolinecolor\":\"white\",\"automargin\":true,\"zerolinewidth\":2},\"scene\":{\"xaxis\":{\"backgroundcolor\":\"#E5ECF6\",\"gridcolor\":\"white\",\"linecolor\":\"white\",\"showbackground\":true,\"ticks\":\"\",\"zerolinecolor\":\"white\",\"gridwidth\":2},\"yaxis\":{\"backgroundcolor\":\"#E5ECF6\",\"gridcolor\":\"white\",\"linecolor\":\"white\",\"showbackground\":true,\"ticks\":\"\",\"zerolinecolor\":\"white\",\"gridwidth\":2},\"zaxis\":{\"backgroundcolor\":\"#E5ECF6\",\"gridcolor\":\"white\",\"linecolor\":\"white\",\"showbackground\":true,\"ticks\":\"\",\"zerolinecolor\":\"white\",\"gridwidth\":2}},\"shapedefaults\":{\"line\":{\"color\":\"#2a3f5f\"}},\"annotationdefaults\":{\"arrowcolor\":\"#2a3f5f\",\"arrowhead\":0,\"arrowwidth\":1},\"geo\":{\"bgcolor\":\"white\",\"landcolor\":\"#E5ECF6\",\"subunitcolor\":\"white\",\"showland\":true,\"showlakes\":true,\"lakecolor\":\"white\"},\"title\":{\"x\":0.05},\"mapbox\":{\"style\":\"light\"}}},\"title\":{\"font\":{\"size\":24,\"color\":\"#ffffff\"},\"text\":\"Minnesota Timberwolves 2023-2024 RS \",\"x\":0.5,\"y\":0.99},\"yaxis\":{\"title\":{\"font\":{\"size\":16,\"color\":\"#ffffff\"},\"text\":\"Normalized Value\"},\"tickfont\":{\"color\":\"#ffffff\"},\"gridcolor\":\"rgba(255, 255, 255, 0.1)\",\"showgrid\":false,\"zeroline\":true,\"zerolinecolor\":\"rgba(255, 255, 255, 0.1)\",\"range\":[-0.1,1.1],\"tickformat\":\".2f\",\"tickmode\":\"linear\",\"tick0\":0,\"dtick\":0.2,\"showticklabels\":false},\"xaxis\":{\"tickfont\":{\"color\":\"#ffffff\",\"size\":20},\"gridcolor\":\"rgba(255, 255, 255, 0.1)\",\"categoryorder\":\"array\",\"categoryarray\":[\"Points\",\"Opp Points\",\"FTA\",\"3P%\",\"Rim Freq\",\"EFG%\",\"Rim%\",\"TOV%\",\"DREB%\",\"OREB%\"],\"tickangle\":-45},\"legend\":{\"font\":{\"color\":\"#ffffff\",\"size\":20},\"bgcolor\":\"#1a1a1a\",\"bordercolor\":\"#1a1a1a\",\"borderwidth\":1,\"orientation\":\"h\",\"yanchor\":\"bottom\",\"y\":1.025,\"xanchor\":\"center\",\"x\":0.5},\"margin\":{\"t\":80,\"b\":80},\"width\":1600,\"height\":1000,\"showlegend\":true,\"plot_bgcolor\":\"#1a1a1a\",\"paper_bgcolor\":\"#1a1a1a\",\"hovermode\":\"closest\"},                        {\"responsive\": true}                    ).then(function(){\n",
       "                            \n",
       "var gd = document.getElementById('8cf825cb-acd9-4ea9-86dd-7debf5ddd4b1');\n",
       "var x = new MutationObserver(function (mutations, observer) {{\n",
       "        var display = window.getComputedStyle(gd).display;\n",
       "        if (!display || display === 'none') {{\n",
       "            console.log([gd, 'removed!']);\n",
       "            Plotly.purge(gd);\n",
       "            observer.disconnect();\n",
       "        }}\n",
       "}});\n",
       "\n",
       "// Listen for the removal of the full notebook cells\n",
       "var notebookContainer = gd.closest('#notebook-container');\n",
       "if (notebookContainer) {{\n",
       "    x.observe(notebookContainer, {childList: true});\n",
       "}}\n",
       "\n",
       "// Listen for the clearing of the current output cell\n",
       "var outputEl = gd.closest('.output');\n",
       "if (outputEl) {{\n",
       "    x.observe(outputEl, {childList: true});\n",
       "}}\n",
       "\n",
       "                        })                };                });            </script>        </div>"
      ]
     },
     "metadata": {},
     "output_type": "display_data"
    }
   ],
   "source": [
    "\n",
    "vs=False\n",
    "ps=False\n",
    "start_year=2024\n",
    "end_year=2024\n",
    "#players_on=['2544','951','2547']\n",
    "players_on=[]\n",
    "#players_on=['203076','2544']\n",
    "players_off=[]\n",
    "\n",
    "#players_off=['2548']\n",
    "\n",
    "team='MIN'\n",
    "def graph_lineupsplits(start_year,end_year,players_on,players_off,team,vs,ps):\n",
    "    team_id=team_dict(team)\n",
    "    print(team_id)\n",
    "    row=player_rows(start_year,end_year,players_on,players_off,team_id ,vs=vs)\n",
    "    teams = team_averages(start_year,end_year,vs=vs,ps=ps)\n",
    "    print(teams[['Points','Name']])\n",
    "    row = trim_frame(row)\n",
    "    \n",
    "    teams=trim_frame(teams)\n",
    "    row['team']=team\n",
    "    teams['team']=teams['Name']\n",
    "    \n",
    "    row['lineup_row']=1\n",
    "\n",
    "    teams['lineup_row']=0\n",
    "    print(teams[['Points','Name']])\n",
    "    \n",
    "    data=pd.concat([teams,row])\n",
    "    columns = [\n",
    "                'Points', 'Opp Points', 'FTA',\n",
    "                '3P%',\n",
    "                'Rim Freq', 'EFG%',\n",
    "                'Rim%',  'TOV%',\n",
    "              \n",
    "                'DREB%', 'OREB%']\n",
    "    exclude=['Points', 'Opp Points',  '3P Assists','Rim Assists','FTA']\n",
    "    for col in columns:\n",
    "        if col not in exclude:\n",
    "            data[col]*=100\n",
    "    fig = create_nba_beeswarm(team,start_year,end_year,data,categories=columns,vs=vs,ps=ps)\n",
    "   \n",
    "    return fig\n",
    "fig= graph_lineupsplits(start_year,end_year,players_on,players_off,team,vs,ps)\n",
    "\n",
    "fig.show()\n"
   ]
  },
  {
   "cell_type": "code",
   "execution_count": 3,
   "id": "715b21f8-9d09-4d10-91ac-f47dee186366",
   "metadata": {},
   "outputs": [
    {
     "data": {
      "text/plain": [
       "{'SYR': '1610612755',\n",
       " 'PHW': '1610612744',\n",
       " 'NYK': '1610612752',\n",
       " 'STL': '1610612737',\n",
       " 'ROC': '1610612758',\n",
       " 'BOS': '1610612738',\n",
       " 'FTW': '1610612765',\n",
       " 'MNL': '1610612747',\n",
       " 'TOT': 'TOT',\n",
       " 'DET': '1610612765',\n",
       " 'CIN': '1610612758',\n",
       " 'LAL': '1610612747',\n",
       " 'CHP': '1610612741',\n",
       " 'SFW': '1610612744',\n",
       " 'CHZ': '1610612741',\n",
       " 'BAL': '1610612764',\n",
       " 'PHI': '1610612755',\n",
       " 'CHI': '1610612741',\n",
       " 'SDR': '1610612745',\n",
       " 'SEA': '1610612760',\n",
       " 'MIL': '1610612749',\n",
       " 'ATL': '1610612737',\n",
       " 'PHO': '1610612756',\n",
       " 'POR': '1610612757',\n",
       " 'CLE': '1610612739',\n",
       " 'BUF': '1610612761',\n",
       " 'HOU': '1610612745',\n",
       " 'GSW': '1610612744',\n",
       " 'KCO': '1610612758',\n",
       " 'CAP': '1610612764',\n",
       " 'NOJ': '1610612762',\n",
       " 'WSB': '1610612764',\n",
       " 'KCK': '1610612758',\n",
       " 'IND': '1610612754',\n",
       " 'NYN': '1610612751',\n",
       " 'DEN': '1610612743',\n",
       " 'SAS': '1610612759',\n",
       " 'NJN': '1610612751',\n",
       " 'SDC': '1610612746',\n",
       " 'UTA': '1610612762',\n",
       " 'DAL': '1610612742',\n",
       " 'LAC': '1610612746',\n",
       " 'SAC': '1610612758',\n",
       " 'CHH': '1610612766',\n",
       " 'MIA': '1610612748',\n",
       " 'ORL': '1610612753',\n",
       " 'MIN': '1610612750',\n",
       " 'VAN': '1610612763',\n",
       " 'TOR': '1610612761',\n",
       " 'WAS': '1610612764',\n",
       " 'MEM': '1610612763',\n",
       " 'NOH': '1610612740',\n",
       " 'CHA': '1610612766',\n",
       " 'NOK': '1610612740',\n",
       " 'OKC': '1610612760',\n",
       " 'BRK': '1610612751',\n",
       " 'NOP': '1610612740',\n",
       " 'CHO': '1610612766',\n",
       " 'PHX': '1610612756'}"
      ]
     },
     "execution_count": 3,
     "metadata": {},
     "output_type": "execute_result"
    }
   ],
   "source": [
    "\n",
    "\n",
    "df = pd.read_csv('index_master.csv')\n",
    "\n",
    "teammap=dict(zip(df['team'],df['team_id']))\n",
    "teammap\n",
    "teammap['CHA']=teammap['CHO']\n",
    "teammap['PHX']=teammap['PHO']\n",
    "teammap"
   ]
  },
  {
   "cell_type": "code",
   "execution_count": null,
   "id": "90e64111-bfa0-457c-aee0-73e7cbe5ec45",
   "metadata": {},
   "outputs": [],
   "source": []
  }
 ],
 "metadata": {
  "kernelspec": {
   "display_name": "Python 3 (ipykernel)",
   "language": "python",
   "name": "python3"
  },
  "language_info": {
   "codemirror_mode": {
    "name": "ipython",
    "version": 3
   },
   "file_extension": ".py",
   "mimetype": "text/x-python",
   "name": "python",
   "nbconvert_exporter": "python",
   "pygments_lexer": "ipython3",
   "version": "3.10.12"
  }
 },
 "nbformat": 4,
 "nbformat_minor": 5
}
