{
 "cells": [
  {
   "cell_type": "code",
   "execution_count": 1,
   "id": "5d184551-ddf0-4254-be51-8f0cb191e984",
   "metadata": {},
   "outputs": [],
   "source": [
    "import pandas as pd\n",
    "import pandas as pd\n",
    "import numpy as np\n",
    "from nba_api.stats.static import players\n",
    "\n",
    "import time \n",
    "import plotly.graph_objects as go\n",
    "import pandas as pd\n",
    "import numpy as np\n",
    "from sklearn.preprocessing import MinMaxScaler\n",
    "\n",
    "def team_dict(team):\n",
    "\n",
    "    map={'SYR': '1610612755',\n",
    "     'PHW': '1610612744',\n",
    "     'NYK': '1610612752',\n",
    "     'STL': '1610612737',\n",
    "     'ROC': '1610612758',\n",
    "     'BOS': '1610612738',\n",
    "     'FTW': '1610612765',\n",
    "     'MNL': '1610612747',\n",
    "     'TOT': 'TOT',\n",
    "     'DET': '1610612765',\n",
    "     'CIN': '1610612758',\n",
    "     'LAL': '1610612747',\n",
    "     'CHP': '1610612741',\n",
    "     'SFW': '1610612744',\n",
    "     'CHZ': '1610612741',\n",
    "     'BAL': '1610612764',\n",
    "     'PHI': '1610612755',\n",
    "     'CHI': '1610612741',\n",
    "     'SDR': '1610612745',\n",
    "     'SEA': '1610612760',\n",
    "     'MIL': '1610612749',\n",
    "     'ATL': '1610612737',\n",
    "     'PHO': '1610612756',\n",
    "     'POR': '1610612757',\n",
    "     'CLE': '1610612739',\n",
    "     'BUF': '1610612761',\n",
    "     'HOU': '1610612745',\n",
    "     'GSW': '1610612744',\n",
    "     'KCO': '1610612758',\n",
    "     'CAP': '1610612764',\n",
    "     'NOJ': '1610612762',\n",
    "     'WSB': '1610612764',\n",
    "     'KCK': '1610612758',\n",
    "     'IND': '1610612754',\n",
    "     'NYN': '1610612751',\n",
    "     'DEN': '1610612743',\n",
    "     'SAS': '1610612759',\n",
    "     'NJN': '1610612751',\n",
    "     'SDC': '1610612746',\n",
    "     'UTA': '1610612762',\n",
    "     'DAL': '1610612742',\n",
    "     'LAC': '1610612746',\n",
    "     'SAC': '1610612758',\n",
    "     'CHH': '1610612766',\n",
    "     'MIA': '1610612748',\n",
    "     'ORL': '1610612753',\n",
    "     'MIN': '1610612750',\n",
    "     'VAN': '1610612763',\n",
    "     'TOR': '1610612761',\n",
    "     'WAS': '1610612764',\n",
    "     'MEM': '1610612763',\n",
    "     'NOH': '1610612740',\n",
    "     'CHA': '1610612766',\n",
    "     'NOK': '1610612740',\n",
    "     'OKC': '1610612760',\n",
    "     'BRK': '1610612751',\n",
    "     'NOP': '1610612740',\n",
    "     'CHO': '1610612766',\n",
    "     'PHX': '1610612756'}\n",
    "    return map[team]\n",
    "\n",
    "def calculate_basketball_percentages(df):\n",
    "    \"\"\"\n",
    "    Calculate basketball percentage statistics from raw totals.\n",
    "    \n",
    "    Args:\n",
    "        df (pandas.DataFrame): DataFrame containing the raw totals columns\n",
    "        \n",
    "    Returns:\n",
    "        pandas.DataFrame: DataFrame with added percentage columns\n",
    "    \"\"\"\n",
    "    # Make a copy to avoid modifying the original\n",
    "    result = df.copy()\n",
    "    \n",
    "    # Basic shooting percentages\n",
    "    result['Fg3Pct'] = (result['FG3M'] / result['FG3A'] * 1).fillna(0)\n",
    "    result['Fg2Pct'] = (result['FG2M'] / result['FG2A'] * 1).fillna(0)\n",
    "    result['FGA'] = (result['FG2A'] + result['FG3A'])\n",
    "    result['PenaltyFGA'] = (result['PenaltyFG2A'] + result['PenaltyFG3A'])\n",
    "    result['SecondChanceFGA'] = (result['SecondChanceFG2A'] + result['SecondChanceFG3A'])\n",
    "\n",
    "    result['FGA']= result['FG2A']+result['FG3A']\n",
    "    result['FGM']= result['FG2M']+result['FG3M']\n",
    "    result['NonHeaveFg3Pct'] = (result['FG3M'] / (result['FG3A']-result['HeaveAttempts']) * 1).fillna(0)\n",
    "    \n",
    "    # Advanced shooting percentages\n",
    "    result['EfgPct'] = ((result['FG2M'] + 1.5 * result['FG3M']) / (result['FG2A'] + result['FG3A']) * 1).fillna(0)\n",
    "    # Assuming you have a DataFrame named result with the necessary columns\n",
    "    \n",
    "    # Step 1: Extract relevant columns for easier calculations\n",
    "    points = result['Points']\n",
    "    fga = result['FGA']\n",
    "    fta = result['FTA']\n",
    "    and1_2pt = result['2pt And 1 Free Throw Trips']\n",
    "    and1_3pt = result['3pt And 1 Free Throw Trips']\n",
    "    \n",
    "    # Step 2: Calculate the adjusted free throw weighting factor\n",
    "    w = (and1_2pt + 1.5 * and1_3pt + 0.44 * (fta - and1_2pt - and1_3pt)) / fta\n",
    "    \n",
    "    # Step 3: Calculate True Shooting Percentage (TS%) and add to result DataFrame\n",
    "    result['TsPct'] = points / (2 * (fga + w * fta))\n",
    "    \n",
    "    # The 'TS%' column in the result DataFrame now contains the calculated TS% values\n",
    "\n",
    "    #result['TsPct'] = (result['Points'] / (2 * (result['FG2A'] + result['FG3A'] + 0.44 * result['FTA'])) * 1).fillna(0)\n",
    "    \n",
    "    # Second chance percentages\n",
    "    result['SecondChanceFg3Pct'] = (result['SecondChanceFG3M'] / result['SecondChanceFG3A'] * 1).fillna(0)\n",
    "    result['SecondChanceFg2Pct'] = (result['SecondChanceFG2M'] / result['SecondChanceFG2A'] * 1).fillna(0)\n",
    "    result['SecondChanceEfgPct'] = ((result['SecondChanceFG2M'] + 1.5 * result['SecondChanceFG3M']) / \n",
    "                                   (result['SecondChanceFG2A'] + result['SecondChanceFG3A']) * 1).fillna(0)\n",
    "    result['SecondChanceTsPct'] = (result['SecondChancePoints'] / \n",
    "                                  (2 * (result['SecondChanceFG2A'] + result['SecondChanceFG3A'])) * 1).fillna(0)\n",
    "\n",
    "    \n",
    "    result['SecondChancePointsPct'] = (result['SecondChancePoints'] / result['Points'] * 1).fillna(0)\n",
    "    \n",
    "    # Shot distribution\n",
    "    result['FG3APct'] = (result['FG3A'] / (result['FG2A'] + result['FG3A']) * 1).fillna(0)\n",
    "    \n",
    "    result['FG2APctBlocked'] = (result['Fg2aBlocked'] / result['FG2A'] * 1).fillna(0)\n",
    "    result['AtRimPctBlocked'] = (result['opp_BlockedAtRim'] / result['AtRimFGA'] * 1).fillna(0)\n",
    "    result['LongMidRangePctBlocked'] = (result['opp_BlockedLongMidRange'] / result['LongMidRangeFGA'] * 1).fillna(0)\n",
    "    result['ShortMidRangePctBlocked'] = (result['opp_BlockedShortMidRange'] / result['ShortMidRangeFGA'] * 1).fillna(0)\n",
    "    result['FG3APctBlocked'] = (result['Fg3aBlocked'] / result['FG3A'] * 1).fillna(0)\n",
    "    result['Corner3PctBlocked'] = (result['Blocked3s'] / result['Corner3FGA'] * 1).fillna(0)\n",
    "    result['Arc3PctBlocked'] = (result['Blocked3s'] / result['Arc3FGA'] * 1).fillna(0)\n",
    "    \n",
    "    # Rebound percentages - Field Goals (corrected to be relative to missed shots)\n",
    "    result['DefFGReboundPct'] = (result['DefRebounds'] / (result['opp_FG2A'] - result['opp_FG2M'] + result['opp_FG3A'] - result['opp_FG3M']) * 1).fillna(0)\n",
    "    result['OffFGReboundPct'] = (result['OffRebounds'] / (result['FG2A'] - result['FG2M'] + result['FG3A'] - result['FG3M']) * 1).fillna(0)\n",
    "    \n",
    "    # Rebound percentages by shot location (corrected to be relative to missed shots of that type)\n",
    "    result['OffLongMidRangeReboundPct'] = (result['OffTwoPtRebounds'] / (result['LongMidRangeFGA'] - result['LongMidRangeFGM']) * 1).fillna(0)\n",
    "    result['DefLongMidRangeReboundPct'] = (result['DefTwoPtRebounds'] / (result['LongMidRangeFGA'] - result['LongMidRangeFGM']) * 1).fillna(0)\n",
    "    result['DefArc3ReboundPct'] = (result['DefThreePtRebounds'] / (result['Arc3FGA'] - result['Arc3FGM']) * 1).fillna(0)\n",
    "    result['OffArc3ReboundPct'] = (result['OffThreePtRebounds'] / (result['Arc3FGA'] - result['Arc3FGM']) * 1).fillna(0)\n",
    "    result['DefAtRimReboundPct'] = (result['DefTwoPtRebounds'] / (result['AtRimFGA'] - result['AtRimFGM']) * 1).fillna(0)\n",
    "    result['OffAtRimReboundPct'] = (result['OffTwoPtRebounds'] / (result['AtRimFGA'] - result['AtRimFGM']) * 1).fillna(0)\n",
    "    result['DefShortMidRangeReboundPct'] = (result['DefTwoPtRebounds'] / (result['ShortMidRangeFGA'] - result['ShortMidRangeFGM']) * 1).fillna(0)\n",
    "    result['OffShortMidRangeReboundPct'] = (result['OffTwoPtRebounds'] / (result['ShortMidRangeFGA'] - result['ShortMidRangeFGM']) * 1).fillna(0)\n",
    "    result['DefCorner3ReboundPct'] = (result['DefThreePtRebounds'] / (result['Corner3FGA'] - result['Corner3FGM']) * 1).fillna(0)\n",
    "    result['OffCorner3ReboundPct'] = (result['OffThreePtRebounds'] / (result['Corner3FGA'] - result['Corner3FGM']) * 1).fillna(0)\n",
    "    \n",
    "    # Free throw rebound percentages (corrected to be relative to FT misses)\n",
    "\n",
    "    # Assist percentages\n",
    "    result['Assisted2sPct'] = (result['PtsAssisted2s'] / (2 * result['FG2M']) * 1).fillna(0)\n",
    "    result['Assisted3sPct'] = (result['PtsAssisted3s'] / (3 * result['FG3M']) * 1).fillna(0)\n",
    "    result['NonPutbacksAssisted2sPct'] = (result['PtsAssisted2s'] / (2 * (result['FG2M'] - result['PtsPutbacks']/2)) * 1).fillna(0)\n",
    "    result['Corner3PctAssisted'] = (result['Corner3Assists'] / result['Corner3FGM'] * 1).fillna(0)\n",
    "    result['Arc3PctAssisted'] = (result['Arc3Assists'] / result['Arc3FGM'] * 1).fillna(0)\n",
    "    result['SecondChanceCorner3PctAssisted'] = (result['Corner3Assists'] / result['SecondChanceCorner3FGM'] * 1).fillna(0)\n",
    "    result['SecondChanceArc3PctAssisted'] = (result['Arc3Assists'] / result['SecondChanceArc3FGM'] * 1).fillna(0)\n",
    "    result['SecondChanceAtRimPctAssisted'] = (result['AtRimAssists'] / result['SecondChanceAtRimFGM'] * 1).fillna(0)\n",
    "    result['AtRimPctAssisted'] = (result['AtRimAssists'] / result['AtRimFGM'] * 1).fillna(0)\n",
    "    result['ShortMidRangePctAssisted'] = (result['ShortMidRangeAssists'] / result['ShortMidRangeFGM'] * 1).fillna(0)\n",
    "    result['LongMidRangePctAssisted'] = (result['LongMidRangeAssists'] / result['LongMidRangeFGM'] * 1).fillna(0)\n",
    "    \n",
    "    # Penalty percentages\n",
    "    result['PenaltyPointsPct'] = (result['PenaltyPoints'] / result['Points'] * 1).fillna(0)\n",
    "    result['PenaltyOffPossPct'] = (result['PenaltyOffPoss'] / result['OffPoss'] * 1).fillna(0)\n",
    "    result['PenaltyFg2Pct'] = (result['PenaltyFG2M'] / result['PenaltyFG2A'] * 1).fillna(0)\n",
    "    result['PenaltyFg3Pct'] = (result['PenaltyFG3M'] / result['PenaltyFG3A'] * 1).fillna(0)\n",
    "    result['PenaltyEfgPct'] = ((result['PenaltyFG2M'] + 1.5 * result['PenaltyFG3M']) / \n",
    "                              (result['PenaltyFG2A'] + result['PenaltyFG3A']) * 1).fillna(0)\n",
    "    result['PenaltyTsPct'] = (result['PenaltyPoints'] / \n",
    "                             (2 * (result['PenaltyFG2A'] + result['PenaltyFG3A'] + 0.44 * result['FTA'])) * 1).fillna(0)\n",
    "    \n",
    "    # Miscellaneous percentages\n",
    "    result['BlocksRecoveredPct'] = (result['RecoveredBlocks'] / result['Blocks'] * 1).fillna(0)\n",
    "    result['LiveBallTurnoverPct'] = (result['LiveBallTurnovers'] / result['Turnovers'] * 1).fillna(0)\n",
    "    result['SelfORebPct'] = (result['SelfOReb'] /(result['FGA']- result['FGM']) * 1).fillna(0)\n",
    "    \n",
    "    # Fouls percentages\n",
    "    total_shooting_fouls = result['TwoPtShootingFoulsDrawn'] + result['ThreePtShootingFoulsDrawn']\n",
    "    result['ShootingFoulsDrawnPct'] = (result['ShootingFouls'] / (result['FG2A']+result['FG3A']) * 1).fillna(0)\n",
    "    result['TwoPtShootingFoulsDrawnPct'] = ((result['TwoPtShootingFoulsDrawn'])/ (result['FG2A']+result['2pt And 1 Free Throw Trips'])* 1).fillna(0)\n",
    "    result['ThreePtShootingFoulsDrawnPct'] = (result['ThreePtShootingFoulsDrawn'] / result['FG3A'] * 1).fillna(0)\n",
    "    total_def_rebounds = result['DefTwoPtRebounds'] + result['DefThreePtRebounds']\n",
    "    total_off_rebounds = result['OffTwoPtRebounds'] + result['OffThreePtRebounds']\n",
    "    result['ThreePtShootingFoulsDrawnPct'] = result['ThreePtShootingFoulsDrawn'] / result['FG3A'] * 1\n",
    "    \n",
    "    result['DefTwoPtReboundPct'] = (result['DefTwoPtRebounds'] / total_def_rebounds * 1).fillna(0)\n",
    "    result['DefThreePtReboundPct'] = (result['DefThreePtRebounds'] / total_def_rebounds * 1).fillna(0)\n",
    "    result['OffTwoPtReboundPct'] = (result['OffTwoPtRebounds'] /(result['FG2A']-result['FG2M']) * 1).fillna(0)\n",
    "    result['OffThreePtReboundPct'] = (result['OffThreePtRebounds'] / total_off_rebounds * 1).fillna(0)\n",
    "    \n",
    "    result['OffFTReboundPct']=(result['FTOffRebounds']/(result['opp_FTDefRebounds']+result['FTOffRebounds']))\n",
    "\n",
    "    result['DefFTReboundPct']=(result['FTDefRebounds']/(result['opp_FTOffRebounds']+result['FTDefRebounds']))\n",
    "    result['AtRimFrequency'] = result['AtRimFGA'] / result['FGA']\n",
    "    result['ShortMidRangeFrequency'] = result['ShortMidRangeFGA'] / result['FGA']\n",
    "    result['LongMidRangeFrequency'] = result['LongMidRangeFGA'] / result['FGA']\n",
    "    result['Corner3Frequency'] = result['Corner3FGA'] / result['FGA']\n",
    "    result['Arc3Frequency'] = result['Arc3FGA'] / result['FGA']\n",
    "    result['SecondChanceArc3Frequency'] = result['SecondChanceArc3FGA'] / result['SecondChanceFGA']\n",
    "    result['AtRimFG3AFrequency'] = (result['AtRimFGA'] + result['FG3A']) / result['FGA']\n",
    "    result['SecondChanceAtRimFrequency'] = result['SecondChanceAtRimFGA'] / result['SecondChanceFGA']\n",
    "    result['SecondChanceCorner3Frequency'] = result['SecondChanceCorner3FGA'] / result['SecondChanceFGA']\n",
    "    result['PenaltyAtRimFrequency'] = result['PenaltyAtRimFGA'] / result['PenaltyFGA']\n",
    "    result['PenaltyArc3Frequency'] = result['PenaltyArc3FGA'] / result['PenaltyFGA']\n",
    "    result['PenaltyCorner3Frequency'] = result['PenaltyCorner3FGA'] / result['PenaltyFGA']\n",
    "    # Calculating accuracy metrics\n",
    "    result['AtRimAccuracy'] = result['AtRimFGM'] / result['AtRimFGA']\n",
    "    result['UnblockedAtRimAccuracy'] = (result['AtRimFGM'] - result['Fg2aBlocked']) / result['AtRimFGA']\n",
    "    \n",
    "    result['ShortMidRangeAccuracy'] = result['ShortMidRangeFGM'] / result['ShortMidRangeFGA']\n",
    "    result['UnblockedShortMidRangeAccuracy'] = (result['ShortMidRangeFGM'] - result['Fg2aBlocked']) / result['ShortMidRangeFGA']\n",
    "    \n",
    "    result['LongMidRangeAccuracy'] = result['LongMidRangeFGM'] / result['LongMidRangeFGA']\n",
    "    result['UnblockedLongMidRangeAccuracy'] = (result['LongMidRangeFGM'] - result['Fg2aBlocked']) / result['LongMidRangeFGA']\n",
    "    \n",
    "    result['Corner3Accuracy'] = result['Corner3FGM'] / result['Corner3FGA']\n",
    "    result['UnblockedCorner3Accuracy'] = (result['Corner3FGM'] - result['Fg3aBlocked']) / result['Corner3FGA']\n",
    "    \n",
    "    result['Arc3Accuracy'] = result['Arc3FGM'] / result['Arc3FGA']\n",
    "    result['UnblockedArc3Accuracy'] = (result['Arc3FGM'] - result['Fg3aBlocked']) / result['Arc3FGA']\n",
    "    \n",
    "    # Second-chance accuracy metrics\n",
    "    result['SecondChanceAtRimAccuracy'] = result['SecondChanceAtRimFGM'] / result['SecondChanceAtRimFGA']\n",
    "    result['SecondChanceCorner3Accuracy'] = result['SecondChanceCorner3FGM'] / result['SecondChanceCorner3FGA']\n",
    "    result['SecondChanceArc3Accuracy'] = result['SecondChanceArc3FGM'] / result['SecondChanceArc3FGA']\n",
    "    \n",
    "    # Penalty accuracy metrics\n",
    "    result['PenaltyAtRimAccuracy'] = result['PenaltyAtRimFGM'] / result['PenaltyAtRimFGA']\n",
    "    result['PenaltyCorner3Accuracy'] = result['PenaltyCorner3FGM'] / result['PenaltyCorner3FGA']\n",
    "    result['PenaltyArc3Accuracy'] = result['PenaltyArc3FGM'] / result['PenaltyArc3FGA']\n",
    "    \n",
    "    # Non-heave accuracy metric\n",
    "    result['NonHeaveArc3Accuracy'] = result['NonHeaveArc3FGM'] / result['NonHeaveArc3FGA']\n",
    "\n",
    "\n",
    "    return result\n",
    "\n",
    "def calculate_weighted_average(df, value_col, weight_col, group_by=None):\n",
    "    \"\"\"\n",
    "    Calculate weighted average of a value column based on a weight column.\n",
    "    \n",
    "    Parameters:\n",
    "    -----------\n",
    "    df : pandas.DataFrame\n",
    "        Input dataframe\n",
    "    value_col : str\n",
    "        Name of the column containing the values to average\n",
    "    weight_col : str\n",
    "        Name of the column containing the weights\n",
    "    group_by : str or list, optional\n",
    "        Column(s) to group by before calculating weighted average\n",
    "        \n",
    "    Returns:\n",
    "    --------\n",
    "    If group_by is None: returns a float (weighted average)\n",
    "    If group_by is specified: returns a Series with weighted averages per group\n",
    "    \n",
    "    Examples:\n",
    "    --------\n",
    "    # Single weighted average\n",
    "    df = pd.DataFrame({\n",
    "        'value': [10, 20, 30],\n",
    "        'weight': [1, 2, 3]\n",
    "    })\n",
    "    result = calculate_weighted_average(df, 'value', 'weight')\n",
    "    \n",
    "    # Grouped weighted averages\n",
    "    df = pd.DataFrame({\n",
    "        'category': ['A', 'A', 'B', 'B'],\n",
    "        'value': [10, 20, 30, 40],\n",
    "        'weight': [1, 2, 3, 4]\n",
    "    })\n",
    "    result = calculate_weighted_average(df, 'value', 'weight', 'category')\n",
    "    \"\"\"\n",
    "    \n",
    "    # Input validation\n",
    "    if value_col not in df.columns:\n",
    "        raise ValueError(f\"Value column '{value_col}' not found in dataframe\")\n",
    "    if weight_col not in df.columns:\n",
    "        raise ValueError(f\"Weight column '{weight_col}' not found in dataframe\")\n",
    "    \n",
    "    # Handle negative weights\n",
    "    if (df[weight_col] < 0).any():\n",
    "        raise ValueError(\"Negative weights found. Please ensure all weights are non-negative\")\n",
    "    \n",
    "    # Remove rows where either value or weight is null\n",
    "    df = df.dropna(subset=[value_col, weight_col])\n",
    "    \n",
    "    # If all weights are zero, return nan\n",
    "    if (df[weight_col] == 0).all():\n",
    "        print('hit zero condition')\n",
    "        return np.nan\n",
    "    \n",
    "    if group_by is None:\n",
    "        # Calculate single weighted average\n",
    "        weighted_sum = (df[value_col] * df[weight_col]).sum()\n",
    "        weight_sum = df[weight_col].sum()\n",
    "        return weighted_sum / weight_sum if weight_sum != 0 else np.nan\n",
    "    else:\n",
    "        # Calculate grouped weighted averages\n",
    "        grouped = df.groupby(group_by)\n",
    "        weighted_sums = grouped.apply(lambda x: (x[value_col] * x[weight_col]).sum())\n",
    "        weight_sums = grouped[weight_col].sum()\n",
    "        weight_sum = df[weight_col].sum()\n",
    "        return weighted_sums / weight_sum\n",
    "\n",
    "\n",
    "def transform_data(df):\n",
    "    df.fillna(0, inplace=True)\n",
    "    \n",
    "    id_col=['EntityId',\n",
    "     'TeamId',\n",
    "     'Name',\n",
    "     'ShortName',\n",
    "     'RowId',\n",
    "     'TeamAbbreviation',\n",
    "    'team_id',\n",
    "     'year',\n",
    "     'season',\n",
    "     'team_vs']\n",
    "    df['FGA']= df['FG2A']+df['FG3A']\n",
    "    df['FGM']= df['FG2M']+df['FG3M']\n",
    "    df['opp_FGA']= df['opp_FG2A']+df['opp_FG3A']\n",
    "    df['opp_FGM']= df['opp_FG2M']+df['opp_FG3M']\n",
    "\n",
    "    missing=['3pt And 1 Free Throw Trips','opp_BlockedLongMidRange','opp_FTOffRebounds']\n",
    "    for col in missing:\n",
    "        if col not in df.columns:\n",
    "            df[col]=0\n",
    "    \n",
    "    df.drop(columns=['opp_Name', 'opp_ShortName', 'opp_RowId', 'opp_TeamAbbreviation', 'opp_season'],inplace=True)\n",
    "    df['two_point_misses']= df['FG2A'] - df['FG2M']\n",
    "    df['opp_two_point_misses']= df['opp_FG2A'] - df['opp_FG2M']\n",
    "    \n",
    "    # Specific location misses\n",
    "    df['at_rim_misses']= df['AtRimFGA'] - df['AtRimFGM']\n",
    "    df['opp_at_rim_misses']= df['opp_AtRimFGA'] - df['opp_AtRimFGM']\n",
    "    \n",
    "    df['short_midrange_misses']= df['ShortMidRangeFGA'] - df['ShortMidRangeFGM']\n",
    "    \n",
    "    df['opp_short_midrange_misses']= df['opp_ShortMidRangeFGA'] - df['opp_ShortMidRangeFGM']\n",
    "    \n",
    "    df['long_midrange_misses']= df['LongMidRangeFGA'] - df['LongMidRangeFGM']\n",
    "    df['opp_long_midrange_misses']= df['opp_LongMidRangeFGA'] - df['opp_LongMidRangeFGM']\n",
    "    \n",
    "    # Three point misses by location\n",
    "    df['corner3_misses']= df['Corner3FGA'] - df['Corner3FGM']\n",
    "    df['opp_corner3_misses']= df['opp_Corner3FGA'] - df['opp_Corner3FGM']\n",
    "    \n",
    "    df['arc3_misses']= df['Arc3FGA'] - df['Arc3FGM']\n",
    "    df['opp_arc3_misses']= df['opp_Arc3FGA'] - df['opp_Arc3FGM']\n",
    "    \n",
    "    # Free throw misses\n",
    "    df['ft_misses']= df['FTA'] - df['FtPoints']\n",
    "    \n",
    "    df['opp_ft_misses']= df['opp_FTA'] - df['opp_FtPoints']\n",
    "    \n",
    "    # Total misses\n",
    "    df['fg_misses']= (df['FGA'] - df['FGM'])\n",
    "    df['opp_fg_misses']= (df['opp_FGA'] - df['opp_FGM'])\n",
    "    \n",
    "    weight_mapping = {\n",
    "        'DefTwoPtReboundPct': 'opp_two_point_misses',\n",
    "        'OffTwoPtReboundPct': 'two_point_misses',\n",
    "        'DefThreePtReboundPct':'opp_FG3A',\n",
    "        'DefFGReboundPct': 'opp_fg_misses',\n",
    "        'OffFGReboundPct': 'fg_misses',\n",
    "        'OffLongMidRangeReboundPct': 'long_midrange_misses',\n",
    "        'DefLongMidRangeReboundPct': 'opp_long_midrange_misses',\n",
    "        'OffThreePtReboundPct': 'opp_FG3A',\n",
    "        'OffArc3ReboundPct': 'arc3_misses',\n",
    "        'DefArc3ReboundPct': 'opp_arc3_misses',\n",
    "        'DefAtRimReboundPct': 'opp_at_rim_misses',\n",
    "        'DefShortMidRangeReboundPct': 'opp_short_midrange_misses',\n",
    "        'DefCorner3ReboundPct': 'opp_corner3_misses',\n",
    "        'OffAtRimReboundPct': 'at_rim_misses',\n",
    "        'SelfORebPct': 'fg_misses',\n",
    "        'OffShortMidRangeReboundPct': 'short_midrange_misses',\n",
    "        'DefFTReboundPct': 'FTDefRebounds',\n",
    "        'OffFTReboundPct':'opp_FTDefRebounds',\n",
    "        'OffCorner3ReboundPct': 'corner3_misses',\n",
    "        'SecondChanceTsPct':'SecondChanceOffPoss',\n",
    "        'SecondChanceCorner3PctAssisted':'SecondChanceCorner3FGM',\n",
    "        'SecondChanceArc3PctAssisted':'SecondChanceArc3FGM',\n",
    "        'SecondChanceAtRimPctAssisted':'SecondChanceAtRimFGM'\n",
    "    }\n",
    "    \n",
    "    # Create a DataFrame to store weighted averages for each team\n",
    "    team_weighted_avgs = pd.DataFrame()\n",
    "    \n",
    "    # Calculate weighted averages for each team\n",
    "    for team_id in df['TeamId'].unique():\n",
    "        team_data = df[df['TeamId'] == team_id]\n",
    "        team_values = {}\n",
    "        \n",
    "        for key in weight_mapping.keys():\n",
    "            if team_data[weight_mapping[key]].sum() == 0:\n",
    "                val = 0\n",
    "            else:\n",
    "                val = calculate_weighted_average(team_data, key, weight_mapping[key])\n",
    "            team_values[key] = val\n",
    "            \n",
    "        # Add team values to the DataFrame\n",
    "        team_weighted_avgs = pd.concat([\n",
    "            team_weighted_avgs, \n",
    "            pd.DataFrame([team_values], index=[team_id])\n",
    "        ])\n",
    "    \n",
    "    weight_list = list(weight_mapping.keys())\n",
    "    pct = [col for col in df.columns if 'pct' in col.lower()]\n",
    "    sum_cols = [col for col in df.columns if col not in id_col and col not in pct]\n",
    "    \n",
    "    sums = df.groupby('TeamId').sum(numeric_only=True)[sum_cols].reset_index()\n",
    "    \n",
    "    exclude = [\"PenaltyTsPct\"]\n",
    "    pct = [col for col in pct if col not in exclude]\n",
    "    pct = [col for col in pct if 'opp_' not in col.lower()]\n",
    "    \n",
    "    newframe = calculate_basketball_percentages(sums)\n",
    "    \n",
    "    # Add the weighted averages to newframe\n",
    "    for col in weight_list:\n",
    "        newframe[col] = newframe['TeamId'].map(team_weighted_avgs[col])\n",
    "    \n",
    "    to_drop = [col for col in newframe if 'opp_' in col.lower()]\n",
    "    newframe.drop(columns=to_drop, inplace=True)\n",
    "    \n",
    "    return newframe\n",
    "\n",
    "def player_rows(start_year, end_year, player_ids, off_player_ids, team_id, vs=False, on=True, ps=False):\n",
    "    pstring = \"_ps\" if ps else \"\"\n",
    "    all_df1 = []  # List to collect `df1` dataframes for each year\n",
    "    all_df2 = []  # List to collect `df2` dataframes for each year\n",
    "\n",
    "    # Loop through each year in the specified range\n",
    "    for year in range(start_year, end_year + 1):\n",
    "        # Load the appropriate dataframes based on the `vs` flag\n",
    "        if not vs:\n",
    "            tempdf1 = pd.read_csv(f\"data/{year}/{team_id}{pstring}.csv\")\n",
    "            tempdf2 = pd.read_csv(f\"data/{year}/{team_id}_vs{pstring}.csv\")\n",
    "        else:\n",
    "            tempdf2 = pd.read_csv(f\"data/{year}/{team_id}{pstring}.csv\")\n",
    "            tempdf1 = pd.read_csv(f\"data/{year}/{team_id}_vs{pstring}.csv\")\n",
    "\n",
    "        \n",
    "        # Append the dataframes to the lists\n",
    "        all_df1.append(tempdf1)\n",
    "        all_df2.append(tempdf2)\n",
    "\n",
    "\n",
    "    # Concatenate all yearly dataframes into one for each category\n",
    "    df1 = pd.concat(all_df1).reset_index()\n",
    "    \n",
    "    df2 = pd.concat(all_df2).reset_index()\n",
    "    # Get columns not present in df1 for default zero assignment\n",
    "    notfound = set(df2.columns) - set(df1.columns)\n",
    "    \n",
    "    # Drop the 'team_vs' column from df2 if it exists\n",
    "    if 'team_vs' in df2.columns:\n",
    "        df2.drop(columns='team_vs', inplace=True)\n",
    "    \n",
    "    # Rename columns in df2 to distinguish them in the merged dataframe\n",
    "    id_col = ['EntityId','year']\n",
    "    oppnames = [f'opp_{col}' if col not in id_col else col for col in df2.columns]\n",
    "    df2.columns = oppnames\n",
    "    \n",
    "    # Merge df1 and df2 on the 'EntityId' column\n",
    "    df = df1.merge(df2, on=id_col)\n",
    "\n",
    "    \n",
    "    # Assign 0 to missing columns from df2 in df1\n",
    "    for col in notfound:\n",
    "        df[col] = 0\n",
    "\n",
    "    # Filter rows based on the presence of any player_id in the list of player_ids\n",
    "# For players that must be in the lineup\n",
    "    if len(player_ids) > 0:\n",
    "        df = df[df['EntityId'].apply(lambda x: all(pid in x.split('-') for pid in player_ids))]\n",
    "    \n",
    "    # For players that must NOT be in the lineup\n",
    "    if len(off_player_ids) > 0:\n",
    "        df = df[df['EntityId'].apply(lambda x: not any(pid in x.split('-') for pid in off_player_ids))]\n",
    "    newframe=transform_data(df)\n",
    "\n",
    "    newframe['team_id']=team_id\n",
    "    if ps == False:\n",
    "        index=pd.read_csv('index_master.csv')\n",
    "    else:\n",
    "        index=pd.read_csv('index_master_ps.csv')    \n",
    "    index=index[index.year==year]\n",
    "    name_map=dict(zip(index['nba_id'],index['player']))\n",
    "    name=''\n",
    "    names=[]\n",
    "    names2=[]\n",
    "    if player_ids:\n",
    "        for id in player_ids:\n",
    "            names.append(name_map[int(id)].split(' ')[0])\n",
    "\n",
    "    if off_player_ids:\n",
    "        for id in off_player_ids:\n",
    "            names2.append(name_map[int(id)].split(' ')[0])\n",
    "    if len(names)>0:\n",
    "                \n",
    "        name= (', ').join(names)\n",
    "        name += ' On'\n",
    "    if len(names2)>0:\n",
    "                \n",
    "        name2= (', ').join(names2)\n",
    "        name2 += ' Off'\n",
    "\n",
    "        if name =='':\n",
    "            name=name2\n",
    "        else:\n",
    "            name= name +' | ' +name2\n",
    "    \n",
    "    \n",
    "\n",
    "    newframe.drop(columns='GamesPlayed')\n",
    "    #newframe['GamesPlayed']=newframe['OffPoss']/75\n",
    "    #newframe['GamesPlayed']=newframe['GamesPlayed'].round(0)\n",
    "    newframe['Name']=name\n",
    "    \n",
    "    return newframe\n",
    "\n",
    "\n",
    "def team_averages(start_year,end_year,ps=False,vs=False):\n",
    "    carry=''\n",
    "    if ps == True:\n",
    "        carry='ps'\n",
    "    framelist=[]\n",
    "    \n",
    "    for year in range(start_year,end_year+1):\n",
    "        if vs == False:\n",
    "            df1= pd.read_csv(f\"https://raw.githubusercontent.com/gabriel1200/player_sheets/refs/heads/master/team_totals/{str(year)}{carry}.csv\")\n",
    "            df2= pd.read_csv(f\"https://raw.githubusercontent.com/gabriel1200/player_sheets/refs/heads/master/team_totals/{str(year)}vs{carry}.csv\")\n",
    "        else:\n",
    "            df2= pd.read_csv(f\"https://raw.githubusercontent.com/gabriel1200/player_sheets/refs/heads/master/team_totals/{str(year)}{carry}.csv\")\n",
    "            df1= pd.read_csv(f\"https://raw.githubusercontent.com/gabriel1200/player_sheets/refs/heads/master/team_totals/{str(year)}vs{carry}.csv\")\n",
    "        id_col = ['EntityId']\n",
    "        oppnames = [f'opp_{col}' if col not in id_col else col for col in df2.columns]\n",
    "        df2.columns = oppnames\n",
    "        \n",
    "        # Merge df1 and df2 on the 'EntityId' column\n",
    "        df = df1.merge(df2, on=id_col)\n",
    "        del df1\n",
    "        del df2\n",
    "        framelist.append(df)\n",
    "    namemap=dict(zip(df['TeamId'],df['Name']))\n",
    "        \n",
    "    teams=pd.concat(framelist)\n",
    "    teams['team_id']=teams['TeamId']\n",
    "    teams= transform_data(teams)\n",
    "    teams.drop(columns='GamesPlayed')\n",
    "    \n",
    "    teams['team_id']=teams['TeamId']\n",
    "\n",
    "\n",
    "    teams['Name']=teams['TeamId'].map(namemap)\n",
    "    return teams\n",
    "def trim_frame(frame1):\n",
    "    frame1['FGA']=frame1['FG2A']+frame1['FG3A']\n",
    "    columns = ['AtRimFGM','AtRimFGA','AtRimAssists','Turnovers','FTA','FGA',\n",
    "    'OffPoss','DefPoss','TwoPtAssists','Steals','BadPassSteals',\n",
    "    'ThreePtAssists','FG3A','OpponentPoints','Points','SecondChancePoints','FG2A','LiveBallTurnovers']\n",
    "    other_col = ['team_id','TsPct','Fg3Pct','AtRimFG3AFrequency','Pace','AtRimFrequency','SecondsPerPossOff','SecondsPerPossDef',\n",
    "                'DefAtRimReboundPct','DefFGReboundPct','AtRimAccuracy','EfgPct',\n",
    "'OffFGReboundPct','Name']\n",
    "    new_df = pd.DataFrame()\n",
    "\n",
    "    \n",
    "    new_df[other_col] =frame1[other_col]\n",
    "    \n",
    "\n",
    "    for col in columns:\n",
    "        if col in['OpponentPoints','DefRebounds']:\n",
    "            new_df[col]= 100* frame1[col]/frame1['DefPoss']\n",
    "\n",
    "        else:  \n",
    "            new_df[col]= 100* frame1[col]/frame1['OffPoss']\n",
    "    new_df['TOV%'] = (new_df['Turnovers'] / (new_df['Turnovers'] + new_df['FGA'] + 0.44 * new_df['FTA']))\n",
    "  \n",
    "    new_df = new_df.rename(columns={\n",
    "            'AtRimFrequency': 'Rim Freq',\n",
    "            'DefFGReboundPct': 'DREB%', 'OffFGReboundPct': 'OREB%', 'OpponentPoints': 'Opp Points', 'AtRimAssists': 'Rim Assists','AtRimAccuracy': 'Rim%',\n",
    "            'ThreePtAssists': '3P Assists', 'TsPct': 'TS%', 'Fg3Pct': '3P%','EfgPct':'EFG%'})\n",
    "\n",
    "    columns = [\n",
    "            'Points', 'Opp Points', 'FTA','EFG%',\n",
    "            '3P%',\n",
    "            'Rim Freq', 'TS%',\n",
    "            'Rim%',  'TOV%',\n",
    "            '3P Assists','Rim Assists',\n",
    "            'DREB%', 'OREB%','Name']\n",
    "    return new_df[columns]\n",
    "def create_nba_beeswarm(team,start_year,end_year,data, categories=None,vs=False,ps=False):\n",
    "    team_names = {\n",
    "        \"PHX\": \"Phoenix Suns\",\n",
    "        \"DET\": \"Detroit Pistons\",\n",
    "        \"POR\": \"Portland Trail Blazers\",\n",
    "        \"MIL\": \"Milwaukee Bucks\",\n",
    "        \"BOS\": \"Boston Celtics\",\n",
    "        \"LAL\": \"Los Angeles Lakers\",\n",
    "        \"ORL\": \"Orlando Magic\",\n",
    "        \"NOP\": \"New Orleans Pelicans\",\n",
    "        \"DAL\": \"Dallas Mavericks\",\n",
    "        \"DEN\": \"Denver Nuggets\",\n",
    "        \"IND\": \"Indiana Pacers\",\n",
    "        \"CHA\": \"Charlotte Hornets\",\n",
    "        \"SAS\": \"San Antonio Spurs\",\n",
    "        \"LAC\": \"Los Angeles Clippers\",\n",
    "        \"MEM\": \"Memphis Grizzlies\",\n",
    "        \"WAS\": \"Washington Wizards\",\n",
    "        \"MIA\": \"Miami Heat\",\n",
    "        \"ATL\": \"Atlanta Hawks\",\n",
    "        \"OKC\": \"Oklahoma City Thunder\",\n",
    "        \"UTA\": \"Utah Jazz\",\n",
    "        \"NYK\": \"New York Knicks\",\n",
    "        \"CHI\": \"Chicago Bulls\",\n",
    "        \"MIN\": \"Minnesota Timberwolves\",\n",
    "        \"BKN\": \"Brooklyn Nets\",\n",
    "        \"CLE\": \"Cleveland Cavaliers\",\n",
    "        \"HOU\": \"Houston Rockets\",\n",
    "        \"GSW\": \"Golden State Warriors\",\n",
    "        \"SAC\": \"Sacramento Kings\",\n",
    "        \"TOR\": \"Toronto Raptors\",\n",
    "        \"PHI\": \"Philadelphia 76ers\"\n",
    "    }\n",
    "    addon=''\n",
    "    if ps == True:\n",
    "        addon+= ' PS '\n",
    "    else:\n",
    "        addon+= ' RS '\n",
    "    if vs == False:\n",
    "        addon+=''\n",
    "    else:\n",
    "        addon=' (Defense)'\n",
    "    team_name=team_names[team]\n",
    "    combo_name=data[data.lineup_row==1]['Name'].iloc[0]\n",
    "\n",
    "    combo_name= team_name.split(' ')[-1] +' with '+combo_name\n",
    "    team_name+= (' '+str(start_year-1)+'-'+str(end_year))\n",
    "    \n",
    "    # Normalize the data to a 0-1 range\n",
    "    scaler = MinMaxScaler()\n",
    "    normalized_data = pd.DataFrame(\n",
    "        scaler.fit_transform(data[categories]),\n",
    "        columns=categories,\n",
    "        index=data.index\n",
    "    )\n",
    "    \n",
    "    # Separate team and lineup data\n",
    "    team_data = normalized_data[data['lineup_row'] == 0]\n",
    "    lineup_data = normalized_data[data['lineup_row'] == 1]\n",
    "    \n",
    "    # Store original values for hover text and labels\n",
    "    original_team_data = data[data['lineup_row'] == 0]\n",
    "    original_lineup_data = data[data['lineup_row'] == 1]\n",
    "    \n",
    "    # Create the figure\n",
    "    fig = go.Figure()\n",
    "    \n",
    "    # Define custom colors for dark theme\n",
    "    team_color = '#00ffff'  # Cyan\n",
    "    lineup_color = '#ff4d4d'  # Bright red\n",
    "    grid_color = 'rgba(255, 255, 255, 0.1)'\n",
    "    bg_color = '#1a1a1a'\n",
    "    text_color = '#ffffff'\n",
    "    \n",
    "    # Plot each category in a beeswarm layout\n",
    "    for i, category in enumerate(categories):\n",
    "        # Plot team data points with enhanced styling\n",
    "        fig.add_trace(go.Scatter(\n",
    "            x=[category] * len(team_data),\n",
    "            y=team_data[category],\n",
    "            mode='markers',\n",
    "            name='Season Averages for each NBA Team',\n",
    "            marker=dict(\n",
    "                size=12,\n",
    "                color=team_color,\n",
    "                opacity=0.8,\n",
    "                line=dict(color='white', width=1),\n",
    "                symbol='circle'\n",
    "            ),\n",
    "            text=[f\"{team}<br>{category}: {original_team_data.loc[team, category]:.1f}\" \n",
    "                  for team in team_data.index],\n",
    "            hovertemplate=\"<b>%{text}</b><br>Normalized: %{y:.2f}<br><extra></extra>\",\n",
    "            showlegend=(i == 0)\n",
    "        ))\n",
    "        \n",
    "        # Plot lineup data points with enhanced styling and visible labels\n",
    "        fig.add_trace(go.Scatter(\n",
    "            x=[category] * len(lineup_data),\n",
    "            y=lineup_data[category],\n",
    "            mode='markers+text',  # Add text mode\n",
    "            name=combo_name,\n",
    "            marker=dict(\n",
    "                size=12,\n",
    "                color=lineup_color,\n",
    "                opacity=0.8,\n",
    "                line=dict(color='white', width=1),\n",
    "                symbol='diamond'\n",
    "            ),\n",
    "            text=[f\"{original_lineup_data.loc[lineup, category]:.1f}\" \n",
    "                  for lineup in lineup_data.index],  # Show only the value\n",
    "            textposition='middle right',  # Position text to the right of points\n",
    "            textfont=dict(\n",
    "                color=text_color,\n",
    "                size=14\n",
    "            ),\n",
    "            hovertemplate=\"<b>%{text}</b><br>Normalized: %{y:.2f}<br><extra></extra>\",\n",
    "            showlegend=(i == 0)\n",
    "        ))\n",
    "    \n",
    "    # Update layout with dark theme and enhanced styling\n",
    "    fig.update_layout(\n",
    "        title=dict(\n",
    "            text=team_name+ addon,\n",
    "            font=dict(size=24, color=text_color),\n",
    "            x=0.5,\n",
    "            y=.99\n",
    "        ),\n",
    "        width=1350,\n",
    "        height=1000,\n",
    "        showlegend=True,\n",
    "        plot_bgcolor=bg_color,\n",
    "        paper_bgcolor=bg_color,\n",
    "        yaxis=dict(\n",
    "            title=dict(text='Normalized Value', font=dict(size=16, color=text_color)),\n",
    "            gridcolor=grid_color,\n",
    "            zeroline=True,\n",
    "            zerolinecolor=grid_color,\n",
    "            range=[-0.1, 1.1],\n",
    "            tickformat='.2f',\n",
    "            tickfont=dict(color=text_color),\n",
    "            tickmode='linear',\n",
    "            tick0=0,\n",
    "            dtick=0.2,\n",
    "            showticklabels=False\n",
    "        ),\n",
    "        xaxis=dict(\n",
    "            gridcolor=grid_color,\n",
    "            categoryorder='array',\n",
    "            categoryarray=categories,\n",
    "            tickfont=dict(color=text_color, size=14),\n",
    "            tickangle=-45\n",
    "        ),\n",
    "        hovermode='closest',\n",
    "        legend=dict(\n",
    "            font=dict(color=text_color,size=20),\n",
    "            bgcolor='rgba(0,0,0,0)',\n",
    "            bordercolor='rgba(255,255,255,0.2)',\n",
    "            borderwidth=1,\n",
    "            orientation=\"h\",  # Horizontal orientation\n",
    "            yanchor=\"bottom\",\n",
    "            y=1.02,  # Position above the plot\n",
    "            xanchor=\"center\",\n",
    "            x=0.5  # Center horizontally\n",
    "        ),\n",
    "        margin=dict(t=100, b=80),\n",
    "        shapes=[\n",
    "            # Add a subtle border around the plot\n",
    "            dict(\n",
    "                type='rect',\n",
    "                xref='paper',\n",
    "                yref='paper',\n",
    "                x0=0,\n",
    "                y0=0,\n",
    "                x1=1,\n",
    "                y1=1,\n",
    "                line=dict(color='rgba(255,255,255,0.2)', width=1),\n",
    "                layer='below'\n",
    "            )\n",
    "        ]\n",
    "    )\n",
    "    \n",
    "    return fig\n",
    "\n",
    "\n"
   ]
  },
  {
   "cell_type": "code",
   "execution_count": 7,
   "id": "b507188d-e09a-4ca7-a896-dbf16110a27b",
   "metadata": {},
   "outputs": [
    {
     "name": "stdout",
     "output_type": "stream",
     "text": [
      "Index(['Points', 'Opp Points', 'FTA', 'EFG%', '3P%', 'Rim Freq', 'TS%', 'Rim%',\n",
      "       'TOV%', '3P Assists', 'Rim Assists', 'DREB%', 'OREB%', 'Name',\n",
      "       'lineup_row'],\n",
      "      dtype='object')\n"
     ]
    },
    {
     "data": {
      "application/vnd.plotly.v1+json": {
       "config": {
        "plotlyServerURL": "https://plot.ly"
       },
       "data": [
        {
         "customdata": [
          [
           "ATL",
           105.16314035495621
          ],
          [
           "BOS",
           102.8532864586603
          ],
          [
           "CLE",
           105.29191383078364
          ],
          [
           "NOP",
           106.25240724098087
          ],
          [
           "CHI",
           103.31357715350391
          ],
          [
           "DAL",
           106.64853987126902
          ],
          [
           "DEN",
           108.02851782363977
          ],
          [
           "GSW",
           106.01038004352921
          ],
          [
           "HOU",
           107.83272837265578
          ],
          [
           "LAC",
           109.00459802583055
          ],
          [
           "LAL",
           106.61817296425365
          ],
          [
           "MIA",
           108.22106044572205
          ],
          [
           "MIL",
           105.0287245675913
          ],
          [
           "MIN",
           105.59733300858552
          ],
          [
           "BKN",
           106.59351175476091
          ],
          [
           "NYK",
           107.30629060370781
          ],
          [
           "ORL",
           104.28374310085299
          ],
          [
           "IND",
           103.73366818196268
          ],
          [
           "PHI",
           103.00328556664456
          ],
          [
           "PHX",
           106.17788498471278
          ],
          [
           "POR",
           107.85175294227246
          ],
          [
           "SAC",
           107.00168272908061
          ],
          [
           "SAS",
           107.27414520765797
          ],
          [
           "OKC",
           108.19614550563513
          ],
          [
           "TOR",
           105.74605383861069
          ],
          [
           "UTA",
           106.45597059470327
          ],
          [
           "MEM",
           104.2414303170622
          ],
          [
           "WAS",
           103.23225126997893
          ],
          [
           "DET",
           105.42633223916697
          ],
          [
           "CHA",
           103.40817900020456
          ]
         ],
         "hovertemplate": "<b>%{customdata}</b><br>Points: %{customdata2:.1f}<br><extra></extra>",
         "marker": {
          "color": "#00ffff",
          "line": {
           "color": "white",
           "width": 1
          },
          "opacity": 0.8,
          "size": 16,
          "symbol": "circle"
         },
         "mode": "markers+text",
         "name": "Season Averages for each NBA Team",
         "showlegend": true,
         "text": [
          "🦅",
          "🍀",
          "🛡️",
          "🦚",
          "🐂",
          "🐴",
          "⛏️",
          "⚡",
          "🚀",
          "🚤",
          "💜💛",
          "🔥",
          "🦌",
          "🐺",
          "🖤",
          "🗽",
          "🔮",
          "🏎️",
          "🔔",
          "🌞",
          "🌊",
          "👑",
          "🐍",
          "⚡",
          "🦖",
          "🎷",
          "🐻",
          "🦅",
          "🐴",
          "🐝"
         ],
         "textfont": {
          "color": "#00ffff",
          "size": 12
         },
         "textposition": "middle center",
         "type": "scatter",
         "x": [
          "Points",
          "Points",
          "Points",
          "Points",
          "Points",
          "Points",
          "Points",
          "Points",
          "Points",
          "Points",
          "Points",
          "Points",
          "Points",
          "Points",
          "Points",
          "Points",
          "Points",
          "Points",
          "Points",
          "Points",
          "Points",
          "Points",
          "Points",
          "Points",
          "Points",
          "Points",
          "Points",
          "Points",
          "Points",
          "Points"
         ],
         "y": [
          0.15298307002081923,
          0,
          0.16151181796497394,
          0.22512589799937377,
          0.03048534096122335,
          0.25136201016823545,
          0.34275881411902365,
          0.2090962851506708,
          0.329791556173725,
          0.4074052171478657,
          0.2493507909003423,
          0.3555110325529425,
          0.14408062825022672,
          0.1817399213693891,
          0.24771746355237667,
          0.294925253072166,
          0.09474003918829421,
          0.058308232844075825,
          0.009934534853747401,
          0.22019024229965378,
          0.3310515653329409,
          0.2747508827850611,
          0.2927962433618001,
          0.3538609004688338,
          0.1915897950734271,
          0.2386080263911845,
          0.09193763702085711,
          0.025099076767735262,
          0.1704144333272568,
          0.036750880509465844
         ]
        },
        {
         "hovertemplate": "<b>%{text}</b><br>Normalized: %{y:.2f}<br><extra></extra>",
         "marker": {
          "color": "#ff4d4d",
          "line": {
           "color": "white",
           "width": 1
          },
          "opacity": 0.8,
          "size": 16,
          "symbol": "diamond"
         },
         "mode": "markers+text",
         "name": "Heat with LeBron, Ray, Chris On | Dwyane Off",
         "showlegend": true,
         "text": [
          "🏀"
         ],
         "textfont": {
          "color": "#ffffff",
          "size": 14
         },
         "textposition": "middle right",
         "type": "scatter",
         "x": [
          "Points"
         ],
         "y": [
          1
         ]
        },
        {
         "customdata": [
          [
           "ATL",
           104.78160492105549
          ],
          [
           "BOS",
           103.26998586461441
          ],
          [
           "CLE",
           107.00755211584072
          ],
          [
           "NOP",
           107.46022071089439
          ],
          [
           "CHI",
           102.13080270404804
          ],
          [
           "DAL",
           106.34401167703771
          ],
          [
           "DEN",
           107.37033257293793
          ],
          [
           "GSW",
           105.63240956337792
          ],
          [
           "HOU",
           106.86670600874605
          ],
          [
           "LAC",
           107.10235750522232
          ],
          [
           "LAL",
           107.08971686774483
          ],
          [
           "MIA",
           105.99089989888776
          ],
          [
           "MIL",
           106.23209389729213
          ],
          [
           "MIN",
           105.75907465185298
          ],
          [
           "BKN",
           107.09923298942769
          ],
          [
           "NYK",
           106.59267480577137
          ],
          [
           "ORL",
           105.76681923631575
          ],
          [
           "IND",
           102.27893967325663
          ],
          [
           "PHI",
           104.28379774553193
          ],
          [
           "PHX",
           106.65704104202507
          ],
          [
           "POR",
           107.88341127666517
          ],
          [
           "SAC",
           108.4667002950123
          ],
          [
           "SAS",
           104.85867752153887
          ],
          [
           "OKC",
           105.69826255711251
          ],
          [
           "TOR",
           105.84979362041972
          ],
          [
           "UTA",
           107.30765002434313
          ],
          [
           "MEM",
           103.22870964112948
          ],
          [
           "WAS",
           103.9100260255298
          ],
          [
           "DET",
           106.90402525403232
          ],
          [
           "CHA",
           106.01538050230393
          ]
         ],
         "hovertemplate": "<b>%{customdata}</b><br>Opp Points: %{customdata2:.1f}<br><extra></extra>",
         "marker": {
          "color": "#00ffff",
          "line": {
           "color": "white",
           "width": 1
          },
          "opacity": 0.8,
          "size": 16,
          "symbol": "circle"
         },
         "mode": "markers+text",
         "name": "Season Averages for each NBA Team",
         "showlegend": false,
         "text": [
          "🦅",
          "🍀",
          "🛡️",
          "🦚",
          "🐂",
          "🐴",
          "⛏️",
          "⚡",
          "🚀",
          "🚤",
          "💜💛",
          "🔥",
          "🦌",
          "🐺",
          "🖤",
          "🗽",
          "🔮",
          "🏎️",
          "🔔",
          "🌞",
          "🌊",
          "👑",
          "🐍",
          "⚡",
          "🦖",
          "🎷",
          "🐻",
          "🦅",
          "🐴",
          "🐝"
         ],
         "textfont": {
          "color": "#00ffff",
          "size": 12
         },
         "textposition": "middle center",
         "type": "scatter",
         "x": [
          "Opp Points",
          "Opp Points",
          "Opp Points",
          "Opp Points",
          "Opp Points",
          "Opp Points",
          "Opp Points",
          "Opp Points",
          "Opp Points",
          "Opp Points",
          "Opp Points",
          "Opp Points",
          "Opp Points",
          "Opp Points",
          "Opp Points",
          "Opp Points",
          "Opp Points",
          "Opp Points",
          "Opp Points",
          "Opp Points",
          "Opp Points",
          "Opp Points",
          "Opp Points",
          "Opp Points",
          "Opp Points",
          "Opp Points",
          "Opp Points",
          "Opp Points",
          "Opp Points",
          "Opp Points"
         ],
         "y": [
          0.4013612343792552,
          0.172485127926727,
          0.738394645634898,
          0.8069337561388004,
          0,
          0.6379271690838983,
          0.7933236822619989,
          0.5301826150417615,
          0.7170689627761995,
          0.7527492466171459,
          0.7508353120999836,
          0.5844620790659363,
          0.620981559962452,
          0.54936113237396,
          0.7522761598254881,
          0.6755775602193879,
          0.5505337494631526,
          0.022429601287223377,
          0.32598763571200173,
          0.6853233314690783,
          0.8710095618574059,
          0.9593260718186656,
          0.41303089191475806,
          0.5401534980760765,
          0.5630970033385871,
          0.7838328402381656,
          0.16623544400005308,
          0.2693943984068561,
          0.7227195157514856,
          0.5881687174346624
         ]
        },
        {
         "hovertemplate": "<b>%{text}</b><br>Normalized: %{y:.2f}<br><extra></extra>",
         "marker": {
          "color": "#ff4d4d",
          "line": {
           "color": "white",
           "width": 1
          },
          "opacity": 0.8,
          "size": 16,
          "symbol": "diamond"
         },
         "mode": "markers+text",
         "name": "Heat with LeBron, Ray, Chris On | Dwyane Off",
         "showlegend": false,
         "text": [
          "🏀"
         ],
         "textfont": {
          "color": "#ffffff",
          "size": 14
         },
         "textposition": "middle right",
         "type": "scatter",
         "x": [
          "Opp Points"
         ],
         "y": [
          1
         ]
        },
        {
         "customdata": [
          [
           "ATL",
           22.174688057041
          ],
          [
           "BOS",
           23.303408876891204
          ],
          [
           "CLE",
           24.847018420231034
          ],
          [
           "NOP",
           24.645333162151754
          ],
          [
           "CHI",
           23.85679178913892
          ],
          [
           "DAL",
           23.08247691905925
          ],
          [
           "DEN",
           26.26641651031895
          ],
          [
           "GSW",
           23.00655982223034
          ],
          [
           "HOU",
           25.677555958862673
          ],
          [
           "LAC",
           27.145614613247965
          ],
          [
           "LAL",
           24.61461202501788
          ],
          [
           "MIA",
           24.892202233348602
          ],
          [
           "MIL",
           23.56184638132056
          ],
          [
           "MIN",
           25.423186993850088
          ],
          [
           "BKN",
           25.31978691505311
          ],
          [
           "NYK",
           24.60307399778165
          ],
          [
           "ORL",
           22.194869543401907
          ],
          [
           "IND",
           25.74784626633182
          ],
          [
           "PHI",
           22.133613043545328
          ],
          [
           "PHX",
           23.737459093213698
          ],
          [
           "POR",
           23.275781759463403
          ],
          [
           "SAC",
           25.78399877619703
          ],
          [
           "SAS",
           21.634350724814972
          ],
          [
           "OKC",
           26.50193946428026
          ],
          [
           "TOR",
           26.259766551735044
          ],
          [
           "UTA",
           25.649524048883166
          ],
          [
           "MEM",
           23.792526850601323
          ],
          [
           "WAS",
           23.3691611943997
          ],
          [
           "DET",
           25.430729845612603
          ],
          [
           "CHA",
           25.116044875930324
          ]
         ],
         "hovertemplate": "<b>%{customdata}</b><br>FTA: %{customdata2:.1f}<br><extra></extra>",
         "marker": {
          "color": "#00ffff",
          "line": {
           "color": "white",
           "width": 1
          },
          "opacity": 0.8,
          "size": 16,
          "symbol": "circle"
         },
         "mode": "markers+text",
         "name": "Season Averages for each NBA Team",
         "showlegend": false,
         "text": [
          "🦅",
          "🍀",
          "🛡️",
          "🦚",
          "🐂",
          "🐴",
          "⛏️",
          "⚡",
          "🚀",
          "🚤",
          "💜💛",
          "🔥",
          "🦌",
          "🐺",
          "🖤",
          "🗽",
          "🔮",
          "🏎️",
          "🔔",
          "🌞",
          "🌊",
          "👑",
          "🐍",
          "⚡",
          "🦖",
          "🎷",
          "🐻",
          "🦅",
          "🐴",
          "🐝"
         ],
         "textfont": {
          "color": "#00ffff",
          "size": 12
         },
         "textposition": "middle center",
         "type": "scatter",
         "x": [
          "FTA",
          "FTA",
          "FTA",
          "FTA",
          "FTA",
          "FTA",
          "FTA",
          "FTA",
          "FTA",
          "FTA",
          "FTA",
          "FTA",
          "FTA",
          "FTA",
          "FTA",
          "FTA",
          "FTA",
          "FTA",
          "FTA",
          "FTA",
          "FTA",
          "FTA",
          "FTA",
          "FTA",
          "FTA",
          "FTA",
          "FTA",
          "FTA",
          "FTA",
          "FTA"
         ],
         "y": [
          0.05947558831138,
          0.1837152637810231,
          0.35362224639682704,
          0.3314225043790384,
          0.24462679497544793,
          0.1593970140781802,
          0.5098571230584952,
          0.1510407267600522,
          0.4450405249031495,
          0.6066315291476134,
          0.328040991395095,
          0.358595683742434,
          0.21216179468115204,
          0.4170418230922741,
          0.4056604504735102,
          0.32677098668340765,
          0.06169698909701182,
          0.4527774646627858,
          0.05495441154484304,
          0.23149169978279005,
          0.18067431331477124,
          0.4567568154589048,
          0,
          0.5357814214777341,
          0.5091251540172395,
          0.44195501842767726,
          0.23755307491325617,
          0.19095270145823084,
          0.4178720739732804,
          0.38323431606101854
         ]
        },
        {
         "hovertemplate": "<b>%{text}</b><br>Normalized: %{y:.2f}<br><extra></extra>",
         "marker": {
          "color": "#ff4d4d",
          "line": {
           "color": "white",
           "width": 1
          },
          "opacity": 0.8,
          "size": 16,
          "symbol": "diamond"
         },
         "mode": "markers+text",
         "name": "Heat with LeBron, Ray, Chris On | Dwyane Off",
         "showlegend": false,
         "text": [
          "🏀"
         ],
         "textfont": {
          "color": "#ffffff",
          "size": 14
         },
         "textposition": "middle right",
         "type": "scatter",
         "x": [
          "FTA"
         ],
         "y": [
          1
         ]
        },
        {
         "customdata": [
          [
           "ATL",
           36.679992135788716
          ],
          [
           "BOS",
           34.45653913878662
          ],
          [
           "CLE",
           35.60160619532483
          ],
          [
           "NOP",
           35.679063936481406
          ],
          [
           "CHI",
           35.26435177106962
          ],
          [
           "DAL",
           36.31448975505573
          ],
          [
           "DEN",
           35.27208336171082
          ],
          [
           "GSW",
           37.69246285214819
          ],
          [
           "HOU",
           35.85258459496954
          ],
          [
           "LAC",
           35.54344937549827
          ],
          [
           "LAL",
           35.794892100574145
          ],
          [
           "MIA",
           36.93047234220426
          ],
          [
           "MIL",
           35.627948113207545
          ],
          [
           "MIN",
           33.78709305675598
          ],
          [
           "BKN",
           36.062338369402475
          ],
          [
           "NYK",
           36.397102481890514
          ],
          [
           "ORL",
           35.57513595374131
          ],
          [
           "IND",
           35.10418323524734
          ],
          [
           "PHI",
           34.50296848835439
          ],
          [
           "PHX",
           35.412300354123005
          ],
          [
           "POR",
           35.674194841641054
          ],
          [
           "SAC",
           34.805383775918514
          ],
          [
           "SAS",
           37.786832511258844
          ],
          [
           "OKC",
           36.0188261351052
          ],
          [
           "TOR",
           35.31958611579952
          ],
          [
           "UTA",
           35.34274025214996
          ],
          [
           "MEM",
           34.45228020686413
          ],
          [
           "WAS",
           35.556901643068066
          ],
          [
           "DET",
           34.75347056007659
          ],
          [
           "CHA",
           34.7843742386096
          ]
         ],
         "hovertemplate": "<b>%{customdata}</b><br>3P%: %{customdata2:.1f}<br><extra></extra>",
         "marker": {
          "color": "#00ffff",
          "line": {
           "color": "white",
           "width": 1
          },
          "opacity": 0.8,
          "size": 16,
          "symbol": "circle"
         },
         "mode": "markers+text",
         "name": "Season Averages for each NBA Team",
         "showlegend": false,
         "text": [
          "🦅",
          "🍀",
          "🛡️",
          "🦚",
          "🐂",
          "🐴",
          "⛏️",
          "⚡",
          "🚀",
          "🚤",
          "💜💛",
          "🔥",
          "🦌",
          "🐺",
          "🖤",
          "🗽",
          "🔮",
          "🏎️",
          "🔔",
          "🌞",
          "🌊",
          "👑",
          "🐍",
          "⚡",
          "🦖",
          "🎷",
          "🐻",
          "🦅",
          "🐴",
          "🐝"
         ],
         "textfont": {
          "color": "#00ffff",
          "size": 12
         },
         "textposition": "middle center",
         "type": "scatter",
         "x": [
          "3P%",
          "3P%",
          "3P%",
          "3P%",
          "3P%",
          "3P%",
          "3P%",
          "3P%",
          "3P%",
          "3P%",
          "3P%",
          "3P%",
          "3P%",
          "3P%",
          "3P%",
          "3P%",
          "3P%",
          "3P%",
          "3P%",
          "3P%",
          "3P%",
          "3P%",
          "3P%",
          "3P%",
          "3P%",
          "3P%",
          "3P%",
          "3P%",
          "3P%",
          "3P%"
         ],
         "y": [
          0.50228246281831,
          0.11623323787667239,
          0.31504663770064045,
          0.32849531459173953,
          0.2564905048444901,
          0.43882175058983464,
          0.2578329099138239,
          0.6780736919801971,
          0.3586230104823329,
          0.3049491023583668,
          0.3486060941021254,
          0.5457723363080227,
          0.3196202792373901,
          0,
          0.3950417169526732,
          0.45316546696606697,
          0.31045071583446493,
          0.22868108445305513,
          0.12429457960026635,
          0.2821782238545083,
          0.32764991318598913,
          0.1768017329028293,
          0.6944587173469552,
          0.38748686225208306,
          0.2660806225586425,
          0.27010078237507873,
          0.11549377661080751,
          0.3072847656154849,
          0.167788249475465,
          0.17315393121535294
         ]
        },
        {
         "hovertemplate": "<b>%{text}</b><br>Normalized: %{y:.2f}<br><extra></extra>",
         "marker": {
          "color": "#ff4d4d",
          "line": {
           "color": "white",
           "width": 1
          },
          "opacity": 0.8,
          "size": 16,
          "symbol": "diamond"
         },
         "mode": "markers+text",
         "name": "Heat with LeBron, Ray, Chris On | Dwyane Off",
         "showlegend": false,
         "text": [
          "🏀"
         ],
         "textfont": {
          "color": "#ffffff",
          "size": 14
         },
         "textposition": "middle right",
         "type": "scatter",
         "x": [
          "3P%"
         ],
         "y": [
          1
         ]
        },
        {
         "customdata": [
          [
           "ATL",
           31.12852886934317
          ],
          [
           "BOS",
           32.00137104921345
          ],
          [
           "CLE",
           31.893705120813458
          ],
          [
           "NOP",
           34.802889501960216
          ],
          [
           "CHI",
           32.726883943049586
          ],
          [
           "DAL",
           28.976727133055153
          ],
          [
           "DEN",
           38.41607161160272
          ],
          [
           "GSW",
           28.928318446467756
          ],
          [
           "HOU",
           34.35348125478194
          ],
          [
           "LAC",
           31.402106467821827
          ],
          [
           "LAL",
           31.259141986887162
          ],
          [
           "MIA",
           33.23710653416976
          ],
          [
           "MIL",
           34.896128180055925
          ],
          [
           "MIN",
           34.280737457530655
          ],
          [
           "BKN",
           31.045531504305558
          ],
          [
           "NYK",
           31.487484242751666
          ],
          [
           "ORL",
           30.827306403245725
          ],
          [
           "IND",
           30.221575809811103
          ],
          [
           "PHI",
           32.48681988904586
          ],
          [
           "PHX",
           31.16885374120101
          ],
          [
           "POR",
           31.795961375688798
          ],
          [
           "SAC",
           32.774690186060965
          ],
          [
           "SAS",
           31.7420814479638
          ],
          [
           "OKC",
           32.40663679988668
          ],
          [
           "TOR",
           29.98915205207015
          ],
          [
           "UTA",
           32.82579728169139
          ],
          [
           "MEM",
           32.93999136566412
          ],
          [
           "WAS",
           30.22143271716763
          ],
          [
           "DET",
           37.00406288641583
          ],
          [
           "CHA",
           33.50190755035046
          ]
         ],
         "hovertemplate": "<b>%{customdata}</b><br>Rim Freq: %{customdata2:.1f}<br><extra></extra>",
         "marker": {
          "color": "#00ffff",
          "line": {
           "color": "white",
           "width": 1
          },
          "opacity": 0.8,
          "size": 16,
          "symbol": "circle"
         },
         "mode": "markers+text",
         "name": "Season Averages for each NBA Team",
         "showlegend": false,
         "text": [
          "🦅",
          "🍀",
          "🛡️",
          "🦚",
          "🐂",
          "🐴",
          "⛏️",
          "⚡",
          "🚀",
          "🚤",
          "💜💛",
          "🔥",
          "🦌",
          "🐺",
          "🖤",
          "🗽",
          "🔮",
          "🏎️",
          "🔔",
          "🌞",
          "🌊",
          "👑",
          "🐍",
          "⚡",
          "🦖",
          "🎷",
          "🐻",
          "🦅",
          "🐴",
          "🐝"
         ],
         "textfont": {
          "color": "#00ffff",
          "size": 12
         },
         "textposition": "middle center",
         "type": "scatter",
         "x": [
          "Rim Freq",
          "Rim Freq",
          "Rim Freq",
          "Rim Freq",
          "Rim Freq",
          "Rim Freq",
          "Rim Freq",
          "Rim Freq",
          "Rim Freq",
          "Rim Freq",
          "Rim Freq",
          "Rim Freq",
          "Rim Freq",
          "Rim Freq",
          "Rim Freq",
          "Rim Freq",
          "Rim Freq",
          "Rim Freq",
          "Rim Freq",
          "Rim Freq",
          "Rim Freq",
          "Rim Freq",
          "Rim Freq",
          "Rim Freq",
          "Rim Freq",
          "Rim Freq",
          "Rim Freq",
          "Rim Freq",
          "Rim Freq",
          "Rim Freq"
         ],
         "y": [
          0.2319000488925682,
          0.32389676978932913,
          0.3125488851504623,
          0.6191741029983779,
          0.400365126544457,
          0.005102228709457535,
          1.0000000000000004,
          0,
          0.5718069087474,
          0.2607348629646693,
          0.24566654505563879,
          0.45414209378208614,
          0.6290013694199303,
          0.5641397829289714,
          0.22315220695433036,
          0.2697335978014461,
          0.2001514925321053,
          0.13630807429684566,
          0.37506260762080945,
          0.23615025135420264,
          0.3022467890247067,
          0.4054038582841333,
          0.29656789679519635,
          0.366611387636099,
          0.11181083520392177,
          0.4107904966948195,
          0.4228264426121693,
          0.1362929924707288,
          0.851175647109407,
          0.48205186457521476
         ]
        },
        {
         "hovertemplate": "<b>%{text}</b><br>Normalized: %{y:.2f}<br><extra></extra>",
         "marker": {
          "color": "#ff4d4d",
          "line": {
           "color": "white",
           "width": 1
          },
          "opacity": 0.8,
          "size": 16,
          "symbol": "diamond"
         },
         "mode": "markers+text",
         "name": "Heat with LeBron, Ray, Chris On | Dwyane Off",
         "showlegend": false,
         "text": [
          "🏀"
         ],
         "textfont": {
          "color": "#ffffff",
          "size": 14
         },
         "textposition": "middle right",
         "type": "scatter",
         "x": [
          "Rim Freq"
         ],
         "y": [
          0.5145941057763466
         ]
        },
        {
         "customdata": [
          [
           "ATL",
           50.64991488154348
          ],
          [
           "BOS",
           48.82107807764468
          ],
          [
           "CLE",
           48.57784300365148
          ],
          [
           "NOP",
           49.43462320313635
          ],
          [
           "CHI",
           47.310180152889394
          ],
          [
           "DAL",
           50.4364753740594
          ],
          [
           "DEN",
           50.574840274693365
          ],
          [
           "GSW",
           50.17881515523228
          ],
          [
           "HOU",
           50.93030534882104
          ],
          [
           "LAC",
           50.90928598251166
          ],
          [
           "LAL",
           50.10239025313624
          ],
          [
           "MIA",
           52.34645348729621
          ],
          [
           "MIL",
           48.59588629852641
          ],
          [
           "MIN",
           48.85138747563941
          ],
          [
           "BKN",
           50.00364106391888
          ],
          [
           "NYK",
           50.435800468215376
          ],
          [
           "ORL",
           49.446110425119066
          ],
          [
           "IND",
           47.50233426704015
          ],
          [
           "PHI",
           48.42441680162641
          ],
          [
           "PHX",
           49.90006083253672
          ],
          [
           "POR",
           49.84108065156933
          ],
          [
           "SAC",
           49.344126480030376
          ],
          [
           "SAS",
           51.555864949530104
          ],
          [
           "OKC",
           50.50378056770492
          ],
          [
           "TOR",
           48.89983728078105
          ],
          [
           "UTA",
           49.214710846584346
          ],
          [
           "MEM",
           48.21557058569578
          ],
          [
           "WAS",
           48.81369048665952
          ],
          [
           "DET",
           48.97367956191486
          ],
          [
           "CHA",
           47.734007630201404
          ]
         ],
         "hovertemplate": "<b>%{customdata}</b><br>EFG%: %{customdata2:.1f}<br><extra></extra>",
         "marker": {
          "color": "#00ffff",
          "line": {
           "color": "white",
           "width": 1
          },
          "opacity": 0.8,
          "size": 16,
          "symbol": "circle"
         },
         "mode": "markers+text",
         "name": "Season Averages for each NBA Team",
         "showlegend": false,
         "text": [
          "🦅",
          "🍀",
          "🛡️",
          "🦚",
          "🐂",
          "🐴",
          "⛏️",
          "⚡",
          "🚀",
          "🚤",
          "💜💛",
          "🔥",
          "🦌",
          "🐺",
          "🖤",
          "🗽",
          "🔮",
          "🏎️",
          "🔔",
          "🌞",
          "🌊",
          "👑",
          "🐍",
          "⚡",
          "🦖",
          "🎷",
          "🐻",
          "🦅",
          "🐴",
          "🐝"
         ],
         "textfont": {
          "color": "#00ffff",
          "size": 12
         },
         "textposition": "middle center",
         "type": "scatter",
         "x": [
          "EFG%",
          "EFG%",
          "EFG%",
          "EFG%",
          "EFG%",
          "EFG%",
          "EFG%",
          "EFG%",
          "EFG%",
          "EFG%",
          "EFG%",
          "EFG%",
          "EFG%",
          "EFG%",
          "EFG%",
          "EFG%",
          "EFG%",
          "EFG%",
          "EFG%",
          "EFG%",
          "EFG%",
          "EFG%",
          "EFG%",
          "EFG%",
          "EFG%",
          "EFG%",
          "EFG%",
          "EFG%",
          "EFG%",
          "EFG%"
         ],
         "y": [
          0.29603102041830276,
          0.133924605021984,
          0.11236447135689343,
          0.1883086817013826,
          0,
          0.27711193841577586,
          0.2893764761867912,
          0.2542731731551191,
          0.3208845740348769,
          0.3190214367013269,
          0.2474989399926013,
          0.44641064498280336,
          0.1139638124505753,
          0.13661120223572798,
          0.23874590251370087,
          0.2770521153813359,
          0.18932689851247897,
          0.017032364277789647,
          0.09876491365708429,
          0.2295646458922853,
          0.22433669679608048,
          0.18028713524270046,
          0.3763336027680664,
          0.2830778089932773,
          0.14090574848579163,
          0.16881585229965435,
          0.08025297680114107,
          0.13326977573898535,
          0.14745106049710355,
          0.03756767850857212
         ]
        },
        {
         "hovertemplate": "<b>%{text}</b><br>Normalized: %{y:.2f}<br><extra></extra>",
         "marker": {
          "color": "#ff4d4d",
          "line": {
           "color": "white",
           "width": 1
          },
          "opacity": 0.8,
          "size": 16,
          "symbol": "diamond"
         },
         "mode": "markers+text",
         "name": "Heat with LeBron, Ray, Chris On | Dwyane Off",
         "showlegend": false,
         "text": [
          "🏀"
         ],
         "textfont": {
          "color": "#ffffff",
          "size": 14
         },
         "textposition": "middle right",
         "type": "scatter",
         "x": [
          "EFG%"
         ],
         "y": [
          1
         ]
        },
        {
         "customdata": [
          [
           "ATL",
           61.98587216588811
          ],
          [
           "BOS",
           59.563673262303396
          ],
          [
           "CLE",
           58.53190906600931
          ],
          [
           "NOP",
           59.05084745762712
          ],
          [
           "CHI",
           57.878688881629095
          ],
          [
           "DAL",
           62.23413869976502
          ],
          [
           "DEN",
           61.18374244041267
          ],
          [
           "GSW",
           60.92331581462016
          ],
          [
           "HOU",
           62.26969022069245
          ],
          [
           "LAC",
           64.49518820112749
          ],
          [
           "LAL",
           62.24057252958987
          ],
          [
           "MIA",
           63.971939201603476
          ],
          [
           "MIL",
           57.737685576639464
          ],
          [
           "MIN",
           60.93474870453288
          ],
          [
           "BKN",
           59.70210520143083
          ],
          [
           "NYK",
           60.78352873891907
          ],
          [
           "ORL",
           60.42572671091783
          ],
          [
           "IND",
           57.221793119838395
          ],
          [
           "PHI",
           59.09524819686042
          ],
          [
           "PHX",
           62.45469246640272
          ],
          [
           "POR",
           59.825066550768724
          ],
          [
           "SAC",
           62.35188793512033
          ],
          [
           "SAS",
           62.32249575086354
          ],
          [
           "OKC",
           61.65783290530572
          ],
          [
           "TOR",
           61.041779706999456
          ],
          [
           "UTA",
           62.22667243992206
          ],
          [
           "MEM",
           59.29445172564438
          ],
          [
           "WAS",
           61.79945294768084
          ],
          [
           "DET",
           60.172808860034365
          ],
          [
           "CHA",
           58.045550847457626
          ]
         ],
         "hovertemplate": "<b>%{customdata}</b><br>Rim%: %{customdata2:.1f}<br><extra></extra>",
         "marker": {
          "color": "#00ffff",
          "line": {
           "color": "white",
           "width": 1
          },
          "opacity": 0.8,
          "size": 16,
          "symbol": "circle"
         },
         "mode": "markers+text",
         "name": "Season Averages for each NBA Team",
         "showlegend": false,
         "text": [
          "🦅",
          "🍀",
          "🛡️",
          "🦚",
          "🐂",
          "🐴",
          "⛏️",
          "⚡",
          "🚀",
          "🚤",
          "💜💛",
          "🔥",
          "🦌",
          "🐺",
          "🖤",
          "🗽",
          "🔮",
          "🏎️",
          "🔔",
          "🌞",
          "🌊",
          "👑",
          "🐍",
          "⚡",
          "🦖",
          "🎷",
          "🐻",
          "🦅",
          "🐴",
          "🐝"
         ],
         "textfont": {
          "color": "#00ffff",
          "size": 12
         },
         "textposition": "middle center",
         "type": "scatter",
         "x": [
          "Rim%",
          "Rim%",
          "Rim%",
          "Rim%",
          "Rim%",
          "Rim%",
          "Rim%",
          "Rim%",
          "Rim%",
          "Rim%",
          "Rim%",
          "Rim%",
          "Rim%",
          "Rim%",
          "Rim%",
          "Rim%",
          "Rim%",
          "Rim%",
          "Rim%",
          "Rim%",
          "Rim%",
          "Rim%",
          "Rim%",
          "Rim%",
          "Rim%",
          "Rim%",
          "Rim%",
          "Rim%",
          "Rim%",
          "Rim%"
         ],
         "y": [
          0.34429923943461205,
          0.16924730763363272,
          0.0946818722942524,
          0.13218546780986085,
          0.047473752846290296,
          0.3622414225857842,
          0.28632945099500073,
          0.267508459923655,
          0.3648107253823465,
          0.5256471125666442,
          0.3627063944500071,
          0.4878319900991821,
          0.037283466287978406,
          0.26833471307005397,
          0.17925176198762927,
          0.25740607006373395,
          0.23154777407027538,
          0,
          0.1353943022142845,
          0.3781808084300984,
          0.18813815926350852,
          0.37075114120820274,
          0.36862697269900746,
          0.3205918939368795,
          0.2760698266962063,
          0.36170183716738524,
          0.14979070974448216,
          0.33082675200853195,
          0.21326944097443423,
          0.05953284073505394
         ]
        },
        {
         "hovertemplate": "<b>%{text}</b><br>Normalized: %{y:.2f}<br><extra></extra>",
         "marker": {
          "color": "#ff4d4d",
          "line": {
           "color": "white",
           "width": 1
          },
          "opacity": 0.8,
          "size": 16,
          "symbol": "diamond"
         },
         "mode": "markers+text",
         "name": "Heat with LeBron, Ray, Chris On | Dwyane Off",
         "showlegend": false,
         "text": [
          "🏀"
         ],
         "textfont": {
          "color": "#ffffff",
          "size": 14
         },
         "textposition": "middle right",
         "type": "scatter",
         "x": [
          "Rim%"
         ],
         "y": [
          1
         ]
        },
        {
         "customdata": [
          [
           "ATL",
           14.083920209027523
          ],
          [
           "BOS",
           14.237644514790707
          ],
          [
           "CLE",
           13.433593659462376
          ],
          [
           "NOP",
           13.7804945365901
          ],
          [
           "CHI",
           13.536503709738943
          ],
          [
           "DAL",
           13.349800302286244
          ],
          [
           "DEN",
           13.86363931910688
          ],
          [
           "GSW",
           13.563174173873302
          ],
          [
           "HOU",
           14.00698125732508
          ],
          [
           "LAC",
           13.567393199461494
          ],
          [
           "LAL",
           13.186754684838162
          ],
          [
           "MIA",
           14.651373732509896
          ],
          [
           "MIL",
           13.522693601403976
          ],
          [
           "MIN",
           13.554668024426983
          ],
          [
           "BKN",
           14.053693883783557
          ],
          [
           "NYK",
           13.54942921608498
          ],
          [
           "ORL",
           13.509984026657062
          ],
          [
           "IND",
           13.714800281740594
          ],
          [
           "PHI",
           13.292633569006096
          ],
          [
           "PHX",
           13.882790747483401
          ],
          [
           "POR",
           12.915416177814654
          ],
          [
           "SAC",
           13.43608191983385
          ],
          [
           "SAS",
           13.36904215193152
          ],
          [
           "OKC",
           14.15970486756425
          ],
          [
           "TOR",
           13.573626363918944
          ],
          [
           "UTA",
           13.495655549219482
          ],
          [
           "MEM",
           13.88096923278316
          ],
          [
           "WAS",
           14.086591880949017
          ],
          [
           "DET",
           13.850763731679875
          ],
          [
           "CHA",
           12.883622116339396
          ]
         ],
         "hovertemplate": "<b>%{customdata}</b><br>TOV%: %{customdata2:.1f}<br><extra></extra>",
         "marker": {
          "color": "#00ffff",
          "line": {
           "color": "white",
           "width": 1
          },
          "opacity": 0.8,
          "size": 16,
          "symbol": "circle"
         },
         "mode": "markers+text",
         "name": "Season Averages for each NBA Team",
         "showlegend": false,
         "text": [
          "🦅",
          "🍀",
          "🛡️",
          "🦚",
          "🐂",
          "🐴",
          "⛏️",
          "⚡",
          "🚀",
          "🚤",
          "💜💛",
          "🔥",
          "🦌",
          "🐺",
          "🖤",
          "🗽",
          "🔮",
          "🏎️",
          "🔔",
          "🌞",
          "🌊",
          "👑",
          "🐍",
          "⚡",
          "🦖",
          "🎷",
          "🐻",
          "🦅",
          "🐴",
          "🐝"
         ],
         "textfont": {
          "color": "#00ffff",
          "size": 12
         },
         "textposition": "middle center",
         "type": "scatter",
         "x": [
          "TOV%",
          "TOV%",
          "TOV%",
          "TOV%",
          "TOV%",
          "TOV%",
          "TOV%",
          "TOV%",
          "TOV%",
          "TOV%",
          "TOV%",
          "TOV%",
          "TOV%",
          "TOV%",
          "TOV%",
          "TOV%",
          "TOV%",
          "TOV%",
          "TOV%",
          "TOV%",
          "TOV%",
          "TOV%",
          "TOV%",
          "TOV%",
          "TOV%",
          "TOV%",
          "TOV%",
          "TOV%",
          "TOV%",
          "TOV%"
         ],
         "y": [
          0.6789970274717358,
          0.7659573811532097,
          0.31111358524134136,
          0.5073520578607127,
          0.3693288058273092,
          0.2637124931367536,
          0.5543862575504281,
          0.38441602955851195,
          0.6354734062804761,
          0.3868026915474463,
          0.17147916354642945,
          0.9999999999999991,
          0.3615165610477602,
          0.37960418304766197,
          0.661898287486169,
          0.3766406398133739,
          0.354326877479858,
          0.4701894529740489,
          0.23137382476433288,
          0.5652200354416959,
          0.01798559321593718,
          0.3125211700788899,
          0.27459742146563304,
          0.7218676761779728,
          0.39032873242357,
          0.34622139631015614,
          0.5641896221847773,
          0.6805083664500486,
          0.5471026622142814,
          0
         ]
        },
        {
         "hovertemplate": "<b>%{text}</b><br>Normalized: %{y:.2f}<br><extra></extra>",
         "marker": {
          "color": "#ff4d4d",
          "line": {
           "color": "white",
           "width": 1
          },
          "opacity": 0.8,
          "size": 16,
          "symbol": "diamond"
         },
         "mode": "markers+text",
         "name": "Heat with LeBron, Ray, Chris On | Dwyane Off",
         "showlegend": false,
         "text": [
          "🏀"
         ],
         "textfont": {
          "color": "#ffffff",
          "size": 14
         },
         "textposition": "middle right",
         "type": "scatter",
         "x": [
          "TOV%"
         ],
         "y": [
          0.32761543257455994
         ]
        },
        {
         "customdata": [
          [
           "ATL",
           72.30936930966745
          ],
          [
           "BOS",
           71.48694932204893
          ],
          [
           "CLE",
           69.59358906569678
          ],
          [
           "NOP",
           69.89507741303215
          ],
          [
           "CHI",
           69.86781116104281
          ],
          [
           "DAL",
           71.78733922703427
          ],
          [
           "DEN",
           69.12796069478661
          ],
          [
           "GSW",
           71.36807256372016
          ],
          [
           "HOU",
           70.52688791678612
          ],
          [
           "LAC",
           69.54438831854729
          ],
          [
           "LAL",
           70.77689522187669
          ],
          [
           "MIA",
           70.8393524590447
          ],
          [
           "MIL",
           68.58646490831809
          ],
          [
           "MIN",
           70.29507088403085
          ],
          [
           "BKN",
           69.52924799799337
          ],
          [
           "NYK",
           71.33610586932765
          ],
          [
           "ORL",
           71.83470193830719
          ],
          [
           "IND",
           70.38585593329032
          ],
          [
           "PHI",
           70.8952891012388
          ],
          [
           "PHX",
           69.70996974793086
          ],
          [
           "POR",
           70.59756635687219
          ],
          [
           "SAC",
           69.35208857291033
          ],
          [
           "SAS",
           73.44237546203476
          ],
          [
           "OKC",
           70.39726661484161
          ],
          [
           "TOR",
           70.39763868055499
          ],
          [
           "UTA",
           70.07802346112369
          ],
          [
           "MEM",
           69.6973784382476
          ],
          [
           "WAS",
           71.14619757167617
          ],
          [
           "DET",
           69.03178901867076
          ],
          [
           "CHA",
           70.92421950474557
          ]
         ],
         "hovertemplate": "<b>%{customdata}</b><br>DREB%: %{customdata2:.1f}<br><extra></extra>",
         "marker": {
          "color": "#00ffff",
          "line": {
           "color": "white",
           "width": 1
          },
          "opacity": 0.8,
          "size": 16,
          "symbol": "circle"
         },
         "mode": "markers+text",
         "name": "Season Averages for each NBA Team",
         "showlegend": false,
         "text": [
          "🦅",
          "🍀",
          "🛡️",
          "🦚",
          "🐂",
          "🐴",
          "⛏️",
          "⚡",
          "🚀",
          "🚤",
          "💜💛",
          "🔥",
          "🦌",
          "🐺",
          "🖤",
          "🗽",
          "🔮",
          "🏎️",
          "🔔",
          "🌞",
          "🌊",
          "👑",
          "🐍",
          "⚡",
          "🦖",
          "🎷",
          "🐻",
          "🦅",
          "🐴",
          "🐝"
         ],
         "textfont": {
          "color": "#00ffff",
          "size": 12
         },
         "textposition": "middle center",
         "type": "scatter",
         "x": [
          "DREB%",
          "DREB%",
          "DREB%",
          "DREB%",
          "DREB%",
          "DREB%",
          "DREB%",
          "DREB%",
          "DREB%",
          "DREB%",
          "DREB%",
          "DREB%",
          "DREB%",
          "DREB%",
          "DREB%",
          "DREB%",
          "DREB%",
          "DREB%",
          "DREB%",
          "DREB%",
          "DREB%",
          "DREB%",
          "DREB%",
          "DREB%",
          "DREB%",
          "DREB%",
          "DREB%",
          "DREB%",
          "DREB%",
          "DREB%"
         ],
         "y": [
          0.7666748306349831,
          0.597310099031958,
          0.2074017110154216,
          0.269488593382853,
          0.26387352867197755,
          0.6591707741128499,
          0.11151271846514099,
          0.5728292612954018,
          0.39960023707249803,
          0.19726957480631668,
          0.4510853915713202,
          0.4639474977565783,
          0,
          0.35186108904024316,
          0.1941516589414256,
          0.5662462128560026,
          0.6689243951379886,
          0.37055687189192277,
          0.47546678782078367,
          0.23136852031857202,
          0.41415537339640984,
          0.15766840351007616,
          1,
          0.37290672603875485,
          0.372983347242803,
          0.30716351471177106,
          0.2287755339890314,
          0.527137523445294,
          0.09170764276368715,
          0.48142455890958935
         ]
        },
        {
         "hovertemplate": "<b>%{text}</b><br>Normalized: %{y:.2f}<br><extra></extra>",
         "marker": {
          "color": "#ff4d4d",
          "line": {
           "color": "white",
           "width": 1
          },
          "opacity": 0.8,
          "size": 16,
          "symbol": "diamond"
         },
         "mode": "markers+text",
         "name": "Heat with LeBron, Ray, Chris On | Dwyane Off",
         "showlegend": false,
         "text": [
          "🏀"
         ],
         "textfont": {
          "color": "#ffffff",
          "size": 14
         },
         "textposition": "middle right",
         "type": "scatter",
         "x": [
          "DREB%"
         ],
         "y": [
          0.35808941573207953
         ]
        },
        {
         "customdata": [
          [
           "ATL",
           26.565295365963387
          ],
          [
           "BOS",
           27.27509097289243
          ],
          [
           "CLE",
           31.076665060680476
          ],
          [
           "NOP",
           30.515379527569102
          ],
          [
           "CHI",
           31.570342666903926
          ],
          [
           "DAL",
           27.099559033834332
          ],
          [
           "DEN",
           31.45809065982003
          ],
          [
           "GSW",
           27.88482702060292
          ],
          [
           "HOU",
           29.84857795880689
          ],
          [
           "LAC",
           30.647668255350744
          ],
          [
           "LAL",
           28.824551753750953
          ],
          [
           "MIA",
           27.717599133366882
          ],
          [
           "MIL",
           31.133881487250576
          ],
          [
           "MIN",
           30.615625138249055
          ],
          [
           "BKN",
           30.35556183490154
          ],
          [
           "NYK",
           28.483746943576705
          ],
          [
           "ORL",
           28.120865853552974
          ],
          [
           "IND",
           30.43937215884503
          ],
          [
           "PHI",
           28.638366237019895
          ],
          [
           "PHX",
           29.911952727562962
          ],
          [
           "POR",
           29.67222144285109
          ],
          [
           "SAC",
           30.88305470723689
          ],
          [
           "SAS",
           26.117944514924968
          ],
          [
           "OKC",
           29.616901095836067
          ],
          [
           "TOR",
           29.39290829751738
          ],
          [
           "UTA",
           30.699372334250324
          ],
          [
           "MEM",
           31.79881781831994
          ],
          [
           "WAS",
           28.486426850530826
          ],
          [
           "DET",
           31.978094092141763
          ],
          [
           "CHA",
           28.452171573903982
          ]
         ],
         "hovertemplate": "<b>%{customdata}</b><br>OREB%: %{customdata2:.1f}<br><extra></extra>",
         "marker": {
          "color": "#00ffff",
          "line": {
           "color": "white",
           "width": 1
          },
          "opacity": 0.8,
          "size": 16,
          "symbol": "circle"
         },
         "mode": "markers+text",
         "name": "Season Averages for each NBA Team",
         "showlegend": false,
         "text": [
          "🦅",
          "🍀",
          "🛡️",
          "🦚",
          "🐂",
          "🐴",
          "⛏️",
          "⚡",
          "🚀",
          "🚤",
          "💜💛",
          "🔥",
          "🦌",
          "🐺",
          "🖤",
          "🗽",
          "🔮",
          "🏎️",
          "🔔",
          "🌞",
          "🌊",
          "👑",
          "🐍",
          "⚡",
          "🦖",
          "🎷",
          "🐻",
          "🦅",
          "🐴",
          "🐝"
         ],
         "textfont": {
          "color": "#00ffff",
          "size": 12
         },
         "textposition": "middle center",
         "type": "scatter",
         "x": [
          "OREB%",
          "OREB%",
          "OREB%",
          "OREB%",
          "OREB%",
          "OREB%",
          "OREB%",
          "OREB%",
          "OREB%",
          "OREB%",
          "OREB%",
          "OREB%",
          "OREB%",
          "OREB%",
          "OREB%",
          "OREB%",
          "OREB%",
          "OREB%",
          "OREB%",
          "OREB%",
          "OREB%",
          "OREB%",
          "OREB%",
          "OREB%",
          "OREB%",
          "OREB%",
          "OREB%",
          "OREB%",
          "OREB%",
          "OREB%"
         ],
         "y": [
          0.196098234265218,
          0.3015161466219771,
          0.8661209428365426,
          0.7827595518120889,
          0.9394412932547738,
          0.27544637331428135,
          0.9227697724266326,
          0.392073344512224,
          0.6837270575997776,
          0.8024069001119862,
          0.5316400290498775,
          0.3672368780870139,
          0.8746186514482233,
          0.7976478983975666,
          0.7590236377627182,
          0.4810241457463018,
          0.4271295223214615,
          0.7714710371236295,
          0.503988000362674,
          0.693139395113759,
          0.6575348192130015,
          0.837366187141475,
          0.12965827275077046,
          0.6493187138493655,
          0.6160515973003262,
          0.8100859220793168,
          0.9733741230054065,
          0.481422162011345,
          1,
          0.4763346132663919
         ]
        },
        {
         "hovertemplate": "<b>%{text}</b><br>Normalized: %{y:.2f}<br><extra></extra>",
         "marker": {
          "color": "#ff4d4d",
          "line": {
           "color": "white",
           "width": 1
          },
          "opacity": 0.8,
          "size": 16,
          "symbol": "diamond"
         },
         "mode": "markers+text",
         "name": "Heat with LeBron, Ray, Chris On | Dwyane Off",
         "showlegend": false,
         "text": [
          "🏀"
         ],
         "textfont": {
          "color": "#ffffff",
          "size": 14
         },
         "textposition": "middle right",
         "type": "scatter",
         "x": [
          "OREB%"
         ],
         "y": [
          0
         ]
        }
       ],
       "layout": {
        "height": 1000,
        "hovermode": "closest",
        "legend": {
         "bgcolor": "rgba(0, 0, 0, 0)",
         "bordercolor": "rgba(255,255,255,0.2)",
         "borderwidth": 1,
         "font": {
          "color": "#ffffff",
          "size": 20
         },
         "orientation": "h",
         "x": 0.5,
         "xanchor": "center",
         "y": 1.02,
         "yanchor": "bottom"
        },
        "margin": {
         "b": 80,
         "t": 100
        },
        "paper_bgcolor": "#1a1a1a",
        "plot_bgcolor": "#1a1a1a",
        "shapes": [
         {
          "layer": "below",
          "line": {
           "color": "rgba(255,255,255,0.2)",
           "width": 1
          },
          "type": "rect",
          "x0": 0,
          "x1": 1,
          "xref": "paper",
          "y0": 0,
          "y1": 1,
          "yref": "paper"
         }
        ],
        "showlegend": true,
        "template": {
         "data": {
          "bar": [
           {
            "error_x": {
             "color": "#2a3f5f"
            },
            "error_y": {
             "color": "#2a3f5f"
            },
            "marker": {
             "line": {
              "color": "#E5ECF6",
              "width": 0.5
             },
             "pattern": {
              "fillmode": "overlay",
              "size": 10,
              "solidity": 0.2
             }
            },
            "type": "bar"
           }
          ],
          "barpolar": [
           {
            "marker": {
             "line": {
              "color": "#E5ECF6",
              "width": 0.5
             },
             "pattern": {
              "fillmode": "overlay",
              "size": 10,
              "solidity": 0.2
             }
            },
            "type": "barpolar"
           }
          ],
          "carpet": [
           {
            "aaxis": {
             "endlinecolor": "#2a3f5f",
             "gridcolor": "white",
             "linecolor": "white",
             "minorgridcolor": "white",
             "startlinecolor": "#2a3f5f"
            },
            "baxis": {
             "endlinecolor": "#2a3f5f",
             "gridcolor": "white",
             "linecolor": "white",
             "minorgridcolor": "white",
             "startlinecolor": "#2a3f5f"
            },
            "type": "carpet"
           }
          ],
          "choropleth": [
           {
            "colorbar": {
             "outlinewidth": 0,
             "ticks": ""
            },
            "type": "choropleth"
           }
          ],
          "contour": [
           {
            "colorbar": {
             "outlinewidth": 0,
             "ticks": ""
            },
            "colorscale": [
             [
              0,
              "#0d0887"
             ],
             [
              0.1111111111111111,
              "#46039f"
             ],
             [
              0.2222222222222222,
              "#7201a8"
             ],
             [
              0.3333333333333333,
              "#9c179e"
             ],
             [
              0.4444444444444444,
              "#bd3786"
             ],
             [
              0.5555555555555556,
              "#d8576b"
             ],
             [
              0.6666666666666666,
              "#ed7953"
             ],
             [
              0.7777777777777778,
              "#fb9f3a"
             ],
             [
              0.8888888888888888,
              "#fdca26"
             ],
             [
              1,
              "#f0f921"
             ]
            ],
            "type": "contour"
           }
          ],
          "contourcarpet": [
           {
            "colorbar": {
             "outlinewidth": 0,
             "ticks": ""
            },
            "type": "contourcarpet"
           }
          ],
          "heatmap": [
           {
            "colorbar": {
             "outlinewidth": 0,
             "ticks": ""
            },
            "colorscale": [
             [
              0,
              "#0d0887"
             ],
             [
              0.1111111111111111,
              "#46039f"
             ],
             [
              0.2222222222222222,
              "#7201a8"
             ],
             [
              0.3333333333333333,
              "#9c179e"
             ],
             [
              0.4444444444444444,
              "#bd3786"
             ],
             [
              0.5555555555555556,
              "#d8576b"
             ],
             [
              0.6666666666666666,
              "#ed7953"
             ],
             [
              0.7777777777777778,
              "#fb9f3a"
             ],
             [
              0.8888888888888888,
              "#fdca26"
             ],
             [
              1,
              "#f0f921"
             ]
            ],
            "type": "heatmap"
           }
          ],
          "heatmapgl": [
           {
            "colorbar": {
             "outlinewidth": 0,
             "ticks": ""
            },
            "colorscale": [
             [
              0,
              "#0d0887"
             ],
             [
              0.1111111111111111,
              "#46039f"
             ],
             [
              0.2222222222222222,
              "#7201a8"
             ],
             [
              0.3333333333333333,
              "#9c179e"
             ],
             [
              0.4444444444444444,
              "#bd3786"
             ],
             [
              0.5555555555555556,
              "#d8576b"
             ],
             [
              0.6666666666666666,
              "#ed7953"
             ],
             [
              0.7777777777777778,
              "#fb9f3a"
             ],
             [
              0.8888888888888888,
              "#fdca26"
             ],
             [
              1,
              "#f0f921"
             ]
            ],
            "type": "heatmapgl"
           }
          ],
          "histogram": [
           {
            "marker": {
             "pattern": {
              "fillmode": "overlay",
              "size": 10,
              "solidity": 0.2
             }
            },
            "type": "histogram"
           }
          ],
          "histogram2d": [
           {
            "colorbar": {
             "outlinewidth": 0,
             "ticks": ""
            },
            "colorscale": [
             [
              0,
              "#0d0887"
             ],
             [
              0.1111111111111111,
              "#46039f"
             ],
             [
              0.2222222222222222,
              "#7201a8"
             ],
             [
              0.3333333333333333,
              "#9c179e"
             ],
             [
              0.4444444444444444,
              "#bd3786"
             ],
             [
              0.5555555555555556,
              "#d8576b"
             ],
             [
              0.6666666666666666,
              "#ed7953"
             ],
             [
              0.7777777777777778,
              "#fb9f3a"
             ],
             [
              0.8888888888888888,
              "#fdca26"
             ],
             [
              1,
              "#f0f921"
             ]
            ],
            "type": "histogram2d"
           }
          ],
          "histogram2dcontour": [
           {
            "colorbar": {
             "outlinewidth": 0,
             "ticks": ""
            },
            "colorscale": [
             [
              0,
              "#0d0887"
             ],
             [
              0.1111111111111111,
              "#46039f"
             ],
             [
              0.2222222222222222,
              "#7201a8"
             ],
             [
              0.3333333333333333,
              "#9c179e"
             ],
             [
              0.4444444444444444,
              "#bd3786"
             ],
             [
              0.5555555555555556,
              "#d8576b"
             ],
             [
              0.6666666666666666,
              "#ed7953"
             ],
             [
              0.7777777777777778,
              "#fb9f3a"
             ],
             [
              0.8888888888888888,
              "#fdca26"
             ],
             [
              1,
              "#f0f921"
             ]
            ],
            "type": "histogram2dcontour"
           }
          ],
          "mesh3d": [
           {
            "colorbar": {
             "outlinewidth": 0,
             "ticks": ""
            },
            "type": "mesh3d"
           }
          ],
          "parcoords": [
           {
            "line": {
             "colorbar": {
              "outlinewidth": 0,
              "ticks": ""
             }
            },
            "type": "parcoords"
           }
          ],
          "pie": [
           {
            "automargin": true,
            "type": "pie"
           }
          ],
          "scatter": [
           {
            "fillpattern": {
             "fillmode": "overlay",
             "size": 10,
             "solidity": 0.2
            },
            "type": "scatter"
           }
          ],
          "scatter3d": [
           {
            "line": {
             "colorbar": {
              "outlinewidth": 0,
              "ticks": ""
             }
            },
            "marker": {
             "colorbar": {
              "outlinewidth": 0,
              "ticks": ""
             }
            },
            "type": "scatter3d"
           }
          ],
          "scattercarpet": [
           {
            "marker": {
             "colorbar": {
              "outlinewidth": 0,
              "ticks": ""
             }
            },
            "type": "scattercarpet"
           }
          ],
          "scattergeo": [
           {
            "marker": {
             "colorbar": {
              "outlinewidth": 0,
              "ticks": ""
             }
            },
            "type": "scattergeo"
           }
          ],
          "scattergl": [
           {
            "marker": {
             "colorbar": {
              "outlinewidth": 0,
              "ticks": ""
             }
            },
            "type": "scattergl"
           }
          ],
          "scattermapbox": [
           {
            "marker": {
             "colorbar": {
              "outlinewidth": 0,
              "ticks": ""
             }
            },
            "type": "scattermapbox"
           }
          ],
          "scatterpolar": [
           {
            "marker": {
             "colorbar": {
              "outlinewidth": 0,
              "ticks": ""
             }
            },
            "type": "scatterpolar"
           }
          ],
          "scatterpolargl": [
           {
            "marker": {
             "colorbar": {
              "outlinewidth": 0,
              "ticks": ""
             }
            },
            "type": "scatterpolargl"
           }
          ],
          "scatterternary": [
           {
            "marker": {
             "colorbar": {
              "outlinewidth": 0,
              "ticks": ""
             }
            },
            "type": "scatterternary"
           }
          ],
          "surface": [
           {
            "colorbar": {
             "outlinewidth": 0,
             "ticks": ""
            },
            "colorscale": [
             [
              0,
              "#0d0887"
             ],
             [
              0.1111111111111111,
              "#46039f"
             ],
             [
              0.2222222222222222,
              "#7201a8"
             ],
             [
              0.3333333333333333,
              "#9c179e"
             ],
             [
              0.4444444444444444,
              "#bd3786"
             ],
             [
              0.5555555555555556,
              "#d8576b"
             ],
             [
              0.6666666666666666,
              "#ed7953"
             ],
             [
              0.7777777777777778,
              "#fb9f3a"
             ],
             [
              0.8888888888888888,
              "#fdca26"
             ],
             [
              1,
              "#f0f921"
             ]
            ],
            "type": "surface"
           }
          ],
          "table": [
           {
            "cells": {
             "fill": {
              "color": "#EBF0F8"
             },
             "line": {
              "color": "white"
             }
            },
            "header": {
             "fill": {
              "color": "#C8D4E3"
             },
             "line": {
              "color": "white"
             }
            },
            "type": "table"
           }
          ]
         },
         "layout": {
          "annotationdefaults": {
           "arrowcolor": "#2a3f5f",
           "arrowhead": 0,
           "arrowwidth": 1
          },
          "autotypenumbers": "strict",
          "coloraxis": {
           "colorbar": {
            "outlinewidth": 0,
            "ticks": ""
           }
          },
          "colorscale": {
           "diverging": [
            [
             0,
             "#8e0152"
            ],
            [
             0.1,
             "#c51b7d"
            ],
            [
             0.2,
             "#de77ae"
            ],
            [
             0.3,
             "#f1b6da"
            ],
            [
             0.4,
             "#fde0ef"
            ],
            [
             0.5,
             "#f7f7f7"
            ],
            [
             0.6,
             "#e6f5d0"
            ],
            [
             0.7,
             "#b8e186"
            ],
            [
             0.8,
             "#7fbc41"
            ],
            [
             0.9,
             "#4d9221"
            ],
            [
             1,
             "#276419"
            ]
           ],
           "sequential": [
            [
             0,
             "#0d0887"
            ],
            [
             0.1111111111111111,
             "#46039f"
            ],
            [
             0.2222222222222222,
             "#7201a8"
            ],
            [
             0.3333333333333333,
             "#9c179e"
            ],
            [
             0.4444444444444444,
             "#bd3786"
            ],
            [
             0.5555555555555556,
             "#d8576b"
            ],
            [
             0.6666666666666666,
             "#ed7953"
            ],
            [
             0.7777777777777778,
             "#fb9f3a"
            ],
            [
             0.8888888888888888,
             "#fdca26"
            ],
            [
             1,
             "#f0f921"
            ]
           ],
           "sequentialminus": [
            [
             0,
             "#0d0887"
            ],
            [
             0.1111111111111111,
             "#46039f"
            ],
            [
             0.2222222222222222,
             "#7201a8"
            ],
            [
             0.3333333333333333,
             "#9c179e"
            ],
            [
             0.4444444444444444,
             "#bd3786"
            ],
            [
             0.5555555555555556,
             "#d8576b"
            ],
            [
             0.6666666666666666,
             "#ed7953"
            ],
            [
             0.7777777777777778,
             "#fb9f3a"
            ],
            [
             0.8888888888888888,
             "#fdca26"
            ],
            [
             1,
             "#f0f921"
            ]
           ]
          },
          "colorway": [
           "#636efa",
           "#EF553B",
           "#00cc96",
           "#ab63fa",
           "#FFA15A",
           "#19d3f3",
           "#FF6692",
           "#B6E880",
           "#FF97FF",
           "#FECB52"
          ],
          "font": {
           "color": "#2a3f5f"
          },
          "geo": {
           "bgcolor": "white",
           "lakecolor": "white",
           "landcolor": "#E5ECF6",
           "showlakes": true,
           "showland": true,
           "subunitcolor": "white"
          },
          "hoverlabel": {
           "align": "left"
          },
          "hovermode": "closest",
          "mapbox": {
           "style": "light"
          },
          "paper_bgcolor": "white",
          "plot_bgcolor": "#E5ECF6",
          "polar": {
           "angularaxis": {
            "gridcolor": "white",
            "linecolor": "white",
            "ticks": ""
           },
           "bgcolor": "#E5ECF6",
           "radialaxis": {
            "gridcolor": "white",
            "linecolor": "white",
            "ticks": ""
           }
          },
          "scene": {
           "xaxis": {
            "backgroundcolor": "#E5ECF6",
            "gridcolor": "white",
            "gridwidth": 2,
            "linecolor": "white",
            "showbackground": true,
            "ticks": "",
            "zerolinecolor": "white"
           },
           "yaxis": {
            "backgroundcolor": "#E5ECF6",
            "gridcolor": "white",
            "gridwidth": 2,
            "linecolor": "white",
            "showbackground": true,
            "ticks": "",
            "zerolinecolor": "white"
           },
           "zaxis": {
            "backgroundcolor": "#E5ECF6",
            "gridcolor": "white",
            "gridwidth": 2,
            "linecolor": "white",
            "showbackground": true,
            "ticks": "",
            "zerolinecolor": "white"
           }
          },
          "shapedefaults": {
           "line": {
            "color": "#2a3f5f"
           }
          },
          "ternary": {
           "aaxis": {
            "gridcolor": "white",
            "linecolor": "white",
            "ticks": ""
           },
           "baxis": {
            "gridcolor": "white",
            "linecolor": "white",
            "ticks": ""
           },
           "bgcolor": "#E5ECF6",
           "caxis": {
            "gridcolor": "white",
            "linecolor": "white",
            "ticks": ""
           }
          },
          "title": {
           "x": 0.05
          },
          "xaxis": {
           "automargin": true,
           "gridcolor": "white",
           "linecolor": "white",
           "ticks": "",
           "title": {
            "standoff": 15
           },
           "zerolinecolor": "white",
           "zerolinewidth": 2
          },
          "yaxis": {
           "automargin": true,
           "gridcolor": "white",
           "linecolor": "white",
           "ticks": "",
           "title": {
            "standoff": 15
           },
           "zerolinecolor": "white",
           "zerolinewidth": 2
          }
         }
        },
        "title": {
         "font": {
          "color": "#ffffff",
          "size": 24
         },
         "text": "Miami Heat 2011-2014 RS ",
         "x": 0.5,
         "y": 0.99
        },
        "width": 1350,
        "xaxis": {
         "autorange": true,
         "categoryarray": [
          "Points",
          "Opp Points",
          "FTA",
          "3P%",
          "Rim Freq",
          "EFG%",
          "Rim%",
          "TOV%",
          "DREB%",
          "OREB%"
         ],
         "categoryorder": "array",
         "gridcolor": "rgba(255, 255, 255, 0.1)",
         "range": [
          -0.5951474785918173,
          9.595147478591818
         ],
         "tickangle": -45,
         "tickfont": {
          "color": "#ffffff",
          "size": 14
         },
         "type": "category"
        },
        "yaxis": {
         "dtick": 0.2,
         "gridcolor": "rgba(255, 255, 255, 0.1)",
         "range": [
          -0.1,
          1.1
         ],
         "showticklabels": false,
         "tick0": 0,
         "tickfont": {
          "color": "#ffffff"
         },
         "tickformat": ".2f",
         "tickmode": "linear",
         "title": {
          "font": {
           "color": "#ffffff",
           "size": 16
          },
          "text": "Normalized Value"
         },
         "type": "linear",
         "zeroline": true,
         "zerolinecolor": "rgba(255, 255, 255, 0.1)"
        }
       }
      },
      "image/png": "[encoded data removed]",
      "text/html": [
       "<div>                            <div id=\"4f50c4ec-e229-4835-a004-919a9d939591\" class=\"plotly-graph-div\" style=\"height:1000px; width:1350px;\"></div>            <script type=\"text/javascript\">                require([\"plotly\"], function(Plotly) {                    window.PLOTLYENV=window.PLOTLYENV || {};                                    if (document.getElementById(\"4f50c4ec-e229-4835-a004-919a9d939591\")) {                    Plotly.newPlot(                        \"4f50c4ec-e229-4835-a004-919a9d939591\",                        [{\"customdata\":[[\"ATL\",105.16314035495621],[\"BOS\",102.8532864586603],[\"CLE\",105.29191383078364],[\"NOP\",106.25240724098087],[\"CHI\",103.31357715350391],[\"DAL\",106.64853987126902],[\"DEN\",108.02851782363977],[\"GSW\",106.01038004352921],[\"HOU\",107.83272837265578],[\"LAC\",109.00459802583055],[\"LAL\",106.61817296425365],[\"MIA\",108.22106044572205],[\"MIL\",105.0287245675913],[\"MIN\",105.59733300858552],[\"BKN\",106.59351175476091],[\"NYK\",107.30629060370781],[\"ORL\",104.28374310085299],[\"IND\",103.73366818196268],[\"PHI\",103.00328556664456],[\"PHX\",106.17788498471278],[\"POR\",107.85175294227246],[\"SAC\",107.00168272908061],[\"SAS\",107.27414520765797],[\"OKC\",108.19614550563513],[\"TOR\",105.74605383861069],[\"UTA\",106.45597059470327],[\"MEM\",104.2414303170622],[\"WAS\",103.23225126997893],[\"DET\",105.42633223916697],[\"CHA\",103.40817900020456]],\"hovertemplate\":\"\\u003cb\\u003e%{customdata}\\u003c\\u002fb\\u003e\\u003cbr\\u003ePoints: %{customdata2:.1f}\\u003cbr\\u003e\\u003cextra\\u003e\\u003c\\u002fextra\\u003e\",\"marker\":{\"color\":\"#00ffff\",\"line\":{\"color\":\"white\",\"width\":1},\"opacity\":0.8,\"size\":16,\"symbol\":\"circle\"},\"mode\":\"markers+text\",\"name\":\"Season Averages for each NBA Team\",\"showlegend\":true,\"text\":[\"\\ud83e\\udd85\",\"\\ud83c\\udf40\",\"\\ud83d\\udee1\\ufe0f\",\"\\ud83e\\udd9a\",\"\\ud83d\\udc02\",\"\\ud83d\\udc34\",\"\\u26cf\\ufe0f\",\"\\u26a1\",\"\\ud83d\\ude80\",\"\\ud83d\\udea4\",\"\\ud83d\\udc9c\\ud83d\\udc9b\",\"\\ud83d\\udd25\",\"\\ud83e\\udd8c\",\"\\ud83d\\udc3a\",\"\\ud83d\\udda4\",\"\\ud83d\\uddfd\",\"\\ud83d\\udd2e\",\"\\ud83c\\udfce\\ufe0f\",\"\\ud83d\\udd14\",\"\\ud83c\\udf1e\",\"\\ud83c\\udf0a\",\"\\ud83d\\udc51\",\"\\ud83d\\udc0d\",\"\\u26a1\",\"\\ud83e\\udd96\",\"\\ud83c\\udfb7\",\"\\ud83d\\udc3b\",\"\\ud83e\\udd85\",\"\\ud83d\\udc34\",\"\\ud83d\\udc1d\"],\"textfont\":{\"color\":\"#00ffff\",\"size\":12},\"textposition\":\"middle center\",\"x\":[\"Points\",\"Points\",\"Points\",\"Points\",\"Points\",\"Points\",\"Points\",\"Points\",\"Points\",\"Points\",\"Points\",\"Points\",\"Points\",\"Points\",\"Points\",\"Points\",\"Points\",\"Points\",\"Points\",\"Points\",\"Points\",\"Points\",\"Points\",\"Points\",\"Points\",\"Points\",\"Points\",\"Points\",\"Points\",\"Points\"],\"y\":[0.15298307002081923,0.0,0.16151181796497394,0.22512589799937377,0.03048534096122335,0.25136201016823545,0.34275881411902365,0.2090962851506708,0.329791556173725,0.4074052171478657,0.2493507909003423,0.3555110325529425,0.14408062825022672,0.1817399213693891,0.24771746355237667,0.294925253072166,0.09474003918829421,0.058308232844075825,0.009934534853747401,0.22019024229965378,0.3310515653329409,0.2747508827850611,0.2927962433618001,0.3538609004688338,0.1915897950734271,0.2386080263911845,0.09193763702085711,0.025099076767735262,0.1704144333272568,0.036750880509465844],\"type\":\"scatter\"},{\"hovertemplate\":\"\\u003cb\\u003e%{text}\\u003c\\u002fb\\u003e\\u003cbr\\u003eNormalized: %{y:.2f}\\u003cbr\\u003e\\u003cextra\\u003e\\u003c\\u002fextra\\u003e\",\"marker\":{\"color\":\"#ff4d4d\",\"line\":{\"color\":\"white\",\"width\":1},\"opacity\":0.8,\"size\":16,\"symbol\":\"diamond\"},\"mode\":\"markers+text\",\"name\":\"Heat with LeBron, Ray, Chris On | Dwyane Off\",\"showlegend\":true,\"text\":[\"\\ud83c\\udfc0\"],\"textfont\":{\"color\":\"#ffffff\",\"size\":14},\"textposition\":\"middle right\",\"x\":[\"Points\"],\"y\":[1.0],\"type\":\"scatter\"},{\"customdata\":[[\"ATL\",104.78160492105549],[\"BOS\",103.26998586461441],[\"CLE\",107.00755211584072],[\"NOP\",107.46022071089439],[\"CHI\",102.13080270404804],[\"DAL\",106.34401167703771],[\"DEN\",107.37033257293793],[\"GSW\",105.63240956337792],[\"HOU\",106.86670600874605],[\"LAC\",107.10235750522232],[\"LAL\",107.08971686774483],[\"MIA\",105.99089989888776],[\"MIL\",106.23209389729213],[\"MIN\",105.75907465185298],[\"BKN\",107.09923298942769],[\"NYK\",106.59267480577137],[\"ORL\",105.76681923631575],[\"IND\",102.27893967325663],[\"PHI\",104.28379774553193],[\"PHX\",106.65704104202507],[\"POR\",107.88341127666517],[\"SAC\",108.4667002950123],[\"SAS\",104.85867752153887],[\"OKC\",105.69826255711251],[\"TOR\",105.84979362041972],[\"UTA\",107.30765002434313],[\"MEM\",103.22870964112948],[\"WAS\",103.9100260255298],[\"DET\",106.90402525403232],[\"CHA\",106.01538050230393]],\"hovertemplate\":\"\\u003cb\\u003e%{customdata}\\u003c\\u002fb\\u003e\\u003cbr\\u003eOpp Points: %{customdata2:.1f}\\u003cbr\\u003e\\u003cextra\\u003e\\u003c\\u002fextra\\u003e\",\"marker\":{\"color\":\"#00ffff\",\"line\":{\"color\":\"white\",\"width\":1},\"opacity\":0.8,\"size\":16,\"symbol\":\"circle\"},\"mode\":\"markers+text\",\"name\":\"Season Averages for each NBA Team\",\"showlegend\":false,\"text\":[\"\\ud83e\\udd85\",\"\\ud83c\\udf40\",\"\\ud83d\\udee1\\ufe0f\",\"\\ud83e\\udd9a\",\"\\ud83d\\udc02\",\"\\ud83d\\udc34\",\"\\u26cf\\ufe0f\",\"\\u26a1\",\"\\ud83d\\ude80\",\"\\ud83d\\udea4\",\"\\ud83d\\udc9c\\ud83d\\udc9b\",\"\\ud83d\\udd25\",\"\\ud83e\\udd8c\",\"\\ud83d\\udc3a\",\"\\ud83d\\udda4\",\"\\ud83d\\uddfd\",\"\\ud83d\\udd2e\",\"\\ud83c\\udfce\\ufe0f\",\"\\ud83d\\udd14\",\"\\ud83c\\udf1e\",\"\\ud83c\\udf0a\",\"\\ud83d\\udc51\",\"\\ud83d\\udc0d\",\"\\u26a1\",\"\\ud83e\\udd96\",\"\\ud83c\\udfb7\",\"\\ud83d\\udc3b\",\"\\ud83e\\udd85\",\"\\ud83d\\udc34\",\"\\ud83d\\udc1d\"],\"textfont\":{\"color\":\"#00ffff\",\"size\":12},\"textposition\":\"middle center\",\"x\":[\"Opp Points\",\"Opp Points\",\"Opp Points\",\"Opp Points\",\"Opp Points\",\"Opp Points\",\"Opp Points\",\"Opp Points\",\"Opp Points\",\"Opp Points\",\"Opp Points\",\"Opp Points\",\"Opp Points\",\"Opp Points\",\"Opp Points\",\"Opp Points\",\"Opp Points\",\"Opp Points\",\"Opp Points\",\"Opp Points\",\"Opp Points\",\"Opp Points\",\"Opp Points\",\"Opp Points\",\"Opp Points\",\"Opp Points\",\"Opp Points\",\"Opp Points\",\"Opp Points\",\"Opp Points\"],\"y\":[0.4013612343792552,0.172485127926727,0.738394645634898,0.8069337561388004,0.0,0.6379271690838983,0.7933236822619989,0.5301826150417615,0.7170689627761995,0.7527492466171459,0.7508353120999836,0.5844620790659363,0.620981559962452,0.54936113237396,0.7522761598254881,0.6755775602193879,0.5505337494631526,0.022429601287223377,0.32598763571200173,0.6853233314690783,0.8710095618574059,0.9593260718186656,0.41303089191475806,0.5401534980760765,0.5630970033385871,0.7838328402381656,0.16623544400005308,0.2693943984068561,0.7227195157514856,0.5881687174346624],\"type\":\"scatter\"},{\"hovertemplate\":\"\\u003cb\\u003e%{text}\\u003c\\u002fb\\u003e\\u003cbr\\u003eNormalized: %{y:.2f}\\u003cbr\\u003e\\u003cextra\\u003e\\u003c\\u002fextra\\u003e\",\"marker\":{\"color\":\"#ff4d4d\",\"line\":{\"color\":\"white\",\"width\":1},\"opacity\":0.8,\"size\":16,\"symbol\":\"diamond\"},\"mode\":\"markers+text\",\"name\":\"Heat with LeBron, Ray, Chris On | Dwyane Off\",\"showlegend\":false,\"text\":[\"\\ud83c\\udfc0\"],\"textfont\":{\"color\":\"#ffffff\",\"size\":14},\"textposition\":\"middle right\",\"x\":[\"Opp Points\"],\"y\":[1.0],\"type\":\"scatter\"},{\"customdata\":[[\"ATL\",22.174688057041],[\"BOS\",23.303408876891204],[\"CLE\",24.847018420231034],[\"NOP\",24.645333162151754],[\"CHI\",23.85679178913892],[\"DAL\",23.08247691905925],[\"DEN\",26.26641651031895],[\"GSW\",23.00655982223034],[\"HOU\",25.677555958862673],[\"LAC\",27.145614613247965],[\"LAL\",24.61461202501788],[\"MIA\",24.892202233348602],[\"MIL\",23.56184638132056],[\"MIN\",25.423186993850088],[\"BKN\",25.31978691505311],[\"NYK\",24.60307399778165],[\"ORL\",22.194869543401907],[\"IND\",25.74784626633182],[\"PHI\",22.133613043545328],[\"PHX\",23.737459093213698],[\"POR\",23.275781759463403],[\"SAC\",25.78399877619703],[\"SAS\",21.634350724814972],[\"OKC\",26.50193946428026],[\"TOR\",26.259766551735044],[\"UTA\",25.649524048883166],[\"MEM\",23.792526850601323],[\"WAS\",23.3691611943997],[\"DET\",25.430729845612603],[\"CHA\",25.116044875930324]],\"hovertemplate\":\"\\u003cb\\u003e%{customdata}\\u003c\\u002fb\\u003e\\u003cbr\\u003eFTA: %{customdata2:.1f}\\u003cbr\\u003e\\u003cextra\\u003e\\u003c\\u002fextra\\u003e\",\"marker\":{\"color\":\"#00ffff\",\"line\":{\"color\":\"white\",\"width\":1},\"opacity\":0.8,\"size\":16,\"symbol\":\"circle\"},\"mode\":\"markers+text\",\"name\":\"Season Averages for each NBA Team\",\"showlegend\":false,\"text\":[\"\\ud83e\\udd85\",\"\\ud83c\\udf40\",\"\\ud83d\\udee1\\ufe0f\",\"\\ud83e\\udd9a\",\"\\ud83d\\udc02\",\"\\ud83d\\udc34\",\"\\u26cf\\ufe0f\",\"\\u26a1\",\"\\ud83d\\ude80\",\"\\ud83d\\udea4\",\"\\ud83d\\udc9c\\ud83d\\udc9b\",\"\\ud83d\\udd25\",\"\\ud83e\\udd8c\",\"\\ud83d\\udc3a\",\"\\ud83d\\udda4\",\"\\ud83d\\uddfd\",\"\\ud83d\\udd2e\",\"\\ud83c\\udfce\\ufe0f\",\"\\ud83d\\udd14\",\"\\ud83c\\udf1e\",\"\\ud83c\\udf0a\",\"\\ud83d\\udc51\",\"\\ud83d\\udc0d\",\"\\u26a1\",\"\\ud83e\\udd96\",\"\\ud83c\\udfb7\",\"\\ud83d\\udc3b\",\"\\ud83e\\udd85\",\"\\ud83d\\udc34\",\"\\ud83d\\udc1d\"],\"textfont\":{\"color\":\"#00ffff\",\"size\":12},\"textposition\":\"middle center\",\"x\":[\"FTA\",\"FTA\",\"FTA\",\"FTA\",\"FTA\",\"FTA\",\"FTA\",\"FTA\",\"FTA\",\"FTA\",\"FTA\",\"FTA\",\"FTA\",\"FTA\",\"FTA\",\"FTA\",\"FTA\",\"FTA\",\"FTA\",\"FTA\",\"FTA\",\"FTA\",\"FTA\",\"FTA\",\"FTA\",\"FTA\",\"FTA\",\"FTA\",\"FTA\",\"FTA\"],\"y\":[0.05947558831138,0.1837152637810231,0.35362224639682704,0.3314225043790384,0.24462679497544793,0.1593970140781802,0.5098571230584952,0.1510407267600522,0.4450405249031495,0.6066315291476134,0.328040991395095,0.358595683742434,0.21216179468115204,0.4170418230922741,0.4056604504735102,0.32677098668340765,0.06169698909701182,0.4527774646627858,0.05495441154484304,0.23149169978279005,0.18067431331477124,0.4567568154589048,0.0,0.5357814214777341,0.5091251540172395,0.44195501842767726,0.23755307491325617,0.19095270145823084,0.4178720739732804,0.38323431606101854],\"type\":\"scatter\"},{\"hovertemplate\":\"\\u003cb\\u003e%{text}\\u003c\\u002fb\\u003e\\u003cbr\\u003eNormalized: %{y:.2f}\\u003cbr\\u003e\\u003cextra\\u003e\\u003c\\u002fextra\\u003e\",\"marker\":{\"color\":\"#ff4d4d\",\"line\":{\"color\":\"white\",\"width\":1},\"opacity\":0.8,\"size\":16,\"symbol\":\"diamond\"},\"mode\":\"markers+text\",\"name\":\"Heat with LeBron, Ray, Chris On | Dwyane Off\",\"showlegend\":false,\"text\":[\"\\ud83c\\udfc0\"],\"textfont\":{\"color\":\"#ffffff\",\"size\":14},\"textposition\":\"middle right\",\"x\":[\"FTA\"],\"y\":[1.0],\"type\":\"scatter\"},{\"customdata\":[[\"ATL\",36.679992135788716],[\"BOS\",34.45653913878662],[\"CLE\",35.60160619532483],[\"NOP\",35.679063936481406],[\"CHI\",35.26435177106962],[\"DAL\",36.31448975505573],[\"DEN\",35.27208336171082],[\"GSW\",37.69246285214819],[\"HOU\",35.85258459496954],[\"LAC\",35.54344937549827],[\"LAL\",35.794892100574145],[\"MIA\",36.93047234220426],[\"MIL\",35.627948113207545],[\"MIN\",33.78709305675598],[\"BKN\",36.062338369402475],[\"NYK\",36.397102481890514],[\"ORL\",35.57513595374131],[\"IND\",35.10418323524734],[\"PHI\",34.50296848835439],[\"PHX\",35.412300354123005],[\"POR\",35.674194841641054],[\"SAC\",34.805383775918514],[\"SAS\",37.786832511258844],[\"OKC\",36.0188261351052],[\"TOR\",35.31958611579952],[\"UTA\",35.34274025214996],[\"MEM\",34.45228020686413],[\"WAS\",35.556901643068066],[\"DET\",34.75347056007659],[\"CHA\",34.7843742386096]],\"hovertemplate\":\"\\u003cb\\u003e%{customdata}\\u003c\\u002fb\\u003e\\u003cbr\\u003e3P%: %{customdata2:.1f}\\u003cbr\\u003e\\u003cextra\\u003e\\u003c\\u002fextra\\u003e\",\"marker\":{\"color\":\"#00ffff\",\"line\":{\"color\":\"white\",\"width\":1},\"opacity\":0.8,\"size\":16,\"symbol\":\"circle\"},\"mode\":\"markers+text\",\"name\":\"Season Averages for each NBA Team\",\"showlegend\":false,\"text\":[\"\\ud83e\\udd85\",\"\\ud83c\\udf40\",\"\\ud83d\\udee1\\ufe0f\",\"\\ud83e\\udd9a\",\"\\ud83d\\udc02\",\"\\ud83d\\udc34\",\"\\u26cf\\ufe0f\",\"\\u26a1\",\"\\ud83d\\ude80\",\"\\ud83d\\udea4\",\"\\ud83d\\udc9c\\ud83d\\udc9b\",\"\\ud83d\\udd25\",\"\\ud83e\\udd8c\",\"\\ud83d\\udc3a\",\"\\ud83d\\udda4\",\"\\ud83d\\uddfd\",\"\\ud83d\\udd2e\",\"\\ud83c\\udfce\\ufe0f\",\"\\ud83d\\udd14\",\"\\ud83c\\udf1e\",\"\\ud83c\\udf0a\",\"\\ud83d\\udc51\",\"\\ud83d\\udc0d\",\"\\u26a1\",\"\\ud83e\\udd96\",\"\\ud83c\\udfb7\",\"\\ud83d\\udc3b\",\"\\ud83e\\udd85\",\"\\ud83d\\udc34\",\"\\ud83d\\udc1d\"],\"textfont\":{\"color\":\"#00ffff\",\"size\":12},\"textposition\":\"middle center\",\"x\":[\"3P%\",\"3P%\",\"3P%\",\"3P%\",\"3P%\",\"3P%\",\"3P%\",\"3P%\",\"3P%\",\"3P%\",\"3P%\",\"3P%\",\"3P%\",\"3P%\",\"3P%\",\"3P%\",\"3P%\",\"3P%\",\"3P%\",\"3P%\",\"3P%\",\"3P%\",\"3P%\",\"3P%\",\"3P%\",\"3P%\",\"3P%\",\"3P%\",\"3P%\",\"3P%\"],\"y\":[0.50228246281831,0.11623323787667239,0.31504663770064045,0.32849531459173953,0.2564905048444901,0.43882175058983464,0.2578329099138239,0.6780736919801971,0.3586230104823329,0.3049491023583668,0.3486060941021254,0.5457723363080227,0.3196202792373901,0.0,0.3950417169526732,0.45316546696606697,0.31045071583446493,0.22868108445305513,0.12429457960026635,0.2821782238545083,0.32764991318598913,0.1768017329028293,0.6944587173469552,0.38748686225208306,0.2660806225586425,0.27010078237507873,0.11549377661080751,0.3072847656154849,0.167788249475465,0.17315393121535294],\"type\":\"scatter\"},{\"hovertemplate\":\"\\u003cb\\u003e%{text}\\u003c\\u002fb\\u003e\\u003cbr\\u003eNormalized: %{y:.2f}\\u003cbr\\u003e\\u003cextra\\u003e\\u003c\\u002fextra\\u003e\",\"marker\":{\"color\":\"#ff4d4d\",\"line\":{\"color\":\"white\",\"width\":1},\"opacity\":0.8,\"size\":16,\"symbol\":\"diamond\"},\"mode\":\"markers+text\",\"name\":\"Heat with LeBron, Ray, Chris On | Dwyane Off\",\"showlegend\":false,\"text\":[\"\\ud83c\\udfc0\"],\"textfont\":{\"color\":\"#ffffff\",\"size\":14},\"textposition\":\"middle right\",\"x\":[\"3P%\"],\"y\":[1.0],\"type\":\"scatter\"},{\"customdata\":[[\"ATL\",31.12852886934317],[\"BOS\",32.00137104921345],[\"CLE\",31.893705120813458],[\"NOP\",34.802889501960216],[\"CHI\",32.726883943049586],[\"DAL\",28.976727133055153],[\"DEN\",38.41607161160272],[\"GSW\",28.928318446467756],[\"HOU\",34.35348125478194],[\"LAC\",31.402106467821827],[\"LAL\",31.259141986887162],[\"MIA\",33.23710653416976],[\"MIL\",34.896128180055925],[\"MIN\",34.280737457530655],[\"BKN\",31.045531504305558],[\"NYK\",31.487484242751666],[\"ORL\",30.827306403245725],[\"IND\",30.221575809811103],[\"PHI\",32.48681988904586],[\"PHX\",31.16885374120101],[\"POR\",31.795961375688798],[\"SAC\",32.774690186060965],[\"SAS\",31.7420814479638],[\"OKC\",32.40663679988668],[\"TOR\",29.98915205207015],[\"UTA\",32.82579728169139],[\"MEM\",32.93999136566412],[\"WAS\",30.22143271716763],[\"DET\",37.00406288641583],[\"CHA\",33.50190755035046]],\"hovertemplate\":\"\\u003cb\\u003e%{customdata}\\u003c\\u002fb\\u003e\\u003cbr\\u003eRim Freq: %{customdata2:.1f}\\u003cbr\\u003e\\u003cextra\\u003e\\u003c\\u002fextra\\u003e\",\"marker\":{\"color\":\"#00ffff\",\"line\":{\"color\":\"white\",\"width\":1},\"opacity\":0.8,\"size\":16,\"symbol\":\"circle\"},\"mode\":\"markers+text\",\"name\":\"Season Averages for each NBA Team\",\"showlegend\":false,\"text\":[\"\\ud83e\\udd85\",\"\\ud83c\\udf40\",\"\\ud83d\\udee1\\ufe0f\",\"\\ud83e\\udd9a\",\"\\ud83d\\udc02\",\"\\ud83d\\udc34\",\"\\u26cf\\ufe0f\",\"\\u26a1\",\"\\ud83d\\ude80\",\"\\ud83d\\udea4\",\"\\ud83d\\udc9c\\ud83d\\udc9b\",\"\\ud83d\\udd25\",\"\\ud83e\\udd8c\",\"\\ud83d\\udc3a\",\"\\ud83d\\udda4\",\"\\ud83d\\uddfd\",\"\\ud83d\\udd2e\",\"\\ud83c\\udfce\\ufe0f\",\"\\ud83d\\udd14\",\"\\ud83c\\udf1e\",\"\\ud83c\\udf0a\",\"\\ud83d\\udc51\",\"\\ud83d\\udc0d\",\"\\u26a1\",\"\\ud83e\\udd96\",\"\\ud83c\\udfb7\",\"\\ud83d\\udc3b\",\"\\ud83e\\udd85\",\"\\ud83d\\udc34\",\"\\ud83d\\udc1d\"],\"textfont\":{\"color\":\"#00ffff\",\"size\":12},\"textposition\":\"middle center\",\"x\":[\"Rim Freq\",\"Rim Freq\",\"Rim Freq\",\"Rim Freq\",\"Rim Freq\",\"Rim Freq\",\"Rim Freq\",\"Rim Freq\",\"Rim Freq\",\"Rim Freq\",\"Rim Freq\",\"Rim Freq\",\"Rim Freq\",\"Rim Freq\",\"Rim Freq\",\"Rim Freq\",\"Rim Freq\",\"Rim Freq\",\"Rim Freq\",\"Rim Freq\",\"Rim Freq\",\"Rim Freq\",\"Rim Freq\",\"Rim Freq\",\"Rim Freq\",\"Rim Freq\",\"Rim Freq\",\"Rim Freq\",\"Rim Freq\",\"Rim Freq\"],\"y\":[0.2319000488925682,0.32389676978932913,0.3125488851504623,0.6191741029983779,0.400365126544457,0.005102228709457535,1.0000000000000004,0.0,0.5718069087474,0.2607348629646693,0.24566654505563879,0.45414209378208614,0.6290013694199303,0.5641397829289714,0.22315220695433036,0.2697335978014461,0.2001514925321053,0.13630807429684566,0.37506260762080945,0.23615025135420264,0.3022467890247067,0.4054038582841333,0.29656789679519635,0.366611387636099,0.11181083520392177,0.4107904966948195,0.4228264426121693,0.1362929924707288,0.851175647109407,0.48205186457521476],\"type\":\"scatter\"},{\"hovertemplate\":\"\\u003cb\\u003e%{text}\\u003c\\u002fb\\u003e\\u003cbr\\u003eNormalized: %{y:.2f}\\u003cbr\\u003e\\u003cextra\\u003e\\u003c\\u002fextra\\u003e\",\"marker\":{\"color\":\"#ff4d4d\",\"line\":{\"color\":\"white\",\"width\":1},\"opacity\":0.8,\"size\":16,\"symbol\":\"diamond\"},\"mode\":\"markers+text\",\"name\":\"Heat with LeBron, Ray, Chris On | Dwyane Off\",\"showlegend\":false,\"text\":[\"\\ud83c\\udfc0\"],\"textfont\":{\"color\":\"#ffffff\",\"size\":14},\"textposition\":\"middle right\",\"x\":[\"Rim Freq\"],\"y\":[0.5145941057763466],\"type\":\"scatter\"},{\"customdata\":[[\"ATL\",50.64991488154348],[\"BOS\",48.82107807764468],[\"CLE\",48.57784300365148],[\"NOP\",49.43462320313635],[\"CHI\",47.310180152889394],[\"DAL\",50.4364753740594],[\"DEN\",50.574840274693365],[\"GSW\",50.17881515523228],[\"HOU\",50.93030534882104],[\"LAC\",50.90928598251166],[\"LAL\",50.10239025313624],[\"MIA\",52.34645348729621],[\"MIL\",48.59588629852641],[\"MIN\",48.85138747563941],[\"BKN\",50.00364106391888],[\"NYK\",50.435800468215376],[\"ORL\",49.446110425119066],[\"IND\",47.50233426704015],[\"PHI\",48.42441680162641],[\"PHX\",49.90006083253672],[\"POR\",49.84108065156933],[\"SAC\",49.344126480030376],[\"SAS\",51.555864949530104],[\"OKC\",50.50378056770492],[\"TOR\",48.89983728078105],[\"UTA\",49.214710846584346],[\"MEM\",48.21557058569578],[\"WAS\",48.81369048665952],[\"DET\",48.97367956191486],[\"CHA\",47.734007630201404]],\"hovertemplate\":\"\\u003cb\\u003e%{customdata}\\u003c\\u002fb\\u003e\\u003cbr\\u003eEFG%: %{customdata2:.1f}\\u003cbr\\u003e\\u003cextra\\u003e\\u003c\\u002fextra\\u003e\",\"marker\":{\"color\":\"#00ffff\",\"line\":{\"color\":\"white\",\"width\":1},\"opacity\":0.8,\"size\":16,\"symbol\":\"circle\"},\"mode\":\"markers+text\",\"name\":\"Season Averages for each NBA Team\",\"showlegend\":false,\"text\":[\"\\ud83e\\udd85\",\"\\ud83c\\udf40\",\"\\ud83d\\udee1\\ufe0f\",\"\\ud83e\\udd9a\",\"\\ud83d\\udc02\",\"\\ud83d\\udc34\",\"\\u26cf\\ufe0f\",\"\\u26a1\",\"\\ud83d\\ude80\",\"\\ud83d\\udea4\",\"\\ud83d\\udc9c\\ud83d\\udc9b\",\"\\ud83d\\udd25\",\"\\ud83e\\udd8c\",\"\\ud83d\\udc3a\",\"\\ud83d\\udda4\",\"\\ud83d\\uddfd\",\"\\ud83d\\udd2e\",\"\\ud83c\\udfce\\ufe0f\",\"\\ud83d\\udd14\",\"\\ud83c\\udf1e\",\"\\ud83c\\udf0a\",\"\\ud83d\\udc51\",\"\\ud83d\\udc0d\",\"\\u26a1\",\"\\ud83e\\udd96\",\"\\ud83c\\udfb7\",\"\\ud83d\\udc3b\",\"\\ud83e\\udd85\",\"\\ud83d\\udc34\",\"\\ud83d\\udc1d\"],\"textfont\":{\"color\":\"#00ffff\",\"size\":12},\"textposition\":\"middle center\",\"x\":[\"EFG%\",\"EFG%\",\"EFG%\",\"EFG%\",\"EFG%\",\"EFG%\",\"EFG%\",\"EFG%\",\"EFG%\",\"EFG%\",\"EFG%\",\"EFG%\",\"EFG%\",\"EFG%\",\"EFG%\",\"EFG%\",\"EFG%\",\"EFG%\",\"EFG%\",\"EFG%\",\"EFG%\",\"EFG%\",\"EFG%\",\"EFG%\",\"EFG%\",\"EFG%\",\"EFG%\",\"EFG%\",\"EFG%\",\"EFG%\"],\"y\":[0.29603102041830276,0.133924605021984,0.11236447135689343,0.1883086817013826,0.0,0.27711193841577586,0.2893764761867912,0.2542731731551191,0.3208845740348769,0.3190214367013269,0.2474989399926013,0.44641064498280336,0.1139638124505753,0.13661120223572798,0.23874590251370087,0.2770521153813359,0.18932689851247897,0.017032364277789647,0.09876491365708429,0.2295646458922853,0.22433669679608048,0.18028713524270046,0.3763336027680664,0.2830778089932773,0.14090574848579163,0.16881585229965435,0.08025297680114107,0.13326977573898535,0.14745106049710355,0.03756767850857212],\"type\":\"scatter\"},{\"hovertemplate\":\"\\u003cb\\u003e%{text}\\u003c\\u002fb\\u003e\\u003cbr\\u003eNormalized: %{y:.2f}\\u003cbr\\u003e\\u003cextra\\u003e\\u003c\\u002fextra\\u003e\",\"marker\":{\"color\":\"#ff4d4d\",\"line\":{\"color\":\"white\",\"width\":1},\"opacity\":0.8,\"size\":16,\"symbol\":\"diamond\"},\"mode\":\"markers+text\",\"name\":\"Heat with LeBron, Ray, Chris On | Dwyane Off\",\"showlegend\":false,\"text\":[\"\\ud83c\\udfc0\"],\"textfont\":{\"color\":\"#ffffff\",\"size\":14},\"textposition\":\"middle right\",\"x\":[\"EFG%\"],\"y\":[1.0],\"type\":\"scatter\"},{\"customdata\":[[\"ATL\",61.98587216588811],[\"BOS\",59.563673262303396],[\"CLE\",58.53190906600931],[\"NOP\",59.05084745762712],[\"CHI\",57.878688881629095],[\"DAL\",62.23413869976502],[\"DEN\",61.18374244041267],[\"GSW\",60.92331581462016],[\"HOU\",62.26969022069245],[\"LAC\",64.49518820112749],[\"LAL\",62.24057252958987],[\"MIA\",63.971939201603476],[\"MIL\",57.737685576639464],[\"MIN\",60.93474870453288],[\"BKN\",59.70210520143083],[\"NYK\",60.78352873891907],[\"ORL\",60.42572671091783],[\"IND\",57.221793119838395],[\"PHI\",59.09524819686042],[\"PHX\",62.45469246640272],[\"POR\",59.825066550768724],[\"SAC\",62.35188793512033],[\"SAS\",62.32249575086354],[\"OKC\",61.65783290530572],[\"TOR\",61.041779706999456],[\"UTA\",62.22667243992206],[\"MEM\",59.29445172564438],[\"WAS\",61.79945294768084],[\"DET\",60.172808860034365],[\"CHA\",58.045550847457626]],\"hovertemplate\":\"\\u003cb\\u003e%{customdata}\\u003c\\u002fb\\u003e\\u003cbr\\u003eRim%: %{customdata2:.1f}\\u003cbr\\u003e\\u003cextra\\u003e\\u003c\\u002fextra\\u003e\",\"marker\":{\"color\":\"#00ffff\",\"line\":{\"color\":\"white\",\"width\":1},\"opacity\":0.8,\"size\":16,\"symbol\":\"circle\"},\"mode\":\"markers+text\",\"name\":\"Season Averages for each NBA Team\",\"showlegend\":false,\"text\":[\"\\ud83e\\udd85\",\"\\ud83c\\udf40\",\"\\ud83d\\udee1\\ufe0f\",\"\\ud83e\\udd9a\",\"\\ud83d\\udc02\",\"\\ud83d\\udc34\",\"\\u26cf\\ufe0f\",\"\\u26a1\",\"\\ud83d\\ude80\",\"\\ud83d\\udea4\",\"\\ud83d\\udc9c\\ud83d\\udc9b\",\"\\ud83d\\udd25\",\"\\ud83e\\udd8c\",\"\\ud83d\\udc3a\",\"\\ud83d\\udda4\",\"\\ud83d\\uddfd\",\"\\ud83d\\udd2e\",\"\\ud83c\\udfce\\ufe0f\",\"\\ud83d\\udd14\",\"\\ud83c\\udf1e\",\"\\ud83c\\udf0a\",\"\\ud83d\\udc51\",\"\\ud83d\\udc0d\",\"\\u26a1\",\"\\ud83e\\udd96\",\"\\ud83c\\udfb7\",\"\\ud83d\\udc3b\",\"\\ud83e\\udd85\",\"\\ud83d\\udc34\",\"\\ud83d\\udc1d\"],\"textfont\":{\"color\":\"#00ffff\",\"size\":12},\"textposition\":\"middle center\",\"x\":[\"Rim%\",\"Rim%\",\"Rim%\",\"Rim%\",\"Rim%\",\"Rim%\",\"Rim%\",\"Rim%\",\"Rim%\",\"Rim%\",\"Rim%\",\"Rim%\",\"Rim%\",\"Rim%\",\"Rim%\",\"Rim%\",\"Rim%\",\"Rim%\",\"Rim%\",\"Rim%\",\"Rim%\",\"Rim%\",\"Rim%\",\"Rim%\",\"Rim%\",\"Rim%\",\"Rim%\",\"Rim%\",\"Rim%\",\"Rim%\"],\"y\":[0.34429923943461205,0.16924730763363272,0.0946818722942524,0.13218546780986085,0.047473752846290296,0.3622414225857842,0.28632945099500073,0.267508459923655,0.3648107253823465,0.5256471125666442,0.3627063944500071,0.4878319900991821,0.037283466287978406,0.26833471307005397,0.17925176198762927,0.25740607006373395,0.23154777407027538,0.0,0.1353943022142845,0.3781808084300984,0.18813815926350852,0.37075114120820274,0.36862697269900746,0.3205918939368795,0.2760698266962063,0.36170183716738524,0.14979070974448216,0.33082675200853195,0.21326944097443423,0.05953284073505394],\"type\":\"scatter\"},{\"hovertemplate\":\"\\u003cb\\u003e%{text}\\u003c\\u002fb\\u003e\\u003cbr\\u003eNormalized: %{y:.2f}\\u003cbr\\u003e\\u003cextra\\u003e\\u003c\\u002fextra\\u003e\",\"marker\":{\"color\":\"#ff4d4d\",\"line\":{\"color\":\"white\",\"width\":1},\"opacity\":0.8,\"size\":16,\"symbol\":\"diamond\"},\"mode\":\"markers+text\",\"name\":\"Heat with LeBron, Ray, Chris On | Dwyane Off\",\"showlegend\":false,\"text\":[\"\\ud83c\\udfc0\"],\"textfont\":{\"color\":\"#ffffff\",\"size\":14},\"textposition\":\"middle right\",\"x\":[\"Rim%\"],\"y\":[1.0],\"type\":\"scatter\"},{\"customdata\":[[\"ATL\",14.083920209027523],[\"BOS\",14.237644514790707],[\"CLE\",13.433593659462376],[\"NOP\",13.7804945365901],[\"CHI\",13.536503709738943],[\"DAL\",13.349800302286244],[\"DEN\",13.86363931910688],[\"GSW\",13.563174173873302],[\"HOU\",14.00698125732508],[\"LAC\",13.567393199461494],[\"LAL\",13.186754684838162],[\"MIA\",14.651373732509896],[\"MIL\",13.522693601403976],[\"MIN\",13.554668024426983],[\"BKN\",14.053693883783557],[\"NYK\",13.54942921608498],[\"ORL\",13.509984026657062],[\"IND\",13.714800281740594],[\"PHI\",13.292633569006096],[\"PHX\",13.882790747483401],[\"POR\",12.915416177814654],[\"SAC\",13.43608191983385],[\"SAS\",13.36904215193152],[\"OKC\",14.15970486756425],[\"TOR\",13.573626363918944],[\"UTA\",13.495655549219482],[\"MEM\",13.88096923278316],[\"WAS\",14.086591880949017],[\"DET\",13.850763731679875],[\"CHA\",12.883622116339396]],\"hovertemplate\":\"\\u003cb\\u003e%{customdata}\\u003c\\u002fb\\u003e\\u003cbr\\u003eTOV%: %{customdata2:.1f}\\u003cbr\\u003e\\u003cextra\\u003e\\u003c\\u002fextra\\u003e\",\"marker\":{\"color\":\"#00ffff\",\"line\":{\"color\":\"white\",\"width\":1},\"opacity\":0.8,\"size\":16,\"symbol\":\"circle\"},\"mode\":\"markers+text\",\"name\":\"Season Averages for each NBA Team\",\"showlegend\":false,\"text\":[\"\\ud83e\\udd85\",\"\\ud83c\\udf40\",\"\\ud83d\\udee1\\ufe0f\",\"\\ud83e\\udd9a\",\"\\ud83d\\udc02\",\"\\ud83d\\udc34\",\"\\u26cf\\ufe0f\",\"\\u26a1\",\"\\ud83d\\ude80\",\"\\ud83d\\udea4\",\"\\ud83d\\udc9c\\ud83d\\udc9b\",\"\\ud83d\\udd25\",\"\\ud83e\\udd8c\",\"\\ud83d\\udc3a\",\"\\ud83d\\udda4\",\"\\ud83d\\uddfd\",\"\\ud83d\\udd2e\",\"\\ud83c\\udfce\\ufe0f\",\"\\ud83d\\udd14\",\"\\ud83c\\udf1e\",\"\\ud83c\\udf0a\",\"\\ud83d\\udc51\",\"\\ud83d\\udc0d\",\"\\u26a1\",\"\\ud83e\\udd96\",\"\\ud83c\\udfb7\",\"\\ud83d\\udc3b\",\"\\ud83e\\udd85\",\"\\ud83d\\udc34\",\"\\ud83d\\udc1d\"],\"textfont\":{\"color\":\"#00ffff\",\"size\":12},\"textposition\":\"middle center\",\"x\":[\"TOV%\",\"TOV%\",\"TOV%\",\"TOV%\",\"TOV%\",\"TOV%\",\"TOV%\",\"TOV%\",\"TOV%\",\"TOV%\",\"TOV%\",\"TOV%\",\"TOV%\",\"TOV%\",\"TOV%\",\"TOV%\",\"TOV%\",\"TOV%\",\"TOV%\",\"TOV%\",\"TOV%\",\"TOV%\",\"TOV%\",\"TOV%\",\"TOV%\",\"TOV%\",\"TOV%\",\"TOV%\",\"TOV%\",\"TOV%\"],\"y\":[0.6789970274717358,0.7659573811532097,0.31111358524134136,0.5073520578607127,0.3693288058273092,0.2637124931367536,0.5543862575504281,0.38441602955851195,0.6354734062804761,0.3868026915474463,0.17147916354642945,0.9999999999999991,0.3615165610477602,0.37960418304766197,0.661898287486169,0.3766406398133739,0.354326877479858,0.4701894529740489,0.23137382476433288,0.5652200354416959,0.01798559321593718,0.3125211700788899,0.27459742146563304,0.7218676761779728,0.39032873242357,0.34622139631015614,0.5641896221847773,0.6805083664500486,0.5471026622142814,0.0],\"type\":\"scatter\"},{\"hovertemplate\":\"\\u003cb\\u003e%{text}\\u003c\\u002fb\\u003e\\u003cbr\\u003eNormalized: %{y:.2f}\\u003cbr\\u003e\\u003cextra\\u003e\\u003c\\u002fextra\\u003e\",\"marker\":{\"color\":\"#ff4d4d\",\"line\":{\"color\":\"white\",\"width\":1},\"opacity\":0.8,\"size\":16,\"symbol\":\"diamond\"},\"mode\":\"markers+text\",\"name\":\"Heat with LeBron, Ray, Chris On | Dwyane Off\",\"showlegend\":false,\"text\":[\"\\ud83c\\udfc0\"],\"textfont\":{\"color\":\"#ffffff\",\"size\":14},\"textposition\":\"middle right\",\"x\":[\"TOV%\"],\"y\":[0.32761543257455994],\"type\":\"scatter\"},{\"customdata\":[[\"ATL\",72.30936930966745],[\"BOS\",71.48694932204893],[\"CLE\",69.59358906569678],[\"NOP\",69.89507741303215],[\"CHI\",69.86781116104281],[\"DAL\",71.78733922703427],[\"DEN\",69.12796069478661],[\"GSW\",71.36807256372016],[\"HOU\",70.52688791678612],[\"LAC\",69.54438831854729],[\"LAL\",70.77689522187669],[\"MIA\",70.8393524590447],[\"MIL\",68.58646490831809],[\"MIN\",70.29507088403085],[\"BKN\",69.52924799799337],[\"NYK\",71.33610586932765],[\"ORL\",71.83470193830719],[\"IND\",70.38585593329032],[\"PHI\",70.8952891012388],[\"PHX\",69.70996974793086],[\"POR\",70.59756635687219],[\"SAC\",69.35208857291033],[\"SAS\",73.44237546203476],[\"OKC\",70.39726661484161],[\"TOR\",70.39763868055499],[\"UTA\",70.07802346112369],[\"MEM\",69.6973784382476],[\"WAS\",71.14619757167617],[\"DET\",69.03178901867076],[\"CHA\",70.92421950474557]],\"hovertemplate\":\"\\u003cb\\u003e%{customdata}\\u003c\\u002fb\\u003e\\u003cbr\\u003eDREB%: %{customdata2:.1f}\\u003cbr\\u003e\\u003cextra\\u003e\\u003c\\u002fextra\\u003e\",\"marker\":{\"color\":\"#00ffff\",\"line\":{\"color\":\"white\",\"width\":1},\"opacity\":0.8,\"size\":16,\"symbol\":\"circle\"},\"mode\":\"markers+text\",\"name\":\"Season Averages for each NBA Team\",\"showlegend\":false,\"text\":[\"\\ud83e\\udd85\",\"\\ud83c\\udf40\",\"\\ud83d\\udee1\\ufe0f\",\"\\ud83e\\udd9a\",\"\\ud83d\\udc02\",\"\\ud83d\\udc34\",\"\\u26cf\\ufe0f\",\"\\u26a1\",\"\\ud83d\\ude80\",\"\\ud83d\\udea4\",\"\\ud83d\\udc9c\\ud83d\\udc9b\",\"\\ud83d\\udd25\",\"\\ud83e\\udd8c\",\"\\ud83d\\udc3a\",\"\\ud83d\\udda4\",\"\\ud83d\\uddfd\",\"\\ud83d\\udd2e\",\"\\ud83c\\udfce\\ufe0f\",\"\\ud83d\\udd14\",\"\\ud83c\\udf1e\",\"\\ud83c\\udf0a\",\"\\ud83d\\udc51\",\"\\ud83d\\udc0d\",\"\\u26a1\",\"\\ud83e\\udd96\",\"\\ud83c\\udfb7\",\"\\ud83d\\udc3b\",\"\\ud83e\\udd85\",\"\\ud83d\\udc34\",\"\\ud83d\\udc1d\"],\"textfont\":{\"color\":\"#00ffff\",\"size\":12},\"textposition\":\"middle center\",\"x\":[\"DREB%\",\"DREB%\",\"DREB%\",\"DREB%\",\"DREB%\",\"DREB%\",\"DREB%\",\"DREB%\",\"DREB%\",\"DREB%\",\"DREB%\",\"DREB%\",\"DREB%\",\"DREB%\",\"DREB%\",\"DREB%\",\"DREB%\",\"DREB%\",\"DREB%\",\"DREB%\",\"DREB%\",\"DREB%\",\"DREB%\",\"DREB%\",\"DREB%\",\"DREB%\",\"DREB%\",\"DREB%\",\"DREB%\",\"DREB%\"],\"y\":[0.7666748306349831,0.597310099031958,0.2074017110154216,0.269488593382853,0.26387352867197755,0.6591707741128499,0.11151271846514099,0.5728292612954018,0.39960023707249803,0.19726957480631668,0.4510853915713202,0.4639474977565783,0.0,0.35186108904024316,0.1941516589414256,0.5662462128560026,0.6689243951379886,0.37055687189192277,0.47546678782078367,0.23136852031857202,0.41415537339640984,0.15766840351007616,1.0,0.37290672603875485,0.372983347242803,0.30716351471177106,0.2287755339890314,0.527137523445294,0.09170764276368715,0.48142455890958935],\"type\":\"scatter\"},{\"hovertemplate\":\"\\u003cb\\u003e%{text}\\u003c\\u002fb\\u003e\\u003cbr\\u003eNormalized: %{y:.2f}\\u003cbr\\u003e\\u003cextra\\u003e\\u003c\\u002fextra\\u003e\",\"marker\":{\"color\":\"#ff4d4d\",\"line\":{\"color\":\"white\",\"width\":1},\"opacity\":0.8,\"size\":16,\"symbol\":\"diamond\"},\"mode\":\"markers+text\",\"name\":\"Heat with LeBron, Ray, Chris On | Dwyane Off\",\"showlegend\":false,\"text\":[\"\\ud83c\\udfc0\"],\"textfont\":{\"color\":\"#ffffff\",\"size\":14},\"textposition\":\"middle right\",\"x\":[\"DREB%\"],\"y\":[0.35808941573207953],\"type\":\"scatter\"},{\"customdata\":[[\"ATL\",26.565295365963387],[\"BOS\",27.27509097289243],[\"CLE\",31.076665060680476],[\"NOP\",30.515379527569102],[\"CHI\",31.570342666903926],[\"DAL\",27.099559033834332],[\"DEN\",31.45809065982003],[\"GSW\",27.88482702060292],[\"HOU\",29.84857795880689],[\"LAC\",30.647668255350744],[\"LAL\",28.824551753750953],[\"MIA\",27.717599133366882],[\"MIL\",31.133881487250576],[\"MIN\",30.615625138249055],[\"BKN\",30.35556183490154],[\"NYK\",28.483746943576705],[\"ORL\",28.120865853552974],[\"IND\",30.43937215884503],[\"PHI\",28.638366237019895],[\"PHX\",29.911952727562962],[\"POR\",29.67222144285109],[\"SAC\",30.88305470723689],[\"SAS\",26.117944514924968],[\"OKC\",29.616901095836067],[\"TOR\",29.39290829751738],[\"UTA\",30.699372334250324],[\"MEM\",31.79881781831994],[\"WAS\",28.486426850530826],[\"DET\",31.978094092141763],[\"CHA\",28.452171573903982]],\"hovertemplate\":\"\\u003cb\\u003e%{customdata}\\u003c\\u002fb\\u003e\\u003cbr\\u003eOREB%: %{customdata2:.1f}\\u003cbr\\u003e\\u003cextra\\u003e\\u003c\\u002fextra\\u003e\",\"marker\":{\"color\":\"#00ffff\",\"line\":{\"color\":\"white\",\"width\":1},\"opacity\":0.8,\"size\":16,\"symbol\":\"circle\"},\"mode\":\"markers+text\",\"name\":\"Season Averages for each NBA Team\",\"showlegend\":false,\"text\":[\"\\ud83e\\udd85\",\"\\ud83c\\udf40\",\"\\ud83d\\udee1\\ufe0f\",\"\\ud83e\\udd9a\",\"\\ud83d\\udc02\",\"\\ud83d\\udc34\",\"\\u26cf\\ufe0f\",\"\\u26a1\",\"\\ud83d\\ude80\",\"\\ud83d\\udea4\",\"\\ud83d\\udc9c\\ud83d\\udc9b\",\"\\ud83d\\udd25\",\"\\ud83e\\udd8c\",\"\\ud83d\\udc3a\",\"\\ud83d\\udda4\",\"\\ud83d\\uddfd\",\"\\ud83d\\udd2e\",\"\\ud83c\\udfce\\ufe0f\",\"\\ud83d\\udd14\",\"\\ud83c\\udf1e\",\"\\ud83c\\udf0a\",\"\\ud83d\\udc51\",\"\\ud83d\\udc0d\",\"\\u26a1\",\"\\ud83e\\udd96\",\"\\ud83c\\udfb7\",\"\\ud83d\\udc3b\",\"\\ud83e\\udd85\",\"\\ud83d\\udc34\",\"\\ud83d\\udc1d\"],\"textfont\":{\"color\":\"#00ffff\",\"size\":12},\"textposition\":\"middle center\",\"x\":[\"OREB%\",\"OREB%\",\"OREB%\",\"OREB%\",\"OREB%\",\"OREB%\",\"OREB%\",\"OREB%\",\"OREB%\",\"OREB%\",\"OREB%\",\"OREB%\",\"OREB%\",\"OREB%\",\"OREB%\",\"OREB%\",\"OREB%\",\"OREB%\",\"OREB%\",\"OREB%\",\"OREB%\",\"OREB%\",\"OREB%\",\"OREB%\",\"OREB%\",\"OREB%\",\"OREB%\",\"OREB%\",\"OREB%\",\"OREB%\"],\"y\":[0.196098234265218,0.3015161466219771,0.8661209428365426,0.7827595518120889,0.9394412932547738,0.27544637331428135,0.9227697724266326,0.392073344512224,0.6837270575997776,0.8024069001119862,0.5316400290498775,0.3672368780870139,0.8746186514482233,0.7976478983975666,0.7590236377627182,0.4810241457463018,0.4271295223214615,0.7714710371236295,0.503988000362674,0.693139395113759,0.6575348192130015,0.837366187141475,0.12965827275077046,0.6493187138493655,0.6160515973003262,0.8100859220793168,0.9733741230054065,0.481422162011345,1.0,0.4763346132663919],\"type\":\"scatter\"},{\"hovertemplate\":\"\\u003cb\\u003e%{text}\\u003c\\u002fb\\u003e\\u003cbr\\u003eNormalized: %{y:.2f}\\u003cbr\\u003e\\u003cextra\\u003e\\u003c\\u002fextra\\u003e\",\"marker\":{\"color\":\"#ff4d4d\",\"line\":{\"color\":\"white\",\"width\":1},\"opacity\":0.8,\"size\":16,\"symbol\":\"diamond\"},\"mode\":\"markers+text\",\"name\":\"Heat with LeBron, Ray, Chris On | Dwyane Off\",\"showlegend\":false,\"text\":[\"\\ud83c\\udfc0\"],\"textfont\":{\"color\":\"#ffffff\",\"size\":14},\"textposition\":\"middle right\",\"x\":[\"OREB%\"],\"y\":[0.0],\"type\":\"scatter\"}],                        {\"template\":{\"data\":{\"histogram2dcontour\":[{\"type\":\"histogram2dcontour\",\"colorbar\":{\"outlinewidth\":0,\"ticks\":\"\"},\"colorscale\":[[0.0,\"#0d0887\"],[0.1111111111111111,\"#46039f\"],[0.2222222222222222,\"#7201a8\"],[0.3333333333333333,\"#9c179e\"],[0.4444444444444444,\"#bd3786\"],[0.5555555555555556,\"#d8576b\"],[0.6666666666666666,\"#ed7953\"],[0.7777777777777778,\"#fb9f3a\"],[0.8888888888888888,\"#fdca26\"],[1.0,\"#f0f921\"]]}],\"choropleth\":[{\"type\":\"choropleth\",\"colorbar\":{\"outlinewidth\":0,\"ticks\":\"\"}}],\"histogram2d\":[{\"type\":\"histogram2d\",\"colorbar\":{\"outlinewidth\":0,\"ticks\":\"\"},\"colorscale\":[[0.0,\"#0d0887\"],[0.1111111111111111,\"#46039f\"],[0.2222222222222222,\"#7201a8\"],[0.3333333333333333,\"#9c179e\"],[0.4444444444444444,\"#bd3786\"],[0.5555555555555556,\"#d8576b\"],[0.6666666666666666,\"#ed7953\"],[0.7777777777777778,\"#fb9f3a\"],[0.8888888888888888,\"#fdca26\"],[1.0,\"#f0f921\"]]}],\"heatmap\":[{\"type\":\"heatmap\",\"colorbar\":{\"outlinewidth\":0,\"ticks\":\"\"},\"colorscale\":[[0.0,\"#0d0887\"],[0.1111111111111111,\"#46039f\"],[0.2222222222222222,\"#7201a8\"],[0.3333333333333333,\"#9c179e\"],[0.4444444444444444,\"#bd3786\"],[0.5555555555555556,\"#d8576b\"],[0.6666666666666666,\"#ed7953\"],[0.7777777777777778,\"#fb9f3a\"],[0.8888888888888888,\"#fdca26\"],[1.0,\"#f0f921\"]]}],\"heatmapgl\":[{\"type\":\"heatmapgl\",\"colorbar\":{\"outlinewidth\":0,\"ticks\":\"\"},\"colorscale\":[[0.0,\"#0d0887\"],[0.1111111111111111,\"#46039f\"],[0.2222222222222222,\"#7201a8\"],[0.3333333333333333,\"#9c179e\"],[0.4444444444444444,\"#bd3786\"],[0.5555555555555556,\"#d8576b\"],[0.6666666666666666,\"#ed7953\"],[0.7777777777777778,\"#fb9f3a\"],[0.8888888888888888,\"#fdca26\"],[1.0,\"#f0f921\"]]}],\"contourcarpet\":[{\"type\":\"contourcarpet\",\"colorbar\":{\"outlinewidth\":0,\"ticks\":\"\"}}],\"contour\":[{\"type\":\"contour\",\"colorbar\":{\"outlinewidth\":0,\"ticks\":\"\"},\"colorscale\":[[0.0,\"#0d0887\"],[0.1111111111111111,\"#46039f\"],[0.2222222222222222,\"#7201a8\"],[0.3333333333333333,\"#9c179e\"],[0.4444444444444444,\"#bd3786\"],[0.5555555555555556,\"#d8576b\"],[0.6666666666666666,\"#ed7953\"],[0.7777777777777778,\"#fb9f3a\"],[0.8888888888888888,\"#fdca26\"],[1.0,\"#f0f921\"]]}],\"surface\":[{\"type\":\"surface\",\"colorbar\":{\"outlinewidth\":0,\"ticks\":\"\"},\"colorscale\":[[0.0,\"#0d0887\"],[0.1111111111111111,\"#46039f\"],[0.2222222222222222,\"#7201a8\"],[0.3333333333333333,\"#9c179e\"],[0.4444444444444444,\"#bd3786\"],[0.5555555555555556,\"#d8576b\"],[0.6666666666666666,\"#ed7953\"],[0.7777777777777778,\"#fb9f3a\"],[0.8888888888888888,\"#fdca26\"],[1.0,\"#f0f921\"]]}],\"mesh3d\":[{\"type\":\"mesh3d\",\"colorbar\":{\"outlinewidth\":0,\"ticks\":\"\"}}],\"scatter\":[{\"fillpattern\":{\"fillmode\":\"overlay\",\"size\":10,\"solidity\":0.2},\"type\":\"scatter\"}],\"parcoords\":[{\"type\":\"parcoords\",\"line\":{\"colorbar\":{\"outlinewidth\":0,\"ticks\":\"\"}}}],\"scatterpolargl\":[{\"type\":\"scatterpolargl\",\"marker\":{\"colorbar\":{\"outlinewidth\":0,\"ticks\":\"\"}}}],\"bar\":[{\"error_x\":{\"color\":\"#2a3f5f\"},\"error_y\":{\"color\":\"#2a3f5f\"},\"marker\":{\"line\":{\"color\":\"#E5ECF6\",\"width\":0.5},\"pattern\":{\"fillmode\":\"overlay\",\"size\":10,\"solidity\":0.2}},\"type\":\"bar\"}],\"scattergeo\":[{\"type\":\"scattergeo\",\"marker\":{\"colorbar\":{\"outlinewidth\":0,\"ticks\":\"\"}}}],\"scatterpolar\":[{\"type\":\"scatterpolar\",\"marker\":{\"colorbar\":{\"outlinewidth\":0,\"ticks\":\"\"}}}],\"histogram\":[{\"marker\":{\"pattern\":{\"fillmode\":\"overlay\",\"size\":10,\"solidity\":0.2}},\"type\":\"histogram\"}],\"scattergl\":[{\"type\":\"scattergl\",\"marker\":{\"colorbar\":{\"outlinewidth\":0,\"ticks\":\"\"}}}],\"scatter3d\":[{\"type\":\"scatter3d\",\"line\":{\"colorbar\":{\"outlinewidth\":0,\"ticks\":\"\"}},\"marker\":{\"colorbar\":{\"outlinewidth\":0,\"ticks\":\"\"}}}],\"scattermapbox\":[{\"type\":\"scattermapbox\",\"marker\":{\"colorbar\":{\"outlinewidth\":0,\"ticks\":\"\"}}}],\"scatterternary\":[{\"type\":\"scatterternary\",\"marker\":{\"colorbar\":{\"outlinewidth\":0,\"ticks\":\"\"}}}],\"scattercarpet\":[{\"type\":\"scattercarpet\",\"marker\":{\"colorbar\":{\"outlinewidth\":0,\"ticks\":\"\"}}}],\"carpet\":[{\"aaxis\":{\"endlinecolor\":\"#2a3f5f\",\"gridcolor\":\"white\",\"linecolor\":\"white\",\"minorgridcolor\":\"white\",\"startlinecolor\":\"#2a3f5f\"},\"baxis\":{\"endlinecolor\":\"#2a3f5f\",\"gridcolor\":\"white\",\"linecolor\":\"white\",\"minorgridcolor\":\"white\",\"startlinecolor\":\"#2a3f5f\"},\"type\":\"carpet\"}],\"table\":[{\"cells\":{\"fill\":{\"color\":\"#EBF0F8\"},\"line\":{\"color\":\"white\"}},\"header\":{\"fill\":{\"color\":\"#C8D4E3\"},\"line\":{\"color\":\"white\"}},\"type\":\"table\"}],\"barpolar\":[{\"marker\":{\"line\":{\"color\":\"#E5ECF6\",\"width\":0.5},\"pattern\":{\"fillmode\":\"overlay\",\"size\":10,\"solidity\":0.2}},\"type\":\"barpolar\"}],\"pie\":[{\"automargin\":true,\"type\":\"pie\"}]},\"layout\":{\"autotypenumbers\":\"strict\",\"colorway\":[\"#636efa\",\"#EF553B\",\"#00cc96\",\"#ab63fa\",\"#FFA15A\",\"#19d3f3\",\"#FF6692\",\"#B6E880\",\"#FF97FF\",\"#FECB52\"],\"font\":{\"color\":\"#2a3f5f\"},\"hovermode\":\"closest\",\"hoverlabel\":{\"align\":\"left\"},\"paper_bgcolor\":\"white\",\"plot_bgcolor\":\"#E5ECF6\",\"polar\":{\"bgcolor\":\"#E5ECF6\",\"angularaxis\":{\"gridcolor\":\"white\",\"linecolor\":\"white\",\"ticks\":\"\"},\"radialaxis\":{\"gridcolor\":\"white\",\"linecolor\":\"white\",\"ticks\":\"\"}},\"ternary\":{\"bgcolor\":\"#E5ECF6\",\"aaxis\":{\"gridcolor\":\"white\",\"linecolor\":\"white\",\"ticks\":\"\"},\"baxis\":{\"gridcolor\":\"white\",\"linecolor\":\"white\",\"ticks\":\"\"},\"caxis\":{\"gridcolor\":\"white\",\"linecolor\":\"white\",\"ticks\":\"\"}},\"coloraxis\":{\"colorbar\":{\"outlinewidth\":0,\"ticks\":\"\"}},\"colorscale\":{\"sequential\":[[0.0,\"#0d0887\"],[0.1111111111111111,\"#46039f\"],[0.2222222222222222,\"#7201a8\"],[0.3333333333333333,\"#9c179e\"],[0.4444444444444444,\"#bd3786\"],[0.5555555555555556,\"#d8576b\"],[0.6666666666666666,\"#ed7953\"],[0.7777777777777778,\"#fb9f3a\"],[0.8888888888888888,\"#fdca26\"],[1.0,\"#f0f921\"]],\"sequentialminus\":[[0.0,\"#0d0887\"],[0.1111111111111111,\"#46039f\"],[0.2222222222222222,\"#7201a8\"],[0.3333333333333333,\"#9c179e\"],[0.4444444444444444,\"#bd3786\"],[0.5555555555555556,\"#d8576b\"],[0.6666666666666666,\"#ed7953\"],[0.7777777777777778,\"#fb9f3a\"],[0.8888888888888888,\"#fdca26\"],[1.0,\"#f0f921\"]],\"diverging\":[[0,\"#8e0152\"],[0.1,\"#c51b7d\"],[0.2,\"#de77ae\"],[0.3,\"#f1b6da\"],[0.4,\"#fde0ef\"],[0.5,\"#f7f7f7\"],[0.6,\"#e6f5d0\"],[0.7,\"#b8e186\"],[0.8,\"#7fbc41\"],[0.9,\"#4d9221\"],[1,\"#276419\"]]},\"xaxis\":{\"gridcolor\":\"white\",\"linecolor\":\"white\",\"ticks\":\"\",\"title\":{\"standoff\":15},\"zerolinecolor\":\"white\",\"automargin\":true,\"zerolinewidth\":2},\"yaxis\":{\"gridcolor\":\"white\",\"linecolor\":\"white\",\"ticks\":\"\",\"title\":{\"standoff\":15},\"zerolinecolor\":\"white\",\"automargin\":true,\"zerolinewidth\":2},\"scene\":{\"xaxis\":{\"backgroundcolor\":\"#E5ECF6\",\"gridcolor\":\"white\",\"linecolor\":\"white\",\"showbackground\":true,\"ticks\":\"\",\"zerolinecolor\":\"white\",\"gridwidth\":2},\"yaxis\":{\"backgroundcolor\":\"#E5ECF6\",\"gridcolor\":\"white\",\"linecolor\":\"white\",\"showbackground\":true,\"ticks\":\"\",\"zerolinecolor\":\"white\",\"gridwidth\":2},\"zaxis\":{\"backgroundcolor\":\"#E5ECF6\",\"gridcolor\":\"white\",\"linecolor\":\"white\",\"showbackground\":true,\"ticks\":\"\",\"zerolinecolor\":\"white\",\"gridwidth\":2}},\"shapedefaults\":{\"line\":{\"color\":\"#2a3f5f\"}},\"annotationdefaults\":{\"arrowcolor\":\"#2a3f5f\",\"arrowhead\":0,\"arrowwidth\":1},\"geo\":{\"bgcolor\":\"white\",\"landcolor\":\"#E5ECF6\",\"subunitcolor\":\"white\",\"showland\":true,\"showlakes\":true,\"lakecolor\":\"white\"},\"title\":{\"x\":0.05},\"mapbox\":{\"style\":\"light\"}}},\"title\":{\"font\":{\"size\":24,\"color\":\"#ffffff\"},\"text\":\"Miami Heat 2011-2014 RS \",\"x\":0.5,\"y\":0.99},\"yaxis\":{\"title\":{\"font\":{\"size\":16,\"color\":\"#ffffff\"},\"text\":\"Normalized Value\"},\"tickfont\":{\"color\":\"#ffffff\"},\"gridcolor\":\"rgba(255, 255, 255, 0.1)\",\"zeroline\":true,\"zerolinecolor\":\"rgba(255, 255, 255, 0.1)\",\"range\":[-0.1,1.1],\"tickformat\":\".2f\",\"tickmode\":\"linear\",\"tick0\":0,\"dtick\":0.2,\"showticklabels\":false},\"xaxis\":{\"tickfont\":{\"color\":\"#ffffff\",\"size\":14},\"gridcolor\":\"rgba(255, 255, 255, 0.1)\",\"categoryorder\":\"array\",\"categoryarray\":[\"Points\",\"Opp Points\",\"FTA\",\"3P%\",\"Rim Freq\",\"EFG%\",\"Rim%\",\"TOV%\",\"DREB%\",\"OREB%\"],\"tickangle\":-45},\"legend\":{\"font\":{\"color\":\"#ffffff\",\"size\":20},\"bgcolor\":\"rgba(0,0,0,0)\",\"bordercolor\":\"rgba(255,255,255,0.2)\",\"borderwidth\":1,\"orientation\":\"h\",\"yanchor\":\"bottom\",\"y\":1.02,\"xanchor\":\"center\",\"x\":0.5},\"margin\":{\"t\":100,\"b\":80},\"width\":1350,\"height\":1000,\"showlegend\":true,\"plot_bgcolor\":\"#1a1a1a\",\"paper_bgcolor\":\"#1a1a1a\",\"hovermode\":\"closest\",\"shapes\":[{\"layer\":\"below\",\"line\":{\"color\":\"rgba(255,255,255,0.2)\",\"width\":1},\"type\":\"rect\",\"x0\":0,\"x1\":1,\"xref\":\"paper\",\"y0\":0,\"y1\":1,\"yref\":\"paper\"}]},                        {\"responsive\": true}                    ).then(function(){\n",
       "                            \n",
       "var gd = document.getElementById('4f50c4ec-e229-4835-a004-919a9d939591');\n",
       "var x = new MutationObserver(function (mutations, observer) {{\n",
       "        var display = window.getComputedStyle(gd).display;\n",
       "        if (!display || display === 'none') {{\n",
       "            console.log([gd, 'removed!']);\n",
       "            Plotly.purge(gd);\n",
       "            observer.disconnect();\n",
       "        }}\n",
       "}});\n",
       "\n",
       "// Listen for the removal of the full notebook cells\n",
       "var notebookContainer = gd.closest('#notebook-container');\n",
       "if (notebookContainer) {{\n",
       "    x.observe(notebookContainer, {childList: true});\n",
       "}}\n",
       "\n",
       "// Listen for the clearing of the current output cell\n",
       "var outputEl = gd.closest('.output');\n",
       "if (outputEl) {{\n",
       "    x.observe(outputEl, {childList: true});\n",
       "}}\n",
       "\n",
       "                        })                };                });            </script>        </div>"
      ]
     },
     "metadata": {},
     "output_type": "display_data"
    }
   ],
   "source": [
    "def create_nba_beeswarm(team, start_year, end_year, data, categories=None, vs=False, ps=False):\n",
    "    # Existing team names dictionary remains the same\n",
    "    team_names = {\n",
    "        \"PHX\": \"Phoenix Suns\",\n",
    "        \"DET\": \"Detroit Pistons\",\n",
    "        \"POR\": \"Portland Trail Blazers\",\n",
    "        \"MIL\": \"Milwaukee Bucks\",\n",
    "        \"BOS\": \"Boston Celtics\",\n",
    "        \"LAL\": \"Los Angeles Lakers\",\n",
    "        \"ORL\": \"Orlando Magic\",\n",
    "        \"NOP\": \"New Orleans Pelicans\",\n",
    "        \"DAL\": \"Dallas Mavericks\",\n",
    "        \"DEN\": \"Denver Nuggets\",\n",
    "        \"IND\": \"Indiana Pacers\",\n",
    "        \"CHA\": \"Charlotte Hornets\",\n",
    "        \"SAS\": \"San Antonio Spurs\",\n",
    "        \"LAC\": \"Los Angeles Clippers\",\n",
    "        \"MEM\": \"Memphis Grizzlies\",\n",
    "        \"WAS\": \"Washington Wizards\",\n",
    "        \"MIA\": \"Miami Heat\",\n",
    "        \"ATL\": \"Atlanta Hawks\",\n",
    "        \"OKC\": \"Oklahoma City Thunder\",\n",
    "        \"UTA\": \"Utah Jazz\",\n",
    "        \"NYK\": \"New York Knicks\",\n",
    "        \"CHI\": \"Chicago Bulls\",\n",
    "        \"MIN\": \"Minnesota Timberwolves\",\n",
    "        \"BKN\": \"Brooklyn Nets\",\n",
    "        \"CLE\": \"Cleveland Cavaliers\",\n",
    "        \"HOU\": \"Houston Rockets\",\n",
    "        \"GSW\": \"Golden State Warriors\",\n",
    "        \"SAC\": \"Sacramento Kings\",\n",
    "        \"TOR\": \"Toronto Raptors\",\n",
    "        \"PHI\": \"Philadelphia 76ers\"\n",
    "    }\n",
    "    # Add new dictionary for team symbols using basketball-related Unicode characters\n",
    "    team_symbols = {\n",
    "        \"PHX\": \"🏀\", \"DET\": \"🏀\", \"POR\": \"🏀\", \"MIL\": \"🏀\", \"BOS\": \"🏀\",\n",
    "        \"LAL\": \"🏀\", \"ORL\": \"🏀\", \"NOP\": \"🏀\", \"DAL\": \"🏀\", \"DEN\": \"🏀\",\n",
    "        \"IND\": \"🏀\", \"CHA\": \"🏀\", \"SAS\": \"🏀\", \"LAC\": \"🏀\", \"MEM\": \"🏀\",\n",
    "        \"WAS\": \"🏀\", \"MIA\": \"🏀\", \"ATL\": \"🏀\", \"OKC\": \"🏀\", \"UTA\": \"🏀\",\n",
    "        \"NYK\": \"🏀\", \"CHI\": \"🏀\", \"MIN\": \"🏀\", \"BKN\": \"🏀\", \"CLE\": \"🏀\",\n",
    "        \"HOU\": \"🏀\", \"GSW\": \"🏀\", \"SAC\": \"🏀\", \"TOR\": \"🏀\", \"PHI\": \"🏀\"\n",
    "    }\n",
    "\n",
    "    addon = ''\n",
    "    if ps:\n",
    "        addon += ' PS '\n",
    "    else:\n",
    "        addon += ' RS '\n",
    "    if vs:\n",
    "        addon = ' (Defense)'\n",
    "    \n",
    "    team_name = team_names[team]\n",
    "    combo_name = data[data.lineup_row == 1]['Name'].iloc[0]\n",
    "    combo_name = team_name.split(' ')[-1] + ' with ' + combo_name\n",
    "    team_name += (' ' + str(start_year-1) + '-' + str(end_year))\n",
    "    \n",
    "    # Normalize the data\n",
    "    scaler = MinMaxScaler()\n",
    "    normalized_data = pd.DataFrame(\n",
    "        scaler.fit_transform(data[categories]),\n",
    "        columns=categories,\n",
    "        index=data.index\n",
    "    )\n",
    "    \n",
    "    # Separate team and lineup data\n",
    "    team_data = normalized_data[data['lineup_row'] == 0]\n",
    "    lineup_data = normalized_data[data['lineup_row'] == 1]\n",
    "    \n",
    "    original_team_data = data[data['lineup_row'] == 0]\n",
    "    original_lineup_data = data[data['lineup_row'] == 1]\n",
    "    \n",
    "    fig = go.Figure()\n",
    "    \n",
    "    # Define custom colors\n",
    "    team_color = '#00ffff'\n",
    "    lineup_color = '#ff4d4d'\n",
    "    grid_color = 'rgba(255, 255, 255, 0.1)'\n",
    "    bg_color = '#1a1a1a'\n",
    "    text_color = '#ffffff'\n",
    "    \n",
    "    # Plot each category\n",
    "    for i, category in enumerate(categories):\n",
    "        # Plot team data points with team symbols\n",
    "        fig.add_trace(go.Scatter(\n",
    "            x=[category] * len(team_data),\n",
    "            y=team_data[category],\n",
    "            mode='markers+text',\n",
    "            name='Season Averages for each NBA Team',\n",
    "            marker=dict(\n",
    "                size=16,\n",
    "                color=team_color,\n",
    "                opacity=0.8,\n",
    "                line=dict(color='white', width=1),\n",
    "                symbol='circle',\n",
    "            ),\n",
    "            text=[team_symbols.get(str(team_abbr), \"🏀\") for team_abbr in original_team_data['Name']],  # Add team symbols using Team column\n",
    "            textposition='middle center',\n",
    "            textfont=dict(\n",
    "                size=12,\n",
    "                color=team_color\n",
    "            ),\n",
    "            hovertemplate=\"<b>%{customdata}</b><br>\" + category + \": %{customdata2:.1f}<br><extra></extra>\",\n",
    "            customdata=[[team_abbr, val] for team_abbr, val in \n",
    "                       zip(original_team_data['Name'], original_team_data[category])],\n",
    "            showlegend=(i == 0)\n",
    "        ))\n",
    "        \n",
    "        # Plot lineup data points\n",
    "        fig.add_trace(go.Scatter(\n",
    "            x=[category] * len(lineup_data),\n",
    "            y=lineup_data[category],\n",
    "            mode='markers+text',\n",
    "            name=combo_name,\n",
    "            marker=dict(\n",
    "                size=16,\n",
    "                color=lineup_color,\n",
    "                opacity=0.8,\n",
    "                line=dict(color='white', width=1),\n",
    "                symbol='diamond'\n",
    "            ),\n",
    "            text=[f\"{original_lineup_data.loc[lineup, category]:.1f}\" \n",
    "                  for lineup in lineup_data.index],\n",
    "            textposition='middle right',\n",
    "            textfont=dict(\n",
    "                color=text_color,\n",
    "                size=14\n",
    "            ),\n",
    "            hovertemplate=\"<b>%{text}</b><br>Normalized: %{y:.2f}<br><extra></extra>\",\n",
    "            showlegend=(i == 0)\n",
    "        ))\n",
    "    \n",
    "    # Layout remains the same\n",
    "    fig.update_layout(\n",
    "        title=dict(\n",
    "            text=team_name + addon,\n",
    "            font=dict(size=24, color=text_color),\n",
    "            x=0.5,\n",
    "            y=.99\n",
    "        ),\n",
    "        width=1350,\n",
    "        height=1000,\n",
    "        showlegend=True,\n",
    "        plot_bgcolor=bg_color,\n",
    "        paper_bgcolor=bg_color,\n",
    "        yaxis=dict(\n",
    "            title=dict(text='Normalized Value', font=dict(size=16, color=text_color)),\n",
    "            gridcolor=grid_color,\n",
    "            zeroline=True,\n",
    "            zerolinecolor=grid_color,\n",
    "            range=[-0.1, 1.1],\n",
    "            tickformat='.2f',\n",
    "            tickfont=dict(color=text_color),\n",
    "            tickmode='linear',\n",
    "            tick0=0,\n",
    "            dtick=0.2,\n",
    "            showticklabels=False\n",
    "        ),\n",
    "        xaxis=dict(\n",
    "            gridcolor=grid_color,\n",
    "            categoryorder='array',\n",
    "            categoryarray=categories,\n",
    "            tickfont=dict(color=text_color, size=14),\n",
    "            tickangle=-45\n",
    "        ),\n",
    "        hovermode='closest',\n",
    "        legend=dict(\n",
    "            font=dict(color=text_color, size=20),\n",
    "            bgcolor='rgba(0,0,0,0)',\n",
    "            bordercolor='rgba(255,255,255,0.2)',\n",
    "            borderwidth=1,\n",
    "            orientation=\"h\",\n",
    "            yanchor=\"bottom\",\n",
    "            y=1.02,\n",
    "            xanchor=\"center\",\n",
    "            x=0.5\n",
    "        ),\n",
    "        margin=dict(t=100, b=80),\n",
    "        shapes=[\n",
    "            dict(\n",
    "                type='rect',\n",
    "                xref='paper',\n",
    "                yref='paper',\n",
    "                x0=0,\n",
    "                y0=0,\n",
    "                x1=1,\n",
    "                y1=1,\n",
    "                line=dict(color='rgba(255,255,255,0.2)', width=1),\n",
    "                layer='below'\n",
    "            )\n",
    "        ]\n",
    "    )\n",
    "    \n",
    "    return fig\n",
    "    # Separate team and lineup data\n",
    "\n",
    "\n",
    "vs=False\n",
    "ps=False\n",
    "start_year=2012\n",
    "end_year=2014\n",
    "players_on=['2544','951','2547']\n",
    "players_off=[]\n",
    "players_off=['2548']\n",
    "\n",
    "team='MIA'\n",
    "def graph_lineupsplits(start_year,end_year,players_on,players_off,team,vs,ps):\n",
    "    team_id=team_dict(team)\n",
    "    row=player_rows(start_year,end_year,players_on,players_off,team_id ,vs=vs)\n",
    "    teams = team_averages(start_year,end_year,vs=vs,ps=ps)\n",
    "    row = trim_frame(row)\n",
    "    \n",
    "    teams=trim_frame(teams)\n",
    "    row['lineup_row']=1\n",
    "\n",
    "    teams['lineup_row']=0\n",
    "    \n",
    "    data=pd.concat([teams,row])\n",
    "    columns = [\n",
    "                'Points', 'Opp Points', 'FTA',\n",
    "                '3P%',\n",
    "                'Rim Freq', 'EFG%',\n",
    "                'Rim%',  'TOV%',\n",
    "              \n",
    "                'DREB%', 'OREB%']\n",
    "    exclude=['Points', 'Opp Points',  '3P Assists','Rim Assists','FTA']\n",
    "    for col in columns:\n",
    "        if col not in exclude:\n",
    "            data[col]*=100\n",
    "    print(data.columns)\n",
    "    fig = create_nba_beeswarm(team,start_year,end_year,data,categories=columns,vs=vs,ps=ps)\n",
    "    return fig\n",
    "\n",
    "fig= graph_lineupsplits(start_year,end_year,players_on,players_off,team,vs,ps)\n",
    "\n",
    "fig.show()\n"
   ]
  },
  {
   "cell_type": "code",
   "execution_count": 3,
   "id": "715b21f8-9d09-4d10-91ac-f47dee186366",
   "metadata": {},
   "outputs": [
    {
     "data": {
      "text/plain": [
       "{'SYR': '1610612755',\n",
       " 'PHW': '1610612744',\n",
       " 'NYK': '1610612752',\n",
       " 'STL': '1610612737',\n",
       " 'ROC': '1610612758',\n",
       " 'BOS': '1610612738',\n",
       " 'FTW': '1610612765',\n",
       " 'MNL': '1610612747',\n",
       " 'TOT': 'TOT',\n",
       " 'DET': '1610612765',\n",
       " 'CIN': '1610612758',\n",
       " 'LAL': '1610612747',\n",
       " 'CHP': '1610612741',\n",
       " 'SFW': '1610612744',\n",
       " 'CHZ': '1610612741',\n",
       " 'BAL': '1610612764',\n",
       " 'PHI': '1610612755',\n",
       " 'CHI': '1610612741',\n",
       " 'SDR': '1610612745',\n",
       " 'SEA': '1610612760',\n",
       " 'MIL': '1610612749',\n",
       " 'ATL': '1610612737',\n",
       " 'PHO': '1610612756',\n",
       " 'POR': '1610612757',\n",
       " 'CLE': '1610612739',\n",
       " 'BUF': '1610612761',\n",
       " 'HOU': '1610612745',\n",
       " 'GSW': '1610612744',\n",
       " 'KCO': '1610612758',\n",
       " 'CAP': '1610612764',\n",
       " 'NOJ': '1610612762',\n",
       " 'WSB': '1610612764',\n",
       " 'KCK': '1610612758',\n",
       " 'IND': '1610612754',\n",
       " 'NYN': '1610612751',\n",
       " 'DEN': '1610612743',\n",
       " 'SAS': '1610612759',\n",
       " 'NJN': '1610612751',\n",
       " 'SDC': '1610612746',\n",
       " 'UTA': '1610612762',\n",
       " 'DAL': '1610612742',\n",
       " 'LAC': '1610612746',\n",
       " 'SAC': '1610612758',\n",
       " 'CHH': '1610612766',\n",
       " 'MIA': '1610612748',\n",
       " 'ORL': '1610612753',\n",
       " 'MIN': '1610612750',\n",
       " 'VAN': '1610612763',\n",
       " 'TOR': '1610612761',\n",
       " 'WAS': '1610612764',\n",
       " 'MEM': '1610612763',\n",
       " 'NOH': '1610612740',\n",
       " 'CHA': '1610612766',\n",
       " 'NOK': '1610612740',\n",
       " 'OKC': '1610612760',\n",
       " 'BRK': '1610612751',\n",
       " 'NOP': '1610612740',\n",
       " 'CHO': '1610612766',\n",
       " 'PHX': '1610612756'}"
      ]
     },
     "execution_count": 3,
     "metadata": {},
     "output_type": "execute_result"
    }
   ],
   "source": [
    "\n",
    "\n",
    "df = pd.read_csv('index_master.csv')\n",
    "\n",
    "teammap=dict(zip(df['team'],df['team_id']))\n",
    "teammap\n",
    "teammap['CHA']=teammap['CHO']\n",
    "teammap['PHX']=teammap['PHO']\n",
    "teammap"
   ]
  },
  {
   "cell_type": "code",
   "execution_count": null,
   "id": "90e64111-bfa0-457c-aee0-73e7cbe5ec45",
   "metadata": {},
   "outputs": [],
   "source": []
  }
 ],
 "metadata": {
  "kernelspec": {
   "display_name": "Python 3 (ipykernel)",
   "language": "python",
   "name": "python3"
  },
  "language_info": {
   "codemirror_mode": {
    "name": "ipython",
    "version": 3
   },
   "file_extension": ".py",
   "mimetype": "text/x-python",
   "name": "python",
   "nbconvert_exporter": "python",
   "pygments_lexer": "ipython3",
   "version": "3.10.12"
  }
 },
 "nbformat": 4,
 "nbformat_minor": 5
}
