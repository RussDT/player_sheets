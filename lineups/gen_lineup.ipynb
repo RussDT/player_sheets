{
 "cells": [
  {
   "cell_type": "code",
   "execution_count": 64,
   "id": "5d184551-ddf0-4254-be51-8f0cb191e984",
   "metadata": {},
   "outputs": [],
   "source": [
    "import pandas as pd\n",
    "import pandas as pd\n",
    "import numpy as np\n",
    "from nba_api.stats.static import players\n",
    "from plotly.colors import qualitative\n",
    "\n",
    "import time \n",
    "import plotly.graph_objects as go\n",
    "import pandas as pd\n",
    "import numpy as np\n",
    "from sklearn.preprocessing import MinMaxScaler\n",
    "import json\n",
    "def get_colors():\n",
    "    path = 'colors.json'\n",
    "    f = open(path)\n",
    "\n",
    "    # returns JSON object as \n",
    "    # a dictionary\n",
    "    data = json.load(f)\n",
    "    team_colors = {}\n",
    "    for team in data:\n",
    "        obj = data[team]\n",
    "        color = obj['mainColor']\n",
    "        color_hex = obj['colors'][color]['hex']\n",
    "        team_colors[team]=color_hex\n",
    "    team_colors['PHX']= '#e56020',\n",
    "    second_colors = {}\n",
    "    for team in data:\n",
    "        obj = data[team]\n",
    "        color = obj['secondaryColor']\n",
    "        color_hex = obj['colors'][color]['hex']\n",
    "        second_colors[team]=color_hex\n",
    "    second_colors['PHX']= '#1d1160',\n",
    "\n",
    "    temp = team_colors['BKN']\n",
    "\n",
    "    team_colors['BKN'] = second_colors['BKN']\n",
    "    second_colors['BKN'] = temp\n",
    "    return team_colors,second_colors\n",
    "\n",
    "def team_dict(team):\n",
    "\n",
    "    map={'SYR': '1610612755',\n",
    "     'PHW': '1610612744',\n",
    "     'NYK': '1610612752',\n",
    "     'STL': '1610612737',\n",
    "     'ROC': '1610612758',\n",
    "     'BOS': '1610612738',\n",
    "     'FTW': '1610612765',\n",
    "     'MNL': '1610612747',\n",
    "     'TOT': 'TOT',\n",
    "     'DET': '1610612765',\n",
    "     'CIN': '1610612758',\n",
    "     'LAL': '1610612747',\n",
    "     'CHP': '1610612741',\n",
    "     'SFW': '1610612744',\n",
    "     'CHZ': '1610612741',\n",
    "     'BAL': '1610612764',\n",
    "     'PHI': '1610612755',\n",
    "     'CHI': '1610612741',\n",
    "     'SDR': '1610612745',\n",
    "     'SEA': '1610612760',\n",
    "     'MIL': '1610612749',\n",
    "     'ATL': '1610612737',\n",
    "     'PHO': '1610612756',\n",
    "     'POR': '1610612757',\n",
    "     'CLE': '1610612739',\n",
    "     'BUF': '1610612761',\n",
    "     'HOU': '1610612745',\n",
    "     'GSW': '1610612744',\n",
    "     'KCO': '1610612758',\n",
    "     'CAP': '1610612764',\n",
    "     'NOJ': '1610612762',\n",
    "     'WSB': '1610612764',\n",
    "     'KCK': '1610612758',\n",
    "     'IND': '1610612754',\n",
    "     'NYN': '1610612751',\n",
    "     'DEN': '1610612743',\n",
    "     'SAS': '1610612759',\n",
    "     'NJN': '1610612751',\n",
    "     'SDC': '1610612746',\n",
    "     'UTA': '1610612762',\n",
    "     'DAL': '1610612742',\n",
    "     'LAC': '1610612746',\n",
    "     'SAC': '1610612758',\n",
    "     'CHH': '1610612766',\n",
    "     'MIA': '1610612748',\n",
    "     'ORL': '1610612753',\n",
    "     'MIN': '1610612750',\n",
    "     'VAN': '1610612763',\n",
    "     'TOR': '1610612761',\n",
    "     'WAS': '1610612764',\n",
    "     'MEM': '1610612763',\n",
    "     'NOH': '1610612740',\n",
    "     'CHA': '1610612766',\n",
    "     'NOK': '1610612740',\n",
    "     'OKC': '1610612760',\n",
    "     'BRK': '1610612751',\n",
    "     'NOP': '1610612740',\n",
    "     'CHO': '1610612766',\n",
    "     'PHX': '1610612756'}\n",
    "    return map[team]\n",
    "\n",
    "def calculate_basketball_percentages(df):\n",
    "    \"\"\"\n",
    "    Calculate basketball percentage statistics from raw totals.\n",
    "    \n",
    "    Args:\n",
    "        df (pandas.DataFrame): DataFrame containing the raw totals columns\n",
    "        \n",
    "    Returns:\n",
    "        pandas.DataFrame: DataFrame with added percentage columns\n",
    "    \"\"\"\n",
    "    # Make a copy to avoid modifying the original\n",
    "    result = df.copy()\n",
    "    \n",
    "    # Basic shooting percentages\n",
    "    result['Fg3Pct'] = (result['FG3M'] / result['FG3A'] * 1).fillna(0)\n",
    "    result['Fg2Pct'] = (result['FG2M'] / result['FG2A'] * 1).fillna(0)\n",
    "    result['FGA'] = (result['FG2A'] + result['FG3A'])\n",
    "    result['PenaltyFGA'] = (result['PenaltyFG2A'] + result['PenaltyFG3A'])\n",
    "    result['SecondChanceFGA'] = (result['SecondChanceFG2A'] + result['SecondChanceFG3A'])\n",
    "\n",
    "    result['FGA']= result['FG2A']+result['FG3A']\n",
    "    result['FGM']= result['FG2M']+result['FG3M']\n",
    "    result['NonHeaveFg3Pct'] = (result['FG3M'] / (result['FG3A']-result['HeaveAttempts']) * 1).fillna(0)\n",
    "    \n",
    "    # Advanced shooting percentages\n",
    "    result['EfgPct'] = ((result['FG2M'] + 1.5 * result['FG3M']) / (result['FG2A'] + result['FG3A']) * 1).fillna(0)\n",
    "    # Assuming you have a DataFrame named result with the necessary columns\n",
    "    \n",
    "    # Step 1: Extract relevant columns for easier calculations\n",
    "    points = result['Points']\n",
    "    fga = result['FGA']\n",
    "    fta = result['FTA']\n",
    "    and1_2pt = result['2pt And 1 Free Throw Trips']\n",
    "    and1_3pt = result['3pt And 1 Free Throw Trips']\n",
    "    \n",
    "    # Step 2: Calculate the adjusted free throw weighting factor\n",
    "    w = (and1_2pt + 1.5 * and1_3pt + 0.44 * (fta - and1_2pt - and1_3pt)) / fta\n",
    "    \n",
    "    # Step 3: Calculate True Shooting Percentage (TS%) and add to result DataFrame\n",
    "    result['TsPct'] = points / (2 * (fga + w * fta))\n",
    "    \n",
    "    # The 'TS%' column in the result DataFrame now contains the calculated TS% values\n",
    "\n",
    "    #result['TsPct'] = (result['Points'] / (2 * (result['FG2A'] + result['FG3A'] + 0.44 * result['FTA'])) * 1).fillna(0)\n",
    "    \n",
    "    # Second chance percentages\n",
    "    result['SecondChanceFg3Pct'] = (result['SecondChanceFG3M'] / result['SecondChanceFG3A'] * 1).fillna(0)\n",
    "    result['SecondChanceFg2Pct'] = (result['SecondChanceFG2M'] / result['SecondChanceFG2A'] * 1).fillna(0)\n",
    "    result['SecondChanceEfgPct'] = ((result['SecondChanceFG2M'] + 1.5 * result['SecondChanceFG3M']) / \n",
    "                                   (result['SecondChanceFG2A'] + result['SecondChanceFG3A']) * 1).fillna(0)\n",
    "    result['SecondChanceTsPct'] = (result['SecondChancePoints'] / \n",
    "                                  (2 * (result['SecondChanceFG2A'] + result['SecondChanceFG3A'])) * 1).fillna(0)\n",
    "\n",
    "    \n",
    "    result['SecondChancePointsPct'] = (result['SecondChancePoints'] / result['Points'] * 1).fillna(0)\n",
    "    \n",
    "    # Shot distribution\n",
    "    result['FG3APct'] = (result['FG3A'] / (result['FG2A'] + result['FG3A']) * 1).fillna(0)\n",
    "    \n",
    "    result['FG2APctBlocked'] = (result['Fg2aBlocked'] / result['FG2A'] * 1).fillna(0)\n",
    "    result['AtRimPctBlocked'] = (result['opp_BlockedAtRim'] / result['AtRimFGA'] * 1).fillna(0)\n",
    "    result['LongMidRangePctBlocked'] = (result['opp_BlockedLongMidRange'] / result['LongMidRangeFGA'] * 1).fillna(0)\n",
    "    result['ShortMidRangePctBlocked'] = (result['opp_BlockedShortMidRange'] / result['ShortMidRangeFGA'] * 1).fillna(0)\n",
    "    result['FG3APctBlocked'] = (result['Fg3aBlocked'] / result['FG3A'] * 1).fillna(0)\n",
    "    result['Corner3PctBlocked'] = (result['Blocked3s'] / result['Corner3FGA'] * 1).fillna(0)\n",
    "    result['Arc3PctBlocked'] = (result['Blocked3s'] / result['Arc3FGA'] * 1).fillna(0)\n",
    "    \n",
    "    # Rebound percentages - Field Goals (corrected to be relative to missed shots)\n",
    "    result['DefFGReboundPct'] = (result['DefRebounds'] / (result['opp_FG2A'] - result['opp_FG2M'] + result['opp_FG3A'] - result['opp_FG3M']) * 1).fillna(0)\n",
    "    result['OffFGReboundPct'] = (result['OffRebounds'] / (result['FG2A'] - result['FG2M'] + result['FG3A'] - result['FG3M']) * 1).fillna(0)\n",
    "    \n",
    "    # Rebound percentages by shot location (corrected to be relative to missed shots of that type)\n",
    "    result['OffLongMidRangeReboundPct'] = (result['OffTwoPtRebounds'] / (result['LongMidRangeFGA'] - result['LongMidRangeFGM']) * 1).fillna(0)\n",
    "    result['DefLongMidRangeReboundPct'] = (result['DefTwoPtRebounds'] / (result['LongMidRangeFGA'] - result['LongMidRangeFGM']) * 1).fillna(0)\n",
    "    result['DefArc3ReboundPct'] = (result['DefThreePtRebounds'] / (result['Arc3FGA'] - result['Arc3FGM']) * 1).fillna(0)\n",
    "    result['OffArc3ReboundPct'] = (result['OffThreePtRebounds'] / (result['Arc3FGA'] - result['Arc3FGM']) * 1).fillna(0)\n",
    "    result['DefAtRimReboundPct'] = (result['DefTwoPtRebounds'] / (result['AtRimFGA'] - result['AtRimFGM']) * 1).fillna(0)\n",
    "    result['OffAtRimReboundPct'] = (result['OffTwoPtRebounds'] / (result['AtRimFGA'] - result['AtRimFGM']) * 1).fillna(0)\n",
    "    result['DefShortMidRangeReboundPct'] = (result['DefTwoPtRebounds'] / (result['ShortMidRangeFGA'] - result['ShortMidRangeFGM']) * 1).fillna(0)\n",
    "    result['OffShortMidRangeReboundPct'] = (result['OffTwoPtRebounds'] / (result['ShortMidRangeFGA'] - result['ShortMidRangeFGM']) * 1).fillna(0)\n",
    "    result['DefCorner3ReboundPct'] = (result['DefThreePtRebounds'] / (result['Corner3FGA'] - result['Corner3FGM']) * 1).fillna(0)\n",
    "    result['OffCorner3ReboundPct'] = (result['OffThreePtRebounds'] / (result['Corner3FGA'] - result['Corner3FGM']) * 1).fillna(0)\n",
    "    \n",
    "    # Free throw rebound percentages (corrected to be relative to FT misses)\n",
    "\n",
    "    # Assist percentages\n",
    "    result['Assisted2sPct'] = (result['PtsAssisted2s'] / (2 * result['FG2M']) * 1).fillna(0)\n",
    "    result['Assisted3sPct'] = (result['PtsAssisted3s'] / (3 * result['FG3M']) * 1).fillna(0)\n",
    "    result['NonPutbacksAssisted2sPct'] = (result['PtsAssisted2s'] / (2 * (result['FG2M'] - result['PtsPutbacks']/2)) * 1).fillna(0)\n",
    "    result['Corner3PctAssisted'] = (result['Corner3Assists'] / result['Corner3FGM'] * 1).fillna(0)\n",
    "    result['Arc3PctAssisted'] = (result['Arc3Assists'] / result['Arc3FGM'] * 1).fillna(0)\n",
    "    result['SecondChanceCorner3PctAssisted'] = (result['Corner3Assists'] / result['SecondChanceCorner3FGM'] * 1).fillna(0)\n",
    "    result['SecondChanceArc3PctAssisted'] = (result['Arc3Assists'] / result['SecondChanceArc3FGM'] * 1).fillna(0)\n",
    "    result['SecondChanceAtRimPctAssisted'] = (result['AtRimAssists'] / result['SecondChanceAtRimFGM'] * 1).fillna(0)\n",
    "    result['AtRimPctAssisted'] = (result['AtRimAssists'] / result['AtRimFGM'] * 1).fillna(0)\n",
    "    result['ShortMidRangePctAssisted'] = (result['ShortMidRangeAssists'] / result['ShortMidRangeFGM'] * 1).fillna(0)\n",
    "    result['LongMidRangePctAssisted'] = (result['LongMidRangeAssists'] / result['LongMidRangeFGM'] * 1).fillna(0)\n",
    "    \n",
    "    # Penalty percentages\n",
    "    result['PenaltyPointsPct'] = (result['PenaltyPoints'] / result['Points'] * 1).fillna(0)\n",
    "    result['PenaltyOffPossPct'] = (result['PenaltyOffPoss'] / result['OffPoss'] * 1).fillna(0)\n",
    "    result['PenaltyFg2Pct'] = (result['PenaltyFG2M'] / result['PenaltyFG2A'] * 1).fillna(0)\n",
    "    result['PenaltyFg3Pct'] = (result['PenaltyFG3M'] / result['PenaltyFG3A'] * 1).fillna(0)\n",
    "    result['PenaltyEfgPct'] = ((result['PenaltyFG2M'] + 1.5 * result['PenaltyFG3M']) / \n",
    "                              (result['PenaltyFG2A'] + result['PenaltyFG3A']) * 1).fillna(0)\n",
    "    result['PenaltyTsPct'] = (result['PenaltyPoints'] / \n",
    "                             (2 * (result['PenaltyFG2A'] + result['PenaltyFG3A'] + 0.44 * result['FTA'])) * 1).fillna(0)\n",
    "    \n",
    "    # Miscellaneous percentages\n",
    "    result['BlocksRecoveredPct'] = (result['RecoveredBlocks'] / result['Blocks'] * 1).fillna(0)\n",
    "    result['LiveBallTurnoverPct'] = (result['LiveBallTurnovers'] / result['Turnovers'] * 1).fillna(0)\n",
    "    result['SelfORebPct'] = (result['SelfOReb'] /(result['FGA']- result['FGM']) * 1).fillna(0)\n",
    "    \n",
    "    # Fouls percentages\n",
    "    total_shooting_fouls = result['TwoPtShootingFoulsDrawn'] + result['ThreePtShootingFoulsDrawn']\n",
    "    result['ShootingFoulsDrawnPct'] = (result['ShootingFouls'] / (result['FG2A']+result['FG3A']) * 1).fillna(0)\n",
    "    result['TwoPtShootingFoulsDrawnPct'] = ((result['TwoPtShootingFoulsDrawn'])/ (result['FG2A']+result['2pt And 1 Free Throw Trips'])* 1).fillna(0)\n",
    "    result['ThreePtShootingFoulsDrawnPct'] = (result['ThreePtShootingFoulsDrawn'] / result['FG3A'] * 1).fillna(0)\n",
    "    total_def_rebounds = result['DefTwoPtRebounds'] + result['DefThreePtRebounds']\n",
    "    total_off_rebounds = result['OffTwoPtRebounds'] + result['OffThreePtRebounds']\n",
    "    result['ThreePtShootingFoulsDrawnPct'] = result['ThreePtShootingFoulsDrawn'] / result['FG3A'] * 1\n",
    "    \n",
    "    result['DefTwoPtReboundPct'] = (result['DefTwoPtRebounds'] / total_def_rebounds * 1).fillna(0)\n",
    "    result['DefThreePtReboundPct'] = (result['DefThreePtRebounds'] / total_def_rebounds * 1).fillna(0)\n",
    "    result['OffTwoPtReboundPct'] = (result['OffTwoPtRebounds'] /(result['FG2A']-result['FG2M']) * 1).fillna(0)\n",
    "    result['OffThreePtReboundPct'] = (result['OffThreePtRebounds'] / total_off_rebounds * 1).fillna(0)\n",
    "    \n",
    "    result['OffFTReboundPct']=(result['FTOffRebounds']/(result['opp_FTDefRebounds']+result['FTOffRebounds']))\n",
    "\n",
    "    result['DefFTReboundPct']=(result['FTDefRebounds']/(result['opp_FTOffRebounds']+result['FTDefRebounds']))\n",
    "    result['AtRimFrequency'] = result['AtRimFGA'] / result['FGA']\n",
    "    result['ShortMidRangeFrequency'] = result['ShortMidRangeFGA'] / result['FGA']\n",
    "    result['LongMidRangeFrequency'] = result['LongMidRangeFGA'] / result['FGA']\n",
    "    result['Corner3Frequency'] = result['Corner3FGA'] / result['FGA']\n",
    "    result['Arc3Frequency'] = result['Arc3FGA'] / result['FGA']\n",
    "    result['SecondChanceArc3Frequency'] = result['SecondChanceArc3FGA'] / result['SecondChanceFGA']\n",
    "    result['AtRimFG3AFrequency'] = (result['AtRimFGA'] + result['FG3A']) / result['FGA']\n",
    "    result['SecondChanceAtRimFrequency'] = result['SecondChanceAtRimFGA'] / result['SecondChanceFGA']\n",
    "    result['SecondChanceCorner3Frequency'] = result['SecondChanceCorner3FGA'] / result['SecondChanceFGA']\n",
    "    result['PenaltyAtRimFrequency'] = result['PenaltyAtRimFGA'] / result['PenaltyFGA']\n",
    "    result['PenaltyArc3Frequency'] = result['PenaltyArc3FGA'] / result['PenaltyFGA']\n",
    "    result['PenaltyCorner3Frequency'] = result['PenaltyCorner3FGA'] / result['PenaltyFGA']\n",
    "    # Calculating accuracy metrics\n",
    "    result['AtRimAccuracy'] = result['AtRimFGM'] / result['AtRimFGA']\n",
    "    result['UnblockedAtRimAccuracy'] = (result['AtRimFGM'] - result['Fg2aBlocked']) / result['AtRimFGA']\n",
    "    \n",
    "    result['ShortMidRangeAccuracy'] = result['ShortMidRangeFGM'] / result['ShortMidRangeFGA']\n",
    "    result['UnblockedShortMidRangeAccuracy'] = (result['ShortMidRangeFGM'] - result['Fg2aBlocked']) / result['ShortMidRangeFGA']\n",
    "    \n",
    "    result['LongMidRangeAccuracy'] = result['LongMidRangeFGM'] / result['LongMidRangeFGA']\n",
    "    result['UnblockedLongMidRangeAccuracy'] = (result['LongMidRangeFGM'] - result['Fg2aBlocked']) / result['LongMidRangeFGA']\n",
    "    \n",
    "    result['Corner3Accuracy'] = result['Corner3FGM'] / result['Corner3FGA']\n",
    "    result['UnblockedCorner3Accuracy'] = (result['Corner3FGM'] - result['Fg3aBlocked']) / result['Corner3FGA']\n",
    "    \n",
    "    result['Arc3Accuracy'] = result['Arc3FGM'] / result['Arc3FGA']\n",
    "    result['UnblockedArc3Accuracy'] = (result['Arc3FGM'] - result['Fg3aBlocked']) / result['Arc3FGA']\n",
    "    \n",
    "    # Second-chance accuracy metrics\n",
    "    result['SecondChanceAtRimAccuracy'] = result['SecondChanceAtRimFGM'] / result['SecondChanceAtRimFGA']\n",
    "    result['SecondChanceCorner3Accuracy'] = result['SecondChanceCorner3FGM'] / result['SecondChanceCorner3FGA']\n",
    "    result['SecondChanceArc3Accuracy'] = result['SecondChanceArc3FGM'] / result['SecondChanceArc3FGA']\n",
    "    \n",
    "    # Penalty accuracy metrics\n",
    "    result['PenaltyAtRimAccuracy'] = result['PenaltyAtRimFGM'] / result['PenaltyAtRimFGA']\n",
    "    result['PenaltyCorner3Accuracy'] = result['PenaltyCorner3FGM'] / result['PenaltyCorner3FGA']\n",
    "    result['PenaltyArc3Accuracy'] = result['PenaltyArc3FGM'] / result['PenaltyArc3FGA']\n",
    "    \n",
    "    # Non-heave accuracy metric\n",
    "    result['NonHeaveArc3Accuracy'] = result['NonHeaveArc3FGM'] / result['NonHeaveArc3FGA']\n",
    "\n",
    "\n",
    "    return result\n",
    "\n",
    "def calculate_weighted_average(df, value_col, weight_col, group_by=None):\n",
    "    \"\"\"\n",
    "    Calculate weighted average of a value column based on a weight column.\n",
    "    \n",
    "    Parameters:\n",
    "    -----------\n",
    "    df : pandas.DataFrame\n",
    "        Input dataframe\n",
    "    value_col : str\n",
    "        Name of the column containing the values to average\n",
    "    weight_col : str\n",
    "        Name of the column containing the weights\n",
    "    group_by : str or list, optional\n",
    "        Column(s) to group by before calculating weighted average\n",
    "        \n",
    "    Returns:\n",
    "    --------\n",
    "    If group_by is None: returns a float (weighted average)\n",
    "    If group_by is specified: returns a Series with weighted averages per group\n",
    "    \n",
    "    Examples:\n",
    "    --------\n",
    "    # Single weighted average\n",
    "    df = pd.DataFrame({\n",
    "        'value': [10, 20, 30],\n",
    "        'weight': [1, 2, 3]\n",
    "    })\n",
    "    result = calculate_weighted_average(df, 'value', 'weight')\n",
    "    \n",
    "    # Grouped weighted averages\n",
    "    df = pd.DataFrame({\n",
    "        'category': ['A', 'A', 'B', 'B'],\n",
    "        'value': [10, 20, 30, 40],\n",
    "        'weight': [1, 2, 3, 4]\n",
    "    })\n",
    "    result = calculate_weighted_average(df, 'value', 'weight', 'category')\n",
    "    \"\"\"\n",
    "    \n",
    "    # Input validation\n",
    "    if value_col not in df.columns:\n",
    "        raise ValueError(f\"Value column '{value_col}' not found in dataframe\")\n",
    "    if weight_col not in df.columns:\n",
    "        raise ValueError(f\"Weight column '{weight_col}' not found in dataframe\")\n",
    "    \n",
    "    # Handle negative weights\n",
    "    if (df[weight_col] < 0).any():\n",
    "        raise ValueError(\"Negative weights found. Please ensure all weights are non-negative\")\n",
    "    \n",
    "    # Remove rows where either value or weight is null\n",
    "    df = df.dropna(subset=[value_col, weight_col])\n",
    "    \n",
    "    # If all weights are zero, return nan\n",
    "    if (df[weight_col] == 0).all():\n",
    "        print('hit zero condition')\n",
    "        return np.nan\n",
    "    \n",
    "    if group_by is None:\n",
    "        # Calculate single weighted average\n",
    "        weighted_sum = (df[value_col] * df[weight_col]).sum()\n",
    "        weight_sum = df[weight_col].sum()\n",
    "        return weighted_sum / weight_sum if weight_sum != 0 else np.nan\n",
    "    else:\n",
    "        # Calculate grouped weighted averages\n",
    "        grouped = df.groupby(group_by)\n",
    "        weighted_sums = grouped.apply(lambda x: (x[value_col] * x[weight_col]).sum())\n",
    "        weight_sums = grouped[weight_col].sum()\n",
    "        weight_sum = df[weight_col].sum()\n",
    "        return weighted_sums / weight_sum\n",
    "\n",
    "\n",
    "def transform_data(df):\n",
    "    df.fillna(0, inplace=True)\n",
    "    \n",
    "    id_col=['EntityId',\n",
    "     'TeamId',\n",
    "     'Name',\n",
    "     'ShortName',\n",
    "     'RowId',\n",
    "     'TeamAbbreviation',\n",
    "    'team_id',\n",
    "     'year',\n",
    "     'season',\n",
    "     'team_vs']\n",
    "    df['FGA']= df['FG2A']+df['FG3A']\n",
    "    df['FGM']= df['FG2M']+df['FG3M']\n",
    "    df['opp_FGA']= df['opp_FG2A']+df['opp_FG3A']\n",
    "    df['opp_FGM']= df['opp_FG2M']+df['opp_FG3M']\n",
    "\n",
    "    missing=['3pt And 1 Free Throw Trips','opp_BlockedLongMidRange','opp_FTOffRebounds']\n",
    "    for col in missing:\n",
    "        if col not in df.columns:\n",
    "            df[col]=0\n",
    "    \n",
    "    df.drop(columns=['opp_Name', 'opp_ShortName', 'opp_RowId', 'opp_TeamAbbreviation', 'opp_season'],inplace=True)\n",
    "    df['two_point_misses']= df['FG2A'] - df['FG2M']\n",
    "    df['opp_two_point_misses']= df['opp_FG2A'] - df['opp_FG2M']\n",
    "    \n",
    "    # Specific location misses\n",
    "    df['at_rim_misses']= df['AtRimFGA'] - df['AtRimFGM']\n",
    "    df['opp_at_rim_misses']= df['opp_AtRimFGA'] - df['opp_AtRimFGM']\n",
    "    \n",
    "    df['short_midrange_misses']= df['ShortMidRangeFGA'] - df['ShortMidRangeFGM']\n",
    "    \n",
    "    df['opp_short_midrange_misses']= df['opp_ShortMidRangeFGA'] - df['opp_ShortMidRangeFGM']\n",
    "    \n",
    "    df['long_midrange_misses']= df['LongMidRangeFGA'] - df['LongMidRangeFGM']\n",
    "    df['opp_long_midrange_misses']= df['opp_LongMidRangeFGA'] - df['opp_LongMidRangeFGM']\n",
    "    \n",
    "    # Three point misses by location\n",
    "    df['corner3_misses']= df['Corner3FGA'] - df['Corner3FGM']\n",
    "    df['opp_corner3_misses']= df['opp_Corner3FGA'] - df['opp_Corner3FGM']\n",
    "    \n",
    "    df['arc3_misses']= df['Arc3FGA'] - df['Arc3FGM']\n",
    "    df['opp_arc3_misses']= df['opp_Arc3FGA'] - df['opp_Arc3FGM']\n",
    "    \n",
    "    # Free throw misses\n",
    "    df['ft_misses']= df['FTA'] - df['FtPoints']\n",
    "    \n",
    "    df['opp_ft_misses']= df['opp_FTA'] - df['opp_FtPoints']\n",
    "    \n",
    "    # Total misses\n",
    "    df['fg_misses']= (df['FGA'] - df['FGM'])\n",
    "    df['opp_fg_misses']= (df['opp_FGA'] - df['opp_FGM'])\n",
    "    \n",
    "    weight_mapping = {\n",
    "        'DefTwoPtReboundPct': 'opp_two_point_misses',\n",
    "        'OffTwoPtReboundPct': 'two_point_misses',\n",
    "        'DefThreePtReboundPct':'opp_FG3A',\n",
    "        'DefFGReboundPct': 'opp_fg_misses',\n",
    "        'OffFGReboundPct': 'fg_misses',\n",
    "        'OffLongMidRangeReboundPct': 'long_midrange_misses',\n",
    "        'DefLongMidRangeReboundPct': 'opp_long_midrange_misses',\n",
    "        'OffThreePtReboundPct': 'opp_FG3A',\n",
    "        'OffArc3ReboundPct': 'arc3_misses',\n",
    "        'DefArc3ReboundPct': 'opp_arc3_misses',\n",
    "        'DefAtRimReboundPct': 'opp_at_rim_misses',\n",
    "        'DefShortMidRangeReboundPct': 'opp_short_midrange_misses',\n",
    "        'DefCorner3ReboundPct': 'opp_corner3_misses',\n",
    "        'OffAtRimReboundPct': 'at_rim_misses',\n",
    "        'SelfORebPct': 'fg_misses',\n",
    "        'OffShortMidRangeReboundPct': 'short_midrange_misses',\n",
    "        'DefFTReboundPct': 'FTDefRebounds',\n",
    "        'OffFTReboundPct':'opp_FTDefRebounds',\n",
    "        'OffCorner3ReboundPct': 'corner3_misses',\n",
    "        'SecondChanceTsPct':'SecondChanceOffPoss',\n",
    "        'SecondChanceCorner3PctAssisted':'SecondChanceCorner3FGM',\n",
    "        'SecondChanceArc3PctAssisted':'SecondChanceArc3FGM',\n",
    "        'SecondChanceAtRimPctAssisted':'SecondChanceAtRimFGM'\n",
    "    }\n",
    "    \n",
    "    # Create a DataFrame to store weighted averages for each team\n",
    "    team_weighted_avgs = pd.DataFrame()\n",
    "    \n",
    "    # Calculate weighted averages for each team\n",
    "    for team_id in df['TeamId'].unique():\n",
    "        team_data = df[df['TeamId'] == team_id]\n",
    "        team_values = {}\n",
    "        \n",
    "        for key in weight_mapping.keys():\n",
    "            if team_data[weight_mapping[key]].sum() == 0:\n",
    "                val = 0\n",
    "            else:\n",
    "                val = calculate_weighted_average(team_data, key, weight_mapping[key])\n",
    "            team_values[key] = val\n",
    "            \n",
    "        # Add team values to the DataFrame\n",
    "        team_weighted_avgs = pd.concat([\n",
    "            team_weighted_avgs, \n",
    "            pd.DataFrame([team_values], index=[team_id])\n",
    "        ])\n",
    "    \n",
    "    weight_list = list(weight_mapping.keys())\n",
    "    pct = [col for col in df.columns if 'pct' in col.lower()]\n",
    "    sum_cols = [col for col in df.columns if col not in id_col and col not in pct]\n",
    "    \n",
    "    sums = df.groupby('TeamId').sum(numeric_only=True)[sum_cols].reset_index()\n",
    "    \n",
    "    exclude = [\"PenaltyTsPct\"]\n",
    "    pct = [col for col in pct if col not in exclude]\n",
    "    pct = [col for col in pct if 'opp_' not in col.lower()]\n",
    "    \n",
    "    newframe = calculate_basketball_percentages(sums)\n",
    "    \n",
    "    # Add the weighted averages to newframe\n",
    "    for col in weight_list:\n",
    "        newframe[col] = newframe['TeamId'].map(team_weighted_avgs[col])\n",
    "    \n",
    "    to_drop = [col for col in newframe if 'opp_' in col.lower()]\n",
    "    newframe.drop(columns=to_drop, inplace=True)\n",
    "    \n",
    "    return newframe\n",
    "\n",
    "def player_rows(start_year, end_year, player_ids, off_player_ids, team_id, vs=False, on=True, ps=False):\n",
    "    pstring = \"_ps\" if ps else \"\"\n",
    "    all_df1 = []  # List to collect `df1` dataframes for each year\n",
    "    all_df2 = []  # List to collect `df2` dataframes for each year\n",
    "\n",
    "    # Loop through each year in the specified range\n",
    "    for year in range(start_year, end_year + 1):\n",
    "        # Load the appropriate dataframes based on the `vs` flag\n",
    "        if not vs:\n",
    "            tempdf1 = pd.read_csv(f\"data/{year}/{team_id}{pstring}.csv\")\n",
    "            tempdf2 = pd.read_csv(f\"data/{year}/{team_id}_vs{pstring}.csv\")\n",
    "        else:\n",
    "            tempdf2 = pd.read_csv(f\"data/{year}/{team_id}{pstring}.csv\")\n",
    "            tempdf1 = pd.read_csv(f\"data/{year}/{team_id}_vs{pstring}.csv\")\n",
    "\n",
    "        \n",
    "        # Append the dataframes to the lists\n",
    "        all_df1.append(tempdf1)\n",
    "        all_df2.append(tempdf2)\n",
    "\n",
    "\n",
    "    # Concatenate all yearly dataframes into one for each category\n",
    "    df1 = pd.concat(all_df1).reset_index()\n",
    "    \n",
    "    df2 = pd.concat(all_df2).reset_index()\n",
    "    # Get columns not present in df1 for default zero assignment\n",
    "    notfound = set(df2.columns) - set(df1.columns)\n",
    "    \n",
    "    # Drop the 'team_vs' column from df2 if it exists\n",
    "    if 'team_vs' in df2.columns:\n",
    "        df2.drop(columns='team_vs', inplace=True)\n",
    "    \n",
    "    # Rename columns in df2 to distinguish them in the merged dataframe\n",
    "    id_col = ['EntityId','year']\n",
    "    oppnames = [f'opp_{col}' if col not in id_col else col for col in df2.columns]\n",
    "    df2.columns = oppnames\n",
    "    \n",
    "    # Merge df1 and df2 on the 'EntityId' column\n",
    "    df = df1.merge(df2, on=id_col)\n",
    "\n",
    "    \n",
    "    # Assign 0 to missing columns from df2 in df1\n",
    "    for col in notfound:\n",
    "        df[col] = 0\n",
    "\n",
    "    # Filter rows based on the presence of any player_id in the list of player_ids\n",
    "# For players that must be in the lineup\n",
    "    if len(player_ids) > 0:\n",
    "        df = df[df['EntityId'].apply(lambda x: all(pid in x.split('-') for pid in player_ids))]\n",
    "    \n",
    "    # For players that must NOT be in the lineup\n",
    "    if len(off_player_ids) > 0:\n",
    "        df = df[df['EntityId'].apply(lambda x: not any(pid in x.split('-') for pid in off_player_ids))]\n",
    "    newframe=transform_data(df)\n",
    "\n",
    "    newframe['team_id']=team_id\n",
    "    if ps == False:\n",
    "        index=pd.read_csv('index_master.csv')\n",
    "    else:\n",
    "        index=pd.read_csv('index_master_ps.csv')    \n",
    "    index=index[index.year==year]\n",
    "    name_map=dict(zip(index['nba_id'],index['player']))\n",
    "    name=''\n",
    "    names=[]\n",
    "    names2=[]\n",
    "    if player_ids:\n",
    "        for id in player_ids:\n",
    "            names.append(name_map[int(id)].split(' ')[0])\n",
    "\n",
    "    if off_player_ids:\n",
    "        for id in off_player_ids:\n",
    "            names2.append(name_map[int(id)].split(' ')[0])\n",
    "    if len(names)>0:\n",
    "                \n",
    "        name= (', ').join(names)\n",
    "        name += ' On'\n",
    "    if len(names2)>0:\n",
    "                \n",
    "        name2= (', ').join(names2)\n",
    "        name2 += ' Off'\n",
    "\n",
    "        if name =='':\n",
    "            name=name2\n",
    "        else:\n",
    "            name= name +' | ' +name2\n",
    "    \n",
    "    \n",
    "\n",
    "    newframe.drop(columns='GamesPlayed')\n",
    "    #newframe['GamesPlayed']=newframe['OffPoss']/75\n",
    "    #newframe['GamesPlayed']=newframe['GamesPlayed'].round(0)\n",
    "    newframe['Name']=name\n",
    "    \n",
    "    return newframe\n",
    "\n",
    "\n",
    "def team_averages(start_year,end_year,ps=False,vs=False):\n",
    "    carry=''\n",
    "    if ps == True:\n",
    "        carry='ps'\n",
    "    framelist=[]\n",
    "    \n",
    "    for year in range(start_year,end_year+1):\n",
    "        if vs == False:\n",
    "            df1= pd.read_csv(f\"https://raw.githubusercontent.com/gabriel1200/player_sheets/refs/heads/master/team_totals/{str(year)}{carry}.csv\")\n",
    "            df2= pd.read_csv(f\"https://raw.githubusercontent.com/gabriel1200/player_sheets/refs/heads/master/team_totals/{str(year)}vs{carry}.csv\")\n",
    "        else:\n",
    "            df2= pd.read_csv(f\"https://raw.githubusercontent.com/gabriel1200/player_sheets/refs/heads/master/team_totals/{str(year)}{carry}.csv\")\n",
    "            df1= pd.read_csv(f\"https://raw.githubusercontent.com/gabriel1200/player_sheets/refs/heads/master/team_totals/{str(year)}vs{carry}.csv\")\n",
    "        id_col = ['EntityId']\n",
    "        oppnames = [f'opp_{col}' if col not in id_col else col for col in df2.columns]\n",
    "        df2.columns = oppnames\n",
    "        \n",
    "        # Merge df1 and df2 on the 'EntityId' column\n",
    "        df = df1.merge(df2, on=id_col)\n",
    "        del df1\n",
    "        del df2\n",
    "        framelist.append(df)\n",
    "    namemap=dict(zip(df['TeamId'],df['Name']))\n",
    "        \n",
    "    teams=pd.concat(framelist)\n",
    "    teams['team_id']=teams['TeamId']\n",
    "    teams= transform_data(teams)\n",
    "    teams.drop(columns='GamesPlayed')\n",
    "    \n",
    "    teams['team_id']=teams['TeamId']\n",
    "\n",
    "\n",
    "    teams['Name']=teams['TeamId'].map(namemap)\n",
    "    return teams\n",
    "def trim_frame(frame1):\n",
    "    frame1['FGA']=frame1['FG2A']+frame1['FG3A']\n",
    "    columns = ['AtRimFGM','AtRimFGA','AtRimAssists','Turnovers','FTA','FGA',\n",
    "    'OffPoss','DefPoss','TwoPtAssists','Steals','BadPassSteals',\n",
    "    'ThreePtAssists','FG3A','OpponentPoints','Points','SecondChancePoints','FG2A','LiveBallTurnovers']\n",
    "    other_col = ['team_id','TsPct','Fg3Pct','AtRimFG3AFrequency','Pace','AtRimFrequency','SecondsPerPossOff','SecondsPerPossDef',\n",
    "                'DefAtRimReboundPct','DefFGReboundPct','AtRimAccuracy','EfgPct',\n",
    "'OffFGReboundPct','Name']\n",
    "    new_df = pd.DataFrame()\n",
    "\n",
    "    \n",
    "    new_df[other_col] =frame1[other_col]\n",
    "    \n",
    "\n",
    "    for col in columns:\n",
    "        if col in['OpponentPoints','DefRebounds']:\n",
    "            new_df[col]= 100* frame1[col]/frame1['DefPoss']\n",
    "\n",
    "        else:  \n",
    "            new_df[col]= 100* frame1[col]/frame1['OffPoss']\n",
    "    new_df['TOV%'] = (new_df['Turnovers'] / (new_df['Turnovers'] + new_df['FGA'] + 0.44 * new_df['FTA']))\n",
    "  \n",
    "    new_df = new_df.rename(columns={\n",
    "            'AtRimFrequency': 'Rim Freq',\n",
    "            'DefFGReboundPct': 'DREB%', 'OffFGReboundPct': 'OREB%', 'OpponentPoints': 'Opp Points', 'AtRimAssists': 'Rim Assists','AtRimAccuracy': 'Rim%',\n",
    "            'ThreePtAssists': '3P Assists', 'TsPct': 'TS%', 'Fg3Pct': '3P%','EfgPct':'EFG%'})\n",
    "\n",
    "    columns = [\n",
    "            'Points', 'Opp Points', 'FTA','EFG%',\n",
    "            '3P%',\n",
    "            'Rim Freq', 'TS%',\n",
    "            'Rim%',  'TOV%',\n",
    "            '3P Assists','Rim Assists',\n",
    "            'DREB%', 'OREB%','Name']\n",
    "    return new_df[columns]\n",
    "def create_nba_beeswarm(team_list, start_year, end_year, data, categories=None, vs=False, ps=False):\n",
    "    from sklearn.preprocessing import MinMaxScaler\n",
    "    import pandas as pd\n",
    "    import plotly.graph_objects as go\n",
    "    \n",
    "    team_names = {\n",
    "        \"PHX\": \"Phoenix Suns\",\n",
    "        \"DET\": \"Detroit Pistons\",\n",
    "        # ... (rest of the team mappings)\n",
    "    }\n",
    "    \n",
    "    addon = ' PS ' if ps else ' RS '\n",
    "    addon += ' (Defense)' if vs else ''\n",
    "    \n",
    "    # Normalize the data to a 0-1 range\n",
    "    scaler = MinMaxScaler()\n",
    "    normalized_data = pd.DataFrame(\n",
    "        scaler.fit_transform(data[categories]),\n",
    "        columns=categories,\n",
    "        index=data.index\n",
    "    )\n",
    "    \n",
    "    colors = [\n",
    "        '#ff4d4d',  # Red\n",
    "        \"#ff7f0e\",  # Orange\n",
    "        \"#2ca02c\",  # Green\n",
    "        \"#e377c2\",  # Pink\n",
    "    ]\n",
    "    \n",
    "    # Assign colors for lineup data\n",
    "    data['color'] = [colors[i % len(colors)] for i in range(len(data))]\n",
    "    \n",
    "    # Store original values for hover text and labels\n",
    "    original_data = data.copy()\n",
    "    \n",
    "    # Create the figure\n",
    "    fig = go.Figure()\n",
    "    \n",
    "    # Define custom colors\n",
    "    team_color = '#00ffff'\n",
    "    grid_color = 'rgba(255, 255, 255, 0.1)'\n",
    "    bg_color = '#1a1a1a'\n",
    "    text_color = '#ffffff'\n",
    "    \n",
    "    # Draw one trace for all `team_data` combined\n",
    "    team_data = normalized_data[data['lineup_row'] == 0]\n",
    "    original_team_data = original_data[data['lineup_row'] == 0]\n",
    "    \n",
    "    for i, category in enumerate(categories):\n",
    "        hover_texts = [\n",
    "            f\"{team_names.get(original_team_data.loc[idx, 'team'], 'Unknown')}<br>{category}: {original_team_data.loc[idx, category]:.1f}\"\n",
    "            for idx in team_data.index\n",
    "        ]\n",
    "        \n",
    "        fig.add_trace(go.Scatter(\n",
    "            x=[category] * len(team_data),\n",
    "            y=team_data[category],\n",
    "            mode='markers',\n",
    "            name='Season Avg (All Teams)',  # Combined trace for all teams\n",
    "            marker=dict(\n",
    "                size=18,\n",
    "                color=team_color,\n",
    "                opacity=0.7,\n",
    "                line=dict(color='white', width=3),\n",
    "                symbol='circle'\n",
    "            ),\n",
    "            text=hover_texts,\n",
    "            hovertemplate=\"<b>%{text}</b><br>Normalized: %{y:.2f}<br><extra></extra>\",\n",
    "            showlegend=False  # No legend for combined team data\n",
    "        ))\n",
    "    \n",
    "    # Draw individual traces for each team in `lineup_data`\n",
    "    for team in team_list:\n",
    "        lineup_data = normalized_data[(data['team'] == team) & (data['lineup_row'] == 1)]\n",
    "        \n",
    "        original_lineup_data = original_data[(original_data['team'] == team) & (original_data['lineup_row'] == 1)]\n",
    "        \n",
    "        team_name = team_names.get(team, team)\n",
    "        print(original_lineup_data)\n",
    "        combo_name=team_name + ' : '+str(original_lineup_data['Name'].iloc[0])\n",
    "       \n",
    "        color = colors[team_list.index(team) % len(colors)]  # Unique color for the team's lineups\n",
    "        \n",
    "        for i, category in enumerate(categories):\n",
    "            lineup_hover_texts = [\n",
    "                f\"{original_lineup_data.loc[lineup, category]:.1f}\"\n",
    "                for lineup in lineup_data.index\n",
    "            ]\n",
    "            \n",
    "            fig.add_trace(go.Scatter(\n",
    "                x=[category] * len(lineup_data),\n",
    "                y=lineup_data[category],\n",
    "                mode='markers+text',\n",
    "                name=combo_name,\n",
    "                marker=dict(\n",
    "                    size=21,\n",
    "                    color=color,  # Unique color for each team\n",
    "                    opacity=1,\n",
    "                    line=dict(color='#0A0A0A', width=3),\n",
    "                    symbol='diamond'\n",
    "                ),\n",
    "                text=lineup_hover_texts,\n",
    "                textposition='top right',\n",
    "                textfont=dict(\n",
    "                    color=text_color,\n",
    "                    size=20\n",
    "                ),\n",
    "                hovertemplate=\"<b>%{text}</b><br>Normalized: %{y:.2f}<br><extra></extra>\",\n",
    "                showlegend=(i == 0)  # Show legend once per team/category\n",
    "            ))\n",
    "    \n",
    "    # Update layout\n",
    "    fig.update_layout(\n",
    "        title=dict(\n",
    "            text=f\"NBA Beeswarm Comparison {start_year}-{end_year}\",\n",
    "            font=dict(size=24, color=text_color),\n",
    "            x=0.5,\n",
    "            y=0.99\n",
    "        ),\n",
    "        width=1600,\n",
    "        height=1000,\n",
    "        showlegend=True,\n",
    "        plot_bgcolor=bg_color,\n",
    "        paper_bgcolor=bg_color,\n",
    "        yaxis=dict(\n",
    "            title=dict(text='Normalized Value', font=dict(size=16, color=text_color)),\n",
    "            showticklabels=False,\n",
    "            showgrid=False,\n",
    "            gridcolor=grid_color,\n",
    "            zeroline=True,\n",
    "            zerolinecolor=grid_color,\n",
    "            range=[-0.1, 1.1]\n",
    "        ),\n",
    "        xaxis=dict(\n",
    "            gridcolor=grid_color,\n",
    "            showgrid=False,\n",
    "            categoryorder='array',\n",
    "            categoryarray=categories,\n",
    "            tickfont=dict(color=text_color, size=14),\n",
    "            tickangle=-45\n",
    "        ),\n",
    "        hovermode='closest',\n",
    "        legend=dict(\n",
    "            font=dict(color=text_color, size=16),\n",
    "            bgcolor=bg_color,\n",
    "            orientation=\"h\",\n",
    "            yanchor=\"bottom\",\n",
    "            y=1.02,\n",
    "            xanchor=\"center\",\n",
    "            x=0.5\n",
    "        )\n",
    "    )\n",
    "    \n",
    "    return fig\n",
    "\n"
   ]
  },
  {
   "cell_type": "code",
   "execution_count": 69,
   "id": "715b21f8-9d09-4d10-91ac-f47dee186366",
   "metadata": {},
   "outputs": [
    {
     "name": "stderr",
     "output_type": "stream",
     "text": [
      "/tmp/ipykernel_12027/1859255696.py:591: PerformanceWarning:\n",
      "\n",
      "DataFrame is highly fragmented.  This is usually the result of calling `frame.insert` many times, which has poor performance.  Consider joining all columns at once using pd.concat(axis=1) instead. To get a de-fragmented frame, use `newframe = frame.copy()`\n",
      "\n"
     ]
    },
    {
     "name": "stdout",
     "output_type": "stream",
     "text": [
      "        Points  Opp Points        FTA       EFG%        3P%   Rim Freq  \\\n",
      "0   118.488628  114.148858  24.064563  56.680585  37.137569  36.325678   \n",
      "1   125.002422  112.940029  22.096290  59.584716  39.484188  33.843519   \n",
      "2   117.177692  118.134621  22.670208  54.034173  35.858496  29.179311   \n",
      "3   120.788043  111.933927  21.140069  57.203217  38.227703  26.673027   \n",
      "4   116.200378  112.195122  22.148708  55.632607  36.717217  31.481744   \n",
      "5   116.408860  113.139995  23.963618  55.015685  37.385723  31.139770   \n",
      "6   114.631272  114.691473  21.825963  54.192321  35.921553  30.785195   \n",
      "7   117.803640  116.646032  24.136437  56.374027  36.992732  26.127200   \n",
      "8   118.517358  114.091479  21.694448  56.709821  37.644071  32.658175   \n",
      "9   117.280967  115.246854  19.933535  56.392541  38.240975  24.081030   \n",
      "10  113.380022  116.728077  24.536184  52.241286  34.013971  32.123966   \n",
      "11  117.095508  115.279077  23.543704  55.632809  38.082142  27.994635   \n",
      "12  115.823925  115.226659  25.012011  55.426598  36.140351  32.801382   \n",
      "13  114.089325  113.392065  23.382959  53.393278  35.641802  24.784129   \n",
      "14  117.178509  114.230256  22.999576  56.118345  37.025513  28.059172   \n",
      "15  115.277778  112.052117  23.494346  55.971996  37.583149  31.829432   \n",
      "16  114.763841  115.685539  22.033156  54.613231  36.965923  27.665383   \n",
      "17  118.445805  114.593332  24.468152  54.034247  36.140471  29.582192   \n",
      "18  113.294726  113.455677  25.231957  53.668614  34.889627  32.611483   \n",
      "19  118.478982  118.545323  21.886497  56.183084  37.054552  32.166756   \n",
      "20  117.980342  114.291980  24.992174  54.675727  37.481509  30.673896   \n",
      "21  116.753375  114.195427  22.891119  54.982354  37.811038  24.780292   \n",
      "22  111.938630  118.497827  22.989006  52.528383  35.523504  31.761510   \n",
      "23  118.482431  116.531397  22.927958  56.369579  36.725593  27.697964   \n",
      "24  110.723925  118.637371  20.248306  52.861135  34.625645  30.893606   \n",
      "25  117.420133  113.389677  22.320675  55.172992  37.218850  31.601180   \n",
      "26  114.417596  116.968270  22.887237  52.617043  34.132634  30.333446   \n",
      "27  115.991005  118.802381  23.144715  54.322747  35.357846  27.273344   \n",
      "28  111.952924  113.456707  22.532794  52.486300  34.823848  30.383601   \n",
      "29  113.072015  118.246978  21.239745  54.370725  35.170413  29.254446   \n",
      "30  110.726113  119.141127  23.831718  52.288536  34.974339  28.735392   \n",
      "31  109.792577  117.918152  21.203915  52.254915  34.267913  31.781933   \n",
      "\n",
      "         TS%       Rim%       TOV%  3P Assists  Rim Assists      DREB%  \\\n",
      "0   0.591004  72.183908  12.102295    9.482759    14.343360  74.880985   \n",
      "1   0.614122  70.082226  11.617339   10.868933    14.143175  75.162142   \n",
      "2   0.569535  64.526340  11.432702    9.445920    10.146065  72.539703   \n",
      "3   0.596660  69.724067  11.361819   13.346097     9.282362  74.288180   \n",
      "4   0.580288  67.340976  12.334634   10.239445    11.764335  72.678741   \n",
      "5   0.577632  66.353257  12.357936   10.561812    10.054449  73.613345   \n",
      "6   0.569134  64.584270  11.604939    9.805867     8.832103  73.450192   \n",
      "7   0.585895  69.269995  11.263813   11.433701     9.471338  71.932552   \n",
      "8   0.586873  68.073316  12.296973   10.164181    12.821156  72.875410   \n",
      "9   0.584935  70.167131  13.301847   12.743202     9.625378  72.771627   \n",
      "10  0.550656  64.260080  12.589802    9.036737     9.497481  72.976444   \n",
      "11  0.585214  66.464952  12.415790   10.236122     9.233070  72.366524   \n",
      "12  0.581099  70.598147  12.360541    9.296181    11.986548  73.487326   \n",
      "13  0.568074  64.641520  12.057787   10.845740     8.438391  74.315702   \n",
      "14  0.583493  69.995141  12.141299   11.963172     8.970864  74.511599   \n",
      "15  0.582935  68.140413  13.260520   10.379794    11.012783  72.097201   \n",
      "16  0.570167  65.890688  12.208455   11.122928     9.640288  71.110870   \n",
      "17  0.565529  64.227831  11.649682   11.085159     9.172401  73.454610   \n",
      "18  0.566047  67.212757  13.366641    9.664363    10.498786  74.323748   \n",
      "19  0.584199  66.382359  12.128289   11.127194    11.730294  69.602267   \n",
      "20  0.580608  64.302112  11.653992   10.392537     9.847868  71.772538   \n",
      "21  0.578286  66.629433  12.662808   10.764276     9.036294  72.308964   \n",
      "22  0.555684  62.697368  13.209588   10.044102     8.919809  71.145414   \n",
      "23  0.587095  69.296952  11.783058   12.404847     9.920224  74.540411   \n",
      "24  0.550803  65.431833  13.125058   10.729923    10.879866  72.116197   \n",
      "25  0.580958  65.032888  11.302149   11.151296     9.867390  70.252278   \n",
      "26  0.552442  66.933156  11.322669    9.795539    11.034696  71.588529   \n",
      "27  0.572883  68.126400  13.420893   11.359630     9.524099  71.797637   \n",
      "28  0.549114  63.037185  12.543706   10.782150     9.635896  71.601162   \n",
      "29  0.566366  70.867430  12.484564   10.045579    10.878153  70.822536   \n",
      "30  0.553865  64.488017  13.381193    9.517969     9.039617  72.263958   \n",
      "31  0.546848  65.022713  12.492645    9.540223    10.549640  71.777528   \n",
      "\n",
      "        OREB%                Name team  lineup_row  \n",
      "0   25.346874  LeBron, Anthony On  LAL           1  \n",
      "1   28.792991           Nikola On  DEN           1  \n",
      "2   29.533510                 ATL  ATL           0  \n",
      "3   26.195682                 BOS  BOS           0  \n",
      "4   26.745968                 CLE  CLE           0  \n",
      "5   28.042832                 NOP  NOP           0  \n",
      "6   26.074407                 CHI  CHI           0  \n",
      "7   23.342102                 DAL  DAL           0  \n",
      "8   28.700580                 DEN  DEN           0  \n",
      "9   28.678612                 GSW  GSW           0  \n",
      "10  31.282370                 HOU  HOU           0  \n",
      "11  26.886075                 LAC  LAC           0  \n",
      "12  24.912736                 LAL  LAL           0  \n",
      "13  25.863793                 MIA  MIA           0  \n",
      "14  25.830427                 MIL  MIL           0  \n",
      "15  25.685100                 MIN  MIN           0  \n",
      "16  25.626008                 BKN  BKN           0  \n",
      "17  32.030865                 NYK  NYK           0  \n",
      "18  28.459387                 ORL  ORL           0  \n",
      "19  27.648427                 IND  IND           0  \n",
      "20  26.840379                 PHI  PHI           0  \n",
      "21  29.145624                 PHX  PHX           0  \n",
      "22  28.610543                 POR  POR           0  \n",
      "23  27.043203                 SAC  SAC           0  \n",
      "24  27.664909                 SAS  SAS           0  \n",
      "25  26.209055                 OKC  OKC           0  \n",
      "26  29.456230                 TOR  TOR           0  \n",
      "27  31.009162                 UTA  UTA           0  \n",
      "28  28.652135                 MEM  MEM           0  \n",
      "29  24.951166                 WAS  WAS           0  \n",
      "30  27.689615                 DET  DET           0  \n",
      "31  25.838086                 CHA  CHA           0  \n",
      "       Points  Opp Points        FTA       EFG%        3P%   Rim Freq  \\\n",
      "0  118.488628  114.148858  24.064563  56.680585  37.137569  36.325678   \n",
      "\n",
      "        TS%       Rim%       TOV%  3P Assists  Rim Assists      DREB%  \\\n",
      "0  0.591004  72.183908  12.102295    9.482759     14.34336  74.880985   \n",
      "\n",
      "       OREB%                Name team  lineup_row    color  \n",
      "0  25.346874  LeBron, Anthony On  LAL           1  #ff4d4d  \n",
      "       Points  Opp Points       FTA       EFG%        3P%   Rim Freq  \\\n",
      "1  125.002422  112.940029  22.09629  59.584716  39.484188  33.843519   \n",
      "\n",
      "        TS%       Rim%       TOV%  3P Assists  Rim Assists      DREB%  \\\n",
      "1  0.614122  70.082226  11.617339   10.868933    14.143175  75.162142   \n",
      "\n",
      "       OREB%       Name team  lineup_row    color  \n",
      "1  28.792991  Nikola On  DEN           1  #ff7f0e  \n"
     ]
    },
    {
     "data": {
      "application/vnd.plotly.v1+json": {
       "config": {
        "plotlyServerURL": "https://plot.ly"
       },
       "data": [
        {
         "hovertemplate": "<b>%{text}</b><br>Normalized: %{y:.2f}<br><extra></extra>",
         "marker": {
          "color": "#00ffff",
          "line": {
           "color": "white",
           "width": 3
          },
          "opacity": 0.7,
          "size": 18,
          "symbol": "circle"
         },
         "mode": "markers",
         "name": "Season Avg (All Teams)",
         "showlegend": false,
         "text": [
          "Unknown<br>Points: 117.2",
          "Unknown<br>Points: 120.8",
          "Unknown<br>Points: 116.2",
          "Unknown<br>Points: 116.4",
          "Unknown<br>Points: 114.6",
          "Unknown<br>Points: 117.8",
          "Unknown<br>Points: 118.5",
          "Unknown<br>Points: 117.3",
          "Unknown<br>Points: 113.4",
          "Unknown<br>Points: 117.1",
          "Unknown<br>Points: 115.8",
          "Unknown<br>Points: 114.1",
          "Unknown<br>Points: 117.2",
          "Unknown<br>Points: 115.3",
          "Unknown<br>Points: 114.8",
          "Unknown<br>Points: 118.4",
          "Unknown<br>Points: 113.3",
          "Unknown<br>Points: 118.5",
          "Unknown<br>Points: 118.0",
          "Phoenix Suns<br>Points: 116.8",
          "Unknown<br>Points: 111.9",
          "Unknown<br>Points: 118.5",
          "Unknown<br>Points: 110.7",
          "Unknown<br>Points: 117.4",
          "Unknown<br>Points: 114.4",
          "Unknown<br>Points: 116.0",
          "Unknown<br>Points: 112.0",
          "Unknown<br>Points: 113.1",
          "Detroit Pistons<br>Points: 110.7",
          "Unknown<br>Points: 109.8"
         ],
         "type": "scatter",
         "x": [
          "Points",
          "Points",
          "Points",
          "Points",
          "Points",
          "Points",
          "Points",
          "Points",
          "Points",
          "Points",
          "Points",
          "Points",
          "Points",
          "Points",
          "Points",
          "Points",
          "Points",
          "Points",
          "Points",
          "Points",
          "Points",
          "Points",
          "Points",
          "Points",
          "Points",
          "Points",
          "Points",
          "Points",
          "Points",
          "Points"
         ],
         "y": [
          0.4855483404223877,
          0.7229177295687172,
          0.42129299234751283,
          0.4350000499832669,
          0.31812915283968124,
          0.526702477234144,
          0.5736272233013429,
          0.49233833948185524,
          0.23586335684368898,
          0.48014500659951853,
          0.39654237683689075,
          0.2824978365354198,
          0.4856020395878087,
          0.36063489141780014,
          0.32684515277327186,
          0.568922844174943,
          0.23025538263238232,
          0.5711041141965465,
          0.5383200752539343,
          0.45765085060510646,
          0.1410962887379661,
          0.5713308795706933,
          0.061233223391806924,
          0.5014880609624077,
          0.304080616152671,
          0.4075273427852766,
          0.142036084035718,
          0.21561281932169685,
          0.06137708933637587,
          0
         ]
        },
        {
         "hovertemplate": "<b>%{text}</b><br>Normalized: %{y:.2f}<br><extra></extra>",
         "marker": {
          "color": "#00ffff",
          "line": {
           "color": "white",
           "width": 3
          },
          "opacity": 0.7,
          "size": 18,
          "symbol": "circle"
         },
         "mode": "markers",
         "name": "Season Avg (All Teams)",
         "showlegend": false,
         "text": [
          "Unknown<br>Opp Points: 118.1",
          "Unknown<br>Opp Points: 111.9",
          "Unknown<br>Opp Points: 112.2",
          "Unknown<br>Opp Points: 113.1",
          "Unknown<br>Opp Points: 114.7",
          "Unknown<br>Opp Points: 116.6",
          "Unknown<br>Opp Points: 114.1",
          "Unknown<br>Opp Points: 115.2",
          "Unknown<br>Opp Points: 116.7",
          "Unknown<br>Opp Points: 115.3",
          "Unknown<br>Opp Points: 115.2",
          "Unknown<br>Opp Points: 113.4",
          "Unknown<br>Opp Points: 114.2",
          "Unknown<br>Opp Points: 112.1",
          "Unknown<br>Opp Points: 115.7",
          "Unknown<br>Opp Points: 114.6",
          "Unknown<br>Opp Points: 113.5",
          "Unknown<br>Opp Points: 118.5",
          "Unknown<br>Opp Points: 114.3",
          "Phoenix Suns<br>Opp Points: 114.2",
          "Unknown<br>Opp Points: 118.5",
          "Unknown<br>Opp Points: 116.5",
          "Unknown<br>Opp Points: 118.6",
          "Unknown<br>Opp Points: 113.4",
          "Unknown<br>Opp Points: 117.0",
          "Unknown<br>Opp Points: 118.8",
          "Unknown<br>Opp Points: 113.5",
          "Unknown<br>Opp Points: 118.2",
          "Detroit Pistons<br>Opp Points: 119.1",
          "Unknown<br>Opp Points: 117.9"
         ],
         "type": "scatter",
         "x": [
          "Opp Points",
          "Opp Points",
          "Opp Points",
          "Opp Points",
          "Opp Points",
          "Opp Points",
          "Opp Points",
          "Opp Points",
          "Opp Points",
          "Opp Points",
          "Opp Points",
          "Opp Points",
          "Opp Points",
          "Opp Points",
          "Opp Points",
          "Opp Points",
          "Opp Points",
          "Opp Points",
          "Opp Points",
          "Opp Points",
          "Opp Points",
          "Opp Points",
          "Opp Points",
          "Opp Points",
          "Opp Points",
          "Opp Points",
          "Opp Points",
          "Opp Points",
          "Opp Points",
          "Opp Points"
         ],
         "y": [
          0.8603471967559813,
          0,
          0.03624080380697414,
          0.1673420856900325,
          0.38260986074154957,
          0.6538052198118542,
          0.29936058119312214,
          0.45966905002450176,
          0.6651889336019359,
          0.4641400230993167,
          0.45686696822213513,
          0.20231681408338886,
          0.31861594893250356,
          0.01639888239827414,
          0.5205367254264424,
          0.36899275219547434,
          0.21114293513750404,
          0.917332127861183,
          0.32718015955806834,
          0.31378345491445536,
          0.910742116969832,
          0.6378995823257476,
          0.9301037420471872,
          0.20198549668471877,
          0.6985157570959899,
          0.9529989219880051,
          0.2112859018642066,
          0.875936730769677,
          1,
          0.8303120167511935
         ]
        },
        {
         "hovertemplate": "<b>%{text}</b><br>Normalized: %{y:.2f}<br><extra></extra>",
         "marker": {
          "color": "#00ffff",
          "line": {
           "color": "white",
           "width": 3
          },
          "opacity": 0.7,
          "size": 18,
          "symbol": "circle"
         },
         "mode": "markers",
         "name": "Season Avg (All Teams)",
         "showlegend": false,
         "text": [
          "Unknown<br>FTA: 22.7",
          "Unknown<br>FTA: 21.1",
          "Unknown<br>FTA: 22.1",
          "Unknown<br>FTA: 24.0",
          "Unknown<br>FTA: 21.8",
          "Unknown<br>FTA: 24.1",
          "Unknown<br>FTA: 21.7",
          "Unknown<br>FTA: 19.9",
          "Unknown<br>FTA: 24.5",
          "Unknown<br>FTA: 23.5",
          "Unknown<br>FTA: 25.0",
          "Unknown<br>FTA: 23.4",
          "Unknown<br>FTA: 23.0",
          "Unknown<br>FTA: 23.5",
          "Unknown<br>FTA: 22.0",
          "Unknown<br>FTA: 24.5",
          "Unknown<br>FTA: 25.2",
          "Unknown<br>FTA: 21.9",
          "Unknown<br>FTA: 25.0",
          "Phoenix Suns<br>FTA: 22.9",
          "Unknown<br>FTA: 23.0",
          "Unknown<br>FTA: 22.9",
          "Unknown<br>FTA: 20.2",
          "Unknown<br>FTA: 22.3",
          "Unknown<br>FTA: 22.9",
          "Unknown<br>FTA: 23.1",
          "Unknown<br>FTA: 22.5",
          "Unknown<br>FTA: 21.2",
          "Detroit Pistons<br>FTA: 23.8",
          "Unknown<br>FTA: 21.2"
         ],
         "type": "scatter",
         "x": [
          "FTA",
          "FTA",
          "FTA",
          "FTA",
          "FTA",
          "FTA",
          "FTA",
          "FTA",
          "FTA",
          "FTA",
          "FTA",
          "FTA",
          "FTA",
          "FTA",
          "FTA",
          "FTA",
          "FTA",
          "FTA",
          "FTA",
          "FTA",
          "FTA",
          "FTA",
          "FTA",
          "FTA",
          "FTA",
          "FTA",
          "FTA",
          "FTA",
          "FTA",
          "FTA"
         ],
         "y": [
          0.5165071169730702,
          0.2277157863806738,
          0.41808171148977014,
          0.7606195401901816,
          0.35716823212281223,
          0.7932365001543751,
          0.3323466958186563,
          0,
          0.8686829216041767,
          0.6813669081610962,
          0.9584882873691756,
          0.651028455580799,
          0.578670593930152,
          0.6720512435727768,
          0.39627292357254085,
          0.8558429594562034,
          1,
          0.36859308231749566,
          0.954744479566247,
          0.5582008319761762,
          0.5766755735762823,
          0.5651537617830957,
          0.059408419339123775,
          0.4505379479795675,
          0.5574681866847415,
          0.6060635137998869,
          0.4905722822101204,
          0.2465281008147997,
          0.7357253419047165,
          0.23976567479744837
         ]
        },
        {
         "hovertemplate": "<b>%{text}</b><br>Normalized: %{y:.2f}<br><extra></extra>",
         "marker": {
          "color": "#00ffff",
          "line": {
           "color": "white",
           "width": 3
          },
          "opacity": 0.7,
          "size": 18,
          "symbol": "circle"
         },
         "mode": "markers",
         "name": "Season Avg (All Teams)",
         "showlegend": false,
         "text": [
          "Unknown<br>3P%: 35.9",
          "Unknown<br>3P%: 38.2",
          "Unknown<br>3P%: 36.7",
          "Unknown<br>3P%: 37.4",
          "Unknown<br>3P%: 35.9",
          "Unknown<br>3P%: 37.0",
          "Unknown<br>3P%: 37.6",
          "Unknown<br>3P%: 38.2",
          "Unknown<br>3P%: 34.0",
          "Unknown<br>3P%: 38.1",
          "Unknown<br>3P%: 36.1",
          "Unknown<br>3P%: 35.6",
          "Unknown<br>3P%: 37.0",
          "Unknown<br>3P%: 37.6",
          "Unknown<br>3P%: 37.0",
          "Unknown<br>3P%: 36.1",
          "Unknown<br>3P%: 34.9",
          "Unknown<br>3P%: 37.1",
          "Unknown<br>3P%: 37.5",
          "Phoenix Suns<br>3P%: 37.8",
          "Unknown<br>3P%: 35.5",
          "Unknown<br>3P%: 36.7",
          "Unknown<br>3P%: 34.6",
          "Unknown<br>3P%: 37.2",
          "Unknown<br>3P%: 34.1",
          "Unknown<br>3P%: 35.4",
          "Unknown<br>3P%: 34.8",
          "Unknown<br>3P%: 35.2",
          "Detroit Pistons<br>3P%: 35.0",
          "Unknown<br>3P%: 34.3"
         ],
         "type": "scatter",
         "x": [
          "3P%",
          "3P%",
          "3P%",
          "3P%",
          "3P%",
          "3P%",
          "3P%",
          "3P%",
          "3P%",
          "3P%",
          "3P%",
          "3P%",
          "3P%",
          "3P%",
          "3P%",
          "3P%",
          "3P%",
          "3P%",
          "3P%",
          "3P%",
          "3P%",
          "3P%",
          "3P%",
          "3P%",
          "3P%",
          "3P%",
          "3P%",
          "3P%",
          "3P%",
          "3P%"
         ],
         "y": [
          0.33719405764177246,
          0.7703043544771875,
          0.49417524517072575,
          0.6163835343736412,
          0.34872144495208257,
          0.5445416037773914,
          0.6636117319708665,
          0.772730528590408,
          0,
          0.7436945598158404,
          0.3887194831740288,
          0.29758064699511877,
          0.5505343645175182,
          0.6524745961360505,
          0.5396407328527033,
          0.3887413526576422,
          0.1600769969038165,
          0.5558427860067887,
          0.6338940380865461,
          0.6941346981376997,
          0.27595492323958126,
          0.495706532999896,
          0.11181890943369943,
          0.5858779412789135,
          0.02169255144702209,
          0.24567131290722521,
          0.1480521279207334,
          0.2114070386329132,
          0.175563146755084,
          0.046422617781724185
         ]
        },
        {
         "hovertemplate": "<b>%{text}</b><br>Normalized: %{y:.2f}<br><extra></extra>",
         "marker": {
          "color": "#00ffff",
          "line": {
           "color": "white",
           "width": 3
          },
          "opacity": 0.7,
          "size": 18,
          "symbol": "circle"
         },
         "mode": "markers",
         "name": "Season Avg (All Teams)",
         "showlegend": false,
         "text": [
          "Unknown<br>Rim Freq: 29.2",
          "Unknown<br>Rim Freq: 26.7",
          "Unknown<br>Rim Freq: 31.5",
          "Unknown<br>Rim Freq: 31.1",
          "Unknown<br>Rim Freq: 30.8",
          "Unknown<br>Rim Freq: 26.1",
          "Unknown<br>Rim Freq: 32.7",
          "Unknown<br>Rim Freq: 24.1",
          "Unknown<br>Rim Freq: 32.1",
          "Unknown<br>Rim Freq: 28.0",
          "Unknown<br>Rim Freq: 32.8",
          "Unknown<br>Rim Freq: 24.8",
          "Unknown<br>Rim Freq: 28.1",
          "Unknown<br>Rim Freq: 31.8",
          "Unknown<br>Rim Freq: 27.7",
          "Unknown<br>Rim Freq: 29.6",
          "Unknown<br>Rim Freq: 32.6",
          "Unknown<br>Rim Freq: 32.2",
          "Unknown<br>Rim Freq: 30.7",
          "Phoenix Suns<br>Rim Freq: 24.8",
          "Unknown<br>Rim Freq: 31.8",
          "Unknown<br>Rim Freq: 27.7",
          "Unknown<br>Rim Freq: 30.9",
          "Unknown<br>Rim Freq: 31.6",
          "Unknown<br>Rim Freq: 30.3",
          "Unknown<br>Rim Freq: 27.3",
          "Unknown<br>Rim Freq: 30.4",
          "Unknown<br>Rim Freq: 29.3",
          "Detroit Pistons<br>Rim Freq: 28.7",
          "Unknown<br>Rim Freq: 31.8"
         ],
         "type": "scatter",
         "x": [
          "Rim Freq",
          "Rim Freq",
          "Rim Freq",
          "Rim Freq",
          "Rim Freq",
          "Rim Freq",
          "Rim Freq",
          "Rim Freq",
          "Rim Freq",
          "Rim Freq",
          "Rim Freq",
          "Rim Freq",
          "Rim Freq",
          "Rim Freq",
          "Rim Freq",
          "Rim Freq",
          "Rim Freq",
          "Rim Freq",
          "Rim Freq",
          "Rim Freq",
          "Rim Freq",
          "Rim Freq",
          "Rim Freq",
          "Rim Freq",
          "Rim Freq",
          "Rim Freq",
          "Rim Freq",
          "Rim Freq",
          "Rim Freq",
          "Rim Freq"
         ],
         "y": [
          0.4163681031544535,
          0.21168405706071725,
          0.6044039105161285,
          0.5764754963170604,
          0.547517986436824,
          0.1671072706321175,
          0.7004811033080125,
          0,
          0.6568531316952606,
          0.31961760307807263,
          0.7121765563873861,
          0.05742089879282308,
          0.3248882309565724,
          0.6327990576775788,
          0.29272812888456,
          0.44927068395516145,
          0.69666785637688,
          0.6603477251528063,
          0.5384283639340703,
          0.057107537258790364,
          0.6272519744217797,
          0.29538895803856113,
          0.5563716717348426,
          0.6141580934693851,
          0.5106243311048193,
          0.26071095106276254,
          0.5147204033634176,
          0.4225042296122903,
          0.3801139839824821,
          0.6289198959849716
         ]
        },
        {
         "hovertemplate": "<b>%{text}</b><br>Normalized: %{y:.2f}<br><extra></extra>",
         "marker": {
          "color": "#00ffff",
          "line": {
           "color": "white",
           "width": 3
          },
          "opacity": 0.7,
          "size": 18,
          "symbol": "circle"
         },
         "mode": "markers",
         "name": "Season Avg (All Teams)",
         "showlegend": false,
         "text": [
          "Unknown<br>EFG%: 54.0",
          "Unknown<br>EFG%: 57.2",
          "Unknown<br>EFG%: 55.6",
          "Unknown<br>EFG%: 55.0",
          "Unknown<br>EFG%: 54.2",
          "Unknown<br>EFG%: 56.4",
          "Unknown<br>EFG%: 56.7",
          "Unknown<br>EFG%: 56.4",
          "Unknown<br>EFG%: 52.2",
          "Unknown<br>EFG%: 55.6",
          "Unknown<br>EFG%: 55.4",
          "Unknown<br>EFG%: 53.4",
          "Unknown<br>EFG%: 56.1",
          "Unknown<br>EFG%: 56.0",
          "Unknown<br>EFG%: 54.6",
          "Unknown<br>EFG%: 54.0",
          "Unknown<br>EFG%: 53.7",
          "Unknown<br>EFG%: 56.2",
          "Unknown<br>EFG%: 54.7",
          "Phoenix Suns<br>EFG%: 55.0",
          "Unknown<br>EFG%: 52.5",
          "Unknown<br>EFG%: 56.4",
          "Unknown<br>EFG%: 52.9",
          "Unknown<br>EFG%: 55.2",
          "Unknown<br>EFG%: 52.6",
          "Unknown<br>EFG%: 54.3",
          "Unknown<br>EFG%: 52.5",
          "Unknown<br>EFG%: 54.4",
          "Detroit Pistons<br>EFG%: 52.3",
          "Unknown<br>EFG%: 52.3"
         ],
         "type": "scatter",
         "x": [
          "EFG%",
          "EFG%",
          "EFG%",
          "EFG%",
          "EFG%",
          "EFG%",
          "EFG%",
          "EFG%",
          "EFG%",
          "EFG%",
          "EFG%",
          "EFG%",
          "EFG%",
          "EFG%",
          "EFG%",
          "EFG%",
          "EFG%",
          "EFG%",
          "EFG%",
          "EFG%",
          "EFG%",
          "EFG%",
          "EFG%",
          "EFG%",
          "EFG%",
          "EFG%",
          "EFG%",
          "EFG%",
          "EFG%",
          "EFG%"
         ],
         "y": [
          0.24414852287217848,
          0.6756966107370399,
          0.46181703246029393,
          0.3778069803145261,
          0.26568445651056827,
          0.5627807798242968,
          0.6085079193734018,
          0.5653019246649569,
          0,
          0.4618445114574836,
          0.4337634844522986,
          0.15687381636133857,
          0.5279629554508132,
          0.5080337827232668,
          0.3230023123402441,
          0.24415849117661903,
          0.19436802407483178,
          0.5367788224896364,
          0.33151283119193753,
          0.37326812789405217,
          0.039095843813190534,
          0.5621749964305947,
          0.08440869749630142,
          0.39922842926944657,
          0.0511691403041894,
          0.2834453689039078,
          0.03336509034174817,
          0.28997883074778397,
          0.006434415096851609,
          0.0018560356878420947
         ]
        },
        {
         "hovertemplate": "<b>%{text}</b><br>Normalized: %{y:.2f}<br><extra></extra>",
         "marker": {
          "color": "#00ffff",
          "line": {
           "color": "white",
           "width": 3
          },
          "opacity": 0.7,
          "size": 18,
          "symbol": "circle"
         },
         "mode": "markers",
         "name": "Season Avg (All Teams)",
         "showlegend": false,
         "text": [
          "Unknown<br>Rim%: 64.5",
          "Unknown<br>Rim%: 69.7",
          "Unknown<br>Rim%: 67.3",
          "Unknown<br>Rim%: 66.4",
          "Unknown<br>Rim%: 64.6",
          "Unknown<br>Rim%: 69.3",
          "Unknown<br>Rim%: 68.1",
          "Unknown<br>Rim%: 70.2",
          "Unknown<br>Rim%: 64.3",
          "Unknown<br>Rim%: 66.5",
          "Unknown<br>Rim%: 70.6",
          "Unknown<br>Rim%: 64.6",
          "Unknown<br>Rim%: 70.0",
          "Unknown<br>Rim%: 68.1",
          "Unknown<br>Rim%: 65.9",
          "Unknown<br>Rim%: 64.2",
          "Unknown<br>Rim%: 67.2",
          "Unknown<br>Rim%: 66.4",
          "Unknown<br>Rim%: 64.3",
          "Phoenix Suns<br>Rim%: 66.6",
          "Unknown<br>Rim%: 62.7",
          "Unknown<br>Rim%: 69.3",
          "Unknown<br>Rim%: 65.4",
          "Unknown<br>Rim%: 65.0",
          "Unknown<br>Rim%: 66.9",
          "Unknown<br>Rim%: 68.1",
          "Unknown<br>Rim%: 63.0",
          "Unknown<br>Rim%: 70.9",
          "Detroit Pistons<br>Rim%: 64.5",
          "Unknown<br>Rim%: 65.0"
         ],
         "type": "scatter",
         "x": [
          "Rim%",
          "Rim%",
          "Rim%",
          "Rim%",
          "Rim%",
          "Rim%",
          "Rim%",
          "Rim%",
          "Rim%",
          "Rim%",
          "Rim%",
          "Rim%",
          "Rim%",
          "Rim%",
          "Rim%",
          "Rim%",
          "Rim%",
          "Rim%",
          "Rim%",
          "Rim%",
          "Rim%",
          "Rim%",
          "Rim%",
          "Rim%",
          "Rim%",
          "Rim%",
          "Rim%",
          "Rim%",
          "Rim%",
          "Rim%"
         ],
         "y": [
          0.19279645052623895,
          0.7407020164301725,
          0.4894943006256378,
          0.38537643261960053,
          0.198903005360477,
          0.6928370587302775,
          0.5666921843511696,
          0.7874064509825915,
          0.16472938081551014,
          0.39715047010791427,
          0.8328408966138081,
          0.2049379389395405,
          0.7692765519349001,
          0.5737650434884101,
          0.33661587515712643,
          0.16132985849229353,
          0.4759784304681389,
          0.3884441307734843,
          0.16916005959811908,
          0.414488828767122,
          0,
          0.6956786835827602,
          0.28824677424463907,
          0.24619296693583514,
          0.4465049871096962,
          0.5722878304934786,
          0.0358209710240196,
          0.8612267848837476,
          0.18875681533407818,
          0.24512037004228038
         ]
        },
        {
         "hovertemplate": "<b>%{text}</b><br>Normalized: %{y:.2f}<br><extra></extra>",
         "marker": {
          "color": "#00ffff",
          "line": {
           "color": "white",
           "width": 3
          },
          "opacity": 0.7,
          "size": 18,
          "symbol": "circle"
         },
         "mode": "markers",
         "name": "Season Avg (All Teams)",
         "showlegend": false,
         "text": [
          "Unknown<br>TOV%: 11.4",
          "Unknown<br>TOV%: 11.4",
          "Unknown<br>TOV%: 12.3",
          "Unknown<br>TOV%: 12.4",
          "Unknown<br>TOV%: 11.6",
          "Unknown<br>TOV%: 11.3",
          "Unknown<br>TOV%: 12.3",
          "Unknown<br>TOV%: 13.3",
          "Unknown<br>TOV%: 12.6",
          "Unknown<br>TOV%: 12.4",
          "Unknown<br>TOV%: 12.4",
          "Unknown<br>TOV%: 12.1",
          "Unknown<br>TOV%: 12.1",
          "Unknown<br>TOV%: 13.3",
          "Unknown<br>TOV%: 12.2",
          "Unknown<br>TOV%: 11.6",
          "Unknown<br>TOV%: 13.4",
          "Unknown<br>TOV%: 12.1",
          "Unknown<br>TOV%: 11.7",
          "Phoenix Suns<br>TOV%: 12.7",
          "Unknown<br>TOV%: 13.2",
          "Unknown<br>TOV%: 11.8",
          "Unknown<br>TOV%: 13.1",
          "Unknown<br>TOV%: 11.3",
          "Unknown<br>TOV%: 11.3",
          "Unknown<br>TOV%: 13.4",
          "Unknown<br>TOV%: 12.5",
          "Unknown<br>TOV%: 12.5",
          "Detroit Pistons<br>TOV%: 13.4",
          "Unknown<br>TOV%: 12.5"
         ],
         "type": "scatter",
         "x": [
          "TOV%",
          "TOV%",
          "TOV%",
          "TOV%",
          "TOV%",
          "TOV%",
          "TOV%",
          "TOV%",
          "TOV%",
          "TOV%",
          "TOV%",
          "TOV%",
          "TOV%",
          "TOV%",
          "TOV%",
          "TOV%",
          "TOV%",
          "TOV%",
          "TOV%",
          "TOV%",
          "TOV%",
          "TOV%",
          "TOV%",
          "TOV%",
          "TOV%",
          "TOV%",
          "TOV%",
          "TOV%",
          "TOV%",
          "TOV%"
         ],
         "y": [
          0.07829511301236014,
          0.04543431215844684,
          0.4964217047227102,
          0.5072239732003707,
          0.15814261371204807,
          0,
          0.47896232785566184,
          0.9448116294933442,
          0.6147150002778217,
          0.5340444500509527,
          0.5084317338039579,
          0.3680783283673339,
          0.4067936133496426,
          0.9256529306934453,
          0.4379263874094077,
          0.17888466245613177,
          0.9748496205202573,
          0.4007621174291023,
          0.18088298067773145,
          0.6485594696705501,
          0.9020412022513238,
          0.24071653281967897,
          0.8628539977941942,
          0.01777215726701087,
          0.027284774659128708,
          1,
          0.5933450547824561,
          0.5659273887618284,
          0.981595769598842,
          0.5696738527904328
         ]
        },
        {
         "hovertemplate": "<b>%{text}</b><br>Normalized: %{y:.2f}<br><extra></extra>",
         "marker": {
          "color": "#00ffff",
          "line": {
           "color": "white",
           "width": 3
          },
          "opacity": 0.7,
          "size": 18,
          "symbol": "circle"
         },
         "mode": "markers",
         "name": "Season Avg (All Teams)",
         "showlegend": false,
         "text": [
          "Unknown<br>DREB%: 72.5",
          "Unknown<br>DREB%: 74.3",
          "Unknown<br>DREB%: 72.7",
          "Unknown<br>DREB%: 73.6",
          "Unknown<br>DREB%: 73.5",
          "Unknown<br>DREB%: 71.9",
          "Unknown<br>DREB%: 72.9",
          "Unknown<br>DREB%: 72.8",
          "Unknown<br>DREB%: 73.0",
          "Unknown<br>DREB%: 72.4",
          "Unknown<br>DREB%: 73.5",
          "Unknown<br>DREB%: 74.3",
          "Unknown<br>DREB%: 74.5",
          "Unknown<br>DREB%: 72.1",
          "Unknown<br>DREB%: 71.1",
          "Unknown<br>DREB%: 73.5",
          "Unknown<br>DREB%: 74.3",
          "Unknown<br>DREB%: 69.6",
          "Unknown<br>DREB%: 71.8",
          "Phoenix Suns<br>DREB%: 72.3",
          "Unknown<br>DREB%: 71.1",
          "Unknown<br>DREB%: 74.5",
          "Unknown<br>DREB%: 72.1",
          "Unknown<br>DREB%: 70.3",
          "Unknown<br>DREB%: 71.6",
          "Unknown<br>DREB%: 71.8",
          "Unknown<br>DREB%: 71.6",
          "Unknown<br>DREB%: 70.8",
          "Detroit Pistons<br>DREB%: 72.3",
          "Unknown<br>DREB%: 71.8"
         ],
         "type": "scatter",
         "x": [
          "DREB%",
          "DREB%",
          "DREB%",
          "DREB%",
          "DREB%",
          "DREB%",
          "DREB%",
          "DREB%",
          "DREB%",
          "DREB%",
          "DREB%",
          "DREB%",
          "DREB%",
          "DREB%",
          "DREB%",
          "DREB%",
          "DREB%",
          "DREB%",
          "DREB%",
          "DREB%",
          "DREB%",
          "DREB%",
          "DREB%",
          "DREB%",
          "DREB%",
          "DREB%",
          "DREB%",
          "DREB%",
          "DREB%",
          "DREB%"
         ],
         "y": [
          0.5283276162850221,
          0.84280892346092,
          0.5533351333213012,
          0.7214330241448437,
          0.6920883101109396,
          0.4191254185745308,
          0.5887079086847731,
          0.5700415530983225,
          0.6068800248336181,
          0.49717962222847056,
          0.6987673582660374,
          0.8477591580300778,
          0.8829932553992474,
          0.44873917981019673,
          0.2713376206022051,
          0.692882936234998,
          0.8492062512849401,
          0,
          0.39034524223429123,
          0.48682690167832554,
          0.2775505696328935,
          0.8881752393752436,
          0.45215578153349334,
          0.11691109198556227,
          0.35724934987055335,
          0.39485952314834094,
          0.3595215464025827,
          0.21947779001705747,
          0.47873213773067747,
          0.39124272166554874
         ]
        },
        {
         "hovertemplate": "<b>%{text}</b><br>Normalized: %{y:.2f}<br><extra></extra>",
         "marker": {
          "color": "#00ffff",
          "line": {
           "color": "white",
           "width": 3
          },
          "opacity": 0.7,
          "size": 18,
          "symbol": "circle"
         },
         "mode": "markers",
         "name": "Season Avg (All Teams)",
         "showlegend": false,
         "text": [
          "Unknown<br>OREB%: 29.5",
          "Unknown<br>OREB%: 26.2",
          "Unknown<br>OREB%: 26.7",
          "Unknown<br>OREB%: 28.0",
          "Unknown<br>OREB%: 26.1",
          "Unknown<br>OREB%: 23.3",
          "Unknown<br>OREB%: 28.7",
          "Unknown<br>OREB%: 28.7",
          "Unknown<br>OREB%: 31.3",
          "Unknown<br>OREB%: 26.9",
          "Unknown<br>OREB%: 24.9",
          "Unknown<br>OREB%: 25.9",
          "Unknown<br>OREB%: 25.8",
          "Unknown<br>OREB%: 25.7",
          "Unknown<br>OREB%: 25.6",
          "Unknown<br>OREB%: 32.0",
          "Unknown<br>OREB%: 28.5",
          "Unknown<br>OREB%: 27.6",
          "Unknown<br>OREB%: 26.8",
          "Phoenix Suns<br>OREB%: 29.1",
          "Unknown<br>OREB%: 28.6",
          "Unknown<br>OREB%: 27.0",
          "Unknown<br>OREB%: 27.7",
          "Unknown<br>OREB%: 26.2",
          "Unknown<br>OREB%: 29.5",
          "Unknown<br>OREB%: 31.0",
          "Unknown<br>OREB%: 28.7",
          "Unknown<br>OREB%: 25.0",
          "Detroit Pistons<br>OREB%: 27.7",
          "Unknown<br>OREB%: 25.8"
         ],
         "type": "scatter",
         "x": [
          "OREB%",
          "OREB%",
          "OREB%",
          "OREB%",
          "OREB%",
          "OREB%",
          "OREB%",
          "OREB%",
          "OREB%",
          "OREB%",
          "OREB%",
          "OREB%",
          "OREB%",
          "OREB%",
          "OREB%",
          "OREB%",
          "OREB%",
          "OREB%",
          "OREB%",
          "OREB%",
          "OREB%",
          "OREB%",
          "OREB%",
          "OREB%",
          "OREB%",
          "OREB%",
          "OREB%",
          "OREB%",
          "OREB%",
          "OREB%"
         ],
         "y": [
          0.7125764659752747,
          0.32842194592732676,
          0.39175496710665847,
          0.5410126230120262,
          0.31446423161520354,
          0,
          0.6167135933734524,
          0.6141852383327473,
          0.9138548474931194,
          0.4078800843208996,
          0.18076620097430762,
          0.290224476939255,
          0.28638428832363916,
          0.26965845982148995,
          0.2628574470870957,
          1,
          0.5889544119180536,
          0.4956200922672398,
          0.40262083440188245,
          0.6679342384540958,
          0.6063511009532925,
          0.425964090042815,
          0.49751696785509303,
          0.3299610479962509,
          0.7036823098157039,
          0.8824110726448837,
          0.611137971093676,
          0.18518917881039565,
          0.5003604629324152,
          0.28726577612504123
         ]
        },
        {
         "hovertemplate": "<b>%{text}</b><br>Normalized: %{y:.2f}<br><extra></extra>",
         "marker": {
          "color": "#ff4d4d",
          "line": {
           "color": "#0A0A0A",
           "width": 3
          },
          "opacity": 1,
          "size": 21,
          "symbol": "diamond"
         },
         "mode": "markers+text",
         "name": "LAL : LeBron, Anthony On",
         "showlegend": true,
         "text": [
          "118.5"
         ],
         "textfont": {
          "color": "#ffffff",
          "size": 20
         },
         "textposition": "top right",
         "type": "scatter",
         "x": [
          "Points"
         ],
         "y": [
          0.5717383125923767
         ]
        },
        {
         "hovertemplate": "<b>%{text}</b><br>Normalized: %{y:.2f}<br><extra></extra>",
         "marker": {
          "color": "#ff4d4d",
          "line": {
           "color": "#0A0A0A",
           "width": 3
          },
          "opacity": 1,
          "size": 21,
          "symbol": "diamond"
         },
         "mode": "markers+text",
         "name": "LAL : LeBron, Anthony On",
         "showlegend": false,
         "text": [
          "114.1"
         ],
         "textfont": {
          "color": "#ffffff",
          "size": 20
         },
         "textposition": "top right",
         "type": "scatter",
         "x": [
          "Opp Points"
         ],
         "y": [
          0.3073219366726061
         ]
        },
        {
         "hovertemplate": "<b>%{text}</b><br>Normalized: %{y:.2f}<br><extra></extra>",
         "marker": {
          "color": "#ff4d4d",
          "line": {
           "color": "#0A0A0A",
           "width": 3
          },
          "opacity": 1,
          "size": 21,
          "symbol": "diamond"
         },
         "mode": "markers+text",
         "name": "LAL : LeBron, Anthony On",
         "showlegend": false,
         "text": [
          "24.1"
         ],
         "textfont": {
          "color": "#ffffff",
          "size": 20
         },
         "textposition": "top right",
         "type": "scatter",
         "x": [
          "FTA"
         ],
         "y": [
          0.7796714562103126
         ]
        },
        {
         "hovertemplate": "<b>%{text}</b><br>Normalized: %{y:.2f}<br><extra></extra>",
         "marker": {
          "color": "#ff4d4d",
          "line": {
           "color": "#0A0A0A",
           "width": 3
          },
          "opacity": 1,
          "size": 21,
          "symbol": "diamond"
         },
         "mode": "markers+text",
         "name": "LAL : LeBron, Anthony On",
         "showlegend": false,
         "text": [
          "37.1"
         ],
         "textfont": {
          "color": "#ffffff",
          "size": 20
         },
         "textposition": "top right",
         "type": "scatter",
         "x": [
          "3P%"
         ],
         "y": [
          0.5710191138945842
         ]
        },
        {
         "hovertemplate": "<b>%{text}</b><br>Normalized: %{y:.2f}<br><extra></extra>",
         "marker": {
          "color": "#ff4d4d",
          "line": {
           "color": "#0A0A0A",
           "width": 3
          },
          "opacity": 1,
          "size": 21,
          "symbol": "diamond"
         },
         "mode": "markers+text",
         "name": "LAL : LeBron, Anthony On",
         "showlegend": false,
         "text": [
          "36.3"
         ],
         "textfont": {
          "color": "#ffffff",
          "size": 20
         },
         "textposition": "top right",
         "type": "scatter",
         "x": [
          "Rim Freq"
         ],
         "y": [
          0.9999999999999998
         ]
        },
        {
         "hovertemplate": "<b>%{text}</b><br>Normalized: %{y:.2f}<br><extra></extra>",
         "marker": {
          "color": "#ff4d4d",
          "line": {
           "color": "#0A0A0A",
           "width": 3
          },
          "opacity": 1,
          "size": 21,
          "symbol": "diamond"
         },
         "mode": "markers+text",
         "name": "LAL : LeBron, Anthony On",
         "showlegend": false,
         "text": [
          "56.7"
         ],
         "textfont": {
          "color": "#ffffff",
          "size": 20
         },
         "textposition": "top right",
         "type": "scatter",
         "x": [
          "EFG%"
         ],
         "y": [
          0.604526596413713
         ]
        },
        {
         "hovertemplate": "<b>%{text}</b><br>Normalized: %{y:.2f}<br><extra></extra>",
         "marker": {
          "color": "#ff4d4d",
          "line": {
           "color": "#0A0A0A",
           "width": 3
          },
          "opacity": 1,
          "size": 21,
          "symbol": "diamond"
         },
         "mode": "markers+text",
         "name": "LAL : LeBron, Anthony On",
         "showlegend": false,
         "text": [
          "72.2"
         ],
         "textfont": {
          "color": "#ffffff",
          "size": 20
         },
         "textposition": "top right",
         "type": "scatter",
         "x": [
          "Rim%"
         ],
         "y": [
          1
         ]
        },
        {
         "hovertemplate": "<b>%{text}</b><br>Normalized: %{y:.2f}<br><extra></extra>",
         "marker": {
          "color": "#ff4d4d",
          "line": {
           "color": "#0A0A0A",
           "width": 3
          },
          "opacity": 1,
          "size": 21,
          "symbol": "diamond"
         },
         "mode": "markers+text",
         "name": "LAL : LeBron, Anthony On",
         "showlegend": false,
         "text": [
          "12.1"
         ],
         "textfont": {
          "color": "#ffffff",
          "size": 20
         },
         "textposition": "top right",
         "type": "scatter",
         "x": [
          "TOV%"
         ],
         "y": [
          0.3887114529631752
         ]
        },
        {
         "hovertemplate": "<b>%{text}</b><br>Normalized: %{y:.2f}<br><extra></extra>",
         "marker": {
          "color": "#ff4d4d",
          "line": {
           "color": "#0A0A0A",
           "width": 3
          },
          "opacity": 1,
          "size": 21,
          "symbol": "diamond"
         },
         "mode": "markers+text",
         "name": "LAL : LeBron, Anthony On",
         "showlegend": false,
         "text": [
          "74.9"
         ],
         "textfont": {
          "color": "#ffffff",
          "size": 20
         },
         "textposition": "top right",
         "type": "scatter",
         "x": [
          "DREB%"
         ],
         "y": [
          0.9494310505895367
         ]
        },
        {
         "hovertemplate": "<b>%{text}</b><br>Normalized: %{y:.2f}<br><extra></extra>",
         "marker": {
          "color": "#ff4d4d",
          "line": {
           "color": "#0A0A0A",
           "width": 3
          },
          "opacity": 1,
          "size": 21,
          "symbol": "diamond"
         },
         "mode": "markers+text",
         "name": "LAL : LeBron, Anthony On",
         "showlegend": false,
         "text": [
          "25.3"
         ],
         "textfont": {
          "color": "#ffffff",
          "size": 20
         },
         "textposition": "top right",
         "type": "scatter",
         "x": [
          "OREB%"
         ],
         "y": [
          0.23073157064966976
         ]
        },
        {
         "hovertemplate": "<b>%{text}</b><br>Normalized: %{y:.2f}<br><extra></extra>",
         "marker": {
          "color": "#ff7f0e",
          "line": {
           "color": "#0A0A0A",
           "width": 3
          },
          "opacity": 1,
          "size": 21,
          "symbol": "diamond"
         },
         "mode": "markers+text",
         "name": "DEN : Nikola On",
         "showlegend": true,
         "text": [
          "125.0"
         ],
         "textfont": {
          "color": "#ffffff",
          "size": 20
         },
         "textposition": "top right",
         "type": "scatter",
         "x": [
          "Points"
         ],
         "y": [
          1
         ]
        },
        {
         "hovertemplate": "<b>%{text}</b><br>Normalized: %{y:.2f}<br><extra></extra>",
         "marker": {
          "color": "#ff7f0e",
          "line": {
           "color": "#0A0A0A",
           "width": 3
          },
          "opacity": 1,
          "size": 21,
          "symbol": "diamond"
         },
         "mode": "markers+text",
         "name": "DEN : Nikola On",
         "showlegend": false,
         "text": [
          "112.9"
         ],
         "textfont": {
          "color": "#ffffff",
          "size": 20
         },
         "textposition": "top right",
         "type": "scatter",
         "x": [
          "Opp Points"
         ],
         "y": [
          0.13959680164314747
         ]
        },
        {
         "hovertemplate": "<b>%{text}</b><br>Normalized: %{y:.2f}<br><extra></extra>",
         "marker": {
          "color": "#ff7f0e",
          "line": {
           "color": "#0A0A0A",
           "width": 3
          },
          "opacity": 1,
          "size": 21,
          "symbol": "diamond"
         },
         "mode": "markers+text",
         "name": "DEN : Nikola On",
         "showlegend": false,
         "text": [
          "22.1"
         ],
         "textfont": {
          "color": "#ffffff",
          "size": 20
         },
         "textposition": "top right",
         "type": "scatter",
         "x": [
          "FTA"
         ],
         "y": [
          0.40818849946559244
         ]
        },
        {
         "hovertemplate": "<b>%{text}</b><br>Normalized: %{y:.2f}<br><extra></extra>",
         "marker": {
          "color": "#ff7f0e",
          "line": {
           "color": "#0A0A0A",
           "width": 3
          },
          "opacity": 1,
          "size": 21,
          "symbol": "diamond"
         },
         "mode": "markers+text",
         "name": "DEN : Nikola On",
         "showlegend": false,
         "text": [
          "39.5"
         ],
         "textfont": {
          "color": "#ffffff",
          "size": 20
         },
         "textposition": "top right",
         "type": "scatter",
         "x": [
          "3P%"
         ],
         "y": [
          1
         ]
        },
        {
         "hovertemplate": "<b>%{text}</b><br>Normalized: %{y:.2f}<br><extra></extra>",
         "marker": {
          "color": "#ff7f0e",
          "line": {
           "color": "#0A0A0A",
           "width": 3
          },
          "opacity": 1,
          "size": 21,
          "symbol": "diamond"
         },
         "mode": "markers+text",
         "name": "DEN : Nikola On",
         "showlegend": false,
         "text": [
          "33.8"
         ],
         "textfont": {
          "color": "#ffffff",
          "size": 20
         },
         "textposition": "top right",
         "type": "scatter",
         "x": [
          "Rim Freq"
         ],
         "y": [
          0.7972861899642403
         ]
        },
        {
         "hovertemplate": "<b>%{text}</b><br>Normalized: %{y:.2f}<br><extra></extra>",
         "marker": {
          "color": "#ff7f0e",
          "line": {
           "color": "#0A0A0A",
           "width": 3
          },
          "opacity": 1,
          "size": 21,
          "symbol": "diamond"
         },
         "mode": "markers+text",
         "name": "DEN : Nikola On",
         "showlegend": false,
         "text": [
          "59.6"
         ],
         "textfont": {
          "color": "#ffffff",
          "size": 20
         },
         "textposition": "top right",
         "type": "scatter",
         "x": [
          "EFG%"
         ],
         "y": [
          1
         ]
        },
        {
         "hovertemplate": "<b>%{text}</b><br>Normalized: %{y:.2f}<br><extra></extra>",
         "marker": {
          "color": "#ff7f0e",
          "line": {
           "color": "#0A0A0A",
           "width": 3
          },
          "opacity": 1,
          "size": 21,
          "symbol": "diamond"
         },
         "mode": "markers+text",
         "name": "DEN : Nikola On",
         "showlegend": false,
         "text": [
          "70.1"
         ],
         "textfont": {
          "color": "#ffffff",
          "size": 20
         },
         "textposition": "top right",
         "type": "scatter",
         "x": [
          "Rim%"
         ],
         "y": [
          0.7784564561884615
         ]
        },
        {
         "hovertemplate": "<b>%{text}</b><br>Normalized: %{y:.2f}<br><extra></extra>",
         "marker": {
          "color": "#ff7f0e",
          "line": {
           "color": "#0A0A0A",
           "width": 3
          },
          "opacity": 1,
          "size": 21,
          "symbol": "diamond"
         },
         "mode": "markers+text",
         "name": "DEN : Nikola On",
         "showlegend": false,
         "text": [
          "11.6"
         ],
         "textfont": {
          "color": "#ffffff",
          "size": 20
         },
         "textposition": "top right",
         "type": "scatter",
         "x": [
          "TOV%"
         ],
         "y": [
          0.1638907436329955
         ]
        },
        {
         "hovertemplate": "<b>%{text}</b><br>Normalized: %{y:.2f}<br><extra></extra>",
         "marker": {
          "color": "#ff7f0e",
          "line": {
           "color": "#0A0A0A",
           "width": 3
          },
          "opacity": 1,
          "size": 21,
          "symbol": "diamond"
         },
         "mode": "markers+text",
         "name": "DEN : Nikola On",
         "showlegend": false,
         "text": [
          "75.2"
         ],
         "textfont": {
          "color": "#ffffff",
          "size": 20
         },
         "textposition": "top right",
         "type": "scatter",
         "x": [
          "DREB%"
         ],
         "y": [
          1
         ]
        },
        {
         "hovertemplate": "<b>%{text}</b><br>Normalized: %{y:.2f}<br><extra></extra>",
         "marker": {
          "color": "#ff7f0e",
          "line": {
           "color": "#0A0A0A",
           "width": 3
          },
          "opacity": 1,
          "size": 21,
          "symbol": "diamond"
         },
         "mode": "markers+text",
         "name": "DEN : Nikola On",
         "showlegend": false,
         "text": [
          "28.8"
         ],
         "textfont": {
          "color": "#ffffff",
          "size": 20
         },
         "textposition": "top right",
         "type": "scatter",
         "x": [
          "OREB%"
         ],
         "y": [
          0.6273493444357285
         ]
        }
       ],
       "layout": {
        "height": 1000,
        "hovermode": "closest",
        "legend": {
         "bgcolor": "#1a1a1a",
         "font": {
          "color": "#ffffff",
          "size": 16
         },
         "orientation": "h",
         "x": 0.5,
         "xanchor": "center",
         "y": 1.02,
         "yanchor": "bottom"
        },
        "paper_bgcolor": "#1a1a1a",
        "plot_bgcolor": "#1a1a1a",
        "showlegend": true,
        "template": {
         "data": {
          "bar": [
           {
            "error_x": {
             "color": "#2a3f5f"
            },
            "error_y": {
             "color": "#2a3f5f"
            },
            "marker": {
             "line": {
              "color": "#E5ECF6",
              "width": 0.5
             },
             "pattern": {
              "fillmode": "overlay",
              "size": 10,
              "solidity": 0.2
             }
            },
            "type": "bar"
           }
          ],
          "barpolar": [
           {
            "marker": {
             "line": {
              "color": "#E5ECF6",
              "width": 0.5
             },
             "pattern": {
              "fillmode": "overlay",
              "size": 10,
              "solidity": 0.2
             }
            },
            "type": "barpolar"
           }
          ],
          "carpet": [
           {
            "aaxis": {
             "endlinecolor": "#2a3f5f",
             "gridcolor": "white",
             "linecolor": "white",
             "minorgridcolor": "white",
             "startlinecolor": "#2a3f5f"
            },
            "baxis": {
             "endlinecolor": "#2a3f5f",
             "gridcolor": "white",
             "linecolor": "white",
             "minorgridcolor": "white",
             "startlinecolor": "#2a3f5f"
            },
            "type": "carpet"
           }
          ],
          "choropleth": [
           {
            "colorbar": {
             "outlinewidth": 0,
             "ticks": ""
            },
            "type": "choropleth"
           }
          ],
          "contour": [
           {
            "colorbar": {
             "outlinewidth": 0,
             "ticks": ""
            },
            "colorscale": [
             [
              0,
              "#0d0887"
             ],
             [
              0.1111111111111111,
              "#46039f"
             ],
             [
              0.2222222222222222,
              "#7201a8"
             ],
             [
              0.3333333333333333,
              "#9c179e"
             ],
             [
              0.4444444444444444,
              "#bd3786"
             ],
             [
              0.5555555555555556,
              "#d8576b"
             ],
             [
              0.6666666666666666,
              "#ed7953"
             ],
             [
              0.7777777777777778,
              "#fb9f3a"
             ],
             [
              0.8888888888888888,
              "#fdca26"
             ],
             [
              1,
              "#f0f921"
             ]
            ],
            "type": "contour"
           }
          ],
          "contourcarpet": [
           {
            "colorbar": {
             "outlinewidth": 0,
             "ticks": ""
            },
            "type": "contourcarpet"
           }
          ],
          "heatmap": [
           {
            "colorbar": {
             "outlinewidth": 0,
             "ticks": ""
            },
            "colorscale": [
             [
              0,
              "#0d0887"
             ],
             [
              0.1111111111111111,
              "#46039f"
             ],
             [
              0.2222222222222222,
              "#7201a8"
             ],
             [
              0.3333333333333333,
              "#9c179e"
             ],
             [
              0.4444444444444444,
              "#bd3786"
             ],
             [
              0.5555555555555556,
              "#d8576b"
             ],
             [
              0.6666666666666666,
              "#ed7953"
             ],
             [
              0.7777777777777778,
              "#fb9f3a"
             ],
             [
              0.8888888888888888,
              "#fdca26"
             ],
             [
              1,
              "#f0f921"
             ]
            ],
            "type": "heatmap"
           }
          ],
          "heatmapgl": [
           {
            "colorbar": {
             "outlinewidth": 0,
             "ticks": ""
            },
            "colorscale": [
             [
              0,
              "#0d0887"
             ],
             [
              0.1111111111111111,
              "#46039f"
             ],
             [
              0.2222222222222222,
              "#7201a8"
             ],
             [
              0.3333333333333333,
              "#9c179e"
             ],
             [
              0.4444444444444444,
              "#bd3786"
             ],
             [
              0.5555555555555556,
              "#d8576b"
             ],
             [
              0.6666666666666666,
              "#ed7953"
             ],
             [
              0.7777777777777778,
              "#fb9f3a"
             ],
             [
              0.8888888888888888,
              "#fdca26"
             ],
             [
              1,
              "#f0f921"
             ]
            ],
            "type": "heatmapgl"
           }
          ],
          "histogram": [
           {
            "marker": {
             "pattern": {
              "fillmode": "overlay",
              "size": 10,
              "solidity": 0.2
             }
            },
            "type": "histogram"
           }
          ],
          "histogram2d": [
           {
            "colorbar": {
             "outlinewidth": 0,
             "ticks": ""
            },
            "colorscale": [
             [
              0,
              "#0d0887"
             ],
             [
              0.1111111111111111,
              "#46039f"
             ],
             [
              0.2222222222222222,
              "#7201a8"
             ],
             [
              0.3333333333333333,
              "#9c179e"
             ],
             [
              0.4444444444444444,
              "#bd3786"
             ],
             [
              0.5555555555555556,
              "#d8576b"
             ],
             [
              0.6666666666666666,
              "#ed7953"
             ],
             [
              0.7777777777777778,
              "#fb9f3a"
             ],
             [
              0.8888888888888888,
              "#fdca26"
             ],
             [
              1,
              "#f0f921"
             ]
            ],
            "type": "histogram2d"
           }
          ],
          "histogram2dcontour": [
           {
            "colorbar": {
             "outlinewidth": 0,
             "ticks": ""
            },
            "colorscale": [
             [
              0,
              "#0d0887"
             ],
             [
              0.1111111111111111,
              "#46039f"
             ],
             [
              0.2222222222222222,
              "#7201a8"
             ],
             [
              0.3333333333333333,
              "#9c179e"
             ],
             [
              0.4444444444444444,
              "#bd3786"
             ],
             [
              0.5555555555555556,
              "#d8576b"
             ],
             [
              0.6666666666666666,
              "#ed7953"
             ],
             [
              0.7777777777777778,
              "#fb9f3a"
             ],
             [
              0.8888888888888888,
              "#fdca26"
             ],
             [
              1,
              "#f0f921"
             ]
            ],
            "type": "histogram2dcontour"
           }
          ],
          "mesh3d": [
           {
            "colorbar": {
             "outlinewidth": 0,
             "ticks": ""
            },
            "type": "mesh3d"
           }
          ],
          "parcoords": [
           {
            "line": {
             "colorbar": {
              "outlinewidth": 0,
              "ticks": ""
             }
            },
            "type": "parcoords"
           }
          ],
          "pie": [
           {
            "automargin": true,
            "type": "pie"
           }
          ],
          "scatter": [
           {
            "fillpattern": {
             "fillmode": "overlay",
             "size": 10,
             "solidity": 0.2
            },
            "type": "scatter"
           }
          ],
          "scatter3d": [
           {
            "line": {
             "colorbar": {
              "outlinewidth": 0,
              "ticks": ""
             }
            },
            "marker": {
             "colorbar": {
              "outlinewidth": 0,
              "ticks": ""
             }
            },
            "type": "scatter3d"
           }
          ],
          "scattercarpet": [
           {
            "marker": {
             "colorbar": {
              "outlinewidth": 0,
              "ticks": ""
             }
            },
            "type": "scattercarpet"
           }
          ],
          "scattergeo": [
           {
            "marker": {
             "colorbar": {
              "outlinewidth": 0,
              "ticks": ""
             }
            },
            "type": "scattergeo"
           }
          ],
          "scattergl": [
           {
            "marker": {
             "colorbar": {
              "outlinewidth": 0,
              "ticks": ""
             }
            },
            "type": "scattergl"
           }
          ],
          "scattermapbox": [
           {
            "marker": {
             "colorbar": {
              "outlinewidth": 0,
              "ticks": ""
             }
            },
            "type": "scattermapbox"
           }
          ],
          "scatterpolar": [
           {
            "marker": {
             "colorbar": {
              "outlinewidth": 0,
              "ticks": ""
             }
            },
            "type": "scatterpolar"
           }
          ],
          "scatterpolargl": [
           {
            "marker": {
             "colorbar": {
              "outlinewidth": 0,
              "ticks": ""
             }
            },
            "type": "scatterpolargl"
           }
          ],
          "scatterternary": [
           {
            "marker": {
             "colorbar": {
              "outlinewidth": 0,
              "ticks": ""
             }
            },
            "type": "scatterternary"
           }
          ],
          "surface": [
           {
            "colorbar": {
             "outlinewidth": 0,
             "ticks": ""
            },
            "colorscale": [
             [
              0,
              "#0d0887"
             ],
             [
              0.1111111111111111,
              "#46039f"
             ],
             [
              0.2222222222222222,
              "#7201a8"
             ],
             [
              0.3333333333333333,
              "#9c179e"
             ],
             [
              0.4444444444444444,
              "#bd3786"
             ],
             [
              0.5555555555555556,
              "#d8576b"
             ],
             [
              0.6666666666666666,
              "#ed7953"
             ],
             [
              0.7777777777777778,
              "#fb9f3a"
             ],
             [
              0.8888888888888888,
              "#fdca26"
             ],
             [
              1,
              "#f0f921"
             ]
            ],
            "type": "surface"
           }
          ],
          "table": [
           {
            "cells": {
             "fill": {
              "color": "#EBF0F8"
             },
             "line": {
              "color": "white"
             }
            },
            "header": {
             "fill": {
              "color": "#C8D4E3"
             },
             "line": {
              "color": "white"
             }
            },
            "type": "table"
           }
          ]
         },
         "layout": {
          "annotationdefaults": {
           "arrowcolor": "#2a3f5f",
           "arrowhead": 0,
           "arrowwidth": 1
          },
          "autotypenumbers": "strict",
          "coloraxis": {
           "colorbar": {
            "outlinewidth": 0,
            "ticks": ""
           }
          },
          "colorscale": {
           "diverging": [
            [
             0,
             "#8e0152"
            ],
            [
             0.1,
             "#c51b7d"
            ],
            [
             0.2,
             "#de77ae"
            ],
            [
             0.3,
             "#f1b6da"
            ],
            [
             0.4,
             "#fde0ef"
            ],
            [
             0.5,
             "#f7f7f7"
            ],
            [
             0.6,
             "#e6f5d0"
            ],
            [
             0.7,
             "#b8e186"
            ],
            [
             0.8,
             "#7fbc41"
            ],
            [
             0.9,
             "#4d9221"
            ],
            [
             1,
             "#276419"
            ]
           ],
           "sequential": [
            [
             0,
             "#0d0887"
            ],
            [
             0.1111111111111111,
             "#46039f"
            ],
            [
             0.2222222222222222,
             "#7201a8"
            ],
            [
             0.3333333333333333,
             "#9c179e"
            ],
            [
             0.4444444444444444,
             "#bd3786"
            ],
            [
             0.5555555555555556,
             "#d8576b"
            ],
            [
             0.6666666666666666,
             "#ed7953"
            ],
            [
             0.7777777777777778,
             "#fb9f3a"
            ],
            [
             0.8888888888888888,
             "#fdca26"
            ],
            [
             1,
             "#f0f921"
            ]
           ],
           "sequentialminus": [
            [
             0,
             "#0d0887"
            ],
            [
             0.1111111111111111,
             "#46039f"
            ],
            [
             0.2222222222222222,
             "#7201a8"
            ],
            [
             0.3333333333333333,
             "#9c179e"
            ],
            [
             0.4444444444444444,
             "#bd3786"
            ],
            [
             0.5555555555555556,
             "#d8576b"
            ],
            [
             0.6666666666666666,
             "#ed7953"
            ],
            [
             0.7777777777777778,
             "#fb9f3a"
            ],
            [
             0.8888888888888888,
             "#fdca26"
            ],
            [
             1,
             "#f0f921"
            ]
           ]
          },
          "colorway": [
           "#636efa",
           "#EF553B",
           "#00cc96",
           "#ab63fa",
           "#FFA15A",
           "#19d3f3",
           "#FF6692",
           "#B6E880",
           "#FF97FF",
           "#FECB52"
          ],
          "font": {
           "color": "#2a3f5f"
          },
          "geo": {
           "bgcolor": "white",
           "lakecolor": "white",
           "landcolor": "#E5ECF6",
           "showlakes": true,
           "showland": true,
           "subunitcolor": "white"
          },
          "hoverlabel": {
           "align": "left"
          },
          "hovermode": "closest",
          "mapbox": {
           "style": "light"
          },
          "paper_bgcolor": "white",
          "plot_bgcolor": "#E5ECF6",
          "polar": {
           "angularaxis": {
            "gridcolor": "white",
            "linecolor": "white",
            "ticks": ""
           },
           "bgcolor": "#E5ECF6",
           "radialaxis": {
            "gridcolor": "white",
            "linecolor": "white",
            "ticks": ""
           }
          },
          "scene": {
           "xaxis": {
            "backgroundcolor": "#E5ECF6",
            "gridcolor": "white",
            "gridwidth": 2,
            "linecolor": "white",
            "showbackground": true,
            "ticks": "",
            "zerolinecolor": "white"
           },
           "yaxis": {
            "backgroundcolor": "#E5ECF6",
            "gridcolor": "white",
            "gridwidth": 2,
            "linecolor": "white",
            "showbackground": true,
            "ticks": "",
            "zerolinecolor": "white"
           },
           "zaxis": {
            "backgroundcolor": "#E5ECF6",
            "gridcolor": "white",
            "gridwidth": 2,
            "linecolor": "white",
            "showbackground": true,
            "ticks": "",
            "zerolinecolor": "white"
           }
          },
          "shapedefaults": {
           "line": {
            "color": "#2a3f5f"
           }
          },
          "ternary": {
           "aaxis": {
            "gridcolor": "white",
            "linecolor": "white",
            "ticks": ""
           },
           "baxis": {
            "gridcolor": "white",
            "linecolor": "white",
            "ticks": ""
           },
           "bgcolor": "#E5ECF6",
           "caxis": {
            "gridcolor": "white",
            "linecolor": "white",
            "ticks": ""
           }
          },
          "title": {
           "x": 0.05
          },
          "xaxis": {
           "automargin": true,
           "gridcolor": "white",
           "linecolor": "white",
           "ticks": "",
           "title": {
            "standoff": 15
           },
           "zerolinecolor": "white",
           "zerolinewidth": 2
          },
          "yaxis": {
           "automargin": true,
           "gridcolor": "white",
           "linecolor": "white",
           "ticks": "",
           "title": {
            "standoff": 15
           },
           "zerolinecolor": "white",
           "zerolinewidth": 2
          }
         }
        },
        "title": {
         "font": {
          "color": "#ffffff",
          "size": 24
         },
         "text": "NBA Beeswarm Comparison 2023-2024",
         "x": 0.5,
         "y": 0.99
        },
        "width": 1600,
        "xaxis": {
         "autorange": true,
         "categoryarray": [
          "Points",
          "Opp Points",
          "FTA",
          "3P%",
          "Rim Freq",
          "EFG%",
          "Rim%",
          "TOV%",
          "DREB%",
          "OREB%"
         ],
         "categoryorder": "array",
         "gridcolor": "rgba(255, 255, 255, 0.1)",
         "range": [
          -0.6033668044890727,
          9.603366804489072
         ],
         "showgrid": false,
         "tickangle": -45,
         "tickfont": {
          "color": "#ffffff",
          "size": 14
         },
         "type": "category"
        },
        "yaxis": {
         "gridcolor": "rgba(255, 255, 255, 0.1)",
         "range": [
          -0.1,
          1.1
         ],
         "showgrid": false,
         "showticklabels": false,
         "title": {
          "font": {
           "color": "#ffffff",
           "size": 16
          },
          "text": "Normalized Value"
         },
         "type": "linear",
         "zeroline": true,
         "zerolinecolor": "rgba(255, 255, 255, 0.1)"
        }
       }
      },
      "image/png": "[encoded data removed]",
      "text/html": [
       "<div>                            <div id=\"0c7461fc-5cbf-4432-8f4c-807798088f04\" class=\"plotly-graph-div\" style=\"height:1000px; width:1600px;\"></div>            <script type=\"text/javascript\">                require([\"plotly\"], function(Plotly) {                    window.PLOTLYENV=window.PLOTLYENV || {};                                    if (document.getElementById(\"0c7461fc-5cbf-4432-8f4c-807798088f04\")) {                    Plotly.newPlot(                        \"0c7461fc-5cbf-4432-8f4c-807798088f04\",                        [{\"hovertemplate\":\"\\u003cb\\u003e%{text}\\u003c\\u002fb\\u003e\\u003cbr\\u003eNormalized: %{y:.2f}\\u003cbr\\u003e\\u003cextra\\u003e\\u003c\\u002fextra\\u003e\",\"marker\":{\"color\":\"#00ffff\",\"line\":{\"color\":\"white\",\"width\":3},\"opacity\":0.7,\"size\":18,\"symbol\":\"circle\"},\"mode\":\"markers\",\"name\":\"Season Avg (All Teams)\",\"showlegend\":false,\"text\":[\"Unknown\\u003cbr\\u003ePoints: 117.2\",\"Unknown\\u003cbr\\u003ePoints: 120.8\",\"Unknown\\u003cbr\\u003ePoints: 116.2\",\"Unknown\\u003cbr\\u003ePoints: 116.4\",\"Unknown\\u003cbr\\u003ePoints: 114.6\",\"Unknown\\u003cbr\\u003ePoints: 117.8\",\"Unknown\\u003cbr\\u003ePoints: 118.5\",\"Unknown\\u003cbr\\u003ePoints: 117.3\",\"Unknown\\u003cbr\\u003ePoints: 113.4\",\"Unknown\\u003cbr\\u003ePoints: 117.1\",\"Unknown\\u003cbr\\u003ePoints: 115.8\",\"Unknown\\u003cbr\\u003ePoints: 114.1\",\"Unknown\\u003cbr\\u003ePoints: 117.2\",\"Unknown\\u003cbr\\u003ePoints: 115.3\",\"Unknown\\u003cbr\\u003ePoints: 114.8\",\"Unknown\\u003cbr\\u003ePoints: 118.4\",\"Unknown\\u003cbr\\u003ePoints: 113.3\",\"Unknown\\u003cbr\\u003ePoints: 118.5\",\"Unknown\\u003cbr\\u003ePoints: 118.0\",\"Phoenix Suns\\u003cbr\\u003ePoints: 116.8\",\"Unknown\\u003cbr\\u003ePoints: 111.9\",\"Unknown\\u003cbr\\u003ePoints: 118.5\",\"Unknown\\u003cbr\\u003ePoints: 110.7\",\"Unknown\\u003cbr\\u003ePoints: 117.4\",\"Unknown\\u003cbr\\u003ePoints: 114.4\",\"Unknown\\u003cbr\\u003ePoints: 116.0\",\"Unknown\\u003cbr\\u003ePoints: 112.0\",\"Unknown\\u003cbr\\u003ePoints: 113.1\",\"Detroit Pistons\\u003cbr\\u003ePoints: 110.7\",\"Unknown\\u003cbr\\u003ePoints: 109.8\"],\"x\":[\"Points\",\"Points\",\"Points\",\"Points\",\"Points\",\"Points\",\"Points\",\"Points\",\"Points\",\"Points\",\"Points\",\"Points\",\"Points\",\"Points\",\"Points\",\"Points\",\"Points\",\"Points\",\"Points\",\"Points\",\"Points\",\"Points\",\"Points\",\"Points\",\"Points\",\"Points\",\"Points\",\"Points\",\"Points\",\"Points\"],\"y\":[0.4855483404223877,0.7229177295687172,0.42129299234751283,0.4350000499832669,0.31812915283968124,0.526702477234144,0.5736272233013429,0.49233833948185524,0.23586335684368898,0.48014500659951853,0.39654237683689075,0.2824978365354198,0.4856020395878087,0.36063489141780014,0.32684515277327186,0.568922844174943,0.23025538263238232,0.5711041141965465,0.5383200752539343,0.45765085060510646,0.1410962887379661,0.5713308795706933,0.061233223391806924,0.5014880609624077,0.304080616152671,0.4075273427852766,0.142036084035718,0.21561281932169685,0.06137708933637587,0.0],\"type\":\"scatter\"},{\"hovertemplate\":\"\\u003cb\\u003e%{text}\\u003c\\u002fb\\u003e\\u003cbr\\u003eNormalized: %{y:.2f}\\u003cbr\\u003e\\u003cextra\\u003e\\u003c\\u002fextra\\u003e\",\"marker\":{\"color\":\"#00ffff\",\"line\":{\"color\":\"white\",\"width\":3},\"opacity\":0.7,\"size\":18,\"symbol\":\"circle\"},\"mode\":\"markers\",\"name\":\"Season Avg (All Teams)\",\"showlegend\":false,\"text\":[\"Unknown\\u003cbr\\u003eOpp Points: 118.1\",\"Unknown\\u003cbr\\u003eOpp Points: 111.9\",\"Unknown\\u003cbr\\u003eOpp Points: 112.2\",\"Unknown\\u003cbr\\u003eOpp Points: 113.1\",\"Unknown\\u003cbr\\u003eOpp Points: 114.7\",\"Unknown\\u003cbr\\u003eOpp Points: 116.6\",\"Unknown\\u003cbr\\u003eOpp Points: 114.1\",\"Unknown\\u003cbr\\u003eOpp Points: 115.2\",\"Unknown\\u003cbr\\u003eOpp Points: 116.7\",\"Unknown\\u003cbr\\u003eOpp Points: 115.3\",\"Unknown\\u003cbr\\u003eOpp Points: 115.2\",\"Unknown\\u003cbr\\u003eOpp Points: 113.4\",\"Unknown\\u003cbr\\u003eOpp Points: 114.2\",\"Unknown\\u003cbr\\u003eOpp Points: 112.1\",\"Unknown\\u003cbr\\u003eOpp Points: 115.7\",\"Unknown\\u003cbr\\u003eOpp Points: 114.6\",\"Unknown\\u003cbr\\u003eOpp Points: 113.5\",\"Unknown\\u003cbr\\u003eOpp Points: 118.5\",\"Unknown\\u003cbr\\u003eOpp Points: 114.3\",\"Phoenix Suns\\u003cbr\\u003eOpp Points: 114.2\",\"Unknown\\u003cbr\\u003eOpp Points: 118.5\",\"Unknown\\u003cbr\\u003eOpp Points: 116.5\",\"Unknown\\u003cbr\\u003eOpp Points: 118.6\",\"Unknown\\u003cbr\\u003eOpp Points: 113.4\",\"Unknown\\u003cbr\\u003eOpp Points: 117.0\",\"Unknown\\u003cbr\\u003eOpp Points: 118.8\",\"Unknown\\u003cbr\\u003eOpp Points: 113.5\",\"Unknown\\u003cbr\\u003eOpp Points: 118.2\",\"Detroit Pistons\\u003cbr\\u003eOpp Points: 119.1\",\"Unknown\\u003cbr\\u003eOpp Points: 117.9\"],\"x\":[\"Opp Points\",\"Opp Points\",\"Opp Points\",\"Opp Points\",\"Opp Points\",\"Opp Points\",\"Opp Points\",\"Opp Points\",\"Opp Points\",\"Opp Points\",\"Opp Points\",\"Opp Points\",\"Opp Points\",\"Opp Points\",\"Opp Points\",\"Opp Points\",\"Opp Points\",\"Opp Points\",\"Opp Points\",\"Opp Points\",\"Opp Points\",\"Opp Points\",\"Opp Points\",\"Opp Points\",\"Opp Points\",\"Opp Points\",\"Opp Points\",\"Opp Points\",\"Opp Points\",\"Opp Points\"],\"y\":[0.8603471967559813,0.0,0.03624080380697414,0.1673420856900325,0.38260986074154957,0.6538052198118542,0.29936058119312214,0.45966905002450176,0.6651889336019359,0.4641400230993167,0.45686696822213513,0.20231681408338886,0.31861594893250356,0.01639888239827414,0.5205367254264424,0.36899275219547434,0.21114293513750404,0.917332127861183,0.32718015955806834,0.31378345491445536,0.910742116969832,0.6378995823257476,0.9301037420471872,0.20198549668471877,0.6985157570959899,0.9529989219880051,0.2112859018642066,0.875936730769677,1.0,0.8303120167511935],\"type\":\"scatter\"},{\"hovertemplate\":\"\\u003cb\\u003e%{text}\\u003c\\u002fb\\u003e\\u003cbr\\u003eNormalized: %{y:.2f}\\u003cbr\\u003e\\u003cextra\\u003e\\u003c\\u002fextra\\u003e\",\"marker\":{\"color\":\"#00ffff\",\"line\":{\"color\":\"white\",\"width\":3},\"opacity\":0.7,\"size\":18,\"symbol\":\"circle\"},\"mode\":\"markers\",\"name\":\"Season Avg (All Teams)\",\"showlegend\":false,\"text\":[\"Unknown\\u003cbr\\u003eFTA: 22.7\",\"Unknown\\u003cbr\\u003eFTA: 21.1\",\"Unknown\\u003cbr\\u003eFTA: 22.1\",\"Unknown\\u003cbr\\u003eFTA: 24.0\",\"Unknown\\u003cbr\\u003eFTA: 21.8\",\"Unknown\\u003cbr\\u003eFTA: 24.1\",\"Unknown\\u003cbr\\u003eFTA: 21.7\",\"Unknown\\u003cbr\\u003eFTA: 19.9\",\"Unknown\\u003cbr\\u003eFTA: 24.5\",\"Unknown\\u003cbr\\u003eFTA: 23.5\",\"Unknown\\u003cbr\\u003eFTA: 25.0\",\"Unknown\\u003cbr\\u003eFTA: 23.4\",\"Unknown\\u003cbr\\u003eFTA: 23.0\",\"Unknown\\u003cbr\\u003eFTA: 23.5\",\"Unknown\\u003cbr\\u003eFTA: 22.0\",\"Unknown\\u003cbr\\u003eFTA: 24.5\",\"Unknown\\u003cbr\\u003eFTA: 25.2\",\"Unknown\\u003cbr\\u003eFTA: 21.9\",\"Unknown\\u003cbr\\u003eFTA: 25.0\",\"Phoenix Suns\\u003cbr\\u003eFTA: 22.9\",\"Unknown\\u003cbr\\u003eFTA: 23.0\",\"Unknown\\u003cbr\\u003eFTA: 22.9\",\"Unknown\\u003cbr\\u003eFTA: 20.2\",\"Unknown\\u003cbr\\u003eFTA: 22.3\",\"Unknown\\u003cbr\\u003eFTA: 22.9\",\"Unknown\\u003cbr\\u003eFTA: 23.1\",\"Unknown\\u003cbr\\u003eFTA: 22.5\",\"Unknown\\u003cbr\\u003eFTA: 21.2\",\"Detroit Pistons\\u003cbr\\u003eFTA: 23.8\",\"Unknown\\u003cbr\\u003eFTA: 21.2\"],\"x\":[\"FTA\",\"FTA\",\"FTA\",\"FTA\",\"FTA\",\"FTA\",\"FTA\",\"FTA\",\"FTA\",\"FTA\",\"FTA\",\"FTA\",\"FTA\",\"FTA\",\"FTA\",\"FTA\",\"FTA\",\"FTA\",\"FTA\",\"FTA\",\"FTA\",\"FTA\",\"FTA\",\"FTA\",\"FTA\",\"FTA\",\"FTA\",\"FTA\",\"FTA\",\"FTA\"],\"y\":[0.5165071169730702,0.2277157863806738,0.41808171148977014,0.7606195401901816,0.35716823212281223,0.7932365001543751,0.3323466958186563,0.0,0.8686829216041767,0.6813669081610962,0.9584882873691756,0.651028455580799,0.578670593930152,0.6720512435727768,0.39627292357254085,0.8558429594562034,1.0,0.36859308231749566,0.954744479566247,0.5582008319761762,0.5766755735762823,0.5651537617830957,0.059408419339123775,0.4505379479795675,0.5574681866847415,0.6060635137998869,0.4905722822101204,0.2465281008147997,0.7357253419047165,0.23976567479744837],\"type\":\"scatter\"},{\"hovertemplate\":\"\\u003cb\\u003e%{text}\\u003c\\u002fb\\u003e\\u003cbr\\u003eNormalized: %{y:.2f}\\u003cbr\\u003e\\u003cextra\\u003e\\u003c\\u002fextra\\u003e\",\"marker\":{\"color\":\"#00ffff\",\"line\":{\"color\":\"white\",\"width\":3},\"opacity\":0.7,\"size\":18,\"symbol\":\"circle\"},\"mode\":\"markers\",\"name\":\"Season Avg (All Teams)\",\"showlegend\":false,\"text\":[\"Unknown\\u003cbr\\u003e3P%: 35.9\",\"Unknown\\u003cbr\\u003e3P%: 38.2\",\"Unknown\\u003cbr\\u003e3P%: 36.7\",\"Unknown\\u003cbr\\u003e3P%: 37.4\",\"Unknown\\u003cbr\\u003e3P%: 35.9\",\"Unknown\\u003cbr\\u003e3P%: 37.0\",\"Unknown\\u003cbr\\u003e3P%: 37.6\",\"Unknown\\u003cbr\\u003e3P%: 38.2\",\"Unknown\\u003cbr\\u003e3P%: 34.0\",\"Unknown\\u003cbr\\u003e3P%: 38.1\",\"Unknown\\u003cbr\\u003e3P%: 36.1\",\"Unknown\\u003cbr\\u003e3P%: 35.6\",\"Unknown\\u003cbr\\u003e3P%: 37.0\",\"Unknown\\u003cbr\\u003e3P%: 37.6\",\"Unknown\\u003cbr\\u003e3P%: 37.0\",\"Unknown\\u003cbr\\u003e3P%: 36.1\",\"Unknown\\u003cbr\\u003e3P%: 34.9\",\"Unknown\\u003cbr\\u003e3P%: 37.1\",\"Unknown\\u003cbr\\u003e3P%: 37.5\",\"Phoenix Suns\\u003cbr\\u003e3P%: 37.8\",\"Unknown\\u003cbr\\u003e3P%: 35.5\",\"Unknown\\u003cbr\\u003e3P%: 36.7\",\"Unknown\\u003cbr\\u003e3P%: 34.6\",\"Unknown\\u003cbr\\u003e3P%: 37.2\",\"Unknown\\u003cbr\\u003e3P%: 34.1\",\"Unknown\\u003cbr\\u003e3P%: 35.4\",\"Unknown\\u003cbr\\u003e3P%: 34.8\",\"Unknown\\u003cbr\\u003e3P%: 35.2\",\"Detroit Pistons\\u003cbr\\u003e3P%: 35.0\",\"Unknown\\u003cbr\\u003e3P%: 34.3\"],\"x\":[\"3P%\",\"3P%\",\"3P%\",\"3P%\",\"3P%\",\"3P%\",\"3P%\",\"3P%\",\"3P%\",\"3P%\",\"3P%\",\"3P%\",\"3P%\",\"3P%\",\"3P%\",\"3P%\",\"3P%\",\"3P%\",\"3P%\",\"3P%\",\"3P%\",\"3P%\",\"3P%\",\"3P%\",\"3P%\",\"3P%\",\"3P%\",\"3P%\",\"3P%\",\"3P%\"],\"y\":[0.33719405764177246,0.7703043544771875,0.49417524517072575,0.6163835343736412,0.34872144495208257,0.5445416037773914,0.6636117319708665,0.772730528590408,0.0,0.7436945598158404,0.3887194831740288,0.29758064699511877,0.5505343645175182,0.6524745961360505,0.5396407328527033,0.3887413526576422,0.1600769969038165,0.5558427860067887,0.6338940380865461,0.6941346981376997,0.27595492323958126,0.495706532999896,0.11181890943369943,0.5858779412789135,0.02169255144702209,0.24567131290722521,0.1480521279207334,0.2114070386329132,0.175563146755084,0.046422617781724185],\"type\":\"scatter\"},{\"hovertemplate\":\"\\u003cb\\u003e%{text}\\u003c\\u002fb\\u003e\\u003cbr\\u003eNormalized: %{y:.2f}\\u003cbr\\u003e\\u003cextra\\u003e\\u003c\\u002fextra\\u003e\",\"marker\":{\"color\":\"#00ffff\",\"line\":{\"color\":\"white\",\"width\":3},\"opacity\":0.7,\"size\":18,\"symbol\":\"circle\"},\"mode\":\"markers\",\"name\":\"Season Avg (All Teams)\",\"showlegend\":false,\"text\":[\"Unknown\\u003cbr\\u003eRim Freq: 29.2\",\"Unknown\\u003cbr\\u003eRim Freq: 26.7\",\"Unknown\\u003cbr\\u003eRim Freq: 31.5\",\"Unknown\\u003cbr\\u003eRim Freq: 31.1\",\"Unknown\\u003cbr\\u003eRim Freq: 30.8\",\"Unknown\\u003cbr\\u003eRim Freq: 26.1\",\"Unknown\\u003cbr\\u003eRim Freq: 32.7\",\"Unknown\\u003cbr\\u003eRim Freq: 24.1\",\"Unknown\\u003cbr\\u003eRim Freq: 32.1\",\"Unknown\\u003cbr\\u003eRim Freq: 28.0\",\"Unknown\\u003cbr\\u003eRim Freq: 32.8\",\"Unknown\\u003cbr\\u003eRim Freq: 24.8\",\"Unknown\\u003cbr\\u003eRim Freq: 28.1\",\"Unknown\\u003cbr\\u003eRim Freq: 31.8\",\"Unknown\\u003cbr\\u003eRim Freq: 27.7\",\"Unknown\\u003cbr\\u003eRim Freq: 29.6\",\"Unknown\\u003cbr\\u003eRim Freq: 32.6\",\"Unknown\\u003cbr\\u003eRim Freq: 32.2\",\"Unknown\\u003cbr\\u003eRim Freq: 30.7\",\"Phoenix Suns\\u003cbr\\u003eRim Freq: 24.8\",\"Unknown\\u003cbr\\u003eRim Freq: 31.8\",\"Unknown\\u003cbr\\u003eRim Freq: 27.7\",\"Unknown\\u003cbr\\u003eRim Freq: 30.9\",\"Unknown\\u003cbr\\u003eRim Freq: 31.6\",\"Unknown\\u003cbr\\u003eRim Freq: 30.3\",\"Unknown\\u003cbr\\u003eRim Freq: 27.3\",\"Unknown\\u003cbr\\u003eRim Freq: 30.4\",\"Unknown\\u003cbr\\u003eRim Freq: 29.3\",\"Detroit Pistons\\u003cbr\\u003eRim Freq: 28.7\",\"Unknown\\u003cbr\\u003eRim Freq: 31.8\"],\"x\":[\"Rim Freq\",\"Rim Freq\",\"Rim Freq\",\"Rim Freq\",\"Rim Freq\",\"Rim Freq\",\"Rim Freq\",\"Rim Freq\",\"Rim Freq\",\"Rim Freq\",\"Rim Freq\",\"Rim Freq\",\"Rim Freq\",\"Rim Freq\",\"Rim Freq\",\"Rim Freq\",\"Rim Freq\",\"Rim Freq\",\"Rim Freq\",\"Rim Freq\",\"Rim Freq\",\"Rim Freq\",\"Rim Freq\",\"Rim Freq\",\"Rim Freq\",\"Rim Freq\",\"Rim Freq\",\"Rim Freq\",\"Rim Freq\",\"Rim Freq\"],\"y\":[0.4163681031544535,0.21168405706071725,0.6044039105161285,0.5764754963170604,0.547517986436824,0.1671072706321175,0.7004811033080125,0.0,0.6568531316952606,0.31961760307807263,0.7121765563873861,0.05742089879282308,0.3248882309565724,0.6327990576775788,0.29272812888456,0.44927068395516145,0.69666785637688,0.6603477251528063,0.5384283639340703,0.057107537258790364,0.6272519744217797,0.29538895803856113,0.5563716717348426,0.6141580934693851,0.5106243311048193,0.26071095106276254,0.5147204033634176,0.4225042296122903,0.3801139839824821,0.6289198959849716],\"type\":\"scatter\"},{\"hovertemplate\":\"\\u003cb\\u003e%{text}\\u003c\\u002fb\\u003e\\u003cbr\\u003eNormalized: %{y:.2f}\\u003cbr\\u003e\\u003cextra\\u003e\\u003c\\u002fextra\\u003e\",\"marker\":{\"color\":\"#00ffff\",\"line\":{\"color\":\"white\",\"width\":3},\"opacity\":0.7,\"size\":18,\"symbol\":\"circle\"},\"mode\":\"markers\",\"name\":\"Season Avg (All Teams)\",\"showlegend\":false,\"text\":[\"Unknown\\u003cbr\\u003eEFG%: 54.0\",\"Unknown\\u003cbr\\u003eEFG%: 57.2\",\"Unknown\\u003cbr\\u003eEFG%: 55.6\",\"Unknown\\u003cbr\\u003eEFG%: 55.0\",\"Unknown\\u003cbr\\u003eEFG%: 54.2\",\"Unknown\\u003cbr\\u003eEFG%: 56.4\",\"Unknown\\u003cbr\\u003eEFG%: 56.7\",\"Unknown\\u003cbr\\u003eEFG%: 56.4\",\"Unknown\\u003cbr\\u003eEFG%: 52.2\",\"Unknown\\u003cbr\\u003eEFG%: 55.6\",\"Unknown\\u003cbr\\u003eEFG%: 55.4\",\"Unknown\\u003cbr\\u003eEFG%: 53.4\",\"Unknown\\u003cbr\\u003eEFG%: 56.1\",\"Unknown\\u003cbr\\u003eEFG%: 56.0\",\"Unknown\\u003cbr\\u003eEFG%: 54.6\",\"Unknown\\u003cbr\\u003eEFG%: 54.0\",\"Unknown\\u003cbr\\u003eEFG%: 53.7\",\"Unknown\\u003cbr\\u003eEFG%: 56.2\",\"Unknown\\u003cbr\\u003eEFG%: 54.7\",\"Phoenix Suns\\u003cbr\\u003eEFG%: 55.0\",\"Unknown\\u003cbr\\u003eEFG%: 52.5\",\"Unknown\\u003cbr\\u003eEFG%: 56.4\",\"Unknown\\u003cbr\\u003eEFG%: 52.9\",\"Unknown\\u003cbr\\u003eEFG%: 55.2\",\"Unknown\\u003cbr\\u003eEFG%: 52.6\",\"Unknown\\u003cbr\\u003eEFG%: 54.3\",\"Unknown\\u003cbr\\u003eEFG%: 52.5\",\"Unknown\\u003cbr\\u003eEFG%: 54.4\",\"Detroit Pistons\\u003cbr\\u003eEFG%: 52.3\",\"Unknown\\u003cbr\\u003eEFG%: 52.3\"],\"x\":[\"EFG%\",\"EFG%\",\"EFG%\",\"EFG%\",\"EFG%\",\"EFG%\",\"EFG%\",\"EFG%\",\"EFG%\",\"EFG%\",\"EFG%\",\"EFG%\",\"EFG%\",\"EFG%\",\"EFG%\",\"EFG%\",\"EFG%\",\"EFG%\",\"EFG%\",\"EFG%\",\"EFG%\",\"EFG%\",\"EFG%\",\"EFG%\",\"EFG%\",\"EFG%\",\"EFG%\",\"EFG%\",\"EFG%\",\"EFG%\"],\"y\":[0.24414852287217848,0.6756966107370399,0.46181703246029393,0.3778069803145261,0.26568445651056827,0.5627807798242968,0.6085079193734018,0.5653019246649569,0.0,0.4618445114574836,0.4337634844522986,0.15687381636133857,0.5279629554508132,0.5080337827232668,0.3230023123402441,0.24415849117661903,0.19436802407483178,0.5367788224896364,0.33151283119193753,0.37326812789405217,0.039095843813190534,0.5621749964305947,0.08440869749630142,0.39922842926944657,0.0511691403041894,0.2834453689039078,0.03336509034174817,0.28997883074778397,0.006434415096851609,0.0018560356878420947],\"type\":\"scatter\"},{\"hovertemplate\":\"\\u003cb\\u003e%{text}\\u003c\\u002fb\\u003e\\u003cbr\\u003eNormalized: %{y:.2f}\\u003cbr\\u003e\\u003cextra\\u003e\\u003c\\u002fextra\\u003e\",\"marker\":{\"color\":\"#00ffff\",\"line\":{\"color\":\"white\",\"width\":3},\"opacity\":0.7,\"size\":18,\"symbol\":\"circle\"},\"mode\":\"markers\",\"name\":\"Season Avg (All Teams)\",\"showlegend\":false,\"text\":[\"Unknown\\u003cbr\\u003eRim%: 64.5\",\"Unknown\\u003cbr\\u003eRim%: 69.7\",\"Unknown\\u003cbr\\u003eRim%: 67.3\",\"Unknown\\u003cbr\\u003eRim%: 66.4\",\"Unknown\\u003cbr\\u003eRim%: 64.6\",\"Unknown\\u003cbr\\u003eRim%: 69.3\",\"Unknown\\u003cbr\\u003eRim%: 68.1\",\"Unknown\\u003cbr\\u003eRim%: 70.2\",\"Unknown\\u003cbr\\u003eRim%: 64.3\",\"Unknown\\u003cbr\\u003eRim%: 66.5\",\"Unknown\\u003cbr\\u003eRim%: 70.6\",\"Unknown\\u003cbr\\u003eRim%: 64.6\",\"Unknown\\u003cbr\\u003eRim%: 70.0\",\"Unknown\\u003cbr\\u003eRim%: 68.1\",\"Unknown\\u003cbr\\u003eRim%: 65.9\",\"Unknown\\u003cbr\\u003eRim%: 64.2\",\"Unknown\\u003cbr\\u003eRim%: 67.2\",\"Unknown\\u003cbr\\u003eRim%: 66.4\",\"Unknown\\u003cbr\\u003eRim%: 64.3\",\"Phoenix Suns\\u003cbr\\u003eRim%: 66.6\",\"Unknown\\u003cbr\\u003eRim%: 62.7\",\"Unknown\\u003cbr\\u003eRim%: 69.3\",\"Unknown\\u003cbr\\u003eRim%: 65.4\",\"Unknown\\u003cbr\\u003eRim%: 65.0\",\"Unknown\\u003cbr\\u003eRim%: 66.9\",\"Unknown\\u003cbr\\u003eRim%: 68.1\",\"Unknown\\u003cbr\\u003eRim%: 63.0\",\"Unknown\\u003cbr\\u003eRim%: 70.9\",\"Detroit Pistons\\u003cbr\\u003eRim%: 64.5\",\"Unknown\\u003cbr\\u003eRim%: 65.0\"],\"x\":[\"Rim%\",\"Rim%\",\"Rim%\",\"Rim%\",\"Rim%\",\"Rim%\",\"Rim%\",\"Rim%\",\"Rim%\",\"Rim%\",\"Rim%\",\"Rim%\",\"Rim%\",\"Rim%\",\"Rim%\",\"Rim%\",\"Rim%\",\"Rim%\",\"Rim%\",\"Rim%\",\"Rim%\",\"Rim%\",\"Rim%\",\"Rim%\",\"Rim%\",\"Rim%\",\"Rim%\",\"Rim%\",\"Rim%\",\"Rim%\"],\"y\":[0.19279645052623895,0.7407020164301725,0.4894943006256378,0.38537643261960053,0.198903005360477,0.6928370587302775,0.5666921843511696,0.7874064509825915,0.16472938081551014,0.39715047010791427,0.8328408966138081,0.2049379389395405,0.7692765519349001,0.5737650434884101,0.33661587515712643,0.16132985849229353,0.4759784304681389,0.3884441307734843,0.16916005959811908,0.414488828767122,0.0,0.6956786835827602,0.28824677424463907,0.24619296693583514,0.4465049871096962,0.5722878304934786,0.0358209710240196,0.8612267848837476,0.18875681533407818,0.24512037004228038],\"type\":\"scatter\"},{\"hovertemplate\":\"\\u003cb\\u003e%{text}\\u003c\\u002fb\\u003e\\u003cbr\\u003eNormalized: %{y:.2f}\\u003cbr\\u003e\\u003cextra\\u003e\\u003c\\u002fextra\\u003e\",\"marker\":{\"color\":\"#00ffff\",\"line\":{\"color\":\"white\",\"width\":3},\"opacity\":0.7,\"size\":18,\"symbol\":\"circle\"},\"mode\":\"markers\",\"name\":\"Season Avg (All Teams)\",\"showlegend\":false,\"text\":[\"Unknown\\u003cbr\\u003eTOV%: 11.4\",\"Unknown\\u003cbr\\u003eTOV%: 11.4\",\"Unknown\\u003cbr\\u003eTOV%: 12.3\",\"Unknown\\u003cbr\\u003eTOV%: 12.4\",\"Unknown\\u003cbr\\u003eTOV%: 11.6\",\"Unknown\\u003cbr\\u003eTOV%: 11.3\",\"Unknown\\u003cbr\\u003eTOV%: 12.3\",\"Unknown\\u003cbr\\u003eTOV%: 13.3\",\"Unknown\\u003cbr\\u003eTOV%: 12.6\",\"Unknown\\u003cbr\\u003eTOV%: 12.4\",\"Unknown\\u003cbr\\u003eTOV%: 12.4\",\"Unknown\\u003cbr\\u003eTOV%: 12.1\",\"Unknown\\u003cbr\\u003eTOV%: 12.1\",\"Unknown\\u003cbr\\u003eTOV%: 13.3\",\"Unknown\\u003cbr\\u003eTOV%: 12.2\",\"Unknown\\u003cbr\\u003eTOV%: 11.6\",\"Unknown\\u003cbr\\u003eTOV%: 13.4\",\"Unknown\\u003cbr\\u003eTOV%: 12.1\",\"Unknown\\u003cbr\\u003eTOV%: 11.7\",\"Phoenix Suns\\u003cbr\\u003eTOV%: 12.7\",\"Unknown\\u003cbr\\u003eTOV%: 13.2\",\"Unknown\\u003cbr\\u003eTOV%: 11.8\",\"Unknown\\u003cbr\\u003eTOV%: 13.1\",\"Unknown\\u003cbr\\u003eTOV%: 11.3\",\"Unknown\\u003cbr\\u003eTOV%: 11.3\",\"Unknown\\u003cbr\\u003eTOV%: 13.4\",\"Unknown\\u003cbr\\u003eTOV%: 12.5\",\"Unknown\\u003cbr\\u003eTOV%: 12.5\",\"Detroit Pistons\\u003cbr\\u003eTOV%: 13.4\",\"Unknown\\u003cbr\\u003eTOV%: 12.5\"],\"x\":[\"TOV%\",\"TOV%\",\"TOV%\",\"TOV%\",\"TOV%\",\"TOV%\",\"TOV%\",\"TOV%\",\"TOV%\",\"TOV%\",\"TOV%\",\"TOV%\",\"TOV%\",\"TOV%\",\"TOV%\",\"TOV%\",\"TOV%\",\"TOV%\",\"TOV%\",\"TOV%\",\"TOV%\",\"TOV%\",\"TOV%\",\"TOV%\",\"TOV%\",\"TOV%\",\"TOV%\",\"TOV%\",\"TOV%\",\"TOV%\"],\"y\":[0.07829511301236014,0.04543431215844684,0.4964217047227102,0.5072239732003707,0.15814261371204807,0.0,0.47896232785566184,0.9448116294933442,0.6147150002778217,0.5340444500509527,0.5084317338039579,0.3680783283673339,0.4067936133496426,0.9256529306934453,0.4379263874094077,0.17888466245613177,0.9748496205202573,0.4007621174291023,0.18088298067773145,0.6485594696705501,0.9020412022513238,0.24071653281967897,0.8628539977941942,0.01777215726701087,0.027284774659128708,1.0,0.5933450547824561,0.5659273887618284,0.981595769598842,0.5696738527904328],\"type\":\"scatter\"},{\"hovertemplate\":\"\\u003cb\\u003e%{text}\\u003c\\u002fb\\u003e\\u003cbr\\u003eNormalized: %{y:.2f}\\u003cbr\\u003e\\u003cextra\\u003e\\u003c\\u002fextra\\u003e\",\"marker\":{\"color\":\"#00ffff\",\"line\":{\"color\":\"white\",\"width\":3},\"opacity\":0.7,\"size\":18,\"symbol\":\"circle\"},\"mode\":\"markers\",\"name\":\"Season Avg (All Teams)\",\"showlegend\":false,\"text\":[\"Unknown\\u003cbr\\u003eDREB%: 72.5\",\"Unknown\\u003cbr\\u003eDREB%: 74.3\",\"Unknown\\u003cbr\\u003eDREB%: 72.7\",\"Unknown\\u003cbr\\u003eDREB%: 73.6\",\"Unknown\\u003cbr\\u003eDREB%: 73.5\",\"Unknown\\u003cbr\\u003eDREB%: 71.9\",\"Unknown\\u003cbr\\u003eDREB%: 72.9\",\"Unknown\\u003cbr\\u003eDREB%: 72.8\",\"Unknown\\u003cbr\\u003eDREB%: 73.0\",\"Unknown\\u003cbr\\u003eDREB%: 72.4\",\"Unknown\\u003cbr\\u003eDREB%: 73.5\",\"Unknown\\u003cbr\\u003eDREB%: 74.3\",\"Unknown\\u003cbr\\u003eDREB%: 74.5\",\"Unknown\\u003cbr\\u003eDREB%: 72.1\",\"Unknown\\u003cbr\\u003eDREB%: 71.1\",\"Unknown\\u003cbr\\u003eDREB%: 73.5\",\"Unknown\\u003cbr\\u003eDREB%: 74.3\",\"Unknown\\u003cbr\\u003eDREB%: 69.6\",\"Unknown\\u003cbr\\u003eDREB%: 71.8\",\"Phoenix Suns\\u003cbr\\u003eDREB%: 72.3\",\"Unknown\\u003cbr\\u003eDREB%: 71.1\",\"Unknown\\u003cbr\\u003eDREB%: 74.5\",\"Unknown\\u003cbr\\u003eDREB%: 72.1\",\"Unknown\\u003cbr\\u003eDREB%: 70.3\",\"Unknown\\u003cbr\\u003eDREB%: 71.6\",\"Unknown\\u003cbr\\u003eDREB%: 71.8\",\"Unknown\\u003cbr\\u003eDREB%: 71.6\",\"Unknown\\u003cbr\\u003eDREB%: 70.8\",\"Detroit Pistons\\u003cbr\\u003eDREB%: 72.3\",\"Unknown\\u003cbr\\u003eDREB%: 71.8\"],\"x\":[\"DREB%\",\"DREB%\",\"DREB%\",\"DREB%\",\"DREB%\",\"DREB%\",\"DREB%\",\"DREB%\",\"DREB%\",\"DREB%\",\"DREB%\",\"DREB%\",\"DREB%\",\"DREB%\",\"DREB%\",\"DREB%\",\"DREB%\",\"DREB%\",\"DREB%\",\"DREB%\",\"DREB%\",\"DREB%\",\"DREB%\",\"DREB%\",\"DREB%\",\"DREB%\",\"DREB%\",\"DREB%\",\"DREB%\",\"DREB%\"],\"y\":[0.5283276162850221,0.84280892346092,0.5533351333213012,0.7214330241448437,0.6920883101109396,0.4191254185745308,0.5887079086847731,0.5700415530983225,0.6068800248336181,0.49717962222847056,0.6987673582660374,0.8477591580300778,0.8829932553992474,0.44873917981019673,0.2713376206022051,0.692882936234998,0.8492062512849401,0.0,0.39034524223429123,0.48682690167832554,0.2775505696328935,0.8881752393752436,0.45215578153349334,0.11691109198556227,0.35724934987055335,0.39485952314834094,0.3595215464025827,0.21947779001705747,0.47873213773067747,0.39124272166554874],\"type\":\"scatter\"},{\"hovertemplate\":\"\\u003cb\\u003e%{text}\\u003c\\u002fb\\u003e\\u003cbr\\u003eNormalized: %{y:.2f}\\u003cbr\\u003e\\u003cextra\\u003e\\u003c\\u002fextra\\u003e\",\"marker\":{\"color\":\"#00ffff\",\"line\":{\"color\":\"white\",\"width\":3},\"opacity\":0.7,\"size\":18,\"symbol\":\"circle\"},\"mode\":\"markers\",\"name\":\"Season Avg (All Teams)\",\"showlegend\":false,\"text\":[\"Unknown\\u003cbr\\u003eOREB%: 29.5\",\"Unknown\\u003cbr\\u003eOREB%: 26.2\",\"Unknown\\u003cbr\\u003eOREB%: 26.7\",\"Unknown\\u003cbr\\u003eOREB%: 28.0\",\"Unknown\\u003cbr\\u003eOREB%: 26.1\",\"Unknown\\u003cbr\\u003eOREB%: 23.3\",\"Unknown\\u003cbr\\u003eOREB%: 28.7\",\"Unknown\\u003cbr\\u003eOREB%: 28.7\",\"Unknown\\u003cbr\\u003eOREB%: 31.3\",\"Unknown\\u003cbr\\u003eOREB%: 26.9\",\"Unknown\\u003cbr\\u003eOREB%: 24.9\",\"Unknown\\u003cbr\\u003eOREB%: 25.9\",\"Unknown\\u003cbr\\u003eOREB%: 25.8\",\"Unknown\\u003cbr\\u003eOREB%: 25.7\",\"Unknown\\u003cbr\\u003eOREB%: 25.6\",\"Unknown\\u003cbr\\u003eOREB%: 32.0\",\"Unknown\\u003cbr\\u003eOREB%: 28.5\",\"Unknown\\u003cbr\\u003eOREB%: 27.6\",\"Unknown\\u003cbr\\u003eOREB%: 26.8\",\"Phoenix Suns\\u003cbr\\u003eOREB%: 29.1\",\"Unknown\\u003cbr\\u003eOREB%: 28.6\",\"Unknown\\u003cbr\\u003eOREB%: 27.0\",\"Unknown\\u003cbr\\u003eOREB%: 27.7\",\"Unknown\\u003cbr\\u003eOREB%: 26.2\",\"Unknown\\u003cbr\\u003eOREB%: 29.5\",\"Unknown\\u003cbr\\u003eOREB%: 31.0\",\"Unknown\\u003cbr\\u003eOREB%: 28.7\",\"Unknown\\u003cbr\\u003eOREB%: 25.0\",\"Detroit Pistons\\u003cbr\\u003eOREB%: 27.7\",\"Unknown\\u003cbr\\u003eOREB%: 25.8\"],\"x\":[\"OREB%\",\"OREB%\",\"OREB%\",\"OREB%\",\"OREB%\",\"OREB%\",\"OREB%\",\"OREB%\",\"OREB%\",\"OREB%\",\"OREB%\",\"OREB%\",\"OREB%\",\"OREB%\",\"OREB%\",\"OREB%\",\"OREB%\",\"OREB%\",\"OREB%\",\"OREB%\",\"OREB%\",\"OREB%\",\"OREB%\",\"OREB%\",\"OREB%\",\"OREB%\",\"OREB%\",\"OREB%\",\"OREB%\",\"OREB%\"],\"y\":[0.7125764659752747,0.32842194592732676,0.39175496710665847,0.5410126230120262,0.31446423161520354,0.0,0.6167135933734524,0.6141852383327473,0.9138548474931194,0.4078800843208996,0.18076620097430762,0.290224476939255,0.28638428832363916,0.26965845982148995,0.2628574470870957,1.0,0.5889544119180536,0.4956200922672398,0.40262083440188245,0.6679342384540958,0.6063511009532925,0.425964090042815,0.49751696785509303,0.3299610479962509,0.7036823098157039,0.8824110726448837,0.611137971093676,0.18518917881039565,0.5003604629324152,0.28726577612504123],\"type\":\"scatter\"},{\"hovertemplate\":\"\\u003cb\\u003e%{text}\\u003c\\u002fb\\u003e\\u003cbr\\u003eNormalized: %{y:.2f}\\u003cbr\\u003e\\u003cextra\\u003e\\u003c\\u002fextra\\u003e\",\"marker\":{\"color\":\"#ff4d4d\",\"line\":{\"color\":\"#0A0A0A\",\"width\":3},\"opacity\":1,\"size\":21,\"symbol\":\"diamond\"},\"mode\":\"markers+text\",\"name\":\"LAL : LeBron, Anthony On\",\"showlegend\":true,\"text\":[\"118.5\"],\"textfont\":{\"color\":\"#ffffff\",\"size\":20},\"textposition\":\"top right\",\"x\":[\"Points\"],\"y\":[0.5717383125923767],\"type\":\"scatter\"},{\"hovertemplate\":\"\\u003cb\\u003e%{text}\\u003c\\u002fb\\u003e\\u003cbr\\u003eNormalized: %{y:.2f}\\u003cbr\\u003e\\u003cextra\\u003e\\u003c\\u002fextra\\u003e\",\"marker\":{\"color\":\"#ff4d4d\",\"line\":{\"color\":\"#0A0A0A\",\"width\":3},\"opacity\":1,\"size\":21,\"symbol\":\"diamond\"},\"mode\":\"markers+text\",\"name\":\"LAL : LeBron, Anthony On\",\"showlegend\":false,\"text\":[\"114.1\"],\"textfont\":{\"color\":\"#ffffff\",\"size\":20},\"textposition\":\"top right\",\"x\":[\"Opp Points\"],\"y\":[0.3073219366726061],\"type\":\"scatter\"},{\"hovertemplate\":\"\\u003cb\\u003e%{text}\\u003c\\u002fb\\u003e\\u003cbr\\u003eNormalized: %{y:.2f}\\u003cbr\\u003e\\u003cextra\\u003e\\u003c\\u002fextra\\u003e\",\"marker\":{\"color\":\"#ff4d4d\",\"line\":{\"color\":\"#0A0A0A\",\"width\":3},\"opacity\":1,\"size\":21,\"symbol\":\"diamond\"},\"mode\":\"markers+text\",\"name\":\"LAL : LeBron, Anthony On\",\"showlegend\":false,\"text\":[\"24.1\"],\"textfont\":{\"color\":\"#ffffff\",\"size\":20},\"textposition\":\"top right\",\"x\":[\"FTA\"],\"y\":[0.7796714562103126],\"type\":\"scatter\"},{\"hovertemplate\":\"\\u003cb\\u003e%{text}\\u003c\\u002fb\\u003e\\u003cbr\\u003eNormalized: %{y:.2f}\\u003cbr\\u003e\\u003cextra\\u003e\\u003c\\u002fextra\\u003e\",\"marker\":{\"color\":\"#ff4d4d\",\"line\":{\"color\":\"#0A0A0A\",\"width\":3},\"opacity\":1,\"size\":21,\"symbol\":\"diamond\"},\"mode\":\"markers+text\",\"name\":\"LAL : LeBron, Anthony On\",\"showlegend\":false,\"text\":[\"37.1\"],\"textfont\":{\"color\":\"#ffffff\",\"size\":20},\"textposition\":\"top right\",\"x\":[\"3P%\"],\"y\":[0.5710191138945842],\"type\":\"scatter\"},{\"hovertemplate\":\"\\u003cb\\u003e%{text}\\u003c\\u002fb\\u003e\\u003cbr\\u003eNormalized: %{y:.2f}\\u003cbr\\u003e\\u003cextra\\u003e\\u003c\\u002fextra\\u003e\",\"marker\":{\"color\":\"#ff4d4d\",\"line\":{\"color\":\"#0A0A0A\",\"width\":3},\"opacity\":1,\"size\":21,\"symbol\":\"diamond\"},\"mode\":\"markers+text\",\"name\":\"LAL : LeBron, Anthony On\",\"showlegend\":false,\"text\":[\"36.3\"],\"textfont\":{\"color\":\"#ffffff\",\"size\":20},\"textposition\":\"top right\",\"x\":[\"Rim Freq\"],\"y\":[0.9999999999999998],\"type\":\"scatter\"},{\"hovertemplate\":\"\\u003cb\\u003e%{text}\\u003c\\u002fb\\u003e\\u003cbr\\u003eNormalized: %{y:.2f}\\u003cbr\\u003e\\u003cextra\\u003e\\u003c\\u002fextra\\u003e\",\"marker\":{\"color\":\"#ff4d4d\",\"line\":{\"color\":\"#0A0A0A\",\"width\":3},\"opacity\":1,\"size\":21,\"symbol\":\"diamond\"},\"mode\":\"markers+text\",\"name\":\"LAL : LeBron, Anthony On\",\"showlegend\":false,\"text\":[\"56.7\"],\"textfont\":{\"color\":\"#ffffff\",\"size\":20},\"textposition\":\"top right\",\"x\":[\"EFG%\"],\"y\":[0.604526596413713],\"type\":\"scatter\"},{\"hovertemplate\":\"\\u003cb\\u003e%{text}\\u003c\\u002fb\\u003e\\u003cbr\\u003eNormalized: %{y:.2f}\\u003cbr\\u003e\\u003cextra\\u003e\\u003c\\u002fextra\\u003e\",\"marker\":{\"color\":\"#ff4d4d\",\"line\":{\"color\":\"#0A0A0A\",\"width\":3},\"opacity\":1,\"size\":21,\"symbol\":\"diamond\"},\"mode\":\"markers+text\",\"name\":\"LAL : LeBron, Anthony On\",\"showlegend\":false,\"text\":[\"72.2\"],\"textfont\":{\"color\":\"#ffffff\",\"size\":20},\"textposition\":\"top right\",\"x\":[\"Rim%\"],\"y\":[1.0],\"type\":\"scatter\"},{\"hovertemplate\":\"\\u003cb\\u003e%{text}\\u003c\\u002fb\\u003e\\u003cbr\\u003eNormalized: %{y:.2f}\\u003cbr\\u003e\\u003cextra\\u003e\\u003c\\u002fextra\\u003e\",\"marker\":{\"color\":\"#ff4d4d\",\"line\":{\"color\":\"#0A0A0A\",\"width\":3},\"opacity\":1,\"size\":21,\"symbol\":\"diamond\"},\"mode\":\"markers+text\",\"name\":\"LAL : LeBron, Anthony On\",\"showlegend\":false,\"text\":[\"12.1\"],\"textfont\":{\"color\":\"#ffffff\",\"size\":20},\"textposition\":\"top right\",\"x\":[\"TOV%\"],\"y\":[0.3887114529631752],\"type\":\"scatter\"},{\"hovertemplate\":\"\\u003cb\\u003e%{text}\\u003c\\u002fb\\u003e\\u003cbr\\u003eNormalized: %{y:.2f}\\u003cbr\\u003e\\u003cextra\\u003e\\u003c\\u002fextra\\u003e\",\"marker\":{\"color\":\"#ff4d4d\",\"line\":{\"color\":\"#0A0A0A\",\"width\":3},\"opacity\":1,\"size\":21,\"symbol\":\"diamond\"},\"mode\":\"markers+text\",\"name\":\"LAL : LeBron, Anthony On\",\"showlegend\":false,\"text\":[\"74.9\"],\"textfont\":{\"color\":\"#ffffff\",\"size\":20},\"textposition\":\"top right\",\"x\":[\"DREB%\"],\"y\":[0.9494310505895367],\"type\":\"scatter\"},{\"hovertemplate\":\"\\u003cb\\u003e%{text}\\u003c\\u002fb\\u003e\\u003cbr\\u003eNormalized: %{y:.2f}\\u003cbr\\u003e\\u003cextra\\u003e\\u003c\\u002fextra\\u003e\",\"marker\":{\"color\":\"#ff4d4d\",\"line\":{\"color\":\"#0A0A0A\",\"width\":3},\"opacity\":1,\"size\":21,\"symbol\":\"diamond\"},\"mode\":\"markers+text\",\"name\":\"LAL : LeBron, Anthony On\",\"showlegend\":false,\"text\":[\"25.3\"],\"textfont\":{\"color\":\"#ffffff\",\"size\":20},\"textposition\":\"top right\",\"x\":[\"OREB%\"],\"y\":[0.23073157064966976],\"type\":\"scatter\"},{\"hovertemplate\":\"\\u003cb\\u003e%{text}\\u003c\\u002fb\\u003e\\u003cbr\\u003eNormalized: %{y:.2f}\\u003cbr\\u003e\\u003cextra\\u003e\\u003c\\u002fextra\\u003e\",\"marker\":{\"color\":\"#ff7f0e\",\"line\":{\"color\":\"#0A0A0A\",\"width\":3},\"opacity\":1,\"size\":21,\"symbol\":\"diamond\"},\"mode\":\"markers+text\",\"name\":\"DEN : Nikola On\",\"showlegend\":true,\"text\":[\"125.0\"],\"textfont\":{\"color\":\"#ffffff\",\"size\":20},\"textposition\":\"top right\",\"x\":[\"Points\"],\"y\":[1.0],\"type\":\"scatter\"},{\"hovertemplate\":\"\\u003cb\\u003e%{text}\\u003c\\u002fb\\u003e\\u003cbr\\u003eNormalized: %{y:.2f}\\u003cbr\\u003e\\u003cextra\\u003e\\u003c\\u002fextra\\u003e\",\"marker\":{\"color\":\"#ff7f0e\",\"line\":{\"color\":\"#0A0A0A\",\"width\":3},\"opacity\":1,\"size\":21,\"symbol\":\"diamond\"},\"mode\":\"markers+text\",\"name\":\"DEN : Nikola On\",\"showlegend\":false,\"text\":[\"112.9\"],\"textfont\":{\"color\":\"#ffffff\",\"size\":20},\"textposition\":\"top right\",\"x\":[\"Opp Points\"],\"y\":[0.13959680164314747],\"type\":\"scatter\"},{\"hovertemplate\":\"\\u003cb\\u003e%{text}\\u003c\\u002fb\\u003e\\u003cbr\\u003eNormalized: %{y:.2f}\\u003cbr\\u003e\\u003cextra\\u003e\\u003c\\u002fextra\\u003e\",\"marker\":{\"color\":\"#ff7f0e\",\"line\":{\"color\":\"#0A0A0A\",\"width\":3},\"opacity\":1,\"size\":21,\"symbol\":\"diamond\"},\"mode\":\"markers+text\",\"name\":\"DEN : Nikola On\",\"showlegend\":false,\"text\":[\"22.1\"],\"textfont\":{\"color\":\"#ffffff\",\"size\":20},\"textposition\":\"top right\",\"x\":[\"FTA\"],\"y\":[0.40818849946559244],\"type\":\"scatter\"},{\"hovertemplate\":\"\\u003cb\\u003e%{text}\\u003c\\u002fb\\u003e\\u003cbr\\u003eNormalized: %{y:.2f}\\u003cbr\\u003e\\u003cextra\\u003e\\u003c\\u002fextra\\u003e\",\"marker\":{\"color\":\"#ff7f0e\",\"line\":{\"color\":\"#0A0A0A\",\"width\":3},\"opacity\":1,\"size\":21,\"symbol\":\"diamond\"},\"mode\":\"markers+text\",\"name\":\"DEN : Nikola On\",\"showlegend\":false,\"text\":[\"39.5\"],\"textfont\":{\"color\":\"#ffffff\",\"size\":20},\"textposition\":\"top right\",\"x\":[\"3P%\"],\"y\":[1.0],\"type\":\"scatter\"},{\"hovertemplate\":\"\\u003cb\\u003e%{text}\\u003c\\u002fb\\u003e\\u003cbr\\u003eNormalized: %{y:.2f}\\u003cbr\\u003e\\u003cextra\\u003e\\u003c\\u002fextra\\u003e\",\"marker\":{\"color\":\"#ff7f0e\",\"line\":{\"color\":\"#0A0A0A\",\"width\":3},\"opacity\":1,\"size\":21,\"symbol\":\"diamond\"},\"mode\":\"markers+text\",\"name\":\"DEN : Nikola On\",\"showlegend\":false,\"text\":[\"33.8\"],\"textfont\":{\"color\":\"#ffffff\",\"size\":20},\"textposition\":\"top right\",\"x\":[\"Rim Freq\"],\"y\":[0.7972861899642403],\"type\":\"scatter\"},{\"hovertemplate\":\"\\u003cb\\u003e%{text}\\u003c\\u002fb\\u003e\\u003cbr\\u003eNormalized: %{y:.2f}\\u003cbr\\u003e\\u003cextra\\u003e\\u003c\\u002fextra\\u003e\",\"marker\":{\"color\":\"#ff7f0e\",\"line\":{\"color\":\"#0A0A0A\",\"width\":3},\"opacity\":1,\"size\":21,\"symbol\":\"diamond\"},\"mode\":\"markers+text\",\"name\":\"DEN : Nikola On\",\"showlegend\":false,\"text\":[\"59.6\"],\"textfont\":{\"color\":\"#ffffff\",\"size\":20},\"textposition\":\"top right\",\"x\":[\"EFG%\"],\"y\":[1.0],\"type\":\"scatter\"},{\"hovertemplate\":\"\\u003cb\\u003e%{text}\\u003c\\u002fb\\u003e\\u003cbr\\u003eNormalized: %{y:.2f}\\u003cbr\\u003e\\u003cextra\\u003e\\u003c\\u002fextra\\u003e\",\"marker\":{\"color\":\"#ff7f0e\",\"line\":{\"color\":\"#0A0A0A\",\"width\":3},\"opacity\":1,\"size\":21,\"symbol\":\"diamond\"},\"mode\":\"markers+text\",\"name\":\"DEN : Nikola On\",\"showlegend\":false,\"text\":[\"70.1\"],\"textfont\":{\"color\":\"#ffffff\",\"size\":20},\"textposition\":\"top right\",\"x\":[\"Rim%\"],\"y\":[0.7784564561884615],\"type\":\"scatter\"},{\"hovertemplate\":\"\\u003cb\\u003e%{text}\\u003c\\u002fb\\u003e\\u003cbr\\u003eNormalized: %{y:.2f}\\u003cbr\\u003e\\u003cextra\\u003e\\u003c\\u002fextra\\u003e\",\"marker\":{\"color\":\"#ff7f0e\",\"line\":{\"color\":\"#0A0A0A\",\"width\":3},\"opacity\":1,\"size\":21,\"symbol\":\"diamond\"},\"mode\":\"markers+text\",\"name\":\"DEN : Nikola On\",\"showlegend\":false,\"text\":[\"11.6\"],\"textfont\":{\"color\":\"#ffffff\",\"size\":20},\"textposition\":\"top right\",\"x\":[\"TOV%\"],\"y\":[0.1638907436329955],\"type\":\"scatter\"},{\"hovertemplate\":\"\\u003cb\\u003e%{text}\\u003c\\u002fb\\u003e\\u003cbr\\u003eNormalized: %{y:.2f}\\u003cbr\\u003e\\u003cextra\\u003e\\u003c\\u002fextra\\u003e\",\"marker\":{\"color\":\"#ff7f0e\",\"line\":{\"color\":\"#0A0A0A\",\"width\":3},\"opacity\":1,\"size\":21,\"symbol\":\"diamond\"},\"mode\":\"markers+text\",\"name\":\"DEN : Nikola On\",\"showlegend\":false,\"text\":[\"75.2\"],\"textfont\":{\"color\":\"#ffffff\",\"size\":20},\"textposition\":\"top right\",\"x\":[\"DREB%\"],\"y\":[1.0],\"type\":\"scatter\"},{\"hovertemplate\":\"\\u003cb\\u003e%{text}\\u003c\\u002fb\\u003e\\u003cbr\\u003eNormalized: %{y:.2f}\\u003cbr\\u003e\\u003cextra\\u003e\\u003c\\u002fextra\\u003e\",\"marker\":{\"color\":\"#ff7f0e\",\"line\":{\"color\":\"#0A0A0A\",\"width\":3},\"opacity\":1,\"size\":21,\"symbol\":\"diamond\"},\"mode\":\"markers+text\",\"name\":\"DEN : Nikola On\",\"showlegend\":false,\"text\":[\"28.8\"],\"textfont\":{\"color\":\"#ffffff\",\"size\":20},\"textposition\":\"top right\",\"x\":[\"OREB%\"],\"y\":[0.6273493444357285],\"type\":\"scatter\"}],                        {\"template\":{\"data\":{\"histogram2dcontour\":[{\"type\":\"histogram2dcontour\",\"colorbar\":{\"outlinewidth\":0,\"ticks\":\"\"},\"colorscale\":[[0.0,\"#0d0887\"],[0.1111111111111111,\"#46039f\"],[0.2222222222222222,\"#7201a8\"],[0.3333333333333333,\"#9c179e\"],[0.4444444444444444,\"#bd3786\"],[0.5555555555555556,\"#d8576b\"],[0.6666666666666666,\"#ed7953\"],[0.7777777777777778,\"#fb9f3a\"],[0.8888888888888888,\"#fdca26\"],[1.0,\"#f0f921\"]]}],\"choropleth\":[{\"type\":\"choropleth\",\"colorbar\":{\"outlinewidth\":0,\"ticks\":\"\"}}],\"histogram2d\":[{\"type\":\"histogram2d\",\"colorbar\":{\"outlinewidth\":0,\"ticks\":\"\"},\"colorscale\":[[0.0,\"#0d0887\"],[0.1111111111111111,\"#46039f\"],[0.2222222222222222,\"#7201a8\"],[0.3333333333333333,\"#9c179e\"],[0.4444444444444444,\"#bd3786\"],[0.5555555555555556,\"#d8576b\"],[0.6666666666666666,\"#ed7953\"],[0.7777777777777778,\"#fb9f3a\"],[0.8888888888888888,\"#fdca26\"],[1.0,\"#f0f921\"]]}],\"heatmap\":[{\"type\":\"heatmap\",\"colorbar\":{\"outlinewidth\":0,\"ticks\":\"\"},\"colorscale\":[[0.0,\"#0d0887\"],[0.1111111111111111,\"#46039f\"],[0.2222222222222222,\"#7201a8\"],[0.3333333333333333,\"#9c179e\"],[0.4444444444444444,\"#bd3786\"],[0.5555555555555556,\"#d8576b\"],[0.6666666666666666,\"#ed7953\"],[0.7777777777777778,\"#fb9f3a\"],[0.8888888888888888,\"#fdca26\"],[1.0,\"#f0f921\"]]}],\"heatmapgl\":[{\"type\":\"heatmapgl\",\"colorbar\":{\"outlinewidth\":0,\"ticks\":\"\"},\"colorscale\":[[0.0,\"#0d0887\"],[0.1111111111111111,\"#46039f\"],[0.2222222222222222,\"#7201a8\"],[0.3333333333333333,\"#9c179e\"],[0.4444444444444444,\"#bd3786\"],[0.5555555555555556,\"#d8576b\"],[0.6666666666666666,\"#ed7953\"],[0.7777777777777778,\"#fb9f3a\"],[0.8888888888888888,\"#fdca26\"],[1.0,\"#f0f921\"]]}],\"contourcarpet\":[{\"type\":\"contourcarpet\",\"colorbar\":{\"outlinewidth\":0,\"ticks\":\"\"}}],\"contour\":[{\"type\":\"contour\",\"colorbar\":{\"outlinewidth\":0,\"ticks\":\"\"},\"colorscale\":[[0.0,\"#0d0887\"],[0.1111111111111111,\"#46039f\"],[0.2222222222222222,\"#7201a8\"],[0.3333333333333333,\"#9c179e\"],[0.4444444444444444,\"#bd3786\"],[0.5555555555555556,\"#d8576b\"],[0.6666666666666666,\"#ed7953\"],[0.7777777777777778,\"#fb9f3a\"],[0.8888888888888888,\"#fdca26\"],[1.0,\"#f0f921\"]]}],\"surface\":[{\"type\":\"surface\",\"colorbar\":{\"outlinewidth\":0,\"ticks\":\"\"},\"colorscale\":[[0.0,\"#0d0887\"],[0.1111111111111111,\"#46039f\"],[0.2222222222222222,\"#7201a8\"],[0.3333333333333333,\"#9c179e\"],[0.4444444444444444,\"#bd3786\"],[0.5555555555555556,\"#d8576b\"],[0.6666666666666666,\"#ed7953\"],[0.7777777777777778,\"#fb9f3a\"],[0.8888888888888888,\"#fdca26\"],[1.0,\"#f0f921\"]]}],\"mesh3d\":[{\"type\":\"mesh3d\",\"colorbar\":{\"outlinewidth\":0,\"ticks\":\"\"}}],\"scatter\":[{\"fillpattern\":{\"fillmode\":\"overlay\",\"size\":10,\"solidity\":0.2},\"type\":\"scatter\"}],\"parcoords\":[{\"type\":\"parcoords\",\"line\":{\"colorbar\":{\"outlinewidth\":0,\"ticks\":\"\"}}}],\"scatterpolargl\":[{\"type\":\"scatterpolargl\",\"marker\":{\"colorbar\":{\"outlinewidth\":0,\"ticks\":\"\"}}}],\"bar\":[{\"error_x\":{\"color\":\"#2a3f5f\"},\"error_y\":{\"color\":\"#2a3f5f\"},\"marker\":{\"line\":{\"color\":\"#E5ECF6\",\"width\":0.5},\"pattern\":{\"fillmode\":\"overlay\",\"size\":10,\"solidity\":0.2}},\"type\":\"bar\"}],\"scattergeo\":[{\"type\":\"scattergeo\",\"marker\":{\"colorbar\":{\"outlinewidth\":0,\"ticks\":\"\"}}}],\"scatterpolar\":[{\"type\":\"scatterpolar\",\"marker\":{\"colorbar\":{\"outlinewidth\":0,\"ticks\":\"\"}}}],\"histogram\":[{\"marker\":{\"pattern\":{\"fillmode\":\"overlay\",\"size\":10,\"solidity\":0.2}},\"type\":\"histogram\"}],\"scattergl\":[{\"type\":\"scattergl\",\"marker\":{\"colorbar\":{\"outlinewidth\":0,\"ticks\":\"\"}}}],\"scatter3d\":[{\"type\":\"scatter3d\",\"line\":{\"colorbar\":{\"outlinewidth\":0,\"ticks\":\"\"}},\"marker\":{\"colorbar\":{\"outlinewidth\":0,\"ticks\":\"\"}}}],\"scattermapbox\":[{\"type\":\"scattermapbox\",\"marker\":{\"colorbar\":{\"outlinewidth\":0,\"ticks\":\"\"}}}],\"scatterternary\":[{\"type\":\"scatterternary\",\"marker\":{\"colorbar\":{\"outlinewidth\":0,\"ticks\":\"\"}}}],\"scattercarpet\":[{\"type\":\"scattercarpet\",\"marker\":{\"colorbar\":{\"outlinewidth\":0,\"ticks\":\"\"}}}],\"carpet\":[{\"aaxis\":{\"endlinecolor\":\"#2a3f5f\",\"gridcolor\":\"white\",\"linecolor\":\"white\",\"minorgridcolor\":\"white\",\"startlinecolor\":\"#2a3f5f\"},\"baxis\":{\"endlinecolor\":\"#2a3f5f\",\"gridcolor\":\"white\",\"linecolor\":\"white\",\"minorgridcolor\":\"white\",\"startlinecolor\":\"#2a3f5f\"},\"type\":\"carpet\"}],\"table\":[{\"cells\":{\"fill\":{\"color\":\"#EBF0F8\"},\"line\":{\"color\":\"white\"}},\"header\":{\"fill\":{\"color\":\"#C8D4E3\"},\"line\":{\"color\":\"white\"}},\"type\":\"table\"}],\"barpolar\":[{\"marker\":{\"line\":{\"color\":\"#E5ECF6\",\"width\":0.5},\"pattern\":{\"fillmode\":\"overlay\",\"size\":10,\"solidity\":0.2}},\"type\":\"barpolar\"}],\"pie\":[{\"automargin\":true,\"type\":\"pie\"}]},\"layout\":{\"autotypenumbers\":\"strict\",\"colorway\":[\"#636efa\",\"#EF553B\",\"#00cc96\",\"#ab63fa\",\"#FFA15A\",\"#19d3f3\",\"#FF6692\",\"#B6E880\",\"#FF97FF\",\"#FECB52\"],\"font\":{\"color\":\"#2a3f5f\"},\"hovermode\":\"closest\",\"hoverlabel\":{\"align\":\"left\"},\"paper_bgcolor\":\"white\",\"plot_bgcolor\":\"#E5ECF6\",\"polar\":{\"bgcolor\":\"#E5ECF6\",\"angularaxis\":{\"gridcolor\":\"white\",\"linecolor\":\"white\",\"ticks\":\"\"},\"radialaxis\":{\"gridcolor\":\"white\",\"linecolor\":\"white\",\"ticks\":\"\"}},\"ternary\":{\"bgcolor\":\"#E5ECF6\",\"aaxis\":{\"gridcolor\":\"white\",\"linecolor\":\"white\",\"ticks\":\"\"},\"baxis\":{\"gridcolor\":\"white\",\"linecolor\":\"white\",\"ticks\":\"\"},\"caxis\":{\"gridcolor\":\"white\",\"linecolor\":\"white\",\"ticks\":\"\"}},\"coloraxis\":{\"colorbar\":{\"outlinewidth\":0,\"ticks\":\"\"}},\"colorscale\":{\"sequential\":[[0.0,\"#0d0887\"],[0.1111111111111111,\"#46039f\"],[0.2222222222222222,\"#7201a8\"],[0.3333333333333333,\"#9c179e\"],[0.4444444444444444,\"#bd3786\"],[0.5555555555555556,\"#d8576b\"],[0.6666666666666666,\"#ed7953\"],[0.7777777777777778,\"#fb9f3a\"],[0.8888888888888888,\"#fdca26\"],[1.0,\"#f0f921\"]],\"sequentialminus\":[[0.0,\"#0d0887\"],[0.1111111111111111,\"#46039f\"],[0.2222222222222222,\"#7201a8\"],[0.3333333333333333,\"#9c179e\"],[0.4444444444444444,\"#bd3786\"],[0.5555555555555556,\"#d8576b\"],[0.6666666666666666,\"#ed7953\"],[0.7777777777777778,\"#fb9f3a\"],[0.8888888888888888,\"#fdca26\"],[1.0,\"#f0f921\"]],\"diverging\":[[0,\"#8e0152\"],[0.1,\"#c51b7d\"],[0.2,\"#de77ae\"],[0.3,\"#f1b6da\"],[0.4,\"#fde0ef\"],[0.5,\"#f7f7f7\"],[0.6,\"#e6f5d0\"],[0.7,\"#b8e186\"],[0.8,\"#7fbc41\"],[0.9,\"#4d9221\"],[1,\"#276419\"]]},\"xaxis\":{\"gridcolor\":\"white\",\"linecolor\":\"white\",\"ticks\":\"\",\"title\":{\"standoff\":15},\"zerolinecolor\":\"white\",\"automargin\":true,\"zerolinewidth\":2},\"yaxis\":{\"gridcolor\":\"white\",\"linecolor\":\"white\",\"ticks\":\"\",\"title\":{\"standoff\":15},\"zerolinecolor\":\"white\",\"automargin\":true,\"zerolinewidth\":2},\"scene\":{\"xaxis\":{\"backgroundcolor\":\"#E5ECF6\",\"gridcolor\":\"white\",\"linecolor\":\"white\",\"showbackground\":true,\"ticks\":\"\",\"zerolinecolor\":\"white\",\"gridwidth\":2},\"yaxis\":{\"backgroundcolor\":\"#E5ECF6\",\"gridcolor\":\"white\",\"linecolor\":\"white\",\"showbackground\":true,\"ticks\":\"\",\"zerolinecolor\":\"white\",\"gridwidth\":2},\"zaxis\":{\"backgroundcolor\":\"#E5ECF6\",\"gridcolor\":\"white\",\"linecolor\":\"white\",\"showbackground\":true,\"ticks\":\"\",\"zerolinecolor\":\"white\",\"gridwidth\":2}},\"shapedefaults\":{\"line\":{\"color\":\"#2a3f5f\"}},\"annotationdefaults\":{\"arrowcolor\":\"#2a3f5f\",\"arrowhead\":0,\"arrowwidth\":1},\"geo\":{\"bgcolor\":\"white\",\"landcolor\":\"#E5ECF6\",\"subunitcolor\":\"white\",\"showland\":true,\"showlakes\":true,\"lakecolor\":\"white\"},\"title\":{\"x\":0.05},\"mapbox\":{\"style\":\"light\"}}},\"title\":{\"font\":{\"size\":24,\"color\":\"#ffffff\"},\"text\":\"NBA Beeswarm Comparison 2023-2024\",\"x\":0.5,\"y\":0.99},\"yaxis\":{\"title\":{\"font\":{\"size\":16,\"color\":\"#ffffff\"},\"text\":\"Normalized Value\"},\"showticklabels\":false,\"showgrid\":false,\"gridcolor\":\"rgba(255, 255, 255, 0.1)\",\"zeroline\":true,\"zerolinecolor\":\"rgba(255, 255, 255, 0.1)\",\"range\":[-0.1,1.1]},\"xaxis\":{\"tickfont\":{\"color\":\"#ffffff\",\"size\":14},\"gridcolor\":\"rgba(255, 255, 255, 0.1)\",\"showgrid\":false,\"categoryorder\":\"array\",\"categoryarray\":[\"Points\",\"Opp Points\",\"FTA\",\"3P%\",\"Rim Freq\",\"EFG%\",\"Rim%\",\"TOV%\",\"DREB%\",\"OREB%\"],\"tickangle\":-45},\"legend\":{\"font\":{\"color\":\"#ffffff\",\"size\":16},\"bgcolor\":\"#1a1a1a\",\"orientation\":\"h\",\"yanchor\":\"bottom\",\"y\":1.02,\"xanchor\":\"center\",\"x\":0.5},\"width\":1600,\"height\":1000,\"showlegend\":true,\"plot_bgcolor\":\"#1a1a1a\",\"paper_bgcolor\":\"#1a1a1a\",\"hovermode\":\"closest\"},                        {\"responsive\": true}                    ).then(function(){\n",
       "                            \n",
       "var gd = document.getElementById('0c7461fc-5cbf-4432-8f4c-807798088f04');\n",
       "var x = new MutationObserver(function (mutations, observer) {{\n",
       "        var display = window.getComputedStyle(gd).display;\n",
       "        if (!display || display === 'none') {{\n",
       "            console.log([gd, 'removed!']);\n",
       "            Plotly.purge(gd);\n",
       "            observer.disconnect();\n",
       "        }}\n",
       "}});\n",
       "\n",
       "// Listen for the removal of the full notebook cells\n",
       "var notebookContainer = gd.closest('#notebook-container');\n",
       "if (notebookContainer) {{\n",
       "    x.observe(notebookContainer, {childList: true});\n",
       "}}\n",
       "\n",
       "// Listen for the clearing of the current output cell\n",
       "var outputEl = gd.closest('.output');\n",
       "if (outputEl) {{\n",
       "    x.observe(outputEl, {childList: true});\n",
       "}}\n",
       "\n",
       "                        })                };                });            </script>        </div>"
      ]
     },
     "metadata": {},
     "output_type": "display_data"
    }
   ],
   "source": [
    "\n",
    "def graph_lineupsplits(start_year, end_year, players_on_list, players_off_list, team_list, vs, ps):\n",
    "    # Ensure inputs are lists\n",
    "    if not isinstance(players_on_list, list):\n",
    "        players_on_list = [players_on_list]\n",
    "    if not isinstance(players_off_list, list):\n",
    "        players_off_list = [players_off_list]\n",
    "    if not isinstance(team_list, list):\n",
    "        team_list = [team_list]\n",
    "    \n",
    "    # Make all lists the same length by filling missing elements with defaults\n",
    "    max_length = max(len(players_on_list), len(players_off_list), len(team_list))\n",
    "    players_on_list += [[]] * (max_length - len(players_on_list))  # Fill with empty lists\n",
    "    players_off_list += [[]] * (max_length - len(players_off_list))  # Fill with empty lists\n",
    "    team_list += [team_list[-1]] * (max_length - len(team_list))  # Repeat the last team if needed\n",
    "    \n",
    "    # Initialize an empty DataFrame to hold all data\n",
    "    frames = []\n",
    "    \n",
    "    # Iterate through all combinations of inputs\n",
    "    for players_on, players_off, team in zip(players_on_list, players_off_list, team_list):\n",
    "        team_id = team_dict(team)\n",
    "\n",
    "        # Get player and team data\n",
    "        row = player_rows(start_year, end_year, players_on, players_off, team_id, vs=vs)\n",
    "        if row.empty:\n",
    "            continue  # Skip if no data returned\n",
    "\n",
    "        # Trim and annotate data\n",
    "        row = trim_frame(row)\n",
    "        row['team'] = team\n",
    "        row['lineup_row'] = 1\n",
    "\n",
    "        # Add to frames\n",
    "        frames.append(row)\n",
    "    \n",
    "    # Get team averages and process\n",
    "    teams = team_averages(start_year, end_year, vs=vs, ps=ps)\n",
    "    teams = trim_frame(teams)\n",
    "    teams['team'] = teams['Name']\n",
    "    teams['lineup_row'] = 0\n",
    "    frames.append(teams)\n",
    "\n",
    "    # Combine all data\n",
    "    all_data = pd.concat(frames, ignore_index=True)\n",
    "\n",
    "    # Process columns\n",
    "    columns = [\n",
    "        'Points', 'Opp Points', 'FTA',\n",
    "        '3P%',\n",
    "        'Rim Freq', 'EFG%',\n",
    "        'Rim%', 'TOV%',\n",
    "        'DREB%', 'OREB%'\n",
    "    ]\n",
    "    exclude = ['Points', 'Opp Points', '3P Assists', 'Rim Assists', 'FTA']\n",
    "    for col in columns:\n",
    "        if col not in exclude:\n",
    "            all_data[col] *= 100\n",
    "\n",
    "    # Create visualization for all data\n",
    "    print(all_data)\n",
    "    fig = create_nba_beeswarm(team_list, start_year, end_year, all_data, categories=columns, vs=vs, ps=ps)\n",
    "    return fig\n",
    "\n",
    "# Example Input\n",
    "players_on_list = [['2544','203076'], ['203999']]\n",
    "players_off_list = [[], []]\n",
    "team_list = ['LAL', 'DEN']\n",
    "vs = False\n",
    "ps = False\n",
    "start_year = 2023\n",
    "end_year = 2024\n",
    "\n",
    "# Generate figure\n",
    "fig = graph_lineupsplits(start_year, end_year, players_on_list, players_off_list, team_list, vs, ps)\n",
    "fig.show()"
   ]
  },
  {
   "cell_type": "code",
   "execution_count": null,
   "id": "90e64111-bfa0-457c-aee0-73e7cbe5ec45",
   "metadata": {},
   "outputs": [],
   "source": []
  },
  {
   "cell_type": "code",
   "execution_count": null,
   "id": "56f56601-0cd8-44c5-8b78-174aa753186d",
   "metadata": {},
   "outputs": [],
   "source": []
  },
  {
   "cell_type": "code",
   "execution_count": null,
   "id": "8f82ea78-b6a4-4880-9c45-8291da7baa43",
   "metadata": {},
   "outputs": [],
   "source": []
  },
  {
   "cell_type": "code",
   "execution_count": null,
   "id": "da418550-a74b-4fef-9526-923195a4a445",
   "metadata": {},
   "outputs": [],
   "source": []
  },
  {
   "cell_type": "code",
   "execution_count": null,
   "id": "5ca85d0a-7d1d-4634-aaa3-4723fc6bac49",
   "metadata": {},
   "outputs": [],
   "source": []
  }
 ],
 "metadata": {
  "kernelspec": {
   "display_name": "Python 3 (ipykernel)",
   "language": "python",
   "name": "python3"
  },
  "language_info": {
   "codemirror_mode": {
    "name": "ipython",
    "version": 3
   },
   "file_extension": ".py",
   "mimetype": "text/x-python",
   "name": "python",
   "nbconvert_exporter": "python",
   "pygments_lexer": "ipython3",
   "version": "3.10.12"
  }
 },
 "nbformat": 4,
 "nbformat_minor": 5
}
