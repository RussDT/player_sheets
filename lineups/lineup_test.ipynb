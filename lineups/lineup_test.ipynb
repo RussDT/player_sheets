{
 "cells": [
  {
   "cell_type": "code",
   "execution_count": 46,
   "id": "94633910-59cd-4c3f-87b3-bd51a375513e",
   "metadata": {},
   "outputs": [
    {
     "name": "stdout",
     "output_type": "stream",
     "text": [
      "1004.0\n",
      "2016.0\n"
     ]
    },
    {
     "data": {
      "text/plain": [
       "20    209.0\n",
       "20   -209.0\n",
       "Name: PlusMinus, dtype: float64"
      ]
     },
     "execution_count": 46,
     "metadata": {},
     "output_type": "execute_result"
    }
   ],
   "source": [
    "import pandas as pd\n",
    "import pandas as pd\n",
    "import numpy as np\n",
    "\n",
    "def calculate_basketball_percentages(df):\n",
    "    \"\"\"\n",
    "    Calculate basketball percentage statistics from raw totals.\n",
    "    \n",
    "    Args:\n",
    "        df (pandas.DataFrame): DataFrame containing the raw totals columns\n",
    "        \n",
    "    Returns:\n",
    "        pandas.DataFrame: DataFrame with added percentage columns\n",
    "    \"\"\"\n",
    "    # Make a copy to avoid modifying the original\n",
    "    result = df.copy()\n",
    "    \n",
    "    # Basic shooting percentages\n",
    "    result['Fg3Pct'] = (result['FG3M'] / result['FG3A'] * 100).fillna(0)\n",
    "    result['Fg2Pct'] = (result['FG2M'] / result['FG2A'] * 100).fillna(0)\n",
    "    result['NonHeaveFg3Pct'] = (result['FG3M'] / (result['FG3A']-result['HeaveAttempts']) * 100).fillna(0)\n",
    "    \n",
    "    # Advanced shooting percentages\n",
    "    result['EfgPct'] = ((result['FG2M'] + 1.5 * result['FG3M']) / (result['FG2A'] + result['FG3A']) * 100).fillna(0)\n",
    "    result['TsPct'] = (result['Points'] / (2 * (result['FG2A'] + result['FG3A'] + 0.44 * result['FTA'])) * 100).fillna(0)\n",
    "    \n",
    "    # Second chance percentages\n",
    "    result['SecondChanceFg3Pct'] = (result['SecondChanceFG3M'] / result['SecondChanceFG3A'] * 100).fillna(0)\n",
    "    result['SecondChanceFg2Pct'] = (result['SecondChanceFG2M'] / result['SecondChanceFG2A'] * 100).fillna(0)\n",
    "    result['SecondChanceEfgPct'] = ((result['SecondChanceFG2M'] + 1.5 * result['SecondChanceFG3M']) / \n",
    "                                   (result['SecondChanceFG2A'] + result['SecondChanceFG3A']) * 100).fillna(0)\n",
    "    result['SecondChanceTsPct'] = (result['SecondChancePoints'] / \n",
    "                                  (2 * (result['SecondChanceFG2A'] + result['SecondChanceFG3A'])) * 100).fillna(0)\n",
    "\n",
    "    \n",
    "    result['SecondChancePointsPct'] = (result['SecondChancePoints'] / result['Points'] * 100).fillna(0)\n",
    "    \n",
    "    # Shot distribution\n",
    "    result['FG3APct'] = (result['FG3A'] / (result['FG2A'] + result['FG3A']) * 100).fillna(0)\n",
    "    \n",
    "    result['FG2APctBlocked'] = (result['Fg2aBlocked'] / result['FG2A'] * 100).fillna(0)\n",
    "    result['AtRimPctBlocked'] = (result['BlockedAtRim'] / result['AtRimFGA'] * 100).fillna(0)\n",
    "    result['LongMidRangePctBlocked'] = (result['BlockedLongMidRange'] / result['LongMidRangeFGA'] * 100).fillna(0)\n",
    "    result['ShortMidRangePctBlocked'] = (result['BlockedShortMidRange'] / result['ShortMidRangeFGA'] * 100).fillna(0)\n",
    "    result['FG3APctBlocked'] = (result['Fg3aBlocked'] / result['FG3A'] * 100).fillna(0)\n",
    "    result['Corner3PctBlocked'] = (result['Blocked3s'] / result['Corner3FGA'] * 100).fillna(0)\n",
    "    result['Arc3PctBlocked'] = (result['BlockedArc3'] / result['Arc3FGA'] * 100).fillna(0)\n",
    "    \n",
    "    # Rebound percentages - Field Goals (corrected to be relative to missed shots)\n",
    "    result['DefFGReboundPct'] = (result['DefRebounds'] / (result['FG2A'] - result['FG2M'] + result['FG3A'] - result['FG3M']) * 100).fillna(0)\n",
    "    result['OffFGReboundPct'] = (result['OffRebounds'] / (result['FG2A'] - result['FG2M'] + result['FG3A'] - result['FG3M']) * 100).fillna(0)\n",
    "    \n",
    "    # Rebound percentages by shot location (corrected to be relative to missed shots of that type)\n",
    "    result['OffLongMidRangeReboundPct'] = (result['OffTwoPtRebounds'] / (result['LongMidRangeFGA'] - result['LongMidRangeFGM']) * 100).fillna(0)\n",
    "    result['DefLongMidRangeReboundPct'] = (result['DefTwoPtRebounds'] / (result['LongMidRangeFGA'] - result['LongMidRangeFGM']) * 100).fillna(0)\n",
    "    result['DefArc3ReboundPct'] = (result['DefThreePtRebounds'] / (result['Arc3FGA'] - result['Arc3FGM']) * 100).fillna(0)\n",
    "    result['OffArc3ReboundPct'] = (result['OffThreePtRebounds'] / (result['Arc3FGA'] - result['Arc3FGM']) * 100).fillna(0)\n",
    "    result['DefAtRimReboundPct'] = (result['DefTwoPtRebounds'] / (result['AtRimFGA'] - result['AtRimFGM']) * 100).fillna(0)\n",
    "    result['OffAtRimReboundPct'] = (result['OffTwoPtRebounds'] / (result['AtRimFGA'] - result['AtRimFGM']) * 100).fillna(0)\n",
    "    result['DefShortMidRangeReboundPct'] = (result['DefTwoPtRebounds'] / (result['ShortMidRangeFGA'] - result['ShortMidRangeFGM']) * 100).fillna(0)\n",
    "    result['OffShortMidRangeReboundPct'] = (result['OffTwoPtRebounds'] / (result['ShortMidRangeFGA'] - result['ShortMidRangeFGM']) * 100).fillna(0)\n",
    "    result['DefCorner3ReboundPct'] = (result['DefThreePtRebounds'] / (result['Corner3FGA'] - result['Corner3FGM']) * 100).fillna(0)\n",
    "    result['OffCorner3ReboundPct'] = (result['OffThreePtRebounds'] / (result['Corner3FGA'] - result['Corner3FGM']) * 100).fillna(0)\n",
    "    \n",
    "    # Free throw rebound percentages (corrected to be relative to FT misses)\n",
    "    result['DefFTReboundPct'] = (result['FTDefRebounds'] / (result['FTA'] - result['FtPoints']) * 100).fillna(0)\n",
    "    result['OffFTReboundPct'] = (result['FTOffRebounds'] / (result['FTA'] - result['FtPoints']) * 100).fillna(0)\n",
    "    \n",
    "    # Rest of the\n",
    "    result['DefFTReboundPct'] = (result['FTDefRebounds'] / (result['FTDefRebounds'] + result['FTOffRebounds']) * 100).fillna(0)\n",
    "    result['OffFTReboundPct'] = (result['FTOffRebounds'] / (result['FTDefRebounds'] + result['FTOffRebounds']) * 100).fillna(0)\n",
    "    \n",
    "    # Assist percentages\n",
    "    result['Assisted2sPct'] = (result['PtsAssisted2s'] / (2 * result['FG2M']) * 100).fillna(0)\n",
    "    result['Assisted3sPct'] = (result['PtsAssisted3s'] / (3 * result['FG3M']) * 100).fillna(0)\n",
    "    result['NonPutbacksAssisted2sPct'] = (result['PtsAssisted2s'] / (2 * (result['FG2M'] - result['PtsPutbacks']/2)) * 100).fillna(0)\n",
    "    result['Corner3PctAssisted'] = (result['Corner3Assists'] / result['Corner3FGM'] * 100).fillna(0)\n",
    "    result['Arc3PctAssisted'] = (result['Arc3Assists'] / result['Arc3FGM'] * 100).fillna(0)\n",
    "    result['SecondChanceCorner3PctAssisted'] = (result['Corner3Assists'] / result['SecondChanceCorner3FGM'] * 100).fillna(0)\n",
    "    result['SecondChanceArc3PctAssisted'] = (result['Arc3Assists'] / result['SecondChanceArc3FGM'] * 100).fillna(0)\n",
    "    result['SecondChanceAtRimPctAssisted'] = (result['AtRimAssists'] / result['SecondChanceAtRimFGM'] * 100).fillna(0)\n",
    "    result['AtRimPctAssisted'] = (result['AtRimAssists'] / result['AtRimFGM'] * 100).fillna(0)\n",
    "    result['ShortMidRangePctAssisted'] = (result['ShortMidRangeAssists'] / result['ShortMidRangeFGM'] * 100).fillna(0)\n",
    "    result['LongMidRangePctAssisted'] = (result['LongMidRangeAssists'] / result['LongMidRangeFGM'] * 100).fillna(0)\n",
    "    \n",
    "    # Penalty percentages\n",
    "    result['PenaltyPointsPct'] = (result['PenaltyPoints'] / result['Points'] * 100).fillna(0)\n",
    "    result['PenaltyOffPossPct'] = (result['PenaltyOffPoss'] / result['OffPoss'] * 100).fillna(0)\n",
    "    result['PenaltyFg2Pct'] = (result['PenaltyFG2M'] / result['PenaltyFG2A'] * 100).fillna(0)\n",
    "    result['PenaltyFg3Pct'] = (result['PenaltyFG3M'] / result['PenaltyFG3A'] * 100).fillna(0)\n",
    "    result['PenaltyEfgPct'] = ((result['PenaltyFG2M'] + 1.5 * result['PenaltyFG3M']) / \n",
    "                              (result['PenaltyFG2A'] + result['PenaltyFG3A']) * 100).fillna(0)\n",
    "    result['PenaltyTsPct'] = (result['PenaltyPoints'] / \n",
    "                             (2 * (result['PenaltyFG2A'] + result['PenaltyFG3A'] + 0.44 * result['FTA'])) * 100).fillna(0)\n",
    "    \n",
    "    # Miscellaneous percentages\n",
    "    result['BlocksRecoveredPct'] = (result['RecoveredBlocks'] / result['Blocks'] * 100).fillna(0)\n",
    "    result['LiveBallTurnoverPct'] = (result['LiveBallTurnovers'] / result['Turnovers'] * 100).fillna(0)\n",
    "    result['SelfORebPct'] = (result['SelfOReb'] / result['OffRebounds'] * 100).fillna(0)\n",
    "    \n",
    "    # Fouls percentages\n",
    "    total_shooting_fouls = result['TwoPtShootingFoulsDrawn'] + result['ThreePtShootingFoulsDrawn']\n",
    "    result['ShootingFoulsDrawnPct'] = (result['ShootingFouls'] / (result['FG2A']+result['FG2A']) * 100).fillna(0)\n",
    "    result['TwoPtShootingFoulsDrawnPct'] = ((result['TwoPtShootingFoulsDrawn'] )/ (result['FG2A'])* 100).fillna(0)\n",
    "    result['ThreePtShootingFoulsDrawnPct'] = (result['ThreePtShootingFoulsDrawn'] / result['FG3A'] * 100).fillna(0)\n",
    "    total_def_rebounds = result['DefTwoPtRebounds'] + result['DefThreePtRebounds']\n",
    "    total_off_rebounds = result['OffTwoPtRebounds'] + result['OffThreePtRebounds']\n",
    "    result['ThreePtShootingFoulsDrawnPct'] = result['ThreePtShootingFoulsDrawn'] / result['FG3A'] * 100\n",
    "    \n",
    "    result['DefTwoPtReboundPct'] = (result['DefTwoPtRebounds'] / total_def_rebounds * 100).fillna(0)\n",
    "    result['DefThreePtReboundPct'] = (result['DefThreePtRebounds'] / total_def_rebounds * 100).fillna(0)\n",
    "    result['OffTwoPtReboundPct'] = (result['OffTwoPtRebounds'] /(result['FG2A']-result['FG2M']) * 100).fillna(0)\n",
    "    result['OffThreePtReboundPct'] = (result['OffThreePtRebounds'] / total_off_rebounds * 100).fillna(0)\n",
    "    return result\n",
    "df = pd.read_csv('data/2016/1610612739_ps.csv')\n",
    "print(df.Minutes.sum())\n",
    "df=df[df.EntityId.str.contains('2544')]\n",
    "df.fillna(0,inplace=True)\n",
    "comp = pd.read_csv('../../contract/nba_rapm/on-off/players_ps/2544.csv')\n",
    "comp2 = pd.read_csv('../../contract/nba_rapm/on-off/players_ps/2544vs.csv')\n",
    "comp=pd.concat([comp,comp2])\n",
    "comp=comp[comp.year==2016]\n",
    "print(comp.Minutes.sum())\n",
    "\n",
    "comp=comp[comp.player_on==True]\n",
    "\n",
    "comp['PlusMinus']"
   ]
  },
  {
   "cell_type": "code",
   "execution_count": 47,
   "id": "59cb697c-b3d8-4d8e-a7c8-03dc38eccad2",
   "metadata": {},
   "outputs": [
    {
     "data": {
      "text/plain": [
       "TeamId\n",
       "1610612739    209.0\n",
       "Name: PlusMinus, dtype: float64"
      ]
     },
     "execution_count": 47,
     "metadata": {},
     "output_type": "execute_result"
    }
   ],
   "source": [
    "df.groupby('TeamId').sum(numeric_only=True)['PlusMinus']"
   ]
  },
  {
   "cell_type": "code",
   "execution_count": 48,
   "id": "ce974f36-02f1-4381-b2d3-6b48b6dc4a99",
   "metadata": {},
   "outputs": [],
   "source": [
    "id_col=['EntityId',\n",
    " 'TeamId',\n",
    " 'Name',\n",
    " 'ShortName',\n",
    " 'RowId',\n",
    " 'TeamAbbreviation',\n",
    "'team_id',\n",
    " 'year',\n",
    " 'season',\n",
    " 'team_vs']"
   ]
  },
  {
   "cell_type": "code",
   "execution_count": 49,
   "id": "fded77a0-fc82-48e6-b6f3-b9d67de59693",
   "metadata": {},
   "outputs": [],
   "source": [
    "pct= [col for col in df.columns if 'pct' in col.lower()]\n",
    "sum = [col for col in df.columns if col not in id_col and col not in pct]\n",
    "sum\n",
    "sums= df.groupby('TeamId').sum(numeric_only=True)[sum].reset_index(drop=True)\n",
    "exclude = [\n",
    "    \"SecondChanceTsPct\",\n",
    "\n",
    "    \"OffAtRimReboundPct\",\n",
    "    \"OffShortMidRangeReboundPct\",\n",
    "    \"OffLongMidRangeReboundPct\",\n",
    "    \"OffArc3ReboundPct\",\n",
    "    \"DefAtRimReboundPct\",\n",
    "    \"DefShortMidRangeReboundPct\",\n",
    "    \"DefLongMidRangeReboundPct\",\n",
    "    \"DefArc3ReboundPct\",\n",
    "    \"DefCorner3ReboundPct\",\n",
    "\n",
    "    \"FG2APctBlocked\",\n",
    "    \"AtRimPctBlocked\",\n",
    "    \"ShortMidRangePctBlocked\",\n",
    "    \"LongMidRangePctBlocked\",\n",
    "    \"BlocksRecoveredPct\",\n",
    "    \"FG3APctBlocked\",\n",
    "    \"Arc3PctBlocked\",\n",
    "    \"Corner3PctBlocked\",\n",
    "    \"DefArc3ReboundPct\",\n",
    " \"DefCorner3ReboundPct\"\n",
    " \"SelfORebPct\",\n",
    "\"OffFTReboundPct\",\n",
    "\"OffCorner3ReboundPct\",\n",
    "    \"PenaltyTsPct\",\n",
    "\t\"SecondChanceCorner3PctAssisted\",\n",
    "    \"SecondChanceAtRimPctAssisted\"\n",
    "]\n",
    "pct = [col for col in pct if col not in exclude]\n",
    "pct = [col for col in pct if 'rebound' not in col.lower()]"
   ]
  },
  {
   "cell_type": "code",
   "execution_count": 50,
   "id": "521330ab-9f3d-4450-bbc6-8484b1f0d6c3",
   "metadata": {},
   "outputs": [
    {
     "data": {
      "text/plain": [
       "29"
      ]
     },
     "execution_count": 50,
     "metadata": {},
     "output_type": "execute_result"
    }
   ],
   "source": [
    "len(pct)"
   ]
  },
  {
   "cell_type": "code",
   "execution_count": 51,
   "id": "57e8a887-59ff-46a9-9fd7-774968660d01",
   "metadata": {},
   "outputs": [],
   "source": [
    "newframe=calculate_basketball_percentages(sums)"
   ]
  },
  {
   "cell_type": "code",
   "execution_count": 52,
   "id": "e9bf129e-fb53-44a9-89d2-035f085be405",
   "metadata": {},
   "outputs": [
    {
     "data": {
      "text/html": [
       "<div>\n",
       "<style scoped>\n",
       "    .dataframe tbody tr th:only-of-type {\n",
       "        vertical-align: middle;\n",
       "    }\n",
       "\n",
       "    .dataframe tbody tr th {\n",
       "        vertical-align: top;\n",
       "    }\n",
       "\n",
       "    .dataframe thead th {\n",
       "        text-align: right;\n",
       "    }\n",
       "</style>\n",
       "<table border=\"1\" class=\"dataframe\">\n",
       "  <thead>\n",
       "    <tr style=\"text-align: right;\">\n",
       "      <th></th>\n",
       "      <th>SelfORebPct</th>\n",
       "      <th>ShortMidRangePctAssisted</th>\n",
       "      <th>ShootingFoulsDrawnPct</th>\n",
       "      <th>TwoPtShootingFoulsDrawnPct</th>\n",
       "      <th>PenaltyFg3Pct</th>\n",
       "      <th>SecondChanceArc3PctAssisted</th>\n",
       "      <th>LongMidRangePctAssisted</th>\n",
       "      <th>ThreePtShootingFoulsDrawnPct</th>\n",
       "    </tr>\n",
       "  </thead>\n",
       "  <tbody>\n",
       "    <tr>\n",
       "      <th>0</th>\n",
       "      <td>11.016949</td>\n",
       "      <td>41.463415</td>\n",
       "      <td>7.245575</td>\n",
       "      <td>14.60177</td>\n",
       "      <td>40.594059</td>\n",
       "      <td>850.0</td>\n",
       "      <td>29.67033</td>\n",
       "      <td>1.346154</td>\n",
       "    </tr>\n",
       "  </tbody>\n",
       "</table>\n",
       "</div>"
      ],
      "text/plain": [
       "   SelfORebPct  ShortMidRangePctAssisted  ShootingFoulsDrawnPct  \\\n",
       "0    11.016949                 41.463415               7.245575   \n",
       "\n",
       "   TwoPtShootingFoulsDrawnPct  PenaltyFg3Pct  SecondChanceArc3PctAssisted  \\\n",
       "0                    14.60177      40.594059                        850.0   \n",
       "\n",
       "   LongMidRangePctAssisted  ThreePtShootingFoulsDrawnPct  \n",
       "0                 29.67033                      1.346154  "
      ]
     },
     "execution_count": 52,
     "metadata": {},
     "output_type": "execute_result"
    }
   ],
   "source": [
    "newframe[pct[21:30]]"
   ]
  },
  {
   "cell_type": "code",
   "execution_count": 53,
   "id": "27c55b8d-bd17-4244-b447-d5fc71462644",
   "metadata": {},
   "outputs": [
    {
     "data": {
      "text/html": [
       "<div>\n",
       "<style scoped>\n",
       "    .dataframe tbody tr th:only-of-type {\n",
       "        vertical-align: middle;\n",
       "    }\n",
       "\n",
       "    .dataframe tbody tr th {\n",
       "        vertical-align: top;\n",
       "    }\n",
       "\n",
       "    .dataframe thead th {\n",
       "        text-align: right;\n",
       "    }\n",
       "</style>\n",
       "<table border=\"1\" class=\"dataframe\">\n",
       "  <thead>\n",
       "    <tr style=\"text-align: right;\">\n",
       "      <th></th>\n",
       "      <th>SelfORebPct</th>\n",
       "      <th>ShortMidRangePctAssisted</th>\n",
       "      <th>ShootingFoulsDrawnPct</th>\n",
       "      <th>TwoPtShootingFoulsDrawnPct</th>\n",
       "      <th>PenaltyFg3Pct</th>\n",
       "      <th>SecondChanceArc3PctAssisted</th>\n",
       "      <th>LongMidRangePctAssisted</th>\n",
       "      <th>ThreePtShootingFoulsDrawnPct</th>\n",
       "    </tr>\n",
       "  </thead>\n",
       "  <tbody>\n",
       "    <tr>\n",
       "      <th>20</th>\n",
       "      <td>0.039877</td>\n",
       "      <td>0.414634</td>\n",
       "      <td>0.091028</td>\n",
       "      <td>0.131737</td>\n",
       "      <td>0.405941</td>\n",
       "      <td>1.0</td>\n",
       "      <td>0.296703</td>\n",
       "      <td>0.013333</td>\n",
       "    </tr>\n",
       "    <tr>\n",
       "      <th>20</th>\n",
       "      <td>0.047128</td>\n",
       "      <td>0.402062</td>\n",
       "      <td>0.089116</td>\n",
       "      <td>0.131579</td>\n",
       "      <td>0.360656</td>\n",
       "      <td>1.0</td>\n",
       "      <td>0.445783</td>\n",
       "      <td>0.011538</td>\n",
       "    </tr>\n",
       "  </tbody>\n",
       "</table>\n",
       "</div>"
      ],
      "text/plain": [
       "    SelfORebPct  ShortMidRangePctAssisted  ShootingFoulsDrawnPct  \\\n",
       "20     0.039877                  0.414634               0.091028   \n",
       "20     0.047128                  0.402062               0.089116   \n",
       "\n",
       "    TwoPtShootingFoulsDrawnPct  PenaltyFg3Pct  SecondChanceArc3PctAssisted  \\\n",
       "20                    0.131737       0.405941                          1.0   \n",
       "20                    0.131579       0.360656                          1.0   \n",
       "\n",
       "    LongMidRangePctAssisted  ThreePtShootingFoulsDrawnPct  \n",
       "20                 0.296703                      0.013333  \n",
       "20                 0.445783                      0.011538  "
      ]
     },
     "execution_count": 53,
     "metadata": {},
     "output_type": "execute_result"
    }
   ],
   "source": [
    "comp[pct[21:30]]"
   ]
  },
  {
   "cell_type": "code",
   "execution_count": 54,
   "id": "5d458aaf-38c0-4828-9b62-cdef1365c2d3",
   "metadata": {},
   "outputs": [
    {
     "name": "stdout",
     "output_type": "stream",
     "text": [
      "Fouls\n",
      "FoulsDrawn\n",
      "Offensive Fouls Drawn\n",
      "ShootingFouls\n",
      "Charge Fouls\n",
      "NonShootingFoulsDrawn\n",
      "PenaltyPointsExcludingTakeFouls\n",
      "PenaltyOffPossExcludingTakeFouls\n",
      "NonShootingPenaltyNonTakeFoulsDrawn\n",
      "Loose Ball Fouls Drawn\n",
      "BlockingFoulsDrawn\n",
      "TwoPtShootingFoulsDrawn\n",
      "Offensive Fouls\n",
      "Loose Ball Fouls\n",
      "NonShootingPenaltyNonTakeFouls\n",
      "BlockingFouls\n",
      "ThreePtShootingFoulsDrawn\n",
      "Charge Fouls Drawn\n"
     ]
    }
   ],
   "source": [
    "for col in sum:\n",
    "    if 'foul' in col.lower():\n",
    "        print(col)"
   ]
  },
  {
   "cell_type": "code",
   "execution_count": 20,
   "id": "6e8c1ffc-2d47-40d9-a370-8124ecec84e4",
   "metadata": {},
   "outputs": [
    {
     "name": "stdout",
     "output_type": "stream",
     "text": [
      "2pt And 1 Free Throw Trips\n",
      "3pt And 1 Free Throw Trips\n"
     ]
    }
   ],
   "source": [
    "for col in comp.columns:\n",
    "    if 'and' in col.lower():\n",
    "\n",
    "        print(col)"
   ]
  },
  {
   "cell_type": "code",
   "execution_count": null,
   "id": "8b3ae8a3-d0af-49c8-ba74-d72cce5f3d95",
   "metadata": {},
   "outputs": [],
   "source": []
  },
  {
   "cell_type": "code",
   "execution_count": null,
   "id": "91f0ac2b-281d-41b9-a7a5-cbd610421ba4",
   "metadata": {},
   "outputs": [],
   "source": []
  }
 ],
 "metadata": {
  "kernelspec": {
   "display_name": "Python 3 (ipykernel)",
   "language": "python",
   "name": "python3"
  },
  "language_info": {
   "codemirror_mode": {
    "name": "ipython",
    "version": 3
   },
   "file_extension": ".py",
   "mimetype": "text/x-python",
   "name": "python",
   "nbconvert_exporter": "python",
   "pygments_lexer": "ipython3",
   "version": "3.10.12"
  }
 },
 "nbformat": 4,
 "nbformat_minor": 5
}
